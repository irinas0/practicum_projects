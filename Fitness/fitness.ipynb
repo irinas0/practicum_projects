{
 "cells": [
  {
   "cell_type": "markdown",
   "metadata": {},
   "source": [
    "# Анализ анкет  и план дествий по удержанию  клиентов фитнес-центров «Культурист-датасаентист»"
   ]
  },
  {
   "cell_type": "code",
   "execution_count": 1,
   "metadata": {},
   "outputs": [],
   "source": [
    "import pandas as pd\n",
    "import seaborn as sns\n",
    "import matplotlib.pyplot as plt\n",
    "from sklearn.linear_model import LogisticRegression\n",
    "from sklearn.model_selection import train_test_split\n",
    "from sklearn.preprocessing import StandardScaler\n",
    "from sklearn.ensemble import RandomForestClassifier\n",
    "from sklearn.metrics import accuracy_score, precision_score, recall_score\n",
    "from sklearn.cluster import KMeans\n",
    "from scipy.cluster.hierarchy import dendrogram, linkage\n",
    "import warnings\n",
    "warnings.filterwarnings('ignore')\n"
   ]
  },
  {
   "cell_type": "markdown",
   "metadata": {},
   "source": [
    "## Обзор файлов"
   ]
  },
  {
   "cell_type": "markdown",
   "metadata": {},
   "source": [
    " Oтдел по работе с клиентами «Культуриста-датасаентиста» для анализа предоставил файл с анкетами клиентов и данными на месяц до оттока и факт оттока на определённый месяц."
   ]
  },
  {
   "cell_type": "markdown",
   "metadata": {},
   "source": [
    "- 'Churn' — факт оттока в текущем месяце;\n",
    "- 'gender' — пол;\n",
    "- 'Near_Location' — проживание или работа в районе, где находится фитнес-центр;\n",
    "- 'Partner' — сотрудник компании-партнёра клуба (сотрудничество с компаниями, чьи сотрудники могут получать скидки на абонемент — в таком случае фитнес-центр хранит информацию о работодателе клиента);\n",
    "- Promo_friends — факт первоначальной записи в рамках акции «приведи друга» (использовал промо-код от знакомого при оплате первого абонемента);\n",
    "- 'Phone' — наличие контактного телефона;\n",
    "- 'Age' — возраст;\n",
    "- 'Lifetime' — время с момента первого обращения в фитнес-центр (в месяцах).\n",
    "- 'Contract_period' — длительность текущего действующего абонемента (месяц, 3 месяца, 6 месяцев, год);\n",
    "- 'Month_to_end_contract' — срок до окончания текущего действующего абонемента (в месяцах);\n",
    "- 'Group_visits' — факт посещения групповых занятий;\n",
    "- 'Avg_class_frequency_total' — средняя частота посещений в неделю за все время с начала действия абонемента;\n",
    "- 'Avg_class_frequency_current_month' — средняя частота посещений в неделю за предыдущий месяц;\n",
    "- 'Avg_additional_charges_total' — суммарная выручка от других услуг фитнес-центра: кафе, спорт-товары, косметический и массажный салон."
   ]
  },
  {
   "cell_type": "code",
   "execution_count": 2,
   "metadata": {},
   "outputs": [],
   "source": [
    "gym_churn = pd.read_csv('gym_churn.csv')"
   ]
  },
  {
   "cell_type": "code",
   "execution_count": 3,
   "metadata": {},
   "outputs": [
    {
     "data": {
      "text/html": [
       "<div>\n",
       "<style scoped>\n",
       "    .dataframe tbody tr th:only-of-type {\n",
       "        vertical-align: middle;\n",
       "    }\n",
       "\n",
       "    .dataframe tbody tr th {\n",
       "        vertical-align: top;\n",
       "    }\n",
       "\n",
       "    .dataframe thead th {\n",
       "        text-align: right;\n",
       "    }\n",
       "</style>\n",
       "<table border=\"1\" class=\"dataframe\">\n",
       "  <thead>\n",
       "    <tr style=\"text-align: right;\">\n",
       "      <th></th>\n",
       "      <th>gender</th>\n",
       "      <th>Near_Location</th>\n",
       "      <th>Partner</th>\n",
       "      <th>Promo_friends</th>\n",
       "      <th>Phone</th>\n",
       "      <th>Contract_period</th>\n",
       "      <th>Group_visits</th>\n",
       "      <th>Age</th>\n",
       "      <th>Avg_additional_charges_total</th>\n",
       "      <th>Month_to_end_contract</th>\n",
       "      <th>Lifetime</th>\n",
       "      <th>Avg_class_frequency_total</th>\n",
       "      <th>Avg_class_frequency_current_month</th>\n",
       "      <th>Churn</th>\n",
       "    </tr>\n",
       "  </thead>\n",
       "  <tbody>\n",
       "    <tr>\n",
       "      <td>0</td>\n",
       "      <td>1</td>\n",
       "      <td>1</td>\n",
       "      <td>1</td>\n",
       "      <td>1</td>\n",
       "      <td>0</td>\n",
       "      <td>6</td>\n",
       "      <td>1</td>\n",
       "      <td>29</td>\n",
       "      <td>14.227470</td>\n",
       "      <td>5.0</td>\n",
       "      <td>3</td>\n",
       "      <td>0.020398</td>\n",
       "      <td>0.000000</td>\n",
       "      <td>0</td>\n",
       "    </tr>\n",
       "    <tr>\n",
       "      <td>1</td>\n",
       "      <td>0</td>\n",
       "      <td>1</td>\n",
       "      <td>0</td>\n",
       "      <td>0</td>\n",
       "      <td>1</td>\n",
       "      <td>12</td>\n",
       "      <td>1</td>\n",
       "      <td>31</td>\n",
       "      <td>113.202938</td>\n",
       "      <td>12.0</td>\n",
       "      <td>7</td>\n",
       "      <td>1.922936</td>\n",
       "      <td>1.910244</td>\n",
       "      <td>0</td>\n",
       "    </tr>\n",
       "    <tr>\n",
       "      <td>2</td>\n",
       "      <td>0</td>\n",
       "      <td>1</td>\n",
       "      <td>1</td>\n",
       "      <td>0</td>\n",
       "      <td>1</td>\n",
       "      <td>1</td>\n",
       "      <td>0</td>\n",
       "      <td>28</td>\n",
       "      <td>129.448479</td>\n",
       "      <td>1.0</td>\n",
       "      <td>2</td>\n",
       "      <td>1.859098</td>\n",
       "      <td>1.736502</td>\n",
       "      <td>0</td>\n",
       "    </tr>\n",
       "    <tr>\n",
       "      <td>3</td>\n",
       "      <td>0</td>\n",
       "      <td>1</td>\n",
       "      <td>1</td>\n",
       "      <td>1</td>\n",
       "      <td>1</td>\n",
       "      <td>12</td>\n",
       "      <td>1</td>\n",
       "      <td>33</td>\n",
       "      <td>62.669863</td>\n",
       "      <td>12.0</td>\n",
       "      <td>2</td>\n",
       "      <td>3.205633</td>\n",
       "      <td>3.357215</td>\n",
       "      <td>0</td>\n",
       "    </tr>\n",
       "    <tr>\n",
       "      <td>4</td>\n",
       "      <td>1</td>\n",
       "      <td>1</td>\n",
       "      <td>1</td>\n",
       "      <td>1</td>\n",
       "      <td>1</td>\n",
       "      <td>1</td>\n",
       "      <td>0</td>\n",
       "      <td>26</td>\n",
       "      <td>198.362265</td>\n",
       "      <td>1.0</td>\n",
       "      <td>3</td>\n",
       "      <td>1.113884</td>\n",
       "      <td>1.120078</td>\n",
       "      <td>0</td>\n",
       "    </tr>\n",
       "  </tbody>\n",
       "</table>\n",
       "</div>"
      ],
      "text/plain": [
       "   gender  Near_Location  Partner  Promo_friends  Phone  Contract_period  \\\n",
       "0       1              1        1              1      0                6   \n",
       "1       0              1        0              0      1               12   \n",
       "2       0              1        1              0      1                1   \n",
       "3       0              1        1              1      1               12   \n",
       "4       1              1        1              1      1                1   \n",
       "\n",
       "   Group_visits  Age  Avg_additional_charges_total  Month_to_end_contract  \\\n",
       "0             1   29                     14.227470                    5.0   \n",
       "1             1   31                    113.202938                   12.0   \n",
       "2             0   28                    129.448479                    1.0   \n",
       "3             1   33                     62.669863                   12.0   \n",
       "4             0   26                    198.362265                    1.0   \n",
       "\n",
       "   Lifetime  Avg_class_frequency_total  Avg_class_frequency_current_month  \\\n",
       "0         3                   0.020398                           0.000000   \n",
       "1         7                   1.922936                           1.910244   \n",
       "2         2                   1.859098                           1.736502   \n",
       "3         2                   3.205633                           3.357215   \n",
       "4         3                   1.113884                           1.120078   \n",
       "\n",
       "   Churn  \n",
       "0      0  \n",
       "1      0  \n",
       "2      0  \n",
       "3      0  \n",
       "4      0  "
      ]
     },
     "execution_count": 3,
     "metadata": {},
     "output_type": "execute_result"
    }
   ],
   "source": [
    "gym_churn.head() "
   ]
  },
  {
   "cell_type": "code",
   "execution_count": 4,
   "metadata": {},
   "outputs": [
    {
     "name": "stdout",
     "output_type": "stream",
     "text": [
      "<class 'pandas.core.frame.DataFrame'>\n",
      "RangeIndex: 4000 entries, 0 to 3999\n",
      "Data columns (total 14 columns):\n",
      "gender                               4000 non-null int64\n",
      "Near_Location                        4000 non-null int64\n",
      "Partner                              4000 non-null int64\n",
      "Promo_friends                        4000 non-null int64\n",
      "Phone                                4000 non-null int64\n",
      "Contract_period                      4000 non-null int64\n",
      "Group_visits                         4000 non-null int64\n",
      "Age                                  4000 non-null int64\n",
      "Avg_additional_charges_total         4000 non-null float64\n",
      "Month_to_end_contract                4000 non-null float64\n",
      "Lifetime                             4000 non-null int64\n",
      "Avg_class_frequency_total            4000 non-null float64\n",
      "Avg_class_frequency_current_month    4000 non-null float64\n",
      "Churn                                4000 non-null int64\n",
      "dtypes: float64(4), int64(10)\n",
      "memory usage: 437.6 KB\n"
     ]
    }
   ],
   "source": [
    "gym_churn.info()"
   ]
  },
  {
   "cell_type": "markdown",
   "metadata": {},
   "source": [
    "По info() видно, что пропущенных значений нет, на дубли проверять смысла нет, т.к. в таком файле они вполне допустимы и объяснимы."
   ]
  },
  {
   "cell_type": "code",
   "execution_count": 5,
   "metadata": {},
   "outputs": [
    {
     "data": {
      "text/html": [
       "<div>\n",
       "<style scoped>\n",
       "    .dataframe tbody tr th:only-of-type {\n",
       "        vertical-align: middle;\n",
       "    }\n",
       "\n",
       "    .dataframe tbody tr th {\n",
       "        vertical-align: top;\n",
       "    }\n",
       "\n",
       "    .dataframe thead th {\n",
       "        text-align: right;\n",
       "    }\n",
       "</style>\n",
       "<table border=\"1\" class=\"dataframe\">\n",
       "  <thead>\n",
       "    <tr style=\"text-align: right;\">\n",
       "      <th></th>\n",
       "      <th>gender</th>\n",
       "      <th>Near_Location</th>\n",
       "      <th>Partner</th>\n",
       "      <th>Promo_friends</th>\n",
       "      <th>Phone</th>\n",
       "      <th>Contract_period</th>\n",
       "      <th>Group_visits</th>\n",
       "      <th>Age</th>\n",
       "      <th>Avg_additional_charges_total</th>\n",
       "      <th>Month_to_end_contract</th>\n",
       "      <th>Lifetime</th>\n",
       "      <th>Avg_class_frequency_total</th>\n",
       "      <th>Avg_class_frequency_current_month</th>\n",
       "      <th>Churn</th>\n",
       "    </tr>\n",
       "  </thead>\n",
       "  <tbody>\n",
       "    <tr>\n",
       "      <td>count</td>\n",
       "      <td>4000.000000</td>\n",
       "      <td>4000.000000</td>\n",
       "      <td>4000.000000</td>\n",
       "      <td>4000.000000</td>\n",
       "      <td>4000.000000</td>\n",
       "      <td>4000.000000</td>\n",
       "      <td>4000.000000</td>\n",
       "      <td>4000.000000</td>\n",
       "      <td>4000.000000</td>\n",
       "      <td>4000.000000</td>\n",
       "      <td>4000.000000</td>\n",
       "      <td>4000.000000</td>\n",
       "      <td>4000.000000</td>\n",
       "      <td>4000.000000</td>\n",
       "    </tr>\n",
       "    <tr>\n",
       "      <td>mean</td>\n",
       "      <td>0.510250</td>\n",
       "      <td>0.845250</td>\n",
       "      <td>0.486750</td>\n",
       "      <td>0.308500</td>\n",
       "      <td>0.903500</td>\n",
       "      <td>4.681250</td>\n",
       "      <td>0.412250</td>\n",
       "      <td>29.184250</td>\n",
       "      <td>146.943728</td>\n",
       "      <td>4.322750</td>\n",
       "      <td>3.724750</td>\n",
       "      <td>1.879020</td>\n",
       "      <td>1.767052</td>\n",
       "      <td>0.265250</td>\n",
       "    </tr>\n",
       "    <tr>\n",
       "      <td>std</td>\n",
       "      <td>0.499957</td>\n",
       "      <td>0.361711</td>\n",
       "      <td>0.499887</td>\n",
       "      <td>0.461932</td>\n",
       "      <td>0.295313</td>\n",
       "      <td>4.549706</td>\n",
       "      <td>0.492301</td>\n",
       "      <td>3.258367</td>\n",
       "      <td>96.355602</td>\n",
       "      <td>4.191297</td>\n",
       "      <td>3.749267</td>\n",
       "      <td>0.972245</td>\n",
       "      <td>1.052906</td>\n",
       "      <td>0.441521</td>\n",
       "    </tr>\n",
       "    <tr>\n",
       "      <td>min</td>\n",
       "      <td>0.000000</td>\n",
       "      <td>0.000000</td>\n",
       "      <td>0.000000</td>\n",
       "      <td>0.000000</td>\n",
       "      <td>0.000000</td>\n",
       "      <td>1.000000</td>\n",
       "      <td>0.000000</td>\n",
       "      <td>18.000000</td>\n",
       "      <td>0.148205</td>\n",
       "      <td>1.000000</td>\n",
       "      <td>0.000000</td>\n",
       "      <td>0.000000</td>\n",
       "      <td>0.000000</td>\n",
       "      <td>0.000000</td>\n",
       "    </tr>\n",
       "    <tr>\n",
       "      <td>25%</td>\n",
       "      <td>0.000000</td>\n",
       "      <td>1.000000</td>\n",
       "      <td>0.000000</td>\n",
       "      <td>0.000000</td>\n",
       "      <td>1.000000</td>\n",
       "      <td>1.000000</td>\n",
       "      <td>0.000000</td>\n",
       "      <td>27.000000</td>\n",
       "      <td>68.868830</td>\n",
       "      <td>1.000000</td>\n",
       "      <td>1.000000</td>\n",
       "      <td>1.180875</td>\n",
       "      <td>0.963003</td>\n",
       "      <td>0.000000</td>\n",
       "    </tr>\n",
       "    <tr>\n",
       "      <td>50%</td>\n",
       "      <td>1.000000</td>\n",
       "      <td>1.000000</td>\n",
       "      <td>0.000000</td>\n",
       "      <td>0.000000</td>\n",
       "      <td>1.000000</td>\n",
       "      <td>1.000000</td>\n",
       "      <td>0.000000</td>\n",
       "      <td>29.000000</td>\n",
       "      <td>136.220159</td>\n",
       "      <td>1.000000</td>\n",
       "      <td>3.000000</td>\n",
       "      <td>1.832768</td>\n",
       "      <td>1.719574</td>\n",
       "      <td>0.000000</td>\n",
       "    </tr>\n",
       "    <tr>\n",
       "      <td>75%</td>\n",
       "      <td>1.000000</td>\n",
       "      <td>1.000000</td>\n",
       "      <td>1.000000</td>\n",
       "      <td>1.000000</td>\n",
       "      <td>1.000000</td>\n",
       "      <td>6.000000</td>\n",
       "      <td>1.000000</td>\n",
       "      <td>31.000000</td>\n",
       "      <td>210.949625</td>\n",
       "      <td>6.000000</td>\n",
       "      <td>5.000000</td>\n",
       "      <td>2.536078</td>\n",
       "      <td>2.510336</td>\n",
       "      <td>1.000000</td>\n",
       "    </tr>\n",
       "    <tr>\n",
       "      <td>max</td>\n",
       "      <td>1.000000</td>\n",
       "      <td>1.000000</td>\n",
       "      <td>1.000000</td>\n",
       "      <td>1.000000</td>\n",
       "      <td>1.000000</td>\n",
       "      <td>12.000000</td>\n",
       "      <td>1.000000</td>\n",
       "      <td>41.000000</td>\n",
       "      <td>552.590740</td>\n",
       "      <td>12.000000</td>\n",
       "      <td>31.000000</td>\n",
       "      <td>6.023668</td>\n",
       "      <td>6.146783</td>\n",
       "      <td>1.000000</td>\n",
       "    </tr>\n",
       "  </tbody>\n",
       "</table>\n",
       "</div>"
      ],
      "text/plain": [
       "            gender  Near_Location      Partner  Promo_friends        Phone  \\\n",
       "count  4000.000000    4000.000000  4000.000000    4000.000000  4000.000000   \n",
       "mean      0.510250       0.845250     0.486750       0.308500     0.903500   \n",
       "std       0.499957       0.361711     0.499887       0.461932     0.295313   \n",
       "min       0.000000       0.000000     0.000000       0.000000     0.000000   \n",
       "25%       0.000000       1.000000     0.000000       0.000000     1.000000   \n",
       "50%       1.000000       1.000000     0.000000       0.000000     1.000000   \n",
       "75%       1.000000       1.000000     1.000000       1.000000     1.000000   \n",
       "max       1.000000       1.000000     1.000000       1.000000     1.000000   \n",
       "\n",
       "       Contract_period  Group_visits          Age  \\\n",
       "count      4000.000000   4000.000000  4000.000000   \n",
       "mean          4.681250      0.412250    29.184250   \n",
       "std           4.549706      0.492301     3.258367   \n",
       "min           1.000000      0.000000    18.000000   \n",
       "25%           1.000000      0.000000    27.000000   \n",
       "50%           1.000000      0.000000    29.000000   \n",
       "75%           6.000000      1.000000    31.000000   \n",
       "max          12.000000      1.000000    41.000000   \n",
       "\n",
       "       Avg_additional_charges_total  Month_to_end_contract     Lifetime  \\\n",
       "count                   4000.000000            4000.000000  4000.000000   \n",
       "mean                     146.943728               4.322750     3.724750   \n",
       "std                       96.355602               4.191297     3.749267   \n",
       "min                        0.148205               1.000000     0.000000   \n",
       "25%                       68.868830               1.000000     1.000000   \n",
       "50%                      136.220159               1.000000     3.000000   \n",
       "75%                      210.949625               6.000000     5.000000   \n",
       "max                      552.590740              12.000000    31.000000   \n",
       "\n",
       "       Avg_class_frequency_total  Avg_class_frequency_current_month  \\\n",
       "count                4000.000000                        4000.000000   \n",
       "mean                    1.879020                           1.767052   \n",
       "std                     0.972245                           1.052906   \n",
       "min                     0.000000                           0.000000   \n",
       "25%                     1.180875                           0.963003   \n",
       "50%                     1.832768                           1.719574   \n",
       "75%                     2.536078                           2.510336   \n",
       "max                     6.023668                           6.146783   \n",
       "\n",
       "             Churn  \n",
       "count  4000.000000  \n",
       "mean      0.265250  \n",
       "std       0.441521  \n",
       "min       0.000000  \n",
       "25%       0.000000  \n",
       "50%       0.000000  \n",
       "75%       1.000000  \n",
       "max       1.000000  "
      ]
     },
     "execution_count": 5,
     "metadata": {},
     "output_type": "execute_result"
    }
   ],
   "source": [
    "gym_churn.describe()"
   ]
  },
  {
   "cell_type": "markdown",
   "metadata": {},
   "source": [
    "Среднестатический клиент: 29 лет, живущий или работающий в районе фитнес-центра,приобретающий абонемет не менее, чем на 4 месяца, не очень любящий групповые занятия, поьзующийся дополнительными услугами почти на 150 условных тугриков в месяц,являющийся постоянным клиентом более 3 месяцев, посещает центр 1-2 раза в неделю. Среди клиентов практически одинаковое количество мужчин и женщин."
   ]
  },
  {
   "cell_type": "markdown",
   "metadata": {},
   "source": [
    "Поделим  признаки  по 'Churn' и сравним"
   ]
  },
  {
   "cell_type": "code",
   "execution_count": 6,
   "metadata": {},
   "outputs": [
    {
     "data": {
      "text/html": [
       "<div>\n",
       "<style scoped>\n",
       "    .dataframe tbody tr th:only-of-type {\n",
       "        vertical-align: middle;\n",
       "    }\n",
       "\n",
       "    .dataframe tbody tr th {\n",
       "        vertical-align: top;\n",
       "    }\n",
       "\n",
       "    .dataframe thead th {\n",
       "        text-align: right;\n",
       "    }\n",
       "</style>\n",
       "<table border=\"1\" class=\"dataframe\">\n",
       "  <thead>\n",
       "    <tr style=\"text-align: right;\">\n",
       "      <th></th>\n",
       "      <th>Age</th>\n",
       "      <th>Avg_additional_charges_total</th>\n",
       "      <th>Avg_class_frequency_current_month</th>\n",
       "      <th>Avg_class_frequency_total</th>\n",
       "      <th>Contract_period</th>\n",
       "      <th>Group_visits</th>\n",
       "      <th>Lifetime</th>\n",
       "      <th>Month_to_end_contract</th>\n",
       "      <th>Near_Location</th>\n",
       "      <th>Partner</th>\n",
       "      <th>Phone</th>\n",
       "      <th>Promo_friends</th>\n",
       "      <th>gender</th>\n",
       "    </tr>\n",
       "    <tr>\n",
       "      <th>Churn</th>\n",
       "      <th></th>\n",
       "      <th></th>\n",
       "      <th></th>\n",
       "      <th></th>\n",
       "      <th></th>\n",
       "      <th></th>\n",
       "      <th></th>\n",
       "      <th></th>\n",
       "      <th></th>\n",
       "      <th></th>\n",
       "      <th></th>\n",
       "      <th></th>\n",
       "      <th></th>\n",
       "    </tr>\n",
       "  </thead>\n",
       "  <tbody>\n",
       "    <tr>\n",
       "      <td>0</td>\n",
       "      <td>29.98</td>\n",
       "      <td>158.45</td>\n",
       "      <td>2.03</td>\n",
       "      <td>2.02</td>\n",
       "      <td>5.75</td>\n",
       "      <td>0.46</td>\n",
       "      <td>4.71</td>\n",
       "      <td>5.28</td>\n",
       "      <td>0.87</td>\n",
       "      <td>0.53</td>\n",
       "      <td>0.9</td>\n",
       "      <td>0.35</td>\n",
       "      <td>0.51</td>\n",
       "    </tr>\n",
       "    <tr>\n",
       "      <td>1</td>\n",
       "      <td>26.99</td>\n",
       "      <td>115.08</td>\n",
       "      <td>1.04</td>\n",
       "      <td>1.47</td>\n",
       "      <td>1.73</td>\n",
       "      <td>0.27</td>\n",
       "      <td>0.99</td>\n",
       "      <td>1.66</td>\n",
       "      <td>0.77</td>\n",
       "      <td>0.36</td>\n",
       "      <td>0.9</td>\n",
       "      <td>0.18</td>\n",
       "      <td>0.51</td>\n",
       "    </tr>\n",
       "  </tbody>\n",
       "</table>\n",
       "</div>"
      ],
      "text/plain": [
       "         Age  Avg_additional_charges_total  Avg_class_frequency_current_month  \\\n",
       "Churn                                                                           \n",
       "0      29.98                        158.45                               2.03   \n",
       "1      26.99                        115.08                               1.04   \n",
       "\n",
       "       Avg_class_frequency_total  Contract_period  Group_visits  Lifetime  \\\n",
       "Churn                                                                       \n",
       "0                           2.02             5.75          0.46      4.71   \n",
       "1                           1.47             1.73          0.27      0.99   \n",
       "\n",
       "       Month_to_end_contract  Near_Location  Partner  Phone  Promo_friends  \\\n",
       "Churn                                                                        \n",
       "0                       5.28           0.87     0.53    0.9           0.35   \n",
       "1                       1.66           0.77     0.36    0.9           0.18   \n",
       "\n",
       "       gender  \n",
       "Churn          \n",
       "0        0.51  \n",
       "1        0.51  "
      ]
     },
     "execution_count": 6,
     "metadata": {},
     "output_type": "execute_result"
    }
   ],
   "source": [
    "groupped_churn = gym_churn.pivot_table(index='Churn',values=['gender','Near_Location','Partner','Promo_friends','Phone','Contract_period','Group_visits','Age','Avg_additional_charges_total','Month_to_end_contract','Lifetime','Avg_class_frequency_total','Avg_class_frequency_current_month']).round(2)\n",
    "groupped_churn"
   ]
  },
  {
   "cell_type": "markdown",
   "metadata": {},
   "source": [
    "Как видно, практически по всем позициям среднее по строке \"отток\" меньше чем, у остальных. Так средний возраст меньше на 3 года, расходы на доп.услуги меньше в 1.3 раза, уменьшилась частота посещения центра в неделю, длительность абонемента  в 3 раза и посещение групповых занятий почти в 2 раза меньше, чем у постоянных клиентов; небольшой срок посещения центра 1 мес против 4.7 у постоянных клиентов. Не показывают большой разницы место проживания/работы, партнерство, пол."
   ]
  },
  {
   "cell_type": "markdown",
   "metadata": {},
   "source": [
    "Для наглядности посмотрим графически относительную разницу. (Признак 'Avg_additional_charges_total' переведем в масштаб 1:10)"
   ]
  },
  {
   "cell_type": "code",
   "execution_count": 7,
   "metadata": {},
   "outputs": [],
   "source": [
    "groupped_churn['Avg_additional_charges_total'] = groupped_churn['Avg_class_frequency_total']/0.1\n",
    "features = groupped_churn.T"
   ]
  },
  {
   "cell_type": "code",
   "execution_count": 8,
   "metadata": {},
   "outputs": [
    {
     "data": {
      "text/plain": [
       "<matplotlib.axes._subplots.AxesSubplot at 0x2fbb9855f08>"
      ]
     },
     "execution_count": 8,
     "metadata": {},
     "output_type": "execute_result"
    },
    {
     "data": {
      "image/png": "[encoded data removed]",
      "text/plain": [
       "<Figure size 1080x504 with 1 Axes>"
      ]
     },
     "metadata": {
      "needs_background": "light"
     },
     "output_type": "display_data"
    }
   ],
   "source": [
    "features.plot.bar(rot=90,figsize=(15,7), title = 'Сравнение признаков  groupped_churn по \"Churn\"'  )  "
   ]
  },
  {
   "cell_type": "markdown",
   "metadata": {},
   "source": [
    "Посмотрим сравнительные гистограммы признаков"
   ]
  },
  {
   "cell_type": "code",
   "execution_count": 9,
   "metadata": {},
   "outputs": [
    {
     "data": {
      "image/png": "[encoded data removed]",
      "text/plain": [
       "<Figure size 432x288 with 1 Axes>"
      ]
     },
     "metadata": {
      "needs_background": "light"
     },
     "output_type": "display_data"
    },
    {
     "data": {
      "image/png": "[encoded data removed]",
      "text/plain": [
       "<Figure size 432x288 with 1 Axes>"
      ]
     },
     "metadata": {
      "needs_background": "light"
     },
     "output_type": "display_data"
    },
    {
     "data": {
      "image/png": "[encoded data removed]",
      "text/plain": [
       "<Figure size 432x288 with 1 Axes>"
      ]
     },
     "metadata": {
      "needs_background": "light"
     },
     "output_type": "display_data"
    },
    {
     "data": {
      "image/png": "[encoded data removed]",
      "text/plain": [
       "<Figure size 432x288 with 1 Axes>"
      ]
     },
     "metadata": {
      "needs_background": "light"
     },
     "output_type": "display_data"
    },
    {
     "data": {
      "image/png": "[encoded data removed]",
      "text/plain": [
       "<Figure size 432x288 with 1 Axes>"
      ]
     },
     "metadata": {
      "needs_background": "light"
     },
     "output_type": "display_data"
    },
    {
     "data": {
      "image/png": "[encoded data removed]",
      "text/plain": [
       "<Figure size 432x288 with 1 Axes>"
      ]
     },
     "metadata": {
      "needs_background": "light"
     },
     "output_type": "display_data"
    },
    {
     "data": {
      "image/png": "[encoded data removed]",
      "text/plain": [
       "<Figure size 432x288 with 1 Axes>"
      ]
     },
     "metadata": {
      "needs_background": "light"
     },
     "output_type": "display_data"
    },
    {
     "data": {
      "image/png": "[encoded data removed]",
      "text/plain": [
       "<Figure size 432x288 with 1 Axes>"
      ]
     },
     "metadata": {
      "needs_background": "light"
     },
     "output_type": "display_data"
    },
    {
     "data": {
      "image/png": "[encoded data removed]",
      "text/plain": [
       "<Figure size 432x288 with 1 Axes>"
      ]
     },
     "metadata": {
      "needs_background": "light"
     },
     "output_type": "display_data"
    },
    {
     "data": {
      "image/png": "[encoded data removed]",
      "text/plain": [
       "<Figure size 432x288 with 1 Axes>"
      ]
     },
     "metadata": {
      "needs_background": "light"
     },
     "output_type": "display_data"
    },
    {
     "data": {
      "image/png": "[encoded data removed]",
      "text/plain": [
       "<Figure size 432x288 with 1 Axes>"
      ]
     },
     "metadata": {
      "needs_background": "light"
     },
     "output_type": "display_data"
    },
    {
     "data": {
      "image/png": "[encoded data removed]",
      "text/plain": [
       "<Figure size 432x288 with 1 Axes>"
      ]
     },
     "metadata": {
      "needs_background": "light"
     },
     "output_type": "display_data"
    },
    {
     "data": {
      "image/png": "[encoded data removed]",
      "text/plain": [
       "<Figure size 432x288 with 1 Axes>"
      ]
     },
     "metadata": {
      "needs_background": "light"
     },
     "output_type": "display_data"
    }
   ],
   "source": [
    "churn0 = gym_churn.query('Churn==\"0\"')\n",
    "churn1 = gym_churn.query('Churn==\"1\"')\n",
    "for feature in churn0.drop('Churn', axis = 1).columns:\n",
    "    churn0.drop('Churn', axis = 1)[feature].hist(bins=20,label='0')\n",
    "    churn1.drop('Churn', axis = 1)[feature].hist(bins=20,label='1')\n",
    "    plt.legend();\n",
    "    plt.xlabel(feature)\n",
    "    plt.show()\n",
    "    "
   ]
  },
  {
   "cell_type": "markdown",
   "metadata": {},
   "source": [
    "  Столбчатые гистограммы и распределения признаков"
   ]
  },
  {
   "cell_type": "code",
   "execution_count": 10,
   "metadata": {
    "scrolled": true
   },
   "outputs": [
    {
     "data": {
      "image/png": "[encoded data removed]",
      "text/plain": [
       "<Figure size 432x288 with 1 Axes>"
      ]
     },
     "metadata": {
      "needs_background": "light"
     },
     "output_type": "display_data"
    },
    {
     "data": {
      "image/png": "[encoded data removed]",
      "text/plain": [
       "<Figure size 432x288 with 1 Axes>"
      ]
     },
     "metadata": {
      "needs_background": "light"
     },
     "output_type": "display_data"
    },
    {
     "data": {
      "image/png": "[encoded data removed]",
      "text/plain": [
       "<Figure size 432x288 with 1 Axes>"
      ]
     },
     "metadata": {
      "needs_background": "light"
     },
     "output_type": "display_data"
    },
    {
     "data": {
      "image/png": "[encoded data removed]",
      "text/plain": [
       "<Figure size 432x288 with 1 Axes>"
      ]
     },
     "metadata": {
      "needs_background": "light"
     },
     "output_type": "display_data"
    },
    {
     "data": {
      "image/png": "[encoded data removed]",
      "text/plain": [
       "<Figure size 432x288 with 1 Axes>"
      ]
     },
     "metadata": {
      "needs_background": "light"
     },
     "output_type": "display_data"
    },
    {
     "data": {
      "image/png": "[encoded data removed]",
      "text/plain": [
       "<Figure size 432x288 with 1 Axes>"
      ]
     },
     "metadata": {
      "needs_background": "light"
     },
     "output_type": "display_data"
    },
    {
     "data": {
      "image/png": "[encoded data removed]",
      "text/plain": [
       "<Figure size 432x288 with 1 Axes>"
      ]
     },
     "metadata": {
      "needs_background": "light"
     },
     "output_type": "display_data"
    }
   ],
   "source": [
    "churn0 = gym_churn.query('Churn==\"0\"')\n",
    "churn1 = gym_churn.query('Churn==\"1\"')\n",
    "for feature in churn0.drop(columns=['Churn','gender','Near_Location','Partner','Promo_friends','Phone','Group_visits'], axis = 1).columns:\n",
    "    sns.distplot(churn0.drop(columns=['Churn','gender','Near_Location','Partner','Promo_friends','Phone','Group_visits'], axis = 1)[feature], bins=10,label='0')\n",
    "    sns.distplot(churn1.drop(columns=['Churn','gender','Near_Location','Partner','Promo_friends','Phone','Group_visits'], axis = 1)[feature], bins=10,label='1')\n",
    "    plt.legend();\n",
    "    plt.xlabel(feature)\n",
    "    plt.show() \n"
   ]
  },
  {
   "cell_type": "markdown",
   "metadata": {},
   "source": [
    "Сформируем матрицу корреляции и тепловую карту по ней"
   ]
  },
  {
   "cell_type": "code",
   "execution_count": 11,
   "metadata": {},
   "outputs": [
    {
     "data": {
      "text/plain": [
       "<matplotlib.axes._subplots.AxesSubplot at 0x2fbbc485348>"
      ]
     },
     "execution_count": 11,
     "metadata": {},
     "output_type": "execute_result"
    },
    {
     "data": {
      "image/png": "[encoded data removed]",
      "text/plain": [
       "<Figure size 1080x1080 with 2 Axes>"
      ]
     },
     "metadata": {
      "needs_background": "light"
     },
     "output_type": "display_data"
    }
   ],
   "source": [
    "corr_m = gym_churn.corr()\n",
    "plt.figure(figsize = (15,15))\n",
    "sns.heatmap(corr_m,square = True,annot = True)"
   ]
  },
  {
   "cell_type": "markdown",
   "metadata": {},
   "source": [
    "По матрице корреляции видно, что у пар признаков 'Contract_period' и 'Month_to_end_contract', 'Avg_class_frequency_total' и 'Avg_class_frequency_current_month' есть большая корреляция (что не удивительно).Удалим по одному столбцу из пары. "
   ]
  },
  {
   "cell_type": "code",
   "execution_count": 12,
   "metadata": {},
   "outputs": [],
   "source": [
    "gym_churn = gym_churn.drop(['Month_to_end_contract','Avg_class_frequency_current_month'],axis=1)"
   ]
  },
  {
   "cell_type": "code",
   "execution_count": 13,
   "metadata": {},
   "outputs": [
    {
     "data": {
      "text/plain": [
       "<matplotlib.axes._subplots.AxesSubplot at 0x2fbbbb88908>"
      ]
     },
     "execution_count": 13,
     "metadata": {},
     "output_type": "execute_result"
    },
    {
     "data": {
      "image/png": "[encoded data removed]",
      "text/plain": [
       "<Figure size 1080x1080 with 2 Axes>"
      ]
     },
     "metadata": {
      "needs_background": "light"
     },
     "output_type": "display_data"
    }
   ],
   "source": [
    "corr_m = gym_churn.corr()\n",
    "plt.figure(figsize = (15,15))\n",
    "sns.heatmap(corr_m,square = True,annot = True)"
   ]
  },
  {
   "cell_type": "markdown",
   "metadata": {},
   "source": [
    "**Заключение по разделу** В этом разделе был произведен обзор файла, предоставленного менеджерами «Культуриста-датасаентиста».\n",
    "По предоставленным данным были построены сравнительные гистограммы и матрица корреляции. Для исключения мультиколлинеарности удалены 2 столбца."
   ]
  },
  {
   "cell_type": "markdown",
   "metadata": {},
   "source": [
    "## Выбор и сравнение моделей прогнозирования оттока клиентов"
   ]
  },
  {
   "cell_type": "markdown",
   "metadata": {},
   "source": [
    "Подготовм признаки (матрица X) и целевую переменную (y) и поделим модель на обучающую и валидационную выборку"
   ]
  },
  {
   "cell_type": "code",
   "execution_count": 14,
   "metadata": {},
   "outputs": [],
   "source": [
    "X = gym_churn.drop('Churn', axis = 1)\n",
    "y = gym_churn['Churn']"
   ]
  },
  {
   "cell_type": "code",
   "execution_count": 15,
   "metadata": {},
   "outputs": [],
   "source": [
    "X_train, X_test, y_train, y_test = train_test_split(X, y, test_size=0.2, random_state=0,stratify = y)"
   ]
  },
  {
   "cell_type": "markdown",
   "metadata": {},
   "source": [
    "Так как в исходном файле имеем большой разброс стандартных отклонений, признаки  стандартизуем и преобразуем "
   ]
  },
  {
   "cell_type": "code",
   "execution_count": 16,
   "metadata": {},
   "outputs": [],
   "source": [
    "scaler = StandardScaler()\n",
    "scaler.fit(X_train)\n",
    "X_train_st = scaler.transform(X_train)\n",
    "X_test_st = scaler.transform(X_test)"
   ]
  },
  {
   "cell_type": "markdown",
   "metadata": {},
   "source": [
    "Обучим и сделаем прогноз, используя алгоритм LogisticRegression "
   ]
  },
  {
   "cell_type": "code",
   "execution_count": 17,
   "metadata": {},
   "outputs": [],
   "source": [
    "model_1 = LogisticRegression(solver='liblinear',random_state = 0) \n",
    "model_1.fit(X_train_st, y_train) \n",
    "predictions_1 = model_1.predict(X_test_st)"
   ]
  },
  {
   "cell_type": "markdown",
   "metadata": {},
   "source": [
    "Обучим и сделаем прогноз, используя алгоритм RandomForestClassifier "
   ]
  },
  {
   "cell_type": "code",
   "execution_count": 18,
   "metadata": {},
   "outputs": [],
   "source": [
    "model_2 = RandomForestClassifier(n_estimators = 100,random_state = 0) \n",
    "model_2.fit(X_train_st, y_train)\n",
    "predictions_2 = model_2.predict(X_test_st)"
   ]
  },
  {
   "cell_type": "markdown",
   "metadata": {},
   "source": [
    "Посчитаем метрики и сравним"
   ]
  },
  {
   "cell_type": "code",
   "execution_count": 19,
   "metadata": {},
   "outputs": [
    {
     "name": "stdout",
     "output_type": "stream",
     "text": [
      "Accuracy_1: 0.91\n",
      "Accuracy_2: 0.89\n",
      "Precision_1: 0.83\n",
      "Precision_2: 0.81\n",
      "Recall_1: 0.83\n",
      "Recall_2: 0.79\n"
     ]
    }
   ],
   "source": [
    "print('Accuracy_1: {:.2f}'.format(accuracy_score(y_test,predictions_1)))\n",
    "print('Accuracy_2: {:.2f}'.format(accuracy_score(y_test,predictions_2)))\n",
    "print('Precision_1: {:.2f}'.format(precision_score (y_test,predictions_1)))\n",
    "print('Precision_2: {:.2f}'.format(precision_score (y_test,predictions_2)))\n",
    "print('Recall_1: {:.2f}'.format(recall_score (y_test,predictions_1)))\n",
    "print('Recall_2: {:.2f}'.format(recall_score (y_test,predictions_2)))\n"
   ]
  },
  {
   "cell_type": "markdown",
   "metadata": {},
   "source": [
    "Судя по получившимся результатам, первый (LogisticRegression) вариант  лучше.   "
   ]
  },
  {
   "cell_type": "markdown",
   "metadata": {},
   "source": [
    "**Заключение по разделу** В этом разделе был расчитан прогноз оттока по двум моделям. Осуществлен  выбор модели LogisticRegression как более перспективной  для данной задачи"
   ]
  },
  {
   "cell_type": "markdown",
   "metadata": {},
   "source": [
    "## Кластеризация клиентов"
   ]
  },
  {
   "cell_type": "markdown",
   "metadata": {},
   "source": [
    "Стандартизируем данные"
   ]
  },
  {
   "cell_type": "code",
   "execution_count": 20,
   "metadata": {},
   "outputs": [],
   "source": [
    "sc = StandardScaler()\n",
    "x_sc = sc.fit_transform(gym_churn.drop(columns = 'Churn'))"
   ]
  },
  {
   "cell_type": "markdown",
   "metadata": {},
   "source": [
    "Создадим таблицу связок признаков по алгоритму иерархической агломеративной кластеризации"
   ]
  },
  {
   "cell_type": "code",
   "execution_count": 21,
   "metadata": {},
   "outputs": [],
   "source": [
    "linked = linkage(x_sc, method = 'ward')"
   ]
  },
  {
   "cell_type": "code",
   "execution_count": 22,
   "metadata": {},
   "outputs": [
    {
     "data": {
      "image/png": "[encoded data removed]",
      "text/plain": [
       "<Figure size 1080x720 with 1 Axes>"
      ]
     },
     "metadata": {
      "needs_background": "light"
     },
     "output_type": "display_data"
    }
   ],
   "source": [
    "plt.figure(figsize=(15, 10))  \n",
    "dendrogram(linked, orientation='top')\n",
    "plt.show() "
   ]
  },
  {
   "cell_type": "markdown",
   "metadata": {},
   "source": [
    "Применим алгоритм KMeans и сформируем вектор кластеров с рекомендованным n=5"
   ]
  },
  {
   "cell_type": "code",
   "execution_count": 23,
   "metadata": {},
   "outputs": [],
   "source": [
    "km = KMeans(n_clusters = 5,random_state = 0) \n",
    "labels = km.fit_predict(x_sc)\n",
    "gym_churn['cluster_km'] = labels"
   ]
  },
  {
   "cell_type": "markdown",
   "metadata": {},
   "source": [
    "Получим средние значения признаков по кластерам"
   ]
  },
  {
   "cell_type": "code",
   "execution_count": 24,
   "metadata": {},
   "outputs": [
    {
     "data": {
      "text/html": [
       "<div>\n",
       "<style scoped>\n",
       "    .dataframe tbody tr th:only-of-type {\n",
       "        vertical-align: middle;\n",
       "    }\n",
       "\n",
       "    .dataframe tbody tr th {\n",
       "        vertical-align: top;\n",
       "    }\n",
       "\n",
       "    .dataframe thead th {\n",
       "        text-align: right;\n",
       "    }\n",
       "</style>\n",
       "<table border=\"1\" class=\"dataframe\">\n",
       "  <thead>\n",
       "    <tr style=\"text-align: right;\">\n",
       "      <th></th>\n",
       "      <th>Age</th>\n",
       "      <th>Avg_additional_charges_total</th>\n",
       "      <th>Avg_class_frequency_total</th>\n",
       "      <th>Churn</th>\n",
       "      <th>Contract_period</th>\n",
       "      <th>Group_visits</th>\n",
       "      <th>Lifetime</th>\n",
       "      <th>Near_Location</th>\n",
       "      <th>Partner</th>\n",
       "      <th>Phone</th>\n",
       "      <th>Promo_friends</th>\n",
       "      <th>gender</th>\n",
       "    </tr>\n",
       "    <tr>\n",
       "      <th>cluster_km</th>\n",
       "      <th></th>\n",
       "      <th></th>\n",
       "      <th></th>\n",
       "      <th></th>\n",
       "      <th></th>\n",
       "      <th></th>\n",
       "      <th></th>\n",
       "      <th></th>\n",
       "      <th></th>\n",
       "      <th></th>\n",
       "      <th></th>\n",
       "      <th></th>\n",
       "    </tr>\n",
       "  </thead>\n",
       "  <tbody>\n",
       "    <tr>\n",
       "      <td>1</td>\n",
       "      <td>29.54</td>\n",
       "      <td>155.86</td>\n",
       "      <td>1.98</td>\n",
       "      <td>0.12</td>\n",
       "      <td>7.66</td>\n",
       "      <td>0.46</td>\n",
       "      <td>4.38</td>\n",
       "      <td>1.00</td>\n",
       "      <td>0.96</td>\n",
       "      <td>1</td>\n",
       "      <td>0.89</td>\n",
       "      <td>0.49</td>\n",
       "    </tr>\n",
       "    <tr>\n",
       "      <td>3</td>\n",
       "      <td>29.54</td>\n",
       "      <td>148.09</td>\n",
       "      <td>1.94</td>\n",
       "      <td>0.20</td>\n",
       "      <td>4.53</td>\n",
       "      <td>1.00</td>\n",
       "      <td>3.76</td>\n",
       "      <td>1.00</td>\n",
       "      <td>0.25</td>\n",
       "      <td>1</td>\n",
       "      <td>0.08</td>\n",
       "      <td>0.54</td>\n",
       "    </tr>\n",
       "    <tr>\n",
       "      <td>4</td>\n",
       "      <td>29.30</td>\n",
       "      <td>144.21</td>\n",
       "      <td>1.85</td>\n",
       "      <td>0.27</td>\n",
       "      <td>4.78</td>\n",
       "      <td>0.43</td>\n",
       "      <td>3.94</td>\n",
       "      <td>0.86</td>\n",
       "      <td>0.47</td>\n",
       "      <td>0</td>\n",
       "      <td>0.31</td>\n",
       "      <td>0.52</td>\n",
       "    </tr>\n",
       "    <tr>\n",
       "      <td>2</td>\n",
       "      <td>28.77</td>\n",
       "      <td>143.38</td>\n",
       "      <td>1.80</td>\n",
       "      <td>0.38</td>\n",
       "      <td>2.82</td>\n",
       "      <td>0.00</td>\n",
       "      <td>3.34</td>\n",
       "      <td>1.00</td>\n",
       "      <td>0.24</td>\n",
       "      <td>1</td>\n",
       "      <td>0.06</td>\n",
       "      <td>0.51</td>\n",
       "    </tr>\n",
       "    <tr>\n",
       "      <td>0</td>\n",
       "      <td>28.72</td>\n",
       "      <td>137.54</td>\n",
       "      <td>1.77</td>\n",
       "      <td>0.40</td>\n",
       "      <td>3.03</td>\n",
       "      <td>0.24</td>\n",
       "      <td>3.06</td>\n",
       "      <td>0.00</td>\n",
       "      <td>0.49</td>\n",
       "      <td>1</td>\n",
       "      <td>0.08</td>\n",
       "      <td>0.50</td>\n",
       "    </tr>\n",
       "  </tbody>\n",
       "</table>\n",
       "</div>"
      ],
      "text/plain": [
       "              Age  Avg_additional_charges_total  Avg_class_frequency_total  \\\n",
       "cluster_km                                                                   \n",
       "1           29.54                        155.86                       1.98   \n",
       "3           29.54                        148.09                       1.94   \n",
       "4           29.30                        144.21                       1.85   \n",
       "2           28.77                        143.38                       1.80   \n",
       "0           28.72                        137.54                       1.77   \n",
       "\n",
       "            Churn  Contract_period  Group_visits  Lifetime  Near_Location  \\\n",
       "cluster_km                                                                  \n",
       "1            0.12             7.66          0.46      4.38           1.00   \n",
       "3            0.20             4.53          1.00      3.76           1.00   \n",
       "4            0.27             4.78          0.43      3.94           0.86   \n",
       "2            0.38             2.82          0.00      3.34           1.00   \n",
       "0            0.40             3.03          0.24      3.06           0.00   \n",
       "\n",
       "            Partner  Phone  Promo_friends  gender  \n",
       "cluster_km                                         \n",
       "1              0.96      1           0.89    0.49  \n",
       "3              0.25      1           0.08    0.54  \n",
       "4              0.47      0           0.31    0.52  \n",
       "2              0.24      1           0.06    0.51  \n",
       "0              0.49      1           0.08    0.50  "
      ]
     },
     "execution_count": 24,
     "metadata": {},
     "output_type": "execute_result"
    }
   ],
   "source": [
    "gym_cluster = gym_churn.pivot_table(index='cluster_km',values=['gender','Near_Location','Partner','Promo_friends','Phone','Contract_period','Group_visits','Age','Avg_additional_charges_total','Lifetime','Avg_class_frequency_total','Churn']).round(2)\n",
    "gym_cluster.sort_values(by='Churn')"
   ]
  },
  {
   "cell_type": "markdown",
   "metadata": {},
   "source": [
    "Таблица отсортирована по Churn. Самое большое отсеивание в двух нижних строках (кластеры 2 и 0).\n",
    "\n",
    "5 кластеров распределились следующим образом: в трех отток не превышает 30%, а в двух других отток почти 40%."
   ]
  },
  {
   "cell_type": "markdown",
   "metadata": {},
   "source": [
    "По колонкам признаков можно видеть, что в этих кластерах (двух нижних строках) меньше\n",
    "- возраст, \n",
    "- суммарная выручка от других услуг фитнес-центра: кафе, спорт-товары, косметический и массажный салон\n",
    "- средняя частота посещений в неделю за все время с начала действия абонемента\n",
    "- длительность текущего действующего абонемента (месяц, 3 месяца, 6 месяцев, год)\n",
    "- факт посещения групповых занятий\n",
    "- время с момента первого обращения в фитнес-центр (в месяцах)\n",
    "\n",
    "\n",
    "т.е. из 11-ти признаков у 6-ти показатели в среднем меньше, а остальные -не имеют больших отличий. Это \n",
    "\n",
    "- проживание или работа в районе, где находится фитнес-центр\n",
    "- сотрудник компании-партнёра клуба\n",
    "- наличие контактного телефона\n",
    "- факт первоначальной записи в рамках акции «приведи друга»\n",
    "- пол"
   ]
  },
  {
   "cell_type": "markdown",
   "metadata": {},
   "source": [
    "Посмотрим распределения признаков у 6-ти отличающихся"
   ]
  },
  {
   "cell_type": "code",
   "execution_count": 25,
   "metadata": {},
   "outputs": [],
   "source": [
    "gym_cluster_0 = gym_churn.query('cluster_km ==0')\n",
    "gym_cluster_1 = gym_churn.query('cluster_km ==1')\n",
    "gym_cluster_2 = gym_churn.query('cluster_km ==2')\n",
    "gym_cluster_3 = gym_churn.query('cluster_km ==3')\n",
    "gym_cluster_4 = gym_churn.query('cluster_km ==4')\n"
   ]
  },
  {
   "cell_type": "code",
   "execution_count": 26,
   "metadata": {
    "scrolled": true
   },
   "outputs": [
    {
     "data": {
      "image/png": "[encoded data removed]",
      "text/plain": [
       "<Figure size 648x360 with 1 Axes>"
      ]
     },
     "metadata": {
      "needs_background": "light"
     },
     "output_type": "display_data"
    }
   ],
   "source": [
    "def print_hist(feature):\n",
    "    ax = gym_cluster_0[feature].plot(\n",
    "    kind='hist',\n",
    "    histtype='step',\n",
    "    figsize = (9,5),\n",
    "    bins=10,\n",
    "    linewidth=4,\n",
    "    label='0',\n",
    "    legend=True\n",
    "    )\n",
    "    gym_cluster_1[feature].plot(\n",
    "    kind='hist',\n",
    "    histtype='step',\n",
    "    figsize = (9,5),\n",
    "    bins=10,\n",
    "    linewidth=4,\n",
    "    label='1',\n",
    "    ax=ax,\n",
    "    grid=True,\n",
    "    legend=True,\n",
    "    ) \n",
    "    gym_cluster_2[feature].plot(\n",
    "    kind='hist',\n",
    "    \n",
    "    histtype='step',\n",
    "    figsize = (9,5),\n",
    "    bins=10,\n",
    "    linewidth=4,\n",
    "    label='2',\n",
    "    ax=ax,\n",
    "    grid=True,\n",
    "    legend=True,\n",
    "    ) \n",
    "    gym_cluster_3[feature].plot(\n",
    "    kind='hist',\n",
    "    histtype='step',\n",
    "    figsize = (9,5),\n",
    "    bins=10,\n",
    "    linewidth=4,\n",
    "    label='3',\n",
    "    ax=ax,\n",
    "    grid=True,\n",
    "    legend=True,\n",
    "    ) \n",
    "    gym_cluster_4[feature].plot(\n",
    "    kind='hist',\n",
    "    histtype='step',\n",
    "    figsize = (9,5),\n",
    "    bins=10,\n",
    "    linewidth=4,\n",
    "    label='4',\n",
    "    ax=ax,\n",
    "    grid=True,\n",
    "    legend=True,\n",
    "    title= feature\n",
    "    ) \n",
    "print_hist('Age')"
   ]
  },
  {
   "cell_type": "markdown",
   "metadata": {},
   "source": [
    " По признаку 'Age' у 2 и 0 кластера есть сдвиги в сторону меньшего возраста (< 20 лет) в отличие от остальных групп, и  хотя в кластере 3 тоже есть немного молодежи, среднее компенсирует это за счет большой группы старше  30 лет, чего не наблюдается в кластерах 2 и 0.   "
   ]
  },
  {
   "cell_type": "code",
   "execution_count": 27,
   "metadata": {},
   "outputs": [
    {
     "data": {
      "text/plain": [
       "59"
      ]
     },
     "execution_count": 27,
     "metadata": {},
     "output_type": "execute_result"
    }
   ],
   "source": [
    "gym_churn.query('Age <= 22 & Churn==1')['gender'].count()"
   ]
  },
  {
   "cell_type": "code",
   "execution_count": 28,
   "metadata": {},
   "outputs": [
    {
     "data": {
      "text/plain": [
       "4"
      ]
     },
     "execution_count": 28,
     "metadata": {},
     "output_type": "execute_result"
    }
   ],
   "source": [
    "gym_churn.query('Age >= 35 & Churn==1')['gender'].count()"
   ]
  },
  {
   "cell_type": "code",
   "execution_count": 29,
   "metadata": {},
   "outputs": [
    {
     "data": {
      "text/plain": [
       "189"
      ]
     },
     "execution_count": 29,
     "metadata": {},
     "output_type": "execute_result"
    }
   ],
   "source": [
    "gym_churn.query('Age >= 35')['gender'].count()"
   ]
  },
  {
   "cell_type": "code",
   "execution_count": 30,
   "metadata": {
    "scrolled": true
   },
   "outputs": [
    {
     "data": {
      "image/png": "[encoded data removed]",
      "text/plain": [
       "<Figure size 648x360 with 1 Axes>"
      ]
     },
     "metadata": {
      "needs_background": "light"
     },
     "output_type": "display_data"
    }
   ],
   "source": [
    "print_hist('Avg_additional_charges_total')"
   ]
  },
  {
   "cell_type": "markdown",
   "metadata": {},
   "source": [
    " Здесь  видно, что особо критической разницы не наблюдается, но сумма доп.трат на услуги обратно пропорциональна оттоку, и средняя разница между max и min  - 18.32 или 12%."
   ]
  },
  {
   "cell_type": "code",
   "execution_count": 31,
   "metadata": {},
   "outputs": [
    {
     "data": {
      "image/png": "[encoded data removed]",
      "text/plain": [
       "<Figure size 648x360 with 1 Axes>"
      ]
     },
     "metadata": {
      "needs_background": "light"
     },
     "output_type": "display_data"
    }
   ],
   "source": [
    "print_hist('Avg_class_frequency_total')"
   ]
  },
  {
   "cell_type": "markdown",
   "metadata": {},
   "source": [
    " Средняя частота посещений у 2 и 0 кластеров тоже обратно пропорциональна оттоку. Min отток - 1.98, max - 1.77 раз в неделю."
   ]
  },
  {
   "cell_type": "code",
   "execution_count": 32,
   "metadata": {},
   "outputs": [
    {
     "data": {
      "image/png": "[encoded data removed]",
      "text/plain": [
       "<Figure size 648x360 with 1 Axes>"
      ]
     },
     "metadata": {
      "needs_background": "light"
     },
     "output_type": "display_data"
    }
   ],
   "source": [
    "print_hist('Contract_period')"
   ]
  },
  {
   "cell_type": "markdown",
   "metadata": {},
   "source": [
    "Здесь четко видно, что у 2 и 0 кластеров короче срок абонемента."
   ]
  },
  {
   "cell_type": "code",
   "execution_count": 33,
   "metadata": {},
   "outputs": [
    {
     "data": {
      "image/png": "[encoded data removed]",
      "text/plain": [
       "<Figure size 648x360 with 1 Axes>"
      ]
     },
     "metadata": {
      "needs_background": "light"
     },
     "output_type": "display_data"
    }
   ],
   "source": [
    "print_hist('Group_visits')"
   ]
  },
  {
   "cell_type": "markdown",
   "metadata": {},
   "source": [
    "По этому признаку видно, что  у 2 и 0 кластеров посещаемость значительно меньше, чем у остальных, не более 30% в кластере 0 и полный отказ в кластере 2.  "
   ]
  },
  {
   "cell_type": "code",
   "execution_count": 34,
   "metadata": {
    "scrolled": true
   },
   "outputs": [
    {
     "data": {
      "image/png": "[encoded data removed]",
      "text/plain": [
       "<Figure size 648x360 with 1 Axes>"
      ]
     },
     "metadata": {
      "needs_background": "light"
     },
     "output_type": "display_data"
    }
   ],
   "source": [
    "print_hist('Lifetime')"
   ]
  },
  {
   "cell_type": "markdown",
   "metadata": {},
   "source": [
    "По этому графику видно, что в этих \"проблемных\"(2 и 0) группах большая доля \"новичков\"."
   ]
  },
  {
   "cell_type": "code",
   "execution_count": 35,
   "metadata": {},
   "outputs": [
    {
     "data": {
      "text/plain": [
       "414"
      ]
     },
     "execution_count": 35,
     "metadata": {},
     "output_type": "execute_result"
    }
   ],
   "source": [
    "gym_churn.query('Lifetime == 1 & Churn==1')['gender'].count()"
   ]
  },
  {
   "cell_type": "code",
   "execution_count": 36,
   "metadata": {},
   "outputs": [
    {
     "data": {
      "text/plain": [
       "843"
      ]
     },
     "execution_count": 36,
     "metadata": {},
     "output_type": "execute_result"
    }
   ],
   "source": [
    "gym_churn.query('Lifetime == 1 ')['gender'].count()"
   ]
  },
  {
   "cell_type": "code",
   "execution_count": 37,
   "metadata": {},
   "outputs": [
    {
     "name": "stdout",
     "output_type": "stream",
     "text": [
      "Contract_period\n"
     ]
    },
    {
     "data": {
      "image/png": "[encoded data removed]",
      "text/plain": [
       "<Figure size 432x288 with 1 Axes>"
      ]
     },
     "metadata": {
      "needs_background": "light"
     },
     "output_type": "display_data"
    },
    {
     "name": "stdout",
     "output_type": "stream",
     "text": [
      "Age\n"
     ]
    },
    {
     "data": {
      "image/png": "[encoded data removed]",
      "text/plain": [
       "<Figure size 432x288 with 1 Axes>"
      ]
     },
     "metadata": {
      "needs_background": "light"
     },
     "output_type": "display_data"
    },
    {
     "name": "stdout",
     "output_type": "stream",
     "text": [
      "Avg_additional_charges_total\n"
     ]
    },
    {
     "data": {
      "image/png": "[encoded data removed]",
      "text/plain": [
       "<Figure size 432x288 with 1 Axes>"
      ]
     },
     "metadata": {
      "needs_background": "light"
     },
     "output_type": "display_data"
    },
    {
     "name": "stdout",
     "output_type": "stream",
     "text": [
      "Lifetime\n"
     ]
    },
    {
     "data": {
      "image/png": "[encoded data removed]",
      "text/plain": [
       "<Figure size 432x288 with 1 Axes>"
      ]
     },
     "metadata": {
      "needs_background": "light"
     },
     "output_type": "display_data"
    },
    {
     "name": "stdout",
     "output_type": "stream",
     "text": [
      "Avg_class_frequency_total\n"
     ]
    },
    {
     "data": {
      "image/png": "[encoded data removed]",
      "text/plain": [
       "<Figure size 432x288 with 1 Axes>"
      ]
     },
     "metadata": {
      "needs_background": "light"
     },
     "output_type": "display_data"
    }
   ],
   "source": [
    "gym1=['Contract_period','Age','Avg_additional_charges_total','Lifetime','Avg_class_frequency_total']\n",
    "for feature in gym1:\n",
    "    print(feature)\n",
    "    sns.boxplot(x ='cluster_km',y = feature, data = gym_churn)\n",
    "    plt.show()"
   ]
  },
  {
   "cell_type": "code",
   "execution_count": 38,
   "metadata": {},
   "outputs": [
    {
     "name": "stdout",
     "output_type": "stream",
     "text": [
      "gender\n"
     ]
    },
    {
     "data": {
      "image/png": "[encoded data removed]",
      "text/plain": [
       "<Figure size 432x288 with 1 Axes>"
      ]
     },
     "metadata": {
      "needs_background": "light"
     },
     "output_type": "display_data"
    },
    {
     "name": "stdout",
     "output_type": "stream",
     "text": [
      "Near_Location\n"
     ]
    },
    {
     "data": {
      "image/png": "[encoded data removed]",
      "text/plain": [
       "<Figure size 432x288 with 1 Axes>"
      ]
     },
     "metadata": {
      "needs_background": "light"
     },
     "output_type": "display_data"
    },
    {
     "name": "stdout",
     "output_type": "stream",
     "text": [
      "Partner\n"
     ]
    },
    {
     "data": {
      "image/png": "[encoded data removed]",
      "text/plain": [
       "<Figure size 432x288 with 1 Axes>"
      ]
     },
     "metadata": {
      "needs_background": "light"
     },
     "output_type": "display_data"
    },
    {
     "name": "stdout",
     "output_type": "stream",
     "text": [
      "Promo_friends\n"
     ]
    },
    {
     "data": {
      "image/png": "[encoded data removed]",
      "text/plain": [
       "<Figure size 432x288 with 1 Axes>"
      ]
     },
     "metadata": {
      "needs_background": "light"
     },
     "output_type": "display_data"
    },
    {
     "name": "stdout",
     "output_type": "stream",
     "text": [
      "Phone\n"
     ]
    },
    {
     "data": {
      "image/png": "[encoded data removed]",
      "text/plain": [
       "<Figure size 432x288 with 1 Axes>"
      ]
     },
     "metadata": {
      "needs_background": "light"
     },
     "output_type": "display_data"
    },
    {
     "name": "stdout",
     "output_type": "stream",
     "text": [
      "Group_visits\n"
     ]
    },
    {
     "data": {
      "image/png": "[encoded data removed]",
      "text/plain": [
       "<Figure size 432x288 with 1 Axes>"
      ]
     },
     "metadata": {
      "needs_background": "light"
     },
     "output_type": "display_data"
    }
   ],
   "source": [
    "gym2=['gender','Near_Location','Partner','Promo_friends','Phone','Group_visits']\n",
    "for feature in gym2:\n",
    "    print(feature)\n",
    "    sns.countplot(data = gym_churn, x = feature, hue = 'cluster_km')\n",
    "    plt.show()"
   ]
  },
  {
   "cell_type": "markdown",
   "metadata": {},
   "source": [
    "Для каждого полученного кластера посчитаем долю оттока (методом groupby())(Это по заданию, хотя они уже посчитаны ранее в сводной таблице)"
   ]
  },
  {
   "cell_type": "code",
   "execution_count": 39,
   "metadata": {},
   "outputs": [
    {
     "data": {
      "text/html": [
       "<div>\n",
       "<style scoped>\n",
       "    .dataframe tbody tr th:only-of-type {\n",
       "        vertical-align: middle;\n",
       "    }\n",
       "\n",
       "    .dataframe tbody tr th {\n",
       "        vertical-align: top;\n",
       "    }\n",
       "\n",
       "    .dataframe thead th {\n",
       "        text-align: right;\n",
       "    }\n",
       "</style>\n",
       "<table border=\"1\" class=\"dataframe\">\n",
       "  <thead>\n",
       "    <tr style=\"text-align: right;\">\n",
       "      <th></th>\n",
       "      <th>Churn</th>\n",
       "    </tr>\n",
       "    <tr>\n",
       "      <th>cluster_km</th>\n",
       "      <th></th>\n",
       "    </tr>\n",
       "  </thead>\n",
       "  <tbody>\n",
       "    <tr>\n",
       "      <td>0</td>\n",
       "      <td>0.40</td>\n",
       "    </tr>\n",
       "    <tr>\n",
       "      <td>1</td>\n",
       "      <td>0.12</td>\n",
       "    </tr>\n",
       "    <tr>\n",
       "      <td>2</td>\n",
       "      <td>0.38</td>\n",
       "    </tr>\n",
       "    <tr>\n",
       "      <td>3</td>\n",
       "      <td>0.20</td>\n",
       "    </tr>\n",
       "    <tr>\n",
       "      <td>4</td>\n",
       "      <td>0.27</td>\n",
       "    </tr>\n",
       "  </tbody>\n",
       "</table>\n",
       "</div>"
      ],
      "text/plain": [
       "            Churn\n",
       "cluster_km       \n",
       "0            0.40\n",
       "1            0.12\n",
       "2            0.38\n",
       "3            0.20\n",
       "4            0.27"
      ]
     },
     "execution_count": 39,
     "metadata": {},
     "output_type": "execute_result"
    }
   ],
   "source": [
    "gym_churn.groupby('cluster_km').agg({'Churn': 'mean'}).round(2)"
   ]
  },
  {
   "cell_type": "markdown",
   "metadata": {},
   "source": [
    "**Заключение по разделу**В этом разделе все посетители были поделены на 5 групп по схожим признакам.В группах с большим оттоком были выделены 6 признаков кардинально отличающиеся (все в меньшую сторону) от других групп.По ним были построены гистограмы для более детального рассмотрения причин оттока. Под каждой гистограммой даны комментарии. Также сделана визуализация по всем признакам."
   ]
  },
  {
   "cell_type": "markdown",
   "metadata": {},
   "source": [
    "## Общий вывод и рекомендации"
   ]
  },
  {
   "cell_type": "markdown",
   "metadata": {},
   "source": [
    "### Результаты"
   ]
  },
  {
   "cell_type": "markdown",
   "metadata": {},
   "source": [
    "- В процессе анализа файла были рассмотрены данные 13 параметров-признаков. Были построены графики сравнения их показателей для оставшихся и ушедших посетителей. \n",
    "- Была построена матрица корреляции признаков и из файла удалены 2 признака с корреляциями 0.95 и 0.97 для исключения мультиколлине-арности.\n",
    "- Были опробованы 2 модели для расчета прогноза оттока. Перед расчетом исходные данные были стандартизированы.Лучшей признана модель LogisticRegression.\n",
    "- Была произведена кластеризация файла посетителей. Было сформировано 5 кластеров. В трех из них отток не превышает 30%, а в двух других отток 38% и 40%. Были выявлены 6 признаков максимально влияющих на цель нашего исследования. Это\n",
    "   *  возраст\n",
    "   * суммарная выручка от других услуг фитнес-центра: кафе, спорт-товары, косметический и массажный салон\n",
    "   * средняя частота посещений в неделю за все время с начала действия абонемента\n",
    "   * длительность текущего действующего абонемента (месяц, 3 месяца, 6 месяцев, год)\n",
    "   * факт посещения групповых занятий\n",
    "   * время с момента первого обращения в фитнес-центр (в месяцах)\n",
    "- Для этих шести признаков были построены гистограммы  с отражением показателей по каждому кластеру.  \n",
    "- Для всех признаков сделана визуализация"
   ]
  },
  {
   "cell_type": "markdown",
   "metadata": {},
   "source": [
    "### Рекомендации"
   ]
  },
  {
   "cell_type": "markdown",
   "metadata": {},
   "source": [
    "Из нашего анализа следует, что\n",
    "- необходимо обратить внимание на \"новичков\", как правило, они берут пробный абонемент на краткий период. Из всех \"новичков\" (20% от общей численности) 49% не остаются на следующий месяц, и они же имеют самые низкие показатели по групповым занятиям.\n",
    "- необходимо обратить внимание на молодежь студенческого возраста.Хотя среди посетителей их меньше 2%, но отток у них почти 80%.\n",
    "- рекомендуется расширить предложения по групповым занятиям, особенно с учетом запросов самых молодых посетителей. Как показывает исследование, те, кто уйдут, значительно меньше посещают групповые занятия, не более 24% против 43-100% остающихся. Значит их не устраивает либо график, либо направление. \n",
    "- рекомендуется для всех \"новичков\" недели через 2 после начала действия абонемента провести анкетирование с вопросами, что нравится и нет,  и пожеланиями, что хотелось бы добавить или исправить. Чтобы к концу месяца успеть сделать коррекцию предложений. "
   ]
  }
 ],
 "metadata": {
  "ExecuteTimeLog": [
   {
    "duration": 752,
    "start_time": "2021-10-17T08:57:23.105Z"
   },
   {
    "duration": 27,
    "start_time": "2021-10-17T09:08:31.440Z"
   },
   {
    "duration": 27,
    "start_time": "2021-10-17T09:08:35.438Z"
   },
   {
    "duration": 10,
    "start_time": "2021-10-17T09:10:01.689Z"
   },
   {
    "duration": 70,
    "start_time": "2021-10-17T09:11:23.730Z"
   },
   {
    "duration": 3,
    "start_time": "2021-10-17T14:14:26.999Z"
   },
   {
    "duration": 28,
    "start_time": "2021-10-17T14:14:27.059Z"
   },
   {
    "duration": 17,
    "start_time": "2021-10-17T14:14:27.090Z"
   },
   {
    "duration": 12,
    "start_time": "2021-10-17T14:14:27.112Z"
   },
   {
    "duration": 69,
    "start_time": "2021-10-17T14:14:27.127Z"
   },
   {
    "duration": 112,
    "start_time": "2021-10-17T14:14:27.199Z"
   },
   {
    "duration": 376,
    "start_time": "2021-10-17T14:15:21.800Z"
   },
   {
    "duration": 259,
    "start_time": "2021-10-17T14:15:58.031Z"
   },
   {
    "duration": 4,
    "start_time": "2021-10-17T14:16:36.456Z"
   },
   {
    "duration": 40,
    "start_time": "2021-10-17T14:16:36.463Z"
   },
   {
    "duration": 20,
    "start_time": "2021-10-17T14:16:36.506Z"
   },
   {
    "duration": 20,
    "start_time": "2021-10-17T14:16:36.529Z"
   },
   {
    "duration": 85,
    "start_time": "2021-10-17T14:16:36.552Z"
   },
   {
    "duration": 320,
    "start_time": "2021-10-17T14:16:36.640Z"
   },
   {
    "duration": 88,
    "start_time": "2021-10-17T14:17:38.781Z"
   },
   {
    "duration": 267,
    "start_time": "2021-10-17T14:21:33.246Z"
   },
   {
    "duration": 94,
    "start_time": "2021-10-17T14:22:15.126Z"
   },
   {
    "duration": 89,
    "start_time": "2021-10-17T14:22:31.171Z"
   },
   {
    "duration": 297,
    "start_time": "2021-10-17T14:22:53.207Z"
   },
   {
    "duration": 12,
    "start_time": "2021-10-17T14:23:25.952Z"
   },
   {
    "duration": 86,
    "start_time": "2021-10-17T14:23:50.284Z"
   },
   {
    "duration": 99,
    "start_time": "2021-10-17T14:24:24.800Z"
   },
   {
    "duration": 18,
    "start_time": "2021-10-17T14:24:44.895Z"
   },
   {
    "duration": 96,
    "start_time": "2021-10-17T14:25:27.127Z"
   },
   {
    "duration": 256,
    "start_time": "2021-10-17T14:25:51.334Z"
   },
   {
    "duration": 26,
    "start_time": "2021-10-17T14:27:01.943Z"
   },
   {
    "duration": 111,
    "start_time": "2021-10-17T14:38:45.915Z"
   },
   {
    "duration": 95,
    "start_time": "2021-10-17T14:39:38.489Z"
   },
   {
    "duration": 88,
    "start_time": "2021-10-17T14:41:50.419Z"
   },
   {
    "duration": 137,
    "start_time": "2021-10-17T15:06:42.827Z"
   },
   {
    "duration": 273,
    "start_time": "2021-10-17T15:20:03.342Z"
   },
   {
    "duration": 274,
    "start_time": "2021-10-17T15:20:35.011Z"
   },
   {
    "duration": 61,
    "start_time": "2021-10-17T15:21:12.057Z"
   },
   {
    "duration": 51,
    "start_time": "2021-10-17T15:30:39.443Z"
   },
   {
    "duration": 32,
    "start_time": "2021-10-17T15:31:31.822Z"
   },
   {
    "duration": 317,
    "start_time": "2021-10-17T15:36:23.315Z"
   },
   {
    "duration": 39,
    "start_time": "2021-10-17T15:37:02.606Z"
   },
   {
    "duration": 254,
    "start_time": "2021-10-17T16:07:44.266Z"
   },
   {
    "duration": 264,
    "start_time": "2021-10-17T16:08:23.186Z"
   },
   {
    "duration": 23,
    "start_time": "2021-10-17T16:08:39.305Z"
   },
   {
    "duration": 583,
    "start_time": "2021-10-17T16:08:44.908Z"
   },
   {
    "duration": 279,
    "start_time": "2021-10-17T16:11:35.420Z"
   },
   {
    "duration": 733,
    "start_time": "2021-10-17T16:24:32.394Z"
   },
   {
    "duration": 27,
    "start_time": "2021-10-17T16:24:33.129Z"
   },
   {
    "duration": 17,
    "start_time": "2021-10-17T16:24:33.160Z"
   },
   {
    "duration": 10,
    "start_time": "2021-10-17T16:24:33.180Z"
   },
   {
    "duration": 144,
    "start_time": "2021-10-17T16:24:33.193Z"
   },
   {
    "duration": 24,
    "start_time": "2021-10-17T16:24:33.340Z"
   },
   {
    "duration": 113,
    "start_time": "2021-10-17T16:24:33.366Z"
   },
   {
    "duration": 307,
    "start_time": "2021-10-17T16:24:33.482Z"
   },
   {
    "duration": 579,
    "start_time": "2021-10-17T16:25:14.425Z"
   },
   {
    "duration": 4,
    "start_time": "2021-10-17T16:35:24.112Z"
   },
   {
    "duration": 29,
    "start_time": "2021-10-17T16:35:24.118Z"
   },
   {
    "duration": 17,
    "start_time": "2021-10-17T16:35:24.149Z"
   },
   {
    "duration": 10,
    "start_time": "2021-10-17T16:35:24.169Z"
   },
   {
    "duration": 88,
    "start_time": "2021-10-17T16:35:24.181Z"
   },
   {
    "duration": 22,
    "start_time": "2021-10-17T16:35:24.271Z"
   },
   {
    "duration": 112,
    "start_time": "2021-10-17T16:35:24.295Z"
   },
   {
    "duration": 4035,
    "start_time": "2021-10-17T16:35:24.409Z"
   },
   {
    "duration": 21,
    "start_time": "2021-10-17T16:43:47.371Z"
   },
   {
    "duration": 41,
    "start_time": "2021-10-17T16:44:29.077Z"
   },
   {
    "duration": 4,
    "start_time": "2021-10-17T16:47:24.952Z"
   },
   {
    "duration": 7,
    "start_time": "2021-10-17T16:47:45.777Z"
   },
   {
    "duration": 8,
    "start_time": "2021-10-17T16:48:48.439Z"
   },
   {
    "duration": 7,
    "start_time": "2021-10-17T16:49:58.354Z"
   },
   {
    "duration": 281111,
    "start_time": "2021-10-17T17:08:37.986Z"
   },
   {
    "duration": 37,
    "start_time": "2021-10-17T17:14:09.424Z"
   },
   {
    "duration": 12,
    "start_time": "2021-10-17T17:15:17.197Z"
   },
   {
    "duration": 37,
    "start_time": "2021-10-17T17:21:17.980Z"
   },
   {
    "duration": 12,
    "start_time": "2021-10-17T17:21:30.378Z"
   },
   {
    "duration": 385,
    "start_time": "2021-10-17T17:25:10.131Z"
   },
   {
    "duration": 681,
    "start_time": "2021-10-17T17:27:52.603Z"
   },
   {
    "duration": 524,
    "start_time": "2021-10-17T17:28:42.676Z"
   },
   {
    "duration": 903,
    "start_time": "2021-10-17T17:45:35.503Z"
   },
   {
    "duration": 850,
    "start_time": "2021-10-17T17:45:58.035Z"
   },
   {
    "duration": 824,
    "start_time": "2021-10-17T17:53:24.742Z"
   },
   {
    "duration": 560,
    "start_time": "2021-10-17T17:53:40.424Z"
   },
   {
    "duration": 583,
    "start_time": "2021-10-17T17:54:06.333Z"
   },
   {
    "duration": 104,
    "start_time": "2021-10-17T17:54:49.950Z"
   },
   {
    "duration": 668,
    "start_time": "2021-10-17T17:55:05.318Z"
   },
   {
    "duration": 632,
    "start_time": "2021-10-17T17:57:45.449Z"
   },
   {
    "duration": 4,
    "start_time": "2021-10-17T17:58:29.591Z"
   },
   {
    "duration": 87,
    "start_time": "2021-10-17T18:27:23.048Z"
   },
   {
    "duration": 282,
    "start_time": "2021-10-17T18:27:58.628Z"
   },
   {
    "duration": 286,
    "start_time": "2021-10-17T18:29:14.822Z"
   },
   {
    "duration": 6714,
    "start_time": "2021-10-17T18:29:35.630Z"
   },
   {
    "duration": 7184,
    "start_time": "2021-10-17T18:30:15.814Z"
   },
   {
    "duration": 6892,
    "start_time": "2021-10-17T18:37:06.261Z"
   },
   {
    "duration": 291,
    "start_time": "2021-10-17T18:47:26.262Z"
   },
   {
    "duration": 653,
    "start_time": "2021-10-17T18:47:47.721Z"
   },
   {
    "duration": 4867,
    "start_time": "2021-10-17T18:51:25.360Z"
   },
   {
    "duration": 4773,
    "start_time": "2021-10-17T18:55:20.324Z"
   },
   {
    "duration": 4638,
    "start_time": "2021-10-17T18:55:56.339Z"
   },
   {
    "duration": 5573,
    "start_time": "2021-10-17T18:57:17.371Z"
   },
   {
    "duration": 1151,
    "start_time": "2021-10-18T05:53:43.975Z"
   },
   {
    "duration": 23,
    "start_time": "2021-10-18T05:53:45.128Z"
   },
   {
    "duration": 15,
    "start_time": "2021-10-18T05:53:45.153Z"
   },
   {
    "duration": 7,
    "start_time": "2021-10-18T05:53:45.170Z"
   },
   {
    "duration": 42,
    "start_time": "2021-10-18T05:53:45.178Z"
   },
   {
    "duration": 48,
    "start_time": "2021-10-18T05:53:45.222Z"
   },
   {
    "duration": 85,
    "start_time": "2021-10-18T05:53:45.272Z"
   },
   {
    "duration": -143,
    "start_time": "2021-10-18T05:53:45.503Z"
   },
   {
    "duration": -177,
    "start_time": "2021-10-18T05:53:45.538Z"
   },
   {
    "duration": -211,
    "start_time": "2021-10-18T05:53:45.573Z"
   },
   {
    "duration": -263,
    "start_time": "2021-10-18T05:53:45.627Z"
   },
   {
    "duration": -280,
    "start_time": "2021-10-18T05:53:45.645Z"
   },
   {
    "duration": 4864,
    "start_time": "2021-10-18T05:54:06.134Z"
   },
   {
    "duration": 4848,
    "start_time": "2021-10-18T05:56:10.509Z"
   },
   {
    "duration": 322,
    "start_time": "2021-10-18T05:56:15.914Z"
   },
   {
    "duration": 5095,
    "start_time": "2021-10-18T05:57:38.665Z"
   },
   {
    "duration": 5887,
    "start_time": "2021-10-18T05:58:34.655Z"
   },
   {
    "duration": 45,
    "start_time": "2021-10-18T07:00:35.459Z"
   },
   {
    "duration": 353,
    "start_time": "2021-10-18T07:00:40.283Z"
   },
   {
    "duration": 5,
    "start_time": "2021-10-18T07:02:50.614Z"
   },
   {
    "duration": 327,
    "start_time": "2021-10-18T07:02:55.172Z"
   },
   {
    "duration": 6714,
    "start_time": "2021-10-18T07:03:16.516Z"
   },
   {
    "duration": 7147,
    "start_time": "2021-10-18T07:06:21.055Z"
   },
   {
    "duration": 7377,
    "start_time": "2021-10-18T07:08:47.656Z"
   },
   {
    "duration": 7358,
    "start_time": "2021-10-18T07:10:34.789Z"
   },
   {
    "duration": 3,
    "start_time": "2021-10-18T07:16:32.032Z"
   },
   {
    "duration": 24,
    "start_time": "2021-10-18T07:16:32.056Z"
   },
   {
    "duration": 13,
    "start_time": "2021-10-18T07:16:32.082Z"
   },
   {
    "duration": 12,
    "start_time": "2021-10-18T07:16:32.097Z"
   },
   {
    "duration": 68,
    "start_time": "2021-10-18T07:16:32.112Z"
   },
   {
    "duration": 25,
    "start_time": "2021-10-18T07:16:32.182Z"
   },
   {
    "duration": 5,
    "start_time": "2021-10-18T07:16:32.210Z"
   },
   {
    "duration": 372,
    "start_time": "2021-10-18T07:16:32.217Z"
   },
   {
    "duration": 72,
    "start_time": "2021-10-18T07:16:32.591Z"
   },
   {
    "duration": 3638,
    "start_time": "2021-10-18T07:16:32.665Z"
   },
   {
    "duration": 2525,
    "start_time": "2021-10-18T07:16:36.305Z"
   },
   {
    "duration": 81,
    "start_time": "2021-10-18T07:16:38.833Z"
   },
   {
    "duration": 7734,
    "start_time": "2021-10-18T07:18:12.092Z"
   },
   {
    "duration": 3,
    "start_time": "2021-10-18T07:18:31.544Z"
   },
   {
    "duration": 26,
    "start_time": "2021-10-18T07:18:31.572Z"
   },
   {
    "duration": 17,
    "start_time": "2021-10-18T07:18:31.600Z"
   },
   {
    "duration": 37,
    "start_time": "2021-10-18T07:18:31.619Z"
   },
   {
    "duration": 69,
    "start_time": "2021-10-18T07:18:31.659Z"
   },
   {
    "duration": 35,
    "start_time": "2021-10-18T07:18:31.730Z"
   },
   {
    "duration": 4,
    "start_time": "2021-10-18T07:18:31.767Z"
   },
   {
    "duration": 412,
    "start_time": "2021-10-18T07:18:31.775Z"
   },
   {
    "duration": 75,
    "start_time": "2021-10-18T07:18:32.190Z"
   },
   {
    "duration": 3621,
    "start_time": "2021-10-18T07:18:32.267Z"
   },
   {
    "duration": 2745,
    "start_time": "2021-10-18T07:18:35.890Z"
   },
   {
    "duration": 86,
    "start_time": "2021-10-18T07:18:38.637Z"
   },
   {
    "duration": 4,
    "start_time": "2021-10-18T07:19:04.162Z"
   },
   {
    "duration": 34,
    "start_time": "2021-10-18T07:19:04.186Z"
   },
   {
    "duration": 33,
    "start_time": "2021-10-18T07:19:04.222Z"
   },
   {
    "duration": 31,
    "start_time": "2021-10-18T07:19:04.258Z"
   },
   {
    "duration": 47,
    "start_time": "2021-10-18T07:19:04.473Z"
   },
   {
    "duration": 28,
    "start_time": "2021-10-18T07:19:04.523Z"
   },
   {
    "duration": 13,
    "start_time": "2021-10-18T07:19:04.554Z"
   },
   {
    "duration": 369,
    "start_time": "2021-10-18T07:19:04.569Z"
   },
   {
    "duration": 76,
    "start_time": "2021-10-18T07:19:04.941Z"
   },
   {
    "duration": 3573,
    "start_time": "2021-10-18T07:19:05.019Z"
   },
   {
    "duration": 2678,
    "start_time": "2021-10-18T07:19:08.594Z"
   },
   {
    "duration": 78,
    "start_time": "2021-10-18T07:19:11.274Z"
   },
   {
    "duration": 3,
    "start_time": "2021-10-18T07:19:18.729Z"
   },
   {
    "duration": 23,
    "start_time": "2021-10-18T07:19:18.752Z"
   },
   {
    "duration": 25,
    "start_time": "2021-10-18T07:19:18.777Z"
   },
   {
    "duration": 31,
    "start_time": "2021-10-18T07:19:18.805Z"
   },
   {
    "duration": 46,
    "start_time": "2021-10-18T07:19:18.838Z"
   },
   {
    "duration": 25,
    "start_time": "2021-10-18T07:19:19.249Z"
   },
   {
    "duration": 4,
    "start_time": "2021-10-18T07:19:19.276Z"
   },
   {
    "duration": 342,
    "start_time": "2021-10-18T07:19:19.293Z"
   },
   {
    "duration": 67,
    "start_time": "2021-10-18T07:19:19.637Z"
   },
   {
    "duration": 3469,
    "start_time": "2021-10-18T07:19:19.706Z"
   },
   {
    "duration": 2537,
    "start_time": "2021-10-18T07:19:23.177Z"
   },
   {
    "duration": 86,
    "start_time": "2021-10-18T07:19:25.716Z"
   },
   {
    "duration": 2,
    "start_time": "2021-10-18T07:19:53.097Z"
   },
   {
    "duration": 23,
    "start_time": "2021-10-18T07:19:53.120Z"
   },
   {
    "duration": 12,
    "start_time": "2021-10-18T07:19:53.145Z"
   },
   {
    "duration": 9,
    "start_time": "2021-10-18T07:19:53.160Z"
   },
   {
    "duration": 46,
    "start_time": "2021-10-18T07:19:53.171Z"
   },
   {
    "duration": 46,
    "start_time": "2021-10-18T07:19:53.219Z"
   },
   {
    "duration": 4,
    "start_time": "2021-10-18T07:19:53.267Z"
   },
   {
    "duration": 362,
    "start_time": "2021-10-18T07:19:53.273Z"
   },
   {
    "duration": 67,
    "start_time": "2021-10-18T07:19:53.638Z"
   },
   {
    "duration": 3483,
    "start_time": "2021-10-18T07:19:53.707Z"
   },
   {
    "duration": 2776,
    "start_time": "2021-10-18T07:19:57.192Z"
   },
   {
    "duration": 83,
    "start_time": "2021-10-18T07:19:59.969Z"
   },
   {
    "duration": 5,
    "start_time": "2021-10-18T07:20:09.558Z"
   },
   {
    "duration": 4,
    "start_time": "2021-10-18T07:20:13.104Z"
   },
   {
    "duration": 26,
    "start_time": "2021-10-18T07:20:13.130Z"
   },
   {
    "duration": 26,
    "start_time": "2021-10-18T07:20:13.158Z"
   },
   {
    "duration": 26,
    "start_time": "2021-10-18T07:20:13.186Z"
   },
   {
    "duration": 57,
    "start_time": "2021-10-18T07:20:13.214Z"
   },
   {
    "duration": 23,
    "start_time": "2021-10-18T07:20:13.273Z"
   },
   {
    "duration": 13,
    "start_time": "2021-10-18T07:20:13.298Z"
   },
   {
    "duration": 379,
    "start_time": "2021-10-18T07:20:13.313Z"
   },
   {
    "duration": 73,
    "start_time": "2021-10-18T07:20:13.695Z"
   },
   {
    "duration": 3492,
    "start_time": "2021-10-18T07:20:13.771Z"
   },
   {
    "duration": 2533,
    "start_time": "2021-10-18T07:20:17.265Z"
   },
   {
    "duration": 97,
    "start_time": "2021-10-18T07:20:19.800Z"
   },
   {
    "duration": 3,
    "start_time": "2021-10-18T07:20:33.039Z"
   },
   {
    "duration": 28,
    "start_time": "2021-10-18T07:20:33.067Z"
   },
   {
    "duration": 24,
    "start_time": "2021-10-18T07:20:33.097Z"
   },
   {
    "duration": 34,
    "start_time": "2021-10-18T07:20:33.123Z"
   },
   {
    "duration": 70,
    "start_time": "2021-10-18T07:20:33.159Z"
   },
   {
    "duration": 26,
    "start_time": "2021-10-18T07:20:33.232Z"
   },
   {
    "duration": 46,
    "start_time": "2021-10-18T07:20:33.260Z"
   },
   {
    "duration": 369,
    "start_time": "2021-10-18T07:20:33.308Z"
   },
   {
    "duration": 66,
    "start_time": "2021-10-18T07:20:33.679Z"
   },
   {
    "duration": 3756,
    "start_time": "2021-10-18T07:20:33.747Z"
   },
   {
    "duration": 2541,
    "start_time": "2021-10-18T07:20:37.505Z"
   },
   {
    "duration": 133,
    "start_time": "2021-10-18T07:20:40.048Z"
   },
   {
    "duration": 704,
    "start_time": "2021-10-18T07:24:08.462Z"
   },
   {
    "duration": 353,
    "start_time": "2021-10-18T07:30:37.919Z"
   },
   {
    "duration": 3335,
    "start_time": "2021-10-18T07:57:41.179Z"
   },
   {
    "duration": 305,
    "start_time": "2021-10-18T08:00:39.156Z"
   },
   {
    "duration": 3248,
    "start_time": "2021-10-18T08:02:03.952Z"
   },
   {
    "duration": 100,
    "start_time": "2021-10-18T08:04:25.492Z"
   },
   {
    "duration": 3091,
    "start_time": "2021-10-18T08:04:50.522Z"
   },
   {
    "duration": 6,
    "start_time": "2021-10-18T08:31:32.615Z"
   },
   {
    "duration": 1433,
    "start_time": "2021-10-18T08:33:03.075Z"
   },
   {
    "duration": 86,
    "start_time": "2021-10-18T14:10:01.796Z"
   },
   {
    "duration": 21,
    "start_time": "2021-10-18T14:10:01.885Z"
   },
   {
    "duration": 40,
    "start_time": "2021-10-18T14:10:01.908Z"
   },
   {
    "duration": 49,
    "start_time": "2021-10-18T14:10:01.951Z"
   },
   {
    "duration": 90,
    "start_time": "2021-10-18T14:10:02.002Z"
   },
   {
    "duration": 22,
    "start_time": "2021-10-18T14:10:02.094Z"
   },
   {
    "duration": 32,
    "start_time": "2021-10-18T14:10:02.118Z"
   },
   {
    "duration": 387,
    "start_time": "2021-10-18T14:10:02.152Z"
   },
   {
    "duration": 3614,
    "start_time": "2021-10-18T14:10:02.541Z"
   },
   {
    "duration": 3389,
    "start_time": "2021-10-18T14:10:06.157Z"
   },
   {
    "duration": 1422,
    "start_time": "2021-10-18T14:10:09.548Z"
   },
   {
    "duration": 7,
    "start_time": "2021-10-18T14:10:10.973Z"
   },
   {
    "duration": 278,
    "start_time": "2021-10-18T14:10:10.981Z"
   },
   {
    "duration": -471,
    "start_time": "2021-10-18T14:10:11.732Z"
   },
   {
    "duration": 343,
    "start_time": "2021-10-18T14:10:49.666Z"
   },
   {
    "duration": 4,
    "start_time": "2021-10-18T14:12:21.918Z"
   },
   {
    "duration": 33,
    "start_time": "2021-10-18T14:12:21.925Z"
   },
   {
    "duration": 18,
    "start_time": "2021-10-18T14:12:21.959Z"
   },
   {
    "duration": 10,
    "start_time": "2021-10-18T14:12:21.980Z"
   },
   {
    "duration": 45,
    "start_time": "2021-10-18T14:12:21.992Z"
   },
   {
    "duration": 30,
    "start_time": "2021-10-18T14:12:22.064Z"
   },
   {
    "duration": 4,
    "start_time": "2021-10-18T14:12:22.097Z"
   },
   {
    "duration": 377,
    "start_time": "2021-10-18T14:12:22.103Z"
   },
   {
    "duration": 3739,
    "start_time": "2021-10-18T14:12:22.482Z"
   },
   {
    "duration": 3412,
    "start_time": "2021-10-18T14:12:26.224Z"
   },
   {
    "duration": 1320,
    "start_time": "2021-10-18T14:12:29.638Z"
   },
   {
    "duration": 6,
    "start_time": "2021-10-18T14:12:30.964Z"
   },
   {
    "duration": 10,
    "start_time": "2021-10-18T14:12:30.974Z"
   },
   {
    "duration": 489,
    "start_time": "2021-10-18T14:12:30.986Z"
   },
   {
    "duration": 33,
    "start_time": "2021-10-18T14:12:42.365Z"
   },
   {
    "duration": 3,
    "start_time": "2021-10-18T14:14:00.320Z"
   },
   {
    "duration": 49,
    "start_time": "2021-10-18T14:14:00.325Z"
   },
   {
    "duration": 23,
    "start_time": "2021-10-18T14:14:00.377Z"
   },
   {
    "duration": 26,
    "start_time": "2021-10-18T14:14:00.402Z"
   },
   {
    "duration": 69,
    "start_time": "2021-10-18T14:14:00.430Z"
   },
   {
    "duration": 23,
    "start_time": "2021-10-18T14:14:00.501Z"
   },
   {
    "duration": 3,
    "start_time": "2021-10-18T14:14:00.526Z"
   },
   {
    "duration": 377,
    "start_time": "2021-10-18T14:14:00.532Z"
   },
   {
    "duration": 3826,
    "start_time": "2021-10-18T14:14:00.912Z"
   },
   {
    "duration": 3281,
    "start_time": "2021-10-18T14:14:04.740Z"
   },
   {
    "duration": 1352,
    "start_time": "2021-10-18T14:14:08.022Z"
   },
   {
    "duration": 6,
    "start_time": "2021-10-18T14:14:09.376Z"
   },
   {
    "duration": 19,
    "start_time": "2021-10-18T14:14:09.383Z"
   },
   {
    "duration": 35,
    "start_time": "2021-10-18T14:14:09.404Z"
   },
   {
    "duration": 26,
    "start_time": "2021-10-18T14:16:29.173Z"
   },
   {
    "duration": 257,
    "start_time": "2021-10-18T16:19:21.644Z"
   },
   {
    "duration": 265,
    "start_time": "2021-10-18T16:20:19.442Z"
   },
   {
    "duration": 6,
    "start_time": "2021-10-18T16:20:56.279Z"
   },
   {
    "duration": 3,
    "start_time": "2021-10-18T16:22:41.231Z"
   },
   {
    "duration": 25,
    "start_time": "2021-10-18T16:22:41.236Z"
   },
   {
    "duration": 14,
    "start_time": "2021-10-18T16:22:41.263Z"
   },
   {
    "duration": 6,
    "start_time": "2021-10-18T16:22:41.279Z"
   },
   {
    "duration": 52,
    "start_time": "2021-10-18T16:22:41.287Z"
   },
   {
    "duration": 45,
    "start_time": "2021-10-18T16:22:41.341Z"
   },
   {
    "duration": 3,
    "start_time": "2021-10-18T16:22:41.389Z"
   },
   {
    "duration": 361,
    "start_time": "2021-10-18T16:22:41.394Z"
   },
   {
    "duration": 3660,
    "start_time": "2021-10-18T16:22:41.757Z"
   },
   {
    "duration": 3175,
    "start_time": "2021-10-18T16:22:45.420Z"
   },
   {
    "duration": 1399,
    "start_time": "2021-10-18T16:22:48.597Z"
   },
   {
    "duration": 5,
    "start_time": "2021-10-18T16:22:49.999Z"
   },
   {
    "duration": 8,
    "start_time": "2021-10-18T16:22:50.005Z"
   },
   {
    "duration": 11,
    "start_time": "2021-10-18T16:22:50.015Z"
   },
   {
    "duration": 297,
    "start_time": "2021-10-18T16:22:50.028Z"
   },
   {
    "duration": -433,
    "start_time": "2021-10-18T16:22:50.760Z"
   },
   {
    "duration": -437,
    "start_time": "2021-10-18T16:22:50.765Z"
   },
   {
    "duration": -439,
    "start_time": "2021-10-18T16:22:50.768Z"
   },
   {
    "duration": -441,
    "start_time": "2021-10-18T16:22:50.771Z"
   },
   {
    "duration": -444,
    "start_time": "2021-10-18T16:22:50.775Z"
   },
   {
    "duration": 238,
    "start_time": "2021-10-18T16:25:41.548Z"
   },
   {
    "duration": 25,
    "start_time": "2021-10-18T16:25:53.191Z"
   },
   {
    "duration": 25,
    "start_time": "2021-10-18T16:25:53.219Z"
   },
   {
    "duration": 12,
    "start_time": "2021-10-18T16:25:53.246Z"
   },
   {
    "duration": 20,
    "start_time": "2021-10-18T16:25:53.260Z"
   },
   {
    "duration": 46,
    "start_time": "2021-10-18T16:25:53.283Z"
   },
   {
    "duration": 34,
    "start_time": "2021-10-18T16:25:53.331Z"
   },
   {
    "duration": 5,
    "start_time": "2021-10-18T16:25:53.367Z"
   },
   {
    "duration": 370,
    "start_time": "2021-10-18T16:25:53.383Z"
   },
   {
    "duration": 3678,
    "start_time": "2021-10-18T16:25:53.763Z"
   },
   {
    "duration": 3285,
    "start_time": "2021-10-18T16:25:57.443Z"
   },
   {
    "duration": 1304,
    "start_time": "2021-10-18T16:26:00.730Z"
   },
   {
    "duration": 4,
    "start_time": "2021-10-18T16:26:02.036Z"
   },
   {
    "duration": 24,
    "start_time": "2021-10-18T16:26:02.042Z"
   },
   {
    "duration": 8,
    "start_time": "2021-10-18T16:26:02.069Z"
   },
   {
    "duration": 9,
    "start_time": "2021-10-18T16:26:02.079Z"
   },
   {
    "duration": 13,
    "start_time": "2021-10-18T16:26:02.090Z"
   },
   {
    "duration": 3,
    "start_time": "2021-10-18T16:26:02.105Z"
   },
   {
    "duration": 94,
    "start_time": "2021-10-18T16:26:02.110Z"
   },
   {
    "duration": -411,
    "start_time": "2021-10-18T16:26:02.617Z"
   },
   {
    "duration": -412,
    "start_time": "2021-10-18T16:26:02.619Z"
   },
   {
    "duration": 322,
    "start_time": "2021-10-18T16:26:25.855Z"
   },
   {
    "duration": 11,
    "start_time": "2021-10-18T16:30:25.479Z"
   },
   {
    "duration": 300,
    "start_time": "2021-10-18T16:34:17.048Z"
   },
   {
    "duration": 5,
    "start_time": "2021-10-18T16:35:25.530Z"
   },
   {
    "duration": 28,
    "start_time": "2021-10-18T16:35:25.537Z"
   },
   {
    "duration": 13,
    "start_time": "2021-10-18T16:35:25.567Z"
   },
   {
    "duration": 12,
    "start_time": "2021-10-18T16:35:25.582Z"
   },
   {
    "duration": 69,
    "start_time": "2021-10-18T16:35:25.596Z"
   },
   {
    "duration": 26,
    "start_time": "2021-10-18T16:35:25.668Z"
   },
   {
    "duration": 3,
    "start_time": "2021-10-18T16:35:25.696Z"
   },
   {
    "duration": 380,
    "start_time": "2021-10-18T16:35:25.702Z"
   },
   {
    "duration": 3767,
    "start_time": "2021-10-18T16:35:26.084Z"
   },
   {
    "duration": 3286,
    "start_time": "2021-10-18T16:35:29.853Z"
   },
   {
    "duration": 1270,
    "start_time": "2021-10-18T16:35:33.141Z"
   },
   {
    "duration": 5,
    "start_time": "2021-10-18T16:35:34.413Z"
   },
   {
    "duration": 18,
    "start_time": "2021-10-18T16:35:34.420Z"
   },
   {
    "duration": 10,
    "start_time": "2021-10-18T16:35:34.440Z"
   },
   {
    "duration": 15,
    "start_time": "2021-10-18T16:35:34.452Z"
   },
   {
    "duration": 20,
    "start_time": "2021-10-18T16:35:34.469Z"
   },
   {
    "duration": 330,
    "start_time": "2021-10-18T16:35:34.490Z"
   },
   {
    "duration": 12,
    "start_time": "2021-10-18T16:35:34.822Z"
   },
   {
    "duration": 13,
    "start_time": "2021-10-18T16:36:23.670Z"
   },
   {
    "duration": 1028,
    "start_time": "2021-10-18T17:02:05.232Z"
   },
   {
    "duration": 11,
    "start_time": "2021-10-18T17:37:04.403Z"
   },
   {
    "duration": 4,
    "start_time": "2021-10-18T17:37:10.894Z"
   },
   {
    "duration": 29,
    "start_time": "2021-10-18T17:37:10.900Z"
   },
   {
    "duration": 11,
    "start_time": "2021-10-18T17:37:10.931Z"
   },
   {
    "duration": 12,
    "start_time": "2021-10-18T17:37:10.944Z"
   },
   {
    "duration": 49,
    "start_time": "2021-10-18T17:37:10.958Z"
   },
   {
    "duration": 24,
    "start_time": "2021-10-18T17:37:11.009Z"
   },
   {
    "duration": 4,
    "start_time": "2021-10-18T17:37:11.035Z"
   },
   {
    "duration": 342,
    "start_time": "2021-10-18T17:37:11.041Z"
   },
   {
    "duration": 3482,
    "start_time": "2021-10-18T17:37:11.385Z"
   },
   {
    "duration": 3123,
    "start_time": "2021-10-18T17:37:14.869Z"
   },
   {
    "duration": 1212,
    "start_time": "2021-10-18T17:37:17.994Z"
   },
   {
    "duration": 4,
    "start_time": "2021-10-18T17:37:19.208Z"
   },
   {
    "duration": 1218,
    "start_time": "2021-10-18T17:37:19.214Z"
   },
   {
    "duration": 5,
    "start_time": "2021-10-18T17:37:20.434Z"
   },
   {
    "duration": 23,
    "start_time": "2021-10-18T17:37:20.440Z"
   },
   {
    "duration": 7,
    "start_time": "2021-10-18T17:37:20.465Z"
   },
   {
    "duration": 11,
    "start_time": "2021-10-18T17:37:20.474Z"
   },
   {
    "duration": 313,
    "start_time": "2021-10-18T17:37:20.487Z"
   },
   {
    "duration": 12,
    "start_time": "2021-10-18T17:37:20.802Z"
   },
   {
    "duration": 19,
    "start_time": "2021-10-18T17:59:17.246Z"
   },
   {
    "duration": 23,
    "start_time": "2021-10-18T17:59:17.266Z"
   },
   {
    "duration": 12,
    "start_time": "2021-10-18T17:59:17.291Z"
   },
   {
    "duration": 9,
    "start_time": "2021-10-18T17:59:17.305Z"
   },
   {
    "duration": 62,
    "start_time": "2021-10-18T17:59:17.316Z"
   },
   {
    "duration": 25,
    "start_time": "2021-10-18T17:59:17.379Z"
   },
   {
    "duration": 3,
    "start_time": "2021-10-18T17:59:17.406Z"
   },
   {
    "duration": 354,
    "start_time": "2021-10-18T17:59:17.412Z"
   },
   {
    "duration": 3694,
    "start_time": "2021-10-18T17:59:17.769Z"
   },
   {
    "duration": 3189,
    "start_time": "2021-10-18T17:59:21.465Z"
   },
   {
    "duration": 1221,
    "start_time": "2021-10-18T17:59:24.656Z"
   },
   {
    "duration": 5,
    "start_time": "2021-10-18T17:59:25.878Z"
   },
   {
    "duration": 1004,
    "start_time": "2021-10-18T17:59:25.885Z"
   },
   {
    "duration": 5,
    "start_time": "2021-10-18T17:59:26.891Z"
   },
   {
    "duration": 12,
    "start_time": "2021-10-18T17:59:26.897Z"
   },
   {
    "duration": 8,
    "start_time": "2021-10-18T17:59:26.911Z"
   },
   {
    "duration": 11,
    "start_time": "2021-10-18T17:59:26.921Z"
   },
   {
    "duration": 320,
    "start_time": "2021-10-18T17:59:26.933Z"
   },
   {
    "duration": 17,
    "start_time": "2021-10-18T17:59:27.255Z"
   },
   {
    "duration": 7,
    "start_time": "2021-10-18T17:59:27.273Z"
   },
   {
    "duration": 253,
    "start_time": "2021-10-18T17:59:27.283Z"
   },
   {
    "duration": 5,
    "start_time": "2021-10-18T18:01:04.571Z"
   },
   {
    "duration": 31,
    "start_time": "2021-10-18T18:01:04.579Z"
   },
   {
    "duration": 18,
    "start_time": "2021-10-18T18:01:04.613Z"
   },
   {
    "duration": 25,
    "start_time": "2021-10-18T18:01:04.633Z"
   },
   {
    "duration": 58,
    "start_time": "2021-10-18T18:01:04.659Z"
   },
   {
    "duration": 25,
    "start_time": "2021-10-18T18:01:04.719Z"
   },
   {
    "duration": 4,
    "start_time": "2021-10-18T18:01:04.746Z"
   },
   {
    "duration": 347,
    "start_time": "2021-10-18T18:01:04.765Z"
   },
   {
    "duration": 3614,
    "start_time": "2021-10-18T18:01:05.114Z"
   },
   {
    "duration": 3292,
    "start_time": "2021-10-18T18:01:08.730Z"
   },
   {
    "duration": 1291,
    "start_time": "2021-10-18T18:01:12.024Z"
   },
   {
    "duration": 6,
    "start_time": "2021-10-18T18:01:13.317Z"
   },
   {
    "duration": 1088,
    "start_time": "2021-10-18T18:01:13.325Z"
   },
   {
    "duration": 6,
    "start_time": "2021-10-18T18:01:14.415Z"
   },
   {
    "duration": 11,
    "start_time": "2021-10-18T18:01:14.423Z"
   },
   {
    "duration": 30,
    "start_time": "2021-10-18T18:01:14.436Z"
   },
   {
    "duration": 12,
    "start_time": "2021-10-18T18:01:14.468Z"
   },
   {
    "duration": 344,
    "start_time": "2021-10-18T18:01:14.482Z"
   },
   {
    "duration": 14,
    "start_time": "2021-10-18T18:01:14.828Z"
   },
   {
    "duration": 25,
    "start_time": "2021-10-18T18:01:14.843Z"
   },
   {
    "duration": 856,
    "start_time": "2021-10-18T18:01:14.870Z"
   },
   {
    "duration": 603,
    "start_time": "2021-10-18T18:01:38.323Z"
   },
   {
    "duration": 83223,
    "start_time": "2021-10-18T18:02:24.026Z"
   },
   {
    "duration": 7,
    "start_time": "2021-10-18T18:07:47.070Z"
   },
   {
    "duration": 574,
    "start_time": "2021-10-18T18:07:51.339Z"
   },
   {
    "duration": 82247,
    "start_time": "2021-10-18T18:07:55.940Z"
   },
   {
    "duration": 263,
    "start_time": "2021-10-18T18:15:51.844Z"
   },
   {
    "duration": 1062,
    "start_time": "2021-10-18T18:16:52.423Z"
   },
   {
    "duration": 993,
    "start_time": "2021-10-18T18:21:24.881Z"
   },
   {
    "duration": 1385,
    "start_time": "2021-10-18T18:22:47.783Z"
   },
   {
    "duration": 1160,
    "start_time": "2021-10-18T18:23:21.720Z"
   },
   {
    "duration": 1453,
    "start_time": "2021-10-18T18:24:24.111Z"
   },
   {
    "duration": 1245,
    "start_time": "2021-10-19T10:51:34.345Z"
   },
   {
    "duration": 23,
    "start_time": "2021-10-19T10:51:35.592Z"
   },
   {
    "duration": 26,
    "start_time": "2021-10-19T10:51:35.617Z"
   },
   {
    "duration": 11,
    "start_time": "2021-10-19T10:51:35.645Z"
   },
   {
    "duration": 54,
    "start_time": "2021-10-19T10:51:35.658Z"
   },
   {
    "duration": 23,
    "start_time": "2021-10-19T10:51:35.714Z"
   },
   {
    "duration": 28,
    "start_time": "2021-10-19T10:51:35.739Z"
   },
   {
    "duration": 344,
    "start_time": "2021-10-19T10:51:35.771Z"
   },
   {
    "duration": -41,
    "start_time": "2021-10-19T10:51:36.158Z"
   },
   {
    "duration": -55,
    "start_time": "2021-10-19T10:51:36.173Z"
   },
   {
    "duration": -83,
    "start_time": "2021-10-19T10:51:36.203Z"
   },
   {
    "duration": -101,
    "start_time": "2021-10-19T10:51:36.222Z"
   },
   {
    "duration": -126,
    "start_time": "2021-10-19T10:51:36.249Z"
   },
   {
    "duration": -193,
    "start_time": "2021-10-19T10:51:36.318Z"
   },
   {
    "duration": -214,
    "start_time": "2021-10-19T10:51:36.340Z"
   },
   {
    "duration": -217,
    "start_time": "2021-10-19T10:51:36.344Z"
   },
   {
    "duration": -240,
    "start_time": "2021-10-19T10:51:36.369Z"
   },
   {
    "duration": -255,
    "start_time": "2021-10-19T10:51:36.385Z"
   },
   {
    "duration": -272,
    "start_time": "2021-10-19T10:51:36.404Z"
   },
   {
    "duration": -294,
    "start_time": "2021-10-19T10:51:36.427Z"
   },
   {
    "duration": -319,
    "start_time": "2021-10-19T10:51:36.454Z"
   },
   {
    "duration": -353,
    "start_time": "2021-10-19T10:51:36.489Z"
   },
   {
    "duration": -377,
    "start_time": "2021-10-19T10:51:36.514Z"
   },
   {
    "duration": -402,
    "start_time": "2021-10-19T10:51:36.541Z"
   },
   {
    "duration": 363,
    "start_time": "2021-10-19T10:54:44.627Z"
   },
   {
    "duration": 3342,
    "start_time": "2021-10-19T10:54:44.992Z"
   },
   {
    "duration": 3290,
    "start_time": "2021-10-19T10:54:48.336Z"
   },
   {
    "duration": 1298,
    "start_time": "2021-10-19T10:54:51.628Z"
   },
   {
    "duration": 5,
    "start_time": "2021-10-19T10:54:52.929Z"
   },
   {
    "duration": 1074,
    "start_time": "2021-10-19T10:54:52.936Z"
   },
   {
    "duration": 5,
    "start_time": "2021-10-19T10:54:54.013Z"
   },
   {
    "duration": 7,
    "start_time": "2021-10-19T10:54:54.021Z"
   },
   {
    "duration": 10,
    "start_time": "2021-10-19T10:54:54.031Z"
   },
   {
    "duration": 11,
    "start_time": "2021-10-19T10:54:54.063Z"
   },
   {
    "duration": 321,
    "start_time": "2021-10-19T10:54:54.076Z"
   },
   {
    "duration": 13,
    "start_time": "2021-10-19T10:54:54.399Z"
   },
   {
    "duration": 6,
    "start_time": "2021-10-19T10:54:54.413Z"
   },
   {
    "duration": 598,
    "start_time": "2021-10-19T10:54:54.421Z"
   },
   {
    "duration": -36,
    "start_time": "2021-10-19T10:56:17.254Z"
   },
   {
    "duration": -55,
    "start_time": "2021-10-19T10:56:17.274Z"
   },
   {
    "duration": -77,
    "start_time": "2021-10-19T10:56:17.297Z"
   },
   {
    "duration": -96,
    "start_time": "2021-10-19T10:56:17.316Z"
   },
   {
    "duration": -114,
    "start_time": "2021-10-19T10:56:17.335Z"
   },
   {
    "duration": -148,
    "start_time": "2021-10-19T10:56:17.370Z"
   },
   {
    "duration": -167,
    "start_time": "2021-10-19T10:56:17.390Z"
   },
   {
    "duration": -185,
    "start_time": "2021-10-19T10:56:17.409Z"
   },
   {
    "duration": -213,
    "start_time": "2021-10-19T10:56:17.438Z"
   },
   {
    "duration": -233,
    "start_time": "2021-10-19T10:56:17.459Z"
   },
   {
    "duration": -259,
    "start_time": "2021-10-19T10:56:17.486Z"
   },
   {
    "duration": -286,
    "start_time": "2021-10-19T10:56:17.514Z"
   },
   {
    "duration": -307,
    "start_time": "2021-10-19T10:56:17.536Z"
   },
   {
    "duration": -340,
    "start_time": "2021-10-19T10:56:17.570Z"
   },
   {
    "duration": -362,
    "start_time": "2021-10-19T10:56:17.593Z"
   },
   {
    "duration": -381,
    "start_time": "2021-10-19T10:56:17.613Z"
   },
   {
    "duration": -401,
    "start_time": "2021-10-19T10:56:17.634Z"
   },
   {
    "duration": -425,
    "start_time": "2021-10-19T10:56:17.658Z"
   },
   {
    "duration": -448,
    "start_time": "2021-10-19T10:56:17.683Z"
   },
   {
    "duration": -469,
    "start_time": "2021-10-19T10:56:17.704Z"
   },
   {
    "duration": -495,
    "start_time": "2021-10-19T10:56:17.731Z"
   },
   {
    "duration": -513,
    "start_time": "2021-10-19T10:56:17.750Z"
   },
   {
    "duration": -534,
    "start_time": "2021-10-19T10:56:17.772Z"
   },
   {
    "duration": -554,
    "start_time": "2021-10-19T10:56:17.793Z"
   },
   {
    "duration": 4,
    "start_time": "2021-10-19T10:56:44.849Z"
   },
   {
    "duration": 23,
    "start_time": "2021-10-19T10:56:44.871Z"
   },
   {
    "duration": 11,
    "start_time": "2021-10-19T10:56:44.896Z"
   },
   {
    "duration": 9,
    "start_time": "2021-10-19T10:56:44.909Z"
   },
   {
    "duration": 51,
    "start_time": "2021-10-19T10:56:44.920Z"
   },
   {
    "duration": 25,
    "start_time": "2021-10-19T10:56:44.972Z"
   },
   {
    "duration": 3,
    "start_time": "2021-10-19T10:56:44.999Z"
   },
   {
    "duration": 373,
    "start_time": "2021-10-19T10:56:45.004Z"
   },
   {
    "duration": 3505,
    "start_time": "2021-10-19T10:56:45.380Z"
   },
   {
    "duration": 4242,
    "start_time": "2021-10-19T10:56:48.887Z"
   },
   {
    "duration": 1390,
    "start_time": "2021-10-19T10:56:53.132Z"
   },
   {
    "duration": 4,
    "start_time": "2021-10-19T10:56:54.525Z"
   },
   {
    "duration": 1036,
    "start_time": "2021-10-19T10:56:54.531Z"
   },
   {
    "duration": 4,
    "start_time": "2021-10-19T10:56:55.569Z"
   },
   {
    "duration": 9,
    "start_time": "2021-10-19T10:56:55.575Z"
   },
   {
    "duration": 6,
    "start_time": "2021-10-19T10:56:55.586Z"
   },
   {
    "duration": 10,
    "start_time": "2021-10-19T10:56:55.594Z"
   },
   {
    "duration": 326,
    "start_time": "2021-10-19T10:56:55.606Z"
   },
   {
    "duration": 13,
    "start_time": "2021-10-19T10:56:55.934Z"
   },
   {
    "duration": 19,
    "start_time": "2021-10-19T10:56:55.948Z"
   },
   {
    "duration": 577,
    "start_time": "2021-10-19T10:56:55.968Z"
   },
   {
    "duration": 80338,
    "start_time": "2021-10-19T10:56:56.547Z"
   },
   {
    "duration": 1183,
    "start_time": "2021-10-19T10:58:16.887Z"
   },
   {
    "duration": 256,
    "start_time": "2021-10-19T10:58:18.072Z"
   },
   {
    "duration": 4,
    "start_time": "2021-10-19T10:59:31.930Z"
   },
   {
    "duration": 339,
    "start_time": "2021-10-19T10:59:38.022Z"
   },
   {
    "duration": 42,
    "start_time": "2021-10-19T11:00:50.276Z"
   },
   {
    "duration": 25,
    "start_time": "2021-10-19T11:06:22.139Z"
   },
   {
    "duration": 300,
    "start_time": "2021-10-19T11:14:45.680Z"
   },
   {
    "duration": 26,
    "start_time": "2021-10-19T11:15:42.661Z"
   },
   {
    "duration": 1387,
    "start_time": "2021-10-19T14:20:24.957Z"
   },
   {
    "duration": 28,
    "start_time": "2021-10-19T14:20:26.346Z"
   },
   {
    "duration": 17,
    "start_time": "2021-10-19T14:20:26.377Z"
   },
   {
    "duration": 7,
    "start_time": "2021-10-19T14:20:26.396Z"
   },
   {
    "duration": 75,
    "start_time": "2021-10-19T14:20:26.404Z"
   },
   {
    "duration": 26,
    "start_time": "2021-10-19T14:20:26.481Z"
   },
   {
    "duration": 5,
    "start_time": "2021-10-19T14:20:26.509Z"
   },
   {
    "duration": 391,
    "start_time": "2021-10-19T14:20:26.516Z"
   },
   {
    "duration": 3779,
    "start_time": "2021-10-19T14:20:26.909Z"
   },
   {
    "duration": 3459,
    "start_time": "2021-10-19T14:20:30.690Z"
   },
   {
    "duration": 1331,
    "start_time": "2021-10-19T14:20:34.151Z"
   },
   {
    "duration": 4,
    "start_time": "2021-10-19T14:20:35.484Z"
   },
   {
    "duration": 1078,
    "start_time": "2021-10-19T14:20:35.490Z"
   },
   {
    "duration": 7,
    "start_time": "2021-10-19T14:20:36.570Z"
   },
   {
    "duration": 8,
    "start_time": "2021-10-19T14:20:36.579Z"
   },
   {
    "duration": 6,
    "start_time": "2021-10-19T14:20:36.589Z"
   },
   {
    "duration": 10,
    "start_time": "2021-10-19T14:20:36.597Z"
   },
   {
    "duration": 350,
    "start_time": "2021-10-19T14:20:36.609Z"
   },
   {
    "duration": 17,
    "start_time": "2021-10-19T14:20:36.963Z"
   },
   {
    "duration": 7,
    "start_time": "2021-10-19T14:20:36.982Z"
   },
   {
    "duration": 618,
    "start_time": "2021-10-19T14:20:36.991Z"
   },
   {
    "duration": 88247,
    "start_time": "2021-10-19T14:20:37.611Z"
   },
   {
    "duration": 1105,
    "start_time": "2021-10-19T14:22:05.868Z"
   },
   {
    "duration": 111,
    "start_time": "2021-10-19T14:22:06.983Z"
   },
   {
    "duration": 87,
    "start_time": "2021-10-19T14:22:07.096Z"
   },
   {
    "duration": 1725,
    "start_time": "2021-10-19T14:22:49.145Z"
   },
   {
    "duration": 1679,
    "start_time": "2021-10-19T14:24:01.559Z"
   },
   {
    "duration": 1742,
    "start_time": "2021-10-19T14:24:38.663Z"
   },
   {
    "duration": 19,
    "start_time": "2021-10-19T14:30:31.939Z"
   },
   {
    "duration": 6790,
    "start_time": "2021-10-19T14:34:40.727Z"
   },
   {
    "duration": 260,
    "start_time": "2021-10-19T14:36:17.273Z"
   },
   {
    "duration": 255,
    "start_time": "2021-10-19T14:36:32.465Z"
   },
   {
    "duration": 6648,
    "start_time": "2021-10-19T14:37:05.938Z"
   },
   {
    "duration": 6712,
    "start_time": "2021-10-19T14:37:43.593Z"
   },
   {
    "duration": 360,
    "start_time": "2021-10-19T14:55:45.813Z"
   },
   {
    "duration": 578,
    "start_time": "2021-10-19T14:57:18.949Z"
   },
   {
    "duration": 408,
    "start_time": "2021-10-19T14:57:39.349Z"
   },
   {
    "duration": 461,
    "start_time": "2021-10-19T14:58:16.284Z"
   },
   {
    "duration": 323,
    "start_time": "2021-10-19T14:59:09.573Z"
   },
   {
    "duration": 303,
    "start_time": "2021-10-19T14:59:49.845Z"
   },
   {
    "duration": 314,
    "start_time": "2021-10-19T15:00:36.229Z"
   },
   {
    "duration": 832,
    "start_time": "2021-10-19T15:01:31.325Z"
   },
   {
    "duration": 677,
    "start_time": "2021-10-19T15:01:59.622Z"
   },
   {
    "duration": 690,
    "start_time": "2021-10-19T15:02:30.150Z"
   },
   {
    "duration": 1899,
    "start_time": "2021-10-19T15:04:31.406Z"
   },
   {
    "duration": 592,
    "start_time": "2021-10-19T15:07:32.543Z"
   },
   {
    "duration": 115,
    "start_time": "2021-10-19T15:08:31.809Z"
   },
   {
    "duration": 887,
    "start_time": "2021-10-19T15:08:43.127Z"
   },
   {
    "duration": 1790,
    "start_time": "2021-10-19T15:10:24.758Z"
   },
   {
    "duration": 303,
    "start_time": "2021-10-19T15:16:40.695Z"
   },
   {
    "duration": 1856,
    "start_time": "2021-10-19T15:17:05.641Z"
   },
   {
    "duration": 254,
    "start_time": "2021-10-19T15:23:06.082Z"
   },
   {
    "duration": 6754,
    "start_time": "2021-10-19T17:36:45.007Z"
   },
   {
    "duration": 7197,
    "start_time": "2021-10-19T17:38:14.646Z"
   },
   {
    "duration": 272,
    "start_time": "2021-10-19T17:42:14.254Z"
   },
   {
    "duration": 6697,
    "start_time": "2021-10-19T17:43:07.833Z"
   },
   {
    "duration": 6396,
    "start_time": "2021-10-19T17:44:25.910Z"
   },
   {
    "duration": 6868,
    "start_time": "2021-10-19T17:47:32.371Z"
   },
   {
    "duration": 324,
    "start_time": "2021-10-19T17:48:00.921Z"
   },
   {
    "duration": 1089,
    "start_time": "2021-10-19T17:48:43.040Z"
   },
   {
    "duration": 516,
    "start_time": "2021-10-19T17:48:57.769Z"
   },
   {
    "duration": 267,
    "start_time": "2021-10-19T17:50:41.147Z"
   },
   {
    "duration": 6636,
    "start_time": "2021-10-19T17:51:03.337Z"
   },
   {
    "duration": 248,
    "start_time": "2021-10-19T17:55:44.738Z"
   },
   {
    "duration": 292,
    "start_time": "2021-10-19T17:56:08.008Z"
   },
   {
    "duration": 257,
    "start_time": "2021-10-19T17:56:38.836Z"
   },
   {
    "duration": 262,
    "start_time": "2021-10-19T17:57:19.937Z"
   },
   {
    "duration": 299,
    "start_time": "2021-10-19T17:57:29.121Z"
   },
   {
    "duration": 312,
    "start_time": "2021-10-19T17:58:59.777Z"
   },
   {
    "duration": 256,
    "start_time": "2021-10-19T18:00:11.850Z"
   },
   {
    "duration": 6605,
    "start_time": "2021-10-19T18:01:16.018Z"
   },
   {
    "duration": 85,
    "start_time": "2021-10-19T18:01:52.946Z"
   },
   {
    "duration": 18,
    "start_time": "2021-10-19T18:02:08.007Z"
   },
   {
    "duration": 192,
    "start_time": "2021-10-19T18:03:14.535Z"
   },
   {
    "duration": 205,
    "start_time": "2021-10-19T18:06:38.243Z"
   },
   {
    "duration": 349,
    "start_time": "2021-10-19T18:09:01.316Z"
   },
   {
    "duration": 189,
    "start_time": "2021-10-19T18:09:41.910Z"
   },
   {
    "duration": 197,
    "start_time": "2021-10-19T18:10:10.005Z"
   },
   {
    "duration": 238,
    "start_time": "2021-10-19T18:12:11.812Z"
   },
   {
    "duration": 236,
    "start_time": "2021-10-19T18:13:17.501Z"
   },
   {
    "duration": 257,
    "start_time": "2021-10-19T18:14:30.226Z"
   },
   {
    "duration": 283,
    "start_time": "2021-10-19T18:15:51.109Z"
   },
   {
    "duration": 280,
    "start_time": "2021-10-19T18:18:43.713Z"
   },
   {
    "duration": 278,
    "start_time": "2021-10-19T18:19:12.109Z"
   },
   {
    "duration": 268,
    "start_time": "2021-10-19T18:20:57.734Z"
   },
   {
    "duration": 284,
    "start_time": "2021-10-19T18:30:05.330Z"
   },
   {
    "duration": 1358,
    "start_time": "2021-10-20T05:48:04.680Z"
   },
   {
    "duration": 23,
    "start_time": "2021-10-20T05:48:06.040Z"
   },
   {
    "duration": 15,
    "start_time": "2021-10-20T05:48:06.065Z"
   },
   {
    "duration": 8,
    "start_time": "2021-10-20T05:48:06.082Z"
   },
   {
    "duration": 49,
    "start_time": "2021-10-20T05:48:06.091Z"
   },
   {
    "duration": 45,
    "start_time": "2021-10-20T05:48:06.141Z"
   },
   {
    "duration": 5,
    "start_time": "2021-10-20T05:48:06.188Z"
   },
   {
    "duration": 357,
    "start_time": "2021-10-20T05:48:06.195Z"
   },
   {
    "duration": 3416,
    "start_time": "2021-10-20T05:48:06.554Z"
   },
   {
    "duration": 3209,
    "start_time": "2021-10-20T05:48:09.973Z"
   },
   {
    "duration": 1198,
    "start_time": "2021-10-20T05:48:13.184Z"
   },
   {
    "duration": 4,
    "start_time": "2021-10-20T05:48:14.384Z"
   },
   {
    "duration": 1037,
    "start_time": "2021-10-20T05:48:14.389Z"
   },
   {
    "duration": 4,
    "start_time": "2021-10-20T05:48:15.428Z"
   },
   {
    "duration": 10,
    "start_time": "2021-10-20T05:48:15.434Z"
   },
   {
    "duration": 22,
    "start_time": "2021-10-20T05:48:15.446Z"
   },
   {
    "duration": 11,
    "start_time": "2021-10-20T05:48:15.469Z"
   },
   {
    "duration": 321,
    "start_time": "2021-10-20T05:48:15.481Z"
   },
   {
    "duration": 12,
    "start_time": "2021-10-20T05:48:15.804Z"
   },
   {
    "duration": 6,
    "start_time": "2021-10-20T05:48:15.817Z"
   },
   {
    "duration": 609,
    "start_time": "2021-10-20T05:48:15.825Z"
   },
   {
    "duration": 80049,
    "start_time": "2021-10-20T05:48:16.436Z"
   },
   {
    "duration": 1480,
    "start_time": "2021-10-20T05:49:36.488Z"
   },
   {
    "duration": 28,
    "start_time": "2021-10-20T05:49:37.970Z"
   },
   {
    "duration": 14,
    "start_time": "2021-10-20T05:49:38.000Z"
   },
   {
    "duration": 304,
    "start_time": "2021-10-20T05:49:38.016Z"
   },
   {
    "duration": 341,
    "start_time": "2021-10-20T05:59:41.503Z"
   },
   {
    "duration": 604,
    "start_time": "2021-10-20T06:00:06.171Z"
   },
   {
    "duration": 339,
    "start_time": "2021-10-20T06:00:48.586Z"
   },
   {
    "duration": 1127,
    "start_time": "2021-10-20T06:01:18.944Z"
   },
   {
    "duration": 898,
    "start_time": "2021-10-20T06:05:02.575Z"
   },
   {
    "duration": 28,
    "start_time": "2021-10-20T06:05:13.757Z"
   },
   {
    "duration": 1288,
    "start_time": "2021-10-20T06:06:01.878Z"
   },
   {
    "duration": 27,
    "start_time": "2021-10-20T06:06:14.613Z"
   },
   {
    "duration": 1004,
    "start_time": "2021-10-20T06:06:27.468Z"
   },
   {
    "duration": 28,
    "start_time": "2021-10-20T06:06:32.213Z"
   },
   {
    "duration": 4,
    "start_time": "2021-10-20T06:07:47.302Z"
   },
   {
    "duration": 23,
    "start_time": "2021-10-20T06:07:47.324Z"
   },
   {
    "duration": 15,
    "start_time": "2021-10-20T06:07:47.350Z"
   },
   {
    "duration": 10,
    "start_time": "2021-10-20T06:07:47.367Z"
   },
   {
    "duration": 85,
    "start_time": "2021-10-20T06:07:47.380Z"
   },
   {
    "duration": 39,
    "start_time": "2021-10-20T06:07:47.467Z"
   },
   {
    "duration": 5,
    "start_time": "2021-10-20T06:07:47.508Z"
   },
   {
    "duration": 373,
    "start_time": "2021-10-20T06:07:47.516Z"
   },
   {
    "duration": 3769,
    "start_time": "2021-10-20T06:07:47.891Z"
   },
   {
    "duration": 3164,
    "start_time": "2021-10-20T06:07:51.663Z"
   },
   {
    "duration": 1268,
    "start_time": "2021-10-20T06:07:54.829Z"
   },
   {
    "duration": 4,
    "start_time": "2021-10-20T06:07:56.099Z"
   },
   {
    "duration": 1039,
    "start_time": "2021-10-20T06:07:56.105Z"
   },
   {
    "duration": 4,
    "start_time": "2021-10-20T06:07:57.146Z"
   },
   {
    "duration": 15,
    "start_time": "2021-10-20T06:07:57.153Z"
   },
   {
    "duration": 9,
    "start_time": "2021-10-20T06:07:57.171Z"
   },
   {
    "duration": 15,
    "start_time": "2021-10-20T06:07:57.182Z"
   },
   {
    "duration": 493,
    "start_time": "2021-10-20T06:07:57.199Z"
   },
   {
    "duration": 17,
    "start_time": "2021-10-20T06:07:57.696Z"
   },
   {
    "duration": 8,
    "start_time": "2021-10-20T06:07:57.715Z"
   },
   {
    "duration": 769,
    "start_time": "2021-10-20T06:07:57.725Z"
   },
   {
    "duration": 86954,
    "start_time": "2021-10-20T06:07:58.497Z"
   },
   {
    "duration": 1712,
    "start_time": "2021-10-20T06:09:25.454Z"
   },
   {
    "duration": 28,
    "start_time": "2021-10-20T06:09:27.168Z"
   },
   {
    "duration": 15,
    "start_time": "2021-10-20T06:09:27.198Z"
   },
   {
    "duration": 315,
    "start_time": "2021-10-20T06:09:27.214Z"
   },
   {
    "duration": 4,
    "start_time": "2021-10-20T06:13:42.136Z"
   },
   {
    "duration": 22,
    "start_time": "2021-10-20T06:13:42.158Z"
   },
   {
    "duration": 12,
    "start_time": "2021-10-20T06:13:42.182Z"
   },
   {
    "duration": 8,
    "start_time": "2021-10-20T06:13:42.197Z"
   },
   {
    "duration": 58,
    "start_time": "2021-10-20T06:13:42.208Z"
   },
   {
    "duration": 26,
    "start_time": "2021-10-20T06:13:42.268Z"
   },
   {
    "duration": 4,
    "start_time": "2021-10-20T06:13:42.296Z"
   },
   {
    "duration": 373,
    "start_time": "2021-10-20T06:13:42.303Z"
   },
   {
    "duration": 4101,
    "start_time": "2021-10-20T06:13:42.678Z"
   },
   {
    "duration": 3252,
    "start_time": "2021-10-20T06:13:46.781Z"
   },
   {
    "duration": 1447,
    "start_time": "2021-10-20T06:13:50.035Z"
   },
   {
    "duration": 4,
    "start_time": "2021-10-20T06:13:51.484Z"
   },
   {
    "duration": 1048,
    "start_time": "2021-10-20T06:13:51.490Z"
   },
   {
    "duration": 5,
    "start_time": "2021-10-20T06:13:52.540Z"
   },
   {
    "duration": 22,
    "start_time": "2021-10-20T06:13:52.547Z"
   },
   {
    "duration": 11,
    "start_time": "2021-10-20T06:13:52.571Z"
   },
   {
    "duration": 12,
    "start_time": "2021-10-20T06:13:52.584Z"
   },
   {
    "duration": 333,
    "start_time": "2021-10-20T06:13:52.598Z"
   },
   {
    "duration": 14,
    "start_time": "2021-10-20T06:13:52.933Z"
   },
   {
    "duration": 21,
    "start_time": "2021-10-20T06:13:52.949Z"
   },
   {
    "duration": 620,
    "start_time": "2021-10-20T06:13:52.972Z"
   },
   {
    "duration": 89583,
    "start_time": "2021-10-20T06:13:53.594Z"
   },
   {
    "duration": 1385,
    "start_time": "2021-10-20T06:15:23.179Z"
   },
   {
    "duration": 31,
    "start_time": "2021-10-20T06:15:24.565Z"
   },
   {
    "duration": 15,
    "start_time": "2021-10-20T06:15:24.598Z"
   },
   {
    "duration": 327,
    "start_time": "2021-10-20T06:15:24.615Z"
   },
   {
    "duration": 4,
    "start_time": "2021-10-20T06:15:52.021Z"
   },
   {
    "duration": 25,
    "start_time": "2021-10-20T06:15:52.042Z"
   },
   {
    "duration": 41,
    "start_time": "2021-10-20T06:15:52.069Z"
   },
   {
    "duration": 37,
    "start_time": "2021-10-20T06:15:52.112Z"
   },
   {
    "duration": 67,
    "start_time": "2021-10-20T06:15:52.151Z"
   },
   {
    "duration": 25,
    "start_time": "2021-10-20T06:15:52.220Z"
   },
   {
    "duration": 17,
    "start_time": "2021-10-20T06:15:52.247Z"
   },
   {
    "duration": 561,
    "start_time": "2021-10-20T06:15:52.266Z"
   },
   {
    "duration": 5054,
    "start_time": "2021-10-20T06:15:52.830Z"
   },
   {
    "duration": 3363,
    "start_time": "2021-10-20T06:15:57.887Z"
   },
   {
    "duration": 1510,
    "start_time": "2021-10-20T06:16:01.253Z"
   },
   {
    "duration": 5,
    "start_time": "2021-10-20T06:16:02.765Z"
   },
   {
    "duration": 1151,
    "start_time": "2021-10-20T06:16:02.773Z"
   },
   {
    "duration": 5,
    "start_time": "2021-10-20T06:16:03.927Z"
   },
   {
    "duration": 33,
    "start_time": "2021-10-20T06:16:03.935Z"
   },
   {
    "duration": 41,
    "start_time": "2021-10-20T06:16:03.970Z"
   },
   {
    "duration": 23,
    "start_time": "2021-10-20T06:16:04.013Z"
   },
   {
    "duration": 320,
    "start_time": "2021-10-20T06:16:04.038Z"
   },
   {
    "duration": 14,
    "start_time": "2021-10-20T06:16:04.359Z"
   },
   {
    "duration": 25,
    "start_time": "2021-10-20T06:16:04.375Z"
   },
   {
    "duration": 646,
    "start_time": "2021-10-20T06:16:04.402Z"
   },
   {
    "duration": 87650,
    "start_time": "2021-10-20T06:16:05.050Z"
   },
   {
    "duration": 1161,
    "start_time": "2021-10-20T06:17:32.703Z"
   },
   {
    "duration": 29,
    "start_time": "2021-10-20T06:17:33.866Z"
   },
   {
    "duration": 12,
    "start_time": "2021-10-20T06:17:33.897Z"
   },
   {
    "duration": 303,
    "start_time": "2021-10-20T06:17:33.911Z"
   },
   {
    "duration": 278,
    "start_time": "2021-10-20T07:15:47.910Z"
   },
   {
    "duration": 298,
    "start_time": "2021-10-20T07:16:33.221Z"
   },
   {
    "duration": 276,
    "start_time": "2021-10-20T07:23:06.282Z"
   },
   {
    "duration": 286,
    "start_time": "2021-10-20T07:29:39.563Z"
   },
   {
    "duration": 287,
    "start_time": "2021-10-20T07:41:09.009Z"
   },
   {
    "duration": 82,
    "start_time": "2021-10-20T09:02:17.786Z"
   },
   {
    "duration": 301,
    "start_time": "2021-10-20T09:03:30.721Z"
   },
   {
    "duration": 279,
    "start_time": "2021-10-20T09:06:19.816Z"
   },
   {
    "duration": 3,
    "start_time": "2021-10-20T09:10:12.510Z"
   },
   {
    "duration": 25,
    "start_time": "2021-10-20T09:10:12.536Z"
   },
   {
    "duration": 19,
    "start_time": "2021-10-20T09:10:12.563Z"
   },
   {
    "duration": 27,
    "start_time": "2021-10-20T09:10:12.585Z"
   },
   {
    "duration": 64,
    "start_time": "2021-10-20T09:10:12.615Z"
   },
   {
    "duration": 26,
    "start_time": "2021-10-20T09:10:12.681Z"
   },
   {
    "duration": 4,
    "start_time": "2021-10-20T09:10:12.709Z"
   },
   {
    "duration": 387,
    "start_time": "2021-10-20T09:10:12.715Z"
   },
   {
    "duration": 3976,
    "start_time": "2021-10-20T09:10:13.104Z"
   },
   {
    "duration": 3421,
    "start_time": "2021-10-20T09:10:17.082Z"
   },
   {
    "duration": 1286,
    "start_time": "2021-10-20T09:10:20.505Z"
   },
   {
    "duration": 6,
    "start_time": "2021-10-20T09:10:21.793Z"
   },
   {
    "duration": 1139,
    "start_time": "2021-10-20T09:10:21.802Z"
   },
   {
    "duration": 5,
    "start_time": "2021-10-20T09:10:22.943Z"
   },
   {
    "duration": 41,
    "start_time": "2021-10-20T09:10:22.949Z"
   },
   {
    "duration": 35,
    "start_time": "2021-10-20T09:10:22.992Z"
   },
   {
    "duration": 31,
    "start_time": "2021-10-20T09:10:23.029Z"
   },
   {
    "duration": 351,
    "start_time": "2021-10-20T09:10:23.064Z"
   },
   {
    "duration": 14,
    "start_time": "2021-10-20T09:10:23.418Z"
   },
   {
    "duration": 45,
    "start_time": "2021-10-20T09:10:23.434Z"
   },
   {
    "duration": 654,
    "start_time": "2021-10-20T09:10:23.481Z"
   },
   {
    "duration": 86945,
    "start_time": "2021-10-20T09:10:24.136Z"
   },
   {
    "duration": 1383,
    "start_time": "2021-10-20T09:11:51.083Z"
   },
   {
    "duration": 28,
    "start_time": "2021-10-20T09:11:52.468Z"
   },
   {
    "duration": 13,
    "start_time": "2021-10-20T09:11:52.498Z"
   },
   {
    "duration": 409,
    "start_time": "2021-10-20T09:11:52.513Z"
   },
   {
    "duration": 287,
    "start_time": "2021-10-20T09:11:52.924Z"
   },
   {
    "duration": 295,
    "start_time": "2021-10-20T09:11:53.213Z"
   },
   {
    "duration": 303,
    "start_time": "2021-10-20T09:11:53.511Z"
   },
   {
    "duration": 310,
    "start_time": "2021-10-20T09:11:53.817Z"
   },
   {
    "duration": 246,
    "start_time": "2021-10-20T09:31:00.831Z"
   },
   {
    "duration": 256,
    "start_time": "2021-10-20T09:32:36.405Z"
   },
   {
    "duration": 250,
    "start_time": "2021-10-20T09:33:01.312Z"
   },
   {
    "duration": 261,
    "start_time": "2021-10-20T09:37:21.519Z"
   },
   {
    "duration": 9,
    "start_time": "2021-10-20T09:37:40.718Z"
   },
   {
    "duration": 6,
    "start_time": "2021-10-20T09:39:20.369Z"
   },
   {
    "duration": 6,
    "start_time": "2021-10-20T09:40:17.303Z"
   },
   {
    "duration": 7,
    "start_time": "2021-10-20T10:07:51.084Z"
   },
   {
    "duration": 7151,
    "start_time": "2021-10-20T10:12:33.461Z"
   },
   {
    "duration": 10,
    "start_time": "2021-10-20T10:12:56.613Z"
   },
   {
    "duration": 11,
    "start_time": "2021-10-20T10:13:35.515Z"
   },
   {
    "duration": 342,
    "start_time": "2021-10-20T11:39:32.621Z"
   },
   {
    "duration": 1616,
    "start_time": "2021-10-20T13:32:47.191Z"
   },
   {
    "duration": 27,
    "start_time": "2021-10-20T13:32:48.809Z"
   },
   {
    "duration": 21,
    "start_time": "2021-10-20T13:32:48.840Z"
   },
   {
    "duration": 14,
    "start_time": "2021-10-20T13:32:48.864Z"
   },
   {
    "duration": 96,
    "start_time": "2021-10-20T13:32:48.880Z"
   },
   {
    "duration": 53,
    "start_time": "2021-10-20T13:32:48.978Z"
   },
   {
    "duration": 8,
    "start_time": "2021-10-20T13:32:49.034Z"
   },
   {
    "duration": 589,
    "start_time": "2021-10-20T13:32:49.048Z"
   },
   {
    "duration": 5507,
    "start_time": "2021-10-20T13:32:49.640Z"
   },
   {
    "duration": 5103,
    "start_time": "2021-10-20T13:32:55.149Z"
   },
   {
    "duration": 1915,
    "start_time": "2021-10-20T13:33:00.255Z"
   },
   {
    "duration": 6,
    "start_time": "2021-10-20T13:33:02.173Z"
   },
   {
    "duration": 1724,
    "start_time": "2021-10-20T13:33:02.181Z"
   },
   {
    "duration": 16,
    "start_time": "2021-10-20T13:33:03.907Z"
   },
   {
    "duration": 11,
    "start_time": "2021-10-20T13:33:03.925Z"
   },
   {
    "duration": 9,
    "start_time": "2021-10-20T13:33:03.939Z"
   },
   {
    "duration": 19,
    "start_time": "2021-10-20T13:33:03.951Z"
   },
   {
    "duration": 485,
    "start_time": "2021-10-20T13:33:03.973Z"
   },
   {
    "duration": 17,
    "start_time": "2021-10-20T13:33:04.460Z"
   },
   {
    "duration": 7,
    "start_time": "2021-10-20T13:33:04.479Z"
   },
   {
    "duration": 812,
    "start_time": "2021-10-20T13:33:04.488Z"
   },
   {
    "duration": 140162,
    "start_time": "2021-10-20T13:33:05.303Z"
   },
   {
    "duration": 1464,
    "start_time": "2021-10-20T13:35:25.469Z"
   },
   {
    "duration": 41,
    "start_time": "2021-10-20T13:35:26.936Z"
   },
   {
    "duration": 43,
    "start_time": "2021-10-20T13:35:26.979Z"
   },
   {
    "duration": 428,
    "start_time": "2021-10-20T13:35:27.025Z"
   },
   {
    "duration": 533,
    "start_time": "2021-10-20T13:35:27.456Z"
   },
   {
    "duration": 459,
    "start_time": "2021-10-20T13:35:27.992Z"
   },
   {
    "duration": 438,
    "start_time": "2021-10-20T13:35:28.454Z"
   },
   {
    "duration": 744,
    "start_time": "2021-10-20T13:35:28.895Z"
   },
   {
    "duration": 14,
    "start_time": "2021-10-20T13:35:29.642Z"
   },
   {
    "duration": 460,
    "start_time": "2021-10-20T15:25:14.773Z"
   },
   {
    "duration": 11,
    "start_time": "2021-10-20T15:25:29.528Z"
   },
   {
    "duration": 133,
    "start_time": "2021-10-20T15:26:02.854Z"
   },
   {
    "duration": 98,
    "start_time": "2021-10-20T15:26:20.806Z"
   },
   {
    "duration": 91,
    "start_time": "2021-10-20T15:26:42.561Z"
   },
   {
    "duration": 88,
    "start_time": "2021-10-20T15:27:14.141Z"
   },
   {
    "duration": 96,
    "start_time": "2021-10-20T15:27:54.114Z"
   },
   {
    "duration": 291,
    "start_time": "2021-10-20T15:28:33.141Z"
   },
   {
    "duration": 10,
    "start_time": "2021-10-20T15:28:57.958Z"
   },
   {
    "duration": 10,
    "start_time": "2021-10-20T15:29:21.838Z"
   },
   {
    "duration": 10,
    "start_time": "2021-10-20T15:30:29.861Z"
   },
   {
    "duration": 11,
    "start_time": "2021-10-20T15:32:41.919Z"
   },
   {
    "duration": 5,
    "start_time": "2021-10-20T17:36:25.641Z"
   },
   {
    "duration": 30,
    "start_time": "2021-10-20T17:36:25.649Z"
   },
   {
    "duration": 18,
    "start_time": "2021-10-20T17:36:25.682Z"
   },
   {
    "duration": 24,
    "start_time": "2021-10-20T17:36:25.702Z"
   },
   {
    "duration": 68,
    "start_time": "2021-10-20T17:36:25.729Z"
   },
   {
    "duration": 37,
    "start_time": "2021-10-20T17:36:25.823Z"
   },
   {
    "duration": 4,
    "start_time": "2021-10-20T17:36:25.862Z"
   },
   {
    "duration": 608,
    "start_time": "2021-10-20T17:36:25.868Z"
   },
   {
    "duration": 5461,
    "start_time": "2021-10-20T17:36:26.480Z"
   },
   {
    "duration": 4816,
    "start_time": "2021-10-20T17:36:31.945Z"
   },
   {
    "duration": 1916,
    "start_time": "2021-10-20T17:36:36.764Z"
   },
   {
    "duration": 7,
    "start_time": "2021-10-20T17:36:38.683Z"
   },
   {
    "duration": 1605,
    "start_time": "2021-10-20T17:36:38.693Z"
   },
   {
    "duration": 5,
    "start_time": "2021-10-20T17:36:40.301Z"
   },
   {
    "duration": 20,
    "start_time": "2021-10-20T17:36:40.309Z"
   },
   {
    "duration": 9,
    "start_time": "2021-10-20T17:36:40.331Z"
   },
   {
    "duration": 20,
    "start_time": "2021-10-20T17:36:40.343Z"
   },
   {
    "duration": 613,
    "start_time": "2021-10-20T17:36:40.365Z"
   },
   {
    "duration": 19,
    "start_time": "2021-10-20T17:36:40.981Z"
   },
   {
    "duration": 23,
    "start_time": "2021-10-20T17:36:41.002Z"
   },
   {
    "duration": 882,
    "start_time": "2021-10-20T17:36:41.028Z"
   },
   {
    "duration": 140280,
    "start_time": "2021-10-20T17:36:41.912Z"
   },
   {
    "duration": 1439,
    "start_time": "2021-10-20T17:39:02.194Z"
   },
   {
    "duration": 40,
    "start_time": "2021-10-20T17:39:03.636Z"
   },
   {
    "duration": 45,
    "start_time": "2021-10-20T17:39:03.679Z"
   },
   {
    "duration": 442,
    "start_time": "2021-10-20T17:39:03.727Z"
   },
   {
    "duration": 11,
    "start_time": "2021-10-20T17:39:04.175Z"
   },
   {
    "duration": 450,
    "start_time": "2021-10-20T17:39:04.188Z"
   },
   {
    "duration": 433,
    "start_time": "2021-10-20T17:39:04.641Z"
   },
   {
    "duration": 775,
    "start_time": "2021-10-20T17:39:05.077Z"
   },
   {
    "duration": 463,
    "start_time": "2021-10-20T17:39:05.855Z"
   },
   {
    "duration": 14,
    "start_time": "2021-10-20T17:39:06.323Z"
   },
   {
    "duration": 25,
    "start_time": "2021-10-20T18:01:59.696Z"
   },
   {
    "duration": 1565,
    "start_time": "2021-10-20T18:16:07.465Z"
   },
   {
    "duration": 41,
    "start_time": "2021-10-20T18:16:09.034Z"
   },
   {
    "duration": 70,
    "start_time": "2021-10-20T18:16:09.079Z"
   },
   {
    "duration": 17,
    "start_time": "2021-10-20T18:16:09.153Z"
   },
   {
    "duration": 140,
    "start_time": "2021-10-20T18:16:09.174Z"
   },
   {
    "duration": 65,
    "start_time": "2021-10-20T18:16:09.317Z"
   },
   {
    "duration": 7,
    "start_time": "2021-10-20T18:16:09.385Z"
   },
   {
    "duration": 582,
    "start_time": "2021-10-20T18:16:09.398Z"
   },
   {
    "duration": 5441,
    "start_time": "2021-10-20T18:16:09.984Z"
   },
   {
    "duration": 4900,
    "start_time": "2021-10-20T18:16:15.428Z"
   },
   {
    "duration": 1875,
    "start_time": "2021-10-20T18:16:20.331Z"
   },
   {
    "duration": 14,
    "start_time": "2021-10-20T18:16:22.209Z"
   },
   {
    "duration": 1569,
    "start_time": "2021-10-20T18:16:22.226Z"
   },
   {
    "duration": 5,
    "start_time": "2021-10-20T18:16:23.798Z"
   },
   {
    "duration": 20,
    "start_time": "2021-10-20T18:16:23.806Z"
   },
   {
    "duration": 13,
    "start_time": "2021-10-20T18:16:23.829Z"
   },
   {
    "duration": 20,
    "start_time": "2021-10-20T18:16:23.845Z"
   },
   {
    "duration": 481,
    "start_time": "2021-10-20T18:16:23.867Z"
   },
   {
    "duration": 18,
    "start_time": "2021-10-20T18:16:24.350Z"
   },
   {
    "duration": 8,
    "start_time": "2021-10-20T18:16:24.370Z"
   },
   {
    "duration": 807,
    "start_time": "2021-10-20T18:16:24.380Z"
   },
   {
    "duration": 136196,
    "start_time": "2021-10-20T18:16:25.190Z"
   },
   {
    "duration": 1540,
    "start_time": "2021-10-20T18:18:41.391Z"
   },
   {
    "duration": 40,
    "start_time": "2021-10-20T18:18:42.934Z"
   },
   {
    "duration": 18,
    "start_time": "2021-10-20T18:18:42.976Z"
   },
   {
    "duration": 431,
    "start_time": "2021-10-20T18:18:43.023Z"
   },
   {
    "duration": 12,
    "start_time": "2021-10-20T18:18:43.456Z"
   },
   {
    "duration": 455,
    "start_time": "2021-10-20T18:18:43.471Z"
   },
   {
    "duration": 466,
    "start_time": "2021-10-20T18:18:43.929Z"
   },
   {
    "duration": 456,
    "start_time": "2021-10-20T18:18:44.398Z"
   },
   {
    "duration": 752,
    "start_time": "2021-10-20T18:18:44.856Z"
   },
   {
    "duration": 23,
    "start_time": "2021-10-20T18:18:45.610Z"
   },
   {
    "duration": 1228,
    "start_time": "2021-10-21T12:17:58.367Z"
   },
   {
    "duration": 23,
    "start_time": "2021-10-21T12:17:59.597Z"
   },
   {
    "duration": 13,
    "start_time": "2021-10-21T12:17:59.622Z"
   },
   {
    "duration": 16,
    "start_time": "2021-10-21T12:17:59.637Z"
   },
   {
    "duration": 53,
    "start_time": "2021-10-21T12:17:59.655Z"
   },
   {
    "duration": 21,
    "start_time": "2021-10-21T12:17:59.710Z"
   },
   {
    "duration": 4,
    "start_time": "2021-10-21T12:17:59.733Z"
   },
   {
    "duration": 343,
    "start_time": "2021-10-21T12:17:59.740Z"
   },
   {
    "duration": 3171,
    "start_time": "2021-10-21T12:18:00.086Z"
   },
   {
    "duration": 2950,
    "start_time": "2021-10-21T12:18:03.259Z"
   },
   {
    "duration": 1161,
    "start_time": "2021-10-21T12:18:06.212Z"
   },
   {
    "duration": 5,
    "start_time": "2021-10-21T12:18:07.375Z"
   },
   {
    "duration": 1043,
    "start_time": "2021-10-21T12:18:07.382Z"
   },
   {
    "duration": 5,
    "start_time": "2021-10-21T12:18:08.427Z"
   },
   {
    "duration": 14,
    "start_time": "2021-10-21T12:18:08.435Z"
   },
   {
    "duration": 18,
    "start_time": "2021-10-21T12:18:08.451Z"
   },
   {
    "duration": 26,
    "start_time": "2021-10-21T12:18:08.471Z"
   },
   {
    "duration": 308,
    "start_time": "2021-10-21T12:18:08.499Z"
   },
   {
    "duration": 11,
    "start_time": "2021-10-21T12:18:08.808Z"
   },
   {
    "duration": 5,
    "start_time": "2021-10-21T12:18:08.821Z"
   },
   {
    "duration": 534,
    "start_time": "2021-10-21T12:18:08.827Z"
   },
   {
    "duration": 80650,
    "start_time": "2021-10-21T12:18:09.363Z"
   },
   {
    "duration": 1163,
    "start_time": "2021-10-21T12:19:30.016Z"
   },
   {
    "duration": 25,
    "start_time": "2021-10-21T12:19:31.181Z"
   },
   {
    "duration": 12,
    "start_time": "2021-10-21T12:19:31.207Z"
   },
   {
    "duration": 276,
    "start_time": "2021-10-21T12:19:31.221Z"
   },
   {
    "duration": 7,
    "start_time": "2021-10-21T12:19:31.499Z"
   },
   {
    "duration": 262,
    "start_time": "2021-10-21T12:19:31.507Z"
   },
   {
    "duration": 265,
    "start_time": "2021-10-21T12:19:31.771Z"
   },
   {
    "duration": 268,
    "start_time": "2021-10-21T12:19:32.037Z"
   },
   {
    "duration": 525,
    "start_time": "2021-10-21T12:19:32.307Z"
   },
   {
    "duration": 10,
    "start_time": "2021-10-21T12:19:32.834Z"
   },
   {
    "duration": 1763,
    "start_time": "2021-10-21T14:09:17.689Z"
   },
   {
    "duration": 27,
    "start_time": "2021-10-21T14:09:19.455Z"
   },
   {
    "duration": 21,
    "start_time": "2021-10-21T14:09:19.485Z"
   },
   {
    "duration": 12,
    "start_time": "2021-10-21T14:09:19.510Z"
   },
   {
    "duration": 94,
    "start_time": "2021-10-21T14:09:19.525Z"
   },
   {
    "duration": 61,
    "start_time": "2021-10-21T14:09:19.621Z"
   },
   {
    "duration": 5,
    "start_time": "2021-10-21T14:09:19.685Z"
   },
   {
    "duration": 652,
    "start_time": "2021-10-21T14:09:19.694Z"
   },
   {
    "duration": 5784,
    "start_time": "2021-10-21T14:09:20.350Z"
   },
   {
    "duration": 136,
    "start_time": "2021-10-21T14:09:26.136Z"
   },
   {
    "duration": -46,
    "start_time": "2021-10-21T14:09:26.320Z"
   },
   {
    "duration": -50,
    "start_time": "2021-10-21T14:09:26.325Z"
   },
   {
    "duration": -62,
    "start_time": "2021-10-21T14:09:26.338Z"
   },
   {
    "duration": -64,
    "start_time": "2021-10-21T14:09:26.342Z"
   },
   {
    "duration": -67,
    "start_time": "2021-10-21T14:09:26.347Z"
   },
   {
    "duration": -69,
    "start_time": "2021-10-21T14:09:26.350Z"
   },
   {
    "duration": -70,
    "start_time": "2021-10-21T14:09:26.353Z"
   },
   {
    "duration": -72,
    "start_time": "2021-10-21T14:09:26.356Z"
   },
   {
    "duration": -75,
    "start_time": "2021-10-21T14:09:26.360Z"
   },
   {
    "duration": 6,
    "start_time": "2021-10-21T14:11:11.980Z"
   },
   {
    "duration": 35,
    "start_time": "2021-10-21T14:11:11.989Z"
   },
   {
    "duration": 19,
    "start_time": "2021-10-21T14:11:12.028Z"
   },
   {
    "duration": 17,
    "start_time": "2021-10-21T14:11:12.049Z"
   },
   {
    "duration": 106,
    "start_time": "2021-10-21T14:11:12.068Z"
   },
   {
    "duration": 41,
    "start_time": "2021-10-21T14:11:12.176Z"
   },
   {
    "duration": 5,
    "start_time": "2021-10-21T14:11:12.219Z"
   },
   {
    "duration": 641,
    "start_time": "2021-10-21T14:11:12.226Z"
   },
   {
    "duration": 5564,
    "start_time": "2021-10-21T14:11:12.870Z"
   },
   {
    "duration": 4790,
    "start_time": "2021-10-21T14:11:18.438Z"
   },
   {
    "duration": 1919,
    "start_time": "2021-10-21T14:11:23.230Z"
   },
   {
    "duration": 6,
    "start_time": "2021-10-21T14:11:25.152Z"
   },
   {
    "duration": 1786,
    "start_time": "2021-10-21T14:11:25.160Z"
   },
   {
    "duration": 10,
    "start_time": "2021-10-21T14:11:26.948Z"
   },
   {
    "duration": 10,
    "start_time": "2021-10-21T14:11:26.961Z"
   },
   {
    "duration": 9,
    "start_time": "2021-10-21T14:11:26.973Z"
   },
   {
    "duration": 25,
    "start_time": "2021-10-21T14:11:26.984Z"
   },
   {
    "duration": 497,
    "start_time": "2021-10-21T14:11:27.012Z"
   },
   {
    "duration": 25,
    "start_time": "2021-10-21T14:11:27.512Z"
   },
   {
    "duration": 12,
    "start_time": "2021-10-21T14:11:27.558Z"
   },
   {
    "duration": 771,
    "start_time": "2021-10-21T14:11:27.572Z"
   },
   {
    "duration": 139687,
    "start_time": "2021-10-21T14:11:28.345Z"
   },
   {
    "duration": 1438,
    "start_time": "2021-10-21T14:13:48.035Z"
   },
   {
    "duration": 41,
    "start_time": "2021-10-21T14:13:49.475Z"
   },
   {
    "duration": 42,
    "start_time": "2021-10-21T14:13:49.518Z"
   },
   {
    "duration": 426,
    "start_time": "2021-10-21T14:13:49.562Z"
   },
   {
    "duration": 16,
    "start_time": "2021-10-21T14:13:49.996Z"
   },
   {
    "duration": 747,
    "start_time": "2021-10-21T14:13:50.015Z"
   },
   {
    "duration": 440,
    "start_time": "2021-10-21T14:13:50.764Z"
   },
   {
    "duration": 463,
    "start_time": "2021-10-21T14:13:51.207Z"
   },
   {
    "duration": 458,
    "start_time": "2021-10-21T14:13:51.672Z"
   },
   {
    "duration": 26,
    "start_time": "2021-10-21T14:13:52.133Z"
   },
   {
    "duration": 397,
    "start_time": "2021-10-21T14:40:58.446Z"
   },
   {
    "duration": 18,
    "start_time": "2021-10-21T14:40:58.845Z"
   },
   {
    "duration": 399,
    "start_time": "2021-10-21T14:40:58.866Z"
   },
   {
    "duration": 402,
    "start_time": "2021-10-21T14:40:59.268Z"
   },
   {
    "duration": 425,
    "start_time": "2021-10-21T14:40:59.673Z"
   },
   {
    "duration": 447,
    "start_time": "2021-10-21T14:41:00.101Z"
   },
   {
    "duration": 14,
    "start_time": "2021-10-21T14:41:00.558Z"
   },
   {
    "duration": 384,
    "start_time": "2021-10-21T14:43:28.502Z"
   },
   {
    "duration": 11,
    "start_time": "2021-10-21T14:43:28.889Z"
   },
   {
    "duration": 441,
    "start_time": "2021-10-21T14:43:28.903Z"
   },
   {
    "duration": 412,
    "start_time": "2021-10-21T14:43:29.348Z"
   },
   {
    "duration": 538,
    "start_time": "2021-10-21T14:43:29.764Z"
   },
   {
    "duration": 520,
    "start_time": "2021-10-21T14:43:30.305Z"
   },
   {
    "duration": 14,
    "start_time": "2021-10-21T14:43:30.827Z"
   },
   {
    "duration": 8,
    "start_time": "2021-10-21T15:16:53.697Z"
   },
   {
    "duration": 39,
    "start_time": "2021-10-21T15:50:01.481Z"
   },
   {
    "duration": 582,
    "start_time": "2021-10-21T15:55:41.984Z"
   },
   {
    "duration": 420,
    "start_time": "2021-10-21T15:56:18.429Z"
   },
   {
    "duration": 315,
    "start_time": "2021-10-21T16:04:34.467Z"
   },
   {
    "duration": 10522,
    "start_time": "2021-10-21T16:08:01.662Z"
   },
   {
    "duration": 891,
    "start_time": "2021-10-21T16:08:54.928Z"
   },
   {
    "duration": 1571,
    "start_time": "2021-10-21T16:11:16.200Z"
   },
   {
    "duration": 1965,
    "start_time": "2021-10-21T16:33:04.895Z"
   },
   {
    "duration": 1599,
    "start_time": "2021-10-21T16:45:42.937Z"
   },
   {
    "duration": 34,
    "start_time": "2021-10-21T17:06:53.950Z"
   },
   {
    "duration": 1707,
    "start_time": "2021-10-21T17:12:52.957Z"
   },
   {
    "duration": 413,
    "start_time": "2021-10-21T18:24:31.983Z"
   },
   {
    "duration": 7,
    "start_time": "2021-10-21T18:35:59.957Z"
   },
   {
    "duration": 8,
    "start_time": "2021-10-21T18:36:40.102Z"
   },
   {
    "duration": 33,
    "start_time": "2021-10-21T18:38:18.238Z"
   },
   {
    "duration": 11,
    "start_time": "2021-10-21T18:39:16.331Z"
   },
   {
    "duration": 1505,
    "start_time": "2021-10-21T18:42:04.857Z"
   },
   {
    "duration": 3113,
    "start_time": "2021-10-21T18:43:12.056Z"
   },
   {
    "duration": 421,
    "start_time": "2021-10-21T18:44:45.899Z"
   },
   {
    "duration": 444,
    "start_time": "2021-10-21T18:45:40.665Z"
   },
   {
    "duration": 15408,
    "start_time": "2021-10-21T18:47:56.329Z"
   },
   {
    "duration": 426,
    "start_time": "2021-10-21T18:50:16.359Z"
   },
   {
    "duration": 294,
    "start_time": "2021-10-21T18:51:42.953Z"
   },
   {
    "duration": 253,
    "start_time": "2021-10-21T18:54:17.874Z"
   },
   {
    "duration": 38,
    "start_time": "2021-10-21T19:07:04.027Z"
   },
   {
    "duration": 18,
    "start_time": "2021-10-21T19:07:15.022Z"
   },
   {
    "duration": 11,
    "start_time": "2021-10-21T19:13:18.143Z"
   },
   {
    "duration": 9,
    "start_time": "2021-10-21T19:13:49.332Z"
   },
   {
    "duration": 10,
    "start_time": "2021-10-21T19:17:37.520Z"
   },
   {
    "duration": 151,
    "start_time": "2021-10-21T19:18:31.975Z"
   },
   {
    "duration": 9,
    "start_time": "2021-10-21T19:18:46.914Z"
   },
   {
    "duration": 10,
    "start_time": "2021-10-21T19:19:34.102Z"
   },
   {
    "duration": 9,
    "start_time": "2021-10-21T19:19:36.813Z"
   },
   {
    "duration": 253,
    "start_time": "2021-10-22T06:19:19.199Z"
   },
   {
    "duration": 1371,
    "start_time": "2021-10-22T06:28:04.482Z"
   },
   {
    "duration": 24,
    "start_time": "2021-10-22T06:28:05.855Z"
   },
   {
    "duration": 24,
    "start_time": "2021-10-22T06:28:05.881Z"
   },
   {
    "duration": 19,
    "start_time": "2021-10-22T06:28:05.907Z"
   },
   {
    "duration": 55,
    "start_time": "2021-10-22T06:28:05.929Z"
   },
   {
    "duration": 26,
    "start_time": "2021-10-22T06:28:05.987Z"
   },
   {
    "duration": 5,
    "start_time": "2021-10-22T06:28:06.015Z"
   },
   {
    "duration": 398,
    "start_time": "2021-10-22T06:28:06.023Z"
   },
   {
    "duration": 3608,
    "start_time": "2021-10-22T06:28:06.423Z"
   },
   {
    "duration": 7256,
    "start_time": "2021-10-22T06:28:56.682Z"
   },
   {
    "duration": 7115,
    "start_time": "2021-10-22T06:30:17.549Z"
   },
   {
    "duration": 7393,
    "start_time": "2021-10-22T06:31:43.463Z"
   },
   {
    "duration": 3364,
    "start_time": "2021-10-22T06:33:57.721Z"
   },
   {
    "duration": 2966,
    "start_time": "2021-10-22T06:38:52.241Z"
   },
   {
    "duration": 1668,
    "start_time": "2021-10-22T06:43:14.568Z"
   },
   {
    "duration": 1415,
    "start_time": "2021-10-22T06:54:47.118Z"
   },
   {
    "duration": 4,
    "start_time": "2021-10-22T06:54:48.536Z"
   },
   {
    "duration": 1076,
    "start_time": "2021-10-22T06:54:48.543Z"
   },
   {
    "duration": 4,
    "start_time": "2021-10-22T06:54:49.621Z"
   },
   {
    "duration": 15,
    "start_time": "2021-10-22T06:54:49.627Z"
   },
   {
    "duration": 19,
    "start_time": "2021-10-22T06:54:49.644Z"
   },
   {
    "duration": 11,
    "start_time": "2021-10-22T06:54:49.665Z"
   },
   {
    "duration": 328,
    "start_time": "2021-10-22T06:54:49.679Z"
   },
   {
    "duration": 14,
    "start_time": "2021-10-22T06:54:50.009Z"
   },
   {
    "duration": 8,
    "start_time": "2021-10-22T06:54:50.025Z"
   },
   {
    "duration": 662,
    "start_time": "2021-10-22T06:54:50.034Z"
   },
   {
    "duration": 82927,
    "start_time": "2021-10-22T06:54:50.698Z"
   },
   {
    "duration": 1547,
    "start_time": "2021-10-22T06:56:13.627Z"
   },
   {
    "duration": 114,
    "start_time": "2021-10-22T06:56:15.177Z"
   },
   {
    "duration": 13,
    "start_time": "2021-10-22T06:56:15.293Z"
   },
   {
    "duration": 280,
    "start_time": "2021-10-22T06:56:15.308Z"
   },
   {
    "duration": 9,
    "start_time": "2021-10-22T06:56:15.590Z"
   },
   {
    "duration": 14,
    "start_time": "2021-10-22T06:56:15.601Z"
   },
   {
    "duration": 13,
    "start_time": "2021-10-22T06:56:15.617Z"
   },
   {
    "duration": 273,
    "start_time": "2021-10-22T06:56:15.632Z"
   },
   {
    "duration": 264,
    "start_time": "2021-10-22T06:56:15.908Z"
   },
   {
    "duration": 270,
    "start_time": "2021-10-22T06:56:16.174Z"
   },
   {
    "duration": 270,
    "start_time": "2021-10-22T06:56:16.448Z"
   },
   {
    "duration": 278,
    "start_time": "2021-10-22T06:56:16.720Z"
   },
   {
    "duration": 9,
    "start_time": "2021-10-22T06:56:17.000Z"
   },
   {
    "duration": 9,
    "start_time": "2021-10-22T06:56:17.011Z"
   },
   {
    "duration": 1345,
    "start_time": "2021-10-22T06:56:17.023Z"
   },
   {
    "duration": 1072,
    "start_time": "2021-10-22T06:56:18.370Z"
   },
   {
    "duration": 20,
    "start_time": "2021-10-22T06:56:19.444Z"
   },
   {
    "duration": 5,
    "start_time": "2021-10-22T09:32:35.939Z"
   },
   {
    "duration": 23,
    "start_time": "2021-10-22T09:32:35.961Z"
   },
   {
    "duration": 11,
    "start_time": "2021-10-22T09:32:35.986Z"
   },
   {
    "duration": 8,
    "start_time": "2021-10-22T09:32:36.000Z"
   },
   {
    "duration": 54,
    "start_time": "2021-10-22T09:32:36.010Z"
   },
   {
    "duration": 25,
    "start_time": "2021-10-22T09:32:36.067Z"
   },
   {
    "duration": 3,
    "start_time": "2021-10-22T09:32:36.095Z"
   },
   {
    "duration": 385,
    "start_time": "2021-10-22T09:32:36.100Z"
   },
   {
    "duration": 3815,
    "start_time": "2021-10-22T09:32:36.487Z"
   },
   {
    "duration": 1712,
    "start_time": "2021-10-22T09:32:40.305Z"
   },
   {
    "duration": 1303,
    "start_time": "2021-10-22T09:32:42.020Z"
   },
   {
    "duration": 7,
    "start_time": "2021-10-22T09:32:43.325Z"
   },
   {
    "duration": 1190,
    "start_time": "2021-10-22T09:32:43.334Z"
   },
   {
    "duration": 7,
    "start_time": "2021-10-22T09:32:44.527Z"
   },
   {
    "duration": 29,
    "start_time": "2021-10-22T09:32:44.536Z"
   },
   {
    "duration": 26,
    "start_time": "2021-10-22T09:32:44.567Z"
   },
   {
    "duration": 35,
    "start_time": "2021-10-22T09:32:44.595Z"
   },
   {
    "duration": 315,
    "start_time": "2021-10-22T09:32:44.632Z"
   },
   {
    "duration": 19,
    "start_time": "2021-10-22T09:32:44.949Z"
   },
   {
    "duration": 7,
    "start_time": "2021-10-22T09:32:44.970Z"
   },
   {
    "duration": 669,
    "start_time": "2021-10-22T09:32:44.980Z"
   },
   {
    "duration": 84866,
    "start_time": "2021-10-22T09:32:45.652Z"
   },
   {
    "duration": 1454,
    "start_time": "2021-10-22T09:34:10.520Z"
   },
   {
    "duration": 114,
    "start_time": "2021-10-22T09:34:11.976Z"
   },
   {
    "duration": 13,
    "start_time": "2021-10-22T09:34:12.092Z"
   },
   {
    "duration": 270,
    "start_time": "2021-10-22T09:34:12.107Z"
   },
   {
    "duration": 8,
    "start_time": "2021-10-22T09:34:12.379Z"
   },
   {
    "duration": 20,
    "start_time": "2021-10-22T09:34:12.389Z"
   },
   {
    "duration": 18,
    "start_time": "2021-10-22T09:34:12.411Z"
   },
   {
    "duration": 258,
    "start_time": "2021-10-22T09:34:12.431Z"
   },
   {
    "duration": 275,
    "start_time": "2021-10-22T09:34:12.691Z"
   },
   {
    "duration": 290,
    "start_time": "2021-10-22T09:34:12.967Z"
   },
   {
    "duration": 278,
    "start_time": "2021-10-22T09:34:13.259Z"
   },
   {
    "duration": 294,
    "start_time": "2021-10-22T09:34:13.539Z"
   },
   {
    "duration": 10,
    "start_time": "2021-10-22T09:34:13.836Z"
   },
   {
    "duration": 19,
    "start_time": "2021-10-22T09:34:13.848Z"
   },
   {
    "duration": 1124,
    "start_time": "2021-10-22T09:34:13.869Z"
   },
   {
    "duration": 1192,
    "start_time": "2021-10-22T09:34:14.995Z"
   },
   {
    "duration": 11,
    "start_time": "2021-10-22T09:34:16.189Z"
   },
   {
    "duration": 1343,
    "start_time": "2021-10-22T09:37:05.772Z"
   },
   {
    "duration": 25,
    "start_time": "2021-10-22T09:37:07.117Z"
   },
   {
    "duration": 15,
    "start_time": "2021-10-22T09:37:07.145Z"
   },
   {
    "duration": 8,
    "start_time": "2021-10-22T09:37:07.162Z"
   },
   {
    "duration": 47,
    "start_time": "2021-10-22T09:37:07.172Z"
   },
   {
    "duration": 53,
    "start_time": "2021-10-22T09:37:07.220Z"
   },
   {
    "duration": 5,
    "start_time": "2021-10-22T09:37:07.275Z"
   },
   {
    "duration": 381,
    "start_time": "2021-10-22T09:37:07.283Z"
   },
   {
    "duration": 3570,
    "start_time": "2021-10-22T09:37:07.667Z"
   },
   {
    "duration": 1827,
    "start_time": "2021-10-22T09:37:11.239Z"
   },
   {
    "duration": 1300,
    "start_time": "2021-10-22T09:37:13.068Z"
   },
   {
    "duration": 4,
    "start_time": "2021-10-22T09:37:14.370Z"
   },
   {
    "duration": 1076,
    "start_time": "2021-10-22T09:37:14.376Z"
   },
   {
    "duration": 12,
    "start_time": "2021-10-22T09:37:15.455Z"
   },
   {
    "duration": 40,
    "start_time": "2021-10-22T09:37:15.470Z"
   },
   {
    "duration": 8,
    "start_time": "2021-10-22T09:37:15.512Z"
   },
   {
    "duration": 11,
    "start_time": "2021-10-22T09:37:15.523Z"
   },
   {
    "duration": 434,
    "start_time": "2021-10-22T09:37:15.536Z"
   },
   {
    "duration": 13,
    "start_time": "2021-10-22T09:37:15.972Z"
   },
   {
    "duration": 8,
    "start_time": "2021-10-22T09:37:15.987Z"
   },
   {
    "duration": 638,
    "start_time": "2021-10-22T09:37:15.997Z"
   },
   {
    "duration": 83747,
    "start_time": "2021-10-22T09:37:16.637Z"
   },
   {
    "duration": 1579,
    "start_time": "2021-10-22T09:38:40.388Z"
   },
   {
    "duration": 28,
    "start_time": "2021-10-22T09:38:41.969Z"
   },
   {
    "duration": 13,
    "start_time": "2021-10-22T09:38:41.998Z"
   },
   {
    "duration": 276,
    "start_time": "2021-10-22T09:38:42.013Z"
   },
   {
    "duration": 7,
    "start_time": "2021-10-22T09:38:42.291Z"
   },
   {
    "duration": 10,
    "start_time": "2021-10-22T09:38:42.300Z"
   },
   {
    "duration": 14,
    "start_time": "2021-10-22T09:38:42.312Z"
   },
   {
    "duration": 266,
    "start_time": "2021-10-22T09:38:42.327Z"
   },
   {
    "duration": 269,
    "start_time": "2021-10-22T09:38:42.595Z"
   },
   {
    "duration": 279,
    "start_time": "2021-10-22T09:38:42.866Z"
   },
   {
    "duration": 297,
    "start_time": "2021-10-22T09:38:43.147Z"
   },
   {
    "duration": 285,
    "start_time": "2021-10-22T09:38:43.446Z"
   },
   {
    "duration": 9,
    "start_time": "2021-10-22T09:38:43.733Z"
   },
   {
    "duration": 25,
    "start_time": "2021-10-22T09:38:43.744Z"
   },
   {
    "duration": 1013,
    "start_time": "2021-10-22T09:38:43.771Z"
   },
   {
    "duration": 1081,
    "start_time": "2021-10-22T09:38:44.786Z"
   },
   {
    "duration": 11,
    "start_time": "2021-10-22T09:38:45.869Z"
   }
  ],
  "kernelspec": {
   "display_name": "Python 3",
   "language": "python",
   "name": "python3"
  },
  "language_info": {
   "codemirror_mode": {
    "name": "ipython",
    "version": 3
   },
   "file_extension": ".py",
   "mimetype": "text/x-python",
   "name": "python",
   "nbconvert_exporter": "python",
   "pygments_lexer": "ipython3",
   "version": "3.7.10"
  },
  "toc": {
   "base_numbering": 1,
   "nav_menu": {},
   "number_sections": true,
   "sideBar": true,
   "skip_h1_title": true,
   "title_cell": "Table of Contents",
   "title_sidebar": "Contents",
   "toc_cell": false,
   "toc_position": {
    "height": "calc(100% - 180px)",
    "left": "10px",
    "top": "150px",
    "width": "188.05px"
   },
   "toc_section_display": true,
   "toc_window_display": true
  }
 },
 "nbformat": 4,
 "nbformat_minor": 2
}
