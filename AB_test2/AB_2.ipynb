{
 "cells": [
  {
   "cell_type": "markdown",
   "id": "1b3a199f",
   "metadata": {},
   "source": [
    "# A/B-тестирование"
   ]
  },
  {
   "cell_type": "code",
   "execution_count": 1,
   "id": "41afaea6",
   "metadata": {},
   "outputs": [],
   "source": [
    "import pandas as pd\n",
    "from scipy import stats as st\n",
    "import datetime as dt\n",
    "import numpy as np\n",
    "import matplotlib.pyplot as plt\n",
    "import seaborn as sns\n",
    "import math as mth\n",
    "import warnings\n",
    "warnings.filterwarnings('ignore')"
   ]
  },
  {
   "cell_type": "markdown",
   "id": "3003a851",
   "metadata": {},
   "source": [
    "**Задача:** провести оценку результатов A/B-теста"
   ]
  },
  {
   "cell_type": "markdown",
   "id": "bef59937",
   "metadata": {},
   "source": [
    "## Загрузка и обзор файлов"
   ]
  },
  {
   "cell_type": "markdown",
   "id": "eb84bc62",
   "metadata": {},
   "source": [
    "Для A/B тестирования предоставлены следующие данные"
   ]
  },
  {
   "cell_type": "markdown",
   "id": "d5358d7a",
   "metadata": {},
   "source": [
    "ab_project_marketing_events.csv — календарь маркетинговых событий на 2020 год.\n",
    "- name — название маркетингового события;\n",
    "- regions — регионы, в которых будет проводиться рекламная кампания;\n",
    "- start_dt — дата начала кампании;\n",
    "- A/B-тестирование 3 finish_dt — дата завершения кампании.\n",
    "\n",
    "final_ab_new_users.csv — пользователи, зарегистрировавшиеся с 7 по 21 декабря2020 года.\n",
    "- user_id — идентификатор пользователя;\n",
    "- first_date — дата регистрации;\n",
    "- region — регион пользователя;\n",
    "- device — устройство, с которого происходила регистрация.\n",
    "\n",
    "final_ab_events.csv — действия новых пользователей в период с 7 декабря 2020 по4 января 2021 года.\n",
    "- user_id — идентификатор пользователя;\n",
    "- event_dt — дата и время покупки;\n",
    "- event_name — тип события;\n",
    "- details — дополнительные данные о событии. Например, для покупок,purchase, в этом поле хранится стоимость покупки в долларах.\n",
    "\n",
    "final_ab_participants.csv — таблица участников тестов.\n",
    "- user_id — идентификатор пользователя;\n",
    "- ab_test — название теста;\n",
    "- group — группа пользователя."
   ]
  },
  {
   "cell_type": "code",
   "execution_count": 2,
   "id": "ab873fac",
   "metadata": {},
   "outputs": [
    {
     "data": {
      "text/html": [
       "<div>\n",
       "<style scoped>\n",
       "    .dataframe tbody tr th:only-of-type {\n",
       "        vertical-align: middle;\n",
       "    }\n",
       "\n",
       "    .dataframe tbody tr th {\n",
       "        vertical-align: top;\n",
       "    }\n",
       "\n",
       "    .dataframe thead th {\n",
       "        text-align: right;\n",
       "    }\n",
       "</style>\n",
       "<table border=\"1\" class=\"dataframe\">\n",
       "  <thead>\n",
       "    <tr style=\"text-align: right;\">\n",
       "      <th></th>\n",
       "      <th>name</th>\n",
       "      <th>regions</th>\n",
       "      <th>start_dt</th>\n",
       "      <th>finish_dt</th>\n",
       "    </tr>\n",
       "  </thead>\n",
       "  <tbody>\n",
       "    <tr>\n",
       "      <td>0</td>\n",
       "      <td>Christmas&amp;New Year Promo</td>\n",
       "      <td>EU, N.America</td>\n",
       "      <td>2020-12-25</td>\n",
       "      <td>2021-01-03</td>\n",
       "    </tr>\n",
       "    <tr>\n",
       "      <td>1</td>\n",
       "      <td>St. Valentine's Day Giveaway</td>\n",
       "      <td>EU, CIS, APAC, N.America</td>\n",
       "      <td>2020-02-14</td>\n",
       "      <td>2020-02-16</td>\n",
       "    </tr>\n",
       "    <tr>\n",
       "      <td>2</td>\n",
       "      <td>St. Patric's Day Promo</td>\n",
       "      <td>EU, N.America</td>\n",
       "      <td>2020-03-17</td>\n",
       "      <td>2020-03-19</td>\n",
       "    </tr>\n",
       "    <tr>\n",
       "      <td>3</td>\n",
       "      <td>Easter Promo</td>\n",
       "      <td>EU, CIS, APAC, N.America</td>\n",
       "      <td>2020-04-12</td>\n",
       "      <td>2020-04-19</td>\n",
       "    </tr>\n",
       "    <tr>\n",
       "      <td>4</td>\n",
       "      <td>4th of July Promo</td>\n",
       "      <td>N.America</td>\n",
       "      <td>2020-07-04</td>\n",
       "      <td>2020-07-11</td>\n",
       "    </tr>\n",
       "    <tr>\n",
       "      <td>5</td>\n",
       "      <td>Black Friday Ads Campaign</td>\n",
       "      <td>EU, CIS, APAC, N.America</td>\n",
       "      <td>2020-11-26</td>\n",
       "      <td>2020-12-01</td>\n",
       "    </tr>\n",
       "    <tr>\n",
       "      <td>6</td>\n",
       "      <td>Chinese New Year Promo</td>\n",
       "      <td>APAC</td>\n",
       "      <td>2020-01-25</td>\n",
       "      <td>2020-02-07</td>\n",
       "    </tr>\n",
       "    <tr>\n",
       "      <td>7</td>\n",
       "      <td>Labor day (May 1st) Ads Campaign</td>\n",
       "      <td>EU, CIS, APAC</td>\n",
       "      <td>2020-05-01</td>\n",
       "      <td>2020-05-03</td>\n",
       "    </tr>\n",
       "    <tr>\n",
       "      <td>8</td>\n",
       "      <td>International Women's Day Promo</td>\n",
       "      <td>EU, CIS, APAC</td>\n",
       "      <td>2020-03-08</td>\n",
       "      <td>2020-03-10</td>\n",
       "    </tr>\n",
       "    <tr>\n",
       "      <td>9</td>\n",
       "      <td>Victory Day CIS (May 9th) Event</td>\n",
       "      <td>CIS</td>\n",
       "      <td>2020-05-09</td>\n",
       "      <td>2020-05-11</td>\n",
       "    </tr>\n",
       "    <tr>\n",
       "      <td>10</td>\n",
       "      <td>CIS New Year Gift Lottery</td>\n",
       "      <td>CIS</td>\n",
       "      <td>2020-12-30</td>\n",
       "      <td>2021-01-07</td>\n",
       "    </tr>\n",
       "    <tr>\n",
       "      <td>11</td>\n",
       "      <td>Dragon Boat Festival Giveaway</td>\n",
       "      <td>APAC</td>\n",
       "      <td>2020-06-25</td>\n",
       "      <td>2020-07-01</td>\n",
       "    </tr>\n",
       "    <tr>\n",
       "      <td>12</td>\n",
       "      <td>Single's Day Gift Promo</td>\n",
       "      <td>APAC</td>\n",
       "      <td>2020-11-11</td>\n",
       "      <td>2020-11-12</td>\n",
       "    </tr>\n",
       "    <tr>\n",
       "      <td>13</td>\n",
       "      <td>Chinese Moon Festival</td>\n",
       "      <td>APAC</td>\n",
       "      <td>2020-10-01</td>\n",
       "      <td>2020-10-07</td>\n",
       "    </tr>\n",
       "  </tbody>\n",
       "</table>\n",
       "</div>"
      ],
      "text/plain": [
       "                                name                   regions    start_dt  \\\n",
       "0           Christmas&New Year Promo             EU, N.America  2020-12-25   \n",
       "1       St. Valentine's Day Giveaway  EU, CIS, APAC, N.America  2020-02-14   \n",
       "2             St. Patric's Day Promo             EU, N.America  2020-03-17   \n",
       "3                       Easter Promo  EU, CIS, APAC, N.America  2020-04-12   \n",
       "4                  4th of July Promo                 N.America  2020-07-04   \n",
       "5          Black Friday Ads Campaign  EU, CIS, APAC, N.America  2020-11-26   \n",
       "6             Chinese New Year Promo                      APAC  2020-01-25   \n",
       "7   Labor day (May 1st) Ads Campaign             EU, CIS, APAC  2020-05-01   \n",
       "8    International Women's Day Promo             EU, CIS, APAC  2020-03-08   \n",
       "9    Victory Day CIS (May 9th) Event                       CIS  2020-05-09   \n",
       "10         CIS New Year Gift Lottery                       CIS  2020-12-30   \n",
       "11     Dragon Boat Festival Giveaway                      APAC  2020-06-25   \n",
       "12           Single's Day Gift Promo                      APAC  2020-11-11   \n",
       "13             Chinese Moon Festival                      APAC  2020-10-01   \n",
       "\n",
       "     finish_dt  \n",
       "0   2021-01-03  \n",
       "1   2020-02-16  \n",
       "2   2020-03-19  \n",
       "3   2020-04-19  \n",
       "4   2020-07-11  \n",
       "5   2020-12-01  \n",
       "6   2020-02-07  \n",
       "7   2020-05-03  \n",
       "8   2020-03-10  \n",
       "9   2020-05-11  \n",
       "10  2021-01-07  \n",
       "11  2020-07-01  \n",
       "12  2020-11-12  \n",
       "13  2020-10-07  "
      ]
     },
     "execution_count": 2,
     "metadata": {},
     "output_type": "execute_result"
    }
   ],
   "source": [
    "marketing_events = pd.read_csv('ab_project_marketing_events.csv')\n",
    "marketing_events"
   ]
  },
  {
   "cell_type": "code",
   "execution_count": 3,
   "id": "ca7a810f",
   "metadata": {
    "scrolled": false
   },
   "outputs": [
    {
     "name": "stdout",
     "output_type": "stream",
     "text": [
      "<class 'pandas.core.frame.DataFrame'>\n",
      "RangeIndex: 14 entries, 0 to 13\n",
      "Data columns (total 4 columns):\n",
      "name         14 non-null object\n",
      "regions      14 non-null object\n",
      "start_dt     14 non-null object\n",
      "finish_dt    14 non-null object\n",
      "dtypes: object(4)\n",
      "memory usage: 576.0+ bytes\n"
     ]
    }
   ],
   "source": [
    "marketing_events.info()"
   ]
  },
  {
   "cell_type": "code",
   "execution_count": 4,
   "id": "3a2ae08f",
   "metadata": {},
   "outputs": [
    {
     "data": {
      "text/html": [
       "<div>\n",
       "<style scoped>\n",
       "    .dataframe tbody tr th:only-of-type {\n",
       "        vertical-align: middle;\n",
       "    }\n",
       "\n",
       "    .dataframe tbody tr th {\n",
       "        vertical-align: top;\n",
       "    }\n",
       "\n",
       "    .dataframe thead th {\n",
       "        text-align: right;\n",
       "    }\n",
       "</style>\n",
       "<table border=\"1\" class=\"dataframe\">\n",
       "  <thead>\n",
       "    <tr style=\"text-align: right;\">\n",
       "      <th></th>\n",
       "      <th>user_id</th>\n",
       "      <th>event_dt</th>\n",
       "      <th>event_name</th>\n",
       "      <th>details</th>\n",
       "    </tr>\n",
       "  </thead>\n",
       "  <tbody>\n",
       "    <tr>\n",
       "      <td>0</td>\n",
       "      <td>E1BDDCE0DAFA2679</td>\n",
       "      <td>2020-12-07 20:22:03</td>\n",
       "      <td>purchase</td>\n",
       "      <td>99.99</td>\n",
       "    </tr>\n",
       "    <tr>\n",
       "      <td>1</td>\n",
       "      <td>7B6452F081F49504</td>\n",
       "      <td>2020-12-07 09:22:53</td>\n",
       "      <td>purchase</td>\n",
       "      <td>9.99</td>\n",
       "    </tr>\n",
       "    <tr>\n",
       "      <td>2</td>\n",
       "      <td>9CD9F34546DF254C</td>\n",
       "      <td>2020-12-07 12:59:29</td>\n",
       "      <td>purchase</td>\n",
       "      <td>4.99</td>\n",
       "    </tr>\n",
       "    <tr>\n",
       "      <td>3</td>\n",
       "      <td>96F27A054B191457</td>\n",
       "      <td>2020-12-07 04:02:40</td>\n",
       "      <td>purchase</td>\n",
       "      <td>4.99</td>\n",
       "    </tr>\n",
       "    <tr>\n",
       "      <td>4</td>\n",
       "      <td>1FD7660FDF94CA1F</td>\n",
       "      <td>2020-12-07 10:15:09</td>\n",
       "      <td>purchase</td>\n",
       "      <td>4.99</td>\n",
       "    </tr>\n",
       "    <tr>\n",
       "      <td>...</td>\n",
       "      <td>...</td>\n",
       "      <td>...</td>\n",
       "      <td>...</td>\n",
       "      <td>...</td>\n",
       "    </tr>\n",
       "    <tr>\n",
       "      <td>440312</td>\n",
       "      <td>245E85F65C358E08</td>\n",
       "      <td>2020-12-30 19:35:55</td>\n",
       "      <td>login</td>\n",
       "      <td>NaN</td>\n",
       "    </tr>\n",
       "    <tr>\n",
       "      <td>440313</td>\n",
       "      <td>9385A108F5A0A7A7</td>\n",
       "      <td>2020-12-30 10:54:15</td>\n",
       "      <td>login</td>\n",
       "      <td>NaN</td>\n",
       "    </tr>\n",
       "    <tr>\n",
       "      <td>440314</td>\n",
       "      <td>DB650B7559AC6EAC</td>\n",
       "      <td>2020-12-30 10:59:09</td>\n",
       "      <td>login</td>\n",
       "      <td>NaN</td>\n",
       "    </tr>\n",
       "    <tr>\n",
       "      <td>440315</td>\n",
       "      <td>F80C9BDDEA02E53C</td>\n",
       "      <td>2020-12-30 09:53:39</td>\n",
       "      <td>login</td>\n",
       "      <td>NaN</td>\n",
       "    </tr>\n",
       "    <tr>\n",
       "      <td>440316</td>\n",
       "      <td>7AEC61159B672CC5</td>\n",
       "      <td>2020-12-30 11:36:13</td>\n",
       "      <td>login</td>\n",
       "      <td>NaN</td>\n",
       "    </tr>\n",
       "  </tbody>\n",
       "</table>\n",
       "<p>440317 rows × 4 columns</p>\n",
       "</div>"
      ],
      "text/plain": [
       "                 user_id             event_dt event_name  details\n",
       "0       E1BDDCE0DAFA2679  2020-12-07 20:22:03   purchase    99.99\n",
       "1       7B6452F081F49504  2020-12-07 09:22:53   purchase     9.99\n",
       "2       9CD9F34546DF254C  2020-12-07 12:59:29   purchase     4.99\n",
       "3       96F27A054B191457  2020-12-07 04:02:40   purchase     4.99\n",
       "4       1FD7660FDF94CA1F  2020-12-07 10:15:09   purchase     4.99\n",
       "...                  ...                  ...        ...      ...\n",
       "440312  245E85F65C358E08  2020-12-30 19:35:55      login      NaN\n",
       "440313  9385A108F5A0A7A7  2020-12-30 10:54:15      login      NaN\n",
       "440314  DB650B7559AC6EAC  2020-12-30 10:59:09      login      NaN\n",
       "440315  F80C9BDDEA02E53C  2020-12-30 09:53:39      login      NaN\n",
       "440316  7AEC61159B672CC5  2020-12-30 11:36:13      login      NaN\n",
       "\n",
       "[440317 rows x 4 columns]"
      ]
     },
     "execution_count": 4,
     "metadata": {},
     "output_type": "execute_result"
    }
   ],
   "source": [
    "events=pd.read_csv('final_ab_events.csv')\n",
    "events"
   ]
  },
  {
   "cell_type": "code",
   "execution_count": 5,
   "id": "e027e5da",
   "metadata": {
    "scrolled": false
   },
   "outputs": [
    {
     "name": "stdout",
     "output_type": "stream",
     "text": [
      "<class 'pandas.core.frame.DataFrame'>\n",
      "RangeIndex: 440317 entries, 0 to 440316\n",
      "Data columns (total 4 columns):\n",
      "user_id       440317 non-null object\n",
      "event_dt      440317 non-null object\n",
      "event_name    440317 non-null object\n",
      "details       62740 non-null float64\n",
      "dtypes: float64(1), object(3)\n",
      "memory usage: 13.4+ MB\n"
     ]
    }
   ],
   "source": [
    "events.info()"
   ]
  },
  {
   "cell_type": "code",
   "execution_count": 6,
   "id": "8f7ffd1a",
   "metadata": {},
   "outputs": [
    {
     "data": {
      "text/plain": [
       "0"
      ]
     },
     "execution_count": 6,
     "metadata": {},
     "output_type": "execute_result"
    }
   ],
   "source": [
    "events.duplicated().sum()"
   ]
  },
  {
   "cell_type": "code",
   "execution_count": 7,
   "id": "2f54e24d",
   "metadata": {
    "scrolled": false
   },
   "outputs": [
    {
     "name": "stdout",
     "output_type": "stream",
     "text": [
      "<class 'pandas.core.frame.DataFrame'>\n",
      "Int64Index: 62740 entries, 0 to 62739\n",
      "Data columns (total 4 columns):\n",
      "user_id       62740 non-null object\n",
      "event_dt      62740 non-null object\n",
      "event_name    62740 non-null object\n",
      "details       62740 non-null float64\n",
      "dtypes: float64(1), object(3)\n",
      "memory usage: 2.4+ MB\n"
     ]
    }
   ],
   "source": [
    "events.query('event_name==\"purchase\"').info()"
   ]
  },
  {
   "cell_type": "code",
   "execution_count": 8,
   "id": "067fafdf",
   "metadata": {
    "scrolled": false
   },
   "outputs": [
    {
     "data": {
      "text/html": [
       "<div>\n",
       "<style scoped>\n",
       "    .dataframe tbody tr th:only-of-type {\n",
       "        vertical-align: middle;\n",
       "    }\n",
       "\n",
       "    .dataframe tbody tr th {\n",
       "        vertical-align: top;\n",
       "    }\n",
       "\n",
       "    .dataframe thead th {\n",
       "        text-align: right;\n",
       "    }\n",
       "</style>\n",
       "<table border=\"1\" class=\"dataframe\">\n",
       "  <thead>\n",
       "    <tr style=\"text-align: right;\">\n",
       "      <th></th>\n",
       "      <th>user_id</th>\n",
       "      <th>first_date</th>\n",
       "      <th>region</th>\n",
       "      <th>device</th>\n",
       "    </tr>\n",
       "  </thead>\n",
       "  <tbody>\n",
       "    <tr>\n",
       "      <td>0</td>\n",
       "      <td>D72A72121175D8BE</td>\n",
       "      <td>2020-12-07</td>\n",
       "      <td>EU</td>\n",
       "      <td>PC</td>\n",
       "    </tr>\n",
       "    <tr>\n",
       "      <td>1</td>\n",
       "      <td>F1C668619DFE6E65</td>\n",
       "      <td>2020-12-07</td>\n",
       "      <td>N.America</td>\n",
       "      <td>Android</td>\n",
       "    </tr>\n",
       "    <tr>\n",
       "      <td>2</td>\n",
       "      <td>2E1BF1D4C37EA01F</td>\n",
       "      <td>2020-12-07</td>\n",
       "      <td>EU</td>\n",
       "      <td>PC</td>\n",
       "    </tr>\n",
       "    <tr>\n",
       "      <td>3</td>\n",
       "      <td>50734A22C0C63768</td>\n",
       "      <td>2020-12-07</td>\n",
       "      <td>EU</td>\n",
       "      <td>iPhone</td>\n",
       "    </tr>\n",
       "    <tr>\n",
       "      <td>4</td>\n",
       "      <td>E1BDDCE0DAFA2679</td>\n",
       "      <td>2020-12-07</td>\n",
       "      <td>N.America</td>\n",
       "      <td>iPhone</td>\n",
       "    </tr>\n",
       "    <tr>\n",
       "      <td>...</td>\n",
       "      <td>...</td>\n",
       "      <td>...</td>\n",
       "      <td>...</td>\n",
       "      <td>...</td>\n",
       "    </tr>\n",
       "    <tr>\n",
       "      <td>61728</td>\n",
       "      <td>1DB53B933257165D</td>\n",
       "      <td>2020-12-20</td>\n",
       "      <td>EU</td>\n",
       "      <td>Android</td>\n",
       "    </tr>\n",
       "    <tr>\n",
       "      <td>61729</td>\n",
       "      <td>538643EB4527ED03</td>\n",
       "      <td>2020-12-20</td>\n",
       "      <td>EU</td>\n",
       "      <td>Mac</td>\n",
       "    </tr>\n",
       "    <tr>\n",
       "      <td>61730</td>\n",
       "      <td>7ADEE837D5D8CBBD</td>\n",
       "      <td>2020-12-20</td>\n",
       "      <td>EU</td>\n",
       "      <td>PC</td>\n",
       "    </tr>\n",
       "    <tr>\n",
       "      <td>61731</td>\n",
       "      <td>1C7D23927835213F</td>\n",
       "      <td>2020-12-20</td>\n",
       "      <td>EU</td>\n",
       "      <td>iPhone</td>\n",
       "    </tr>\n",
       "    <tr>\n",
       "      <td>61732</td>\n",
       "      <td>8F04273BB2860229</td>\n",
       "      <td>2020-12-20</td>\n",
       "      <td>EU</td>\n",
       "      <td>Android</td>\n",
       "    </tr>\n",
       "  </tbody>\n",
       "</table>\n",
       "<p>61733 rows × 4 columns</p>\n",
       "</div>"
      ],
      "text/plain": [
       "                user_id  first_date     region   device\n",
       "0      D72A72121175D8BE  2020-12-07         EU       PC\n",
       "1      F1C668619DFE6E65  2020-12-07  N.America  Android\n",
       "2      2E1BF1D4C37EA01F  2020-12-07         EU       PC\n",
       "3      50734A22C0C63768  2020-12-07         EU   iPhone\n",
       "4      E1BDDCE0DAFA2679  2020-12-07  N.America   iPhone\n",
       "...                 ...         ...        ...      ...\n",
       "61728  1DB53B933257165D  2020-12-20         EU  Android\n",
       "61729  538643EB4527ED03  2020-12-20         EU      Mac\n",
       "61730  7ADEE837D5D8CBBD  2020-12-20         EU       PC\n",
       "61731  1C7D23927835213F  2020-12-20         EU   iPhone\n",
       "61732  8F04273BB2860229  2020-12-20         EU  Android\n",
       "\n",
       "[61733 rows x 4 columns]"
      ]
     },
     "execution_count": 8,
     "metadata": {},
     "output_type": "execute_result"
    }
   ],
   "source": [
    "new_users=pd.read_csv('final_ab_new_users.csv')\n",
    "new_users"
   ]
  },
  {
   "cell_type": "code",
   "execution_count": 9,
   "id": "68cb4c6b",
   "metadata": {
    "scrolled": false
   },
   "outputs": [
    {
     "name": "stdout",
     "output_type": "stream",
     "text": [
      "<class 'pandas.core.frame.DataFrame'>\n",
      "RangeIndex: 61733 entries, 0 to 61732\n",
      "Data columns (total 4 columns):\n",
      "user_id       61733 non-null object\n",
      "first_date    61733 non-null object\n",
      "region        61733 non-null object\n",
      "device        61733 non-null object\n",
      "dtypes: object(4)\n",
      "memory usage: 1.9+ MB\n"
     ]
    }
   ],
   "source": [
    "new_users.info()"
   ]
  },
  {
   "cell_type": "code",
   "execution_count": 10,
   "id": "a8f26bec",
   "metadata": {},
   "outputs": [
    {
     "data": {
      "text/plain": [
       "0"
      ]
     },
     "execution_count": 10,
     "metadata": {},
     "output_type": "execute_result"
    }
   ],
   "source": [
    "new_users.duplicated().sum()"
   ]
  },
  {
   "cell_type": "code",
   "execution_count": 11,
   "id": "fb99f7e8",
   "metadata": {},
   "outputs": [
    {
     "data": {
      "text/html": [
       "<div>\n",
       "<style scoped>\n",
       "    .dataframe tbody tr th:only-of-type {\n",
       "        vertical-align: middle;\n",
       "    }\n",
       "\n",
       "    .dataframe tbody tr th {\n",
       "        vertical-align: top;\n",
       "    }\n",
       "\n",
       "    .dataframe thead th {\n",
       "        text-align: right;\n",
       "    }\n",
       "</style>\n",
       "<table border=\"1\" class=\"dataframe\">\n",
       "  <thead>\n",
       "    <tr style=\"text-align: right;\">\n",
       "      <th></th>\n",
       "      <th>user_id</th>\n",
       "      <th>group</th>\n",
       "      <th>ab_test</th>\n",
       "    </tr>\n",
       "  </thead>\n",
       "  <tbody>\n",
       "    <tr>\n",
       "      <td>0</td>\n",
       "      <td>D1ABA3E2887B6A73</td>\n",
       "      <td>A</td>\n",
       "      <td>recommender_system_test</td>\n",
       "    </tr>\n",
       "    <tr>\n",
       "      <td>1</td>\n",
       "      <td>A7A3664BD6242119</td>\n",
       "      <td>A</td>\n",
       "      <td>recommender_system_test</td>\n",
       "    </tr>\n",
       "    <tr>\n",
       "      <td>2</td>\n",
       "      <td>DABC14FDDFADD29E</td>\n",
       "      <td>A</td>\n",
       "      <td>recommender_system_test</td>\n",
       "    </tr>\n",
       "    <tr>\n",
       "      <td>3</td>\n",
       "      <td>04988C5DF189632E</td>\n",
       "      <td>A</td>\n",
       "      <td>recommender_system_test</td>\n",
       "    </tr>\n",
       "    <tr>\n",
       "      <td>4</td>\n",
       "      <td>482F14783456D21B</td>\n",
       "      <td>B</td>\n",
       "      <td>recommender_system_test</td>\n",
       "    </tr>\n",
       "    <tr>\n",
       "      <td>...</td>\n",
       "      <td>...</td>\n",
       "      <td>...</td>\n",
       "      <td>...</td>\n",
       "    </tr>\n",
       "    <tr>\n",
       "      <td>18263</td>\n",
       "      <td>1D302F8688B91781</td>\n",
       "      <td>B</td>\n",
       "      <td>interface_eu_test</td>\n",
       "    </tr>\n",
       "    <tr>\n",
       "      <td>18264</td>\n",
       "      <td>3DE51B726983B657</td>\n",
       "      <td>A</td>\n",
       "      <td>interface_eu_test</td>\n",
       "    </tr>\n",
       "    <tr>\n",
       "      <td>18265</td>\n",
       "      <td>F501F79D332BE86C</td>\n",
       "      <td>A</td>\n",
       "      <td>interface_eu_test</td>\n",
       "    </tr>\n",
       "    <tr>\n",
       "      <td>18266</td>\n",
       "      <td>63FBE257B05F2245</td>\n",
       "      <td>A</td>\n",
       "      <td>interface_eu_test</td>\n",
       "    </tr>\n",
       "    <tr>\n",
       "      <td>18267</td>\n",
       "      <td>79F9ABFB029CF724</td>\n",
       "      <td>B</td>\n",
       "      <td>interface_eu_test</td>\n",
       "    </tr>\n",
       "  </tbody>\n",
       "</table>\n",
       "<p>18268 rows × 3 columns</p>\n",
       "</div>"
      ],
      "text/plain": [
       "                user_id group                  ab_test\n",
       "0      D1ABA3E2887B6A73     A  recommender_system_test\n",
       "1      A7A3664BD6242119     A  recommender_system_test\n",
       "2      DABC14FDDFADD29E     A  recommender_system_test\n",
       "3      04988C5DF189632E     A  recommender_system_test\n",
       "4      482F14783456D21B     B  recommender_system_test\n",
       "...                 ...   ...                      ...\n",
       "18263  1D302F8688B91781     B        interface_eu_test\n",
       "18264  3DE51B726983B657     A        interface_eu_test\n",
       "18265  F501F79D332BE86C     A        interface_eu_test\n",
       "18266  63FBE257B05F2245     A        interface_eu_test\n",
       "18267  79F9ABFB029CF724     B        interface_eu_test\n",
       "\n",
       "[18268 rows x 3 columns]"
      ]
     },
     "execution_count": 11,
     "metadata": {},
     "output_type": "execute_result"
    }
   ],
   "source": [
    "participants=pd.read_csv('final_ab_participants.csv')\n",
    "participants"
   ]
  },
  {
   "cell_type": "code",
   "execution_count": 12,
   "id": "dcef4de2",
   "metadata": {
    "scrolled": false
   },
   "outputs": [
    {
     "name": "stdout",
     "output_type": "stream",
     "text": [
      "<class 'pandas.core.frame.DataFrame'>\n",
      "RangeIndex: 18268 entries, 0 to 18267\n",
      "Data columns (total 3 columns):\n",
      "user_id    18268 non-null object\n",
      "group      18268 non-null object\n",
      "ab_test    18268 non-null object\n",
      "dtypes: object(3)\n",
      "memory usage: 428.3+ KB\n"
     ]
    }
   ],
   "source": [
    "participants.info()"
   ]
  },
  {
   "cell_type": "code",
   "execution_count": 13,
   "id": "b003fb56",
   "metadata": {},
   "outputs": [
    {
     "data": {
      "text/plain": [
       "0"
      ]
     },
     "execution_count": 13,
     "metadata": {},
     "output_type": "execute_result"
    }
   ],
   "source": [
    "events.duplicated().sum()"
   ]
  },
  {
   "cell_type": "markdown",
   "id": "792ddd07",
   "metadata": {},
   "source": [
    "Проверка показала, что дубликатов и пропущенных значений в файлах нет"
   ]
  },
  {
   "cell_type": "markdown",
   "id": "87afe18e",
   "metadata": {},
   "source": [
    "Переведем даты из текстового формата в тип даты "
   ]
  },
  {
   "cell_type": "code",
   "execution_count": 14,
   "id": "fdb62620",
   "metadata": {
    "scrolled": false
   },
   "outputs": [
    {
     "name": "stdout",
     "output_type": "stream",
     "text": [
      "<class 'pandas.core.frame.DataFrame'>\n",
      "RangeIndex: 440317 entries, 0 to 440316\n",
      "Data columns (total 4 columns):\n",
      "user_id       440317 non-null object\n",
      "event_dt      440317 non-null datetime64[ns]\n",
      "event_name    440317 non-null object\n",
      "details       62740 non-null float64\n",
      "dtypes: datetime64[ns](1), float64(1), object(2)\n",
      "memory usage: 13.4+ MB\n"
     ]
    }
   ],
   "source": [
    "events['event_dt'] = pd.to_datetime(events['event_dt'], format='%Y-%m-%d')\n",
    "events.info()"
   ]
  },
  {
   "cell_type": "code",
   "execution_count": 15,
   "id": "3db735d0",
   "metadata": {
    "scrolled": false
   },
   "outputs": [
    {
     "name": "stdout",
     "output_type": "stream",
     "text": [
      "<class 'pandas.core.frame.DataFrame'>\n",
      "RangeIndex: 61733 entries, 0 to 61732\n",
      "Data columns (total 4 columns):\n",
      "user_id       61733 non-null object\n",
      "first_date    61733 non-null datetime64[ns]\n",
      "region        61733 non-null object\n",
      "device        61733 non-null object\n",
      "dtypes: datetime64[ns](1), object(3)\n",
      "memory usage: 1.9+ MB\n"
     ]
    }
   ],
   "source": [
    "new_users['first_date'] = pd.to_datetime(new_users['first_date'], format='%Y-%m-%d')\n",
    "new_users.info()"
   ]
  },
  {
   "cell_type": "markdown",
   "id": "8ec5821f",
   "metadata": {},
   "source": [
    "## Подготовка данных для теста"
   ]
  },
  {
   "cell_type": "markdown",
   "id": "dedd1a41",
   "metadata": {},
   "source": [
    "Нас интересуют данные только для теста recommender_system_test. Сделаем их отбор из всех данных."
   ]
  },
  {
   "cell_type": "code",
   "execution_count": 16,
   "id": "1783660c",
   "metadata": {},
   "outputs": [
    {
     "data": {
      "text/plain": [
       "interface_eu_test          11567\n",
       "recommender_system_test     6701\n",
       "Name: ab_test, dtype: int64"
      ]
     },
     "execution_count": 16,
     "metadata": {},
     "output_type": "execute_result"
    }
   ],
   "source": [
    "participants['ab_test'].value_counts()"
   ]
  },
  {
   "cell_type": "code",
   "execution_count": 17,
   "id": "53e3f9ba",
   "metadata": {},
   "outputs": [
    {
     "data": {
      "text/html": [
       "<div>\n",
       "<style scoped>\n",
       "    .dataframe tbody tr th:only-of-type {\n",
       "        vertical-align: middle;\n",
       "    }\n",
       "\n",
       "    .dataframe tbody tr th {\n",
       "        vertical-align: top;\n",
       "    }\n",
       "\n",
       "    .dataframe thead th {\n",
       "        text-align: right;\n",
       "    }\n",
       "</style>\n",
       "<table border=\"1\" class=\"dataframe\">\n",
       "  <thead>\n",
       "    <tr style=\"text-align: right;\">\n",
       "      <th></th>\n",
       "      <th>user_id</th>\n",
       "      <th>group</th>\n",
       "      <th>ab_test</th>\n",
       "    </tr>\n",
       "  </thead>\n",
       "  <tbody>\n",
       "    <tr>\n",
       "      <td>0</td>\n",
       "      <td>D1ABA3E2887B6A73</td>\n",
       "      <td>A</td>\n",
       "      <td>recommender_system_test</td>\n",
       "    </tr>\n",
       "    <tr>\n",
       "      <td>1</td>\n",
       "      <td>A7A3664BD6242119</td>\n",
       "      <td>A</td>\n",
       "      <td>recommender_system_test</td>\n",
       "    </tr>\n",
       "    <tr>\n",
       "      <td>2</td>\n",
       "      <td>DABC14FDDFADD29E</td>\n",
       "      <td>A</td>\n",
       "      <td>recommender_system_test</td>\n",
       "    </tr>\n",
       "    <tr>\n",
       "      <td>3</td>\n",
       "      <td>04988C5DF189632E</td>\n",
       "      <td>A</td>\n",
       "      <td>recommender_system_test</td>\n",
       "    </tr>\n",
       "    <tr>\n",
       "      <td>4</td>\n",
       "      <td>482F14783456D21B</td>\n",
       "      <td>B</td>\n",
       "      <td>recommender_system_test</td>\n",
       "    </tr>\n",
       "    <tr>\n",
       "      <td>...</td>\n",
       "      <td>...</td>\n",
       "      <td>...</td>\n",
       "      <td>...</td>\n",
       "    </tr>\n",
       "    <tr>\n",
       "      <td>6696</td>\n",
       "      <td>053FB26D6D49EDDC</td>\n",
       "      <td>A</td>\n",
       "      <td>recommender_system_test</td>\n",
       "    </tr>\n",
       "    <tr>\n",
       "      <td>6697</td>\n",
       "      <td>9D263B8EF15CF188</td>\n",
       "      <td>B</td>\n",
       "      <td>recommender_system_test</td>\n",
       "    </tr>\n",
       "    <tr>\n",
       "      <td>6698</td>\n",
       "      <td>F2FBBA33F37DEC46</td>\n",
       "      <td>A</td>\n",
       "      <td>recommender_system_test</td>\n",
       "    </tr>\n",
       "    <tr>\n",
       "      <td>6699</td>\n",
       "      <td>29C92313A98B1176</td>\n",
       "      <td>B</td>\n",
       "      <td>recommender_system_test</td>\n",
       "    </tr>\n",
       "    <tr>\n",
       "      <td>6700</td>\n",
       "      <td>6715343AFBA285AE</td>\n",
       "      <td>B</td>\n",
       "      <td>recommender_system_test</td>\n",
       "    </tr>\n",
       "  </tbody>\n",
       "</table>\n",
       "<p>6701 rows × 3 columns</p>\n",
       "</div>"
      ],
      "text/plain": [
       "               user_id group                  ab_test\n",
       "0     D1ABA3E2887B6A73     A  recommender_system_test\n",
       "1     A7A3664BD6242119     A  recommender_system_test\n",
       "2     DABC14FDDFADD29E     A  recommender_system_test\n",
       "3     04988C5DF189632E     A  recommender_system_test\n",
       "4     482F14783456D21B     B  recommender_system_test\n",
       "...                ...   ...                      ...\n",
       "6696  053FB26D6D49EDDC     A  recommender_system_test\n",
       "6697  9D263B8EF15CF188     B  recommender_system_test\n",
       "6698  F2FBBA33F37DEC46     A  recommender_system_test\n",
       "6699  29C92313A98B1176     B  recommender_system_test\n",
       "6700  6715343AFBA285AE     B  recommender_system_test\n",
       "\n",
       "[6701 rows x 3 columns]"
      ]
     },
     "execution_count": 17,
     "metadata": {},
     "output_type": "execute_result"
    }
   ],
   "source": [
    "our_participants=participants.query('ab_test == \"recommender_system_test\"')\n",
    "our_participants"
   ]
  },
  {
   "cell_type": "code",
   "execution_count": 18,
   "id": "bdee7ba1",
   "metadata": {},
   "outputs": [],
   "source": [
    "list_our_participants = our_participants['user_id']"
   ]
  },
  {
   "cell_type": "code",
   "execution_count": 19,
   "id": "7302ffcc",
   "metadata": {},
   "outputs": [
    {
     "data": {
      "text/html": [
       "<div>\n",
       "<style scoped>\n",
       "    .dataframe tbody tr th:only-of-type {\n",
       "        vertical-align: middle;\n",
       "    }\n",
       "\n",
       "    .dataframe tbody tr th {\n",
       "        vertical-align: top;\n",
       "    }\n",
       "\n",
       "    .dataframe thead th {\n",
       "        text-align: right;\n",
       "    }\n",
       "</style>\n",
       "<table border=\"1\" class=\"dataframe\">\n",
       "  <thead>\n",
       "    <tr style=\"text-align: right;\">\n",
       "      <th></th>\n",
       "      <th>user_id</th>\n",
       "      <th>first_date</th>\n",
       "      <th>region</th>\n",
       "      <th>device</th>\n",
       "    </tr>\n",
       "  </thead>\n",
       "  <tbody>\n",
       "    <tr>\n",
       "      <td>0</td>\n",
       "      <td>D72A72121175D8BE</td>\n",
       "      <td>2020-12-07</td>\n",
       "      <td>EU</td>\n",
       "      <td>PC</td>\n",
       "    </tr>\n",
       "    <tr>\n",
       "      <td>13</td>\n",
       "      <td>E6DE857AFBDC6102</td>\n",
       "      <td>2020-12-07</td>\n",
       "      <td>EU</td>\n",
       "      <td>PC</td>\n",
       "    </tr>\n",
       "    <tr>\n",
       "      <td>20</td>\n",
       "      <td>DD4352CDCF8C3D57</td>\n",
       "      <td>2020-12-07</td>\n",
       "      <td>EU</td>\n",
       "      <td>Android</td>\n",
       "    </tr>\n",
       "    <tr>\n",
       "      <td>23</td>\n",
       "      <td>831887FE7F2D6CBA</td>\n",
       "      <td>2020-12-07</td>\n",
       "      <td>EU</td>\n",
       "      <td>Android</td>\n",
       "    </tr>\n",
       "    <tr>\n",
       "      <td>39</td>\n",
       "      <td>4CB179C7F847320B</td>\n",
       "      <td>2020-12-07</td>\n",
       "      <td>EU</td>\n",
       "      <td>iPhone</td>\n",
       "    </tr>\n",
       "    <tr>\n",
       "      <td>...</td>\n",
       "      <td>...</td>\n",
       "      <td>...</td>\n",
       "      <td>...</td>\n",
       "      <td>...</td>\n",
       "    </tr>\n",
       "    <tr>\n",
       "      <td>61685</td>\n",
       "      <td>A09DFE27D4CFF8E8</td>\n",
       "      <td>2020-12-20</td>\n",
       "      <td>EU</td>\n",
       "      <td>Android</td>\n",
       "    </tr>\n",
       "    <tr>\n",
       "      <td>61693</td>\n",
       "      <td>0F7D49FC184EDCDE</td>\n",
       "      <td>2020-12-20</td>\n",
       "      <td>EU</td>\n",
       "      <td>PC</td>\n",
       "    </tr>\n",
       "    <tr>\n",
       "      <td>61709</td>\n",
       "      <td>574ACBC674BC385D</td>\n",
       "      <td>2020-12-20</td>\n",
       "      <td>EU</td>\n",
       "      <td>Mac</td>\n",
       "    </tr>\n",
       "    <tr>\n",
       "      <td>61710</td>\n",
       "      <td>0416B34D35C8C8B8</td>\n",
       "      <td>2020-12-20</td>\n",
       "      <td>EU</td>\n",
       "      <td>Android</td>\n",
       "    </tr>\n",
       "    <tr>\n",
       "      <td>61715</td>\n",
       "      <td>89CB0BFBC3F35126</td>\n",
       "      <td>2020-12-20</td>\n",
       "      <td>EU</td>\n",
       "      <td>PC</td>\n",
       "    </tr>\n",
       "  </tbody>\n",
       "</table>\n",
       "<p>6701 rows × 4 columns</p>\n",
       "</div>"
      ],
      "text/plain": [
       "                user_id first_date region   device\n",
       "0      D72A72121175D8BE 2020-12-07     EU       PC\n",
       "13     E6DE857AFBDC6102 2020-12-07     EU       PC\n",
       "20     DD4352CDCF8C3D57 2020-12-07     EU  Android\n",
       "23     831887FE7F2D6CBA 2020-12-07     EU  Android\n",
       "39     4CB179C7F847320B 2020-12-07     EU   iPhone\n",
       "...                 ...        ...    ...      ...\n",
       "61685  A09DFE27D4CFF8E8 2020-12-20     EU  Android\n",
       "61693  0F7D49FC184EDCDE 2020-12-20     EU       PC\n",
       "61709  574ACBC674BC385D 2020-12-20     EU      Mac\n",
       "61710  0416B34D35C8C8B8 2020-12-20     EU  Android\n",
       "61715  89CB0BFBC3F35126 2020-12-20     EU       PC\n",
       "\n",
       "[6701 rows x 4 columns]"
      ]
     },
     "execution_count": 19,
     "metadata": {},
     "output_type": "execute_result"
    }
   ],
   "source": [
    "our_users = new_users.loc[new_users['user_id'].isin(list_our_participants)]\n",
    "our_users"
   ]
  },
  {
   "cell_type": "markdown",
   "id": "ed47fa47",
   "metadata": {},
   "source": [
    "Добавим сведения о группах"
   ]
  },
  {
   "cell_type": "code",
   "execution_count": 20,
   "id": "61011f0c",
   "metadata": {},
   "outputs": [],
   "source": [
    "group_a = our_participants.query('group==\"A\"')['user_id']\n",
    "group_b = our_participants.query('group==\"B\"')['user_id']"
   ]
  },
  {
   "cell_type": "code",
   "execution_count": 21,
   "id": "221565e6",
   "metadata": {},
   "outputs": [
    {
     "data": {
      "text/html": [
       "<div>\n",
       "<style scoped>\n",
       "    .dataframe tbody tr th:only-of-type {\n",
       "        vertical-align: middle;\n",
       "    }\n",
       "\n",
       "    .dataframe tbody tr th {\n",
       "        vertical-align: top;\n",
       "    }\n",
       "\n",
       "    .dataframe thead th {\n",
       "        text-align: right;\n",
       "    }\n",
       "</style>\n",
       "<table border=\"1\" class=\"dataframe\">\n",
       "  <thead>\n",
       "    <tr style=\"text-align: right;\">\n",
       "      <th></th>\n",
       "      <th>user_id</th>\n",
       "      <th>first_date</th>\n",
       "      <th>region</th>\n",
       "      <th>device</th>\n",
       "      <th>group</th>\n",
       "    </tr>\n",
       "  </thead>\n",
       "  <tbody>\n",
       "    <tr>\n",
       "      <td>0</td>\n",
       "      <td>D72A72121175D8BE</td>\n",
       "      <td>2020-12-07</td>\n",
       "      <td>EU</td>\n",
       "      <td>PC</td>\n",
       "      <td>A</td>\n",
       "    </tr>\n",
       "    <tr>\n",
       "      <td>13</td>\n",
       "      <td>E6DE857AFBDC6102</td>\n",
       "      <td>2020-12-07</td>\n",
       "      <td>EU</td>\n",
       "      <td>PC</td>\n",
       "      <td>B</td>\n",
       "    </tr>\n",
       "    <tr>\n",
       "      <td>20</td>\n",
       "      <td>DD4352CDCF8C3D57</td>\n",
       "      <td>2020-12-07</td>\n",
       "      <td>EU</td>\n",
       "      <td>Android</td>\n",
       "      <td>B</td>\n",
       "    </tr>\n",
       "    <tr>\n",
       "      <td>23</td>\n",
       "      <td>831887FE7F2D6CBA</td>\n",
       "      <td>2020-12-07</td>\n",
       "      <td>EU</td>\n",
       "      <td>Android</td>\n",
       "      <td>A</td>\n",
       "    </tr>\n",
       "    <tr>\n",
       "      <td>39</td>\n",
       "      <td>4CB179C7F847320B</td>\n",
       "      <td>2020-12-07</td>\n",
       "      <td>EU</td>\n",
       "      <td>iPhone</td>\n",
       "      <td>B</td>\n",
       "    </tr>\n",
       "  </tbody>\n",
       "</table>\n",
       "</div>"
      ],
      "text/plain": [
       "             user_id first_date region   device group\n",
       "0   D72A72121175D8BE 2020-12-07     EU       PC     A\n",
       "13  E6DE857AFBDC6102 2020-12-07     EU       PC     B\n",
       "20  DD4352CDCF8C3D57 2020-12-07     EU  Android     B\n",
       "23  831887FE7F2D6CBA 2020-12-07     EU  Android     A\n",
       "39  4CB179C7F847320B 2020-12-07     EU   iPhone     B"
      ]
     },
     "execution_count": 21,
     "metadata": {},
     "output_type": "execute_result"
    }
   ],
   "source": [
    "our_users['group'] =\"\"\n",
    "our_users.loc[our_users['user_id'].isin(group_a),'group']=\"A\"\n",
    "our_users.loc[our_users['user_id'].isin(group_b),'group']=\"B\"\n",
    "our_users.head()"
   ]
  },
  {
   "cell_type": "markdown",
   "id": "2ad7358d",
   "metadata": {},
   "source": [
    "Проверим все ли в заданном диапазоне регистрации"
   ]
  },
  {
   "cell_type": "code",
   "execution_count": 22,
   "id": "239ac48d",
   "metadata": {},
   "outputs": [
    {
     "data": {
      "text/html": [
       "<div>\n",
       "<style scoped>\n",
       "    .dataframe tbody tr th:only-of-type {\n",
       "        vertical-align: middle;\n",
       "    }\n",
       "\n",
       "    .dataframe tbody tr th {\n",
       "        vertical-align: top;\n",
       "    }\n",
       "\n",
       "    .dataframe thead th {\n",
       "        text-align: right;\n",
       "    }\n",
       "</style>\n",
       "<table border=\"1\" class=\"dataframe\">\n",
       "  <thead>\n",
       "    <tr style=\"text-align: right;\">\n",
       "      <th></th>\n",
       "      <th>user_id</th>\n",
       "      <th>first_date</th>\n",
       "      <th>region</th>\n",
       "      <th>device</th>\n",
       "      <th>group</th>\n",
       "    </tr>\n",
       "  </thead>\n",
       "  <tbody>\n",
       "    <tr>\n",
       "      <td>0</td>\n",
       "      <td>D72A72121175D8BE</td>\n",
       "      <td>2020-12-07</td>\n",
       "      <td>EU</td>\n",
       "      <td>PC</td>\n",
       "      <td>A</td>\n",
       "    </tr>\n",
       "    <tr>\n",
       "      <td>3708</td>\n",
       "      <td>27802765D2458B2B</td>\n",
       "      <td>2020-12-07</td>\n",
       "      <td>EU</td>\n",
       "      <td>iPhone</td>\n",
       "      <td>A</td>\n",
       "    </tr>\n",
       "    <tr>\n",
       "      <td>3697</td>\n",
       "      <td>E3E47B8FBDF4EF63</td>\n",
       "      <td>2020-12-07</td>\n",
       "      <td>EU</td>\n",
       "      <td>Android</td>\n",
       "      <td>A</td>\n",
       "    </tr>\n",
       "    <tr>\n",
       "      <td>3695</td>\n",
       "      <td>07F90C8E398C5655</td>\n",
       "      <td>2020-12-07</td>\n",
       "      <td>EU</td>\n",
       "      <td>PC</td>\n",
       "      <td>A</td>\n",
       "    </tr>\n",
       "    <tr>\n",
       "      <td>3689</td>\n",
       "      <td>9B1F030CA887DAE6</td>\n",
       "      <td>2020-12-07</td>\n",
       "      <td>EU</td>\n",
       "      <td>iPhone</td>\n",
       "      <td>A</td>\n",
       "    </tr>\n",
       "    <tr>\n",
       "      <td>...</td>\n",
       "      <td>...</td>\n",
       "      <td>...</td>\n",
       "      <td>...</td>\n",
       "      <td>...</td>\n",
       "      <td>...</td>\n",
       "    </tr>\n",
       "    <tr>\n",
       "      <td>13102</td>\n",
       "      <td>B41D32C34490522C</td>\n",
       "      <td>2020-12-21</td>\n",
       "      <td>EU</td>\n",
       "      <td>Android</td>\n",
       "      <td>A</td>\n",
       "    </tr>\n",
       "    <tr>\n",
       "      <td>13088</td>\n",
       "      <td>C26D3BB63817A267</td>\n",
       "      <td>2020-12-21</td>\n",
       "      <td>EU</td>\n",
       "      <td>Android</td>\n",
       "      <td>A</td>\n",
       "    </tr>\n",
       "    <tr>\n",
       "      <td>13087</td>\n",
       "      <td>C18F8E6B295095EE</td>\n",
       "      <td>2020-12-21</td>\n",
       "      <td>EU</td>\n",
       "      <td>PC</td>\n",
       "      <td>A</td>\n",
       "    </tr>\n",
       "    <tr>\n",
       "      <td>12694</td>\n",
       "      <td>D649423E43336656</td>\n",
       "      <td>2020-12-21</td>\n",
       "      <td>EU</td>\n",
       "      <td>PC</td>\n",
       "      <td>A</td>\n",
       "    </tr>\n",
       "    <tr>\n",
       "      <td>13541</td>\n",
       "      <td>DCE8769399FCE8A3</td>\n",
       "      <td>2020-12-21</td>\n",
       "      <td>EU</td>\n",
       "      <td>iPhone</td>\n",
       "      <td>A</td>\n",
       "    </tr>\n",
       "  </tbody>\n",
       "</table>\n",
       "<p>3824 rows × 5 columns</p>\n",
       "</div>"
      ],
      "text/plain": [
       "                user_id first_date region   device group\n",
       "0      D72A72121175D8BE 2020-12-07     EU       PC     A\n",
       "3708   27802765D2458B2B 2020-12-07     EU   iPhone     A\n",
       "3697   E3E47B8FBDF4EF63 2020-12-07     EU  Android     A\n",
       "3695   07F90C8E398C5655 2020-12-07     EU       PC     A\n",
       "3689   9B1F030CA887DAE6 2020-12-07     EU   iPhone     A\n",
       "...                 ...        ...    ...      ...   ...\n",
       "13102  B41D32C34490522C 2020-12-21     EU  Android     A\n",
       "13088  C26D3BB63817A267 2020-12-21     EU  Android     A\n",
       "13087  C18F8E6B295095EE 2020-12-21     EU       PC     A\n",
       "12694  D649423E43336656 2020-12-21     EU       PC     A\n",
       "13541  DCE8769399FCE8A3 2020-12-21     EU   iPhone     A\n",
       "\n",
       "[3824 rows x 5 columns]"
      ]
     },
     "execution_count": 22,
     "metadata": {},
     "output_type": "execute_result"
    }
   ],
   "source": [
    "our_users.query('group==\"A\"').sort_values(by='first_date')"
   ]
  },
  {
   "cell_type": "code",
   "execution_count": 23,
   "id": "864eecdc",
   "metadata": {},
   "outputs": [
    {
     "data": {
      "text/html": [
       "<div>\n",
       "<style scoped>\n",
       "    .dataframe tbody tr th:only-of-type {\n",
       "        vertical-align: middle;\n",
       "    }\n",
       "\n",
       "    .dataframe tbody tr th {\n",
       "        vertical-align: top;\n",
       "    }\n",
       "\n",
       "    .dataframe thead th {\n",
       "        text-align: right;\n",
       "    }\n",
       "</style>\n",
       "<table border=\"1\" class=\"dataframe\">\n",
       "  <thead>\n",
       "    <tr style=\"text-align: right;\">\n",
       "      <th></th>\n",
       "      <th>user_id</th>\n",
       "      <th>first_date</th>\n",
       "      <th>region</th>\n",
       "      <th>device</th>\n",
       "      <th>group</th>\n",
       "    </tr>\n",
       "  </thead>\n",
       "  <tbody>\n",
       "    <tr>\n",
       "      <td>13</td>\n",
       "      <td>E6DE857AFBDC6102</td>\n",
       "      <td>2020-12-07</td>\n",
       "      <td>EU</td>\n",
       "      <td>PC</td>\n",
       "      <td>B</td>\n",
       "    </tr>\n",
       "    <tr>\n",
       "      <td>3608</td>\n",
       "      <td>F9945FBF588762BE</td>\n",
       "      <td>2020-12-07</td>\n",
       "      <td>EU</td>\n",
       "      <td>Android</td>\n",
       "      <td>B</td>\n",
       "    </tr>\n",
       "    <tr>\n",
       "      <td>3611</td>\n",
       "      <td>C845E42170625895</td>\n",
       "      <td>2020-12-07</td>\n",
       "      <td>EU</td>\n",
       "      <td>PC</td>\n",
       "      <td>B</td>\n",
       "    </tr>\n",
       "    <tr>\n",
       "      <td>3687</td>\n",
       "      <td>1AA90C1AD5727610</td>\n",
       "      <td>2020-12-07</td>\n",
       "      <td>EU</td>\n",
       "      <td>Mac</td>\n",
       "      <td>B</td>\n",
       "    </tr>\n",
       "    <tr>\n",
       "      <td>3699</td>\n",
       "      <td>9C2D0067A991213E</td>\n",
       "      <td>2020-12-07</td>\n",
       "      <td>EU</td>\n",
       "      <td>PC</td>\n",
       "      <td>B</td>\n",
       "    </tr>\n",
       "    <tr>\n",
       "      <td>...</td>\n",
       "      <td>...</td>\n",
       "      <td>...</td>\n",
       "      <td>...</td>\n",
       "      <td>...</td>\n",
       "      <td>...</td>\n",
       "    </tr>\n",
       "    <tr>\n",
       "      <td>13444</td>\n",
       "      <td>BADD0646825F4DB5</td>\n",
       "      <td>2020-12-21</td>\n",
       "      <td>EU</td>\n",
       "      <td>iPhone</td>\n",
       "      <td>B</td>\n",
       "    </tr>\n",
       "    <tr>\n",
       "      <td>13409</td>\n",
       "      <td>763DEEB7EA385F29</td>\n",
       "      <td>2020-12-21</td>\n",
       "      <td>EU</td>\n",
       "      <td>Android</td>\n",
       "      <td>B</td>\n",
       "    </tr>\n",
       "    <tr>\n",
       "      <td>13400</td>\n",
       "      <td>32A2ABB01257F04B</td>\n",
       "      <td>2020-12-21</td>\n",
       "      <td>EU</td>\n",
       "      <td>PC</td>\n",
       "      <td>B</td>\n",
       "    </tr>\n",
       "    <tr>\n",
       "      <td>13653</td>\n",
       "      <td>D2BF86D9C385D6B9</td>\n",
       "      <td>2020-12-21</td>\n",
       "      <td>EU</td>\n",
       "      <td>PC</td>\n",
       "      <td>B</td>\n",
       "    </tr>\n",
       "    <tr>\n",
       "      <td>15274</td>\n",
       "      <td>F0C7A573852099F0</td>\n",
       "      <td>2020-12-21</td>\n",
       "      <td>EU</td>\n",
       "      <td>Mac</td>\n",
       "      <td>B</td>\n",
       "    </tr>\n",
       "  </tbody>\n",
       "</table>\n",
       "<p>2877 rows × 5 columns</p>\n",
       "</div>"
      ],
      "text/plain": [
       "                user_id first_date region   device group\n",
       "13     E6DE857AFBDC6102 2020-12-07     EU       PC     B\n",
       "3608   F9945FBF588762BE 2020-12-07     EU  Android     B\n",
       "3611   C845E42170625895 2020-12-07     EU       PC     B\n",
       "3687   1AA90C1AD5727610 2020-12-07     EU      Mac     B\n",
       "3699   9C2D0067A991213E 2020-12-07     EU       PC     B\n",
       "...                 ...        ...    ...      ...   ...\n",
       "13444  BADD0646825F4DB5 2020-12-21     EU   iPhone     B\n",
       "13409  763DEEB7EA385F29 2020-12-21     EU  Android     B\n",
       "13400  32A2ABB01257F04B 2020-12-21     EU       PC     B\n",
       "13653  D2BF86D9C385D6B9 2020-12-21     EU       PC     B\n",
       "15274  F0C7A573852099F0 2020-12-21     EU      Mac     B\n",
       "\n",
       "[2877 rows x 5 columns]"
      ]
     },
     "execution_count": 23,
     "metadata": {},
     "output_type": "execute_result"
    }
   ],
   "source": [
    "our_users.query('group==\"B\"').sort_values(by='first_date')"
   ]
  },
  {
   "cell_type": "markdown",
   "id": "73ee5601",
   "metadata": {},
   "source": [
    "Посмотрим численность пользователей"
   ]
  },
  {
   "cell_type": "code",
   "execution_count": 24,
   "id": "02471f9d",
   "metadata": {},
   "outputs": [
    {
     "data": {
      "text/plain": [
       "EU           46270\n",
       "N.America     9155\n",
       "CIS           3155\n",
       "APAC          3153\n",
       "Name: region, dtype: int64"
      ]
     },
     "execution_count": 24,
     "metadata": {},
     "output_type": "execute_result"
    }
   ],
   "source": [
    "new_users['region'].value_counts() "
   ]
  },
  {
   "cell_type": "code",
   "execution_count": 25,
   "id": "f3868fcd",
   "metadata": {},
   "outputs": [
    {
     "data": {
      "text/plain": [
       "EU           6351\n",
       "N.America     223\n",
       "APAC           72\n",
       "CIS            55\n",
       "Name: region, dtype: int64"
      ]
     },
     "execution_count": 25,
     "metadata": {},
     "output_type": "execute_result"
    }
   ],
   "source": [
    "our_users['region'].value_counts()"
   ]
  },
  {
   "cell_type": "markdown",
   "id": "e4c4dc3c",
   "metadata": {},
   "source": [
    "По условию должен быть region ==\"EU\""
   ]
  },
  {
   "cell_type": "code",
   "execution_count": 26,
   "id": "f440ac54",
   "metadata": {},
   "outputs": [
    {
     "data": {
      "text/html": [
       "<div>\n",
       "<style scoped>\n",
       "    .dataframe tbody tr th:only-of-type {\n",
       "        vertical-align: middle;\n",
       "    }\n",
       "\n",
       "    .dataframe tbody tr th {\n",
       "        vertical-align: top;\n",
       "    }\n",
       "\n",
       "    .dataframe thead th {\n",
       "        text-align: right;\n",
       "    }\n",
       "</style>\n",
       "<table border=\"1\" class=\"dataframe\">\n",
       "  <thead>\n",
       "    <tr style=\"text-align: right;\">\n",
       "      <th></th>\n",
       "      <th>user_id</th>\n",
       "      <th>first_date</th>\n",
       "      <th>region</th>\n",
       "      <th>device</th>\n",
       "      <th>group</th>\n",
       "    </tr>\n",
       "  </thead>\n",
       "  <tbody>\n",
       "    <tr>\n",
       "      <td>0</td>\n",
       "      <td>D72A72121175D8BE</td>\n",
       "      <td>2020-12-07</td>\n",
       "      <td>EU</td>\n",
       "      <td>PC</td>\n",
       "      <td>A</td>\n",
       "    </tr>\n",
       "    <tr>\n",
       "      <td>13</td>\n",
       "      <td>E6DE857AFBDC6102</td>\n",
       "      <td>2020-12-07</td>\n",
       "      <td>EU</td>\n",
       "      <td>PC</td>\n",
       "      <td>B</td>\n",
       "    </tr>\n",
       "    <tr>\n",
       "      <td>20</td>\n",
       "      <td>DD4352CDCF8C3D57</td>\n",
       "      <td>2020-12-07</td>\n",
       "      <td>EU</td>\n",
       "      <td>Android</td>\n",
       "      <td>B</td>\n",
       "    </tr>\n",
       "    <tr>\n",
       "      <td>23</td>\n",
       "      <td>831887FE7F2D6CBA</td>\n",
       "      <td>2020-12-07</td>\n",
       "      <td>EU</td>\n",
       "      <td>Android</td>\n",
       "      <td>A</td>\n",
       "    </tr>\n",
       "    <tr>\n",
       "      <td>39</td>\n",
       "      <td>4CB179C7F847320B</td>\n",
       "      <td>2020-12-07</td>\n",
       "      <td>EU</td>\n",
       "      <td>iPhone</td>\n",
       "      <td>B</td>\n",
       "    </tr>\n",
       "    <tr>\n",
       "      <td>...</td>\n",
       "      <td>...</td>\n",
       "      <td>...</td>\n",
       "      <td>...</td>\n",
       "      <td>...</td>\n",
       "      <td>...</td>\n",
       "    </tr>\n",
       "    <tr>\n",
       "      <td>61685</td>\n",
       "      <td>A09DFE27D4CFF8E8</td>\n",
       "      <td>2020-12-20</td>\n",
       "      <td>EU</td>\n",
       "      <td>Android</td>\n",
       "      <td>B</td>\n",
       "    </tr>\n",
       "    <tr>\n",
       "      <td>61693</td>\n",
       "      <td>0F7D49FC184EDCDE</td>\n",
       "      <td>2020-12-20</td>\n",
       "      <td>EU</td>\n",
       "      <td>PC</td>\n",
       "      <td>A</td>\n",
       "    </tr>\n",
       "    <tr>\n",
       "      <td>61709</td>\n",
       "      <td>574ACBC674BC385D</td>\n",
       "      <td>2020-12-20</td>\n",
       "      <td>EU</td>\n",
       "      <td>Mac</td>\n",
       "      <td>A</td>\n",
       "    </tr>\n",
       "    <tr>\n",
       "      <td>61710</td>\n",
       "      <td>0416B34D35C8C8B8</td>\n",
       "      <td>2020-12-20</td>\n",
       "      <td>EU</td>\n",
       "      <td>Android</td>\n",
       "      <td>A</td>\n",
       "    </tr>\n",
       "    <tr>\n",
       "      <td>61715</td>\n",
       "      <td>89CB0BFBC3F35126</td>\n",
       "      <td>2020-12-20</td>\n",
       "      <td>EU</td>\n",
       "      <td>PC</td>\n",
       "      <td>B</td>\n",
       "    </tr>\n",
       "  </tbody>\n",
       "</table>\n",
       "<p>6351 rows × 5 columns</p>\n",
       "</div>"
      ],
      "text/plain": [
       "                user_id first_date region   device group\n",
       "0      D72A72121175D8BE 2020-12-07     EU       PC     A\n",
       "13     E6DE857AFBDC6102 2020-12-07     EU       PC     B\n",
       "20     DD4352CDCF8C3D57 2020-12-07     EU  Android     B\n",
       "23     831887FE7F2D6CBA 2020-12-07     EU  Android     A\n",
       "39     4CB179C7F847320B 2020-12-07     EU   iPhone     B\n",
       "...                 ...        ...    ...      ...   ...\n",
       "61685  A09DFE27D4CFF8E8 2020-12-20     EU  Android     B\n",
       "61693  0F7D49FC184EDCDE 2020-12-20     EU       PC     A\n",
       "61709  574ACBC674BC385D 2020-12-20     EU      Mac     A\n",
       "61710  0416B34D35C8C8B8 2020-12-20     EU  Android     A\n",
       "61715  89CB0BFBC3F35126 2020-12-20     EU       PC     B\n",
       "\n",
       "[6351 rows x 5 columns]"
      ]
     },
     "execution_count": 26,
     "metadata": {},
     "output_type": "execute_result"
    }
   ],
   "source": [
    "our_users=our_users.query('region ==\"EU\"')\n",
    "our_users"
   ]
  },
  {
   "cell_type": "markdown",
   "id": "119dade3",
   "metadata": {},
   "source": [
    "Проверим, нет ли пересечений в группах"
   ]
  },
  {
   "cell_type": "code",
   "execution_count": 27,
   "id": "f905617b",
   "metadata": {},
   "outputs": [],
   "source": [
    "group_a = our_users.query('group==\"A\"')['user_id'].to_frame()\n",
    "group_b = our_users.query('group==\"B\"')['user_id'].to_frame()"
   ]
  },
  {
   "cell_type": "code",
   "execution_count": 28,
   "id": "67a527cf",
   "metadata": {},
   "outputs": [
    {
     "data": {
      "text/html": [
       "<div>\n",
       "<style scoped>\n",
       "    .dataframe tbody tr th:only-of-type {\n",
       "        vertical-align: middle;\n",
       "    }\n",
       "\n",
       "    .dataframe tbody tr th {\n",
       "        vertical-align: top;\n",
       "    }\n",
       "\n",
       "    .dataframe thead th {\n",
       "        text-align: right;\n",
       "    }\n",
       "</style>\n",
       "<table border=\"1\" class=\"dataframe\">\n",
       "  <thead>\n",
       "    <tr style=\"text-align: right;\">\n",
       "      <th></th>\n",
       "      <th>user_id</th>\n",
       "    </tr>\n",
       "  </thead>\n",
       "  <tbody>\n",
       "  </tbody>\n",
       "</table>\n",
       "</div>"
      ],
      "text/plain": [
       "Empty DataFrame\n",
       "Columns: [user_id]\n",
       "Index: []"
      ]
     },
     "execution_count": 28,
     "metadata": {},
     "output_type": "execute_result"
    }
   ],
   "source": [
    "errors_participants = group_a.merge(group_b,on='user_id', how='inner')\n",
    "errors_participants"
   ]
  },
  {
   "cell_type": "code",
   "execution_count": 29,
   "id": "4f5fa565",
   "metadata": {},
   "outputs": [
    {
     "name": "stdout",
     "output_type": "stream",
     "text": [
      "participants A = 3634 ,  participants B = 2717\n"
     ]
    }
   ],
   "source": [
    "print('participants A =',len(group_a),',  participants B =',len(group_b))"
   ]
  },
  {
   "cell_type": "markdown",
   "id": "633b1491",
   "metadata": {},
   "source": [
    "Пересечений нет, но группы не равноценны"
   ]
  },
  {
   "cell_type": "markdown",
   "id": "6dc6fc85",
   "metadata": {},
   "source": [
    "Добавим сведения о группах в events"
   ]
  },
  {
   "cell_type": "code",
   "execution_count": 30,
   "id": "2af15914",
   "metadata": {},
   "outputs": [],
   "source": [
    "group_a1 = our_users.query('group==\"A\"')['user_id']\n",
    "group_b1 = our_users.query('group==\"B\"')['user_id']"
   ]
  },
  {
   "cell_type": "code",
   "execution_count": 31,
   "id": "055c9633",
   "metadata": {},
   "outputs": [],
   "source": [
    "events['group'] =\"\"\n",
    "events.loc[events['user_id'].isin(group_a1),'group']=\"A\"\n",
    "events.loc[events['user_id'].isin(group_b1),'group']=\"B\""
   ]
  },
  {
   "cell_type": "code",
   "execution_count": 32,
   "id": "54dd10ac",
   "metadata": {},
   "outputs": [
    {
     "data": {
      "text/html": [
       "<div>\n",
       "<style scoped>\n",
       "    .dataframe tbody tr th:only-of-type {\n",
       "        vertical-align: middle;\n",
       "    }\n",
       "\n",
       "    .dataframe tbody tr th {\n",
       "        vertical-align: top;\n",
       "    }\n",
       "\n",
       "    .dataframe thead th {\n",
       "        text-align: right;\n",
       "    }\n",
       "</style>\n",
       "<table border=\"1\" class=\"dataframe\">\n",
       "  <thead>\n",
       "    <tr style=\"text-align: right;\">\n",
       "      <th></th>\n",
       "      <th>user_id</th>\n",
       "      <th>event_dt</th>\n",
       "      <th>event_name</th>\n",
       "      <th>details</th>\n",
       "      <th>group</th>\n",
       "    </tr>\n",
       "  </thead>\n",
       "  <tbody>\n",
       "    <tr>\n",
       "      <td>5</td>\n",
       "      <td>831887FE7F2D6CBA</td>\n",
       "      <td>2020-12-07 06:50:29</td>\n",
       "      <td>purchase</td>\n",
       "      <td>4.99</td>\n",
       "      <td>A</td>\n",
       "    </tr>\n",
       "    <tr>\n",
       "      <td>17</td>\n",
       "      <td>3C5DD0288AC4FE23</td>\n",
       "      <td>2020-12-07 19:42:40</td>\n",
       "      <td>purchase</td>\n",
       "      <td>4.99</td>\n",
       "      <td>A</td>\n",
       "    </tr>\n",
       "    <tr>\n",
       "      <td>58</td>\n",
       "      <td>49EA242586C87836</td>\n",
       "      <td>2020-12-07 06:31:24</td>\n",
       "      <td>purchase</td>\n",
       "      <td>99.99</td>\n",
       "      <td>B</td>\n",
       "    </tr>\n",
       "    <tr>\n",
       "      <td>71</td>\n",
       "      <td>2B06EB547B7AAD08</td>\n",
       "      <td>2020-12-07 21:36:38</td>\n",
       "      <td>purchase</td>\n",
       "      <td>4.99</td>\n",
       "      <td>A</td>\n",
       "    </tr>\n",
       "    <tr>\n",
       "      <td>74</td>\n",
       "      <td>A640F31CAC7823A6</td>\n",
       "      <td>2020-12-07 18:48:26</td>\n",
       "      <td>purchase</td>\n",
       "      <td>4.99</td>\n",
       "      <td>B</td>\n",
       "    </tr>\n",
       "    <tr>\n",
       "      <td>...</td>\n",
       "      <td>...</td>\n",
       "      <td>...</td>\n",
       "      <td>...</td>\n",
       "      <td>...</td>\n",
       "      <td>...</td>\n",
       "    </tr>\n",
       "    <tr>\n",
       "      <td>440239</td>\n",
       "      <td>D21F0D4FDCD82DB2</td>\n",
       "      <td>2020-12-29 02:17:00</td>\n",
       "      <td>login</td>\n",
       "      <td>NaN</td>\n",
       "      <td>A</td>\n",
       "    </tr>\n",
       "    <tr>\n",
       "      <td>440258</td>\n",
       "      <td>96BDD55846D1F7F6</td>\n",
       "      <td>2020-12-29 16:53:42</td>\n",
       "      <td>login</td>\n",
       "      <td>NaN</td>\n",
       "      <td>A</td>\n",
       "    </tr>\n",
       "    <tr>\n",
       "      <td>440267</td>\n",
       "      <td>553BAE96C6EB6240</td>\n",
       "      <td>2020-12-29 14:09:14</td>\n",
       "      <td>login</td>\n",
       "      <td>NaN</td>\n",
       "      <td>A</td>\n",
       "    </tr>\n",
       "    <tr>\n",
       "      <td>440281</td>\n",
       "      <td>DD4352CDCF8C3D57</td>\n",
       "      <td>2020-12-30 12:42:56</td>\n",
       "      <td>login</td>\n",
       "      <td>NaN</td>\n",
       "      <td>B</td>\n",
       "    </tr>\n",
       "    <tr>\n",
       "      <td>440289</td>\n",
       "      <td>75845C83258FBF73</td>\n",
       "      <td>2020-12-30 06:42:52</td>\n",
       "      <td>login</td>\n",
       "      <td>NaN</td>\n",
       "      <td>B</td>\n",
       "    </tr>\n",
       "  </tbody>\n",
       "</table>\n",
       "<p>23420 rows × 5 columns</p>\n",
       "</div>"
      ],
      "text/plain": [
       "                 user_id            event_dt event_name  details group\n",
       "5       831887FE7F2D6CBA 2020-12-07 06:50:29   purchase     4.99     A\n",
       "17      3C5DD0288AC4FE23 2020-12-07 19:42:40   purchase     4.99     A\n",
       "58      49EA242586C87836 2020-12-07 06:31:24   purchase    99.99     B\n",
       "71      2B06EB547B7AAD08 2020-12-07 21:36:38   purchase     4.99     A\n",
       "74      A640F31CAC7823A6 2020-12-07 18:48:26   purchase     4.99     B\n",
       "...                  ...                 ...        ...      ...   ...\n",
       "440239  D21F0D4FDCD82DB2 2020-12-29 02:17:00      login      NaN     A\n",
       "440258  96BDD55846D1F7F6 2020-12-29 16:53:42      login      NaN     A\n",
       "440267  553BAE96C6EB6240 2020-12-29 14:09:14      login      NaN     A\n",
       "440281  DD4352CDCF8C3D57 2020-12-30 12:42:56      login      NaN     B\n",
       "440289  75845C83258FBF73 2020-12-30 06:42:52      login      NaN     B\n",
       "\n",
       "[23420 rows x 5 columns]"
      ]
     },
     "execution_count": 32,
     "metadata": {},
     "output_type": "execute_result"
    }
   ],
   "source": [
    "events=events.query('group != \"\"')\n",
    "events"
   ]
  },
  {
   "cell_type": "markdown",
   "id": "a9e360d0",
   "metadata": {},
   "source": [
    "Посмотрим, участвуют ли \"наши люди\" в других акциях"
   ]
  },
  {
   "cell_type": "code",
   "execution_count": 33,
   "id": "b7d38dd8",
   "metadata": {},
   "outputs": [
    {
     "data": {
      "text/plain": [
       "887"
      ]
     },
     "execution_count": 33,
     "metadata": {},
     "output_type": "execute_result"
    }
   ],
   "source": [
    "list_another_users=participants.query('ab_test != \"recommender_system_test\"')['user_id']\n",
    "others_users= events['user_id'].loc[events['user_id'].isin(list_another_users)].unique()\n",
    "#list_others_users = others_users['user_id'].unique()\n",
    "#len(list_others_users)\n",
    "len(others_users)"
   ]
  },
  {
   "cell_type": "markdown",
   "id": "682167ba",
   "metadata": {},
   "source": [
    "Участвуют, но сказали: не трогать."
   ]
  },
  {
   "cell_type": "markdown",
   "id": "74eeabfb",
   "metadata": {},
   "source": [
    "## Воронка"
   ]
  },
  {
   "cell_type": "markdown",
   "id": "5027242f",
   "metadata": {},
   "source": [
    "Посмотрим, как распределились покупки за этот период"
   ]
  },
  {
   "cell_type": "code",
   "execution_count": 34,
   "id": "24ec01b7",
   "metadata": {},
   "outputs": [
    {
     "data": {
      "text/html": [
       "<div>\n",
       "<style scoped>\n",
       "    .dataframe tbody tr th:only-of-type {\n",
       "        vertical-align: middle;\n",
       "    }\n",
       "\n",
       "    .dataframe tbody tr th {\n",
       "        vertical-align: top;\n",
       "    }\n",
       "\n",
       "    .dataframe thead th {\n",
       "        text-align: right;\n",
       "    }\n",
       "</style>\n",
       "<table border=\"1\" class=\"dataframe\">\n",
       "  <thead>\n",
       "    <tr style=\"text-align: right;\">\n",
       "      <th></th>\n",
       "      <th>user_id</th>\n",
       "      <th>event_dt</th>\n",
       "      <th>event_name</th>\n",
       "      <th>details</th>\n",
       "      <th>group</th>\n",
       "    </tr>\n",
       "  </thead>\n",
       "  <tbody>\n",
       "    <tr>\n",
       "      <td>5</td>\n",
       "      <td>831887FE7F2D6CBA</td>\n",
       "      <td>2020-12-07 06:50:29</td>\n",
       "      <td>purchase</td>\n",
       "      <td>4.99</td>\n",
       "      <td>A</td>\n",
       "    </tr>\n",
       "    <tr>\n",
       "      <td>17</td>\n",
       "      <td>3C5DD0288AC4FE23</td>\n",
       "      <td>2020-12-07 19:42:40</td>\n",
       "      <td>purchase</td>\n",
       "      <td>4.99</td>\n",
       "      <td>A</td>\n",
       "    </tr>\n",
       "    <tr>\n",
       "      <td>58</td>\n",
       "      <td>49EA242586C87836</td>\n",
       "      <td>2020-12-07 06:31:24</td>\n",
       "      <td>purchase</td>\n",
       "      <td>99.99</td>\n",
       "      <td>B</td>\n",
       "    </tr>\n",
       "    <tr>\n",
       "      <td>71</td>\n",
       "      <td>2B06EB547B7AAD08</td>\n",
       "      <td>2020-12-07 21:36:38</td>\n",
       "      <td>purchase</td>\n",
       "      <td>4.99</td>\n",
       "      <td>A</td>\n",
       "    </tr>\n",
       "    <tr>\n",
       "      <td>74</td>\n",
       "      <td>A640F31CAC7823A6</td>\n",
       "      <td>2020-12-07 18:48:26</td>\n",
       "      <td>purchase</td>\n",
       "      <td>4.99</td>\n",
       "      <td>B</td>\n",
       "    </tr>\n",
       "    <tr>\n",
       "      <td>...</td>\n",
       "      <td>...</td>\n",
       "      <td>...</td>\n",
       "      <td>...</td>\n",
       "      <td>...</td>\n",
       "      <td>...</td>\n",
       "    </tr>\n",
       "    <tr>\n",
       "      <td>440239</td>\n",
       "      <td>D21F0D4FDCD82DB2</td>\n",
       "      <td>2020-12-29 02:17:00</td>\n",
       "      <td>login</td>\n",
       "      <td>NaN</td>\n",
       "      <td>A</td>\n",
       "    </tr>\n",
       "    <tr>\n",
       "      <td>440258</td>\n",
       "      <td>96BDD55846D1F7F6</td>\n",
       "      <td>2020-12-29 16:53:42</td>\n",
       "      <td>login</td>\n",
       "      <td>NaN</td>\n",
       "      <td>A</td>\n",
       "    </tr>\n",
       "    <tr>\n",
       "      <td>440267</td>\n",
       "      <td>553BAE96C6EB6240</td>\n",
       "      <td>2020-12-29 14:09:14</td>\n",
       "      <td>login</td>\n",
       "      <td>NaN</td>\n",
       "      <td>A</td>\n",
       "    </tr>\n",
       "    <tr>\n",
       "      <td>440281</td>\n",
       "      <td>DD4352CDCF8C3D57</td>\n",
       "      <td>2020-12-30 12:42:56</td>\n",
       "      <td>login</td>\n",
       "      <td>NaN</td>\n",
       "      <td>B</td>\n",
       "    </tr>\n",
       "    <tr>\n",
       "      <td>440289</td>\n",
       "      <td>75845C83258FBF73</td>\n",
       "      <td>2020-12-30 06:42:52</td>\n",
       "      <td>login</td>\n",
       "      <td>NaN</td>\n",
       "      <td>B</td>\n",
       "    </tr>\n",
       "  </tbody>\n",
       "</table>\n",
       "<p>23420 rows × 5 columns</p>\n",
       "</div>"
      ],
      "text/plain": [
       "                 user_id            event_dt event_name  details group\n",
       "5       831887FE7F2D6CBA 2020-12-07 06:50:29   purchase     4.99     A\n",
       "17      3C5DD0288AC4FE23 2020-12-07 19:42:40   purchase     4.99     A\n",
       "58      49EA242586C87836 2020-12-07 06:31:24   purchase    99.99     B\n",
       "71      2B06EB547B7AAD08 2020-12-07 21:36:38   purchase     4.99     A\n",
       "74      A640F31CAC7823A6 2020-12-07 18:48:26   purchase     4.99     B\n",
       "...                  ...                 ...        ...      ...   ...\n",
       "440239  D21F0D4FDCD82DB2 2020-12-29 02:17:00      login      NaN     A\n",
       "440258  96BDD55846D1F7F6 2020-12-29 16:53:42      login      NaN     A\n",
       "440267  553BAE96C6EB6240 2020-12-29 14:09:14      login      NaN     A\n",
       "440281  DD4352CDCF8C3D57 2020-12-30 12:42:56      login      NaN     B\n",
       "440289  75845C83258FBF73 2020-12-30 06:42:52      login      NaN     B\n",
       "\n",
       "[23420 rows x 5 columns]"
      ]
     },
     "execution_count": 34,
     "metadata": {},
     "output_type": "execute_result"
    }
   ],
   "source": [
    "events"
   ]
  },
  {
   "cell_type": "code",
   "execution_count": 35,
   "id": "bd42cc0f",
   "metadata": {},
   "outputs": [
    {
     "data": {
      "image/png": "[encoded data removed]",
      "text/plain": [
       "<Figure size 1080x360 with 1 Axes>"
      ]
     },
     "metadata": {
      "needs_background": "light"
     },
     "output_type": "display_data"
    }
   ],
   "source": [
    "events.query('event_name==\"purchase\"')['event_dt'].hist(figsize=(15,5)).set_title('Распределение количества покупок пользователей по датам');"
   ]
  },
  {
   "cell_type": "markdown",
   "id": "c7977152",
   "metadata": {},
   "source": [
    "Christmas и Новый год  не самое лучшее время для независимых исследований"
   ]
  },
  {
   "cell_type": "markdown",
   "id": "f3bb59f4",
   "metadata": {},
   "source": [
    "Посмотрим какие и сколько событий всего"
   ]
  },
  {
   "cell_type": "code",
   "execution_count": 36,
   "id": "eb0d5225",
   "metadata": {},
   "outputs": [
    {
     "data": {
      "text/plain": [
       "login           10595\n",
       "product_page     6554\n",
       "purchase         3196\n",
       "product_cart     3075\n",
       "Name: event_name, dtype: int64"
      ]
     },
     "execution_count": 36,
     "metadata": {},
     "output_type": "execute_result"
    }
   ],
   "source": [
    "events['event_name'].value_counts()"
   ]
  },
  {
   "cell_type": "code",
   "execution_count": 37,
   "id": "8f6df611",
   "metadata": {},
   "outputs": [
    {
     "data": {
      "text/html": [
       "<div>\n",
       "<style scoped>\n",
       "    .dataframe tbody tr th:only-of-type {\n",
       "        vertical-align: middle;\n",
       "    }\n",
       "\n",
       "    .dataframe tbody tr th {\n",
       "        vertical-align: top;\n",
       "    }\n",
       "\n",
       "    .dataframe thead th {\n",
       "        text-align: right;\n",
       "    }\n",
       "</style>\n",
       "<table border=\"1\" class=\"dataframe\">\n",
       "  <thead>\n",
       "    <tr style=\"text-align: right;\">\n",
       "      <th></th>\n",
       "      <th>count</th>\n",
       "      <th>nunique</th>\n",
       "      <th>per_one</th>\n",
       "    </tr>\n",
       "    <tr>\n",
       "      <th>group</th>\n",
       "      <th></th>\n",
       "      <th></th>\n",
       "      <th></th>\n",
       "    </tr>\n",
       "  </thead>\n",
       "  <tbody>\n",
       "    <tr>\n",
       "      <td>A</td>\n",
       "      <td>18309</td>\n",
       "      <td>2604</td>\n",
       "      <td>7.03</td>\n",
       "    </tr>\n",
       "    <tr>\n",
       "      <td>B</td>\n",
       "      <td>5111</td>\n",
       "      <td>877</td>\n",
       "      <td>5.83</td>\n",
       "    </tr>\n",
       "  </tbody>\n",
       "</table>\n",
       "</div>"
      ],
      "text/plain": [
       "       count  nunique  per_one\n",
       "group                         \n",
       "A      18309     2604     7.03\n",
       "B       5111      877     5.83"
      ]
     },
     "execution_count": 37,
     "metadata": {},
     "output_type": "execute_result"
    }
   ],
   "source": [
    "groups_ab=events.groupby('group').agg({'user_id':['count','nunique']})\n",
    "groups_ab.columns=['count','nunique']\n",
    "groups_ab['per_one'] =round(groups_ab['count']/ groups_ab['nunique'],2)\n",
    "groups_ab"
   ]
  },
  {
   "cell_type": "code",
   "execution_count": 38,
   "id": "4dc98243",
   "metadata": {
    "scrolled": true
   },
   "outputs": [
    {
     "data": {
      "text/html": [
       "<div>\n",
       "<style scoped>\n",
       "    .dataframe tbody tr th:only-of-type {\n",
       "        vertical-align: middle;\n",
       "    }\n",
       "\n",
       "    .dataframe tbody tr th {\n",
       "        vertical-align: top;\n",
       "    }\n",
       "\n",
       "    .dataframe thead th {\n",
       "        text-align: right;\n",
       "    }\n",
       "</style>\n",
       "<table border=\"1\" class=\"dataframe\">\n",
       "  <thead>\n",
       "    <tr style=\"text-align: right;\">\n",
       "      <th>group</th>\n",
       "      <th>A</th>\n",
       "      <th>B</th>\n",
       "    </tr>\n",
       "    <tr>\n",
       "      <th>event_name</th>\n",
       "      <th></th>\n",
       "      <th></th>\n",
       "    </tr>\n",
       "  </thead>\n",
       "  <tbody>\n",
       "    <tr>\n",
       "      <td>login</td>\n",
       "      <td>8124</td>\n",
       "      <td>2471</td>\n",
       "    </tr>\n",
       "    <tr>\n",
       "      <td>product_page</td>\n",
       "      <td>5227</td>\n",
       "      <td>1327</td>\n",
       "    </tr>\n",
       "    <tr>\n",
       "      <td>purchase</td>\n",
       "      <td>2536</td>\n",
       "      <td>660</td>\n",
       "    </tr>\n",
       "    <tr>\n",
       "      <td>product_cart</td>\n",
       "      <td>2422</td>\n",
       "      <td>653</td>\n",
       "    </tr>\n",
       "  </tbody>\n",
       "</table>\n",
       "</div>"
      ],
      "text/plain": [
       "group            A     B\n",
       "event_name              \n",
       "login         8124  2471\n",
       "product_page  5227  1327\n",
       "purchase      2536   660\n",
       "product_cart  2422   653"
      ]
     },
     "execution_count": 38,
     "metadata": {},
     "output_type": "execute_result"
    }
   ],
   "source": [
    "users_event=events.pivot_table(index='event_name',columns='group',values='user_id',aggfunc={'user_id': 'count'}).sort_values(by='B', ascending=False)\n",
    "users_event"
   ]
  },
  {
   "cell_type": "code",
   "execution_count": 39,
   "id": "510f3862",
   "metadata": {},
   "outputs": [
    {
     "data": {
      "text/html": [
       "<div>\n",
       "<style scoped>\n",
       "    .dataframe tbody tr th:only-of-type {\n",
       "        vertical-align: middle;\n",
       "    }\n",
       "\n",
       "    .dataframe tbody tr th {\n",
       "        vertical-align: top;\n",
       "    }\n",
       "\n",
       "    .dataframe thead th {\n",
       "        text-align: right;\n",
       "    }\n",
       "</style>\n",
       "<table border=\"1\" class=\"dataframe\">\n",
       "  <thead>\n",
       "    <tr style=\"text-align: right;\">\n",
       "      <th>group</th>\n",
       "      <th>A</th>\n",
       "      <th>B</th>\n",
       "    </tr>\n",
       "    <tr>\n",
       "      <th>event_name</th>\n",
       "      <th></th>\n",
       "      <th></th>\n",
       "    </tr>\n",
       "  </thead>\n",
       "  <tbody>\n",
       "    <tr>\n",
       "      <td>login</td>\n",
       "      <td>2604</td>\n",
       "      <td>877</td>\n",
       "    </tr>\n",
       "    <tr>\n",
       "      <td>product_page</td>\n",
       "      <td>1685</td>\n",
       "      <td>493</td>\n",
       "    </tr>\n",
       "    <tr>\n",
       "      <td>purchase</td>\n",
       "      <td>833</td>\n",
       "      <td>249</td>\n",
       "    </tr>\n",
       "    <tr>\n",
       "      <td>product_cart</td>\n",
       "      <td>782</td>\n",
       "      <td>244</td>\n",
       "    </tr>\n",
       "  </tbody>\n",
       "</table>\n",
       "</div>"
      ],
      "text/plain": [
       "group            A    B\n",
       "event_name             \n",
       "login         2604  877\n",
       "product_page  1685  493\n",
       "purchase       833  249\n",
       "product_cart   782  244"
      ]
     },
     "execution_count": 39,
     "metadata": {},
     "output_type": "execute_result"
    }
   ],
   "source": [
    "users_event=events.pivot_table(index='event_name',columns='group',values='user_id',aggfunc={'user_id': 'nunique'}).sort_values(by='B', ascending=False)\n",
    "users_event"
   ]
  },
  {
   "cell_type": "markdown",
   "id": "65ece85b",
   "metadata": {},
   "source": [
    "В группе А purchase > product_cart"
   ]
  },
  {
   "cell_type": "code",
   "execution_count": 40,
   "id": "9d83eedb",
   "metadata": {},
   "outputs": [
    {
     "data": {
      "text/html": [
       "<div>\n",
       "<style scoped>\n",
       "    .dataframe tbody tr th:only-of-type {\n",
       "        vertical-align: middle;\n",
       "    }\n",
       "\n",
       "    .dataframe tbody tr th {\n",
       "        vertical-align: top;\n",
       "    }\n",
       "\n",
       "    .dataframe thead th {\n",
       "        text-align: right;\n",
       "    }\n",
       "</style>\n",
       "<table border=\"1\" class=\"dataframe\">\n",
       "  <thead>\n",
       "    <tr style=\"text-align: right;\">\n",
       "      <th>event_name</th>\n",
       "      <th>login</th>\n",
       "      <th>product_cart</th>\n",
       "      <th>product_page</th>\n",
       "      <th>purchase</th>\n",
       "    </tr>\n",
       "    <tr>\n",
       "      <th>user_id</th>\n",
       "      <th></th>\n",
       "      <th></th>\n",
       "      <th></th>\n",
       "      <th></th>\n",
       "    </tr>\n",
       "  </thead>\n",
       "  <tbody>\n",
       "    <tr>\n",
       "      <td>001064FEAAB631A1</td>\n",
       "      <td>3.0</td>\n",
       "      <td>0.0</td>\n",
       "      <td>3.0</td>\n",
       "      <td>0.0</td>\n",
       "    </tr>\n",
       "    <tr>\n",
       "      <td>0010A1C096941592</td>\n",
       "      <td>4.0</td>\n",
       "      <td>0.0</td>\n",
       "      <td>4.0</td>\n",
       "      <td>4.0</td>\n",
       "    </tr>\n",
       "    <tr>\n",
       "      <td>00341D8401F0F665</td>\n",
       "      <td>2.0</td>\n",
       "      <td>0.0</td>\n",
       "      <td>0.0</td>\n",
       "      <td>0.0</td>\n",
       "    </tr>\n",
       "    <tr>\n",
       "      <td>003DF44D7589BBD4</td>\n",
       "      <td>5.0</td>\n",
       "      <td>5.0</td>\n",
       "      <td>5.0</td>\n",
       "      <td>0.0</td>\n",
       "    </tr>\n",
       "    <tr>\n",
       "      <td>00505E15A9D81546</td>\n",
       "      <td>5.0</td>\n",
       "      <td>0.0</td>\n",
       "      <td>0.0</td>\n",
       "      <td>0.0</td>\n",
       "    </tr>\n",
       "    <tr>\n",
       "      <td>...</td>\n",
       "      <td>...</td>\n",
       "      <td>...</td>\n",
       "      <td>...</td>\n",
       "      <td>...</td>\n",
       "    </tr>\n",
       "    <tr>\n",
       "      <td>FF5B24BCE4387F86</td>\n",
       "      <td>3.0</td>\n",
       "      <td>0.0</td>\n",
       "      <td>3.0</td>\n",
       "      <td>3.0</td>\n",
       "    </tr>\n",
       "    <tr>\n",
       "      <td>FF825C1D791989B5</td>\n",
       "      <td>4.0</td>\n",
       "      <td>4.0</td>\n",
       "      <td>0.0</td>\n",
       "      <td>0.0</td>\n",
       "    </tr>\n",
       "    <tr>\n",
       "      <td>FF8CF7057415EB29</td>\n",
       "      <td>2.0</td>\n",
       "      <td>0.0</td>\n",
       "      <td>2.0</td>\n",
       "      <td>0.0</td>\n",
       "    </tr>\n",
       "    <tr>\n",
       "      <td>FFAE9489C76F352B</td>\n",
       "      <td>3.0</td>\n",
       "      <td>0.0</td>\n",
       "      <td>3.0</td>\n",
       "      <td>0.0</td>\n",
       "    </tr>\n",
       "    <tr>\n",
       "      <td>FFF28D02B1EACBE1</td>\n",
       "      <td>3.0</td>\n",
       "      <td>3.0</td>\n",
       "      <td>3.0</td>\n",
       "      <td>0.0</td>\n",
       "    </tr>\n",
       "  </tbody>\n",
       "</table>\n",
       "<p>3481 rows × 4 columns</p>\n",
       "</div>"
      ],
      "text/plain": [
       "event_name        login  product_cart  product_page  purchase\n",
       "user_id                                                      \n",
       "001064FEAAB631A1    3.0           0.0           3.0       0.0\n",
       "0010A1C096941592    4.0           0.0           4.0       4.0\n",
       "00341D8401F0F665    2.0           0.0           0.0       0.0\n",
       "003DF44D7589BBD4    5.0           5.0           5.0       0.0\n",
       "00505E15A9D81546    5.0           0.0           0.0       0.0\n",
       "...                 ...           ...           ...       ...\n",
       "FF5B24BCE4387F86    3.0           0.0           3.0       3.0\n",
       "FF825C1D791989B5    4.0           4.0           0.0       0.0\n",
       "FF8CF7057415EB29    2.0           0.0           2.0       0.0\n",
       "FFAE9489C76F352B    3.0           0.0           3.0       0.0\n",
       "FFF28D02B1EACBE1    3.0           3.0           3.0       0.0\n",
       "\n",
       "[3481 rows x 4 columns]"
      ]
     },
     "execution_count": 40,
     "metadata": {},
     "output_type": "execute_result"
    }
   ],
   "source": [
    "events.pivot_table(index='user_id',columns='event_name',values='event_dt',aggfunc='count').fillna(0)"
   ]
  },
  {
   "cell_type": "markdown",
   "id": "48f39ce8",
   "metadata": {},
   "source": [
    "Сразу видно, что есть случаи, когда залогинился и сразу заплатил (видимо, функция \"купи в один клик), а значит на разных этапах могут быть разные люди"
   ]
  },
  {
   "cell_type": "code",
   "execution_count": 41,
   "id": "fca9ebc1",
   "metadata": {},
   "outputs": [
    {
     "data": {
      "text/html": [
       "<div>\n",
       "<style scoped>\n",
       "    .dataframe tbody tr th:only-of-type {\n",
       "        vertical-align: middle;\n",
       "    }\n",
       "\n",
       "    .dataframe tbody tr th {\n",
       "        vertical-align: top;\n",
       "    }\n",
       "\n",
       "    .dataframe thead th {\n",
       "        text-align: right;\n",
       "    }\n",
       "</style>\n",
       "<table border=\"1\" class=\"dataframe\">\n",
       "  <thead>\n",
       "    <tr style=\"text-align: right;\">\n",
       "      <th>event_name</th>\n",
       "      <th>login</th>\n",
       "      <th>product_cart</th>\n",
       "      <th>product_page</th>\n",
       "      <th>purchase</th>\n",
       "    </tr>\n",
       "    <tr>\n",
       "      <th>group</th>\n",
       "      <th></th>\n",
       "      <th></th>\n",
       "      <th></th>\n",
       "      <th></th>\n",
       "    </tr>\n",
       "  </thead>\n",
       "  <tbody>\n",
       "    <tr>\n",
       "      <td>A</td>\n",
       "      <td>2604</td>\n",
       "      <td>782</td>\n",
       "      <td>1685</td>\n",
       "      <td>833</td>\n",
       "    </tr>\n",
       "    <tr>\n",
       "      <td>B</td>\n",
       "      <td>877</td>\n",
       "      <td>244</td>\n",
       "      <td>493</td>\n",
       "      <td>249</td>\n",
       "    </tr>\n",
       "  </tbody>\n",
       "</table>\n",
       "</div>"
      ],
      "text/plain": [
       "event_name  login  product_cart  product_page  purchase\n",
       "group                                                  \n",
       "A            2604           782          1685       833\n",
       "B             877           244           493       249"
      ]
     },
     "execution_count": 41,
     "metadata": {},
     "output_type": "execute_result"
    }
   ],
   "source": [
    "users_groups = events.pivot_table(\n",
    "    index='group', columns='event_name', values='user_id', aggfunc='nunique')\n",
    "users_groups"
   ]
  },
  {
   "cell_type": "code",
   "execution_count": 42,
   "id": "68fa0733",
   "metadata": {},
   "outputs": [],
   "source": [
    "total_users_group=pd.Series([len(group_a1),len(group_b1)],index=[\"A\",\"B\"])"
   ]
  },
  {
   "cell_type": "code",
   "execution_count": 43,
   "id": "e2b848f7",
   "metadata": {},
   "outputs": [
    {
     "data": {
      "text/html": [
       "<div>\n",
       "<style scoped>\n",
       "    .dataframe tbody tr th:only-of-type {\n",
       "        vertical-align: middle;\n",
       "    }\n",
       "\n",
       "    .dataframe tbody tr th {\n",
       "        vertical-align: top;\n",
       "    }\n",
       "\n",
       "    .dataframe thead th {\n",
       "        text-align: right;\n",
       "    }\n",
       "</style>\n",
       "<table border=\"1\" class=\"dataframe\">\n",
       "  <thead>\n",
       "    <tr style=\"text-align: right;\">\n",
       "      <th>event_name</th>\n",
       "      <th>login</th>\n",
       "      <th>product_cart</th>\n",
       "      <th>product_page</th>\n",
       "      <th>purchase</th>\n",
       "    </tr>\n",
       "    <tr>\n",
       "      <th>group</th>\n",
       "      <th></th>\n",
       "      <th></th>\n",
       "      <th></th>\n",
       "      <th></th>\n",
       "    </tr>\n",
       "  </thead>\n",
       "  <tbody>\n",
       "    <tr>\n",
       "      <td>A</td>\n",
       "      <td>0.716566</td>\n",
       "      <td>0.215190</td>\n",
       "      <td>0.463676</td>\n",
       "      <td>0.229224</td>\n",
       "    </tr>\n",
       "    <tr>\n",
       "      <td>B</td>\n",
       "      <td>0.322782</td>\n",
       "      <td>0.089805</td>\n",
       "      <td>0.181450</td>\n",
       "      <td>0.091645</td>\n",
       "    </tr>\n",
       "  </tbody>\n",
       "</table>\n",
       "</div>"
      ],
      "text/plain": [
       "event_name     login  product_cart  product_page  purchase\n",
       "group                                                     \n",
       "A           0.716566      0.215190      0.463676  0.229224\n",
       "B           0.322782      0.089805      0.181450  0.091645"
      ]
     },
     "execution_count": 43,
     "metadata": {},
     "output_type": "execute_result"
    }
   ],
   "source": [
    "user_convers=users_groups.div(total_users_group, axis='index', level=None, fill_value=None)\n",
    "user_convers"
   ]
  },
  {
   "cell_type": "code",
   "execution_count": 44,
   "id": "7800e501",
   "metadata": {},
   "outputs": [
    {
     "data": {
      "text/html": [
       "<div>\n",
       "<style scoped>\n",
       "    .dataframe tbody tr th:only-of-type {\n",
       "        vertical-align: middle;\n",
       "    }\n",
       "\n",
       "    .dataframe tbody tr th {\n",
       "        vertical-align: top;\n",
       "    }\n",
       "\n",
       "    .dataframe thead th {\n",
       "        text-align: right;\n",
       "    }\n",
       "</style>\n",
       "<table border=\"1\" class=\"dataframe\">\n",
       "  <thead>\n",
       "    <tr style=\"text-align: right;\">\n",
       "      <th>event_name</th>\n",
       "      <th>login</th>\n",
       "      <th>product_page</th>\n",
       "      <th>product_cart</th>\n",
       "      <th>purchase</th>\n",
       "    </tr>\n",
       "    <tr>\n",
       "      <th>group</th>\n",
       "      <th></th>\n",
       "      <th></th>\n",
       "      <th></th>\n",
       "      <th></th>\n",
       "    </tr>\n",
       "  </thead>\n",
       "  <tbody>\n",
       "    <tr>\n",
       "      <td>A</td>\n",
       "      <td>0.716566</td>\n",
       "      <td>0.463676</td>\n",
       "      <td>0.215190</td>\n",
       "      <td>0.229224</td>\n",
       "    </tr>\n",
       "    <tr>\n",
       "      <td>B</td>\n",
       "      <td>0.322782</td>\n",
       "      <td>0.181450</td>\n",
       "      <td>0.089805</td>\n",
       "      <td>0.091645</td>\n",
       "    </tr>\n",
       "  </tbody>\n",
       "</table>\n",
       "</div>"
      ],
      "text/plain": [
       "event_name     login  product_page  product_cart  purchase\n",
       "group                                                     \n",
       "A           0.716566      0.463676      0.215190  0.229224\n",
       "B           0.322782      0.181450      0.089805  0.091645"
      ]
     },
     "execution_count": 44,
     "metadata": {},
     "output_type": "execute_result"
    }
   ],
   "source": [
    "user_convers=user_convers.reindex(columns=['login', 'product_page', 'product_cart','purchase'])\n",
    "user_convers"
   ]
  },
  {
   "cell_type": "code",
   "execution_count": 45,
   "id": "215eeb4f",
   "metadata": {},
   "outputs": [
    {
     "data": {
      "text/plain": [
       "<matplotlib.axes._subplots.AxesSubplot at 0x283b3a68988>"
      ]
     },
     "execution_count": 45,
     "metadata": {},
     "output_type": "execute_result"
    },
    {
     "data": {
      "image/png": "[encoded data removed]",
      "text/plain": [
       "<Figure size 1080x216 with 2 Axes>"
      ]
     },
     "metadata": {
      "needs_background": "light"
     },
     "output_type": "display_data"
    }
   ],
   "source": [
    "plt.figure(figsize=(15, 3))\n",
    "plt.title('Конверсия по группам AB')\n",
    "sns.set_style ({'text.color': '.01','xtick.color':'0.001','ytick.color':'0.001'})\n",
    "sns.heatmap(user_convers, annot=True, fmt='.6f', linewidths=1, linecolor='gray') "
   ]
  },
  {
   "cell_type": "markdown",
   "id": "15039e05",
   "metadata": {},
   "source": [
    "## Проверка гипотезы о равенстве долей"
   ]
  },
  {
   "cell_type": "markdown",
   "id": "325fc808",
   "metadata": {},
   "source": [
    "Нулевая гипотеза: конверсии в тестовой и контрольных группах равны.\n",
    "Альтернативная: конверсии в тестовой и контрольных группах имеют статистически значимое отличие.    "
   ]
  },
  {
   "cell_type": "markdown",
   "id": "71c3016f",
   "metadata": {},
   "source": [
    "Применим z-test. Чтобы снизить вероятность ложнопозитивного результата при множественном тестировании гипотез, применим поправку Бонферрони."
   ]
  },
  {
   "cell_type": "code",
   "execution_count": 46,
   "id": "68e77b7a",
   "metadata": {},
   "outputs": [],
   "source": [
    "def z_test (alpha,ind1,ind2,column,n):\n",
    "    p1=user_convers.loc[ind1,column]\n",
    "    p2=user_convers.loc[ind2,column]\n",
    "    p_combined = (users_groups.loc[ind1,column] + users_groups.loc[ind2,column]) / (total_users_group[ind1] + total_users_group[ind2])\n",
    "    difference = p1 - p2\n",
    "    z_value = difference / mth.sqrt(p_combined * (1 - p_combined) * (1/total_users_group[ind1] + 1/total_users_group[ind2]))\n",
    "    distr = st.norm(0, 1) \n",
    "    p_value = (1 - distr.cdf(abs(z_value))) * 2\n",
    "    bonferroni_alpha=alpha/n\n",
    "    print('------------------------------------------------------------')\n",
    "    print(bonferroni_alpha,'(Вonferroni)',ind1,ind2,column,'при n=',n)\n",
    "    if p_value < bonferroni_alpha:\n",
    "        print('Отвергаем нулевую гипотезу: между долями есть значимая разница')\n",
    "    else:\n",
    "        print(\n",
    "        'Не получилось отвергнуть нулевую гипотезу, нет оснований считать доли разными')\n",
    "    \n",
    "    return print('p_value=',p_value)"
   ]
  },
  {
   "cell_type": "markdown",
   "id": "2c979114",
   "metadata": {},
   "source": [
    " где alpha - уровень значимости, n - количество сравнений, ind1,ind2 - индекс строки таблицы\n",
    "Установим уровень значимости alpha=0.05, проведем 4 сравнения."
   ]
  },
  {
   "cell_type": "code",
   "execution_count": 47,
   "id": "75f04032",
   "metadata": {},
   "outputs": [
    {
     "name": "stdout",
     "output_type": "stream",
     "text": [
      "------------------------------------------------------------\n",
      "0.0125 (Вonferroni) A B login при n= 4\n",
      "Отвергаем нулевую гипотезу: между долями есть значимая разница\n",
      "p_value= 0.0\n",
      "------------------------------------------------------------\n",
      "0.0125 (Вonferroni) A B product_page при n= 4\n",
      "Отвергаем нулевую гипотезу: между долями есть значимая разница\n",
      "p_value= 0.0\n",
      "------------------------------------------------------------\n",
      "0.0125 (Вonferroni) A B product_cart при n= 4\n",
      "Отвергаем нулевую гипотезу: между долями есть значимая разница\n",
      "p_value= 0.0\n",
      "------------------------------------------------------------\n",
      "0.0125 (Вonferroni) A B purchase при n= 4\n",
      "Отвергаем нулевую гипотезу: между долями есть значимая разница\n",
      "p_value= 0.0\n"
     ]
    }
   ],
   "source": [
    "z_test(0.05,'A','B','login',4)\n",
    "z_test(0.05,'A','B','product_page',4)\n",
    "z_test(0.05,'A','B','product_cart',4)\n",
    "z_test(0.05,'A','B','purchase',4)\n"
   ]
  },
  {
   "cell_type": "markdown",
   "id": "fccfbd78",
   "metadata": {},
   "source": [
    "## Выводы"
   ]
  },
  {
   "cell_type": "markdown",
   "id": "aae0cbd0",
   "metadata": {},
   "source": [
    "При просмотре и подготовке данных для проведения теста было выявлено:\n",
    "- В предоставленных данных были выявлены пользователи,которые были зарегистрированы в двух разных тестах. Так как у нас нет сведений, в какие даты проводится другой тест, если в те же, то это может влиять на результат.  \n",
    "- сформированные группы не равноценны, разница в численности почти 1000 человек при группах  A = 3634 и B = 2717\n",
    "- время проведения теста совпало с праздничными акциями Christmas&New Year Promo, что не добавляет достоверности тесту\n",
    "\n",
    "То есть подготовка к проведению A/B тестирования была проведена некорректно\n",
    "\n",
    "Для 2-х групп были построены воронки\n",
    "\n",
    "| event_name   |A   |B  |\n",
    "|:--------------|----|---|                      \n",
    "|\tlogin\t    |2604|877|\n",
    "|\tproduct_page|1685|493|\n",
    "|\tproduct_cart|782 |244|\n",
    "|\tpurchase    |833 |249|\n",
    " \t   \t\n",
    "\n",
    "Посчитана конверсия\n",
    "\n",
    "|group\\event| login  |product_page|product_cart|purchase|\n",
    "|:----------|-------:|-----------:|-----------:|-------:|\n",
    "| A         |0.716566|0.215190    |0.463676    |0.229224|\t\t\t\t\n",
    "| B\t        |0.322782|0.089805    |0.181450\t   |0.091645| \n",
    " \n",
    "\n",
    "Проверeна статистическая разница долей z-критерием\n",
    "\n",
    "На всех этапах воронки была зафиксирована статистически значимая разница между долями,\n",
    "но не в пользу группы B\n",
    "\n",
    "По результатам теста  ожидаемый эффект не подтверждается\n",
    "\n",
    "Но если принять во внимание, что тест был подготовлен не очень корректно, то вряд ли полученные результаты могут считаться объективными.\n",
    "\n",
    "\n",
    "\n",
    "\n",
    "\n",
    "\n",
    "  "
   ]
  },
  {
   "cell_type": "code",
   "execution_count": null,
   "id": "d755583d",
   "metadata": {},
   "outputs": [],
   "source": []
  }
 ],
 "metadata": {
  "ExecuteTimeLog": [
   {
    "duration": 1598,
    "start_time": "2021-11-17T12:55:36.036Z"
   },
   {
    "duration": 36,
    "start_time": "2021-11-17T12:55:37.637Z"
   },
   {
    "duration": 8,
    "start_time": "2021-11-17T12:55:37.676Z"
   },
   {
    "duration": 633,
    "start_time": "2021-11-17T12:55:37.688Z"
   },
   {
    "duration": 128,
    "start_time": "2021-11-17T12:55:38.324Z"
   },
   {
    "duration": 357,
    "start_time": "2021-11-17T12:55:38.455Z"
   },
   {
    "duration": 72,
    "start_time": "2021-11-17T12:55:38.815Z"
   },
   {
    "duration": 96,
    "start_time": "2021-11-17T12:55:38.891Z"
   },
   {
    "duration": 20,
    "start_time": "2021-11-17T12:55:38.990Z"
   },
   {
    "duration": 69,
    "start_time": "2021-11-17T12:55:39.012Z"
   },
   {
    "duration": 41,
    "start_time": "2021-11-17T12:55:39.083Z"
   },
   {
    "duration": 11,
    "start_time": "2021-11-17T12:55:39.126Z"
   },
   {
    "duration": 303,
    "start_time": "2021-11-17T12:55:39.160Z"
   },
   {
    "duration": 195,
    "start_time": "2021-11-17T12:55:39.466Z"
   },
   {
    "duration": 29,
    "start_time": "2021-11-17T12:55:39.664Z"
   },
   {
    "duration": 10,
    "start_time": "2021-11-17T12:55:39.695Z"
   },
   {
    "duration": 52,
    "start_time": "2021-11-17T12:55:39.707Z"
   },
   {
    "duration": 4,
    "start_time": "2021-11-17T12:55:39.762Z"
   },
   {
    "duration": 30,
    "start_time": "2021-11-17T12:55:39.768Z"
   },
   {
    "duration": 10,
    "start_time": "2021-11-17T12:55:39.800Z"
   },
   {
    "duration": 53,
    "start_time": "2021-11-17T12:55:39.813Z"
   },
   {
    "duration": 24,
    "start_time": "2021-11-17T12:55:39.869Z"
   },
   {
    "duration": 22,
    "start_time": "2021-11-17T12:55:39.898Z"
   },
   {
    "duration": 22,
    "start_time": "2021-11-17T12:55:39.958Z"
   },
   {
    "duration": 11,
    "start_time": "2021-11-17T12:55:39.983Z"
   },
   {
    "duration": 22,
    "start_time": "2021-11-17T12:55:39.997Z"
   },
   {
    "duration": 4,
    "start_time": "2021-11-17T12:55:40.023Z"
   },
   {
    "duration": 13,
    "start_time": "2021-11-17T12:55:40.060Z"
   },
   {
    "duration": 203,
    "start_time": "2021-11-17T12:55:40.075Z"
   },
   {
    "duration": 37,
    "start_time": "2021-11-17T12:55:40.281Z"
   },
   {
    "duration": 47,
    "start_time": "2021-11-17T12:55:40.321Z"
   },
   {
    "duration": 22,
    "start_time": "2021-11-17T12:55:40.371Z"
   },
   {
    "duration": 15,
    "start_time": "2021-11-17T12:55:40.396Z"
   },
   {
    "duration": 61,
    "start_time": "2021-11-17T12:55:40.413Z"
   },
   {
    "duration": 385,
    "start_time": "2021-11-17T12:55:40.476Z"
   },
   {
    "duration": 10,
    "start_time": "2021-11-17T12:55:40.863Z"
   },
   {
    "duration": 42,
    "start_time": "2021-11-17T12:55:40.876Z"
   },
   {
    "duration": 59,
    "start_time": "2021-11-17T12:55:40.921Z"
   },
   {
    "duration": 45,
    "start_time": "2021-11-17T12:55:40.984Z"
   },
   {
    "duration": 87,
    "start_time": "2021-11-17T12:55:41.032Z"
   },
   {
    "duration": 100,
    "start_time": "2021-11-17T12:55:41.121Z"
   },
   {
    "duration": 5,
    "start_time": "2021-11-17T12:55:41.224Z"
   },
   {
    "duration": 32,
    "start_time": "2021-11-17T12:55:41.232Z"
   },
   {
    "duration": 18,
    "start_time": "2021-11-17T12:55:41.267Z"
   },
   {
    "duration": 485,
    "start_time": "2021-11-17T12:55:41.288Z"
   },
   {
    "duration": 10,
    "start_time": "2021-11-17T12:55:41.776Z"
   },
   {
    "duration": 23,
    "start_time": "2021-11-17T12:55:41.789Z"
   },
   {
    "duration": 14,
    "start_time": "2021-11-17T12:55:53.996Z"
   },
   {
    "duration": 1293,
    "start_time": "2021-11-17T17:38:44.840Z"
   },
   {
    "duration": 30,
    "start_time": "2021-11-17T17:38:46.135Z"
   },
   {
    "duration": 8,
    "start_time": "2021-11-17T17:38:46.168Z"
   },
   {
    "duration": 502,
    "start_time": "2021-11-17T17:38:46.178Z"
   },
   {
    "duration": 66,
    "start_time": "2021-11-17T17:38:46.683Z"
   },
   {
    "duration": 286,
    "start_time": "2021-11-17T17:38:46.751Z"
   },
   {
    "duration": 44,
    "start_time": "2021-11-17T17:38:47.038Z"
   },
   {
    "duration": 88,
    "start_time": "2021-11-17T17:38:47.085Z"
   },
   {
    "duration": 20,
    "start_time": "2021-11-17T17:38:47.176Z"
   },
   {
    "duration": 54,
    "start_time": "2021-11-17T17:38:47.198Z"
   },
   {
    "duration": 44,
    "start_time": "2021-11-17T17:38:47.256Z"
   },
   {
    "duration": 11,
    "start_time": "2021-11-17T17:38:47.303Z"
   },
   {
    "duration": 318,
    "start_time": "2021-11-17T17:38:47.316Z"
   },
   {
    "duration": 175,
    "start_time": "2021-11-17T17:38:47.637Z"
   },
   {
    "duration": 30,
    "start_time": "2021-11-17T17:38:47.814Z"
   },
   {
    "duration": 11,
    "start_time": "2021-11-17T17:38:47.847Z"
   },
   {
    "duration": 15,
    "start_time": "2021-11-17T17:38:47.860Z"
   },
   {
    "duration": 3,
    "start_time": "2021-11-17T17:38:47.877Z"
   },
   {
    "duration": 25,
    "start_time": "2021-11-17T17:38:47.882Z"
   },
   {
    "duration": 39,
    "start_time": "2021-11-17T17:38:47.909Z"
   },
   {
    "duration": 22,
    "start_time": "2021-11-17T17:38:47.951Z"
   },
   {
    "duration": 21,
    "start_time": "2021-11-17T17:38:47.975Z"
   },
   {
    "duration": 47,
    "start_time": "2021-11-17T17:38:48.000Z"
   },
   {
    "duration": 7,
    "start_time": "2021-11-17T17:38:48.050Z"
   },
   {
    "duration": 19,
    "start_time": "2021-11-17T17:38:48.059Z"
   },
   {
    "duration": 12,
    "start_time": "2021-11-17T17:38:48.080Z"
   },
   {
    "duration": 11,
    "start_time": "2021-11-17T17:38:48.094Z"
   },
   {
    "duration": 3,
    "start_time": "2021-11-17T17:38:48.107Z"
   },
   {
    "duration": 41,
    "start_time": "2021-11-17T17:38:48.112Z"
   },
   {
    "duration": 174,
    "start_time": "2021-11-17T17:38:48.155Z"
   },
   {
    "duration": 35,
    "start_time": "2021-11-17T17:38:48.331Z"
   },
   {
    "duration": 20,
    "start_time": "2021-11-17T17:38:48.369Z"
   },
   {
    "duration": 23,
    "start_time": "2021-11-17T17:38:48.392Z"
   },
   {
    "duration": 33,
    "start_time": "2021-11-17T17:38:48.417Z"
   },
   {
    "duration": 23,
    "start_time": "2021-11-17T17:38:48.453Z"
   },
   {
    "duration": 371,
    "start_time": "2021-11-17T17:38:48.478Z"
   },
   {
    "duration": 11,
    "start_time": "2021-11-17T17:38:48.851Z"
   },
   {
    "duration": 35,
    "start_time": "2021-11-17T17:38:48.863Z"
   },
   {
    "duration": 46,
    "start_time": "2021-11-17T17:38:48.900Z"
   },
   {
    "duration": 47,
    "start_time": "2021-11-17T17:38:48.948Z"
   },
   {
    "duration": 58,
    "start_time": "2021-11-17T17:38:48.997Z"
   },
   {
    "duration": 56,
    "start_time": "2021-11-17T17:38:49.057Z"
   },
   {
    "duration": 3,
    "start_time": "2021-11-17T17:38:49.115Z"
   },
   {
    "duration": 33,
    "start_time": "2021-11-17T17:38:49.120Z"
   },
   {
    "duration": 10,
    "start_time": "2021-11-17T17:38:49.155Z"
   },
   {
    "duration": 351,
    "start_time": "2021-11-17T17:38:49.168Z"
   },
   {
    "duration": 6,
    "start_time": "2021-11-17T17:38:49.521Z"
   },
   {
    "duration": 29,
    "start_time": "2021-11-17T17:38:49.529Z"
   },
   {
    "duration": 3,
    "start_time": "2021-11-17T18:09:35.698Z"
   },
   {
    "duration": 27,
    "start_time": "2021-11-17T18:09:35.707Z"
   },
   {
    "duration": 12,
    "start_time": "2021-11-17T18:09:35.736Z"
   },
   {
    "duration": 543,
    "start_time": "2021-11-17T18:09:35.752Z"
   },
   {
    "duration": 134,
    "start_time": "2021-11-17T18:09:36.313Z"
   },
   {
    "duration": 418,
    "start_time": "2021-11-17T18:09:36.457Z"
   },
   {
    "duration": 73,
    "start_time": "2021-11-17T18:09:36.882Z"
   },
   {
    "duration": 76,
    "start_time": "2021-11-17T18:09:36.960Z"
   },
   {
    "duration": 16,
    "start_time": "2021-11-17T18:09:37.038Z"
   },
   {
    "duration": 35,
    "start_time": "2021-11-17T18:09:37.058Z"
   },
   {
    "duration": 33,
    "start_time": "2021-11-17T18:09:37.095Z"
   },
   {
    "duration": 25,
    "start_time": "2021-11-17T18:09:37.130Z"
   },
   {
    "duration": 325,
    "start_time": "2021-11-17T18:09:37.158Z"
   },
   {
    "duration": 239,
    "start_time": "2021-11-17T18:09:37.485Z"
   },
   {
    "duration": 44,
    "start_time": "2021-11-17T18:09:37.726Z"
   },
   {
    "duration": 8,
    "start_time": "2021-11-17T18:09:37.772Z"
   },
   {
    "duration": 15,
    "start_time": "2021-11-17T18:09:37.782Z"
   },
   {
    "duration": 4,
    "start_time": "2021-11-17T18:09:37.799Z"
   },
   {
    "duration": 50,
    "start_time": "2021-11-17T18:09:37.805Z"
   },
   {
    "duration": 9,
    "start_time": "2021-11-17T18:09:37.857Z"
   },
   {
    "duration": 25,
    "start_time": "2021-11-17T18:09:37.868Z"
   },
   {
    "duration": 20,
    "start_time": "2021-11-17T18:09:37.895Z"
   },
   {
    "duration": 46,
    "start_time": "2021-11-17T18:09:37.917Z"
   },
   {
    "duration": 14,
    "start_time": "2021-11-17T18:09:37.965Z"
   },
   {
    "duration": 9,
    "start_time": "2021-11-17T18:09:37.982Z"
   },
   {
    "duration": 21,
    "start_time": "2021-11-17T18:09:37.993Z"
   },
   {
    "duration": 39,
    "start_time": "2021-11-17T18:09:38.015Z"
   },
   {
    "duration": 13,
    "start_time": "2021-11-17T18:09:38.059Z"
   },
   {
    "duration": 4,
    "start_time": "2021-11-17T18:09:38.075Z"
   },
   {
    "duration": 10,
    "start_time": "2021-11-17T18:09:38.081Z"
   },
   {
    "duration": 197,
    "start_time": "2021-11-17T18:09:38.094Z"
   },
   {
    "duration": 34,
    "start_time": "2021-11-17T18:09:38.293Z"
   },
   {
    "duration": 30,
    "start_time": "2021-11-17T18:09:38.329Z"
   },
   {
    "duration": 265,
    "start_time": "2021-11-17T18:09:38.361Z"
   },
   {
    "duration": 10,
    "start_time": "2021-11-17T18:09:38.629Z"
   },
   {
    "duration": 48,
    "start_time": "2021-11-17T18:09:38.641Z"
   },
   {
    "duration": 27,
    "start_time": "2021-11-17T18:09:38.691Z"
   },
   {
    "duration": 68,
    "start_time": "2021-11-17T18:09:38.720Z"
   },
   {
    "duration": 29,
    "start_time": "2021-11-17T18:09:38.790Z"
   },
   {
    "duration": 72,
    "start_time": "2021-11-17T18:09:38.821Z"
   },
   {
    "duration": 2,
    "start_time": "2021-11-17T18:09:38.895Z"
   },
   {
    "duration": 20,
    "start_time": "2021-11-17T18:09:38.899Z"
   },
   {
    "duration": 10,
    "start_time": "2021-11-17T18:09:38.921Z"
   },
   {
    "duration": 352,
    "start_time": "2021-11-17T18:09:38.932Z"
   },
   {
    "duration": 5,
    "start_time": "2021-11-17T18:09:39.286Z"
   },
   {
    "duration": 26,
    "start_time": "2021-11-17T18:09:39.293Z"
   },
   {
    "duration": 3,
    "start_time": "2021-11-17T18:24:41.812Z"
   },
   {
    "duration": 3,
    "start_time": "2021-11-17T18:26:26.322Z"
   },
   {
    "duration": 21,
    "start_time": "2021-11-17T18:26:26.330Z"
   },
   {
    "duration": 10,
    "start_time": "2021-11-17T18:26:26.353Z"
   },
   {
    "duration": 443,
    "start_time": "2021-11-17T18:26:26.365Z"
   },
   {
    "duration": 61,
    "start_time": "2021-11-17T18:26:26.810Z"
   },
   {
    "duration": 236,
    "start_time": "2021-11-17T18:26:26.873Z"
   },
   {
    "duration": 35,
    "start_time": "2021-11-17T18:26:27.111Z"
   },
   {
    "duration": 63,
    "start_time": "2021-11-17T18:26:27.148Z"
   },
   {
    "duration": 13,
    "start_time": "2021-11-17T18:26:27.213Z"
   },
   {
    "duration": 37,
    "start_time": "2021-11-17T18:26:27.229Z"
   },
   {
    "duration": 32,
    "start_time": "2021-11-17T18:26:27.268Z"
   },
   {
    "duration": 9,
    "start_time": "2021-11-17T18:26:27.302Z"
   },
   {
    "duration": 243,
    "start_time": "2021-11-17T18:26:27.313Z"
   },
   {
    "duration": 145,
    "start_time": "2021-11-17T18:26:27.558Z"
   },
   {
    "duration": 21,
    "start_time": "2021-11-17T18:26:27.705Z"
   },
   {
    "duration": 19,
    "start_time": "2021-11-17T18:26:27.728Z"
   },
   {
    "duration": 14,
    "start_time": "2021-11-17T18:26:27.748Z"
   },
   {
    "duration": 3,
    "start_time": "2021-11-17T18:26:27.763Z"
   },
   {
    "duration": 22,
    "start_time": "2021-11-17T18:26:27.767Z"
   },
   {
    "duration": 8,
    "start_time": "2021-11-17T18:26:27.791Z"
   },
   {
    "duration": 44,
    "start_time": "2021-11-17T18:26:27.801Z"
   },
   {
    "duration": 15,
    "start_time": "2021-11-17T18:26:27.847Z"
   },
   {
    "duration": 14,
    "start_time": "2021-11-17T18:26:27.864Z"
   },
   {
    "duration": 9,
    "start_time": "2021-11-17T18:26:27.880Z"
   },
   {
    "duration": 8,
    "start_time": "2021-11-17T18:26:27.890Z"
   },
   {
    "duration": 15,
    "start_time": "2021-11-17T18:26:27.899Z"
   },
   {
    "duration": 35,
    "start_time": "2021-11-17T18:26:27.916Z"
   },
   {
    "duration": 19,
    "start_time": "2021-11-17T18:26:27.954Z"
   },
   {
    "duration": 4,
    "start_time": "2021-11-17T18:26:27.975Z"
   },
   {
    "duration": 10,
    "start_time": "2021-11-17T18:26:27.981Z"
   },
   {
    "duration": 132,
    "start_time": "2021-11-17T18:26:27.993Z"
   },
   {
    "duration": 34,
    "start_time": "2021-11-17T18:26:28.127Z"
   },
   {
    "duration": 18,
    "start_time": "2021-11-17T18:26:28.163Z"
   },
   {
    "duration": 235,
    "start_time": "2021-11-17T18:26:28.183Z"
   },
   {
    "duration": 7,
    "start_time": "2021-11-17T18:26:28.420Z"
   },
   {
    "duration": 41,
    "start_time": "2021-11-17T18:26:28.429Z"
   },
   {
    "duration": 21,
    "start_time": "2021-11-17T18:26:28.472Z"
   },
   {
    "duration": 56,
    "start_time": "2021-11-17T18:26:28.495Z"
   },
   {
    "duration": 29,
    "start_time": "2021-11-17T18:26:28.553Z"
   },
   {
    "duration": 61,
    "start_time": "2021-11-17T18:26:28.584Z"
   },
   {
    "duration": 3,
    "start_time": "2021-11-17T18:26:28.647Z"
   },
   {
    "duration": 13,
    "start_time": "2021-11-17T18:26:28.652Z"
   },
   {
    "duration": 10,
    "start_time": "2021-11-17T18:26:28.667Z"
   },
   {
    "duration": 287,
    "start_time": "2021-11-17T18:26:28.679Z"
   },
   {
    "duration": 5,
    "start_time": "2021-11-17T18:26:28.968Z"
   },
   {
    "duration": 17,
    "start_time": "2021-11-17T18:26:28.975Z"
   },
   {
    "duration": 3,
    "start_time": "2021-11-17T18:27:55.320Z"
   },
   {
    "duration": 3,
    "start_time": "2021-11-17T18:28:04.146Z"
   },
   {
    "duration": 19,
    "start_time": "2021-11-17T18:28:04.155Z"
   },
   {
    "duration": 7,
    "start_time": "2021-11-17T18:28:04.176Z"
   },
   {
    "duration": 451,
    "start_time": "2021-11-17T18:28:04.185Z"
   },
   {
    "duration": 57,
    "start_time": "2021-11-17T18:28:04.638Z"
   },
   {
    "duration": 236,
    "start_time": "2021-11-17T18:28:04.697Z"
   },
   {
    "duration": 31,
    "start_time": "2021-11-17T18:28:04.934Z"
   },
   {
    "duration": 66,
    "start_time": "2021-11-17T18:28:04.967Z"
   },
   {
    "duration": 14,
    "start_time": "2021-11-17T18:28:05.105Z"
   },
   {
    "duration": 39,
    "start_time": "2021-11-17T18:28:05.121Z"
   },
   {
    "duration": 30,
    "start_time": "2021-11-17T18:28:05.162Z"
   },
   {
    "duration": 7,
    "start_time": "2021-11-17T18:28:05.194Z"
   },
   {
    "duration": 233,
    "start_time": "2021-11-17T18:28:05.203Z"
   },
   {
    "duration": 131,
    "start_time": "2021-11-17T18:28:05.438Z"
   },
   {
    "duration": 22,
    "start_time": "2021-11-17T18:28:05.571Z"
   },
   {
    "duration": 8,
    "start_time": "2021-11-17T18:28:05.595Z"
   },
   {
    "duration": 16,
    "start_time": "2021-11-17T18:28:05.605Z"
   },
   {
    "duration": 4,
    "start_time": "2021-11-17T18:28:05.644Z"
   },
   {
    "duration": 29,
    "start_time": "2021-11-17T18:28:05.650Z"
   },
   {
    "duration": 7,
    "start_time": "2021-11-17T18:28:05.681Z"
   },
   {
    "duration": 24,
    "start_time": "2021-11-17T18:28:05.690Z"
   },
   {
    "duration": 36,
    "start_time": "2021-11-17T18:28:05.716Z"
   },
   {
    "duration": 14,
    "start_time": "2021-11-17T18:28:05.754Z"
   },
   {
    "duration": 9,
    "start_time": "2021-11-17T18:28:05.771Z"
   },
   {
    "duration": 10,
    "start_time": "2021-11-17T18:28:05.782Z"
   },
   {
    "duration": 6,
    "start_time": "2021-11-17T18:28:05.794Z"
   },
   {
    "duration": 15,
    "start_time": "2021-11-17T18:28:05.802Z"
   },
   {
    "duration": 31,
    "start_time": "2021-11-17T18:28:05.819Z"
   },
   {
    "duration": 4,
    "start_time": "2021-11-17T18:28:05.852Z"
   },
   {
    "duration": 13,
    "start_time": "2021-11-17T18:28:05.857Z"
   },
   {
    "duration": 138,
    "start_time": "2021-11-17T18:28:05.872Z"
   },
   {
    "duration": 32,
    "start_time": "2021-11-17T18:28:06.012Z"
   },
   {
    "duration": 16,
    "start_time": "2021-11-17T18:28:06.046Z"
   },
   {
    "duration": 240,
    "start_time": "2021-11-17T18:28:06.063Z"
   },
   {
    "duration": 7,
    "start_time": "2021-11-17T18:28:06.304Z"
   },
   {
    "duration": 54,
    "start_time": "2021-11-17T18:28:06.313Z"
   },
   {
    "duration": 19,
    "start_time": "2021-11-17T18:28:06.368Z"
   },
   {
    "duration": 35,
    "start_time": "2021-11-17T18:28:06.388Z"
   },
   {
    "duration": 59,
    "start_time": "2021-11-17T18:28:06.424Z"
   },
   {
    "duration": 59,
    "start_time": "2021-11-17T18:28:06.485Z"
   },
   {
    "duration": 3,
    "start_time": "2021-11-17T18:28:06.546Z"
   },
   {
    "duration": 11,
    "start_time": "2021-11-17T18:28:06.551Z"
   },
   {
    "duration": 10,
    "start_time": "2021-11-17T18:28:06.563Z"
   },
   {
    "duration": 297,
    "start_time": "2021-11-17T18:28:06.574Z"
   },
   {
    "duration": 4,
    "start_time": "2021-11-17T18:28:06.873Z"
   },
   {
    "duration": 27,
    "start_time": "2021-11-17T18:28:06.879Z"
   },
   {
    "duration": 4,
    "start_time": "2021-11-17T18:41:07.389Z"
   },
   {
    "duration": 25,
    "start_time": "2021-11-17T18:41:07.398Z"
   },
   {
    "duration": 6,
    "start_time": "2021-11-17T18:41:07.425Z"
   },
   {
    "duration": 442,
    "start_time": "2021-11-17T18:41:07.433Z"
   },
   {
    "duration": 49,
    "start_time": "2021-11-17T18:41:07.878Z"
   },
   {
    "duration": 234,
    "start_time": "2021-11-17T18:41:07.929Z"
   },
   {
    "duration": 25,
    "start_time": "2021-11-17T18:41:08.165Z"
   },
   {
    "duration": 69,
    "start_time": "2021-11-17T18:41:08.192Z"
   },
   {
    "duration": 14,
    "start_time": "2021-11-17T18:41:08.265Z"
   },
   {
    "duration": 27,
    "start_time": "2021-11-17T18:41:08.281Z"
   },
   {
    "duration": 59,
    "start_time": "2021-11-17T18:41:08.310Z"
   },
   {
    "duration": 9,
    "start_time": "2021-11-17T18:41:08.371Z"
   },
   {
    "duration": 285,
    "start_time": "2021-11-17T18:41:08.382Z"
   },
   {
    "duration": 242,
    "start_time": "2021-11-17T18:41:08.669Z"
   },
   {
    "duration": 37,
    "start_time": "2021-11-17T18:41:08.913Z"
   },
   {
    "duration": 8,
    "start_time": "2021-11-17T18:41:08.952Z"
   },
   {
    "duration": 20,
    "start_time": "2021-11-17T18:41:08.962Z"
   },
   {
    "duration": 3,
    "start_time": "2021-11-17T18:41:08.984Z"
   },
   {
    "duration": 20,
    "start_time": "2021-11-17T18:41:08.989Z"
   },
   {
    "duration": 9,
    "start_time": "2021-11-17T18:41:09.011Z"
   },
   {
    "duration": 22,
    "start_time": "2021-11-17T18:41:09.045Z"
   },
   {
    "duration": 21,
    "start_time": "2021-11-17T18:41:09.069Z"
   },
   {
    "duration": 16,
    "start_time": "2021-11-17T18:41:09.092Z"
   },
   {
    "duration": 36,
    "start_time": "2021-11-17T18:41:09.112Z"
   },
   {
    "duration": 13,
    "start_time": "2021-11-17T18:41:09.150Z"
   },
   {
    "duration": 6,
    "start_time": "2021-11-17T18:41:09.164Z"
   },
   {
    "duration": 11,
    "start_time": "2021-11-17T18:41:09.171Z"
   },
   {
    "duration": 16,
    "start_time": "2021-11-17T18:41:09.184Z"
   },
   {
    "duration": 4,
    "start_time": "2021-11-17T18:41:09.202Z"
   },
   {
    "duration": 17,
    "start_time": "2021-11-17T18:41:09.207Z"
   },
   {
    "duration": 186,
    "start_time": "2021-11-17T18:41:09.226Z"
   },
   {
    "duration": 40,
    "start_time": "2021-11-17T18:41:09.414Z"
   },
   {
    "duration": 15,
    "start_time": "2021-11-17T18:41:09.456Z"
   },
   {
    "duration": 243,
    "start_time": "2021-11-17T18:41:09.473Z"
   },
   {
    "duration": 8,
    "start_time": "2021-11-17T18:41:09.717Z"
   },
   {
    "duration": 41,
    "start_time": "2021-11-17T18:41:09.727Z"
   },
   {
    "duration": 18,
    "start_time": "2021-11-17T18:41:09.769Z"
   },
   {
    "duration": 56,
    "start_time": "2021-11-17T18:41:09.789Z"
   },
   {
    "duration": 29,
    "start_time": "2021-11-17T18:41:09.846Z"
   },
   {
    "duration": 44,
    "start_time": "2021-11-17T18:41:09.877Z"
   },
   {
    "duration": 22,
    "start_time": "2021-11-17T18:41:09.922Z"
   },
   {
    "duration": 8,
    "start_time": "2021-11-17T18:41:09.946Z"
   },
   {
    "duration": 24,
    "start_time": "2021-11-17T18:41:09.956Z"
   },
   {
    "duration": 426,
    "start_time": "2021-11-17T18:41:09.982Z"
   },
   {
    "duration": 7,
    "start_time": "2021-11-17T18:41:10.410Z"
   },
   {
    "duration": 30,
    "start_time": "2021-11-17T18:41:10.419Z"
   },
   {
    "duration": 4,
    "start_time": "2021-11-17T18:43:08.353Z"
   },
   {
    "duration": 35,
    "start_time": "2021-11-17T18:43:08.359Z"
   },
   {
    "duration": 10,
    "start_time": "2021-11-17T18:43:08.396Z"
   },
   {
    "duration": 450,
    "start_time": "2021-11-17T18:43:08.408Z"
   },
   {
    "duration": 52,
    "start_time": "2021-11-17T18:43:08.860Z"
   },
   {
    "duration": 221,
    "start_time": "2021-11-17T18:43:08.914Z"
   },
   {
    "duration": 38,
    "start_time": "2021-11-17T18:43:09.145Z"
   },
   {
    "duration": 97,
    "start_time": "2021-11-17T18:43:09.185Z"
   },
   {
    "duration": 24,
    "start_time": "2021-11-17T18:43:09.286Z"
   },
   {
    "duration": 55,
    "start_time": "2021-11-17T18:43:09.313Z"
   },
   {
    "duration": 36,
    "start_time": "2021-11-17T18:43:09.370Z"
   },
   {
    "duration": 11,
    "start_time": "2021-11-17T18:43:09.408Z"
   },
   {
    "duration": 287,
    "start_time": "2021-11-17T18:43:09.421Z"
   },
   {
    "duration": 239,
    "start_time": "2021-11-17T18:43:09.710Z"
   },
   {
    "duration": 34,
    "start_time": "2021-11-17T18:43:09.951Z"
   },
   {
    "duration": 9,
    "start_time": "2021-11-17T18:43:09.987Z"
   },
   {
    "duration": 26,
    "start_time": "2021-11-17T18:43:09.998Z"
   },
   {
    "duration": 19,
    "start_time": "2021-11-17T18:43:10.026Z"
   },
   {
    "duration": 22,
    "start_time": "2021-11-17T18:43:10.048Z"
   },
   {
    "duration": 8,
    "start_time": "2021-11-17T18:43:10.072Z"
   },
   {
    "duration": 18,
    "start_time": "2021-11-17T18:43:10.081Z"
   },
   {
    "duration": 44,
    "start_time": "2021-11-17T18:43:10.101Z"
   },
   {
    "duration": 15,
    "start_time": "2021-11-17T18:43:10.147Z"
   },
   {
    "duration": 9,
    "start_time": "2021-11-17T18:43:10.165Z"
   },
   {
    "duration": 6,
    "start_time": "2021-11-17T18:43:10.176Z"
   },
   {
    "duration": 4,
    "start_time": "2021-11-17T18:43:10.184Z"
   },
   {
    "duration": 11,
    "start_time": "2021-11-17T18:43:10.189Z"
   },
   {
    "duration": 10,
    "start_time": "2021-11-17T18:43:10.201Z"
   },
   {
    "duration": 4,
    "start_time": "2021-11-17T18:43:10.246Z"
   },
   {
    "duration": 14,
    "start_time": "2021-11-17T18:43:10.252Z"
   },
   {
    "duration": 189,
    "start_time": "2021-11-17T18:43:10.268Z"
   },
   {
    "duration": 34,
    "start_time": "2021-11-17T18:43:10.459Z"
   },
   {
    "duration": 17,
    "start_time": "2021-11-17T18:43:10.494Z"
   },
   {
    "duration": 354,
    "start_time": "2021-11-17T18:43:10.512Z"
   },
   {
    "duration": 10,
    "start_time": "2021-11-17T18:43:10.868Z"
   },
   {
    "duration": 36,
    "start_time": "2021-11-17T18:43:10.879Z"
   },
   {
    "duration": 41,
    "start_time": "2021-11-17T18:43:10.917Z"
   },
   {
    "duration": 55,
    "start_time": "2021-11-17T18:43:10.960Z"
   },
   {
    "duration": 49,
    "start_time": "2021-11-17T18:43:11.017Z"
   },
   {
    "duration": 47,
    "start_time": "2021-11-17T18:43:11.068Z"
   },
   {
    "duration": 3,
    "start_time": "2021-11-17T18:43:11.117Z"
   },
   {
    "duration": 29,
    "start_time": "2021-11-17T18:43:11.122Z"
   },
   {
    "duration": 14,
    "start_time": "2021-11-17T18:43:11.153Z"
   },
   {
    "duration": 434,
    "start_time": "2021-11-17T18:43:11.169Z"
   },
   {
    "duration": 7,
    "start_time": "2021-11-17T18:43:11.605Z"
   },
   {
    "duration": 30,
    "start_time": "2021-11-17T18:43:11.614Z"
   },
   {
    "duration": 3,
    "start_time": "2021-11-17T18:44:57.517Z"
   },
   {
    "duration": 27,
    "start_time": "2021-11-17T18:44:57.523Z"
   },
   {
    "duration": 16,
    "start_time": "2021-11-17T18:44:57.552Z"
   },
   {
    "duration": 644,
    "start_time": "2021-11-17T18:44:57.570Z"
   },
   {
    "duration": 59,
    "start_time": "2021-11-17T18:44:58.216Z"
   },
   {
    "duration": 224,
    "start_time": "2021-11-17T18:44:58.277Z"
   },
   {
    "duration": 24,
    "start_time": "2021-11-17T18:44:58.503Z"
   },
   {
    "duration": 74,
    "start_time": "2021-11-17T18:44:58.529Z"
   },
   {
    "duration": 13,
    "start_time": "2021-11-17T18:44:58.606Z"
   },
   {
    "duration": 50,
    "start_time": "2021-11-17T18:44:58.621Z"
   },
   {
    "duration": 32,
    "start_time": "2021-11-17T18:44:58.673Z"
   },
   {
    "duration": 7,
    "start_time": "2021-11-17T18:44:58.707Z"
   },
   {
    "duration": 360,
    "start_time": "2021-11-17T18:44:58.716Z"
   },
   {
    "duration": 128,
    "start_time": "2021-11-17T18:44:59.078Z"
   },
   {
    "duration": 22,
    "start_time": "2021-11-17T18:44:59.208Z"
   },
   {
    "duration": 7,
    "start_time": "2021-11-17T18:44:59.244Z"
   },
   {
    "duration": 14,
    "start_time": "2021-11-17T18:44:59.253Z"
   },
   {
    "duration": 3,
    "start_time": "2021-11-17T18:44:59.269Z"
   },
   {
    "duration": 23,
    "start_time": "2021-11-17T18:44:59.273Z"
   },
   {
    "duration": 10,
    "start_time": "2021-11-17T18:44:59.298Z"
   },
   {
    "duration": 64,
    "start_time": "2021-11-17T18:44:59.310Z"
   },
   {
    "duration": 16,
    "start_time": "2021-11-17T18:44:59.376Z"
   },
   {
    "duration": 15,
    "start_time": "2021-11-17T18:44:59.394Z"
   },
   {
    "duration": 34,
    "start_time": "2021-11-17T18:44:59.414Z"
   },
   {
    "duration": 8,
    "start_time": "2021-11-17T18:44:59.451Z"
   },
   {
    "duration": 5,
    "start_time": "2021-11-17T18:44:59.460Z"
   },
   {
    "duration": 14,
    "start_time": "2021-11-17T18:44:59.466Z"
   },
   {
    "duration": 12,
    "start_time": "2021-11-17T18:44:59.482Z"
   },
   {
    "duration": 4,
    "start_time": "2021-11-17T18:44:59.496Z"
   },
   {
    "duration": 109,
    "start_time": "2021-11-17T18:44:59.502Z"
   },
   {
    "duration": 15,
    "start_time": "2021-11-17T18:44:59.613Z"
   },
   {
    "duration": 22,
    "start_time": "2021-11-17T18:44:59.630Z"
   },
   {
    "duration": 238,
    "start_time": "2021-11-17T18:44:59.653Z"
   },
   {
    "duration": 6,
    "start_time": "2021-11-17T18:44:59.892Z"
   },
   {
    "duration": 18,
    "start_time": "2021-11-17T18:44:59.899Z"
   },
   {
    "duration": 462,
    "start_time": "2021-11-17T18:44:59.918Z"
   },
   {
    "duration": -983,
    "start_time": "2021-11-17T18:45:01.365Z"
   },
   {
    "duration": -986,
    "start_time": "2021-11-17T18:45:01.369Z"
   },
   {
    "duration": -987,
    "start_time": "2021-11-17T18:45:01.372Z"
   },
   {
    "duration": -989,
    "start_time": "2021-11-17T18:45:01.375Z"
   },
   {
    "duration": -992,
    "start_time": "2021-11-17T18:45:01.379Z"
   },
   {
    "duration": -995,
    "start_time": "2021-11-17T18:45:01.384Z"
   },
   {
    "duration": -1026,
    "start_time": "2021-11-17T18:45:01.416Z"
   },
   {
    "duration": -1030,
    "start_time": "2021-11-17T18:45:01.421Z"
   },
   {
    "duration": -1034,
    "start_time": "2021-11-17T18:45:01.426Z"
   },
   {
    "duration": 219,
    "start_time": "2021-11-17T18:46:49.549Z"
   },
   {
    "duration": 1403,
    "start_time": "2021-11-17T18:47:49.535Z"
   },
   {
    "duration": 29,
    "start_time": "2021-11-17T18:47:50.940Z"
   },
   {
    "duration": 20,
    "start_time": "2021-11-17T18:47:50.971Z"
   },
   {
    "duration": 489,
    "start_time": "2021-11-17T18:47:50.993Z"
   },
   {
    "duration": 95,
    "start_time": "2021-11-17T18:47:51.483Z"
   },
   {
    "duration": 328,
    "start_time": "2021-11-17T18:47:51.581Z"
   },
   {
    "duration": 49,
    "start_time": "2021-11-17T18:47:51.911Z"
   },
   {
    "duration": 100,
    "start_time": "2021-11-17T18:47:51.963Z"
   },
   {
    "duration": 23,
    "start_time": "2021-11-17T18:47:52.066Z"
   },
   {
    "duration": 29,
    "start_time": "2021-11-17T18:47:52.091Z"
   },
   {
    "duration": 42,
    "start_time": "2021-11-17T18:47:52.122Z"
   },
   {
    "duration": 9,
    "start_time": "2021-11-17T18:47:52.166Z"
   },
   {
    "duration": 261,
    "start_time": "2021-11-17T18:47:52.177Z"
   },
   {
    "duration": 150,
    "start_time": "2021-11-17T18:47:52.440Z"
   },
   {
    "duration": 24,
    "start_time": "2021-11-17T18:47:52.593Z"
   },
   {
    "duration": 7,
    "start_time": "2021-11-17T18:47:52.619Z"
   },
   {
    "duration": 12,
    "start_time": "2021-11-17T18:47:52.645Z"
   },
   {
    "duration": 3,
    "start_time": "2021-11-17T18:47:52.659Z"
   },
   {
    "duration": 23,
    "start_time": "2021-11-17T18:47:52.663Z"
   },
   {
    "duration": 11,
    "start_time": "2021-11-17T18:47:52.688Z"
   },
   {
    "duration": 48,
    "start_time": "2021-11-17T18:47:52.701Z"
   },
   {
    "duration": 16,
    "start_time": "2021-11-17T18:47:52.751Z"
   },
   {
    "duration": 14,
    "start_time": "2021-11-17T18:47:52.771Z"
   },
   {
    "duration": 10,
    "start_time": "2021-11-17T18:47:52.787Z"
   },
   {
    "duration": 46,
    "start_time": "2021-11-17T18:47:52.798Z"
   },
   {
    "duration": 2,
    "start_time": "2021-11-17T18:47:52.846Z"
   },
   {
    "duration": 12,
    "start_time": "2021-11-17T18:47:52.850Z"
   },
   {
    "duration": 10,
    "start_time": "2021-11-17T18:47:52.864Z"
   },
   {
    "duration": 4,
    "start_time": "2021-11-17T18:47:52.876Z"
   },
   {
    "duration": 120,
    "start_time": "2021-11-17T18:47:52.882Z"
   },
   {
    "duration": 16,
    "start_time": "2021-11-17T18:47:53.003Z"
   },
   {
    "duration": 26,
    "start_time": "2021-11-17T18:47:53.021Z"
   },
   {
    "duration": 334,
    "start_time": "2021-11-17T18:47:53.049Z"
   },
   {
    "duration": 6,
    "start_time": "2021-11-17T18:47:53.385Z"
   },
   {
    "duration": 13,
    "start_time": "2021-11-17T18:47:53.392Z"
   },
   {
    "duration": 365,
    "start_time": "2021-11-17T18:47:53.407Z"
   },
   {
    "duration": -976,
    "start_time": "2021-11-17T18:47:54.749Z"
   },
   {
    "duration": -992,
    "start_time": "2021-11-17T18:47:54.766Z"
   },
   {
    "duration": -997,
    "start_time": "2021-11-17T18:47:54.772Z"
   },
   {
    "duration": -1002,
    "start_time": "2021-11-17T18:47:54.778Z"
   },
   {
    "duration": -1005,
    "start_time": "2021-11-17T18:47:54.782Z"
   },
   {
    "duration": -1008,
    "start_time": "2021-11-17T18:47:54.787Z"
   },
   {
    "duration": -1013,
    "start_time": "2021-11-17T18:47:54.793Z"
   },
   {
    "duration": -1016,
    "start_time": "2021-11-17T18:47:54.797Z"
   },
   {
    "duration": -1018,
    "start_time": "2021-11-17T18:47:54.800Z"
   },
   {
    "duration": 7,
    "start_time": "2021-11-17T18:53:37.555Z"
   },
   {
    "duration": 6,
    "start_time": "2021-11-17T18:53:42.176Z"
   },
   {
    "duration": 4,
    "start_time": "2021-11-17T18:55:20.793Z"
   },
   {
    "duration": 29,
    "start_time": "2021-11-17T18:55:20.800Z"
   },
   {
    "duration": 10,
    "start_time": "2021-11-17T18:55:20.831Z"
   },
   {
    "duration": 495,
    "start_time": "2021-11-17T18:55:20.843Z"
   },
   {
    "duration": 54,
    "start_time": "2021-11-17T18:55:21.340Z"
   },
   {
    "duration": 270,
    "start_time": "2021-11-17T18:55:21.396Z"
   },
   {
    "duration": 27,
    "start_time": "2021-11-17T18:55:21.669Z"
   },
   {
    "duration": 80,
    "start_time": "2021-11-17T18:55:21.698Z"
   },
   {
    "duration": 14,
    "start_time": "2021-11-17T18:55:21.780Z"
   },
   {
    "duration": 48,
    "start_time": "2021-11-17T18:55:21.796Z"
   },
   {
    "duration": 40,
    "start_time": "2021-11-17T18:55:21.847Z"
   },
   {
    "duration": 10,
    "start_time": "2021-11-17T18:55:21.889Z"
   },
   {
    "duration": 256,
    "start_time": "2021-11-17T18:55:21.901Z"
   },
   {
    "duration": 246,
    "start_time": "2021-11-17T18:55:22.159Z"
   },
   {
    "duration": 37,
    "start_time": "2021-11-17T18:55:22.407Z"
   },
   {
    "duration": 9,
    "start_time": "2021-11-17T18:55:22.446Z"
   },
   {
    "duration": 17,
    "start_time": "2021-11-17T18:55:22.457Z"
   },
   {
    "duration": 3,
    "start_time": "2021-11-17T18:55:22.476Z"
   },
   {
    "duration": 21,
    "start_time": "2021-11-17T18:55:22.484Z"
   },
   {
    "duration": 39,
    "start_time": "2021-11-17T18:55:22.507Z"
   },
   {
    "duration": 20,
    "start_time": "2021-11-17T18:55:22.547Z"
   },
   {
    "duration": 26,
    "start_time": "2021-11-17T18:55:22.568Z"
   },
   {
    "duration": 17,
    "start_time": "2021-11-17T18:55:22.596Z"
   },
   {
    "duration": 11,
    "start_time": "2021-11-17T18:55:22.645Z"
   },
   {
    "duration": 12,
    "start_time": "2021-11-17T18:55:22.658Z"
   },
   {
    "duration": 11,
    "start_time": "2021-11-17T18:55:22.672Z"
   },
   {
    "duration": 17,
    "start_time": "2021-11-17T18:55:22.685Z"
   },
   {
    "duration": 13,
    "start_time": "2021-11-17T18:55:22.704Z"
   },
   {
    "duration": 4,
    "start_time": "2021-11-17T18:55:22.719Z"
   },
   {
    "duration": 97,
    "start_time": "2021-11-17T18:55:22.725Z"
   },
   {
    "duration": 30,
    "start_time": "2021-11-17T18:55:22.824Z"
   },
   {
    "duration": 9,
    "start_time": "2021-11-17T18:55:22.856Z"
   },
   {
    "duration": 5,
    "start_time": "2021-11-17T18:55:22.867Z"
   },
   {
    "duration": 246,
    "start_time": "2021-11-17T18:55:22.874Z"
   },
   {
    "duration": 6,
    "start_time": "2021-11-17T18:55:23.121Z"
   },
   {
    "duration": 23,
    "start_time": "2021-11-17T18:55:23.129Z"
   },
   {
    "duration": 281,
    "start_time": "2021-11-17T18:55:23.154Z"
   },
   {
    "duration": -938,
    "start_time": "2021-11-17T18:55:24.374Z"
   },
   {
    "duration": -961,
    "start_time": "2021-11-17T18:55:24.398Z"
   },
   {
    "duration": -971,
    "start_time": "2021-11-17T18:55:24.409Z"
   },
   {
    "duration": -974,
    "start_time": "2021-11-17T18:55:24.413Z"
   },
   {
    "duration": -977,
    "start_time": "2021-11-17T18:55:24.417Z"
   },
   {
    "duration": -981,
    "start_time": "2021-11-17T18:55:24.422Z"
   },
   {
    "duration": -983,
    "start_time": "2021-11-17T18:55:24.425Z"
   },
   {
    "duration": -985,
    "start_time": "2021-11-17T18:55:24.428Z"
   },
   {
    "duration": -987,
    "start_time": "2021-11-17T18:55:24.431Z"
   },
   {
    "duration": 5,
    "start_time": "2021-11-17T18:58:40.234Z"
   },
   {
    "duration": 24,
    "start_time": "2021-11-17T18:58:40.247Z"
   },
   {
    "duration": 7,
    "start_time": "2021-11-17T18:58:40.273Z"
   },
   {
    "duration": 418,
    "start_time": "2021-11-17T18:58:40.282Z"
   },
   {
    "duration": 59,
    "start_time": "2021-11-17T18:58:40.702Z"
   },
   {
    "duration": 217,
    "start_time": "2021-11-17T18:58:40.763Z"
   },
   {
    "duration": 25,
    "start_time": "2021-11-17T18:58:40.981Z"
   },
   {
    "duration": 68,
    "start_time": "2021-11-17T18:58:41.008Z"
   },
   {
    "duration": 14,
    "start_time": "2021-11-17T18:58:41.077Z"
   },
   {
    "duration": 27,
    "start_time": "2021-11-17T18:58:41.094Z"
   },
   {
    "duration": 39,
    "start_time": "2021-11-17T18:58:41.123Z"
   },
   {
    "duration": 7,
    "start_time": "2021-11-17T18:58:41.163Z"
   },
   {
    "duration": 223,
    "start_time": "2021-11-17T18:58:41.171Z"
   },
   {
    "duration": 127,
    "start_time": "2021-11-17T18:58:41.395Z"
   },
   {
    "duration": 29,
    "start_time": "2021-11-17T18:58:41.523Z"
   },
   {
    "duration": 6,
    "start_time": "2021-11-17T18:58:41.554Z"
   },
   {
    "duration": 23,
    "start_time": "2021-11-17T18:58:41.561Z"
   },
   {
    "duration": 3,
    "start_time": "2021-11-17T18:58:41.585Z"
   },
   {
    "duration": 23,
    "start_time": "2021-11-17T18:58:41.590Z"
   },
   {
    "duration": 7,
    "start_time": "2021-11-17T18:58:41.615Z"
   },
   {
    "duration": 33,
    "start_time": "2021-11-17T18:58:41.624Z"
   },
   {
    "duration": 16,
    "start_time": "2021-11-17T18:58:41.659Z"
   },
   {
    "duration": 15,
    "start_time": "2021-11-17T18:58:41.676Z"
   },
   {
    "duration": 13,
    "start_time": "2021-11-17T18:58:41.693Z"
   },
   {
    "duration": 38,
    "start_time": "2021-11-17T18:58:41.707Z"
   },
   {
    "duration": 10,
    "start_time": "2021-11-17T18:58:41.747Z"
   },
   {
    "duration": 25,
    "start_time": "2021-11-17T18:58:41.759Z"
   },
   {
    "duration": 10,
    "start_time": "2021-11-17T18:58:41.788Z"
   },
   {
    "duration": 15,
    "start_time": "2021-11-17T18:58:41.800Z"
   },
   {
    "duration": 13,
    "start_time": "2021-11-17T18:58:46.788Z"
   },
   {
    "duration": 4,
    "start_time": "2021-11-17T18:59:54.952Z"
   },
   {
    "duration": 21,
    "start_time": "2021-11-17T18:59:54.960Z"
   },
   {
    "duration": 10,
    "start_time": "2021-11-17T18:59:54.983Z"
   },
   {
    "duration": 407,
    "start_time": "2021-11-17T18:59:54.995Z"
   },
   {
    "duration": 59,
    "start_time": "2021-11-17T18:59:55.404Z"
   },
   {
    "duration": 215,
    "start_time": "2021-11-17T18:59:55.465Z"
   },
   {
    "duration": 24,
    "start_time": "2021-11-17T18:59:55.681Z"
   },
   {
    "duration": 74,
    "start_time": "2021-11-17T18:59:55.707Z"
   },
   {
    "duration": 13,
    "start_time": "2021-11-17T18:59:55.784Z"
   },
   {
    "duration": 27,
    "start_time": "2021-11-17T18:59:55.799Z"
   },
   {
    "duration": 36,
    "start_time": "2021-11-17T18:59:55.827Z"
   },
   {
    "duration": 10,
    "start_time": "2021-11-17T18:59:55.865Z"
   },
   {
    "duration": 298,
    "start_time": "2021-11-17T18:59:55.877Z"
   },
   {
    "duration": 232,
    "start_time": "2021-11-17T18:59:56.177Z"
   },
   {
    "duration": 35,
    "start_time": "2021-11-17T18:59:56.411Z"
   },
   {
    "duration": 8,
    "start_time": "2021-11-17T18:59:56.448Z"
   },
   {
    "duration": 18,
    "start_time": "2021-11-17T18:59:56.458Z"
   },
   {
    "duration": 2,
    "start_time": "2021-11-17T18:59:56.478Z"
   },
   {
    "duration": 28,
    "start_time": "2021-11-17T18:59:56.482Z"
   },
   {
    "duration": 8,
    "start_time": "2021-11-17T18:59:56.512Z"
   },
   {
    "duration": 21,
    "start_time": "2021-11-17T18:59:56.545Z"
   },
   {
    "duration": 18,
    "start_time": "2021-11-17T18:59:56.568Z"
   },
   {
    "duration": 15,
    "start_time": "2021-11-17T18:59:56.588Z"
   },
   {
    "duration": 8,
    "start_time": "2021-11-17T18:59:56.607Z"
   },
   {
    "duration": 7,
    "start_time": "2021-11-17T18:59:56.645Z"
   },
   {
    "duration": 3,
    "start_time": "2021-11-17T18:59:56.654Z"
   },
   {
    "duration": 11,
    "start_time": "2021-11-17T18:59:56.659Z"
   },
   {
    "duration": 8,
    "start_time": "2021-11-17T18:59:59.882Z"
   },
   {
    "duration": 8,
    "start_time": "2021-11-17T19:00:26.992Z"
   },
   {
    "duration": 15,
    "start_time": "2021-11-17T19:01:37.738Z"
   },
   {
    "duration": 4,
    "start_time": "2021-11-17T19:01:41.394Z"
   },
   {
    "duration": 3,
    "start_time": "2021-11-17T19:09:11.726Z"
   },
   {
    "duration": 33,
    "start_time": "2021-11-17T19:09:11.733Z"
   },
   {
    "duration": 9,
    "start_time": "2021-11-17T19:09:11.768Z"
   },
   {
    "duration": 444,
    "start_time": "2021-11-17T19:09:11.779Z"
   },
   {
    "duration": 69,
    "start_time": "2021-11-17T19:09:12.225Z"
   },
   {
    "duration": 229,
    "start_time": "2021-11-17T19:09:12.296Z"
   },
   {
    "duration": 43,
    "start_time": "2021-11-17T19:09:12.527Z"
   },
   {
    "duration": 86,
    "start_time": "2021-11-17T19:09:12.572Z"
   },
   {
    "duration": 14,
    "start_time": "2021-11-17T19:09:12.661Z"
   },
   {
    "duration": 43,
    "start_time": "2021-11-17T19:09:12.677Z"
   },
   {
    "duration": 35,
    "start_time": "2021-11-17T19:09:12.722Z"
   },
   {
    "duration": 8,
    "start_time": "2021-11-17T19:09:12.759Z"
   },
   {
    "duration": 245,
    "start_time": "2021-11-17T19:09:12.769Z"
   },
   {
    "duration": 147,
    "start_time": "2021-11-17T19:09:13.016Z"
   },
   {
    "duration": 21,
    "start_time": "2021-11-17T19:09:13.165Z"
   },
   {
    "duration": 10,
    "start_time": "2021-11-17T19:09:13.187Z"
   },
   {
    "duration": 31,
    "start_time": "2021-11-17T19:09:13.199Z"
   },
   {
    "duration": 3,
    "start_time": "2021-11-17T19:09:13.232Z"
   },
   {
    "duration": 26,
    "start_time": "2021-11-17T19:09:13.244Z"
   },
   {
    "duration": 18,
    "start_time": "2021-11-17T19:09:13.272Z"
   },
   {
    "duration": 34,
    "start_time": "2021-11-17T19:09:13.291Z"
   },
   {
    "duration": 15,
    "start_time": "2021-11-17T19:09:13.326Z"
   },
   {
    "duration": 19,
    "start_time": "2021-11-17T19:09:13.342Z"
   },
   {
    "duration": 19,
    "start_time": "2021-11-17T19:09:13.365Z"
   },
   {
    "duration": 16,
    "start_time": "2021-11-17T19:09:13.386Z"
   },
   {
    "duration": 17,
    "start_time": "2021-11-17T19:09:13.404Z"
   },
   {
    "duration": 22,
    "start_time": "2021-11-17T19:09:13.423Z"
   },
   {
    "duration": 33,
    "start_time": "2021-11-17T19:09:13.447Z"
   },
   {
    "duration": 12,
    "start_time": "2021-11-17T19:09:13.482Z"
   },
   {
    "duration": 17,
    "start_time": "2021-11-17T19:09:13.496Z"
   },
   {
    "duration": 162,
    "start_time": "2021-11-17T19:09:13.515Z"
   },
   {
    "duration": 25,
    "start_time": "2021-11-17T19:09:13.679Z"
   },
   {
    "duration": 13,
    "start_time": "2021-11-17T19:09:13.705Z"
   },
   {
    "duration": 31,
    "start_time": "2021-11-17T19:09:13.720Z"
   },
   {
    "duration": 336,
    "start_time": "2021-11-17T19:09:13.756Z"
   },
   {
    "duration": 8,
    "start_time": "2021-11-17T19:09:14.094Z"
   },
   {
    "duration": 47,
    "start_time": "2021-11-17T19:09:14.103Z"
   },
   {
    "duration": 22,
    "start_time": "2021-11-17T19:09:14.151Z"
   },
   {
    "duration": 33,
    "start_time": "2021-11-17T19:09:14.175Z"
   },
   {
    "duration": 53,
    "start_time": "2021-11-17T19:09:14.209Z"
   },
   {
    "duration": 43,
    "start_time": "2021-11-17T19:09:14.264Z"
   },
   {
    "duration": 524,
    "start_time": "2021-11-17T19:09:14.308Z"
   },
   {
    "duration": -942,
    "start_time": "2021-11-17T19:09:15.776Z"
   },
   {
    "duration": -945,
    "start_time": "2021-11-17T19:09:15.780Z"
   },
   {
    "duration": -956,
    "start_time": "2021-11-17T19:09:15.792Z"
   },
   {
    "duration": -968,
    "start_time": "2021-11-17T19:09:15.805Z"
   },
   {
    "duration": -973,
    "start_time": "2021-11-17T19:09:15.811Z"
   },
   {
    "duration": 3,
    "start_time": "2021-11-17T19:14:09.429Z"
   },
   {
    "duration": 30,
    "start_time": "2021-11-17T19:14:09.437Z"
   },
   {
    "duration": 10,
    "start_time": "2021-11-17T19:14:09.469Z"
   },
   {
    "duration": 437,
    "start_time": "2021-11-17T19:14:09.481Z"
   },
   {
    "duration": 71,
    "start_time": "2021-11-17T19:14:09.919Z"
   },
   {
    "duration": 228,
    "start_time": "2021-11-17T19:14:09.992Z"
   },
   {
    "duration": 32,
    "start_time": "2021-11-17T19:14:10.221Z"
   },
   {
    "duration": 63,
    "start_time": "2021-11-17T19:14:10.257Z"
   },
   {
    "duration": 21,
    "start_time": "2021-11-17T19:14:10.323Z"
   },
   {
    "duration": 37,
    "start_time": "2021-11-17T19:14:10.347Z"
   },
   {
    "duration": 39,
    "start_time": "2021-11-17T19:14:10.386Z"
   },
   {
    "duration": 18,
    "start_time": "2021-11-17T19:14:10.427Z"
   },
   {
    "duration": 221,
    "start_time": "2021-11-17T19:14:10.447Z"
   },
   {
    "duration": 139,
    "start_time": "2021-11-17T19:14:10.669Z"
   },
   {
    "duration": 39,
    "start_time": "2021-11-17T19:14:10.810Z"
   },
   {
    "duration": 10,
    "start_time": "2021-11-17T19:14:10.850Z"
   },
   {
    "duration": 15,
    "start_time": "2021-11-17T19:14:10.862Z"
   },
   {
    "duration": 3,
    "start_time": "2021-11-17T19:14:10.878Z"
   },
   {
    "duration": 30,
    "start_time": "2021-11-17T19:14:10.883Z"
   },
   {
    "duration": 9,
    "start_time": "2021-11-17T19:14:10.915Z"
   },
   {
    "duration": 39,
    "start_time": "2021-11-17T19:14:10.925Z"
   },
   {
    "duration": 15,
    "start_time": "2021-11-17T19:14:10.966Z"
   },
   {
    "duration": 22,
    "start_time": "2021-11-17T19:14:10.982Z"
   },
   {
    "duration": 12,
    "start_time": "2021-11-17T19:14:11.007Z"
   },
   {
    "duration": 31,
    "start_time": "2021-11-17T19:14:11.021Z"
   },
   {
    "duration": 10,
    "start_time": "2021-11-17T19:14:11.054Z"
   },
   {
    "duration": 13,
    "start_time": "2021-11-17T19:14:11.066Z"
   },
   {
    "duration": 13,
    "start_time": "2021-11-17T19:14:11.080Z"
   },
   {
    "duration": 3,
    "start_time": "2021-11-17T19:14:11.095Z"
   },
   {
    "duration": 8,
    "start_time": "2021-11-17T19:14:11.100Z"
   },
   {
    "duration": 138,
    "start_time": "2021-11-17T19:14:11.110Z"
   },
   {
    "duration": 29,
    "start_time": "2021-11-17T19:14:11.250Z"
   },
   {
    "duration": 14,
    "start_time": "2021-11-17T19:14:11.281Z"
   },
   {
    "duration": 14,
    "start_time": "2021-11-17T19:14:11.297Z"
   },
   {
    "duration": 253,
    "start_time": "2021-11-17T19:14:11.312Z"
   },
   {
    "duration": 7,
    "start_time": "2021-11-17T19:14:11.567Z"
   },
   {
    "duration": 35,
    "start_time": "2021-11-17T19:14:11.576Z"
   },
   {
    "duration": 37,
    "start_time": "2021-11-17T19:14:11.613Z"
   },
   {
    "duration": 37,
    "start_time": "2021-11-17T19:14:11.651Z"
   },
   {
    "duration": 30,
    "start_time": "2021-11-17T19:14:11.690Z"
   },
   {
    "duration": 89,
    "start_time": "2021-11-17T19:14:11.721Z"
   },
   {
    "duration": 3,
    "start_time": "2021-11-17T19:14:11.812Z"
   },
   {
    "duration": 10,
    "start_time": "2021-11-17T19:14:11.816Z"
   },
   {
    "duration": 22,
    "start_time": "2021-11-17T19:14:11.828Z"
   },
   {
    "duration": 379,
    "start_time": "2021-11-17T19:14:11.852Z"
   },
   {
    "duration": 12,
    "start_time": "2021-11-17T19:14:12.233Z"
   },
   {
    "duration": 21,
    "start_time": "2021-11-17T19:14:12.247Z"
   },
   {
    "duration": 92,
    "start_time": "2021-11-17T19:17:50.439Z"
   },
   {
    "duration": 12,
    "start_time": "2021-11-17T19:23:02.384Z"
   },
   {
    "duration": 1100,
    "start_time": "2021-11-17T19:44:46.699Z"
   },
   {
    "duration": 24,
    "start_time": "2021-11-17T19:44:47.801Z"
   },
   {
    "duration": 9,
    "start_time": "2021-11-17T19:44:47.827Z"
   },
   {
    "duration": 482,
    "start_time": "2021-11-17T19:44:47.838Z"
   },
   {
    "duration": 69,
    "start_time": "2021-11-17T19:44:48.321Z"
   },
   {
    "duration": 254,
    "start_time": "2021-11-17T19:44:48.392Z"
   },
   {
    "duration": 44,
    "start_time": "2021-11-17T19:44:48.648Z"
   },
   {
    "duration": 98,
    "start_time": "2021-11-17T19:44:48.695Z"
   },
   {
    "duration": 23,
    "start_time": "2021-11-17T19:44:48.796Z"
   },
   {
    "duration": 50,
    "start_time": "2021-11-17T19:44:48.821Z"
   },
   {
    "duration": 39,
    "start_time": "2021-11-17T19:44:48.872Z"
   },
   {
    "duration": 7,
    "start_time": "2021-11-17T19:44:48.912Z"
   },
   {
    "duration": 230,
    "start_time": "2021-11-17T19:44:48.921Z"
   },
   {
    "duration": 164,
    "start_time": "2021-11-17T19:44:49.153Z"
   },
   {
    "duration": 29,
    "start_time": "2021-11-17T19:44:49.319Z"
   },
   {
    "duration": 12,
    "start_time": "2021-11-17T19:44:49.354Z"
   },
   {
    "duration": 12,
    "start_time": "2021-11-17T19:44:49.368Z"
   },
   {
    "duration": 2,
    "start_time": "2021-11-17T19:44:49.382Z"
   },
   {
    "duration": 20,
    "start_time": "2021-11-17T19:44:49.386Z"
   },
   {
    "duration": 7,
    "start_time": "2021-11-17T19:44:49.408Z"
   },
   {
    "duration": 53,
    "start_time": "2021-11-17T19:44:49.418Z"
   },
   {
    "duration": 14,
    "start_time": "2021-11-17T19:44:49.473Z"
   },
   {
    "duration": 14,
    "start_time": "2021-11-17T19:44:49.491Z"
   },
   {
    "duration": 9,
    "start_time": "2021-11-17T19:44:49.508Z"
   },
   {
    "duration": 34,
    "start_time": "2021-11-17T19:44:49.519Z"
   },
   {
    "duration": 3,
    "start_time": "2021-11-17T19:44:49.555Z"
   },
   {
    "duration": 12,
    "start_time": "2021-11-17T19:44:49.559Z"
   },
   {
    "duration": 11,
    "start_time": "2021-11-17T19:44:49.573Z"
   },
   {
    "duration": 4,
    "start_time": "2021-11-17T19:44:49.586Z"
   },
   {
    "duration": 10,
    "start_time": "2021-11-17T19:44:49.592Z"
   },
   {
    "duration": 200,
    "start_time": "2021-11-17T19:44:49.604Z"
   },
   {
    "duration": 43,
    "start_time": "2021-11-17T19:44:49.806Z"
   },
   {
    "duration": 17,
    "start_time": "2021-11-17T19:44:49.851Z"
   },
   {
    "duration": 17,
    "start_time": "2021-11-17T19:44:49.870Z"
   },
   {
    "duration": 263,
    "start_time": "2021-11-17T19:44:49.889Z"
   },
   {
    "duration": 10,
    "start_time": "2021-11-17T19:44:50.154Z"
   },
   {
    "duration": 37,
    "start_time": "2021-11-17T19:44:50.166Z"
   },
   {
    "duration": 18,
    "start_time": "2021-11-17T19:44:50.204Z"
   },
   {
    "duration": 39,
    "start_time": "2021-11-17T19:44:50.248Z"
   },
   {
    "duration": 29,
    "start_time": "2021-11-17T19:44:50.289Z"
   },
   {
    "duration": 66,
    "start_time": "2021-11-17T19:44:50.320Z"
   },
   {
    "duration": 3,
    "start_time": "2021-11-17T19:44:50.388Z"
   },
   {
    "duration": 14,
    "start_time": "2021-11-17T19:44:50.393Z"
   },
   {
    "duration": 11,
    "start_time": "2021-11-17T19:44:50.409Z"
   },
   {
    "duration": 357,
    "start_time": "2021-11-17T19:44:50.422Z"
   },
   {
    "duration": 5,
    "start_time": "2021-11-17T19:44:50.781Z"
   },
   {
    "duration": 25,
    "start_time": "2021-11-17T19:44:50.788Z"
   }
  ],
  "celltoolbar": "Необработанный формат ячейки",
  "kernelspec": {
   "display_name": "Python 3",
   "language": "python",
   "name": "python3"
  },
  "language_info": {
   "codemirror_mode": {
    "name": "ipython",
    "version": 3
   },
   "file_extension": ".py",
   "mimetype": "text/x-python",
   "name": "python",
   "nbconvert_exporter": "python",
   "pygments_lexer": "ipython3",
   "version": "3.7.10"
  },
  "toc": {
   "base_numbering": 1,
   "nav_menu": {},
   "number_sections": true,
   "sideBar": true,
   "skip_h1_title": true,
   "title_cell": "Table of Contents",
   "title_sidebar": "Contents",
   "toc_cell": false,
   "toc_position": {},
   "toc_section_display": true,
   "toc_window_display": false
  }
 },
 "nbformat": 4,
 "nbformat_minor": 5
}
