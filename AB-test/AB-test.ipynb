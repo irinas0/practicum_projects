{
 "cells": [
  {
   "cell_type": "markdown",
   "metadata": {},
   "source": [
    "# Анализ поведения пользователя мобильного приложения"
   ]
  },
  {
   "cell_type": "markdown",
   "metadata": {},
   "source": [
    "Цель исследования: разобраться, как ведут себя пользователи данного мобильного приложения, а также проверить, как влияет изменение дизайна страниц (другой шрифт)  на поведение пользователей. "
   ]
  },
  {
   "cell_type": "code",
   "execution_count": 54,
   "metadata": {},
   "outputs": [],
   "source": [
    "import pandas as pd\n",
    "from scipy import stats as st\n",
    "import numpy as np\n",
    "import math as mth\n",
    "from plotly import graph_objects as go \n",
    "import matplotlib.pyplot as plt\n",
    "import matplotlib.ticker as ticker\n",
    "import seaborn as sns\n",
    "import kaleido\n",
    "import warnings\n",
    "warnings.filterwarnings(\"ignore\")"
   ]
  },
  {
   "cell_type": "markdown",
   "metadata": {},
   "source": [
    "## Обзор файла и подготовка данных"
   ]
  },
  {
   "cell_type": "code",
   "execution_count": 55,
   "metadata": {},
   "outputs": [
    {
     "data": {
      "text/html": [
       "<div>\n",
       "<style scoped>\n",
       "    .dataframe tbody tr th:only-of-type {\n",
       "        vertical-align: middle;\n",
       "    }\n",
       "\n",
       "    .dataframe tbody tr th {\n",
       "        vertical-align: top;\n",
       "    }\n",
       "\n",
       "    .dataframe thead th {\n",
       "        text-align: right;\n",
       "    }\n",
       "</style>\n",
       "<table border=\"1\" class=\"dataframe\">\n",
       "  <thead>\n",
       "    <tr style=\"text-align: right;\">\n",
       "      <th></th>\n",
       "      <th>EventName</th>\n",
       "      <th>DeviceIDHash</th>\n",
       "      <th>EventTimestamp</th>\n",
       "      <th>ExpId</th>\n",
       "    </tr>\n",
       "  </thead>\n",
       "  <tbody>\n",
       "    <tr>\n",
       "      <td>0</td>\n",
       "      <td>MainScreenAppear</td>\n",
       "      <td>4575588528974610257</td>\n",
       "      <td>1564029816</td>\n",
       "      <td>246</td>\n",
       "    </tr>\n",
       "    <tr>\n",
       "      <td>1</td>\n",
       "      <td>MainScreenAppear</td>\n",
       "      <td>7416695313311560658</td>\n",
       "      <td>1564053102</td>\n",
       "      <td>246</td>\n",
       "    </tr>\n",
       "    <tr>\n",
       "      <td>2</td>\n",
       "      <td>PaymentScreenSuccessful</td>\n",
       "      <td>3518123091307005509</td>\n",
       "      <td>1564054127</td>\n",
       "      <td>248</td>\n",
       "    </tr>\n",
       "    <tr>\n",
       "      <td>3</td>\n",
       "      <td>CartScreenAppear</td>\n",
       "      <td>3518123091307005509</td>\n",
       "      <td>1564054127</td>\n",
       "      <td>248</td>\n",
       "    </tr>\n",
       "    <tr>\n",
       "      <td>4</td>\n",
       "      <td>PaymentScreenSuccessful</td>\n",
       "      <td>6217807653094995999</td>\n",
       "      <td>1564055322</td>\n",
       "      <td>248</td>\n",
       "    </tr>\n",
       "  </tbody>\n",
       "</table>\n",
       "</div>"
      ],
      "text/plain": [
       "                 EventName         DeviceIDHash  EventTimestamp  ExpId\n",
       "0         MainScreenAppear  4575588528974610257      1564029816    246\n",
       "1         MainScreenAppear  7416695313311560658      1564053102    246\n",
       "2  PaymentScreenSuccessful  3518123091307005509      1564054127    248\n",
       "3         CartScreenAppear  3518123091307005509      1564054127    248\n",
       "4  PaymentScreenSuccessful  6217807653094995999      1564055322    248"
      ]
     },
     "execution_count": 55,
     "metadata": {},
     "output_type": "execute_result"
    }
   ],
   "source": [
    "logs = pd.read_csv('logs_exp.csv',sep='\\t')\n",
    "logs.head()"
   ]
  },
  {
   "cell_type": "markdown",
   "metadata": {},
   "source": [
    "- EventName — название события;\n",
    "- DeviceIDHash — уникальный идентификатор пользователя;\n",
    "- EventTimestamp — время события;\n",
    "- ExpId — номер эксперимента: 246 и 247 — контрольные группы, а 248 — экспериментальная."
   ]
  },
  {
   "cell_type": "code",
   "execution_count": 56,
   "metadata": {},
   "outputs": [],
   "source": [
    "logs=logs.rename(columns = {'EventName': 'event','DeviceIDHash': 'device','EventTimestamp': 'event_timestamp','ExpId': 'nn'})"
   ]
  },
  {
   "cell_type": "code",
   "execution_count": 57,
   "metadata": {},
   "outputs": [
    {
     "data": {
      "text/html": [
       "<div>\n",
       "<style scoped>\n",
       "    .dataframe tbody tr th:only-of-type {\n",
       "        vertical-align: middle;\n",
       "    }\n",
       "\n",
       "    .dataframe tbody tr th {\n",
       "        vertical-align: top;\n",
       "    }\n",
       "\n",
       "    .dataframe thead th {\n",
       "        text-align: right;\n",
       "    }\n",
       "</style>\n",
       "<table border=\"1\" class=\"dataframe\">\n",
       "  <thead>\n",
       "    <tr style=\"text-align: right;\">\n",
       "      <th></th>\n",
       "      <th>event</th>\n",
       "      <th>device</th>\n",
       "      <th>event_timestamp</th>\n",
       "      <th>nn</th>\n",
       "    </tr>\n",
       "  </thead>\n",
       "  <tbody>\n",
       "    <tr>\n",
       "      <td>0</td>\n",
       "      <td>MainScreenAppear</td>\n",
       "      <td>4575588528974610257</td>\n",
       "      <td>1564029816</td>\n",
       "      <td>246</td>\n",
       "    </tr>\n",
       "    <tr>\n",
       "      <td>1</td>\n",
       "      <td>MainScreenAppear</td>\n",
       "      <td>7416695313311560658</td>\n",
       "      <td>1564053102</td>\n",
       "      <td>246</td>\n",
       "    </tr>\n",
       "    <tr>\n",
       "      <td>2</td>\n",
       "      <td>PaymentScreenSuccessful</td>\n",
       "      <td>3518123091307005509</td>\n",
       "      <td>1564054127</td>\n",
       "      <td>248</td>\n",
       "    </tr>\n",
       "    <tr>\n",
       "      <td>3</td>\n",
       "      <td>CartScreenAppear</td>\n",
       "      <td>3518123091307005509</td>\n",
       "      <td>1564054127</td>\n",
       "      <td>248</td>\n",
       "    </tr>\n",
       "    <tr>\n",
       "      <td>4</td>\n",
       "      <td>PaymentScreenSuccessful</td>\n",
       "      <td>6217807653094995999</td>\n",
       "      <td>1564055322</td>\n",
       "      <td>248</td>\n",
       "    </tr>\n",
       "  </tbody>\n",
       "</table>\n",
       "</div>"
      ],
      "text/plain": [
       "                     event               device  event_timestamp   nn\n",
       "0         MainScreenAppear  4575588528974610257       1564029816  246\n",
       "1         MainScreenAppear  7416695313311560658       1564053102  246\n",
       "2  PaymentScreenSuccessful  3518123091307005509       1564054127  248\n",
       "3         CartScreenAppear  3518123091307005509       1564054127  248\n",
       "4  PaymentScreenSuccessful  6217807653094995999       1564055322  248"
      ]
     },
     "execution_count": 57,
     "metadata": {},
     "output_type": "execute_result"
    }
   ],
   "source": [
    "logs.head()"
   ]
  },
  {
   "cell_type": "code",
   "execution_count": 58,
   "metadata": {},
   "outputs": [
    {
     "name": "stdout",
     "output_type": "stream",
     "text": [
      "<class 'pandas.core.frame.DataFrame'>\n",
      "RangeIndex: 244126 entries, 0 to 244125\n",
      "Data columns (total 4 columns):\n",
      "event              244126 non-null object\n",
      "device             244126 non-null int64\n",
      "event_timestamp    244126 non-null int64\n",
      "nn                 244126 non-null int64\n",
      "dtypes: int64(3), object(1)\n",
      "memory usage: 7.5+ MB\n"
     ]
    }
   ],
   "source": [
    "logs.info()"
   ]
  },
  {
   "cell_type": "code",
   "execution_count": 59,
   "metadata": {},
   "outputs": [
    {
     "data": {
      "text/plain": [
       "7551"
      ]
     },
     "execution_count": 59,
     "metadata": {},
     "output_type": "execute_result"
    }
   ],
   "source": [
    "n_users0 = logs['device'].nunique()\n",
    "n_users0"
   ]
  },
  {
   "cell_type": "code",
   "execution_count": 60,
   "metadata": {},
   "outputs": [
    {
     "data": {
      "text/plain": [
       "244126"
      ]
     },
     "execution_count": 60,
     "metadata": {},
     "output_type": "execute_result"
    }
   ],
   "source": [
    "n_evens0 = len(logs)\n",
    "n_evens0"
   ]
  },
  {
   "cell_type": "markdown",
   "metadata": {},
   "source": [
    "Сделаем ряд проверок на корректность данных. По info() видно, что пропущенных значений нет. Проверим на дубли."
   ]
  },
  {
   "cell_type": "code",
   "execution_count": 61,
   "metadata": {
    "scrolled": true
   },
   "outputs": [
    {
     "data": {
      "text/plain": [
       "413"
      ]
     },
     "execution_count": 61,
     "metadata": {},
     "output_type": "execute_result"
    }
   ],
   "source": [
    "logs.duplicated().sum()"
   ]
  },
  {
   "cell_type": "code",
   "execution_count": 62,
   "metadata": {},
   "outputs": [],
   "source": [
    "logs = logs.drop_duplicates().reset_index(drop=True) "
   ]
  },
  {
   "cell_type": "markdown",
   "metadata": {},
   "source": [
    "Пришлось удалить 413 записей как дубли. Дата события event_timestamp дана в секундах. Маловероятно, что в одну секунду было сделано 2 одинаковых действия. Хотя количество этих записей меньше 1% от общего числа, они все равно не оказали бы большого влияния на результаты."
   ]
  },
  {
   "cell_type": "markdown",
   "metadata": {},
   "source": [
    "добавим колонки с датами"
   ]
  },
  {
   "cell_type": "code",
   "execution_count": 63,
   "metadata": {},
   "outputs": [],
   "source": [
    "logs['event_datetime'] = pd.to_datetime(logs['event_timestamp'],unit='s')\n",
    "\n",
    "logs['event_date'] = logs['event_datetime'].dt.date"
   ]
  },
  {
   "cell_type": "code",
   "execution_count": 64,
   "metadata": {},
   "outputs": [
    {
     "data": {
      "text/html": [
       "<div>\n",
       "<style scoped>\n",
       "    .dataframe tbody tr th:only-of-type {\n",
       "        vertical-align: middle;\n",
       "    }\n",
       "\n",
       "    .dataframe tbody tr th {\n",
       "        vertical-align: top;\n",
       "    }\n",
       "\n",
       "    .dataframe thead th {\n",
       "        text-align: right;\n",
       "    }\n",
       "</style>\n",
       "<table border=\"1\" class=\"dataframe\">\n",
       "  <thead>\n",
       "    <tr style=\"text-align: right;\">\n",
       "      <th></th>\n",
       "      <th>event</th>\n",
       "      <th>device</th>\n",
       "      <th>event_timestamp</th>\n",
       "      <th>nn</th>\n",
       "      <th>event_datetime</th>\n",
       "      <th>event_date</th>\n",
       "    </tr>\n",
       "  </thead>\n",
       "  <tbody>\n",
       "    <tr>\n",
       "      <td>0</td>\n",
       "      <td>MainScreenAppear</td>\n",
       "      <td>4575588528974610257</td>\n",
       "      <td>1564029816</td>\n",
       "      <td>246</td>\n",
       "      <td>2019-07-25 04:43:36</td>\n",
       "      <td>2019-07-25</td>\n",
       "    </tr>\n",
       "    <tr>\n",
       "      <td>1</td>\n",
       "      <td>MainScreenAppear</td>\n",
       "      <td>7416695313311560658</td>\n",
       "      <td>1564053102</td>\n",
       "      <td>246</td>\n",
       "      <td>2019-07-25 11:11:42</td>\n",
       "      <td>2019-07-25</td>\n",
       "    </tr>\n",
       "    <tr>\n",
       "      <td>2</td>\n",
       "      <td>PaymentScreenSuccessful</td>\n",
       "      <td>3518123091307005509</td>\n",
       "      <td>1564054127</td>\n",
       "      <td>248</td>\n",
       "      <td>2019-07-25 11:28:47</td>\n",
       "      <td>2019-07-25</td>\n",
       "    </tr>\n",
       "    <tr>\n",
       "      <td>3</td>\n",
       "      <td>CartScreenAppear</td>\n",
       "      <td>3518123091307005509</td>\n",
       "      <td>1564054127</td>\n",
       "      <td>248</td>\n",
       "      <td>2019-07-25 11:28:47</td>\n",
       "      <td>2019-07-25</td>\n",
       "    </tr>\n",
       "    <tr>\n",
       "      <td>4</td>\n",
       "      <td>PaymentScreenSuccessful</td>\n",
       "      <td>6217807653094995999</td>\n",
       "      <td>1564055322</td>\n",
       "      <td>248</td>\n",
       "      <td>2019-07-25 11:48:42</td>\n",
       "      <td>2019-07-25</td>\n",
       "    </tr>\n",
       "  </tbody>\n",
       "</table>\n",
       "</div>"
      ],
      "text/plain": [
       "                     event               device  event_timestamp   nn  \\\n",
       "0         MainScreenAppear  4575588528974610257       1564029816  246   \n",
       "1         MainScreenAppear  7416695313311560658       1564053102  246   \n",
       "2  PaymentScreenSuccessful  3518123091307005509       1564054127  248   \n",
       "3         CartScreenAppear  3518123091307005509       1564054127  248   \n",
       "4  PaymentScreenSuccessful  6217807653094995999       1564055322  248   \n",
       "\n",
       "       event_datetime  event_date  \n",
       "0 2019-07-25 04:43:36  2019-07-25  \n",
       "1 2019-07-25 11:11:42  2019-07-25  \n",
       "2 2019-07-25 11:28:47  2019-07-25  \n",
       "3 2019-07-25 11:28:47  2019-07-25  \n",
       "4 2019-07-25 11:48:42  2019-07-25  "
      ]
     },
     "execution_count": 64,
     "metadata": {},
     "output_type": "execute_result"
    }
   ],
   "source": [
    "logs.head()"
   ]
  },
  {
   "cell_type": "markdown",
   "metadata": {},
   "source": [
    "Посмотрим диапазон дат логов."
   ]
  },
  {
   "cell_type": "code",
   "execution_count": 65,
   "metadata": {},
   "outputs": [
    {
     "data": {
      "text/plain": [
       "datetime.date(2019, 8, 7)"
      ]
     },
     "execution_count": 65,
     "metadata": {},
     "output_type": "execute_result"
    }
   ],
   "source": [
    "logs['event_date'].max()"
   ]
  },
  {
   "cell_type": "code",
   "execution_count": 66,
   "metadata": {},
   "outputs": [
    {
     "data": {
      "text/plain": [
       "datetime.date(2019, 7, 25)"
      ]
     },
     "execution_count": 66,
     "metadata": {},
     "output_type": "execute_result"
    }
   ],
   "source": [
    "logs['event_date'].min()"
   ]
  },
  {
   "cell_type": "markdown",
   "metadata": {},
   "source": [
    "Посмотрим графически"
   ]
  },
  {
   "cell_type": "code",
   "execution_count": 67,
   "metadata": {
    "scrolled": true
   },
   "outputs": [
    {
     "data": {
      "image/png": "[encoded data removed]",
      "text/plain": [
       "<Figure size 1080x360 with 1 Axes>"
      ]
     },
     "metadata": {
      "needs_background": "light"
     },
     "output_type": "display_data"
    }
   ],
   "source": [
    "logs['event_date'].hist(figsize=(15,5)).set_title('Распределение количества действий пользователей по датам');"
   ]
  },
  {
   "cell_type": "markdown",
   "metadata": {},
   "source": [
    "Посчитаем количество действий по дням"
   ]
  },
  {
   "cell_type": "code",
   "execution_count": 68,
   "metadata": {},
   "outputs": [
    {
     "data": {
      "text/plain": [
       "2019-08-01    36141\n",
       "2019-08-05    36058\n",
       "2019-08-06    35788\n",
       "2019-08-02    35554\n",
       "2019-08-03    33282\n",
       "2019-08-04    32968\n",
       "2019-08-07    31096\n",
       "2019-07-31     2030\n",
       "2019-07-30      412\n",
       "2019-07-29      184\n",
       "2019-07-28      105\n",
       "2019-07-27       55\n",
       "2019-07-26       31\n",
       "2019-07-25        9\n",
       "Name: event_date, dtype: int64"
      ]
     },
     "execution_count": 68,
     "metadata": {},
     "output_type": "execute_result"
    }
   ],
   "source": [
    "logs['event_date'].value_counts()"
   ]
  },
  {
   "cell_type": "markdown",
   "metadata": {},
   "source": [
    "Оставим только данные за август"
   ]
  },
  {
   "cell_type": "code",
   "execution_count": 69,
   "metadata": {},
   "outputs": [
    {
     "data": {
      "text/plain": [
       "2019-08-01    36141\n",
       "2019-08-05    36058\n",
       "2019-08-06    35788\n",
       "2019-08-02    35554\n",
       "2019-08-03    33282\n",
       "2019-08-04    32968\n",
       "2019-08-07    31096\n",
       "Name: event_date, dtype: int64"
      ]
     },
     "execution_count": 69,
     "metadata": {},
     "output_type": "execute_result"
    }
   ],
   "source": [
    "logs = logs[logs['event_date'] >= pd.to_datetime('2019-08-01')]\n",
    "logs['event_date'].value_counts()"
   ]
  },
  {
   "cell_type": "code",
   "execution_count": 70,
   "metadata": {},
   "outputs": [
    {
     "data": {
      "text/html": [
       "<div>\n",
       "<style scoped>\n",
       "    .dataframe tbody tr th:only-of-type {\n",
       "        vertical-align: middle;\n",
       "    }\n",
       "\n",
       "    .dataframe tbody tr th {\n",
       "        vertical-align: top;\n",
       "    }\n",
       "\n",
       "    .dataframe thead th {\n",
       "        text-align: right;\n",
       "    }\n",
       "</style>\n",
       "<table border=\"1\" class=\"dataframe\">\n",
       "  <thead>\n",
       "    <tr style=\"text-align: right;\">\n",
       "      <th></th>\n",
       "      <th>event</th>\n",
       "      <th>device</th>\n",
       "      <th>event_timestamp</th>\n",
       "      <th>nn</th>\n",
       "      <th>event_datetime</th>\n",
       "      <th>event_date</th>\n",
       "    </tr>\n",
       "  </thead>\n",
       "  <tbody>\n",
       "    <tr>\n",
       "      <td>2826</td>\n",
       "      <td>Tutorial</td>\n",
       "      <td>3737462046622621720</td>\n",
       "      <td>1564618048</td>\n",
       "      <td>246</td>\n",
       "      <td>2019-08-01 00:07:28</td>\n",
       "      <td>2019-08-01</td>\n",
       "    </tr>\n",
       "    <tr>\n",
       "      <td>2827</td>\n",
       "      <td>MainScreenAppear</td>\n",
       "      <td>3737462046622621720</td>\n",
       "      <td>1564618080</td>\n",
       "      <td>246</td>\n",
       "      <td>2019-08-01 00:08:00</td>\n",
       "      <td>2019-08-01</td>\n",
       "    </tr>\n",
       "    <tr>\n",
       "      <td>2828</td>\n",
       "      <td>MainScreenAppear</td>\n",
       "      <td>3737462046622621720</td>\n",
       "      <td>1564618135</td>\n",
       "      <td>246</td>\n",
       "      <td>2019-08-01 00:08:55</td>\n",
       "      <td>2019-08-01</td>\n",
       "    </tr>\n",
       "    <tr>\n",
       "      <td>2829</td>\n",
       "      <td>OffersScreenAppear</td>\n",
       "      <td>3737462046622621720</td>\n",
       "      <td>1564618138</td>\n",
       "      <td>246</td>\n",
       "      <td>2019-08-01 00:08:58</td>\n",
       "      <td>2019-08-01</td>\n",
       "    </tr>\n",
       "    <tr>\n",
       "      <td>2830</td>\n",
       "      <td>MainScreenAppear</td>\n",
       "      <td>1433840883824088890</td>\n",
       "      <td>1564618139</td>\n",
       "      <td>247</td>\n",
       "      <td>2019-08-01 00:08:59</td>\n",
       "      <td>2019-08-01</td>\n",
       "    </tr>\n",
       "    <tr>\n",
       "      <td>...</td>\n",
       "      <td>...</td>\n",
       "      <td>...</td>\n",
       "      <td>...</td>\n",
       "      <td>...</td>\n",
       "      <td>...</td>\n",
       "      <td>...</td>\n",
       "    </tr>\n",
       "    <tr>\n",
       "      <td>243708</td>\n",
       "      <td>MainScreenAppear</td>\n",
       "      <td>4599628364049201812</td>\n",
       "      <td>1565212345</td>\n",
       "      <td>247</td>\n",
       "      <td>2019-08-07 21:12:25</td>\n",
       "      <td>2019-08-07</td>\n",
       "    </tr>\n",
       "    <tr>\n",
       "      <td>243709</td>\n",
       "      <td>MainScreenAppear</td>\n",
       "      <td>5849806612437486590</td>\n",
       "      <td>1565212439</td>\n",
       "      <td>246</td>\n",
       "      <td>2019-08-07 21:13:59</td>\n",
       "      <td>2019-08-07</td>\n",
       "    </tr>\n",
       "    <tr>\n",
       "      <td>243710</td>\n",
       "      <td>MainScreenAppear</td>\n",
       "      <td>5746969938801999050</td>\n",
       "      <td>1565212483</td>\n",
       "      <td>246</td>\n",
       "      <td>2019-08-07 21:14:43</td>\n",
       "      <td>2019-08-07</td>\n",
       "    </tr>\n",
       "    <tr>\n",
       "      <td>243711</td>\n",
       "      <td>MainScreenAppear</td>\n",
       "      <td>5746969938801999050</td>\n",
       "      <td>1565212498</td>\n",
       "      <td>246</td>\n",
       "      <td>2019-08-07 21:14:58</td>\n",
       "      <td>2019-08-07</td>\n",
       "    </tr>\n",
       "    <tr>\n",
       "      <td>243712</td>\n",
       "      <td>OffersScreenAppear</td>\n",
       "      <td>5746969938801999050</td>\n",
       "      <td>1565212517</td>\n",
       "      <td>246</td>\n",
       "      <td>2019-08-07 21:15:17</td>\n",
       "      <td>2019-08-07</td>\n",
       "    </tr>\n",
       "  </tbody>\n",
       "</table>\n",
       "<p>240887 rows × 6 columns</p>\n",
       "</div>"
      ],
      "text/plain": [
       "                     event               device  event_timestamp   nn  \\\n",
       "2826              Tutorial  3737462046622621720       1564618048  246   \n",
       "2827      MainScreenAppear  3737462046622621720       1564618080  246   \n",
       "2828      MainScreenAppear  3737462046622621720       1564618135  246   \n",
       "2829    OffersScreenAppear  3737462046622621720       1564618138  246   \n",
       "2830      MainScreenAppear  1433840883824088890       1564618139  247   \n",
       "...                    ...                  ...              ...  ...   \n",
       "243708    MainScreenAppear  4599628364049201812       1565212345  247   \n",
       "243709    MainScreenAppear  5849806612437486590       1565212439  246   \n",
       "243710    MainScreenAppear  5746969938801999050       1565212483  246   \n",
       "243711    MainScreenAppear  5746969938801999050       1565212498  246   \n",
       "243712  OffersScreenAppear  5746969938801999050       1565212517  246   \n",
       "\n",
       "            event_datetime  event_date  \n",
       "2826   2019-08-01 00:07:28  2019-08-01  \n",
       "2827   2019-08-01 00:08:00  2019-08-01  \n",
       "2828   2019-08-01 00:08:55  2019-08-01  \n",
       "2829   2019-08-01 00:08:58  2019-08-01  \n",
       "2830   2019-08-01 00:08:59  2019-08-01  \n",
       "...                    ...         ...  \n",
       "243708 2019-08-07 21:12:25  2019-08-07  \n",
       "243709 2019-08-07 21:13:59  2019-08-07  \n",
       "243710 2019-08-07 21:14:43  2019-08-07  \n",
       "243711 2019-08-07 21:14:58  2019-08-07  \n",
       "243712 2019-08-07 21:15:17  2019-08-07  \n",
       "\n",
       "[240887 rows x 6 columns]"
      ]
     },
     "execution_count": 70,
     "metadata": {},
     "output_type": "execute_result"
    }
   ],
   "source": [
    "logs"
   ]
  },
  {
   "cell_type": "code",
   "execution_count": 71,
   "metadata": {},
   "outputs": [
    {
     "name": "stdout",
     "output_type": "stream",
     "text": [
      "Удалено записей: 3239 ;  % = 1.33 %\n",
      "Удалено пользователей: 17 ;  % = 0.23 %\n"
     ]
    }
   ],
   "source": [
    "n_users = logs['device'].nunique()\n",
    "n_evens = len(logs)\n",
    "print('Удалено записей:',n_evens0-n_evens,';  % =',round((n_evens0-n_evens)/n_evens0*100,2),'%')\n",
    "print('Удалено пользователей:',n_users0-n_users,';  % =',round((n_users0-n_users)/n_users0*100,2),'%')\n"
   ]
  },
  {
   "cell_type": "markdown",
   "metadata": {},
   "source": [
    "Посмотрим  нет ли пересечений и равноценны ли группы"
   ]
  },
  {
   "cell_type": "code",
   "execution_count": 72,
   "metadata": {},
   "outputs": [],
   "source": [
    "g246 = logs[logs['nn']==246]\n",
    "g247 = logs[logs['nn']==247]\n",
    "g248 = logs[logs['nn']==248]\n",
    "\n",
    "users246 = g246['device'].nunique()\n",
    "users247 = g247['device'].nunique()\n",
    "users248 = g248['device'].nunique()\n",
    "users249 = users246 + users247"
   ]
  },
  {
   "cell_type": "code",
   "execution_count": 73,
   "metadata": {},
   "outputs": [
    {
     "data": {
      "text/html": [
       "<div>\n",
       "<style scoped>\n",
       "    .dataframe tbody tr th:only-of-type {\n",
       "        vertical-align: middle;\n",
       "    }\n",
       "\n",
       "    .dataframe tbody tr th {\n",
       "        vertical-align: top;\n",
       "    }\n",
       "\n",
       "    .dataframe thead th {\n",
       "        text-align: right;\n",
       "    }\n",
       "</style>\n",
       "<table border=\"1\" class=\"dataframe\">\n",
       "  <thead>\n",
       "    <tr style=\"text-align: right;\">\n",
       "      <th></th>\n",
       "      <th>event_x</th>\n",
       "      <th>device</th>\n",
       "      <th>event_timestamp_x</th>\n",
       "      <th>nn_x</th>\n",
       "      <th>event_datetime_x</th>\n",
       "      <th>event_date_x</th>\n",
       "      <th>event_y</th>\n",
       "      <th>event_timestamp_y</th>\n",
       "      <th>nn_y</th>\n",
       "      <th>event_datetime_y</th>\n",
       "      <th>event_date_y</th>\n",
       "    </tr>\n",
       "  </thead>\n",
       "  <tbody>\n",
       "  </tbody>\n",
       "</table>\n",
       "</div>"
      ],
      "text/plain": [
       "Empty DataFrame\n",
       "Columns: [event_x, device, event_timestamp_x, nn_x, event_datetime_x, event_date_x, event_y, event_timestamp_y, nn_y, event_datetime_y, event_date_y]\n",
       "Index: []"
      ]
     },
     "execution_count": 73,
     "metadata": {},
     "output_type": "execute_result"
    }
   ],
   "source": [
    "g246.merge(g247,on='device',how='inner')\n",
    "g247.merge(g248,on='device',how='inner')\n",
    "g246.merge(g248,on='device',how='inner')"
   ]
  },
  {
   "cell_type": "markdown",
   "metadata": {},
   "source": [
    "Во всех случаях пересечение пусто."
   ]
  },
  {
   "cell_type": "code",
   "execution_count": 74,
   "metadata": {
    "scrolled": true
   },
   "outputs": [
    {
     "name": "stdout",
     "output_type": "stream",
     "text": [
      "2484 2513 2537\n",
      "79302 77022 84563\n"
     ]
    }
   ],
   "source": [
    "print(users246,users247,users248)\n",
    "print(len(g246),len(g247),len(g248))"
   ]
  },
  {
   "cell_type": "code",
   "execution_count": 75,
   "metadata": {},
   "outputs": [
    {
     "name": "stdout",
     "output_type": "stream",
     "text": [
      "Количество событий 240887\n",
      "Количество пользователей 7534\n",
      "Среднее количество событий на пользователя 31.97\n"
     ]
    }
   ],
   "source": [
    "print('Количество событий',len(logs))\n",
    "print('Количество пользователей',logs['device'].nunique())\n",
    "print('Среднее количество событий на пользователя',round(len(logs)/logs['device'].nunique(),2))"
   ]
  },
  {
   "cell_type": "markdown",
   "metadata": {},
   "source": [
    "**Заключение по разделу** В этом разделе была произведена подготовка данных для расчета. Удалены дубли, определен период полных данных,удалены записи периода с неполными данными, исключены случаи пересечения событий групп, получены общие суммарные значения параметров файла. Всего было удалено 3239 записи, в том числе среди них 17 уникальных пользователей."
   ]
  },
  {
   "cell_type": "markdown",
   "metadata": {},
   "source": [
    "## Воронка событий"
   ]
  },
  {
   "cell_type": "markdown",
   "metadata": {},
   "source": [
    "Посмотрим какие события есть в логах"
   ]
  },
  {
   "cell_type": "code",
   "execution_count": 76,
   "metadata": {},
   "outputs": [],
   "source": [
    "events_count = logs['event'].value_counts()"
   ]
  },
  {
   "cell_type": "code",
   "execution_count": 77,
   "metadata": {},
   "outputs": [
    {
     "data": {
      "text/html": [
       "<div>\n",
       "<style scoped>\n",
       "    .dataframe tbody tr th:only-of-type {\n",
       "        vertical-align: middle;\n",
       "    }\n",
       "\n",
       "    .dataframe tbody tr th {\n",
       "        vertical-align: top;\n",
       "    }\n",
       "\n",
       "    .dataframe thead th {\n",
       "        text-align: right;\n",
       "    }\n",
       "</style>\n",
       "<table border=\"1\" class=\"dataframe\">\n",
       "  <thead>\n",
       "    <tr style=\"text-align: right;\">\n",
       "      <th></th>\n",
       "      <th>device</th>\n",
       "    </tr>\n",
       "    <tr>\n",
       "      <th>event</th>\n",
       "      <th></th>\n",
       "    </tr>\n",
       "  </thead>\n",
       "  <tbody>\n",
       "    <tr>\n",
       "      <td>MainScreenAppear</td>\n",
       "      <td>7419</td>\n",
       "    </tr>\n",
       "    <tr>\n",
       "      <td>OffersScreenAppear</td>\n",
       "      <td>4593</td>\n",
       "    </tr>\n",
       "    <tr>\n",
       "      <td>CartScreenAppear</td>\n",
       "      <td>3734</td>\n",
       "    </tr>\n",
       "    <tr>\n",
       "      <td>PaymentScreenSuccessful</td>\n",
       "      <td>3539</td>\n",
       "    </tr>\n",
       "    <tr>\n",
       "      <td>Tutorial</td>\n",
       "      <td>840</td>\n",
       "    </tr>\n",
       "  </tbody>\n",
       "</table>\n",
       "</div>"
      ],
      "text/plain": [
       "                         device\n",
       "event                          \n",
       "MainScreenAppear           7419\n",
       "OffersScreenAppear         4593\n",
       "CartScreenAppear           3734\n",
       "PaymentScreenSuccessful    3539\n",
       "Tutorial                    840"
      ]
     },
     "execution_count": 77,
     "metadata": {},
     "output_type": "execute_result"
    }
   ],
   "source": [
    "users_count = logs.groupby('event').agg({'device': 'nunique'}).sort_values(by='device', ascending=False)\n",
    "\n",
    "users_count"
   ]
  },
  {
   "cell_type": "code",
   "execution_count": 78,
   "metadata": {},
   "outputs": [],
   "source": [
    "users_MainScreenAppear = users_count.loc['MainScreenAppear','device']\n",
    "users_OffersScreenAppear = users_count.loc['OffersScreenAppear','device']\n",
    "users_CartScreenAppear = users_count.loc['CartScreenAppear','device']\n",
    "users_PaymentScreenSuccessful = users_count.loc['PaymentScreenSuccessful','device']\n",
    "users_Tutorial = users_count.loc['Tutorial','device']"
   ]
  },
  {
   "cell_type": "markdown",
   "metadata": {},
   "source": [
    "MainScreenAppear -> OffersScreenAppear -> CartScreenAppear -> PaymentScreenSuccessful"
   ]
  },
  {
   "cell_type": "markdown",
   "metadata": {},
   "source": [
    "Должна выстраиваться такая основная цепочка событий.(Невозможно выбрать товар, не открыв первую страницу или оплатить товар, не положив его в корзину). Но при этом на любом этапе пользователь может обратиться в Справку (Tutorial). Примечание: Если на сайте есть возможность зайти по ссылке на конкретный товар или сразу в сохраненную корзину, то эта цепочка укорачивается."
   ]
  },
  {
   "cell_type": "markdown",
   "metadata": {},
   "source": [
    "Посчитаем долю пользователей на каждом этапе"
   ]
  },
  {
   "cell_type": "code",
   "execution_count": 79,
   "metadata": {},
   "outputs": [
    {
     "name": "stdout",
     "output_type": "stream",
     "text": [
      "0.98  0.61  0.5  0.47  0.11\n"
     ]
    }
   ],
   "source": [
    "part_MainScreenAppear = round((users_MainScreenAppear/logs['device'].nunique()),2)\n",
    "part_OffersScreenAppear = round((users_OffersScreenAppear/logs['device'].nunique()),2)\n",
    "part_CartScreenAppear = round((users_CartScreenAppear/logs['device'].nunique()),2)\n",
    "part_PaymentScreenSuccessful = round((users_PaymentScreenSuccessful/logs['device'].nunique()),2)\n",
    "part_Tutorial = round((users_Tutorial/logs['device'].nunique()),2)\n",
    "print(part_MainScreenAppear,'',part_OffersScreenAppear,'',part_CartScreenAppear,'',part_PaymentScreenSuccessful,'', part_Tutorial)"
   ]
  },
  {
   "cell_type": "markdown",
   "metadata": {},
   "source": [
    "Посчитаем доли пользователей, которые переходят на следующий этап "
   ]
  },
  {
   "cell_type": "code",
   "execution_count": 80,
   "metadata": {},
   "outputs": [
    {
     "name": "stdout",
     "output_type": "stream",
     "text": [
      "1.0  0.62  0.81  0.95\n"
     ]
    }
   ],
   "source": [
    "step_OffersScreenAppear = round((users_OffersScreenAppear/users_MainScreenAppear),2)\n",
    "step_CartScreenAppear = round((users_CartScreenAppear/users_OffersScreenAppear),2)\n",
    "step_PaymentScreenSuccessful = round((users_PaymentScreenSuccessful/users_CartScreenAppear),2)\n",
    "print('1.0','',step_OffersScreenAppear,'',step_CartScreenAppear,'',step_PaymentScreenSuccessful)"
   ]
  },
  {
   "cell_type": "code",
   "execution_count": 81,
   "metadata": {},
   "outputs": [
    {
     "name": "stdout",
     "output_type": "stream",
     "text": [
      "До оплаты доходят 0.47\n"
     ]
    }
   ],
   "source": [
    "print('До оплаты доходят', round((users_PaymentScreenSuccessful/logs['device'].nunique()),2))"
   ]
  },
  {
   "cell_type": "markdown",
   "metadata": {},
   "source": [
    "Представим это графически:"
   ]
  },
  {
   "cell_type": "code",
   "execution_count": 82,
   "metadata": {},
   "outputs": [
    {
     "data": {
      "image/png": "[encoded data removed]"
     },
     "metadata": {},
     "output_type": "display_data"
    }
   ],
   "source": [
    "fig = go.Figure(\n",
    "    go.Funnel(\n",
    "        y=[\n",
    "            'Посетителей',\n",
    "            'Добавили товар в корзину',\n",
    "            'Начали оформлять заказ',\n",
    "            'Оплатили',\n",
    "        ],\n",
    "        x=[7419, 4593, 3734, 3539],\n",
    "    )\n",
    ")\n",
    "fig.show('png') "
   ]
  },
  {
   "cell_type": "markdown",
   "metadata": {},
   "source": [
    "**Заключение по разделу** В этом разделе была построена воронка событий действий пользователей."
   ]
  },
  {
   "cell_type": "markdown",
   "metadata": {},
   "source": [
    "## Результаты эксперимента"
   ]
  },
  {
   "cell_type": "markdown",
   "metadata": {},
   "source": [
    "Соберем результаты эксперимента по группам, посчитаем количество пользователей, выполнивших определенное действие"
   ]
  },
  {
   "cell_type": "code",
   "execution_count": 83,
   "metadata": {
    "scrolled": true
   },
   "outputs": [
    {
     "data": {
      "text/html": [
       "<div>\n",
       "<style scoped>\n",
       "    .dataframe tbody tr th:only-of-type {\n",
       "        vertical-align: middle;\n",
       "    }\n",
       "\n",
       "    .dataframe tbody tr th {\n",
       "        vertical-align: top;\n",
       "    }\n",
       "\n",
       "    .dataframe thead th {\n",
       "        text-align: right;\n",
       "    }\n",
       "</style>\n",
       "<table border=\"1\" class=\"dataframe\">\n",
       "  <thead>\n",
       "    <tr style=\"text-align: right;\">\n",
       "      <th>event</th>\n",
       "      <th>CartScreenAppear</th>\n",
       "      <th>MainScreenAppear</th>\n",
       "      <th>OffersScreenAppear</th>\n",
       "      <th>PaymentScreenSuccessful</th>\n",
       "      <th>Tutorial</th>\n",
       "    </tr>\n",
       "    <tr>\n",
       "      <th>nn</th>\n",
       "      <th></th>\n",
       "      <th></th>\n",
       "      <th></th>\n",
       "      <th></th>\n",
       "      <th></th>\n",
       "    </tr>\n",
       "  </thead>\n",
       "  <tbody>\n",
       "    <tr>\n",
       "      <td>246</td>\n",
       "      <td>1266</td>\n",
       "      <td>2450</td>\n",
       "      <td>1542</td>\n",
       "      <td>1200</td>\n",
       "      <td>278</td>\n",
       "    </tr>\n",
       "    <tr>\n",
       "      <td>247</td>\n",
       "      <td>1238</td>\n",
       "      <td>2476</td>\n",
       "      <td>1520</td>\n",
       "      <td>1158</td>\n",
       "      <td>283</td>\n",
       "    </tr>\n",
       "    <tr>\n",
       "      <td>248</td>\n",
       "      <td>1230</td>\n",
       "      <td>2493</td>\n",
       "      <td>1531</td>\n",
       "      <td>1181</td>\n",
       "      <td>279</td>\n",
       "    </tr>\n",
       "  </tbody>\n",
       "</table>\n",
       "</div>"
      ],
      "text/plain": [
       "event  CartScreenAppear  MainScreenAppear  OffersScreenAppear  \\\n",
       "nn                                                              \n",
       "246                1266              2450                1542   \n",
       "247                1238              2476                1520   \n",
       "248                1230              2493                1531   \n",
       "\n",
       "event  PaymentScreenSuccessful  Tutorial  \n",
       "nn                                        \n",
       "246                       1200       278  \n",
       "247                       1158       283  \n",
       "248                       1181       279  "
      ]
     },
     "execution_count": 83,
     "metadata": {},
     "output_type": "execute_result"
    }
   ],
   "source": [
    "users_groups = logs.pivot_table(\n",
    "    index='nn', columns='event', values='device', aggfunc='nunique')\n",
    "users_groups"
   ]
  },
  {
   "cell_type": "markdown",
   "metadata": {},
   "source": [
    "Добавим четвертую объединенную группу."
   ]
  },
  {
   "cell_type": "code",
   "execution_count": 84,
   "metadata": {},
   "outputs": [
    {
     "data": {
      "text/html": [
       "<div>\n",
       "<style scoped>\n",
       "    .dataframe tbody tr th:only-of-type {\n",
       "        vertical-align: middle;\n",
       "    }\n",
       "\n",
       "    .dataframe tbody tr th {\n",
       "        vertical-align: top;\n",
       "    }\n",
       "\n",
       "    .dataframe thead th {\n",
       "        text-align: right;\n",
       "    }\n",
       "</style>\n",
       "<table border=\"1\" class=\"dataframe\">\n",
       "  <thead>\n",
       "    <tr style=\"text-align: right;\">\n",
       "      <th></th>\n",
       "      <th>CartScreenAppear</th>\n",
       "      <th>MainScreenAppear</th>\n",
       "      <th>OffersScreenAppear</th>\n",
       "      <th>PaymentScreenSuccessful</th>\n",
       "      <th>Tutorial</th>\n",
       "    </tr>\n",
       "  </thead>\n",
       "  <tbody>\n",
       "    <tr>\n",
       "      <td>249</td>\n",
       "      <td>2504</td>\n",
       "      <td>4926</td>\n",
       "      <td>3062</td>\n",
       "      <td>2358</td>\n",
       "      <td>561</td>\n",
       "    </tr>\n",
       "  </tbody>\n",
       "</table>\n",
       "</div>"
      ],
      "text/plain": [
       "     CartScreenAppear  MainScreenAppear  OffersScreenAppear  \\\n",
       "249              2504              4926                3062   \n",
       "\n",
       "     PaymentScreenSuccessful  Tutorial  \n",
       "249                     2358       561  "
      ]
     },
     "execution_count": 84,
     "metadata": {},
     "output_type": "execute_result"
    }
   ],
   "source": [
    "d249 = pd.DataFrame({'CartScreenAppear': users_groups.loc[246,'CartScreenAppear']+users_groups.loc[247,'CartScreenAppear'],\n",
    "                     'MainScreenAppear': users_groups.loc[246,'MainScreenAppear']+users_groups.loc[247,'MainScreenAppear'],\n",
    "                     'OffersScreenAppear': users_groups.loc[246,'OffersScreenAppear']+users_groups.loc[247,'OffersScreenAppear'],\n",
    "                     'PaymentScreenSuccessful': users_groups.loc[246,'PaymentScreenSuccessful']+users_groups.loc[247,'PaymentScreenSuccessful'],\n",
    "                     'Tutorial': users_groups.loc[246,'Tutorial']+users_groups.loc[247,'Tutorial']},index=[249])\n",
    "d249"
   ]
  },
  {
   "cell_type": "code",
   "execution_count": 85,
   "metadata": {},
   "outputs": [
    {
     "data": {
      "text/html": [
       "<div>\n",
       "<style scoped>\n",
       "    .dataframe tbody tr th:only-of-type {\n",
       "        vertical-align: middle;\n",
       "    }\n",
       "\n",
       "    .dataframe tbody tr th {\n",
       "        vertical-align: top;\n",
       "    }\n",
       "\n",
       "    .dataframe thead th {\n",
       "        text-align: right;\n",
       "    }\n",
       "</style>\n",
       "<table border=\"1\" class=\"dataframe\">\n",
       "  <thead>\n",
       "    <tr style=\"text-align: right;\">\n",
       "      <th>event</th>\n",
       "      <th>CartScreenAppear</th>\n",
       "      <th>MainScreenAppear</th>\n",
       "      <th>OffersScreenAppear</th>\n",
       "      <th>PaymentScreenSuccessful</th>\n",
       "      <th>Tutorial</th>\n",
       "    </tr>\n",
       "  </thead>\n",
       "  <tbody>\n",
       "    <tr>\n",
       "      <td>246</td>\n",
       "      <td>1266</td>\n",
       "      <td>2450</td>\n",
       "      <td>1542</td>\n",
       "      <td>1200</td>\n",
       "      <td>278</td>\n",
       "    </tr>\n",
       "    <tr>\n",
       "      <td>247</td>\n",
       "      <td>1238</td>\n",
       "      <td>2476</td>\n",
       "      <td>1520</td>\n",
       "      <td>1158</td>\n",
       "      <td>283</td>\n",
       "    </tr>\n",
       "    <tr>\n",
       "      <td>248</td>\n",
       "      <td>1230</td>\n",
       "      <td>2493</td>\n",
       "      <td>1531</td>\n",
       "      <td>1181</td>\n",
       "      <td>279</td>\n",
       "    </tr>\n",
       "    <tr>\n",
       "      <td>249</td>\n",
       "      <td>2504</td>\n",
       "      <td>4926</td>\n",
       "      <td>3062</td>\n",
       "      <td>2358</td>\n",
       "      <td>561</td>\n",
       "    </tr>\n",
       "  </tbody>\n",
       "</table>\n",
       "</div>"
      ],
      "text/plain": [
       "event  CartScreenAppear  MainScreenAppear  OffersScreenAppear  \\\n",
       "246                1266              2450                1542   \n",
       "247                1238              2476                1520   \n",
       "248                1230              2493                1531   \n",
       "249                2504              4926                3062   \n",
       "\n",
       "event  PaymentScreenSuccessful  Tutorial  \n",
       "246                       1200       278  \n",
       "247                       1158       283  \n",
       "248                       1181       279  \n",
       "249                       2358       561  "
      ]
     },
     "execution_count": 85,
     "metadata": {},
     "output_type": "execute_result"
    }
   ],
   "source": [
    "users_groups = users_groups.append(d249,sort=False)\n",
    "users_groups"
   ]
  },
  {
   "cell_type": "markdown",
   "metadata": {},
   "source": [
    "Создадим столбец количества людей в группах"
   ]
  },
  {
   "cell_type": "code",
   "execution_count": 86,
   "metadata": {},
   "outputs": [],
   "source": [
    "total_users_group=pd.Series([users246,users247,users248,users249],index=[246,247,248,249])\n"
   ]
  },
  {
   "cell_type": "markdown",
   "metadata": {},
   "source": [
    "Посчитаем доли людей, выполнивших определенное действие"
   ]
  },
  {
   "cell_type": "code",
   "execution_count": 87,
   "metadata": {
    "scrolled": true
   },
   "outputs": [
    {
     "data": {
      "text/html": [
       "<div>\n",
       "<style scoped>\n",
       "    .dataframe tbody tr th:only-of-type {\n",
       "        vertical-align: middle;\n",
       "    }\n",
       "\n",
       "    .dataframe tbody tr th {\n",
       "        vertical-align: top;\n",
       "    }\n",
       "\n",
       "    .dataframe thead th {\n",
       "        text-align: right;\n",
       "    }\n",
       "</style>\n",
       "<table border=\"1\" class=\"dataframe\">\n",
       "  <thead>\n",
       "    <tr style=\"text-align: right;\">\n",
       "      <th>event</th>\n",
       "      <th>CartScreenAppear</th>\n",
       "      <th>MainScreenAppear</th>\n",
       "      <th>OffersScreenAppear</th>\n",
       "      <th>PaymentScreenSuccessful</th>\n",
       "      <th>Tutorial</th>\n",
       "    </tr>\n",
       "  </thead>\n",
       "  <tbody>\n",
       "    <tr>\n",
       "      <td>246</td>\n",
       "      <td>0.509662</td>\n",
       "      <td>0.986312</td>\n",
       "      <td>0.620773</td>\n",
       "      <td>0.483092</td>\n",
       "      <td>0.111916</td>\n",
       "    </tr>\n",
       "    <tr>\n",
       "      <td>247</td>\n",
       "      <td>0.492638</td>\n",
       "      <td>0.985277</td>\n",
       "      <td>0.604855</td>\n",
       "      <td>0.460804</td>\n",
       "      <td>0.112614</td>\n",
       "    </tr>\n",
       "    <tr>\n",
       "      <td>248</td>\n",
       "      <td>0.484825</td>\n",
       "      <td>0.982657</td>\n",
       "      <td>0.603469</td>\n",
       "      <td>0.465510</td>\n",
       "      <td>0.109972</td>\n",
       "    </tr>\n",
       "    <tr>\n",
       "      <td>249</td>\n",
       "      <td>0.501101</td>\n",
       "      <td>0.985791</td>\n",
       "      <td>0.612768</td>\n",
       "      <td>0.471883</td>\n",
       "      <td>0.112267</td>\n",
       "    </tr>\n",
       "  </tbody>\n",
       "</table>\n",
       "</div>"
      ],
      "text/plain": [
       "event  CartScreenAppear  MainScreenAppear  OffersScreenAppear  \\\n",
       "246            0.509662          0.986312            0.620773   \n",
       "247            0.492638          0.985277            0.604855   \n",
       "248            0.484825          0.982657            0.603469   \n",
       "249            0.501101          0.985791            0.612768   \n",
       "\n",
       "event  PaymentScreenSuccessful  Tutorial  \n",
       "246                   0.483092  0.111916  \n",
       "247                   0.460804  0.112614  \n",
       "248                   0.465510  0.109972  \n",
       "249                   0.471883  0.112267  "
      ]
     },
     "execution_count": 87,
     "metadata": {},
     "output_type": "execute_result"
    }
   ],
   "source": [
    "part_users_groups=users_groups.div(total_users_group, axis='index', level=None, fill_value=None)\n",
    "part_users_groups"
   ]
  },
  {
   "cell_type": "code",
   "execution_count": 88,
   "metadata": {},
   "outputs": [
    {
     "data": {
      "text/html": [
       "<div>\n",
       "<style scoped>\n",
       "    .dataframe tbody tr th:only-of-type {\n",
       "        vertical-align: middle;\n",
       "    }\n",
       "\n",
       "    .dataframe tbody tr th {\n",
       "        vertical-align: top;\n",
       "    }\n",
       "\n",
       "    .dataframe thead th {\n",
       "        text-align: right;\n",
       "    }\n",
       "</style>\n",
       "<table border=\"1\" class=\"dataframe\">\n",
       "  <thead>\n",
       "    <tr style=\"text-align: right;\">\n",
       "      <th>event</th>\n",
       "      <th>MainScreenAppear</th>\n",
       "      <th>OffersScreenAppear</th>\n",
       "      <th>CartScreenAppear</th>\n",
       "      <th>PaymentScreenSuccessful</th>\n",
       "      <th>Tutorial</th>\n",
       "    </tr>\n",
       "  </thead>\n",
       "  <tbody>\n",
       "    <tr>\n",
       "      <td>246</td>\n",
       "      <td>0.986312</td>\n",
       "      <td>0.620773</td>\n",
       "      <td>0.509662</td>\n",
       "      <td>0.483092</td>\n",
       "      <td>0.111916</td>\n",
       "    </tr>\n",
       "    <tr>\n",
       "      <td>247</td>\n",
       "      <td>0.985277</td>\n",
       "      <td>0.604855</td>\n",
       "      <td>0.492638</td>\n",
       "      <td>0.460804</td>\n",
       "      <td>0.112614</td>\n",
       "    </tr>\n",
       "    <tr>\n",
       "      <td>248</td>\n",
       "      <td>0.982657</td>\n",
       "      <td>0.603469</td>\n",
       "      <td>0.484825</td>\n",
       "      <td>0.465510</td>\n",
       "      <td>0.109972</td>\n",
       "    </tr>\n",
       "    <tr>\n",
       "      <td>249</td>\n",
       "      <td>0.985791</td>\n",
       "      <td>0.612768</td>\n",
       "      <td>0.501101</td>\n",
       "      <td>0.471883</td>\n",
       "      <td>0.112267</td>\n",
       "    </tr>\n",
       "  </tbody>\n",
       "</table>\n",
       "</div>"
      ],
      "text/plain": [
       "event  MainScreenAppear  OffersScreenAppear  CartScreenAppear  \\\n",
       "246            0.986312            0.620773          0.509662   \n",
       "247            0.985277            0.604855          0.492638   \n",
       "248            0.982657            0.603469          0.484825   \n",
       "249            0.985791            0.612768          0.501101   \n",
       "\n",
       "event  PaymentScreenSuccessful  Tutorial  \n",
       "246                   0.483092  0.111916  \n",
       "247                   0.460804  0.112614  \n",
       "248                   0.465510  0.109972  \n",
       "249                   0.471883  0.112267  "
      ]
     },
     "execution_count": 88,
     "metadata": {},
     "output_type": "execute_result"
    }
   ],
   "source": [
    "part_users_groups = part_users_groups.reindex(columns=['MainScreenAppear', 'OffersScreenAppear', 'CartScreenAppear','PaymentScreenSuccessful','Tutorial'])\n",
    "part_users_groups"
   ]
  },
  {
   "cell_type": "code",
   "execution_count": 89,
   "metadata": {},
   "outputs": [
    {
     "data": {
      "text/plain": [
       "<matplotlib.axes._subplots.AxesSubplot at 0x1d09f778c88>"
      ]
     },
     "execution_count": 89,
     "metadata": {},
     "output_type": "execute_result"
    },
    {
     "data": {
      "image/png": "[encoded data removed]",
      "text/plain": [
       "<Figure size 1080x216 with 2 Axes>"
      ]
     },
     "metadata": {
      "needs_background": "light"
     },
     "output_type": "display_data"
    }
   ],
   "source": [
    "plt.figure(figsize=(15, 3))\n",
    "plt.title('Конверсия по группам эксперимента')\n",
    "sns.set_style ({'text.color': '.01','xtick.color':'0.001','ytick.color':'0.001'})\n",
    "sns.heatmap(part_users_groups, annot=True, fmt='.6f', linewidths=1, linecolor='gray') "
   ]
  },
  {
   "cell_type": "code",
   "execution_count": 90,
   "metadata": {
    "scrolled": true
   },
   "outputs": [
    {
     "data": {
      "text/html": [
       "<div>\n",
       "<style scoped>\n",
       "    .dataframe tbody tr th:only-of-type {\n",
       "        vertical-align: middle;\n",
       "    }\n",
       "\n",
       "    .dataframe tbody tr th {\n",
       "        vertical-align: top;\n",
       "    }\n",
       "\n",
       "    .dataframe thead th {\n",
       "        text-align: right;\n",
       "    }\n",
       "</style>\n",
       "<table border=\"1\" class=\"dataframe\">\n",
       "  <thead>\n",
       "    <tr style=\"text-align: right;\">\n",
       "      <th></th>\n",
       "      <th>246</th>\n",
       "      <th>247</th>\n",
       "      <th>248</th>\n",
       "      <th>249</th>\n",
       "    </tr>\n",
       "    <tr>\n",
       "      <th>event</th>\n",
       "      <th></th>\n",
       "      <th></th>\n",
       "      <th></th>\n",
       "      <th></th>\n",
       "    </tr>\n",
       "  </thead>\n",
       "  <tbody>\n",
       "    <tr>\n",
       "      <td>MainScreenAppear</td>\n",
       "      <td>0.986312</td>\n",
       "      <td>0.985277</td>\n",
       "      <td>0.982657</td>\n",
       "      <td>0.985791</td>\n",
       "    </tr>\n",
       "    <tr>\n",
       "      <td>OffersScreenAppear</td>\n",
       "      <td>0.620773</td>\n",
       "      <td>0.604855</td>\n",
       "      <td>0.603469</td>\n",
       "      <td>0.612768</td>\n",
       "    </tr>\n",
       "    <tr>\n",
       "      <td>CartScreenAppear</td>\n",
       "      <td>0.509662</td>\n",
       "      <td>0.492638</td>\n",
       "      <td>0.484825</td>\n",
       "      <td>0.501101</td>\n",
       "    </tr>\n",
       "    <tr>\n",
       "      <td>PaymentScreenSuccessful</td>\n",
       "      <td>0.483092</td>\n",
       "      <td>0.460804</td>\n",
       "      <td>0.465510</td>\n",
       "      <td>0.471883</td>\n",
       "    </tr>\n",
       "    <tr>\n",
       "      <td>Tutorial</td>\n",
       "      <td>0.111916</td>\n",
       "      <td>0.112614</td>\n",
       "      <td>0.109972</td>\n",
       "      <td>0.112267</td>\n",
       "    </tr>\n",
       "  </tbody>\n",
       "</table>\n",
       "</div>"
      ],
      "text/plain": [
       "                              246       247       248       249\n",
       "event                                                          \n",
       "MainScreenAppear         0.986312  0.985277  0.982657  0.985791\n",
       "OffersScreenAppear       0.620773  0.604855  0.603469  0.612768\n",
       "CartScreenAppear         0.509662  0.492638  0.484825  0.501101\n",
       "PaymentScreenSuccessful  0.483092  0.460804  0.465510  0.471883\n",
       "Tutorial                 0.111916  0.112614  0.109972  0.112267"
      ]
     },
     "execution_count": 90,
     "metadata": {},
     "output_type": "execute_result"
    }
   ],
   "source": [
    "part_users_groups2=part_users_groups.T\n",
    "part_users_groups2"
   ]
  },
  {
   "cell_type": "code",
   "execution_count": 91,
   "metadata": {},
   "outputs": [
    {
     "data": {
      "text/plain": [
       "<matplotlib.axes._subplots.AxesSubplot at 0x1d09b6e0f48>"
      ]
     },
     "execution_count": 91,
     "metadata": {},
     "output_type": "execute_result"
    },
    {
     "data": {
      "image/png": "[encoded data removed]",
      "text/plain": [
       "<Figure size 1080x216 with 2 Axes>"
      ]
     },
     "metadata": {
      "needs_background": "light"
     },
     "output_type": "display_data"
    }
   ],
   "source": [
    "plt.figure(figsize=(15, 3))\n",
    "plt.title('Конверсия по группам эксперимента')\n",
    "sns.heatmap(part_users_groups2, annot=True, fmt='.2%', linewidths=1, linecolor='gray') "
   ]
  },
  {
   "cell_type": "code",
   "execution_count": 92,
   "metadata": {},
   "outputs": [
    {
     "data": {
      "image/png": "[encoded data removed]",
      "text/plain": [
       "<Figure size 1080x720 with 1 Axes>"
      ]
     },
     "metadata": {
      "needs_background": "light"
     },
     "output_type": "display_data"
    }
   ],
   "source": [
    "\n",
    "ax=part_users_groups2.plot(figsize=(15,10),grid=True,title='Конверсия по группам эксперимента')\n",
    "ax.yaxis.set_major_locator(ticker.MultipleLocator(0.1))\n",
    "ax.yaxis.set_minor_locator(ticker.MultipleLocator(0.02))\n",
    "ax.minorticks_on()\n",
    "ax.grid(which='minor',\n",
    "        color = 'gray',\n",
    "        linestyle = ':')\n",
    "\n"
   ]
  },
  {
   "cell_type": "markdown",
   "metadata": {},
   "source": [
    "**Заключение по разделу** В этом разделе были получены сводные таблицы по результатам эксперимента для групп."
   ]
  },
  {
   "cell_type": "markdown",
   "metadata": {},
   "source": [
    "## Проверка гипотезы о равенстве долей"
   ]
  },
  {
   "cell_type": "markdown",
   "metadata": {},
   "source": [
    "Нулевая гипотеза: конверсии в тестовой и контрольных группах равны."
   ]
  },
  {
   "cell_type": "markdown",
   "metadata": {},
   "source": [
    "Альтернативная: конверсии в тестовой и контрольных группах имеют статистически значимое отличие."
   ]
  },
  {
   "cell_type": "markdown",
   "metadata": {},
   "source": [
    "Применим z-test. Чтобы снизить вероятность ложнопозитивного результата при множественном тестировании гипотез, применим поправку Бонферрони."
   ]
  },
  {
   "cell_type": "code",
   "execution_count": 93,
   "metadata": {},
   "outputs": [],
   "source": [
    "def z_test (alpha,ind1,ind2,column,n):\n",
    "    p1=part_users_groups.loc[ind1,column]\n",
    "    p2=part_users_groups.loc[ind2,column]\n",
    "    p_combined = (users_groups.loc[ind1,column] + users_groups.loc[ind2,column]) / (total_users_group[ind1] + total_users_group[ind2])\n",
    "    difference = p1 - p2\n",
    "    z_value = difference / mth.sqrt(p_combined * (1 - p_combined) * (1/total_users_group[ind1] + 1/total_users_group[ind2]))\n",
    "    distr = st.norm(0, 1) \n",
    "    p_value = (1 - distr.cdf(abs(z_value))) * 2\n",
    "    bonferroni_alpha=alpha/n\n",
    "    print('------------------------------------------------------------')\n",
    "    print(bonferroni_alpha,'(Вonferroni)',ind1,ind2,column,'при n=',n)\n",
    "    if p_value < bonferroni_alpha:\n",
    "        print('Отвергаем нулевую гипотезу: между долями есть значимая разница')\n",
    "    else:\n",
    "        print(\n",
    "        'Не получилось отвергнуть нулевую гипотезу, нет оснований считать доли разными')\n",
    "    \n",
    "    return print('p_value=',p_value)"
   ]
  },
  {
   "cell_type": "markdown",
   "metadata": {},
   "source": [
    "где alpha - уровень значимости, n - количество сравнений, ind1,ind2 - индекс строки таблицы"
   ]
  },
  {
   "cell_type": "markdown",
   "metadata": {},
   "source": [
    "Установим уровень значимости alpha=0.05, проведем 4 сравнения."
   ]
  },
  {
   "cell_type": "code",
   "execution_count": 94,
   "metadata": {
    "scrolled": true
   },
   "outputs": [
    {
     "name": "stdout",
     "output_type": "stream",
     "text": [
      "------------------------------------------------------------\n",
      "0.0125 (Вonferroni) 246 247 MainScreenAppear при n= 4\n",
      "Не получилось отвергнуть нулевую гипотезу, нет оснований считать доли разными\n",
      "p_value= 0.7570597232046099\n",
      "------------------------------------------------------------\n",
      "0.0125 (Вonferroni) 246 247 OffersScreenAppear при n= 4\n",
      "Не получилось отвергнуть нулевую гипотезу, нет оснований считать доли разными\n",
      "p_value= 0.2480954578522181\n",
      "------------------------------------------------------------\n",
      "0.0125 (Вonferroni) 246 247 CartScreenAppear при n= 4\n",
      "Не получилось отвергнуть нулевую гипотезу, нет оснований считать доли разными\n",
      "p_value= 0.22883372237997213\n",
      "------------------------------------------------------------\n",
      "0.0125 (Вonferroni) 246 247 PaymentScreenSuccessful при n= 4\n",
      "Не получилось отвергнуть нулевую гипотезу, нет оснований считать доли разными\n",
      "p_value= 0.11456679313141849\n",
      "------------------------------------------------------------\n",
      "0.0125 (Вonferroni) 246 247 Tutorial при n= 4\n",
      "Не получилось отвергнуть нулевую гипотезу, нет оснований считать доли разными\n",
      "p_value= 0.9376996189257114\n"
     ]
    }
   ],
   "source": [
    "z_test(0.05,246,247,'MainScreenAppear',4)\n",
    "z_test(0.05,246,247,'OffersScreenAppear',4)\n",
    "z_test(0.05,246,247,'CartScreenAppear',4)\n",
    "z_test(0.05,246,247,'PaymentScreenSuccessful',4)\n",
    "z_test(0.05,246,247,'Tutorial',4)\n"
   ]
  },
  {
   "cell_type": "code",
   "execution_count": 95,
   "metadata": {},
   "outputs": [
    {
     "name": "stdout",
     "output_type": "stream",
     "text": [
      "------------------------------------------------------------\n",
      "0.0125 (Вonferroni) 248 246 MainScreenAppear при n= 4\n",
      "Не получилось отвергнуть нулевую гипотезу, нет оснований считать доли разными\n",
      "p_value= 0.2949721933554552\n",
      "------------------------------------------------------------\n",
      "0.0125 (Вonferroni) 248 246 OffersScreenAppear при n= 4\n",
      "Не получилось отвергнуть нулевую гипотезу, нет оснований считать доли разными\n",
      "p_value= 0.20836205402738917\n",
      "------------------------------------------------------------\n",
      "0.0125 (Вonferroni) 248 246 CartScreenAppear при n= 4\n",
      "Не получилось отвергнуть нулевую гипотезу, нет оснований считать доли разными\n",
      "p_value= 0.07842923237520116\n",
      "------------------------------------------------------------\n",
      "0.0125 (Вonferroni) 248 246 PaymentScreenSuccessful при n= 4\n",
      "Не получилось отвергнуть нулевую гипотезу, нет оснований считать доли разными\n",
      "p_value= 0.2122553275697796\n",
      "------------------------------------------------------------\n",
      "0.0125 (Вonferroni) 248 246 Tutorial при n= 4\n",
      "Не получилось отвергнуть нулевую гипотезу, нет оснований считать доли разными\n",
      "p_value= 0.8264294010087645\n"
     ]
    }
   ],
   "source": [
    "z_test(0.05,248,246,'MainScreenAppear',4)\n",
    "z_test(0.05,248,246,'OffersScreenAppear',4)\n",
    "z_test(0.05,248,246,'CartScreenAppear',4)\n",
    "z_test(0.05,248,246,'PaymentScreenSuccessful',4)\n",
    "z_test(0.05,248,246,'Tutorial',4)"
   ]
  },
  {
   "cell_type": "code",
   "execution_count": 96,
   "metadata": {},
   "outputs": [
    {
     "name": "stdout",
     "output_type": "stream",
     "text": [
      "------------------------------------------------------------\n",
      "0.0125 (Вonferroni) 248 247 MainScreenAppear при n= 4\n",
      "Не получилось отвергнуть нулевую гипотезу, нет оснований считать доли разными\n",
      "p_value= 0.4587053616621515\n",
      "------------------------------------------------------------\n",
      "0.0125 (Вonferroni) 248 247 OffersScreenAppear при n= 4\n",
      "Не получилось отвергнуть нулевую гипотезу, нет оснований считать доли разными\n",
      "p_value= 0.9197817830592261\n",
      "------------------------------------------------------------\n",
      "0.0125 (Вonferroni) 248 247 CartScreenAppear при n= 4\n",
      "Не получилось отвергнуть нулевую гипотезу, нет оснований считать доли разными\n",
      "p_value= 0.5786197879539783\n",
      "------------------------------------------------------------\n",
      "0.0125 (Вonferroni) 248 247 PaymentScreenSuccessful при n= 4\n",
      "Не получилось отвергнуть нулевую гипотезу, нет оснований считать доли разными\n",
      "p_value= 0.7373415053803964\n",
      "------------------------------------------------------------\n",
      "0.0125 (Вonferroni) 248 247 Tutorial при n= 4\n",
      "Не получилось отвергнуть нулевую гипотезу, нет оснований считать доли разными\n",
      "p_value= 0.765323922474501\n"
     ]
    }
   ],
   "source": [
    "z_test(0.05,248,247,'MainScreenAppear',4)\n",
    "z_test(0.05,248,247,'OffersScreenAppear',4)\n",
    "z_test(0.05,248,247,'CartScreenAppear',4)\n",
    "z_test(0.05,248,247,'PaymentScreenSuccessful',4)\n",
    "z_test(0.05,248,247,'Tutorial',4)"
   ]
  },
  {
   "cell_type": "code",
   "execution_count": 97,
   "metadata": {},
   "outputs": [
    {
     "name": "stdout",
     "output_type": "stream",
     "text": [
      "------------------------------------------------------------\n",
      "0.0125 (Вonferroni) 248 249 MainScreenAppear при n= 4\n",
      "Не получилось отвергнуть нулевую гипотезу, нет оснований считать доли разными\n",
      "p_value= 0.29424526837179577\n",
      "------------------------------------------------------------\n",
      "0.0125 (Вonferroni) 248 249 OffersScreenAppear при n= 4\n",
      "Не получилось отвергнуть нулевую гипотезу, нет оснований считать доли разными\n",
      "p_value= 0.43425549655188256\n",
      "------------------------------------------------------------\n",
      "0.0125 (Вonferroni) 248 249 CartScreenAppear при n= 4\n",
      "Не получилось отвергнуть нулевую гипотезу, нет оснований считать доли разными\n",
      "p_value= 0.18175875284404386\n",
      "------------------------------------------------------------\n",
      "0.0125 (Вonferroni) 248 249 PaymentScreenSuccessful при n= 4\n",
      "Не получилось отвергнуть нулевую гипотезу, нет оснований считать доли разными\n",
      "p_value= 0.6004294282308704\n",
      "------------------------------------------------------------\n",
      "0.0125 (Вonferroni) 248 249 Tutorial при n= 4\n",
      "Не получилось отвергнуть нулевую гипотезу, нет оснований считать доли разными\n",
      "p_value= 0.764862472531507\n"
     ]
    }
   ],
   "source": [
    "z_test(0.05,248,249,'MainScreenAppear',4)\n",
    "z_test(0.05,248,249,'OffersScreenAppear',4)\n",
    "z_test(0.05,248,249,'CartScreenAppear',4)\n",
    "z_test(0.05,248,249,'PaymentScreenSuccessful',4)\n",
    "z_test(0.05,248,249,'Tutorial',4)"
   ]
  },
  {
   "cell_type": "markdown",
   "metadata": {},
   "source": [
    "Как показывают расчеты, во всех сравнениях пар групп не отвергается нулевая гипотеза, что доли равны, ни для ни одного события. "
   ]
  },
  {
   "cell_type": "markdown",
   "metadata": {},
   "source": [
    "Уменьшим уровень значимости alpha = 0.01"
   ]
  },
  {
   "cell_type": "code",
   "execution_count": 98,
   "metadata": {},
   "outputs": [
    {
     "name": "stdout",
     "output_type": "stream",
     "text": [
      "------------------------------------------------------------\n",
      "0.0025 (Вonferroni) 246 247 MainScreenAppear при n= 4\n",
      "Не получилось отвергнуть нулевую гипотезу, нет оснований считать доли разными\n",
      "p_value= 0.7570597232046099\n",
      "------------------------------------------------------------\n",
      "0.0025 (Вonferroni) 246 247 OffersScreenAppear при n= 4\n",
      "Не получилось отвергнуть нулевую гипотезу, нет оснований считать доли разными\n",
      "p_value= 0.2480954578522181\n",
      "------------------------------------------------------------\n",
      "0.0025 (Вonferroni) 246 247 CartScreenAppear при n= 4\n",
      "Не получилось отвергнуть нулевую гипотезу, нет оснований считать доли разными\n",
      "p_value= 0.22883372237997213\n",
      "------------------------------------------------------------\n",
      "0.0025 (Вonferroni) 246 247 PaymentScreenSuccessful при n= 4\n",
      "Не получилось отвергнуть нулевую гипотезу, нет оснований считать доли разными\n",
      "p_value= 0.11456679313141849\n",
      "------------------------------------------------------------\n",
      "0.0025 (Вonferroni) 246 247 Tutorial при n= 4\n",
      "Не получилось отвергнуть нулевую гипотезу, нет оснований считать доли разными\n",
      "p_value= 0.9376996189257114\n"
     ]
    }
   ],
   "source": [
    "z_test(0.01,246,247,'MainScreenAppear',4)\n",
    "z_test(0.01,246,247,'OffersScreenAppear',4)\n",
    "z_test(0.01,246,247,'CartScreenAppear',4)\n",
    "z_test(0.01,246,247,'PaymentScreenSuccessful',4)\n",
    "z_test(0.01,246,247,'Tutorial',4)"
   ]
  },
  {
   "cell_type": "code",
   "execution_count": 99,
   "metadata": {},
   "outputs": [
    {
     "name": "stdout",
     "output_type": "stream",
     "text": [
      "------------------------------------------------------------\n",
      "0.0025 (Вonferroni) 248 246 MainScreenAppear при n= 4\n",
      "Не получилось отвергнуть нулевую гипотезу, нет оснований считать доли разными\n",
      "p_value= 0.2949721933554552\n",
      "------------------------------------------------------------\n",
      "0.0025 (Вonferroni) 248 246 OffersScreenAppear при n= 4\n",
      "Не получилось отвергнуть нулевую гипотезу, нет оснований считать доли разными\n",
      "p_value= 0.20836205402738917\n",
      "------------------------------------------------------------\n",
      "0.0025 (Вonferroni) 248 246 CartScreenAppear при n= 4\n",
      "Не получилось отвергнуть нулевую гипотезу, нет оснований считать доли разными\n",
      "p_value= 0.07842923237520116\n",
      "------------------------------------------------------------\n",
      "0.0025 (Вonferroni) 248 246 PaymentScreenSuccessful при n= 4\n",
      "Не получилось отвергнуть нулевую гипотезу, нет оснований считать доли разными\n",
      "p_value= 0.2122553275697796\n",
      "------------------------------------------------------------\n",
      "0.0025 (Вonferroni) 248 246 Tutorial при n= 4\n",
      "Не получилось отвергнуть нулевую гипотезу, нет оснований считать доли разными\n",
      "p_value= 0.8264294010087645\n"
     ]
    }
   ],
   "source": [
    "z_test(0.01,248,246,'MainScreenAppear',4)\n",
    "z_test(0.01,248,246,'OffersScreenAppear',4)\n",
    "z_test(0.01,248,246,'CartScreenAppear',4)\n",
    "z_test(0.01,248,246,'PaymentScreenSuccessful',4)\n",
    "z_test(0.01,248,246,'Tutorial',4)"
   ]
  },
  {
   "cell_type": "code",
   "execution_count": 100,
   "metadata": {},
   "outputs": [
    {
     "name": "stdout",
     "output_type": "stream",
     "text": [
      "------------------------------------------------------------\n",
      "0.0025 (Вonferroni) 248 247 MainScreenAppear при n= 4\n",
      "Не получилось отвергнуть нулевую гипотезу, нет оснований считать доли разными\n",
      "p_value= 0.4587053616621515\n",
      "------------------------------------------------------------\n",
      "0.0025 (Вonferroni) 248 247 OffersScreenAppear при n= 4\n",
      "Не получилось отвергнуть нулевую гипотезу, нет оснований считать доли разными\n",
      "p_value= 0.9197817830592261\n",
      "------------------------------------------------------------\n",
      "0.0025 (Вonferroni) 248 247 CartScreenAppear при n= 4\n",
      "Не получилось отвергнуть нулевую гипотезу, нет оснований считать доли разными\n",
      "p_value= 0.5786197879539783\n",
      "------------------------------------------------------------\n",
      "0.0025 (Вonferroni) 248 247 PaymentScreenSuccessful при n= 4\n",
      "Не получилось отвергнуть нулевую гипотезу, нет оснований считать доли разными\n",
      "p_value= 0.7373415053803964\n",
      "------------------------------------------------------------\n",
      "0.0025 (Вonferroni) 248 247 Tutorial при n= 4\n",
      "Не получилось отвергнуть нулевую гипотезу, нет оснований считать доли разными\n",
      "p_value= 0.765323922474501\n"
     ]
    }
   ],
   "source": [
    "z_test(0.01,248,247,'MainScreenAppear',4)\n",
    "z_test(0.01,248,247,'OffersScreenAppear',4)\n",
    "z_test(0.01,248,247,'CartScreenAppear',4)\n",
    "z_test(0.01,248,247,'PaymentScreenSuccessful',4)\n",
    "z_test(0.01,248,247,'Tutorial',4)"
   ]
  },
  {
   "cell_type": "code",
   "execution_count": 101,
   "metadata": {},
   "outputs": [
    {
     "name": "stdout",
     "output_type": "stream",
     "text": [
      "------------------------------------------------------------\n",
      "0.0025 (Вonferroni) 248 249 MainScreenAppear при n= 4\n",
      "Не получилось отвергнуть нулевую гипотезу, нет оснований считать доли разными\n",
      "p_value= 0.29424526837179577\n",
      "------------------------------------------------------------\n",
      "0.0025 (Вonferroni) 248 249 OffersScreenAppear при n= 4\n",
      "Не получилось отвергнуть нулевую гипотезу, нет оснований считать доли разными\n",
      "p_value= 0.43425549655188256\n",
      "------------------------------------------------------------\n",
      "0.0025 (Вonferroni) 248 249 CartScreenAppear при n= 4\n",
      "Не получилось отвергнуть нулевую гипотезу, нет оснований считать доли разными\n",
      "p_value= 0.18175875284404386\n",
      "------------------------------------------------------------\n",
      "0.0025 (Вonferroni) 248 249 PaymentScreenSuccessful при n= 4\n",
      "Не получилось отвергнуть нулевую гипотезу, нет оснований считать доли разными\n",
      "p_value= 0.6004294282308704\n",
      "------------------------------------------------------------\n",
      "0.0025 (Вonferroni) 248 249 Tutorial при n= 4\n",
      "Не получилось отвергнуть нулевую гипотезу, нет оснований считать доли разными\n",
      "p_value= 0.764862472531507\n"
     ]
    }
   ],
   "source": [
    "z_test(0.01,248,249,'MainScreenAppear',4)\n",
    "z_test(0.01,248,249,'OffersScreenAppear',4)\n",
    "z_test(0.01,248,249,'CartScreenAppear',4)\n",
    "z_test(0.01,248,249,'PaymentScreenSuccessful',4)\n",
    "z_test(0.01,248,249,'Tutorial',4)"
   ]
  },
  {
   "cell_type": "markdown",
   "metadata": {},
   "source": [
    "При коэффициенте 0.01 получен тот же результат."
   ]
  },
  {
   "cell_type": "markdown",
   "metadata": {},
   "source": [
    "**Заключение по разделу** В этом разделе был проведен расчет z-теста по результатам эксперимента при уровнях значимости 0.05 и 0.01 с учетом поправки Бонферрони."
   ]
  },
  {
   "cell_type": "markdown",
   "metadata": {},
   "source": [
    "## Общий вывод"
   ]
  },
  {
   "cell_type": "markdown",
   "metadata": {},
   "source": [
    "-   В процессе этого исследования была рассчитана воронка событий действий пользователей. Оплату товара совершают 47% пользователей от общего количества.\n",
    "-   Были получены сводные таблицы по результатам эксперимента.\n",
    "-   При расчете z-теста при уровнях значимости alpha=0.05 и alpha=0.01, не было получено статистически значимое отличие тестовой и контрольных групп для событий. А значит, что несмотря на результаты сводных таблиц, где посчитанная конверсия имеет небольшие различия по группам, можно сделать вывод, что изменение шрифта не повлияло на поведение пользователей. "
   ]
  }
 ],
 "metadata": {
  "ExecuteTimeLog": [
   {
    "duration": 780,
    "start_time": "2021-09-16T04:51:36.602Z"
   },
   {
    "duration": 95,
    "start_time": "2021-09-16T04:51:39.393Z"
   },
   {
    "duration": 14,
    "start_time": "2021-09-16T04:52:13.120Z"
   },
   {
    "duration": 342,
    "start_time": "2021-09-16T04:52:51.534Z"
   },
   {
    "duration": 3,
    "start_time": "2021-09-16T04:53:06.857Z"
   },
   {
    "duration": 253,
    "start_time": "2021-09-16T04:53:06.896Z"
   },
   {
    "duration": 694,
    "start_time": "2021-09-16T04:53:18.417Z"
   },
   {
    "duration": 375,
    "start_time": "2021-09-16T04:53:19.114Z"
   },
   {
    "duration": 320,
    "start_time": "2021-09-16T04:53:47.011Z"
   },
   {
    "duration": 718,
    "start_time": "2021-09-16T04:54:15.123Z"
   },
   {
    "duration": 342,
    "start_time": "2021-09-16T04:54:15.844Z"
   },
   {
    "duration": 346,
    "start_time": "2021-09-16T05:03:55.201Z"
   },
   {
    "duration": 322,
    "start_time": "2021-09-16T05:07:09.522Z"
   },
   {
    "duration": 135,
    "start_time": "2021-09-16T05:07:24.064Z"
   },
   {
    "duration": 329,
    "start_time": "2021-09-16T05:07:55.943Z"
   },
   {
    "duration": 388,
    "start_time": "2021-09-16T05:09:47.244Z"
   },
   {
    "duration": 82,
    "start_time": "2021-09-16T05:10:22.090Z"
   },
   {
    "duration": 103,
    "start_time": "2021-09-16T05:12:54.669Z"
   },
   {
    "duration": 79,
    "start_time": "2021-09-16T05:13:24.473Z"
   },
   {
    "duration": 156,
    "start_time": "2021-09-16T05:38:44.333Z"
   },
   {
    "duration": 4,
    "start_time": "2021-09-16T05:52:54.917Z"
   },
   {
    "duration": 175,
    "start_time": "2021-09-16T05:54:04.978Z"
   },
   {
    "duration": 14,
    "start_time": "2021-09-16T05:54:09.326Z"
   },
   {
    "duration": 3,
    "start_time": "2021-09-16T05:54:24.158Z"
   },
   {
    "duration": 164,
    "start_time": "2021-09-16T05:54:24.187Z"
   },
   {
    "duration": 4,
    "start_time": "2021-09-16T05:54:24.354Z"
   },
   {
    "duration": 27,
    "start_time": "2021-09-16T05:54:24.361Z"
   },
   {
    "duration": 21,
    "start_time": "2021-09-16T05:56:05.302Z"
   },
   {
    "duration": 21,
    "start_time": "2021-09-16T05:56:49.904Z"
   },
   {
    "duration": 14,
    "start_time": "2021-09-16T06:20:56.769Z"
   },
   {
    "duration": 11,
    "start_time": "2021-09-16T06:21:48.185Z"
   },
   {
    "duration": 18,
    "start_time": "2021-09-16T06:21:55.057Z"
   },
   {
    "duration": 96,
    "start_time": "2021-09-16T06:23:45.765Z"
   },
   {
    "duration": 343,
    "start_time": "2021-09-16T06:24:11.284Z"
   },
   {
    "duration": 34,
    "start_time": "2021-09-16T06:24:27.061Z"
   },
   {
    "duration": 20,
    "start_time": "2021-09-16T06:24:31.124Z"
   },
   {
    "duration": 112,
    "start_time": "2021-09-16T06:58:25.261Z"
   },
   {
    "duration": 21,
    "start_time": "2021-09-16T06:58:28.339Z"
   },
   {
    "duration": 114,
    "start_time": "2021-09-16T06:58:40.447Z"
   },
   {
    "duration": 20,
    "start_time": "2021-09-16T06:58:43.351Z"
   },
   {
    "duration": 3,
    "start_time": "2021-09-16T07:00:05.127Z"
   },
   {
    "duration": 190,
    "start_time": "2021-09-16T07:00:05.153Z"
   },
   {
    "duration": 6,
    "start_time": "2021-09-16T07:00:05.346Z"
   },
   {
    "duration": 36,
    "start_time": "2021-09-16T07:00:05.356Z"
   },
   {
    "duration": 22,
    "start_time": "2021-09-16T07:00:05.395Z"
   },
   {
    "duration": 13,
    "start_time": "2021-09-16T07:00:05.420Z"
   },
   {
    "duration": 32,
    "start_time": "2021-09-16T07:00:05.436Z"
   },
   {
    "duration": 254,
    "start_time": "2021-09-16T07:00:05.483Z"
   },
   {
    "duration": -14,
    "start_time": "2021-09-16T07:00:05.754Z"
   },
   {
    "duration": 736,
    "start_time": "2021-09-16T07:01:09.276Z"
   },
   {
    "duration": 182,
    "start_time": "2021-09-16T07:01:10.014Z"
   },
   {
    "duration": 4,
    "start_time": "2021-09-16T07:01:10.199Z"
   },
   {
    "duration": 17,
    "start_time": "2021-09-16T07:01:10.206Z"
   },
   {
    "duration": 23,
    "start_time": "2021-09-16T07:01:10.226Z"
   },
   {
    "duration": 40,
    "start_time": "2021-09-16T07:01:10.252Z"
   },
   {
    "duration": 15,
    "start_time": "2021-09-16T07:01:10.295Z"
   },
   {
    "duration": 480,
    "start_time": "2021-09-16T07:01:10.314Z"
   },
   {
    "duration": 116,
    "start_time": "2021-09-16T07:01:10.680Z"
   },
   {
    "duration": 3,
    "start_time": "2021-09-16T07:02:23.779Z"
   },
   {
    "duration": 175,
    "start_time": "2021-09-16T07:02:23.801Z"
   },
   {
    "duration": 4,
    "start_time": "2021-09-16T07:02:23.983Z"
   },
   {
    "duration": 22,
    "start_time": "2021-09-16T07:02:23.990Z"
   },
   {
    "duration": 25,
    "start_time": "2021-09-16T07:02:24.014Z"
   },
   {
    "duration": 40,
    "start_time": "2021-09-16T07:02:24.042Z"
   },
   {
    "duration": 18,
    "start_time": "2021-09-16T07:02:24.085Z"
   },
   {
    "duration": 132,
    "start_time": "2021-09-16T07:02:24.106Z"
   },
   {
    "duration": 24,
    "start_time": "2021-09-16T07:02:24.241Z"
   },
   {
    "duration": 3,
    "start_time": "2021-09-16T07:35:58.622Z"
   },
   {
    "duration": 175,
    "start_time": "2021-09-16T07:35:58.643Z"
   },
   {
    "duration": 4,
    "start_time": "2021-09-16T07:35:58.821Z"
   },
   {
    "duration": 19,
    "start_time": "2021-09-16T07:35:58.828Z"
   },
   {
    "duration": 46,
    "start_time": "2021-09-16T07:35:58.849Z"
   },
   {
    "duration": 134,
    "start_time": "2021-09-16T07:35:58.897Z"
   },
   {
    "duration": 21,
    "start_time": "2021-09-16T07:35:59.033Z"
   },
   {
    "duration": 264,
    "start_time": "2021-09-16T07:49:31.794Z"
   },
   {
    "duration": 284,
    "start_time": "2021-09-16T07:49:44.875Z"
   },
   {
    "duration": 114,
    "start_time": "2021-09-16T07:57:06.100Z"
   },
   {
    "duration": 99,
    "start_time": "2021-09-16T07:57:46.729Z"
   },
   {
    "duration": 96,
    "start_time": "2021-09-16T07:59:25.335Z"
   },
   {
    "duration": 99,
    "start_time": "2021-09-16T07:59:46.694Z"
   },
   {
    "duration": 382,
    "start_time": "2021-09-16T08:01:15.260Z"
   },
   {
    "duration": 390,
    "start_time": "2021-09-16T08:01:31.515Z"
   },
   {
    "duration": 4267,
    "start_time": "2021-09-16T08:01:55.427Z"
   },
   {
    "duration": 5096,
    "start_time": "2021-09-16T08:02:23.481Z"
   },
   {
    "duration": 132,
    "start_time": "2021-09-16T08:03:03.785Z"
   },
   {
    "duration": 135,
    "start_time": "2021-09-16T08:03:14.640Z"
   },
   {
    "duration": 131,
    "start_time": "2021-09-16T08:03:46.226Z"
   },
   {
    "duration": 4563,
    "start_time": "2021-09-16T08:05:11.275Z"
   },
   {
    "duration": 4420,
    "start_time": "2021-09-16T08:05:57.315Z"
   },
   {
    "duration": 94,
    "start_time": "2021-09-16T08:06:44.634Z"
   },
   {
    "duration": 380,
    "start_time": "2021-09-16T08:07:08.855Z"
   },
   {
    "duration": 92,
    "start_time": "2021-09-16T08:11:57.316Z"
   },
   {
    "duration": 3741,
    "start_time": "2021-09-16T08:12:07.323Z"
   },
   {
    "duration": 7230,
    "start_time": "2021-09-16T08:12:55.117Z"
   },
   {
    "duration": 106,
    "start_time": "2021-09-16T08:13:20.905Z"
   },
   {
    "duration": 141,
    "start_time": "2021-09-16T08:19:10.053Z"
   },
   {
    "duration": 132,
    "start_time": "2021-09-16T08:19:23.900Z"
   },
   {
    "duration": 137,
    "start_time": "2021-09-16T08:19:40.226Z"
   },
   {
    "duration": 100,
    "start_time": "2021-09-16T08:20:15.841Z"
   },
   {
    "duration": 6568,
    "start_time": "2021-09-16T08:20:37.401Z"
   },
   {
    "duration": 103,
    "start_time": "2021-09-16T08:21:25.200Z"
   },
   {
    "duration": 7,
    "start_time": "2021-09-16T08:30:27.795Z"
   },
   {
    "duration": 14,
    "start_time": "2021-09-16T08:31:03.386Z"
   },
   {
    "duration": 8,
    "start_time": "2021-09-16T08:32:53.350Z"
   },
   {
    "duration": 4,
    "start_time": "2021-09-16T08:33:04.415Z"
   },
   {
    "duration": 181,
    "start_time": "2021-09-16T08:33:04.447Z"
   },
   {
    "duration": 3,
    "start_time": "2021-09-16T08:33:04.631Z"
   },
   {
    "duration": 17,
    "start_time": "2021-09-16T08:33:04.637Z"
   },
   {
    "duration": 26,
    "start_time": "2021-09-16T08:33:04.656Z"
   },
   {
    "duration": 21,
    "start_time": "2021-09-16T08:33:04.685Z"
   },
   {
    "duration": 97,
    "start_time": "2021-09-16T08:33:04.708Z"
   },
   {
    "duration": 7,
    "start_time": "2021-09-16T08:33:04.807Z"
   },
   {
    "duration": 146,
    "start_time": "2021-09-16T08:33:04.822Z"
   },
   {
    "duration": 23,
    "start_time": "2021-09-16T08:33:04.970Z"
   },
   {
    "duration": 35,
    "start_time": "2021-09-16T08:38:16.993Z"
   },
   {
    "duration": 4,
    "start_time": "2021-09-16T08:38:34.083Z"
   },
   {
    "duration": 171,
    "start_time": "2021-09-16T08:38:34.117Z"
   },
   {
    "duration": 4,
    "start_time": "2021-09-16T08:38:34.290Z"
   },
   {
    "duration": 24,
    "start_time": "2021-09-16T08:38:34.297Z"
   },
   {
    "duration": 26,
    "start_time": "2021-09-16T08:38:34.324Z"
   },
   {
    "duration": 29,
    "start_time": "2021-09-16T08:38:34.352Z"
   },
   {
    "duration": 31,
    "start_time": "2021-09-16T08:38:34.384Z"
   },
   {
    "duration": 113,
    "start_time": "2021-09-16T08:38:34.418Z"
   },
   {
    "duration": 8,
    "start_time": "2021-09-16T08:38:34.534Z"
   },
   {
    "duration": 224,
    "start_time": "2021-09-16T08:38:34.545Z"
   },
   {
    "duration": 31,
    "start_time": "2021-09-16T08:38:34.772Z"
   },
   {
    "duration": 107,
    "start_time": "2021-09-16T08:41:37.104Z"
   },
   {
    "duration": 120,
    "start_time": "2021-09-16T09:09:33.936Z"
   },
   {
    "duration": 22,
    "start_time": "2021-09-16T09:09:37.024Z"
   },
   {
    "duration": 4,
    "start_time": "2021-09-16T09:09:59.435Z"
   },
   {
    "duration": 185,
    "start_time": "2021-09-16T09:09:59.457Z"
   },
   {
    "duration": 4,
    "start_time": "2021-09-16T09:09:59.645Z"
   },
   {
    "duration": 32,
    "start_time": "2021-09-16T09:09:59.653Z"
   },
   {
    "duration": 45,
    "start_time": "2021-09-16T09:09:59.688Z"
   },
   {
    "duration": 116,
    "start_time": "2021-09-16T09:09:59.736Z"
   },
   {
    "duration": 228,
    "start_time": "2021-09-16T09:09:59.855Z"
   },
   {
    "duration": 24,
    "start_time": "2021-09-16T09:10:00.086Z"
   },
   {
    "duration": 4,
    "start_time": "2021-09-16T09:10:31.846Z"
   },
   {
    "duration": 186,
    "start_time": "2021-09-16T09:10:31.867Z"
   },
   {
    "duration": 5,
    "start_time": "2021-09-16T09:10:32.056Z"
   },
   {
    "duration": 51,
    "start_time": "2021-09-16T09:10:32.063Z"
   },
   {
    "duration": 111,
    "start_time": "2021-09-16T09:10:32.117Z"
   },
   {
    "duration": 84,
    "start_time": "2021-09-16T09:10:32.231Z"
   },
   {
    "duration": 97,
    "start_time": "2021-09-16T09:10:32.318Z"
   },
   {
    "duration": 131,
    "start_time": "2021-09-16T09:10:32.418Z"
   },
   {
    "duration": 30,
    "start_time": "2021-09-16T09:10:32.552Z"
   },
   {
    "duration": 826,
    "start_time": "2021-09-16T13:49:23.282Z"
   },
   {
    "duration": 195,
    "start_time": "2021-09-16T13:49:24.111Z"
   },
   {
    "duration": 5,
    "start_time": "2021-09-16T13:49:24.309Z"
   },
   {
    "duration": 18,
    "start_time": "2021-09-16T13:49:24.316Z"
   },
   {
    "duration": 24,
    "start_time": "2021-09-16T13:49:24.337Z"
   },
   {
    "duration": 99,
    "start_time": "2021-09-16T13:49:24.383Z"
   },
   {
    "duration": 123,
    "start_time": "2021-09-16T13:49:24.485Z"
   },
   {
    "duration": 141,
    "start_time": "2021-09-16T13:49:24.611Z"
   },
   {
    "duration": 34,
    "start_time": "2021-09-16T13:49:24.754Z"
   },
   {
    "duration": 384,
    "start_time": "2021-09-16T13:59:30.657Z"
   },
   {
    "duration": 4,
    "start_time": "2021-09-16T13:59:40.758Z"
   },
   {
    "duration": 204,
    "start_time": "2021-09-16T13:59:40.765Z"
   },
   {
    "duration": 14,
    "start_time": "2021-09-16T13:59:40.972Z"
   },
   {
    "duration": 18,
    "start_time": "2021-09-16T13:59:40.989Z"
   },
   {
    "duration": 31,
    "start_time": "2021-09-16T13:59:41.010Z"
   },
   {
    "duration": 103,
    "start_time": "2021-09-16T13:59:41.044Z"
   },
   {
    "duration": 103,
    "start_time": "2021-09-16T13:59:41.149Z"
   },
   {
    "duration": 37,
    "start_time": "2021-09-16T13:59:41.256Z"
   },
   {
    "duration": 29,
    "start_time": "2021-09-16T13:59:41.296Z"
   },
   {
    "duration": 147,
    "start_time": "2021-09-16T13:59:41.327Z"
   },
   {
    "duration": 29,
    "start_time": "2021-09-16T13:59:41.477Z"
   },
   {
    "duration": 25,
    "start_time": "2021-09-16T14:00:44.205Z"
   },
   {
    "duration": 23,
    "start_time": "2021-09-16T14:01:43.407Z"
   },
   {
    "duration": 22,
    "start_time": "2021-09-16T14:02:31.182Z"
   },
   {
    "duration": 24,
    "start_time": "2021-09-16T14:03:45.481Z"
   },
   {
    "duration": 47,
    "start_time": "2021-09-16T14:05:49.633Z"
   },
   {
    "duration": 49,
    "start_time": "2021-09-16T14:06:34.935Z"
   },
   {
    "duration": 6,
    "start_time": "2021-09-16T15:16:37.054Z"
   },
   {
    "duration": 244,
    "start_time": "2021-09-16T15:17:33.667Z"
   },
   {
    "duration": 8,
    "start_time": "2021-09-16T15:17:51.613Z"
   },
   {
    "duration": 25,
    "start_time": "2021-09-16T15:23:36.191Z"
   },
   {
    "duration": 25,
    "start_time": "2021-09-16T15:24:08.188Z"
   },
   {
    "duration": 498,
    "start_time": "2021-09-16T15:25:47.092Z"
   },
   {
    "duration": 488,
    "start_time": "2021-09-16T15:27:54.581Z"
   },
   {
    "duration": 464,
    "start_time": "2021-09-16T15:28:38.634Z"
   },
   {
    "duration": 35,
    "start_time": "2021-09-16T15:30:35.022Z"
   },
   {
    "duration": 1101,
    "start_time": "2021-09-16T15:36:42.858Z"
   },
   {
    "duration": 1419,
    "start_time": "2021-09-16T15:38:49.460Z"
   },
   {
    "duration": 130,
    "start_time": "2021-09-16T15:39:24.857Z"
   },
   {
    "duration": 1566,
    "start_time": "2021-09-16T15:46:47.861Z"
   },
   {
    "duration": 4,
    "start_time": "2021-09-16T15:47:02.941Z"
   },
   {
    "duration": 192,
    "start_time": "2021-09-16T15:47:02.947Z"
   },
   {
    "duration": 4,
    "start_time": "2021-09-16T15:47:03.143Z"
   },
   {
    "duration": 43,
    "start_time": "2021-09-16T15:47:03.149Z"
   },
   {
    "duration": 48,
    "start_time": "2021-09-16T15:47:03.194Z"
   },
   {
    "duration": 89,
    "start_time": "2021-09-16T15:47:03.244Z"
   },
   {
    "duration": 100,
    "start_time": "2021-09-16T15:47:03.335Z"
   },
   {
    "duration": 23,
    "start_time": "2021-09-16T15:47:03.437Z"
   },
   {
    "duration": 63,
    "start_time": "2021-09-16T15:47:03.464Z"
   },
   {
    "duration": 8,
    "start_time": "2021-09-16T15:47:03.529Z"
   },
   {
    "duration": 143,
    "start_time": "2021-09-16T15:47:03.539Z"
   },
   {
    "duration": 21,
    "start_time": "2021-09-16T15:47:03.684Z"
   },
   {
    "duration": 39,
    "start_time": "2021-09-16T15:47:03.708Z"
   },
   {
    "duration": 41,
    "start_time": "2021-09-16T15:47:03.749Z"
   },
   {
    "duration": 523,
    "start_time": "2021-09-16T15:47:03.792Z"
   },
   {
    "duration": 33,
    "start_time": "2021-09-16T15:47:04.318Z"
   },
   {
    "duration": 2406,
    "start_time": "2021-09-16T15:47:04.354Z"
   },
   {
    "duration": 810,
    "start_time": "2021-09-16T15:47:22.929Z"
   },
   {
    "duration": 311,
    "start_time": "2021-09-16T15:47:23.743Z"
   },
   {
    "duration": 3,
    "start_time": "2021-09-16T15:47:24.057Z"
   },
   {
    "duration": 34,
    "start_time": "2021-09-16T15:47:24.063Z"
   },
   {
    "duration": 30,
    "start_time": "2021-09-16T15:47:24.100Z"
   },
   {
    "duration": 90,
    "start_time": "2021-09-16T15:47:24.133Z"
   },
   {
    "duration": 118,
    "start_time": "2021-09-16T15:47:24.225Z"
   },
   {
    "duration": 35,
    "start_time": "2021-09-16T15:47:24.347Z"
   },
   {
    "duration": 62,
    "start_time": "2021-09-16T15:47:24.385Z"
   },
   {
    "duration": 8,
    "start_time": "2021-09-16T15:47:24.449Z"
   },
   {
    "duration": 152,
    "start_time": "2021-09-16T15:47:24.460Z"
   },
   {
    "duration": 21,
    "start_time": "2021-09-16T15:47:24.615Z"
   },
   {
    "duration": 44,
    "start_time": "2021-09-16T15:47:24.638Z"
   },
   {
    "duration": 25,
    "start_time": "2021-09-16T15:47:24.684Z"
   },
   {
    "duration": 616,
    "start_time": "2021-09-16T15:47:24.712Z"
   },
   {
    "duration": 33,
    "start_time": "2021-09-16T15:47:25.331Z"
   },
   {
    "duration": 2233,
    "start_time": "2021-09-16T15:47:25.382Z"
   },
   {
    "duration": 40,
    "start_time": "2021-09-16T15:48:18.952Z"
   },
   {
    "duration": 4,
    "start_time": "2021-09-16T15:50:09.416Z"
   },
   {
    "duration": 172,
    "start_time": "2021-09-16T15:50:09.422Z"
   },
   {
    "duration": 4,
    "start_time": "2021-09-16T15:50:09.599Z"
   },
   {
    "duration": 17,
    "start_time": "2021-09-16T15:50:09.607Z"
   },
   {
    "duration": 24,
    "start_time": "2021-09-16T15:50:09.627Z"
   },
   {
    "duration": 95,
    "start_time": "2021-09-16T15:50:09.654Z"
   },
   {
    "duration": 96,
    "start_time": "2021-09-16T15:50:09.752Z"
   },
   {
    "duration": 37,
    "start_time": "2021-09-16T15:50:09.852Z"
   },
   {
    "duration": 46,
    "start_time": "2021-09-16T15:50:09.892Z"
   },
   {
    "duration": 8,
    "start_time": "2021-09-16T15:50:09.941Z"
   },
   {
    "duration": 147,
    "start_time": "2021-09-16T15:50:09.951Z"
   },
   {
    "duration": 46,
    "start_time": "2021-09-16T15:50:10.100Z"
   },
   {
    "duration": 43,
    "start_time": "2021-09-16T15:50:10.148Z"
   },
   {
    "duration": 30,
    "start_time": "2021-09-16T15:50:10.194Z"
   },
   {
    "duration": 522,
    "start_time": "2021-09-16T15:50:10.227Z"
   },
   {
    "duration": 39,
    "start_time": "2021-09-16T15:50:10.752Z"
   },
   {
    "duration": 1328,
    "start_time": "2021-09-16T15:50:10.794Z"
   },
   {
    "duration": 22,
    "start_time": "2021-09-16T18:48:35.421Z"
   },
   {
    "duration": 365,
    "start_time": "2021-09-16T19:00:24.977Z"
   },
   {
    "duration": 7,
    "start_time": "2021-09-16T19:00:50.230Z"
   },
   {
    "duration": 31,
    "start_time": "2021-09-16T19:00:58.746Z"
   },
   {
    "duration": 21,
    "start_time": "2021-09-16T19:01:41.590Z"
   },
   {
    "duration": 5,
    "start_time": "2021-09-16T19:12:54.729Z"
   },
   {
    "duration": 171,
    "start_time": "2021-09-16T19:12:54.888Z"
   },
   {
    "duration": 4,
    "start_time": "2021-09-16T19:12:55.062Z"
   },
   {
    "duration": 31,
    "start_time": "2021-09-16T19:12:55.069Z"
   },
   {
    "duration": 32,
    "start_time": "2021-09-16T19:12:55.103Z"
   },
   {
    "duration": 99,
    "start_time": "2021-09-16T19:12:55.138Z"
   },
   {
    "duration": 100,
    "start_time": "2021-09-16T19:12:55.240Z"
   },
   {
    "duration": 28,
    "start_time": "2021-09-16T19:12:55.343Z"
   },
   {
    "duration": 69,
    "start_time": "2021-09-16T19:12:55.386Z"
   },
   {
    "duration": 31,
    "start_time": "2021-09-16T19:12:55.459Z"
   },
   {
    "duration": 251,
    "start_time": "2021-09-16T19:12:55.494Z"
   },
   {
    "duration": -1888,
    "start_time": "2021-09-16T19:12:57.635Z"
   },
   {
    "duration": -1888,
    "start_time": "2021-09-16T19:12:57.637Z"
   },
   {
    "duration": -1935,
    "start_time": "2021-09-16T19:12:57.685Z"
   },
   {
    "duration": -1937,
    "start_time": "2021-09-16T19:12:57.688Z"
   },
   {
    "duration": -1938,
    "start_time": "2021-09-16T19:12:57.691Z"
   },
   {
    "duration": -1940,
    "start_time": "2021-09-16T19:12:57.694Z"
   },
   {
    "duration": 4,
    "start_time": "2021-09-16T19:13:49.700Z"
   },
   {
    "duration": 170,
    "start_time": "2021-09-16T19:13:49.706Z"
   },
   {
    "duration": 4,
    "start_time": "2021-09-16T19:13:49.879Z"
   },
   {
    "duration": 13,
    "start_time": "2021-09-16T19:13:49.886Z"
   },
   {
    "duration": 23,
    "start_time": "2021-09-16T19:13:49.902Z"
   },
   {
    "duration": 105,
    "start_time": "2021-09-16T19:13:49.927Z"
   },
   {
    "duration": 102,
    "start_time": "2021-09-16T19:13:50.034Z"
   },
   {
    "duration": 22,
    "start_time": "2021-09-16T19:13:50.139Z"
   },
   {
    "duration": 63,
    "start_time": "2021-09-16T19:13:50.164Z"
   },
   {
    "duration": 8,
    "start_time": "2021-09-16T19:13:50.229Z"
   },
   {
    "duration": 406,
    "start_time": "2021-09-16T19:13:50.239Z"
   },
   {
    "duration": -1925,
    "start_time": "2021-09-16T19:13:52.572Z"
   },
   {
    "duration": -1927,
    "start_time": "2021-09-16T19:13:52.576Z"
   },
   {
    "duration": -1929,
    "start_time": "2021-09-16T19:13:52.580Z"
   },
   {
    "duration": -1932,
    "start_time": "2021-09-16T19:13:52.584Z"
   },
   {
    "duration": -1933,
    "start_time": "2021-09-16T19:13:52.587Z"
   },
   {
    "duration": -1934,
    "start_time": "2021-09-16T19:13:52.589Z"
   },
   {
    "duration": 736,
    "start_time": "2021-09-16T19:14:47.700Z"
   },
   {
    "duration": 186,
    "start_time": "2021-09-16T19:14:48.439Z"
   },
   {
    "duration": 5,
    "start_time": "2021-09-16T19:14:48.629Z"
   },
   {
    "duration": 11,
    "start_time": "2021-09-16T19:14:48.644Z"
   },
   {
    "duration": 47,
    "start_time": "2021-09-16T19:14:48.658Z"
   },
   {
    "duration": 106,
    "start_time": "2021-09-16T19:14:48.708Z"
   },
   {
    "duration": 119,
    "start_time": "2021-09-16T19:14:48.817Z"
   },
   {
    "duration": 28,
    "start_time": "2021-09-16T19:14:48.938Z"
   },
   {
    "duration": 55,
    "start_time": "2021-09-16T19:14:48.984Z"
   },
   {
    "duration": 10,
    "start_time": "2021-09-16T19:14:49.042Z"
   },
   {
    "duration": 515,
    "start_time": "2021-09-16T19:14:49.084Z"
   },
   {
    "duration": -1891,
    "start_time": "2021-09-16T19:14:51.494Z"
   },
   {
    "duration": -1894,
    "start_time": "2021-09-16T19:14:51.498Z"
   },
   {
    "duration": -1902,
    "start_time": "2021-09-16T19:14:51.508Z"
   },
   {
    "duration": -1906,
    "start_time": "2021-09-16T19:14:51.515Z"
   },
   {
    "duration": -1906,
    "start_time": "2021-09-16T19:14:51.517Z"
   },
   {
    "duration": -1905,
    "start_time": "2021-09-16T19:14:51.519Z"
   },
   {
    "duration": 117,
    "start_time": "2021-09-16T19:15:18.599Z"
   },
   {
    "duration": 22,
    "start_time": "2021-09-16T19:15:23.594Z"
   },
   {
    "duration": 26,
    "start_time": "2021-09-16T19:15:41.370Z"
   },
   {
    "duration": 25,
    "start_time": "2021-09-16T19:15:51.894Z"
   },
   {
    "duration": 624,
    "start_time": "2021-09-16T19:15:51.922Z"
   },
   {
    "duration": 48,
    "start_time": "2021-09-16T19:15:52.549Z"
   },
   {
    "duration": 1316,
    "start_time": "2021-09-16T19:15:52.600Z"
   },
   {
    "duration": 8941,
    "start_time": "2021-09-16T19:26:46.931Z"
   },
   {
    "duration": 7253,
    "start_time": "2021-09-16T19:27:29.518Z"
   },
   {
    "duration": 4,
    "start_time": "2021-09-16T19:27:57.548Z"
   },
   {
    "duration": 180,
    "start_time": "2021-09-16T19:27:57.555Z"
   },
   {
    "duration": 5,
    "start_time": "2021-09-16T19:27:57.739Z"
   },
   {
    "duration": 18,
    "start_time": "2021-09-16T19:27:57.748Z"
   },
   {
    "duration": 28,
    "start_time": "2021-09-16T19:27:57.784Z"
   },
   {
    "duration": 108,
    "start_time": "2021-09-16T19:27:57.815Z"
   },
   {
    "duration": 104,
    "start_time": "2021-09-16T19:27:57.925Z"
   },
   {
    "duration": 24,
    "start_time": "2021-09-16T19:27:58.031Z"
   },
   {
    "duration": 68,
    "start_time": "2021-09-16T19:27:58.059Z"
   },
   {
    "duration": 7,
    "start_time": "2021-09-16T19:27:58.130Z"
   },
   {
    "duration": 116,
    "start_time": "2021-09-16T19:27:58.140Z"
   },
   {
    "duration": 36,
    "start_time": "2021-09-16T19:27:58.259Z"
   },
   {
    "duration": 9,
    "start_time": "2021-09-16T19:27:58.298Z"
   },
   {
    "duration": 13,
    "start_time": "2021-09-16T19:27:58.310Z"
   },
   {
    "duration": 571,
    "start_time": "2021-09-16T19:27:58.326Z"
   },
   {
    "duration": 43,
    "start_time": "2021-09-16T19:27:58.900Z"
   },
   {
    "duration": 44,
    "start_time": "2021-09-16T19:27:58.946Z"
   },
   {
    "duration": 261,
    "start_time": "2021-09-16T19:31:23.419Z"
   },
   {
    "duration": 9,
    "start_time": "2021-09-16T19:31:28.374Z"
   },
   {
    "duration": 8,
    "start_time": "2021-09-16T19:33:41.600Z"
   },
   {
    "duration": 9,
    "start_time": "2021-09-16T19:33:46.991Z"
   },
   {
    "duration": 9,
    "start_time": "2021-09-16T19:33:56.727Z"
   },
   {
    "duration": 9,
    "start_time": "2021-09-16T19:34:01.591Z"
   },
   {
    "duration": 7,
    "start_time": "2021-09-16T19:34:34.702Z"
   },
   {
    "duration": 9,
    "start_time": "2021-09-16T19:34:38.466Z"
   },
   {
    "duration": 4,
    "start_time": "2021-09-16T19:35:10.890Z"
   },
   {
    "duration": 183,
    "start_time": "2021-09-16T19:35:10.897Z"
   },
   {
    "duration": 3,
    "start_time": "2021-09-16T19:35:11.084Z"
   },
   {
    "duration": 19,
    "start_time": "2021-09-16T19:35:11.090Z"
   },
   {
    "duration": 31,
    "start_time": "2021-09-16T19:35:11.112Z"
   },
   {
    "duration": 88,
    "start_time": "2021-09-16T19:35:11.146Z"
   },
   {
    "duration": 101,
    "start_time": "2021-09-16T19:35:11.237Z"
   },
   {
    "duration": 24,
    "start_time": "2021-09-16T19:35:11.341Z"
   },
   {
    "duration": 55,
    "start_time": "2021-09-16T19:35:11.369Z"
   },
   {
    "duration": 7,
    "start_time": "2021-09-16T19:35:11.427Z"
   },
   {
    "duration": 18,
    "start_time": "2021-09-16T19:35:11.436Z"
   },
   {
    "duration": 40,
    "start_time": "2021-09-16T19:35:11.457Z"
   },
   {
    "duration": 7507,
    "start_time": "2021-09-16T19:35:11.500Z"
   },
   {
    "duration": -1907,
    "start_time": "2021-09-16T19:35:20.917Z"
   },
   {
    "duration": -1908,
    "start_time": "2021-09-16T19:35:20.921Z"
   },
   {
    "duration": -1907,
    "start_time": "2021-09-16T19:35:20.922Z"
   },
   {
    "duration": -1907,
    "start_time": "2021-09-16T19:35:20.924Z"
   },
   {
    "duration": 1064,
    "start_time": "2021-09-16T19:40:19.915Z"
   },
   {
    "duration": 103,
    "start_time": "2021-09-16T19:42:36.561Z"
   },
   {
    "duration": 530,
    "start_time": "2021-09-16T19:43:26.473Z"
   },
   {
    "duration": 270,
    "start_time": "2021-09-16T19:43:44.465Z"
   },
   {
    "duration": 1020,
    "start_time": "2021-09-16T19:44:00.096Z"
   },
   {
    "duration": 4,
    "start_time": "2021-09-16T19:44:32.818Z"
   },
   {
    "duration": 180,
    "start_time": "2021-09-16T19:44:32.826Z"
   },
   {
    "duration": 4,
    "start_time": "2021-09-16T19:44:33.010Z"
   },
   {
    "duration": 24,
    "start_time": "2021-09-16T19:44:33.018Z"
   },
   {
    "duration": 44,
    "start_time": "2021-09-16T19:44:33.046Z"
   },
   {
    "duration": 92,
    "start_time": "2021-09-16T19:44:33.093Z"
   },
   {
    "duration": 119,
    "start_time": "2021-09-16T19:44:33.188Z"
   },
   {
    "duration": 25,
    "start_time": "2021-09-16T19:44:33.312Z"
   },
   {
    "duration": 76,
    "start_time": "2021-09-16T19:44:33.340Z"
   },
   {
    "duration": 11,
    "start_time": "2021-09-16T19:44:33.419Z"
   },
   {
    "duration": 418,
    "start_time": "2021-09-16T19:44:33.433Z"
   },
   {
    "duration": -1889,
    "start_time": "2021-09-16T19:44:35.742Z"
   },
   {
    "duration": -1892,
    "start_time": "2021-09-16T19:44:35.747Z"
   },
   {
    "duration": -1892,
    "start_time": "2021-09-16T19:44:35.749Z"
   },
   {
    "duration": -1893,
    "start_time": "2021-09-16T19:44:35.751Z"
   },
   {
    "duration": -1899,
    "start_time": "2021-09-16T19:44:35.758Z"
   },
   {
    "duration": -1901,
    "start_time": "2021-09-16T19:44:35.762Z"
   },
   {
    "duration": 1173,
    "start_time": "2021-09-16T20:02:40.198Z"
   },
   {
    "duration": 196,
    "start_time": "2021-09-16T20:02:41.374Z"
   },
   {
    "duration": 105,
    "start_time": "2021-09-16T20:02:41.573Z"
   },
   {
    "duration": 64,
    "start_time": "2021-09-16T20:02:41.681Z"
   },
   {
    "duration": 27,
    "start_time": "2021-09-16T20:02:41.747Z"
   },
   {
    "duration": 120,
    "start_time": "2021-09-16T20:02:41.778Z"
   },
   {
    "duration": 174,
    "start_time": "2021-09-16T20:02:41.902Z"
   },
   {
    "duration": 41,
    "start_time": "2021-09-16T20:02:42.080Z"
   },
   {
    "duration": 83,
    "start_time": "2021-09-16T20:02:42.124Z"
   },
   {
    "duration": 8,
    "start_time": "2021-09-16T20:02:42.210Z"
   },
   {
    "duration": 346,
    "start_time": "2021-09-16T20:02:42.220Z"
   },
   {
    "duration": -1899,
    "start_time": "2021-09-16T20:02:44.468Z"
   },
   {
    "duration": -1902,
    "start_time": "2021-09-16T20:02:44.472Z"
   },
   {
    "duration": -1904,
    "start_time": "2021-09-16T20:02:44.476Z"
   },
   {
    "duration": -1905,
    "start_time": "2021-09-16T20:02:44.479Z"
   },
   {
    "duration": -1906,
    "start_time": "2021-09-16T20:02:44.481Z"
   },
   {
    "duration": -1905,
    "start_time": "2021-09-16T20:02:44.482Z"
   },
   {
    "duration": 366,
    "start_time": "2021-09-16T20:03:20.956Z"
   },
   {
    "duration": 1023,
    "start_time": "2021-09-16T20:04:09.343Z"
   },
   {
    "duration": 194,
    "start_time": "2021-09-16T20:04:10.369Z"
   },
   {
    "duration": 5,
    "start_time": "2021-09-16T20:04:10.566Z"
   },
   {
    "duration": 23,
    "start_time": "2021-09-16T20:04:10.573Z"
   },
   {
    "duration": 71,
    "start_time": "2021-09-16T20:04:10.599Z"
   },
   {
    "duration": 126,
    "start_time": "2021-09-16T20:04:10.673Z"
   },
   {
    "duration": 181,
    "start_time": "2021-09-16T20:04:10.802Z"
   },
   {
    "duration": 42,
    "start_time": "2021-09-16T20:04:10.986Z"
   },
   {
    "duration": 233,
    "start_time": "2021-09-16T20:04:11.034Z"
   },
   {
    "duration": 35,
    "start_time": "2021-09-16T20:04:11.271Z"
   },
   {
    "duration": 764,
    "start_time": "2021-09-16T20:04:11.309Z"
   },
   {
    "duration": -1884,
    "start_time": "2021-09-16T20:04:13.959Z"
   },
   {
    "duration": -1893,
    "start_time": "2021-09-16T20:04:13.970Z"
   },
   {
    "duration": -1901,
    "start_time": "2021-09-16T20:04:13.979Z"
   },
   {
    "duration": -1902,
    "start_time": "2021-09-16T20:04:13.981Z"
   },
   {
    "duration": -1902,
    "start_time": "2021-09-16T20:04:13.983Z"
   },
   {
    "duration": -1903,
    "start_time": "2021-09-16T20:04:13.985Z"
   },
   {
    "duration": 15,
    "start_time": "2021-09-16T20:16:44.904Z"
   },
   {
    "duration": 22,
    "start_time": "2021-09-16T20:16:51.704Z"
   },
   {
    "duration": 384,
    "start_time": "2021-09-16T20:18:50.385Z"
   },
   {
    "duration": 22,
    "start_time": "2021-09-16T20:18:55.151Z"
   },
   {
    "duration": 227,
    "start_time": "2021-09-16T20:21:06.901Z"
   },
   {
    "duration": 2837,
    "start_time": "2021-09-16T20:21:25.914Z"
   },
   {
    "duration": 9,
    "start_time": "2021-09-16T20:22:58.580Z"
   },
   {
    "duration": 22,
    "start_time": "2021-09-16T20:23:10.004Z"
   },
   {
    "duration": 711,
    "start_time": "2021-09-16T20:26:08.722Z"
   },
   {
    "duration": 202,
    "start_time": "2021-09-16T20:26:09.436Z"
   },
   {
    "duration": 4,
    "start_time": "2021-09-16T20:26:09.641Z"
   },
   {
    "duration": 21,
    "start_time": "2021-09-16T20:26:09.647Z"
   },
   {
    "duration": 51,
    "start_time": "2021-09-16T20:26:09.670Z"
   },
   {
    "duration": 106,
    "start_time": "2021-09-16T20:26:09.723Z"
   },
   {
    "duration": 106,
    "start_time": "2021-09-16T20:26:09.834Z"
   },
   {
    "duration": 25,
    "start_time": "2021-09-16T20:26:09.942Z"
   },
   {
    "duration": 55,
    "start_time": "2021-09-16T20:26:09.981Z"
   },
   {
    "duration": 8,
    "start_time": "2021-09-16T20:26:10.038Z"
   },
   {
    "duration": 155,
    "start_time": "2021-09-16T20:26:10.048Z"
   },
   {
    "duration": 33,
    "start_time": "2021-09-16T20:26:10.206Z"
   },
   {
    "duration": 63,
    "start_time": "2021-09-16T20:26:10.242Z"
   },
   {
    "duration": 28,
    "start_time": "2021-09-16T20:26:10.308Z"
   },
   {
    "duration": 635,
    "start_time": "2021-09-16T20:26:10.339Z"
   },
   {
    "duration": 39,
    "start_time": "2021-09-16T20:26:10.977Z"
   },
   {
    "duration": 1115,
    "start_time": "2021-09-16T20:26:11.018Z"
   },
   {
    "duration": 160,
    "start_time": "2021-09-16T20:27:52.998Z"
   },
   {
    "duration": 19,
    "start_time": "2021-09-16T20:29:05.275Z"
   },
   {
    "duration": 1391,
    "start_time": "2021-09-16T20:33:27.382Z"
   },
   {
    "duration": 3515,
    "start_time": "2021-09-16T20:34:05.004Z"
   },
   {
    "duration": 4,
    "start_time": "2021-09-16T20:34:53.669Z"
   },
   {
    "duration": 178,
    "start_time": "2021-09-16T20:34:53.676Z"
   },
   {
    "duration": 5,
    "start_time": "2021-09-16T20:34:53.858Z"
   },
   {
    "duration": 12,
    "start_time": "2021-09-16T20:34:53.882Z"
   },
   {
    "duration": 25,
    "start_time": "2021-09-16T20:34:53.897Z"
   },
   {
    "duration": 92,
    "start_time": "2021-09-16T20:34:53.924Z"
   },
   {
    "duration": 99,
    "start_time": "2021-09-16T20:34:54.018Z"
   },
   {
    "duration": 22,
    "start_time": "2021-09-16T20:34:54.121Z"
   },
   {
    "duration": 63,
    "start_time": "2021-09-16T20:34:54.146Z"
   },
   {
    "duration": 8,
    "start_time": "2021-09-16T20:34:54.211Z"
   },
   {
    "duration": 9,
    "start_time": "2021-09-16T20:34:54.221Z"
   },
   {
    "duration": 49,
    "start_time": "2021-09-16T20:34:54.233Z"
   },
   {
    "duration": 8468,
    "start_time": "2021-09-16T20:34:54.284Z"
   },
   {
    "duration": -1933,
    "start_time": "2021-09-16T20:35:04.688Z"
   },
   {
    "duration": -1946,
    "start_time": "2021-09-16T20:35:04.703Z"
   },
   {
    "duration": -1946,
    "start_time": "2021-09-16T20:35:04.705Z"
   },
   {
    "duration": -1970,
    "start_time": "2021-09-16T20:35:04.731Z"
   },
   {
    "duration": -1986,
    "start_time": "2021-09-16T20:35:04.749Z"
   },
   {
    "duration": 112,
    "start_time": "2021-09-16T20:35:18.762Z"
   },
   {
    "duration": 21,
    "start_time": "2021-09-16T20:35:18.877Z"
   },
   {
    "duration": 61,
    "start_time": "2021-09-16T20:35:18.901Z"
   },
   {
    "duration": 34,
    "start_time": "2021-09-16T20:35:18.965Z"
   },
   {
    "duration": 581,
    "start_time": "2021-09-16T20:35:19.001Z"
   },
   {
    "duration": 36,
    "start_time": "2021-09-16T20:35:19.585Z"
   },
   {
    "duration": 258,
    "start_time": "2021-09-16T20:35:19.624Z"
   },
   {
    "duration": 18,
    "start_time": "2021-09-16T20:35:19.885Z"
   },
   {
    "duration": 767,
    "start_time": "2021-09-17T04:44:48.089Z"
   },
   {
    "duration": 183,
    "start_time": "2021-09-17T04:44:48.860Z"
   },
   {
    "duration": 4,
    "start_time": "2021-09-17T04:44:49.046Z"
   },
   {
    "duration": 12,
    "start_time": "2021-09-17T04:44:49.053Z"
   },
   {
    "duration": 21,
    "start_time": "2021-09-17T04:44:49.083Z"
   },
   {
    "duration": 100,
    "start_time": "2021-09-17T04:44:49.107Z"
   },
   {
    "duration": 101,
    "start_time": "2021-09-17T04:44:49.210Z"
   },
   {
    "duration": 24,
    "start_time": "2021-09-17T04:44:49.315Z"
   },
   {
    "duration": 71,
    "start_time": "2021-09-17T04:44:49.342Z"
   },
   {
    "duration": 122,
    "start_time": "2021-09-17T04:44:49.415Z"
   },
   {
    "duration": 20,
    "start_time": "2021-09-17T04:44:49.540Z"
   },
   {
    "duration": 38,
    "start_time": "2021-09-17T04:44:49.562Z"
   },
   {
    "duration": 24,
    "start_time": "2021-09-17T04:44:49.603Z"
   },
   {
    "duration": 602,
    "start_time": "2021-09-17T04:44:49.630Z"
   },
   {
    "duration": 48,
    "start_time": "2021-09-17T04:44:50.234Z"
   },
   {
    "duration": 166,
    "start_time": "2021-09-17T04:44:50.285Z"
   },
   {
    "duration": 28,
    "start_time": "2021-09-17T04:44:50.454Z"
   },
   {
    "duration": 9,
    "start_time": "2021-09-17T04:44:50.485Z"
   },
   {
    "duration": 2022,
    "start_time": "2021-09-17T04:56:01.143Z"
   },
   {
    "duration": 256,
    "start_time": "2021-09-17T04:57:27.669Z"
   },
   {
    "duration": 12,
    "start_time": "2021-09-17T04:58:48.016Z"
   },
   {
    "duration": 256,
    "start_time": "2021-09-17T04:59:11.474Z"
   },
   {
    "duration": 337,
    "start_time": "2021-09-17T04:59:27.713Z"
   },
   {
    "duration": 4,
    "start_time": "2021-09-17T05:00:01.466Z"
   },
   {
    "duration": 184,
    "start_time": "2021-09-17T05:00:01.481Z"
   },
   {
    "duration": 4,
    "start_time": "2021-09-17T05:00:01.668Z"
   },
   {
    "duration": 13,
    "start_time": "2021-09-17T05:00:01.682Z"
   },
   {
    "duration": 37,
    "start_time": "2021-09-17T05:00:01.698Z"
   },
   {
    "duration": 79,
    "start_time": "2021-09-17T05:00:01.738Z"
   },
   {
    "duration": 88,
    "start_time": "2021-09-17T05:00:01.820Z"
   },
   {
    "duration": 23,
    "start_time": "2021-09-17T05:00:01.910Z"
   },
   {
    "duration": 75,
    "start_time": "2021-09-17T05:00:01.936Z"
   },
   {
    "duration": 124,
    "start_time": "2021-09-17T05:00:02.015Z"
   },
   {
    "duration": 19,
    "start_time": "2021-09-17T05:00:02.142Z"
   },
   {
    "duration": 42,
    "start_time": "2021-09-17T05:00:02.164Z"
   },
   {
    "duration": 25,
    "start_time": "2021-09-17T05:00:02.209Z"
   },
   {
    "duration": 499,
    "start_time": "2021-09-17T05:00:02.237Z"
   },
   {
    "duration": 46,
    "start_time": "2021-09-17T05:00:02.740Z"
   },
   {
    "duration": 163,
    "start_time": "2021-09-17T05:00:02.789Z"
   },
   {
    "duration": 29,
    "start_time": "2021-09-17T05:00:02.955Z"
   },
   {
    "duration": 14,
    "start_time": "2021-09-17T05:00:02.986Z"
   },
   {
    "duration": 295,
    "start_time": "2021-09-17T05:00:03.002Z"
   },
   {
    "duration": 99,
    "start_time": "2021-09-17T05:00:35.417Z"
   },
   {
    "duration": 91,
    "start_time": "2021-09-17T05:01:54.244Z"
   },
   {
    "duration": 263,
    "start_time": "2021-09-17T05:03:08.714Z"
   },
   {
    "duration": 689,
    "start_time": "2021-09-17T05:04:23.028Z"
   },
   {
    "duration": 181,
    "start_time": "2021-09-17T05:04:23.719Z"
   },
   {
    "duration": 4,
    "start_time": "2021-09-17T05:04:23.903Z"
   },
   {
    "duration": 16,
    "start_time": "2021-09-17T05:04:23.910Z"
   },
   {
    "duration": 66,
    "start_time": "2021-09-17T05:04:23.928Z"
   },
   {
    "duration": 89,
    "start_time": "2021-09-17T05:04:23.996Z"
   },
   {
    "duration": 106,
    "start_time": "2021-09-17T05:04:24.088Z"
   },
   {
    "duration": 24,
    "start_time": "2021-09-17T05:04:24.198Z"
   },
   {
    "duration": 79,
    "start_time": "2021-09-17T05:04:24.224Z"
   },
   {
    "duration": 120,
    "start_time": "2021-09-17T05:04:24.305Z"
   },
   {
    "duration": 21,
    "start_time": "2021-09-17T05:04:24.427Z"
   },
   {
    "duration": 66,
    "start_time": "2021-09-17T05:04:24.450Z"
   },
   {
    "duration": 45,
    "start_time": "2021-09-17T05:04:24.519Z"
   },
   {
    "duration": 619,
    "start_time": "2021-09-17T05:04:24.566Z"
   },
   {
    "duration": 72,
    "start_time": "2021-09-17T05:04:25.188Z"
   },
   {
    "duration": 233,
    "start_time": "2021-09-17T05:04:25.263Z"
   },
   {
    "duration": 18,
    "start_time": "2021-09-17T05:04:25.499Z"
   },
   {
    "duration": 20,
    "start_time": "2021-09-17T05:04:25.519Z"
   },
   {
    "duration": 364,
    "start_time": "2021-09-17T05:04:25.542Z"
   },
   {
    "duration": 13,
    "start_time": "2021-09-17T05:05:11.695Z"
   },
   {
    "duration": 520,
    "start_time": "2021-09-17T05:06:06.412Z"
   },
   {
    "duration": 11,
    "start_time": "2021-09-17T05:13:29.085Z"
   },
   {
    "duration": 4,
    "start_time": "2021-09-17T05:19:35.539Z"
   },
   {
    "duration": 185,
    "start_time": "2021-09-17T05:19:35.565Z"
   },
   {
    "duration": 4,
    "start_time": "2021-09-17T05:19:35.753Z"
   },
   {
    "duration": 29,
    "start_time": "2021-09-17T05:19:35.760Z"
   },
   {
    "duration": 52,
    "start_time": "2021-09-17T05:19:35.791Z"
   },
   {
    "duration": 89,
    "start_time": "2021-09-17T05:19:35.845Z"
   },
   {
    "duration": 96,
    "start_time": "2021-09-17T05:19:35.936Z"
   },
   {
    "duration": 22,
    "start_time": "2021-09-17T05:19:36.035Z"
   },
   {
    "duration": 63,
    "start_time": "2021-09-17T05:19:36.061Z"
   },
   {
    "duration": 132,
    "start_time": "2021-09-17T05:19:36.126Z"
   },
   {
    "duration": 30,
    "start_time": "2021-09-17T05:19:36.260Z"
   },
   {
    "duration": 48,
    "start_time": "2021-09-17T05:19:36.292Z"
   },
   {
    "duration": 61,
    "start_time": "2021-09-17T05:19:36.343Z"
   },
   {
    "duration": 517,
    "start_time": "2021-09-17T05:19:36.406Z"
   },
   {
    "duration": 78,
    "start_time": "2021-09-17T05:19:36.926Z"
   },
   {
    "duration": 246,
    "start_time": "2021-09-17T05:19:37.006Z"
   },
   {
    "duration": 30,
    "start_time": "2021-09-17T05:19:37.254Z"
   },
   {
    "duration": 11,
    "start_time": "2021-09-17T05:19:37.286Z"
   },
   {
    "duration": 12,
    "start_time": "2021-09-17T05:19:37.300Z"
   },
   {
    "duration": 4,
    "start_time": "2021-09-17T05:29:25.045Z"
   },
   {
    "duration": 179,
    "start_time": "2021-09-17T05:29:25.070Z"
   },
   {
    "duration": 4,
    "start_time": "2021-09-17T05:29:25.251Z"
   },
   {
    "duration": 29,
    "start_time": "2021-09-17T05:29:25.258Z"
   },
   {
    "duration": 43,
    "start_time": "2021-09-17T05:29:25.290Z"
   },
   {
    "duration": 97,
    "start_time": "2021-09-17T05:29:25.335Z"
   },
   {
    "duration": 104,
    "start_time": "2021-09-17T05:29:25.435Z"
   },
   {
    "duration": 126,
    "start_time": "2021-09-17T05:29:25.542Z"
   },
   {
    "duration": 29,
    "start_time": "2021-09-17T05:29:25.672Z"
   },
   {
    "duration": 46,
    "start_time": "2021-09-17T05:29:25.704Z"
   },
   {
    "duration": 66,
    "start_time": "2021-09-17T05:29:25.753Z"
   },
   {
    "duration": 514,
    "start_time": "2021-09-17T05:29:25.822Z"
   },
   {
    "duration": 87,
    "start_time": "2021-09-17T05:29:26.338Z"
   },
   {
    "duration": 245,
    "start_time": "2021-09-17T05:29:26.427Z"
   },
   {
    "duration": 23,
    "start_time": "2021-09-17T05:29:26.674Z"
   },
   {
    "duration": 36,
    "start_time": "2021-09-17T05:29:26.700Z"
   },
   {
    "duration": 99,
    "start_time": "2021-09-17T05:29:26.739Z"
   },
   {
    "duration": 8,
    "start_time": "2021-09-17T05:29:26.841Z"
   },
   {
    "duration": 32,
    "start_time": "2021-09-17T05:29:26.851Z"
   },
   {
    "duration": 82,
    "start_time": "2021-09-17T05:48:01.854Z"
   },
   {
    "duration": 6,
    "start_time": "2021-09-17T05:53:10.380Z"
   },
   {
    "duration": 233,
    "start_time": "2021-09-17T05:57:54.496Z"
   },
   {
    "duration": 31,
    "start_time": "2021-09-17T05:58:52.981Z"
   },
   {
    "duration": 68,
    "start_time": "2021-09-17T06:15:39.424Z"
   },
   {
    "duration": 349,
    "start_time": "2021-09-17T06:34:38.790Z"
   },
   {
    "duration": 131,
    "start_time": "2021-09-17T06:35:07.556Z"
   },
   {
    "duration": 101,
    "start_time": "2021-09-17T06:35:24.507Z"
   },
   {
    "duration": 313,
    "start_time": "2021-09-17T07:05:13.732Z"
   },
   {
    "duration": 7019,
    "start_time": "2021-09-17T07:06:00.359Z"
   },
   {
    "duration": 6,
    "start_time": "2021-09-17T07:06:25.560Z"
   },
   {
    "duration": 9,
    "start_time": "2021-09-17T07:12:17.050Z"
   },
   {
    "duration": 90,
    "start_time": "2021-09-17T07:13:30.526Z"
   },
   {
    "duration": 79,
    "start_time": "2021-09-17T07:14:03.839Z"
   },
   {
    "duration": 9,
    "start_time": "2021-09-17T07:15:41.290Z"
   },
   {
    "duration": 270,
    "start_time": "2021-09-17T07:26:29.175Z"
   },
   {
    "duration": 5,
    "start_time": "2021-09-17T07:28:30.389Z"
   },
   {
    "duration": 18,
    "start_time": "2021-09-17T07:29:14.694Z"
   },
   {
    "duration": 19,
    "start_time": "2021-09-17T07:35:15.922Z"
   },
   {
    "duration": 19,
    "start_time": "2021-09-17T07:36:05.110Z"
   },
   {
    "duration": 20,
    "start_time": "2021-09-17T07:36:41.283Z"
   },
   {
    "duration": 20,
    "start_time": "2021-09-17T07:37:06.048Z"
   },
   {
    "duration": 3,
    "start_time": "2021-09-17T07:39:00.221Z"
   },
   {
    "duration": 6,
    "start_time": "2021-09-17T07:39:19.084Z"
   },
   {
    "duration": 6,
    "start_time": "2021-09-17T07:43:45.174Z"
   },
   {
    "duration": 5,
    "start_time": "2021-09-17T07:44:36.811Z"
   },
   {
    "duration": 8,
    "start_time": "2021-09-17T07:44:59.065Z"
   },
   {
    "duration": 7,
    "start_time": "2021-09-17T07:52:39.543Z"
   },
   {
    "duration": 8,
    "start_time": "2021-09-17T07:52:44.221Z"
   },
   {
    "duration": 3,
    "start_time": "2021-09-17T08:38:41.288Z"
   },
   {
    "duration": 177,
    "start_time": "2021-09-17T08:38:41.327Z"
   },
   {
    "duration": 4,
    "start_time": "2021-09-17T08:38:41.507Z"
   },
   {
    "duration": 14,
    "start_time": "2021-09-17T08:38:41.515Z"
   },
   {
    "duration": 78,
    "start_time": "2021-09-17T08:38:41.533Z"
   },
   {
    "duration": 123,
    "start_time": "2021-09-17T08:38:41.615Z"
   },
   {
    "duration": 109,
    "start_time": "2021-09-17T08:38:41.741Z"
   },
   {
    "duration": 132,
    "start_time": "2021-09-17T08:38:41.852Z"
   },
   {
    "duration": 21,
    "start_time": "2021-09-17T08:38:41.988Z"
   },
   {
    "duration": 51,
    "start_time": "2021-09-17T08:38:42.011Z"
   },
   {
    "duration": 61,
    "start_time": "2021-09-17T08:38:42.064Z"
   },
   {
    "duration": 538,
    "start_time": "2021-09-17T08:38:42.128Z"
   },
   {
    "duration": 87,
    "start_time": "2021-09-17T08:38:42.668Z"
   },
   {
    "duration": 293,
    "start_time": "2021-09-17T08:38:42.758Z"
   },
   {
    "duration": 35,
    "start_time": "2021-09-17T08:38:43.054Z"
   },
   {
    "duration": 48,
    "start_time": "2021-09-17T08:38:43.093Z"
   },
   {
    "duration": 88,
    "start_time": "2021-09-17T08:38:43.143Z"
   },
   {
    "duration": 11,
    "start_time": "2021-09-17T08:38:43.234Z"
   },
   {
    "duration": 39,
    "start_time": "2021-09-17T08:38:43.248Z"
   },
   {
    "duration": 70,
    "start_time": "2021-09-17T08:38:43.290Z"
   },
   {
    "duration": 84,
    "start_time": "2021-09-17T08:38:43.362Z"
   },
   {
    "duration": 4,
    "start_time": "2021-09-17T08:38:43.449Z"
   },
   {
    "duration": 38,
    "start_time": "2021-09-17T08:38:43.456Z"
   },
   {
    "duration": 7,
    "start_time": "2021-09-17T08:38:43.496Z"
   },
   {
    "duration": 9,
    "start_time": "2021-09-17T08:38:43.505Z"
   },
   {
    "duration": 305,
    "start_time": "2021-09-17T09:31:51.822Z"
   },
   {
    "duration": 56,
    "start_time": "2021-09-17T09:32:35.832Z"
   },
   {
    "duration": 63,
    "start_time": "2021-09-17T09:33:23.578Z"
   },
   {
    "duration": 329,
    "start_time": "2021-09-17T09:36:35.153Z"
   },
   {
    "duration": 4,
    "start_time": "2021-09-17T09:40:53.373Z"
   },
   {
    "duration": 166,
    "start_time": "2021-09-17T09:40:53.399Z"
   },
   {
    "duration": 4,
    "start_time": "2021-09-17T09:40:53.568Z"
   },
   {
    "duration": 20,
    "start_time": "2021-09-17T09:40:53.575Z"
   },
   {
    "duration": 45,
    "start_time": "2021-09-17T09:40:53.598Z"
   },
   {
    "duration": 102,
    "start_time": "2021-09-17T09:40:53.645Z"
   },
   {
    "duration": 112,
    "start_time": "2021-09-17T09:40:53.749Z"
   },
   {
    "duration": 127,
    "start_time": "2021-09-17T09:40:53.863Z"
   },
   {
    "duration": 20,
    "start_time": "2021-09-17T09:40:53.994Z"
   },
   {
    "duration": 67,
    "start_time": "2021-09-17T09:40:54.017Z"
   },
   {
    "duration": 46,
    "start_time": "2021-09-17T09:40:54.086Z"
   },
   {
    "duration": 512,
    "start_time": "2021-09-17T09:40:54.135Z"
   },
   {
    "duration": 86,
    "start_time": "2021-09-17T09:40:54.650Z"
   },
   {
    "duration": 229,
    "start_time": "2021-09-17T09:40:54.738Z"
   },
   {
    "duration": 28,
    "start_time": "2021-09-17T09:40:54.970Z"
   },
   {
    "duration": 52,
    "start_time": "2021-09-17T09:40:55.001Z"
   },
   {
    "duration": 96,
    "start_time": "2021-09-17T09:40:55.056Z"
   },
   {
    "duration": 12,
    "start_time": "2021-09-17T09:40:55.155Z"
   },
   {
    "duration": 12,
    "start_time": "2021-09-17T09:40:55.182Z"
   },
   {
    "duration": 88,
    "start_time": "2021-09-17T09:40:55.197Z"
   },
   {
    "duration": 67,
    "start_time": "2021-09-17T09:40:55.288Z"
   },
   {
    "duration": 5,
    "start_time": "2021-09-17T09:40:55.357Z"
   },
   {
    "duration": 20,
    "start_time": "2021-09-17T09:40:55.384Z"
   },
   {
    "duration": 7,
    "start_time": "2021-09-17T09:40:55.408Z"
   },
   {
    "duration": 12,
    "start_time": "2021-09-17T09:40:55.418Z"
   },
   {
    "duration": 356,
    "start_time": "2021-09-17T09:40:55.433Z"
   },
   {
    "duration": 4,
    "start_time": "2021-09-17T09:43:32.713Z"
   },
   {
    "duration": 173,
    "start_time": "2021-09-17T09:43:32.739Z"
   },
   {
    "duration": 4,
    "start_time": "2021-09-17T09:43:32.915Z"
   },
   {
    "duration": 15,
    "start_time": "2021-09-17T09:43:32.922Z"
   },
   {
    "duration": 67,
    "start_time": "2021-09-17T09:43:32.940Z"
   },
   {
    "duration": 95,
    "start_time": "2021-09-17T09:43:33.009Z"
   },
   {
    "duration": 110,
    "start_time": "2021-09-17T09:43:33.106Z"
   },
   {
    "duration": 127,
    "start_time": "2021-09-17T09:43:33.219Z"
   },
   {
    "duration": 31,
    "start_time": "2021-09-17T09:43:33.351Z"
   },
   {
    "duration": 48,
    "start_time": "2021-09-17T09:43:33.387Z"
   },
   {
    "duration": 112,
    "start_time": "2021-09-17T09:43:33.437Z"
   },
   {
    "duration": 511,
    "start_time": "2021-09-17T09:43:33.551Z"
   },
   {
    "duration": 81,
    "start_time": "2021-09-17T09:43:34.064Z"
   },
   {
    "duration": 238,
    "start_time": "2021-09-17T09:43:34.148Z"
   },
   {
    "duration": 19,
    "start_time": "2021-09-17T09:43:34.389Z"
   },
   {
    "duration": 42,
    "start_time": "2021-09-17T09:43:34.411Z"
   },
   {
    "duration": 95,
    "start_time": "2021-09-17T09:43:34.456Z"
   },
   {
    "duration": 9,
    "start_time": "2021-09-17T09:43:34.553Z"
   },
   {
    "duration": 33,
    "start_time": "2021-09-17T09:43:34.564Z"
   },
   {
    "duration": 83,
    "start_time": "2021-09-17T09:43:34.600Z"
   },
   {
    "duration": 81,
    "start_time": "2021-09-17T09:43:34.685Z"
   },
   {
    "duration": 18,
    "start_time": "2021-09-17T09:43:34.768Z"
   },
   {
    "duration": 23,
    "start_time": "2021-09-17T09:43:34.788Z"
   },
   {
    "duration": 6,
    "start_time": "2021-09-17T09:43:34.815Z"
   },
   {
    "duration": 15,
    "start_time": "2021-09-17T09:43:34.823Z"
   },
   {
    "duration": 357,
    "start_time": "2021-09-17T09:43:34.840Z"
   },
   {
    "duration": 87,
    "start_time": "2021-09-17T09:54:06.217Z"
   },
   {
    "duration": 349,
    "start_time": "2021-09-17T09:54:16.669Z"
   },
   {
    "duration": 4,
    "start_time": "2021-09-17T09:54:28.671Z"
   },
   {
    "duration": 164,
    "start_time": "2021-09-17T09:54:28.697Z"
   },
   {
    "duration": 4,
    "start_time": "2021-09-17T09:54:28.864Z"
   },
   {
    "duration": 20,
    "start_time": "2021-09-17T09:54:28.870Z"
   },
   {
    "duration": 43,
    "start_time": "2021-09-17T09:54:28.893Z"
   },
   {
    "duration": 102,
    "start_time": "2021-09-17T09:54:28.938Z"
   },
   {
    "duration": 99,
    "start_time": "2021-09-17T09:54:29.043Z"
   },
   {
    "duration": 124,
    "start_time": "2021-09-17T09:54:29.145Z"
   },
   {
    "duration": 26,
    "start_time": "2021-09-17T09:54:29.273Z"
   },
   {
    "duration": 46,
    "start_time": "2021-09-17T09:54:29.302Z"
   },
   {
    "duration": 76,
    "start_time": "2021-09-17T09:54:29.350Z"
   },
   {
    "duration": 521,
    "start_time": "2021-09-17T09:54:29.428Z"
   },
   {
    "duration": 86,
    "start_time": "2021-09-17T09:54:29.952Z"
   },
   {
    "duration": 233,
    "start_time": "2021-09-17T09:54:30.040Z"
   },
   {
    "duration": 22,
    "start_time": "2021-09-17T09:54:30.276Z"
   },
   {
    "duration": 53,
    "start_time": "2021-09-17T09:54:30.300Z"
   },
   {
    "duration": 87,
    "start_time": "2021-09-17T09:54:30.355Z"
   },
   {
    "duration": 6,
    "start_time": "2021-09-17T09:54:30.444Z"
   },
   {
    "duration": 38,
    "start_time": "2021-09-17T09:54:30.453Z"
   },
   {
    "duration": 72,
    "start_time": "2021-09-17T09:54:30.494Z"
   },
   {
    "duration": 74,
    "start_time": "2021-09-17T09:54:30.581Z"
   },
   {
    "duration": 5,
    "start_time": "2021-09-17T09:54:30.658Z"
   },
   {
    "duration": 33,
    "start_time": "2021-09-17T09:54:30.665Z"
   },
   {
    "duration": 6,
    "start_time": "2021-09-17T09:54:30.702Z"
   },
   {
    "duration": 23,
    "start_time": "2021-09-17T09:54:30.711Z"
   },
   {
    "duration": 358,
    "start_time": "2021-09-17T09:54:30.737Z"
   },
   {
    "duration": 6,
    "start_time": "2021-09-17T09:57:48.358Z"
   },
   {
    "duration": 27,
    "start_time": "2021-09-17T09:58:33.938Z"
   },
   {
    "duration": 270,
    "start_time": "2021-09-17T10:00:14.255Z"
   },
   {
    "duration": 8,
    "start_time": "2021-09-17T10:04:01.295Z"
   },
   {
    "duration": 22,
    "start_time": "2021-09-17T10:04:11.302Z"
   },
   {
    "duration": 125,
    "start_time": "2021-09-17T11:35:37.110Z"
   },
   {
    "duration": 14,
    "start_time": "2021-09-17T11:35:54.918Z"
   },
   {
    "duration": 18,
    "start_time": "2021-09-17T11:43:40.334Z"
   },
   {
    "duration": 4,
    "start_time": "2021-09-17T17:04:09.480Z"
   },
   {
    "duration": 182,
    "start_time": "2021-09-17T17:04:09.487Z"
   },
   {
    "duration": 11,
    "start_time": "2021-09-17T17:04:09.674Z"
   },
   {
    "duration": 14,
    "start_time": "2021-09-17T17:04:09.688Z"
   },
   {
    "duration": 50,
    "start_time": "2021-09-17T17:04:09.704Z"
   },
   {
    "duration": 107,
    "start_time": "2021-09-17T17:04:09.756Z"
   },
   {
    "duration": 138,
    "start_time": "2021-09-17T17:04:09.865Z"
   },
   {
    "duration": 126,
    "start_time": "2021-09-17T17:04:10.006Z"
   },
   {
    "duration": 20,
    "start_time": "2021-09-17T17:04:10.137Z"
   },
   {
    "duration": 66,
    "start_time": "2021-09-17T17:04:10.160Z"
   },
   {
    "duration": 62,
    "start_time": "2021-09-17T17:04:10.229Z"
   },
   {
    "duration": 524,
    "start_time": "2021-09-17T17:04:10.294Z"
   },
   {
    "duration": 86,
    "start_time": "2021-09-17T17:04:10.820Z"
   },
   {
    "duration": 311,
    "start_time": "2021-09-17T17:04:10.909Z"
   },
   {
    "duration": 20,
    "start_time": "2021-09-17T17:04:11.222Z"
   },
   {
    "duration": 81,
    "start_time": "2021-09-17T17:04:11.244Z"
   },
   {
    "duration": 72,
    "start_time": "2021-09-17T17:04:11.327Z"
   },
   {
    "duration": 6,
    "start_time": "2021-09-17T17:04:11.401Z"
   },
   {
    "duration": 23,
    "start_time": "2021-09-17T17:04:11.409Z"
   },
   {
    "duration": 84,
    "start_time": "2021-09-17T17:04:11.434Z"
   },
   {
    "duration": 85,
    "start_time": "2021-09-17T17:04:11.521Z"
   },
   {
    "duration": 5,
    "start_time": "2021-09-17T17:04:11.608Z"
   },
   {
    "duration": 25,
    "start_time": "2021-09-17T17:04:11.616Z"
   },
   {
    "duration": 38,
    "start_time": "2021-09-17T17:04:11.644Z"
   },
   {
    "duration": 8,
    "start_time": "2021-09-17T17:04:11.685Z"
   },
   {
    "duration": 344,
    "start_time": "2021-09-17T17:04:11.695Z"
   },
   {
    "duration": 3,
    "start_time": "2021-09-17T17:04:12.044Z"
   },
   {
    "duration": 34,
    "start_time": "2021-09-17T17:04:12.050Z"
   },
   {
    "duration": 4,
    "start_time": "2021-09-17T17:05:00.715Z"
   },
   {
    "duration": 4,
    "start_time": "2021-09-17T17:29:56.494Z"
   },
   {
    "duration": 183,
    "start_time": "2021-09-17T17:29:56.500Z"
   },
   {
    "duration": 4,
    "start_time": "2021-09-17T17:29:56.686Z"
   },
   {
    "duration": 35,
    "start_time": "2021-09-17T17:29:56.693Z"
   },
   {
    "duration": 44,
    "start_time": "2021-09-17T17:29:56.730Z"
   },
   {
    "duration": 77,
    "start_time": "2021-09-17T17:29:56.777Z"
   },
   {
    "duration": 99,
    "start_time": "2021-09-17T17:29:56.858Z"
   },
   {
    "duration": 132,
    "start_time": "2021-09-17T17:29:56.960Z"
   },
   {
    "duration": 22,
    "start_time": "2021-09-17T17:29:57.094Z"
   },
   {
    "duration": 70,
    "start_time": "2021-09-17T17:29:57.118Z"
   },
   {
    "duration": 47,
    "start_time": "2021-09-17T17:29:57.190Z"
   },
   {
    "duration": 531,
    "start_time": "2021-09-17T17:29:57.239Z"
   },
   {
    "duration": 81,
    "start_time": "2021-09-17T17:29:57.772Z"
   },
   {
    "duration": 242,
    "start_time": "2021-09-17T17:29:57.856Z"
   },
   {
    "duration": 22,
    "start_time": "2021-09-17T17:29:58.101Z"
   },
   {
    "duration": 63,
    "start_time": "2021-09-17T17:29:58.125Z"
   },
   {
    "duration": 72,
    "start_time": "2021-09-17T17:29:58.191Z"
   },
   {
    "duration": 5,
    "start_time": "2021-09-17T17:29:58.282Z"
   },
   {
    "duration": 14,
    "start_time": "2021-09-17T17:29:58.294Z"
   },
   {
    "duration": 98,
    "start_time": "2021-09-17T17:29:58.311Z"
   },
   {
    "duration": 83,
    "start_time": "2021-09-17T17:29:58.412Z"
   },
   {
    "duration": 6,
    "start_time": "2021-09-17T17:29:58.498Z"
   },
   {
    "duration": 21,
    "start_time": "2021-09-17T17:29:58.506Z"
   },
   {
    "duration": 6,
    "start_time": "2021-09-17T17:29:58.529Z"
   },
   {
    "duration": 48,
    "start_time": "2021-09-17T17:29:58.537Z"
   },
   {
    "duration": 331,
    "start_time": "2021-09-17T17:29:58.588Z"
   },
   {
    "duration": 4,
    "start_time": "2021-09-17T17:29:58.922Z"
   },
   {
    "duration": 12,
    "start_time": "2021-09-17T17:29:58.928Z"
   },
   {
    "duration": 17,
    "start_time": "2021-09-17T17:31:24.242Z"
   },
   {
    "duration": 274,
    "start_time": "2021-09-17T17:36:42.883Z"
   },
   {
    "duration": 96,
    "start_time": "2021-09-17T17:36:59.481Z"
   },
   {
    "duration": 752,
    "start_time": "2021-09-17T17:37:21.512Z"
   },
   {
    "duration": 7257,
    "start_time": "2021-09-17T17:37:45.867Z"
   },
   {
    "duration": 319,
    "start_time": "2021-09-17T17:38:06.506Z"
   },
   {
    "duration": 8981,
    "start_time": "2021-09-17T17:43:50.947Z"
   },
   {
    "duration": 8,
    "start_time": "2021-09-17T17:44:30.772Z"
   },
   {
    "duration": 6094,
    "start_time": "2021-09-17T17:54:12.758Z"
   },
   {
    "duration": 4118,
    "start_time": "2021-09-17T17:57:23.157Z"
   },
   {
    "duration": 7,
    "start_time": "2021-09-17T17:58:34.718Z"
   },
   {
    "duration": 243,
    "start_time": "2021-09-17T18:06:45.128Z"
   },
   {
    "duration": 563,
    "start_time": "2021-09-17T18:06:59.719Z"
   },
   {
    "duration": 171,
    "start_time": "2021-09-17T18:07:00.285Z"
   },
   {
    "duration": 4,
    "start_time": "2021-09-17T18:07:00.461Z"
   },
   {
    "duration": 23,
    "start_time": "2021-09-17T18:07:00.484Z"
   },
   {
    "duration": 80,
    "start_time": "2021-09-17T18:07:00.510Z"
   },
   {
    "duration": 97,
    "start_time": "2021-09-17T18:07:00.592Z"
   },
   {
    "duration": 106,
    "start_time": "2021-09-17T18:07:00.692Z"
   },
   {
    "duration": 127,
    "start_time": "2021-09-17T18:07:00.803Z"
   },
   {
    "duration": 22,
    "start_time": "2021-09-17T18:07:00.933Z"
   },
   {
    "duration": 65,
    "start_time": "2021-09-17T18:07:00.958Z"
   },
   {
    "duration": 63,
    "start_time": "2021-09-17T18:07:01.026Z"
   },
   {
    "duration": 538,
    "start_time": "2021-09-17T18:07:01.092Z"
   },
   {
    "duration": 91,
    "start_time": "2021-09-17T18:07:01.635Z"
   },
   {
    "duration": 246,
    "start_time": "2021-09-17T18:07:01.728Z"
   },
   {
    "duration": 24,
    "start_time": "2021-09-17T18:07:01.976Z"
   },
   {
    "duration": 63,
    "start_time": "2021-09-17T18:07:02.003Z"
   },
   {
    "duration": 78,
    "start_time": "2021-09-17T18:07:02.069Z"
   },
   {
    "duration": 6,
    "start_time": "2021-09-17T18:07:02.150Z"
   },
   {
    "duration": 35,
    "start_time": "2021-09-17T18:07:02.160Z"
   },
   {
    "duration": 169,
    "start_time": "2021-09-17T18:07:02.198Z"
   },
   {
    "duration": 94,
    "start_time": "2021-09-17T18:07:02.370Z"
   },
   {
    "duration": 6,
    "start_time": "2021-09-17T18:07:02.467Z"
   },
   {
    "duration": 42,
    "start_time": "2021-09-17T18:07:02.478Z"
   },
   {
    "duration": 25,
    "start_time": "2021-09-17T18:07:02.522Z"
   },
   {
    "duration": 21,
    "start_time": "2021-09-17T18:07:02.549Z"
   },
   {
    "duration": 404,
    "start_time": "2021-09-17T18:07:02.573Z"
   },
   {
    "duration": 4,
    "start_time": "2021-09-17T18:07:02.980Z"
   },
   {
    "duration": 34,
    "start_time": "2021-09-17T18:07:02.986Z"
   },
   {
    "duration": 11,
    "start_time": "2021-09-17T18:07:03.023Z"
   },
   {
    "duration": 74,
    "start_time": "2021-09-17T18:14:22.098Z"
   },
   {
    "duration": 6,
    "start_time": "2021-09-17T18:14:34.463Z"
   },
   {
    "duration": 281,
    "start_time": "2021-09-17T18:15:55.775Z"
   },
   {
    "duration": 9,
    "start_time": "2021-09-17T18:16:12.719Z"
   },
   {
    "duration": 7,
    "start_time": "2021-09-17T18:19:49.792Z"
   },
   {
    "duration": 624,
    "start_time": "2021-09-17T18:19:54.951Z"
   },
   {
    "duration": 7,
    "start_time": "2021-09-17T18:20:22.703Z"
   },
   {
    "duration": 8,
    "start_time": "2021-09-17T18:20:26.208Z"
   },
   {
    "duration": 7,
    "start_time": "2021-09-17T18:22:09.906Z"
   },
   {
    "duration": 8,
    "start_time": "2021-09-17T18:22:12.904Z"
   },
   {
    "duration": 7,
    "start_time": "2021-09-17T18:24:04.130Z"
   },
   {
    "duration": 7,
    "start_time": "2021-09-17T18:24:07.338Z"
   },
   {
    "duration": 18,
    "start_time": "2021-09-17T18:27:57.683Z"
   },
   {
    "duration": 17,
    "start_time": "2021-09-17T18:31:18.673Z"
   },
   {
    "duration": 16,
    "start_time": "2021-09-17T18:32:48.754Z"
   },
   {
    "duration": 7,
    "start_time": "2021-09-17T18:41:00.494Z"
   },
   {
    "duration": 16,
    "start_time": "2021-09-17T18:41:03.854Z"
   },
   {
    "duration": 17,
    "start_time": "2021-09-17T18:41:32.299Z"
   },
   {
    "duration": 18,
    "start_time": "2021-09-17T18:41:47.852Z"
   },
   {
    "duration": 286,
    "start_time": "2021-09-17T19:10:03.902Z"
   },
   {
    "duration": 319,
    "start_time": "2021-09-17T19:11:31.498Z"
   },
   {
    "duration": 321,
    "start_time": "2021-09-17T19:13:07.425Z"
   },
   {
    "duration": 5,
    "start_time": "2021-09-17T19:13:28.771Z"
   },
   {
    "duration": 189,
    "start_time": "2021-09-17T19:13:28.856Z"
   },
   {
    "duration": 4,
    "start_time": "2021-09-17T19:13:29.047Z"
   },
   {
    "duration": 28,
    "start_time": "2021-09-17T19:13:29.054Z"
   },
   {
    "duration": 43,
    "start_time": "2021-09-17T19:13:29.085Z"
   },
   {
    "duration": 101,
    "start_time": "2021-09-17T19:13:29.130Z"
   },
   {
    "duration": 114,
    "start_time": "2021-09-17T19:13:29.234Z"
   },
   {
    "duration": 132,
    "start_time": "2021-09-17T19:13:29.350Z"
   },
   {
    "duration": 23,
    "start_time": "2021-09-17T19:13:29.485Z"
   },
   {
    "duration": 74,
    "start_time": "2021-09-17T19:13:29.514Z"
   },
   {
    "duration": 50,
    "start_time": "2021-09-17T19:13:29.593Z"
   },
   {
    "duration": 547,
    "start_time": "2021-09-17T19:13:29.646Z"
   },
   {
    "duration": 91,
    "start_time": "2021-09-17T19:13:30.195Z"
   },
   {
    "duration": 251,
    "start_time": "2021-09-17T19:13:30.288Z"
   },
   {
    "duration": 21,
    "start_time": "2021-09-17T19:13:30.541Z"
   },
   {
    "duration": 633,
    "start_time": "2021-09-17T19:13:30.583Z"
   },
   {
    "duration": 10,
    "start_time": "2021-09-17T19:13:31.211Z"
   },
   {
    "duration": 9,
    "start_time": "2021-09-17T19:13:31.214Z"
   },
   {
    "duration": 9,
    "start_time": "2021-09-17T19:13:31.216Z"
   },
   {
    "duration": 9,
    "start_time": "2021-09-17T19:13:31.218Z"
   },
   {
    "duration": 9,
    "start_time": "2021-09-17T19:13:31.220Z"
   },
   {
    "duration": 6,
    "start_time": "2021-09-17T19:13:31.225Z"
   },
   {
    "duration": 6,
    "start_time": "2021-09-17T19:13:31.228Z"
   },
   {
    "duration": 4,
    "start_time": "2021-09-17T19:13:31.232Z"
   },
   {
    "duration": -46,
    "start_time": "2021-09-17T19:13:31.284Z"
   },
   {
    "duration": -47,
    "start_time": "2021-09-17T19:13:31.287Z"
   },
   {
    "duration": -49,
    "start_time": "2021-09-17T19:13:31.291Z"
   },
   {
    "duration": -49,
    "start_time": "2021-09-17T19:13:31.294Z"
   },
   {
    "duration": -50,
    "start_time": "2021-09-17T19:13:31.297Z"
   },
   {
    "duration": -49,
    "start_time": "2021-09-17T19:13:31.299Z"
   },
   {
    "duration": -17,
    "start_time": "2021-09-17T19:13:31.301Z"
   },
   {
    "duration": -17,
    "start_time": "2021-09-17T19:13:31.303Z"
   },
   {
    "duration": -17,
    "start_time": "2021-09-17T19:13:31.305Z"
   },
   {
    "duration": 5,
    "start_time": "2021-09-17T19:14:51.491Z"
   },
   {
    "duration": 326,
    "start_time": "2021-09-17T19:14:51.499Z"
   },
   {
    "duration": 6,
    "start_time": "2021-09-17T19:14:51.829Z"
   },
   {
    "duration": 29,
    "start_time": "2021-09-17T19:14:51.839Z"
   },
   {
    "duration": 54,
    "start_time": "2021-09-17T19:14:51.883Z"
   },
   {
    "duration": 132,
    "start_time": "2021-09-17T19:14:51.940Z"
   },
   {
    "duration": 154,
    "start_time": "2021-09-17T19:14:52.082Z"
   },
   {
    "duration": 200,
    "start_time": "2021-09-17T19:14:52.242Z"
   },
   {
    "duration": 48,
    "start_time": "2021-09-17T19:14:52.448Z"
   },
   {
    "duration": 50,
    "start_time": "2021-09-17T19:14:52.499Z"
   },
   {
    "duration": 70,
    "start_time": "2021-09-17T19:14:52.552Z"
   },
   {
    "duration": 553,
    "start_time": "2021-09-17T19:14:52.625Z"
   },
   {
    "duration": 78,
    "start_time": "2021-09-17T19:14:53.182Z"
   },
   {
    "duration": 257,
    "start_time": "2021-09-17T19:14:53.263Z"
   },
   {
    "duration": 21,
    "start_time": "2021-09-17T19:14:53.522Z"
   },
   {
    "duration": 70,
    "start_time": "2021-09-17T19:14:53.546Z"
   },
   {
    "duration": 96,
    "start_time": "2021-09-17T19:14:53.619Z"
   },
   {
    "duration": 7,
    "start_time": "2021-09-17T19:14:53.718Z"
   },
   {
    "duration": 21,
    "start_time": "2021-09-17T19:14:53.728Z"
   },
   {
    "duration": 94,
    "start_time": "2021-09-17T19:14:53.753Z"
   },
   {
    "duration": 88,
    "start_time": "2021-09-17T19:14:53.850Z"
   },
   {
    "duration": 6,
    "start_time": "2021-09-17T19:14:53.941Z"
   },
   {
    "duration": 40,
    "start_time": "2021-09-17T19:14:53.953Z"
   },
   {
    "duration": 7,
    "start_time": "2021-09-17T19:14:53.996Z"
   },
   {
    "duration": 25,
    "start_time": "2021-09-17T19:14:54.005Z"
   },
   {
    "duration": 360,
    "start_time": "2021-09-17T19:14:54.033Z"
   },
   {
    "duration": 322,
    "start_time": "2021-09-17T19:14:54.395Z"
   },
   {
    "duration": 11,
    "start_time": "2021-09-17T19:14:54.709Z"
   },
   {
    "duration": 8,
    "start_time": "2021-09-17T19:14:54.715Z"
   },
   {
    "duration": 7,
    "start_time": "2021-09-17T19:14:54.718Z"
   },
   {
    "duration": 6,
    "start_time": "2021-09-17T19:14:54.721Z"
   },
   {
    "duration": 5,
    "start_time": "2021-09-17T19:14:54.724Z"
   },
   {
    "duration": 4,
    "start_time": "2021-09-17T19:14:54.727Z"
   },
   {
    "duration": 1287,
    "start_time": "2021-09-17T19:16:24.754Z"
   },
   {
    "duration": 188,
    "start_time": "2021-09-17T19:16:26.044Z"
   },
   {
    "duration": 5,
    "start_time": "2021-09-17T19:16:26.235Z"
   },
   {
    "duration": 17,
    "start_time": "2021-09-17T19:16:26.243Z"
   },
   {
    "duration": 40,
    "start_time": "2021-09-17T19:16:26.263Z"
   },
   {
    "duration": 112,
    "start_time": "2021-09-17T19:16:26.306Z"
   },
   {
    "duration": 123,
    "start_time": "2021-09-17T19:16:26.420Z"
   },
   {
    "duration": 135,
    "start_time": "2021-09-17T19:16:26.547Z"
   },
   {
    "duration": 22,
    "start_time": "2021-09-17T19:16:26.685Z"
   },
   {
    "duration": 34,
    "start_time": "2021-09-17T19:16:26.710Z"
   },
   {
    "duration": 46,
    "start_time": "2021-09-17T19:16:26.747Z"
   },
   {
    "duration": 696,
    "start_time": "2021-09-17T19:16:26.796Z"
   },
   {
    "duration": 34,
    "start_time": "2021-09-17T19:16:27.495Z"
   },
   {
    "duration": 195,
    "start_time": "2021-09-17T19:16:27.532Z"
   },
   {
    "duration": 23,
    "start_time": "2021-09-17T19:16:27.730Z"
   },
   {
    "duration": 67,
    "start_time": "2021-09-17T19:16:27.756Z"
   },
   {
    "duration": 101,
    "start_time": "2021-09-17T19:16:27.826Z"
   },
   {
    "duration": 6,
    "start_time": "2021-09-17T19:16:27.930Z"
   },
   {
    "duration": 13,
    "start_time": "2021-09-17T19:16:27.939Z"
   },
   {
    "duration": 28,
    "start_time": "2021-09-17T19:16:27.984Z"
   },
   {
    "duration": 89,
    "start_time": "2021-09-17T19:16:28.015Z"
   },
   {
    "duration": 5,
    "start_time": "2021-09-17T19:16:28.107Z"
   },
   {
    "duration": 24,
    "start_time": "2021-09-17T19:16:28.117Z"
   },
   {
    "duration": 7,
    "start_time": "2021-09-17T19:16:28.144Z"
   },
   {
    "duration": 8,
    "start_time": "2021-09-17T19:16:28.184Z"
   },
   {
    "duration": 908,
    "start_time": "2021-09-17T19:16:28.194Z"
   },
   {
    "duration": 9,
    "start_time": "2021-09-17T19:16:29.096Z"
   },
   {
    "duration": 6,
    "start_time": "2021-09-17T19:16:29.100Z"
   },
   {
    "duration": 4,
    "start_time": "2021-09-17T19:16:29.104Z"
   },
   {
    "duration": 1,
    "start_time": "2021-09-17T19:16:29.108Z"
   },
   {
    "duration": -6,
    "start_time": "2021-09-17T19:16:29.117Z"
   },
   {
    "duration": -9,
    "start_time": "2021-09-17T19:16:29.121Z"
   },
   {
    "duration": -10,
    "start_time": "2021-09-17T19:16:29.124Z"
   },
   {
    "duration": 321,
    "start_time": "2021-09-17T19:17:55.931Z"
   },
   {
    "duration": 299,
    "start_time": "2021-09-17T19:18:03.176Z"
   },
   {
    "duration": 15,
    "start_time": "2021-09-17T19:40:48.782Z"
   },
   {
    "duration": 5,
    "start_time": "2021-09-17T19:47:37.592Z"
   },
   {
    "duration": 12,
    "start_time": "2021-09-17T19:47:50.349Z"
   },
   {
    "duration": 5,
    "start_time": "2021-09-17T19:48:19.349Z"
   },
   {
    "duration": 171,
    "start_time": "2021-09-17T19:48:19.358Z"
   },
   {
    "duration": 4,
    "start_time": "2021-09-17T19:48:19.532Z"
   },
   {
    "duration": 18,
    "start_time": "2021-09-17T19:48:19.539Z"
   },
   {
    "duration": 41,
    "start_time": "2021-09-17T19:48:19.559Z"
   },
   {
    "duration": 87,
    "start_time": "2021-09-17T19:48:19.603Z"
   },
   {
    "duration": 95,
    "start_time": "2021-09-17T19:48:19.692Z"
   },
   {
    "duration": 124,
    "start_time": "2021-09-17T19:48:19.790Z"
   },
   {
    "duration": 20,
    "start_time": "2021-09-17T19:48:19.919Z"
   },
   {
    "duration": 47,
    "start_time": "2021-09-17T19:48:19.944Z"
   },
   {
    "duration": 27,
    "start_time": "2021-09-17T19:48:19.995Z"
   },
   {
    "duration": 520,
    "start_time": "2021-09-17T19:48:20.025Z"
   },
   {
    "duration": 42,
    "start_time": "2021-09-17T19:48:20.549Z"
   },
   {
    "duration": 179,
    "start_time": "2021-09-17T19:48:20.594Z"
   },
   {
    "duration": 24,
    "start_time": "2021-09-17T19:48:20.777Z"
   },
   {
    "duration": 46,
    "start_time": "2021-09-17T19:48:20.804Z"
   },
   {
    "duration": 92,
    "start_time": "2021-09-17T19:48:20.852Z"
   },
   {
    "duration": 5,
    "start_time": "2021-09-17T19:48:20.946Z"
   },
   {
    "duration": 30,
    "start_time": "2021-09-17T19:48:20.953Z"
   },
   {
    "duration": 30,
    "start_time": "2021-09-17T19:48:20.986Z"
   },
   {
    "duration": 86,
    "start_time": "2021-09-17T19:48:21.019Z"
   },
   {
    "duration": 6,
    "start_time": "2021-09-17T19:48:21.108Z"
   },
   {
    "duration": 21,
    "start_time": "2021-09-17T19:48:21.116Z"
   },
   {
    "duration": 6,
    "start_time": "2021-09-17T19:48:21.139Z"
   },
   {
    "duration": 7,
    "start_time": "2021-09-17T19:48:21.182Z"
   },
   {
    "duration": 320,
    "start_time": "2021-09-17T19:48:21.192Z"
   },
   {
    "duration": 15,
    "start_time": "2021-09-17T19:48:21.517Z"
   },
   {
    "duration": 15,
    "start_time": "2021-09-17T19:48:21.535Z"
   },
   {
    "duration": 33,
    "start_time": "2021-09-17T19:48:21.553Z"
   },
   {
    "duration": 27,
    "start_time": "2021-09-17T19:48:21.589Z"
   },
   {
    "duration": 8,
    "start_time": "2021-09-17T19:48:21.618Z"
   },
   {
    "duration": 21,
    "start_time": "2021-09-17T19:48:21.629Z"
   },
   {
    "duration": 45,
    "start_time": "2021-09-17T19:48:21.652Z"
   },
   {
    "duration": 34,
    "start_time": "2021-09-17T19:48:21.700Z"
   },
   {
    "duration": 5,
    "start_time": "2021-09-17T19:49:31.663Z"
   },
   {
    "duration": 187,
    "start_time": "2021-09-17T19:49:31.670Z"
   },
   {
    "duration": 3,
    "start_time": "2021-09-17T19:49:31.860Z"
   },
   {
    "duration": 24,
    "start_time": "2021-09-17T19:49:31.866Z"
   },
   {
    "duration": 33,
    "start_time": "2021-09-17T19:49:31.892Z"
   },
   {
    "duration": 77,
    "start_time": "2021-09-17T19:49:31.927Z"
   },
   {
    "duration": 98,
    "start_time": "2021-09-17T19:49:32.007Z"
   },
   {
    "duration": 124,
    "start_time": "2021-09-17T19:49:32.108Z"
   },
   {
    "duration": 21,
    "start_time": "2021-09-17T19:49:32.235Z"
   },
   {
    "duration": 43,
    "start_time": "2021-09-17T19:49:32.259Z"
   },
   {
    "duration": 24,
    "start_time": "2021-09-17T19:49:32.304Z"
   },
   {
    "duration": 505,
    "start_time": "2021-09-17T19:49:32.330Z"
   },
   {
    "duration": 45,
    "start_time": "2021-09-17T19:49:32.837Z"
   },
   {
    "duration": 165,
    "start_time": "2021-09-17T19:49:32.885Z"
   },
   {
    "duration": 31,
    "start_time": "2021-09-17T19:49:33.053Z"
   },
   {
    "duration": 46,
    "start_time": "2021-09-17T19:49:33.087Z"
   },
   {
    "duration": 86,
    "start_time": "2021-09-17T19:49:33.135Z"
   },
   {
    "duration": 5,
    "start_time": "2021-09-17T19:49:33.224Z"
   },
   {
    "duration": 20,
    "start_time": "2021-09-17T19:49:33.231Z"
   },
   {
    "duration": 46,
    "start_time": "2021-09-17T19:49:33.254Z"
   },
   {
    "duration": 77,
    "start_time": "2021-09-17T19:49:33.303Z"
   },
   {
    "duration": 5,
    "start_time": "2021-09-17T19:49:33.383Z"
   },
   {
    "duration": 25,
    "start_time": "2021-09-17T19:49:33.393Z"
   },
   {
    "duration": 7,
    "start_time": "2021-09-17T19:49:33.421Z"
   },
   {
    "duration": 16,
    "start_time": "2021-09-17T19:49:33.431Z"
   },
   {
    "duration": 333,
    "start_time": "2021-09-17T19:49:33.449Z"
   },
   {
    "duration": 15,
    "start_time": "2021-09-17T19:49:33.785Z"
   },
   {
    "duration": 29,
    "start_time": "2021-09-17T19:49:33.802Z"
   },
   {
    "duration": 285,
    "start_time": "2021-09-17T19:49:33.833Z"
   },
   {
    "duration": -6,
    "start_time": "2021-09-17T19:49:34.127Z"
   },
   {
    "duration": -8,
    "start_time": "2021-09-17T19:49:34.131Z"
   },
   {
    "duration": -9,
    "start_time": "2021-09-17T19:49:34.133Z"
   },
   {
    "duration": -11,
    "start_time": "2021-09-17T19:49:34.136Z"
   },
   {
    "duration": -13,
    "start_time": "2021-09-17T19:49:34.140Z"
   },
   {
    "duration": 6,
    "start_time": "2021-09-17T19:50:05.505Z"
   },
   {
    "duration": 18,
    "start_time": "2021-09-17T19:50:10.373Z"
   },
   {
    "duration": 20,
    "start_time": "2021-09-17T19:56:06.451Z"
   },
   {
    "duration": 4,
    "start_time": "2021-09-17T19:57:22.172Z"
   },
   {
    "duration": 191,
    "start_time": "2021-09-17T19:57:22.178Z"
   },
   {
    "duration": 13,
    "start_time": "2021-09-17T19:57:22.372Z"
   },
   {
    "duration": 16,
    "start_time": "2021-09-17T19:57:22.388Z"
   },
   {
    "duration": 33,
    "start_time": "2021-09-17T19:57:22.407Z"
   },
   {
    "duration": 141,
    "start_time": "2021-09-17T19:57:22.442Z"
   },
   {
    "duration": 106,
    "start_time": "2021-09-17T19:57:22.586Z"
   },
   {
    "duration": 171,
    "start_time": "2021-09-17T19:57:22.698Z"
   },
   {
    "duration": 22,
    "start_time": "2021-09-17T19:57:22.872Z"
   },
   {
    "duration": 70,
    "start_time": "2021-09-17T19:57:22.896Z"
   },
   {
    "duration": 30,
    "start_time": "2021-09-17T19:57:22.968Z"
   },
   {
    "duration": 507,
    "start_time": "2021-09-17T19:57:23.000Z"
   },
   {
    "duration": 33,
    "start_time": "2021-09-17T19:57:23.510Z"
   },
   {
    "duration": 188,
    "start_time": "2021-09-17T19:57:23.546Z"
   },
   {
    "duration": 20,
    "start_time": "2021-09-17T19:57:23.737Z"
   },
   {
    "duration": 60,
    "start_time": "2021-09-17T19:57:23.759Z"
   },
   {
    "duration": 88,
    "start_time": "2021-09-17T19:57:23.821Z"
   },
   {
    "duration": 5,
    "start_time": "2021-09-17T19:57:23.912Z"
   },
   {
    "duration": 14,
    "start_time": "2021-09-17T19:57:23.919Z"
   },
   {
    "duration": 52,
    "start_time": "2021-09-17T19:57:23.935Z"
   },
   {
    "duration": 74,
    "start_time": "2021-09-17T19:57:23.990Z"
   },
   {
    "duration": 5,
    "start_time": "2021-09-17T19:57:24.083Z"
   },
   {
    "duration": 21,
    "start_time": "2021-09-17T19:57:24.093Z"
   },
   {
    "duration": 7,
    "start_time": "2021-09-17T19:57:24.117Z"
   },
   {
    "duration": 23,
    "start_time": "2021-09-17T19:57:24.127Z"
   },
   {
    "duration": 342,
    "start_time": "2021-09-17T19:57:24.152Z"
   },
   {
    "duration": 15,
    "start_time": "2021-09-17T19:57:24.496Z"
   },
   {
    "duration": 17,
    "start_time": "2021-09-17T19:57:24.513Z"
   },
   {
    "duration": 13,
    "start_time": "2021-09-17T19:57:24.532Z"
   },
   {
    "duration": 41,
    "start_time": "2021-09-17T19:57:24.547Z"
   },
   {
    "duration": 13,
    "start_time": "2021-09-17T19:57:24.590Z"
   },
   {
    "duration": 31,
    "start_time": "2021-09-17T19:57:24.606Z"
   },
   {
    "duration": 29,
    "start_time": "2021-09-17T19:57:24.640Z"
   },
   {
    "duration": 18,
    "start_time": "2021-09-17T19:57:24.682Z"
   },
   {
    "duration": 23,
    "start_time": "2021-09-17T19:57:24.704Z"
   },
   {
    "duration": 5,
    "start_time": "2021-09-17T20:06:11.683Z"
   },
   {
    "duration": 204,
    "start_time": "2021-09-17T20:06:11.690Z"
   },
   {
    "duration": 6,
    "start_time": "2021-09-17T20:06:11.898Z"
   },
   {
    "duration": 22,
    "start_time": "2021-09-17T20:06:11.908Z"
   },
   {
    "duration": 50,
    "start_time": "2021-09-17T20:06:11.933Z"
   },
   {
    "duration": 98,
    "start_time": "2021-09-17T20:06:11.986Z"
   },
   {
    "duration": 79,
    "start_time": "2021-09-17T20:06:12.086Z"
   },
   {
    "duration": 145,
    "start_time": "2021-09-17T20:06:12.169Z"
   },
   {
    "duration": 22,
    "start_time": "2021-09-17T20:06:12.318Z"
   },
   {
    "duration": 55,
    "start_time": "2021-09-17T20:06:12.344Z"
   },
   {
    "duration": 28,
    "start_time": "2021-09-17T20:06:12.402Z"
   },
   {
    "duration": 585,
    "start_time": "2021-09-17T20:06:12.433Z"
   },
   {
    "duration": 35,
    "start_time": "2021-09-17T20:06:13.021Z"
   },
   {
    "duration": 182,
    "start_time": "2021-09-17T20:06:13.059Z"
   },
   {
    "duration": 20,
    "start_time": "2021-09-17T20:06:13.244Z"
   },
   {
    "duration": 40,
    "start_time": "2021-09-17T20:06:13.283Z"
   },
   {
    "duration": 90,
    "start_time": "2021-09-17T20:06:13.325Z"
   },
   {
    "duration": 7,
    "start_time": "2021-09-17T20:06:13.417Z"
   },
   {
    "duration": 16,
    "start_time": "2021-09-17T20:06:13.426Z"
   },
   {
    "duration": 59,
    "start_time": "2021-09-17T20:06:13.444Z"
   },
   {
    "duration": 92,
    "start_time": "2021-09-17T20:06:13.506Z"
   },
   {
    "duration": 4,
    "start_time": "2021-09-17T20:06:13.601Z"
   },
   {
    "duration": 19,
    "start_time": "2021-09-17T20:06:13.610Z"
   },
   {
    "duration": 8,
    "start_time": "2021-09-17T20:06:13.631Z"
   },
   {
    "duration": 8,
    "start_time": "2021-09-17T20:06:13.641Z"
   },
   {
    "duration": 320,
    "start_time": "2021-09-17T20:06:13.692Z"
   },
   {
    "duration": 16,
    "start_time": "2021-09-17T20:06:14.014Z"
   },
   {
    "duration": 16,
    "start_time": "2021-09-17T20:06:14.033Z"
   },
   {
    "duration": 31,
    "start_time": "2021-09-17T20:06:14.051Z"
   },
   {
    "duration": 33,
    "start_time": "2021-09-17T20:06:14.084Z"
   },
   {
    "duration": 16,
    "start_time": "2021-09-17T20:06:14.120Z"
   },
   {
    "duration": 32,
    "start_time": "2021-09-17T20:06:14.138Z"
   },
   {
    "duration": 35,
    "start_time": "2021-09-17T20:06:14.172Z"
   },
   {
    "duration": 21,
    "start_time": "2021-09-17T20:06:14.210Z"
   },
   {
    "duration": 19,
    "start_time": "2021-09-17T20:06:14.233Z"
   },
   {
    "duration": 20,
    "start_time": "2021-09-17T20:07:22.075Z"
   },
   {
    "duration": 4,
    "start_time": "2021-09-18T10:58:16.313Z"
   },
   {
    "duration": 282,
    "start_time": "2021-09-18T10:58:16.336Z"
   },
   {
    "duration": 6,
    "start_time": "2021-09-18T10:58:16.622Z"
   },
   {
    "duration": 16,
    "start_time": "2021-09-18T10:58:16.632Z"
   },
   {
    "duration": 56,
    "start_time": "2021-09-18T10:58:16.652Z"
   },
   {
    "duration": 120,
    "start_time": "2021-09-18T10:58:16.711Z"
   },
   {
    "duration": 102,
    "start_time": "2021-09-18T10:58:16.834Z"
   },
   {
    "duration": 132,
    "start_time": "2021-09-18T10:58:16.939Z"
   },
   {
    "duration": 21,
    "start_time": "2021-09-18T10:58:17.073Z"
   },
   {
    "duration": 30,
    "start_time": "2021-09-18T10:58:17.098Z"
   },
   {
    "duration": 55,
    "start_time": "2021-09-18T10:58:17.131Z"
   },
   {
    "duration": 528,
    "start_time": "2021-09-18T10:58:17.188Z"
   },
   {
    "duration": 34,
    "start_time": "2021-09-18T10:58:17.718Z"
   },
   {
    "duration": 185,
    "start_time": "2021-09-18T10:58:17.755Z"
   },
   {
    "duration": 20,
    "start_time": "2021-09-18T10:58:17.942Z"
   },
   {
    "duration": 43,
    "start_time": "2021-09-18T10:58:17.984Z"
   },
   {
    "duration": 87,
    "start_time": "2021-09-18T10:58:18.029Z"
   },
   {
    "duration": 6,
    "start_time": "2021-09-18T10:58:18.118Z"
   },
   {
    "duration": 15,
    "start_time": "2021-09-18T10:58:18.126Z"
   },
   {
    "duration": 53,
    "start_time": "2021-09-18T10:58:18.144Z"
   },
   {
    "duration": 90,
    "start_time": "2021-09-18T10:58:18.200Z"
   },
   {
    "duration": 5,
    "start_time": "2021-09-18T10:58:18.292Z"
   },
   {
    "duration": 27,
    "start_time": "2021-09-18T10:58:18.299Z"
   },
   {
    "duration": 6,
    "start_time": "2021-09-18T10:58:18.328Z"
   },
   {
    "duration": 14,
    "start_time": "2021-09-18T10:58:18.336Z"
   },
   {
    "duration": 356,
    "start_time": "2021-09-18T10:58:18.352Z"
   },
   {
    "duration": 15,
    "start_time": "2021-09-18T10:58:18.710Z"
   },
   {
    "duration": 17,
    "start_time": "2021-09-18T10:58:18.731Z"
   },
   {
    "duration": 35,
    "start_time": "2021-09-18T10:58:18.750Z"
   },
   {
    "duration": 56,
    "start_time": "2021-09-18T10:58:18.787Z"
   },
   {
    "duration": 46,
    "start_time": "2021-09-18T10:58:18.845Z"
   },
   {
    "duration": 30,
    "start_time": "2021-09-18T10:58:18.894Z"
   },
   {
    "duration": 250,
    "start_time": "2021-09-18T10:58:18.927Z"
   },
   {
    "duration": -1193,
    "start_time": "2021-09-18T10:58:20.372Z"
   },
   {
    "duration": -1198,
    "start_time": "2021-09-18T10:58:20.379Z"
   },
   {
    "duration": -1199,
    "start_time": "2021-09-18T10:58:20.381Z"
   },
   {
    "duration": 4,
    "start_time": "2021-09-18T11:02:29.429Z"
   },
   {
    "duration": 224,
    "start_time": "2021-09-18T11:02:29.435Z"
   },
   {
    "duration": 7,
    "start_time": "2021-09-18T11:02:29.663Z"
   },
   {
    "duration": 19,
    "start_time": "2021-09-18T11:02:29.684Z"
   },
   {
    "duration": 23,
    "start_time": "2021-09-18T11:02:29.705Z"
   },
   {
    "duration": 108,
    "start_time": "2021-09-18T11:02:29.731Z"
   },
   {
    "duration": 109,
    "start_time": "2021-09-18T11:02:29.842Z"
   },
   {
    "duration": 131,
    "start_time": "2021-09-18T11:02:29.955Z"
   },
   {
    "duration": 20,
    "start_time": "2021-09-18T11:02:30.089Z"
   },
   {
    "duration": 41,
    "start_time": "2021-09-18T11:02:30.111Z"
   },
   {
    "duration": 48,
    "start_time": "2021-09-18T11:02:30.154Z"
   },
   {
    "duration": 525,
    "start_time": "2021-09-18T11:02:30.204Z"
   },
   {
    "duration": 51,
    "start_time": "2021-09-18T11:02:30.732Z"
   },
   {
    "duration": 178,
    "start_time": "2021-09-18T11:02:30.786Z"
   },
   {
    "duration": 35,
    "start_time": "2021-09-18T11:02:30.967Z"
   },
   {
    "duration": 75,
    "start_time": "2021-09-18T11:02:31.004Z"
   },
   {
    "duration": 76,
    "start_time": "2021-09-18T11:02:31.081Z"
   },
   {
    "duration": 23,
    "start_time": "2021-09-18T11:02:31.160Z"
   },
   {
    "duration": 46,
    "start_time": "2021-09-18T11:02:31.188Z"
   },
   {
    "duration": 52,
    "start_time": "2021-09-18T11:02:31.236Z"
   },
   {
    "duration": 95,
    "start_time": "2021-09-18T11:02:31.292Z"
   },
   {
    "duration": 8,
    "start_time": "2021-09-18T11:02:31.390Z"
   },
   {
    "duration": 45,
    "start_time": "2021-09-18T11:02:31.405Z"
   },
   {
    "duration": 9,
    "start_time": "2021-09-18T11:02:31.454Z"
   },
   {
    "duration": 25,
    "start_time": "2021-09-18T11:02:31.485Z"
   },
   {
    "duration": 399,
    "start_time": "2021-09-18T11:02:31.513Z"
   },
   {
    "duration": 16,
    "start_time": "2021-09-18T11:02:31.915Z"
   },
   {
    "duration": 112,
    "start_time": "2021-09-18T11:02:31.935Z"
   },
   {
    "duration": 11,
    "start_time": "2021-09-18T11:02:32.054Z"
   },
   {
    "duration": 32,
    "start_time": "2021-09-18T11:02:32.068Z"
   },
   {
    "duration": 17,
    "start_time": "2021-09-18T11:02:32.102Z"
   },
   {
    "duration": 32,
    "start_time": "2021-09-18T11:02:32.122Z"
   },
   {
    "duration": 41,
    "start_time": "2021-09-18T11:02:32.156Z"
   },
   {
    "duration": 35,
    "start_time": "2021-09-18T11:02:32.200Z"
   },
   {
    "duration": 52,
    "start_time": "2021-09-18T11:02:32.241Z"
   },
   {
    "duration": 28,
    "start_time": "2021-09-18T11:02:32.296Z"
   },
   {
    "duration": 4,
    "start_time": "2021-09-18T11:11:27.199Z"
   },
   {
    "duration": 196,
    "start_time": "2021-09-18T11:11:27.206Z"
   },
   {
    "duration": 3,
    "start_time": "2021-09-18T11:11:27.405Z"
   },
   {
    "duration": 27,
    "start_time": "2021-09-18T11:11:27.411Z"
   },
   {
    "duration": 43,
    "start_time": "2021-09-18T11:11:27.441Z"
   },
   {
    "duration": 102,
    "start_time": "2021-09-18T11:11:27.487Z"
   },
   {
    "duration": 109,
    "start_time": "2021-09-18T11:11:27.592Z"
   },
   {
    "duration": 133,
    "start_time": "2021-09-18T11:11:27.707Z"
   },
   {
    "duration": 41,
    "start_time": "2021-09-18T11:11:27.844Z"
   },
   {
    "duration": 37,
    "start_time": "2021-09-18T11:11:27.888Z"
   },
   {
    "duration": 64,
    "start_time": "2021-09-18T11:11:27.928Z"
   },
   {
    "duration": 515,
    "start_time": "2021-09-18T11:11:27.995Z"
   },
   {
    "duration": 35,
    "start_time": "2021-09-18T11:11:28.513Z"
   },
   {
    "duration": 186,
    "start_time": "2021-09-18T11:11:28.551Z"
   },
   {
    "duration": 22,
    "start_time": "2021-09-18T11:11:28.740Z"
   },
   {
    "duration": 63,
    "start_time": "2021-09-18T11:11:28.783Z"
   },
   {
    "duration": 99,
    "start_time": "2021-09-18T11:11:28.849Z"
   },
   {
    "duration": 11,
    "start_time": "2021-09-18T11:11:28.951Z"
   },
   {
    "duration": 39,
    "start_time": "2021-09-18T11:11:28.965Z"
   },
   {
    "duration": 29,
    "start_time": "2021-09-18T11:11:29.007Z"
   },
   {
    "duration": 81,
    "start_time": "2021-09-18T11:11:29.039Z"
   },
   {
    "duration": 5,
    "start_time": "2021-09-18T11:11:29.123Z"
   },
   {
    "duration": 22,
    "start_time": "2021-09-18T11:11:29.135Z"
   },
   {
    "duration": 8,
    "start_time": "2021-09-18T11:11:29.184Z"
   },
   {
    "duration": 10,
    "start_time": "2021-09-18T11:11:29.195Z"
   },
   {
    "duration": 340,
    "start_time": "2021-09-18T11:11:29.208Z"
   },
   {
    "duration": 15,
    "start_time": "2021-09-18T11:11:29.550Z"
   },
   {
    "duration": 39,
    "start_time": "2021-09-18T11:11:29.584Z"
   },
   {
    "duration": 27,
    "start_time": "2021-09-18T11:11:29.626Z"
   },
   {
    "duration": 24,
    "start_time": "2021-09-18T11:11:29.656Z"
   },
   {
    "duration": 13,
    "start_time": "2021-09-18T11:11:29.684Z"
   },
   {
    "duration": 26,
    "start_time": "2021-09-18T11:11:29.700Z"
   },
   {
    "duration": 57,
    "start_time": "2021-09-18T11:11:29.731Z"
   },
   {
    "duration": 18,
    "start_time": "2021-09-18T11:11:29.790Z"
   },
   {
    "duration": 25,
    "start_time": "2021-09-18T11:11:29.812Z"
   },
   {
    "duration": 60,
    "start_time": "2021-09-18T11:11:29.842Z"
   },
   {
    "duration": 36,
    "start_time": "2021-09-18T11:11:29.904Z"
   },
   {
    "duration": 42,
    "start_time": "2021-09-18T11:11:29.943Z"
   },
   {
    "duration": 19,
    "start_time": "2021-09-18T11:11:29.988Z"
   },
   {
    "duration": 5,
    "start_time": "2021-09-18T11:14:37.679Z"
   },
   {
    "duration": 297,
    "start_time": "2021-09-18T11:14:37.688Z"
   },
   {
    "duration": 5,
    "start_time": "2021-09-18T11:14:37.989Z"
   },
   {
    "duration": 53,
    "start_time": "2021-09-18T11:14:37.997Z"
   },
   {
    "duration": 27,
    "start_time": "2021-09-18T11:14:38.053Z"
   },
   {
    "duration": 73,
    "start_time": "2021-09-18T11:14:38.083Z"
   },
   {
    "duration": 100,
    "start_time": "2021-09-18T11:14:38.159Z"
   },
   {
    "duration": 134,
    "start_time": "2021-09-18T11:14:38.262Z"
   },
   {
    "duration": 21,
    "start_time": "2021-09-18T11:14:38.399Z"
   },
   {
    "duration": 28,
    "start_time": "2021-09-18T11:14:38.423Z"
   },
   {
    "duration": 27,
    "start_time": "2021-09-18T11:14:38.482Z"
   },
   {
    "duration": 509,
    "start_time": "2021-09-18T11:14:38.511Z"
   },
   {
    "duration": 33,
    "start_time": "2021-09-18T11:14:39.022Z"
   },
   {
    "duration": 180,
    "start_time": "2021-09-18T11:14:39.058Z"
   },
   {
    "duration": 19,
    "start_time": "2021-09-18T11:14:39.240Z"
   },
   {
    "duration": 54,
    "start_time": "2021-09-18T11:14:39.261Z"
   },
   {
    "duration": 89,
    "start_time": "2021-09-18T11:14:39.317Z"
   },
   {
    "duration": 6,
    "start_time": "2021-09-18T11:14:39.410Z"
   },
   {
    "duration": 28,
    "start_time": "2021-09-18T11:14:39.419Z"
   },
   {
    "duration": 51,
    "start_time": "2021-09-18T11:14:39.450Z"
   },
   {
    "duration": 149,
    "start_time": "2021-09-18T11:14:39.504Z"
   },
   {
    "duration": 4,
    "start_time": "2021-09-18T11:14:39.656Z"
   },
   {
    "duration": 32,
    "start_time": "2021-09-18T11:14:39.666Z"
   },
   {
    "duration": 8,
    "start_time": "2021-09-18T11:14:39.701Z"
   },
   {
    "duration": 10,
    "start_time": "2021-09-18T11:14:39.711Z"
   },
   {
    "duration": 344,
    "start_time": "2021-09-18T11:14:39.724Z"
   },
   {
    "duration": 24,
    "start_time": "2021-09-18T11:14:40.071Z"
   },
   {
    "duration": 18,
    "start_time": "2021-09-18T11:14:40.098Z"
   },
   {
    "duration": 6,
    "start_time": "2021-09-18T11:14:40.119Z"
   },
   {
    "duration": 19,
    "start_time": "2021-09-18T11:14:40.128Z"
   },
   {
    "duration": 37,
    "start_time": "2021-09-18T11:14:40.149Z"
   },
   {
    "duration": 33,
    "start_time": "2021-09-18T11:14:40.189Z"
   },
   {
    "duration": 18,
    "start_time": "2021-09-18T11:14:40.224Z"
   },
   {
    "duration": 45,
    "start_time": "2021-09-18T11:14:40.249Z"
   },
   {
    "duration": 25,
    "start_time": "2021-09-18T11:14:40.303Z"
   },
   {
    "duration": 16,
    "start_time": "2021-09-18T11:14:40.331Z"
   },
   {
    "duration": 14,
    "start_time": "2021-09-18T11:14:40.384Z"
   },
   {
    "duration": 21,
    "start_time": "2021-09-18T11:14:40.401Z"
   },
   {
    "duration": 59,
    "start_time": "2021-09-18T11:14:40.425Z"
   },
   {
    "duration": 4,
    "start_time": "2021-09-18T11:45:28.977Z"
   },
   {
    "duration": 168,
    "start_time": "2021-09-18T11:45:28.998Z"
   },
   {
    "duration": 4,
    "start_time": "2021-09-18T11:45:29.181Z"
   },
   {
    "duration": 18,
    "start_time": "2021-09-18T11:45:29.188Z"
   },
   {
    "duration": 22,
    "start_time": "2021-09-18T11:45:29.209Z"
   },
   {
    "duration": 95,
    "start_time": "2021-09-18T11:45:29.234Z"
   },
   {
    "duration": 97,
    "start_time": "2021-09-18T11:45:29.332Z"
   },
   {
    "duration": 130,
    "start_time": "2021-09-18T11:45:29.431Z"
   },
   {
    "duration": 26,
    "start_time": "2021-09-18T11:45:29.563Z"
   },
   {
    "duration": 26,
    "start_time": "2021-09-18T11:45:29.593Z"
   },
   {
    "duration": 25,
    "start_time": "2021-09-18T11:45:29.622Z"
   },
   {
    "duration": 522,
    "start_time": "2021-09-18T11:45:29.650Z"
   },
   {
    "duration": 36,
    "start_time": "2021-09-18T11:45:30.175Z"
   },
   {
    "duration": 178,
    "start_time": "2021-09-18T11:45:30.214Z"
   },
   {
    "duration": 19,
    "start_time": "2021-09-18T11:45:30.394Z"
   },
   {
    "duration": 52,
    "start_time": "2021-09-18T11:45:30.415Z"
   },
   {
    "duration": 79,
    "start_time": "2021-09-18T11:45:30.469Z"
   },
   {
    "duration": 7,
    "start_time": "2021-09-18T11:45:30.550Z"
   },
   {
    "duration": 12,
    "start_time": "2021-09-18T11:45:30.582Z"
   },
   {
    "duration": 38,
    "start_time": "2021-09-18T11:45:30.597Z"
   },
   {
    "duration": 84,
    "start_time": "2021-09-18T11:45:30.637Z"
   },
   {
    "duration": 6,
    "start_time": "2021-09-18T11:45:30.723Z"
   },
   {
    "duration": 34,
    "start_time": "2021-09-18T11:45:30.731Z"
   },
   {
    "duration": 19,
    "start_time": "2021-09-18T11:45:30.768Z"
   },
   {
    "duration": 35,
    "start_time": "2021-09-18T11:45:30.789Z"
   },
   {
    "duration": 349,
    "start_time": "2021-09-18T11:45:30.827Z"
   },
   {
    "duration": 16,
    "start_time": "2021-09-18T11:45:31.179Z"
   },
   {
    "duration": 26,
    "start_time": "2021-09-18T11:45:31.200Z"
   },
   {
    "duration": 15,
    "start_time": "2021-09-18T11:45:31.228Z"
   },
   {
    "duration": 39,
    "start_time": "2021-09-18T11:45:31.245Z"
   },
   {
    "duration": 139,
    "start_time": "2021-09-18T11:45:31.287Z"
   },
   {
    "duration": -1218,
    "start_time": "2021-09-18T11:45:32.647Z"
   },
   {
    "duration": -1222,
    "start_time": "2021-09-18T11:45:32.652Z"
   },
   {
    "duration": -1225,
    "start_time": "2021-09-18T11:45:32.656Z"
   },
   {
    "duration": -1225,
    "start_time": "2021-09-18T11:45:32.658Z"
   },
   {
    "duration": -1228,
    "start_time": "2021-09-18T11:45:32.662Z"
   },
   {
    "duration": -1228,
    "start_time": "2021-09-18T11:45:32.664Z"
   },
   {
    "duration": -1230,
    "start_time": "2021-09-18T11:45:32.667Z"
   },
   {
    "duration": -1230,
    "start_time": "2021-09-18T11:45:32.669Z"
   },
   {
    "duration": 3,
    "start_time": "2021-09-18T11:46:21.748Z"
   },
   {
    "duration": 199,
    "start_time": "2021-09-18T11:46:21.754Z"
   },
   {
    "duration": 4,
    "start_time": "2021-09-18T11:46:21.956Z"
   },
   {
    "duration": 24,
    "start_time": "2021-09-18T11:46:21.962Z"
   },
   {
    "duration": 20,
    "start_time": "2021-09-18T11:46:21.989Z"
   },
   {
    "duration": 92,
    "start_time": "2021-09-18T11:46:22.012Z"
   },
   {
    "duration": 97,
    "start_time": "2021-09-18T11:46:22.107Z"
   },
   {
    "duration": 128,
    "start_time": "2021-09-18T11:46:22.208Z"
   },
   {
    "duration": 23,
    "start_time": "2021-09-18T11:46:22.340Z"
   },
   {
    "duration": 26,
    "start_time": "2021-09-18T11:46:22.384Z"
   },
   {
    "duration": 28,
    "start_time": "2021-09-18T11:46:22.413Z"
   },
   {
    "duration": 590,
    "start_time": "2021-09-18T11:46:22.444Z"
   },
   {
    "duration": 50,
    "start_time": "2021-09-18T11:46:23.037Z"
   },
   {
    "duration": 165,
    "start_time": "2021-09-18T11:46:23.089Z"
   },
   {
    "duration": 28,
    "start_time": "2021-09-18T11:46:23.256Z"
   },
   {
    "duration": 45,
    "start_time": "2021-09-18T11:46:23.286Z"
   },
   {
    "duration": 84,
    "start_time": "2021-09-18T11:46:23.334Z"
   },
   {
    "duration": 5,
    "start_time": "2021-09-18T11:46:23.420Z"
   },
   {
    "duration": 13,
    "start_time": "2021-09-18T11:46:23.428Z"
   },
   {
    "duration": 53,
    "start_time": "2021-09-18T11:46:23.443Z"
   },
   {
    "duration": 89,
    "start_time": "2021-09-18T11:46:23.499Z"
   },
   {
    "duration": 6,
    "start_time": "2021-09-18T11:46:23.591Z"
   },
   {
    "duration": 21,
    "start_time": "2021-09-18T11:46:23.605Z"
   },
   {
    "duration": 53,
    "start_time": "2021-09-18T11:46:23.630Z"
   },
   {
    "duration": 10,
    "start_time": "2021-09-18T11:46:23.686Z"
   },
   {
    "duration": 334,
    "start_time": "2021-09-18T11:46:23.699Z"
   },
   {
    "duration": 15,
    "start_time": "2021-09-18T11:46:24.036Z"
   },
   {
    "duration": 33,
    "start_time": "2021-09-18T11:46:24.054Z"
   },
   {
    "duration": 6,
    "start_time": "2021-09-18T11:46:24.090Z"
   },
   {
    "duration": 22,
    "start_time": "2021-09-18T11:46:24.099Z"
   },
   {
    "duration": 10,
    "start_time": "2021-09-18T11:46:24.123Z"
   },
   {
    "duration": 58,
    "start_time": "2021-09-18T11:46:24.136Z"
   },
   {
    "duration": 20,
    "start_time": "2021-09-18T11:46:24.196Z"
   },
   {
    "duration": 21,
    "start_time": "2021-09-18T11:46:24.219Z"
   },
   {
    "duration": 59,
    "start_time": "2021-09-18T11:46:24.243Z"
   },
   {
    "duration": 21,
    "start_time": "2021-09-18T11:46:24.304Z"
   },
   {
    "duration": 64,
    "start_time": "2021-09-18T11:46:24.327Z"
   },
   {
    "duration": 21,
    "start_time": "2021-09-18T11:46:24.393Z"
   },
   {
    "duration": 20,
    "start_time": "2021-09-18T11:46:24.416Z"
   },
   {
    "duration": 5,
    "start_time": "2021-09-18T12:18:29.066Z"
   },
   {
    "duration": 186,
    "start_time": "2021-09-18T12:18:29.073Z"
   },
   {
    "duration": 3,
    "start_time": "2021-09-18T12:18:29.262Z"
   },
   {
    "duration": 22,
    "start_time": "2021-09-18T12:18:29.268Z"
   },
   {
    "duration": 27,
    "start_time": "2021-09-18T12:18:29.293Z"
   },
   {
    "duration": 102,
    "start_time": "2021-09-18T12:18:29.323Z"
   },
   {
    "duration": 104,
    "start_time": "2021-09-18T12:18:29.427Z"
   },
   {
    "duration": 129,
    "start_time": "2021-09-18T12:18:29.537Z"
   },
   {
    "duration": 29,
    "start_time": "2021-09-18T12:18:29.670Z"
   },
   {
    "duration": 46,
    "start_time": "2021-09-18T12:18:29.701Z"
   },
   {
    "duration": 33,
    "start_time": "2021-09-18T12:18:29.749Z"
   },
   {
    "duration": 498,
    "start_time": "2021-09-18T12:18:29.784Z"
   },
   {
    "duration": 34,
    "start_time": "2021-09-18T12:18:30.285Z"
   },
   {
    "duration": 258,
    "start_time": "2021-09-18T12:18:30.322Z"
   },
   {
    "duration": 19,
    "start_time": "2021-09-18T12:18:30.582Z"
   },
   {
    "duration": 64,
    "start_time": "2021-09-18T12:18:30.604Z"
   },
   {
    "duration": 75,
    "start_time": "2021-09-18T12:18:30.670Z"
   },
   {
    "duration": 6,
    "start_time": "2021-09-18T12:18:30.747Z"
   },
   {
    "duration": 35,
    "start_time": "2021-09-18T12:18:30.755Z"
   },
   {
    "duration": 66,
    "start_time": "2021-09-18T12:18:30.793Z"
   },
   {
    "duration": 100,
    "start_time": "2021-09-18T12:18:30.861Z"
   },
   {
    "duration": 5,
    "start_time": "2021-09-18T12:18:30.963Z"
   },
   {
    "duration": 35,
    "start_time": "2021-09-18T12:18:30.981Z"
   },
   {
    "duration": 7,
    "start_time": "2021-09-18T12:18:31.018Z"
   },
   {
    "duration": 25,
    "start_time": "2021-09-18T12:18:31.028Z"
   },
   {
    "duration": 340,
    "start_time": "2021-09-18T12:18:31.056Z"
   },
   {
    "duration": 15,
    "start_time": "2021-09-18T12:18:31.399Z"
   },
   {
    "duration": 47,
    "start_time": "2021-09-18T12:18:31.417Z"
   },
   {
    "duration": 22,
    "start_time": "2021-09-18T12:18:31.466Z"
   },
   {
    "duration": 38,
    "start_time": "2021-09-18T12:18:31.491Z"
   },
   {
    "duration": 26,
    "start_time": "2021-09-18T12:18:31.532Z"
   },
   {
    "duration": 57,
    "start_time": "2021-09-18T12:18:31.560Z"
   },
   {
    "duration": 17,
    "start_time": "2021-09-18T12:18:31.621Z"
   },
   {
    "duration": 46,
    "start_time": "2021-09-18T12:18:31.646Z"
   },
   {
    "duration": 26,
    "start_time": "2021-09-18T12:18:31.695Z"
   },
   {
    "duration": 57,
    "start_time": "2021-09-18T12:18:31.724Z"
   },
   {
    "duration": 40,
    "start_time": "2021-09-18T12:18:31.787Z"
   },
   {
    "duration": 37,
    "start_time": "2021-09-18T12:18:31.837Z"
   },
   {
    "duration": 41,
    "start_time": "2021-09-18T12:18:31.877Z"
   },
   {
    "duration": 302,
    "start_time": "2021-09-18T13:14:03.314Z"
   },
   {
    "duration": 612,
    "start_time": "2021-09-18T13:14:18.052Z"
   },
   {
    "duration": 172,
    "start_time": "2021-09-18T13:14:18.667Z"
   },
   {
    "duration": 4,
    "start_time": "2021-09-18T13:14:18.842Z"
   },
   {
    "duration": 15,
    "start_time": "2021-09-18T13:14:18.848Z"
   },
   {
    "duration": 33,
    "start_time": "2021-09-18T13:14:18.865Z"
   },
   {
    "duration": 99,
    "start_time": "2021-09-18T13:14:18.900Z"
   },
   {
    "duration": 101,
    "start_time": "2021-09-18T13:14:19.002Z"
   },
   {
    "duration": 127,
    "start_time": "2021-09-18T13:14:19.106Z"
   },
   {
    "duration": 20,
    "start_time": "2021-09-18T13:14:19.237Z"
   },
   {
    "duration": 41,
    "start_time": "2021-09-18T13:14:19.260Z"
   },
   {
    "duration": 24,
    "start_time": "2021-09-18T13:14:19.303Z"
   },
   {
    "duration": 515,
    "start_time": "2021-09-18T13:14:19.330Z"
   },
   {
    "duration": 42,
    "start_time": "2021-09-18T13:14:19.847Z"
   },
   {
    "duration": 175,
    "start_time": "2021-09-18T13:14:19.891Z"
   },
   {
    "duration": 29,
    "start_time": "2021-09-18T13:14:20.068Z"
   },
   {
    "duration": 53,
    "start_time": "2021-09-18T13:14:20.100Z"
   },
   {
    "duration": 85,
    "start_time": "2021-09-18T13:14:20.156Z"
   },
   {
    "duration": 5,
    "start_time": "2021-09-18T13:14:20.243Z"
   },
   {
    "duration": 31,
    "start_time": "2021-09-18T13:14:20.251Z"
   },
   {
    "duration": 30,
    "start_time": "2021-09-18T13:14:20.285Z"
   },
   {
    "duration": 90,
    "start_time": "2021-09-18T13:14:20.318Z"
   },
   {
    "duration": 5,
    "start_time": "2021-09-18T13:14:20.410Z"
   },
   {
    "duration": 19,
    "start_time": "2021-09-18T13:14:20.420Z"
   },
   {
    "duration": 8,
    "start_time": "2021-09-18T13:14:20.442Z"
   },
   {
    "duration": 19,
    "start_time": "2021-09-18T13:14:20.483Z"
   },
   {
    "duration": 764,
    "start_time": "2021-09-18T13:14:20.505Z"
   },
   {
    "duration": 444,
    "start_time": "2021-09-18T13:14:21.271Z"
   },
   {
    "duration": 14,
    "start_time": "2021-09-18T13:14:21.718Z"
   },
   {
    "duration": 19,
    "start_time": "2021-09-18T13:14:21.735Z"
   },
   {
    "duration": 25,
    "start_time": "2021-09-18T13:14:21.757Z"
   },
   {
    "duration": 31,
    "start_time": "2021-09-18T13:14:21.785Z"
   },
   {
    "duration": 25,
    "start_time": "2021-09-18T13:14:21.819Z"
   },
   {
    "duration": 48,
    "start_time": "2021-09-18T13:14:21.846Z"
   },
   {
    "duration": 24,
    "start_time": "2021-09-18T13:14:21.896Z"
   },
   {
    "duration": 34,
    "start_time": "2021-09-18T13:14:21.922Z"
   },
   {
    "duration": 40,
    "start_time": "2021-09-18T13:14:21.959Z"
   },
   {
    "duration": 18,
    "start_time": "2021-09-18T13:14:22.001Z"
   },
   {
    "duration": 40,
    "start_time": "2021-09-18T13:14:22.022Z"
   },
   {
    "duration": 37,
    "start_time": "2021-09-18T13:14:22.065Z"
   },
   {
    "duration": 23,
    "start_time": "2021-09-18T13:14:22.104Z"
   },
   {
    "duration": 1155,
    "start_time": "2021-09-18T13:43:49.616Z"
   },
   {
    "duration": 479,
    "start_time": "2021-09-18T13:44:15.232Z"
   },
   {
    "duration": 4,
    "start_time": "2021-09-18T13:44:42.392Z"
   },
   {
    "duration": 186,
    "start_time": "2021-09-18T13:44:42.398Z"
   },
   {
    "duration": 4,
    "start_time": "2021-09-18T13:44:42.586Z"
   },
   {
    "duration": 15,
    "start_time": "2021-09-18T13:44:42.593Z"
   },
   {
    "duration": 22,
    "start_time": "2021-09-18T13:44:42.611Z"
   },
   {
    "duration": 110,
    "start_time": "2021-09-18T13:44:42.636Z"
   },
   {
    "duration": 108,
    "start_time": "2021-09-18T13:44:42.749Z"
   },
   {
    "duration": 133,
    "start_time": "2021-09-18T13:44:42.861Z"
   },
   {
    "duration": 14,
    "start_time": "2021-09-18T13:44:42.997Z"
   },
   {
    "duration": 27,
    "start_time": "2021-09-18T13:44:43.013Z"
   },
   {
    "duration": 48,
    "start_time": "2021-09-18T13:44:43.043Z"
   },
   {
    "duration": 530,
    "start_time": "2021-09-18T13:44:43.094Z"
   },
   {
    "duration": 33,
    "start_time": "2021-09-18T13:44:43.626Z"
   },
   {
    "duration": 180,
    "start_time": "2021-09-18T13:44:43.662Z"
   },
   {
    "duration": 20,
    "start_time": "2021-09-18T13:44:43.845Z"
   },
   {
    "duration": 36,
    "start_time": "2021-09-18T13:44:43.882Z"
   },
   {
    "duration": 90,
    "start_time": "2021-09-18T13:44:43.920Z"
   },
   {
    "duration": 5,
    "start_time": "2021-09-18T13:44:44.012Z"
   },
   {
    "duration": 17,
    "start_time": "2021-09-18T13:44:44.020Z"
   },
   {
    "duration": 184,
    "start_time": "2021-09-18T13:44:44.039Z"
   },
   {
    "duration": 84,
    "start_time": "2021-09-18T13:44:44.225Z"
   },
   {
    "duration": 5,
    "start_time": "2021-09-18T13:44:44.311Z"
   },
   {
    "duration": 20,
    "start_time": "2021-09-18T13:44:44.321Z"
   },
   {
    "duration": 7,
    "start_time": "2021-09-18T13:44:44.344Z"
   },
   {
    "duration": 31,
    "start_time": "2021-09-18T13:44:44.353Z"
   },
   {
    "duration": 196,
    "start_time": "2021-09-18T13:44:44.387Z"
   },
   {
    "duration": 316,
    "start_time": "2021-09-18T13:44:44.586Z"
   },
   {
    "duration": 15,
    "start_time": "2021-09-18T13:44:44.905Z"
   },
   {
    "duration": 14,
    "start_time": "2021-09-18T13:44:44.923Z"
   },
   {
    "duration": 10,
    "start_time": "2021-09-18T13:44:44.940Z"
   },
   {
    "duration": 42,
    "start_time": "2021-09-18T13:44:44.952Z"
   },
   {
    "duration": 8,
    "start_time": "2021-09-18T13:44:44.997Z"
   },
   {
    "duration": 48,
    "start_time": "2021-09-18T13:44:45.007Z"
   },
   {
    "duration": 35,
    "start_time": "2021-09-18T13:44:45.057Z"
   },
   {
    "duration": 22,
    "start_time": "2021-09-18T13:44:45.094Z"
   },
   {
    "duration": 15,
    "start_time": "2021-09-18T13:44:45.119Z"
   },
   {
    "duration": 63,
    "start_time": "2021-09-18T13:44:45.136Z"
   },
   {
    "duration": 22,
    "start_time": "2021-09-18T13:44:45.205Z"
   },
   {
    "duration": 53,
    "start_time": "2021-09-18T13:44:45.229Z"
   },
   {
    "duration": 23,
    "start_time": "2021-09-18T13:44:45.285Z"
   },
   {
    "duration": 462,
    "start_time": "2021-09-18T13:45:37.511Z"
   },
   {
    "duration": 4,
    "start_time": "2021-09-18T13:45:42.299Z"
   },
   {
    "duration": 204,
    "start_time": "2021-09-18T13:45:42.306Z"
   },
   {
    "duration": 4,
    "start_time": "2021-09-18T13:45:42.514Z"
   },
   {
    "duration": 20,
    "start_time": "2021-09-18T13:45:42.521Z"
   },
   {
    "duration": 38,
    "start_time": "2021-09-18T13:45:42.544Z"
   },
   {
    "duration": 80,
    "start_time": "2021-09-18T13:45:42.584Z"
   },
   {
    "duration": 102,
    "start_time": "2021-09-18T13:45:42.683Z"
   },
   {
    "duration": 134,
    "start_time": "2021-09-18T13:45:42.790Z"
   },
   {
    "duration": 16,
    "start_time": "2021-09-18T13:45:42.928Z"
   },
   {
    "duration": 48,
    "start_time": "2021-09-18T13:45:42.948Z"
   },
   {
    "duration": 29,
    "start_time": "2021-09-18T13:45:42.999Z"
   },
   {
    "duration": 551,
    "start_time": "2021-09-18T13:45:43.031Z"
   },
   {
    "duration": 37,
    "start_time": "2021-09-18T13:45:43.585Z"
   },
   {
    "duration": 195,
    "start_time": "2021-09-18T13:45:43.625Z"
   },
   {
    "duration": 23,
    "start_time": "2021-09-18T13:45:43.824Z"
   },
   {
    "duration": 62,
    "start_time": "2021-09-18T13:45:43.850Z"
   },
   {
    "duration": 77,
    "start_time": "2021-09-18T13:45:43.914Z"
   },
   {
    "duration": 5,
    "start_time": "2021-09-18T13:45:43.994Z"
   },
   {
    "duration": 16,
    "start_time": "2021-09-18T13:45:44.002Z"
   },
   {
    "duration": 30,
    "start_time": "2021-09-18T13:45:44.020Z"
   },
   {
    "duration": 71,
    "start_time": "2021-09-18T13:45:44.082Z"
   },
   {
    "duration": 4,
    "start_time": "2021-09-18T13:45:44.155Z"
   },
   {
    "duration": 34,
    "start_time": "2021-09-18T13:45:44.184Z"
   },
   {
    "duration": 6,
    "start_time": "2021-09-18T13:45:44.221Z"
   },
   {
    "duration": 22,
    "start_time": "2021-09-18T13:45:44.229Z"
   },
   {
    "duration": 203,
    "start_time": "2021-09-18T13:45:44.253Z"
   },
   {
    "duration": 317,
    "start_time": "2021-09-18T13:45:44.458Z"
   },
   {
    "duration": 15,
    "start_time": "2021-09-18T13:45:44.782Z"
   },
   {
    "duration": 31,
    "start_time": "2021-09-18T13:45:44.799Z"
   },
   {
    "duration": 25,
    "start_time": "2021-09-18T13:45:44.832Z"
   },
   {
    "duration": 31,
    "start_time": "2021-09-18T13:45:44.859Z"
   },
   {
    "duration": 15,
    "start_time": "2021-09-18T13:45:44.893Z"
   },
   {
    "duration": 36,
    "start_time": "2021-09-18T13:45:44.911Z"
   },
   {
    "duration": 39,
    "start_time": "2021-09-18T13:45:44.950Z"
   },
   {
    "duration": 23,
    "start_time": "2021-09-18T13:45:44.991Z"
   },
   {
    "duration": 52,
    "start_time": "2021-09-18T13:45:45.017Z"
   },
   {
    "duration": 20,
    "start_time": "2021-09-18T13:45:45.071Z"
   },
   {
    "duration": 35,
    "start_time": "2021-09-18T13:45:45.093Z"
   },
   {
    "duration": 37,
    "start_time": "2021-09-18T13:45:45.130Z"
   },
   {
    "duration": 20,
    "start_time": "2021-09-18T13:45:45.182Z"
   },
   {
    "duration": 8,
    "start_time": "2021-09-18T15:06:01.234Z"
   },
   {
    "duration": 24,
    "start_time": "2021-09-18T15:06:18.219Z"
   },
   {
    "duration": 21,
    "start_time": "2021-09-18T15:07:11.235Z"
   },
   {
    "duration": 17,
    "start_time": "2021-09-18T15:11:06.662Z"
   },
   {
    "duration": 13,
    "start_time": "2021-09-18T15:11:46.380Z"
   },
   {
    "duration": 4,
    "start_time": "2021-09-18T15:12:17.785Z"
   },
   {
    "duration": 191,
    "start_time": "2021-09-18T15:12:17.792Z"
   },
   {
    "duration": 4,
    "start_time": "2021-09-18T15:12:17.986Z"
   },
   {
    "duration": 17,
    "start_time": "2021-09-18T15:12:17.992Z"
   },
   {
    "duration": 24,
    "start_time": "2021-09-18T15:12:18.011Z"
   },
   {
    "duration": 104,
    "start_time": "2021-09-18T15:12:18.037Z"
   },
   {
    "duration": 108,
    "start_time": "2021-09-18T15:12:18.144Z"
   },
   {
    "duration": 143,
    "start_time": "2021-09-18T15:12:18.256Z"
   },
   {
    "duration": 14,
    "start_time": "2021-09-18T15:12:18.402Z"
   },
   {
    "duration": 63,
    "start_time": "2021-09-18T15:12:18.418Z"
   },
   {
    "duration": 29,
    "start_time": "2021-09-18T15:12:18.483Z"
   },
   {
    "duration": 523,
    "start_time": "2021-09-18T15:12:18.514Z"
   },
   {
    "duration": 45,
    "start_time": "2021-09-18T15:12:19.039Z"
   },
   {
    "duration": 167,
    "start_time": "2021-09-18T15:12:19.086Z"
   },
   {
    "duration": 36,
    "start_time": "2021-09-18T15:12:19.256Z"
   },
   {
    "duration": 37,
    "start_time": "2021-09-18T15:12:19.295Z"
   },
   {
    "duration": 83,
    "start_time": "2021-09-18T15:12:19.335Z"
   },
   {
    "duration": 6,
    "start_time": "2021-09-18T15:12:19.420Z"
   },
   {
    "duration": 12,
    "start_time": "2021-09-18T15:12:19.429Z"
   },
   {
    "duration": 56,
    "start_time": "2021-09-18T15:12:19.444Z"
   },
   {
    "duration": 81,
    "start_time": "2021-09-18T15:12:19.503Z"
   },
   {
    "duration": 5,
    "start_time": "2021-09-18T15:12:19.587Z"
   },
   {
    "duration": 21,
    "start_time": "2021-09-18T15:12:19.597Z"
   },
   {
    "duration": 7,
    "start_time": "2021-09-18T15:12:19.621Z"
   },
   {
    "duration": 9,
    "start_time": "2021-09-18T15:12:19.630Z"
   },
   {
    "duration": 221,
    "start_time": "2021-09-18T15:12:19.642Z"
   },
   {
    "duration": 317,
    "start_time": "2021-09-18T15:12:19.866Z"
   },
   {
    "duration": 15,
    "start_time": "2021-09-18T15:12:20.185Z"
   },
   {
    "duration": 21,
    "start_time": "2021-09-18T15:12:20.202Z"
   },
   {
    "duration": 9,
    "start_time": "2021-09-18T15:12:20.225Z"
   },
   {
    "duration": 22,
    "start_time": "2021-09-18T15:12:20.236Z"
   },
   {
    "duration": 27,
    "start_time": "2021-09-18T15:12:20.261Z"
   },
   {
    "duration": 29,
    "start_time": "2021-09-18T15:12:20.291Z"
   },
   {
    "duration": 23,
    "start_time": "2021-09-18T15:12:20.322Z"
   },
   {
    "duration": 53,
    "start_time": "2021-09-18T15:12:20.350Z"
   },
   {
    "duration": 20,
    "start_time": "2021-09-18T15:12:20.405Z"
   },
   {
    "duration": 55,
    "start_time": "2021-09-18T15:12:20.427Z"
   },
   {
    "duration": 24,
    "start_time": "2021-09-18T15:12:20.485Z"
   },
   {
    "duration": 30,
    "start_time": "2021-09-18T15:12:20.512Z"
   },
   {
    "duration": 48,
    "start_time": "2021-09-18T15:12:20.544Z"
   },
   {
    "duration": 19,
    "start_time": "2021-09-18T15:18:20.702Z"
   },
   {
    "duration": 19,
    "start_time": "2021-09-18T15:19:27.328Z"
   },
   {
    "duration": 4,
    "start_time": "2021-09-18T15:20:24.700Z"
   },
   {
    "duration": 205,
    "start_time": "2021-09-18T15:20:24.708Z"
   },
   {
    "duration": 4,
    "start_time": "2021-09-18T15:20:24.918Z"
   },
   {
    "duration": 14,
    "start_time": "2021-09-18T15:20:24.926Z"
   },
   {
    "duration": 51,
    "start_time": "2021-09-18T15:20:24.943Z"
   },
   {
    "duration": 93,
    "start_time": "2021-09-18T15:20:24.998Z"
   },
   {
    "duration": 101,
    "start_time": "2021-09-18T15:20:25.094Z"
   },
   {
    "duration": 134,
    "start_time": "2021-09-18T15:20:25.198Z"
   },
   {
    "duration": 14,
    "start_time": "2021-09-18T15:20:25.337Z"
   },
   {
    "duration": 46,
    "start_time": "2021-09-18T15:20:25.355Z"
   },
   {
    "duration": 25,
    "start_time": "2021-09-18T15:20:25.403Z"
   },
   {
    "duration": 516,
    "start_time": "2021-09-18T15:20:25.430Z"
   },
   {
    "duration": 43,
    "start_time": "2021-09-18T15:20:25.948Z"
   },
   {
    "duration": 179,
    "start_time": "2021-09-18T15:20:25.994Z"
   },
   {
    "duration": 21,
    "start_time": "2021-09-18T15:20:26.183Z"
   },
   {
    "duration": 42,
    "start_time": "2021-09-18T15:20:26.208Z"
   },
   {
    "duration": 106,
    "start_time": "2021-09-18T15:20:26.253Z"
   },
   {
    "duration": 24,
    "start_time": "2021-09-18T15:20:26.362Z"
   },
   {
    "duration": 17,
    "start_time": "2021-09-18T15:20:26.389Z"
   },
   {
    "duration": 29,
    "start_time": "2021-09-18T15:20:26.408Z"
   },
   {
    "duration": 106,
    "start_time": "2021-09-18T15:20:26.440Z"
   },
   {
    "duration": 6,
    "start_time": "2021-09-18T15:20:26.548Z"
   },
   {
    "duration": 35,
    "start_time": "2021-09-18T15:20:26.557Z"
   },
   {
    "duration": 7,
    "start_time": "2021-09-18T15:20:26.595Z"
   },
   {
    "duration": 16,
    "start_time": "2021-09-18T15:20:26.605Z"
   },
   {
    "duration": 385,
    "start_time": "2021-09-18T15:20:26.624Z"
   },
   {
    "duration": 323,
    "start_time": "2021-09-18T15:20:27.014Z"
   },
   {
    "duration": 14,
    "start_time": "2021-09-18T15:20:27.340Z"
   },
   {
    "duration": 32,
    "start_time": "2021-09-18T15:20:27.357Z"
   },
   {
    "duration": 15,
    "start_time": "2021-09-18T15:20:27.391Z"
   },
   {
    "duration": 17,
    "start_time": "2021-09-18T15:20:27.408Z"
   },
   {
    "duration": 14,
    "start_time": "2021-09-18T15:20:27.427Z"
   },
   {
    "duration": 39,
    "start_time": "2021-09-18T15:20:27.443Z"
   },
   {
    "duration": 22,
    "start_time": "2021-09-18T15:20:27.486Z"
   },
   {
    "duration": 19,
    "start_time": "2021-09-18T15:20:27.510Z"
   },
   {
    "duration": 60,
    "start_time": "2021-09-18T15:20:27.532Z"
   },
   {
    "duration": 23,
    "start_time": "2021-09-18T15:20:27.595Z"
   },
   {
    "duration": 19,
    "start_time": "2021-09-18T15:20:27.622Z"
   },
   {
    "duration": 20,
    "start_time": "2021-09-18T15:20:27.686Z"
   },
   {
    "duration": 21,
    "start_time": "2021-09-18T15:20:27.708Z"
   },
   {
    "duration": 5,
    "start_time": "2021-09-18T15:41:51.787Z"
   },
   {
    "duration": 207,
    "start_time": "2021-09-18T15:41:51.798Z"
   },
   {
    "duration": 5,
    "start_time": "2021-09-18T15:41:52.009Z"
   },
   {
    "duration": 15,
    "start_time": "2021-09-18T15:41:52.018Z"
   },
   {
    "duration": 51,
    "start_time": "2021-09-18T15:41:52.037Z"
   },
   {
    "duration": 93,
    "start_time": "2021-09-18T15:41:52.091Z"
   },
   {
    "duration": 104,
    "start_time": "2021-09-18T15:41:52.187Z"
   },
   {
    "duration": 131,
    "start_time": "2021-09-18T15:41:52.294Z"
   },
   {
    "duration": 13,
    "start_time": "2021-09-18T15:41:52.431Z"
   },
   {
    "duration": 48,
    "start_time": "2021-09-18T15:41:52.447Z"
   },
   {
    "duration": 27,
    "start_time": "2021-09-18T15:41:52.497Z"
   },
   {
    "duration": 520,
    "start_time": "2021-09-18T15:41:52.527Z"
   },
   {
    "duration": 42,
    "start_time": "2021-09-18T15:41:53.050Z"
   },
   {
    "duration": 170,
    "start_time": "2021-09-18T15:41:53.094Z"
   },
   {
    "duration": 30,
    "start_time": "2021-09-18T15:41:53.267Z"
   },
   {
    "duration": 39,
    "start_time": "2021-09-18T15:41:53.299Z"
   },
   {
    "duration": 88,
    "start_time": "2021-09-18T15:41:53.340Z"
   },
   {
    "duration": 5,
    "start_time": "2021-09-18T15:41:53.431Z"
   },
   {
    "duration": 18,
    "start_time": "2021-09-18T15:41:53.439Z"
   },
   {
    "duration": 43,
    "start_time": "2021-09-18T15:41:53.460Z"
   },
   {
    "duration": 85,
    "start_time": "2021-09-18T15:41:53.505Z"
   },
   {
    "duration": 7,
    "start_time": "2021-09-18T15:41:53.593Z"
   },
   {
    "duration": 111,
    "start_time": "2021-09-18T15:41:53.603Z"
   },
   {
    "duration": 45,
    "start_time": "2021-09-18T15:41:53.722Z"
   },
   {
    "duration": 57,
    "start_time": "2021-09-18T15:41:53.770Z"
   },
   {
    "duration": 181,
    "start_time": "2021-09-18T15:41:53.830Z"
   },
   {
    "duration": 318,
    "start_time": "2021-09-18T15:41:54.014Z"
   },
   {
    "duration": 14,
    "start_time": "2021-09-18T15:41:54.334Z"
   },
   {
    "duration": 63,
    "start_time": "2021-09-18T15:41:54.350Z"
   },
   {
    "duration": 15,
    "start_time": "2021-09-18T15:41:54.416Z"
   },
   {
    "duration": 20,
    "start_time": "2021-09-18T15:41:54.434Z"
   },
   {
    "duration": 62,
    "start_time": "2021-09-18T15:41:54.457Z"
   },
   {
    "duration": 37,
    "start_time": "2021-09-18T15:41:54.522Z"
   },
   {
    "duration": 28,
    "start_time": "2021-09-18T15:41:54.562Z"
   },
   {
    "duration": 130,
    "start_time": "2021-09-18T15:41:54.592Z"
   },
   {
    "duration": 20,
    "start_time": "2021-09-18T15:41:54.724Z"
   },
   {
    "duration": 24,
    "start_time": "2021-09-18T15:41:54.746Z"
   },
   {
    "duration": 21,
    "start_time": "2021-09-18T15:41:54.781Z"
   },
   {
    "duration": 25,
    "start_time": "2021-09-18T15:41:54.805Z"
   },
   {
    "duration": 50,
    "start_time": "2021-09-18T15:41:54.832Z"
   },
   {
    "duration": 5,
    "start_time": "2021-09-18T15:42:59.421Z"
   },
   {
    "duration": 197,
    "start_time": "2021-09-18T15:42:59.428Z"
   },
   {
    "duration": 4,
    "start_time": "2021-09-18T15:42:59.627Z"
   },
   {
    "duration": 21,
    "start_time": "2021-09-18T15:42:59.633Z"
   },
   {
    "duration": 32,
    "start_time": "2021-09-18T15:42:59.657Z"
   },
   {
    "duration": 75,
    "start_time": "2021-09-18T15:42:59.691Z"
   },
   {
    "duration": 98,
    "start_time": "2021-09-18T15:42:59.784Z"
   },
   {
    "duration": 127,
    "start_time": "2021-09-18T15:42:59.885Z"
   },
   {
    "duration": 13,
    "start_time": "2021-09-18T15:43:00.014Z"
   },
   {
    "duration": 61,
    "start_time": "2021-09-18T15:43:00.029Z"
   },
   {
    "duration": 31,
    "start_time": "2021-09-18T15:43:00.093Z"
   },
   {
    "duration": 660,
    "start_time": "2021-09-18T15:43:00.127Z"
   },
   {
    "duration": 51,
    "start_time": "2021-09-18T15:43:00.790Z"
   },
   {
    "duration": 192,
    "start_time": "2021-09-18T15:43:00.844Z"
   },
   {
    "duration": 20,
    "start_time": "2021-09-18T15:43:01.038Z"
   },
   {
    "duration": 61,
    "start_time": "2021-09-18T15:43:01.060Z"
   },
   {
    "duration": 83,
    "start_time": "2021-09-18T15:43:01.124Z"
   },
   {
    "duration": 5,
    "start_time": "2021-09-18T15:43:01.210Z"
   },
   {
    "duration": 22,
    "start_time": "2021-09-18T15:43:01.220Z"
   },
   {
    "duration": 50,
    "start_time": "2021-09-18T15:43:01.245Z"
   },
   {
    "duration": 86,
    "start_time": "2021-09-18T15:43:01.298Z"
   },
   {
    "duration": 5,
    "start_time": "2021-09-18T15:43:01.387Z"
   },
   {
    "duration": 45,
    "start_time": "2021-09-18T15:43:01.395Z"
   },
   {
    "duration": 65,
    "start_time": "2021-09-18T15:43:01.443Z"
   },
   {
    "duration": 117,
    "start_time": "2021-09-18T15:43:01.511Z"
   },
   {
    "duration": 231,
    "start_time": "2021-09-18T15:43:01.631Z"
   },
   {
    "duration": 318,
    "start_time": "2021-09-18T15:43:01.864Z"
   },
   {
    "duration": 14,
    "start_time": "2021-09-18T15:43:02.185Z"
   },
   {
    "duration": 19,
    "start_time": "2021-09-18T15:43:02.201Z"
   },
   {
    "duration": 8,
    "start_time": "2021-09-18T15:43:02.224Z"
   },
   {
    "duration": 18,
    "start_time": "2021-09-18T15:43:02.235Z"
   },
   {
    "duration": 10,
    "start_time": "2021-09-18T15:43:02.283Z"
   },
   {
    "duration": 28,
    "start_time": "2021-09-18T15:43:02.296Z"
   },
   {
    "duration": 86,
    "start_time": "2021-09-18T15:43:02.326Z"
   },
   {
    "duration": 74,
    "start_time": "2021-09-18T15:43:02.415Z"
   },
   {
    "duration": 27,
    "start_time": "2021-09-18T15:43:02.492Z"
   },
   {
    "duration": 22,
    "start_time": "2021-09-18T15:43:02.521Z"
   },
   {
    "duration": 53,
    "start_time": "2021-09-18T15:43:02.545Z"
   },
   {
    "duration": 95,
    "start_time": "2021-09-18T15:43:02.600Z"
   },
   {
    "duration": 23,
    "start_time": "2021-09-18T15:43:02.698Z"
   },
   {
    "duration": 2044,
    "start_time": "2021-09-18T15:43:41.224Z"
   },
   {
    "duration": 193,
    "start_time": "2021-09-18T15:43:43.271Z"
   },
   {
    "duration": 4,
    "start_time": "2021-09-18T15:43:43.468Z"
   },
   {
    "duration": 20,
    "start_time": "2021-09-18T15:43:43.475Z"
   },
   {
    "duration": 23,
    "start_time": "2021-09-18T15:43:43.497Z"
   },
   {
    "duration": 122,
    "start_time": "2021-09-18T15:43:43.523Z"
   },
   {
    "duration": 114,
    "start_time": "2021-09-18T15:43:43.648Z"
   },
   {
    "duration": 140,
    "start_time": "2021-09-18T15:43:43.767Z"
   },
   {
    "duration": 14,
    "start_time": "2021-09-18T15:43:43.911Z"
   },
   {
    "duration": 29,
    "start_time": "2021-09-18T15:43:43.928Z"
   },
   {
    "duration": 27,
    "start_time": "2021-09-18T15:43:43.983Z"
   },
   {
    "duration": 705,
    "start_time": "2021-09-18T15:43:44.013Z"
   },
   {
    "duration": 35,
    "start_time": "2021-09-18T15:43:44.722Z"
   },
   {
    "duration": 197,
    "start_time": "2021-09-18T15:43:44.760Z"
   },
   {
    "duration": 36,
    "start_time": "2021-09-18T15:43:44.960Z"
   },
   {
    "duration": 49,
    "start_time": "2021-09-18T15:43:44.998Z"
   },
   {
    "duration": 123,
    "start_time": "2021-09-18T15:43:45.049Z"
   },
   {
    "duration": 11,
    "start_time": "2021-09-18T15:43:45.175Z"
   },
   {
    "duration": 12,
    "start_time": "2021-09-18T15:43:45.190Z"
   },
   {
    "duration": 28,
    "start_time": "2021-09-18T15:43:45.204Z"
   },
   {
    "duration": 105,
    "start_time": "2021-09-18T15:43:45.234Z"
   },
   {
    "duration": 5,
    "start_time": "2021-09-18T15:43:45.341Z"
   },
   {
    "duration": 43,
    "start_time": "2021-09-18T15:43:45.351Z"
   },
   {
    "duration": 6,
    "start_time": "2021-09-18T15:43:45.398Z"
   },
   {
    "duration": 17,
    "start_time": "2021-09-18T15:43:45.406Z"
   },
   {
    "duration": 763,
    "start_time": "2021-09-18T15:43:45.426Z"
   },
   {
    "duration": 451,
    "start_time": "2021-09-18T15:43:46.191Z"
   },
   {
    "duration": 16,
    "start_time": "2021-09-18T15:43:46.644Z"
   },
   {
    "duration": 43,
    "start_time": "2021-09-18T15:43:46.684Z"
   },
   {
    "duration": 6,
    "start_time": "2021-09-18T15:43:46.730Z"
   },
   {
    "duration": 21,
    "start_time": "2021-09-18T15:43:46.739Z"
   },
   {
    "duration": 9,
    "start_time": "2021-09-18T15:43:46.763Z"
   },
   {
    "duration": 29,
    "start_time": "2021-09-18T15:43:46.775Z"
   },
   {
    "duration": 23,
    "start_time": "2021-09-18T15:43:46.806Z"
   },
   {
    "duration": 51,
    "start_time": "2021-09-18T15:43:46.831Z"
   },
   {
    "duration": 20,
    "start_time": "2021-09-18T15:43:46.885Z"
   },
   {
    "duration": 25,
    "start_time": "2021-09-18T15:43:46.908Z"
   },
   {
    "duration": 59,
    "start_time": "2021-09-18T15:43:46.936Z"
   },
   {
    "duration": 26,
    "start_time": "2021-09-18T15:43:46.997Z"
   },
   {
    "duration": 16,
    "start_time": "2021-09-18T15:43:47.025Z"
   },
   {
    "duration": 5,
    "start_time": "2021-09-18T15:44:44.564Z"
   },
   {
    "duration": 188,
    "start_time": "2021-09-18T15:44:44.572Z"
   },
   {
    "duration": 4,
    "start_time": "2021-09-18T15:44:44.763Z"
   },
   {
    "duration": 10,
    "start_time": "2021-09-18T15:44:44.783Z"
   },
   {
    "duration": 21,
    "start_time": "2021-09-18T15:44:44.795Z"
   },
   {
    "duration": 98,
    "start_time": "2021-09-18T15:44:44.818Z"
   },
   {
    "duration": 102,
    "start_time": "2021-09-18T15:44:44.918Z"
   },
   {
    "duration": 125,
    "start_time": "2021-09-18T15:44:45.024Z"
   },
   {
    "duration": 14,
    "start_time": "2021-09-18T15:44:45.152Z"
   },
   {
    "duration": 26,
    "start_time": "2021-09-18T15:44:45.183Z"
   },
   {
    "duration": 24,
    "start_time": "2021-09-18T15:44:45.211Z"
   },
   {
    "duration": 520,
    "start_time": "2021-09-18T15:44:45.237Z"
   },
   {
    "duration": 42,
    "start_time": "2021-09-18T15:44:45.760Z"
   },
   {
    "duration": 173,
    "start_time": "2021-09-18T15:44:45.804Z"
   },
   {
    "duration": 19,
    "start_time": "2021-09-18T15:44:45.982Z"
   },
   {
    "duration": 38,
    "start_time": "2021-09-18T15:44:46.004Z"
   },
   {
    "duration": 101,
    "start_time": "2021-09-18T15:44:46.044Z"
   },
   {
    "duration": 5,
    "start_time": "2021-09-18T15:44:46.148Z"
   },
   {
    "duration": 32,
    "start_time": "2021-09-18T15:44:46.155Z"
   },
   {
    "duration": 27,
    "start_time": "2021-09-18T15:44:46.189Z"
   },
   {
    "duration": 84,
    "start_time": "2021-09-18T15:44:46.218Z"
   },
   {
    "duration": 6,
    "start_time": "2021-09-18T15:44:46.305Z"
   },
   {
    "duration": 20,
    "start_time": "2021-09-18T15:44:46.319Z"
   },
   {
    "duration": 5,
    "start_time": "2021-09-18T15:44:46.343Z"
   },
   {
    "duration": 10,
    "start_time": "2021-09-18T15:44:46.384Z"
   },
   {
    "duration": 338,
    "start_time": "2021-09-18T15:44:46.397Z"
   },
   {
    "duration": 316,
    "start_time": "2021-09-18T15:44:46.738Z"
   },
   {
    "duration": 27,
    "start_time": "2021-09-18T15:44:47.057Z"
   },
   {
    "duration": 15,
    "start_time": "2021-09-18T15:44:47.087Z"
   },
   {
    "duration": 8,
    "start_time": "2021-09-18T15:44:47.105Z"
   },
   {
    "duration": 23,
    "start_time": "2021-09-18T15:44:47.115Z"
   },
   {
    "duration": 10,
    "start_time": "2021-09-18T15:44:47.141Z"
   },
   {
    "duration": 24,
    "start_time": "2021-09-18T15:44:47.184Z"
   },
   {
    "duration": 23,
    "start_time": "2021-09-18T15:44:47.210Z"
   },
   {
    "duration": 60,
    "start_time": "2021-09-18T15:44:47.236Z"
   },
   {
    "duration": 21,
    "start_time": "2021-09-18T15:44:47.302Z"
   },
   {
    "duration": 66,
    "start_time": "2021-09-18T15:44:47.326Z"
   },
   {
    "duration": 21,
    "start_time": "2021-09-18T15:44:47.394Z"
   },
   {
    "duration": 65,
    "start_time": "2021-09-18T15:44:47.418Z"
   },
   {
    "duration": 21,
    "start_time": "2021-09-18T15:44:47.486Z"
   },
   {
    "duration": 5,
    "start_time": "2021-09-18T15:45:33.293Z"
   },
   {
    "duration": 216,
    "start_time": "2021-09-18T15:45:33.302Z"
   },
   {
    "duration": 3,
    "start_time": "2021-09-18T15:45:33.522Z"
   },
   {
    "duration": 16,
    "start_time": "2021-09-18T15:45:33.529Z"
   },
   {
    "duration": 43,
    "start_time": "2021-09-18T15:45:33.548Z"
   },
   {
    "duration": 73,
    "start_time": "2021-09-18T15:45:33.593Z"
   },
   {
    "duration": 113,
    "start_time": "2021-09-18T15:45:33.669Z"
   },
   {
    "duration": 131,
    "start_time": "2021-09-18T15:45:33.787Z"
   },
   {
    "duration": 13,
    "start_time": "2021-09-18T15:45:33.922Z"
   },
   {
    "duration": 46,
    "start_time": "2021-09-18T15:45:33.938Z"
   },
   {
    "duration": 25,
    "start_time": "2021-09-18T15:45:33.986Z"
   },
   {
    "duration": 511,
    "start_time": "2021-09-18T15:45:34.014Z"
   },
   {
    "duration": 32,
    "start_time": "2021-09-18T15:45:34.527Z"
   },
   {
    "duration": 185,
    "start_time": "2021-09-18T15:45:34.561Z"
   },
   {
    "duration": 18,
    "start_time": "2021-09-18T15:45:34.749Z"
   },
   {
    "duration": 39,
    "start_time": "2021-09-18T15:45:34.782Z"
   },
   {
    "duration": 99,
    "start_time": "2021-09-18T15:45:34.824Z"
   },
   {
    "duration": 6,
    "start_time": "2021-09-18T15:45:34.926Z"
   },
   {
    "duration": 16,
    "start_time": "2021-09-18T15:45:34.934Z"
   },
   {
    "duration": 48,
    "start_time": "2021-09-18T15:45:34.952Z"
   },
   {
    "duration": 83,
    "start_time": "2021-09-18T15:45:35.003Z"
   },
   {
    "duration": 4,
    "start_time": "2021-09-18T15:45:35.089Z"
   },
   {
    "duration": 20,
    "start_time": "2021-09-18T15:45:35.098Z"
   },
   {
    "duration": 7,
    "start_time": "2021-09-18T15:45:35.121Z"
   },
   {
    "duration": 13,
    "start_time": "2021-09-18T15:45:35.131Z"
   },
   {
    "duration": 193,
    "start_time": "2021-09-18T15:45:35.182Z"
   },
   {
    "duration": 319,
    "start_time": "2021-09-18T15:45:35.378Z"
   },
   {
    "duration": 15,
    "start_time": "2021-09-18T15:45:35.699Z"
   },
   {
    "duration": 32,
    "start_time": "2021-09-18T15:45:35.717Z"
   },
   {
    "duration": 18,
    "start_time": "2021-09-18T15:45:35.751Z"
   },
   {
    "duration": 32,
    "start_time": "2021-09-18T15:45:35.771Z"
   },
   {
    "duration": 10,
    "start_time": "2021-09-18T15:45:35.806Z"
   },
   {
    "duration": 33,
    "start_time": "2021-09-18T15:45:35.818Z"
   },
   {
    "duration": 26,
    "start_time": "2021-09-18T15:45:35.857Z"
   },
   {
    "duration": 19,
    "start_time": "2021-09-18T15:45:35.885Z"
   },
   {
    "duration": 24,
    "start_time": "2021-09-18T15:45:35.906Z"
   },
   {
    "duration": 53,
    "start_time": "2021-09-18T15:45:35.933Z"
   },
   {
    "duration": 21,
    "start_time": "2021-09-18T15:45:35.988Z"
   },
   {
    "duration": 25,
    "start_time": "2021-09-18T15:45:36.011Z"
   },
   {
    "duration": 62,
    "start_time": "2021-09-18T15:45:36.038Z"
   },
   {
    "duration": 1642,
    "start_time": "2021-09-18T15:46:24.340Z"
   },
   {
    "duration": 185,
    "start_time": "2021-09-18T15:46:25.986Z"
   },
   {
    "duration": 10,
    "start_time": "2021-09-18T15:46:26.176Z"
   },
   {
    "duration": 13,
    "start_time": "2021-09-18T15:46:26.189Z"
   },
   {
    "duration": 24,
    "start_time": "2021-09-18T15:46:26.205Z"
   },
   {
    "duration": 118,
    "start_time": "2021-09-18T15:46:26.232Z"
   },
   {
    "duration": 138,
    "start_time": "2021-09-18T15:46:26.353Z"
   },
   {
    "duration": 150,
    "start_time": "2021-09-18T15:46:26.497Z"
   },
   {
    "duration": 14,
    "start_time": "2021-09-18T15:46:26.651Z"
   },
   {
    "duration": 210,
    "start_time": "2021-09-18T15:46:26.682Z"
   },
   {
    "duration": 167,
    "start_time": "2021-09-18T15:46:26.894Z"
   },
   {
    "duration": 762,
    "start_time": "2021-09-18T15:46:27.063Z"
   },
   {
    "duration": 34,
    "start_time": "2021-09-18T15:46:27.827Z"
   },
   {
    "duration": 172,
    "start_time": "2021-09-18T15:46:27.882Z"
   },
   {
    "duration": 31,
    "start_time": "2021-09-18T15:46:28.057Z"
   },
   {
    "duration": 46,
    "start_time": "2021-09-18T15:46:28.091Z"
   },
   {
    "duration": 91,
    "start_time": "2021-09-18T15:46:28.140Z"
   },
   {
    "duration": 6,
    "start_time": "2021-09-18T15:46:28.233Z"
   },
   {
    "duration": 22,
    "start_time": "2021-09-18T15:46:28.241Z"
   },
   {
    "duration": 43,
    "start_time": "2021-09-18T15:46:28.265Z"
   },
   {
    "duration": 76,
    "start_time": "2021-09-18T15:46:28.310Z"
   },
   {
    "duration": 5,
    "start_time": "2021-09-18T15:46:28.389Z"
   },
   {
    "duration": 28,
    "start_time": "2021-09-18T15:46:28.399Z"
   },
   {
    "duration": 6,
    "start_time": "2021-09-18T15:46:28.430Z"
   },
   {
    "duration": 16,
    "start_time": "2021-09-18T15:46:28.439Z"
   },
   {
    "duration": 754,
    "start_time": "2021-09-18T15:46:28.458Z"
   },
   {
    "duration": 439,
    "start_time": "2021-09-18T15:46:29.214Z"
   },
   {
    "duration": 15,
    "start_time": "2021-09-18T15:46:29.655Z"
   },
   {
    "duration": 14,
    "start_time": "2021-09-18T15:46:29.683Z"
   },
   {
    "duration": 16,
    "start_time": "2021-09-18T15:46:29.700Z"
   },
   {
    "duration": 29,
    "start_time": "2021-09-18T15:46:29.718Z"
   },
   {
    "duration": 9,
    "start_time": "2021-09-18T15:46:29.749Z"
   },
   {
    "duration": 985,
    "start_time": "2021-09-18T15:46:29.760Z"
   },
   {
    "duration": -2123,
    "start_time": "2021-09-18T15:46:32.871Z"
   },
   {
    "duration": -2124,
    "start_time": "2021-09-18T15:46:32.874Z"
   },
   {
    "duration": -2126,
    "start_time": "2021-09-18T15:46:32.877Z"
   },
   {
    "duration": -2128,
    "start_time": "2021-09-18T15:46:32.880Z"
   },
   {
    "duration": -2129,
    "start_time": "2021-09-18T15:46:32.883Z"
   },
   {
    "duration": -2130,
    "start_time": "2021-09-18T15:46:32.886Z"
   },
   {
    "duration": -2131,
    "start_time": "2021-09-18T15:46:32.888Z"
   },
   {
    "duration": 4,
    "start_time": "2021-09-18T15:49:02.061Z"
   },
   {
    "duration": 197,
    "start_time": "2021-09-18T15:49:02.068Z"
   },
   {
    "duration": 4,
    "start_time": "2021-09-18T15:49:02.268Z"
   },
   {
    "duration": 10,
    "start_time": "2021-09-18T15:49:02.283Z"
   },
   {
    "duration": 24,
    "start_time": "2021-09-18T15:49:02.296Z"
   },
   {
    "duration": 111,
    "start_time": "2021-09-18T15:49:02.323Z"
   },
   {
    "duration": 101,
    "start_time": "2021-09-18T15:49:02.436Z"
   },
   {
    "duration": 128,
    "start_time": "2021-09-18T15:49:02.540Z"
   },
   {
    "duration": 17,
    "start_time": "2021-09-18T15:49:02.673Z"
   },
   {
    "duration": 42,
    "start_time": "2021-09-18T15:49:02.694Z"
   },
   {
    "duration": 43,
    "start_time": "2021-09-18T15:49:02.739Z"
   },
   {
    "duration": 517,
    "start_time": "2021-09-18T15:49:02.786Z"
   },
   {
    "duration": 32,
    "start_time": "2021-09-18T15:49:03.306Z"
   },
   {
    "duration": 178,
    "start_time": "2021-09-18T15:49:03.341Z"
   },
   {
    "duration": 19,
    "start_time": "2021-09-18T15:49:03.521Z"
   },
   {
    "duration": 60,
    "start_time": "2021-09-18T15:49:03.542Z"
   },
   {
    "duration": 78,
    "start_time": "2021-09-18T15:49:03.605Z"
   },
   {
    "duration": 5,
    "start_time": "2021-09-18T15:49:03.686Z"
   },
   {
    "duration": 13,
    "start_time": "2021-09-18T15:49:03.694Z"
   },
   {
    "duration": 28,
    "start_time": "2021-09-18T15:49:03.709Z"
   },
   {
    "duration": 101,
    "start_time": "2021-09-18T15:49:03.739Z"
   },
   {
    "duration": 4,
    "start_time": "2021-09-18T15:49:03.843Z"
   },
   {
    "duration": 41,
    "start_time": "2021-09-18T15:49:03.849Z"
   },
   {
    "duration": 6,
    "start_time": "2021-09-18T15:49:03.892Z"
   },
   {
    "duration": 9,
    "start_time": "2021-09-18T15:49:03.900Z"
   },
   {
    "duration": 320,
    "start_time": "2021-09-18T15:49:03.912Z"
   },
   {
    "duration": 320,
    "start_time": "2021-09-18T15:49:04.240Z"
   },
   {
    "duration": 24,
    "start_time": "2021-09-18T15:49:04.564Z"
   },
   {
    "duration": 15,
    "start_time": "2021-09-18T15:49:04.592Z"
   },
   {
    "duration": 12,
    "start_time": "2021-09-18T15:49:04.611Z"
   },
   {
    "duration": 21,
    "start_time": "2021-09-18T15:49:04.625Z"
   },
   {
    "duration": 38,
    "start_time": "2021-09-18T15:49:04.649Z"
   },
   {
    "duration": 24,
    "start_time": "2021-09-18T15:49:04.690Z"
   },
   {
    "duration": 16,
    "start_time": "2021-09-18T15:49:04.717Z"
   },
   {
    "duration": 59,
    "start_time": "2021-09-18T15:49:04.738Z"
   },
   {
    "duration": 27,
    "start_time": "2021-09-18T15:49:04.809Z"
   },
   {
    "duration": 48,
    "start_time": "2021-09-18T15:49:04.838Z"
   },
   {
    "duration": 20,
    "start_time": "2021-09-18T15:49:04.889Z"
   },
   {
    "duration": 24,
    "start_time": "2021-09-18T15:49:04.912Z"
   },
   {
    "duration": 57,
    "start_time": "2021-09-18T15:49:04.938Z"
   },
   {
    "duration": 1772,
    "start_time": "2021-09-18T15:50:07.505Z"
   },
   {
    "duration": 184,
    "start_time": "2021-09-18T15:50:09.280Z"
   },
   {
    "duration": 4,
    "start_time": "2021-09-18T15:50:09.467Z"
   },
   {
    "duration": 21,
    "start_time": "2021-09-18T15:50:09.474Z"
   },
   {
    "duration": 25,
    "start_time": "2021-09-18T15:50:09.498Z"
   },
   {
    "duration": 103,
    "start_time": "2021-09-18T15:50:09.525Z"
   },
   {
    "duration": 100,
    "start_time": "2021-09-18T15:50:09.630Z"
   },
   {
    "duration": 124,
    "start_time": "2021-09-18T15:50:09.734Z"
   },
   {
    "duration": 22,
    "start_time": "2021-09-18T15:50:09.860Z"
   },
   {
    "duration": 37,
    "start_time": "2021-09-18T15:50:09.885Z"
   },
   {
    "duration": 25,
    "start_time": "2021-09-18T15:50:09.925Z"
   },
   {
    "duration": 719,
    "start_time": "2021-09-18T15:50:09.952Z"
   },
   {
    "duration": 38,
    "start_time": "2021-09-18T15:50:10.673Z"
   },
   {
    "duration": 187,
    "start_time": "2021-09-18T15:50:10.713Z"
   },
   {
    "duration": 19,
    "start_time": "2021-09-18T15:50:10.902Z"
   },
   {
    "duration": 61,
    "start_time": "2021-09-18T15:50:10.923Z"
   },
   {
    "duration": 75,
    "start_time": "2021-09-18T15:50:10.987Z"
   },
   {
    "duration": 20,
    "start_time": "2021-09-18T15:50:11.064Z"
   },
   {
    "duration": 17,
    "start_time": "2021-09-18T15:50:11.087Z"
   },
   {
    "duration": 29,
    "start_time": "2021-09-18T15:50:11.107Z"
   },
   {
    "duration": 97,
    "start_time": "2021-09-18T15:50:11.139Z"
   },
   {
    "duration": 5,
    "start_time": "2021-09-18T15:50:11.238Z"
   },
   {
    "duration": 36,
    "start_time": "2021-09-18T15:50:11.248Z"
   },
   {
    "duration": 6,
    "start_time": "2021-09-18T15:50:11.287Z"
   },
   {
    "duration": 15,
    "start_time": "2021-09-18T15:50:11.295Z"
   },
   {
    "duration": 773,
    "start_time": "2021-09-18T15:50:11.313Z"
   },
   {
    "duration": 438,
    "start_time": "2021-09-18T15:50:12.089Z"
   },
   {
    "duration": 16,
    "start_time": "2021-09-18T15:50:12.531Z"
   },
   {
    "duration": 36,
    "start_time": "2021-09-18T15:50:12.550Z"
   },
   {
    "duration": 15,
    "start_time": "2021-09-18T15:50:12.590Z"
   },
   {
    "duration": 23,
    "start_time": "2021-09-18T15:50:12.608Z"
   },
   {
    "duration": 10,
    "start_time": "2021-09-18T15:50:12.634Z"
   },
   {
    "duration": 52,
    "start_time": "2021-09-18T15:50:12.647Z"
   },
   {
    "duration": 29,
    "start_time": "2021-09-18T15:50:12.702Z"
   },
   {
    "duration": 48,
    "start_time": "2021-09-18T15:50:12.734Z"
   },
   {
    "duration": 21,
    "start_time": "2021-09-18T15:50:12.785Z"
   },
   {
    "duration": 24,
    "start_time": "2021-09-18T15:50:12.808Z"
   },
   {
    "duration": 63,
    "start_time": "2021-09-18T15:50:12.835Z"
   },
   {
    "duration": 20,
    "start_time": "2021-09-18T15:50:12.900Z"
   },
   {
    "duration": 59,
    "start_time": "2021-09-18T15:50:12.923Z"
   },
   {
    "duration": 1632,
    "start_time": "2021-09-18T16:03:28.538Z"
   },
   {
    "duration": 196,
    "start_time": "2021-09-18T16:03:30.173Z"
   },
   {
    "duration": 3,
    "start_time": "2021-09-18T16:03:30.372Z"
   },
   {
    "duration": 62,
    "start_time": "2021-09-18T16:03:30.382Z"
   },
   {
    "duration": 49,
    "start_time": "2021-09-18T16:03:30.447Z"
   },
   {
    "duration": 127,
    "start_time": "2021-09-18T16:03:30.499Z"
   },
   {
    "duration": 103,
    "start_time": "2021-09-18T16:03:30.629Z"
   },
   {
    "duration": 131,
    "start_time": "2021-09-18T16:03:30.736Z"
   },
   {
    "duration": 19,
    "start_time": "2021-09-18T16:03:30.870Z"
   },
   {
    "duration": 53,
    "start_time": "2021-09-18T16:03:30.891Z"
   },
   {
    "duration": 24,
    "start_time": "2021-09-18T16:03:30.947Z"
   },
   {
    "duration": 679,
    "start_time": "2021-09-18T16:03:30.974Z"
   },
   {
    "duration": 63,
    "start_time": "2021-09-18T16:03:31.656Z"
   },
   {
    "duration": 187,
    "start_time": "2021-09-18T16:03:31.722Z"
   },
   {
    "duration": 19,
    "start_time": "2021-09-18T16:03:31.912Z"
   },
   {
    "duration": 64,
    "start_time": "2021-09-18T16:03:31.933Z"
   },
   {
    "duration": 84,
    "start_time": "2021-09-18T16:03:32.000Z"
   },
   {
    "duration": 6,
    "start_time": "2021-09-18T16:03:32.086Z"
   },
   {
    "duration": 19,
    "start_time": "2021-09-18T16:03:32.094Z"
   },
   {
    "duration": 28,
    "start_time": "2021-09-18T16:03:32.115Z"
   },
   {
    "duration": 96,
    "start_time": "2021-09-18T16:03:32.145Z"
   },
   {
    "duration": 5,
    "start_time": "2021-09-18T16:03:32.244Z"
   },
   {
    "duration": 40,
    "start_time": "2021-09-18T16:03:32.254Z"
   },
   {
    "duration": 8,
    "start_time": "2021-09-18T16:03:32.297Z"
   },
   {
    "duration": 17,
    "start_time": "2021-09-18T16:03:32.307Z"
   },
   {
    "duration": 761,
    "start_time": "2021-09-18T16:03:32.327Z"
   },
   {
    "duration": 446,
    "start_time": "2021-09-18T16:03:33.090Z"
   },
   {
    "duration": 14,
    "start_time": "2021-09-18T16:03:33.539Z"
   },
   {
    "duration": 31,
    "start_time": "2021-09-18T16:03:33.556Z"
   },
   {
    "duration": 18,
    "start_time": "2021-09-18T16:03:33.590Z"
   },
   {
    "duration": 36,
    "start_time": "2021-09-18T16:03:33.611Z"
   },
   {
    "duration": 9,
    "start_time": "2021-09-18T16:03:33.650Z"
   },
   {
    "duration": 44,
    "start_time": "2021-09-18T16:03:33.662Z"
   },
   {
    "duration": 23,
    "start_time": "2021-09-18T16:03:33.713Z"
   },
   {
    "duration": 47,
    "start_time": "2021-09-18T16:03:33.739Z"
   },
   {
    "duration": 21,
    "start_time": "2021-09-18T16:03:33.789Z"
   },
   {
    "duration": 15,
    "start_time": "2021-09-18T16:03:33.813Z"
   },
   {
    "duration": 69,
    "start_time": "2021-09-18T16:03:33.830Z"
   },
   {
    "duration": 24,
    "start_time": "2021-09-18T16:03:33.902Z"
   },
   {
    "duration": 61,
    "start_time": "2021-09-18T16:03:33.929Z"
   },
   {
    "duration": 107197,
    "start_time": "2021-09-19T06:44:29.978Z"
   },
   {
    "duration": 135,
    "start_time": "2021-09-19T06:46:17.176Z"
   },
   {
    "duration": 3,
    "start_time": "2021-09-19T06:46:17.313Z"
   },
   {
    "duration": 12,
    "start_time": "2021-09-19T06:46:17.318Z"
   },
   {
    "duration": 19,
    "start_time": "2021-09-19T06:46:17.332Z"
   },
   {
    "duration": 75,
    "start_time": "2021-09-19T06:46:17.353Z"
   },
   {
    "duration": 75,
    "start_time": "2021-09-19T06:46:17.430Z"
   },
   {
    "duration": 86,
    "start_time": "2021-09-19T06:46:17.508Z"
   },
   {
    "duration": 9,
    "start_time": "2021-09-19T06:46:17.596Z"
   },
   {
    "duration": 31,
    "start_time": "2021-09-19T06:46:17.606Z"
   },
   {
    "duration": 18,
    "start_time": "2021-09-19T06:46:17.639Z"
   },
   {
    "duration": 445,
    "start_time": "2021-09-19T06:46:17.658Z"
   },
   {
    "duration": 24,
    "start_time": "2021-09-19T06:46:18.105Z"
   },
   {
    "duration": 122,
    "start_time": "2021-09-19T06:46:18.131Z"
   },
   {
    "duration": 12,
    "start_time": "2021-09-19T06:46:18.254Z"
   },
   {
    "duration": 29,
    "start_time": "2021-09-19T06:46:18.277Z"
   },
   {
    "duration": 48,
    "start_time": "2021-09-19T06:46:18.308Z"
   },
   {
    "duration": 21,
    "start_time": "2021-09-19T06:46:18.357Z"
   },
   {
    "duration": 24,
    "start_time": "2021-09-19T06:46:18.379Z"
   },
   {
    "duration": 29,
    "start_time": "2021-09-19T06:46:18.405Z"
   },
   {
    "duration": 56,
    "start_time": "2021-09-19T06:46:18.436Z"
   },
   {
    "duration": 4,
    "start_time": "2021-09-19T06:46:18.493Z"
   },
   {
    "duration": 22,
    "start_time": "2021-09-19T06:46:18.500Z"
   },
   {
    "duration": 12,
    "start_time": "2021-09-19T06:46:18.524Z"
   },
   {
    "duration": 14,
    "start_time": "2021-09-19T06:46:18.537Z"
   },
   {
    "duration": 529,
    "start_time": "2021-09-19T06:46:18.553Z"
   },
   {
    "duration": 328,
    "start_time": "2021-09-19T06:46:19.083Z"
   },
   {
    "duration": 9,
    "start_time": "2021-09-19T06:46:19.413Z"
   },
   {
    "duration": 24,
    "start_time": "2021-09-19T06:46:19.424Z"
   },
   {
    "duration": 18,
    "start_time": "2021-09-19T06:46:19.450Z"
   },
   {
    "duration": 21,
    "start_time": "2021-09-19T06:46:19.469Z"
   },
   {
    "duration": 7,
    "start_time": "2021-09-19T06:46:19.492Z"
   },
   {
    "duration": 29,
    "start_time": "2021-09-19T06:46:19.501Z"
   },
   {
    "duration": 13,
    "start_time": "2021-09-19T06:46:19.532Z"
   },
   {
    "duration": 18,
    "start_time": "2021-09-19T06:46:19.547Z"
   },
   {
    "duration": 22,
    "start_time": "2021-09-19T06:46:19.567Z"
   },
   {
    "duration": 15,
    "start_time": "2021-09-19T06:46:19.591Z"
   },
   {
    "duration": 21,
    "start_time": "2021-09-19T06:46:19.607Z"
   },
   {
    "duration": 46,
    "start_time": "2021-09-19T06:46:19.630Z"
   },
   {
    "duration": 14,
    "start_time": "2021-09-19T06:46:19.678Z"
   },
   {
    "duration": 4,
    "start_time": "2021-09-19T15:15:20.663Z"
   },
   {
    "duration": 200,
    "start_time": "2021-09-19T15:15:20.670Z"
   },
   {
    "duration": 12,
    "start_time": "2021-09-19T15:15:20.873Z"
   },
   {
    "duration": 21,
    "start_time": "2021-09-19T15:15:20.888Z"
   },
   {
    "duration": 31,
    "start_time": "2021-09-19T15:15:20.911Z"
   },
   {
    "duration": 83,
    "start_time": "2021-09-19T15:15:20.944Z"
   },
   {
    "duration": 102,
    "start_time": "2021-09-19T15:15:21.029Z"
   },
   {
    "duration": 123,
    "start_time": "2021-09-19T15:15:21.134Z"
   },
   {
    "duration": 21,
    "start_time": "2021-09-19T15:15:21.261Z"
   },
   {
    "duration": 25,
    "start_time": "2021-09-19T15:15:21.285Z"
   },
   {
    "duration": 25,
    "start_time": "2021-09-19T15:15:21.313Z"
   },
   {
    "duration": 514,
    "start_time": "2021-09-19T15:15:21.340Z"
   },
   {
    "duration": 42,
    "start_time": "2021-09-19T15:15:21.856Z"
   },
   {
    "duration": 181,
    "start_time": "2021-09-19T15:15:21.901Z"
   },
   {
    "duration": 19,
    "start_time": "2021-09-19T15:15:22.084Z"
   },
   {
    "duration": 42,
    "start_time": "2021-09-19T15:15:22.105Z"
   },
   {
    "duration": 88,
    "start_time": "2021-09-19T15:15:22.150Z"
   },
   {
    "duration": 5,
    "start_time": "2021-09-19T15:15:22.240Z"
   },
   {
    "duration": 36,
    "start_time": "2021-09-19T15:15:22.247Z"
   },
   {
    "duration": 28,
    "start_time": "2021-09-19T15:15:22.286Z"
   },
   {
    "duration": 84,
    "start_time": "2021-09-19T15:15:22.316Z"
   },
   {
    "duration": 4,
    "start_time": "2021-09-19T15:15:22.403Z"
   },
   {
    "duration": 28,
    "start_time": "2021-09-19T15:15:22.410Z"
   },
   {
    "duration": 12,
    "start_time": "2021-09-19T15:15:22.443Z"
   },
   {
    "duration": 27,
    "start_time": "2021-09-19T15:15:22.458Z"
   },
   {
    "duration": 313,
    "start_time": "2021-09-19T15:15:22.488Z"
   },
   {
    "duration": 314,
    "start_time": "2021-09-19T15:15:22.803Z"
   },
   {
    "duration": 13,
    "start_time": "2021-09-19T15:15:23.120Z"
   },
   {
    "duration": 15,
    "start_time": "2021-09-19T15:15:23.136Z"
   },
   {
    "duration": 28,
    "start_time": "2021-09-19T15:15:23.154Z"
   },
   {
    "duration": 15,
    "start_time": "2021-09-19T15:15:23.185Z"
   },
   {
    "duration": 368,
    "start_time": "2021-09-19T15:15:23.203Z"
   },
   {
    "duration": 11,
    "start_time": "2021-09-19T15:15:23.574Z"
   },
   {
    "duration": 27,
    "start_time": "2021-09-19T15:15:23.588Z"
   },
   {
    "duration": 22,
    "start_time": "2021-09-19T15:15:23.617Z"
   },
   {
    "duration": 24,
    "start_time": "2021-09-19T15:15:23.682Z"
   },
   {
    "duration": 21,
    "start_time": "2021-09-19T15:15:23.708Z"
   },
   {
    "duration": 53,
    "start_time": "2021-09-19T15:15:23.732Z"
   },
   {
    "duration": 24,
    "start_time": "2021-09-19T15:15:23.787Z"
   },
   {
    "duration": 23,
    "start_time": "2021-09-19T15:15:23.814Z"
   },
   {
    "duration": 57,
    "start_time": "2021-09-19T15:15:23.839Z"
   },
   {
    "duration": 5,
    "start_time": "2021-09-20T07:11:25.905Z"
   },
   {
    "duration": 177,
    "start_time": "2021-09-20T07:11:25.926Z"
   },
   {
    "duration": 4,
    "start_time": "2021-09-20T07:11:26.106Z"
   },
   {
    "duration": 17,
    "start_time": "2021-09-20T07:11:26.113Z"
   },
   {
    "duration": 23,
    "start_time": "2021-09-20T07:11:26.133Z"
   },
   {
    "duration": 75,
    "start_time": "2021-09-20T07:11:26.184Z"
   },
   {
    "duration": 99,
    "start_time": "2021-09-20T07:11:26.283Z"
   },
   {
    "duration": 130,
    "start_time": "2021-09-20T07:11:26.385Z"
   },
   {
    "duration": 12,
    "start_time": "2021-09-20T07:11:26.518Z"
   },
   {
    "duration": 48,
    "start_time": "2021-09-20T07:11:26.534Z"
   },
   {
    "duration": 25,
    "start_time": "2021-09-20T07:11:26.585Z"
   },
   {
    "duration": 519,
    "start_time": "2021-09-20T07:11:26.612Z"
   },
   {
    "duration": 32,
    "start_time": "2021-09-20T07:11:27.134Z"
   },
   {
    "duration": 180,
    "start_time": "2021-09-20T07:11:27.169Z"
   },
   {
    "duration": 35,
    "start_time": "2021-09-20T07:11:27.352Z"
   },
   {
    "duration": 42,
    "start_time": "2021-09-20T07:11:27.390Z"
   },
   {
    "duration": 96,
    "start_time": "2021-09-20T07:11:27.434Z"
   },
   {
    "duration": 6,
    "start_time": "2021-09-20T07:11:27.533Z"
   },
   {
    "duration": 13,
    "start_time": "2021-09-20T07:11:27.542Z"
   },
   {
    "duration": 49,
    "start_time": "2021-09-20T07:11:27.558Z"
   },
   {
    "duration": 86,
    "start_time": "2021-09-20T07:11:27.609Z"
   },
   {
    "duration": 6,
    "start_time": "2021-09-20T07:11:27.697Z"
   },
   {
    "duration": 24,
    "start_time": "2021-09-20T07:11:27.705Z"
   },
   {
    "duration": 7,
    "start_time": "2021-09-20T07:11:27.731Z"
   },
   {
    "duration": 12,
    "start_time": "2021-09-20T07:11:27.740Z"
   },
   {
    "duration": 198,
    "start_time": "2021-09-20T07:11:27.784Z"
   },
   {
    "duration": 337,
    "start_time": "2021-09-20T07:11:27.985Z"
   },
   {
    "duration": 13,
    "start_time": "2021-09-20T07:11:28.327Z"
   },
   {
    "duration": 16,
    "start_time": "2021-09-20T07:11:28.343Z"
   },
   {
    "duration": 22,
    "start_time": "2021-09-20T07:11:28.362Z"
   },
   {
    "duration": 18,
    "start_time": "2021-09-20T07:11:28.387Z"
   },
   {
    "duration": 14,
    "start_time": "2021-09-20T07:11:28.408Z"
   },
   {
    "duration": 11,
    "start_time": "2021-09-20T07:11:28.424Z"
   },
   {
    "duration": 56,
    "start_time": "2021-09-20T07:11:28.437Z"
   },
   {
    "duration": 20,
    "start_time": "2021-09-20T07:11:28.496Z"
   },
   {
    "duration": 19,
    "start_time": "2021-09-20T07:11:28.519Z"
   },
   {
    "duration": 52,
    "start_time": "2021-09-20T07:11:28.540Z"
   },
   {
    "duration": 21,
    "start_time": "2021-09-20T07:11:28.598Z"
   },
   {
    "duration": 24,
    "start_time": "2021-09-20T07:11:28.621Z"
   },
   {
    "duration": 56,
    "start_time": "2021-09-20T07:11:28.647Z"
   },
   {
    "duration": 18,
    "start_time": "2021-09-20T07:11:28.705Z"
   },
   {
    "duration": 5,
    "start_time": "2021-09-20T07:18:12.237Z"
   },
   {
    "duration": 175,
    "start_time": "2021-09-20T07:18:12.257Z"
   },
   {
    "duration": 3,
    "start_time": "2021-09-20T07:18:12.435Z"
   },
   {
    "duration": 23,
    "start_time": "2021-09-20T07:18:12.441Z"
   },
   {
    "duration": 21,
    "start_time": "2021-09-20T07:18:12.483Z"
   },
   {
    "duration": 104,
    "start_time": "2021-09-20T07:18:12.506Z"
   },
   {
    "duration": 103,
    "start_time": "2021-09-20T07:18:12.612Z"
   },
   {
    "duration": 137,
    "start_time": "2021-09-20T07:18:12.717Z"
   },
   {
    "duration": 13,
    "start_time": "2021-09-20T07:18:12.857Z"
   },
   {
    "duration": 29,
    "start_time": "2021-09-20T07:18:12.885Z"
   },
   {
    "duration": 27,
    "start_time": "2021-09-20T07:18:12.917Z"
   },
   {
    "duration": 522,
    "start_time": "2021-09-20T07:18:12.946Z"
   },
   {
    "duration": 41,
    "start_time": "2021-09-20T07:18:13.471Z"
   },
   {
    "duration": 182,
    "start_time": "2021-09-20T07:18:13.515Z"
   },
   {
    "duration": 19,
    "start_time": "2021-09-20T07:18:13.699Z"
   },
   {
    "duration": 41,
    "start_time": "2021-09-20T07:18:13.721Z"
   },
   {
    "duration": 81,
    "start_time": "2021-09-20T07:18:13.765Z"
   },
   {
    "duration": 4,
    "start_time": "2021-09-20T07:18:13.848Z"
   },
   {
    "duration": 31,
    "start_time": "2021-09-20T07:18:13.855Z"
   },
   {
    "duration": 54,
    "start_time": "2021-09-20T07:18:13.888Z"
   },
   {
    "duration": 67,
    "start_time": "2021-09-20T07:18:13.945Z"
   },
   {
    "duration": 5,
    "start_time": "2021-09-20T07:18:14.015Z"
   },
   {
    "duration": 31,
    "start_time": "2021-09-20T07:18:14.023Z"
   },
   {
    "duration": 7,
    "start_time": "2021-09-20T07:18:14.057Z"
   },
   {
    "duration": 28,
    "start_time": "2021-09-20T07:18:14.081Z"
   },
   {
    "duration": 175,
    "start_time": "2021-09-20T07:18:14.112Z"
   },
   {
    "duration": 309,
    "start_time": "2021-09-20T07:18:14.289Z"
   },
   {
    "duration": 14,
    "start_time": "2021-09-20T07:18:14.603Z"
   },
   {
    "duration": 14,
    "start_time": "2021-09-20T07:18:14.619Z"
   },
   {
    "duration": 10,
    "start_time": "2021-09-20T07:18:14.635Z"
   },
   {
    "duration": 41,
    "start_time": "2021-09-20T07:18:14.647Z"
   },
   {
    "duration": 26,
    "start_time": "2021-09-20T07:18:14.691Z"
   },
   {
    "duration": 10,
    "start_time": "2021-09-20T07:18:14.720Z"
   },
   {
    "duration": 29,
    "start_time": "2021-09-20T07:18:14.732Z"
   },
   {
    "duration": 36,
    "start_time": "2021-09-20T07:18:14.763Z"
   },
   {
    "duration": 32,
    "start_time": "2021-09-20T07:18:14.801Z"
   },
   {
    "duration": 50,
    "start_time": "2021-09-20T07:18:14.835Z"
   },
   {
    "duration": 21,
    "start_time": "2021-09-20T07:18:14.888Z"
   },
   {
    "duration": 23,
    "start_time": "2021-09-20T07:18:14.911Z"
   },
   {
    "duration": 59,
    "start_time": "2021-09-20T07:18:14.936Z"
   },
   {
    "duration": 20,
    "start_time": "2021-09-20T07:18:15.003Z"
   },
   {
    "duration": 372,
    "start_time": "2021-09-20T07:19:21.050Z"
   },
   {
    "duration": 366,
    "start_time": "2021-09-20T07:42:21.207Z"
   },
   {
    "duration": 126,
    "start_time": "2021-09-20T07:42:56.915Z"
   },
   {
    "duration": 621,
    "start_time": "2021-09-20T07:43:07.075Z"
   },
   {
    "duration": 542,
    "start_time": "2021-09-20T07:43:31.299Z"
   },
   {
    "duration": 22,
    "start_time": "2021-09-20T07:43:54.497Z"
   },
   {
    "duration": 24,
    "start_time": "2021-09-20T07:45:03.455Z"
   },
   {
    "duration": 344,
    "start_time": "2021-09-20T07:45:33.831Z"
   },
   {
    "duration": 6,
    "start_time": "2021-09-20T07:46:16.654Z"
   },
   {
    "duration": 173,
    "start_time": "2021-09-20T07:46:16.675Z"
   },
   {
    "duration": 5,
    "start_time": "2021-09-20T07:46:16.850Z"
   },
   {
    "duration": 30,
    "start_time": "2021-09-20T07:46:16.858Z"
   },
   {
    "duration": 25,
    "start_time": "2021-09-20T07:46:16.891Z"
   },
   {
    "duration": 96,
    "start_time": "2021-09-20T07:46:16.919Z"
   },
   {
    "duration": 109,
    "start_time": "2021-09-20T07:46:17.018Z"
   },
   {
    "duration": 133,
    "start_time": "2021-09-20T07:46:17.130Z"
   },
   {
    "duration": 24,
    "start_time": "2021-09-20T07:46:17.265Z"
   },
   {
    "duration": 34,
    "start_time": "2021-09-20T07:46:17.293Z"
   },
   {
    "duration": 27,
    "start_time": "2021-09-20T07:46:17.331Z"
   },
   {
    "duration": 510,
    "start_time": "2021-09-20T07:46:17.361Z"
   },
   {
    "duration": 38,
    "start_time": "2021-09-20T07:46:17.874Z"
   },
   {
    "duration": 193,
    "start_time": "2021-09-20T07:46:17.915Z"
   },
   {
    "duration": 19,
    "start_time": "2021-09-20T07:46:18.111Z"
   },
   {
    "duration": 66,
    "start_time": "2021-09-20T07:46:18.132Z"
   },
   {
    "duration": 69,
    "start_time": "2021-09-20T07:46:18.200Z"
   },
   {
    "duration": 5,
    "start_time": "2021-09-20T07:46:18.282Z"
   },
   {
    "duration": 27,
    "start_time": "2021-09-20T07:46:18.290Z"
   },
   {
    "duration": 34,
    "start_time": "2021-09-20T07:46:18.319Z"
   },
   {
    "duration": 77,
    "start_time": "2021-09-20T07:46:18.355Z"
   },
   {
    "duration": 5,
    "start_time": "2021-09-20T07:46:18.435Z"
   },
   {
    "duration": 41,
    "start_time": "2021-09-20T07:46:18.443Z"
   },
   {
    "duration": 8,
    "start_time": "2021-09-20T07:46:18.487Z"
   },
   {
    "duration": 20,
    "start_time": "2021-09-20T07:46:18.497Z"
   },
   {
    "duration": 198,
    "start_time": "2021-09-20T07:46:18.519Z"
   },
   {
    "duration": 313,
    "start_time": "2021-09-20T07:46:18.720Z"
   },
   {
    "duration": 15,
    "start_time": "2021-09-20T07:46:19.039Z"
   },
   {
    "duration": 33,
    "start_time": "2021-09-20T07:46:19.057Z"
   },
   {
    "duration": 17,
    "start_time": "2021-09-20T07:46:19.093Z"
   },
   {
    "duration": 25,
    "start_time": "2021-09-20T07:46:19.113Z"
   },
   {
    "duration": 355,
    "start_time": "2021-09-20T07:46:19.140Z"
   },
   {
    "duration": 8,
    "start_time": "2021-09-20T07:46:19.498Z"
   },
   {
    "duration": 30,
    "start_time": "2021-09-20T07:46:19.509Z"
   },
   {
    "duration": 57,
    "start_time": "2021-09-20T07:46:19.542Z"
   },
   {
    "duration": 21,
    "start_time": "2021-09-20T07:46:19.602Z"
   },
   {
    "duration": 58,
    "start_time": "2021-09-20T07:46:19.625Z"
   },
   {
    "duration": 22,
    "start_time": "2021-09-20T07:46:19.686Z"
   },
   {
    "duration": 19,
    "start_time": "2021-09-20T07:46:19.710Z"
   },
   {
    "duration": 50,
    "start_time": "2021-09-20T07:46:19.732Z"
   },
   {
    "duration": 25,
    "start_time": "2021-09-20T07:46:19.786Z"
   },
   {
    "duration": 237,
    "start_time": "2021-09-20T09:05:35.213Z"
   },
   {
    "duration": 437,
    "start_time": "2021-09-20T09:05:44.761Z"
   },
   {
    "duration": 436,
    "start_time": "2021-09-20T09:23:40.817Z"
   },
   {
    "duration": 261,
    "start_time": "2021-09-20T09:24:32.049Z"
   },
   {
    "duration": 359,
    "start_time": "2021-09-20T09:25:02.478Z"
   },
   {
    "duration": 530,
    "start_time": "2021-09-20T09:30:35.843Z"
   },
   {
    "duration": 614,
    "start_time": "2021-09-20T09:32:38.841Z"
   },
   {
    "duration": 293,
    "start_time": "2021-09-20T09:34:05.436Z"
   },
   {
    "duration": 313,
    "start_time": "2021-09-20T09:36:45.015Z"
   },
   {
    "duration": 4,
    "start_time": "2021-09-20T09:37:17.680Z"
   },
   {
    "duration": 173,
    "start_time": "2021-09-20T09:37:17.700Z"
   },
   {
    "duration": 4,
    "start_time": "2021-09-20T09:37:17.883Z"
   },
   {
    "duration": 14,
    "start_time": "2021-09-20T09:37:17.890Z"
   },
   {
    "duration": 22,
    "start_time": "2021-09-20T09:37:17.907Z"
   },
   {
    "duration": 111,
    "start_time": "2021-09-20T09:37:17.931Z"
   },
   {
    "duration": 110,
    "start_time": "2021-09-20T09:37:18.044Z"
   },
   {
    "duration": 158,
    "start_time": "2021-09-20T09:37:18.157Z"
   },
   {
    "duration": 14,
    "start_time": "2021-09-20T09:37:18.317Z"
   },
   {
    "duration": 47,
    "start_time": "2021-09-20T09:37:18.336Z"
   },
   {
    "duration": 27,
    "start_time": "2021-09-20T09:37:18.387Z"
   },
   {
    "duration": 529,
    "start_time": "2021-09-20T09:37:18.416Z"
   },
   {
    "duration": 40,
    "start_time": "2021-09-20T09:37:18.948Z"
   },
   {
    "duration": 175,
    "start_time": "2021-09-20T09:37:18.991Z"
   },
   {
    "duration": 29,
    "start_time": "2021-09-20T09:37:19.169Z"
   },
   {
    "duration": 39,
    "start_time": "2021-09-20T09:37:19.200Z"
   },
   {
    "duration": 99,
    "start_time": "2021-09-20T09:37:19.241Z"
   },
   {
    "duration": 6,
    "start_time": "2021-09-20T09:37:19.343Z"
   },
   {
    "duration": 38,
    "start_time": "2021-09-20T09:37:19.352Z"
   },
   {
    "duration": 28,
    "start_time": "2021-09-20T09:37:19.393Z"
   },
   {
    "duration": 95,
    "start_time": "2021-09-20T09:37:19.424Z"
   },
   {
    "duration": 5,
    "start_time": "2021-09-20T09:37:19.522Z"
   },
   {
    "duration": 26,
    "start_time": "2021-09-20T09:37:19.529Z"
   },
   {
    "duration": 27,
    "start_time": "2021-09-20T09:37:19.557Z"
   },
   {
    "duration": 7,
    "start_time": "2021-09-20T09:37:19.587Z"
   },
   {
    "duration": 204,
    "start_time": "2021-09-20T09:37:19.596Z"
   },
   {
    "duration": 324,
    "start_time": "2021-09-20T09:37:19.803Z"
   },
   {
    "duration": 15,
    "start_time": "2021-09-20T09:37:20.132Z"
   },
   {
    "duration": 34,
    "start_time": "2021-09-20T09:37:20.150Z"
   },
   {
    "duration": 5,
    "start_time": "2021-09-20T09:37:20.186Z"
   },
   {
    "duration": 22,
    "start_time": "2021-09-20T09:37:20.194Z"
   },
   {
    "duration": 704,
    "start_time": "2021-09-20T09:37:20.219Z"
   },
   {
    "duration": -69,
    "start_time": "2021-09-20T09:37:20.995Z"
   },
   {
    "duration": -73,
    "start_time": "2021-09-20T09:37:21.001Z"
   },
   {
    "duration": -114,
    "start_time": "2021-09-20T09:37:21.043Z"
   },
   {
    "duration": -127,
    "start_time": "2021-09-20T09:37:21.057Z"
   },
   {
    "duration": -131,
    "start_time": "2021-09-20T09:37:21.063Z"
   },
   {
    "duration": -150,
    "start_time": "2021-09-20T09:37:21.083Z"
   },
   {
    "duration": -177,
    "start_time": "2021-09-20T09:37:21.112Z"
   },
   {
    "duration": -189,
    "start_time": "2021-09-20T09:37:21.126Z"
   },
   {
    "duration": -210,
    "start_time": "2021-09-20T09:37:21.148Z"
   },
   {
    "duration": 271,
    "start_time": "2021-09-20T09:38:19.316Z"
   },
   {
    "duration": 7131,
    "start_time": "2021-09-20T09:38:57.746Z"
   },
   {
    "duration": 12431,
    "start_time": "2021-09-20T09:39:05.227Z"
   },
   {
    "duration": 7399,
    "start_time": "2021-09-20T09:40:34.446Z"
   },
   {
    "duration": 6613,
    "start_time": "2021-09-20T09:40:59.046Z"
   },
   {
    "duration": 614,
    "start_time": "2021-09-20T09:41:29.414Z"
   },
   {
    "duration": 517,
    "start_time": "2021-09-20T09:42:02.851Z"
   },
   {
    "duration": 282,
    "start_time": "2021-09-20T09:43:49.958Z"
   },
   {
    "duration": 312,
    "start_time": "2021-09-20T09:44:59.632Z"
   },
   {
    "duration": 6600,
    "start_time": "2021-09-20T09:46:44.584Z"
   },
   {
    "duration": 4,
    "start_time": "2021-09-20T09:52:21.805Z"
   },
   {
    "duration": 188,
    "start_time": "2021-09-20T09:52:21.825Z"
   },
   {
    "duration": 5,
    "start_time": "2021-09-20T09:52:22.017Z"
   },
   {
    "duration": 14,
    "start_time": "2021-09-20T09:52:22.025Z"
   },
   {
    "duration": 54,
    "start_time": "2021-09-20T09:52:22.042Z"
   },
   {
    "duration": 91,
    "start_time": "2021-09-20T09:52:22.099Z"
   },
   {
    "duration": 90,
    "start_time": "2021-09-20T09:52:22.192Z"
   },
   {
    "duration": 125,
    "start_time": "2021-09-20T09:52:22.285Z"
   },
   {
    "duration": 14,
    "start_time": "2021-09-20T09:52:22.413Z"
   },
   {
    "duration": 29,
    "start_time": "2021-09-20T09:52:22.431Z"
   },
   {
    "duration": 29,
    "start_time": "2021-09-20T09:52:22.482Z"
   },
   {
    "duration": 749,
    "start_time": "2021-09-20T09:52:22.513Z"
   },
   {
    "duration": 66,
    "start_time": "2021-09-20T09:52:23.265Z"
   },
   {
    "duration": 184,
    "start_time": "2021-09-20T09:52:23.334Z"
   },
   {
    "duration": 20,
    "start_time": "2021-09-20T09:52:23.520Z"
   },
   {
    "duration": 59,
    "start_time": "2021-09-20T09:52:23.543Z"
   },
   {
    "duration": 80,
    "start_time": "2021-09-20T09:52:23.604Z"
   },
   {
    "duration": 5,
    "start_time": "2021-09-20T09:52:23.687Z"
   },
   {
    "duration": 15,
    "start_time": "2021-09-20T09:52:23.694Z"
   },
   {
    "duration": 28,
    "start_time": "2021-09-20T09:52:23.711Z"
   },
   {
    "duration": 106,
    "start_time": "2021-09-20T09:52:23.741Z"
   },
   {
    "duration": 5,
    "start_time": "2021-09-20T09:52:23.850Z"
   },
   {
    "duration": 35,
    "start_time": "2021-09-20T09:52:23.858Z"
   },
   {
    "duration": 6,
    "start_time": "2021-09-20T09:52:23.895Z"
   },
   {
    "duration": 23,
    "start_time": "2021-09-20T09:52:23.903Z"
   },
   {
    "duration": 199,
    "start_time": "2021-09-20T09:52:23.929Z"
   },
   {
    "duration": 330,
    "start_time": "2021-09-20T09:52:24.131Z"
   },
   {
    "duration": 23,
    "start_time": "2021-09-20T09:52:24.468Z"
   },
   {
    "duration": 18,
    "start_time": "2021-09-20T09:52:24.495Z"
   },
   {
    "duration": 6,
    "start_time": "2021-09-20T09:52:24.516Z"
   },
   {
    "duration": 19,
    "start_time": "2021-09-20T09:52:24.525Z"
   },
   {
    "duration": 7564,
    "start_time": "2021-09-20T09:52:24.547Z"
   },
   {
    "duration": -174,
    "start_time": "2021-09-20T09:52:32.288Z"
   },
   {
    "duration": -234,
    "start_time": "2021-09-20T09:52:32.349Z"
   },
   {
    "duration": -298,
    "start_time": "2021-09-20T09:52:32.415Z"
   },
   {
    "duration": -322,
    "start_time": "2021-09-20T09:52:32.441Z"
   },
   {
    "duration": -327,
    "start_time": "2021-09-20T09:52:32.447Z"
   },
   {
    "duration": -339,
    "start_time": "2021-09-20T09:52:32.461Z"
   },
   {
    "duration": -343,
    "start_time": "2021-09-20T09:52:32.466Z"
   },
   {
    "duration": -353,
    "start_time": "2021-09-20T09:52:32.477Z"
   },
   {
    "duration": -365,
    "start_time": "2021-09-20T09:52:32.491Z"
   },
   {
    "duration": 1728,
    "start_time": "2021-09-20T09:53:09.123Z"
   },
   {
    "duration": 189,
    "start_time": "2021-09-20T09:53:10.854Z"
   },
   {
    "duration": 4,
    "start_time": "2021-09-20T09:53:11.046Z"
   },
   {
    "duration": 31,
    "start_time": "2021-09-20T09:53:11.053Z"
   },
   {
    "duration": 28,
    "start_time": "2021-09-20T09:53:11.086Z"
   },
   {
    "duration": 108,
    "start_time": "2021-09-20T09:53:11.116Z"
   },
   {
    "duration": 108,
    "start_time": "2021-09-20T09:53:11.226Z"
   },
   {
    "duration": 211,
    "start_time": "2021-09-20T09:53:11.339Z"
   },
   {
    "duration": 28,
    "start_time": "2021-09-20T09:53:11.554Z"
   },
   {
    "duration": 26,
    "start_time": "2021-09-20T09:53:11.585Z"
   },
   {
    "duration": 27,
    "start_time": "2021-09-20T09:53:11.613Z"
   },
   {
    "duration": 707,
    "start_time": "2021-09-20T09:53:11.643Z"
   },
   {
    "duration": 39,
    "start_time": "2021-09-20T09:53:12.353Z"
   },
   {
    "duration": 190,
    "start_time": "2021-09-20T09:53:12.394Z"
   },
   {
    "duration": 18,
    "start_time": "2021-09-20T09:53:12.587Z"
   },
   {
    "duration": 40,
    "start_time": "2021-09-20T09:53:12.608Z"
   },
   {
    "duration": 141,
    "start_time": "2021-09-20T09:53:12.650Z"
   },
   {
    "duration": 6,
    "start_time": "2021-09-20T09:53:12.794Z"
   },
   {
    "duration": 13,
    "start_time": "2021-09-20T09:53:12.802Z"
   },
   {
    "duration": 66,
    "start_time": "2021-09-20T09:53:12.817Z"
   },
   {
    "duration": 69,
    "start_time": "2021-09-20T09:53:12.886Z"
   },
   {
    "duration": 25,
    "start_time": "2021-09-20T09:53:12.957Z"
   },
   {
    "duration": 21,
    "start_time": "2021-09-20T09:53:12.989Z"
   },
   {
    "duration": 8,
    "start_time": "2021-09-20T09:53:13.014Z"
   },
   {
    "duration": 10,
    "start_time": "2021-09-20T09:53:13.025Z"
   },
   {
    "duration": 767,
    "start_time": "2021-09-20T09:53:13.084Z"
   },
   {
    "duration": 457,
    "start_time": "2021-09-20T09:53:13.853Z"
   },
   {
    "duration": 17,
    "start_time": "2021-09-20T09:53:14.313Z"
   },
   {
    "duration": 41,
    "start_time": "2021-09-20T09:53:14.333Z"
   },
   {
    "duration": 18,
    "start_time": "2021-09-20T09:53:14.377Z"
   },
   {
    "duration": 62,
    "start_time": "2021-09-20T09:53:14.398Z"
   },
   {
    "duration": 7795,
    "start_time": "2021-09-20T09:53:14.463Z"
   },
   {
    "duration": -102,
    "start_time": "2021-09-20T09:53:22.363Z"
   },
   {
    "duration": -108,
    "start_time": "2021-09-20T09:53:22.370Z"
   },
   {
    "duration": -153,
    "start_time": "2021-09-20T09:53:22.417Z"
   },
   {
    "duration": -166,
    "start_time": "2021-09-20T09:53:22.431Z"
   },
   {
    "duration": -170,
    "start_time": "2021-09-20T09:53:22.437Z"
   },
   {
    "duration": -188,
    "start_time": "2021-09-20T09:53:22.456Z"
   },
   {
    "duration": -219,
    "start_time": "2021-09-20T09:53:22.489Z"
   },
   {
    "duration": -230,
    "start_time": "2021-09-20T09:53:22.503Z"
   },
   {
    "duration": -250,
    "start_time": "2021-09-20T09:53:22.524Z"
   },
   {
    "duration": 1729,
    "start_time": "2021-09-20T09:54:26.086Z"
   },
   {
    "duration": 191,
    "start_time": "2021-09-20T09:54:27.818Z"
   },
   {
    "duration": 5,
    "start_time": "2021-09-20T09:54:28.012Z"
   },
   {
    "duration": 21,
    "start_time": "2021-09-20T09:54:28.019Z"
   },
   {
    "duration": 41,
    "start_time": "2021-09-20T09:54:28.043Z"
   },
   {
    "duration": 96,
    "start_time": "2021-09-20T09:54:28.087Z"
   },
   {
    "duration": 99,
    "start_time": "2021-09-20T09:54:28.186Z"
   },
   {
    "duration": 131,
    "start_time": "2021-09-20T09:54:28.289Z"
   },
   {
    "duration": 13,
    "start_time": "2021-09-20T09:54:28.424Z"
   },
   {
    "duration": 43,
    "start_time": "2021-09-20T09:54:28.439Z"
   },
   {
    "duration": 25,
    "start_time": "2021-09-20T09:54:28.484Z"
   },
   {
    "duration": 683,
    "start_time": "2021-09-20T09:54:28.511Z"
   },
   {
    "duration": 33,
    "start_time": "2021-09-20T09:54:29.196Z"
   },
   {
    "duration": 184,
    "start_time": "2021-09-20T09:54:29.231Z"
   },
   {
    "duration": 19,
    "start_time": "2021-09-20T09:54:29.418Z"
   },
   {
    "duration": 60,
    "start_time": "2021-09-20T09:54:29.439Z"
   },
   {
    "duration": 82,
    "start_time": "2021-09-20T09:54:29.502Z"
   },
   {
    "duration": 5,
    "start_time": "2021-09-20T09:54:29.587Z"
   },
   {
    "duration": 28,
    "start_time": "2021-09-20T09:54:29.594Z"
   },
   {
    "duration": 34,
    "start_time": "2021-09-20T09:54:29.625Z"
   },
   {
    "duration": 78,
    "start_time": "2021-09-20T09:54:29.662Z"
   },
   {
    "duration": 5,
    "start_time": "2021-09-20T09:54:29.743Z"
   },
   {
    "duration": 43,
    "start_time": "2021-09-20T09:54:29.753Z"
   },
   {
    "duration": 13,
    "start_time": "2021-09-20T09:54:29.799Z"
   },
   {
    "duration": 15,
    "start_time": "2021-09-20T09:54:29.815Z"
   },
   {
    "duration": 766,
    "start_time": "2021-09-20T09:54:29.833Z"
   },
   {
    "duration": 453,
    "start_time": "2021-09-20T09:54:30.603Z"
   },
   {
    "duration": 30,
    "start_time": "2021-09-20T09:54:31.059Z"
   },
   {
    "duration": 269,
    "start_time": "2021-09-20T09:54:31.092Z"
   },
   {
    "duration": 73,
    "start_time": "2021-09-20T09:54:31.364Z"
   },
   {
    "duration": 34,
    "start_time": "2021-09-20T09:54:31.439Z"
   },
   {
    "duration": 623,
    "start_time": "2021-09-20T09:54:31.476Z"
   },
   {
    "duration": -937,
    "start_time": "2021-09-20T09:54:33.039Z"
   },
   {
    "duration": -939,
    "start_time": "2021-09-20T09:54:33.043Z"
   },
   {
    "duration": -944,
    "start_time": "2021-09-20T09:54:33.049Z"
   },
   {
    "duration": -954,
    "start_time": "2021-09-20T09:54:33.060Z"
   },
   {
    "duration": -957,
    "start_time": "2021-09-20T09:54:33.065Z"
   },
   {
    "duration": -961,
    "start_time": "2021-09-20T09:54:33.070Z"
   },
   {
    "duration": -963,
    "start_time": "2021-09-20T09:54:33.074Z"
   },
   {
    "duration": -966,
    "start_time": "2021-09-20T09:54:33.079Z"
   },
   {
    "duration": -969,
    "start_time": "2021-09-20T09:54:33.084Z"
   },
   {
    "duration": 7709,
    "start_time": "2021-09-20T09:56:09.035Z"
   },
   {
    "duration": 14,
    "start_time": "2021-09-20T09:57:24.360Z"
   },
   {
    "duration": 1876,
    "start_time": "2021-09-20T10:06:49.868Z"
   },
   {
    "duration": 186,
    "start_time": "2021-09-20T10:06:51.747Z"
   },
   {
    "duration": 4,
    "start_time": "2021-09-20T10:06:51.936Z"
   },
   {
    "duration": 19,
    "start_time": "2021-09-20T10:06:51.943Z"
   },
   {
    "duration": 32,
    "start_time": "2021-09-20T10:06:51.965Z"
   },
   {
    "duration": 102,
    "start_time": "2021-09-20T10:06:52.000Z"
   },
   {
    "duration": 103,
    "start_time": "2021-09-20T10:06:52.105Z"
   },
   {
    "duration": 124,
    "start_time": "2021-09-20T10:06:52.212Z"
   },
   {
    "duration": 12,
    "start_time": "2021-09-20T10:06:52.339Z"
   },
   {
    "duration": 46,
    "start_time": "2021-09-20T10:06:52.353Z"
   },
   {
    "duration": 27,
    "start_time": "2021-09-20T10:06:52.402Z"
   },
   {
    "duration": 783,
    "start_time": "2021-09-20T10:06:52.431Z"
   },
   {
    "duration": 33,
    "start_time": "2021-09-20T10:06:53.216Z"
   },
   {
    "duration": 188,
    "start_time": "2021-09-20T10:06:53.252Z"
   },
   {
    "duration": 19,
    "start_time": "2021-09-20T10:06:53.443Z"
   },
   {
    "duration": 52,
    "start_time": "2021-09-20T10:06:53.464Z"
   },
   {
    "duration": 89,
    "start_time": "2021-09-20T10:06:53.518Z"
   },
   {
    "duration": 6,
    "start_time": "2021-09-20T10:06:53.609Z"
   },
   {
    "duration": 19,
    "start_time": "2021-09-20T10:06:53.617Z"
   },
   {
    "duration": 47,
    "start_time": "2021-09-20T10:06:53.638Z"
   },
   {
    "duration": 66,
    "start_time": "2021-09-20T10:06:53.687Z"
   },
   {
    "duration": 5,
    "start_time": "2021-09-20T10:06:53.755Z"
   },
   {
    "duration": 45,
    "start_time": "2021-09-20T10:06:53.765Z"
   },
   {
    "duration": 8,
    "start_time": "2021-09-20T10:06:53.813Z"
   },
   {
    "duration": 16,
    "start_time": "2021-09-20T10:06:53.824Z"
   },
   {
    "duration": 747,
    "start_time": "2021-09-20T10:06:53.843Z"
   },
   {
    "duration": 564,
    "start_time": "2021-09-20T10:06:54.593Z"
   },
   {
    "duration": 24,
    "start_time": "2021-09-20T10:06:55.160Z"
   },
   {
    "duration": 17,
    "start_time": "2021-09-20T10:06:55.187Z"
   },
   {
    "duration": 18,
    "start_time": "2021-09-20T10:06:55.207Z"
   },
   {
    "duration": 28,
    "start_time": "2021-09-20T10:06:55.227Z"
   },
   {
    "duration": 13,
    "start_time": "2021-09-20T10:06:55.258Z"
   },
   {
    "duration": 9,
    "start_time": "2021-09-20T10:06:55.283Z"
   },
   {
    "duration": 29,
    "start_time": "2021-09-20T10:06:55.295Z"
   },
   {
    "duration": 14,
    "start_time": "2021-09-20T10:06:55.326Z"
   },
   {
    "duration": 21,
    "start_time": "2021-09-20T10:06:55.383Z"
   },
   {
    "duration": 24,
    "start_time": "2021-09-20T10:06:55.406Z"
   },
   {
    "duration": 53,
    "start_time": "2021-09-20T10:06:55.433Z"
   },
   {
    "duration": 16,
    "start_time": "2021-09-20T10:06:55.489Z"
   },
   {
    "duration": 24,
    "start_time": "2021-09-20T10:06:55.515Z"
   },
   {
    "duration": 58,
    "start_time": "2021-09-20T10:06:55.541Z"
   },
   {
    "duration": 7354,
    "start_time": "2021-09-20T10:07:54.544Z"
   },
   {
    "duration": 507,
    "start_time": "2021-09-20T10:08:08.987Z"
   },
   {
    "duration": 954,
    "start_time": "2021-09-20T10:09:07.398Z"
   },
   {
    "duration": 456,
    "start_time": "2021-09-20T10:38:01.061Z"
   },
   {
    "duration": 337,
    "start_time": "2021-09-20T10:45:58.342Z"
   },
   {
    "duration": 5,
    "start_time": "2021-09-20T10:46:25.387Z"
   },
   {
    "duration": 305,
    "start_time": "2021-09-20T10:49:17.542Z"
   },
   {
    "duration": 325,
    "start_time": "2021-09-20T10:53:31.086Z"
   },
   {
    "duration": 247,
    "start_time": "2021-09-20T10:53:53.371Z"
   },
   {
    "duration": 341,
    "start_time": "2021-09-20T16:48:47.216Z"
   },
   {
    "duration": 1908,
    "start_time": "2021-09-20T16:48:57.740Z"
   },
   {
    "duration": 184,
    "start_time": "2021-09-20T16:48:59.651Z"
   },
   {
    "duration": 4,
    "start_time": "2021-09-20T16:48:59.838Z"
   },
   {
    "duration": 14,
    "start_time": "2021-09-20T16:48:59.845Z"
   },
   {
    "duration": 35,
    "start_time": "2021-09-20T16:48:59.861Z"
   },
   {
    "duration": 95,
    "start_time": "2021-09-20T16:48:59.899Z"
   },
   {
    "duration": 106,
    "start_time": "2021-09-20T16:48:59.996Z"
   },
   {
    "duration": 128,
    "start_time": "2021-09-20T16:49:00.105Z"
   },
   {
    "duration": 13,
    "start_time": "2021-09-20T16:49:00.238Z"
   },
   {
    "duration": 44,
    "start_time": "2021-09-20T16:49:00.253Z"
   },
   {
    "duration": 26,
    "start_time": "2021-09-20T16:49:00.299Z"
   },
   {
    "duration": 696,
    "start_time": "2021-09-20T16:49:00.327Z"
   },
   {
    "duration": 35,
    "start_time": "2021-09-20T16:49:01.025Z"
   },
   {
    "duration": 195,
    "start_time": "2021-09-20T16:49:01.063Z"
   },
   {
    "duration": 32,
    "start_time": "2021-09-20T16:49:01.261Z"
   },
   {
    "duration": 39,
    "start_time": "2021-09-20T16:49:01.296Z"
   },
   {
    "duration": 105,
    "start_time": "2021-09-20T16:49:01.338Z"
   },
   {
    "duration": 6,
    "start_time": "2021-09-20T16:49:01.446Z"
   },
   {
    "duration": 38,
    "start_time": "2021-09-20T16:49:01.454Z"
   },
   {
    "duration": 36,
    "start_time": "2021-09-20T16:49:01.494Z"
   },
   {
    "duration": 98,
    "start_time": "2021-09-20T16:49:01.533Z"
   },
   {
    "duration": 6,
    "start_time": "2021-09-20T16:49:01.634Z"
   },
   {
    "duration": 39,
    "start_time": "2021-09-20T16:49:01.643Z"
   },
   {
    "duration": 8,
    "start_time": "2021-09-20T16:49:01.685Z"
   },
   {
    "duration": 20,
    "start_time": "2021-09-20T16:49:01.695Z"
   },
   {
    "duration": 774,
    "start_time": "2021-09-20T16:49:01.718Z"
   },
   {
    "duration": 442,
    "start_time": "2021-09-20T16:49:02.497Z"
   },
   {
    "duration": 14,
    "start_time": "2021-09-20T16:49:02.942Z"
   },
   {
    "duration": 31,
    "start_time": "2021-09-20T16:49:02.958Z"
   },
   {
    "duration": 4,
    "start_time": "2021-09-20T16:49:02.991Z"
   },
   {
    "duration": 23,
    "start_time": "2021-09-20T16:49:02.997Z"
   },
   {
    "duration": 13,
    "start_time": "2021-09-20T16:49:03.022Z"
   },
   {
    "duration": 7486,
    "start_time": "2021-09-20T16:49:03.037Z"
   },
   {
    "duration": -1451,
    "start_time": "2021-09-20T16:49:11.978Z"
   },
   {
    "duration": -1454,
    "start_time": "2021-09-20T16:49:11.983Z"
   },
   {
    "duration": -1458,
    "start_time": "2021-09-20T16:49:11.989Z"
   },
   {
    "duration": -1458,
    "start_time": "2021-09-20T16:49:11.992Z"
   },
   {
    "duration": -1465,
    "start_time": "2021-09-20T16:49:12.000Z"
   },
   {
    "duration": -1465,
    "start_time": "2021-09-20T16:49:12.003Z"
   },
   {
    "duration": -1466,
    "start_time": "2021-09-20T16:49:12.006Z"
   },
   {
    "duration": -1468,
    "start_time": "2021-09-20T16:49:12.010Z"
   },
   {
    "duration": -1470,
    "start_time": "2021-09-20T16:49:12.014Z"
   },
   {
    "duration": 294,
    "start_time": "2021-09-20T16:50:43.606Z"
   },
   {
    "duration": 412,
    "start_time": "2021-09-20T16:55:05.716Z"
   },
   {
    "duration": 14,
    "start_time": "2021-09-20T17:01:02.506Z"
   },
   {
    "duration": 4,
    "start_time": "2021-09-20T17:01:27.120Z"
   },
   {
    "duration": 201,
    "start_time": "2021-09-20T17:01:27.127Z"
   },
   {
    "duration": 4,
    "start_time": "2021-09-20T17:01:27.331Z"
   },
   {
    "duration": 15,
    "start_time": "2021-09-20T17:01:27.337Z"
   },
   {
    "duration": 43,
    "start_time": "2021-09-20T17:01:27.355Z"
   },
   {
    "duration": 95,
    "start_time": "2021-09-20T17:01:27.400Z"
   },
   {
    "duration": 99,
    "start_time": "2021-09-20T17:01:27.497Z"
   },
   {
    "duration": 240,
    "start_time": "2021-09-20T17:01:27.599Z"
   },
   {
    "duration": 15,
    "start_time": "2021-09-20T17:01:27.843Z"
   },
   {
    "duration": 54,
    "start_time": "2021-09-20T17:01:27.861Z"
   },
   {
    "duration": 36,
    "start_time": "2021-09-20T17:01:27.918Z"
   },
   {
    "duration": 540,
    "start_time": "2021-09-20T17:01:27.957Z"
   },
   {
    "duration": 33,
    "start_time": "2021-09-20T17:01:28.499Z"
   },
   {
    "duration": 191,
    "start_time": "2021-09-20T17:01:28.534Z"
   },
   {
    "duration": 19,
    "start_time": "2021-09-20T17:01:28.727Z"
   },
   {
    "duration": 58,
    "start_time": "2021-09-20T17:01:28.749Z"
   },
   {
    "duration": 84,
    "start_time": "2021-09-20T17:01:28.810Z"
   },
   {
    "duration": 8,
    "start_time": "2021-09-20T17:01:28.897Z"
   },
   {
    "duration": 16,
    "start_time": "2021-09-20T17:01:28.907Z"
   },
   {
    "duration": 60,
    "start_time": "2021-09-20T17:01:28.925Z"
   },
   {
    "duration": 72,
    "start_time": "2021-09-20T17:01:28.988Z"
   },
   {
    "duration": 5,
    "start_time": "2021-09-20T17:01:29.063Z"
   },
   {
    "duration": 28,
    "start_time": "2021-09-20T17:01:29.072Z"
   },
   {
    "duration": 9,
    "start_time": "2021-09-20T17:01:29.103Z"
   },
   {
    "duration": 10,
    "start_time": "2021-09-20T17:01:29.114Z"
   },
   {
    "duration": 226,
    "start_time": "2021-09-20T17:01:29.127Z"
   },
   {
    "duration": 316,
    "start_time": "2021-09-20T17:01:29.356Z"
   },
   {
    "duration": 18,
    "start_time": "2021-09-20T17:01:29.674Z"
   },
   {
    "duration": 19,
    "start_time": "2021-09-20T17:01:29.694Z"
   },
   {
    "duration": 8,
    "start_time": "2021-09-20T17:01:29.715Z"
   },
   {
    "duration": 16,
    "start_time": "2021-09-20T17:01:29.725Z"
   },
   {
    "duration": 41,
    "start_time": "2021-09-20T17:01:29.743Z"
   },
   {
    "duration": 11,
    "start_time": "2021-09-20T17:01:29.786Z"
   },
   {
    "duration": 433,
    "start_time": "2021-09-20T17:01:29.799Z"
   },
   {
    "duration": 8700,
    "start_time": "2021-09-20T17:01:30.235Z"
   },
   {
    "duration": -1457,
    "start_time": "2021-09-20T17:01:40.394Z"
   },
   {
    "duration": -1460,
    "start_time": "2021-09-20T17:01:40.399Z"
   },
   {
    "duration": -1463,
    "start_time": "2021-09-20T17:01:40.404Z"
   },
   {
    "duration": -1467,
    "start_time": "2021-09-20T17:01:40.409Z"
   },
   {
    "duration": -1471,
    "start_time": "2021-09-20T17:01:40.414Z"
   },
   {
    "duration": -1473,
    "start_time": "2021-09-20T17:01:40.418Z"
   },
   {
    "duration": -1479,
    "start_time": "2021-09-20T17:01:40.425Z"
   },
   {
    "duration": -1482,
    "start_time": "2021-09-20T17:01:40.430Z"
   },
   {
    "duration": -1485,
    "start_time": "2021-09-20T17:01:40.434Z"
   },
   {
    "duration": 512,
    "start_time": "2021-09-20T17:03:26.846Z"
   },
   {
    "duration": 269,
    "start_time": "2021-09-20T17:10:54.037Z"
   },
   {
    "duration": 5,
    "start_time": "2021-09-20T17:12:12.061Z"
   },
   {
    "duration": 189,
    "start_time": "2021-09-20T17:12:12.068Z"
   },
   {
    "duration": 22,
    "start_time": "2021-09-20T17:12:12.260Z"
   },
   {
    "duration": 11,
    "start_time": "2021-09-20T17:12:12.285Z"
   },
   {
    "duration": 24,
    "start_time": "2021-09-20T17:12:12.298Z"
   },
   {
    "duration": 104,
    "start_time": "2021-09-20T17:12:12.325Z"
   },
   {
    "duration": 105,
    "start_time": "2021-09-20T17:12:12.432Z"
   },
   {
    "duration": 125,
    "start_time": "2021-09-20T17:12:12.541Z"
   },
   {
    "duration": 19,
    "start_time": "2021-09-20T17:12:12.669Z"
   },
   {
    "duration": 28,
    "start_time": "2021-09-20T17:12:12.690Z"
   },
   {
    "duration": 25,
    "start_time": "2021-09-20T17:12:12.720Z"
   },
   {
    "duration": 544,
    "start_time": "2021-09-20T17:12:12.748Z"
   },
   {
    "duration": 33,
    "start_time": "2021-09-20T17:12:13.294Z"
   },
   {
    "duration": 174,
    "start_time": "2021-09-20T17:12:13.329Z"
   },
   {
    "duration": 18,
    "start_time": "2021-09-20T17:12:13.506Z"
   },
   {
    "duration": 61,
    "start_time": "2021-09-20T17:12:13.526Z"
   },
   {
    "duration": 68,
    "start_time": "2021-09-20T17:12:13.590Z"
   },
   {
    "duration": 5,
    "start_time": "2021-09-20T17:12:13.660Z"
   },
   {
    "duration": 10,
    "start_time": "2021-09-20T17:12:13.682Z"
   },
   {
    "duration": 33,
    "start_time": "2021-09-20T17:12:13.694Z"
   },
   {
    "duration": 92,
    "start_time": "2021-09-20T17:12:13.729Z"
   },
   {
    "duration": 5,
    "start_time": "2021-09-20T17:12:13.823Z"
   },
   {
    "duration": 20,
    "start_time": "2021-09-20T17:12:13.833Z"
   },
   {
    "duration": 29,
    "start_time": "2021-09-20T17:12:13.856Z"
   },
   {
    "duration": 11,
    "start_time": "2021-09-20T17:12:13.887Z"
   },
   {
    "duration": 200,
    "start_time": "2021-09-20T17:12:13.900Z"
   },
   {
    "duration": 325,
    "start_time": "2021-09-20T17:12:14.102Z"
   },
   {
    "duration": 13,
    "start_time": "2021-09-20T17:12:14.429Z"
   },
   {
    "duration": 19,
    "start_time": "2021-09-20T17:12:14.444Z"
   },
   {
    "duration": 19,
    "start_time": "2021-09-20T17:12:14.465Z"
   },
   {
    "duration": 18,
    "start_time": "2021-09-20T17:12:14.486Z"
   },
   {
    "duration": 16,
    "start_time": "2021-09-20T17:12:14.506Z"
   },
   {
    "duration": 14,
    "start_time": "2021-09-20T17:12:14.525Z"
   },
   {
    "duration": 795,
    "start_time": "2021-09-20T17:12:14.542Z"
   },
   {
    "duration": 7128,
    "start_time": "2021-09-20T17:12:15.340Z"
   },
   {
    "duration": -1458,
    "start_time": "2021-09-20T17:12:23.929Z"
   },
   {
    "duration": -1467,
    "start_time": "2021-09-20T17:12:23.939Z"
   },
   {
    "duration": -1473,
    "start_time": "2021-09-20T17:12:23.947Z"
   },
   {
    "duration": -1476,
    "start_time": "2021-09-20T17:12:23.951Z"
   },
   {
    "duration": -1489,
    "start_time": "2021-09-20T17:12:23.966Z"
   },
   {
    "duration": -1493,
    "start_time": "2021-09-20T17:12:23.971Z"
   },
   {
    "duration": -1499,
    "start_time": "2021-09-20T17:12:23.978Z"
   },
   {
    "duration": -1500,
    "start_time": "2021-09-20T17:12:23.981Z"
   },
   {
    "duration": -1503,
    "start_time": "2021-09-20T17:12:23.985Z"
   },
   {
    "duration": 799,
    "start_time": "2021-09-20T17:14:12.984Z"
   },
   {
    "duration": 523,
    "start_time": "2021-09-20T17:14:30.854Z"
   },
   {
    "duration": 287,
    "start_time": "2021-09-20T17:15:07.158Z"
   },
   {
    "duration": 907,
    "start_time": "2021-09-20T17:15:54.094Z"
   },
   {
    "duration": 482,
    "start_time": "2021-09-20T17:16:52.022Z"
   },
   {
    "duration": 760,
    "start_time": "2021-09-20T17:17:22.023Z"
   },
   {
    "duration": 725,
    "start_time": "2021-09-20T17:19:35.895Z"
   },
   {
    "duration": 545,
    "start_time": "2021-09-20T17:20:46.216Z"
   },
   {
    "duration": 510,
    "start_time": "2021-09-20T17:21:13.511Z"
   },
   {
    "duration": 501,
    "start_time": "2021-09-20T17:21:39.239Z"
   },
   {
    "duration": 280,
    "start_time": "2021-09-20T17:21:49.327Z"
   },
   {
    "duration": 499,
    "start_time": "2021-09-20T17:22:02.079Z"
   },
   {
    "duration": 474,
    "start_time": "2021-09-20T17:23:02.783Z"
   },
   {
    "duration": 517,
    "start_time": "2021-09-20T17:23:30.294Z"
   },
   {
    "duration": 447,
    "start_time": "2021-09-20T17:24:31.626Z"
   },
   {
    "duration": 479,
    "start_time": "2021-09-20T17:25:05.040Z"
   },
   {
    "duration": 308,
    "start_time": "2021-09-20T17:26:28.360Z"
   },
   {
    "duration": 496,
    "start_time": "2021-09-20T17:41:45.964Z"
   },
   {
    "duration": 457,
    "start_time": "2021-09-20T17:45:49.409Z"
   },
   {
    "duration": 218,
    "start_time": "2021-09-20T17:46:15.994Z"
   },
   {
    "duration": 459,
    "start_time": "2021-09-20T17:46:31.130Z"
   },
   {
    "duration": 1845,
    "start_time": "2021-09-20T17:47:07.994Z"
   },
   {
    "duration": 174,
    "start_time": "2021-09-20T17:47:09.842Z"
   },
   {
    "duration": 4,
    "start_time": "2021-09-20T17:47:10.020Z"
   },
   {
    "duration": 15,
    "start_time": "2021-09-20T17:47:10.028Z"
   },
   {
    "duration": 46,
    "start_time": "2021-09-20T17:47:10.046Z"
   },
   {
    "duration": 90,
    "start_time": "2021-09-20T17:47:10.094Z"
   },
   {
    "duration": 98,
    "start_time": "2021-09-20T17:47:10.186Z"
   },
   {
    "duration": 124,
    "start_time": "2021-09-20T17:47:10.288Z"
   },
   {
    "duration": 15,
    "start_time": "2021-09-20T17:47:10.415Z"
   },
   {
    "duration": 30,
    "start_time": "2021-09-20T17:47:10.432Z"
   },
   {
    "duration": 26,
    "start_time": "2021-09-20T17:47:10.482Z"
   },
   {
    "duration": 521,
    "start_time": "2021-09-20T17:47:10.511Z"
   },
   {
    "duration": 49,
    "start_time": "2021-09-20T17:47:11.034Z"
   },
   {
    "duration": 171,
    "start_time": "2021-09-20T17:47:11.085Z"
   },
   {
    "duration": 34,
    "start_time": "2021-09-20T17:47:11.258Z"
   },
   {
    "duration": 47,
    "start_time": "2021-09-20T17:47:11.294Z"
   },
   {
    "duration": 85,
    "start_time": "2021-09-20T17:47:11.344Z"
   },
   {
    "duration": 5,
    "start_time": "2021-09-20T17:47:11.431Z"
   },
   {
    "duration": 19,
    "start_time": "2021-09-20T17:47:11.438Z"
   },
   {
    "duration": 44,
    "start_time": "2021-09-20T17:47:11.460Z"
   },
   {
    "duration": 78,
    "start_time": "2021-09-20T17:47:11.507Z"
   },
   {
    "duration": 5,
    "start_time": "2021-09-20T17:47:11.588Z"
   },
   {
    "duration": 19,
    "start_time": "2021-09-20T17:47:11.598Z"
   },
   {
    "duration": 6,
    "start_time": "2021-09-20T17:47:11.620Z"
   },
   {
    "duration": 14,
    "start_time": "2021-09-20T17:47:11.628Z"
   },
   {
    "duration": 758,
    "start_time": "2021-09-20T17:47:11.644Z"
   },
   {
    "duration": 444,
    "start_time": "2021-09-20T17:47:12.404Z"
   },
   {
    "duration": 14,
    "start_time": "2021-09-20T17:47:12.850Z"
   },
   {
    "duration": 25,
    "start_time": "2021-09-20T17:47:12.866Z"
   },
   {
    "duration": 7,
    "start_time": "2021-09-20T17:47:12.893Z"
   },
   {
    "duration": 27,
    "start_time": "2021-09-20T17:47:12.902Z"
   },
   {
    "duration": 12,
    "start_time": "2021-09-20T17:47:12.932Z"
   },
   {
    "duration": 41,
    "start_time": "2021-09-20T17:47:12.947Z"
   },
   {
    "duration": 701,
    "start_time": "2021-09-20T17:47:12.990Z"
   },
   {
    "duration": -2809,
    "start_time": "2021-09-20T17:47:16.502Z"
   },
   {
    "duration": -2810,
    "start_time": "2021-09-20T17:47:16.505Z"
   },
   {
    "duration": -2813,
    "start_time": "2021-09-20T17:47:16.509Z"
   },
   {
    "duration": -2816,
    "start_time": "2021-09-20T17:47:16.513Z"
   },
   {
    "duration": -2825,
    "start_time": "2021-09-20T17:47:16.524Z"
   },
   {
    "duration": -2828,
    "start_time": "2021-09-20T17:47:16.528Z"
   },
   {
    "duration": -2830,
    "start_time": "2021-09-20T17:47:16.531Z"
   },
   {
    "duration": -2832,
    "start_time": "2021-09-20T17:47:16.534Z"
   },
   {
    "duration": -2898,
    "start_time": "2021-09-20T17:47:16.601Z"
   },
   {
    "duration": -2928,
    "start_time": "2021-09-20T17:47:16.632Z"
   },
   {
    "duration": 453,
    "start_time": "2021-09-20T17:53:24.332Z"
   },
   {
    "duration": 566,
    "start_time": "2021-09-20T17:53:43.205Z"
   },
   {
    "duration": 585,
    "start_time": "2021-09-20T17:55:21.166Z"
   },
   {
    "duration": 795,
    "start_time": "2021-09-20T17:56:14.615Z"
   },
   {
    "duration": 819,
    "start_time": "2021-09-20T17:57:45.605Z"
   },
   {
    "duration": 805,
    "start_time": "2021-09-20T17:58:11.709Z"
   },
   {
    "duration": 511,
    "start_time": "2021-09-20T17:58:41.079Z"
   },
   {
    "duration": 497,
    "start_time": "2021-09-20T17:58:57.774Z"
   },
   {
    "duration": 638,
    "start_time": "2021-09-20T18:02:14.118Z"
   },
   {
    "duration": 775,
    "start_time": "2021-09-20T18:04:39.638Z"
   },
   {
    "duration": 832,
    "start_time": "2021-09-20T18:05:53.796Z"
   },
   {
    "duration": 895,
    "start_time": "2021-09-20T18:29:08.936Z"
   },
   {
    "duration": 1887,
    "start_time": "2021-09-20T18:30:44.450Z"
   },
   {
    "duration": 102,
    "start_time": "2021-09-20T18:31:21.535Z"
   },
   {
    "duration": 1962,
    "start_time": "2021-09-20T18:31:57.371Z"
   },
   {
    "duration": 176,
    "start_time": "2021-09-20T18:31:59.336Z"
   },
   {
    "duration": 4,
    "start_time": "2021-09-20T18:31:59.515Z"
   },
   {
    "duration": 16,
    "start_time": "2021-09-20T18:31:59.521Z"
   },
   {
    "duration": 43,
    "start_time": "2021-09-20T18:31:59.539Z"
   },
   {
    "duration": 78,
    "start_time": "2021-09-20T18:31:59.584Z"
   },
   {
    "duration": 102,
    "start_time": "2021-09-20T18:31:59.664Z"
   },
   {
    "duration": 132,
    "start_time": "2021-09-20T18:31:59.770Z"
   },
   {
    "duration": 14,
    "start_time": "2021-09-20T18:31:59.905Z"
   },
   {
    "duration": 27,
    "start_time": "2021-09-20T18:31:59.921Z"
   },
   {
    "duration": 55,
    "start_time": "2021-09-20T18:31:59.951Z"
   },
   {
    "duration": 521,
    "start_time": "2021-09-20T18:32:00.008Z"
   },
   {
    "duration": 51,
    "start_time": "2021-09-20T18:32:00.531Z"
   },
   {
    "duration": 177,
    "start_time": "2021-09-20T18:32:00.585Z"
   },
   {
    "duration": 27,
    "start_time": "2021-09-20T18:32:00.765Z"
   },
   {
    "duration": 47,
    "start_time": "2021-09-20T18:32:00.795Z"
   },
   {
    "duration": 89,
    "start_time": "2021-09-20T18:32:00.845Z"
   },
   {
    "duration": 8,
    "start_time": "2021-09-20T18:32:00.937Z"
   },
   {
    "duration": 34,
    "start_time": "2021-09-20T18:32:00.948Z"
   },
   {
    "duration": 32,
    "start_time": "2021-09-20T18:32:00.985Z"
   },
   {
    "duration": 120,
    "start_time": "2021-09-20T18:32:01.020Z"
   },
   {
    "duration": 7,
    "start_time": "2021-09-20T18:32:01.142Z"
   },
   {
    "duration": 61,
    "start_time": "2021-09-20T18:32:01.154Z"
   },
   {
    "duration": 6,
    "start_time": "2021-09-20T18:32:01.219Z"
   },
   {
    "duration": 30,
    "start_time": "2021-09-20T18:32:01.227Z"
   },
   {
    "duration": 1014,
    "start_time": "2021-09-20T18:32:01.260Z"
   },
   {
    "duration": 461,
    "start_time": "2021-09-20T18:32:02.283Z"
   },
   {
    "duration": 20,
    "start_time": "2021-09-20T18:32:02.747Z"
   },
   {
    "duration": 16,
    "start_time": "2021-09-20T18:32:02.784Z"
   },
   {
    "duration": 8,
    "start_time": "2021-09-20T18:32:02.802Z"
   },
   {
    "duration": 27,
    "start_time": "2021-09-20T18:32:02.812Z"
   },
   {
    "duration": 13,
    "start_time": "2021-09-20T18:32:02.841Z"
   },
   {
    "duration": 12,
    "start_time": "2021-09-20T18:32:02.883Z"
   },
   {
    "duration": 124,
    "start_time": "2021-09-20T18:32:02.898Z"
   },
   {
    "duration": 9391,
    "start_time": "2021-09-20T18:32:03.024Z"
   },
   {
    "duration": -132,
    "start_time": "2021-09-20T18:32:12.549Z"
   },
   {
    "duration": -134,
    "start_time": "2021-09-20T18:32:12.553Z"
   },
   {
    "duration": -141,
    "start_time": "2021-09-20T18:32:12.561Z"
   },
   {
    "duration": -146,
    "start_time": "2021-09-20T18:32:12.567Z"
   },
   {
    "duration": -151,
    "start_time": "2021-09-20T18:32:12.573Z"
   },
   {
    "duration": -153,
    "start_time": "2021-09-20T18:32:12.577Z"
   },
   {
    "duration": -157,
    "start_time": "2021-09-20T18:32:12.582Z"
   },
   {
    "duration": -159,
    "start_time": "2021-09-20T18:32:12.586Z"
   },
   {
    "duration": -168,
    "start_time": "2021-09-20T18:32:12.596Z"
   },
   {
    "duration": 942,
    "start_time": "2021-09-20T18:32:49.961Z"
   },
   {
    "duration": 87,
    "start_time": "2021-09-20T18:38:02.584Z"
   },
   {
    "duration": 238,
    "start_time": "2021-09-20T18:38:02.674Z"
   },
   {
    "duration": 4,
    "start_time": "2021-09-20T18:38:02.915Z"
   },
   {
    "duration": 21,
    "start_time": "2021-09-20T18:38:02.921Z"
   },
   {
    "duration": 37,
    "start_time": "2021-09-20T18:38:02.945Z"
   },
   {
    "duration": 75,
    "start_time": "2021-09-20T18:38:02.985Z"
   },
   {
    "duration": 105,
    "start_time": "2021-09-20T18:38:03.062Z"
   },
   {
    "duration": 137,
    "start_time": "2021-09-20T18:38:03.171Z"
   },
   {
    "duration": 14,
    "start_time": "2021-09-20T18:38:03.311Z"
   },
   {
    "duration": 34,
    "start_time": "2021-09-20T18:38:03.327Z"
   },
   {
    "duration": 26,
    "start_time": "2021-09-20T18:38:03.383Z"
   },
   {
    "duration": 553,
    "start_time": "2021-09-20T18:38:03.412Z"
   },
   {
    "duration": 41,
    "start_time": "2021-09-20T18:38:03.967Z"
   },
   {
    "duration": 192,
    "start_time": "2021-09-20T18:38:04.011Z"
   },
   {
    "duration": 23,
    "start_time": "2021-09-20T18:38:04.205Z"
   },
   {
    "duration": 61,
    "start_time": "2021-09-20T18:38:04.231Z"
   },
   {
    "duration": 93,
    "start_time": "2021-09-20T18:38:04.294Z"
   },
   {
    "duration": 6,
    "start_time": "2021-09-20T18:38:04.389Z"
   },
   {
    "duration": 17,
    "start_time": "2021-09-20T18:38:04.397Z"
   },
   {
    "duration": 28,
    "start_time": "2021-09-20T18:38:04.417Z"
   },
   {
    "duration": 105,
    "start_time": "2021-09-20T18:38:04.448Z"
   },
   {
    "duration": 4,
    "start_time": "2021-09-20T18:38:04.556Z"
   },
   {
    "duration": 19,
    "start_time": "2021-09-20T18:38:04.582Z"
   },
   {
    "duration": 6,
    "start_time": "2021-09-20T18:38:04.604Z"
   },
   {
    "duration": 13,
    "start_time": "2021-09-20T18:38:04.612Z"
   },
   {
    "duration": 219,
    "start_time": "2021-09-20T18:38:04.627Z"
   },
   {
    "duration": 335,
    "start_time": "2021-09-20T18:38:04.849Z"
   },
   {
    "duration": 18,
    "start_time": "2021-09-20T18:38:05.187Z"
   },
   {
    "duration": 21,
    "start_time": "2021-09-20T18:38:05.208Z"
   },
   {
    "duration": 6,
    "start_time": "2021-09-20T18:38:05.232Z"
   },
   {
    "duration": 42,
    "start_time": "2021-09-20T18:38:05.240Z"
   },
   {
    "duration": 19,
    "start_time": "2021-09-20T18:38:05.285Z"
   },
   {
    "duration": 661,
    "start_time": "2021-09-20T18:38:05.306Z"
   },
   {
    "duration": 18,
    "start_time": "2021-09-20T18:38:05.970Z"
   },
   {
    "duration": 859,
    "start_time": "2021-09-20T18:38:05.991Z"
   },
   {
    "duration": 8953,
    "start_time": "2021-09-20T18:38:06.852Z"
   },
   {
    "duration": -149,
    "start_time": "2021-09-20T18:38:15.956Z"
   },
   {
    "duration": -162,
    "start_time": "2021-09-20T18:38:15.971Z"
   },
   {
    "duration": -170,
    "start_time": "2021-09-20T18:38:15.981Z"
   },
   {
    "duration": -182,
    "start_time": "2021-09-20T18:38:15.994Z"
   },
   {
    "duration": -191,
    "start_time": "2021-09-20T18:38:16.005Z"
   },
   {
    "duration": -198,
    "start_time": "2021-09-20T18:38:16.014Z"
   },
   {
    "duration": -210,
    "start_time": "2021-09-20T18:38:16.027Z"
   },
   {
    "duration": -228,
    "start_time": "2021-09-20T18:38:16.047Z"
   },
   {
    "duration": -250,
    "start_time": "2021-09-20T18:38:16.070Z"
   },
   {
    "duration": 5,
    "start_time": "2021-09-20T18:40:27.001Z"
   },
   {
    "duration": 200,
    "start_time": "2021-09-20T18:40:27.009Z"
   },
   {
    "duration": 4,
    "start_time": "2021-09-20T18:40:27.212Z"
   },
   {
    "duration": 24,
    "start_time": "2021-09-20T18:40:27.219Z"
   },
   {
    "duration": 38,
    "start_time": "2021-09-20T18:40:27.246Z"
   },
   {
    "duration": 73,
    "start_time": "2021-09-20T18:40:27.287Z"
   },
   {
    "duration": 101,
    "start_time": "2021-09-20T18:40:27.364Z"
   },
   {
    "duration": 140,
    "start_time": "2021-09-20T18:40:27.470Z"
   },
   {
    "duration": 12,
    "start_time": "2021-09-20T18:40:27.613Z"
   },
   {
    "duration": 28,
    "start_time": "2021-09-20T18:40:27.627Z"
   },
   {
    "duration": 54,
    "start_time": "2021-09-20T18:40:27.658Z"
   },
   {
    "duration": 553,
    "start_time": "2021-09-20T18:40:27.715Z"
   },
   {
    "duration": 41,
    "start_time": "2021-09-20T18:40:28.271Z"
   },
   {
    "duration": 177,
    "start_time": "2021-09-20T18:40:28.314Z"
   },
   {
    "duration": 18,
    "start_time": "2021-09-20T18:40:28.493Z"
   },
   {
    "duration": 38,
    "start_time": "2021-09-20T18:40:28.514Z"
   },
   {
    "duration": 89,
    "start_time": "2021-09-20T18:40:28.555Z"
   },
   {
    "duration": 5,
    "start_time": "2021-09-20T18:40:28.647Z"
   },
   {
    "duration": 35,
    "start_time": "2021-09-20T18:40:28.656Z"
   },
   {
    "duration": 32,
    "start_time": "2021-09-20T18:40:28.694Z"
   },
   {
    "duration": 83,
    "start_time": "2021-09-20T18:40:28.729Z"
   },
   {
    "duration": 4,
    "start_time": "2021-09-20T18:40:28.815Z"
   },
   {
    "duration": 28,
    "start_time": "2021-09-20T18:40:28.821Z"
   },
   {
    "duration": 6,
    "start_time": "2021-09-20T18:40:28.851Z"
   },
   {
    "duration": 7,
    "start_time": "2021-09-20T18:40:28.882Z"
   },
   {
    "duration": 194,
    "start_time": "2021-09-20T18:40:28.892Z"
   },
   {
    "duration": 319,
    "start_time": "2021-09-20T18:40:29.089Z"
   },
   {
    "duration": 14,
    "start_time": "2021-09-20T18:40:29.410Z"
   },
   {
    "duration": 16,
    "start_time": "2021-09-20T18:40:29.427Z"
   },
   {
    "duration": 5,
    "start_time": "2021-09-20T18:40:29.446Z"
   },
   {
    "duration": 36,
    "start_time": "2021-09-20T18:40:29.453Z"
   },
   {
    "duration": 16,
    "start_time": "2021-09-20T18:40:29.491Z"
   },
   {
    "duration": 745,
    "start_time": "2021-09-20T18:40:29.509Z"
   },
   {
    "duration": 11,
    "start_time": "2021-09-20T18:40:30.256Z"
   },
   {
    "duration": 940,
    "start_time": "2021-09-20T18:40:30.269Z"
   },
   {
    "duration": 11,
    "start_time": "2021-09-20T18:40:31.212Z"
   },
   {
    "duration": 60,
    "start_time": "2021-09-20T18:40:31.225Z"
   },
   {
    "duration": 48,
    "start_time": "2021-09-20T18:40:31.287Z"
   },
   {
    "duration": 22,
    "start_time": "2021-09-20T18:40:31.337Z"
   },
   {
    "duration": 30,
    "start_time": "2021-09-20T18:40:31.362Z"
   },
   {
    "duration": 47,
    "start_time": "2021-09-20T18:40:31.402Z"
   },
   {
    "duration": 62,
    "start_time": "2021-09-20T18:40:31.452Z"
   },
   {
    "duration": 50,
    "start_time": "2021-09-20T18:40:31.516Z"
   },
   {
    "duration": 27,
    "start_time": "2021-09-20T18:40:31.569Z"
   },
   {
    "duration": 5,
    "start_time": "2021-09-20T18:43:09.962Z"
   },
   {
    "duration": 220,
    "start_time": "2021-09-20T18:43:09.970Z"
   },
   {
    "duration": 5,
    "start_time": "2021-09-20T18:43:10.194Z"
   },
   {
    "duration": 16,
    "start_time": "2021-09-20T18:43:10.203Z"
   },
   {
    "duration": 23,
    "start_time": "2021-09-20T18:43:10.222Z"
   },
   {
    "duration": 104,
    "start_time": "2021-09-20T18:43:10.248Z"
   },
   {
    "duration": 106,
    "start_time": "2021-09-20T18:43:10.355Z"
   },
   {
    "duration": 127,
    "start_time": "2021-09-20T18:43:10.466Z"
   },
   {
    "duration": 17,
    "start_time": "2021-09-20T18:43:10.597Z"
   },
   {
    "duration": 27,
    "start_time": "2021-09-20T18:43:10.617Z"
   },
   {
    "duration": 53,
    "start_time": "2021-09-20T18:43:10.647Z"
   },
   {
    "duration": 507,
    "start_time": "2021-09-20T18:43:10.703Z"
   },
   {
    "duration": 37,
    "start_time": "2021-09-20T18:43:11.213Z"
   },
   {
    "duration": 181,
    "start_time": "2021-09-20T18:43:11.252Z"
   },
   {
    "duration": 19,
    "start_time": "2021-09-20T18:43:11.435Z"
   },
   {
    "duration": 65,
    "start_time": "2021-09-20T18:43:11.458Z"
   },
   {
    "duration": 87,
    "start_time": "2021-09-20T18:43:11.526Z"
   },
   {
    "duration": 6,
    "start_time": "2021-09-20T18:43:11.615Z"
   },
   {
    "duration": 15,
    "start_time": "2021-09-20T18:43:11.624Z"
   },
   {
    "duration": 53,
    "start_time": "2021-09-20T18:43:11.641Z"
   },
   {
    "duration": 90,
    "start_time": "2021-09-20T18:43:11.696Z"
   },
   {
    "duration": 6,
    "start_time": "2021-09-20T18:43:11.789Z"
   },
   {
    "duration": 29,
    "start_time": "2021-09-20T18:43:11.803Z"
   },
   {
    "duration": 8,
    "start_time": "2021-09-20T18:43:11.836Z"
   },
   {
    "duration": 37,
    "start_time": "2021-09-20T18:43:11.847Z"
   },
   {
    "duration": 310,
    "start_time": "2021-09-20T18:43:11.887Z"
   },
   {
    "duration": 338,
    "start_time": "2021-09-20T18:43:12.199Z"
   },
   {
    "duration": 13,
    "start_time": "2021-09-20T18:43:12.540Z"
   },
   {
    "duration": 31,
    "start_time": "2021-09-20T18:43:12.556Z"
   },
   {
    "duration": 7,
    "start_time": "2021-09-20T18:43:12.589Z"
   },
   {
    "duration": 27,
    "start_time": "2021-09-20T18:43:12.599Z"
   },
   {
    "duration": 25,
    "start_time": "2021-09-20T18:43:12.629Z"
   },
   {
    "duration": 589,
    "start_time": "2021-09-20T18:43:12.657Z"
   },
   {
    "duration": 33,
    "start_time": "2021-09-20T18:43:13.249Z"
   },
   {
    "duration": 755,
    "start_time": "2021-09-20T18:43:13.285Z"
   },
   {
    "duration": 880,
    "start_time": "2021-09-20T18:43:14.043Z"
   },
   {
    "duration": 9,
    "start_time": "2021-09-20T18:43:14.926Z"
   },
   {
    "duration": 50,
    "start_time": "2021-09-20T18:43:14.938Z"
   },
   {
    "duration": 15,
    "start_time": "2021-09-20T18:43:14.991Z"
   },
   {
    "duration": 46,
    "start_time": "2021-09-20T18:43:15.009Z"
   },
   {
    "duration": 47,
    "start_time": "2021-09-20T18:43:15.058Z"
   },
   {
    "duration": 24,
    "start_time": "2021-09-20T18:43:15.107Z"
   },
   {
    "duration": 55,
    "start_time": "2021-09-20T18:43:15.135Z"
   },
   {
    "duration": 24,
    "start_time": "2021-09-20T18:43:15.193Z"
   },
   {
    "duration": 64,
    "start_time": "2021-09-20T18:43:15.219Z"
   },
   {
    "duration": 559,
    "start_time": "2021-09-20T18:45:03.380Z"
   },
   {
    "duration": 584,
    "start_time": "2021-09-20T18:46:00.437Z"
   },
   {
    "duration": 815,
    "start_time": "2021-09-20T18:47:08.851Z"
   },
   {
    "duration": 509,
    "start_time": "2021-09-20T18:48:04.210Z"
   },
   {
    "duration": 808,
    "start_time": "2021-09-20T19:04:43.596Z"
   },
   {
    "duration": 590,
    "start_time": "2021-09-20T19:05:10.413Z"
   },
   {
    "duration": 527,
    "start_time": "2021-09-20T19:07:44.678Z"
   },
   {
    "duration": 505,
    "start_time": "2021-09-20T19:08:02.893Z"
   },
   {
    "duration": 477,
    "start_time": "2021-09-20T19:08:30.886Z"
   },
   {
    "duration": 504,
    "start_time": "2021-09-20T19:08:50.669Z"
   },
   {
    "duration": 511,
    "start_time": "2021-09-20T19:09:14.894Z"
   },
   {
    "duration": 500,
    "start_time": "2021-09-20T19:09:57.710Z"
   },
   {
    "duration": 483,
    "start_time": "2021-09-20T19:10:21.591Z"
   },
   {
    "duration": 726,
    "start_time": "2021-09-20T19:10:41.983Z"
   },
   {
    "duration": 606,
    "start_time": "2021-09-20T19:10:57.734Z"
   },
   {
    "duration": 536,
    "start_time": "2021-09-20T19:12:12.822Z"
   },
   {
    "duration": 640,
    "start_time": "2021-09-20T19:12:32.101Z"
   },
   {
    "duration": 512,
    "start_time": "2021-09-20T19:12:50.550Z"
   },
   {
    "duration": 1478,
    "start_time": "2021-09-21T05:27:08.612Z"
   },
   {
    "duration": 133,
    "start_time": "2021-09-21T05:27:10.092Z"
   },
   {
    "duration": 3,
    "start_time": "2021-09-21T05:27:10.227Z"
   },
   {
    "duration": 22,
    "start_time": "2021-09-21T05:27:10.232Z"
   },
   {
    "duration": 23,
    "start_time": "2021-09-21T05:27:10.256Z"
   },
   {
    "duration": 71,
    "start_time": "2021-09-21T05:27:10.281Z"
   },
   {
    "duration": 74,
    "start_time": "2021-09-21T05:27:10.354Z"
   },
   {
    "duration": 90,
    "start_time": "2021-09-21T05:27:10.431Z"
   },
   {
    "duration": 9,
    "start_time": "2021-09-21T05:27:10.524Z"
   },
   {
    "duration": 38,
    "start_time": "2021-09-21T05:27:10.535Z"
   },
   {
    "duration": 24,
    "start_time": "2021-09-21T05:27:10.575Z"
   },
   {
    "duration": 313,
    "start_time": "2021-09-21T05:27:10.601Z"
   },
   {
    "duration": 22,
    "start_time": "2021-09-21T05:27:10.916Z"
   },
   {
    "duration": 121,
    "start_time": "2021-09-21T05:27:10.940Z"
   },
   {
    "duration": 13,
    "start_time": "2021-09-21T05:27:11.062Z"
   },
   {
    "duration": 30,
    "start_time": "2021-09-21T05:27:11.076Z"
   },
   {
    "duration": 74,
    "start_time": "2021-09-21T05:27:11.108Z"
   },
   {
    "duration": 4,
    "start_time": "2021-09-21T05:27:11.184Z"
   },
   {
    "duration": 23,
    "start_time": "2021-09-21T05:27:11.190Z"
   },
   {
    "duration": 22,
    "start_time": "2021-09-21T05:27:11.215Z"
   },
   {
    "duration": 68,
    "start_time": "2021-09-21T05:27:11.239Z"
   },
   {
    "duration": 4,
    "start_time": "2021-09-21T05:27:11.310Z"
   },
   {
    "duration": 31,
    "start_time": "2021-09-21T05:27:11.319Z"
   },
   {
    "duration": 5,
    "start_time": "2021-09-21T05:27:11.353Z"
   },
   {
    "duration": 20,
    "start_time": "2021-09-21T05:27:11.360Z"
   },
   {
    "duration": 524,
    "start_time": "2021-09-21T05:27:11.381Z"
   },
   {
    "duration": 311,
    "start_time": "2021-09-21T05:27:11.906Z"
   },
   {
    "duration": 9,
    "start_time": "2021-09-21T05:27:12.219Z"
   },
   {
    "duration": 33,
    "start_time": "2021-09-21T05:27:12.230Z"
   },
   {
    "duration": 24,
    "start_time": "2021-09-21T05:27:12.265Z"
   },
   {
    "duration": 35,
    "start_time": "2021-09-21T05:27:12.291Z"
   },
   {
    "duration": 33,
    "start_time": "2021-09-21T05:27:12.328Z"
   },
   {
    "duration": 354,
    "start_time": "2021-09-21T05:27:12.362Z"
   },
   {
    "duration": 8,
    "start_time": "2021-09-21T05:27:12.718Z"
   },
   {
    "duration": 486,
    "start_time": "2021-09-21T05:27:12.727Z"
   },
   {
    "duration": 473,
    "start_time": "2021-09-21T05:27:13.215Z"
   },
   {
    "duration": 5,
    "start_time": "2021-09-21T05:27:13.690Z"
   },
   {
    "duration": 36,
    "start_time": "2021-09-21T05:27:13.697Z"
   },
   {
    "duration": 29,
    "start_time": "2021-09-21T05:27:13.734Z"
   },
   {
    "duration": 15,
    "start_time": "2021-09-21T05:27:13.765Z"
   },
   {
    "duration": 23,
    "start_time": "2021-09-21T05:27:13.782Z"
   },
   {
    "duration": 28,
    "start_time": "2021-09-21T05:27:13.807Z"
   },
   {
    "duration": 31,
    "start_time": "2021-09-21T05:27:13.837Z"
   },
   {
    "duration": 19,
    "start_time": "2021-09-21T05:27:13.870Z"
   },
   {
    "duration": 35,
    "start_time": "2021-09-21T05:27:13.891Z"
   },
   {
    "duration": 4,
    "start_time": "2021-09-21T05:40:48.375Z"
   },
   {
    "duration": 127,
    "start_time": "2021-09-21T05:40:48.399Z"
   },
   {
    "duration": 3,
    "start_time": "2021-09-21T05:40:48.527Z"
   },
   {
    "duration": 22,
    "start_time": "2021-09-21T05:40:48.532Z"
   },
   {
    "duration": 15,
    "start_time": "2021-09-21T05:40:48.555Z"
   },
   {
    "duration": 52,
    "start_time": "2021-09-21T05:40:48.572Z"
   },
   {
    "duration": 58,
    "start_time": "2021-09-21T05:40:48.649Z"
   },
   {
    "duration": 94,
    "start_time": "2021-09-21T05:40:48.709Z"
   },
   {
    "duration": 9,
    "start_time": "2021-09-21T05:40:48.804Z"
   },
   {
    "duration": 35,
    "start_time": "2021-09-21T05:40:48.815Z"
   },
   {
    "duration": 18,
    "start_time": "2021-09-21T05:40:48.852Z"
   },
   {
    "duration": 316,
    "start_time": "2021-09-21T05:40:48.872Z"
   },
   {
    "duration": 23,
    "start_time": "2021-09-21T05:40:49.189Z"
   },
   {
    "duration": 122,
    "start_time": "2021-09-21T05:40:49.213Z"
   },
   {
    "duration": 18,
    "start_time": "2021-09-21T05:40:49.337Z"
   },
   {
    "duration": 29,
    "start_time": "2021-09-21T05:40:49.356Z"
   },
   {
    "duration": 44,
    "start_time": "2021-09-21T05:40:49.386Z"
   },
   {
    "duration": 3,
    "start_time": "2021-09-21T05:40:49.450Z"
   },
   {
    "duration": 10,
    "start_time": "2021-09-21T05:40:49.455Z"
   },
   {
    "duration": 20,
    "start_time": "2021-09-21T05:40:49.466Z"
   },
   {
    "duration": 70,
    "start_time": "2021-09-21T05:40:49.487Z"
   },
   {
    "duration": 4,
    "start_time": "2021-09-21T05:40:49.559Z"
   },
   {
    "duration": 17,
    "start_time": "2021-09-21T05:40:49.564Z"
   },
   {
    "duration": 4,
    "start_time": "2021-09-21T05:40:49.582Z"
   },
   {
    "duration": 8,
    "start_time": "2021-09-21T05:40:49.587Z"
   },
   {
    "duration": 141,
    "start_time": "2021-09-21T05:40:49.597Z"
   },
   {
    "duration": 217,
    "start_time": "2021-09-21T05:40:49.740Z"
   },
   {
    "duration": 8,
    "start_time": "2021-09-21T05:40:49.960Z"
   },
   {
    "duration": 9,
    "start_time": "2021-09-21T05:40:49.970Z"
   },
   {
    "duration": 5,
    "start_time": "2021-09-21T05:40:49.981Z"
   },
   {
    "duration": 10,
    "start_time": "2021-09-21T05:40:49.987Z"
   },
   {
    "duration": 11,
    "start_time": "2021-09-21T05:40:49.999Z"
   },
   {
    "duration": 383,
    "start_time": "2021-09-21T05:40:50.011Z"
   },
   {
    "duration": 10,
    "start_time": "2021-09-21T05:40:50.396Z"
   },
   {
    "duration": 405,
    "start_time": "2021-09-21T05:40:50.407Z"
   },
   {
    "duration": 474,
    "start_time": "2021-09-21T05:40:50.814Z"
   },
   {
    "duration": 5,
    "start_time": "2021-09-21T05:40:51.290Z"
   },
   {
    "duration": 18,
    "start_time": "2021-09-21T05:40:51.296Z"
   },
   {
    "duration": 38,
    "start_time": "2021-09-21T05:40:51.316Z"
   },
   {
    "duration": 11,
    "start_time": "2021-09-21T05:40:51.356Z"
   },
   {
    "duration": 13,
    "start_time": "2021-09-21T05:40:51.372Z"
   },
   {
    "duration": 14,
    "start_time": "2021-09-21T05:40:51.386Z"
   },
   {
    "duration": 53,
    "start_time": "2021-09-21T05:40:51.402Z"
   },
   {
    "duration": 13,
    "start_time": "2021-09-21T05:40:51.457Z"
   },
   {
    "duration": 9,
    "start_time": "2021-09-21T05:40:51.472Z"
   },
   {
    "duration": 3,
    "start_time": "2021-09-21T06:11:22.175Z"
   },
   {
    "duration": 186,
    "start_time": "2021-09-21T06:11:22.197Z"
   },
   {
    "duration": 2,
    "start_time": "2021-09-21T06:11:22.385Z"
   },
   {
    "duration": 41,
    "start_time": "2021-09-21T06:11:22.390Z"
   },
   {
    "duration": 16,
    "start_time": "2021-09-21T06:11:22.433Z"
   },
   {
    "duration": 17,
    "start_time": "2021-09-21T06:11:22.451Z"
   },
   {
    "duration": 55,
    "start_time": "2021-09-21T06:11:22.469Z"
   },
   {
    "duration": 74,
    "start_time": "2021-09-21T06:11:22.526Z"
   },
   {
    "duration": 7293,
    "start_time": "2021-09-21T06:11:22.602Z"
   },
   {
    "duration": 52,
    "start_time": "2021-09-21T06:11:29.846Z"
   },
   {
    "duration": 43,
    "start_time": "2021-09-21T06:11:29.856Z"
   },
   {
    "duration": 37,
    "start_time": "2021-09-21T06:11:29.863Z"
   },
   {
    "duration": 32,
    "start_time": "2021-09-21T06:11:29.869Z"
   },
   {
    "duration": 17,
    "start_time": "2021-09-21T06:11:29.885Z"
   },
   {
    "duration": -3,
    "start_time": "2021-09-21T06:11:29.905Z"
   },
   {
    "duration": -23,
    "start_time": "2021-09-21T06:11:29.926Z"
   },
   {
    "duration": -68,
    "start_time": "2021-09-21T06:11:29.972Z"
   },
   {
    "duration": -202,
    "start_time": "2021-09-21T06:11:30.107Z"
   },
   {
    "duration": -295,
    "start_time": "2021-09-21T06:11:30.200Z"
   },
   {
    "duration": -311,
    "start_time": "2021-09-21T06:11:30.217Z"
   },
   {
    "duration": -317,
    "start_time": "2021-09-21T06:11:30.224Z"
   },
   {
    "duration": -322,
    "start_time": "2021-09-21T06:11:30.230Z"
   },
   {
    "duration": -353,
    "start_time": "2021-09-21T06:11:30.262Z"
   },
   {
    "duration": -360,
    "start_time": "2021-09-21T06:11:30.269Z"
   },
   {
    "duration": -365,
    "start_time": "2021-09-21T06:11:30.275Z"
   },
   {
    "duration": -371,
    "start_time": "2021-09-21T06:11:30.282Z"
   },
   {
    "duration": -376,
    "start_time": "2021-09-21T06:11:30.288Z"
   },
   {
    "duration": -382,
    "start_time": "2021-09-21T06:11:30.295Z"
   },
   {
    "duration": -416,
    "start_time": "2021-09-21T06:11:30.329Z"
   },
   {
    "duration": -421,
    "start_time": "2021-09-21T06:11:30.335Z"
   },
   {
    "duration": -427,
    "start_time": "2021-09-21T06:11:30.342Z"
   },
   {
    "duration": -432,
    "start_time": "2021-09-21T06:11:30.348Z"
   },
   {
    "duration": -495,
    "start_time": "2021-09-21T06:11:30.411Z"
   },
   {
    "duration": -515,
    "start_time": "2021-09-21T06:11:30.432Z"
   },
   {
    "duration": -610,
    "start_time": "2021-09-21T06:11:30.528Z"
   },
   {
    "duration": -615,
    "start_time": "2021-09-21T06:11:30.534Z"
   },
   {
    "duration": -633,
    "start_time": "2021-09-21T06:11:30.553Z"
   },
   {
    "duration": -679,
    "start_time": "2021-09-21T06:11:30.600Z"
   },
   {
    "duration": -686,
    "start_time": "2021-09-21T06:11:30.607Z"
   },
   {
    "duration": -691,
    "start_time": "2021-09-21T06:11:30.613Z"
   },
   {
    "duration": -697,
    "start_time": "2021-09-21T06:11:30.620Z"
   },
   {
    "duration": -710,
    "start_time": "2021-09-21T06:11:30.634Z"
   },
   {
    "duration": -722,
    "start_time": "2021-09-21T06:11:30.646Z"
   },
   {
    "duration": -727,
    "start_time": "2021-09-21T06:11:30.652Z"
   },
   {
    "duration": -733,
    "start_time": "2021-09-21T06:11:30.659Z"
   },
   {
    "duration": -738,
    "start_time": "2021-09-21T06:11:30.665Z"
   },
   {
    "duration": 3,
    "start_time": "2021-09-21T06:12:59.276Z"
   },
   {
    "duration": 120,
    "start_time": "2021-09-21T06:12:59.297Z"
   },
   {
    "duration": 2,
    "start_time": "2021-09-21T06:12:59.419Z"
   },
   {
    "duration": 13,
    "start_time": "2021-09-21T06:12:59.423Z"
   },
   {
    "duration": 7,
    "start_time": "2021-09-21T06:12:59.450Z"
   },
   {
    "duration": 18,
    "start_time": "2021-09-21T06:12:59.459Z"
   },
   {
    "duration": 74,
    "start_time": "2021-09-21T06:12:59.478Z"
   },
   {
    "duration": 61,
    "start_time": "2021-09-21T06:12:59.553Z"
   },
   {
    "duration": 98,
    "start_time": "2021-09-21T06:12:59.616Z"
   },
   {
    "duration": 10,
    "start_time": "2021-09-21T06:12:59.717Z"
   },
   {
    "duration": 36,
    "start_time": "2021-09-21T06:12:59.729Z"
   },
   {
    "duration": 17,
    "start_time": "2021-09-21T06:12:59.767Z"
   },
   {
    "duration": 317,
    "start_time": "2021-09-21T06:12:59.786Z"
   },
   {
    "duration": 27,
    "start_time": "2021-09-21T06:13:00.105Z"
   },
   {
    "duration": 128,
    "start_time": "2021-09-21T06:13:00.150Z"
   },
   {
    "duration": 13,
    "start_time": "2021-09-21T06:13:00.281Z"
   },
   {
    "duration": 54,
    "start_time": "2021-09-21T06:13:00.295Z"
   },
   {
    "duration": 51,
    "start_time": "2021-09-21T06:13:00.351Z"
   },
   {
    "duration": 4,
    "start_time": "2021-09-21T06:13:00.404Z"
   },
   {
    "duration": 21,
    "start_time": "2021-09-21T06:13:00.410Z"
   },
   {
    "duration": 34,
    "start_time": "2021-09-21T06:13:00.433Z"
   },
   {
    "duration": 58,
    "start_time": "2021-09-21T06:13:00.469Z"
   },
   {
    "duration": 4,
    "start_time": "2021-09-21T06:13:00.529Z"
   },
   {
    "duration": 16,
    "start_time": "2021-09-21T06:13:00.549Z"
   },
   {
    "duration": 17,
    "start_time": "2021-09-21T06:13:00.567Z"
   },
   {
    "duration": 21,
    "start_time": "2021-09-21T06:13:00.586Z"
   },
   {
    "duration": 290,
    "start_time": "2021-09-21T06:13:00.609Z"
   },
   {
    "duration": 230,
    "start_time": "2021-09-21T06:13:00.904Z"
   },
   {
    "duration": 19,
    "start_time": "2021-09-21T06:13:01.136Z"
   },
   {
    "duration": 14,
    "start_time": "2021-09-21T06:13:01.157Z"
   },
   {
    "duration": 12,
    "start_time": "2021-09-21T06:13:01.173Z"
   },
   {
    "duration": 19,
    "start_time": "2021-09-21T06:13:01.186Z"
   },
   {
    "duration": 24,
    "start_time": "2021-09-21T06:13:01.207Z"
   },
   {
    "duration": 372,
    "start_time": "2021-09-21T06:13:01.233Z"
   },
   {
    "duration": 9,
    "start_time": "2021-09-21T06:13:01.607Z"
   },
   {
    "duration": 380,
    "start_time": "2021-09-21T06:13:01.618Z"
   },
   {
    "duration": 499,
    "start_time": "2021-09-21T06:13:01.999Z"
   },
   {
    "duration": 5,
    "start_time": "2021-09-21T06:13:02.499Z"
   },
   {
    "duration": 43,
    "start_time": "2021-09-21T06:13:02.506Z"
   },
   {
    "duration": 15,
    "start_time": "2021-09-21T06:13:02.551Z"
   },
   {
    "duration": 32,
    "start_time": "2021-09-21T06:13:02.568Z"
   },
   {
    "duration": 16,
    "start_time": "2021-09-21T06:13:02.602Z"
   },
   {
    "duration": 35,
    "start_time": "2021-09-21T06:13:02.620Z"
   },
   {
    "duration": 28,
    "start_time": "2021-09-21T06:13:02.657Z"
   },
   {
    "duration": 26,
    "start_time": "2021-09-21T06:13:02.687Z"
   },
   {
    "duration": 25,
    "start_time": "2021-09-21T06:13:02.715Z"
   },
   {
    "duration": 88,
    "start_time": "2021-09-21T06:20:47.856Z"
   },
   {
    "duration": 86,
    "start_time": "2021-09-21T06:21:15.599Z"
   },
   {
    "duration": 5,
    "start_time": "2021-09-21T06:21:24.182Z"
   },
   {
    "duration": 6,
    "start_time": "2021-09-21T06:21:39.630Z"
   },
   {
    "duration": 112,
    "start_time": "2021-09-21T06:41:52.385Z"
   },
   {
    "duration": 2,
    "start_time": "2021-09-21T06:41:58.921Z"
   },
   {
    "duration": 4,
    "start_time": "2021-09-21T06:42:33.439Z"
   },
   {
    "duration": 249,
    "start_time": "2021-09-21T07:02:44.063Z"
   },
   {
    "duration": 7,
    "start_time": "2021-09-21T07:03:10.714Z"
   },
   {
    "duration": 7,
    "start_time": "2021-09-21T07:03:52.128Z"
   },
   {
    "duration": 4,
    "start_time": "2021-09-21T07:04:19.610Z"
   },
   {
    "duration": 136,
    "start_time": "2021-09-21T07:04:19.631Z"
   },
   {
    "duration": 13,
    "start_time": "2021-09-21T07:04:19.769Z"
   },
   {
    "duration": 10,
    "start_time": "2021-09-21T07:04:19.784Z"
   },
   {
    "duration": 24,
    "start_time": "2021-09-21T07:04:19.796Z"
   },
   {
    "duration": 32,
    "start_time": "2021-09-21T07:04:19.822Z"
   },
   {
    "duration": 6,
    "start_time": "2021-09-21T07:04:19.856Z"
   },
   {
    "duration": 97,
    "start_time": "2021-09-21T07:04:19.863Z"
   },
   {
    "duration": 95,
    "start_time": "2021-09-21T07:04:19.962Z"
   },
   {
    "duration": 141,
    "start_time": "2021-09-21T07:04:20.061Z"
   },
   {
    "duration": 12,
    "start_time": "2021-09-21T07:04:20.205Z"
   },
   {
    "duration": 46,
    "start_time": "2021-09-21T07:04:20.218Z"
   },
   {
    "duration": 29,
    "start_time": "2021-09-21T07:04:20.267Z"
   },
   {
    "duration": 456,
    "start_time": "2021-09-21T07:04:20.298Z"
   },
   {
    "duration": 43,
    "start_time": "2021-09-21T07:04:20.757Z"
   },
   {
    "duration": 206,
    "start_time": "2021-09-21T07:04:20.803Z"
   },
   {
    "duration": 17,
    "start_time": "2021-09-21T07:04:21.012Z"
   },
   {
    "duration": 21,
    "start_time": "2021-09-21T07:04:21.031Z"
   },
   {
    "duration": 38,
    "start_time": "2021-09-21T07:04:21.054Z"
   },
   {
    "duration": 89,
    "start_time": "2021-09-21T07:04:21.094Z"
   },
   {
    "duration": 5,
    "start_time": "2021-09-21T07:04:21.185Z"
   },
   {
    "duration": 11,
    "start_time": "2021-09-21T07:04:21.192Z"
   },
   {
    "duration": 54,
    "start_time": "2021-09-21T07:04:21.205Z"
   },
   {
    "duration": 53,
    "start_time": "2021-09-21T07:04:21.261Z"
   },
   {
    "duration": 4,
    "start_time": "2021-09-21T07:04:21.315Z"
   },
   {
    "duration": 38,
    "start_time": "2021-09-21T07:04:21.320Z"
   },
   {
    "duration": 5,
    "start_time": "2021-09-21T07:04:21.360Z"
   },
   {
    "duration": 7,
    "start_time": "2021-09-21T07:04:21.369Z"
   },
   {
    "duration": 195,
    "start_time": "2021-09-21T07:04:21.378Z"
   },
   {
    "duration": 347,
    "start_time": "2021-09-21T07:04:21.575Z"
   },
   {
    "duration": 12,
    "start_time": "2021-09-21T07:04:21.924Z"
   },
   {
    "duration": 9,
    "start_time": "2021-09-21T07:04:21.948Z"
   },
   {
    "duration": 5,
    "start_time": "2021-09-21T07:04:21.959Z"
   },
   {
    "duration": 18,
    "start_time": "2021-09-21T07:04:21.965Z"
   },
   {
    "duration": 13,
    "start_time": "2021-09-21T07:04:21.985Z"
   },
   {
    "duration": 378,
    "start_time": "2021-09-21T07:04:22.000Z"
   },
   {
    "duration": 11,
    "start_time": "2021-09-21T07:04:22.380Z"
   },
   {
    "duration": 490,
    "start_time": "2021-09-21T07:04:22.393Z"
   },
   {
    "duration": 479,
    "start_time": "2021-09-21T07:04:22.884Z"
   },
   {
    "duration": 6,
    "start_time": "2021-09-21T07:04:23.365Z"
   },
   {
    "duration": 210,
    "start_time": "2021-09-21T07:04:23.373Z"
   },
   {
    "duration": 17,
    "start_time": "2021-09-21T07:04:23.586Z"
   },
   {
    "duration": 17,
    "start_time": "2021-09-21T07:04:23.605Z"
   },
   {
    "duration": 18,
    "start_time": "2021-09-21T07:04:23.649Z"
   },
   {
    "duration": 15,
    "start_time": "2021-09-21T07:04:23.670Z"
   },
   {
    "duration": 17,
    "start_time": "2021-09-21T07:04:23.689Z"
   },
   {
    "duration": 56,
    "start_time": "2021-09-21T07:04:23.708Z"
   },
   {
    "duration": 16,
    "start_time": "2021-09-21T07:04:23.766Z"
   },
   {
    "duration": 8,
    "start_time": "2021-09-21T07:05:45.822Z"
   },
   {
    "duration": 7,
    "start_time": "2021-09-21T07:07:30.442Z"
   },
   {
    "duration": 10,
    "start_time": "2021-09-21T07:08:39.334Z"
   },
   {
    "duration": 1082,
    "start_time": "2021-09-21T08:25:38.431Z"
   },
   {
    "duration": 121,
    "start_time": "2021-09-21T08:25:39.515Z"
   },
   {
    "duration": 14,
    "start_time": "2021-09-21T08:25:39.640Z"
   },
   {
    "duration": 9,
    "start_time": "2021-09-21T08:25:39.655Z"
   },
   {
    "duration": 34,
    "start_time": "2021-09-21T08:25:39.666Z"
   },
   {
    "duration": 9,
    "start_time": "2021-09-21T08:25:39.701Z"
   },
   {
    "duration": 8,
    "start_time": "2021-09-21T08:25:39.711Z"
   },
   {
    "duration": 66,
    "start_time": "2021-09-21T08:25:39.722Z"
   },
   {
    "duration": 60,
    "start_time": "2021-09-21T08:25:39.790Z"
   },
   {
    "duration": 81,
    "start_time": "2021-09-21T08:25:39.852Z"
   },
   {
    "duration": 10,
    "start_time": "2021-09-21T08:25:39.935Z"
   },
   {
    "duration": 18,
    "start_time": "2021-09-21T08:25:39.947Z"
   },
   {
    "duration": 36,
    "start_time": "2021-09-21T08:25:39.966Z"
   },
   {
    "duration": 315,
    "start_time": "2021-09-21T08:25:40.004Z"
   },
   {
    "duration": 23,
    "start_time": "2021-09-21T08:25:40.321Z"
   },
   {
    "duration": 117,
    "start_time": "2021-09-21T08:25:40.345Z"
   },
   {
    "duration": 11,
    "start_time": "2021-09-21T08:25:40.463Z"
   },
   {
    "duration": 9,
    "start_time": "2021-09-21T08:25:40.475Z"
   },
   {
    "duration": 36,
    "start_time": "2021-09-21T08:25:40.485Z"
   },
   {
    "duration": 42,
    "start_time": "2021-09-21T08:25:40.522Z"
   },
   {
    "duration": 3,
    "start_time": "2021-09-21T08:25:40.566Z"
   },
   {
    "duration": 34,
    "start_time": "2021-09-21T08:25:40.571Z"
   },
   {
    "duration": 20,
    "start_time": "2021-09-21T08:25:40.606Z"
   },
   {
    "duration": 49,
    "start_time": "2021-09-21T08:25:40.627Z"
   },
   {
    "duration": 4,
    "start_time": "2021-09-21T08:25:40.677Z"
   },
   {
    "duration": 25,
    "start_time": "2021-09-21T08:25:40.684Z"
   },
   {
    "duration": 5,
    "start_time": "2021-09-21T08:25:40.711Z"
   },
   {
    "duration": 6,
    "start_time": "2021-09-21T08:25:40.717Z"
   },
   {
    "duration": 890,
    "start_time": "2021-09-21T08:25:40.725Z"
   },
   {
    "duration": 315,
    "start_time": "2021-09-21T08:25:41.617Z"
   },
   {
    "duration": 10,
    "start_time": "2021-09-21T08:25:41.933Z"
   },
   {
    "duration": 12,
    "start_time": "2021-09-21T08:25:41.944Z"
   },
   {
    "duration": 4,
    "start_time": "2021-09-21T08:25:41.958Z"
   },
   {
    "duration": 12,
    "start_time": "2021-09-21T08:25:41.963Z"
   },
   {
    "duration": 28,
    "start_time": "2021-09-21T08:25:41.977Z"
   },
   {
    "duration": 379,
    "start_time": "2021-09-21T08:25:42.007Z"
   },
   {
    "duration": 13,
    "start_time": "2021-09-21T08:25:42.387Z"
   },
   {
    "duration": 366,
    "start_time": "2021-09-21T08:25:42.402Z"
   },
   {
    "duration": 560,
    "start_time": "2021-09-21T08:25:42.770Z"
   },
   {
    "duration": 5,
    "start_time": "2021-09-21T08:25:43.332Z"
   },
   {
    "duration": 21,
    "start_time": "2021-09-21T08:25:43.338Z"
   },
   {
    "duration": 12,
    "start_time": "2021-09-21T08:25:43.360Z"
   },
   {
    "duration": 34,
    "start_time": "2021-09-21T08:25:43.374Z"
   },
   {
    "duration": 13,
    "start_time": "2021-09-21T08:25:43.409Z"
   },
   {
    "duration": 12,
    "start_time": "2021-09-21T08:25:43.423Z"
   },
   {
    "duration": 12,
    "start_time": "2021-09-21T08:25:43.436Z"
   },
   {
    "duration": 52,
    "start_time": "2021-09-21T08:25:43.450Z"
   },
   {
    "duration": 12,
    "start_time": "2021-09-21T08:25:43.504Z"
   }
  ],
  "kernelspec": {
   "display_name": "Python 3",
   "language": "python",
   "name": "python3"
  },
  "language_info": {
   "codemirror_mode": {
    "name": "ipython",
    "version": 3
   },
   "file_extension": ".py",
   "mimetype": "text/x-python",
   "name": "python",
   "nbconvert_exporter": "python",
   "pygments_lexer": "ipython3",
   "version": "3.7.10"
  },
  "toc": {
   "base_numbering": 1,
   "nav_menu": {},
   "number_sections": true,
   "sideBar": true,
   "skip_h1_title": true,
   "title_cell": "Table of Contents",
   "title_sidebar": "Contents",
   "toc_cell": false,
   "toc_position": {
    "height": "calc(100% - 180px)",
    "left": "10px",
    "top": "150px",
    "width": "165px"
   },
   "toc_section_display": true,
   "toc_window_display": false
  }
 },
 "nbformat": 4,
 "nbformat_minor": 2
}
