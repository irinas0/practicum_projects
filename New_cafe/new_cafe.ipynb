{
 "cells": [
  {
   "cell_type": "markdown",
   "metadata": {},
   "source": [
    "# Исследование рынка о заведениях общественного питания в Москве"
   ]
  },
  {
   "cell_type": "markdown",
   "metadata": {},
   "source": [
    "Цель исследования: изучить рынок общественного питания в Москве с целью оценить перспективы развития, определить форму и оптимальное базирование открывающегося полностью автоматизированного кафе нового типа."
   ]
  },
  {
   "cell_type": "markdown",
   "metadata": {},
   "source": [
    "## Обзор файла и подготовка данных к исследованию"
   ]
  },
  {
   "cell_type": "code",
   "execution_count": 206,
   "metadata": {},
   "outputs": [],
   "source": [
    "import pandas as pd\n",
    "import matplotlib.pyplot as plt\n",
    "import plotly.express as px\n",
    "import plotly.io as pio\n",
    "pio.renderers.default = \"svg\"\n",
    "import numpy as np\n",
    "import seaborn as sns\n",
    "from numpy import median\n",
    "from io import BytesIO\n",
    "import requests\n",
    "import kaleido\n",
    "import warnings\n",
    "warnings.filterwarnings(\"ignore\")\n",
    "\n"
   ]
  },
  {
   "cell_type": "code",
   "execution_count": 207,
   "metadata": {},
   "outputs": [],
   "source": [
    "rest_data = pd.read_csv('rest_data.csv')"
   ]
  },
  {
   "cell_type": "code",
   "execution_count": 208,
   "metadata": {},
   "outputs": [
    {
     "data": {
      "text/html": [
       "<div>\n",
       "<style scoped>\n",
       "    .dataframe tbody tr th:only-of-type {\n",
       "        vertical-align: middle;\n",
       "    }\n",
       "\n",
       "    .dataframe tbody tr th {\n",
       "        vertical-align: top;\n",
       "    }\n",
       "\n",
       "    .dataframe thead th {\n",
       "        text-align: right;\n",
       "    }\n",
       "</style>\n",
       "<table border=\"1\" class=\"dataframe\">\n",
       "  <thead>\n",
       "    <tr style=\"text-align: right;\">\n",
       "      <th></th>\n",
       "      <th>id</th>\n",
       "      <th>object_name</th>\n",
       "      <th>chain</th>\n",
       "      <th>object_type</th>\n",
       "      <th>address</th>\n",
       "      <th>number</th>\n",
       "    </tr>\n",
       "  </thead>\n",
       "  <tbody>\n",
       "    <tr>\n",
       "      <td>0</td>\n",
       "      <td>151635</td>\n",
       "      <td>СМЕТАНА</td>\n",
       "      <td>нет</td>\n",
       "      <td>кафе</td>\n",
       "      <td>город Москва, улица Егора Абакумова, дом 9</td>\n",
       "      <td>48</td>\n",
       "    </tr>\n",
       "    <tr>\n",
       "      <td>1</td>\n",
       "      <td>77874</td>\n",
       "      <td>Родник</td>\n",
       "      <td>нет</td>\n",
       "      <td>кафе</td>\n",
       "      <td>город Москва, улица Талалихина, дом 2/1, корпус 1</td>\n",
       "      <td>35</td>\n",
       "    </tr>\n",
       "    <tr>\n",
       "      <td>2</td>\n",
       "      <td>24309</td>\n",
       "      <td>Кафе «Академия»</td>\n",
       "      <td>нет</td>\n",
       "      <td>кафе</td>\n",
       "      <td>город Москва, Абельмановская улица, дом 6</td>\n",
       "      <td>95</td>\n",
       "    </tr>\n",
       "    <tr>\n",
       "      <td>3</td>\n",
       "      <td>21894</td>\n",
       "      <td>ПИЦЦЕТОРИЯ</td>\n",
       "      <td>да</td>\n",
       "      <td>кафе</td>\n",
       "      <td>город Москва, Абрамцевская улица, дом 1</td>\n",
       "      <td>40</td>\n",
       "    </tr>\n",
       "    <tr>\n",
       "      <td>4</td>\n",
       "      <td>119365</td>\n",
       "      <td>Кафе «Вишневая метель»</td>\n",
       "      <td>нет</td>\n",
       "      <td>кафе</td>\n",
       "      <td>город Москва, Абрамцевская улица, дом 9, корпус 1</td>\n",
       "      <td>50</td>\n",
       "    </tr>\n",
       "  </tbody>\n",
       "</table>\n",
       "</div>"
      ],
      "text/plain": [
       "       id             object_name chain object_type  \\\n",
       "0  151635                 СМЕТАНА   нет        кафе   \n",
       "1   77874                  Родник   нет        кафе   \n",
       "2   24309         Кафе «Академия»   нет        кафе   \n",
       "3   21894              ПИЦЦЕТОРИЯ    да        кафе   \n",
       "4  119365  Кафе «Вишневая метель»   нет        кафе   \n",
       "\n",
       "                                             address  number  \n",
       "0         город Москва, улица Егора Абакумова, дом 9      48  \n",
       "1  город Москва, улица Талалихина, дом 2/1, корпус 1      35  \n",
       "2          город Москва, Абельмановская улица, дом 6      95  \n",
       "3            город Москва, Абрамцевская улица, дом 1      40  \n",
       "4  город Москва, Абрамцевская улица, дом 9, корпус 1      50  "
      ]
     },
     "execution_count": 208,
     "metadata": {},
     "output_type": "execute_result"
    }
   ],
   "source": [
    "rest_data.head()"
   ]
  },
  {
   "cell_type": "code",
   "execution_count": 209,
   "metadata": {},
   "outputs": [
    {
     "name": "stdout",
     "output_type": "stream",
     "text": [
      "<class 'pandas.core.frame.DataFrame'>\n",
      "RangeIndex: 15366 entries, 0 to 15365\n",
      "Data columns (total 6 columns):\n",
      "id             15366 non-null int64\n",
      "object_name    15366 non-null object\n",
      "chain          15366 non-null object\n",
      "object_type    15366 non-null object\n",
      "address        15366 non-null object\n",
      "number         15366 non-null int64\n",
      "dtypes: int64(2), object(4)\n",
      "memory usage: 720.4+ KB\n"
     ]
    }
   ],
   "source": [
    "rest_data.info()"
   ]
  },
  {
   "cell_type": "markdown",
   "metadata": {},
   "source": [
    "В файле имеются записи с number=0, порядка 10% от общего списка.  Возможно,что это заведения, работающие только \"на вынос\", например, киоски при кафе. "
   ]
  },
  {
   "cell_type": "code",
   "execution_count": 210,
   "metadata": {},
   "outputs": [
    {
     "data": {
      "text/html": [
       "<div>\n",
       "<style scoped>\n",
       "    .dataframe tbody tr th:only-of-type {\n",
       "        vertical-align: middle;\n",
       "    }\n",
       "\n",
       "    .dataframe tbody tr th {\n",
       "        vertical-align: top;\n",
       "    }\n",
       "\n",
       "    .dataframe thead th {\n",
       "        text-align: right;\n",
       "    }\n",
       "</style>\n",
       "<table border=\"1\" class=\"dataframe\">\n",
       "  <thead>\n",
       "    <tr style=\"text-align: right;\">\n",
       "      <th></th>\n",
       "      <th>id</th>\n",
       "      <th>object_name</th>\n",
       "      <th>chain</th>\n",
       "      <th>object_type</th>\n",
       "      <th>address</th>\n",
       "      <th>number</th>\n",
       "    </tr>\n",
       "  </thead>\n",
       "  <tbody>\n",
       "    <tr>\n",
       "      <td>137</td>\n",
       "      <td>115498</td>\n",
       "      <td>Пекарня &amp; Донер</td>\n",
       "      <td>нет</td>\n",
       "      <td>закусочная</td>\n",
       "      <td>город Москва, Бутырская улица, дом 9, корпус 2</td>\n",
       "      <td>0</td>\n",
       "    </tr>\n",
       "    <tr>\n",
       "      <td>154</td>\n",
       "      <td>152556</td>\n",
       "      <td>Шаурма в пите</td>\n",
       "      <td>нет</td>\n",
       "      <td>предприятие быстрого обслуживания</td>\n",
       "      <td>город Москва, Варшавское шоссе, дом 72, корпус 2</td>\n",
       "      <td>0</td>\n",
       "    </tr>\n",
       "    <tr>\n",
       "      <td>157</td>\n",
       "      <td>149568</td>\n",
       "      <td>Суши</td>\n",
       "      <td>нет</td>\n",
       "      <td>предприятие быстрого обслуживания</td>\n",
       "      <td>город Москва, улица Маршала Василевского, дом ...</td>\n",
       "      <td>0</td>\n",
       "    </tr>\n",
       "    <tr>\n",
       "      <td>190</td>\n",
       "      <td>126956</td>\n",
       "      <td>Шаурма, куры-гриль</td>\n",
       "      <td>нет</td>\n",
       "      <td>предприятие быстрого обслуживания</td>\n",
       "      <td>город Москва, 1-я Владимирская улица, дом 21</td>\n",
       "      <td>0</td>\n",
       "    </tr>\n",
       "    <tr>\n",
       "      <td>195</td>\n",
       "      <td>149531</td>\n",
       "      <td>Шаурма, куры-гриль</td>\n",
       "      <td>нет</td>\n",
       "      <td>предприятие быстрого обслуживания</td>\n",
       "      <td>город Москва, 2-я Владимирская улица, дом 44/10</td>\n",
       "      <td>0</td>\n",
       "    </tr>\n",
       "    <tr>\n",
       "      <td>...</td>\n",
       "      <td>...</td>\n",
       "      <td>...</td>\n",
       "      <td>...</td>\n",
       "      <td>...</td>\n",
       "      <td>...</td>\n",
       "      <td>...</td>\n",
       "    </tr>\n",
       "    <tr>\n",
       "      <td>15334</td>\n",
       "      <td>211228</td>\n",
       "      <td>МИЛТИ</td>\n",
       "      <td>да</td>\n",
       "      <td>магазин (отдел кулинарии)</td>\n",
       "      <td>город Москва, Дубравная улица, дом 34/29</td>\n",
       "      <td>0</td>\n",
       "    </tr>\n",
       "    <tr>\n",
       "      <td>15335</td>\n",
       "      <td>211221</td>\n",
       "      <td>МИЛТИ</td>\n",
       "      <td>да</td>\n",
       "      <td>магазин (отдел кулинарии)</td>\n",
       "      <td>город Москва, Пятницкое шоссе, дом 3</td>\n",
       "      <td>0</td>\n",
       "    </tr>\n",
       "    <tr>\n",
       "      <td>15336</td>\n",
       "      <td>211209</td>\n",
       "      <td>Готовые блюда Милти</td>\n",
       "      <td>да</td>\n",
       "      <td>предприятие быстрого обслуживания</td>\n",
       "      <td>город Москва, Ореховый бульвар, дом 22А</td>\n",
       "      <td>0</td>\n",
       "    </tr>\n",
       "    <tr>\n",
       "      <td>15337</td>\n",
       "      <td>208477</td>\n",
       "      <td>Милти</td>\n",
       "      <td>да</td>\n",
       "      <td>предприятие быстрого обслуживания</td>\n",
       "      <td>город Москва, 3-й Крутицкий переулок, дом 18</td>\n",
       "      <td>0</td>\n",
       "    </tr>\n",
       "    <tr>\n",
       "      <td>15338</td>\n",
       "      <td>211201</td>\n",
       "      <td>Милти</td>\n",
       "      <td>да</td>\n",
       "      <td>магазин (отдел кулинарии)</td>\n",
       "      <td>город Москва, Новослободская улица, дом 4</td>\n",
       "      <td>0</td>\n",
       "    </tr>\n",
       "  </tbody>\n",
       "</table>\n",
       "<p>1621 rows × 6 columns</p>\n",
       "</div>"
      ],
      "text/plain": [
       "           id          object_name chain                        object_type  \\\n",
       "137    115498      Пекарня & Донер   нет                         закусочная   \n",
       "154    152556        Шаурма в пите   нет  предприятие быстрого обслуживания   \n",
       "157    149568                 Суши   нет  предприятие быстрого обслуживания   \n",
       "190    126956   Шаурма, куры-гриль   нет  предприятие быстрого обслуживания   \n",
       "195    149531   Шаурма, куры-гриль   нет  предприятие быстрого обслуживания   \n",
       "...       ...                  ...   ...                                ...   \n",
       "15334  211228                МИЛТИ    да          магазин (отдел кулинарии)   \n",
       "15335  211221                МИЛТИ    да          магазин (отдел кулинарии)   \n",
       "15336  211209  Готовые блюда Милти    да  предприятие быстрого обслуживания   \n",
       "15337  208477                Милти    да  предприятие быстрого обслуживания   \n",
       "15338  211201                Милти    да          магазин (отдел кулинарии)   \n",
       "\n",
       "                                                 address  number  \n",
       "137       город Москва, Бутырская улица, дом 9, корпус 2       0  \n",
       "154     город Москва, Варшавское шоссе, дом 72, корпус 2       0  \n",
       "157    город Москва, улица Маршала Василевского, дом ...       0  \n",
       "190         город Москва, 1-я Владимирская улица, дом 21       0  \n",
       "195      город Москва, 2-я Владимирская улица, дом 44/10       0  \n",
       "...                                                  ...     ...  \n",
       "15334           город Москва, Дубравная улица, дом 34/29       0  \n",
       "15335               город Москва, Пятницкое шоссе, дом 3       0  \n",
       "15336            город Москва, Ореховый бульвар, дом 22А       0  \n",
       "15337       город Москва, 3-й Крутицкий переулок, дом 18       0  \n",
       "15338          город Москва, Новослободская улица, дом 4       0  \n",
       "\n",
       "[1621 rows x 6 columns]"
      ]
     },
     "execution_count": 210,
     "metadata": {},
     "output_type": "execute_result"
    }
   ],
   "source": [
    "rest_data[rest_data['number']==0]"
   ]
  },
  {
   "cell_type": "markdown",
   "metadata": {},
   "source": [
    "Как видно из info() пропущенных значений в файле нет.Но для предстоящго исследования необходимо из адреса вычленить отдельно улицу. "
   ]
  },
  {
   "cell_type": "code",
   "execution_count": 211,
   "metadata": {},
   "outputs": [],
   "source": [
    "addresses=rest_data[['id','address']]"
   ]
  },
  {
   "cell_type": "code",
   "execution_count": 212,
   "metadata": {},
   "outputs": [
    {
     "data": {
      "text/html": [
       "<div>\n",
       "<style scoped>\n",
       "    .dataframe tbody tr th:only-of-type {\n",
       "        vertical-align: middle;\n",
       "    }\n",
       "\n",
       "    .dataframe tbody tr th {\n",
       "        vertical-align: top;\n",
       "    }\n",
       "\n",
       "    .dataframe thead th {\n",
       "        text-align: right;\n",
       "    }\n",
       "</style>\n",
       "<table border=\"1\" class=\"dataframe\">\n",
       "  <thead>\n",
       "    <tr style=\"text-align: right;\">\n",
       "      <th></th>\n",
       "      <th>id</th>\n",
       "      <th>address</th>\n",
       "      <th>len</th>\n",
       "      <th>a0</th>\n",
       "      <th>a1</th>\n",
       "      <th>a2</th>\n",
       "      <th>a3</th>\n",
       "      <th>a4</th>\n",
       "      <th>a5</th>\n",
       "      <th>a6</th>\n",
       "    </tr>\n",
       "  </thead>\n",
       "  <tbody>\n",
       "    <tr>\n",
       "      <td>0</td>\n",
       "      <td>151635</td>\n",
       "      <td>город Москва, улица Егора Абакумова, дом 9</td>\n",
       "      <td>3</td>\n",
       "      <td>город Москва</td>\n",
       "      <td>улица Егора Абакумова</td>\n",
       "      <td>дом 9</td>\n",
       "      <td>NaN</td>\n",
       "      <td>NaN</td>\n",
       "      <td>NaN</td>\n",
       "      <td>NaN</td>\n",
       "    </tr>\n",
       "    <tr>\n",
       "      <td>1</td>\n",
       "      <td>77874</td>\n",
       "      <td>город Москва, улица Талалихина, дом 2/1, корпус 1</td>\n",
       "      <td>4</td>\n",
       "      <td>город Москва</td>\n",
       "      <td>улица Талалихина</td>\n",
       "      <td>дом 2/1</td>\n",
       "      <td>корпус 1</td>\n",
       "      <td>NaN</td>\n",
       "      <td>NaN</td>\n",
       "      <td>NaN</td>\n",
       "    </tr>\n",
       "    <tr>\n",
       "      <td>2</td>\n",
       "      <td>24309</td>\n",
       "      <td>город Москва, Абельмановская улица, дом 6</td>\n",
       "      <td>3</td>\n",
       "      <td>город Москва</td>\n",
       "      <td>Абельмановская улица</td>\n",
       "      <td>дом 6</td>\n",
       "      <td>NaN</td>\n",
       "      <td>NaN</td>\n",
       "      <td>NaN</td>\n",
       "      <td>NaN</td>\n",
       "    </tr>\n",
       "    <tr>\n",
       "      <td>3</td>\n",
       "      <td>21894</td>\n",
       "      <td>город Москва, Абрамцевская улица, дом 1</td>\n",
       "      <td>3</td>\n",
       "      <td>город Москва</td>\n",
       "      <td>Абрамцевская улица</td>\n",
       "      <td>дом 1</td>\n",
       "      <td>NaN</td>\n",
       "      <td>NaN</td>\n",
       "      <td>NaN</td>\n",
       "      <td>NaN</td>\n",
       "    </tr>\n",
       "    <tr>\n",
       "      <td>4</td>\n",
       "      <td>119365</td>\n",
       "      <td>город Москва, Абрамцевская улица, дом 9, корпус 1</td>\n",
       "      <td>4</td>\n",
       "      <td>город Москва</td>\n",
       "      <td>Абрамцевская улица</td>\n",
       "      <td>дом 9</td>\n",
       "      <td>корпус 1</td>\n",
       "      <td>NaN</td>\n",
       "      <td>NaN</td>\n",
       "      <td>NaN</td>\n",
       "    </tr>\n",
       "  </tbody>\n",
       "</table>\n",
       "</div>"
      ],
      "text/plain": [
       "       id                                            address  len  \\\n",
       "0  151635         город Москва, улица Егора Абакумова, дом 9    3   \n",
       "1   77874  город Москва, улица Талалихина, дом 2/1, корпус 1    4   \n",
       "2   24309          город Москва, Абельмановская улица, дом 6    3   \n",
       "3   21894            город Москва, Абрамцевская улица, дом 1    3   \n",
       "4  119365  город Москва, Абрамцевская улица, дом 9, корпус 1    4   \n",
       "\n",
       "             a0                      a1        a2         a3   a4   a5   a6  \n",
       "0  город Москва   улица Егора Абакумова     дом 9        NaN  NaN  NaN  NaN  \n",
       "1  город Москва        улица Талалихина   дом 2/1   корпус 1  NaN  NaN  NaN  \n",
       "2  город Москва    Абельмановская улица     дом 6        NaN  NaN  NaN  NaN  \n",
       "3  город Москва      Абрамцевская улица     дом 1        NaN  NaN  NaN  NaN  \n",
       "4  город Москва      Абрамцевская улица     дом 9   корпус 1  NaN  NaN  NaN  "
      ]
     },
     "execution_count": 212,
     "metadata": {},
     "output_type": "execute_result"
    }
   ],
   "source": [
    "addresses[['len','a0','a1','a2','a3','a4','a5','a6']]= addresses['address'].apply(\n",
    "lambda x:pd.Series([len(x.split(','))] + x.split(',')[0:7])\n",
    ")\n",
    "addresses.head()"
   ]
  },
  {
   "cell_type": "code",
   "execution_count": 213,
   "metadata": {},
   "outputs": [],
   "source": [
    "addresses['a1']=addresses['a1'].str.strip()\n",
    "addresses['a2']=addresses['a2'].str.strip()\n",
    "addresses['a3']=addresses['a3'].str.strip()\n",
    "addresses['a4']=addresses['a4'].str.strip()\n",
    "addresses['a5']=addresses['a5'].str.strip()\n",
    "addresses['a6']=addresses['a6'].str.strip()"
   ]
  },
  {
   "cell_type": "code",
   "execution_count": 214,
   "metadata": {},
   "outputs": [
    {
     "data": {
      "text/plain": [
       "3    8187\n",
       "4    6695\n",
       "5     346\n",
       "6     117\n",
       "2      20\n",
       "7       1\n",
       "Name: len, dtype: int64"
      ]
     },
     "execution_count": 214,
     "metadata": {},
     "output_type": "execute_result"
    }
   ],
   "source": [
    "addresses['len'].value_counts()"
   ]
  },
  {
   "cell_type": "markdown",
   "metadata": {},
   "source": [
    "Как выяснилось  адреса не структурированы, строки имеют разное количество элементов.Более того, в файле имеются разные населенные пункты, которые до 2012 года не входили в Москву, а значит там могут быть одинаковые названия улиц. Поэтому я на всякий случай оставляю колонку с названием населенного пункта 'a0',а названия улиц буду собирать в колонке 'a1'. "
   ]
  },
  {
   "cell_type": "code",
   "execution_count": 215,
   "metadata": {},
   "outputs": [
    {
     "data": {
      "text/plain": [
       "город Москва                     15295\n",
       "улица Ленинская Слобода              4\n",
       "Николоямская улица                   4\n",
       "улица Льва Толстого                  3\n",
       "Солянский тупик                      3\n",
       "город Московский                     3\n",
       "Партизанская улица                   2\n",
       "Ленинградский проспект               2\n",
       "Таганская площадь                    2\n",
       "2-я Брестская улица                  2\n",
       "Бауманская улица                     2\n",
       "Софийская набережная                 1\n",
       "Дербеневская улица                   1\n",
       "Шарикоподшипниковская улица          1\n",
       "поселение Михайлово-Ярцевское        1\n",
       "Большая Серпуховская улица           1\n",
       "Суворовская площадь                  1\n",
       "1-й Нагатинский проезд               1\n",
       "Большая Бронная улица                1\n",
       "Калашный переулок                    1\n",
       "Погодинская улица                    1\n",
       "Митинская улица                      1\n",
       "Новоданиловская набережная           1\n",
       "5-й Котельнический переулок          1\n",
       "улица Каманина                       1\n",
       "Вознесенский переулок                1\n",
       "Тушинская улица                      1\n",
       "Таганская улица                      1\n",
       "улица Обручева                       1\n",
       "Поречная улица                       1\n",
       "Краснобогатырская улица              1\n",
       "Ленинский проспект                   1\n",
       "Коровинское шоссе                    1\n",
       "Чертановская улица                   1\n",
       "город Троицк                         1\n",
       "Киевская улица                       1\n",
       "поселение Марушкинское               1\n",
       "улица Знаменка                       1\n",
       "Алтуфьевское шоссе                   1\n",
       "Школьная улица                       1\n",
       "Медынская улица                      1\n",
       "улица Сергея Макеева                 1\n",
       "Варшавское шоссе                     1\n",
       "поселение \"Мосрентген\"               1\n",
       "Полевая улица                        1\n",
       "Проектируемый проезд N 5231          1\n",
       "улица Миклухо-Маклая                 1\n",
       "1-я Тверская-Ямская улица            1\n",
       "Нижний Таганский тупик               1\n",
       "проезд Добролюбова                   1\n",
       "улица Земляной Вал                   1\n",
       "поселение Сосенское                  1\n",
       "Профсоюзная улица                    1\n",
       "Вспольный переулок                   1\n",
       "Садовая-Сухаревская улица            1\n",
       "Name: a0, dtype: int64"
      ]
     },
     "execution_count": 215,
     "metadata": {},
     "output_type": "execute_result"
    }
   ],
   "source": [
    "addresses['a0'].value_counts()"
   ]
  },
  {
   "cell_type": "markdown",
   "metadata": {},
   "source": [
    "Передвинем названия улиц в 'a1'."
   ]
  },
  {
   "cell_type": "code",
   "execution_count": 216,
   "metadata": {},
   "outputs": [],
   "source": [
    "addresses.loc[(~addresses['a0'].str.startswith('город'))&(~addresses['a0'].str.startswith('поселение')), 'a6'] = addresses['a5']\n",
    "addresses.loc[(~addresses['a0'].str.startswith('город'))&(~addresses['a0'].str.startswith('поселение')), 'a5'] = addresses['a4'] \n",
    "addresses.loc[(~addresses['a0'].str.startswith('город'))&(~addresses['a0'].str.startswith('поселение')), 'a4'] = addresses['a3']\n",
    "addresses.loc[(~addresses['a0'].str.startswith('город'))&(~addresses['a0'].str.startswith('поселение')), 'a3'] = addresses['a2']\n",
    "addresses.loc[(~addresses['a0'].str.startswith('город'))&(~addresses['a0'].str.startswith('поселение')), 'a2'] = addresses['a1']\n",
    "addresses.loc[(~addresses['a0'].str.startswith('город'))&(~addresses['a0'].str.startswith('поселение')), 'a1'] = addresses['a0']\n",
    "addresses.loc[(~addresses['a0'].str.startswith('город'))&(~addresses['a0'].str.startswith('поселение')), 'a0'] = 'город Москва'"
   ]
  },
  {
   "cell_type": "code",
   "execution_count": 217,
   "metadata": {},
   "outputs": [
    {
     "data": {
      "text/plain": [
       "город Москва                     15358\n",
       "город Московский                     3\n",
       "город Троицк                         1\n",
       "поселение Марушкинское               1\n",
       "поселение \"Мосрентген\"               1\n",
       "поселение Сосенское                  1\n",
       "поселение Михайлово-Ярцевское        1\n",
       "Name: a0, dtype: int64"
      ]
     },
     "execution_count": 217,
     "metadata": {},
     "output_type": "execute_result"
    }
   ],
   "source": [
    "addresses['a0'].value_counts()"
   ]
  },
  {
   "cell_type": "code",
   "execution_count": 218,
   "metadata": {
    "scrolled": true
   },
   "outputs": [
    {
     "data": {
      "text/plain": [
       "город Зеленоград                  232\n",
       "проспект Мира                     204\n",
       "Профсоюзная улица                 183\n",
       "Ленинградский проспект            173\n",
       "Пресненская набережная            167\n",
       "                                 ... \n",
       "1-й Спасоналивковский переулок      1\n",
       "улица Крутицкий Вал                 1\n",
       "Коптевский бульвар                  1\n",
       "Прибрежный проезд                   1\n",
       "2-й Красносельский переулок         1\n",
       "Name: a1, Length: 1861, dtype: int64"
      ]
     },
     "execution_count": 218,
     "metadata": {},
     "output_type": "execute_result"
    }
   ],
   "source": [
    "addresses['a1'].value_counts()"
   ]
  },
  {
   "cell_type": "markdown",
   "metadata": {},
   "source": [
    "A названия городов и поселений переместим в 'a0' из 'a1'"
   ]
  },
  {
   "cell_type": "code",
   "execution_count": 219,
   "metadata": {},
   "outputs": [],
   "source": [
    "addresses.loc[(addresses['a1'].str.startswith('город'))|(addresses['a1'].str.startswith('поселение')),'a0'] = addresses['a1']\n",
    "addresses.loc[addresses['a0'] == addresses['a1'],'a1'] =addresses['a2']\n",
    "addresses.loc[addresses['a1'] == addresses['a2'],'a2'] =addresses['a3']\n",
    "addresses.loc[addresses['a2'] == addresses['a3'],'a3'] =addresses['a4']\n",
    "addresses.loc[addresses['a3'] == addresses['a4'],'a4'] =addresses['a5']\n",
    "addresses.loc[addresses['a4'] == addresses['a5'],'a5'] =addresses['a6']\n",
    "addresses.loc[addresses['a5'] == addresses['a6'],'a6'] ='NaN'\n",
    "\n"
   ]
  },
  {
   "cell_type": "code",
   "execution_count": 220,
   "metadata": {},
   "outputs": [
    {
     "data": {
      "text/plain": [
       "проспект Мира                  204\n",
       "Профсоюзная улица              183\n",
       "Ленинградский проспект         173\n",
       "Пресненская набережная         167\n",
       "Варшавское шоссе               165\n",
       "                              ... \n",
       "деревня Рассудово                1\n",
       "Утренняя улица                   1\n",
       "Кузьминская улица                1\n",
       "улица Рословка                   1\n",
       "2-й Красносельский переулок      1\n",
       "Name: a1, Length: 2088, dtype: int64"
      ]
     },
     "execution_count": 220,
     "metadata": {},
     "output_type": "execute_result"
    }
   ],
   "source": [
    "addresses['a1'].value_counts()"
   ]
  },
  {
   "cell_type": "markdown",
   "metadata": {},
   "source": [
    "Проведем некоторые манипуляции, чтобы улица попала в 'a1', в том случае, если в населенном пункте есть адреса с улицей и без,населенный пункт оставим, a в 'a1' будет номер дома."
   ]
  },
  {
   "cell_type": "code",
   "execution_count": 221,
   "metadata": {},
   "outputs": [],
   "source": [
    "def correct_street(locality):\n",
    "    addresses.loc[(addresses['a1'].str.startswith(locality)),'a0'] = addresses['a1']\n",
    "    addresses.loc[addresses['a0'] == addresses['a1'],'a1'] =addresses['a2']\n",
    "    addresses.loc[addresses['a1'] == addresses['a2'],'a2'] =addresses['a3']\n",
    "    addresses.loc[addresses['a2'] == addresses['a3'],'a3'] =addresses['a4']\n",
    "    addresses.loc[addresses['a3'] == addresses['a4'],'a4'] =addresses['a5']\n",
    "    addresses.loc[addresses['a4'] == addresses['a5'],'a5'] =addresses['a6']\n",
    "    addresses.loc[addresses['a5'] == addresses['a6'],'a6'] ='NaN'\n",
    "\n",
    "correct_street('посёлок Щапово')\n",
    "correct_street('посёлок Коммунарка')\n",
    "correct_street('село Кленово')\n",
    "correct_street('деревня Рассудово')\n",
    "correct_street('деревня Власово')\n",
    "correct_street('деревня Фоминское')\n",
    "correct_street('деревня Сосенки')\n",
    "correct_street('посёлок Внуково')\n",
    "correct_street('деревня Толстопальцево')\n",
    "correct_street('деревня Поповка')\n",
    "correct_street('деревня Картмазово')\n",
    "correct_street('деревня Марушкино')\n",
    "correct_street('посёлок Совхоза \"Крёкшино\"')\n",
    "correct_street('дачный посёлок Кокошкино')\n",
    "correct_street('посёлок Знамя Октября')\n",
    "correct_street('посёлок Ерино')\n",
    "correct_street('посёлок Рогово')\n",
    "correct_street('посёлок ЛМС')\n",
    "correct_street('посёлок ДСК \"Мичуринец\"')\n",
    "correct_street('село Красное')\n",
    "correct_street('ж/к \"Дубровка\"')\n",
    "correct_street('деревня Горчаково')\n",
    "correct_street('посёлок Завода Мосрентген')\n",
    "correct_street('деревня Рогозинино')\n",
    "correct_street('деревня Каменка')\n",
    "correct_street('рабочий посёлок Киевский')\n",
    "correct_street('посёлок Первомайское')\n",
    "correct_street('деревня Николо-Хованское')\n",
    "correct_street('деревня Колотилово')\n",
    "correct_street('село Остафьево')\n",
    "correct_street('деревня Мостовское')\n",
    "correct_street('деревня Крёкшино')\n",
    "correct_street('посёлок Курилово')"
   ]
  },
  {
   "cell_type": "code",
   "execution_count": 222,
   "metadata": {},
   "outputs": [
    {
     "data": {
      "text/plain": [
       "проспект Мира                  204\n",
       "Профсоюзная улица              183\n",
       "Ленинградский проспект         173\n",
       "Пресненская набережная         167\n",
       "Варшавское шоссе               165\n",
       "                              ... \n",
       "корпус 1530                      1\n",
       "улица Маршала Мерецкова          1\n",
       "1-й Силикатный проезд            1\n",
       "корпус 403А                      1\n",
       "2-й Красносельский переулок      1\n",
       "Name: a1, Length: 2111, dtype: int64"
      ]
     },
     "execution_count": 222,
     "metadata": {},
     "output_type": "execute_result"
    }
   ],
   "source": [
    "addresses['a1'].value_counts()"
   ]
  },
  {
   "cell_type": "markdown",
   "metadata": {},
   "source": [
    "Проведем окончательную проверку, что осталось только то, что соответствует улице  "
   ]
  },
  {
   "cell_type": "code",
   "execution_count": 223,
   "metadata": {},
   "outputs": [],
   "source": [
    "addresses['a6'] = 0"
   ]
  },
  {
   "cell_type": "code",
   "execution_count": 224,
   "metadata": {},
   "outputs": [
    {
     "data": {
      "text/html": [
       "<div>\n",
       "<style scoped>\n",
       "    .dataframe tbody tr th:only-of-type {\n",
       "        vertical-align: middle;\n",
       "    }\n",
       "\n",
       "    .dataframe tbody tr th {\n",
       "        vertical-align: top;\n",
       "    }\n",
       "\n",
       "    .dataframe thead th {\n",
       "        text-align: right;\n",
       "    }\n",
       "</style>\n",
       "<table border=\"1\" class=\"dataframe\">\n",
       "  <thead>\n",
       "    <tr style=\"text-align: right;\">\n",
       "      <th></th>\n",
       "      <th>id</th>\n",
       "      <th>address</th>\n",
       "      <th>len</th>\n",
       "      <th>a0</th>\n",
       "      <th>a1</th>\n",
       "      <th>a2</th>\n",
       "      <th>a3</th>\n",
       "      <th>a4</th>\n",
       "      <th>a5</th>\n",
       "      <th>a6</th>\n",
       "    </tr>\n",
       "  </thead>\n",
       "  <tbody>\n",
       "    <tr>\n",
       "      <td>8565</td>\n",
       "      <td>80078</td>\n",
       "      <td>город Москва, поселение Рязановское, посёлок Е...</td>\n",
       "      <td>4</td>\n",
       "      <td>посёлок Ерино</td>\n",
       "      <td>дом 1</td>\n",
       "      <td>NaN</td>\n",
       "      <td>NaN</td>\n",
       "      <td>NaN</td>\n",
       "      <td>NaN</td>\n",
       "      <td>0</td>\n",
       "    </tr>\n",
       "    <tr>\n",
       "      <td>8566</td>\n",
       "      <td>136432</td>\n",
       "      <td>город Москва, поселение Рязановское, посёлок Е...</td>\n",
       "      <td>4</td>\n",
       "      <td>посёлок Ерино</td>\n",
       "      <td>дом 3</td>\n",
       "      <td>NaN</td>\n",
       "      <td>NaN</td>\n",
       "      <td>NaN</td>\n",
       "      <td>NaN</td>\n",
       "      <td>0</td>\n",
       "    </tr>\n",
       "    <tr>\n",
       "      <td>8582</td>\n",
       "      <td>84028</td>\n",
       "      <td>город Москва, поселение Киевский, рабочий посё...</td>\n",
       "      <td>4</td>\n",
       "      <td>рабочий посёлок Киевский</td>\n",
       "      <td>дом 18А</td>\n",
       "      <td>NaN</td>\n",
       "      <td>NaN</td>\n",
       "      <td>NaN</td>\n",
       "      <td>NaN</td>\n",
       "      <td>0</td>\n",
       "    </tr>\n",
       "    <tr>\n",
       "      <td>8607</td>\n",
       "      <td>136381</td>\n",
       "      <td>город Москва, поселение Марушкинское, посёлок ...</td>\n",
       "      <td>5</td>\n",
       "      <td>посёлок Совхоза \"Крёкшино\"</td>\n",
       "      <td>дом 7А</td>\n",
       "      <td>строение 1</td>\n",
       "      <td>NaN</td>\n",
       "      <td>NaN</td>\n",
       "      <td>NaN</td>\n",
       "      <td>0</td>\n",
       "    </tr>\n",
       "    <tr>\n",
       "      <td>8623</td>\n",
       "      <td>136384</td>\n",
       "      <td>город Москва, поселение Марушкинское, посёлок ...</td>\n",
       "      <td>4</td>\n",
       "      <td>посёлок Совхоза \"Крёкшино\"</td>\n",
       "      <td>дом 2Б/Н</td>\n",
       "      <td>NaN</td>\n",
       "      <td>NaN</td>\n",
       "      <td>NaN</td>\n",
       "      <td>NaN</td>\n",
       "      <td>0</td>\n",
       "    </tr>\n",
       "    <tr>\n",
       "      <td>9190</td>\n",
       "      <td>162612</td>\n",
       "      <td>город Москва, поселение Щаповское, посёлок Щап...</td>\n",
       "      <td>4</td>\n",
       "      <td>посёлок Щапово</td>\n",
       "      <td>дом 21</td>\n",
       "      <td>NaN</td>\n",
       "      <td>NaN</td>\n",
       "      <td>NaN</td>\n",
       "      <td>NaN</td>\n",
       "      <td>0</td>\n",
       "    </tr>\n",
       "    <tr>\n",
       "      <td>9852</td>\n",
       "      <td>170445</td>\n",
       "      <td>город Москва, поселение Щаповское, посёлок Щап...</td>\n",
       "      <td>5</td>\n",
       "      <td>посёлок Щапово</td>\n",
       "      <td>дом 22</td>\n",
       "      <td>строение 1</td>\n",
       "      <td>NaN</td>\n",
       "      <td>NaN</td>\n",
       "      <td>NaN</td>\n",
       "      <td>0</td>\n",
       "    </tr>\n",
       "    <tr>\n",
       "      <td>9855</td>\n",
       "      <td>170451</td>\n",
       "      <td>город Москва, поселение Щаповское, посёлок Щап...</td>\n",
       "      <td>4</td>\n",
       "      <td>посёлок Щапово</td>\n",
       "      <td>дом 80</td>\n",
       "      <td>NaN</td>\n",
       "      <td>NaN</td>\n",
       "      <td>NaN</td>\n",
       "      <td>NaN</td>\n",
       "      <td>0</td>\n",
       "    </tr>\n",
       "    <tr>\n",
       "      <td>10643</td>\n",
       "      <td>188860</td>\n",
       "      <td>город Москва, поселение Роговское, деревня Кам...</td>\n",
       "      <td>4</td>\n",
       "      <td>деревня Каменка</td>\n",
       "      <td>дом 1Б/Н</td>\n",
       "      <td>NaN</td>\n",
       "      <td>NaN</td>\n",
       "      <td>NaN</td>\n",
       "      <td>NaN</td>\n",
       "      <td>0</td>\n",
       "    </tr>\n",
       "    <tr>\n",
       "      <td>11734</td>\n",
       "      <td>177463</td>\n",
       "      <td>город Москва, поселение Киевский, рабочий посё...</td>\n",
       "      <td>4</td>\n",
       "      <td>рабочий посёлок Киевский</td>\n",
       "      <td>дом 31</td>\n",
       "      <td>NaN</td>\n",
       "      <td>NaN</td>\n",
       "      <td>NaN</td>\n",
       "      <td>NaN</td>\n",
       "      <td>0</td>\n",
       "    </tr>\n",
       "    <tr>\n",
       "      <td>13266</td>\n",
       "      <td>193187</td>\n",
       "      <td>город Москва, поселение Роговское, посёлок Рог...</td>\n",
       "      <td>4</td>\n",
       "      <td>посёлок Рогово</td>\n",
       "      <td>дом 2Б/Н</td>\n",
       "      <td>NaN</td>\n",
       "      <td>NaN</td>\n",
       "      <td>NaN</td>\n",
       "      <td>NaN</td>\n",
       "      <td>0</td>\n",
       "    </tr>\n",
       "    <tr>\n",
       "      <td>13285</td>\n",
       "      <td>192998</td>\n",
       "      <td>город Москва, поселение Марушкинское, посёлок ...</td>\n",
       "      <td>4</td>\n",
       "      <td>посёлок Совхоза \"Крёкшино\"</td>\n",
       "      <td>дом 15</td>\n",
       "      <td>NaN</td>\n",
       "      <td>NaN</td>\n",
       "      <td>NaN</td>\n",
       "      <td>NaN</td>\n",
       "      <td>0</td>\n",
       "    </tr>\n",
       "    <tr>\n",
       "      <td>14807</td>\n",
       "      <td>214436</td>\n",
       "      <td>город Москва, поселение \"Мосрентген\", МКАД, 44...</td>\n",
       "      <td>6</td>\n",
       "      <td>поселение \"Мосрентген\"</td>\n",
       "      <td>МКАД</td>\n",
       "      <td>44-й километр</td>\n",
       "      <td>владение 1</td>\n",
       "      <td>строение 1</td>\n",
       "      <td>NaN</td>\n",
       "      <td>0</td>\n",
       "    </tr>\n",
       "  </tbody>\n",
       "</table>\n",
       "</div>"
      ],
      "text/plain": [
       "           id                                            address  len  \\\n",
       "8565    80078  город Москва, поселение Рязановское, посёлок Е...    4   \n",
       "8566   136432  город Москва, поселение Рязановское, посёлок Е...    4   \n",
       "8582    84028  город Москва, поселение Киевский, рабочий посё...    4   \n",
       "8607   136381  город Москва, поселение Марушкинское, посёлок ...    5   \n",
       "8623   136384  город Москва, поселение Марушкинское, посёлок ...    4   \n",
       "9190   162612  город Москва, поселение Щаповское, посёлок Щап...    4   \n",
       "9852   170445  город Москва, поселение Щаповское, посёлок Щап...    5   \n",
       "9855   170451  город Москва, поселение Щаповское, посёлок Щап...    4   \n",
       "10643  188860  город Москва, поселение Роговское, деревня Кам...    4   \n",
       "11734  177463  город Москва, поселение Киевский, рабочий посё...    4   \n",
       "13266  193187  город Москва, поселение Роговское, посёлок Рог...    4   \n",
       "13285  192998  город Москва, поселение Марушкинское, посёлок ...    4   \n",
       "14807  214436  город Москва, поселение \"Мосрентген\", МКАД, 44...    6   \n",
       "\n",
       "                               a0        a1             a2          a3  \\\n",
       "8565                посёлок Ерино     дом 1            NaN         NaN   \n",
       "8566                посёлок Ерино     дом 3            NaN         NaN   \n",
       "8582     рабочий посёлок Киевский   дом 18А            NaN         NaN   \n",
       "8607   посёлок Совхоза \"Крёкшино\"    дом 7А     строение 1         NaN   \n",
       "8623   посёлок Совхоза \"Крёкшино\"  дом 2Б/Н            NaN         NaN   \n",
       "9190               посёлок Щапово    дом 21            NaN         NaN   \n",
       "9852               посёлок Щапово    дом 22     строение 1         NaN   \n",
       "9855               посёлок Щапово    дом 80            NaN         NaN   \n",
       "10643             деревня Каменка  дом 1Б/Н            NaN         NaN   \n",
       "11734    рабочий посёлок Киевский    дом 31            NaN         NaN   \n",
       "13266              посёлок Рогово  дом 2Б/Н            NaN         NaN   \n",
       "13285  посёлок Совхоза \"Крёкшино\"    дом 15            NaN         NaN   \n",
       "14807      поселение \"Мосрентген\"      МКАД  44-й километр  владение 1   \n",
       "\n",
       "               a4   a5  a6  \n",
       "8565          NaN  NaN   0  \n",
       "8566          NaN  NaN   0  \n",
       "8582          NaN  NaN   0  \n",
       "8607          NaN  NaN   0  \n",
       "8623          NaN  NaN   0  \n",
       "9190          NaN  NaN   0  \n",
       "9852          NaN  NaN   0  \n",
       "9855          NaN  NaN   0  \n",
       "10643         NaN  NaN   0  \n",
       "11734         NaN  NaN   0  \n",
       "13266         NaN  NaN   0  \n",
       "13285         NaN  NaN   0  \n",
       "14807  строение 1  NaN   0  "
      ]
     },
     "execution_count": 224,
     "metadata": {},
     "output_type": "execute_result"
    }
   ],
   "source": [
    "list_streets = ['улица','проспект','проезд','бульвар','набережная','шоссе','переулок','тупик','площадь','аллея','линия',\n",
    "                'квартал','Проезд','микрорайон','корпус','километр','территория','вблизи','село Вороново','деревня Ликова',\n",
    "                'деревня Говорово','деревня Ямонтово','деревня Ватутинки','деревня Дудкино','посёлок Воскресенское','деревня Десна',\n",
    "               'деревня Троицкое','село Красная Пахра','деревня Овечкино','деревня Пыхтино','деревня Бунчиха','деревня Верхнее Валуево',\n",
    "               'посёлок Газопровод','деревня Яковлевское','деревня Лапшинка','посёлок Акулово','деревня Сосенки','посёлок Знамя Октября',\n",
    "               'посёлок Ерино','посёлок Рогово','деревня Внуково','посёлок Ульяновского Лесопарка','посёлок Фабрики имени 1 Мая',\n",
    "               'посёлок Шишкин Лес','посёлок Завода Мосрентген','посёлок Остафьево','деревня Ясенки','деревня деревня Давыдково','просек',\n",
    "               'деревня Каменка','рабочий посёлок Киевский','деревня Голохвастово','деревня Руднево','Столбово','деревня Саларьево','деревня Шаганино',\n",
    "               'деревня Давыдково','деревня Сенькино-Секерино','деревня Бабенки','село Былово']\n",
    "for street in list_streets:\n",
    "    addresses.loc[(addresses['a1'].str.find(street)>=0),'a6'] = 1    \n",
    "addresses[(addresses['a6']==0)&(addresses['a0']!='посёлок Коммунарка')&(addresses['a0']!='деревня Сосенки')&(addresses['a0']!='посёлок Знамя Октября')&(addresses['a0']!='посёлок Завода Мосрентген')]  "
   ]
  },
  {
   "cell_type": "code",
   "execution_count": 225,
   "metadata": {},
   "outputs": [],
   "source": [
    "addresses = addresses.drop(['address','len','a6'], axis = 1)\n",
    "addresses = addresses.fillna('')"
   ]
  },
  {
   "cell_type": "markdown",
   "metadata": {},
   "source": [
    "Добавим структурированные адреса к основному файлу"
   ]
  },
  {
   "cell_type": "code",
   "execution_count": 226,
   "metadata": {},
   "outputs": [
    {
     "data": {
      "text/html": [
       "<div>\n",
       "<style scoped>\n",
       "    .dataframe tbody tr th:only-of-type {\n",
       "        vertical-align: middle;\n",
       "    }\n",
       "\n",
       "    .dataframe tbody tr th {\n",
       "        vertical-align: top;\n",
       "    }\n",
       "\n",
       "    .dataframe thead th {\n",
       "        text-align: right;\n",
       "    }\n",
       "</style>\n",
       "<table border=\"1\" class=\"dataframe\">\n",
       "  <thead>\n",
       "    <tr style=\"text-align: right;\">\n",
       "      <th></th>\n",
       "      <th>id</th>\n",
       "      <th>object_name</th>\n",
       "      <th>chain</th>\n",
       "      <th>object_type</th>\n",
       "      <th>address</th>\n",
       "      <th>number</th>\n",
       "      <th>a0</th>\n",
       "      <th>a1</th>\n",
       "      <th>a2</th>\n",
       "      <th>a3</th>\n",
       "      <th>a4</th>\n",
       "      <th>a5</th>\n",
       "    </tr>\n",
       "  </thead>\n",
       "  <tbody>\n",
       "    <tr>\n",
       "      <td>0</td>\n",
       "      <td>151635</td>\n",
       "      <td>СМЕТАНА</td>\n",
       "      <td>нет</td>\n",
       "      <td>кафе</td>\n",
       "      <td>город Москва, улица Егора Абакумова, дом 9</td>\n",
       "      <td>48</td>\n",
       "      <td>город Москва</td>\n",
       "      <td>улица Егора Абакумова</td>\n",
       "      <td>дом 9</td>\n",
       "      <td></td>\n",
       "      <td></td>\n",
       "      <td></td>\n",
       "    </tr>\n",
       "    <tr>\n",
       "      <td>1</td>\n",
       "      <td>77874</td>\n",
       "      <td>Родник</td>\n",
       "      <td>нет</td>\n",
       "      <td>кафе</td>\n",
       "      <td>город Москва, улица Талалихина, дом 2/1, корпус 1</td>\n",
       "      <td>35</td>\n",
       "      <td>город Москва</td>\n",
       "      <td>улица Талалихина</td>\n",
       "      <td>дом 2/1</td>\n",
       "      <td>корпус 1</td>\n",
       "      <td></td>\n",
       "      <td></td>\n",
       "    </tr>\n",
       "    <tr>\n",
       "      <td>2</td>\n",
       "      <td>24309</td>\n",
       "      <td>Кафе «Академия»</td>\n",
       "      <td>нет</td>\n",
       "      <td>кафе</td>\n",
       "      <td>город Москва, Абельмановская улица, дом 6</td>\n",
       "      <td>95</td>\n",
       "      <td>город Москва</td>\n",
       "      <td>Абельмановская улица</td>\n",
       "      <td>дом 6</td>\n",
       "      <td></td>\n",
       "      <td></td>\n",
       "      <td></td>\n",
       "    </tr>\n",
       "    <tr>\n",
       "      <td>3</td>\n",
       "      <td>21894</td>\n",
       "      <td>ПИЦЦЕТОРИЯ</td>\n",
       "      <td>да</td>\n",
       "      <td>кафе</td>\n",
       "      <td>город Москва, Абрамцевская улица, дом 1</td>\n",
       "      <td>40</td>\n",
       "      <td>город Москва</td>\n",
       "      <td>Абрамцевская улица</td>\n",
       "      <td>дом 1</td>\n",
       "      <td></td>\n",
       "      <td></td>\n",
       "      <td></td>\n",
       "    </tr>\n",
       "    <tr>\n",
       "      <td>4</td>\n",
       "      <td>119365</td>\n",
       "      <td>Кафе «Вишневая метель»</td>\n",
       "      <td>нет</td>\n",
       "      <td>кафе</td>\n",
       "      <td>город Москва, Абрамцевская улица, дом 9, корпус 1</td>\n",
       "      <td>50</td>\n",
       "      <td>город Москва</td>\n",
       "      <td>Абрамцевская улица</td>\n",
       "      <td>дом 9</td>\n",
       "      <td>корпус 1</td>\n",
       "      <td></td>\n",
       "      <td></td>\n",
       "    </tr>\n",
       "    <tr>\n",
       "      <td>...</td>\n",
       "      <td>...</td>\n",
       "      <td>...</td>\n",
       "      <td>...</td>\n",
       "      <td>...</td>\n",
       "      <td>...</td>\n",
       "      <td>...</td>\n",
       "      <td>...</td>\n",
       "      <td>...</td>\n",
       "      <td>...</td>\n",
       "      <td>...</td>\n",
       "      <td>...</td>\n",
       "      <td>...</td>\n",
       "    </tr>\n",
       "    <tr>\n",
       "      <td>15361</td>\n",
       "      <td>208537</td>\n",
       "      <td>Шоколадница</td>\n",
       "      <td>да</td>\n",
       "      <td>кафе</td>\n",
       "      <td>город Москва, 3-й Крутицкий переулок, дом 18</td>\n",
       "      <td>50</td>\n",
       "      <td>город Москва</td>\n",
       "      <td>3-й Крутицкий переулок</td>\n",
       "      <td>дом 18</td>\n",
       "      <td></td>\n",
       "      <td></td>\n",
       "      <td></td>\n",
       "    </tr>\n",
       "    <tr>\n",
       "      <td>15362</td>\n",
       "      <td>209264</td>\n",
       "      <td>Шоколадница</td>\n",
       "      <td>да</td>\n",
       "      <td>кафе</td>\n",
       "      <td>город Москва, улица Земляной Вал, дом 33</td>\n",
       "      <td>10</td>\n",
       "      <td>город Москва</td>\n",
       "      <td>улица Земляной Вал</td>\n",
       "      <td>дом 33</td>\n",
       "      <td></td>\n",
       "      <td></td>\n",
       "      <td></td>\n",
       "    </tr>\n",
       "    <tr>\n",
       "      <td>15363</td>\n",
       "      <td>209186</td>\n",
       "      <td>Шоколадница</td>\n",
       "      <td>да</td>\n",
       "      <td>кафе</td>\n",
       "      <td>город Москва, улица Земляной Вал, дом 33</td>\n",
       "      <td>20</td>\n",
       "      <td>город Москва</td>\n",
       "      <td>улица Земляной Вал</td>\n",
       "      <td>дом 33</td>\n",
       "      <td></td>\n",
       "      <td></td>\n",
       "      <td></td>\n",
       "    </tr>\n",
       "    <tr>\n",
       "      <td>15364</td>\n",
       "      <td>221900</td>\n",
       "      <td>Шоколадница</td>\n",
       "      <td>да</td>\n",
       "      <td>кафе</td>\n",
       "      <td>город Москва, поселение Московский, Киевское ш...</td>\n",
       "      <td>36</td>\n",
       "      <td>поселение Московский</td>\n",
       "      <td>Киевское шоссе</td>\n",
       "      <td>22-й километр</td>\n",
       "      <td>домовладение 4</td>\n",
       "      <td>строение 1</td>\n",
       "      <td></td>\n",
       "    </tr>\n",
       "    <tr>\n",
       "      <td>15365</td>\n",
       "      <td>222535</td>\n",
       "      <td>Шоколадница</td>\n",
       "      <td>да</td>\n",
       "      <td>кафе</td>\n",
       "      <td>город Москва, Ходынский бульвар, дом 4</td>\n",
       "      <td>10</td>\n",
       "      <td>город Москва</td>\n",
       "      <td>Ходынский бульвар</td>\n",
       "      <td>дом 4</td>\n",
       "      <td></td>\n",
       "      <td></td>\n",
       "      <td></td>\n",
       "    </tr>\n",
       "  </tbody>\n",
       "</table>\n",
       "<p>15366 rows × 12 columns</p>\n",
       "</div>"
      ],
      "text/plain": [
       "           id             object_name chain object_type  \\\n",
       "0      151635                 СМЕТАНА   нет        кафе   \n",
       "1       77874                  Родник   нет        кафе   \n",
       "2       24309         Кафе «Академия»   нет        кафе   \n",
       "3       21894              ПИЦЦЕТОРИЯ    да        кафе   \n",
       "4      119365  Кафе «Вишневая метель»   нет        кафе   \n",
       "...       ...                     ...   ...         ...   \n",
       "15361  208537             Шоколадница    да        кафе   \n",
       "15362  209264             Шоколадница    да        кафе   \n",
       "15363  209186             Шоколадница    да        кафе   \n",
       "15364  221900             Шоколадница    да        кафе   \n",
       "15365  222535             Шоколадница    да        кафе   \n",
       "\n",
       "                                                 address  number  \\\n",
       "0             город Москва, улица Егора Абакумова, дом 9      48   \n",
       "1      город Москва, улица Талалихина, дом 2/1, корпус 1      35   \n",
       "2              город Москва, Абельмановская улица, дом 6      95   \n",
       "3                город Москва, Абрамцевская улица, дом 1      40   \n",
       "4      город Москва, Абрамцевская улица, дом 9, корпус 1      50   \n",
       "...                                                  ...     ...   \n",
       "15361       город Москва, 3-й Крутицкий переулок, дом 18      50   \n",
       "15362           город Москва, улица Земляной Вал, дом 33      10   \n",
       "15363           город Москва, улица Земляной Вал, дом 33      20   \n",
       "15364  город Москва, поселение Московский, Киевское ш...      36   \n",
       "15365             город Москва, Ходынский бульвар, дом 4      10   \n",
       "\n",
       "                         a0                      a1             a2  \\\n",
       "0              город Москва   улица Егора Абакумова          дом 9   \n",
       "1              город Москва        улица Талалихина        дом 2/1   \n",
       "2              город Москва    Абельмановская улица          дом 6   \n",
       "3              город Москва      Абрамцевская улица          дом 1   \n",
       "4              город Москва      Абрамцевская улица          дом 9   \n",
       "...                     ...                     ...            ...   \n",
       "15361          город Москва  3-й Крутицкий переулок         дом 18   \n",
       "15362          город Москва      улица Земляной Вал         дом 33   \n",
       "15363          город Москва      улица Земляной Вал         дом 33   \n",
       "15364  поселение Московский          Киевское шоссе  22-й километр   \n",
       "15365          город Москва       Ходынский бульвар          дом 4   \n",
       "\n",
       "                   a3          a4 a5  \n",
       "0                                     \n",
       "1            корпус 1                 \n",
       "2                                     \n",
       "3                                     \n",
       "4            корпус 1                 \n",
       "...               ...         ... ..  \n",
       "15361                                 \n",
       "15362                                 \n",
       "15363                                 \n",
       "15364  домовладение 4  строение 1     \n",
       "15365                                 \n",
       "\n",
       "[15366 rows x 12 columns]"
      ]
     },
     "execution_count": 226,
     "metadata": {},
     "output_type": "execute_result"
    }
   ],
   "source": [
    "rest_data=rest_data.merge(addresses,on='id')\n",
    "rest_data"
   ]
  },
  {
   "cell_type": "markdown",
   "metadata": {},
   "source": [
    "Сделаем проверку на дубли"
   ]
  },
  {
   "cell_type": "code",
   "execution_count": 227,
   "metadata": {},
   "outputs": [],
   "source": [
    "rest_data=rest_data.sort_values(by='number',ascending = False)"
   ]
  },
  {
   "cell_type": "code",
   "execution_count": 228,
   "metadata": {
    "scrolled": true
   },
   "outputs": [
    {
     "data": {
      "text/plain": [
       "170"
      ]
     },
     "execution_count": 228,
     "metadata": {},
     "output_type": "execute_result"
    }
   ],
   "source": [
    "rest_data.duplicated(subset=['object_name','chain','object_type','a0','a1','a2','a3','a4','a5']).sum()"
   ]
  },
  {
   "cell_type": "code",
   "execution_count": 229,
   "metadata": {
    "scrolled": false
   },
   "outputs": [
    {
     "data": {
      "text/html": [
       "<div>\n",
       "<style scoped>\n",
       "    .dataframe tbody tr th:only-of-type {\n",
       "        vertical-align: middle;\n",
       "    }\n",
       "\n",
       "    .dataframe tbody tr th {\n",
       "        vertical-align: top;\n",
       "    }\n",
       "\n",
       "    .dataframe thead th {\n",
       "        text-align: right;\n",
       "    }\n",
       "</style>\n",
       "<table border=\"1\" class=\"dataframe\">\n",
       "  <thead>\n",
       "    <tr style=\"text-align: right;\">\n",
       "      <th></th>\n",
       "      <th>id</th>\n",
       "      <th>object_name</th>\n",
       "      <th>chain</th>\n",
       "      <th>object_type</th>\n",
       "      <th>address</th>\n",
       "      <th>number</th>\n",
       "      <th>a0</th>\n",
       "      <th>a1</th>\n",
       "      <th>a2</th>\n",
       "      <th>a3</th>\n",
       "      <th>a4</th>\n",
       "      <th>a5</th>\n",
       "    </tr>\n",
       "  </thead>\n",
       "  <tbody>\n",
       "    <tr>\n",
       "      <td>0</td>\n",
       "      <td>199696</td>\n",
       "      <td>Arena by Soho Family</td>\n",
       "      <td>нет</td>\n",
       "      <td>бар</td>\n",
       "      <td>город Москва, Кутузовский проспект, дом 36, ст...</td>\n",
       "      <td>1700</td>\n",
       "      <td>город Москва</td>\n",
       "      <td>Кутузовский проспект</td>\n",
       "      <td>дом 36</td>\n",
       "      <td>строение 11</td>\n",
       "      <td></td>\n",
       "      <td></td>\n",
       "    </tr>\n",
       "    <tr>\n",
       "      <td>1</td>\n",
       "      <td>80291</td>\n",
       "      <td>Банкетный зал Шелк</td>\n",
       "      <td>нет</td>\n",
       "      <td>ресторан</td>\n",
       "      <td>город Москва, Большой Саввинский переулок, дом...</td>\n",
       "      <td>1500</td>\n",
       "      <td>город Москва</td>\n",
       "      <td>Большой Саввинский переулок</td>\n",
       "      <td>дом 12</td>\n",
       "      <td>строение 10Г</td>\n",
       "      <td></td>\n",
       "      <td></td>\n",
       "    </tr>\n",
       "    <tr>\n",
       "      <td>2</td>\n",
       "      <td>27750</td>\n",
       "      <td>СТОЛОВАЯ-БУФЕТ</td>\n",
       "      <td>нет</td>\n",
       "      <td>столовая</td>\n",
       "      <td>город Москва, улица Волхонка, дом 15</td>\n",
       "      <td>1400</td>\n",
       "      <td>город Москва</td>\n",
       "      <td>улица Волхонка</td>\n",
       "      <td>дом 15</td>\n",
       "      <td></td>\n",
       "      <td></td>\n",
       "      <td></td>\n",
       "    </tr>\n",
       "    <tr>\n",
       "      <td>3</td>\n",
       "      <td>19719</td>\n",
       "      <td>КОМБИНАТ ПИТАНИЯ «УПРАВЛЕНИЕ АКАДЕМСЕРВИС»</td>\n",
       "      <td>нет</td>\n",
       "      <td>столовая</td>\n",
       "      <td>город Москва, проспект Вернадского, дом 84, ст...</td>\n",
       "      <td>1288</td>\n",
       "      <td>город Москва</td>\n",
       "      <td>проспект Вернадского</td>\n",
       "      <td>дом 84</td>\n",
       "      <td>строение 1</td>\n",
       "      <td></td>\n",
       "      <td></td>\n",
       "    </tr>\n",
       "    <tr>\n",
       "      <td>4</td>\n",
       "      <td>27024</td>\n",
       "      <td>РУМ СЕРВИС</td>\n",
       "      <td>нет</td>\n",
       "      <td>ресторан</td>\n",
       "      <td>город Москва, Кутузовский проспект, дом 2/1, с...</td>\n",
       "      <td>1200</td>\n",
       "      <td>город Москва</td>\n",
       "      <td>Кутузовский проспект</td>\n",
       "      <td>дом 2/1</td>\n",
       "      <td>строение 1</td>\n",
       "      <td></td>\n",
       "      <td></td>\n",
       "    </tr>\n",
       "    <tr>\n",
       "      <td>...</td>\n",
       "      <td>...</td>\n",
       "      <td>...</td>\n",
       "      <td>...</td>\n",
       "      <td>...</td>\n",
       "      <td>...</td>\n",
       "      <td>...</td>\n",
       "      <td>...</td>\n",
       "      <td>...</td>\n",
       "      <td>...</td>\n",
       "      <td>...</td>\n",
       "      <td>...</td>\n",
       "      <td>...</td>\n",
       "    </tr>\n",
       "    <tr>\n",
       "      <td>15191</td>\n",
       "      <td>158233</td>\n",
       "      <td>КОФЕ ПОИНТ</td>\n",
       "      <td>нет</td>\n",
       "      <td>кафе</td>\n",
       "      <td>город Москва, Митинская улица, дом 36</td>\n",
       "      <td>0</td>\n",
       "      <td>город Москва</td>\n",
       "      <td>Митинская улица</td>\n",
       "      <td>дом 36</td>\n",
       "      <td></td>\n",
       "      <td></td>\n",
       "      <td></td>\n",
       "    </tr>\n",
       "    <tr>\n",
       "      <td>15192</td>\n",
       "      <td>158814</td>\n",
       "      <td>Шаурма</td>\n",
       "      <td>нет</td>\n",
       "      <td>предприятие быстрого обслуживания</td>\n",
       "      <td>город Москва, улица Газопровод, дом 1, корпус 6А</td>\n",
       "      <td>0</td>\n",
       "      <td>город Москва</td>\n",
       "      <td>улица Газопровод</td>\n",
       "      <td>дом 1</td>\n",
       "      <td>корпус 6А</td>\n",
       "      <td></td>\n",
       "      <td></td>\n",
       "    </tr>\n",
       "    <tr>\n",
       "      <td>15193</td>\n",
       "      <td>179610</td>\n",
       "      <td>Шаурма</td>\n",
       "      <td>нет</td>\n",
       "      <td>предприятие быстрого обслуживания</td>\n",
       "      <td>город Москва, Лианозовский проезд, владение 4А</td>\n",
       "      <td>0</td>\n",
       "      <td>город Москва</td>\n",
       "      <td>Лианозовский проезд</td>\n",
       "      <td>владение 4А</td>\n",
       "      <td></td>\n",
       "      <td></td>\n",
       "      <td></td>\n",
       "    </tr>\n",
       "    <tr>\n",
       "      <td>15194</td>\n",
       "      <td>202218</td>\n",
       "      <td>Шаурма</td>\n",
       "      <td>нет</td>\n",
       "      <td>предприятие быстрого обслуживания</td>\n",
       "      <td>город Москва, Анадырский проезд, дом 8, корпус 3</td>\n",
       "      <td>0</td>\n",
       "      <td>город Москва</td>\n",
       "      <td>Анадырский проезд</td>\n",
       "      <td>дом 8</td>\n",
       "      <td>корпус 3</td>\n",
       "      <td></td>\n",
       "      <td></td>\n",
       "    </tr>\n",
       "    <tr>\n",
       "      <td>15195</td>\n",
       "      <td>222800</td>\n",
       "      <td>П Пицца</td>\n",
       "      <td>нет</td>\n",
       "      <td>предприятие быстрого обслуживания</td>\n",
       "      <td>город Москва, улица Шаболовка, дом 2, строение 1</td>\n",
       "      <td>0</td>\n",
       "      <td>город Москва</td>\n",
       "      <td>улица Шаболовка</td>\n",
       "      <td>дом 2</td>\n",
       "      <td>строение 1</td>\n",
       "      <td></td>\n",
       "      <td></td>\n",
       "    </tr>\n",
       "  </tbody>\n",
       "</table>\n",
       "<p>15196 rows × 12 columns</p>\n",
       "</div>"
      ],
      "text/plain": [
       "           id                                 object_name chain  \\\n",
       "0      199696                        Arena by Soho Family   нет   \n",
       "1       80291                          Банкетный зал Шелк   нет   \n",
       "2       27750                              СТОЛОВАЯ-БУФЕТ   нет   \n",
       "3       19719  КОМБИНАТ ПИТАНИЯ «УПРАВЛЕНИЕ АКАДЕМСЕРВИС»   нет   \n",
       "4       27024                                  РУМ СЕРВИС   нет   \n",
       "...       ...                                         ...   ...   \n",
       "15191  158233                                  КОФЕ ПОИНТ   нет   \n",
       "15192  158814                                      Шаурма   нет   \n",
       "15193  179610                                      Шаурма   нет   \n",
       "15194  202218                                      Шаурма   нет   \n",
       "15195  222800                                     П Пицца   нет   \n",
       "\n",
       "                             object_type  \\\n",
       "0                                    бар   \n",
       "1                               ресторан   \n",
       "2                               столовая   \n",
       "3                               столовая   \n",
       "4                               ресторан   \n",
       "...                                  ...   \n",
       "15191                               кафе   \n",
       "15192  предприятие быстрого обслуживания   \n",
       "15193  предприятие быстрого обслуживания   \n",
       "15194  предприятие быстрого обслуживания   \n",
       "15195  предприятие быстрого обслуживания   \n",
       "\n",
       "                                                 address  number  \\\n",
       "0      город Москва, Кутузовский проспект, дом 36, ст...    1700   \n",
       "1      город Москва, Большой Саввинский переулок, дом...    1500   \n",
       "2                   город Москва, улица Волхонка, дом 15    1400   \n",
       "3      город Москва, проспект Вернадского, дом 84, ст...    1288   \n",
       "4      город Москва, Кутузовский проспект, дом 2/1, с...    1200   \n",
       "...                                                  ...     ...   \n",
       "15191              город Москва, Митинская улица, дом 36       0   \n",
       "15192   город Москва, улица Газопровод, дом 1, корпус 6А       0   \n",
       "15193     город Москва, Лианозовский проезд, владение 4А       0   \n",
       "15194   город Москва, Анадырский проезд, дом 8, корпус 3       0   \n",
       "15195   город Москва, улица Шаболовка, дом 2, строение 1       0   \n",
       "\n",
       "                 a0                           a1           a2            a3  \\\n",
       "0      город Москва         Кутузовский проспект       дом 36   строение 11   \n",
       "1      город Москва  Большой Саввинский переулок       дом 12  строение 10Г   \n",
       "2      город Москва               улица Волхонка       дом 15                 \n",
       "3      город Москва         проспект Вернадского       дом 84    строение 1   \n",
       "4      город Москва         Кутузовский проспект      дом 2/1    строение 1   \n",
       "...             ...                          ...          ...           ...   \n",
       "15191  город Москва              Митинская улица       дом 36                 \n",
       "15192  город Москва             улица Газопровод        дом 1     корпус 6А   \n",
       "15193  город Москва          Лианозовский проезд  владение 4А                 \n",
       "15194  город Москва            Анадырский проезд        дом 8      корпус 3   \n",
       "15195  город Москва              улица Шаболовка        дом 2    строение 1   \n",
       "\n",
       "      a4 a5  \n",
       "0            \n",
       "1            \n",
       "2            \n",
       "3            \n",
       "4            \n",
       "...   .. ..  \n",
       "15191        \n",
       "15192        \n",
       "15193        \n",
       "15194        \n",
       "15195        \n",
       "\n",
       "[15196 rows x 12 columns]"
      ]
     },
     "execution_count": 229,
     "metadata": {},
     "output_type": "execute_result"
    }
   ],
   "source": [
    "rest_data=rest_data.drop_duplicates(subset=['object_name','chain','object_type','a0','a1','a2','a3','a4','a5']).reset_index(drop=True)\n",
    "rest_data"
   ]
  },
  {
   "cell_type": "markdown",
   "metadata": {},
   "source": [
    "В процессе исследования дублей(сам процесс не показываю) выяснилось, что есть идентичные записи, но различающиеся id и number, решила из дублей для нашего исследования оставить записи с max number, для этого отсортировала файл по number.  "
   ]
  },
  {
   "cell_type": "markdown",
   "metadata": {},
   "source": [
    "Интереса ради посмотрим, что за заведения с number=1"
   ]
  },
  {
   "cell_type": "code",
   "execution_count": 230,
   "metadata": {},
   "outputs": [
    {
     "data": {
      "text/html": [
       "<div>\n",
       "<style scoped>\n",
       "    .dataframe tbody tr th:only-of-type {\n",
       "        vertical-align: middle;\n",
       "    }\n",
       "\n",
       "    .dataframe tbody tr th {\n",
       "        vertical-align: top;\n",
       "    }\n",
       "\n",
       "    .dataframe thead th {\n",
       "        text-align: right;\n",
       "    }\n",
       "</style>\n",
       "<table border=\"1\" class=\"dataframe\">\n",
       "  <thead>\n",
       "    <tr style=\"text-align: right;\">\n",
       "      <th></th>\n",
       "      <th>id</th>\n",
       "      <th>object_name</th>\n",
       "      <th>chain</th>\n",
       "      <th>object_type</th>\n",
       "      <th>address</th>\n",
       "      <th>number</th>\n",
       "      <th>a0</th>\n",
       "      <th>a1</th>\n",
       "      <th>a2</th>\n",
       "      <th>a3</th>\n",
       "      <th>a4</th>\n",
       "      <th>a5</th>\n",
       "    </tr>\n",
       "  </thead>\n",
       "  <tbody>\n",
       "    <tr>\n",
       "      <td>13520</td>\n",
       "      <td>86404</td>\n",
       "      <td>Баскин Роббинс</td>\n",
       "      <td>да</td>\n",
       "      <td>предприятие быстрого обслуживания</td>\n",
       "      <td>город Москва, Верхняя Красносельская улица, до...</td>\n",
       "      <td>1</td>\n",
       "      <td>город Москва</td>\n",
       "      <td>Верхняя Красносельская улица</td>\n",
       "      <td>дом 3А</td>\n",
       "      <td></td>\n",
       "      <td></td>\n",
       "      <td></td>\n",
       "    </tr>\n",
       "    <tr>\n",
       "      <td>13521</td>\n",
       "      <td>178260</td>\n",
       "      <td>Starhit cafe</td>\n",
       "      <td>нет</td>\n",
       "      <td>предприятие быстрого обслуживания</td>\n",
       "      <td>город Москва, Семёновская площадь, дом 1</td>\n",
       "      <td>1</td>\n",
       "      <td>город Москва</td>\n",
       "      <td>Семёновская площадь</td>\n",
       "      <td>дом 1</td>\n",
       "      <td></td>\n",
       "      <td></td>\n",
       "      <td></td>\n",
       "    </tr>\n",
       "    <tr>\n",
       "      <td>13522</td>\n",
       "      <td>20768</td>\n",
       "      <td>Шаурма</td>\n",
       "      <td>нет</td>\n",
       "      <td>предприятие быстрого обслуживания</td>\n",
       "      <td>город Москва, Снежная улица, дом 13, корпус 1</td>\n",
       "      <td>1</td>\n",
       "      <td>город Москва</td>\n",
       "      <td>Снежная улица</td>\n",
       "      <td>дом 13</td>\n",
       "      <td>корпус 1</td>\n",
       "      <td></td>\n",
       "      <td></td>\n",
       "    </tr>\n",
       "    <tr>\n",
       "      <td>13523</td>\n",
       "      <td>86333</td>\n",
       "      <td>Мороженое «Myyo»</td>\n",
       "      <td>нет</td>\n",
       "      <td>предприятие быстрого обслуживания</td>\n",
       "      <td>город Москва, Верхняя Красносельская улица, до...</td>\n",
       "      <td>1</td>\n",
       "      <td>город Москва</td>\n",
       "      <td>Верхняя Красносельская улица</td>\n",
       "      <td>дом 3А</td>\n",
       "      <td></td>\n",
       "      <td></td>\n",
       "      <td></td>\n",
       "    </tr>\n",
       "    <tr>\n",
       "      <td>13524</td>\n",
       "      <td>199244</td>\n",
       "      <td>Шаурма</td>\n",
       "      <td>нет</td>\n",
       "      <td>предприятие быстрого обслуживания</td>\n",
       "      <td>город Москва, улица Миклухо-Маклая, дом 43</td>\n",
       "      <td>1</td>\n",
       "      <td>город Москва</td>\n",
       "      <td>улица Миклухо-Маклая</td>\n",
       "      <td>дом 43</td>\n",
       "      <td></td>\n",
       "      <td></td>\n",
       "      <td></td>\n",
       "    </tr>\n",
       "    <tr>\n",
       "      <td>...</td>\n",
       "      <td>...</td>\n",
       "      <td>...</td>\n",
       "      <td>...</td>\n",
       "      <td>...</td>\n",
       "      <td>...</td>\n",
       "      <td>...</td>\n",
       "      <td>...</td>\n",
       "      <td>...</td>\n",
       "      <td>...</td>\n",
       "      <td>...</td>\n",
       "      <td>...</td>\n",
       "      <td>...</td>\n",
       "    </tr>\n",
       "    <tr>\n",
       "      <td>13614</td>\n",
       "      <td>182845</td>\n",
       "      <td>Пиццерия на вынос</td>\n",
       "      <td>нет</td>\n",
       "      <td>предприятие быстрого обслуживания</td>\n",
       "      <td>город Москва, улица Верхние Поля, дом 11, корп...</td>\n",
       "      <td>1</td>\n",
       "      <td>город Москва</td>\n",
       "      <td>улица Верхние Поля</td>\n",
       "      <td>дом 11</td>\n",
       "      <td>корпус 1</td>\n",
       "      <td>строение 2</td>\n",
       "      <td></td>\n",
       "    </tr>\n",
       "    <tr>\n",
       "      <td>13615</td>\n",
       "      <td>193004</td>\n",
       "      <td>Донер Кебаб Хаус</td>\n",
       "      <td>нет</td>\n",
       "      <td>предприятие быстрого обслуживания</td>\n",
       "      <td>город Москва, улица Паустовского, дом 2/34</td>\n",
       "      <td>1</td>\n",
       "      <td>город Москва</td>\n",
       "      <td>улица Паустовского</td>\n",
       "      <td>дом 2/34</td>\n",
       "      <td></td>\n",
       "      <td></td>\n",
       "      <td></td>\n",
       "    </tr>\n",
       "    <tr>\n",
       "      <td>13616</td>\n",
       "      <td>210128</td>\n",
       "      <td>McDonalds</td>\n",
       "      <td>нет</td>\n",
       "      <td>предприятие быстрого обслуживания</td>\n",
       "      <td>город Москва, Шереметьевская улица, дом 20</td>\n",
       "      <td>1</td>\n",
       "      <td>город Москва</td>\n",
       "      <td>Шереметьевская улица</td>\n",
       "      <td>дом 20</td>\n",
       "      <td></td>\n",
       "      <td></td>\n",
       "      <td></td>\n",
       "    </tr>\n",
       "    <tr>\n",
       "      <td>13617</td>\n",
       "      <td>210139</td>\n",
       "      <td>O Eskimo Chistaya Liniya</td>\n",
       "      <td>нет</td>\n",
       "      <td>предприятие быстрого обслуживания</td>\n",
       "      <td>город Москва, Шереметьевская улица, дом 20</td>\n",
       "      <td>1</td>\n",
       "      <td>город Москва</td>\n",
       "      <td>Шереметьевская улица</td>\n",
       "      <td>дом 20</td>\n",
       "      <td></td>\n",
       "      <td></td>\n",
       "      <td></td>\n",
       "    </tr>\n",
       "    <tr>\n",
       "      <td>13618</td>\n",
       "      <td>185568</td>\n",
       "      <td>Суши маркет Тапошими</td>\n",
       "      <td>нет</td>\n",
       "      <td>кафе</td>\n",
       "      <td>город Москва, улица Рогожский Вал, дом 5, стро...</td>\n",
       "      <td>1</td>\n",
       "      <td>город Москва</td>\n",
       "      <td>улица Рогожский Вал</td>\n",
       "      <td>дом 5</td>\n",
       "      <td>строение 1</td>\n",
       "      <td></td>\n",
       "      <td></td>\n",
       "    </tr>\n",
       "  </tbody>\n",
       "</table>\n",
       "<p>99 rows × 12 columns</p>\n",
       "</div>"
      ],
      "text/plain": [
       "           id               object_name chain  \\\n",
       "13520   86404            Баскин Роббинс    да   \n",
       "13521  178260              Starhit cafe   нет   \n",
       "13522   20768                    Шаурма   нет   \n",
       "13523   86333          Мороженое «Myyo»   нет   \n",
       "13524  199244                    Шаурма   нет   \n",
       "...       ...                       ...   ...   \n",
       "13614  182845         Пиццерия на вынос   нет   \n",
       "13615  193004          Донер Кебаб Хаус   нет   \n",
       "13616  210128                 McDonalds   нет   \n",
       "13617  210139  O Eskimo Chistaya Liniya   нет   \n",
       "13618  185568      Суши маркет Тапошими   нет   \n",
       "\n",
       "                             object_type  \\\n",
       "13520  предприятие быстрого обслуживания   \n",
       "13521  предприятие быстрого обслуживания   \n",
       "13522  предприятие быстрого обслуживания   \n",
       "13523  предприятие быстрого обслуживания   \n",
       "13524  предприятие быстрого обслуживания   \n",
       "...                                  ...   \n",
       "13614  предприятие быстрого обслуживания   \n",
       "13615  предприятие быстрого обслуживания   \n",
       "13616  предприятие быстрого обслуживания   \n",
       "13617  предприятие быстрого обслуживания   \n",
       "13618                               кафе   \n",
       "\n",
       "                                                 address  number  \\\n",
       "13520  город Москва, Верхняя Красносельская улица, до...       1   \n",
       "13521           город Москва, Семёновская площадь, дом 1       1   \n",
       "13522      город Москва, Снежная улица, дом 13, корпус 1       1   \n",
       "13523  город Москва, Верхняя Красносельская улица, до...       1   \n",
       "13524         город Москва, улица Миклухо-Маклая, дом 43       1   \n",
       "...                                                  ...     ...   \n",
       "13614  город Москва, улица Верхние Поля, дом 11, корп...       1   \n",
       "13615         город Москва, улица Паустовского, дом 2/34       1   \n",
       "13616         город Москва, Шереметьевская улица, дом 20       1   \n",
       "13617         город Москва, Шереметьевская улица, дом 20       1   \n",
       "13618  город Москва, улица Рогожский Вал, дом 5, стро...       1   \n",
       "\n",
       "                 a0                            a1        a2          a3  \\\n",
       "13520  город Москва  Верхняя Красносельская улица    дом 3А               \n",
       "13521  город Москва           Семёновская площадь     дом 1               \n",
       "13522  город Москва                 Снежная улица    дом 13    корпус 1   \n",
       "13523  город Москва  Верхняя Красносельская улица    дом 3А               \n",
       "13524  город Москва          улица Миклухо-Маклая    дом 43               \n",
       "...             ...                           ...       ...         ...   \n",
       "13614  город Москва            улица Верхние Поля    дом 11    корпус 1   \n",
       "13615  город Москва            улица Паустовского  дом 2/34               \n",
       "13616  город Москва          Шереметьевская улица    дом 20               \n",
       "13617  город Москва          Шереметьевская улица    дом 20               \n",
       "13618  город Москва           улица Рогожский Вал     дом 5  строение 1   \n",
       "\n",
       "               a4 a5  \n",
       "13520                 \n",
       "13521                 \n",
       "13522                 \n",
       "13523                 \n",
       "13524                 \n",
       "...           ... ..  \n",
       "13614  строение 2     \n",
       "13615                 \n",
       "13616                 \n",
       "13617                 \n",
       "13618                 \n",
       "\n",
       "[99 rows x 12 columns]"
      ]
     },
     "execution_count": 230,
     "metadata": {},
     "output_type": "execute_result"
    }
   ],
   "source": [
    "rest_data_1 = rest_data[rest_data['number']==1]\n",
    "rest_data_1"
   ]
  },
  {
   "cell_type": "code",
   "execution_count": 231,
   "metadata": {},
   "outputs": [
    {
     "data": {
      "text/plain": [
       "предприятие быстрого обслуживания    57\n",
       "кафе                                 16\n",
       "магазин (отдел кулинарии)             8\n",
       "кафетерий                             5\n",
       "столовая                              4\n",
       "бар                                   3\n",
       "закусочная                            3\n",
       "буфет                                 3\n",
       "Name: object_type, dtype: int64"
      ]
     },
     "execution_count": 231,
     "metadata": {},
     "output_type": "execute_result"
    }
   ],
   "source": [
    "rest_data_1['object_type'].value_counts()"
   ]
  },
  {
   "cell_type": "markdown",
   "metadata": {},
   "source": [
    "Вопросы вызывают, в основном, только кафе и столовая"
   ]
  },
  {
   "cell_type": "code",
   "execution_count": 232,
   "metadata": {},
   "outputs": [
    {
     "data": {
      "text/html": [
       "<div>\n",
       "<style scoped>\n",
       "    .dataframe tbody tr th:only-of-type {\n",
       "        vertical-align: middle;\n",
       "    }\n",
       "\n",
       "    .dataframe tbody tr th {\n",
       "        vertical-align: top;\n",
       "    }\n",
       "\n",
       "    .dataframe thead th {\n",
       "        text-align: right;\n",
       "    }\n",
       "</style>\n",
       "<table border=\"1\" class=\"dataframe\">\n",
       "  <thead>\n",
       "    <tr style=\"text-align: right;\">\n",
       "      <th></th>\n",
       "      <th>id</th>\n",
       "      <th>object_name</th>\n",
       "      <th>chain</th>\n",
       "      <th>object_type</th>\n",
       "      <th>address</th>\n",
       "      <th>number</th>\n",
       "      <th>a0</th>\n",
       "      <th>a1</th>\n",
       "      <th>a2</th>\n",
       "      <th>a3</th>\n",
       "      <th>a4</th>\n",
       "      <th>a5</th>\n",
       "    </tr>\n",
       "  </thead>\n",
       "  <tbody>\n",
       "    <tr>\n",
       "      <td>13528</td>\n",
       "      <td>190756</td>\n",
       "      <td>Ибрагимов Магомед Сулейманович</td>\n",
       "      <td>нет</td>\n",
       "      <td>кафе</td>\n",
       "      <td>город Москва, улица Сущёвский Вал, дом 5, стро...</td>\n",
       "      <td>1</td>\n",
       "      <td>город Москва</td>\n",
       "      <td>улица Сущёвский Вал</td>\n",
       "      <td>дом 5</td>\n",
       "      <td>строение 12</td>\n",
       "      <td></td>\n",
       "      <td></td>\n",
       "    </tr>\n",
       "    <tr>\n",
       "      <td>13529</td>\n",
       "      <td>145354</td>\n",
       "      <td>Кафе Карпов</td>\n",
       "      <td>нет</td>\n",
       "      <td>кафе</td>\n",
       "      <td>город Москва, поселение Марушкинское, Киевское...</td>\n",
       "      <td>1</td>\n",
       "      <td>поселение Марушкинское</td>\n",
       "      <td>Киевское шоссе</td>\n",
       "      <td>32-й километр</td>\n",
       "      <td>владение 3</td>\n",
       "      <td>строение 1</td>\n",
       "      <td></td>\n",
       "    </tr>\n",
       "    <tr>\n",
       "      <td>13534</td>\n",
       "      <td>133282</td>\n",
       "      <td>Фреш Смуси Бар</td>\n",
       "      <td>нет</td>\n",
       "      <td>кафе</td>\n",
       "      <td>город Москва, Верхняя Красносельская улица, до...</td>\n",
       "      <td>1</td>\n",
       "      <td>город Москва</td>\n",
       "      <td>Верхняя Красносельская улица</td>\n",
       "      <td>дом 3А</td>\n",
       "      <td></td>\n",
       "      <td></td>\n",
       "      <td></td>\n",
       "    </tr>\n",
       "    <tr>\n",
       "      <td>13545</td>\n",
       "      <td>182078</td>\n",
       "      <td>Джо кофе</td>\n",
       "      <td>нет</td>\n",
       "      <td>кафе</td>\n",
       "      <td>город Москва, Электродная улица, дом 2, строен...</td>\n",
       "      <td>1</td>\n",
       "      <td>город Москва</td>\n",
       "      <td>Электродная улица</td>\n",
       "      <td>дом 2</td>\n",
       "      <td>строение 32</td>\n",
       "      <td></td>\n",
       "      <td></td>\n",
       "    </tr>\n",
       "    <tr>\n",
       "      <td>13547</td>\n",
       "      <td>29667</td>\n",
       "      <td>ЦЕХ</td>\n",
       "      <td>нет</td>\n",
       "      <td>столовая</td>\n",
       "      <td>город Москва, Волгоградский проспект, дом 152,...</td>\n",
       "      <td>1</td>\n",
       "      <td>город Москва</td>\n",
       "      <td>Волгоградский проспект</td>\n",
       "      <td>дом 152</td>\n",
       "      <td>строение 1</td>\n",
       "      <td></td>\n",
       "      <td></td>\n",
       "    </tr>\n",
       "    <tr>\n",
       "      <td>13549</td>\n",
       "      <td>215097</td>\n",
       "      <td>Пекарня</td>\n",
       "      <td>нет</td>\n",
       "      <td>кафе</td>\n",
       "      <td>город Москва, поселение Внуковское, улица Лётч...</td>\n",
       "      <td>1</td>\n",
       "      <td>поселение Внуковское</td>\n",
       "      <td>улица Лётчика Ульянина</td>\n",
       "      <td>дом 2</td>\n",
       "      <td></td>\n",
       "      <td></td>\n",
       "      <td></td>\n",
       "    </tr>\n",
       "    <tr>\n",
       "      <td>13550</td>\n",
       "      <td>153211</td>\n",
       "      <td>Кофейня «Твой кофе»</td>\n",
       "      <td>нет</td>\n",
       "      <td>кафе</td>\n",
       "      <td>город Москва, Большая Тульская улица, дом 19</td>\n",
       "      <td>1</td>\n",
       "      <td>город Москва</td>\n",
       "      <td>Большая Тульская улица</td>\n",
       "      <td>дом 19</td>\n",
       "      <td></td>\n",
       "      <td></td>\n",
       "      <td></td>\n",
       "    </tr>\n",
       "    <tr>\n",
       "      <td>13552</td>\n",
       "      <td>138795</td>\n",
       "      <td>Кафе «Бистро»</td>\n",
       "      <td>нет</td>\n",
       "      <td>кафе</td>\n",
       "      <td>город Москва, проспект Будённого, дом 16, стро...</td>\n",
       "      <td>1</td>\n",
       "      <td>город Москва</td>\n",
       "      <td>проспект Будённого</td>\n",
       "      <td>дом 16</td>\n",
       "      <td>строение 63</td>\n",
       "      <td></td>\n",
       "      <td></td>\n",
       "    </tr>\n",
       "    <tr>\n",
       "      <td>13556</td>\n",
       "      <td>175579</td>\n",
       "      <td>ШАУРМА. ГРИЛЬ</td>\n",
       "      <td>нет</td>\n",
       "      <td>кафе</td>\n",
       "      <td>город Москва, улица Горбунова, дом 7, корпус 2</td>\n",
       "      <td>1</td>\n",
       "      <td>город Москва</td>\n",
       "      <td>улица Горбунова</td>\n",
       "      <td>дом 7</td>\n",
       "      <td>корпус 2</td>\n",
       "      <td></td>\n",
       "      <td></td>\n",
       "    </tr>\n",
       "    <tr>\n",
       "      <td>13558</td>\n",
       "      <td>29839</td>\n",
       "      <td>Специализированный цех ВИТО-1</td>\n",
       "      <td>нет</td>\n",
       "      <td>столовая</td>\n",
       "      <td>город Москва, Магнитогорская улица, дом 19</td>\n",
       "      <td>1</td>\n",
       "      <td>город Москва</td>\n",
       "      <td>Магнитогорская улица</td>\n",
       "      <td>дом 19</td>\n",
       "      <td></td>\n",
       "      <td></td>\n",
       "      <td></td>\n",
       "    </tr>\n",
       "    <tr>\n",
       "      <td>13581</td>\n",
       "      <td>73246</td>\n",
       "      <td>Быстрое питание</td>\n",
       "      <td>нет</td>\n",
       "      <td>кафе</td>\n",
       "      <td>город Москва, Планерная улица, дом 14, корпус 1</td>\n",
       "      <td>1</td>\n",
       "      <td>город Москва</td>\n",
       "      <td>Планерная улица</td>\n",
       "      <td>дом 14</td>\n",
       "      <td>корпус 1</td>\n",
       "      <td></td>\n",
       "      <td></td>\n",
       "    </tr>\n",
       "    <tr>\n",
       "      <td>13582</td>\n",
       "      <td>19912</td>\n",
       "      <td>Сахара</td>\n",
       "      <td>нет</td>\n",
       "      <td>кафе</td>\n",
       "      <td>город Москва, 56-й километр Московской Кольцев...</td>\n",
       "      <td>1</td>\n",
       "      <td>город Москва</td>\n",
       "      <td>56-й километр Московской Кольцевой Автодороги</td>\n",
       "      <td>дом 10</td>\n",
       "      <td></td>\n",
       "      <td></td>\n",
       "      <td></td>\n",
       "    </tr>\n",
       "    <tr>\n",
       "      <td>13590</td>\n",
       "      <td>29708</td>\n",
       "      <td>ПЕКАРНЯ</td>\n",
       "      <td>нет</td>\n",
       "      <td>столовая</td>\n",
       "      <td>город Москва, улица Фомичёвой, дом 8</td>\n",
       "      <td>1</td>\n",
       "      <td>город Москва</td>\n",
       "      <td>улица Фомичёвой</td>\n",
       "      <td>дом 8</td>\n",
       "      <td></td>\n",
       "      <td></td>\n",
       "      <td></td>\n",
       "    </tr>\n",
       "    <tr>\n",
       "      <td>13594</td>\n",
       "      <td>198311</td>\n",
       "      <td>Идола</td>\n",
       "      <td>нет</td>\n",
       "      <td>кафе</td>\n",
       "      <td>город Москва, Смоленская площадь, дом 6</td>\n",
       "      <td>1</td>\n",
       "      <td>город Москва</td>\n",
       "      <td>Смоленская площадь</td>\n",
       "      <td>дом 6</td>\n",
       "      <td></td>\n",
       "      <td></td>\n",
       "      <td></td>\n",
       "    </tr>\n",
       "    <tr>\n",
       "      <td>13597</td>\n",
       "      <td>24084</td>\n",
       "      <td>Цех бортового питания</td>\n",
       "      <td>нет</td>\n",
       "      <td>столовая</td>\n",
       "      <td>город Москва, деревня Толстопальцево, Советска...</td>\n",
       "      <td>1</td>\n",
       "      <td>деревня Толстопальцево</td>\n",
       "      <td>Советская улица</td>\n",
       "      <td>дом 1</td>\n",
       "      <td>строение 30</td>\n",
       "      <td></td>\n",
       "      <td></td>\n",
       "    </tr>\n",
       "    <tr>\n",
       "      <td>13599</td>\n",
       "      <td>183851</td>\n",
       "      <td>Каменев Василий Владимирович</td>\n",
       "      <td>нет</td>\n",
       "      <td>кафе</td>\n",
       "      <td>город Москва, улица Сущёвский Вал, дом 5, стро...</td>\n",
       "      <td>1</td>\n",
       "      <td>город Москва</td>\n",
       "      <td>улица Сущёвский Вал</td>\n",
       "      <td>дом 5</td>\n",
       "      <td>строение 6</td>\n",
       "      <td></td>\n",
       "      <td></td>\n",
       "    </tr>\n",
       "    <tr>\n",
       "      <td>13601</td>\n",
       "      <td>181107</td>\n",
       "      <td>PUBLIC CAFE</td>\n",
       "      <td>нет</td>\n",
       "      <td>кафе</td>\n",
       "      <td>город Москва, Ленинский проспект, дом 15А</td>\n",
       "      <td>1</td>\n",
       "      <td>город Москва</td>\n",
       "      <td>Ленинский проспект</td>\n",
       "      <td>дом 15А</td>\n",
       "      <td></td>\n",
       "      <td></td>\n",
       "      <td></td>\n",
       "    </tr>\n",
       "    <tr>\n",
       "      <td>13605</td>\n",
       "      <td>161742</td>\n",
       "      <td>Кафе «МитПоинт»</td>\n",
       "      <td>нет</td>\n",
       "      <td>кафе</td>\n",
       "      <td>город Москва, Брюсов переулок, дом 11, строение 1</td>\n",
       "      <td>1</td>\n",
       "      <td>город Москва</td>\n",
       "      <td>Брюсов переулок</td>\n",
       "      <td>дом 11</td>\n",
       "      <td>строение 1</td>\n",
       "      <td></td>\n",
       "      <td></td>\n",
       "    </tr>\n",
       "    <tr>\n",
       "      <td>13606</td>\n",
       "      <td>183448</td>\n",
       "      <td>Дулганов Эрик Ержанович</td>\n",
       "      <td>нет</td>\n",
       "      <td>кафе</td>\n",
       "      <td>город Москва, улица Сущёвский Вал, дом 5, стро...</td>\n",
       "      <td>1</td>\n",
       "      <td>город Москва</td>\n",
       "      <td>улица Сущёвский Вал</td>\n",
       "      <td>дом 5</td>\n",
       "      <td>строение 20</td>\n",
       "      <td></td>\n",
       "      <td></td>\n",
       "    </tr>\n",
       "    <tr>\n",
       "      <td>13618</td>\n",
       "      <td>185568</td>\n",
       "      <td>Суши маркет Тапошими</td>\n",
       "      <td>нет</td>\n",
       "      <td>кафе</td>\n",
       "      <td>город Москва, улица Рогожский Вал, дом 5, стро...</td>\n",
       "      <td>1</td>\n",
       "      <td>город Москва</td>\n",
       "      <td>улица Рогожский Вал</td>\n",
       "      <td>дом 5</td>\n",
       "      <td>строение 1</td>\n",
       "      <td></td>\n",
       "      <td></td>\n",
       "    </tr>\n",
       "  </tbody>\n",
       "</table>\n",
       "</div>"
      ],
      "text/plain": [
       "           id                     object_name chain object_type  \\\n",
       "13528  190756  Ибрагимов Магомед Сулейманович   нет        кафе   \n",
       "13529  145354                     Кафе Карпов   нет        кафе   \n",
       "13534  133282                  Фреш Смуси Бар   нет        кафе   \n",
       "13545  182078                        Джо кофе   нет        кафе   \n",
       "13547   29667                             ЦЕХ   нет    столовая   \n",
       "13549  215097                         Пекарня   нет        кафе   \n",
       "13550  153211             Кофейня «Твой кофе»   нет        кафе   \n",
       "13552  138795                   Кафе «Бистро»   нет        кафе   \n",
       "13556  175579                   ШАУРМА. ГРИЛЬ   нет        кафе   \n",
       "13558   29839   Специализированный цех ВИТО-1   нет    столовая   \n",
       "13581   73246                 Быстрое питание   нет        кафе   \n",
       "13582   19912                          Сахара   нет        кафе   \n",
       "13590   29708                         ПЕКАРНЯ   нет    столовая   \n",
       "13594  198311                           Идола   нет        кафе   \n",
       "13597   24084           Цех бортового питания   нет    столовая   \n",
       "13599  183851    Каменев Василий Владимирович   нет        кафе   \n",
       "13601  181107                     PUBLIC CAFE   нет        кафе   \n",
       "13605  161742                 Кафе «МитПоинт»   нет        кафе   \n",
       "13606  183448         Дулганов Эрик Ержанович   нет        кафе   \n",
       "13618  185568            Суши маркет Тапошими   нет        кафе   \n",
       "\n",
       "                                                 address  number  \\\n",
       "13528  город Москва, улица Сущёвский Вал, дом 5, стро...       1   \n",
       "13529  город Москва, поселение Марушкинское, Киевское...       1   \n",
       "13534  город Москва, Верхняя Красносельская улица, до...       1   \n",
       "13545  город Москва, Электродная улица, дом 2, строен...       1   \n",
       "13547  город Москва, Волгоградский проспект, дом 152,...       1   \n",
       "13549  город Москва, поселение Внуковское, улица Лётч...       1   \n",
       "13550       город Москва, Большая Тульская улица, дом 19       1   \n",
       "13552  город Москва, проспект Будённого, дом 16, стро...       1   \n",
       "13556     город Москва, улица Горбунова, дом 7, корпус 2       1   \n",
       "13558         город Москва, Магнитогорская улица, дом 19       1   \n",
       "13581    город Москва, Планерная улица, дом 14, корпус 1       1   \n",
       "13582  город Москва, 56-й километр Московской Кольцев...       1   \n",
       "13590               город Москва, улица Фомичёвой, дом 8       1   \n",
       "13594            город Москва, Смоленская площадь, дом 6       1   \n",
       "13597  город Москва, деревня Толстопальцево, Советска...       1   \n",
       "13599  город Москва, улица Сущёвский Вал, дом 5, стро...       1   \n",
       "13601          город Москва, Ленинский проспект, дом 15А       1   \n",
       "13605  город Москва, Брюсов переулок, дом 11, строение 1       1   \n",
       "13606  город Москва, улица Сущёвский Вал, дом 5, стро...       1   \n",
       "13618  город Москва, улица Рогожский Вал, дом 5, стро...       1   \n",
       "\n",
       "                           a0                                             a1  \\\n",
       "13528            город Москва                            улица Сущёвский Вал   \n",
       "13529  поселение Марушкинское                                 Киевское шоссе   \n",
       "13534            город Москва                   Верхняя Красносельская улица   \n",
       "13545            город Москва                              Электродная улица   \n",
       "13547            город Москва                         Волгоградский проспект   \n",
       "13549    поселение Внуковское                         улица Лётчика Ульянина   \n",
       "13550            город Москва                         Большая Тульская улица   \n",
       "13552            город Москва                             проспект Будённого   \n",
       "13556            город Москва                                улица Горбунова   \n",
       "13558            город Москва                           Магнитогорская улица   \n",
       "13581            город Москва                                Планерная улица   \n",
       "13582            город Москва  56-й километр Московской Кольцевой Автодороги   \n",
       "13590            город Москва                                улица Фомичёвой   \n",
       "13594            город Москва                             Смоленская площадь   \n",
       "13597  деревня Толстопальцево                                Советская улица   \n",
       "13599            город Москва                            улица Сущёвский Вал   \n",
       "13601            город Москва                             Ленинский проспект   \n",
       "13605            город Москва                                Брюсов переулок   \n",
       "13606            город Москва                            улица Сущёвский Вал   \n",
       "13618            город Москва                            улица Рогожский Вал   \n",
       "\n",
       "                  a2           a3          a4 a5  \n",
       "13528          дом 5  строение 12                 \n",
       "13529  32-й километр   владение 3  строение 1     \n",
       "13534         дом 3А                              \n",
       "13545          дом 2  строение 32                 \n",
       "13547        дом 152   строение 1                 \n",
       "13549          дом 2                              \n",
       "13550         дом 19                              \n",
       "13552         дом 16  строение 63                 \n",
       "13556          дом 7     корпус 2                 \n",
       "13558         дом 19                              \n",
       "13581         дом 14     корпус 1                 \n",
       "13582         дом 10                              \n",
       "13590          дом 8                              \n",
       "13594          дом 6                              \n",
       "13597          дом 1  строение 30                 \n",
       "13599          дом 5   строение 6                 \n",
       "13601        дом 15А                              \n",
       "13605         дом 11   строение 1                 \n",
       "13606          дом 5  строение 20                 \n",
       "13618          дом 5   строение 1                 "
      ]
     },
     "execution_count": 232,
     "metadata": {},
     "output_type": "execute_result"
    }
   ],
   "source": [
    "rest_data_1[(rest_data_1['object_type'] =='кафе')|(rest_data_1['object_type']=='столовая')]"
   ]
  },
  {
   "cell_type": "markdown",
   "metadata": {},
   "source": [
    "Как и в случае с number=0, это могут быть небольшие заведения, работающие только \"на вынос\". Даже если в этой выборке есть ошибки в типе или количестве, это небольшой процент, которым можно пренебречь.  "
   ]
  },
  {
   "cell_type": "markdown",
   "metadata": {},
   "source": [
    "**Заключение по предобработке:** В процессе изучения предоставленного файла выяснилось, что есть записи с числом посадочных мест (number) равным нулю, порядка 10%, и менее 1% записей, где number =1.Сделан вывод, что эти записи можно отнести к заведениям, работающим только \"на вынос\"."
   ]
  },
  {
   "cell_type": "markdown",
   "metadata": {},
   "source": [
    "Затем с целью предстоящего исследования были структурированы сведения об адресах. Элемент предшествующий номеру дома или строения (улица, деревня и т.п.) был перенесен в поле a1, а соответствующий населенный пункт -  в a0. "
   ]
  },
  {
   "cell_type": "markdown",
   "metadata": {},
   "source": [
    "Затем была сделана проверка на дубли, из дублей были оставлены значения, имеющие max number. "
   ]
  },
  {
   "cell_type": "markdown",
   "metadata": {},
   "source": [
    "## Исследование рынка"
   ]
  },
  {
   "cell_type": "markdown",
   "metadata": {},
   "source": [
    "### Обзор заведений общественного питания Москвы"
   ]
  },
  {
   "cell_type": "markdown",
   "metadata": {},
   "source": [
    "Сначала посмотрим общую картину общепита в Москве по данным этого файла"
   ]
  },
  {
   "cell_type": "code",
   "execution_count": 233,
   "metadata": {},
   "outputs": [],
   "source": [
    "rest_count = rest_data['object_type'].value_counts().reset_index()\n",
    "rest_count.columns= ['object_type','object_count']"
   ]
  },
  {
   "cell_type": "code",
   "execution_count": 234,
   "metadata": {
    "scrolled": false
   },
   "outputs": [
    {
     "data": {
      "image/png": "[encoded data removed]"
     },
     "metadata": {},
     "output_type": "display_data"
    }
   ],
   "source": [
    "data = rest_count\n",
    "fig = px.bar(\n",
    "    data, x='object_type', y='object_count',\n",
    "    title='Cоотношение видов объектов общепита по количеству'\n",
    ")\n",
    "fig.update_xaxes(tickangle=45)\n",
    "fig.show('png') "
   ]
  },
  {
   "cell_type": "markdown",
   "metadata": {},
   "source": [
    "На графике видно,что самый распространенный вид объекта питания  - это кафе, которорых более чем в 2 раза больше остальных видов."
   ]
  },
  {
   "cell_type": "markdown",
   "metadata": {},
   "source": [
    "Теперь добавим  признак сетевой-несетевой"
   ]
  },
  {
   "cell_type": "code",
   "execution_count": 235,
   "metadata": {},
   "outputs": [
    {
     "data": {
      "text/html": [
       "<div>\n",
       "<style scoped>\n",
       "    .dataframe tbody tr th:only-of-type {\n",
       "        vertical-align: middle;\n",
       "    }\n",
       "\n",
       "    .dataframe tbody tr th {\n",
       "        vertical-align: top;\n",
       "    }\n",
       "\n",
       "    .dataframe thead th {\n",
       "        text-align: right;\n",
       "    }\n",
       "</style>\n",
       "<table border=\"1\" class=\"dataframe\">\n",
       "  <thead>\n",
       "    <tr style=\"text-align: right;\">\n",
       "      <th></th>\n",
       "      <th>chain</th>\n",
       "      <th>object_type</th>\n",
       "      <th>object_count</th>\n",
       "    </tr>\n",
       "  </thead>\n",
       "  <tbody>\n",
       "    <tr>\n",
       "      <td>12</td>\n",
       "      <td>нет</td>\n",
       "      <td>кафе</td>\n",
       "      <td>4628</td>\n",
       "    </tr>\n",
       "    <tr>\n",
       "      <td>17</td>\n",
       "      <td>нет</td>\n",
       "      <td>столовая</td>\n",
       "      <td>2572</td>\n",
       "    </tr>\n",
       "    <tr>\n",
       "      <td>16</td>\n",
       "      <td>нет</td>\n",
       "      <td>ресторан</td>\n",
       "      <td>1734</td>\n",
       "    </tr>\n",
       "    <tr>\n",
       "      <td>15</td>\n",
       "      <td>нет</td>\n",
       "      <td>предприятие быстрого обслуживания</td>\n",
       "      <td>1107</td>\n",
       "    </tr>\n",
       "    <tr>\n",
       "      <td>9</td>\n",
       "      <td>нет</td>\n",
       "      <td>бар</td>\n",
       "      <td>816</td>\n",
       "    </tr>\n",
       "    <tr>\n",
       "      <td>10</td>\n",
       "      <td>нет</td>\n",
       "      <td>буфет</td>\n",
       "      <td>560</td>\n",
       "    </tr>\n",
       "    <tr>\n",
       "      <td>13</td>\n",
       "      <td>нет</td>\n",
       "      <td>кафетерий</td>\n",
       "      <td>342</td>\n",
       "    </tr>\n",
       "    <tr>\n",
       "      <td>11</td>\n",
       "      <td>нет</td>\n",
       "      <td>закусочная</td>\n",
       "      <td>292</td>\n",
       "    </tr>\n",
       "    <tr>\n",
       "      <td>14</td>\n",
       "      <td>нет</td>\n",
       "      <td>магазин (отдел кулинарии)</td>\n",
       "      <td>194</td>\n",
       "    </tr>\n",
       "    <tr>\n",
       "      <td>3</td>\n",
       "      <td>да</td>\n",
       "      <td>кафе</td>\n",
       "      <td>1389</td>\n",
       "    </tr>\n",
       "    <tr>\n",
       "      <td>6</td>\n",
       "      <td>да</td>\n",
       "      <td>предприятие быстрого обслуживания</td>\n",
       "      <td>784</td>\n",
       "    </tr>\n",
       "    <tr>\n",
       "      <td>7</td>\n",
       "      <td>да</td>\n",
       "      <td>ресторан</td>\n",
       "      <td>542</td>\n",
       "    </tr>\n",
       "    <tr>\n",
       "      <td>5</td>\n",
       "      <td>да</td>\n",
       "      <td>магазин (отдел кулинарии)</td>\n",
       "      <td>78</td>\n",
       "    </tr>\n",
       "    <tr>\n",
       "      <td>2</td>\n",
       "      <td>да</td>\n",
       "      <td>закусочная</td>\n",
       "      <td>56</td>\n",
       "    </tr>\n",
       "    <tr>\n",
       "      <td>4</td>\n",
       "      <td>да</td>\n",
       "      <td>кафетерий</td>\n",
       "      <td>51</td>\n",
       "    </tr>\n",
       "    <tr>\n",
       "      <td>0</td>\n",
       "      <td>да</td>\n",
       "      <td>бар</td>\n",
       "      <td>37</td>\n",
       "    </tr>\n",
       "    <tr>\n",
       "      <td>1</td>\n",
       "      <td>да</td>\n",
       "      <td>буфет</td>\n",
       "      <td>11</td>\n",
       "    </tr>\n",
       "    <tr>\n",
       "      <td>8</td>\n",
       "      <td>да</td>\n",
       "      <td>столовая</td>\n",
       "      <td>3</td>\n",
       "    </tr>\n",
       "  </tbody>\n",
       "</table>\n",
       "</div>"
      ],
      "text/plain": [
       "   chain                        object_type  object_count\n",
       "12   нет                               кафе          4628\n",
       "17   нет                           столовая          2572\n",
       "16   нет                           ресторан          1734\n",
       "15   нет  предприятие быстрого обслуживания          1107\n",
       "9    нет                                бар           816\n",
       "10   нет                              буфет           560\n",
       "13   нет                          кафетерий           342\n",
       "11   нет                         закусочная           292\n",
       "14   нет          магазин (отдел кулинарии)           194\n",
       "3     да                               кафе          1389\n",
       "6     да  предприятие быстрого обслуживания           784\n",
       "7     да                           ресторан           542\n",
       "5     да          магазин (отдел кулинарии)            78\n",
       "2     да                         закусочная            56\n",
       "4     да                          кафетерий            51\n",
       "0     да                                бар            37\n",
       "1     да                              буфет            11\n",
       "8     да                           столовая             3"
      ]
     },
     "execution_count": 235,
     "metadata": {},
     "output_type": "execute_result"
    }
   ],
   "source": [
    "rest_chain_count = rest_data.groupby(['chain','object_type'])['id'].count().reset_index()\n",
    "rest_chain_count.columns = ['chain','object_type','object_count']\n",
    "rest_chain_count = rest_chain_count.sort_values(by=['chain','object_count'],ascending = False)\n",
    "rest_chain_count"
   ]
  },
  {
   "cell_type": "code",
   "execution_count": 236,
   "metadata": {},
   "outputs": [
    {
     "data": {
      "text/html": [
       "<div>\n",
       "<style scoped>\n",
       "    .dataframe tbody tr th:only-of-type {\n",
       "        vertical-align: middle;\n",
       "    }\n",
       "\n",
       "    .dataframe tbody tr th {\n",
       "        vertical-align: top;\n",
       "    }\n",
       "\n",
       "    .dataframe thead th {\n",
       "        text-align: right;\n",
       "    }\n",
       "</style>\n",
       "<table border=\"1\" class=\"dataframe\">\n",
       "  <thead>\n",
       "    <tr style=\"text-align: right;\">\n",
       "      <th></th>\n",
       "      <th>object_type</th>\n",
       "      <th>object_chain_no</th>\n",
       "      <th>object_chain_yes</th>\n",
       "      <th>part_y</th>\n",
       "    </tr>\n",
       "  </thead>\n",
       "  <tbody>\n",
       "    <tr>\n",
       "      <td>0</td>\n",
       "      <td>кафе</td>\n",
       "      <td>4628</td>\n",
       "      <td>1389</td>\n",
       "      <td>0.23</td>\n",
       "    </tr>\n",
       "    <tr>\n",
       "      <td>1</td>\n",
       "      <td>столовая</td>\n",
       "      <td>2572</td>\n",
       "      <td>3</td>\n",
       "      <td>0.00</td>\n",
       "    </tr>\n",
       "    <tr>\n",
       "      <td>2</td>\n",
       "      <td>ресторан</td>\n",
       "      <td>1734</td>\n",
       "      <td>542</td>\n",
       "      <td>0.24</td>\n",
       "    </tr>\n",
       "    <tr>\n",
       "      <td>3</td>\n",
       "      <td>предприятие быстрого обслуживания</td>\n",
       "      <td>1107</td>\n",
       "      <td>784</td>\n",
       "      <td>0.41</td>\n",
       "    </tr>\n",
       "    <tr>\n",
       "      <td>4</td>\n",
       "      <td>бар</td>\n",
       "      <td>816</td>\n",
       "      <td>37</td>\n",
       "      <td>0.04</td>\n",
       "    </tr>\n",
       "    <tr>\n",
       "      <td>5</td>\n",
       "      <td>буфет</td>\n",
       "      <td>560</td>\n",
       "      <td>11</td>\n",
       "      <td>0.02</td>\n",
       "    </tr>\n",
       "    <tr>\n",
       "      <td>6</td>\n",
       "      <td>кафетерий</td>\n",
       "      <td>342</td>\n",
       "      <td>51</td>\n",
       "      <td>0.13</td>\n",
       "    </tr>\n",
       "    <tr>\n",
       "      <td>7</td>\n",
       "      <td>закусочная</td>\n",
       "      <td>292</td>\n",
       "      <td>56</td>\n",
       "      <td>0.16</td>\n",
       "    </tr>\n",
       "    <tr>\n",
       "      <td>8</td>\n",
       "      <td>магазин (отдел кулинарии)</td>\n",
       "      <td>194</td>\n",
       "      <td>78</td>\n",
       "      <td>0.29</td>\n",
       "    </tr>\n",
       "  </tbody>\n",
       "</table>\n",
       "</div>"
      ],
      "text/plain": [
       "                         object_type  object_chain_no  object_chain_yes  \\\n",
       "0                               кафе             4628              1389   \n",
       "1                           столовая             2572                 3   \n",
       "2                           ресторан             1734               542   \n",
       "3  предприятие быстрого обслуживания             1107               784   \n",
       "4                                бар              816                37   \n",
       "5                              буфет              560                11   \n",
       "6                          кафетерий              342                51   \n",
       "7                         закусочная              292                56   \n",
       "8          магазин (отдел кулинарии)              194                78   \n",
       "\n",
       "   part_y  \n",
       "0    0.23  \n",
       "1    0.00  \n",
       "2    0.24  \n",
       "3    0.41  \n",
       "4    0.04  \n",
       "5    0.02  \n",
       "6    0.13  \n",
       "7    0.16  \n",
       "8    0.29  "
      ]
     },
     "execution_count": 236,
     "metadata": {},
     "output_type": "execute_result"
    }
   ],
   "source": [
    "chain_no = rest_chain_count[rest_chain_count['chain']=='нет']\n",
    "chain_no.columns = ['chain','object_type','object_chain_no']\n",
    "chain_yes = rest_chain_count[rest_chain_count['chain']=='да']\n",
    "chain_yes.columns = ['chain','object_type','object_chain_yes']\n",
    "marks_chain = chain_no.merge(chain_yes,on='object_type')\n",
    "marks_chain['part_y'] = (marks_chain['object_chain_yes']/(marks_chain['object_chain_no']+marks_chain['object_chain_yes'])).round(2)   \n",
    "marks_chain[['object_type','object_chain_no','object_chain_yes','part_y']]"
   ]
  },
  {
   "cell_type": "code",
   "execution_count": 237,
   "metadata": {},
   "outputs": [
    {
     "name": "stdout",
     "output_type": "stream",
     "text": [
      "Количество несетевых заведений= 12245\n",
      "Количество сетевых заведений= 2951\n"
     ]
    }
   ],
   "source": [
    "print('Количество несетевых заведений=',marks_chain['object_chain_no'].sum())\n",
    "print('Количество сетевых заведений=',marks_chain['object_chain_yes'].sum())"
   ]
  },
  {
   "cell_type": "code",
   "execution_count": 238,
   "metadata": {
    "scrolled": false
   },
   "outputs": [
    {
     "data": {
      "image/png": "[encoded data removed]"
     },
     "metadata": {},
     "output_type": "display_data"
    }
   ],
   "source": [
    "fig = px.bar(\n",
    "    rest_chain_count,\n",
    "    x='object_type',\n",
    "    y='object_count',\n",
    "    color='chain',\n",
    "    title='Cоотношение видов объектов общепита по параметру chain'\n",
    ")\n",
    "fig.update_xaxes(tickangle=45)\n",
    "fig.show('png')"
   ]
  },
  {
   "cell_type": "code",
   "execution_count": 239,
   "metadata": {},
   "outputs": [],
   "source": [
    "only_chain_yes = rest_data[(rest_data['chain']=='да')&(rest_data['number'] > 1)]"
   ]
  },
  {
   "cell_type": "code",
   "execution_count": 240,
   "metadata": {},
   "outputs": [
    {
     "data": {
      "image/png": "[encoded data removed]",
      "text/plain": [
       "<Figure size 1080x360 with 1 Axes>"
      ]
     },
     "metadata": {
      "needs_background": "light"
     },
     "output_type": "display_data"
    }
   ],
   "source": [
    "plt.figure(figsize = (15,5))\n",
    "plt.hist(only_chain_yes['number'],bins=20); \n",
    "plt.title('Распределение посадочных мест для сетевых заведений');\n",
    "plt.xlabel('Количество посадочных мест')\n",
    "plt.ylabel('Количество заведений общепита')\n",
    "plt.show()"
   ]
  },
  {
   "cell_type": "markdown",
   "metadata": {},
   "source": [
    "Вопрос: — Что характерно для сетевых заведений: много заведений с небольшим числом посадочных мест в каждом или мало заведений с большим количеством посадочных мест? Ответ: оба варианта верны. Не \"или\", а \"и\"."
   ]
  },
  {
   "cell_type": "markdown",
   "metadata": {},
   "source": [
    "Посмотрим среднее (по медиане) количество посадочных мест в зависимости от типа заведения"
   ]
  },
  {
   "cell_type": "code",
   "execution_count": 241,
   "metadata": {},
   "outputs": [
    {
     "data": {
      "text/html": [
       "<div>\n",
       "<style scoped>\n",
       "    .dataframe tbody tr th:only-of-type {\n",
       "        vertical-align: middle;\n",
       "    }\n",
       "\n",
       "    .dataframe tbody tr th {\n",
       "        vertical-align: top;\n",
       "    }\n",
       "\n",
       "    .dataframe thead th {\n",
       "        text-align: right;\n",
       "    }\n",
       "</style>\n",
       "<table border=\"1\" class=\"dataframe\">\n",
       "  <thead>\n",
       "    <tr style=\"text-align: right;\">\n",
       "      <th></th>\n",
       "      <th>object_type</th>\n",
       "      <th>number</th>\n",
       "    </tr>\n",
       "  </thead>\n",
       "  <tbody>\n",
       "    <tr>\n",
       "      <td>8</td>\n",
       "      <td>столовая</td>\n",
       "      <td>103</td>\n",
       "    </tr>\n",
       "    <tr>\n",
       "      <td>7</td>\n",
       "      <td>ресторан</td>\n",
       "      <td>80</td>\n",
       "    </tr>\n",
       "    <tr>\n",
       "      <td>0</td>\n",
       "      <td>бар</td>\n",
       "      <td>35</td>\n",
       "    </tr>\n",
       "    <tr>\n",
       "      <td>1</td>\n",
       "      <td>буфет</td>\n",
       "      <td>32</td>\n",
       "    </tr>\n",
       "    <tr>\n",
       "      <td>3</td>\n",
       "      <td>кафе</td>\n",
       "      <td>32</td>\n",
       "    </tr>\n",
       "    <tr>\n",
       "      <td>4</td>\n",
       "      <td>кафетерий</td>\n",
       "      <td>6</td>\n",
       "    </tr>\n",
       "    <tr>\n",
       "      <td>6</td>\n",
       "      <td>предприятие быстрого обслуживания</td>\n",
       "      <td>6</td>\n",
       "    </tr>\n",
       "    <tr>\n",
       "      <td>2</td>\n",
       "      <td>закусочная</td>\n",
       "      <td>0</td>\n",
       "    </tr>\n",
       "    <tr>\n",
       "      <td>5</td>\n",
       "      <td>магазин (отдел кулинарии)</td>\n",
       "      <td>0</td>\n",
       "    </tr>\n",
       "  </tbody>\n",
       "</table>\n",
       "</div>"
      ],
      "text/plain": [
       "                         object_type  number\n",
       "8                           столовая     103\n",
       "7                           ресторан      80\n",
       "0                                бар      35\n",
       "1                              буфет      32\n",
       "3                               кафе      32\n",
       "4                          кафетерий       6\n",
       "6  предприятие быстрого обслуживания       6\n",
       "2                         закусочная       0\n",
       "5          магазин (отдел кулинарии)       0"
      ]
     },
     "execution_count": 241,
     "metadata": {},
     "output_type": "execute_result"
    }
   ],
   "source": [
    "numbers=rest_data.groupby('object_type')['number'].median().reset_index()\n",
    "numbers.columns=['object_type','number']\n",
    "numbers=numbers.sort_values(by='number',ascending=False)\n",
    "numbers"
   ]
  },
  {
   "cell_type": "code",
   "execution_count": 242,
   "metadata": {
    "scrolled": true
   },
   "outputs": [
    {
     "data": {
      "image/png": "[encoded data removed]",
      "text/plain": [
       "<Figure size 432x288 with 1 Axes>"
      ]
     },
     "metadata": {
      "needs_background": "light"
     },
     "output_type": "display_data"
    }
   ],
   "source": [
    "sns.barplot(x='number', y='object_type', data=numbers).set_title('Среднее(медиана) количество посадочных мест в зависимости от типа заведения');"
   ]
  },
  {
   "cell_type": "code",
   "execution_count": 243,
   "metadata": {},
   "outputs": [
    {
     "data": {
      "text/html": [
       "<div>\n",
       "<style scoped>\n",
       "    .dataframe tbody tr th:only-of-type {\n",
       "        vertical-align: middle;\n",
       "    }\n",
       "\n",
       "    .dataframe tbody tr th {\n",
       "        vertical-align: top;\n",
       "    }\n",
       "\n",
       "    .dataframe thead th {\n",
       "        text-align: right;\n",
       "    }\n",
       "</style>\n",
       "<table border=\"1\" class=\"dataframe\">\n",
       "  <thead>\n",
       "    <tr style=\"text-align: right;\">\n",
       "      <th></th>\n",
       "      <th>object_type</th>\n",
       "      <th>chain</th>\n",
       "      <th>number</th>\n",
       "    </tr>\n",
       "  </thead>\n",
       "  <tbody>\n",
       "    <tr>\n",
       "      <td>17</td>\n",
       "      <td>столовая</td>\n",
       "      <td>нет</td>\n",
       "      <td>103.0</td>\n",
       "    </tr>\n",
       "    <tr>\n",
       "      <td>16</td>\n",
       "      <td>столовая</td>\n",
       "      <td>да</td>\n",
       "      <td>120.0</td>\n",
       "    </tr>\n",
       "    <tr>\n",
       "      <td>15</td>\n",
       "      <td>ресторан</td>\n",
       "      <td>нет</td>\n",
       "      <td>76.0</td>\n",
       "    </tr>\n",
       "    <tr>\n",
       "      <td>14</td>\n",
       "      <td>ресторан</td>\n",
       "      <td>да</td>\n",
       "      <td>89.5</td>\n",
       "    </tr>\n",
       "    <tr>\n",
       "      <td>13</td>\n",
       "      <td>предприятие быстрого обслуживания</td>\n",
       "      <td>нет</td>\n",
       "      <td>0.0</td>\n",
       "    </tr>\n",
       "    <tr>\n",
       "      <td>12</td>\n",
       "      <td>предприятие быстрого обслуживания</td>\n",
       "      <td>да</td>\n",
       "      <td>25.0</td>\n",
       "    </tr>\n",
       "    <tr>\n",
       "      <td>11</td>\n",
       "      <td>магазин (отдел кулинарии)</td>\n",
       "      <td>нет</td>\n",
       "      <td>0.0</td>\n",
       "    </tr>\n",
       "    <tr>\n",
       "      <td>10</td>\n",
       "      <td>магазин (отдел кулинарии)</td>\n",
       "      <td>да</td>\n",
       "      <td>3.5</td>\n",
       "    </tr>\n",
       "    <tr>\n",
       "      <td>9</td>\n",
       "      <td>кафетерий</td>\n",
       "      <td>нет</td>\n",
       "      <td>6.0</td>\n",
       "    </tr>\n",
       "    <tr>\n",
       "      <td>8</td>\n",
       "      <td>кафетерий</td>\n",
       "      <td>да</td>\n",
       "      <td>8.0</td>\n",
       "    </tr>\n",
       "    <tr>\n",
       "      <td>7</td>\n",
       "      <td>кафе</td>\n",
       "      <td>нет</td>\n",
       "      <td>30.0</td>\n",
       "    </tr>\n",
       "    <tr>\n",
       "      <td>6</td>\n",
       "      <td>кафе</td>\n",
       "      <td>да</td>\n",
       "      <td>40.0</td>\n",
       "    </tr>\n",
       "    <tr>\n",
       "      <td>5</td>\n",
       "      <td>закусочная</td>\n",
       "      <td>нет</td>\n",
       "      <td>0.0</td>\n",
       "    </tr>\n",
       "    <tr>\n",
       "      <td>4</td>\n",
       "      <td>закусочная</td>\n",
       "      <td>да</td>\n",
       "      <td>8.0</td>\n",
       "    </tr>\n",
       "    <tr>\n",
       "      <td>3</td>\n",
       "      <td>буфет</td>\n",
       "      <td>нет</td>\n",
       "      <td>32.5</td>\n",
       "    </tr>\n",
       "    <tr>\n",
       "      <td>2</td>\n",
       "      <td>буфет</td>\n",
       "      <td>да</td>\n",
       "      <td>0.0</td>\n",
       "    </tr>\n",
       "    <tr>\n",
       "      <td>1</td>\n",
       "      <td>бар</td>\n",
       "      <td>нет</td>\n",
       "      <td>34.5</td>\n",
       "    </tr>\n",
       "    <tr>\n",
       "      <td>0</td>\n",
       "      <td>бар</td>\n",
       "      <td>да</td>\n",
       "      <td>45.0</td>\n",
       "    </tr>\n",
       "  </tbody>\n",
       "</table>\n",
       "</div>"
      ],
      "text/plain": [
       "                          object_type chain  number\n",
       "17                           столовая   нет   103.0\n",
       "16                           столовая    да   120.0\n",
       "15                           ресторан   нет    76.0\n",
       "14                           ресторан    да    89.5\n",
       "13  предприятие быстрого обслуживания   нет     0.0\n",
       "12  предприятие быстрого обслуживания    да    25.0\n",
       "11          магазин (отдел кулинарии)   нет     0.0\n",
       "10          магазин (отдел кулинарии)    да     3.5\n",
       "9                           кафетерий   нет     6.0\n",
       "8                           кафетерий    да     8.0\n",
       "7                                кафе   нет    30.0\n",
       "6                                кафе    да    40.0\n",
       "5                          закусочная   нет     0.0\n",
       "4                          закусочная    да     8.0\n",
       "3                               буфет   нет    32.5\n",
       "2                               буфет    да     0.0\n",
       "1                                 бар   нет    34.5\n",
       "0                                 бар    да    45.0"
      ]
     },
     "execution_count": 243,
     "metadata": {},
     "output_type": "execute_result"
    }
   ],
   "source": [
    "numbers=rest_data.groupby(['object_type','chain'])['number'].median().reset_index()\n",
    "numbers.columns=['object_type','chain','number']\n",
    "numbers=numbers.sort_values(by=['object_type','chain'],ascending=False)\n",
    "numbers"
   ]
  },
  {
   "cell_type": "code",
   "execution_count": 244,
   "metadata": {},
   "outputs": [
    {
     "data": {
      "text/plain": [
       "count    15196.000000\n",
       "mean        59.949000\n",
       "std         74.957851\n",
       "min          0.000000\n",
       "25%         14.000000\n",
       "50%         40.000000\n",
       "75%         80.000000\n",
       "max       1700.000000\n",
       "Name: number, dtype: float64"
      ]
     },
     "execution_count": 244,
     "metadata": {},
     "output_type": "execute_result"
    }
   ],
   "source": [
    "rest_data['number'].describe()"
   ]
  },
  {
   "cell_type": "markdown",
   "metadata": {},
   "source": [
    "Большой разброс number, от 0 до 1700. Среднее и медиана \"разъехались\". Это означает, что надо нивелировать выбросы, причем для каждой позиции отдельно; или чтобы приблизиться к нормальному в прямом и переносном смысле среднему, лучше использовать медиану."
   ]
  },
  {
   "cell_type": "markdown",
   "metadata": {},
   "source": [
    "Из полученных данных можно сделать вывод, что сетевые заведения больше распространены в таких типах объектах как кафе, предприятия быстрого обслуживания и ресторан.В то время как среднее количество посадочных мест для этих категорий выглядят в порядке убывания: ресторан, кафе, предприятие быстрого обслуживания. В заведениях типа \"столовая\" самое большое среднее количество посадочных мест, а по распространенности они на втором месте после кафе, но почти в половину уступают им в количестве (2553 столовых против 5715 кафе) "
   ]
  },
  {
   "cell_type": "markdown",
   "metadata": {},
   "source": [
    "### Территориальное распространение объектов питания"
   ]
  },
  {
   "cell_type": "markdown",
   "metadata": {},
   "source": [
    "Посмотрим распространение объектов питания по улицам Москвы и отдельно по районам "
   ]
  },
  {
   "cell_type": "code",
   "execution_count": 245,
   "metadata": {},
   "outputs": [
    {
     "data": {
      "text/html": [
       "<div>\n",
       "<style scoped>\n",
       "    .dataframe tbody tr th:only-of-type {\n",
       "        vertical-align: middle;\n",
       "    }\n",
       "\n",
       "    .dataframe tbody tr th {\n",
       "        vertical-align: top;\n",
       "    }\n",
       "\n",
       "    .dataframe thead th {\n",
       "        text-align: right;\n",
       "    }\n",
       "</style>\n",
       "<table border=\"1\" class=\"dataframe\">\n",
       "  <thead>\n",
       "    <tr style=\"text-align: right;\">\n",
       "      <th></th>\n",
       "      <th>region</th>\n",
       "      <th>street</th>\n",
       "      <th>count</th>\n",
       "    </tr>\n",
       "  </thead>\n",
       "  <tbody>\n",
       "    <tr>\n",
       "      <td>1517</td>\n",
       "      <td>город Москва</td>\n",
       "      <td>проспект Мира</td>\n",
       "      <td>197</td>\n",
       "    </tr>\n",
       "    <tr>\n",
       "      <td>1132</td>\n",
       "      <td>город Москва</td>\n",
       "      <td>Профсоюзная улица</td>\n",
       "      <td>181</td>\n",
       "    </tr>\n",
       "    <tr>\n",
       "      <td>819</td>\n",
       "      <td>город Москва</td>\n",
       "      <td>Ленинградский проспект</td>\n",
       "      <td>172</td>\n",
       "    </tr>\n",
       "    <tr>\n",
       "      <td>1117</td>\n",
       "      <td>город Москва</td>\n",
       "      <td>Пресненская набережная</td>\n",
       "      <td>165</td>\n",
       "    </tr>\n",
       "    <tr>\n",
       "      <td>542</td>\n",
       "      <td>город Москва</td>\n",
       "      <td>Варшавское шоссе</td>\n",
       "      <td>161</td>\n",
       "    </tr>\n",
       "    <tr>\n",
       "      <td>...</td>\n",
       "      <td>...</td>\n",
       "      <td>...</td>\n",
       "      <td>...</td>\n",
       "    </tr>\n",
       "    <tr>\n",
       "      <td>933</td>\n",
       "      <td>город Москва</td>\n",
       "      <td>Мрузовский переулок</td>\n",
       "      <td>1</td>\n",
       "    </tr>\n",
       "    <tr>\n",
       "      <td>946</td>\n",
       "      <td>город Москва</td>\n",
       "      <td>Нагорный бульвар</td>\n",
       "      <td>1</td>\n",
       "    </tr>\n",
       "    <tr>\n",
       "      <td>948</td>\n",
       "      <td>город Москва</td>\n",
       "      <td>Напрудный переулок</td>\n",
       "      <td>1</td>\n",
       "    </tr>\n",
       "    <tr>\n",
       "      <td>949</td>\n",
       "      <td>город Москва</td>\n",
       "      <td>Нарвская улица</td>\n",
       "      <td>1</td>\n",
       "    </tr>\n",
       "    <tr>\n",
       "      <td>2156</td>\n",
       "      <td>село Остафьево</td>\n",
       "      <td>Троицкая улица</td>\n",
       "      <td>1</td>\n",
       "    </tr>\n",
       "  </tbody>\n",
       "</table>\n",
       "<p>2157 rows × 3 columns</p>\n",
       "</div>"
      ],
      "text/plain": [
       "              region                  street  count\n",
       "1517    город Москва           проспект Мира    197\n",
       "1132    город Москва       Профсоюзная улица    181\n",
       "819     город Москва  Ленинградский проспект    172\n",
       "1117    город Москва  Пресненская набережная    165\n",
       "542     город Москва        Варшавское шоссе    161\n",
       "...              ...                     ...    ...\n",
       "933     город Москва     Мрузовский переулок      1\n",
       "946     город Москва        Нагорный бульвар      1\n",
       "948     город Москва      Напрудный переулок      1\n",
       "949     город Москва          Нарвская улица      1\n",
       "2156  село Остафьево          Троицкая улица      1\n",
       "\n",
       "[2157 rows x 3 columns]"
      ]
     },
     "execution_count": 245,
     "metadata": {},
     "output_type": "execute_result"
    }
   ],
   "source": [
    "groupped_streets=rest_data.groupby(['a0','a1'])['id'].count().reset_index()\n",
    "groupped_streets.columns=['region','street','count']\n",
    "groupped_streets.sort_values(by='count',ascending=False)"
   ]
  },
  {
   "cell_type": "markdown",
   "metadata": {},
   "source": [
    "Теперь из них отберем топ 10"
   ]
  },
  {
   "cell_type": "code",
   "execution_count": 246,
   "metadata": {},
   "outputs": [
    {
     "data": {
      "text/html": [
       "<div>\n",
       "<style scoped>\n",
       "    .dataframe tbody tr th:only-of-type {\n",
       "        vertical-align: middle;\n",
       "    }\n",
       "\n",
       "    .dataframe tbody tr th {\n",
       "        vertical-align: top;\n",
       "    }\n",
       "\n",
       "    .dataframe thead th {\n",
       "        text-align: right;\n",
       "    }\n",
       "</style>\n",
       "<table border=\"1\" class=\"dataframe\">\n",
       "  <thead>\n",
       "    <tr style=\"text-align: right;\">\n",
       "      <th></th>\n",
       "      <th>region</th>\n",
       "      <th>street</th>\n",
       "      <th>count</th>\n",
       "    </tr>\n",
       "  </thead>\n",
       "  <tbody>\n",
       "    <tr>\n",
       "      <td>1517</td>\n",
       "      <td>город Москва</td>\n",
       "      <td>проспект Мира</td>\n",
       "      <td>197</td>\n",
       "    </tr>\n",
       "    <tr>\n",
       "      <td>1132</td>\n",
       "      <td>город Москва</td>\n",
       "      <td>Профсоюзная улица</td>\n",
       "      <td>181</td>\n",
       "    </tr>\n",
       "    <tr>\n",
       "      <td>819</td>\n",
       "      <td>город Москва</td>\n",
       "      <td>Ленинградский проспект</td>\n",
       "      <td>172</td>\n",
       "    </tr>\n",
       "    <tr>\n",
       "      <td>1117</td>\n",
       "      <td>город Москва</td>\n",
       "      <td>Пресненская набережная</td>\n",
       "      <td>165</td>\n",
       "    </tr>\n",
       "    <tr>\n",
       "      <td>542</td>\n",
       "      <td>город Москва</td>\n",
       "      <td>Варшавское шоссе</td>\n",
       "      <td>161</td>\n",
       "    </tr>\n",
       "    <tr>\n",
       "      <td>822</td>\n",
       "      <td>город Москва</td>\n",
       "      <td>Ленинский проспект</td>\n",
       "      <td>148</td>\n",
       "    </tr>\n",
       "    <tr>\n",
       "      <td>1514</td>\n",
       "      <td>город Москва</td>\n",
       "      <td>проспект Вернадского</td>\n",
       "      <td>127</td>\n",
       "    </tr>\n",
       "    <tr>\n",
       "      <td>810</td>\n",
       "      <td>город Москва</td>\n",
       "      <td>Кутузовский проспект</td>\n",
       "      <td>114</td>\n",
       "    </tr>\n",
       "    <tr>\n",
       "      <td>736</td>\n",
       "      <td>город Москва</td>\n",
       "      <td>Каширское шоссе</td>\n",
       "      <td>110</td>\n",
       "    </tr>\n",
       "    <tr>\n",
       "      <td>741</td>\n",
       "      <td>город Москва</td>\n",
       "      <td>Кировоградская улица</td>\n",
       "      <td>107</td>\n",
       "    </tr>\n",
       "  </tbody>\n",
       "</table>\n",
       "</div>"
      ],
      "text/plain": [
       "            region                  street  count\n",
       "1517  город Москва           проспект Мира    197\n",
       "1132  город Москва       Профсоюзная улица    181\n",
       "819   город Москва  Ленинградский проспект    172\n",
       "1117  город Москва  Пресненская набережная    165\n",
       "542   город Москва        Варшавское шоссе    161\n",
       "822   город Москва      Ленинский проспект    148\n",
       "1514  город Москва    проспект Вернадского    127\n",
       "810   город Москва    Кутузовский проспект    114\n",
       "736   город Москва         Каширское шоссе    110\n",
       "741   город Москва    Кировоградская улица    107"
      ]
     },
     "execution_count": 246,
     "metadata": {},
     "output_type": "execute_result"
    }
   ],
   "source": [
    "groupped_streets.sort_values(by='count',ascending=False).head(10)"
   ]
  },
  {
   "cell_type": "markdown",
   "metadata": {},
   "source": [
    "Теперь соберем по населенным пунктам"
   ]
  },
  {
   "cell_type": "code",
   "execution_count": 247,
   "metadata": {},
   "outputs": [
    {
     "data": {
      "text/html": [
       "<div>\n",
       "<style scoped>\n",
       "    .dataframe tbody tr th:only-of-type {\n",
       "        vertical-align: middle;\n",
       "    }\n",
       "\n",
       "    .dataframe tbody tr th {\n",
       "        vertical-align: top;\n",
       "    }\n",
       "\n",
       "    .dataframe thead th {\n",
       "        text-align: right;\n",
       "    }\n",
       "</style>\n",
       "<table border=\"1\" class=\"dataframe\">\n",
       "  <thead>\n",
       "    <tr style=\"text-align: right;\">\n",
       "      <th></th>\n",
       "      <th>region</th>\n",
       "      <th>count</th>\n",
       "    </tr>\n",
       "  </thead>\n",
       "  <tbody>\n",
       "    <tr>\n",
       "      <td>1</td>\n",
       "      <td>город Москва</td>\n",
       "      <td>14373</td>\n",
       "    </tr>\n",
       "    <tr>\n",
       "      <td>0</td>\n",
       "      <td>город Зеленоград</td>\n",
       "      <td>230</td>\n",
       "    </tr>\n",
       "    <tr>\n",
       "      <td>30</td>\n",
       "      <td>поселение Московский</td>\n",
       "      <td>67</td>\n",
       "    </tr>\n",
       "    <tr>\n",
       "      <td>2</td>\n",
       "      <td>город Московский</td>\n",
       "      <td>66</td>\n",
       "    </tr>\n",
       "    <tr>\n",
       "      <td>42</td>\n",
       "      <td>посёлок Коммунарка</td>\n",
       "      <td>59</td>\n",
       "    </tr>\n",
       "    <tr>\n",
       "      <td>34</td>\n",
       "      <td>поселение Сосенское</td>\n",
       "      <td>59</td>\n",
       "    </tr>\n",
       "    <tr>\n",
       "      <td>3</td>\n",
       "      <td>город Троицк</td>\n",
       "      <td>58</td>\n",
       "    </tr>\n",
       "    <tr>\n",
       "      <td>4</td>\n",
       "      <td>город Щербинка</td>\n",
       "      <td>47</td>\n",
       "    </tr>\n",
       "    <tr>\n",
       "      <td>25</td>\n",
       "      <td>поселение Воскресенское</td>\n",
       "      <td>35</td>\n",
       "    </tr>\n",
       "    <tr>\n",
       "      <td>23</td>\n",
       "      <td>поселение Внуковское</td>\n",
       "      <td>28</td>\n",
       "    </tr>\n",
       "    <tr>\n",
       "      <td>26</td>\n",
       "      <td>поселение Десеновское</td>\n",
       "      <td>21</td>\n",
       "    </tr>\n",
       "    <tr>\n",
       "      <td>18</td>\n",
       "      <td>деревня Сосенки</td>\n",
       "      <td>13</td>\n",
       "    </tr>\n",
       "    <tr>\n",
       "      <td>22</td>\n",
       "      <td>поселение \"Мосрентген\"</td>\n",
       "      <td>12</td>\n",
       "    </tr>\n",
       "    <tr>\n",
       "      <td>27</td>\n",
       "      <td>поселение Краснопахорское</td>\n",
       "      <td>11</td>\n",
       "    </tr>\n",
       "    <tr>\n",
       "      <td>36</td>\n",
       "      <td>поселение Щаповское</td>\n",
       "      <td>11</td>\n",
       "    </tr>\n",
       "    <tr>\n",
       "      <td>28</td>\n",
       "      <td>поселение Марушкинское</td>\n",
       "      <td>8</td>\n",
       "    </tr>\n",
       "    <tr>\n",
       "      <td>41</td>\n",
       "      <td>посёлок Знамя Октября</td>\n",
       "      <td>7</td>\n",
       "    </tr>\n",
       "    <tr>\n",
       "      <td>33</td>\n",
       "      <td>поселение Рязановское</td>\n",
       "      <td>6</td>\n",
       "    </tr>\n",
       "    <tr>\n",
       "      <td>21</td>\n",
       "      <td>ж/к \"Дубровка\"</td>\n",
       "      <td>6</td>\n",
       "    </tr>\n",
       "    <tr>\n",
       "      <td>24</td>\n",
       "      <td>поселение Вороновское</td>\n",
       "      <td>6</td>\n",
       "    </tr>\n",
       "    <tr>\n",
       "      <td>50</td>\n",
       "      <td>село Кленово</td>\n",
       "      <td>5</td>\n",
       "    </tr>\n",
       "    <tr>\n",
       "      <td>47</td>\n",
       "      <td>посёлок Совхоза \"Крёкшино\"</td>\n",
       "      <td>5</td>\n",
       "    </tr>\n",
       "    <tr>\n",
       "      <td>48</td>\n",
       "      <td>посёлок Щапово</td>\n",
       "      <td>5</td>\n",
       "    </tr>\n",
       "    <tr>\n",
       "      <td>40</td>\n",
       "      <td>посёлок Завода Мосрентген</td>\n",
       "      <td>5</td>\n",
       "    </tr>\n",
       "    <tr>\n",
       "      <td>29</td>\n",
       "      <td>поселение Михайлово-Ярцевское</td>\n",
       "      <td>4</td>\n",
       "    </tr>\n",
       "    <tr>\n",
       "      <td>12</td>\n",
       "      <td>деревня Марушкино</td>\n",
       "      <td>3</td>\n",
       "    </tr>\n",
       "    <tr>\n",
       "      <td>31</td>\n",
       "      <td>поселение Новофедоровское</td>\n",
       "      <td>3</td>\n",
       "    </tr>\n",
       "    <tr>\n",
       "      <td>39</td>\n",
       "      <td>посёлок Ерино</td>\n",
       "      <td>3</td>\n",
       "    </tr>\n",
       "    <tr>\n",
       "      <td>5</td>\n",
       "      <td>дачный посёлок Кокошкино</td>\n",
       "      <td>3</td>\n",
       "    </tr>\n",
       "    <tr>\n",
       "      <td>37</td>\n",
       "      <td>посёлок Внуково</td>\n",
       "      <td>3</td>\n",
       "    </tr>\n",
       "    <tr>\n",
       "      <td>19</td>\n",
       "      <td>деревня Толстопальцево</td>\n",
       "      <td>3</td>\n",
       "    </tr>\n",
       "    <tr>\n",
       "      <td>49</td>\n",
       "      <td>рабочий посёлок Киевский</td>\n",
       "      <td>3</td>\n",
       "    </tr>\n",
       "    <tr>\n",
       "      <td>44</td>\n",
       "      <td>посёлок ЛМС</td>\n",
       "      <td>2</td>\n",
       "    </tr>\n",
       "    <tr>\n",
       "      <td>6</td>\n",
       "      <td>деревня Власово</td>\n",
       "      <td>2</td>\n",
       "    </tr>\n",
       "    <tr>\n",
       "      <td>8</td>\n",
       "      <td>деревня Каменка</td>\n",
       "      <td>2</td>\n",
       "    </tr>\n",
       "    <tr>\n",
       "      <td>7</td>\n",
       "      <td>деревня Горчаково</td>\n",
       "      <td>2</td>\n",
       "    </tr>\n",
       "    <tr>\n",
       "      <td>46</td>\n",
       "      <td>посёлок Рогово</td>\n",
       "      <td>2</td>\n",
       "    </tr>\n",
       "    <tr>\n",
       "      <td>17</td>\n",
       "      <td>деревня Рогозинино</td>\n",
       "      <td>2</td>\n",
       "    </tr>\n",
       "    <tr>\n",
       "      <td>51</td>\n",
       "      <td>село Красное</td>\n",
       "      <td>2</td>\n",
       "    </tr>\n",
       "    <tr>\n",
       "      <td>45</td>\n",
       "      <td>посёлок Первомайское</td>\n",
       "      <td>1</td>\n",
       "    </tr>\n",
       "    <tr>\n",
       "      <td>43</td>\n",
       "      <td>посёлок Курилово</td>\n",
       "      <td>1</td>\n",
       "    </tr>\n",
       "    <tr>\n",
       "      <td>11</td>\n",
       "      <td>деревня Крёкшино</td>\n",
       "      <td>1</td>\n",
       "    </tr>\n",
       "    <tr>\n",
       "      <td>32</td>\n",
       "      <td>поселение Роговское</td>\n",
       "      <td>1</td>\n",
       "    </tr>\n",
       "    <tr>\n",
       "      <td>38</td>\n",
       "      <td>посёлок ДСК \"Мичуринец\"</td>\n",
       "      <td>1</td>\n",
       "    </tr>\n",
       "    <tr>\n",
       "      <td>35</td>\n",
       "      <td>поселение Филимонковское</td>\n",
       "      <td>1</td>\n",
       "    </tr>\n",
       "    <tr>\n",
       "      <td>9</td>\n",
       "      <td>деревня Картмазово</td>\n",
       "      <td>1</td>\n",
       "    </tr>\n",
       "    <tr>\n",
       "      <td>10</td>\n",
       "      <td>деревня Колотилово</td>\n",
       "      <td>1</td>\n",
       "    </tr>\n",
       "    <tr>\n",
       "      <td>20</td>\n",
       "      <td>деревня Фоминское</td>\n",
       "      <td>1</td>\n",
       "    </tr>\n",
       "    <tr>\n",
       "      <td>16</td>\n",
       "      <td>деревня Рассудово</td>\n",
       "      <td>1</td>\n",
       "    </tr>\n",
       "    <tr>\n",
       "      <td>15</td>\n",
       "      <td>деревня Поповка</td>\n",
       "      <td>1</td>\n",
       "    </tr>\n",
       "    <tr>\n",
       "      <td>14</td>\n",
       "      <td>деревня Николо-Хованское</td>\n",
       "      <td>1</td>\n",
       "    </tr>\n",
       "    <tr>\n",
       "      <td>13</td>\n",
       "      <td>деревня Мостовское</td>\n",
       "      <td>1</td>\n",
       "    </tr>\n",
       "    <tr>\n",
       "      <td>52</td>\n",
       "      <td>село Остафьево</td>\n",
       "      <td>1</td>\n",
       "    </tr>\n",
       "  </tbody>\n",
       "</table>\n",
       "</div>"
      ],
      "text/plain": [
       "                           region  count\n",
       "1                    город Москва  14373\n",
       "0                город Зеленоград    230\n",
       "30           поселение Московский     67\n",
       "2                город Московский     66\n",
       "42             посёлок Коммунарка     59\n",
       "34            поселение Сосенское     59\n",
       "3                    город Троицк     58\n",
       "4                  город Щербинка     47\n",
       "25        поселение Воскресенское     35\n",
       "23           поселение Внуковское     28\n",
       "26          поселение Десеновское     21\n",
       "18                деревня Сосенки     13\n",
       "22         поселение \"Мосрентген\"     12\n",
       "27      поселение Краснопахорское     11\n",
       "36            поселение Щаповское     11\n",
       "28         поселение Марушкинское      8\n",
       "41          посёлок Знамя Октября      7\n",
       "33          поселение Рязановское      6\n",
       "21                 ж/к \"Дубровка\"      6\n",
       "24          поселение Вороновское      6\n",
       "50                   село Кленово      5\n",
       "47     посёлок Совхоза \"Крёкшино\"      5\n",
       "48                 посёлок Щапово      5\n",
       "40      посёлок Завода Мосрентген      5\n",
       "29  поселение Михайлово-Ярцевское      4\n",
       "12              деревня Марушкино      3\n",
       "31      поселение Новофедоровское      3\n",
       "39                  посёлок Ерино      3\n",
       "5        дачный посёлок Кокошкино      3\n",
       "37                посёлок Внуково      3\n",
       "19         деревня Толстопальцево      3\n",
       "49       рабочий посёлок Киевский      3\n",
       "44                    посёлок ЛМС      2\n",
       "6                 деревня Власово      2\n",
       "8                 деревня Каменка      2\n",
       "7               деревня Горчаково      2\n",
       "46                 посёлок Рогово      2\n",
       "17             деревня Рогозинино      2\n",
       "51                   село Красное      2\n",
       "45           посёлок Первомайское      1\n",
       "43               посёлок Курилово      1\n",
       "11               деревня Крёкшино      1\n",
       "32            поселение Роговское      1\n",
       "38        посёлок ДСК \"Мичуринец\"      1\n",
       "35       поселение Филимонковское      1\n",
       "9              деревня Картмазово      1\n",
       "10             деревня Колотилово      1\n",
       "20              деревня Фоминское      1\n",
       "16              деревня Рассудово      1\n",
       "15                деревня Поповка      1\n",
       "14       деревня Николо-Хованское      1\n",
       "13             деревня Мостовское      1\n",
       "52                 село Остафьево      1"
      ]
     },
     "execution_count": 247,
     "metadata": {},
     "output_type": "execute_result"
    }
   ],
   "source": [
    "groupped_street_regs=rest_data.groupby(['a0'])['id'].count().reset_index()\n",
    "groupped_street_regs.columns=['region','count']\n",
    "groupped_street_regs.sort_values(by='count',ascending=False)"
   ]
  },
  {
   "cell_type": "markdown",
   "metadata": {},
   "source": [
    "По этой выборке видно, что количество объектов питания (по крайней мере в этом файле) в пригородах и городе не сравнимо.Поэтому для начала есть смысл сделать выборку только по \"город Москва\". Ниже я собрала данные по улицам без учета населенных пунктов. "
   ]
  },
  {
   "cell_type": "code",
   "execution_count": 248,
   "metadata": {},
   "outputs": [
    {
     "data": {
      "text/html": [
       "<div>\n",
       "<style scoped>\n",
       "    .dataframe tbody tr th:only-of-type {\n",
       "        vertical-align: middle;\n",
       "    }\n",
       "\n",
       "    .dataframe tbody tr th {\n",
       "        vertical-align: top;\n",
       "    }\n",
       "\n",
       "    .dataframe thead th {\n",
       "        text-align: right;\n",
       "    }\n",
       "</style>\n",
       "<table border=\"1\" class=\"dataframe\">\n",
       "  <thead>\n",
       "    <tr style=\"text-align: right;\">\n",
       "      <th></th>\n",
       "      <th>street</th>\n",
       "      <th>count</th>\n",
       "    </tr>\n",
       "  </thead>\n",
       "  <tbody>\n",
       "    <tr>\n",
       "      <td>1626</td>\n",
       "      <td>проспект Мира</td>\n",
       "      <td>197</td>\n",
       "    </tr>\n",
       "    <tr>\n",
       "      <td>1041</td>\n",
       "      <td>Профсоюзная улица</td>\n",
       "      <td>181</td>\n",
       "    </tr>\n",
       "    <tr>\n",
       "      <td>712</td>\n",
       "      <td>Ленинградский проспект</td>\n",
       "      <td>172</td>\n",
       "    </tr>\n",
       "    <tr>\n",
       "      <td>1024</td>\n",
       "      <td>Пресненская набережная</td>\n",
       "      <td>165</td>\n",
       "    </tr>\n",
       "    <tr>\n",
       "      <td>425</td>\n",
       "      <td>Варшавское шоссе</td>\n",
       "      <td>164</td>\n",
       "    </tr>\n",
       "    <tr>\n",
       "      <td>715</td>\n",
       "      <td>Ленинский проспект</td>\n",
       "      <td>148</td>\n",
       "    </tr>\n",
       "    <tr>\n",
       "      <td>1622</td>\n",
       "      <td>проспект Вернадского</td>\n",
       "      <td>127</td>\n",
       "    </tr>\n",
       "    <tr>\n",
       "      <td>702</td>\n",
       "      <td>Кутузовский проспект</td>\n",
       "      <td>114</td>\n",
       "    </tr>\n",
       "    <tr>\n",
       "      <td>625</td>\n",
       "      <td>Каширское шоссе</td>\n",
       "      <td>110</td>\n",
       "    </tr>\n",
       "    <tr>\n",
       "      <td>632</td>\n",
       "      <td>Кировоградская улица</td>\n",
       "      <td>107</td>\n",
       "    </tr>\n",
       "  </tbody>\n",
       "</table>\n",
       "</div>"
      ],
      "text/plain": [
       "                      street  count\n",
       "1626           проспект Мира    197\n",
       "1041       Профсоюзная улица    181\n",
       "712   Ленинградский проспект    172\n",
       "1024  Пресненская набережная    165\n",
       "425         Варшавское шоссе    164\n",
       "715       Ленинский проспект    148\n",
       "1622    проспект Вернадского    127\n",
       "702     Кутузовский проспект    114\n",
       "625          Каширское шоссе    110\n",
       "632     Кировоградская улица    107"
      ]
     },
     "execution_count": 248,
     "metadata": {},
     "output_type": "execute_result"
    }
   ],
   "source": [
    "groupped_streets=rest_data.groupby(['a1'])['id'].count().reset_index()\n",
    "groupped_streets.columns=['street','count']\n",
    "groupped_streets.sort_values(by='count',ascending=False).head(10)"
   ]
  },
  {
   "cell_type": "markdown",
   "metadata": {},
   "source": [
    "Списки почти идентичны, кроме Варшавского шоссе."
   ]
  },
  {
   "cell_type": "code",
   "execution_count": 249,
   "metadata": {},
   "outputs": [
    {
     "data": {
      "text/html": [
       "<div>\n",
       "<style scoped>\n",
       "    .dataframe tbody tr th:only-of-type {\n",
       "        vertical-align: middle;\n",
       "    }\n",
       "\n",
       "    .dataframe tbody tr th {\n",
       "        vertical-align: top;\n",
       "    }\n",
       "\n",
       "    .dataframe thead th {\n",
       "        text-align: right;\n",
       "    }\n",
       "</style>\n",
       "<table border=\"1\" class=\"dataframe\">\n",
       "  <thead>\n",
       "    <tr style=\"text-align: right;\">\n",
       "      <th></th>\n",
       "      <th>id</th>\n",
       "      <th>object_name</th>\n",
       "      <th>chain</th>\n",
       "      <th>object_type</th>\n",
       "      <th>address</th>\n",
       "      <th>number</th>\n",
       "      <th>a0</th>\n",
       "      <th>a1</th>\n",
       "      <th>a2</th>\n",
       "      <th>a3</th>\n",
       "      <th>a4</th>\n",
       "      <th>a5</th>\n",
       "    </tr>\n",
       "  </thead>\n",
       "  <tbody>\n",
       "    <tr>\n",
       "      <td>4544</td>\n",
       "      <td>147763</td>\n",
       "      <td>Чайхона</td>\n",
       "      <td>нет</td>\n",
       "      <td>кафе</td>\n",
       "      <td>город Москва, город Щербинка, Варшавское шоссе...</td>\n",
       "      <td>65</td>\n",
       "      <td>город Щербинка</td>\n",
       "      <td>Варшавское шоссе</td>\n",
       "      <td>28-й километр</td>\n",
       "      <td>владение 8</td>\n",
       "      <td>строение 1</td>\n",
       "      <td></td>\n",
       "    </tr>\n",
       "    <tr>\n",
       "      <td>10947</td>\n",
       "      <td>150564</td>\n",
       "      <td>Кафе</td>\n",
       "      <td>нет</td>\n",
       "      <td>кафе</td>\n",
       "      <td>город Москва, поселение Воскресенское, Варшавс...</td>\n",
       "      <td>16</td>\n",
       "      <td>поселение Воскресенское</td>\n",
       "      <td>Варшавское шоссе</td>\n",
       "      <td>28-й километр</td>\n",
       "      <td>владение 3</td>\n",
       "      <td>строение 1</td>\n",
       "      <td></td>\n",
       "    </tr>\n",
       "    <tr>\n",
       "      <td>11470</td>\n",
       "      <td>149854</td>\n",
       "      <td>Моцарт</td>\n",
       "      <td>нет</td>\n",
       "      <td>кафе</td>\n",
       "      <td>город Москва, город Щербинка, Варшавское шоссе...</td>\n",
       "      <td>12</td>\n",
       "      <td>город Щербинка</td>\n",
       "      <td>Варшавское шоссе</td>\n",
       "      <td>27-й километр</td>\n",
       "      <td>владение 6</td>\n",
       "      <td>строение 1</td>\n",
       "      <td></td>\n",
       "    </tr>\n",
       "  </tbody>\n",
       "</table>\n",
       "</div>"
      ],
      "text/plain": [
       "           id object_name chain object_type  \\\n",
       "4544   147763     Чайхона   нет        кафе   \n",
       "10947  150564        Кафе   нет        кафе   \n",
       "11470  149854      Моцарт   нет        кафе   \n",
       "\n",
       "                                                 address  number  \\\n",
       "4544   город Москва, город Щербинка, Варшавское шоссе...      65   \n",
       "10947  город Москва, поселение Воскресенское, Варшавс...      16   \n",
       "11470  город Москва, город Щербинка, Варшавское шоссе...      12   \n",
       "\n",
       "                            a0                a1             a2          a3  \\\n",
       "4544            город Щербинка  Варшавское шоссе  28-й километр  владение 8   \n",
       "10947  поселение Воскресенское  Варшавское шоссе  28-й километр  владение 3   \n",
       "11470           город Щербинка  Варшавское шоссе  27-й километр  владение 6   \n",
       "\n",
       "               a4 a5  \n",
       "4544   строение 1     \n",
       "10947  строение 1     \n",
       "11470  строение 1     "
      ]
     },
     "execution_count": 249,
     "metadata": {},
     "output_type": "execute_result"
    }
   ],
   "source": [
    "rest_data[(rest_data['a1']=='Варшавское шоссе')&(rest_data['a0']!='город Москва')]"
   ]
  },
  {
   "cell_type": "markdown",
   "metadata": {},
   "source": [
    "3 кафе находятся в городе Щербинка и поселении Воскресенское"
   ]
  },
  {
   "cell_type": "markdown",
   "metadata": {},
   "source": [
    "Далее будем рассматривать только сам город(без пригородов). top10 - файл с улицами с наибольшим количеством заведений в Москве."
   ]
  },
  {
   "cell_type": "code",
   "execution_count": 250,
   "metadata": {},
   "outputs": [
    {
     "data": {
      "text/html": [
       "<div>\n",
       "<style scoped>\n",
       "    .dataframe tbody tr th:only-of-type {\n",
       "        vertical-align: middle;\n",
       "    }\n",
       "\n",
       "    .dataframe tbody tr th {\n",
       "        vertical-align: top;\n",
       "    }\n",
       "\n",
       "    .dataframe thead th {\n",
       "        text-align: right;\n",
       "    }\n",
       "</style>\n",
       "<table border=\"1\" class=\"dataframe\">\n",
       "  <thead>\n",
       "    <tr style=\"text-align: right;\">\n",
       "      <th></th>\n",
       "      <th>street</th>\n",
       "      <th>count</th>\n",
       "    </tr>\n",
       "  </thead>\n",
       "  <tbody>\n",
       "    <tr>\n",
       "      <td>1381</td>\n",
       "      <td>проспект Мира</td>\n",
       "      <td>197</td>\n",
       "    </tr>\n",
       "    <tr>\n",
       "      <td>996</td>\n",
       "      <td>Профсоюзная улица</td>\n",
       "      <td>181</td>\n",
       "    </tr>\n",
       "    <tr>\n",
       "      <td>683</td>\n",
       "      <td>Ленинградский проспект</td>\n",
       "      <td>172</td>\n",
       "    </tr>\n",
       "    <tr>\n",
       "      <td>981</td>\n",
       "      <td>Пресненская набережная</td>\n",
       "      <td>165</td>\n",
       "    </tr>\n",
       "    <tr>\n",
       "      <td>406</td>\n",
       "      <td>Варшавское шоссе</td>\n",
       "      <td>161</td>\n",
       "    </tr>\n",
       "    <tr>\n",
       "      <td>686</td>\n",
       "      <td>Ленинский проспект</td>\n",
       "      <td>148</td>\n",
       "    </tr>\n",
       "    <tr>\n",
       "      <td>1378</td>\n",
       "      <td>проспект Вернадского</td>\n",
       "      <td>127</td>\n",
       "    </tr>\n",
       "    <tr>\n",
       "      <td>674</td>\n",
       "      <td>Кутузовский проспект</td>\n",
       "      <td>114</td>\n",
       "    </tr>\n",
       "    <tr>\n",
       "      <td>600</td>\n",
       "      <td>Каширское шоссе</td>\n",
       "      <td>110</td>\n",
       "    </tr>\n",
       "    <tr>\n",
       "      <td>605</td>\n",
       "      <td>Кировоградская улица</td>\n",
       "      <td>107</td>\n",
       "    </tr>\n",
       "  </tbody>\n",
       "</table>\n",
       "</div>"
      ],
      "text/plain": [
       "                      street  count\n",
       "1381           проспект Мира    197\n",
       "996        Профсоюзная улица    181\n",
       "683   Ленинградский проспект    172\n",
       "981   Пресненская набережная    165\n",
       "406         Варшавское шоссе    161\n",
       "686       Ленинский проспект    148\n",
       "1378    проспект Вернадского    127\n",
       "674     Кутузовский проспект    114\n",
       "600          Каширское шоссе    110\n",
       "605     Кировоградская улица    107"
      ]
     },
     "execution_count": 250,
     "metadata": {},
     "output_type": "execute_result"
    }
   ],
   "source": [
    "rest_moscow = rest_data[rest_data['a0']=='город Москва']\n",
    "groupped_moscow = rest_moscow.groupby('a1')['id'].count().reset_index()\n",
    "groupped_moscow.columns=['street','count']\n",
    "top10 = groupped_moscow.sort_values(by='count',ascending=False).head(10)\n",
    "list10=top10['street']\n",
    "top10"
   ]
  },
  {
   "cell_type": "markdown",
   "metadata": {},
   "source": [
    "streets_with_1 - файл с одним объектом на улице"
   ]
  },
  {
   "cell_type": "code",
   "execution_count": 251,
   "metadata": {},
   "outputs": [
    {
     "data": {
      "text/html": [
       "<div>\n",
       "<style scoped>\n",
       "    .dataframe tbody tr th:only-of-type {\n",
       "        vertical-align: middle;\n",
       "    }\n",
       "\n",
       "    .dataframe tbody tr th {\n",
       "        vertical-align: top;\n",
       "    }\n",
       "\n",
       "    .dataframe thead th {\n",
       "        text-align: right;\n",
       "    }\n",
       "</style>\n",
       "<table border=\"1\" class=\"dataframe\">\n",
       "  <thead>\n",
       "    <tr style=\"text-align: right;\">\n",
       "      <th></th>\n",
       "      <th>street</th>\n",
       "      <th>count</th>\n",
       "    </tr>\n",
       "  </thead>\n",
       "  <tbody>\n",
       "    <tr>\n",
       "      <td>2</td>\n",
       "      <td>1-й Балтийский переулок</td>\n",
       "      <td>1</td>\n",
       "    </tr>\n",
       "    <tr>\n",
       "      <td>3</td>\n",
       "      <td>1-й Басманный переулок</td>\n",
       "      <td>1</td>\n",
       "    </tr>\n",
       "    <tr>\n",
       "      <td>4</td>\n",
       "      <td>1-й Ботанический проезд</td>\n",
       "      <td>1</td>\n",
       "    </tr>\n",
       "    <tr>\n",
       "      <td>7</td>\n",
       "      <td>1-й Вешняковский проезд</td>\n",
       "      <td>1</td>\n",
       "    </tr>\n",
       "    <tr>\n",
       "      <td>9</td>\n",
       "      <td>1-й Голутвинский переулок</td>\n",
       "      <td>1</td>\n",
       "    </tr>\n",
       "    <tr>\n",
       "      <td>...</td>\n",
       "      <td>...</td>\n",
       "      <td>...</td>\n",
       "    </tr>\n",
       "    <tr>\n",
       "      <td>1814</td>\n",
       "      <td>улица Шеногина</td>\n",
       "      <td>1</td>\n",
       "    </tr>\n",
       "    <tr>\n",
       "      <td>1817</td>\n",
       "      <td>улица Шумилова</td>\n",
       "      <td>1</td>\n",
       "    </tr>\n",
       "    <tr>\n",
       "      <td>1818</td>\n",
       "      <td>улица Шумкина</td>\n",
       "      <td>1</td>\n",
       "    </tr>\n",
       "    <tr>\n",
       "      <td>1822</td>\n",
       "      <td>улица Щорса</td>\n",
       "      <td>1</td>\n",
       "    </tr>\n",
       "    <tr>\n",
       "      <td>1827</td>\n",
       "      <td>шоссе Фрезер</td>\n",
       "      <td>1</td>\n",
       "    </tr>\n",
       "  </tbody>\n",
       "</table>\n",
       "<p>540 rows × 2 columns</p>\n",
       "</div>"
      ],
      "text/plain": [
       "                         street  count\n",
       "2       1-й Балтийский переулок      1\n",
       "3        1-й Басманный переулок      1\n",
       "4       1-й Ботанический проезд      1\n",
       "7       1-й Вешняковский проезд      1\n",
       "9     1-й Голутвинский переулок      1\n",
       "...                         ...    ...\n",
       "1814             улица Шеногина      1\n",
       "1817             улица Шумилова      1\n",
       "1818              улица Шумкина      1\n",
       "1822                улица Щорса      1\n",
       "1827               шоссе Фрезер      1\n",
       "\n",
       "[540 rows x 2 columns]"
      ]
     },
     "execution_count": 251,
     "metadata": {},
     "output_type": "execute_result"
    }
   ],
   "source": [
    "streets_with_1 = groupped_moscow[groupped_moscow['count']==1]\n",
    "streets_with_1"
   ]
  },
  {
   "cell_type": "code",
   "execution_count": 252,
   "metadata": {},
   "outputs": [
    {
     "data": {
      "text/plain": [
       "540"
      ]
     },
     "execution_count": 252,
     "metadata": {},
     "output_type": "execute_result"
    }
   ],
   "source": [
    "streets_with_1['count'].count()"
   ]
  },
  {
   "cell_type": "markdown",
   "metadata": {},
   "source": [
    "Посмотрим в каких районах находятся улицы top и bottom, загрузим доп.файл с улицами и районами."
   ]
  },
  {
   "cell_type": "code",
   "execution_count": 253,
   "metadata": {},
   "outputs": [
    {
     "data": {
      "text/html": [
       "<div>\n",
       "<style scoped>\n",
       "    .dataframe tbody tr th:only-of-type {\n",
       "        vertical-align: middle;\n",
       "    }\n",
       "\n",
       "    .dataframe tbody tr th {\n",
       "        vertical-align: top;\n",
       "    }\n",
       "\n",
       "    .dataframe thead th {\n",
       "        text-align: right;\n",
       "    }\n",
       "</style>\n",
       "<table border=\"1\" class=\"dataframe\">\n",
       "  <thead>\n",
       "    <tr style=\"text-align: right;\">\n",
       "      <th></th>\n",
       "      <th>streetname</th>\n",
       "      <th>areaid</th>\n",
       "      <th>okrug</th>\n",
       "      <th>area</th>\n",
       "    </tr>\n",
       "  </thead>\n",
       "  <tbody>\n",
       "    <tr>\n",
       "      <td>0</td>\n",
       "      <td>Выставочный переулок</td>\n",
       "      <td>17</td>\n",
       "      <td>ЦАО</td>\n",
       "      <td>Пресненский район</td>\n",
       "    </tr>\n",
       "    <tr>\n",
       "      <td>1</td>\n",
       "      <td>улица Гашека</td>\n",
       "      <td>17</td>\n",
       "      <td>ЦАО</td>\n",
       "      <td>Пресненский район</td>\n",
       "    </tr>\n",
       "    <tr>\n",
       "      <td>2</td>\n",
       "      <td>Большая Никитская улица</td>\n",
       "      <td>17</td>\n",
       "      <td>ЦАО</td>\n",
       "      <td>Пресненский район</td>\n",
       "    </tr>\n",
       "    <tr>\n",
       "      <td>3</td>\n",
       "      <td>Глубокий переулок</td>\n",
       "      <td>17</td>\n",
       "      <td>ЦАО</td>\n",
       "      <td>Пресненский район</td>\n",
       "    </tr>\n",
       "    <tr>\n",
       "      <td>4</td>\n",
       "      <td>Большой Гнездниковский переулок</td>\n",
       "      <td>17</td>\n",
       "      <td>ЦАО</td>\n",
       "      <td>Пресненский район</td>\n",
       "    </tr>\n",
       "    <tr>\n",
       "      <td>...</td>\n",
       "      <td>...</td>\n",
       "      <td>...</td>\n",
       "      <td>...</td>\n",
       "      <td>...</td>\n",
       "    </tr>\n",
       "    <tr>\n",
       "      <td>4393</td>\n",
       "      <td>Вознесенский проезд</td>\n",
       "      <td>17</td>\n",
       "      <td>ЦАО</td>\n",
       "      <td>Пресненский район</td>\n",
       "    </tr>\n",
       "    <tr>\n",
       "      <td>4394</td>\n",
       "      <td>Волков переулок</td>\n",
       "      <td>17</td>\n",
       "      <td>ЦАО</td>\n",
       "      <td>Пресненский район</td>\n",
       "    </tr>\n",
       "    <tr>\n",
       "      <td>4395</td>\n",
       "      <td>Поварская улица</td>\n",
       "      <td>17</td>\n",
       "      <td>ЦАО</td>\n",
       "      <td>Пресненский район</td>\n",
       "    </tr>\n",
       "    <tr>\n",
       "      <td>4396</td>\n",
       "      <td>Кудринская площадь</td>\n",
       "      <td>17</td>\n",
       "      <td>ЦАО</td>\n",
       "      <td>Пресненский район</td>\n",
       "    </tr>\n",
       "    <tr>\n",
       "      <td>4397</td>\n",
       "      <td>Вспольный переулок</td>\n",
       "      <td>17</td>\n",
       "      <td>ЦАО</td>\n",
       "      <td>Пресненский район</td>\n",
       "    </tr>\n",
       "  </tbody>\n",
       "</table>\n",
       "<p>4398 rows × 4 columns</p>\n",
       "</div>"
      ],
      "text/plain": [
       "                           streetname  areaid okrug               area\n",
       "0                Выставочный переулок      17   ЦАО  Пресненский район\n",
       "1                        улица Гашека      17   ЦАО  Пресненский район\n",
       "2             Большая Никитская улица      17   ЦАО  Пресненский район\n",
       "3                   Глубокий переулок      17   ЦАО  Пресненский район\n",
       "4     Большой Гнездниковский переулок      17   ЦАО  Пресненский район\n",
       "...                               ...     ...   ...                ...\n",
       "4393              Вознесенский проезд      17   ЦАО  Пресненский район\n",
       "4394                  Волков переулок      17   ЦАО  Пресненский район\n",
       "4395                  Поварская улица      17   ЦАО  Пресненский район\n",
       "4396               Кудринская площадь      17   ЦАО  Пресненский район\n",
       "4397               Вспольный переулок      17   ЦАО  Пресненский район\n",
       "\n",
       "[4398 rows x 4 columns]"
      ]
     },
     "execution_count": 253,
     "metadata": {},
     "output_type": "execute_result"
    }
   ],
   "source": [
    "spreadsheet_id = '1hpVG2AiB1Fqdd8p3l17IwAsZGGuEV797haMCOkzFRUI'\n",
    "file_name = 'https://docs.google.com/spreadsheets/d/{}/export?format=csv'.format(spreadsheet_id)\n",
    "r = requests.get(file_name)\n",
    "streets_location = pd.read_csv(BytesIO(r.content))\n",
    "streets_location"
   ]
  },
  {
   "cell_type": "markdown",
   "metadata": {},
   "source": [
    "Добавим сведения о районах в файлы top10 и streets_with_1"
   ]
  },
  {
   "cell_type": "code",
   "execution_count": 254,
   "metadata": {},
   "outputs": [],
   "source": [
    "top10=top10.merge(streets_location,left_on = 'street',right_on = 'streetname',how='left')\n",
    "streets_with_1=streets_with_1.merge(streets_location,left_on = 'street',right_on = 'streetname',how='left')"
   ]
  },
  {
   "cell_type": "code",
   "execution_count": 255,
   "metadata": {},
   "outputs": [
    {
     "data": {
      "text/html": [
       "<div>\n",
       "<style scoped>\n",
       "    .dataframe tbody tr th:only-of-type {\n",
       "        vertical-align: middle;\n",
       "    }\n",
       "\n",
       "    .dataframe tbody tr th {\n",
       "        vertical-align: top;\n",
       "    }\n",
       "\n",
       "    .dataframe thead th {\n",
       "        text-align: right;\n",
       "    }\n",
       "</style>\n",
       "<table border=\"1\" class=\"dataframe\">\n",
       "  <thead>\n",
       "    <tr style=\"text-align: right;\">\n",
       "      <th></th>\n",
       "      <th>street</th>\n",
       "      <th>count</th>\n",
       "      <th>streetname</th>\n",
       "      <th>areaid</th>\n",
       "      <th>okrug</th>\n",
       "      <th>area</th>\n",
       "    </tr>\n",
       "  </thead>\n",
       "  <tbody>\n",
       "    <tr>\n",
       "      <td>0</td>\n",
       "      <td>проспект Мира</td>\n",
       "      <td>197</td>\n",
       "      <td>проспект Мира</td>\n",
       "      <td>70</td>\n",
       "      <td>СВАО</td>\n",
       "      <td>Алексеевский район</td>\n",
       "    </tr>\n",
       "    <tr>\n",
       "      <td>1</td>\n",
       "      <td>проспект Мира</td>\n",
       "      <td>197</td>\n",
       "      <td>проспект Мира</td>\n",
       "      <td>86</td>\n",
       "      <td>СВАО</td>\n",
       "      <td>Ярославский Район</td>\n",
       "    </tr>\n",
       "    <tr>\n",
       "      <td>2</td>\n",
       "      <td>проспект Мира</td>\n",
       "      <td>197</td>\n",
       "      <td>проспект Мира</td>\n",
       "      <td>78</td>\n",
       "      <td>СВАО</td>\n",
       "      <td>Район Марьина роща</td>\n",
       "    </tr>\n",
       "    <tr>\n",
       "      <td>3</td>\n",
       "      <td>проспект Мира</td>\n",
       "      <td>197</td>\n",
       "      <td>проспект Мира</td>\n",
       "      <td>79</td>\n",
       "      <td>СВАО</td>\n",
       "      <td>Останкинский район</td>\n",
       "    </tr>\n",
       "    <tr>\n",
       "      <td>4</td>\n",
       "      <td>проспект Мира</td>\n",
       "      <td>197</td>\n",
       "      <td>проспект Мира</td>\n",
       "      <td>81</td>\n",
       "      <td>СВАО</td>\n",
       "      <td>Район Ростокино</td>\n",
       "    </tr>\n",
       "    <tr>\n",
       "      <td>5</td>\n",
       "      <td>проспект Мира</td>\n",
       "      <td>197</td>\n",
       "      <td>проспект Мира</td>\n",
       "      <td>82</td>\n",
       "      <td>СВАО</td>\n",
       "      <td>Район Свиблово</td>\n",
       "    </tr>\n",
       "    <tr>\n",
       "      <td>6</td>\n",
       "      <td>проспект Мира</td>\n",
       "      <td>197</td>\n",
       "      <td>проспект Мира</td>\n",
       "      <td>16</td>\n",
       "      <td>ЦАО</td>\n",
       "      <td>Мещанский район</td>\n",
       "    </tr>\n",
       "    <tr>\n",
       "      <td>7</td>\n",
       "      <td>Профсоюзная улица</td>\n",
       "      <td>181</td>\n",
       "      <td>Профсоюзная улица</td>\n",
       "      <td>123</td>\n",
       "      <td>ЮЗАО</td>\n",
       "      <td>Академический район</td>\n",
       "    </tr>\n",
       "    <tr>\n",
       "      <td>8</td>\n",
       "      <td>Профсоюзная улица</td>\n",
       "      <td>181</td>\n",
       "      <td>Профсоюзная улица</td>\n",
       "      <td>132</td>\n",
       "      <td>ЮЗАО</td>\n",
       "      <td>Район Черемушки</td>\n",
       "    </tr>\n",
       "    <tr>\n",
       "      <td>9</td>\n",
       "      <td>Профсоюзная улица</td>\n",
       "      <td>181</td>\n",
       "      <td>Профсоюзная улица</td>\n",
       "      <td>134</td>\n",
       "      <td>ЮЗАО</td>\n",
       "      <td>Район Ясенево</td>\n",
       "    </tr>\n",
       "    <tr>\n",
       "      <td>10</td>\n",
       "      <td>Профсоюзная улица</td>\n",
       "      <td>181</td>\n",
       "      <td>Профсоюзная улица</td>\n",
       "      <td>126</td>\n",
       "      <td>ЮЗАО</td>\n",
       "      <td>Район Коньково</td>\n",
       "    </tr>\n",
       "    <tr>\n",
       "      <td>11</td>\n",
       "      <td>Профсоюзная улица</td>\n",
       "      <td>181</td>\n",
       "      <td>Профсоюзная улица</td>\n",
       "      <td>129</td>\n",
       "      <td>ЮЗАО</td>\n",
       "      <td>Обручевский район</td>\n",
       "    </tr>\n",
       "    <tr>\n",
       "      <td>12</td>\n",
       "      <td>Профсоюзная улица</td>\n",
       "      <td>181</td>\n",
       "      <td>Профсоюзная улица</td>\n",
       "      <td>131</td>\n",
       "      <td>ЮЗАО</td>\n",
       "      <td>Район Теплый Стан</td>\n",
       "    </tr>\n",
       "    <tr>\n",
       "      <td>13</td>\n",
       "      <td>Ленинградский проспект</td>\n",
       "      <td>172</td>\n",
       "      <td>Ленинградский проспект</td>\n",
       "      <td>54</td>\n",
       "      <td>САО</td>\n",
       "      <td>Район Аэропорт</td>\n",
       "    </tr>\n",
       "    <tr>\n",
       "      <td>14</td>\n",
       "      <td>Ленинградский проспект</td>\n",
       "      <td>172</td>\n",
       "      <td>Ленинградский проспект</td>\n",
       "      <td>55</td>\n",
       "      <td>САО</td>\n",
       "      <td>Район Беговой</td>\n",
       "    </tr>\n",
       "    <tr>\n",
       "      <td>15</td>\n",
       "      <td>Ленинградский проспект</td>\n",
       "      <td>172</td>\n",
       "      <td>Ленинградский проспект</td>\n",
       "      <td>69</td>\n",
       "      <td>САО</td>\n",
       "      <td>Хорошевский район</td>\n",
       "    </tr>\n",
       "    <tr>\n",
       "      <td>16</td>\n",
       "      <td>Ленинградский проспект</td>\n",
       "      <td>172</td>\n",
       "      <td>Ленинградский проспект</td>\n",
       "      <td>66</td>\n",
       "      <td>САО</td>\n",
       "      <td>Район Сокол</td>\n",
       "    </tr>\n",
       "    <tr>\n",
       "      <td>17</td>\n",
       "      <td>Пресненская набережная</td>\n",
       "      <td>165</td>\n",
       "      <td>Пресненская набережная</td>\n",
       "      <td>17</td>\n",
       "      <td>ЦАО</td>\n",
       "      <td>Пресненский район</td>\n",
       "    </tr>\n",
       "    <tr>\n",
       "      <td>18</td>\n",
       "      <td>Варшавское шоссе</td>\n",
       "      <td>161</td>\n",
       "      <td>Варшавское шоссе</td>\n",
       "      <td>109</td>\n",
       "      <td>ЮАО</td>\n",
       "      <td>Район Чертаново Центральное</td>\n",
       "    </tr>\n",
       "    <tr>\n",
       "      <td>19</td>\n",
       "      <td>Варшавское шоссе</td>\n",
       "      <td>161</td>\n",
       "      <td>Варшавское шоссе</td>\n",
       "      <td>108</td>\n",
       "      <td>ЮАО</td>\n",
       "      <td>Район Чертаново Северное</td>\n",
       "    </tr>\n",
       "    <tr>\n",
       "      <td>20</td>\n",
       "      <td>Варшавское шоссе</td>\n",
       "      <td>161</td>\n",
       "      <td>Варшавское шоссе</td>\n",
       "      <td>110</td>\n",
       "      <td>ЮАО</td>\n",
       "      <td>Район Чертаново Южное</td>\n",
       "    </tr>\n",
       "    <tr>\n",
       "      <td>21</td>\n",
       "      <td>Варшавское шоссе</td>\n",
       "      <td>161</td>\n",
       "      <td>Варшавское шоссе</td>\n",
       "      <td>99</td>\n",
       "      <td>ЮАО</td>\n",
       "      <td>Донской район</td>\n",
       "    </tr>\n",
       "    <tr>\n",
       "      <td>22</td>\n",
       "      <td>Варшавское шоссе</td>\n",
       "      <td>161</td>\n",
       "      <td>Варшавское шоссе</td>\n",
       "      <td>102</td>\n",
       "      <td>ЮАО</td>\n",
       "      <td>Район Нагатино-Садовники</td>\n",
       "    </tr>\n",
       "    <tr>\n",
       "      <td>23</td>\n",
       "      <td>Варшавское шоссе</td>\n",
       "      <td>161</td>\n",
       "      <td>Варшавское шоссе</td>\n",
       "      <td>104</td>\n",
       "      <td>ЮАО</td>\n",
       "      <td>Нагорный район</td>\n",
       "    </tr>\n",
       "    <tr>\n",
       "      <td>24</td>\n",
       "      <td>Варшавское шоссе</td>\n",
       "      <td>161</td>\n",
       "      <td>Варшавское шоссе</td>\n",
       "      <td>130</td>\n",
       "      <td>ЮЗАО</td>\n",
       "      <td>Район Северное Бутово</td>\n",
       "    </tr>\n",
       "    <tr>\n",
       "      <td>25</td>\n",
       "      <td>Варшавское шоссе</td>\n",
       "      <td>161</td>\n",
       "      <td>Варшавское шоссе</td>\n",
       "      <td>133</td>\n",
       "      <td>ЮЗАО</td>\n",
       "      <td>Район Южное Бутово</td>\n",
       "    </tr>\n",
       "    <tr>\n",
       "      <td>26</td>\n",
       "      <td>Ленинский проспект</td>\n",
       "      <td>148</td>\n",
       "      <td>Ленинский проспект</td>\n",
       "      <td>44</td>\n",
       "      <td>ЗАО</td>\n",
       "      <td>Район Проспект Вернадского</td>\n",
       "    </tr>\n",
       "    <tr>\n",
       "      <td>27</td>\n",
       "      <td>Ленинский проспект</td>\n",
       "      <td>148</td>\n",
       "      <td>Ленинский проспект</td>\n",
       "      <td>47</td>\n",
       "      <td>ЗАО</td>\n",
       "      <td>Район Тропарево-Никулино</td>\n",
       "    </tr>\n",
       "    <tr>\n",
       "      <td>28</td>\n",
       "      <td>Ленинский проспект</td>\n",
       "      <td>148</td>\n",
       "      <td>Ленинский проспект</td>\n",
       "      <td>99</td>\n",
       "      <td>ЮАО</td>\n",
       "      <td>Донской район</td>\n",
       "    </tr>\n",
       "    <tr>\n",
       "      <td>29</td>\n",
       "      <td>Ленинский проспект</td>\n",
       "      <td>148</td>\n",
       "      <td>Ленинский проспект</td>\n",
       "      <td>124</td>\n",
       "      <td>ЮЗАО</td>\n",
       "      <td>Район Гагаринский</td>\n",
       "    </tr>\n",
       "    <tr>\n",
       "      <td>30</td>\n",
       "      <td>Ленинский проспект</td>\n",
       "      <td>148</td>\n",
       "      <td>Ленинский проспект</td>\n",
       "      <td>128</td>\n",
       "      <td>ЮЗАО</td>\n",
       "      <td>Ломоносовский район</td>\n",
       "    </tr>\n",
       "    <tr>\n",
       "      <td>31</td>\n",
       "      <td>Ленинский проспект</td>\n",
       "      <td>148</td>\n",
       "      <td>Ленинский проспект</td>\n",
       "      <td>129</td>\n",
       "      <td>ЮЗАО</td>\n",
       "      <td>Обручевский район</td>\n",
       "    </tr>\n",
       "    <tr>\n",
       "      <td>32</td>\n",
       "      <td>Ленинский проспект</td>\n",
       "      <td>148</td>\n",
       "      <td>Ленинский проспект</td>\n",
       "      <td>131</td>\n",
       "      <td>ЮЗАО</td>\n",
       "      <td>Район Теплый Стан</td>\n",
       "    </tr>\n",
       "    <tr>\n",
       "      <td>33</td>\n",
       "      <td>Ленинский проспект</td>\n",
       "      <td>148</td>\n",
       "      <td>Ленинский проспект</td>\n",
       "      <td>21</td>\n",
       "      <td>ЦАО</td>\n",
       "      <td>Район Якиманка</td>\n",
       "    </tr>\n",
       "    <tr>\n",
       "      <td>34</td>\n",
       "      <td>проспект Вернадского</td>\n",
       "      <td>127</td>\n",
       "      <td>проспект Вернадского</td>\n",
       "      <td>44</td>\n",
       "      <td>ЗАО</td>\n",
       "      <td>Район Проспект Вернадского</td>\n",
       "    </tr>\n",
       "    <tr>\n",
       "      <td>35</td>\n",
       "      <td>проспект Вернадского</td>\n",
       "      <td>127</td>\n",
       "      <td>проспект Вернадского</td>\n",
       "      <td>45</td>\n",
       "      <td>ЗАО</td>\n",
       "      <td>Район Раменки</td>\n",
       "    </tr>\n",
       "    <tr>\n",
       "      <td>36</td>\n",
       "      <td>проспект Вернадского</td>\n",
       "      <td>127</td>\n",
       "      <td>проспект Вернадского</td>\n",
       "      <td>47</td>\n",
       "      <td>ЗАО</td>\n",
       "      <td>Район Тропарево-Никулино</td>\n",
       "    </tr>\n",
       "    <tr>\n",
       "      <td>37</td>\n",
       "      <td>проспект Вернадского</td>\n",
       "      <td>127</td>\n",
       "      <td>проспект Вернадского</td>\n",
       "      <td>124</td>\n",
       "      <td>ЮЗАО</td>\n",
       "      <td>Район Гагаринский</td>\n",
       "    </tr>\n",
       "    <tr>\n",
       "      <td>38</td>\n",
       "      <td>проспект Вернадского</td>\n",
       "      <td>127</td>\n",
       "      <td>проспект Вернадского</td>\n",
       "      <td>128</td>\n",
       "      <td>ЮЗАО</td>\n",
       "      <td>Ломоносовский район</td>\n",
       "    </tr>\n",
       "    <tr>\n",
       "      <td>39</td>\n",
       "      <td>Кутузовский проспект</td>\n",
       "      <td>114</td>\n",
       "      <td>Кутузовский проспект</td>\n",
       "      <td>38</td>\n",
       "      <td>ЗАО</td>\n",
       "      <td>Район Дорогомилово</td>\n",
       "    </tr>\n",
       "    <tr>\n",
       "      <td>40</td>\n",
       "      <td>Кутузовский проспект</td>\n",
       "      <td>114</td>\n",
       "      <td>Кутузовский проспект</td>\n",
       "      <td>49</td>\n",
       "      <td>ЗАО</td>\n",
       "      <td>Район Фили-Давыдково</td>\n",
       "    </tr>\n",
       "    <tr>\n",
       "      <td>41</td>\n",
       "      <td>Каширское шоссе</td>\n",
       "      <td>110</td>\n",
       "      <td>Каширское шоссе</td>\n",
       "      <td>101</td>\n",
       "      <td>ЮАО</td>\n",
       "      <td>Район Москворечье-Сабурово</td>\n",
       "    </tr>\n",
       "    <tr>\n",
       "      <td>42</td>\n",
       "      <td>Каширское шоссе</td>\n",
       "      <td>110</td>\n",
       "      <td>Каширское шоссе</td>\n",
       "      <td>102</td>\n",
       "      <td>ЮАО</td>\n",
       "      <td>Район Нагатино-Садовники</td>\n",
       "    </tr>\n",
       "    <tr>\n",
       "      <td>43</td>\n",
       "      <td>Каширское шоссе</td>\n",
       "      <td>110</td>\n",
       "      <td>Каширское шоссе</td>\n",
       "      <td>106</td>\n",
       "      <td>ЮАО</td>\n",
       "      <td>Район Орехово-Борисово Южное</td>\n",
       "    </tr>\n",
       "    <tr>\n",
       "      <td>44</td>\n",
       "      <td>Каширское шоссе</td>\n",
       "      <td>110</td>\n",
       "      <td>Каширское шоссе</td>\n",
       "      <td>105</td>\n",
       "      <td>ЮАО</td>\n",
       "      <td>Район Орехово-Борисово Северное</td>\n",
       "    </tr>\n",
       "    <tr>\n",
       "      <td>45</td>\n",
       "      <td>Кировоградская улица</td>\n",
       "      <td>107</td>\n",
       "      <td>Кировоградская улица</td>\n",
       "      <td>109</td>\n",
       "      <td>ЮАО</td>\n",
       "      <td>Район Чертаново Центральное</td>\n",
       "    </tr>\n",
       "    <tr>\n",
       "      <td>46</td>\n",
       "      <td>Кировоградская улица</td>\n",
       "      <td>107</td>\n",
       "      <td>Кировоградская улица</td>\n",
       "      <td>108</td>\n",
       "      <td>ЮАО</td>\n",
       "      <td>Район Чертаново Северное</td>\n",
       "    </tr>\n",
       "    <tr>\n",
       "      <td>47</td>\n",
       "      <td>Кировоградская улица</td>\n",
       "      <td>107</td>\n",
       "      <td>Кировоградская улица</td>\n",
       "      <td>110</td>\n",
       "      <td>ЮАО</td>\n",
       "      <td>Район Чертаново Южное</td>\n",
       "    </tr>\n",
       "  </tbody>\n",
       "</table>\n",
       "</div>"
      ],
      "text/plain": [
       "                    street  count              streetname  areaid okrug  \\\n",
       "0            проспект Мира    197           проспект Мира      70  СВАО   \n",
       "1            проспект Мира    197           проспект Мира      86  СВАО   \n",
       "2            проспект Мира    197           проспект Мира      78  СВАО   \n",
       "3            проспект Мира    197           проспект Мира      79  СВАО   \n",
       "4            проспект Мира    197           проспект Мира      81  СВАО   \n",
       "5            проспект Мира    197           проспект Мира      82  СВАО   \n",
       "6            проспект Мира    197           проспект Мира      16   ЦАО   \n",
       "7        Профсоюзная улица    181       Профсоюзная улица     123  ЮЗАО   \n",
       "8        Профсоюзная улица    181       Профсоюзная улица     132  ЮЗАО   \n",
       "9        Профсоюзная улица    181       Профсоюзная улица     134  ЮЗАО   \n",
       "10       Профсоюзная улица    181       Профсоюзная улица     126  ЮЗАО   \n",
       "11       Профсоюзная улица    181       Профсоюзная улица     129  ЮЗАО   \n",
       "12       Профсоюзная улица    181       Профсоюзная улица     131  ЮЗАО   \n",
       "13  Ленинградский проспект    172  Ленинградский проспект      54   САО   \n",
       "14  Ленинградский проспект    172  Ленинградский проспект      55   САО   \n",
       "15  Ленинградский проспект    172  Ленинградский проспект      69   САО   \n",
       "16  Ленинградский проспект    172  Ленинградский проспект      66   САО   \n",
       "17  Пресненская набережная    165  Пресненская набережная      17   ЦАО   \n",
       "18        Варшавское шоссе    161        Варшавское шоссе     109   ЮАО   \n",
       "19        Варшавское шоссе    161        Варшавское шоссе     108   ЮАО   \n",
       "20        Варшавское шоссе    161        Варшавское шоссе     110   ЮАО   \n",
       "21        Варшавское шоссе    161        Варшавское шоссе      99   ЮАО   \n",
       "22        Варшавское шоссе    161        Варшавское шоссе     102   ЮАО   \n",
       "23        Варшавское шоссе    161        Варшавское шоссе     104   ЮАО   \n",
       "24        Варшавское шоссе    161        Варшавское шоссе     130  ЮЗАО   \n",
       "25        Варшавское шоссе    161        Варшавское шоссе     133  ЮЗАО   \n",
       "26      Ленинский проспект    148      Ленинский проспект      44   ЗАО   \n",
       "27      Ленинский проспект    148      Ленинский проспект      47   ЗАО   \n",
       "28      Ленинский проспект    148      Ленинский проспект      99   ЮАО   \n",
       "29      Ленинский проспект    148      Ленинский проспект     124  ЮЗАО   \n",
       "30      Ленинский проспект    148      Ленинский проспект     128  ЮЗАО   \n",
       "31      Ленинский проспект    148      Ленинский проспект     129  ЮЗАО   \n",
       "32      Ленинский проспект    148      Ленинский проспект     131  ЮЗАО   \n",
       "33      Ленинский проспект    148      Ленинский проспект      21   ЦАО   \n",
       "34    проспект Вернадского    127    проспект Вернадского      44   ЗАО   \n",
       "35    проспект Вернадского    127    проспект Вернадского      45   ЗАО   \n",
       "36    проспект Вернадского    127    проспект Вернадского      47   ЗАО   \n",
       "37    проспект Вернадского    127    проспект Вернадского     124  ЮЗАО   \n",
       "38    проспект Вернадского    127    проспект Вернадского     128  ЮЗАО   \n",
       "39    Кутузовский проспект    114    Кутузовский проспект      38   ЗАО   \n",
       "40    Кутузовский проспект    114    Кутузовский проспект      49   ЗАО   \n",
       "41         Каширское шоссе    110         Каширское шоссе     101   ЮАО   \n",
       "42         Каширское шоссе    110         Каширское шоссе     102   ЮАО   \n",
       "43         Каширское шоссе    110         Каширское шоссе     106   ЮАО   \n",
       "44         Каширское шоссе    110         Каширское шоссе     105   ЮАО   \n",
       "45    Кировоградская улица    107    Кировоградская улица     109   ЮАО   \n",
       "46    Кировоградская улица    107    Кировоградская улица     108   ЮАО   \n",
       "47    Кировоградская улица    107    Кировоградская улица     110   ЮАО   \n",
       "\n",
       "                               area  \n",
       "0                Алексеевский район  \n",
       "1                 Ярославский Район  \n",
       "2                Район Марьина роща  \n",
       "3                Останкинский район  \n",
       "4                   Район Ростокино  \n",
       "5                    Район Свиблово  \n",
       "6                   Мещанский район  \n",
       "7               Академический район  \n",
       "8                   Район Черемушки  \n",
       "9                     Район Ясенево  \n",
       "10                   Район Коньково  \n",
       "11                Обручевский район  \n",
       "12                Район Теплый Стан  \n",
       "13                   Район Аэропорт  \n",
       "14                    Район Беговой  \n",
       "15                Хорошевский район  \n",
       "16                      Район Сокол  \n",
       "17                Пресненский район  \n",
       "18      Район Чертаново Центральное  \n",
       "19         Район Чертаново Северное  \n",
       "20            Район Чертаново Южное  \n",
       "21                    Донской район  \n",
       "22         Район Нагатино-Садовники  \n",
       "23                   Нагорный район  \n",
       "24            Район Северное Бутово  \n",
       "25               Район Южное Бутово  \n",
       "26       Район Проспект Вернадского  \n",
       "27         Район Тропарево-Никулино  \n",
       "28                    Донской район  \n",
       "29                Район Гагаринский  \n",
       "30              Ломоносовский район  \n",
       "31                Обручевский район  \n",
       "32                Район Теплый Стан  \n",
       "33                   Район Якиманка  \n",
       "34       Район Проспект Вернадского  \n",
       "35                    Район Раменки  \n",
       "36         Район Тропарево-Никулино  \n",
       "37                Район Гагаринский  \n",
       "38              Ломоносовский район  \n",
       "39               Район Дорогомилово  \n",
       "40             Район Фили-Давыдково  \n",
       "41       Район Москворечье-Сабурово  \n",
       "42         Район Нагатино-Садовники  \n",
       "43     Район Орехово-Борисово Южное  \n",
       "44  Район Орехово-Борисово Северное  \n",
       "45      Район Чертаново Центральное  \n",
       "46         Район Чертаново Северное  \n",
       "47            Район Чертаново Южное  "
      ]
     },
     "execution_count": 255,
     "metadata": {},
     "output_type": "execute_result"
    }
   ],
   "source": [
    "top10"
   ]
  },
  {
   "cell_type": "code",
   "execution_count": 256,
   "metadata": {},
   "outputs": [
    {
     "data": {
      "text/html": [
       "<div>\n",
       "<style scoped>\n",
       "    .dataframe tbody tr th:only-of-type {\n",
       "        vertical-align: middle;\n",
       "    }\n",
       "\n",
       "    .dataframe tbody tr th {\n",
       "        vertical-align: top;\n",
       "    }\n",
       "\n",
       "    .dataframe thead th {\n",
       "        text-align: right;\n",
       "    }\n",
       "</style>\n",
       "<table border=\"1\" class=\"dataframe\">\n",
       "  <thead>\n",
       "    <tr style=\"text-align: right;\">\n",
       "      <th></th>\n",
       "      <th>street</th>\n",
       "      <th>count</th>\n",
       "      <th>streetname</th>\n",
       "      <th>areaid</th>\n",
       "      <th>okrug</th>\n",
       "      <th>area</th>\n",
       "    </tr>\n",
       "  </thead>\n",
       "  <tbody>\n",
       "    <tr>\n",
       "      <td>0</td>\n",
       "      <td>1-й Балтийский переулок</td>\n",
       "      <td>1</td>\n",
       "      <td>1-й Балтийский переулок</td>\n",
       "      <td>54.0</td>\n",
       "      <td>САО</td>\n",
       "      <td>Район Аэропорт</td>\n",
       "    </tr>\n",
       "    <tr>\n",
       "      <td>1</td>\n",
       "      <td>1-й Басманный переулок</td>\n",
       "      <td>1</td>\n",
       "      <td>1-й Басманный переулок</td>\n",
       "      <td>13.0</td>\n",
       "      <td>ЦАО</td>\n",
       "      <td>Басманный район</td>\n",
       "    </tr>\n",
       "    <tr>\n",
       "      <td>2</td>\n",
       "      <td>1-й Басманный переулок</td>\n",
       "      <td>1</td>\n",
       "      <td>1-й Басманный переулок</td>\n",
       "      <td>15.0</td>\n",
       "      <td>ЦАО</td>\n",
       "      <td>Красносельский район</td>\n",
       "    </tr>\n",
       "    <tr>\n",
       "      <td>3</td>\n",
       "      <td>1-й Ботанический проезд</td>\n",
       "      <td>1</td>\n",
       "      <td>1-й Ботанический проезд</td>\n",
       "      <td>82.0</td>\n",
       "      <td>СВАО</td>\n",
       "      <td>Район Свиблово</td>\n",
       "    </tr>\n",
       "    <tr>\n",
       "      <td>4</td>\n",
       "      <td>1-й Вешняковский проезд</td>\n",
       "      <td>1</td>\n",
       "      <td>1-й Вешняковский проезд</td>\n",
       "      <td>120.0</td>\n",
       "      <td>ЮВАО</td>\n",
       "      <td>Рязанский район</td>\n",
       "    </tr>\n",
       "    <tr>\n",
       "      <td>...</td>\n",
       "      <td>...</td>\n",
       "      <td>...</td>\n",
       "      <td>...</td>\n",
       "      <td>...</td>\n",
       "      <td>...</td>\n",
       "      <td>...</td>\n",
       "    </tr>\n",
       "    <tr>\n",
       "      <td>581</td>\n",
       "      <td>улица Шеногина</td>\n",
       "      <td>1</td>\n",
       "      <td>улица Шеногина</td>\n",
       "      <td>92.0</td>\n",
       "      <td>СЗАО</td>\n",
       "      <td>Район Хорошево-Мневники</td>\n",
       "    </tr>\n",
       "    <tr>\n",
       "      <td>582</td>\n",
       "      <td>улица Шумилова</td>\n",
       "      <td>1</td>\n",
       "      <td>улица Шумилова</td>\n",
       "      <td>113.0</td>\n",
       "      <td>ЮВАО</td>\n",
       "      <td>Район Кузьминки</td>\n",
       "    </tr>\n",
       "    <tr>\n",
       "      <td>583</td>\n",
       "      <td>улица Шумкина</td>\n",
       "      <td>1</td>\n",
       "      <td>улица Шумкина</td>\n",
       "      <td>26.0</td>\n",
       "      <td>ВАО</td>\n",
       "      <td>Район Сокольники</td>\n",
       "    </tr>\n",
       "    <tr>\n",
       "      <td>584</td>\n",
       "      <td>улица Щорса</td>\n",
       "      <td>1</td>\n",
       "      <td>улица Щорса</td>\n",
       "      <td>46.0</td>\n",
       "      <td>ЗАО</td>\n",
       "      <td>Район Солнцево</td>\n",
       "    </tr>\n",
       "    <tr>\n",
       "      <td>585</td>\n",
       "      <td>шоссе Фрезер</td>\n",
       "      <td>1</td>\n",
       "      <td>шоссе Фрезер</td>\n",
       "      <td>117.0</td>\n",
       "      <td>ЮВАО</td>\n",
       "      <td>Нижегородский район</td>\n",
       "    </tr>\n",
       "  </tbody>\n",
       "</table>\n",
       "<p>586 rows × 6 columns</p>\n",
       "</div>"
      ],
      "text/plain": [
       "                      street  count               streetname  areaid okrug  \\\n",
       "0    1-й Балтийский переулок      1  1-й Балтийский переулок    54.0   САО   \n",
       "1     1-й Басманный переулок      1   1-й Басманный переулок    13.0   ЦАО   \n",
       "2     1-й Басманный переулок      1   1-й Басманный переулок    15.0   ЦАО   \n",
       "3    1-й Ботанический проезд      1  1-й Ботанический проезд    82.0  СВАО   \n",
       "4    1-й Вешняковский проезд      1  1-й Вешняковский проезд   120.0  ЮВАО   \n",
       "..                       ...    ...                      ...     ...   ...   \n",
       "581           улица Шеногина      1           улица Шеногина    92.0  СЗАО   \n",
       "582           улица Шумилова      1           улица Шумилова   113.0  ЮВАО   \n",
       "583            улица Шумкина      1            улица Шумкина    26.0   ВАО   \n",
       "584              улица Щорса      1              улица Щорса    46.0   ЗАО   \n",
       "585             шоссе Фрезер      1             шоссе Фрезер   117.0  ЮВАО   \n",
       "\n",
       "                        area  \n",
       "0             Район Аэропорт  \n",
       "1            Басманный район  \n",
       "2       Красносельский район  \n",
       "3             Район Свиблово  \n",
       "4            Рязанский район  \n",
       "..                       ...  \n",
       "581  Район Хорошево-Мневники  \n",
       "582          Район Кузьминки  \n",
       "583         Район Сокольники  \n",
       "584           Район Солнцево  \n",
       "585      Нижегородский район  \n",
       "\n",
       "[586 rows x 6 columns]"
      ]
     },
     "execution_count": 256,
     "metadata": {},
     "output_type": "execute_result"
    }
   ],
   "source": [
    "streets_with_1"
   ]
  },
  {
   "cell_type": "code",
   "execution_count": 257,
   "metadata": {},
   "outputs": [
    {
     "data": {
      "text/plain": [
       "street                  area                           \n",
       "Варшавское шоссе        Донской район                      1\n",
       "                        Нагорный район                     1\n",
       "                        Район Нагатино-Садовники           1\n",
       "                        Район Северное Бутово              1\n",
       "                        Район Чертаново Северное           1\n",
       "                        Район Чертаново Центральное        1\n",
       "                        Район Чертаново Южное              1\n",
       "                        Район Южное Бутово                 1\n",
       "Каширское шоссе         Район Москворечье-Сабурово         1\n",
       "                        Район Нагатино-Садовники           1\n",
       "                        Район Орехово-Борисово Северное    1\n",
       "                        Район Орехово-Борисово Южное       1\n",
       "Кировоградская улица    Район Чертаново Северное           1\n",
       "                        Район Чертаново Центральное        1\n",
       "                        Район Чертаново Южное              1\n",
       "Кутузовский проспект    Район Дорогомилово                 1\n",
       "                        Район Фили-Давыдково               1\n",
       "Ленинградский проспект  Район Аэропорт                     1\n",
       "                        Район Беговой                      1\n",
       "                        Район Сокол                        1\n",
       "                        Хорошевский район                  1\n",
       "Ленинский проспект      Донской район                      1\n",
       "                        Ломоносовский район                1\n",
       "                        Обручевский район                  1\n",
       "                        Район Гагаринский                  1\n",
       "                        Район Проспект Вернадского         1\n",
       "                        Район Теплый Стан                  1\n",
       "                        Район Тропарево-Никулино           1\n",
       "                        Район Якиманка                     1\n",
       "Пресненская набережная  Пресненский район                  1\n",
       "Профсоюзная улица       Академический район                1\n",
       "                        Обручевский район                  1\n",
       "                        Район Коньково                     1\n",
       "                        Район Теплый Стан                  1\n",
       "                        Район Черемушки                    1\n",
       "                        Район Ясенево                      1\n",
       "проспект Вернадского    Ломоносовский район                1\n",
       "                        Район Гагаринский                  1\n",
       "                        Район Проспект Вернадского         1\n",
       "                        Район Раменки                      1\n",
       "                        Район Тропарево-Никулино           1\n",
       "проспект Мира           Алексеевский район                 1\n",
       "                        Мещанский район                    1\n",
       "                        Останкинский район                 1\n",
       "                        Район Марьина роща                 1\n",
       "                        Район Ростокино                    1\n",
       "                        Район Свиблово                     1\n",
       "                        Ярославский Район                  1\n",
       "Name: area, dtype: int64"
      ]
     },
     "execution_count": 257,
     "metadata": {},
     "output_type": "execute_result"
    }
   ],
   "source": [
    "top10_area= top10.groupby('street')['area'].value_counts()\n",
    "top10_area"
   ]
  },
  {
   "cell_type": "code",
   "execution_count": 258,
   "metadata": {},
   "outputs": [
    {
     "data": {
      "text/plain": [
       "street                        area                \n",
       "1-й Балтийский переулок       Район Аэропорт          1\n",
       "1-й Басманный переулок        Басманный район         1\n",
       "                              Красносельский район    1\n",
       "1-й Ботанический проезд       Район Свиблово          1\n",
       "1-й Вешняковский проезд       Рязанский район         1\n",
       "1-й Голутвинский переулок     Район Якиманка          1\n",
       "1-й Зачатьевский переулок     Район Хамовники         1\n",
       "1-й Кирпичный переулок        Район Соколиная Гора    1\n",
       "1-й Кожевнический переулок    Даниловский район       1\n",
       "1-й Кожуховский проезд        Даниловский район       1\n",
       "1-й Коптельский переулок      Красносельский район    1\n",
       "                              Мещанский район         1\n",
       "1-й Котельнический переулок   Таганский район         1\n",
       "1-й Краснокурсантский проезд  Район Лефортово         1\n",
       "1-й Курьяновский проезд       Район Печатники         1\n",
       "1-й Лучевой просек            Район Сокольники        1\n",
       "1-й Люсиновский переулок      Район Замоскворечье     1\n",
       "1-й Магистральный тупик       Хорошевский район       1\n",
       "1-й Монетчиковский переулок   Район Замоскворечье     1\n",
       "1-й Николощеповский переулок  Район Арбат             1\n",
       "Name: area, dtype: int64"
      ]
     },
     "execution_count": 258,
     "metadata": {},
     "output_type": "execute_result"
    }
   ],
   "source": [
    "streets_with_1_area = streets_with_1.groupby('street')['area'].value_counts()\n",
    "streets_with_1_area.head(20)"
   ]
  },
  {
   "cell_type": "markdown",
   "metadata": {},
   "source": [
    "Первое, что бросается в глаза, что в топ10 попали длинные улицы,проходящие через несколько районов, а улицы с 1 объектом, как правило, находятся в одном районе, а значит короткие. Уже видно по названиям: переулок, проезд, тупик..."
   ]
  },
  {
   "cell_type": "code",
   "execution_count": 259,
   "metadata": {},
   "outputs": [
    {
     "data": {
      "text/html": [
       "<div>\n",
       "<style scoped>\n",
       "    .dataframe tbody tr th:only-of-type {\n",
       "        vertical-align: middle;\n",
       "    }\n",
       "\n",
       "    .dataframe tbody tr th {\n",
       "        vertical-align: top;\n",
       "    }\n",
       "\n",
       "    .dataframe thead th {\n",
       "        text-align: right;\n",
       "    }\n",
       "</style>\n",
       "<table border=\"1\" class=\"dataframe\">\n",
       "  <thead>\n",
       "    <tr style=\"text-align: right;\">\n",
       "      <th></th>\n",
       "      <th>street</th>\n",
       "      <th>area</th>\n",
       "      <th>0</th>\n",
       "    </tr>\n",
       "  </thead>\n",
       "  <tbody>\n",
       "    <tr>\n",
       "      <td>0</td>\n",
       "      <td>1-й Балтийский переулок</td>\n",
       "      <td>Район Аэропорт</td>\n",
       "      <td>1</td>\n",
       "    </tr>\n",
       "    <tr>\n",
       "      <td>1</td>\n",
       "      <td>1-й Басманный переулок</td>\n",
       "      <td>Басманный район</td>\n",
       "      <td>1</td>\n",
       "    </tr>\n",
       "    <tr>\n",
       "      <td>2</td>\n",
       "      <td>1-й Басманный переулок</td>\n",
       "      <td>Красносельский район</td>\n",
       "      <td>1</td>\n",
       "    </tr>\n",
       "    <tr>\n",
       "      <td>3</td>\n",
       "      <td>1-й Ботанический проезд</td>\n",
       "      <td>Район Свиблово</td>\n",
       "      <td>1</td>\n",
       "    </tr>\n",
       "    <tr>\n",
       "      <td>4</td>\n",
       "      <td>1-й Вешняковский проезд</td>\n",
       "      <td>Рязанский район</td>\n",
       "      <td>1</td>\n",
       "    </tr>\n",
       "    <tr>\n",
       "      <td>...</td>\n",
       "      <td>...</td>\n",
       "      <td>...</td>\n",
       "      <td>...</td>\n",
       "    </tr>\n",
       "    <tr>\n",
       "      <td>559</td>\n",
       "      <td>улица Шеногина</td>\n",
       "      <td>Район Хорошево-Мневники</td>\n",
       "      <td>1</td>\n",
       "    </tr>\n",
       "    <tr>\n",
       "      <td>560</td>\n",
       "      <td>улица Шумилова</td>\n",
       "      <td>Район Кузьминки</td>\n",
       "      <td>1</td>\n",
       "    </tr>\n",
       "    <tr>\n",
       "      <td>561</td>\n",
       "      <td>улица Шумкина</td>\n",
       "      <td>Район Сокольники</td>\n",
       "      <td>1</td>\n",
       "    </tr>\n",
       "    <tr>\n",
       "      <td>562</td>\n",
       "      <td>улица Щорса</td>\n",
       "      <td>Район Солнцево</td>\n",
       "      <td>1</td>\n",
       "    </tr>\n",
       "    <tr>\n",
       "      <td>563</td>\n",
       "      <td>шоссе Фрезер</td>\n",
       "      <td>Нижегородский район</td>\n",
       "      <td>1</td>\n",
       "    </tr>\n",
       "  </tbody>\n",
       "</table>\n",
       "<p>564 rows × 3 columns</p>\n",
       "</div>"
      ],
      "text/plain": [
       "                      street                     area  0\n",
       "0    1-й Балтийский переулок           Район Аэропорт  1\n",
       "1     1-й Басманный переулок          Басманный район  1\n",
       "2     1-й Басманный переулок     Красносельский район  1\n",
       "3    1-й Ботанический проезд           Район Свиблово  1\n",
       "4    1-й Вешняковский проезд          Рязанский район  1\n",
       "..                       ...                      ... ..\n",
       "559           улица Шеногина  Район Хорошево-Мневники  1\n",
       "560           улица Шумилова          Район Кузьминки  1\n",
       "561            улица Шумкина         Район Сокольники  1\n",
       "562              улица Щорса           Район Солнцево  1\n",
       "563             шоссе Фрезер      Нижегородский район  1\n",
       "\n",
       "[564 rows x 3 columns]"
      ]
     },
     "execution_count": 259,
     "metadata": {},
     "output_type": "execute_result"
    }
   ],
   "source": [
    "streets_with_1_area = streets_with_1_area.rename(columns = {'area': 'region'}).reset_index()\n",
    "streets_with_1_area.column=['street','area','0']\n",
    "streets_with_1_area"
   ]
  },
  {
   "cell_type": "code",
   "execution_count": 260,
   "metadata": {},
   "outputs": [
    {
     "data": {
      "text/plain": [
       "area\n",
       "Таганский район            27\n",
       "Район Хамовники            26\n",
       "Басманный район            25\n",
       "Тверской район             20\n",
       "Пресненский район          20\n",
       "                           ..\n",
       "Район Гагаринский           1\n",
       "Район Матушкино-Савелки     1\n",
       "Обручевский район           1\n",
       "Район Метрогородок          1\n",
       "Район Марфино               1\n",
       "Name: street, Length: 101, dtype: int64"
      ]
     },
     "execution_count": 260,
     "metadata": {},
     "output_type": "execute_result"
    }
   ],
   "source": [
    "areas_with_1 = streets_with_1_area.groupby('area')['street'].count()\n",
    "areas_with_1.columns ='count'\n",
    "areas_with_1.sort_values(ascending=False)"
   ]
  },
  {
   "cell_type": "markdown",
   "metadata": {},
   "source": [
    "Пострим распределение посадочных мест для улиц топ 10"
   ]
  },
  {
   "cell_type": "code",
   "execution_count": 261,
   "metadata": {},
   "outputs": [],
   "source": [
    "rest_moscow10 = rest_moscow[rest_moscow['a1'].isin(list10)]"
   ]
  },
  {
   "cell_type": "code",
   "execution_count": 262,
   "metadata": {},
   "outputs": [
    {
     "data": {
      "image/png": "[encoded data removed]",
      "text/plain": [
       "<Figure size 1080x360 with 1 Axes>"
      ]
     },
     "metadata": {
      "needs_background": "light"
     },
     "output_type": "display_data"
    }
   ],
   "source": [
    "plt.figure(figsize = (15,5))\n",
    "plt.hist(rest_moscow10['number'],bins=75); \n",
    "plt.title('Распределение посадочных мест для улиц топ 10');\n",
    "plt.xlabel('Количество посадочных мест')\n",
    "plt.ylabel('Количество заведений общепита')\n",
    "plt.show()\n",
    "plt.show()"
   ]
  },
  {
   "cell_type": "markdown",
   "metadata": {},
   "source": [
    "Хотя, конечно, есть заведения  с 1500 и 1700 местами, но абсолютный максимум заведений с небольшим количеством посадочных мест."
   ]
  },
  {
   "cell_type": "markdown",
   "metadata": {},
   "source": [
    "## Выводы и предложения"
   ]
  },
  {
   "cell_type": "markdown",
   "metadata": {},
   "source": [
    "В процессе подготовки данных для анализа были структурированы адреса заведений общественного питания, затем проведена проверка на дубли, удалены 170 двойных и более записей. Оставлены те из них, у которых было большее количество посадочных мест. "
   ]
  },
  {
   "cell_type": "markdown",
   "metadata": {},
   "source": [
    "**Общий вывод** В процессе исследования типов и расположения объектов питания г. Москвы можно сделать вывод, что если рассматривать Москву с пригородами, то по типам объектов питания абсолютное первенство приходится на кафе. А далее с большим отрывом уже идут столовая, ресторан и предприятие быстрого обслуживания.Как показывают исследования, они присутствуют во всех районах, и можно предположить, что, как во всех больших городах, объекты питания сконцентрированы в центре и вдоль основных магистралей, что и демонстрирует выборка топ10.  "
   ]
  },
  {
   "cell_type": "markdown",
   "metadata": {},
   "source": [
    "\tпроспект Мира\t        197\n",
    "    Профсоюзная улица\t    181\n",
    "    Ленинградский проспект\t172\n",
    "    Пресненская набережная\t165\n",
    "\tВаршавское шоссе\t    161\n",
    "    Ленинский проспект\t    148\n",
    "\tпроспект Вернадского\t127\n",
    "    Кутузовский проспект\t114\n",
    "    Каширское шоссе\t        110\n",
    "\tКировоградская улица\t107"
   ]
  },
  {
   "cell_type": "markdown",
   "metadata": {},
   "source": [
    "Топ 10 районов, где больше всего улиц с одним заведением"
   ]
  },
  {
   "cell_type": "markdown",
   "metadata": {},
   "source": [
    "    Таганский район        27\n",
    "    Район Хамовники        26\n",
    "    Басманный район        25\n",
    "    Тверской район         20\n",
    "    Пресненский район      20\n",
    "    Район Марьина роща     18\n",
    "    Район Арбат            18\n",
    "    Район Сокольники       15\n",
    "    Мещанский район        15\n",
    "    Район Замоскворечье    14"
   ]
  },
  {
   "cell_type": "markdown",
   "metadata": {},
   "source": [
    "Среднее (по медиане) количество посадочных мест в зависимости от типа заведения"
   ]
  },
  {
   "cell_type": "markdown",
   "metadata": {},
   "source": [
    "103 - столовая\t\n",
    " 80 - ресторан\t\n",
    " 35 - бар\t\n",
    " 32 - буфет\t\n",
    " 32 - кафе\t\n",
    "  6 - кафетерий\t\n",
    "  6 - предприятие быстрого обслуживания\t\n",
    "  0 - закусочная\t\n",
    "  0 - магазин (отдел кулинарии)\t"
   ]
  },
  {
   "cell_type": "markdown",
   "metadata": {},
   "source": [
    "**Рекомендации** В нашем случае речь идет о небольшом заведении оригинального формата. Трудно представить себе авторское кафе или ресторан, где все операции выполняют роботы, поэтому я бы предложила рассмотреть вариант предприятия быстрого обслуживания, тем более, что этот вид по распространенности стоит на четвертом месте, а значит ниша далеко не заполнена. "
   ]
  },
  {
   "cell_type": "markdown",
   "metadata": {},
   "source": [
    "В качестве места первоначального базирования я бы предложила рассмотреть город Зеленоград. Главный аргумент, что там находится знаменитый МИЭТ. А значит есть специалисты по интересующему профилю и может быть организована реальная работа для студентов по совершенствованию функционала роботов при разработке ПО. И немаловажный аргумент для старт-апа - аренда помещения дешевле, чем в Москве. Этот вариант смог бы быть своего рода полигоном, тестовой площадкой, и после обкатки технологий можно было бы  перенести эту экзотику (или масштабировать как сетевой вариант) в туристические районы Москвы.  "
   ]
  },
  {
   "cell_type": "markdown",
   "metadata": {},
   "source": [
    "## Обзор заведений общественного питания Зеленограда"
   ]
  },
  {
   "cell_type": "markdown",
   "metadata": {},
   "source": [
    "Для общей картины сделаем обзор заведений общественного питания Зеленограда.Отберем в отдельный файл объекты Зеленограда и повторим все выкладки, сделанные для общего обзора. "
   ]
  },
  {
   "cell_type": "code",
   "execution_count": 263,
   "metadata": {},
   "outputs": [
    {
     "data": {
      "text/html": [
       "<div>\n",
       "<style scoped>\n",
       "    .dataframe tbody tr th:only-of-type {\n",
       "        vertical-align: middle;\n",
       "    }\n",
       "\n",
       "    .dataframe tbody tr th {\n",
       "        vertical-align: top;\n",
       "    }\n",
       "\n",
       "    .dataframe thead th {\n",
       "        text-align: right;\n",
       "    }\n",
       "</style>\n",
       "<table border=\"1\" class=\"dataframe\">\n",
       "  <thead>\n",
       "    <tr style=\"text-align: right;\">\n",
       "      <th></th>\n",
       "      <th>id</th>\n",
       "      <th>object_name</th>\n",
       "      <th>chain</th>\n",
       "      <th>object_type</th>\n",
       "      <th>address</th>\n",
       "      <th>number</th>\n",
       "      <th>a0</th>\n",
       "      <th>a1</th>\n",
       "      <th>a2</th>\n",
       "      <th>a3</th>\n",
       "      <th>a4</th>\n",
       "      <th>a5</th>\n",
       "    </tr>\n",
       "  </thead>\n",
       "  <tbody>\n",
       "    <tr>\n",
       "      <td>23</td>\n",
       "      <td>28600</td>\n",
       "      <td>СТОЛОВАЯ МИЭТ</td>\n",
       "      <td>нет</td>\n",
       "      <td>столовая</td>\n",
       "      <td>город Москва, город Зеленоград, площадь Шокина...</td>\n",
       "      <td>520</td>\n",
       "      <td>город Зеленоград</td>\n",
       "      <td>площадь Шокина</td>\n",
       "      <td>дом 1</td>\n",
       "      <td></td>\n",
       "      <td></td>\n",
       "      <td></td>\n",
       "    </tr>\n",
       "    <tr>\n",
       "      <td>223</td>\n",
       "      <td>124698</td>\n",
       "      <td>Столовая в школе 2045 корп. 2312</td>\n",
       "      <td>нет</td>\n",
       "      <td>столовая</td>\n",
       "      <td>город Москва, город Зеленоград, корпус 2312</td>\n",
       "      <td>290</td>\n",
       "      <td>город Зеленоград</td>\n",
       "      <td>корпус 2312</td>\n",
       "      <td></td>\n",
       "      <td></td>\n",
       "      <td></td>\n",
       "      <td></td>\n",
       "    </tr>\n",
       "    <tr>\n",
       "      <td>231</td>\n",
       "      <td>59380</td>\n",
       "      <td>Корчма Диканька</td>\n",
       "      <td>нет</td>\n",
       "      <td>ресторан</td>\n",
       "      <td>город Москва, город Зеленоград, Савёлкинский п...</td>\n",
       "      <td>286</td>\n",
       "      <td>город Зеленоград</td>\n",
       "      <td>Савёлкинский проезд</td>\n",
       "      <td>дом 12</td>\n",
       "      <td></td>\n",
       "      <td></td>\n",
       "      <td></td>\n",
       "    </tr>\n",
       "    <tr>\n",
       "      <td>668</td>\n",
       "      <td>23379</td>\n",
       "      <td>НИИМЭ И ЗАВОД МИКРОН</td>\n",
       "      <td>нет</td>\n",
       "      <td>столовая</td>\n",
       "      <td>город Москва, город Зеленоград, 1-й Западный п...</td>\n",
       "      <td>230</td>\n",
       "      <td>город Зеленоград</td>\n",
       "      <td>1-й Западный проезд</td>\n",
       "      <td>дом 12</td>\n",
       "      <td>строение 1</td>\n",
       "      <td></td>\n",
       "      <td></td>\n",
       "    </tr>\n",
       "    <tr>\n",
       "      <td>744</td>\n",
       "      <td>24024</td>\n",
       "      <td>Кафе Пронто</td>\n",
       "      <td>да</td>\n",
       "      <td>кафе</td>\n",
       "      <td>город Москва, город Зеленоград, корпус 1549</td>\n",
       "      <td>220</td>\n",
       "      <td>город Зеленоград</td>\n",
       "      <td>корпус 1549</td>\n",
       "      <td></td>\n",
       "      <td></td>\n",
       "      <td></td>\n",
       "      <td></td>\n",
       "    </tr>\n",
       "    <tr>\n",
       "      <td>...</td>\n",
       "      <td>...</td>\n",
       "      <td>...</td>\n",
       "      <td>...</td>\n",
       "      <td>...</td>\n",
       "      <td>...</td>\n",
       "      <td>...</td>\n",
       "      <td>...</td>\n",
       "      <td>...</td>\n",
       "      <td>...</td>\n",
       "      <td>...</td>\n",
       "      <td>...</td>\n",
       "      <td>...</td>\n",
       "    </tr>\n",
       "    <tr>\n",
       "      <td>13932</td>\n",
       "      <td>184516</td>\n",
       "      <td>КалаЧ</td>\n",
       "      <td>нет</td>\n",
       "      <td>магазин (отдел кулинарии)</td>\n",
       "      <td>город Москва, город Зеленоград, корпус 1550</td>\n",
       "      <td>0</td>\n",
       "      <td>город Зеленоград</td>\n",
       "      <td>корпус 1550</td>\n",
       "      <td></td>\n",
       "      <td></td>\n",
       "      <td></td>\n",
       "      <td></td>\n",
       "    </tr>\n",
       "    <tr>\n",
       "      <td>14051</td>\n",
       "      <td>220587</td>\n",
       "      <td>Пицца Паоло</td>\n",
       "      <td>да</td>\n",
       "      <td>кафетерий</td>\n",
       "      <td>город Москва, город Зеленоград, корпус 1627</td>\n",
       "      <td>0</td>\n",
       "      <td>город Зеленоград</td>\n",
       "      <td>корпус 1627</td>\n",
       "      <td></td>\n",
       "      <td></td>\n",
       "      <td></td>\n",
       "      <td></td>\n",
       "    </tr>\n",
       "    <tr>\n",
       "      <td>14347</td>\n",
       "      <td>192748</td>\n",
       "      <td>Доставка Японской кухни Banzai sheff</td>\n",
       "      <td>нет</td>\n",
       "      <td>предприятие быстрого обслуживания</td>\n",
       "      <td>город Москва, город Зеленоград, корпус 1455</td>\n",
       "      <td>0</td>\n",
       "      <td>город Зеленоград</td>\n",
       "      <td>корпус 1455</td>\n",
       "      <td></td>\n",
       "      <td></td>\n",
       "      <td></td>\n",
       "      <td></td>\n",
       "    </tr>\n",
       "    <tr>\n",
       "      <td>14626</td>\n",
       "      <td>200637</td>\n",
       "      <td>Кафе «Лайк»</td>\n",
       "      <td>нет</td>\n",
       "      <td>кафетерий</td>\n",
       "      <td>город Москва, город Зеленоград, улица Гоголя, ...</td>\n",
       "      <td>0</td>\n",
       "      <td>город Зеленоград</td>\n",
       "      <td>улица Гоголя</td>\n",
       "      <td>дом 2</td>\n",
       "      <td></td>\n",
       "      <td></td>\n",
       "      <td></td>\n",
       "    </tr>\n",
       "    <tr>\n",
       "      <td>14915</td>\n",
       "      <td>220992</td>\n",
       "      <td>Dolce crema</td>\n",
       "      <td>нет</td>\n",
       "      <td>предприятие быстрого обслуживания</td>\n",
       "      <td>город Москва, город Зеленоград, Панфиловский п...</td>\n",
       "      <td>0</td>\n",
       "      <td>город Зеленоград</td>\n",
       "      <td>Панфиловский проспект</td>\n",
       "      <td>дом 6А</td>\n",
       "      <td></td>\n",
       "      <td></td>\n",
       "      <td></td>\n",
       "    </tr>\n",
       "  </tbody>\n",
       "</table>\n",
       "<p>230 rows × 12 columns</p>\n",
       "</div>"
      ],
      "text/plain": [
       "           id                           object_name chain  \\\n",
       "23      28600                         СТОЛОВАЯ МИЭТ   нет   \n",
       "223    124698      Столовая в школе 2045 корп. 2312   нет   \n",
       "231     59380                       Корчма Диканька   нет   \n",
       "668     23379                  НИИМЭ И ЗАВОД МИКРОН   нет   \n",
       "744     24024                           Кафе Пронто    да   \n",
       "...       ...                                   ...   ...   \n",
       "13932  184516                                 КалаЧ   нет   \n",
       "14051  220587                           Пицца Паоло    да   \n",
       "14347  192748  Доставка Японской кухни Banzai sheff   нет   \n",
       "14626  200637                           Кафе «Лайк»   нет   \n",
       "14915  220992                           Dolce crema   нет   \n",
       "\n",
       "                             object_type  \\\n",
       "23                              столовая   \n",
       "223                             столовая   \n",
       "231                             ресторан   \n",
       "668                             столовая   \n",
       "744                                 кафе   \n",
       "...                                  ...   \n",
       "13932          магазин (отдел кулинарии)   \n",
       "14051                          кафетерий   \n",
       "14347  предприятие быстрого обслуживания   \n",
       "14626                          кафетерий   \n",
       "14915  предприятие быстрого обслуживания   \n",
       "\n",
       "                                                 address  number  \\\n",
       "23     город Москва, город Зеленоград, площадь Шокина...     520   \n",
       "223          город Москва, город Зеленоград, корпус 2312     290   \n",
       "231    город Москва, город Зеленоград, Савёлкинский п...     286   \n",
       "668    город Москва, город Зеленоград, 1-й Западный п...     230   \n",
       "744          город Москва, город Зеленоград, корпус 1549     220   \n",
       "...                                                  ...     ...   \n",
       "13932        город Москва, город Зеленоград, корпус 1550       0   \n",
       "14051        город Москва, город Зеленоград, корпус 1627       0   \n",
       "14347        город Москва, город Зеленоград, корпус 1455       0   \n",
       "14626  город Москва, город Зеленоград, улица Гоголя, ...       0   \n",
       "14915  город Москва, город Зеленоград, Панфиловский п...       0   \n",
       "\n",
       "                     a0                     a1      a2          a3 a4 a5  \n",
       "23     город Зеленоград         площадь Шокина   дом 1                    \n",
       "223    город Зеленоград            корпус 2312                            \n",
       "231    город Зеленоград    Савёлкинский проезд  дом 12                    \n",
       "668    город Зеленоград    1-й Западный проезд  дом 12  строение 1        \n",
       "744    город Зеленоград            корпус 1549                            \n",
       "...                 ...                    ...     ...         ... .. ..  \n",
       "13932  город Зеленоград            корпус 1550                            \n",
       "14051  город Зеленоград            корпус 1627                            \n",
       "14347  город Зеленоград            корпус 1455                            \n",
       "14626  город Зеленоград           улица Гоголя   дом 2                    \n",
       "14915  город Зеленоград  Панфиловский проспект  дом 6А                    \n",
       "\n",
       "[230 rows x 12 columns]"
      ]
     },
     "execution_count": 263,
     "metadata": {},
     "output_type": "execute_result"
    }
   ],
   "source": [
    "rest_green = rest_data[rest_data['a0']=='город Зеленоград']\n",
    "rest_green"
   ]
  },
  {
   "cell_type": "code",
   "execution_count": 264,
   "metadata": {},
   "outputs": [],
   "source": [
    "rest_green_count = rest_green['object_type'].value_counts().reset_index()\n",
    "rest_green_count.columns= ['object_type','object_count']"
   ]
  },
  {
   "cell_type": "code",
   "execution_count": 265,
   "metadata": {},
   "outputs": [
    {
     "data": {
      "image/png": "[encoded data removed]"
     },
     "metadata": {},
     "output_type": "display_data"
    }
   ],
   "source": [
    "data = rest_green_count\n",
    "fig = px.bar(\n",
    "    data, x='object_type', y='object_count',\n",
    "    title='Cоотношение видов объектов общепита по количеству'\n",
    ")\n",
    "fig.update_xaxes(tickangle=45)\n",
    "fig.show('png') "
   ]
  },
  {
   "cell_type": "markdown",
   "metadata": {},
   "source": [
    "В отличие от общей картины по Москве здесь количество столовых превышает количество кафе."
   ]
  },
  {
   "cell_type": "code",
   "execution_count": 266,
   "metadata": {},
   "outputs": [
    {
     "data": {
      "text/html": [
       "<div>\n",
       "<style scoped>\n",
       "    .dataframe tbody tr th:only-of-type {\n",
       "        vertical-align: middle;\n",
       "    }\n",
       "\n",
       "    .dataframe tbody tr th {\n",
       "        vertical-align: top;\n",
       "    }\n",
       "\n",
       "    .dataframe thead th {\n",
       "        text-align: right;\n",
       "    }\n",
       "</style>\n",
       "<table border=\"1\" class=\"dataframe\">\n",
       "  <thead>\n",
       "    <tr style=\"text-align: right;\">\n",
       "      <th></th>\n",
       "      <th>chain</th>\n",
       "      <th>object_type</th>\n",
       "      <th>object_count</th>\n",
       "    </tr>\n",
       "  </thead>\n",
       "  <tbody>\n",
       "    <tr>\n",
       "      <td>12</td>\n",
       "      <td>нет</td>\n",
       "      <td>столовая</td>\n",
       "      <td>87</td>\n",
       "    </tr>\n",
       "    <tr>\n",
       "      <td>7</td>\n",
       "      <td>нет</td>\n",
       "      <td>кафе</td>\n",
       "      <td>54</td>\n",
       "    </tr>\n",
       "    <tr>\n",
       "      <td>8</td>\n",
       "      <td>нет</td>\n",
       "      <td>кафетерий</td>\n",
       "      <td>20</td>\n",
       "    </tr>\n",
       "    <tr>\n",
       "      <td>10</td>\n",
       "      <td>нет</td>\n",
       "      <td>предприятие быстрого обслуживания</td>\n",
       "      <td>10</td>\n",
       "    </tr>\n",
       "    <tr>\n",
       "      <td>5</td>\n",
       "      <td>нет</td>\n",
       "      <td>бар</td>\n",
       "      <td>9</td>\n",
       "    </tr>\n",
       "    <tr>\n",
       "      <td>11</td>\n",
       "      <td>нет</td>\n",
       "      <td>ресторан</td>\n",
       "      <td>9</td>\n",
       "    </tr>\n",
       "    <tr>\n",
       "      <td>6</td>\n",
       "      <td>нет</td>\n",
       "      <td>буфет</td>\n",
       "      <td>4</td>\n",
       "    </tr>\n",
       "    <tr>\n",
       "      <td>9</td>\n",
       "      <td>нет</td>\n",
       "      <td>магазин (отдел кулинарии)</td>\n",
       "      <td>1</td>\n",
       "    </tr>\n",
       "    <tr>\n",
       "      <td>3</td>\n",
       "      <td>да</td>\n",
       "      <td>предприятие быстрого обслуживания</td>\n",
       "      <td>15</td>\n",
       "    </tr>\n",
       "    <tr>\n",
       "      <td>1</td>\n",
       "      <td>да</td>\n",
       "      <td>кафе</td>\n",
       "      <td>13</td>\n",
       "    </tr>\n",
       "    <tr>\n",
       "      <td>4</td>\n",
       "      <td>да</td>\n",
       "      <td>ресторан</td>\n",
       "      <td>6</td>\n",
       "    </tr>\n",
       "    <tr>\n",
       "      <td>0</td>\n",
       "      <td>да</td>\n",
       "      <td>бар</td>\n",
       "      <td>1</td>\n",
       "    </tr>\n",
       "    <tr>\n",
       "      <td>2</td>\n",
       "      <td>да</td>\n",
       "      <td>кафетерий</td>\n",
       "      <td>1</td>\n",
       "    </tr>\n",
       "  </tbody>\n",
       "</table>\n",
       "</div>"
      ],
      "text/plain": [
       "   chain                        object_type  object_count\n",
       "12   нет                           столовая            87\n",
       "7    нет                               кафе            54\n",
       "8    нет                          кафетерий            20\n",
       "10   нет  предприятие быстрого обслуживания            10\n",
       "5    нет                                бар             9\n",
       "11   нет                           ресторан             9\n",
       "6    нет                              буфет             4\n",
       "9    нет          магазин (отдел кулинарии)             1\n",
       "3     да  предприятие быстрого обслуживания            15\n",
       "1     да                               кафе            13\n",
       "4     да                           ресторан             6\n",
       "0     да                                бар             1\n",
       "2     да                          кафетерий             1"
      ]
     },
     "execution_count": 266,
     "metadata": {},
     "output_type": "execute_result"
    }
   ],
   "source": [
    "rest_green_chain_count = rest_green.groupby(['chain','object_type'])['id'].count().reset_index()\n",
    "rest_green_chain_count.columns = ['chain','object_type','object_count']\n",
    "rest_green_chain_count = rest_green_chain_count.sort_values(by=['chain','object_count'],ascending = False)\n",
    "rest_green_chain_count"
   ]
  },
  {
   "cell_type": "code",
   "execution_count": 267,
   "metadata": {},
   "outputs": [
    {
     "data": {
      "text/html": [
       "<div>\n",
       "<style scoped>\n",
       "    .dataframe tbody tr th:only-of-type {\n",
       "        vertical-align: middle;\n",
       "    }\n",
       "\n",
       "    .dataframe tbody tr th {\n",
       "        vertical-align: top;\n",
       "    }\n",
       "\n",
       "    .dataframe thead th {\n",
       "        text-align: right;\n",
       "    }\n",
       "</style>\n",
       "<table border=\"1\" class=\"dataframe\">\n",
       "  <thead>\n",
       "    <tr style=\"text-align: right;\">\n",
       "      <th></th>\n",
       "      <th>object_type</th>\n",
       "      <th>object_chain_no</th>\n",
       "      <th>object_chain_yes</th>\n",
       "      <th>part_y</th>\n",
       "    </tr>\n",
       "  </thead>\n",
       "  <tbody>\n",
       "    <tr>\n",
       "      <td>0</td>\n",
       "      <td>кафе</td>\n",
       "      <td>54</td>\n",
       "      <td>13</td>\n",
       "      <td>0.19</td>\n",
       "    </tr>\n",
       "    <tr>\n",
       "      <td>1</td>\n",
       "      <td>кафетерий</td>\n",
       "      <td>20</td>\n",
       "      <td>1</td>\n",
       "      <td>0.05</td>\n",
       "    </tr>\n",
       "    <tr>\n",
       "      <td>2</td>\n",
       "      <td>предприятие быстрого обслуживания</td>\n",
       "      <td>10</td>\n",
       "      <td>15</td>\n",
       "      <td>0.60</td>\n",
       "    </tr>\n",
       "    <tr>\n",
       "      <td>3</td>\n",
       "      <td>бар</td>\n",
       "      <td>9</td>\n",
       "      <td>1</td>\n",
       "      <td>0.10</td>\n",
       "    </tr>\n",
       "    <tr>\n",
       "      <td>4</td>\n",
       "      <td>ресторан</td>\n",
       "      <td>9</td>\n",
       "      <td>6</td>\n",
       "      <td>0.40</td>\n",
       "    </tr>\n",
       "  </tbody>\n",
       "</table>\n",
       "</div>"
      ],
      "text/plain": [
       "                         object_type  object_chain_no  object_chain_yes  \\\n",
       "0                               кафе               54                13   \n",
       "1                          кафетерий               20                 1   \n",
       "2  предприятие быстрого обслуживания               10                15   \n",
       "3                                бар                9                 1   \n",
       "4                           ресторан                9                 6   \n",
       "\n",
       "   part_y  \n",
       "0    0.19  \n",
       "1    0.05  \n",
       "2    0.60  \n",
       "3    0.10  \n",
       "4    0.40  "
      ]
     },
     "execution_count": 267,
     "metadata": {},
     "output_type": "execute_result"
    }
   ],
   "source": [
    "chain_green_no = rest_green_chain_count[rest_green_chain_count['chain']=='нет']\n",
    "chain_green_no.columns = ['chain','object_type','object_chain_no']\n",
    "chain_green_yes = rest_green_chain_count[rest_green_chain_count['chain']=='да']\n",
    "chain_green_yes.columns = ['chain','object_type','object_chain_yes']\n",
    "marks_green_chain = chain_green_no.merge(chain_green_yes,on='object_type')\n",
    "marks_green_chain['part_y'] = (marks_green_chain['object_chain_yes']/(marks_green_chain['object_chain_no']+marks_green_chain['object_chain_yes'])).round(2)   \n",
    "marks_green_chain[['object_type','object_chain_no','object_chain_yes','part_y']]"
   ]
  },
  {
   "cell_type": "code",
   "execution_count": 268,
   "metadata": {},
   "outputs": [
    {
     "name": "stdout",
     "output_type": "stream",
     "text": [
      "Количество несетевых заведений= 102\n",
      "Количество сетевых заведений= 36\n"
     ]
    }
   ],
   "source": [
    "print('Количество несетевых заведений=',marks_green_chain['object_chain_no'].sum())\n",
    "print('Количество сетевых заведений=',marks_green_chain['object_chain_yes'].sum())"
   ]
  },
  {
   "cell_type": "code",
   "execution_count": 269,
   "metadata": {
    "scrolled": false
   },
   "outputs": [
    {
     "data": {
      "image/png": "[encoded data removed]"
     },
     "metadata": {},
     "output_type": "display_data"
    }
   ],
   "source": [
    "fig = px.bar(\n",
    "    rest_green_chain_count,\n",
    "    x='object_type',\n",
    "    y='object_count',\n",
    "    color='chain',\n",
    "    title='Cоотношение видов объектов общепита по параметру chain'\n",
    ")\n",
    "fig.update_xaxes(tickangle=45)\n",
    "fig.show('png')"
   ]
  },
  {
   "cell_type": "code",
   "execution_count": 270,
   "metadata": {},
   "outputs": [
    {
     "data": {
      "text/html": [
       "<div>\n",
       "<style scoped>\n",
       "    .dataframe tbody tr th:only-of-type {\n",
       "        vertical-align: middle;\n",
       "    }\n",
       "\n",
       "    .dataframe tbody tr th {\n",
       "        vertical-align: top;\n",
       "    }\n",
       "\n",
       "    .dataframe thead th {\n",
       "        text-align: right;\n",
       "    }\n",
       "</style>\n",
       "<table border=\"1\" class=\"dataframe\">\n",
       "  <thead>\n",
       "    <tr style=\"text-align: right;\">\n",
       "      <th></th>\n",
       "      <th>object_type</th>\n",
       "      <th>number</th>\n",
       "    </tr>\n",
       "  </thead>\n",
       "  <tbody>\n",
       "    <tr>\n",
       "      <td>7</td>\n",
       "      <td>столовая</td>\n",
       "      <td>100</td>\n",
       "    </tr>\n",
       "    <tr>\n",
       "      <td>6</td>\n",
       "      <td>ресторан</td>\n",
       "      <td>90</td>\n",
       "    </tr>\n",
       "    <tr>\n",
       "      <td>0</td>\n",
       "      <td>бар</td>\n",
       "      <td>49</td>\n",
       "    </tr>\n",
       "    <tr>\n",
       "      <td>2</td>\n",
       "      <td>кафе</td>\n",
       "      <td>35</td>\n",
       "    </tr>\n",
       "    <tr>\n",
       "      <td>5</td>\n",
       "      <td>предприятие быстрого обслуживания</td>\n",
       "      <td>30</td>\n",
       "    </tr>\n",
       "    <tr>\n",
       "      <td>1</td>\n",
       "      <td>буфет</td>\n",
       "      <td>7</td>\n",
       "    </tr>\n",
       "    <tr>\n",
       "      <td>3</td>\n",
       "      <td>кафетерий</td>\n",
       "      <td>6</td>\n",
       "    </tr>\n",
       "    <tr>\n",
       "      <td>4</td>\n",
       "      <td>магазин (отдел кулинарии)</td>\n",
       "      <td>0</td>\n",
       "    </tr>\n",
       "  </tbody>\n",
       "</table>\n",
       "</div>"
      ],
      "text/plain": [
       "                         object_type  number\n",
       "7                           столовая     100\n",
       "6                           ресторан      90\n",
       "0                                бар      49\n",
       "2                               кафе      35\n",
       "5  предприятие быстрого обслуживания      30\n",
       "1                              буфет       7\n",
       "3                          кафетерий       6\n",
       "4          магазин (отдел кулинарии)       0"
      ]
     },
     "execution_count": 270,
     "metadata": {},
     "output_type": "execute_result"
    }
   ],
   "source": [
    "numbers_green=rest_green.groupby('object_type')['number'].median().reset_index()\n",
    "numbers_green.columns=['object_type','number']\n",
    "numbers_green=numbers_green.sort_values(by='number',ascending=False)\n",
    "numbers_green"
   ]
  },
  {
   "cell_type": "code",
   "execution_count": 271,
   "metadata": {},
   "outputs": [
    {
     "data": {
      "image/png": "[encoded data removed]",
      "text/plain": [
       "<Figure size 432x288 with 1 Axes>"
      ]
     },
     "metadata": {
      "needs_background": "light"
     },
     "output_type": "display_data"
    }
   ],
   "source": [
    "sns.barplot(x='number', y='object_type', data=numbers_green).set_title('Среднее(медиана) количесво посадочных мест в зависимости от типа заведения');"
   ]
  },
  {
   "cell_type": "markdown",
   "metadata": {},
   "source": [
    "## Заключение"
   ]
  },
  {
   "cell_type": "markdown",
   "metadata": {},
   "source": [
    "Как видно на полученных графиках, они отличаются от общей картины по Москве. На первом месте здесь находятся столовые (в основном студенческие и школьные), кафе на втором месте, а предприятия быстрого обслуживания - на третьем месте, причем большая часть представлена в сетевом варианте,  и все равно их меньше вполовину, чем кафе. Причем в отличие от общей ситуации по Москве здесь отсутствуют закусочные, а магазин-кулинария всего 1. Тоже вариант: из автомата при кафе можно продавать упакованные салатики, выпечку и полуфабрикаты. "
   ]
  },
  {
   "cell_type": "markdown",
   "metadata": {},
   "source": [
    "По аналогии с Москвой можно посмотреть топ10 улиц, но это будет не очень точно, потому что многие адреса представлены только номером корпуса, возможно, учебного. Или может в Зеленограде все уже оцифровано и робототизировано?"
   ]
  },
  {
   "cell_type": "code",
   "execution_count": 272,
   "metadata": {},
   "outputs": [
    {
     "data": {
      "text/html": [
       "<div>\n",
       "<style scoped>\n",
       "    .dataframe tbody tr th:only-of-type {\n",
       "        vertical-align: middle;\n",
       "    }\n",
       "\n",
       "    .dataframe tbody tr th {\n",
       "        vertical-align: top;\n",
       "    }\n",
       "\n",
       "    .dataframe thead th {\n",
       "        text-align: right;\n",
       "    }\n",
       "</style>\n",
       "<table border=\"1\" class=\"dataframe\">\n",
       "  <thead>\n",
       "    <tr style=\"text-align: right;\">\n",
       "      <th></th>\n",
       "      <th>street</th>\n",
       "      <th>count</th>\n",
       "    </tr>\n",
       "  </thead>\n",
       "  <tbody>\n",
       "    <tr>\n",
       "      <td>6</td>\n",
       "      <td>Крюковская площадь</td>\n",
       "      <td>11</td>\n",
       "    </tr>\n",
       "    <tr>\n",
       "      <td>10</td>\n",
       "      <td>Панфиловский проспект</td>\n",
       "      <td>9</td>\n",
       "    </tr>\n",
       "    <tr>\n",
       "      <td>130</td>\n",
       "      <td>проспект Генерала Алексеева</td>\n",
       "      <td>7</td>\n",
       "    </tr>\n",
       "    <tr>\n",
       "      <td>127</td>\n",
       "      <td>площадь Юности</td>\n",
       "      <td>7</td>\n",
       "    </tr>\n",
       "    <tr>\n",
       "      <td>15</td>\n",
       "      <td>Сосновая аллея</td>\n",
       "      <td>6</td>\n",
       "    </tr>\n",
       "    <tr>\n",
       "      <td>13</td>\n",
       "      <td>Савёлкинский проезд</td>\n",
       "      <td>6</td>\n",
       "    </tr>\n",
       "    <tr>\n",
       "      <td>0</td>\n",
       "      <td>1-й Западный проезд</td>\n",
       "      <td>5</td>\n",
       "    </tr>\n",
       "    <tr>\n",
       "      <td>126</td>\n",
       "      <td>площадь Шокина</td>\n",
       "      <td>5</td>\n",
       "    </tr>\n",
       "    <tr>\n",
       "      <td>135</td>\n",
       "      <td>улица Юности</td>\n",
       "      <td>5</td>\n",
       "    </tr>\n",
       "    <tr>\n",
       "      <td>8</td>\n",
       "      <td>Новокрюковская улица</td>\n",
       "      <td>5</td>\n",
       "    </tr>\n",
       "  </tbody>\n",
       "</table>\n",
       "</div>"
      ],
      "text/plain": [
       "                          street  count\n",
       "6             Крюковская площадь     11\n",
       "10         Панфиловский проспект      9\n",
       "130  проспект Генерала Алексеева      7\n",
       "127               площадь Юности      7\n",
       "15                Сосновая аллея      6\n",
       "13           Савёлкинский проезд      6\n",
       "0            1-й Западный проезд      5\n",
       "126               площадь Шокина      5\n",
       "135                 улица Юности      5\n",
       "8           Новокрюковская улица      5"
      ]
     },
     "execution_count": 272,
     "metadata": {},
     "output_type": "execute_result"
    }
   ],
   "source": [
    "groupped_streets_z=rest_green.groupby(['a1'])['id'].count().reset_index()\n",
    "groupped_streets_z.columns=['street','count']\n",
    "groupped_streets_z.sort_values(by='count',ascending=False).head(10)"
   ]
  },
  {
   "cell_type": "markdown",
   "metadata": {},
   "source": [
    "Полученные данные по Зеленограду подтверждают, что можно рассмотреть этот вариант базирования как вероятный."
   ]
  },
  {
   "cell_type": "markdown",
   "metadata": {},
   "source": [
    "Презентация исследования для инвесторов. Когда получила задание, думала, что кафе с роботами - это шутка. Оказывается такие уже существуют.  "
   ]
  },
  {
   "cell_type": "markdown",
   "metadata": {},
   "source": [
    "Презентация:https://disk.yandex.ru/i/oD3Ka3CV_eyX7Q"
   ]
  },
  {
   "cell_type": "code",
   "execution_count": null,
   "metadata": {},
   "outputs": [],
   "source": []
  }
 ],
 "metadata": {
  "ExecuteTimeLog": [
   {
    "duration": 627,
    "start_time": "2021-09-05T15:58:45.306Z"
   },
   {
    "duration": 54,
    "start_time": "2021-09-05T15:58:45.934Z"
   },
   {
    "duration": 20,
    "start_time": "2021-09-05T15:59:03.120Z"
   },
   {
    "duration": 11,
    "start_time": "2021-09-05T17:19:09.082Z"
   },
   {
    "duration": 406,
    "start_time": "2021-09-05T18:54:55.717Z"
   },
   {
    "duration": 13,
    "start_time": "2021-09-05T18:55:33.194Z"
   },
   {
    "duration": 7,
    "start_time": "2021-09-05T18:56:52.599Z"
   },
   {
    "duration": 295,
    "start_time": "2021-09-06T16:19:51.505Z"
   },
   {
    "duration": 657,
    "start_time": "2021-09-06T16:23:26.135Z"
   },
   {
    "duration": 46,
    "start_time": "2021-09-06T16:23:26.794Z"
   },
   {
    "duration": 14,
    "start_time": "2021-09-06T16:23:26.842Z"
   },
   {
    "duration": 12,
    "start_time": "2021-09-06T16:23:26.858Z"
   },
   {
    "duration": 6,
    "start_time": "2021-09-06T16:23:26.872Z"
   },
   {
    "duration": 294,
    "start_time": "2021-09-06T16:23:26.880Z"
   },
   {
    "duration": 163,
    "start_time": "2021-09-06T16:23:54.934Z"
   },
   {
    "duration": 201,
    "start_time": "2021-09-06T16:31:36.134Z"
   },
   {
    "duration": 281,
    "start_time": "2021-09-06T16:48:43.159Z"
   },
   {
    "duration": 264,
    "start_time": "2021-09-06T16:49:15.984Z"
   },
   {
    "duration": 462,
    "start_time": "2021-09-06T16:49:44.994Z"
   },
   {
    "duration": 48,
    "start_time": "2021-09-06T16:49:45.458Z"
   },
   {
    "duration": 12,
    "start_time": "2021-09-06T16:49:45.508Z"
   },
   {
    "duration": 9,
    "start_time": "2021-09-06T16:49:45.521Z"
   },
   {
    "duration": 8,
    "start_time": "2021-09-06T16:49:45.532Z"
   },
   {
    "duration": 201,
    "start_time": "2021-09-06T16:49:45.542Z"
   },
   {
    "duration": 281,
    "start_time": "2021-09-06T16:49:45.745Z"
   },
   {
    "duration": 3,
    "start_time": "2021-09-06T16:50:07.339Z"
   },
   {
    "duration": 50,
    "start_time": "2021-09-06T16:50:07.344Z"
   },
   {
    "duration": 12,
    "start_time": "2021-09-06T16:50:07.396Z"
   },
   {
    "duration": 10,
    "start_time": "2021-09-06T16:50:07.409Z"
   },
   {
    "duration": 6,
    "start_time": "2021-09-06T16:50:07.420Z"
   },
   {
    "duration": 256,
    "start_time": "2021-09-06T16:50:07.428Z"
   },
   {
    "duration": 263,
    "start_time": "2021-09-06T16:50:07.686Z"
   },
   {
    "duration": 607,
    "start_time": "2021-09-06T16:50:36.237Z"
   },
   {
    "duration": 312,
    "start_time": "2021-09-06T16:52:11.862Z"
   },
   {
    "duration": 222,
    "start_time": "2021-09-06T16:58:24.087Z"
   },
   {
    "duration": 355,
    "start_time": "2021-09-06T16:58:50.140Z"
   },
   {
    "duration": 101,
    "start_time": "2021-09-06T17:04:35.171Z"
   },
   {
    "duration": 307,
    "start_time": "2021-09-06T17:04:49.787Z"
   },
   {
    "duration": 276,
    "start_time": "2021-09-06T17:07:51.226Z"
   },
   {
    "duration": 296,
    "start_time": "2021-09-06T17:10:04.215Z"
   },
   {
    "duration": 314,
    "start_time": "2021-09-06T17:25:40.642Z"
   },
   {
    "duration": 281,
    "start_time": "2021-09-06T17:27:47.155Z"
   },
   {
    "duration": 1074,
    "start_time": "2021-09-06T17:28:56.309Z"
   },
   {
    "duration": 1089,
    "start_time": "2021-09-06T17:29:45.506Z"
   },
   {
    "duration": 92,
    "start_time": "2021-09-06T17:38:59.465Z"
   },
   {
    "duration": 1125,
    "start_time": "2021-09-06T17:39:14.434Z"
   },
   {
    "duration": 9,
    "start_time": "2021-09-06T17:41:02.596Z"
   },
   {
    "duration": 273,
    "start_time": "2021-09-06T17:42:11.156Z"
   },
   {
    "duration": 9,
    "start_time": "2021-09-06T17:44:34.109Z"
   },
   {
    "duration": 270,
    "start_time": "2021-09-06T17:47:44.584Z"
   },
   {
    "duration": 271,
    "start_time": "2021-09-06T17:48:09.176Z"
   },
   {
    "duration": 319,
    "start_time": "2021-09-06T17:49:42.911Z"
   },
   {
    "duration": 263,
    "start_time": "2021-09-06T17:53:08.445Z"
   },
   {
    "duration": 1091,
    "start_time": "2021-09-06T17:55:09.637Z"
   },
   {
    "duration": 270,
    "start_time": "2021-09-06T17:56:25.239Z"
   },
   {
    "duration": 3,
    "start_time": "2021-09-06T17:57:09.123Z"
   },
   {
    "duration": 51,
    "start_time": "2021-09-06T17:57:09.128Z"
   },
   {
    "duration": 12,
    "start_time": "2021-09-06T17:57:09.181Z"
   },
   {
    "duration": 13,
    "start_time": "2021-09-06T17:57:09.194Z"
   },
   {
    "duration": 7,
    "start_time": "2021-09-06T17:57:09.209Z"
   },
   {
    "duration": 231,
    "start_time": "2021-09-06T17:57:09.277Z"
   },
   {
    "duration": 321,
    "start_time": "2021-09-06T17:57:09.510Z"
   },
   {
    "duration": -28,
    "start_time": "2021-09-06T17:57:09.862Z"
   },
   {
    "duration": 9,
    "start_time": "2021-09-06T17:57:21.013Z"
   },
   {
    "duration": 290,
    "start_time": "2021-09-06T17:58:06.302Z"
   },
   {
    "duration": 9,
    "start_time": "2021-09-06T18:13:07.180Z"
   },
   {
    "duration": 10,
    "start_time": "2021-09-06T18:16:55.081Z"
   },
   {
    "duration": 278,
    "start_time": "2021-09-06T18:17:37.089Z"
   },
   {
    "duration": 333,
    "start_time": "2021-09-06T18:19:20.338Z"
   },
   {
    "duration": 16,
    "start_time": "2021-09-06T18:25:45.317Z"
   },
   {
    "duration": 18,
    "start_time": "2021-09-06T18:27:26.883Z"
   },
   {
    "duration": 18,
    "start_time": "2021-09-06T18:27:34.003Z"
   },
   {
    "duration": 315,
    "start_time": "2021-09-06T18:29:28.675Z"
   },
   {
    "duration": 19,
    "start_time": "2021-09-06T18:33:38.681Z"
   },
   {
    "duration": 313,
    "start_time": "2021-09-06T18:33:46.771Z"
   },
   {
    "duration": 357,
    "start_time": "2021-09-06T18:34:28.523Z"
   },
   {
    "duration": 945,
    "start_time": "2021-09-07T10:33:47.492Z"
   },
   {
    "duration": 48,
    "start_time": "2021-09-07T10:33:48.439Z"
   },
   {
    "duration": 17,
    "start_time": "2021-09-07T10:33:48.489Z"
   },
   {
    "duration": 11,
    "start_time": "2021-09-07T10:33:48.508Z"
   },
   {
    "duration": 5,
    "start_time": "2021-09-07T10:33:48.521Z"
   },
   {
    "duration": 373,
    "start_time": "2021-09-07T10:33:48.527Z"
   },
   {
    "duration": 291,
    "start_time": "2021-09-07T10:33:48.611Z"
   },
   {
    "duration": 291,
    "start_time": "2021-09-07T10:33:48.613Z"
   },
   {
    "duration": 289,
    "start_time": "2021-09-07T10:33:48.615Z"
   },
   {
    "duration": 290,
    "start_time": "2021-09-07T10:33:48.616Z"
   },
   {
    "duration": 3,
    "start_time": "2021-09-07T10:35:14.667Z"
   },
   {
    "duration": 3,
    "start_time": "2021-09-07T10:35:18.690Z"
   },
   {
    "duration": 58,
    "start_time": "2021-09-07T10:35:18.695Z"
   },
   {
    "duration": 13,
    "start_time": "2021-09-07T10:35:18.755Z"
   },
   {
    "duration": 13,
    "start_time": "2021-09-07T10:35:18.770Z"
   },
   {
    "duration": 7,
    "start_time": "2021-09-07T10:35:18.784Z"
   },
   {
    "duration": 275,
    "start_time": "2021-09-07T10:35:18.793Z"
   },
   {
    "duration": 282,
    "start_time": "2021-09-07T10:35:18.788Z"
   },
   {
    "duration": 280,
    "start_time": "2021-09-07T10:35:18.791Z"
   },
   {
    "duration": 277,
    "start_time": "2021-09-07T10:35:18.795Z"
   },
   {
    "duration": 276,
    "start_time": "2021-09-07T10:35:18.797Z"
   },
   {
    "duration": 3,
    "start_time": "2021-09-07T10:35:40.986Z"
   },
   {
    "duration": 50,
    "start_time": "2021-09-07T10:35:40.991Z"
   },
   {
    "duration": 12,
    "start_time": "2021-09-07T10:35:41.043Z"
   },
   {
    "duration": 10,
    "start_time": "2021-09-07T10:35:41.056Z"
   },
   {
    "duration": 5,
    "start_time": "2021-09-07T10:35:41.068Z"
   },
   {
    "duration": 267,
    "start_time": "2021-09-07T10:35:41.074Z"
   },
   {
    "duration": 263,
    "start_time": "2021-09-07T10:35:41.080Z"
   },
   {
    "duration": 263,
    "start_time": "2021-09-07T10:35:41.081Z"
   },
   {
    "duration": 263,
    "start_time": "2021-09-07T10:35:41.083Z"
   },
   {
    "duration": 263,
    "start_time": "2021-09-07T10:35:41.084Z"
   },
   {
    "duration": 3,
    "start_time": "2021-09-07T10:37:09.329Z"
   },
   {
    "duration": 57,
    "start_time": "2021-09-07T10:37:09.334Z"
   },
   {
    "duration": 12,
    "start_time": "2021-09-07T10:37:09.393Z"
   },
   {
    "duration": 12,
    "start_time": "2021-09-07T10:37:09.407Z"
   },
   {
    "duration": 5,
    "start_time": "2021-09-07T10:37:09.421Z"
   },
   {
    "duration": 314,
    "start_time": "2021-09-07T10:37:09.427Z"
   },
   {
    "duration": 289,
    "start_time": "2021-09-07T10:37:09.454Z"
   },
   {
    "duration": 288,
    "start_time": "2021-09-07T10:37:09.456Z"
   },
   {
    "duration": 286,
    "start_time": "2021-09-07T10:37:09.459Z"
   },
   {
    "duration": 286,
    "start_time": "2021-09-07T10:37:09.460Z"
   },
   {
    "duration": 2,
    "start_time": "2021-09-07T10:41:09.157Z"
   },
   {
    "duration": 47,
    "start_time": "2021-09-07T10:41:09.161Z"
   },
   {
    "duration": 11,
    "start_time": "2021-09-07T10:41:09.210Z"
   },
   {
    "duration": 12,
    "start_time": "2021-09-07T10:41:09.223Z"
   },
   {
    "duration": 5,
    "start_time": "2021-09-07T10:41:09.237Z"
   },
   {
    "duration": 285,
    "start_time": "2021-09-07T10:41:09.243Z"
   },
   {
    "duration": 273,
    "start_time": "2021-09-07T10:41:09.257Z"
   },
   {
    "duration": 270,
    "start_time": "2021-09-07T10:41:09.262Z"
   },
   {
    "duration": 269,
    "start_time": "2021-09-07T10:41:09.264Z"
   },
   {
    "duration": 268,
    "start_time": "2021-09-07T10:41:09.266Z"
   },
   {
    "duration": 3,
    "start_time": "2021-09-07T10:45:30.210Z"
   },
   {
    "duration": 51,
    "start_time": "2021-09-07T10:45:30.215Z"
   },
   {
    "duration": 12,
    "start_time": "2021-09-07T10:45:30.268Z"
   },
   {
    "duration": 11,
    "start_time": "2021-09-07T10:45:30.282Z"
   },
   {
    "duration": 14,
    "start_time": "2021-09-07T10:45:30.294Z"
   },
   {
    "duration": 292,
    "start_time": "2021-09-07T10:45:30.310Z"
   },
   {
    "duration": 275,
    "start_time": "2021-09-07T10:45:30.328Z"
   },
   {
    "duration": 273,
    "start_time": "2021-09-07T10:45:30.331Z"
   },
   {
    "duration": 270,
    "start_time": "2021-09-07T10:45:30.335Z"
   },
   {
    "duration": 268,
    "start_time": "2021-09-07T10:45:30.338Z"
   },
   {
    "duration": 311,
    "start_time": "2021-09-07T10:46:43.326Z"
   },
   {
    "duration": 248,
    "start_time": "2021-09-07T10:51:28.347Z"
   },
   {
    "duration": 1378,
    "start_time": "2021-09-07T10:52:17.740Z"
   },
   {
    "duration": 3,
    "start_time": "2021-09-07T10:52:29.763Z"
   },
   {
    "duration": 48,
    "start_time": "2021-09-07T10:52:29.767Z"
   },
   {
    "duration": 10,
    "start_time": "2021-09-07T10:52:29.817Z"
   },
   {
    "duration": 12,
    "start_time": "2021-09-07T10:52:29.829Z"
   },
   {
    "duration": 4,
    "start_time": "2021-09-07T10:52:29.842Z"
   },
   {
    "duration": 1459,
    "start_time": "2021-09-07T10:52:29.847Z"
   },
   {
    "duration": 6,
    "start_time": "2021-09-07T10:52:31.308Z"
   },
   {
    "duration": 663,
    "start_time": "2021-09-07T10:52:31.316Z"
   },
   {
    "duration": 18,
    "start_time": "2021-09-07T10:52:31.986Z"
   },
   {
    "duration": 301,
    "start_time": "2021-09-07T10:52:32.042Z"
   },
   {
    "duration": 87,
    "start_time": "2021-09-07T10:53:28.033Z"
   },
   {
    "duration": 93,
    "start_time": "2021-09-07T10:54:55.413Z"
   },
   {
    "duration": 84,
    "start_time": "2021-09-07T10:55:12.227Z"
   },
   {
    "duration": 988,
    "start_time": "2021-09-07T10:57:23.617Z"
   },
   {
    "duration": 47,
    "start_time": "2021-09-07T10:57:24.607Z"
   },
   {
    "duration": 16,
    "start_time": "2021-09-07T10:57:24.656Z"
   },
   {
    "duration": 10,
    "start_time": "2021-09-07T10:57:24.674Z"
   },
   {
    "duration": 6,
    "start_time": "2021-09-07T10:57:24.686Z"
   },
   {
    "duration": 92,
    "start_time": "2021-09-07T10:57:24.694Z"
   },
   {
    "duration": 267,
    "start_time": "2021-09-07T10:57:24.521Z"
   },
   {
    "duration": 263,
    "start_time": "2021-09-07T10:57:24.526Z"
   },
   {
    "duration": 263,
    "start_time": "2021-09-07T10:57:24.528Z"
   },
   {
    "duration": 262,
    "start_time": "2021-09-07T10:57:24.530Z"
   },
   {
    "duration": 11,
    "start_time": "2021-09-07T10:57:54.609Z"
   },
   {
    "duration": 11,
    "start_time": "2021-09-07T10:58:19.855Z"
   },
   {
    "duration": 4,
    "start_time": "2021-09-07T10:58:31.128Z"
   },
   {
    "duration": 8,
    "start_time": "2021-09-07T10:59:25.097Z"
   },
   {
    "duration": 14,
    "start_time": "2021-09-07T11:02:11.874Z"
   },
   {
    "duration": 14,
    "start_time": "2021-09-07T11:03:07.867Z"
   },
   {
    "duration": 14,
    "start_time": "2021-09-07T11:03:36.443Z"
   },
   {
    "duration": 2,
    "start_time": "2021-09-07T11:03:47.379Z"
   },
   {
    "duration": 49,
    "start_time": "2021-09-07T11:03:47.383Z"
   },
   {
    "duration": 11,
    "start_time": "2021-09-07T11:03:47.434Z"
   },
   {
    "duration": 11,
    "start_time": "2021-09-07T11:03:47.447Z"
   },
   {
    "duration": 17,
    "start_time": "2021-09-07T11:03:47.460Z"
   },
   {
    "duration": 22,
    "start_time": "2021-09-07T11:03:47.479Z"
   },
   {
    "duration": 32,
    "start_time": "2021-09-07T11:03:47.503Z"
   },
   {
    "duration": 644,
    "start_time": "2021-09-07T11:03:47.537Z"
   },
   {
    "duration": 18,
    "start_time": "2021-09-07T11:03:48.183Z"
   },
   {
    "duration": 448,
    "start_time": "2021-09-07T11:03:48.202Z"
   },
   {
    "duration": 17,
    "start_time": "2021-09-07T11:04:35.450Z"
   },
   {
    "duration": 12,
    "start_time": "2021-09-07T11:05:49.038Z"
   },
   {
    "duration": 415,
    "start_time": "2021-09-07T11:07:24.435Z"
   },
   {
    "duration": 268,
    "start_time": "2021-09-07T11:07:57.027Z"
   },
   {
    "duration": 285,
    "start_time": "2021-09-07T11:09:12.628Z"
   },
   {
    "duration": 1448,
    "start_time": "2021-09-07T11:09:29.149Z"
   },
   {
    "duration": 47,
    "start_time": "2021-09-07T11:09:30.599Z"
   },
   {
    "duration": 14,
    "start_time": "2021-09-07T11:09:30.648Z"
   },
   {
    "duration": 14,
    "start_time": "2021-09-07T11:09:30.664Z"
   },
   {
    "duration": 9,
    "start_time": "2021-09-07T11:09:30.680Z"
   },
   {
    "duration": 371,
    "start_time": "2021-09-07T11:09:30.691Z"
   },
   {
    "duration": 282,
    "start_time": "2021-09-07T11:09:30.782Z"
   },
   {
    "duration": 279,
    "start_time": "2021-09-07T11:09:30.786Z"
   },
   {
    "duration": 278,
    "start_time": "2021-09-07T11:09:30.788Z"
   },
   {
    "duration": 265,
    "start_time": "2021-09-07T11:09:30.801Z"
   },
   {
    "duration": 266,
    "start_time": "2021-09-07T11:11:37.881Z"
   },
   {
    "duration": 1457,
    "start_time": "2021-09-07T11:11:49.616Z"
   },
   {
    "duration": 8,
    "start_time": "2021-09-07T11:12:05.859Z"
   },
   {
    "duration": 1411,
    "start_time": "2021-09-07T11:12:35.875Z"
   },
   {
    "duration": 2,
    "start_time": "2021-09-07T11:12:49.309Z"
   },
   {
    "duration": 52,
    "start_time": "2021-09-07T11:12:49.313Z"
   },
   {
    "duration": 13,
    "start_time": "2021-09-07T11:12:49.367Z"
   },
   {
    "duration": 12,
    "start_time": "2021-09-07T11:12:49.382Z"
   },
   {
    "duration": 7,
    "start_time": "2021-09-07T11:12:49.396Z"
   },
   {
    "duration": 1479,
    "start_time": "2021-09-07T11:12:49.405Z"
   },
   {
    "duration": 6,
    "start_time": "2021-09-07T11:12:50.886Z"
   },
   {
    "duration": 681,
    "start_time": "2021-09-07T11:12:50.894Z"
   },
   {
    "duration": 18,
    "start_time": "2021-09-07T11:12:51.577Z"
   },
   {
    "duration": 360,
    "start_time": "2021-09-07T11:12:51.596Z"
   },
   {
    "duration": 1443,
    "start_time": "2021-09-07T11:13:52.998Z"
   },
   {
    "duration": 3,
    "start_time": "2021-09-07T11:14:59.200Z"
   },
   {
    "duration": 48,
    "start_time": "2021-09-07T11:14:59.204Z"
   },
   {
    "duration": 11,
    "start_time": "2021-09-07T11:14:59.254Z"
   },
   {
    "duration": 11,
    "start_time": "2021-09-07T11:14:59.266Z"
   },
   {
    "duration": 1417,
    "start_time": "2021-09-07T11:14:59.279Z"
   },
   {
    "duration": 6,
    "start_time": "2021-09-07T11:15:00.697Z"
   },
   {
    "duration": 341,
    "start_time": "2021-09-07T11:15:00.706Z"
   },
   {
    "duration": 19,
    "start_time": "2021-09-07T11:15:01.049Z"
   },
   {
    "duration": 360,
    "start_time": "2021-09-07T11:15:01.070Z"
   },
   {
    "duration": 12,
    "start_time": "2021-09-07T11:16:40.199Z"
   },
   {
    "duration": 310,
    "start_time": "2021-09-07T11:22:52.371Z"
   },
   {
    "duration": 12,
    "start_time": "2021-09-07T11:24:35.393Z"
   },
   {
    "duration": 11,
    "start_time": "2021-09-07T11:24:45.825Z"
   },
   {
    "duration": 85,
    "start_time": "2021-09-07T11:25:08.427Z"
   },
   {
    "duration": 273,
    "start_time": "2021-09-07T11:34:11.452Z"
   },
   {
    "duration": 263,
    "start_time": "2021-09-07T11:34:43.707Z"
   },
   {
    "duration": 4,
    "start_time": "2021-09-07T11:43:54.151Z"
   },
   {
    "duration": 265,
    "start_time": "2021-09-07T11:43:58.460Z"
   },
   {
    "duration": 951,
    "start_time": "2021-09-07T11:44:43.199Z"
   },
   {
    "duration": 46,
    "start_time": "2021-09-07T11:44:44.152Z"
   },
   {
    "duration": 15,
    "start_time": "2021-09-07T11:44:44.200Z"
   },
   {
    "duration": 13,
    "start_time": "2021-09-07T11:44:44.217Z"
   },
   {
    "duration": 4,
    "start_time": "2021-09-07T11:44:44.231Z"
   },
   {
    "duration": 353,
    "start_time": "2021-09-07T11:44:44.237Z"
   },
   {
    "duration": 305,
    "start_time": "2021-09-07T11:44:44.287Z"
   },
   {
    "duration": 289,
    "start_time": "2021-09-07T11:44:44.304Z"
   },
   {
    "duration": 287,
    "start_time": "2021-09-07T11:44:44.307Z"
   },
   {
    "duration": 279,
    "start_time": "2021-09-07T11:44:44.316Z"
   },
   {
    "duration": 272,
    "start_time": "2021-09-07T11:44:44.324Z"
   },
   {
    "duration": 2,
    "start_time": "2021-09-07T14:13:01.250Z"
   },
   {
    "duration": 65,
    "start_time": "2021-09-07T14:13:01.254Z"
   },
   {
    "duration": 12,
    "start_time": "2021-09-07T14:13:01.321Z"
   },
   {
    "duration": 25,
    "start_time": "2021-09-07T14:13:01.334Z"
   },
   {
    "duration": 294,
    "start_time": "2021-09-07T14:13:01.360Z"
   },
   {
    "duration": 324,
    "start_time": "2021-09-07T14:13:01.332Z"
   },
   {
    "duration": 324,
    "start_time": "2021-09-07T14:13:01.333Z"
   },
   {
    "duration": 318,
    "start_time": "2021-09-07T14:13:01.339Z"
   },
   {
    "duration": 287,
    "start_time": "2021-09-07T14:13:01.371Z"
   },
   {
    "duration": 286,
    "start_time": "2021-09-07T14:13:01.373Z"
   },
   {
    "duration": 261,
    "start_time": "2021-09-07T14:13:47.740Z"
   },
   {
    "duration": 3,
    "start_time": "2021-09-07T14:13:57.173Z"
   },
   {
    "duration": 55,
    "start_time": "2021-09-07T14:13:57.178Z"
   },
   {
    "duration": 12,
    "start_time": "2021-09-07T14:13:57.236Z"
   },
   {
    "duration": 13,
    "start_time": "2021-09-07T14:13:57.250Z"
   },
   {
    "duration": 270,
    "start_time": "2021-09-07T14:13:57.265Z"
   },
   {
    "duration": 325,
    "start_time": "2021-09-07T14:13:57.212Z"
   },
   {
    "duration": 324,
    "start_time": "2021-09-07T14:13:57.214Z"
   },
   {
    "duration": 323,
    "start_time": "2021-09-07T14:13:57.216Z"
   },
   {
    "duration": 322,
    "start_time": "2021-09-07T14:13:57.218Z"
   },
   {
    "duration": 321,
    "start_time": "2021-09-07T14:13:57.219Z"
   },
   {
    "duration": 267,
    "start_time": "2021-09-07T14:14:24.489Z"
   },
   {
    "duration": 4,
    "start_time": "2021-09-07T14:14:39.593Z"
   },
   {
    "duration": 3288,
    "start_time": "2021-09-07T14:14:44.802Z"
   },
   {
    "duration": 1246,
    "start_time": "2021-09-07T14:17:05.347Z"
   },
   {
    "duration": 5,
    "start_time": "2021-09-07T14:18:18.093Z"
   },
   {
    "duration": 4356,
    "start_time": "2021-09-07T14:18:21.211Z"
   },
   {
    "duration": 7,
    "start_time": "2021-09-07T14:21:38.578Z"
   },
   {
    "duration": 1288,
    "start_time": "2021-09-07T14:21:42.730Z"
   },
   {
    "duration": 970,
    "start_time": "2021-09-07T14:24:14.874Z"
   },
   {
    "duration": 46,
    "start_time": "2021-09-07T14:24:15.846Z"
   },
   {
    "duration": 15,
    "start_time": "2021-09-07T14:24:15.894Z"
   },
   {
    "duration": 34,
    "start_time": "2021-09-07T14:24:15.910Z"
   },
   {
    "duration": 31,
    "start_time": "2021-09-07T14:24:15.945Z"
   },
   {
    "duration": 1335,
    "start_time": "2021-09-07T14:24:15.977Z"
   },
   {
    "duration": 276,
    "start_time": "2021-09-07T14:24:17.038Z"
   },
   {
    "duration": 273,
    "start_time": "2021-09-07T14:24:17.042Z"
   },
   {
    "duration": 271,
    "start_time": "2021-09-07T14:24:17.045Z"
   },
   {
    "duration": 270,
    "start_time": "2021-09-07T14:24:17.047Z"
   },
   {
    "duration": 6,
    "start_time": "2021-09-07T14:26:29.466Z"
   },
   {
    "duration": 1191,
    "start_time": "2021-09-07T14:26:32.452Z"
   },
   {
    "duration": 1356,
    "start_time": "2021-09-07T14:29:08.829Z"
   },
   {
    "duration": 4,
    "start_time": "2021-09-07T14:30:21.518Z"
   },
   {
    "duration": 1444,
    "start_time": "2021-09-07T14:30:41.052Z"
   },
   {
    "duration": 5,
    "start_time": "2021-09-07T14:32:06.901Z"
   },
   {
    "duration": 1253,
    "start_time": "2021-09-07T14:34:01.565Z"
   },
   {
    "duration": 2581,
    "start_time": "2021-09-07T14:35:16.309Z"
   },
   {
    "duration": 9268,
    "start_time": "2021-09-07T14:37:07.102Z"
   },
   {
    "duration": 2522,
    "start_time": "2021-09-07T14:38:54.789Z"
   },
   {
    "duration": 6,
    "start_time": "2021-09-07T16:51:40.426Z"
   },
   {
    "duration": 14,
    "start_time": "2021-09-07T16:56:13.878Z"
   },
   {
    "duration": 19,
    "start_time": "2021-09-07T17:06:24.042Z"
   },
   {
    "duration": 20,
    "start_time": "2021-09-07T17:08:26.136Z"
   },
   {
    "duration": 3,
    "start_time": "2021-09-07T17:10:04.572Z"
   },
   {
    "duration": 50,
    "start_time": "2021-09-07T17:10:04.577Z"
   },
   {
    "duration": 11,
    "start_time": "2021-09-07T17:10:04.629Z"
   },
   {
    "duration": 15,
    "start_time": "2021-09-07T17:10:04.642Z"
   },
   {
    "duration": 8,
    "start_time": "2021-09-07T17:10:04.658Z"
   },
   {
    "duration": 2345,
    "start_time": "2021-09-07T17:10:04.668Z"
   },
   {
    "duration": 6,
    "start_time": "2021-09-07T17:10:07.016Z"
   },
   {
    "duration": 19,
    "start_time": "2021-09-07T17:10:07.024Z"
   },
   {
    "duration": 19,
    "start_time": "2021-09-07T17:10:07.045Z"
   },
   {
    "duration": 16,
    "start_time": "2021-09-07T17:10:07.066Z"
   },
   {
    "duration": 9,
    "start_time": "2021-09-07T17:10:07.084Z"
   },
   {
    "duration": 613,
    "start_time": "2021-09-07T17:10:07.095Z"
   },
   {
    "duration": 34,
    "start_time": "2021-09-07T17:10:07.709Z"
   },
   {
    "duration": 452,
    "start_time": "2021-09-07T17:10:07.745Z"
   },
   {
    "duration": 12,
    "start_time": "2021-09-07T17:19:34.526Z"
   },
   {
    "duration": 15,
    "start_time": "2021-09-07T17:23:20.957Z"
   },
   {
    "duration": 12,
    "start_time": "2021-09-07T17:56:59.968Z"
   },
   {
    "duration": 11,
    "start_time": "2021-09-07T17:59:07.819Z"
   },
   {
    "duration": 298,
    "start_time": "2021-09-07T18:37:12.284Z"
   },
   {
    "duration": 81,
    "start_time": "2021-09-07T18:38:48.054Z"
   },
   {
    "duration": 8,
    "start_time": "2021-09-07T18:38:56.322Z"
   },
   {
    "duration": 11,
    "start_time": "2021-09-07T18:39:08.009Z"
   },
   {
    "duration": 2,
    "start_time": "2021-09-07T18:43:52.134Z"
   },
   {
    "duration": 46,
    "start_time": "2021-09-07T18:43:52.139Z"
   },
   {
    "duration": 11,
    "start_time": "2021-09-07T18:43:52.186Z"
   },
   {
    "duration": 10,
    "start_time": "2021-09-07T18:43:52.199Z"
   },
   {
    "duration": 5,
    "start_time": "2021-09-07T18:43:52.211Z"
   },
   {
    "duration": 2314,
    "start_time": "2021-09-07T18:43:52.217Z"
   },
   {
    "duration": 11,
    "start_time": "2021-09-07T18:43:54.532Z"
   },
   {
    "duration": 7,
    "start_time": "2021-09-07T18:43:54.545Z"
   },
   {
    "duration": 99,
    "start_time": "2021-09-07T18:43:54.555Z"
   },
   {
    "duration": 6,
    "start_time": "2021-09-07T18:43:54.656Z"
   },
   {
    "duration": 13,
    "start_time": "2021-09-07T18:43:54.664Z"
   },
   {
    "duration": 85,
    "start_time": "2021-09-07T18:43:54.678Z"
   },
   {
    "duration": 305,
    "start_time": "2021-09-07T18:43:54.459Z"
   },
   {
    "duration": 302,
    "start_time": "2021-09-07T18:43:54.463Z"
   },
   {
    "duration": 299,
    "start_time": "2021-09-07T18:43:54.467Z"
   },
   {
    "duration": 296,
    "start_time": "2021-09-07T18:43:54.471Z"
   },
   {
    "duration": 291,
    "start_time": "2021-09-07T18:43:54.477Z"
   },
   {
    "duration": 288,
    "start_time": "2021-09-07T18:43:54.481Z"
   },
   {
    "duration": 9,
    "start_time": "2021-09-07T18:45:14.284Z"
   },
   {
    "duration": 3,
    "start_time": "2021-09-07T18:45:31.871Z"
   },
   {
    "duration": 52,
    "start_time": "2021-09-07T18:45:31.875Z"
   },
   {
    "duration": 11,
    "start_time": "2021-09-07T18:45:31.929Z"
   },
   {
    "duration": 26,
    "start_time": "2021-09-07T18:45:31.941Z"
   },
   {
    "duration": 22,
    "start_time": "2021-09-07T18:45:31.968Z"
   },
   {
    "duration": 2327,
    "start_time": "2021-09-07T18:45:31.992Z"
   },
   {
    "duration": 5,
    "start_time": "2021-09-07T18:45:34.321Z"
   },
   {
    "duration": 20,
    "start_time": "2021-09-07T18:45:34.327Z"
   },
   {
    "duration": 17,
    "start_time": "2021-09-07T18:45:34.349Z"
   },
   {
    "duration": 100,
    "start_time": "2021-09-07T18:45:34.367Z"
   },
   {
    "duration": 6,
    "start_time": "2021-09-07T18:45:34.469Z"
   },
   {
    "duration": 14,
    "start_time": "2021-09-07T18:45:34.477Z"
   },
   {
    "duration": 10,
    "start_time": "2021-09-07T18:45:34.493Z"
   },
   {
    "duration": 9,
    "start_time": "2021-09-07T18:45:34.504Z"
   },
   {
    "duration": 30,
    "start_time": "2021-09-07T18:45:34.515Z"
   },
   {
    "duration": 310,
    "start_time": "2021-09-07T18:45:34.547Z"
   },
   {
    "duration": 17,
    "start_time": "2021-09-07T18:45:34.858Z"
   },
   {
    "duration": 237,
    "start_time": "2021-09-07T18:45:34.877Z"
   },
   {
    "duration": 14,
    "start_time": "2021-09-07T18:46:10.298Z"
   },
   {
    "duration": 3,
    "start_time": "2021-09-07T18:46:53.892Z"
   },
   {
    "duration": 58,
    "start_time": "2021-09-07T18:46:53.898Z"
   },
   {
    "duration": 13,
    "start_time": "2021-09-07T18:46:53.958Z"
   },
   {
    "duration": 26,
    "start_time": "2021-09-07T18:46:53.973Z"
   },
   {
    "duration": 11,
    "start_time": "2021-09-07T18:46:54.001Z"
   },
   {
    "duration": 2453,
    "start_time": "2021-09-07T18:46:54.014Z"
   },
   {
    "duration": 4,
    "start_time": "2021-09-07T18:46:56.469Z"
   },
   {
    "duration": 11,
    "start_time": "2021-09-07T18:46:56.475Z"
   },
   {
    "duration": 18,
    "start_time": "2021-09-07T18:46:56.487Z"
   },
   {
    "duration": 100,
    "start_time": "2021-09-07T18:46:56.506Z"
   },
   {
    "duration": 7,
    "start_time": "2021-09-07T18:46:56.608Z"
   },
   {
    "duration": 24,
    "start_time": "2021-09-07T18:46:56.617Z"
   },
   {
    "duration": 13,
    "start_time": "2021-09-07T18:46:56.644Z"
   },
   {
    "duration": 21,
    "start_time": "2021-09-07T18:46:56.658Z"
   },
   {
    "duration": 14,
    "start_time": "2021-09-07T18:46:56.680Z"
   },
   {
    "duration": 221,
    "start_time": "2021-09-07T18:46:56.695Z"
   },
   {
    "duration": 25,
    "start_time": "2021-09-07T18:46:56.917Z"
   },
   {
    "duration": 223,
    "start_time": "2021-09-07T18:46:56.943Z"
   },
   {
    "duration": 254,
    "start_time": "2021-09-07T18:49:32.093Z"
   },
   {
    "duration": 276,
    "start_time": "2021-09-07T18:50:06.859Z"
   },
   {
    "duration": 12,
    "start_time": "2021-09-07T18:51:43.171Z"
   },
   {
    "duration": 8,
    "start_time": "2021-09-07T18:54:09.363Z"
   },
   {
    "duration": 11,
    "start_time": "2021-09-07T18:55:24.849Z"
   },
   {
    "duration": 7,
    "start_time": "2021-09-07T18:56:08.604Z"
   },
   {
    "duration": 15,
    "start_time": "2021-09-07T18:57:57.309Z"
   },
   {
    "duration": 13,
    "start_time": "2021-09-07T18:58:55.173Z"
   },
   {
    "duration": 13,
    "start_time": "2021-09-07T18:59:12.013Z"
   },
   {
    "duration": 14,
    "start_time": "2021-09-07T18:59:49.597Z"
   },
   {
    "duration": 11,
    "start_time": "2021-09-07T19:00:50.133Z"
   },
   {
    "duration": 2,
    "start_time": "2021-09-07T19:02:15.783Z"
   },
   {
    "duration": 50,
    "start_time": "2021-09-07T19:02:15.787Z"
   },
   {
    "duration": 11,
    "start_time": "2021-09-07T19:02:15.839Z"
   },
   {
    "duration": 11,
    "start_time": "2021-09-07T19:02:15.852Z"
   },
   {
    "duration": 9,
    "start_time": "2021-09-07T19:02:15.864Z"
   },
   {
    "duration": 2471,
    "start_time": "2021-09-07T19:02:15.875Z"
   },
   {
    "duration": 5,
    "start_time": "2021-09-07T19:02:18.347Z"
   },
   {
    "duration": 10,
    "start_time": "2021-09-07T19:02:18.354Z"
   },
   {
    "duration": 18,
    "start_time": "2021-09-07T19:02:18.365Z"
   },
   {
    "duration": 106,
    "start_time": "2021-09-07T19:02:18.385Z"
   },
   {
    "duration": 7,
    "start_time": "2021-09-07T19:02:18.493Z"
   },
   {
    "duration": 14,
    "start_time": "2021-09-07T19:02:18.501Z"
   },
   {
    "duration": 29,
    "start_time": "2021-09-07T19:02:18.516Z"
   },
   {
    "duration": 10,
    "start_time": "2021-09-07T19:02:18.547Z"
   },
   {
    "duration": 13,
    "start_time": "2021-09-07T19:02:18.558Z"
   },
   {
    "duration": 8,
    "start_time": "2021-09-07T19:02:18.572Z"
   },
   {
    "duration": 235,
    "start_time": "2021-09-07T19:02:18.581Z"
   },
   {
    "duration": 25,
    "start_time": "2021-09-07T19:02:18.818Z"
   },
   {
    "duration": 479,
    "start_time": "2021-09-07T19:02:18.845Z"
   },
   {
    "duration": 15,
    "start_time": "2021-09-07T19:03:57.608Z"
   },
   {
    "duration": 14,
    "start_time": "2021-09-07T19:04:45.645Z"
   },
   {
    "duration": 9,
    "start_time": "2021-09-07T19:06:41.295Z"
   },
   {
    "duration": 3,
    "start_time": "2021-09-07T19:07:23.511Z"
   },
   {
    "duration": 55,
    "start_time": "2021-09-07T19:07:23.516Z"
   },
   {
    "duration": 11,
    "start_time": "2021-09-07T19:07:23.573Z"
   },
   {
    "duration": 21,
    "start_time": "2021-09-07T19:07:23.585Z"
   },
   {
    "duration": 14,
    "start_time": "2021-09-07T19:07:23.607Z"
   },
   {
    "duration": 2346,
    "start_time": "2021-09-07T19:07:23.623Z"
   },
   {
    "duration": 5,
    "start_time": "2021-09-07T19:07:25.970Z"
   },
   {
    "duration": 29,
    "start_time": "2021-09-07T19:07:25.978Z"
   },
   {
    "duration": 38,
    "start_time": "2021-09-07T19:07:26.009Z"
   },
   {
    "duration": 89,
    "start_time": "2021-09-07T19:07:26.049Z"
   },
   {
    "duration": 7,
    "start_time": "2021-09-07T19:07:26.139Z"
   },
   {
    "duration": 26,
    "start_time": "2021-09-07T19:07:26.148Z"
   },
   {
    "duration": 19,
    "start_time": "2021-09-07T19:07:26.175Z"
   },
   {
    "duration": 16,
    "start_time": "2021-09-07T19:07:26.196Z"
   },
   {
    "duration": 29,
    "start_time": "2021-09-07T19:07:26.213Z"
   },
   {
    "duration": 17,
    "start_time": "2021-09-07T19:07:26.244Z"
   },
   {
    "duration": 214,
    "start_time": "2021-09-07T19:07:26.262Z"
   },
   {
    "duration": 16,
    "start_time": "2021-09-07T19:07:26.478Z"
   },
   {
    "duration": 349,
    "start_time": "2021-09-07T19:07:26.495Z"
   },
   {
    "duration": 3,
    "start_time": "2021-09-07T19:08:16.905Z"
   },
   {
    "duration": 49,
    "start_time": "2021-09-07T19:08:16.909Z"
   },
   {
    "duration": 12,
    "start_time": "2021-09-07T19:08:16.960Z"
   },
   {
    "duration": 11,
    "start_time": "2021-09-07T19:08:16.974Z"
   },
   {
    "duration": 9,
    "start_time": "2021-09-07T19:08:16.987Z"
   },
   {
    "duration": 2345,
    "start_time": "2021-09-07T19:08:16.998Z"
   },
   {
    "duration": 5,
    "start_time": "2021-09-07T19:08:19.345Z"
   },
   {
    "duration": 18,
    "start_time": "2021-09-07T19:08:19.351Z"
   },
   {
    "duration": 16,
    "start_time": "2021-09-07T19:08:19.373Z"
   },
   {
    "duration": 95,
    "start_time": "2021-09-07T19:08:19.391Z"
   },
   {
    "duration": 6,
    "start_time": "2021-09-07T19:08:19.488Z"
   },
   {
    "duration": 14,
    "start_time": "2021-09-07T19:08:19.495Z"
   },
   {
    "duration": 8,
    "start_time": "2021-09-07T19:08:19.510Z"
   },
   {
    "duration": 25,
    "start_time": "2021-09-07T19:08:19.520Z"
   },
   {
    "duration": 20,
    "start_time": "2021-09-07T19:08:19.547Z"
   },
   {
    "duration": 8,
    "start_time": "2021-09-07T19:08:19.568Z"
   },
   {
    "duration": 322,
    "start_time": "2021-09-07T19:08:19.578Z"
   },
   {
    "duration": 16,
    "start_time": "2021-09-07T19:08:19.902Z"
   },
   {
    "duration": 241,
    "start_time": "2021-09-07T19:08:19.920Z"
   },
   {
    "duration": 3,
    "start_time": "2021-09-07T19:09:40.113Z"
   },
   {
    "duration": 57,
    "start_time": "2021-09-07T19:09:40.117Z"
   },
   {
    "duration": 11,
    "start_time": "2021-09-07T19:09:40.176Z"
   },
   {
    "duration": 10,
    "start_time": "2021-09-07T19:09:40.188Z"
   },
   {
    "duration": 5,
    "start_time": "2021-09-07T19:09:40.200Z"
   },
   {
    "duration": 2616,
    "start_time": "2021-09-07T19:09:40.206Z"
   },
   {
    "duration": 5,
    "start_time": "2021-09-07T19:09:42.823Z"
   },
   {
    "duration": 8,
    "start_time": "2021-09-07T19:09:42.842Z"
   },
   {
    "duration": 14,
    "start_time": "2021-09-07T19:09:42.852Z"
   },
   {
    "duration": 96,
    "start_time": "2021-09-07T19:09:42.868Z"
   },
   {
    "duration": 6,
    "start_time": "2021-09-07T19:09:42.966Z"
   },
   {
    "duration": 14,
    "start_time": "2021-09-07T19:09:42.973Z"
   },
   {
    "duration": 12,
    "start_time": "2021-09-07T19:09:42.988Z"
   },
   {
    "duration": 12,
    "start_time": "2021-09-07T19:09:43.002Z"
   },
   {
    "duration": 33,
    "start_time": "2021-09-07T19:09:43.015Z"
   },
   {
    "duration": 7,
    "start_time": "2021-09-07T19:09:43.050Z"
   },
   {
    "duration": 231,
    "start_time": "2021-09-07T19:09:43.059Z"
   },
   {
    "duration": 16,
    "start_time": "2021-09-07T19:09:43.292Z"
   },
   {
    "duration": 231,
    "start_time": "2021-09-07T19:09:43.310Z"
   },
   {
    "duration": 3,
    "start_time": "2021-09-07T19:11:00.530Z"
   },
   {
    "duration": 69,
    "start_time": "2021-09-07T19:11:00.535Z"
   },
   {
    "duration": 14,
    "start_time": "2021-09-07T19:11:00.606Z"
   },
   {
    "duration": 30,
    "start_time": "2021-09-07T19:11:00.622Z"
   },
   {
    "duration": 19,
    "start_time": "2021-09-07T19:11:00.654Z"
   },
   {
    "duration": 2805,
    "start_time": "2021-09-07T19:11:00.675Z"
   },
   {
    "duration": 5,
    "start_time": "2021-09-07T19:11:03.482Z"
   },
   {
    "duration": 36,
    "start_time": "2021-09-07T19:11:03.490Z"
   },
   {
    "duration": 46,
    "start_time": "2021-09-07T19:11:03.528Z"
   },
   {
    "duration": 49,
    "start_time": "2021-09-07T19:11:03.576Z"
   },
   {
    "duration": 116,
    "start_time": "2021-09-07T19:11:03.626Z"
   },
   {
    "duration": 8,
    "start_time": "2021-09-07T19:11:03.744Z"
   },
   {
    "duration": 50,
    "start_time": "2021-09-07T19:11:03.753Z"
   },
   {
    "duration": 40,
    "start_time": "2021-09-07T19:11:03.805Z"
   },
   {
    "duration": 42,
    "start_time": "2021-09-07T19:11:03.846Z"
   },
   {
    "duration": 39,
    "start_time": "2021-09-07T19:11:03.889Z"
   },
   {
    "duration": 54,
    "start_time": "2021-09-07T19:11:03.930Z"
   },
   {
    "duration": 267,
    "start_time": "2021-09-07T19:11:03.986Z"
   },
   {
    "duration": 19,
    "start_time": "2021-09-07T19:11:04.255Z"
   },
   {
    "duration": 259,
    "start_time": "2021-09-07T19:11:04.276Z"
   },
   {
    "duration": 11,
    "start_time": "2021-09-07T19:12:12.825Z"
   },
   {
    "duration": 968,
    "start_time": "2021-09-07T19:12:41.334Z"
   },
   {
    "duration": 48,
    "start_time": "2021-09-07T19:12:42.304Z"
   },
   {
    "duration": 17,
    "start_time": "2021-09-07T19:12:42.354Z"
   },
   {
    "duration": 10,
    "start_time": "2021-09-07T19:12:42.373Z"
   },
   {
    "duration": 6,
    "start_time": "2021-09-07T19:12:42.385Z"
   },
   {
    "duration": 2389,
    "start_time": "2021-09-07T19:12:42.393Z"
   },
   {
    "duration": 5,
    "start_time": "2021-09-07T19:12:44.784Z"
   },
   {
    "duration": 10,
    "start_time": "2021-09-07T19:12:44.791Z"
   },
   {
    "duration": 11,
    "start_time": "2021-09-07T19:12:44.803Z"
   },
   {
    "duration": 35,
    "start_time": "2021-09-07T19:12:44.816Z"
   },
   {
    "duration": 102,
    "start_time": "2021-09-07T19:12:44.853Z"
   },
   {
    "duration": 8,
    "start_time": "2021-09-07T19:12:44.957Z"
   },
   {
    "duration": 11,
    "start_time": "2021-09-07T19:12:44.967Z"
   },
   {
    "duration": 10,
    "start_time": "2021-09-07T19:12:44.980Z"
   },
   {
    "duration": 12,
    "start_time": "2021-09-07T19:12:44.991Z"
   },
   {
    "duration": 42,
    "start_time": "2021-09-07T19:12:45.005Z"
   },
   {
    "duration": 10,
    "start_time": "2021-09-07T19:12:45.049Z"
   },
   {
    "duration": 602,
    "start_time": "2021-09-07T19:12:45.061Z"
   },
   {
    "duration": 24,
    "start_time": "2021-09-07T19:12:45.665Z"
   },
   {
    "duration": 419,
    "start_time": "2021-09-07T19:12:45.691Z"
   },
   {
    "duration": 10,
    "start_time": "2021-09-07T19:14:14.136Z"
   },
   {
    "duration": 15,
    "start_time": "2021-09-07T19:15:05.646Z"
   },
   {
    "duration": 10,
    "start_time": "2021-09-07T19:16:08.810Z"
   },
   {
    "duration": 10,
    "start_time": "2021-09-07T19:17:03.639Z"
   },
   {
    "duration": 9,
    "start_time": "2021-09-07T19:17:32.086Z"
   },
   {
    "duration": 17,
    "start_time": "2021-09-07T19:18:14.598Z"
   },
   {
    "duration": 19,
    "start_time": "2021-09-07T19:19:05.139Z"
   },
   {
    "duration": 9,
    "start_time": "2021-09-07T19:19:42.152Z"
   },
   {
    "duration": 13,
    "start_time": "2021-09-07T19:20:54.560Z"
   },
   {
    "duration": 21,
    "start_time": "2021-09-07T19:25:20.925Z"
   },
   {
    "duration": 18,
    "start_time": "2021-09-07T19:26:10.274Z"
   },
   {
    "duration": 2,
    "start_time": "2021-09-07T19:30:59.771Z"
   },
   {
    "duration": 58,
    "start_time": "2021-09-07T19:30:59.775Z"
   },
   {
    "duration": 11,
    "start_time": "2021-09-07T19:30:59.835Z"
   },
   {
    "duration": 27,
    "start_time": "2021-09-07T19:30:59.847Z"
   },
   {
    "duration": 10,
    "start_time": "2021-09-07T19:30:59.875Z"
   },
   {
    "duration": 2490,
    "start_time": "2021-09-07T19:30:59.886Z"
   },
   {
    "duration": 371,
    "start_time": "2021-09-07T19:31:02.378Z"
   },
   {
    "duration": 363,
    "start_time": "2021-09-07T19:31:02.389Z"
   },
   {
    "duration": 332,
    "start_time": "2021-09-07T19:31:02.421Z"
   },
   {
    "duration": 329,
    "start_time": "2021-09-07T19:31:02.425Z"
   },
   {
    "duration": 325,
    "start_time": "2021-09-07T19:31:02.430Z"
   },
   {
    "duration": 324,
    "start_time": "2021-09-07T19:31:02.432Z"
   },
   {
    "duration": 322,
    "start_time": "2021-09-07T19:31:02.435Z"
   },
   {
    "duration": 321,
    "start_time": "2021-09-07T19:31:02.437Z"
   },
   {
    "duration": 320,
    "start_time": "2021-09-07T19:31:02.439Z"
   },
   {
    "duration": 319,
    "start_time": "2021-09-07T19:31:02.441Z"
   },
   {
    "duration": 316,
    "start_time": "2021-09-07T19:31:02.445Z"
   },
   {
    "duration": 314,
    "start_time": "2021-09-07T19:31:02.447Z"
   },
   {
    "duration": 313,
    "start_time": "2021-09-07T19:31:02.449Z"
   },
   {
    "duration": 312,
    "start_time": "2021-09-07T19:31:02.451Z"
   },
   {
    "duration": 311,
    "start_time": "2021-09-07T19:31:02.453Z"
   },
   {
    "duration": 311,
    "start_time": "2021-09-07T19:31:02.454Z"
   },
   {
    "duration": 3,
    "start_time": "2021-09-07T19:31:38.043Z"
   },
   {
    "duration": 58,
    "start_time": "2021-09-07T19:31:38.047Z"
   },
   {
    "duration": 12,
    "start_time": "2021-09-07T19:31:38.106Z"
   },
   {
    "duration": 23,
    "start_time": "2021-09-07T19:31:38.120Z"
   },
   {
    "duration": 9,
    "start_time": "2021-09-07T19:31:38.145Z"
   },
   {
    "duration": 2310,
    "start_time": "2021-09-07T19:31:38.156Z"
   },
   {
    "duration": 10,
    "start_time": "2021-09-07T19:31:40.468Z"
   },
   {
    "duration": 20,
    "start_time": "2021-09-07T19:31:40.481Z"
   },
   {
    "duration": 23,
    "start_time": "2021-09-07T19:31:40.504Z"
   },
   {
    "duration": 29,
    "start_time": "2021-09-07T19:31:40.528Z"
   },
   {
    "duration": 31,
    "start_time": "2021-09-07T19:31:40.559Z"
   },
   {
    "duration": 82,
    "start_time": "2021-09-07T19:31:40.591Z"
   },
   {
    "duration": 6,
    "start_time": "2021-09-07T19:31:40.675Z"
   },
   {
    "duration": 32,
    "start_time": "2021-09-07T19:31:40.683Z"
   },
   {
    "duration": 15,
    "start_time": "2021-09-07T19:31:40.717Z"
   },
   {
    "duration": 34,
    "start_time": "2021-09-07T19:31:40.733Z"
   },
   {
    "duration": 17,
    "start_time": "2021-09-07T19:31:40.769Z"
   },
   {
    "duration": 22,
    "start_time": "2021-09-07T19:31:40.787Z"
   },
   {
    "duration": 20,
    "start_time": "2021-09-07T19:31:40.811Z"
   },
   {
    "duration": 316,
    "start_time": "2021-09-07T19:31:40.832Z"
   },
   {
    "duration": 17,
    "start_time": "2021-09-07T19:31:41.149Z"
   },
   {
    "duration": 229,
    "start_time": "2021-09-07T19:31:41.167Z"
   },
   {
    "duration": 10,
    "start_time": "2021-09-07T19:32:10.578Z"
   },
   {
    "duration": 20,
    "start_time": "2021-09-07T19:32:54.362Z"
   },
   {
    "duration": 267,
    "start_time": "2021-09-07T19:33:01.137Z"
   },
   {
    "duration": 261,
    "start_time": "2021-09-07T19:33:04.305Z"
   },
   {
    "duration": 252,
    "start_time": "2021-09-07T19:33:32.902Z"
   },
   {
    "duration": 257,
    "start_time": "2021-09-07T19:37:29.226Z"
   },
   {
    "duration": 2,
    "start_time": "2021-09-07T19:40:42.941Z"
   },
   {
    "duration": 58,
    "start_time": "2021-09-07T19:40:42.946Z"
   },
   {
    "duration": 13,
    "start_time": "2021-09-07T19:40:43.005Z"
   },
   {
    "duration": 35,
    "start_time": "2021-09-07T19:40:43.019Z"
   },
   {
    "duration": 15,
    "start_time": "2021-09-07T19:40:43.056Z"
   },
   {
    "duration": 2972,
    "start_time": "2021-09-07T19:40:43.073Z"
   },
   {
    "duration": 15,
    "start_time": "2021-09-07T19:40:46.047Z"
   },
   {
    "duration": 10,
    "start_time": "2021-09-07T19:40:46.063Z"
   },
   {
    "duration": 10,
    "start_time": "2021-09-07T19:40:46.076Z"
   },
   {
    "duration": 12,
    "start_time": "2021-09-07T19:40:46.088Z"
   },
   {
    "duration": 44,
    "start_time": "2021-09-07T19:40:46.101Z"
   },
   {
    "duration": 164,
    "start_time": "2021-09-07T19:40:46.148Z"
   },
   {
    "duration": 34,
    "start_time": "2021-09-07T19:40:46.314Z"
   },
   {
    "duration": 37,
    "start_time": "2021-09-07T19:40:46.359Z"
   },
   {
    "duration": 12,
    "start_time": "2021-09-07T19:40:46.397Z"
   },
   {
    "duration": 39,
    "start_time": "2021-09-07T19:40:46.411Z"
   },
   {
    "duration": 15,
    "start_time": "2021-09-07T19:40:46.451Z"
   },
   {
    "duration": 41,
    "start_time": "2021-09-07T19:40:46.467Z"
   },
   {
    "duration": 22,
    "start_time": "2021-09-07T19:40:46.510Z"
   },
   {
    "duration": 242,
    "start_time": "2021-09-07T19:40:46.534Z"
   },
   {
    "duration": 19,
    "start_time": "2021-09-07T19:40:46.778Z"
   },
   {
    "duration": 258,
    "start_time": "2021-09-07T19:40:46.799Z"
   },
   {
    "duration": 21,
    "start_time": "2021-09-07T19:42:04.845Z"
   },
   {
    "duration": 31,
    "start_time": "2021-09-07T19:44:04.474Z"
   },
   {
    "duration": 3,
    "start_time": "2021-09-07T19:44:14.517Z"
   },
   {
    "duration": 52,
    "start_time": "2021-09-07T19:44:14.522Z"
   },
   {
    "duration": 13,
    "start_time": "2021-09-07T19:44:14.576Z"
   },
   {
    "duration": 11,
    "start_time": "2021-09-07T19:44:14.591Z"
   },
   {
    "duration": 4,
    "start_time": "2021-09-07T19:44:14.604Z"
   },
   {
    "duration": 2784,
    "start_time": "2021-09-07T19:44:14.610Z"
   },
   {
    "duration": 33,
    "start_time": "2021-09-07T19:44:17.395Z"
   },
   {
    "duration": 7,
    "start_time": "2021-09-07T19:44:17.442Z"
   },
   {
    "duration": 12,
    "start_time": "2021-09-07T19:44:17.451Z"
   },
   {
    "duration": 11,
    "start_time": "2021-09-07T19:44:17.464Z"
   },
   {
    "duration": 27,
    "start_time": "2021-09-07T19:44:17.477Z"
   },
   {
    "duration": 153,
    "start_time": "2021-09-07T19:44:17.506Z"
   },
   {
    "duration": 7,
    "start_time": "2021-09-07T19:44:17.661Z"
   },
   {
    "duration": 11,
    "start_time": "2021-09-07T19:44:17.670Z"
   },
   {
    "duration": 10,
    "start_time": "2021-09-07T19:44:17.683Z"
   },
   {
    "duration": 17,
    "start_time": "2021-09-07T19:44:17.695Z"
   },
   {
    "duration": 38,
    "start_time": "2021-09-07T19:44:17.714Z"
   },
   {
    "duration": 13,
    "start_time": "2021-09-07T19:44:17.755Z"
   },
   {
    "duration": 8,
    "start_time": "2021-09-07T19:44:17.769Z"
   },
   {
    "duration": 248,
    "start_time": "2021-09-07T19:44:17.779Z"
   },
   {
    "duration": 29,
    "start_time": "2021-09-07T19:44:18.029Z"
   },
   {
    "duration": 254,
    "start_time": "2021-09-07T19:44:18.060Z"
   },
   {
    "duration": 18,
    "start_time": "2021-09-07T19:45:29.611Z"
   },
   {
    "duration": 17,
    "start_time": "2021-09-07T19:51:01.965Z"
   },
   {
    "duration": 260,
    "start_time": "2021-09-07T19:51:29.388Z"
   },
   {
    "duration": 34,
    "start_time": "2021-09-07T19:52:02.020Z"
   },
   {
    "duration": 32,
    "start_time": "2021-09-07T19:52:36.325Z"
   },
   {
    "duration": 2043,
    "start_time": "2021-09-08T05:48:23.509Z"
   },
   {
    "duration": 85,
    "start_time": "2021-09-08T05:48:25.556Z"
   },
   {
    "duration": 41,
    "start_time": "2021-09-08T05:48:25.646Z"
   },
   {
    "duration": 22,
    "start_time": "2021-09-08T05:48:25.691Z"
   },
   {
    "duration": 8,
    "start_time": "2021-09-08T05:48:25.716Z"
   },
   {
    "duration": 6263,
    "start_time": "2021-09-08T05:48:25.727Z"
   },
   {
    "duration": 43,
    "start_time": "2021-09-08T05:48:31.992Z"
   },
   {
    "duration": 32,
    "start_time": "2021-09-08T05:48:32.038Z"
   },
   {
    "duration": 13,
    "start_time": "2021-09-08T05:48:32.074Z"
   },
   {
    "duration": 21,
    "start_time": "2021-09-08T05:48:32.090Z"
   },
   {
    "duration": 159,
    "start_time": "2021-09-08T05:48:32.113Z"
   },
   {
    "duration": 10,
    "start_time": "2021-09-08T05:48:32.275Z"
   },
   {
    "duration": 13,
    "start_time": "2021-09-08T05:48:32.287Z"
   },
   {
    "duration": 83,
    "start_time": "2021-09-08T05:48:32.302Z"
   },
   {
    "duration": 421,
    "start_time": "2021-09-08T05:48:31.967Z"
   },
   {
    "duration": 411,
    "start_time": "2021-09-08T05:48:31.978Z"
   },
   {
    "duration": 408,
    "start_time": "2021-09-08T05:48:31.983Z"
   },
   {
    "duration": 407,
    "start_time": "2021-09-08T05:48:31.985Z"
   },
   {
    "duration": 406,
    "start_time": "2021-09-08T05:48:31.987Z"
   },
   {
    "duration": 403,
    "start_time": "2021-09-08T05:48:31.992Z"
   },
   {
    "duration": 4,
    "start_time": "2021-09-08T05:48:55.865Z"
   },
   {
    "duration": 59,
    "start_time": "2021-09-08T05:48:55.871Z"
   },
   {
    "duration": 19,
    "start_time": "2021-09-08T05:48:55.933Z"
   },
   {
    "duration": 12,
    "start_time": "2021-09-08T05:48:55.968Z"
   },
   {
    "duration": 5,
    "start_time": "2021-09-08T05:48:55.982Z"
   },
   {
    "duration": 4512,
    "start_time": "2021-09-08T05:48:55.989Z"
   },
   {
    "duration": 68,
    "start_time": "2021-09-08T05:49:00.504Z"
   },
   {
    "duration": 10,
    "start_time": "2021-09-08T05:49:00.575Z"
   },
   {
    "duration": 16,
    "start_time": "2021-09-08T05:49:00.589Z"
   },
   {
    "duration": 16,
    "start_time": "2021-09-08T05:49:00.608Z"
   },
   {
    "duration": 193,
    "start_time": "2021-09-08T05:49:00.627Z"
   },
   {
    "duration": 11,
    "start_time": "2021-09-08T05:49:00.822Z"
   },
   {
    "duration": 31,
    "start_time": "2021-09-08T05:49:00.835Z"
   },
   {
    "duration": 418,
    "start_time": "2021-09-08T05:49:00.869Z"
   },
   {
    "duration": 427,
    "start_time": "2021-09-08T05:49:00.862Z"
   },
   {
    "duration": 426,
    "start_time": "2021-09-08T05:49:00.865Z"
   },
   {
    "duration": 422,
    "start_time": "2021-09-08T05:49:00.870Z"
   },
   {
    "duration": 421,
    "start_time": "2021-09-08T05:49:00.872Z"
   },
   {
    "duration": 421,
    "start_time": "2021-09-08T05:49:00.874Z"
   },
   {
    "duration": 416,
    "start_time": "2021-09-08T05:49:00.880Z"
   },
   {
    "duration": 4,
    "start_time": "2021-09-08T05:49:57.083Z"
   },
   {
    "duration": 60,
    "start_time": "2021-09-08T05:49:57.089Z"
   },
   {
    "duration": 19,
    "start_time": "2021-09-08T05:49:57.151Z"
   },
   {
    "duration": 22,
    "start_time": "2021-09-08T05:49:57.173Z"
   },
   {
    "duration": 5,
    "start_time": "2021-09-08T05:49:57.198Z"
   },
   {
    "duration": 4596,
    "start_time": "2021-09-08T05:49:57.205Z"
   },
   {
    "duration": 47,
    "start_time": "2021-09-08T05:50:01.803Z"
   },
   {
    "duration": 21,
    "start_time": "2021-09-08T05:50:01.852Z"
   },
   {
    "duration": 53,
    "start_time": "2021-09-08T05:50:01.876Z"
   },
   {
    "duration": 32,
    "start_time": "2021-09-08T05:50:01.931Z"
   },
   {
    "duration": 170,
    "start_time": "2021-09-08T05:50:01.966Z"
   },
   {
    "duration": 11,
    "start_time": "2021-09-08T05:50:02.138Z"
   },
   {
    "duration": 48,
    "start_time": "2021-09-08T05:50:02.152Z"
   },
   {
    "duration": 60,
    "start_time": "2021-09-08T05:50:02.203Z"
   },
   {
    "duration": 17,
    "start_time": "2021-09-08T05:50:02.265Z"
   },
   {
    "duration": 40,
    "start_time": "2021-09-08T05:50:02.284Z"
   },
   {
    "duration": 11,
    "start_time": "2021-09-08T05:50:02.326Z"
   },
   {
    "duration": 964,
    "start_time": "2021-09-08T05:50:02.339Z"
   },
   {
    "duration": 67,
    "start_time": "2021-09-08T05:50:03.305Z"
   },
   {
    "duration": 512,
    "start_time": "2021-09-08T05:50:03.375Z"
   },
   {
    "duration": 15,
    "start_time": "2021-09-08T05:52:07.598Z"
   },
   {
    "duration": 44,
    "start_time": "2021-09-08T05:53:39.774Z"
   },
   {
    "duration": 18,
    "start_time": "2021-09-08T05:54:30.270Z"
   },
   {
    "duration": 38,
    "start_time": "2021-09-08T05:54:55.750Z"
   },
   {
    "duration": 42,
    "start_time": "2021-09-08T05:59:51.912Z"
   },
   {
    "duration": 48,
    "start_time": "2021-09-08T06:04:03.742Z"
   },
   {
    "duration": 18,
    "start_time": "2021-09-08T06:04:13.694Z"
   },
   {
    "duration": 13,
    "start_time": "2021-09-08T06:05:18.019Z"
   },
   {
    "duration": 18,
    "start_time": "2021-09-08T06:05:56.740Z"
   },
   {
    "duration": 7,
    "start_time": "2021-09-08T06:19:44.822Z"
   },
   {
    "duration": 15,
    "start_time": "2021-09-08T06:19:48.520Z"
   },
   {
    "duration": 371,
    "start_time": "2021-09-08T06:29:18.925Z"
   },
   {
    "duration": 31,
    "start_time": "2021-09-08T06:29:44.772Z"
   },
   {
    "duration": 434,
    "start_time": "2021-09-08T06:37:24.596Z"
   },
   {
    "duration": 380,
    "start_time": "2021-09-08T06:38:03.298Z"
   },
   {
    "duration": 18589,
    "start_time": "2021-09-08T06:38:16.627Z"
   },
   {
    "duration": 427,
    "start_time": "2021-09-08T06:39:20.429Z"
   },
   {
    "duration": 591,
    "start_time": "2021-09-08T06:39:33.492Z"
   },
   {
    "duration": 34,
    "start_time": "2021-09-08T06:40:43.821Z"
   },
   {
    "duration": 16,
    "start_time": "2021-09-08T06:42:06.059Z"
   },
   {
    "duration": 4,
    "start_time": "2021-09-08T06:55:19.897Z"
   },
   {
    "duration": 61,
    "start_time": "2021-09-08T06:55:19.905Z"
   },
   {
    "duration": 20,
    "start_time": "2021-09-08T06:55:19.969Z"
   },
   {
    "duration": 16,
    "start_time": "2021-09-08T06:55:19.992Z"
   },
   {
    "duration": 7,
    "start_time": "2021-09-08T06:55:20.011Z"
   },
   {
    "duration": 4712,
    "start_time": "2021-09-08T06:55:20.020Z"
   },
   {
    "duration": 59,
    "start_time": "2021-09-08T06:55:24.735Z"
   },
   {
    "duration": 9,
    "start_time": "2021-09-08T06:55:24.800Z"
   },
   {
    "duration": 13,
    "start_time": "2021-09-08T06:55:24.813Z"
   },
   {
    "duration": 45,
    "start_time": "2021-09-08T06:55:24.829Z"
   },
   {
    "duration": 164,
    "start_time": "2021-09-08T06:55:24.877Z"
   },
   {
    "duration": 12,
    "start_time": "2021-09-08T06:55:25.043Z"
   },
   {
    "duration": 21,
    "start_time": "2021-09-08T06:55:25.057Z"
   },
   {
    "duration": 55,
    "start_time": "2021-09-08T06:55:25.080Z"
   },
   {
    "duration": 36,
    "start_time": "2021-09-08T06:55:25.138Z"
   },
   {
    "duration": 46,
    "start_time": "2021-09-08T06:55:25.176Z"
   },
   {
    "duration": 12,
    "start_time": "2021-09-08T06:55:25.225Z"
   },
   {
    "duration": 22,
    "start_time": "2021-09-08T06:55:25.267Z"
   },
   {
    "duration": 15,
    "start_time": "2021-09-08T06:55:25.291Z"
   },
   {
    "duration": 62,
    "start_time": "2021-09-08T06:55:25.309Z"
   },
   {
    "duration": 16,
    "start_time": "2021-09-08T06:55:25.374Z"
   },
   {
    "duration": 11,
    "start_time": "2021-09-08T06:55:25.392Z"
   },
   {
    "duration": 494,
    "start_time": "2021-09-08T06:55:25.407Z"
   },
   {
    "duration": 25,
    "start_time": "2021-09-08T06:55:25.903Z"
   },
   {
    "duration": 407,
    "start_time": "2021-09-08T06:55:25.931Z"
   },
   {
    "duration": 4,
    "start_time": "2021-09-08T06:56:48.055Z"
   },
   {
    "duration": 63,
    "start_time": "2021-09-08T06:56:48.062Z"
   },
   {
    "duration": 19,
    "start_time": "2021-09-08T06:56:48.128Z"
   },
   {
    "duration": 17,
    "start_time": "2021-09-08T06:56:48.167Z"
   },
   {
    "duration": 7,
    "start_time": "2021-09-08T06:56:48.186Z"
   },
   {
    "duration": 4628,
    "start_time": "2021-09-08T06:56:48.195Z"
   },
   {
    "duration": 58,
    "start_time": "2021-09-08T06:56:52.825Z"
   },
   {
    "duration": 9,
    "start_time": "2021-09-08T06:56:52.887Z"
   },
   {
    "duration": 13,
    "start_time": "2021-09-08T06:56:52.899Z"
   },
   {
    "duration": 20,
    "start_time": "2021-09-08T06:56:52.914Z"
   },
   {
    "duration": 180,
    "start_time": "2021-09-08T06:56:52.937Z"
   },
   {
    "duration": 10,
    "start_time": "2021-09-08T06:56:53.119Z"
   },
   {
    "duration": 14,
    "start_time": "2021-09-08T06:56:53.131Z"
   },
   {
    "duration": 51,
    "start_time": "2021-09-08T06:56:53.167Z"
   },
   {
    "duration": 13,
    "start_time": "2021-09-08T06:56:53.220Z"
   },
   {
    "duration": 74,
    "start_time": "2021-09-08T06:56:53.235Z"
   },
   {
    "duration": 12,
    "start_time": "2021-09-08T06:56:53.311Z"
   },
   {
    "duration": 13,
    "start_time": "2021-09-08T06:56:53.325Z"
   },
   {
    "duration": 3467,
    "start_time": "2021-09-08T06:56:53.340Z"
   },
   {
    "duration": 431,
    "start_time": "2021-09-08T06:56:56.380Z"
   },
   {
    "duration": 416,
    "start_time": "2021-09-08T06:56:56.397Z"
   },
   {
    "duration": 416,
    "start_time": "2021-09-08T06:56:56.399Z"
   },
   {
    "duration": 416,
    "start_time": "2021-09-08T06:56:56.401Z"
   },
   {
    "duration": 416,
    "start_time": "2021-09-08T06:56:56.403Z"
   },
   {
    "duration": 417,
    "start_time": "2021-09-08T06:56:56.404Z"
   },
   {
    "duration": 3681,
    "start_time": "2021-09-08T07:02:23.504Z"
   },
   {
    "duration": 1321,
    "start_time": "2021-09-08T07:03:56.672Z"
   },
   {
    "duration": 55,
    "start_time": "2021-09-08T07:03:57.996Z"
   },
   {
    "duration": 24,
    "start_time": "2021-09-08T07:03:58.054Z"
   },
   {
    "duration": 21,
    "start_time": "2021-09-08T07:03:58.081Z"
   },
   {
    "duration": 6,
    "start_time": "2021-09-08T07:03:58.105Z"
   },
   {
    "duration": 4777,
    "start_time": "2021-09-08T07:03:58.113Z"
   },
   {
    "duration": 43,
    "start_time": "2021-09-08T07:04:02.893Z"
   },
   {
    "duration": 34,
    "start_time": "2021-09-08T07:04:02.938Z"
   },
   {
    "duration": 11,
    "start_time": "2021-09-08T07:04:02.975Z"
   },
   {
    "duration": 20,
    "start_time": "2021-09-08T07:04:02.989Z"
   },
   {
    "duration": 161,
    "start_time": "2021-09-08T07:04:03.011Z"
   },
   {
    "duration": 10,
    "start_time": "2021-09-08T07:04:03.174Z"
   },
   {
    "duration": 13,
    "start_time": "2021-09-08T07:04:03.187Z"
   },
   {
    "duration": 78,
    "start_time": "2021-09-08T07:04:03.203Z"
   },
   {
    "duration": 13,
    "start_time": "2021-09-08T07:04:03.284Z"
   },
   {
    "duration": 68,
    "start_time": "2021-09-08T07:04:03.299Z"
   },
   {
    "duration": 14,
    "start_time": "2021-09-08T07:04:03.369Z"
   },
   {
    "duration": 19,
    "start_time": "2021-09-08T07:04:03.386Z"
   },
   {
    "duration": 3723,
    "start_time": "2021-09-08T07:04:03.407Z"
   },
   {
    "duration": 399,
    "start_time": "2021-09-08T07:04:06.734Z"
   },
   {
    "duration": 396,
    "start_time": "2021-09-08T07:04:06.738Z"
   },
   {
    "duration": 395,
    "start_time": "2021-09-08T07:04:06.740Z"
   },
   {
    "duration": 393,
    "start_time": "2021-09-08T07:04:06.744Z"
   },
   {
    "duration": 392,
    "start_time": "2021-09-08T07:04:06.746Z"
   },
   {
    "duration": 384,
    "start_time": "2021-09-08T07:04:06.756Z"
   },
   {
    "duration": 3,
    "start_time": "2021-09-08T07:06:35.838Z"
   },
   {
    "duration": 61,
    "start_time": "2021-09-08T07:06:35.844Z"
   },
   {
    "duration": 20,
    "start_time": "2021-09-08T07:06:35.908Z"
   },
   {
    "duration": 44,
    "start_time": "2021-09-08T07:06:35.932Z"
   },
   {
    "duration": 6,
    "start_time": "2021-09-08T07:06:35.979Z"
   },
   {
    "duration": 4555,
    "start_time": "2021-09-08T07:06:35.988Z"
   },
   {
    "duration": 55,
    "start_time": "2021-09-08T07:06:40.547Z"
   },
   {
    "duration": 8,
    "start_time": "2021-09-08T07:06:40.608Z"
   },
   {
    "duration": 22,
    "start_time": "2021-09-08T07:06:40.619Z"
   },
   {
    "duration": 31,
    "start_time": "2021-09-08T07:06:40.644Z"
   },
   {
    "duration": 159,
    "start_time": "2021-09-08T07:06:40.677Z"
   },
   {
    "duration": 11,
    "start_time": "2021-09-08T07:06:40.838Z"
   },
   {
    "duration": 12,
    "start_time": "2021-09-08T07:06:40.867Z"
   },
   {
    "duration": 53,
    "start_time": "2021-09-08T07:06:40.881Z"
   },
   {
    "duration": 33,
    "start_time": "2021-09-08T07:06:40.937Z"
   },
   {
    "duration": 49,
    "start_time": "2021-09-08T07:06:40.973Z"
   },
   {
    "duration": 11,
    "start_time": "2021-09-08T07:06:41.025Z"
   },
   {
    "duration": 36,
    "start_time": "2021-09-08T07:06:41.039Z"
   },
   {
    "duration": 19,
    "start_time": "2021-09-08T07:06:41.077Z"
   },
   {
    "duration": 34,
    "start_time": "2021-09-08T07:06:41.099Z"
   },
   {
    "duration": 45,
    "start_time": "2021-09-08T07:06:41.136Z"
   },
   {
    "duration": 13,
    "start_time": "2021-09-08T07:06:41.184Z"
   },
   {
    "duration": 1227,
    "start_time": "2021-09-08T07:06:41.201Z"
   },
   {
    "duration": 57,
    "start_time": "2021-09-08T07:06:42.430Z"
   },
   {
    "duration": 508,
    "start_time": "2021-09-08T07:06:42.489Z"
   },
   {
    "duration": 1418,
    "start_time": "2021-09-08T07:15:48.938Z"
   },
   {
    "duration": 4556,
    "start_time": "2021-09-08T07:16:23.257Z"
   },
   {
    "duration": 185,
    "start_time": "2021-09-08T07:36:32.486Z"
   },
   {
    "duration": 5,
    "start_time": "2021-09-08T07:38:46.295Z"
   },
   {
    "duration": 64,
    "start_time": "2021-09-08T07:38:46.304Z"
   },
   {
    "duration": 20,
    "start_time": "2021-09-08T07:38:46.372Z"
   },
   {
    "duration": 14,
    "start_time": "2021-09-08T07:38:46.395Z"
   },
   {
    "duration": 5,
    "start_time": "2021-09-08T07:38:46.412Z"
   },
   {
    "duration": 4859,
    "start_time": "2021-09-08T07:38:46.420Z"
   },
   {
    "duration": 46,
    "start_time": "2021-09-08T07:38:51.283Z"
   },
   {
    "duration": 9,
    "start_time": "2021-09-08T07:38:51.332Z"
   },
   {
    "duration": 15,
    "start_time": "2021-09-08T07:38:51.369Z"
   },
   {
    "duration": 14,
    "start_time": "2021-09-08T07:38:51.388Z"
   },
   {
    "duration": 195,
    "start_time": "2021-09-08T07:38:51.405Z"
   },
   {
    "duration": 12,
    "start_time": "2021-09-08T07:38:51.603Z"
   },
   {
    "duration": 17,
    "start_time": "2021-09-08T07:38:51.618Z"
   },
   {
    "duration": 92,
    "start_time": "2021-09-08T07:38:51.637Z"
   },
   {
    "duration": 43,
    "start_time": "2021-09-08T07:38:51.731Z"
   },
   {
    "duration": 53,
    "start_time": "2021-09-08T07:38:51.777Z"
   },
   {
    "duration": 42,
    "start_time": "2021-09-08T07:38:51.833Z"
   },
   {
    "duration": 16,
    "start_time": "2021-09-08T07:38:51.877Z"
   },
   {
    "duration": 18,
    "start_time": "2021-09-08T07:38:51.896Z"
   },
   {
    "duration": 210,
    "start_time": "2021-09-08T07:38:51.917Z"
   },
   {
    "duration": 17,
    "start_time": "2021-09-08T07:38:52.130Z"
   },
   {
    "duration": 27,
    "start_time": "2021-09-08T07:38:52.150Z"
   },
   {
    "duration": 415,
    "start_time": "2021-09-08T07:38:52.182Z"
   },
   {
    "duration": 28,
    "start_time": "2021-09-08T07:38:52.599Z"
   },
   {
    "duration": 570,
    "start_time": "2021-09-08T07:38:52.629Z"
   },
   {
    "duration": 4,
    "start_time": "2021-09-08T07:42:19.109Z"
   },
   {
    "duration": 66,
    "start_time": "2021-09-08T07:42:19.116Z"
   },
   {
    "duration": 20,
    "start_time": "2021-09-08T07:42:19.185Z"
   },
   {
    "duration": 14,
    "start_time": "2021-09-08T07:42:19.209Z"
   },
   {
    "duration": 52,
    "start_time": "2021-09-08T07:42:19.227Z"
   },
   {
    "duration": 8168,
    "start_time": "2021-09-08T07:42:19.282Z"
   },
   {
    "duration": 81,
    "start_time": "2021-09-08T07:42:27.454Z"
   },
   {
    "duration": 31,
    "start_time": "2021-09-08T07:42:27.542Z"
   },
   {
    "duration": 19,
    "start_time": "2021-09-08T07:42:27.579Z"
   },
   {
    "duration": 24,
    "start_time": "2021-09-08T07:42:27.601Z"
   },
   {
    "duration": 291,
    "start_time": "2021-09-08T07:42:27.629Z"
   },
   {
    "duration": 18,
    "start_time": "2021-09-08T07:42:27.924Z"
   },
   {
    "duration": 35,
    "start_time": "2021-09-08T07:42:27.945Z"
   },
   {
    "duration": 58,
    "start_time": "2021-09-08T07:42:27.985Z"
   },
   {
    "duration": 33,
    "start_time": "2021-09-08T07:42:28.045Z"
   },
   {
    "duration": 50,
    "start_time": "2021-09-08T07:42:28.081Z"
   },
   {
    "duration": 43,
    "start_time": "2021-09-08T07:42:28.134Z"
   },
   {
    "duration": 9,
    "start_time": "2021-09-08T07:42:28.180Z"
   },
   {
    "duration": 19,
    "start_time": "2021-09-08T07:42:28.191Z"
   },
   {
    "duration": 314,
    "start_time": "2021-09-08T07:42:28.213Z"
   },
   {
    "duration": 40,
    "start_time": "2021-09-08T07:42:28.530Z"
   },
   {
    "duration": 10,
    "start_time": "2021-09-08T07:42:28.573Z"
   },
   {
    "duration": 525,
    "start_time": "2021-09-08T07:42:28.588Z"
   },
   {
    "duration": 27,
    "start_time": "2021-09-08T07:42:29.115Z"
   },
   {
    "duration": 399,
    "start_time": "2021-09-08T07:42:29.167Z"
   },
   {
    "duration": 153,
    "start_time": "2021-09-08T07:43:05.992Z"
   },
   {
    "duration": 149,
    "start_time": "2021-09-08T07:44:35.782Z"
   },
   {
    "duration": 189,
    "start_time": "2021-09-08T07:45:42.761Z"
   },
   {
    "duration": 236,
    "start_time": "2021-09-08T07:49:28.526Z"
   },
   {
    "duration": 271,
    "start_time": "2021-09-08T07:50:27.696Z"
   },
   {
    "duration": 15,
    "start_time": "2021-09-08T07:52:43.575Z"
   },
   {
    "duration": 15,
    "start_time": "2021-09-08T07:53:14.862Z"
   },
   {
    "duration": 20,
    "start_time": "2021-09-08T07:53:56.258Z"
   },
   {
    "duration": 43,
    "start_time": "2021-09-08T07:54:16.639Z"
   },
   {
    "duration": 4,
    "start_time": "2021-09-08T08:00:59.241Z"
   },
   {
    "duration": 64,
    "start_time": "2021-09-08T08:00:59.247Z"
   },
   {
    "duration": 19,
    "start_time": "2021-09-08T08:00:59.314Z"
   },
   {
    "duration": 32,
    "start_time": "2021-09-08T08:00:59.336Z"
   },
   {
    "duration": 8,
    "start_time": "2021-09-08T08:00:59.372Z"
   },
   {
    "duration": 5334,
    "start_time": "2021-09-08T08:00:59.384Z"
   },
   {
    "duration": 85,
    "start_time": "2021-09-08T08:01:04.721Z"
   },
   {
    "duration": 10,
    "start_time": "2021-09-08T08:01:04.809Z"
   },
   {
    "duration": 12,
    "start_time": "2021-09-08T08:01:04.824Z"
   },
   {
    "duration": 22,
    "start_time": "2021-09-08T08:01:04.867Z"
   },
   {
    "duration": 172,
    "start_time": "2021-09-08T08:01:04.892Z"
   },
   {
    "duration": 15,
    "start_time": "2021-09-08T08:01:05.068Z"
   },
   {
    "duration": 15,
    "start_time": "2021-09-08T08:01:05.087Z"
   },
   {
    "duration": 92,
    "start_time": "2021-09-08T08:01:05.105Z"
   },
   {
    "duration": 12,
    "start_time": "2021-09-08T08:01:05.200Z"
   },
   {
    "duration": 76,
    "start_time": "2021-09-08T08:01:05.215Z"
   },
   {
    "duration": 13,
    "start_time": "2021-09-08T08:01:05.294Z"
   },
   {
    "duration": 13,
    "start_time": "2021-09-08T08:01:05.309Z"
   },
   {
    "duration": 45,
    "start_time": "2021-09-08T08:01:05.324Z"
   },
   {
    "duration": 287,
    "start_time": "2021-09-08T08:01:05.372Z"
   },
   {
    "duration": 360,
    "start_time": "2021-09-08T08:01:05.662Z"
   },
   {
    "duration": 30,
    "start_time": "2021-09-08T08:01:06.025Z"
   },
   {
    "duration": 20,
    "start_time": "2021-09-08T08:01:06.057Z"
   },
   {
    "duration": 535,
    "start_time": "2021-09-08T08:01:06.080Z"
   },
   {
    "duration": 25,
    "start_time": "2021-09-08T08:01:06.618Z"
   },
   {
    "duration": 434,
    "start_time": "2021-09-08T08:01:06.646Z"
   },
   {
    "duration": 46,
    "start_time": "2021-09-08T08:14:33.917Z"
   },
   {
    "duration": 282,
    "start_time": "2021-09-08T08:15:36.357Z"
   },
   {
    "duration": 294,
    "start_time": "2021-09-08T08:17:08.439Z"
   },
   {
    "duration": 338,
    "start_time": "2021-09-08T08:18:34.372Z"
   },
   {
    "duration": 4,
    "start_time": "2021-09-08T08:20:44.061Z"
   },
   {
    "duration": 70,
    "start_time": "2021-09-08T08:20:44.068Z"
   },
   {
    "duration": 25,
    "start_time": "2021-09-08T08:20:44.141Z"
   },
   {
    "duration": 16,
    "start_time": "2021-09-08T08:20:44.170Z"
   },
   {
    "duration": 6,
    "start_time": "2021-09-08T08:20:44.188Z"
   },
   {
    "duration": 5754,
    "start_time": "2021-09-08T08:20:44.196Z"
   },
   {
    "duration": 72,
    "start_time": "2021-09-08T08:20:49.952Z"
   },
   {
    "duration": 7,
    "start_time": "2021-09-08T08:20:50.027Z"
   },
   {
    "duration": 34,
    "start_time": "2021-09-08T08:20:50.038Z"
   },
   {
    "duration": 174,
    "start_time": "2021-09-08T08:20:50.078Z"
   },
   {
    "duration": 18,
    "start_time": "2021-09-08T08:20:50.255Z"
   },
   {
    "duration": 34,
    "start_time": "2021-09-08T08:20:50.275Z"
   },
   {
    "duration": 63,
    "start_time": "2021-09-08T08:20:50.312Z"
   },
   {
    "duration": 17,
    "start_time": "2021-09-08T08:20:50.378Z"
   },
   {
    "duration": 85,
    "start_time": "2021-09-08T08:20:50.398Z"
   },
   {
    "duration": 13,
    "start_time": "2021-09-08T08:20:50.485Z"
   },
   {
    "duration": 15,
    "start_time": "2021-09-08T08:20:50.501Z"
   },
   {
    "duration": 21,
    "start_time": "2021-09-08T08:20:50.518Z"
   },
   {
    "duration": 338,
    "start_time": "2021-09-08T08:20:50.541Z"
   },
   {
    "duration": 50,
    "start_time": "2021-09-08T08:20:50.882Z"
   },
   {
    "duration": 377,
    "start_time": "2021-09-08T08:20:50.935Z"
   },
   {
    "duration": 31,
    "start_time": "2021-09-08T08:20:51.315Z"
   },
   {
    "duration": 10,
    "start_time": "2021-09-08T08:20:51.367Z"
   },
   {
    "duration": 427,
    "start_time": "2021-09-08T08:20:51.379Z"
   },
   {
    "duration": 42,
    "start_time": "2021-09-08T08:20:51.809Z"
   },
   {
    "duration": 538,
    "start_time": "2021-09-08T08:20:51.870Z"
   },
   {
    "duration": 363,
    "start_time": "2021-09-08T08:29:30.024Z"
   },
   {
    "duration": 3,
    "start_time": "2021-09-08T09:03:53.900Z"
   },
   {
    "duration": 60,
    "start_time": "2021-09-08T09:03:53.907Z"
   },
   {
    "duration": 18,
    "start_time": "2021-09-08T09:03:53.970Z"
   },
   {
    "duration": 14,
    "start_time": "2021-09-08T09:03:53.991Z"
   },
   {
    "duration": 6,
    "start_time": "2021-09-08T09:03:54.007Z"
   },
   {
    "duration": 5237,
    "start_time": "2021-09-08T09:03:54.015Z"
   },
   {
    "duration": 52,
    "start_time": "2021-09-08T09:03:59.254Z"
   },
   {
    "duration": 8,
    "start_time": "2021-09-08T09:03:59.310Z"
   },
   {
    "duration": 22,
    "start_time": "2021-09-08T09:03:59.320Z"
   },
   {
    "duration": 178,
    "start_time": "2021-09-08T09:03:59.344Z"
   },
   {
    "duration": 9,
    "start_time": "2021-09-08T09:03:59.525Z"
   },
   {
    "duration": 31,
    "start_time": "2021-09-08T09:03:59.537Z"
   },
   {
    "duration": 54,
    "start_time": "2021-09-08T09:03:59.570Z"
   },
   {
    "duration": 13,
    "start_time": "2021-09-08T09:03:59.626Z"
   },
   {
    "duration": 55,
    "start_time": "2021-09-08T09:03:59.667Z"
   },
   {
    "duration": 13,
    "start_time": "2021-09-08T09:03:59.725Z"
   },
   {
    "duration": 31,
    "start_time": "2021-09-08T09:03:59.740Z"
   },
   {
    "duration": 24,
    "start_time": "2021-09-08T09:03:59.774Z"
   },
   {
    "duration": 316,
    "start_time": "2021-09-08T09:03:59.801Z"
   },
   {
    "duration": 46,
    "start_time": "2021-09-08T09:04:00.119Z"
   },
   {
    "duration": 360,
    "start_time": "2021-09-08T09:04:00.168Z"
   },
   {
    "duration": 43,
    "start_time": "2021-09-08T09:04:00.530Z"
   },
   {
    "duration": 25,
    "start_time": "2021-09-08T09:04:00.576Z"
   },
   {
    "duration": 386,
    "start_time": "2021-09-08T09:04:00.604Z"
   },
   {
    "duration": 27,
    "start_time": "2021-09-08T09:04:00.992Z"
   },
   {
    "duration": 416,
    "start_time": "2021-09-08T09:04:01.022Z"
   },
   {
    "duration": 265,
    "start_time": "2021-09-08T09:05:10.261Z"
   },
   {
    "duration": 4,
    "start_time": "2021-09-08T09:06:16.444Z"
   },
   {
    "duration": 61,
    "start_time": "2021-09-08T09:06:16.451Z"
   },
   {
    "duration": 20,
    "start_time": "2021-09-08T09:06:16.515Z"
   },
   {
    "duration": 35,
    "start_time": "2021-09-08T09:06:16.538Z"
   },
   {
    "duration": 7,
    "start_time": "2021-09-08T09:06:16.576Z"
   },
   {
    "duration": 4872,
    "start_time": "2021-09-08T09:06:16.586Z"
   },
   {
    "duration": 47,
    "start_time": "2021-09-08T09:06:21.467Z"
   },
   {
    "duration": 8,
    "start_time": "2021-09-08T09:06:21.516Z"
   },
   {
    "duration": 13,
    "start_time": "2021-09-08T09:06:21.528Z"
   },
   {
    "duration": 162,
    "start_time": "2021-09-08T09:06:21.569Z"
   },
   {
    "duration": 11,
    "start_time": "2021-09-08T09:06:21.734Z"
   },
   {
    "duration": 32,
    "start_time": "2021-09-08T09:06:21.747Z"
   },
   {
    "duration": 56,
    "start_time": "2021-09-08T09:06:21.781Z"
   },
   {
    "duration": 28,
    "start_time": "2021-09-08T09:06:21.839Z"
   },
   {
    "duration": 55,
    "start_time": "2021-09-08T09:06:21.870Z"
   },
   {
    "duration": 38,
    "start_time": "2021-09-08T09:06:21.928Z"
   },
   {
    "duration": 10,
    "start_time": "2021-09-08T09:06:21.968Z"
   },
   {
    "duration": 19,
    "start_time": "2021-09-08T09:06:21.981Z"
   },
   {
    "duration": 303,
    "start_time": "2021-09-08T09:06:22.002Z"
   },
   {
    "duration": 379,
    "start_time": "2021-09-08T09:06:22.308Z"
   },
   {
    "duration": 341,
    "start_time": "2021-09-08T09:06:22.691Z"
   },
   {
    "duration": 45,
    "start_time": "2021-09-08T09:06:23.035Z"
   },
   {
    "duration": 11,
    "start_time": "2021-09-08T09:06:23.083Z"
   },
   {
    "duration": 404,
    "start_time": "2021-09-08T09:06:23.097Z"
   },
   {
    "duration": 31,
    "start_time": "2021-09-08T09:06:23.504Z"
   },
   {
    "duration": 531,
    "start_time": "2021-09-08T09:06:23.566Z"
   },
   {
    "duration": 47,
    "start_time": "2021-09-08T09:09:41.768Z"
   },
   {
    "duration": 355,
    "start_time": "2021-09-08T09:09:51.605Z"
   },
   {
    "duration": 313,
    "start_time": "2021-09-08T09:11:12.113Z"
   },
   {
    "duration": 4,
    "start_time": "2021-09-08T09:11:23.076Z"
   },
   {
    "duration": 62,
    "start_time": "2021-09-08T09:11:23.083Z"
   },
   {
    "duration": 27,
    "start_time": "2021-09-08T09:11:23.147Z"
   },
   {
    "duration": 17,
    "start_time": "2021-09-08T09:11:23.176Z"
   },
   {
    "duration": 12,
    "start_time": "2021-09-08T09:11:23.195Z"
   },
   {
    "duration": 4804,
    "start_time": "2021-09-08T09:11:23.209Z"
   },
   {
    "duration": 60,
    "start_time": "2021-09-08T09:11:28.017Z"
   },
   {
    "duration": 16,
    "start_time": "2021-09-08T09:11:28.080Z"
   },
   {
    "duration": 16,
    "start_time": "2021-09-08T09:11:28.098Z"
   },
   {
    "duration": 174,
    "start_time": "2021-09-08T09:11:28.116Z"
   },
   {
    "duration": 11,
    "start_time": "2021-09-08T09:11:28.292Z"
   },
   {
    "duration": 16,
    "start_time": "2021-09-08T09:11:28.305Z"
   },
   {
    "duration": 86,
    "start_time": "2021-09-08T09:11:28.324Z"
   },
   {
    "duration": 16,
    "start_time": "2021-09-08T09:11:28.414Z"
   },
   {
    "duration": 71,
    "start_time": "2021-09-08T09:11:28.432Z"
   },
   {
    "duration": 13,
    "start_time": "2021-09-08T09:11:28.506Z"
   },
   {
    "duration": 12,
    "start_time": "2021-09-08T09:11:28.521Z"
   },
   {
    "duration": 43,
    "start_time": "2021-09-08T09:11:28.536Z"
   },
   {
    "duration": 290,
    "start_time": "2021-09-08T09:11:28.585Z"
   },
   {
    "duration": 47,
    "start_time": "2021-09-08T09:11:28.878Z"
   },
   {
    "duration": 351,
    "start_time": "2021-09-08T09:11:28.928Z"
   },
   {
    "duration": 39,
    "start_time": "2021-09-08T09:11:29.281Z"
   },
   {
    "duration": 13,
    "start_time": "2021-09-08T09:11:29.323Z"
   },
   {
    "duration": 609,
    "start_time": "2021-09-08T09:11:29.368Z"
   },
   {
    "duration": 32,
    "start_time": "2021-09-08T09:11:29.980Z"
   },
   {
    "duration": 424,
    "start_time": "2021-09-08T09:11:30.015Z"
   },
   {
    "duration": 425,
    "start_time": "2021-09-08T09:16:08.031Z"
   },
   {
    "duration": 4,
    "start_time": "2021-09-08T09:19:39.367Z"
   },
   {
    "duration": 61,
    "start_time": "2021-09-08T09:19:39.373Z"
   },
   {
    "duration": 40,
    "start_time": "2021-09-08T09:19:39.438Z"
   },
   {
    "duration": 18,
    "start_time": "2021-09-08T09:19:39.481Z"
   },
   {
    "duration": 10,
    "start_time": "2021-09-08T09:19:39.502Z"
   },
   {
    "duration": 4959,
    "start_time": "2021-09-08T09:19:39.514Z"
   },
   {
    "duration": 44,
    "start_time": "2021-09-08T09:19:44.476Z"
   },
   {
    "duration": 7,
    "start_time": "2021-09-08T09:19:44.524Z"
   },
   {
    "duration": 39,
    "start_time": "2021-09-08T09:19:44.534Z"
   },
   {
    "duration": 159,
    "start_time": "2021-09-08T09:19:44.575Z"
   },
   {
    "duration": 10,
    "start_time": "2021-09-08T09:19:44.736Z"
   },
   {
    "duration": 45,
    "start_time": "2021-09-08T09:19:44.748Z"
   },
   {
    "duration": 51,
    "start_time": "2021-09-08T09:19:44.795Z"
   },
   {
    "duration": 20,
    "start_time": "2021-09-08T09:19:44.848Z"
   },
   {
    "duration": 51,
    "start_time": "2021-09-08T09:19:44.871Z"
   },
   {
    "duration": 12,
    "start_time": "2021-09-08T09:19:44.925Z"
   },
   {
    "duration": 35,
    "start_time": "2021-09-08T09:19:44.939Z"
   },
   {
    "duration": 15,
    "start_time": "2021-09-08T09:19:44.976Z"
   },
   {
    "duration": 284,
    "start_time": "2021-09-08T09:19:44.994Z"
   },
   {
    "duration": 45,
    "start_time": "2021-09-08T09:19:45.281Z"
   },
   {
    "duration": 417,
    "start_time": "2021-09-08T09:19:45.328Z"
   },
   {
    "duration": 37,
    "start_time": "2021-09-08T09:19:45.748Z"
   },
   {
    "duration": 12,
    "start_time": "2021-09-08T09:19:45.790Z"
   },
   {
    "duration": 406,
    "start_time": "2021-09-08T09:19:45.804Z"
   },
   {
    "duration": 26,
    "start_time": "2021-09-08T09:19:46.212Z"
   },
   {
    "duration": 427,
    "start_time": "2021-09-08T09:19:46.241Z"
   },
   {
    "duration": 463,
    "start_time": "2021-09-08T09:24:10.400Z"
   },
   {
    "duration": 5,
    "start_time": "2021-09-08T09:31:18.414Z"
   },
   {
    "duration": 59,
    "start_time": "2021-09-08T09:31:18.423Z"
   },
   {
    "duration": 18,
    "start_time": "2021-09-08T09:31:18.485Z"
   },
   {
    "duration": 20,
    "start_time": "2021-09-08T09:31:18.505Z"
   },
   {
    "duration": 6,
    "start_time": "2021-09-08T09:31:18.528Z"
   },
   {
    "duration": 4719,
    "start_time": "2021-09-08T09:31:18.536Z"
   },
   {
    "duration": 52,
    "start_time": "2021-09-08T09:31:23.258Z"
   },
   {
    "duration": 8,
    "start_time": "2021-09-08T09:31:23.312Z"
   },
   {
    "duration": 44,
    "start_time": "2021-09-08T09:31:23.324Z"
   },
   {
    "duration": 180,
    "start_time": "2021-09-08T09:31:23.371Z"
   },
   {
    "duration": 16,
    "start_time": "2021-09-08T09:31:23.553Z"
   },
   {
    "duration": 19,
    "start_time": "2021-09-08T09:31:23.571Z"
   },
   {
    "duration": 86,
    "start_time": "2021-09-08T09:31:23.593Z"
   },
   {
    "duration": 13,
    "start_time": "2021-09-08T09:31:23.682Z"
   },
   {
    "duration": 208,
    "start_time": "2021-09-08T09:31:23.697Z"
   },
   {
    "duration": 453,
    "start_time": "2021-09-08T09:31:23.454Z"
   },
   {
    "duration": 448,
    "start_time": "2021-09-08T09:31:23.461Z"
   },
   {
    "duration": 445,
    "start_time": "2021-09-08T09:31:23.465Z"
   },
   {
    "duration": 446,
    "start_time": "2021-09-08T09:31:23.466Z"
   },
   {
    "duration": 445,
    "start_time": "2021-09-08T09:31:23.468Z"
   },
   {
    "duration": 445,
    "start_time": "2021-09-08T09:31:23.470Z"
   },
   {
    "duration": 437,
    "start_time": "2021-09-08T09:31:23.479Z"
   },
   {
    "duration": 437,
    "start_time": "2021-09-08T09:31:23.481Z"
   },
   {
    "duration": 436,
    "start_time": "2021-09-08T09:31:23.484Z"
   },
   {
    "duration": 436,
    "start_time": "2021-09-08T09:31:23.485Z"
   },
   {
    "duration": 436,
    "start_time": "2021-09-08T09:31:23.487Z"
   },
   {
    "duration": 65,
    "start_time": "2021-09-08T09:31:59.671Z"
   },
   {
    "duration": 13,
    "start_time": "2021-09-08T09:32:03.621Z"
   },
   {
    "duration": 10,
    "start_time": "2021-09-08T09:32:06.948Z"
   },
   {
    "duration": 278,
    "start_time": "2021-09-08T09:32:13.134Z"
   },
   {
    "duration": 46,
    "start_time": "2021-09-08T09:33:03.542Z"
   },
   {
    "duration": 538,
    "start_time": "2021-09-08T09:33:10.014Z"
   },
   {
    "duration": 16,
    "start_time": "2021-09-08T09:34:28.078Z"
   },
   {
    "duration": 17,
    "start_time": "2021-09-08T09:41:14.979Z"
   },
   {
    "duration": 43,
    "start_time": "2021-09-08T09:41:41.064Z"
   },
   {
    "duration": 23,
    "start_time": "2021-09-08T09:42:32.961Z"
   },
   {
    "duration": 37,
    "start_time": "2021-09-08T09:43:35.852Z"
   },
   {
    "duration": 6520,
    "start_time": "2021-09-08T09:47:49.012Z"
   },
   {
    "duration": 4,
    "start_time": "2021-09-08T09:49:48.639Z"
   },
   {
    "duration": 72,
    "start_time": "2021-09-08T09:49:48.645Z"
   },
   {
    "duration": 20,
    "start_time": "2021-09-08T09:49:48.720Z"
   },
   {
    "duration": 30,
    "start_time": "2021-09-08T09:49:48.743Z"
   },
   {
    "duration": 13,
    "start_time": "2021-09-08T09:49:48.776Z"
   },
   {
    "duration": 4713,
    "start_time": "2021-09-08T09:49:48.792Z"
   },
   {
    "duration": 60,
    "start_time": "2021-09-08T09:49:53.508Z"
   },
   {
    "duration": 13,
    "start_time": "2021-09-08T09:49:53.570Z"
   },
   {
    "duration": 12,
    "start_time": "2021-09-08T09:49:53.587Z"
   },
   {
    "duration": 175,
    "start_time": "2021-09-08T09:49:53.603Z"
   },
   {
    "duration": 11,
    "start_time": "2021-09-08T09:49:53.780Z"
   },
   {
    "duration": 16,
    "start_time": "2021-09-08T09:49:53.794Z"
   },
   {
    "duration": 82,
    "start_time": "2021-09-08T09:49:53.813Z"
   },
   {
    "duration": 12,
    "start_time": "2021-09-08T09:49:53.897Z"
   },
   {
    "duration": 92,
    "start_time": "2021-09-08T09:49:53.911Z"
   },
   {
    "duration": 23,
    "start_time": "2021-09-08T09:49:54.006Z"
   },
   {
    "duration": 36,
    "start_time": "2021-09-08T09:49:54.031Z"
   },
   {
    "duration": 21,
    "start_time": "2021-09-08T09:49:54.070Z"
   },
   {
    "duration": 274,
    "start_time": "2021-09-08T09:49:54.092Z"
   },
   {
    "duration": 45,
    "start_time": "2021-09-08T09:49:54.369Z"
   },
   {
    "duration": 592,
    "start_time": "2021-09-08T09:49:54.416Z"
   },
   {
    "duration": 35,
    "start_time": "2021-09-08T09:49:55.011Z"
   },
   {
    "duration": 24,
    "start_time": "2021-09-08T09:49:55.049Z"
   },
   {
    "duration": 568,
    "start_time": "2021-09-08T09:49:55.075Z"
   },
   {
    "duration": 33,
    "start_time": "2021-09-08T09:49:55.646Z"
   },
   {
    "duration": 397,
    "start_time": "2021-09-08T09:49:55.682Z"
   },
   {
    "duration": 4,
    "start_time": "2021-09-08T09:53:25.444Z"
   },
   {
    "duration": 65,
    "start_time": "2021-09-08T09:53:25.451Z"
   },
   {
    "duration": 18,
    "start_time": "2021-09-08T09:53:25.519Z"
   },
   {
    "duration": 31,
    "start_time": "2021-09-08T09:53:25.541Z"
   },
   {
    "duration": 8,
    "start_time": "2021-09-08T09:53:25.575Z"
   },
   {
    "duration": 4840,
    "start_time": "2021-09-08T09:53:25.586Z"
   },
   {
    "duration": 58,
    "start_time": "2021-09-08T09:53:30.429Z"
   },
   {
    "duration": 8,
    "start_time": "2021-09-08T09:53:30.491Z"
   },
   {
    "duration": 28,
    "start_time": "2021-09-08T09:53:30.502Z"
   },
   {
    "duration": 167,
    "start_time": "2021-09-08T09:53:30.533Z"
   },
   {
    "duration": 10,
    "start_time": "2021-09-08T09:53:30.703Z"
   },
   {
    "duration": 18,
    "start_time": "2021-09-08T09:53:30.716Z"
   },
   {
    "duration": 75,
    "start_time": "2021-09-08T09:53:30.736Z"
   },
   {
    "duration": 13,
    "start_time": "2021-09-08T09:53:30.813Z"
   },
   {
    "duration": 81,
    "start_time": "2021-09-08T09:53:30.828Z"
   },
   {
    "duration": 12,
    "start_time": "2021-09-08T09:53:30.911Z"
   },
   {
    "duration": 21,
    "start_time": "2021-09-08T09:53:30.926Z"
   },
   {
    "duration": 30,
    "start_time": "2021-09-08T09:53:30.949Z"
   },
   {
    "duration": 280,
    "start_time": "2021-09-08T09:53:30.982Z"
   },
   {
    "duration": 47,
    "start_time": "2021-09-08T09:53:31.268Z"
   },
   {
    "duration": 575,
    "start_time": "2021-09-08T09:53:31.318Z"
   },
   {
    "duration": 36,
    "start_time": "2021-09-08T09:53:31.895Z"
   },
   {
    "duration": 32,
    "start_time": "2021-09-08T09:53:31.935Z"
   },
   {
    "duration": 384,
    "start_time": "2021-09-08T09:53:31.970Z"
   },
   {
    "duration": 26,
    "start_time": "2021-09-08T09:53:32.356Z"
   },
   {
    "duration": 412,
    "start_time": "2021-09-08T09:53:32.384Z"
   },
   {
    "duration": 3,
    "start_time": "2021-09-08T10:04:39.096Z"
   },
   {
    "duration": 60,
    "start_time": "2021-09-08T10:04:39.102Z"
   },
   {
    "duration": 19,
    "start_time": "2021-09-08T10:04:39.165Z"
   },
   {
    "duration": 15,
    "start_time": "2021-09-08T10:04:39.186Z"
   },
   {
    "duration": 7,
    "start_time": "2021-09-08T10:04:39.203Z"
   },
   {
    "duration": 4940,
    "start_time": "2021-09-08T10:04:39.212Z"
   },
   {
    "duration": 58,
    "start_time": "2021-09-08T10:04:44.155Z"
   },
   {
    "duration": 16,
    "start_time": "2021-09-08T10:04:44.216Z"
   },
   {
    "duration": 38,
    "start_time": "2021-09-08T10:04:44.238Z"
   },
   {
    "duration": 157,
    "start_time": "2021-09-08T10:04:44.281Z"
   },
   {
    "duration": 10,
    "start_time": "2021-09-08T10:04:44.440Z"
   },
   {
    "duration": 25,
    "start_time": "2021-09-08T10:04:44.452Z"
   },
   {
    "duration": 55,
    "start_time": "2021-09-08T10:04:44.480Z"
   },
   {
    "duration": 33,
    "start_time": "2021-09-08T10:04:44.537Z"
   },
   {
    "duration": 128,
    "start_time": "2021-09-08T10:04:44.573Z"
   },
   {
    "duration": 465,
    "start_time": "2021-09-08T10:04:44.238Z"
   },
   {
    "duration": 458,
    "start_time": "2021-09-08T10:04:44.246Z"
   },
   {
    "duration": 457,
    "start_time": "2021-09-08T10:04:44.248Z"
   },
   {
    "duration": 457,
    "start_time": "2021-09-08T10:04:44.250Z"
   },
   {
    "duration": 456,
    "start_time": "2021-09-08T10:04:44.252Z"
   },
   {
    "duration": 456,
    "start_time": "2021-09-08T10:04:44.254Z"
   },
   {
    "duration": 433,
    "start_time": "2021-09-08T10:04:44.278Z"
   },
   {
    "duration": 429,
    "start_time": "2021-09-08T10:04:44.284Z"
   },
   {
    "duration": 428,
    "start_time": "2021-09-08T10:04:44.286Z"
   },
   {
    "duration": 426,
    "start_time": "2021-09-08T10:04:44.289Z"
   },
   {
    "duration": 425,
    "start_time": "2021-09-08T10:04:44.292Z"
   },
   {
    "duration": 49,
    "start_time": "2021-09-08T10:05:03.602Z"
   },
   {
    "duration": 14,
    "start_time": "2021-09-08T10:05:11.388Z"
   },
   {
    "duration": 17,
    "start_time": "2021-09-08T10:05:52.839Z"
   },
   {
    "duration": 4,
    "start_time": "2021-09-08T10:12:25.010Z"
   },
   {
    "duration": 66,
    "start_time": "2021-09-08T10:12:25.017Z"
   },
   {
    "duration": 19,
    "start_time": "2021-09-08T10:12:25.086Z"
   },
   {
    "duration": 16,
    "start_time": "2021-09-08T10:12:25.107Z"
   },
   {
    "duration": 5,
    "start_time": "2021-09-08T10:12:25.126Z"
   },
   {
    "duration": 4955,
    "start_time": "2021-09-08T10:12:25.133Z"
   },
   {
    "duration": 49,
    "start_time": "2021-09-08T10:12:30.090Z"
   },
   {
    "duration": 38,
    "start_time": "2021-09-08T10:12:30.143Z"
   },
   {
    "duration": 12,
    "start_time": "2021-09-08T10:12:30.185Z"
   },
   {
    "duration": 178,
    "start_time": "2021-09-08T10:12:30.200Z"
   },
   {
    "duration": 11,
    "start_time": "2021-09-08T10:12:30.381Z"
   },
   {
    "duration": 19,
    "start_time": "2021-09-08T10:12:30.395Z"
   },
   {
    "duration": 83,
    "start_time": "2021-09-08T10:12:30.417Z"
   },
   {
    "duration": 13,
    "start_time": "2021-09-08T10:12:30.502Z"
   },
   {
    "duration": 217,
    "start_time": "2021-09-08T10:12:30.518Z"
   },
   {
    "duration": 32,
    "start_time": "2021-09-08T10:12:30.738Z"
   },
   {
    "duration": 8,
    "start_time": "2021-09-08T10:12:30.773Z"
   },
   {
    "duration": 27,
    "start_time": "2021-09-08T10:12:30.784Z"
   },
   {
    "duration": 290,
    "start_time": "2021-09-08T10:12:30.814Z"
   },
   {
    "duration": 323,
    "start_time": "2021-09-08T10:12:31.107Z"
   },
   {
    "duration": 603,
    "start_time": "2021-09-08T10:12:31.433Z"
   },
   {
    "duration": 51,
    "start_time": "2021-09-08T10:12:32.039Z"
   },
   {
    "duration": 10,
    "start_time": "2021-09-08T10:12:32.093Z"
   },
   {
    "duration": 413,
    "start_time": "2021-09-08T10:12:32.106Z"
   },
   {
    "duration": 52,
    "start_time": "2021-09-08T10:12:32.522Z"
   },
   {
    "duration": 413,
    "start_time": "2021-09-08T10:12:32.577Z"
   },
   {
    "duration": 280,
    "start_time": "2021-09-08T10:12:58.690Z"
   },
   {
    "duration": 25,
    "start_time": "2021-09-08T10:14:43.856Z"
   },
   {
    "duration": 18,
    "start_time": "2021-09-08T10:15:11.944Z"
   },
   {
    "duration": 18,
    "start_time": "2021-09-08T10:15:56.224Z"
   },
   {
    "duration": 19,
    "start_time": "2021-09-08T10:16:22.720Z"
   },
   {
    "duration": 19,
    "start_time": "2021-09-08T10:17:01.148Z"
   },
   {
    "duration": 24,
    "start_time": "2021-09-08T10:17:24.962Z"
   },
   {
    "duration": 25,
    "start_time": "2021-09-08T10:18:13.058Z"
   },
   {
    "duration": 13,
    "start_time": "2021-09-08T10:18:56.608Z"
   },
   {
    "duration": 22,
    "start_time": "2021-09-08T10:19:05.704Z"
   },
   {
    "duration": 5,
    "start_time": "2021-09-08T10:25:33.344Z"
   },
   {
    "duration": 74,
    "start_time": "2021-09-08T10:25:33.351Z"
   },
   {
    "duration": 17,
    "start_time": "2021-09-08T10:25:33.429Z"
   },
   {
    "duration": 17,
    "start_time": "2021-09-08T10:25:33.472Z"
   },
   {
    "duration": 14,
    "start_time": "2021-09-08T10:25:33.492Z"
   },
   {
    "duration": 5342,
    "start_time": "2021-09-08T10:25:33.508Z"
   },
   {
    "duration": 67,
    "start_time": "2021-09-08T10:25:38.853Z"
   },
   {
    "duration": 8,
    "start_time": "2021-09-08T10:25:38.922Z"
   },
   {
    "duration": 12,
    "start_time": "2021-09-08T10:25:38.934Z"
   },
   {
    "duration": 164,
    "start_time": "2021-09-08T10:25:38.975Z"
   },
   {
    "duration": 11,
    "start_time": "2021-09-08T10:25:39.142Z"
   },
   {
    "duration": 31,
    "start_time": "2021-09-08T10:25:39.167Z"
   },
   {
    "duration": 54,
    "start_time": "2021-09-08T10:25:39.200Z"
   },
   {
    "duration": 35,
    "start_time": "2021-09-08T10:25:39.256Z"
   },
   {
    "duration": 267,
    "start_time": "2021-09-08T10:25:39.293Z"
   },
   {
    "duration": 25,
    "start_time": "2021-09-08T10:25:39.563Z"
   },
   {
    "duration": 5,
    "start_time": "2021-09-08T10:25:39.590Z"
   },
   {
    "duration": 25,
    "start_time": "2021-09-08T10:25:39.598Z"
   },
   {
    "duration": 313,
    "start_time": "2021-09-08T10:25:39.625Z"
   },
   {
    "duration": 604,
    "start_time": "2021-09-08T10:25:39.941Z"
   },
   {
    "duration": 22,
    "start_time": "2021-09-08T10:25:40.547Z"
   },
   {
    "duration": 11,
    "start_time": "2021-09-08T10:25:40.574Z"
   },
   {
    "duration": 408,
    "start_time": "2021-09-08T10:25:40.588Z"
   },
   {
    "duration": 26,
    "start_time": "2021-09-08T10:25:40.998Z"
   },
   {
    "duration": 432,
    "start_time": "2021-09-08T10:25:41.026Z"
   },
   {
    "duration": 27,
    "start_time": "2021-09-08T10:26:38.660Z"
   },
   {
    "duration": 23,
    "start_time": "2021-09-08T10:27:34.355Z"
   },
   {
    "duration": 19,
    "start_time": "2021-09-08T10:27:56.959Z"
   },
   {
    "duration": 554,
    "start_time": "2021-09-08T10:28:13.316Z"
   },
   {
    "duration": 19,
    "start_time": "2021-09-08T10:28:23.980Z"
   },
   {
    "duration": 17,
    "start_time": "2021-09-08T10:28:44.821Z"
   },
   {
    "duration": 19,
    "start_time": "2021-09-08T10:29:11.216Z"
   },
   {
    "duration": 18,
    "start_time": "2021-09-08T10:30:01.444Z"
   },
   {
    "duration": 4,
    "start_time": "2021-09-08T10:32:18.767Z"
   },
   {
    "duration": 67,
    "start_time": "2021-09-08T10:32:18.774Z"
   },
   {
    "duration": 29,
    "start_time": "2021-09-08T10:32:18.844Z"
   },
   {
    "duration": 28,
    "start_time": "2021-09-08T10:32:18.876Z"
   },
   {
    "duration": 8,
    "start_time": "2021-09-08T10:32:18.906Z"
   },
   {
    "duration": 4831,
    "start_time": "2021-09-08T10:32:18.916Z"
   },
   {
    "duration": 62,
    "start_time": "2021-09-08T10:32:23.750Z"
   },
   {
    "duration": 8,
    "start_time": "2021-09-08T10:32:23.818Z"
   },
   {
    "duration": 20,
    "start_time": "2021-09-08T10:32:23.829Z"
   },
   {
    "duration": 180,
    "start_time": "2021-09-08T10:32:23.852Z"
   },
   {
    "duration": 10,
    "start_time": "2021-09-08T10:32:24.034Z"
   },
   {
    "duration": 30,
    "start_time": "2021-09-08T10:32:24.047Z"
   },
   {
    "duration": 54,
    "start_time": "2021-09-08T10:32:24.080Z"
   },
   {
    "duration": 41,
    "start_time": "2021-09-08T10:32:24.136Z"
   },
   {
    "duration": 302,
    "start_time": "2021-09-08T10:32:24.181Z"
   },
   {
    "duration": 13,
    "start_time": "2021-09-08T10:32:24.486Z"
   },
   {
    "duration": 10,
    "start_time": "2021-09-08T10:32:24.502Z"
   },
   {
    "duration": 23,
    "start_time": "2021-09-08T10:32:24.514Z"
   },
   {
    "duration": 630,
    "start_time": "2021-09-08T10:32:24.568Z"
   },
   {
    "duration": 19,
    "start_time": "2021-09-08T10:32:25.200Z"
   },
   {
    "duration": 12,
    "start_time": "2021-09-08T10:32:25.221Z"
   },
   {
    "duration": 546,
    "start_time": "2021-09-08T10:32:25.236Z"
   },
   {
    "duration": 28,
    "start_time": "2021-09-08T10:32:25.784Z"
   },
   {
    "duration": 446,
    "start_time": "2021-09-08T10:32:25.814Z"
   },
   {
    "duration": 324,
    "start_time": "2021-09-08T10:35:23.397Z"
   },
   {
    "duration": 4,
    "start_time": "2021-09-08T10:35:27.615Z"
   },
   {
    "duration": 67,
    "start_time": "2021-09-08T10:35:27.622Z"
   },
   {
    "duration": 21,
    "start_time": "2021-09-08T10:35:27.693Z"
   },
   {
    "duration": 15,
    "start_time": "2021-09-08T10:35:27.718Z"
   },
   {
    "duration": 8,
    "start_time": "2021-09-08T10:35:27.776Z"
   },
   {
    "duration": 5077,
    "start_time": "2021-09-08T10:35:27.786Z"
   },
   {
    "duration": 55,
    "start_time": "2021-09-08T10:35:32.870Z"
   },
   {
    "duration": 8,
    "start_time": "2021-09-08T10:35:32.929Z"
   },
   {
    "duration": 41,
    "start_time": "2021-09-08T10:35:32.940Z"
   },
   {
    "duration": 151,
    "start_time": "2021-09-08T10:35:32.983Z"
   },
   {
    "duration": 10,
    "start_time": "2021-09-08T10:35:33.137Z"
   },
   {
    "duration": 31,
    "start_time": "2021-09-08T10:35:33.150Z"
   },
   {
    "duration": 52,
    "start_time": "2021-09-08T10:35:33.183Z"
   },
   {
    "duration": 43,
    "start_time": "2021-09-08T10:35:33.237Z"
   },
   {
    "duration": 303,
    "start_time": "2021-09-08T10:35:33.282Z"
   },
   {
    "duration": 12,
    "start_time": "2021-09-08T10:35:33.588Z"
   },
   {
    "duration": 5,
    "start_time": "2021-09-08T10:35:33.603Z"
   },
   {
    "duration": 30,
    "start_time": "2021-09-08T10:35:33.611Z"
   },
   {
    "duration": 575,
    "start_time": "2021-09-08T10:35:33.643Z"
   },
   {
    "duration": 17,
    "start_time": "2021-09-08T10:35:34.221Z"
   },
   {
    "duration": 27,
    "start_time": "2021-09-08T10:35:34.241Z"
   },
   {
    "duration": 409,
    "start_time": "2021-09-08T10:35:34.276Z"
   },
   {
    "duration": 27,
    "start_time": "2021-09-08T10:35:34.689Z"
   },
   {
    "duration": 423,
    "start_time": "2021-09-08T10:35:34.719Z"
   },
   {
    "duration": 18,
    "start_time": "2021-09-08T10:36:39.983Z"
   },
   {
    "duration": 3,
    "start_time": "2021-09-08T10:38:55.328Z"
   },
   {
    "duration": 64,
    "start_time": "2021-09-08T10:38:55.334Z"
   },
   {
    "duration": 25,
    "start_time": "2021-09-08T10:38:55.401Z"
   },
   {
    "duration": 13,
    "start_time": "2021-09-08T10:38:55.429Z"
   },
   {
    "duration": 32,
    "start_time": "2021-09-08T10:38:55.445Z"
   },
   {
    "duration": 4961,
    "start_time": "2021-09-08T10:38:55.481Z"
   },
   {
    "duration": 67,
    "start_time": "2021-09-08T10:39:00.445Z"
   },
   {
    "duration": 19,
    "start_time": "2021-09-08T10:39:00.517Z"
   },
   {
    "duration": 16,
    "start_time": "2021-09-08T10:39:00.539Z"
   },
   {
    "duration": 166,
    "start_time": "2021-09-08T10:39:00.567Z"
   },
   {
    "duration": 10,
    "start_time": "2021-09-08T10:39:00.735Z"
   },
   {
    "duration": 29,
    "start_time": "2021-09-08T10:39:00.747Z"
   },
   {
    "duration": 65,
    "start_time": "2021-09-08T10:39:00.779Z"
   },
   {
    "duration": 31,
    "start_time": "2021-09-08T10:39:00.846Z"
   },
   {
    "duration": 347,
    "start_time": "2021-09-08T10:39:00.879Z"
   },
   {
    "duration": 13,
    "start_time": "2021-09-08T10:39:01.229Z"
   },
   {
    "duration": 35,
    "start_time": "2021-09-08T10:39:01.245Z"
   },
   {
    "duration": 31,
    "start_time": "2021-09-08T10:39:01.283Z"
   },
   {
    "duration": 629,
    "start_time": "2021-09-08T10:39:01.317Z"
   },
   {
    "duration": 35,
    "start_time": "2021-09-08T10:39:01.949Z"
   },
   {
    "duration": 41,
    "start_time": "2021-09-08T10:39:01.986Z"
   },
   {
    "duration": 537,
    "start_time": "2021-09-08T10:39:02.029Z"
   },
   {
    "duration": 29,
    "start_time": "2021-09-08T10:39:02.571Z"
   },
   {
    "duration": 432,
    "start_time": "2021-09-08T10:39:02.602Z"
   },
   {
    "duration": 4,
    "start_time": "2021-09-08T10:44:51.276Z"
   },
   {
    "duration": 73,
    "start_time": "2021-09-08T10:44:51.283Z"
   },
   {
    "duration": 23,
    "start_time": "2021-09-08T10:44:51.359Z"
   },
   {
    "duration": 17,
    "start_time": "2021-09-08T10:44:51.385Z"
   },
   {
    "duration": 12,
    "start_time": "2021-09-08T10:44:51.404Z"
   },
   {
    "duration": 4962,
    "start_time": "2021-09-08T10:44:51.419Z"
   },
   {
    "duration": 49,
    "start_time": "2021-09-08T10:44:56.383Z"
   },
   {
    "duration": 8,
    "start_time": "2021-09-08T10:44:56.436Z"
   },
   {
    "duration": 39,
    "start_time": "2021-09-08T10:44:56.447Z"
   },
   {
    "duration": 158,
    "start_time": "2021-09-08T10:44:56.489Z"
   },
   {
    "duration": 17,
    "start_time": "2021-09-08T10:44:56.650Z"
   },
   {
    "duration": 17,
    "start_time": "2021-09-08T10:44:56.670Z"
   },
   {
    "duration": 85,
    "start_time": "2021-09-08T10:44:56.689Z"
   },
   {
    "duration": 14,
    "start_time": "2021-09-08T10:44:56.777Z"
   },
   {
    "duration": 233,
    "start_time": "2021-09-08T10:44:56.794Z"
   },
   {
    "duration": 432,
    "start_time": "2021-09-08T10:44:56.598Z"
   },
   {
    "duration": 430,
    "start_time": "2021-09-08T10:44:56.601Z"
   },
   {
    "duration": 430,
    "start_time": "2021-09-08T10:44:56.603Z"
   },
   {
    "duration": 429,
    "start_time": "2021-09-08T10:44:56.605Z"
   },
   {
    "duration": 430,
    "start_time": "2021-09-08T10:44:56.606Z"
   },
   {
    "duration": 429,
    "start_time": "2021-09-08T10:44:56.608Z"
   },
   {
    "duration": 412,
    "start_time": "2021-09-08T10:44:56.627Z"
   },
   {
    "duration": 380,
    "start_time": "2021-09-08T10:44:56.660Z"
   },
   {
    "duration": 375,
    "start_time": "2021-09-08T10:44:56.667Z"
   },
   {
    "duration": 245,
    "start_time": "2021-09-08T10:45:37.848Z"
   },
   {
    "duration": 13,
    "start_time": "2021-09-08T10:45:38.096Z"
   },
   {
    "duration": 5,
    "start_time": "2021-09-08T10:45:38.112Z"
   },
   {
    "duration": 23,
    "start_time": "2021-09-08T10:45:38.120Z"
   },
   {
    "duration": 570,
    "start_time": "2021-09-08T10:45:38.171Z"
   },
   {
    "duration": 12,
    "start_time": "2021-09-08T10:45:38.743Z"
   },
   {
    "duration": 11,
    "start_time": "2021-09-08T10:45:38.771Z"
   },
   {
    "duration": 515,
    "start_time": "2021-09-08T10:45:38.785Z"
   },
   {
    "duration": 27,
    "start_time": "2021-09-08T10:45:39.303Z"
   },
   {
    "duration": 426,
    "start_time": "2021-09-08T10:45:39.333Z"
   },
   {
    "duration": 4,
    "start_time": "2021-09-08T10:47:21.950Z"
   },
   {
    "duration": 78,
    "start_time": "2021-09-08T10:47:21.957Z"
   },
   {
    "duration": 20,
    "start_time": "2021-09-08T10:47:22.037Z"
   },
   {
    "duration": 18,
    "start_time": "2021-09-08T10:47:22.067Z"
   },
   {
    "duration": 5,
    "start_time": "2021-09-08T10:47:22.088Z"
   },
   {
    "duration": 5267,
    "start_time": "2021-09-08T10:47:22.095Z"
   },
   {
    "duration": 53,
    "start_time": "2021-09-08T10:47:27.367Z"
   },
   {
    "duration": 8,
    "start_time": "2021-09-08T10:47:27.423Z"
   },
   {
    "duration": 41,
    "start_time": "2021-09-08T10:47:27.435Z"
   },
   {
    "duration": 169,
    "start_time": "2021-09-08T10:47:27.480Z"
   },
   {
    "duration": 26,
    "start_time": "2021-09-08T10:47:27.652Z"
   },
   {
    "duration": 15,
    "start_time": "2021-09-08T10:47:27.682Z"
   },
   {
    "duration": 55,
    "start_time": "2021-09-08T10:47:27.699Z"
   },
   {
    "duration": 16,
    "start_time": "2021-09-08T10:47:27.767Z"
   },
   {
    "duration": 340,
    "start_time": "2021-09-08T10:47:27.785Z"
   },
   {
    "duration": 12,
    "start_time": "2021-09-08T10:47:28.127Z"
   },
   {
    "duration": 7,
    "start_time": "2021-09-08T10:47:28.142Z"
   },
   {
    "duration": 34,
    "start_time": "2021-09-08T10:47:28.152Z"
   },
   {
    "duration": 592,
    "start_time": "2021-09-08T10:47:28.188Z"
   },
   {
    "duration": 13,
    "start_time": "2021-09-08T10:47:28.783Z"
   },
   {
    "duration": 9,
    "start_time": "2021-09-08T10:47:28.799Z"
   },
   {
    "duration": 416,
    "start_time": "2021-09-08T10:47:28.811Z"
   },
   {
    "duration": 44,
    "start_time": "2021-09-08T10:47:29.229Z"
   },
   {
    "duration": 412,
    "start_time": "2021-09-08T10:47:29.275Z"
   },
   {
    "duration": 23,
    "start_time": "2021-09-08T10:47:47.351Z"
   },
   {
    "duration": 25,
    "start_time": "2021-09-08T10:48:28.872Z"
   },
   {
    "duration": 18,
    "start_time": "2021-09-08T10:48:41.523Z"
   },
   {
    "duration": 19,
    "start_time": "2021-09-08T10:49:44.277Z"
   },
   {
    "duration": 24,
    "start_time": "2021-09-08T10:50:28.564Z"
   },
   {
    "duration": 20,
    "start_time": "2021-09-08T10:51:24.064Z"
   },
   {
    "duration": 19,
    "start_time": "2021-09-08T10:51:56.477Z"
   },
   {
    "duration": 18,
    "start_time": "2021-09-08T10:53:58.484Z"
   },
   {
    "duration": 4,
    "start_time": "2021-09-08T10:54:56.698Z"
   },
   {
    "duration": 59,
    "start_time": "2021-09-08T10:54:56.705Z"
   },
   {
    "duration": 20,
    "start_time": "2021-09-08T10:54:56.771Z"
   },
   {
    "duration": 14,
    "start_time": "2021-09-08T10:54:56.793Z"
   },
   {
    "duration": 6,
    "start_time": "2021-09-08T10:54:56.809Z"
   },
   {
    "duration": 5166,
    "start_time": "2021-09-08T10:54:56.817Z"
   },
   {
    "duration": 52,
    "start_time": "2021-09-08T10:55:01.986Z"
   },
   {
    "duration": 34,
    "start_time": "2021-09-08T10:55:02.041Z"
   },
   {
    "duration": 60,
    "start_time": "2021-09-08T10:55:02.079Z"
   },
   {
    "duration": 171,
    "start_time": "2021-09-08T10:55:02.143Z"
   },
   {
    "duration": 11,
    "start_time": "2021-09-08T10:55:02.317Z"
   },
   {
    "duration": 44,
    "start_time": "2021-09-08T10:55:02.330Z"
   },
   {
    "duration": 61,
    "start_time": "2021-09-08T10:55:02.377Z"
   },
   {
    "duration": 34,
    "start_time": "2021-09-08T10:55:02.441Z"
   },
   {
    "duration": 423,
    "start_time": "2021-09-08T10:55:02.478Z"
   },
   {
    "duration": 13,
    "start_time": "2021-09-08T10:55:02.903Z"
   },
   {
    "duration": 17,
    "start_time": "2021-09-08T10:55:02.918Z"
   },
   {
    "duration": 35,
    "start_time": "2021-09-08T10:55:02.937Z"
   },
   {
    "duration": 692,
    "start_time": "2021-09-08T10:55:02.975Z"
   },
   {
    "duration": 16,
    "start_time": "2021-09-08T10:55:03.669Z"
   },
   {
    "duration": 18,
    "start_time": "2021-09-08T10:55:03.687Z"
   },
   {
    "duration": 421,
    "start_time": "2021-09-08T10:55:03.707Z"
   },
   {
    "duration": 41,
    "start_time": "2021-09-08T10:55:04.131Z"
   },
   {
    "duration": 478,
    "start_time": "2021-09-08T10:55:04.175Z"
   },
   {
    "duration": 13,
    "start_time": "2021-09-08T10:55:48.733Z"
   },
   {
    "duration": 25,
    "start_time": "2021-09-08T10:55:55.831Z"
   },
   {
    "duration": 651,
    "start_time": "2021-09-08T10:59:16.937Z"
   },
   {
    "duration": 666,
    "start_time": "2021-09-08T10:59:26.870Z"
   },
   {
    "duration": 15,
    "start_time": "2021-09-08T11:00:10.817Z"
   },
   {
    "duration": 22,
    "start_time": "2021-09-08T11:00:23.072Z"
   },
   {
    "duration": 19,
    "start_time": "2021-09-08T11:01:26.511Z"
   },
   {
    "duration": 26,
    "start_time": "2021-09-08T11:02:22.863Z"
   },
   {
    "duration": 19,
    "start_time": "2021-09-08T11:03:51.839Z"
   },
   {
    "duration": 588,
    "start_time": "2021-09-08T11:05:21.439Z"
   },
   {
    "duration": 5,
    "start_time": "2021-09-08T11:05:25.976Z"
   },
   {
    "duration": 71,
    "start_time": "2021-09-08T11:05:25.984Z"
   },
   {
    "duration": 26,
    "start_time": "2021-09-08T11:05:26.058Z"
   },
   {
    "duration": 27,
    "start_time": "2021-09-08T11:05:26.088Z"
   },
   {
    "duration": 10,
    "start_time": "2021-09-08T11:05:26.118Z"
   },
   {
    "duration": 5444,
    "start_time": "2021-09-08T11:05:26.131Z"
   },
   {
    "duration": 63,
    "start_time": "2021-09-08T11:05:31.583Z"
   },
   {
    "duration": 24,
    "start_time": "2021-09-08T11:05:31.649Z"
   },
   {
    "duration": 23,
    "start_time": "2021-09-08T11:05:31.678Z"
   },
   {
    "duration": 182,
    "start_time": "2021-09-08T11:05:31.704Z"
   },
   {
    "duration": 11,
    "start_time": "2021-09-08T11:05:31.888Z"
   },
   {
    "duration": 16,
    "start_time": "2021-09-08T11:05:31.902Z"
   },
   {
    "duration": 80,
    "start_time": "2021-09-08T11:05:31.921Z"
   },
   {
    "duration": 12,
    "start_time": "2021-09-08T11:05:32.004Z"
   },
   {
    "duration": 672,
    "start_time": "2021-09-08T11:05:32.018Z"
   },
   {
    "duration": 11,
    "start_time": "2021-09-08T11:05:32.693Z"
   },
   {
    "duration": 15,
    "start_time": "2021-09-08T11:05:32.707Z"
   },
   {
    "duration": 24,
    "start_time": "2021-09-08T11:05:32.725Z"
   },
   {
    "duration": 683,
    "start_time": "2021-09-08T11:05:32.752Z"
   },
   {
    "duration": 12,
    "start_time": "2021-09-08T11:05:33.437Z"
   },
   {
    "duration": 10,
    "start_time": "2021-09-08T11:05:33.475Z"
   },
   {
    "duration": 516,
    "start_time": "2021-09-08T11:05:33.487Z"
   },
   {
    "duration": 27,
    "start_time": "2021-09-08T11:05:34.005Z"
   },
   {
    "duration": 544,
    "start_time": "2021-09-08T11:05:34.034Z"
   },
   {
    "duration": 20,
    "start_time": "2021-09-08T11:07:42.223Z"
   },
   {
    "duration": 19,
    "start_time": "2021-09-08T11:09:33.131Z"
   },
   {
    "duration": 4,
    "start_time": "2021-09-08T11:11:25.684Z"
   },
   {
    "duration": 57,
    "start_time": "2021-09-08T11:11:25.691Z"
   },
   {
    "duration": 27,
    "start_time": "2021-09-08T11:11:25.752Z"
   },
   {
    "duration": 14,
    "start_time": "2021-09-08T11:11:25.782Z"
   },
   {
    "duration": 8,
    "start_time": "2021-09-08T11:11:25.798Z"
   },
   {
    "duration": 5704,
    "start_time": "2021-09-08T11:11:25.809Z"
   },
   {
    "duration": 65,
    "start_time": "2021-09-08T11:11:31.516Z"
   },
   {
    "duration": 12,
    "start_time": "2021-09-08T11:11:31.583Z"
   },
   {
    "duration": 21,
    "start_time": "2021-09-08T11:11:31.597Z"
   },
   {
    "duration": 207,
    "start_time": "2021-09-08T11:11:31.621Z"
   },
   {
    "duration": 13,
    "start_time": "2021-09-08T11:11:31.831Z"
   },
   {
    "duration": 42,
    "start_time": "2021-09-08T11:11:31.847Z"
   },
   {
    "duration": 56,
    "start_time": "2021-09-08T11:11:31.893Z"
   },
   {
    "duration": 17,
    "start_time": "2021-09-08T11:11:31.967Z"
   },
   {
    "duration": 682,
    "start_time": "2021-09-08T11:11:31.988Z"
   },
   {
    "duration": 14,
    "start_time": "2021-09-08T11:11:32.673Z"
   },
   {
    "duration": 5,
    "start_time": "2021-09-08T11:11:32.690Z"
   },
   {
    "duration": 25,
    "start_time": "2021-09-08T11:11:32.698Z"
   },
   {
    "duration": 699,
    "start_time": "2021-09-08T11:11:32.725Z"
   },
   {
    "duration": 12,
    "start_time": "2021-09-08T11:11:33.427Z"
   },
   {
    "duration": 30,
    "start_time": "2021-09-08T11:11:33.441Z"
   },
   {
    "duration": 409,
    "start_time": "2021-09-08T11:11:33.473Z"
   },
   {
    "duration": 27,
    "start_time": "2021-09-08T11:11:33.885Z"
   },
   {
    "duration": 420,
    "start_time": "2021-09-08T11:11:33.914Z"
   },
   {
    "duration": 17,
    "start_time": "2021-09-08T11:13:07.916Z"
   },
   {
    "duration": 18,
    "start_time": "2021-09-08T11:14:36.507Z"
   },
   {
    "duration": 14,
    "start_time": "2021-09-08T11:15:48.684Z"
   },
   {
    "duration": 26,
    "start_time": "2021-09-08T11:16:02.265Z"
   },
   {
    "duration": 4,
    "start_time": "2021-09-08T11:16:56.669Z"
   },
   {
    "duration": 54,
    "start_time": "2021-09-08T11:16:56.687Z"
   },
   {
    "duration": 30,
    "start_time": "2021-09-08T11:16:56.743Z"
   },
   {
    "duration": 13,
    "start_time": "2021-09-08T11:16:56.777Z"
   },
   {
    "duration": 6,
    "start_time": "2021-09-08T11:16:56.794Z"
   },
   {
    "duration": 4906,
    "start_time": "2021-09-08T11:16:56.802Z"
   },
   {
    "duration": 75,
    "start_time": "2021-09-08T11:17:01.710Z"
   },
   {
    "duration": 9,
    "start_time": "2021-09-08T11:17:01.790Z"
   },
   {
    "duration": 104,
    "start_time": "2021-09-08T11:17:01.801Z"
   },
   {
    "duration": 221,
    "start_time": "2021-09-08T11:17:01.909Z"
   },
   {
    "duration": 11,
    "start_time": "2021-09-08T11:17:02.133Z"
   },
   {
    "duration": 72,
    "start_time": "2021-09-08T11:17:02.147Z"
   },
   {
    "duration": 85,
    "start_time": "2021-09-08T11:17:02.221Z"
   },
   {
    "duration": 12,
    "start_time": "2021-09-08T11:17:02.309Z"
   },
   {
    "duration": 787,
    "start_time": "2021-09-08T11:17:02.323Z"
   },
   {
    "duration": 11,
    "start_time": "2021-09-08T11:17:03.112Z"
   },
   {
    "duration": 25,
    "start_time": "2021-09-08T11:17:03.126Z"
   },
   {
    "duration": 34,
    "start_time": "2021-09-08T11:17:03.153Z"
   },
   {
    "duration": 735,
    "start_time": "2021-09-08T11:17:03.189Z"
   },
   {
    "duration": 13,
    "start_time": "2021-09-08T11:17:03.926Z"
   },
   {
    "duration": 36,
    "start_time": "2021-09-08T11:17:03.941Z"
   },
   {
    "duration": 512,
    "start_time": "2021-09-08T11:17:03.980Z"
   },
   {
    "duration": 27,
    "start_time": "2021-09-08T11:17:04.495Z"
   },
   {
    "duration": 442,
    "start_time": "2021-09-08T11:17:04.525Z"
   },
   {
    "duration": 138,
    "start_time": "2021-09-08T11:18:05.256Z"
   },
   {
    "duration": 21,
    "start_time": "2021-09-08T11:18:17.952Z"
   },
   {
    "duration": 33,
    "start_time": "2021-09-08T11:18:55.145Z"
   },
   {
    "duration": 19,
    "start_time": "2021-09-08T11:19:37.378Z"
   },
   {
    "duration": 4,
    "start_time": "2021-09-08T11:20:16.442Z"
   },
   {
    "duration": 62,
    "start_time": "2021-09-08T11:20:16.448Z"
   },
   {
    "duration": 19,
    "start_time": "2021-09-08T11:20:16.513Z"
   },
   {
    "duration": 50,
    "start_time": "2021-09-08T11:20:16.535Z"
   },
   {
    "duration": 8,
    "start_time": "2021-09-08T11:20:16.587Z"
   },
   {
    "duration": 5053,
    "start_time": "2021-09-08T11:20:16.598Z"
   },
   {
    "duration": 65,
    "start_time": "2021-09-08T11:20:21.653Z"
   },
   {
    "duration": 12,
    "start_time": "2021-09-08T11:20:21.721Z"
   },
   {
    "duration": 30,
    "start_time": "2021-09-08T11:20:21.736Z"
   },
   {
    "duration": 165,
    "start_time": "2021-09-08T11:20:21.771Z"
   },
   {
    "duration": 11,
    "start_time": "2021-09-08T11:20:21.938Z"
   },
   {
    "duration": 30,
    "start_time": "2021-09-08T11:20:21.952Z"
   },
   {
    "duration": 55,
    "start_time": "2021-09-08T11:20:21.984Z"
   },
   {
    "duration": 45,
    "start_time": "2021-09-08T11:20:22.041Z"
   },
   {
    "duration": 858,
    "start_time": "2021-09-08T11:20:22.089Z"
   },
   {
    "duration": 25,
    "start_time": "2021-09-08T11:20:22.950Z"
   },
   {
    "duration": 12,
    "start_time": "2021-09-08T11:20:22.978Z"
   },
   {
    "duration": 32,
    "start_time": "2021-09-08T11:20:22.992Z"
   },
   {
    "duration": 740,
    "start_time": "2021-09-08T11:20:23.027Z"
   },
   {
    "duration": 22,
    "start_time": "2021-09-08T11:20:23.771Z"
   },
   {
    "duration": 24,
    "start_time": "2021-09-08T11:20:23.796Z"
   },
   {
    "duration": 413,
    "start_time": "2021-09-08T11:20:23.822Z"
   },
   {
    "duration": 41,
    "start_time": "2021-09-08T11:20:24.239Z"
   },
   {
    "duration": 421,
    "start_time": "2021-09-08T11:20:24.283Z"
   },
   {
    "duration": 19,
    "start_time": "2021-09-08T11:21:52.495Z"
   },
   {
    "duration": 4,
    "start_time": "2021-09-08T11:23:16.425Z"
   },
   {
    "duration": 68,
    "start_time": "2021-09-08T11:23:16.432Z"
   },
   {
    "duration": 21,
    "start_time": "2021-09-08T11:23:16.503Z"
   },
   {
    "duration": 12,
    "start_time": "2021-09-08T11:23:16.527Z"
   },
   {
    "duration": 31,
    "start_time": "2021-09-08T11:23:16.545Z"
   },
   {
    "duration": 5347,
    "start_time": "2021-09-08T11:23:16.579Z"
   },
   {
    "duration": 69,
    "start_time": "2021-09-08T11:23:21.929Z"
   },
   {
    "duration": 7,
    "start_time": "2021-09-08T11:23:22.000Z"
   },
   {
    "duration": 12,
    "start_time": "2021-09-08T11:23:22.011Z"
   },
   {
    "duration": 192,
    "start_time": "2021-09-08T11:23:22.026Z"
   },
   {
    "duration": 10,
    "start_time": "2021-09-08T11:23:22.221Z"
   },
   {
    "duration": 41,
    "start_time": "2021-09-08T11:23:22.234Z"
   },
   {
    "duration": 56,
    "start_time": "2021-09-08T11:23:22.277Z"
   },
   {
    "duration": 31,
    "start_time": "2021-09-08T11:23:22.335Z"
   },
   {
    "duration": 816,
    "start_time": "2021-09-08T11:23:22.369Z"
   },
   {
    "duration": 13,
    "start_time": "2021-09-08T11:23:23.187Z"
   },
   {
    "duration": 9,
    "start_time": "2021-09-08T11:23:23.202Z"
   },
   {
    "duration": 18,
    "start_time": "2021-09-08T11:23:23.213Z"
   },
   {
    "duration": 803,
    "start_time": "2021-09-08T11:23:23.233Z"
   },
   {
    "duration": 40,
    "start_time": "2021-09-08T11:23:24.039Z"
   },
   {
    "duration": 8,
    "start_time": "2021-09-08T11:23:24.081Z"
   },
   {
    "duration": 404,
    "start_time": "2021-09-08T11:23:24.092Z"
   },
   {
    "duration": 27,
    "start_time": "2021-09-08T11:23:24.498Z"
   },
   {
    "duration": 429,
    "start_time": "2021-09-08T11:23:24.527Z"
   },
   {
    "duration": 781,
    "start_time": "2021-09-08T11:27:23.148Z"
   },
   {
    "duration": 766,
    "start_time": "2021-09-08T11:28:33.514Z"
   },
   {
    "duration": 24,
    "start_time": "2021-09-08T11:30:05.023Z"
   },
   {
    "duration": 5,
    "start_time": "2021-09-08T11:31:13.865Z"
   },
   {
    "duration": 69,
    "start_time": "2021-09-08T11:31:13.875Z"
   },
   {
    "duration": 32,
    "start_time": "2021-09-08T11:31:13.947Z"
   },
   {
    "duration": 15,
    "start_time": "2021-09-08T11:31:13.983Z"
   },
   {
    "duration": 6,
    "start_time": "2021-09-08T11:31:14.000Z"
   },
   {
    "duration": 5150,
    "start_time": "2021-09-08T11:31:14.008Z"
   },
   {
    "duration": 55,
    "start_time": "2021-09-08T11:31:19.167Z"
   },
   {
    "duration": 21,
    "start_time": "2021-09-08T11:31:19.225Z"
   },
   {
    "duration": 31,
    "start_time": "2021-09-08T11:31:19.250Z"
   },
   {
    "duration": 168,
    "start_time": "2021-09-08T11:31:19.284Z"
   },
   {
    "duration": 15,
    "start_time": "2021-09-08T11:31:19.454Z"
   },
   {
    "duration": 20,
    "start_time": "2021-09-08T11:31:19.472Z"
   },
   {
    "duration": 88,
    "start_time": "2021-09-08T11:31:19.494Z"
   },
   {
    "duration": 14,
    "start_time": "2021-09-08T11:31:19.584Z"
   },
   {
    "duration": 1010,
    "start_time": "2021-09-08T11:31:19.600Z"
   },
   {
    "duration": 12,
    "start_time": "2021-09-08T11:31:20.613Z"
   },
   {
    "duration": 10,
    "start_time": "2021-09-08T11:31:20.627Z"
   },
   {
    "duration": 44,
    "start_time": "2021-09-08T11:31:20.639Z"
   },
   {
    "duration": 781,
    "start_time": "2021-09-08T11:31:20.686Z"
   },
   {
    "duration": 15,
    "start_time": "2021-09-08T11:31:21.469Z"
   },
   {
    "duration": 8,
    "start_time": "2021-09-08T11:31:21.487Z"
   },
   {
    "duration": 551,
    "start_time": "2021-09-08T11:31:21.497Z"
   },
   {
    "duration": 41,
    "start_time": "2021-09-08T11:31:22.052Z"
   },
   {
    "duration": 431,
    "start_time": "2021-09-08T11:31:22.095Z"
   },
   {
    "duration": 754,
    "start_time": "2021-09-08T11:32:43.370Z"
   },
   {
    "duration": 18,
    "start_time": "2021-09-08T11:33:34.395Z"
   },
   {
    "duration": 799,
    "start_time": "2021-09-08T11:34:02.239Z"
   },
   {
    "duration": 19,
    "start_time": "2021-09-08T11:34:38.900Z"
   },
   {
    "duration": 986,
    "start_time": "2021-09-08T11:35:54.672Z"
   },
   {
    "duration": 4,
    "start_time": "2021-09-08T11:36:56.568Z"
   },
   {
    "duration": 57,
    "start_time": "2021-09-08T11:36:56.575Z"
   },
   {
    "duration": 33,
    "start_time": "2021-09-08T11:36:56.635Z"
   },
   {
    "duration": 15,
    "start_time": "2021-09-08T11:36:56.671Z"
   },
   {
    "duration": 5,
    "start_time": "2021-09-08T11:36:56.689Z"
   },
   {
    "duration": 4949,
    "start_time": "2021-09-08T11:36:56.697Z"
   },
   {
    "duration": 82,
    "start_time": "2021-09-08T11:37:01.655Z"
   },
   {
    "duration": 10,
    "start_time": "2021-09-08T11:37:01.740Z"
   },
   {
    "duration": 20,
    "start_time": "2021-09-08T11:37:01.773Z"
   },
   {
    "duration": 182,
    "start_time": "2021-09-08T11:37:01.796Z"
   },
   {
    "duration": 12,
    "start_time": "2021-09-08T11:37:01.980Z"
   },
   {
    "duration": 30,
    "start_time": "2021-09-08T11:37:01.995Z"
   },
   {
    "duration": 65,
    "start_time": "2021-09-08T11:37:02.027Z"
   },
   {
    "duration": 13,
    "start_time": "2021-09-08T11:37:02.094Z"
   },
   {
    "duration": 901,
    "start_time": "2021-09-08T11:37:02.109Z"
   },
   {
    "duration": 13,
    "start_time": "2021-09-08T11:37:03.012Z"
   },
   {
    "duration": 8,
    "start_time": "2021-09-08T11:37:03.027Z"
   },
   {
    "duration": 48,
    "start_time": "2021-09-08T11:37:03.037Z"
   },
   {
    "duration": 768,
    "start_time": "2021-09-08T11:37:03.087Z"
   },
   {
    "duration": 17,
    "start_time": "2021-09-08T11:37:03.858Z"
   },
   {
    "duration": 13,
    "start_time": "2021-09-08T11:37:03.878Z"
   },
   {
    "duration": 545,
    "start_time": "2021-09-08T11:37:03.893Z"
   },
   {
    "duration": 41,
    "start_time": "2021-09-08T11:37:04.440Z"
   },
   {
    "duration": 422,
    "start_time": "2021-09-08T11:37:04.484Z"
   },
   {
    "duration": 17,
    "start_time": "2021-09-08T11:38:41.296Z"
   },
   {
    "duration": 925,
    "start_time": "2021-09-08T11:39:06.859Z"
   },
   {
    "duration": 20,
    "start_time": "2021-09-08T11:39:36.348Z"
   },
   {
    "duration": 826,
    "start_time": "2021-09-08T11:39:58.261Z"
   },
   {
    "duration": 21,
    "start_time": "2021-09-08T11:40:43.760Z"
   },
   {
    "duration": 842,
    "start_time": "2021-09-08T11:41:25.992Z"
   },
   {
    "duration": 885,
    "start_time": "2021-09-08T11:42:10.675Z"
   },
   {
    "duration": 20,
    "start_time": "2021-09-08T11:44:03.125Z"
   },
   {
    "duration": 21,
    "start_time": "2021-09-08T11:45:07.969Z"
   },
   {
    "duration": 19,
    "start_time": "2021-09-08T11:46:50.583Z"
   },
   {
    "duration": 17,
    "start_time": "2021-09-08T11:48:21.709Z"
   },
   {
    "duration": 17,
    "start_time": "2021-09-08T11:49:04.038Z"
   },
   {
    "duration": 20,
    "start_time": "2021-09-08T11:50:28.774Z"
   },
   {
    "duration": 14,
    "start_time": "2021-09-08T11:51:44.087Z"
   },
   {
    "duration": 21,
    "start_time": "2021-09-08T11:51:53.160Z"
   },
   {
    "duration": 4,
    "start_time": "2021-09-08T11:52:43.888Z"
   },
   {
    "duration": 67,
    "start_time": "2021-09-08T11:52:43.895Z"
   },
   {
    "duration": 20,
    "start_time": "2021-09-08T11:52:43.965Z"
   },
   {
    "duration": 12,
    "start_time": "2021-09-08T11:52:43.988Z"
   },
   {
    "duration": 17,
    "start_time": "2021-09-08T11:52:44.002Z"
   },
   {
    "duration": 5243,
    "start_time": "2021-09-08T11:52:44.021Z"
   },
   {
    "duration": 53,
    "start_time": "2021-09-08T11:52:49.268Z"
   },
   {
    "duration": 8,
    "start_time": "2021-09-08T11:52:49.323Z"
   },
   {
    "duration": 40,
    "start_time": "2021-09-08T11:52:49.335Z"
   },
   {
    "duration": 162,
    "start_time": "2021-09-08T11:52:49.378Z"
   },
   {
    "duration": 10,
    "start_time": "2021-09-08T11:52:49.542Z"
   },
   {
    "duration": 32,
    "start_time": "2021-09-08T11:52:49.555Z"
   },
   {
    "duration": 57,
    "start_time": "2021-09-08T11:52:49.590Z"
   },
   {
    "duration": 15,
    "start_time": "2021-09-08T11:52:49.672Z"
   },
   {
    "duration": 1274,
    "start_time": "2021-09-08T11:52:49.689Z"
   },
   {
    "duration": 17,
    "start_time": "2021-09-08T11:52:50.967Z"
   },
   {
    "duration": 5,
    "start_time": "2021-09-08T11:52:50.987Z"
   },
   {
    "duration": 25,
    "start_time": "2021-09-08T11:52:50.995Z"
   },
   {
    "duration": 1028,
    "start_time": "2021-09-08T11:52:51.022Z"
   },
   {
    "duration": 17,
    "start_time": "2021-09-08T11:52:52.052Z"
   },
   {
    "duration": 11,
    "start_time": "2021-09-08T11:52:52.072Z"
   },
   {
    "duration": 413,
    "start_time": "2021-09-08T11:52:52.085Z"
   },
   {
    "duration": 28,
    "start_time": "2021-09-08T11:52:52.500Z"
   },
   {
    "duration": 414,
    "start_time": "2021-09-08T11:52:52.530Z"
   },
   {
    "duration": 18,
    "start_time": "2021-09-08T11:53:35.777Z"
   },
   {
    "duration": 20,
    "start_time": "2021-09-08T11:54:52.054Z"
   },
   {
    "duration": 20,
    "start_time": "2021-09-08T11:55:49.975Z"
   },
   {
    "duration": 22,
    "start_time": "2021-09-08T11:57:06.572Z"
   },
   {
    "duration": 20,
    "start_time": "2021-09-08T11:57:51.127Z"
   },
   {
    "duration": 18,
    "start_time": "2021-09-08T11:58:31.112Z"
   },
   {
    "duration": 4,
    "start_time": "2021-09-08T11:59:02.989Z"
   },
   {
    "duration": 66,
    "start_time": "2021-09-08T11:59:02.995Z"
   },
   {
    "duration": 27,
    "start_time": "2021-09-08T11:59:03.065Z"
   },
   {
    "duration": 13,
    "start_time": "2021-09-08T11:59:03.095Z"
   },
   {
    "duration": 8,
    "start_time": "2021-09-08T11:59:03.111Z"
   },
   {
    "duration": 5274,
    "start_time": "2021-09-08T11:59:03.122Z"
   },
   {
    "duration": 48,
    "start_time": "2021-09-08T11:59:08.400Z"
   },
   {
    "duration": 27,
    "start_time": "2021-09-08T11:59:08.452Z"
   },
   {
    "duration": 14,
    "start_time": "2021-09-08T11:59:08.481Z"
   },
   {
    "duration": 188,
    "start_time": "2021-09-08T11:59:08.498Z"
   },
   {
    "duration": 10,
    "start_time": "2021-09-08T11:59:08.689Z"
   },
   {
    "duration": 18,
    "start_time": "2021-09-08T11:59:08.701Z"
   },
   {
    "duration": 85,
    "start_time": "2021-09-08T11:59:08.721Z"
   },
   {
    "duration": 12,
    "start_time": "2021-09-08T11:59:08.808Z"
   },
   {
    "duration": 1352,
    "start_time": "2021-09-08T11:59:08.822Z"
   },
   {
    "duration": 13,
    "start_time": "2021-09-08T11:59:10.177Z"
   },
   {
    "duration": 6,
    "start_time": "2021-09-08T11:59:10.193Z"
   },
   {
    "duration": 19,
    "start_time": "2021-09-08T11:59:10.201Z"
   },
   {
    "duration": 1031,
    "start_time": "2021-09-08T11:59:10.225Z"
   },
   {
    "duration": 26,
    "start_time": "2021-09-08T11:59:11.258Z"
   },
   {
    "duration": 9,
    "start_time": "2021-09-08T11:59:11.287Z"
   },
   {
    "duration": 420,
    "start_time": "2021-09-08T11:59:11.299Z"
   },
   {
    "duration": 27,
    "start_time": "2021-09-08T11:59:11.721Z"
   },
   {
    "duration": 429,
    "start_time": "2021-09-08T11:59:11.750Z"
   },
   {
    "duration": 19,
    "start_time": "2021-09-08T11:59:52.608Z"
   },
   {
    "duration": 18,
    "start_time": "2021-09-08T12:00:55.009Z"
   },
   {
    "duration": 18,
    "start_time": "2021-09-08T12:01:59.791Z"
   },
   {
    "duration": 18,
    "start_time": "2021-09-08T12:03:26.591Z"
   },
   {
    "duration": 18,
    "start_time": "2021-09-08T12:04:31.145Z"
   },
   {
    "duration": 18,
    "start_time": "2021-09-08T12:05:44.519Z"
   },
   {
    "duration": 4,
    "start_time": "2021-09-08T12:06:17.891Z"
   },
   {
    "duration": 79,
    "start_time": "2021-09-08T12:06:17.897Z"
   },
   {
    "duration": 19,
    "start_time": "2021-09-08T12:06:17.981Z"
   },
   {
    "duration": 15,
    "start_time": "2021-09-08T12:06:18.004Z"
   },
   {
    "duration": 8,
    "start_time": "2021-09-08T12:06:18.022Z"
   },
   {
    "duration": 5135,
    "start_time": "2021-09-08T12:06:18.032Z"
   },
   {
    "duration": 50,
    "start_time": "2021-09-08T12:06:23.169Z"
   },
   {
    "duration": 8,
    "start_time": "2021-09-08T12:06:23.221Z"
   },
   {
    "duration": 40,
    "start_time": "2021-09-08T12:06:23.233Z"
   },
   {
    "duration": 155,
    "start_time": "2021-09-08T12:06:23.276Z"
   },
   {
    "duration": 9,
    "start_time": "2021-09-08T12:06:23.433Z"
   },
   {
    "duration": 31,
    "start_time": "2021-09-08T12:06:23.445Z"
   },
   {
    "duration": 57,
    "start_time": "2021-09-08T12:06:23.478Z"
   },
   {
    "duration": 31,
    "start_time": "2021-09-08T12:06:23.538Z"
   },
   {
    "duration": 1263,
    "start_time": "2021-09-08T12:06:23.572Z"
   },
   {
    "duration": 29,
    "start_time": "2021-09-08T12:06:24.837Z"
   },
   {
    "duration": 6,
    "start_time": "2021-09-08T12:06:24.868Z"
   },
   {
    "duration": 26,
    "start_time": "2021-09-08T12:06:24.876Z"
   },
   {
    "duration": 1012,
    "start_time": "2021-09-08T12:06:24.904Z"
   },
   {
    "duration": 18,
    "start_time": "2021-09-08T12:06:25.918Z"
   },
   {
    "duration": 31,
    "start_time": "2021-09-08T12:06:25.938Z"
   },
   {
    "duration": 511,
    "start_time": "2021-09-08T12:06:25.972Z"
   },
   {
    "duration": 27,
    "start_time": "2021-09-08T12:06:26.485Z"
   },
   {
    "duration": 605,
    "start_time": "2021-09-08T12:06:26.516Z"
   },
   {
    "duration": 19,
    "start_time": "2021-09-08T12:07:46.480Z"
   },
   {
    "duration": 19,
    "start_time": "2021-09-08T12:07:56.231Z"
   },
   {
    "duration": 1485,
    "start_time": "2021-09-08T12:08:28.078Z"
   },
   {
    "duration": 60,
    "start_time": "2021-09-08T12:08:29.566Z"
   },
   {
    "duration": 25,
    "start_time": "2021-09-08T12:08:29.630Z"
   },
   {
    "duration": 17,
    "start_time": "2021-09-08T12:08:29.671Z"
   },
   {
    "duration": 8,
    "start_time": "2021-09-08T12:08:29.691Z"
   },
   {
    "duration": 5210,
    "start_time": "2021-09-08T12:08:29.701Z"
   },
   {
    "duration": 61,
    "start_time": "2021-09-08T12:08:34.913Z"
   },
   {
    "duration": 11,
    "start_time": "2021-09-08T12:08:34.977Z"
   },
   {
    "duration": 13,
    "start_time": "2021-09-08T12:08:34.992Z"
   },
   {
    "duration": 186,
    "start_time": "2021-09-08T12:08:35.008Z"
   },
   {
    "duration": 10,
    "start_time": "2021-09-08T12:08:35.196Z"
   },
   {
    "duration": 17,
    "start_time": "2021-09-08T12:08:35.209Z"
   },
   {
    "duration": 84,
    "start_time": "2021-09-08T12:08:35.228Z"
   },
   {
    "duration": 12,
    "start_time": "2021-09-08T12:08:35.315Z"
   },
   {
    "duration": 1313,
    "start_time": "2021-09-08T12:08:35.330Z"
   },
   {
    "duration": 12,
    "start_time": "2021-09-08T12:08:36.645Z"
   },
   {
    "duration": 11,
    "start_time": "2021-09-08T12:08:36.659Z"
   },
   {
    "duration": 28,
    "start_time": "2021-09-08T12:08:36.672Z"
   },
   {
    "duration": 1052,
    "start_time": "2021-09-08T12:08:36.702Z"
   },
   {
    "duration": 25,
    "start_time": "2021-09-08T12:08:37.757Z"
   },
   {
    "duration": 11,
    "start_time": "2021-09-08T12:08:37.785Z"
   },
   {
    "duration": 986,
    "start_time": "2021-09-08T12:08:37.798Z"
   },
   {
    "duration": 26,
    "start_time": "2021-09-08T12:08:38.787Z"
   },
   {
    "duration": 699,
    "start_time": "2021-09-08T12:08:38.816Z"
   },
   {
    "duration": 9,
    "start_time": "2021-09-08T12:50:48.367Z"
   },
   {
    "duration": 4,
    "start_time": "2021-09-08T12:51:21.544Z"
   },
   {
    "duration": 61,
    "start_time": "2021-09-08T12:51:21.551Z"
   },
   {
    "duration": 20,
    "start_time": "2021-09-08T12:51:21.614Z"
   },
   {
    "duration": 39,
    "start_time": "2021-09-08T12:51:21.637Z"
   },
   {
    "duration": 6,
    "start_time": "2021-09-08T12:51:21.679Z"
   },
   {
    "duration": 4708,
    "start_time": "2021-09-08T12:51:21.688Z"
   },
   {
    "duration": 43,
    "start_time": "2021-09-08T12:51:26.399Z"
   },
   {
    "duration": 28,
    "start_time": "2021-09-08T12:51:26.444Z"
   },
   {
    "duration": 23,
    "start_time": "2021-09-08T12:51:26.475Z"
   },
   {
    "duration": 161,
    "start_time": "2021-09-08T12:51:26.500Z"
   },
   {
    "duration": 11,
    "start_time": "2021-09-08T12:51:26.663Z"
   },
   {
    "duration": 22,
    "start_time": "2021-09-08T12:51:26.676Z"
   },
   {
    "duration": 74,
    "start_time": "2021-09-08T12:51:26.700Z"
   },
   {
    "duration": 11,
    "start_time": "2021-09-08T12:51:26.778Z"
   },
   {
    "duration": 1210,
    "start_time": "2021-09-08T12:51:26.792Z"
   },
   {
    "duration": 14,
    "start_time": "2021-09-08T12:51:28.004Z"
   },
   {
    "duration": 12,
    "start_time": "2021-09-08T12:51:28.021Z"
   },
   {
    "duration": 31,
    "start_time": "2021-09-08T12:51:28.036Z"
   },
   {
    "duration": 21,
    "start_time": "2021-09-08T12:51:28.070Z"
   },
   {
    "duration": 1027,
    "start_time": "2021-09-08T12:51:28.094Z"
   },
   {
    "duration": 4,
    "start_time": "2021-09-08T12:51:29.124Z"
   },
   {
    "duration": 42,
    "start_time": "2021-09-08T12:51:29.131Z"
   },
   {
    "duration": 30,
    "start_time": "2021-09-08T12:51:29.176Z"
   },
   {
    "duration": 482,
    "start_time": "2021-09-08T12:51:29.209Z"
   },
   {
    "duration": 25,
    "start_time": "2021-09-08T12:51:29.693Z"
   },
   {
    "duration": 548,
    "start_time": "2021-09-08T12:51:29.720Z"
   },
   {
    "duration": 8,
    "start_time": "2021-09-08T12:53:04.204Z"
   },
   {
    "duration": 17,
    "start_time": "2021-09-08T12:53:27.052Z"
   },
   {
    "duration": 4,
    "start_time": "2021-09-08T12:53:31.581Z"
   },
   {
    "duration": 80,
    "start_time": "2021-09-08T12:53:31.589Z"
   },
   {
    "duration": 20,
    "start_time": "2021-09-08T12:53:31.673Z"
   },
   {
    "duration": 28,
    "start_time": "2021-09-08T12:53:31.696Z"
   },
   {
    "duration": 11,
    "start_time": "2021-09-08T12:53:31.726Z"
   },
   {
    "duration": 4828,
    "start_time": "2021-09-08T12:53:31.739Z"
   },
   {
    "duration": 54,
    "start_time": "2021-09-08T12:53:36.569Z"
   },
   {
    "duration": 8,
    "start_time": "2021-09-08T12:53:36.627Z"
   },
   {
    "duration": 35,
    "start_time": "2021-09-08T12:53:36.638Z"
   },
   {
    "duration": 163,
    "start_time": "2021-09-08T12:53:36.676Z"
   },
   {
    "duration": 10,
    "start_time": "2021-09-08T12:53:36.842Z"
   },
   {
    "duration": 20,
    "start_time": "2021-09-08T12:53:36.854Z"
   },
   {
    "duration": 49,
    "start_time": "2021-09-08T12:53:36.877Z"
   },
   {
    "duration": 39,
    "start_time": "2021-09-08T12:53:36.929Z"
   },
   {
    "duration": 1209,
    "start_time": "2021-09-08T12:53:36.971Z"
   },
   {
    "duration": 13,
    "start_time": "2021-09-08T12:53:38.182Z"
   },
   {
    "duration": 10,
    "start_time": "2021-09-08T12:53:38.198Z"
   },
   {
    "duration": 12,
    "start_time": "2021-09-08T12:53:38.211Z"
   },
   {
    "duration": 41,
    "start_time": "2021-09-08T12:53:38.226Z"
   },
   {
    "duration": 18,
    "start_time": "2021-09-08T12:53:38.269Z"
   },
   {
    "duration": 984,
    "start_time": "2021-09-08T12:53:38.290Z"
   },
   {
    "duration": 3,
    "start_time": "2021-09-08T12:53:39.277Z"
   },
   {
    "duration": 20,
    "start_time": "2021-09-08T12:53:39.285Z"
   },
   {
    "duration": 10,
    "start_time": "2021-09-08T12:53:39.308Z"
   },
   {
    "duration": 417,
    "start_time": "2021-09-08T12:53:39.321Z"
   },
   {
    "duration": 34,
    "start_time": "2021-09-08T12:53:39.740Z"
   },
   {
    "duration": 526,
    "start_time": "2021-09-08T12:53:39.776Z"
   },
   {
    "duration": 4,
    "start_time": "2021-09-08T12:54:52.559Z"
   },
   {
    "duration": 61,
    "start_time": "2021-09-08T12:54:52.566Z"
   },
   {
    "duration": 19,
    "start_time": "2021-09-08T12:54:52.630Z"
   },
   {
    "duration": 13,
    "start_time": "2021-09-08T12:54:52.667Z"
   },
   {
    "duration": 7,
    "start_time": "2021-09-08T12:54:52.682Z"
   },
   {
    "duration": 4710,
    "start_time": "2021-09-08T12:54:52.692Z"
   },
   {
    "duration": 65,
    "start_time": "2021-09-08T12:54:57.405Z"
   },
   {
    "duration": 8,
    "start_time": "2021-09-08T12:54:57.472Z"
   },
   {
    "duration": 13,
    "start_time": "2021-09-08T12:54:57.485Z"
   },
   {
    "duration": 175,
    "start_time": "2021-09-08T12:54:57.501Z"
   },
   {
    "duration": 10,
    "start_time": "2021-09-08T12:54:57.679Z"
   },
   {
    "duration": 20,
    "start_time": "2021-09-08T12:54:57.691Z"
   },
   {
    "duration": 80,
    "start_time": "2021-09-08T12:54:57.713Z"
   },
   {
    "duration": 12,
    "start_time": "2021-09-08T12:54:57.795Z"
   },
   {
    "duration": 1224,
    "start_time": "2021-09-08T12:54:57.810Z"
   },
   {
    "duration": 13,
    "start_time": "2021-09-08T12:54:59.037Z"
   },
   {
    "duration": 22,
    "start_time": "2021-09-08T12:54:59.052Z"
   },
   {
    "duration": 7,
    "start_time": "2021-09-08T12:54:59.076Z"
   },
   {
    "duration": 11,
    "start_time": "2021-09-08T12:54:59.086Z"
   },
   {
    "duration": 16,
    "start_time": "2021-09-08T12:54:59.099Z"
   },
   {
    "duration": 1025,
    "start_time": "2021-09-08T12:54:59.117Z"
   },
   {
    "duration": 4,
    "start_time": "2021-09-08T12:55:00.144Z"
   },
   {
    "duration": 33,
    "start_time": "2021-09-08T12:55:00.151Z"
   },
   {
    "duration": 15,
    "start_time": "2021-09-08T12:55:00.186Z"
   },
   {
    "duration": 494,
    "start_time": "2021-09-08T12:55:00.204Z"
   },
   {
    "duration": 25,
    "start_time": "2021-09-08T12:55:00.700Z"
   },
   {
    "duration": 414,
    "start_time": "2021-09-08T12:55:00.730Z"
   },
   {
    "duration": 8,
    "start_time": "2021-09-08T13:03:20.938Z"
   },
   {
    "duration": 9,
    "start_time": "2021-09-08T13:04:23.479Z"
   },
   {
    "duration": 10,
    "start_time": "2021-09-08T13:04:40.549Z"
   },
   {
    "duration": 22,
    "start_time": "2021-09-08T13:05:30.479Z"
   },
   {
    "duration": 9,
    "start_time": "2021-09-08T13:06:17.592Z"
   },
   {
    "duration": 18,
    "start_time": "2021-09-08T13:06:36.949Z"
   },
   {
    "duration": 9,
    "start_time": "2021-09-08T13:08:59.150Z"
   },
   {
    "duration": 507,
    "start_time": "2021-09-08T13:12:34.712Z"
   },
   {
    "duration": 290,
    "start_time": "2021-09-08T13:14:29.544Z"
   },
   {
    "duration": 1273,
    "start_time": "2021-09-08T13:15:08.886Z"
   },
   {
    "duration": 56,
    "start_time": "2021-09-08T13:15:10.162Z"
   },
   {
    "duration": 23,
    "start_time": "2021-09-08T13:15:10.221Z"
   },
   {
    "duration": 27,
    "start_time": "2021-09-08T13:15:10.247Z"
   },
   {
    "duration": 5,
    "start_time": "2021-09-08T13:15:10.277Z"
   },
   {
    "duration": 4799,
    "start_time": "2021-09-08T13:15:10.284Z"
   },
   {
    "duration": 44,
    "start_time": "2021-09-08T13:15:15.085Z"
   },
   {
    "duration": 34,
    "start_time": "2021-09-08T13:15:15.133Z"
   },
   {
    "duration": 12,
    "start_time": "2021-09-08T13:15:15.171Z"
   },
   {
    "duration": 164,
    "start_time": "2021-09-08T13:15:15.185Z"
   },
   {
    "duration": 9,
    "start_time": "2021-09-08T13:15:15.352Z"
   },
   {
    "duration": 13,
    "start_time": "2021-09-08T13:15:15.366Z"
   },
   {
    "duration": 53,
    "start_time": "2021-09-08T13:15:15.381Z"
   },
   {
    "duration": 41,
    "start_time": "2021-09-08T13:15:15.436Z"
   },
   {
    "duration": 1211,
    "start_time": "2021-09-08T13:15:15.479Z"
   },
   {
    "duration": 16,
    "start_time": "2021-09-08T13:15:16.693Z"
   },
   {
    "duration": 8,
    "start_time": "2021-09-08T13:15:16.716Z"
   },
   {
    "duration": 1026,
    "start_time": "2021-09-08T13:15:16.727Z"
   },
   {
    "duration": 16,
    "start_time": "2021-09-08T13:15:17.755Z"
   },
   {
    "duration": 6972,
    "start_time": "2021-09-08T13:15:17.773Z"
   },
   {
    "duration": 475,
    "start_time": "2021-09-08T13:15:24.273Z"
   },
   {
    "duration": 474,
    "start_time": "2021-09-08T13:15:24.276Z"
   },
   {
    "duration": 474,
    "start_time": "2021-09-08T13:15:24.278Z"
   },
   {
    "duration": 471,
    "start_time": "2021-09-08T13:15:24.282Z"
   },
   {
    "duration": 22,
    "start_time": "2021-09-08T13:16:22.991Z"
   },
   {
    "duration": 251,
    "start_time": "2021-09-08T13:19:07.919Z"
   },
   {
    "duration": 45,
    "start_time": "2021-09-08T13:19:33.023Z"
   },
   {
    "duration": 5,
    "start_time": "2021-09-08T13:26:32.714Z"
   },
   {
    "duration": 60,
    "start_time": "2021-09-08T13:26:32.722Z"
   },
   {
    "duration": 20,
    "start_time": "2021-09-08T13:26:32.785Z"
   },
   {
    "duration": 14,
    "start_time": "2021-09-08T13:26:32.808Z"
   },
   {
    "duration": 7,
    "start_time": "2021-09-08T13:26:32.824Z"
   },
   {
    "duration": 4696,
    "start_time": "2021-09-08T13:26:32.834Z"
   },
   {
    "duration": 53,
    "start_time": "2021-09-08T13:26:37.533Z"
   },
   {
    "duration": 19,
    "start_time": "2021-09-08T13:26:37.590Z"
   },
   {
    "duration": 14,
    "start_time": "2021-09-08T13:26:37.612Z"
   },
   {
    "duration": 170,
    "start_time": "2021-09-08T13:26:37.628Z"
   },
   {
    "duration": 10,
    "start_time": "2021-09-08T13:26:37.800Z"
   },
   {
    "duration": 20,
    "start_time": "2021-09-08T13:26:37.813Z"
   },
   {
    "duration": 75,
    "start_time": "2021-09-08T13:26:37.836Z"
   },
   {
    "duration": 12,
    "start_time": "2021-09-08T13:26:37.914Z"
   },
   {
    "duration": 1342,
    "start_time": "2021-09-08T13:26:37.928Z"
   },
   {
    "duration": 12,
    "start_time": "2021-09-08T13:26:39.273Z"
   },
   {
    "duration": 23,
    "start_time": "2021-09-08T13:26:39.287Z"
   },
   {
    "duration": 1021,
    "start_time": "2021-09-08T13:26:39.312Z"
   },
   {
    "duration": 4,
    "start_time": "2021-09-08T13:29:47.527Z"
   },
   {
    "duration": 65,
    "start_time": "2021-09-08T13:29:47.534Z"
   },
   {
    "duration": 21,
    "start_time": "2021-09-08T13:29:47.602Z"
   },
   {
    "duration": 48,
    "start_time": "2021-09-08T13:29:47.626Z"
   },
   {
    "duration": 7,
    "start_time": "2021-09-08T13:29:47.678Z"
   },
   {
    "duration": 7704,
    "start_time": "2021-09-08T13:29:47.689Z"
   },
   {
    "duration": 86,
    "start_time": "2021-09-08T13:29:55.396Z"
   },
   {
    "duration": 10,
    "start_time": "2021-09-08T13:29:55.487Z"
   },
   {
    "duration": 17,
    "start_time": "2021-09-08T13:29:55.501Z"
   },
   {
    "duration": 202,
    "start_time": "2021-09-08T13:29:55.521Z"
   },
   {
    "duration": 10,
    "start_time": "2021-09-08T13:29:55.725Z"
   },
   {
    "duration": 31,
    "start_time": "2021-09-08T13:29:55.737Z"
   },
   {
    "duration": 98,
    "start_time": "2021-09-08T13:29:55.772Z"
   },
   {
    "duration": 18,
    "start_time": "2021-09-08T13:29:55.872Z"
   },
   {
    "duration": 1941,
    "start_time": "2021-09-08T13:29:55.893Z"
   },
   {
    "duration": 14,
    "start_time": "2021-09-08T13:29:57.837Z"
   },
   {
    "duration": 7,
    "start_time": "2021-09-08T13:29:57.866Z"
   },
   {
    "duration": 1629,
    "start_time": "2021-09-08T13:29:57.876Z"
   },
   {
    "duration": 26,
    "start_time": "2021-09-08T13:29:59.508Z"
   },
   {
    "duration": 90,
    "start_time": "2021-09-08T13:29:59.537Z"
   },
   {
    "duration": 14,
    "start_time": "2021-09-08T13:29:59.630Z"
   },
   {
    "duration": 23,
    "start_time": "2021-09-08T13:29:59.647Z"
   },
   {
    "duration": 995,
    "start_time": "2021-09-08T13:29:59.675Z"
   },
   {
    "duration": 1911,
    "start_time": "2021-09-08T13:30:00.672Z"
   },
   {
    "duration": -2121,
    "start_time": "2021-09-08T13:30:04.707Z"
   },
   {
    "duration": 38,
    "start_time": "2021-09-08T13:33:05.718Z"
   },
   {
    "duration": 36,
    "start_time": "2021-09-08T13:34:13.033Z"
   },
   {
    "duration": 31,
    "start_time": "2021-09-08T13:34:36.874Z"
   },
   {
    "duration": 33,
    "start_time": "2021-09-08T13:35:23.618Z"
   },
   {
    "duration": 1179,
    "start_time": "2021-09-08T13:40:22.971Z"
   },
   {
    "duration": 716,
    "start_time": "2021-09-08T13:40:56.476Z"
   },
   {
    "duration": 328,
    "start_time": "2021-09-08T13:42:32.779Z"
   },
   {
    "duration": 3510,
    "start_time": "2021-09-08T13:43:17.517Z"
   },
   {
    "duration": 3283,
    "start_time": "2021-09-08T13:44:28.005Z"
   },
   {
    "duration": 317,
    "start_time": "2021-09-08T13:44:56.413Z"
   },
   {
    "duration": 33,
    "start_time": "2021-09-08T13:45:24.516Z"
   },
   {
    "duration": 48,
    "start_time": "2021-09-08T13:45:47.620Z"
   },
   {
    "duration": 24,
    "start_time": "2021-09-08T13:49:34.535Z"
   },
   {
    "duration": 26,
    "start_time": "2021-09-08T13:51:03.484Z"
   },
   {
    "duration": 54,
    "start_time": "2021-09-08T13:59:20.890Z"
   },
   {
    "duration": 32,
    "start_time": "2021-09-08T14:04:08.728Z"
   },
   {
    "duration": 27,
    "start_time": "2021-09-08T14:04:16.864Z"
   },
   {
    "duration": 24,
    "start_time": "2021-09-08T14:05:34.447Z"
   },
   {
    "duration": 1398,
    "start_time": "2021-09-08T14:11:01.239Z"
   },
   {
    "duration": 56,
    "start_time": "2021-09-08T14:11:02.640Z"
   },
   {
    "duration": 24,
    "start_time": "2021-09-08T14:11:02.698Z"
   },
   {
    "duration": 27,
    "start_time": "2021-09-08T14:11:02.724Z"
   },
   {
    "duration": 14,
    "start_time": "2021-09-08T14:11:02.753Z"
   },
   {
    "duration": 4559,
    "start_time": "2021-09-08T14:11:02.769Z"
   },
   {
    "duration": 57,
    "start_time": "2021-09-08T14:11:07.330Z"
   },
   {
    "duration": 8,
    "start_time": "2021-09-08T14:11:07.390Z"
   },
   {
    "duration": 32,
    "start_time": "2021-09-08T14:11:07.402Z"
   },
   {
    "duration": 156,
    "start_time": "2021-09-08T14:11:07.439Z"
   },
   {
    "duration": 11,
    "start_time": "2021-09-08T14:11:07.597Z"
   },
   {
    "duration": 41,
    "start_time": "2021-09-08T14:11:07.611Z"
   },
   {
    "duration": 64,
    "start_time": "2021-09-08T14:11:07.655Z"
   },
   {
    "duration": 16,
    "start_time": "2021-09-08T14:11:07.721Z"
   },
   {
    "duration": 1220,
    "start_time": "2021-09-08T14:11:07.739Z"
   },
   {
    "duration": 15,
    "start_time": "2021-09-08T14:11:08.961Z"
   },
   {
    "duration": 8,
    "start_time": "2021-09-08T14:11:08.978Z"
   },
   {
    "duration": 1008,
    "start_time": "2021-09-08T14:11:08.989Z"
   },
   {
    "duration": 20,
    "start_time": "2021-09-08T14:11:10.001Z"
   },
   {
    "duration": 72,
    "start_time": "2021-09-08T14:11:10.023Z"
   },
   {
    "duration": 45,
    "start_time": "2021-09-08T14:11:10.098Z"
   },
   {
    "duration": 44,
    "start_time": "2021-09-08T14:11:10.146Z"
   },
   {
    "duration": 95,
    "start_time": "2021-09-08T14:11:10.193Z"
   },
   {
    "duration": 523,
    "start_time": "2021-09-08T14:11:09.767Z"
   },
   {
    "duration": 523,
    "start_time": "2021-09-08T14:11:09.769Z"
   },
   {
    "duration": 503,
    "start_time": "2021-09-08T14:11:09.791Z"
   },
   {
    "duration": 499,
    "start_time": "2021-09-08T14:11:09.796Z"
   },
   {
    "duration": 20,
    "start_time": "2021-09-08T14:13:45.156Z"
   },
   {
    "duration": 5,
    "start_time": "2021-09-08T14:16:22.776Z"
   },
   {
    "duration": 66,
    "start_time": "2021-09-08T14:16:22.784Z"
   },
   {
    "duration": 20,
    "start_time": "2021-09-08T14:16:22.868Z"
   },
   {
    "duration": 17,
    "start_time": "2021-09-08T14:16:22.892Z"
   },
   {
    "duration": 13,
    "start_time": "2021-09-08T14:16:22.911Z"
   },
   {
    "duration": 44,
    "start_time": "2021-09-08T14:16:22.927Z"
   },
   {
    "duration": 4546,
    "start_time": "2021-09-08T14:16:22.975Z"
   },
   {
    "duration": 57,
    "start_time": "2021-09-08T14:16:27.524Z"
   },
   {
    "duration": 13,
    "start_time": "2021-09-08T14:16:27.584Z"
   },
   {
    "duration": 15,
    "start_time": "2021-09-08T14:16:27.599Z"
   },
   {
    "duration": 165,
    "start_time": "2021-09-08T14:16:27.616Z"
   },
   {
    "duration": 10,
    "start_time": "2021-09-08T14:16:27.783Z"
   },
   {
    "duration": 14,
    "start_time": "2021-09-08T14:16:27.796Z"
   },
   {
    "duration": 76,
    "start_time": "2021-09-08T14:16:27.814Z"
   },
   {
    "duration": 13,
    "start_time": "2021-09-08T14:16:27.892Z"
   },
   {
    "duration": 1242,
    "start_time": "2021-09-08T14:16:27.908Z"
   },
   {
    "duration": 19,
    "start_time": "2021-09-08T14:16:29.152Z"
   },
   {
    "duration": 5,
    "start_time": "2021-09-08T14:16:29.174Z"
   },
   {
    "duration": 950,
    "start_time": "2021-09-08T14:16:29.181Z"
   },
   {
    "duration": 36,
    "start_time": "2021-09-08T14:16:30.134Z"
   },
   {
    "duration": 46,
    "start_time": "2021-09-08T14:16:30.173Z"
   },
   {
    "duration": 86,
    "start_time": "2021-09-08T14:16:30.222Z"
   },
   {
    "duration": 26,
    "start_time": "2021-09-08T14:16:30.312Z"
   },
   {
    "duration": 39,
    "start_time": "2021-09-08T14:16:30.340Z"
   },
   {
    "duration": 12,
    "start_time": "2021-09-08T14:16:30.381Z"
   },
   {
    "duration": 1023,
    "start_time": "2021-09-08T14:16:30.395Z"
   },
   {
    "duration": 1362,
    "start_time": "2021-09-08T14:16:31.421Z"
   },
   {
    "duration": -1458,
    "start_time": "2021-09-08T14:16:34.244Z"
   },
   {
    "duration": 80,
    "start_time": "2021-09-08T14:19:57.737Z"
   },
   {
    "duration": 20,
    "start_time": "2021-09-08T14:20:05.417Z"
   },
   {
    "duration": 4,
    "start_time": "2021-09-08T14:21:38.770Z"
   },
   {
    "duration": 89,
    "start_time": "2021-09-08T14:21:38.778Z"
   },
   {
    "duration": 20,
    "start_time": "2021-09-08T14:21:38.871Z"
   },
   {
    "duration": 30,
    "start_time": "2021-09-08T14:21:38.895Z"
   },
   {
    "duration": 321,
    "start_time": "2021-09-08T14:21:38.928Z"
   },
   {
    "duration": 8,
    "start_time": "2021-09-08T14:21:39.252Z"
   },
   {
    "duration": 4709,
    "start_time": "2021-09-08T14:21:39.262Z"
   },
   {
    "duration": 44,
    "start_time": "2021-09-08T14:21:43.973Z"
   },
   {
    "duration": 13,
    "start_time": "2021-09-08T14:21:44.020Z"
   },
   {
    "duration": 36,
    "start_time": "2021-09-08T14:21:44.035Z"
   },
   {
    "duration": 156,
    "start_time": "2021-09-08T14:21:44.073Z"
   },
   {
    "duration": 9,
    "start_time": "2021-09-08T14:21:44.231Z"
   },
   {
    "duration": 28,
    "start_time": "2021-09-08T14:21:44.243Z"
   },
   {
    "duration": 54,
    "start_time": "2021-09-08T14:21:44.274Z"
   },
   {
    "duration": 12,
    "start_time": "2021-09-08T14:21:44.331Z"
   },
   {
    "duration": 1214,
    "start_time": "2021-09-08T14:21:44.367Z"
   },
   {
    "duration": 12,
    "start_time": "2021-09-08T14:21:45.584Z"
   },
   {
    "duration": 14,
    "start_time": "2021-09-08T14:21:45.599Z"
   },
   {
    "duration": 971,
    "start_time": "2021-09-08T14:21:45.615Z"
   },
   {
    "duration": 19,
    "start_time": "2021-09-08T14:21:46.589Z"
   },
   {
    "duration": 77,
    "start_time": "2021-09-08T14:21:46.610Z"
   },
   {
    "duration": 86,
    "start_time": "2021-09-08T14:21:46.689Z"
   },
   {
    "duration": 45,
    "start_time": "2021-09-08T14:21:46.783Z"
   },
   {
    "duration": 20,
    "start_time": "2021-09-08T14:21:46.831Z"
   },
   {
    "duration": 26,
    "start_time": "2021-09-08T14:21:46.854Z"
   },
   {
    "duration": 397,
    "start_time": "2021-09-08T14:21:46.882Z"
   },
   {
    "duration": 964,
    "start_time": "2021-09-08T14:21:47.281Z"
   },
   {
    "duration": 473,
    "start_time": "2021-09-08T14:21:47.774Z"
   },
   {
    "duration": 21,
    "start_time": "2021-09-08T14:23:09.086Z"
   },
   {
    "duration": 31,
    "start_time": "2021-09-08T14:31:43.009Z"
   },
   {
    "duration": 4953,
    "start_time": "2021-09-08T15:23:51.171Z"
   },
   {
    "duration": 5,
    "start_time": "2021-09-08T15:24:45.429Z"
   },
   {
    "duration": 64,
    "start_time": "2021-09-08T15:24:45.438Z"
   },
   {
    "duration": 21,
    "start_time": "2021-09-08T15:24:45.506Z"
   },
   {
    "duration": 44,
    "start_time": "2021-09-08T15:24:45.531Z"
   },
   {
    "duration": 8,
    "start_time": "2021-09-08T15:24:45.578Z"
   },
   {
    "duration": 5011,
    "start_time": "2021-09-08T15:24:45.589Z"
   },
   {
    "duration": 46,
    "start_time": "2021-09-08T15:24:50.603Z"
   },
   {
    "duration": 10,
    "start_time": "2021-09-08T15:24:50.671Z"
   },
   {
    "duration": 15,
    "start_time": "2021-09-08T15:24:50.684Z"
   },
   {
    "duration": 174,
    "start_time": "2021-09-08T15:24:50.701Z"
   },
   {
    "duration": 11,
    "start_time": "2021-09-08T15:24:50.877Z"
   },
   {
    "duration": 17,
    "start_time": "2021-09-08T15:24:50.890Z"
   },
   {
    "duration": 75,
    "start_time": "2021-09-08T15:24:50.910Z"
   },
   {
    "duration": 13,
    "start_time": "2021-09-08T15:24:50.987Z"
   },
   {
    "duration": 1251,
    "start_time": "2021-09-08T15:24:51.002Z"
   },
   {
    "duration": 18,
    "start_time": "2021-09-08T15:24:52.255Z"
   },
   {
    "duration": 6,
    "start_time": "2021-09-08T15:24:52.277Z"
   },
   {
    "duration": 982,
    "start_time": "2021-09-08T15:24:52.286Z"
   },
   {
    "duration": 16,
    "start_time": "2021-09-08T15:24:53.271Z"
   },
   {
    "duration": 45,
    "start_time": "2021-09-08T15:24:53.289Z"
   },
   {
    "duration": 5353,
    "start_time": "2021-09-08T15:24:53.336Z"
   },
   {
    "duration": 483,
    "start_time": "2021-09-08T15:24:58.212Z"
   },
   {
    "duration": 480,
    "start_time": "2021-09-08T15:24:58.217Z"
   },
   {
    "duration": 481,
    "start_time": "2021-09-08T15:24:58.219Z"
   },
   {
    "duration": 481,
    "start_time": "2021-09-08T15:24:58.221Z"
   },
   {
    "duration": 480,
    "start_time": "2021-09-08T15:24:58.224Z"
   },
   {
    "duration": 479,
    "start_time": "2021-09-08T15:24:58.227Z"
   },
   {
    "duration": 35,
    "start_time": "2021-09-08T15:25:53.202Z"
   },
   {
    "duration": 26,
    "start_time": "2021-09-08T15:26:31.353Z"
   },
   {
    "duration": 30,
    "start_time": "2021-09-08T15:29:00.936Z"
   },
   {
    "duration": 56,
    "start_time": "2021-09-08T15:29:16.896Z"
   },
   {
    "duration": 6720,
    "start_time": "2021-09-08T15:30:37.040Z"
   },
   {
    "duration": 501,
    "start_time": "2021-09-08T15:30:50.394Z"
   },
   {
    "duration": 30588,
    "start_time": "2021-09-08T15:31:15.936Z"
   },
   {
    "duration": 4,
    "start_time": "2021-09-08T15:32:12.077Z"
   },
   {
    "duration": 68,
    "start_time": "2021-09-08T15:32:12.085Z"
   },
   {
    "duration": 30,
    "start_time": "2021-09-08T15:32:12.157Z"
   },
   {
    "duration": 31,
    "start_time": "2021-09-08T15:32:12.191Z"
   },
   {
    "duration": 14,
    "start_time": "2021-09-08T15:32:12.225Z"
   },
   {
    "duration": 4643,
    "start_time": "2021-09-08T15:32:12.242Z"
   },
   {
    "duration": 48,
    "start_time": "2021-09-08T15:32:16.889Z"
   },
   {
    "duration": 32,
    "start_time": "2021-09-08T15:32:16.939Z"
   },
   {
    "duration": 13,
    "start_time": "2021-09-08T15:32:16.975Z"
   },
   {
    "duration": 180,
    "start_time": "2021-09-08T15:32:16.991Z"
   },
   {
    "duration": 10,
    "start_time": "2021-09-08T15:32:17.173Z"
   },
   {
    "duration": 23,
    "start_time": "2021-09-08T15:32:17.185Z"
   },
   {
    "duration": 70,
    "start_time": "2021-09-08T15:32:17.210Z"
   },
   {
    "duration": 11,
    "start_time": "2021-09-08T15:32:17.282Z"
   },
   {
    "duration": 1269,
    "start_time": "2021-09-08T15:32:17.296Z"
   },
   {
    "duration": 12,
    "start_time": "2021-09-08T15:32:18.567Z"
   },
   {
    "duration": 29,
    "start_time": "2021-09-08T15:32:18.581Z"
   },
   {
    "duration": 1013,
    "start_time": "2021-09-08T15:32:18.613Z"
   },
   {
    "duration": 17,
    "start_time": "2021-09-08T15:32:19.629Z"
   },
   {
    "duration": 63,
    "start_time": "2021-09-08T15:32:19.648Z"
   },
   {
    "duration": 78,
    "start_time": "2021-09-08T15:32:19.713Z"
   },
   {
    "duration": 36,
    "start_time": "2021-09-08T15:32:19.794Z"
   },
   {
    "duration": 43,
    "start_time": "2021-09-08T15:32:19.833Z"
   },
   {
    "duration": 36,
    "start_time": "2021-09-08T15:32:19.879Z"
   },
   {
    "duration": 396,
    "start_time": "2021-09-08T15:32:19.918Z"
   },
   {
    "duration": 8721,
    "start_time": "2021-09-08T15:32:20.316Z"
   },
   {
    "duration": 453,
    "start_time": "2021-09-08T15:32:28.587Z"
   },
   {
    "duration": 33,
    "start_time": "2021-09-08T15:37:18.939Z"
   },
   {
    "duration": 43,
    "start_time": "2021-09-08T15:38:15.125Z"
   },
   {
    "duration": 28,
    "start_time": "2021-09-08T15:49:11.604Z"
   },
   {
    "duration": 19,
    "start_time": "2021-09-08T15:56:09.284Z"
   },
   {
    "duration": 34,
    "start_time": "2021-09-08T15:56:32.727Z"
   },
   {
    "duration": 26,
    "start_time": "2021-09-08T15:59:32.623Z"
   },
   {
    "duration": 25,
    "start_time": "2021-09-08T16:02:43.218Z"
   },
   {
    "duration": 49,
    "start_time": "2021-09-08T16:04:35.447Z"
   },
   {
    "duration": 7606,
    "start_time": "2021-09-08T16:08:05.179Z"
   },
   {
    "duration": 30,
    "start_time": "2021-09-08T16:09:57.239Z"
   },
   {
    "duration": 29,
    "start_time": "2021-09-08T16:11:36.833Z"
   },
   {
    "duration": 28,
    "start_time": "2021-09-08T16:14:01.704Z"
   },
   {
    "duration": 25,
    "start_time": "2021-09-08T16:14:50.436Z"
   },
   {
    "duration": 25,
    "start_time": "2021-09-08T16:17:49.541Z"
   },
   {
    "duration": 19,
    "start_time": "2021-09-08T16:21:33.334Z"
   },
   {
    "duration": 26,
    "start_time": "2021-09-08T16:21:45.244Z"
   },
   {
    "duration": 4,
    "start_time": "2021-09-08T16:26:40.559Z"
   },
   {
    "duration": 61,
    "start_time": "2021-09-08T16:26:40.566Z"
   },
   {
    "duration": 20,
    "start_time": "2021-09-08T16:26:40.630Z"
   },
   {
    "duration": 21,
    "start_time": "2021-09-08T16:26:40.653Z"
   },
   {
    "duration": 8,
    "start_time": "2021-09-08T16:26:40.677Z"
   },
   {
    "duration": 4985,
    "start_time": "2021-09-08T16:26:40.688Z"
   },
   {
    "duration": 46,
    "start_time": "2021-09-08T16:26:45.676Z"
   },
   {
    "duration": 13,
    "start_time": "2021-09-08T16:26:45.725Z"
   },
   {
    "duration": 12,
    "start_time": "2021-09-08T16:26:45.766Z"
   },
   {
    "duration": 189,
    "start_time": "2021-09-08T16:26:45.782Z"
   },
   {
    "duration": 12,
    "start_time": "2021-09-08T16:26:45.973Z"
   },
   {
    "duration": 16,
    "start_time": "2021-09-08T16:26:45.988Z"
   },
   {
    "duration": 86,
    "start_time": "2021-09-08T16:26:46.007Z"
   },
   {
    "duration": 15,
    "start_time": "2021-09-08T16:26:46.096Z"
   },
   {
    "duration": 1947,
    "start_time": "2021-09-08T16:26:46.114Z"
   },
   {
    "duration": 14,
    "start_time": "2021-09-08T16:26:48.067Z"
   },
   {
    "duration": 8,
    "start_time": "2021-09-08T16:26:48.084Z"
   },
   {
    "duration": 995,
    "start_time": "2021-09-08T16:26:48.094Z"
   },
   {
    "duration": 17,
    "start_time": "2021-09-08T16:26:49.091Z"
   },
   {
    "duration": 64,
    "start_time": "2021-09-08T16:26:49.110Z"
   },
   {
    "duration": 16,
    "start_time": "2021-09-08T16:26:49.177Z"
   },
   {
    "duration": 83,
    "start_time": "2021-09-08T16:26:49.195Z"
   },
   {
    "duration": 49,
    "start_time": "2021-09-08T16:26:49.280Z"
   },
   {
    "duration": 53,
    "start_time": "2021-09-08T16:26:49.332Z"
   },
   {
    "duration": 5,
    "start_time": "2021-09-08T16:26:49.387Z"
   },
   {
    "duration": 11,
    "start_time": "2021-09-08T16:26:49.395Z"
   },
   {
    "duration": 430,
    "start_time": "2021-09-08T16:26:49.410Z"
   },
   {
    "duration": 1195,
    "start_time": "2021-09-08T16:26:49.843Z"
   },
   {
    "duration": 488,
    "start_time": "2021-09-08T16:26:50.553Z"
   },
   {
    "duration": 33,
    "start_time": "2021-09-08T16:27:26.211Z"
   },
   {
    "duration": 26,
    "start_time": "2021-09-08T16:32:08.879Z"
   },
   {
    "duration": 20,
    "start_time": "2021-09-08T16:34:48.014Z"
   },
   {
    "duration": 26,
    "start_time": "2021-09-08T16:36:34.844Z"
   },
   {
    "duration": 11,
    "start_time": "2021-09-08T16:37:50.138Z"
   },
   {
    "duration": 63,
    "start_time": "2021-09-08T16:37:50.152Z"
   },
   {
    "duration": 510,
    "start_time": "2021-09-08T16:38:32.622Z"
   },
   {
    "duration": 504,
    "start_time": "2021-09-08T16:38:32.629Z"
   },
   {
    "duration": 501,
    "start_time": "2021-09-08T16:38:32.633Z"
   },
   {
    "duration": 500,
    "start_time": "2021-09-08T16:38:32.636Z"
   },
   {
    "duration": 499,
    "start_time": "2021-09-08T16:38:32.638Z"
   },
   {
    "duration": 497,
    "start_time": "2021-09-08T16:38:32.641Z"
   },
   {
    "duration": 497,
    "start_time": "2021-09-08T16:38:32.643Z"
   },
   {
    "duration": 12,
    "start_time": "2021-09-08T16:40:30.052Z"
   },
   {
    "duration": 34,
    "start_time": "2021-09-08T16:40:47.839Z"
   },
   {
    "duration": 4,
    "start_time": "2021-09-08T16:41:15.431Z"
   },
   {
    "duration": 75,
    "start_time": "2021-09-08T16:41:15.438Z"
   },
   {
    "duration": 19,
    "start_time": "2021-09-08T16:41:15.516Z"
   },
   {
    "duration": 36,
    "start_time": "2021-09-08T16:41:15.537Z"
   },
   {
    "duration": 20,
    "start_time": "2021-09-08T16:41:15.575Z"
   },
   {
    "duration": 14,
    "start_time": "2021-09-08T16:41:15.597Z"
   },
   {
    "duration": 742,
    "start_time": "2021-09-08T16:41:15.613Z"
   },
   {
    "duration": 497,
    "start_time": "2021-09-08T16:41:15.862Z"
   },
   {
    "duration": 491,
    "start_time": "2021-09-08T16:41:15.869Z"
   },
   {
    "duration": 490,
    "start_time": "2021-09-08T16:41:15.871Z"
   },
   {
    "duration": 489,
    "start_time": "2021-09-08T16:41:15.874Z"
   },
   {
    "duration": 483,
    "start_time": "2021-09-08T16:41:15.881Z"
   },
   {
    "duration": 481,
    "start_time": "2021-09-08T16:41:15.884Z"
   },
   {
    "duration": 480,
    "start_time": "2021-09-08T16:41:15.887Z"
   },
   {
    "duration": 479,
    "start_time": "2021-09-08T16:41:15.889Z"
   },
   {
    "duration": 477,
    "start_time": "2021-09-08T16:41:15.892Z"
   },
   {
    "duration": 475,
    "start_time": "2021-09-08T16:41:15.896Z"
   },
   {
    "duration": 472,
    "start_time": "2021-09-08T16:41:15.900Z"
   },
   {
    "duration": 470,
    "start_time": "2021-09-08T16:41:15.903Z"
   },
   {
    "duration": 469,
    "start_time": "2021-09-08T16:41:15.906Z"
   },
   {
    "duration": 467,
    "start_time": "2021-09-08T16:41:15.909Z"
   },
   {
    "duration": 457,
    "start_time": "2021-09-08T16:41:15.920Z"
   },
   {
    "duration": 456,
    "start_time": "2021-09-08T16:41:15.923Z"
   },
   {
    "duration": 455,
    "start_time": "2021-09-08T16:41:15.925Z"
   },
   {
    "duration": 453,
    "start_time": "2021-09-08T16:41:15.928Z"
   },
   {
    "duration": 451,
    "start_time": "2021-09-08T16:41:15.931Z"
   },
   {
    "duration": 451,
    "start_time": "2021-09-08T16:41:15.933Z"
   },
   {
    "duration": 450,
    "start_time": "2021-09-08T16:41:15.935Z"
   },
   {
    "duration": 448,
    "start_time": "2021-09-08T16:41:15.938Z"
   },
   {
    "duration": 447,
    "start_time": "2021-09-08T16:41:15.941Z"
   },
   {
    "duration": 85,
    "start_time": "2021-09-08T16:48:47.576Z"
   },
   {
    "duration": 1729,
    "start_time": "2021-09-08T16:48:55.748Z"
   },
   {
    "duration": 11,
    "start_time": "2021-09-08T16:49:17.575Z"
   },
   {
    "duration": 1255,
    "start_time": "2021-09-08T16:49:38.816Z"
   },
   {
    "duration": 59,
    "start_time": "2021-09-08T16:49:40.074Z"
   },
   {
    "duration": 31,
    "start_time": "2021-09-08T16:49:40.136Z"
   },
   {
    "duration": 14,
    "start_time": "2021-09-08T16:49:40.170Z"
   },
   {
    "duration": 109,
    "start_time": "2021-09-08T16:49:40.187Z"
   },
   {
    "duration": 509,
    "start_time": "2021-09-08T16:49:39.791Z"
   },
   {
    "duration": 506,
    "start_time": "2021-09-08T16:49:39.796Z"
   },
   {
    "duration": 504,
    "start_time": "2021-09-08T16:49:39.799Z"
   },
   {
    "duration": 504,
    "start_time": "2021-09-08T16:49:39.801Z"
   },
   {
    "duration": 502,
    "start_time": "2021-09-08T16:49:39.804Z"
   },
   {
    "duration": 498,
    "start_time": "2021-09-08T16:49:39.810Z"
   },
   {
    "duration": 494,
    "start_time": "2021-09-08T16:49:39.815Z"
   },
   {
    "duration": 491,
    "start_time": "2021-09-08T16:49:39.819Z"
   },
   {
    "duration": 488,
    "start_time": "2021-09-08T16:49:39.823Z"
   },
   {
    "duration": 476,
    "start_time": "2021-09-08T16:49:39.837Z"
   },
   {
    "duration": 471,
    "start_time": "2021-09-08T16:49:39.843Z"
   },
   {
    "duration": 470,
    "start_time": "2021-09-08T16:49:39.845Z"
   },
   {
    "duration": 469,
    "start_time": "2021-09-08T16:49:39.847Z"
   },
   {
    "duration": 469,
    "start_time": "2021-09-08T16:49:39.849Z"
   },
   {
    "duration": 468,
    "start_time": "2021-09-08T16:49:39.851Z"
   },
   {
    "duration": 466,
    "start_time": "2021-09-08T16:49:39.854Z"
   },
   {
    "duration": 466,
    "start_time": "2021-09-08T16:49:39.856Z"
   },
   {
    "duration": 465,
    "start_time": "2021-09-08T16:49:39.858Z"
   },
   {
    "duration": 463,
    "start_time": "2021-09-08T16:49:39.861Z"
   },
   {
    "duration": 452,
    "start_time": "2021-09-08T16:49:39.873Z"
   },
   {
    "duration": 450,
    "start_time": "2021-09-08T16:49:39.876Z"
   },
   {
    "duration": 449,
    "start_time": "2021-09-08T16:49:39.879Z"
   },
   {
    "duration": 447,
    "start_time": "2021-09-08T16:49:39.882Z"
   },
   {
    "duration": 445,
    "start_time": "2021-09-08T16:49:39.885Z"
   },
   {
    "duration": 444,
    "start_time": "2021-09-08T16:49:39.888Z"
   },
   {
    "duration": 443,
    "start_time": "2021-09-08T16:49:39.890Z"
   },
   {
    "duration": 21,
    "start_time": "2021-09-08T16:50:23.947Z"
   },
   {
    "duration": 5,
    "start_time": "2021-09-08T16:50:23.971Z"
   },
   {
    "duration": 4067,
    "start_time": "2021-09-08T16:50:23.985Z"
   },
   {
    "duration": 50,
    "start_time": "2021-09-08T16:50:28.055Z"
   },
   {
    "duration": 8,
    "start_time": "2021-09-08T16:50:28.109Z"
   },
   {
    "duration": 27,
    "start_time": "2021-09-08T16:50:28.119Z"
   },
   {
    "duration": 173,
    "start_time": "2021-09-08T16:50:28.148Z"
   },
   {
    "duration": 11,
    "start_time": "2021-09-08T16:50:28.323Z"
   },
   {
    "duration": 32,
    "start_time": "2021-09-08T16:50:28.336Z"
   },
   {
    "duration": 54,
    "start_time": "2021-09-08T16:50:28.374Z"
   },
   {
    "duration": 14,
    "start_time": "2021-09-08T16:50:28.432Z"
   },
   {
    "duration": 1145,
    "start_time": "2021-09-08T16:50:28.468Z"
   },
   {
    "duration": 15,
    "start_time": "2021-09-08T16:50:29.616Z"
   },
   {
    "duration": 10,
    "start_time": "2021-09-08T16:50:29.634Z"
   },
   {
    "duration": 938,
    "start_time": "2021-09-08T16:50:29.647Z"
   },
   {
    "duration": 17,
    "start_time": "2021-09-08T16:50:30.588Z"
   },
   {
    "duration": 64,
    "start_time": "2021-09-08T16:50:30.608Z"
   },
   {
    "duration": 14,
    "start_time": "2021-09-08T16:50:30.675Z"
   },
   {
    "duration": 83,
    "start_time": "2021-09-08T16:50:30.692Z"
   },
   {
    "duration": 34,
    "start_time": "2021-09-08T16:50:30.777Z"
   },
   {
    "duration": 17,
    "start_time": "2021-09-08T16:50:30.814Z"
   },
   {
    "duration": 33,
    "start_time": "2021-09-08T16:50:30.833Z"
   },
   {
    "duration": 29,
    "start_time": "2021-09-08T16:50:30.869Z"
   },
   {
    "duration": 1040,
    "start_time": "2021-09-08T16:50:30.901Z"
   },
   {
    "duration": 1340,
    "start_time": "2021-09-08T16:50:31.944Z"
   },
   {
    "duration": -4130,
    "start_time": "2021-09-08T16:50:37.417Z"
   },
   {
    "duration": 4,
    "start_time": "2021-09-08T16:55:21.179Z"
   },
   {
    "duration": 59,
    "start_time": "2021-09-08T16:55:21.185Z"
   },
   {
    "duration": 39,
    "start_time": "2021-09-08T16:55:21.248Z"
   },
   {
    "duration": 16,
    "start_time": "2021-09-08T16:55:21.289Z"
   },
   {
    "duration": 25,
    "start_time": "2021-09-08T16:55:21.308Z"
   },
   {
    "duration": 32,
    "start_time": "2021-09-08T16:55:21.336Z"
   },
   {
    "duration": 4308,
    "start_time": "2021-09-08T16:55:21.370Z"
   },
   {
    "duration": 94,
    "start_time": "2021-09-08T16:55:25.682Z"
   },
   {
    "duration": 15,
    "start_time": "2021-09-08T16:55:25.779Z"
   },
   {
    "duration": 15,
    "start_time": "2021-09-08T16:55:25.796Z"
   },
   {
    "duration": 154,
    "start_time": "2021-09-08T16:55:25.813Z"
   },
   {
    "duration": 10,
    "start_time": "2021-09-08T16:55:25.969Z"
   },
   {
    "duration": 18,
    "start_time": "2021-09-08T16:55:25.981Z"
   },
   {
    "duration": 91,
    "start_time": "2021-09-08T16:55:26.001Z"
   },
   {
    "duration": 13,
    "start_time": "2021-09-08T16:55:26.094Z"
   },
   {
    "duration": 1188,
    "start_time": "2021-09-08T16:55:26.110Z"
   },
   {
    "duration": 11,
    "start_time": "2021-09-08T16:55:27.300Z"
   },
   {
    "duration": 5,
    "start_time": "2021-09-08T16:55:27.314Z"
   },
   {
    "duration": 911,
    "start_time": "2021-09-08T16:55:27.322Z"
   },
   {
    "duration": 31,
    "start_time": "2021-09-08T16:55:28.235Z"
   },
   {
    "duration": 45,
    "start_time": "2021-09-08T16:55:28.269Z"
   },
   {
    "duration": 108,
    "start_time": "2021-09-08T16:55:28.316Z"
   },
   {
    "duration": 516,
    "start_time": "2021-09-08T16:55:27.911Z"
   },
   {
    "duration": 512,
    "start_time": "2021-09-08T16:55:27.916Z"
   },
   {
    "duration": 508,
    "start_time": "2021-09-08T16:55:27.922Z"
   },
   {
    "duration": 506,
    "start_time": "2021-09-08T16:55:27.925Z"
   },
   {
    "duration": 497,
    "start_time": "2021-09-08T16:55:27.935Z"
   },
   {
    "duration": 490,
    "start_time": "2021-09-08T16:55:27.943Z"
   },
   {
    "duration": 490,
    "start_time": "2021-09-08T16:55:27.945Z"
   },
   {
    "duration": 487,
    "start_time": "2021-09-08T16:55:27.949Z"
   },
   {
    "duration": 3,
    "start_time": "2021-09-08T16:56:12.967Z"
   },
   {
    "duration": 60,
    "start_time": "2021-09-08T16:56:12.973Z"
   },
   {
    "duration": 60,
    "start_time": "2021-09-08T16:56:13.036Z"
   },
   {
    "duration": 18,
    "start_time": "2021-09-08T16:56:13.098Z"
   },
   {
    "duration": 5,
    "start_time": "2021-09-08T16:56:13.118Z"
   },
   {
    "duration": 12,
    "start_time": "2021-09-08T16:56:13.125Z"
   },
   {
    "duration": 484,
    "start_time": "2021-09-08T16:56:13.167Z"
   },
   {
    "duration": 884,
    "start_time": "2021-09-08T16:56:13.653Z"
   },
   {
    "duration": 515,
    "start_time": "2021-09-08T16:56:14.025Z"
   },
   {
    "duration": 12,
    "start_time": "2021-09-08T16:57:02.308Z"
   },
   {
    "duration": 4,
    "start_time": "2021-09-08T16:57:14.012Z"
   },
   {
    "duration": 87,
    "start_time": "2021-09-08T16:57:14.019Z"
   },
   {
    "duration": 19,
    "start_time": "2021-09-08T16:57:14.109Z"
   },
   {
    "duration": 35,
    "start_time": "2021-09-08T16:57:14.132Z"
   },
   {
    "duration": 32,
    "start_time": "2021-09-08T16:57:14.169Z"
   },
   {
    "duration": 11,
    "start_time": "2021-09-08T16:57:14.204Z"
   },
   {
    "duration": 4291,
    "start_time": "2021-09-08T16:57:14.217Z"
   },
   {
    "duration": 40,
    "start_time": "2021-09-08T16:57:18.512Z"
   },
   {
    "duration": 9,
    "start_time": "2021-09-08T16:57:18.568Z"
   },
   {
    "duration": 25,
    "start_time": "2021-09-08T16:57:18.579Z"
   },
   {
    "duration": 154,
    "start_time": "2021-09-08T16:57:18.607Z"
   },
   {
    "duration": 10,
    "start_time": "2021-09-08T16:57:18.767Z"
   },
   {
    "duration": 35,
    "start_time": "2021-09-08T16:57:18.779Z"
   },
   {
    "duration": 60,
    "start_time": "2021-09-08T16:57:18.816Z"
   },
   {
    "duration": 30,
    "start_time": "2021-09-08T16:57:18.879Z"
   },
   {
    "duration": 1217,
    "start_time": "2021-09-08T16:57:18.912Z"
   },
   {
    "duration": 12,
    "start_time": "2021-09-08T16:57:20.132Z"
   },
   {
    "duration": 22,
    "start_time": "2021-09-08T16:57:20.147Z"
   },
   {
    "duration": 909,
    "start_time": "2021-09-08T16:57:20.171Z"
   },
   {
    "duration": 17,
    "start_time": "2021-09-08T16:57:21.082Z"
   },
   {
    "duration": 66,
    "start_time": "2021-09-08T16:57:21.101Z"
   },
   {
    "duration": 14,
    "start_time": "2021-09-08T16:57:21.170Z"
   },
   {
    "duration": 80,
    "start_time": "2021-09-08T16:57:21.188Z"
   },
   {
    "duration": 36,
    "start_time": "2021-09-08T16:57:21.271Z"
   },
   {
    "duration": 19,
    "start_time": "2021-09-08T16:57:21.310Z"
   },
   {
    "duration": 42,
    "start_time": "2021-09-08T16:57:21.332Z"
   },
   {
    "duration": 20,
    "start_time": "2021-09-08T16:57:21.377Z"
   },
   {
    "duration": 409,
    "start_time": "2021-09-08T16:57:21.399Z"
   },
   {
    "duration": 1058,
    "start_time": "2021-09-08T16:57:21.810Z"
   },
   {
    "duration": 448,
    "start_time": "2021-09-08T16:57:22.422Z"
   },
   {
    "duration": 4,
    "start_time": "2021-09-08T16:57:41.646Z"
   },
   {
    "duration": 68,
    "start_time": "2021-09-08T16:57:41.653Z"
   },
   {
    "duration": 43,
    "start_time": "2021-09-08T16:57:41.724Z"
   },
   {
    "duration": 14,
    "start_time": "2021-09-08T16:57:41.770Z"
   },
   {
    "duration": 22,
    "start_time": "2021-09-08T16:57:41.788Z"
   },
   {
    "duration": 6,
    "start_time": "2021-09-08T16:57:41.812Z"
   },
   {
    "duration": 4350,
    "start_time": "2021-09-08T16:57:41.820Z"
   },
   {
    "duration": 41,
    "start_time": "2021-09-08T16:57:46.173Z"
   },
   {
    "duration": 11,
    "start_time": "2021-09-08T16:57:46.218Z"
   },
   {
    "duration": 38,
    "start_time": "2021-09-08T16:57:46.231Z"
   },
   {
    "duration": 171,
    "start_time": "2021-09-08T16:57:46.272Z"
   },
   {
    "duration": 22,
    "start_time": "2021-09-08T16:57:46.445Z"
   },
   {
    "duration": 14,
    "start_time": "2021-09-08T16:57:46.469Z"
   },
   {
    "duration": 52,
    "start_time": "2021-09-08T16:57:46.485Z"
   },
   {
    "duration": 38,
    "start_time": "2021-09-08T16:57:46.539Z"
   },
   {
    "duration": 1360,
    "start_time": "2021-09-08T16:57:46.579Z"
   },
   {
    "duration": 26,
    "start_time": "2021-09-08T16:57:47.942Z"
   },
   {
    "duration": 5,
    "start_time": "2021-09-08T16:57:47.971Z"
   },
   {
    "duration": 907,
    "start_time": "2021-09-08T16:57:47.978Z"
   },
   {
    "duration": 16,
    "start_time": "2021-09-08T16:57:48.887Z"
   },
   {
    "duration": 65,
    "start_time": "2021-09-08T16:57:48.905Z"
   },
   {
    "duration": 16,
    "start_time": "2021-09-08T16:57:48.972Z"
   },
   {
    "duration": 81,
    "start_time": "2021-09-08T16:57:48.993Z"
   },
   {
    "duration": 36,
    "start_time": "2021-09-08T16:57:49.076Z"
   },
   {
    "duration": 20,
    "start_time": "2021-09-08T16:57:49.114Z"
   },
   {
    "duration": 33,
    "start_time": "2021-09-08T16:57:49.136Z"
   },
   {
    "duration": 12,
    "start_time": "2021-09-08T16:57:49.172Z"
   },
   {
    "duration": 404,
    "start_time": "2021-09-08T16:57:49.187Z"
   },
   {
    "duration": 1086,
    "start_time": "2021-09-08T16:57:49.593Z"
   },
   {
    "duration": 513,
    "start_time": "2021-09-08T16:57:50.169Z"
   },
   {
    "duration": 41,
    "start_time": "2021-09-08T17:01:13.013Z"
   },
   {
    "duration": 25,
    "start_time": "2021-09-08T17:05:53.170Z"
   },
   {
    "duration": 28,
    "start_time": "2021-09-08T17:07:49.875Z"
   },
   {
    "duration": 26,
    "start_time": "2021-09-08T17:10:45.710Z"
   },
   {
    "duration": 28,
    "start_time": "2021-09-08T17:12:09.707Z"
   },
   {
    "duration": 25,
    "start_time": "2021-09-08T17:13:42.877Z"
   },
   {
    "duration": 3,
    "start_time": "2021-09-08T17:14:48.273Z"
   },
   {
    "duration": 60,
    "start_time": "2021-09-08T17:14:48.279Z"
   },
   {
    "duration": 27,
    "start_time": "2021-09-08T17:14:48.342Z"
   },
   {
    "duration": 16,
    "start_time": "2021-09-08T17:14:48.372Z"
   },
   {
    "duration": 21,
    "start_time": "2021-09-08T17:14:48.390Z"
   },
   {
    "duration": 6,
    "start_time": "2021-09-08T17:14:48.413Z"
   },
   {
    "duration": 4186,
    "start_time": "2021-09-08T17:14:48.422Z"
   },
   {
    "duration": 56,
    "start_time": "2021-09-08T17:14:52.610Z"
   },
   {
    "duration": 8,
    "start_time": "2021-09-08T17:14:52.671Z"
   },
   {
    "duration": 30,
    "start_time": "2021-09-08T17:14:52.682Z"
   },
   {
    "duration": 156,
    "start_time": "2021-09-08T17:14:52.715Z"
   },
   {
    "duration": 11,
    "start_time": "2021-09-08T17:14:52.873Z"
   },
   {
    "duration": 26,
    "start_time": "2021-09-08T17:14:52.886Z"
   },
   {
    "duration": 65,
    "start_time": "2021-09-08T17:14:52.915Z"
   },
   {
    "duration": 11,
    "start_time": "2021-09-08T17:14:52.983Z"
   },
   {
    "duration": 1170,
    "start_time": "2021-09-08T17:14:52.996Z"
   },
   {
    "duration": 11,
    "start_time": "2021-09-08T17:14:54.168Z"
   },
   {
    "duration": 20,
    "start_time": "2021-09-08T17:14:54.182Z"
   },
   {
    "duration": 895,
    "start_time": "2021-09-08T17:14:54.205Z"
   },
   {
    "duration": 16,
    "start_time": "2021-09-08T17:14:55.102Z"
   },
   {
    "duration": 67,
    "start_time": "2021-09-08T17:14:55.120Z"
   },
   {
    "duration": 14,
    "start_time": "2021-09-08T17:14:55.189Z"
   },
   {
    "duration": 81,
    "start_time": "2021-09-08T17:14:55.205Z"
   },
   {
    "duration": 35,
    "start_time": "2021-09-08T17:14:55.289Z"
   },
   {
    "duration": 50,
    "start_time": "2021-09-08T17:14:55.327Z"
   },
   {
    "duration": 36,
    "start_time": "2021-09-08T17:14:55.379Z"
   },
   {
    "duration": 30,
    "start_time": "2021-09-08T17:14:55.419Z"
   },
   {
    "duration": 403,
    "start_time": "2021-09-08T17:14:55.451Z"
   },
   {
    "duration": 992,
    "start_time": "2021-09-08T17:14:55.857Z"
   },
   {
    "duration": 486,
    "start_time": "2021-09-08T17:14:56.366Z"
   },
   {
    "duration": 27,
    "start_time": "2021-09-08T17:17:41.203Z"
   },
   {
    "duration": 25,
    "start_time": "2021-09-08T17:26:53.457Z"
   },
   {
    "duration": 20,
    "start_time": "2021-09-08T17:30:14.405Z"
   },
   {
    "duration": 21,
    "start_time": "2021-09-08T17:30:30.254Z"
   },
   {
    "duration": 19,
    "start_time": "2021-09-08T17:31:04.543Z"
   },
   {
    "duration": 20,
    "start_time": "2021-09-08T17:31:41.615Z"
   },
   {
    "duration": 27,
    "start_time": "2021-09-08T17:32:46.899Z"
   },
   {
    "duration": 5,
    "start_time": "2021-09-08T17:38:19.380Z"
   },
   {
    "duration": 59,
    "start_time": "2021-09-08T17:38:19.388Z"
   },
   {
    "duration": 29,
    "start_time": "2021-09-08T17:38:19.450Z"
   },
   {
    "duration": 18,
    "start_time": "2021-09-08T17:38:19.481Z"
   },
   {
    "duration": 21,
    "start_time": "2021-09-08T17:38:19.502Z"
   },
   {
    "duration": 42,
    "start_time": "2021-09-08T17:38:19.526Z"
   },
   {
    "duration": 4295,
    "start_time": "2021-09-08T17:38:19.573Z"
   },
   {
    "duration": 42,
    "start_time": "2021-09-08T17:38:23.872Z"
   },
   {
    "duration": 12,
    "start_time": "2021-09-08T17:38:23.916Z"
   },
   {
    "duration": 42,
    "start_time": "2021-09-08T17:38:23.931Z"
   },
   {
    "duration": 151,
    "start_time": "2021-09-08T17:38:23.976Z"
   },
   {
    "duration": 11,
    "start_time": "2021-09-08T17:38:24.130Z"
   },
   {
    "duration": 30,
    "start_time": "2021-09-08T17:38:24.144Z"
   },
   {
    "duration": 55,
    "start_time": "2021-09-08T17:38:24.176Z"
   },
   {
    "duration": 38,
    "start_time": "2021-09-08T17:38:24.233Z"
   },
   {
    "duration": 1204,
    "start_time": "2021-09-08T17:38:24.274Z"
   },
   {
    "duration": 11,
    "start_time": "2021-09-08T17:38:25.481Z"
   },
   {
    "duration": 7,
    "start_time": "2021-09-08T17:38:25.495Z"
   },
   {
    "duration": 929,
    "start_time": "2021-09-08T17:38:25.506Z"
   },
   {
    "duration": 29,
    "start_time": "2021-09-08T17:38:26.438Z"
   },
   {
    "duration": 42,
    "start_time": "2021-09-08T17:38:26.469Z"
   },
   {
    "duration": 84,
    "start_time": "2021-09-08T17:38:26.513Z"
   },
   {
    "duration": 81,
    "start_time": "2021-09-08T17:38:26.600Z"
   },
   {
    "duration": 36,
    "start_time": "2021-09-08T17:38:26.684Z"
   },
   {
    "duration": 55,
    "start_time": "2021-09-08T17:38:26.722Z"
   },
   {
    "duration": 6,
    "start_time": "2021-09-08T17:38:26.780Z"
   },
   {
    "duration": 12,
    "start_time": "2021-09-08T17:38:26.789Z"
   },
   {
    "duration": 535,
    "start_time": "2021-09-08T17:38:26.803Z"
   },
   {
    "duration": 4810,
    "start_time": "2021-09-08T17:38:27.341Z"
   },
   {
    "duration": 515,
    "start_time": "2021-09-08T17:38:31.639Z"
   },
   {
    "duration": 38,
    "start_time": "2021-09-08T17:40:02.164Z"
   },
   {
    "duration": 31,
    "start_time": "2021-09-08T17:40:09.297Z"
   },
   {
    "duration": 30,
    "start_time": "2021-09-08T17:40:44.552Z"
   },
   {
    "duration": 5,
    "start_time": "2021-09-08T17:41:03.406Z"
   },
   {
    "duration": 90,
    "start_time": "2021-09-08T17:41:03.414Z"
   },
   {
    "duration": 29,
    "start_time": "2021-09-08T17:41:03.509Z"
   },
   {
    "duration": 13,
    "start_time": "2021-09-08T17:41:03.566Z"
   },
   {
    "duration": 28,
    "start_time": "2021-09-08T17:41:03.582Z"
   },
   {
    "duration": 8,
    "start_time": "2021-09-08T17:41:03.612Z"
   },
   {
    "duration": 6259,
    "start_time": "2021-09-08T17:41:03.626Z"
   },
   {
    "duration": 44,
    "start_time": "2021-09-08T17:41:09.888Z"
   },
   {
    "duration": 11,
    "start_time": "2021-09-08T17:41:09.935Z"
   },
   {
    "duration": 18,
    "start_time": "2021-09-08T17:41:09.968Z"
   },
   {
    "duration": 248,
    "start_time": "2021-09-08T17:41:09.988Z"
   },
   {
    "duration": 13,
    "start_time": "2021-09-08T17:41:10.239Z"
   },
   {
    "duration": 31,
    "start_time": "2021-09-08T17:41:10.267Z"
   },
   {
    "duration": 58,
    "start_time": "2021-09-08T17:41:10.300Z"
   },
   {
    "duration": 14,
    "start_time": "2021-09-08T17:41:10.360Z"
   },
   {
    "duration": 1195,
    "start_time": "2021-09-08T17:41:10.377Z"
   },
   {
    "duration": 15,
    "start_time": "2021-09-08T17:41:11.575Z"
   },
   {
    "duration": 6,
    "start_time": "2021-09-08T17:41:11.592Z"
   },
   {
    "duration": 1058,
    "start_time": "2021-09-08T17:41:11.603Z"
   },
   {
    "duration": 16,
    "start_time": "2021-09-08T17:41:12.664Z"
   },
   {
    "duration": 42,
    "start_time": "2021-09-08T17:41:12.683Z"
   },
   {
    "duration": 87,
    "start_time": "2021-09-08T17:41:12.727Z"
   },
   {
    "duration": 65,
    "start_time": "2021-09-08T17:41:12.817Z"
   },
   {
    "duration": 36,
    "start_time": "2021-09-08T17:41:12.884Z"
   },
   {
    "duration": 47,
    "start_time": "2021-09-08T17:41:12.922Z"
   },
   {
    "duration": 7,
    "start_time": "2021-09-08T17:41:12.971Z"
   },
   {
    "duration": 16,
    "start_time": "2021-09-08T17:41:12.980Z"
   },
   {
    "duration": 555,
    "start_time": "2021-09-08T17:41:12.998Z"
   },
   {
    "duration": 1301,
    "start_time": "2021-09-08T17:41:13.556Z"
   },
   {
    "duration": 498,
    "start_time": "2021-09-08T17:41:14.361Z"
   },
   {
    "duration": 32,
    "start_time": "2021-09-08T17:43:58.602Z"
   },
   {
    "duration": 27,
    "start_time": "2021-09-08T17:44:07.744Z"
   },
   {
    "duration": 4,
    "start_time": "2021-09-08T17:44:29.230Z"
   },
   {
    "duration": 61,
    "start_time": "2021-09-08T17:44:29.236Z"
   },
   {
    "duration": 20,
    "start_time": "2021-09-08T17:44:29.300Z"
   },
   {
    "duration": 17,
    "start_time": "2021-09-08T17:44:29.323Z"
   },
   {
    "duration": 42,
    "start_time": "2021-09-08T17:44:29.342Z"
   },
   {
    "duration": 6,
    "start_time": "2021-09-08T17:44:29.387Z"
   },
   {
    "duration": 4307,
    "start_time": "2021-09-08T17:44:29.397Z"
   },
   {
    "duration": 60,
    "start_time": "2021-09-08T17:44:33.707Z"
   },
   {
    "duration": 10,
    "start_time": "2021-09-08T17:44:33.770Z"
   },
   {
    "duration": 19,
    "start_time": "2021-09-08T17:44:33.782Z"
   },
   {
    "duration": 175,
    "start_time": "2021-09-08T17:44:33.804Z"
   },
   {
    "duration": 12,
    "start_time": "2021-09-08T17:44:33.982Z"
   },
   {
    "duration": 21,
    "start_time": "2021-09-08T17:44:33.997Z"
   },
   {
    "duration": 77,
    "start_time": "2021-09-08T17:44:34.021Z"
   },
   {
    "duration": 14,
    "start_time": "2021-09-08T17:44:34.100Z"
   },
   {
    "duration": 1250,
    "start_time": "2021-09-08T17:44:34.117Z"
   },
   {
    "duration": 12,
    "start_time": "2021-09-08T17:44:35.370Z"
   },
   {
    "duration": 8,
    "start_time": "2021-09-08T17:44:35.385Z"
   },
   {
    "duration": 916,
    "start_time": "2021-09-08T17:44:35.397Z"
   },
   {
    "duration": 19,
    "start_time": "2021-09-08T17:44:36.316Z"
   },
   {
    "duration": 65,
    "start_time": "2021-09-08T17:44:36.338Z"
   },
   {
    "duration": 82,
    "start_time": "2021-09-08T17:44:36.407Z"
   },
   {
    "duration": 41,
    "start_time": "2021-09-08T17:44:36.492Z"
   },
   {
    "duration": 38,
    "start_time": "2021-09-08T17:44:36.535Z"
   },
   {
    "duration": 28,
    "start_time": "2021-09-08T17:44:36.576Z"
   },
   {
    "duration": 6,
    "start_time": "2021-09-08T17:44:36.607Z"
   },
   {
    "duration": 12,
    "start_time": "2021-09-08T17:44:36.616Z"
   },
   {
    "duration": 413,
    "start_time": "2021-09-08T17:44:36.631Z"
   },
   {
    "duration": 1100,
    "start_time": "2021-09-08T17:44:37.047Z"
   },
   {
    "duration": 527,
    "start_time": "2021-09-08T17:44:37.622Z"
   },
   {
    "duration": 25,
    "start_time": "2021-09-08T17:45:22.881Z"
   },
   {
    "duration": 4,
    "start_time": "2021-09-08T17:46:13.188Z"
   },
   {
    "duration": 74,
    "start_time": "2021-09-08T17:46:13.195Z"
   },
   {
    "duration": 20,
    "start_time": "2021-09-08T17:46:13.272Z"
   },
   {
    "duration": 16,
    "start_time": "2021-09-08T17:46:13.295Z"
   },
   {
    "duration": 57,
    "start_time": "2021-09-08T17:46:13.314Z"
   },
   {
    "duration": 6,
    "start_time": "2021-09-08T17:46:13.374Z"
   },
   {
    "duration": 4173,
    "start_time": "2021-09-08T17:46:13.382Z"
   },
   {
    "duration": 45,
    "start_time": "2021-09-08T17:46:17.559Z"
   },
   {
    "duration": 7,
    "start_time": "2021-09-08T17:46:17.607Z"
   },
   {
    "duration": 17,
    "start_time": "2021-09-08T17:46:17.617Z"
   },
   {
    "duration": 178,
    "start_time": "2021-09-08T17:46:17.636Z"
   },
   {
    "duration": 11,
    "start_time": "2021-09-08T17:46:17.816Z"
   },
   {
    "duration": 16,
    "start_time": "2021-09-08T17:46:17.829Z"
   },
   {
    "duration": 52,
    "start_time": "2021-09-08T17:46:17.867Z"
   },
   {
    "duration": 14,
    "start_time": "2021-09-08T17:46:17.922Z"
   },
   {
    "duration": 1256,
    "start_time": "2021-09-08T17:46:17.939Z"
   },
   {
    "duration": 12,
    "start_time": "2021-09-08T17:46:19.197Z"
   },
   {
    "duration": 8,
    "start_time": "2021-09-08T17:46:19.212Z"
   },
   {
    "duration": 944,
    "start_time": "2021-09-08T17:46:19.223Z"
   },
   {
    "duration": 17,
    "start_time": "2021-09-08T17:46:20.169Z"
   },
   {
    "duration": 44,
    "start_time": "2021-09-08T17:46:20.188Z"
   },
   {
    "duration": 81,
    "start_time": "2021-09-08T17:46:20.235Z"
   },
   {
    "duration": 67,
    "start_time": "2021-09-08T17:46:20.324Z"
   },
   {
    "duration": 7521,
    "start_time": "2021-09-08T17:46:20.395Z"
   },
   {
    "duration": 514,
    "start_time": "2021-09-08T17:46:27.404Z"
   },
   {
    "duration": 509,
    "start_time": "2021-09-08T17:46:27.411Z"
   },
   {
    "duration": 506,
    "start_time": "2021-09-08T17:46:27.415Z"
   },
   {
    "duration": 505,
    "start_time": "2021-09-08T17:46:27.417Z"
   },
   {
    "duration": 505,
    "start_time": "2021-09-08T17:46:27.419Z"
   },
   {
    "duration": 504,
    "start_time": "2021-09-08T17:46:27.421Z"
   },
   {
    "duration": 25,
    "start_time": "2021-09-08T17:47:08.027Z"
   },
   {
    "duration": 52,
    "start_time": "2021-09-08T17:48:25.585Z"
   },
   {
    "duration": 19,
    "start_time": "2021-09-08T17:49:52.907Z"
   },
   {
    "duration": 25,
    "start_time": "2021-09-08T17:50:41.506Z"
   },
   {
    "duration": 6312,
    "start_time": "2021-09-08T17:51:28.204Z"
   },
   {
    "duration": 3,
    "start_time": "2021-09-08T17:51:39.667Z"
   },
   {
    "duration": 73,
    "start_time": "2021-09-08T17:51:39.672Z"
   },
   {
    "duration": 21,
    "start_time": "2021-09-08T17:51:39.749Z"
   },
   {
    "duration": 24,
    "start_time": "2021-09-08T17:51:39.773Z"
   },
   {
    "duration": 26,
    "start_time": "2021-09-08T17:51:39.800Z"
   },
   {
    "duration": 7,
    "start_time": "2021-09-08T17:51:39.830Z"
   },
   {
    "duration": 4140,
    "start_time": "2021-09-08T17:51:39.866Z"
   },
   {
    "duration": 39,
    "start_time": "2021-09-08T17:51:44.009Z"
   },
   {
    "duration": 11,
    "start_time": "2021-09-08T17:51:44.068Z"
   },
   {
    "duration": 21,
    "start_time": "2021-09-08T17:51:44.081Z"
   },
   {
    "duration": 154,
    "start_time": "2021-09-08T17:51:44.105Z"
   },
   {
    "duration": 9,
    "start_time": "2021-09-08T17:51:44.262Z"
   },
   {
    "duration": 15,
    "start_time": "2021-09-08T17:51:44.274Z"
   },
   {
    "duration": 80,
    "start_time": "2021-09-08T17:51:44.291Z"
   },
   {
    "duration": 13,
    "start_time": "2021-09-08T17:51:44.373Z"
   },
   {
    "duration": 1202,
    "start_time": "2021-09-08T17:51:44.388Z"
   },
   {
    "duration": 13,
    "start_time": "2021-09-08T17:51:45.593Z"
   },
   {
    "duration": 5,
    "start_time": "2021-09-08T17:51:45.609Z"
   },
   {
    "duration": 918,
    "start_time": "2021-09-08T17:51:45.619Z"
   },
   {
    "duration": 29,
    "start_time": "2021-09-08T17:51:46.539Z"
   },
   {
    "duration": 47,
    "start_time": "2021-09-08T17:51:46.571Z"
   },
   {
    "duration": 56,
    "start_time": "2021-09-08T17:51:46.621Z"
   },
   {
    "duration": 54,
    "start_time": "2021-09-08T17:51:46.679Z"
   },
   {
    "duration": 8,
    "start_time": "2021-09-08T17:51:46.736Z"
   },
   {
    "duration": 531,
    "start_time": "2021-09-08T17:51:46.746Z"
   },
   {
    "duration": 1193,
    "start_time": "2021-09-08T17:51:47.280Z"
   },
   {
    "duration": 518,
    "start_time": "2021-09-08T17:51:47.957Z"
   },
   {
    "duration": 7340,
    "start_time": "2021-09-08T17:54:23.119Z"
   },
   {
    "duration": 6807,
    "start_time": "2021-09-08T17:54:51.090Z"
   },
   {
    "duration": 4,
    "start_time": "2021-09-08T17:55:11.211Z"
   },
   {
    "duration": 3184,
    "start_time": "2021-09-08T17:55:11.218Z"
   },
   {
    "duration": 13,
    "start_time": "2021-09-08T17:55:14.405Z"
   },
   {
    "duration": 16,
    "start_time": "2021-09-08T17:55:14.421Z"
   },
   {
    "duration": 36,
    "start_time": "2021-09-08T17:55:14.440Z"
   },
   {
    "duration": 5,
    "start_time": "2021-09-08T17:55:14.478Z"
   },
   {
    "duration": 4276,
    "start_time": "2021-09-08T17:55:14.485Z"
   },
   {
    "duration": 42,
    "start_time": "2021-09-08T17:55:18.768Z"
   },
   {
    "duration": 11,
    "start_time": "2021-09-08T17:55:18.813Z"
   },
   {
    "duration": 15,
    "start_time": "2021-09-08T17:55:18.826Z"
   },
   {
    "duration": 22,
    "start_time": "2021-09-08T17:55:18.867Z"
   },
   {
    "duration": 175,
    "start_time": "2021-09-08T17:55:18.892Z"
   },
   {
    "duration": 11,
    "start_time": "2021-09-08T17:55:19.070Z"
   },
   {
    "duration": 16,
    "start_time": "2021-09-08T17:55:19.083Z"
   },
   {
    "duration": 90,
    "start_time": "2021-09-08T17:55:19.102Z"
   },
   {
    "duration": 15,
    "start_time": "2021-09-08T17:55:19.195Z"
   },
   {
    "duration": 1270,
    "start_time": "2021-09-08T17:55:19.214Z"
   },
   {
    "duration": 12,
    "start_time": "2021-09-08T17:55:20.486Z"
   },
   {
    "duration": 12,
    "start_time": "2021-09-08T17:55:20.501Z"
   },
   {
    "duration": 923,
    "start_time": "2021-09-08T17:55:20.516Z"
   },
   {
    "duration": 38,
    "start_time": "2021-09-08T17:55:21.442Z"
   },
   {
    "duration": 47,
    "start_time": "2021-09-08T17:55:21.483Z"
   },
   {
    "duration": 52,
    "start_time": "2021-09-08T17:55:21.537Z"
   },
   {
    "duration": 78,
    "start_time": "2021-09-08T17:55:21.592Z"
   },
   {
    "duration": 9,
    "start_time": "2021-09-08T17:55:21.672Z"
   },
   {
    "duration": 403,
    "start_time": "2021-09-08T17:55:21.683Z"
   },
   {
    "duration": 1417,
    "start_time": "2021-09-08T17:55:22.089Z"
   },
   {
    "duration": 522,
    "start_time": "2021-09-08T17:55:22.987Z"
   },
   {
    "duration": 505,
    "start_time": "2021-09-08T18:00:39.837Z"
   },
   {
    "duration": 4,
    "start_time": "2021-09-08T18:00:46.230Z"
   },
   {
    "duration": 59,
    "start_time": "2021-09-08T18:00:46.238Z"
   },
   {
    "duration": 14,
    "start_time": "2021-09-08T18:00:46.300Z"
   },
   {
    "duration": 16,
    "start_time": "2021-09-08T18:00:46.318Z"
   },
   {
    "duration": 19,
    "start_time": "2021-09-08T18:00:46.368Z"
   },
   {
    "duration": 7,
    "start_time": "2021-09-08T18:00:46.390Z"
   },
   {
    "duration": 4288,
    "start_time": "2021-09-08T18:00:46.400Z"
   },
   {
    "duration": 80,
    "start_time": "2021-09-08T18:00:50.693Z"
   },
   {
    "duration": 10,
    "start_time": "2021-09-08T18:00:50.777Z"
   },
   {
    "duration": 20,
    "start_time": "2021-09-08T18:00:50.790Z"
   },
   {
    "duration": 177,
    "start_time": "2021-09-08T18:00:50.812Z"
   },
   {
    "duration": 12,
    "start_time": "2021-09-08T18:00:50.991Z"
   },
   {
    "duration": 19,
    "start_time": "2021-09-08T18:00:51.006Z"
   },
   {
    "duration": 83,
    "start_time": "2021-09-08T18:00:51.028Z"
   },
   {
    "duration": 15,
    "start_time": "2021-09-08T18:00:51.114Z"
   },
   {
    "duration": 1240,
    "start_time": "2021-09-08T18:00:51.132Z"
   },
   {
    "duration": 12,
    "start_time": "2021-09-08T18:00:52.375Z"
   },
   {
    "duration": 17,
    "start_time": "2021-09-08T18:00:52.389Z"
   },
   {
    "duration": 7,
    "start_time": "2021-09-08T18:00:52.409Z"
   },
   {
    "duration": 950,
    "start_time": "2021-09-08T18:00:52.418Z"
   },
   {
    "duration": 17,
    "start_time": "2021-09-08T18:00:53.370Z"
   },
   {
    "duration": 45,
    "start_time": "2021-09-08T18:00:53.389Z"
   },
   {
    "duration": 31,
    "start_time": "2021-09-08T18:00:53.467Z"
   },
   {
    "duration": 72,
    "start_time": "2021-09-08T18:00:53.501Z"
   },
   {
    "duration": 7379,
    "start_time": "2021-09-08T18:00:53.576Z"
   },
   {
    "duration": 484,
    "start_time": "2021-09-08T18:01:00.474Z"
   },
   {
    "duration": 468,
    "start_time": "2021-09-08T18:01:00.492Z"
   },
   {
    "duration": 443,
    "start_time": "2021-09-08T18:01:00.518Z"
   },
   {
    "duration": 416,
    "start_time": "2021-09-08T18:01:00.547Z"
   },
   {
    "duration": 10,
    "start_time": "2021-09-08T18:03:22.396Z"
   },
   {
    "duration": 386,
    "start_time": "2021-09-08T18:03:26.793Z"
   },
   {
    "duration": 1069,
    "start_time": "2021-09-08T18:03:51.532Z"
   },
   {
    "duration": 74,
    "start_time": "2021-09-08T18:09:42.525Z"
   },
   {
    "duration": 80,
    "start_time": "2021-09-08T18:09:57.093Z"
   },
   {
    "duration": 21,
    "start_time": "2021-09-08T18:10:13.428Z"
   },
   {
    "duration": 13,
    "start_time": "2021-09-08T18:12:45.391Z"
   },
   {
    "duration": 24,
    "start_time": "2021-09-08T18:13:11.903Z"
   },
   {
    "duration": 73,
    "start_time": "2021-09-08T18:14:11.089Z"
   },
   {
    "duration": 87,
    "start_time": "2021-09-08T18:14:28.543Z"
   },
   {
    "duration": 129,
    "start_time": "2021-09-08T18:14:47.767Z"
   },
   {
    "duration": 81,
    "start_time": "2021-09-08T18:15:01.712Z"
   },
   {
    "duration": 74,
    "start_time": "2021-09-08T18:15:14.245Z"
   },
   {
    "duration": 99,
    "start_time": "2021-09-08T18:15:33.871Z"
   },
   {
    "duration": 296,
    "start_time": "2021-09-08T18:16:52.226Z"
   },
   {
    "duration": 24,
    "start_time": "2021-09-08T18:17:06.205Z"
   },
   {
    "duration": 24,
    "start_time": "2021-09-08T18:17:22.419Z"
   },
   {
    "duration": 524,
    "start_time": "2021-09-08T18:17:29.519Z"
   },
   {
    "duration": 1294,
    "start_time": "2021-09-08T18:18:55.308Z"
   },
   {
    "duration": 57,
    "start_time": "2021-09-08T18:18:56.605Z"
   },
   {
    "duration": 19,
    "start_time": "2021-09-08T18:18:56.665Z"
   },
   {
    "duration": 15,
    "start_time": "2021-09-08T18:18:56.687Z"
   },
   {
    "duration": 18,
    "start_time": "2021-09-08T18:18:56.707Z"
   },
   {
    "duration": 41,
    "start_time": "2021-09-08T18:18:56.728Z"
   },
   {
    "duration": 4075,
    "start_time": "2021-09-08T18:18:56.773Z"
   },
   {
    "duration": 51,
    "start_time": "2021-09-08T18:19:00.851Z"
   },
   {
    "duration": 8,
    "start_time": "2021-09-08T18:19:00.906Z"
   },
   {
    "duration": 14,
    "start_time": "2021-09-08T18:19:00.917Z"
   },
   {
    "duration": 181,
    "start_time": "2021-09-08T18:19:00.933Z"
   },
   {
    "duration": 11,
    "start_time": "2021-09-08T18:19:01.117Z"
   },
   {
    "duration": 36,
    "start_time": "2021-09-08T18:19:01.131Z"
   },
   {
    "duration": 72,
    "start_time": "2021-09-08T18:19:01.171Z"
   },
   {
    "duration": 15,
    "start_time": "2021-09-08T18:19:01.245Z"
   },
   {
    "duration": 1234,
    "start_time": "2021-09-08T18:19:01.268Z"
   },
   {
    "duration": 15,
    "start_time": "2021-09-08T18:19:02.505Z"
   },
   {
    "duration": 25,
    "start_time": "2021-09-08T18:19:02.523Z"
   },
   {
    "duration": 968,
    "start_time": "2021-09-08T18:19:02.551Z"
   },
   {
    "duration": 24,
    "start_time": "2021-09-08T18:19:03.523Z"
   },
   {
    "duration": 67,
    "start_time": "2021-09-08T18:19:03.567Z"
   },
   {
    "duration": 69,
    "start_time": "2021-09-08T18:19:03.638Z"
   },
   {
    "duration": 106,
    "start_time": "2021-09-08T18:19:03.710Z"
   },
   {
    "duration": 13,
    "start_time": "2021-09-08T18:19:03.819Z"
   },
   {
    "duration": 1035,
    "start_time": "2021-09-08T18:19:03.835Z"
   },
   {
    "duration": 27,
    "start_time": "2021-09-08T18:19:04.872Z"
   },
   {
    "duration": 649,
    "start_time": "2021-09-08T18:19:04.905Z"
   },
   {
    "duration": 4,
    "start_time": "2021-09-08T18:24:35.566Z"
   },
   {
    "duration": 61,
    "start_time": "2021-09-08T18:24:35.572Z"
   },
   {
    "duration": 32,
    "start_time": "2021-09-08T18:24:35.636Z"
   },
   {
    "duration": 15,
    "start_time": "2021-09-08T18:24:35.671Z"
   },
   {
    "duration": 17,
    "start_time": "2021-09-08T18:24:35.688Z"
   },
   {
    "duration": 6,
    "start_time": "2021-09-08T18:24:35.707Z"
   },
   {
    "duration": 4191,
    "start_time": "2021-09-08T18:24:35.715Z"
   },
   {
    "duration": 42,
    "start_time": "2021-09-08T18:24:39.909Z"
   },
   {
    "duration": 9,
    "start_time": "2021-09-08T18:24:39.967Z"
   },
   {
    "duration": 11,
    "start_time": "2021-09-08T18:24:39.979Z"
   },
   {
    "duration": 168,
    "start_time": "2021-09-08T18:24:39.993Z"
   },
   {
    "duration": 9,
    "start_time": "2021-09-08T18:24:40.164Z"
   },
   {
    "duration": 27,
    "start_time": "2021-09-08T18:24:40.176Z"
   },
   {
    "duration": 63,
    "start_time": "2021-09-08T18:24:40.206Z"
   },
   {
    "duration": 13,
    "start_time": "2021-09-08T18:24:40.271Z"
   },
   {
    "duration": 1771,
    "start_time": "2021-09-08T18:24:40.286Z"
   },
   {
    "duration": 20,
    "start_time": "2021-09-08T18:24:42.060Z"
   },
   {
    "duration": 7,
    "start_time": "2021-09-08T18:24:42.083Z"
   },
   {
    "duration": 1049,
    "start_time": "2021-09-08T18:24:42.092Z"
   },
   {
    "duration": 31,
    "start_time": "2021-09-08T18:24:43.144Z"
   },
   {
    "duration": 61,
    "start_time": "2021-09-08T18:24:43.178Z"
   },
   {
    "duration": 35,
    "start_time": "2021-09-08T18:24:43.241Z"
   },
   {
    "duration": 33,
    "start_time": "2021-09-08T18:24:43.280Z"
   },
   {
    "duration": 77,
    "start_time": "2021-09-08T18:24:43.316Z"
   },
   {
    "duration": 9,
    "start_time": "2021-09-08T18:24:43.396Z"
   },
   {
    "duration": 460,
    "start_time": "2021-09-08T18:24:43.407Z"
   },
   {
    "duration": 25,
    "start_time": "2021-09-08T18:24:43.870Z"
   },
   {
    "duration": 850,
    "start_time": "2021-09-08T18:24:43.898Z"
   },
   {
    "duration": 95,
    "start_time": "2021-09-08T18:28:13.887Z"
   },
   {
    "duration": 12,
    "start_time": "2021-09-08T19:06:57.690Z"
   },
   {
    "duration": 498,
    "start_time": "2021-09-08T19:09:39.714Z"
   },
   {
    "duration": 533,
    "start_time": "2021-09-08T19:10:06.163Z"
   },
   {
    "duration": 54,
    "start_time": "2021-09-08T19:10:06.699Z"
   },
   {
    "duration": 17,
    "start_time": "2021-09-08T19:10:06.756Z"
   },
   {
    "duration": 15,
    "start_time": "2021-09-08T19:10:06.777Z"
   },
   {
    "duration": 17,
    "start_time": "2021-09-08T19:10:06.795Z"
   },
   {
    "duration": 53,
    "start_time": "2021-09-08T19:10:06.814Z"
   },
   {
    "duration": 4653,
    "start_time": "2021-09-08T19:10:06.871Z"
   },
   {
    "duration": 76,
    "start_time": "2021-09-08T19:10:11.531Z"
   },
   {
    "duration": 9,
    "start_time": "2021-09-08T19:10:11.610Z"
   },
   {
    "duration": 50,
    "start_time": "2021-09-08T19:10:11.621Z"
   },
   {
    "duration": 161,
    "start_time": "2021-09-08T19:10:11.676Z"
   },
   {
    "duration": 10,
    "start_time": "2021-09-08T19:10:11.840Z"
   },
   {
    "duration": 36,
    "start_time": "2021-09-08T19:10:11.852Z"
   },
   {
    "duration": 54,
    "start_time": "2021-09-08T19:10:11.890Z"
   },
   {
    "duration": 37,
    "start_time": "2021-09-08T19:10:11.947Z"
   },
   {
    "duration": 1267,
    "start_time": "2021-09-08T19:10:11.986Z"
   },
   {
    "duration": 24,
    "start_time": "2021-09-08T19:10:13.255Z"
   },
   {
    "duration": 37,
    "start_time": "2021-09-08T19:10:13.283Z"
   },
   {
    "duration": 974,
    "start_time": "2021-09-08T19:10:13.322Z"
   },
   {
    "duration": 17,
    "start_time": "2021-09-08T19:10:14.298Z"
   },
   {
    "duration": 76,
    "start_time": "2021-09-08T19:10:14.318Z"
   },
   {
    "duration": 13,
    "start_time": "2021-09-08T19:10:14.397Z"
   },
   {
    "duration": 63,
    "start_time": "2021-09-08T19:10:14.414Z"
   },
   {
    "duration": 56,
    "start_time": "2021-09-08T19:10:14.481Z"
   },
   {
    "duration": 40,
    "start_time": "2021-09-08T19:10:14.540Z"
   },
   {
    "duration": 662,
    "start_time": "2021-09-08T19:10:14.583Z"
   },
   {
    "duration": 41,
    "start_time": "2021-09-08T19:10:15.248Z"
   },
   {
    "duration": 586,
    "start_time": "2021-09-08T19:10:15.292Z"
   },
   {
    "duration": 8,
    "start_time": "2021-09-08T19:10:15.882Z"
   },
   {
    "duration": 1651,
    "start_time": "2021-09-08T19:10:15.893Z"
   },
   {
    "duration": 12,
    "start_time": "2021-09-08T19:11:39.738Z"
   },
   {
    "duration": 1643,
    "start_time": "2021-09-08T19:19:38.291Z"
   },
   {
    "duration": 350,
    "start_time": "2021-09-08T19:27:01.489Z"
   },
   {
    "duration": 245,
    "start_time": "2021-09-08T19:27:26.448Z"
   },
   {
    "duration": 236,
    "start_time": "2021-09-08T19:28:42.778Z"
   },
   {
    "duration": 1859,
    "start_time": "2021-09-08T19:29:18.201Z"
   },
   {
    "duration": 61,
    "start_time": "2021-09-08T19:29:20.063Z"
   },
   {
    "duration": 18,
    "start_time": "2021-09-08T19:29:20.127Z"
   },
   {
    "duration": 30,
    "start_time": "2021-09-08T19:29:20.148Z"
   },
   {
    "duration": 26,
    "start_time": "2021-09-08T19:29:20.180Z"
   },
   {
    "duration": 6,
    "start_time": "2021-09-08T19:29:20.208Z"
   },
   {
    "duration": 4402,
    "start_time": "2021-09-08T19:29:20.216Z"
   },
   {
    "duration": 49,
    "start_time": "2021-09-08T19:29:24.620Z"
   },
   {
    "duration": 11,
    "start_time": "2021-09-08T19:29:24.673Z"
   },
   {
    "duration": 12,
    "start_time": "2021-09-08T19:29:24.686Z"
   },
   {
    "duration": 171,
    "start_time": "2021-09-08T19:29:24.701Z"
   },
   {
    "duration": 10,
    "start_time": "2021-09-08T19:29:24.875Z"
   },
   {
    "duration": 14,
    "start_time": "2021-09-08T19:29:24.887Z"
   },
   {
    "duration": 81,
    "start_time": "2021-09-08T19:29:24.904Z"
   },
   {
    "duration": 15,
    "start_time": "2021-09-08T19:29:24.988Z"
   },
   {
    "duration": 1181,
    "start_time": "2021-09-08T19:29:25.005Z"
   },
   {
    "duration": 12,
    "start_time": "2021-09-08T19:29:26.189Z"
   },
   {
    "duration": 5,
    "start_time": "2021-09-08T19:29:26.204Z"
   },
   {
    "duration": 912,
    "start_time": "2021-09-08T19:29:26.212Z"
   },
   {
    "duration": 17,
    "start_time": "2021-09-08T19:29:27.126Z"
   },
   {
    "duration": 59,
    "start_time": "2021-09-08T19:29:27.146Z"
   },
   {
    "duration": 14,
    "start_time": "2021-09-08T19:29:27.207Z"
   },
   {
    "duration": 59,
    "start_time": "2021-09-08T19:29:27.224Z"
   },
   {
    "duration": 54,
    "start_time": "2021-09-08T19:29:27.286Z"
   },
   {
    "duration": 29,
    "start_time": "2021-09-08T19:29:27.343Z"
   },
   {
    "duration": 1055,
    "start_time": "2021-09-08T19:29:27.374Z"
   },
   {
    "duration": 48,
    "start_time": "2021-09-08T19:29:28.434Z"
   },
   {
    "duration": 513,
    "start_time": "2021-09-08T19:29:28.485Z"
   },
   {
    "duration": 539,
    "start_time": "2021-09-08T19:29:29.000Z"
   },
   {
    "duration": -3258,
    "start_time": "2021-09-08T19:29:32.800Z"
   },
   {
    "duration": -3261,
    "start_time": "2021-09-08T19:29:32.805Z"
   },
   {
    "duration": 498,
    "start_time": "2021-09-08T19:32:45.554Z"
   },
   {
    "duration": 13,
    "start_time": "2021-09-08T19:37:29.718Z"
   },
   {
    "duration": 757,
    "start_time": "2021-09-08T19:38:03.781Z"
   },
   {
    "duration": 858,
    "start_time": "2021-09-08T19:38:57.101Z"
   },
   {
    "duration": 1422,
    "start_time": "2021-09-08T19:39:29.828Z"
   },
   {
    "duration": 1180,
    "start_time": "2021-09-08T19:39:52.558Z"
   },
   {
    "duration": 266,
    "start_time": "2021-09-08T19:41:13.621Z"
   },
   {
    "duration": 11,
    "start_time": "2021-09-08T19:41:27.773Z"
   },
   {
    "duration": 17,
    "start_time": "2021-09-08T19:41:53.183Z"
   },
   {
    "duration": 305,
    "start_time": "2021-09-08T19:42:00.196Z"
   },
   {
    "duration": 343,
    "start_time": "2021-09-08T19:43:32.285Z"
   },
   {
    "duration": 1716,
    "start_time": "2021-09-08T19:43:39.140Z"
   },
   {
    "duration": 18,
    "start_time": "2021-09-08T19:45:11.026Z"
   },
   {
    "duration": 331,
    "start_time": "2021-09-08T19:45:40.980Z"
   },
   {
    "duration": 19,
    "start_time": "2021-09-08T19:45:55.572Z"
   },
   {
    "duration": 323,
    "start_time": "2021-09-08T19:45:58.763Z"
   },
   {
    "duration": 2454,
    "start_time": "2021-09-09T09:48:07.903Z"
   },
   {
    "duration": 62,
    "start_time": "2021-09-09T09:48:10.361Z"
   },
   {
    "duration": 29,
    "start_time": "2021-09-09T09:48:10.427Z"
   },
   {
    "duration": 17,
    "start_time": "2021-09-09T09:48:10.460Z"
   },
   {
    "duration": 18,
    "start_time": "2021-09-09T09:48:10.479Z"
   },
   {
    "duration": 7,
    "start_time": "2021-09-09T09:48:10.500Z"
   },
   {
    "duration": 4080,
    "start_time": "2021-09-09T09:48:10.510Z"
   },
   {
    "duration": 41,
    "start_time": "2021-09-09T09:48:14.596Z"
   },
   {
    "duration": 8,
    "start_time": "2021-09-09T09:48:14.658Z"
   },
   {
    "duration": 12,
    "start_time": "2021-09-09T09:48:14.668Z"
   },
   {
    "duration": 159,
    "start_time": "2021-09-09T09:48:14.683Z"
   },
   {
    "duration": 18,
    "start_time": "2021-09-09T09:48:14.844Z"
   },
   {
    "duration": 17,
    "start_time": "2021-09-09T09:48:14.864Z"
   },
   {
    "duration": 72,
    "start_time": "2021-09-09T09:48:14.884Z"
   },
   {
    "duration": 13,
    "start_time": "2021-09-09T09:48:14.958Z"
   },
   {
    "duration": 1313,
    "start_time": "2021-09-09T09:48:14.974Z"
   },
   {
    "duration": 13,
    "start_time": "2021-09-09T09:48:16.290Z"
   },
   {
    "duration": 7,
    "start_time": "2021-09-09T09:48:16.305Z"
   },
   {
    "duration": 923,
    "start_time": "2021-09-09T09:48:16.314Z"
   },
   {
    "duration": 27,
    "start_time": "2021-09-09T09:48:17.240Z"
   },
   {
    "duration": 42,
    "start_time": "2021-09-09T09:48:17.270Z"
   },
   {
    "duration": 47,
    "start_time": "2021-09-09T09:48:17.316Z"
   },
   {
    "duration": 51,
    "start_time": "2021-09-09T09:48:17.371Z"
   },
   {
    "duration": 93,
    "start_time": "2021-09-09T09:48:17.425Z"
   },
   {
    "duration": 8,
    "start_time": "2021-09-09T09:48:17.521Z"
   },
   {
    "duration": 1049,
    "start_time": "2021-09-09T09:48:17.532Z"
   },
   {
    "duration": 22,
    "start_time": "2021-09-09T09:48:18.584Z"
   },
   {
    "duration": 532,
    "start_time": "2021-09-09T09:48:18.608Z"
   },
   {
    "duration": 26,
    "start_time": "2021-09-09T09:48:19.143Z"
   },
   {
    "duration": 338,
    "start_time": "2021-09-09T09:48:19.172Z"
   },
   {
    "duration": 1529,
    "start_time": "2021-09-09T09:48:19.513Z"
   },
   {
    "duration": 931,
    "start_time": "2021-09-09T10:32:22.525Z"
   },
   {
    "duration": 644,
    "start_time": "2021-09-09T10:32:56.115Z"
   },
   {
    "duration": 634,
    "start_time": "2021-09-09T10:33:15.378Z"
   },
   {
    "duration": 142,
    "start_time": "2021-09-09T10:34:01.219Z"
   },
   {
    "duration": 551,
    "start_time": "2021-09-09T10:34:27.076Z"
   },
   {
    "duration": 390,
    "start_time": "2021-09-09T10:39:15.510Z"
   },
   {
    "duration": 21,
    "start_time": "2021-09-09T10:39:46.022Z"
   },
   {
    "duration": 30,
    "start_time": "2021-09-09T10:59:48.330Z"
   },
   {
    "duration": 28,
    "start_time": "2021-09-09T11:01:31.803Z"
   },
   {
    "duration": 31,
    "start_time": "2021-09-09T11:02:20.942Z"
   },
   {
    "duration": 28,
    "start_time": "2021-09-09T11:02:50.077Z"
   },
   {
    "duration": 27,
    "start_time": "2021-09-09T11:03:17.549Z"
   },
   {
    "duration": 28,
    "start_time": "2021-09-09T11:03:17.960Z"
   },
   {
    "duration": 28,
    "start_time": "2021-09-09T11:03:30.345Z"
   },
   {
    "duration": 378,
    "start_time": "2021-09-09T11:06:02.577Z"
   },
   {
    "duration": 1399,
    "start_time": "2021-09-09T11:06:39.506Z"
   },
   {
    "duration": 27,
    "start_time": "2021-09-09T11:07:02.825Z"
   },
   {
    "duration": 20,
    "start_time": "2021-09-09T11:09:50.378Z"
   },
   {
    "duration": 131,
    "start_time": "2021-09-09T17:05:37.672Z"
   },
   {
    "duration": 116,
    "start_time": "2021-09-09T17:06:32.218Z"
   },
   {
    "duration": 500,
    "start_time": "2021-09-09T17:06:47.473Z"
   },
   {
    "duration": 367,
    "start_time": "2021-09-09T17:07:08.930Z"
   },
   {
    "duration": 260,
    "start_time": "2021-09-09T17:08:27.658Z"
   },
   {
    "duration": 350,
    "start_time": "2021-09-09T17:15:12.233Z"
   },
   {
    "duration": 271,
    "start_time": "2021-09-09T17:24:25.256Z"
   },
   {
    "duration": 296,
    "start_time": "2021-09-09T17:26:46.520Z"
   },
   {
    "duration": 925,
    "start_time": "2021-09-09T17:38:39.927Z"
   },
   {
    "duration": 15,
    "start_time": "2021-09-09T17:54:09.173Z"
   },
   {
    "duration": 933,
    "start_time": "2021-09-09T18:20:47.314Z"
   },
   {
    "duration": 31,
    "start_time": "2021-09-09T18:20:58.926Z"
   },
   {
    "duration": 52,
    "start_time": "2021-09-09T18:22:55.732Z"
   },
   {
    "duration": 27,
    "start_time": "2021-09-09T18:23:42.088Z"
   },
   {
    "duration": 36,
    "start_time": "2021-09-09T18:31:10.196Z"
   },
   {
    "duration": 25,
    "start_time": "2021-09-09T18:42:22.549Z"
   },
   {
    "duration": 10,
    "start_time": "2021-09-09T18:42:28.673Z"
   },
   {
    "duration": 31,
    "start_time": "2021-09-09T18:46:30.991Z"
   },
   {
    "duration": 14,
    "start_time": "2021-09-09T18:46:58.774Z"
   },
   {
    "duration": 371,
    "start_time": "2021-09-09T18:49:57.146Z"
   },
   {
    "duration": 412,
    "start_time": "2021-09-09T18:50:25.764Z"
   },
   {
    "duration": 6,
    "start_time": "2021-09-09T18:50:41.438Z"
   },
   {
    "duration": 9,
    "start_time": "2021-09-09T18:51:16.915Z"
   },
   {
    "duration": 6,
    "start_time": "2021-09-09T18:52:11.713Z"
   },
   {
    "duration": 14,
    "start_time": "2021-09-09T18:58:16.320Z"
   },
   {
    "duration": 125,
    "start_time": "2021-09-09T19:10:43.785Z"
   },
   {
    "duration": 360,
    "start_time": "2021-09-09T19:11:12.503Z"
   },
   {
    "duration": 998,
    "start_time": "2021-09-09T19:11:21.789Z"
   },
   {
    "duration": 11,
    "start_time": "2021-09-09T19:11:28.567Z"
   },
   {
    "duration": 24,
    "start_time": "2021-09-09T19:11:58.921Z"
   },
   {
    "duration": 17,
    "start_time": "2021-09-09T19:13:59.266Z"
   },
   {
    "duration": 22,
    "start_time": "2021-09-09T19:14:11.583Z"
   },
   {
    "duration": 816,
    "start_time": "2021-09-09T19:20:07.601Z"
   },
   {
    "duration": 1061,
    "start_time": "2021-09-09T19:20:24.496Z"
   },
   {
    "duration": 4,
    "start_time": "2021-09-09T19:22:17.103Z"
   },
   {
    "duration": 66,
    "start_time": "2021-09-09T19:22:17.110Z"
   },
   {
    "duration": 14,
    "start_time": "2021-09-09T19:22:17.179Z"
   },
   {
    "duration": 25,
    "start_time": "2021-09-09T19:22:17.196Z"
   },
   {
    "duration": 52,
    "start_time": "2021-09-09T19:22:17.224Z"
   },
   {
    "duration": 9,
    "start_time": "2021-09-09T19:22:17.280Z"
   },
   {
    "duration": 4570,
    "start_time": "2021-09-09T19:22:17.294Z"
   },
   {
    "duration": 39,
    "start_time": "2021-09-09T19:22:21.868Z"
   },
   {
    "duration": 19,
    "start_time": "2021-09-09T19:22:21.909Z"
   },
   {
    "duration": 37,
    "start_time": "2021-09-09T19:22:21.930Z"
   },
   {
    "duration": 167,
    "start_time": "2021-09-09T19:22:21.970Z"
   },
   {
    "duration": 16,
    "start_time": "2021-09-09T19:22:22.140Z"
   },
   {
    "duration": 39,
    "start_time": "2021-09-09T19:22:22.158Z"
   },
   {
    "duration": 64,
    "start_time": "2021-09-09T19:22:22.200Z"
   },
   {
    "duration": 13,
    "start_time": "2021-09-09T19:22:22.266Z"
   },
   {
    "duration": 1158,
    "start_time": "2021-09-09T19:22:22.281Z"
   },
   {
    "duration": 20,
    "start_time": "2021-09-09T19:22:23.442Z"
   },
   {
    "duration": 6,
    "start_time": "2021-09-09T19:22:23.465Z"
   },
   {
    "duration": 911,
    "start_time": "2021-09-09T19:22:23.476Z"
   },
   {
    "duration": 17,
    "start_time": "2021-09-09T19:22:24.390Z"
   },
   {
    "duration": 76,
    "start_time": "2021-09-09T19:22:24.411Z"
   },
   {
    "duration": 17,
    "start_time": "2021-09-09T19:22:24.490Z"
   },
   {
    "duration": 71,
    "start_time": "2021-09-09T19:22:24.510Z"
   },
   {
    "duration": 80,
    "start_time": "2021-09-09T19:22:24.584Z"
   },
   {
    "duration": 11,
    "start_time": "2021-09-09T19:22:24.667Z"
   },
   {
    "duration": 427,
    "start_time": "2021-09-09T19:22:24.681Z"
   },
   {
    "duration": 53,
    "start_time": "2021-09-09T19:22:25.111Z"
   },
   {
    "duration": 589,
    "start_time": "2021-09-09T19:22:25.167Z"
   },
   {
    "duration": 24,
    "start_time": "2021-09-09T19:22:25.759Z"
   },
   {
    "duration": 385,
    "start_time": "2021-09-09T19:22:25.786Z"
   },
   {
    "duration": 28,
    "start_time": "2021-09-09T19:22:26.174Z"
   },
   {
    "duration": 51,
    "start_time": "2021-09-09T19:22:26.205Z"
   },
   {
    "duration": 21,
    "start_time": "2021-09-09T19:22:26.258Z"
   },
   {
    "duration": 30,
    "start_time": "2021-09-09T19:22:26.281Z"
   },
   {
    "duration": 73,
    "start_time": "2021-09-09T19:22:26.313Z"
   },
   {
    "duration": 14,
    "start_time": "2021-09-09T19:22:26.389Z"
   },
   {
    "duration": 14,
    "start_time": "2021-09-09T19:22:26.405Z"
   },
   {
    "duration": 1141,
    "start_time": "2021-09-09T19:22:26.422Z"
   },
   {
    "duration": 14,
    "start_time": "2021-09-09T19:22:27.565Z"
   },
   {
    "duration": 23,
    "start_time": "2021-09-09T19:22:27.581Z"
   },
   {
    "duration": 53,
    "start_time": "2021-09-09T19:22:27.606Z"
   },
   {
    "duration": 11,
    "start_time": "2021-09-09T19:22:27.663Z"
   },
   {
    "duration": 374,
    "start_time": "2021-09-09T19:25:30.267Z"
   },
   {
    "duration": 11,
    "start_time": "2021-09-09T19:25:40.066Z"
   },
   {
    "duration": 7,
    "start_time": "2021-09-09T19:26:36.200Z"
   },
   {
    "duration": 6,
    "start_time": "2021-09-09T19:26:44.346Z"
   },
   {
    "duration": 9,
    "start_time": "2021-09-09T19:27:55.892Z"
   },
   {
    "duration": 9,
    "start_time": "2021-09-09T19:29:13.179Z"
   },
   {
    "duration": 11,
    "start_time": "2021-09-09T19:29:31.897Z"
   },
   {
    "duration": -15,
    "start_time": "2021-09-09T19:37:10.904Z"
   },
   {
    "duration": 12327,
    "start_time": "2021-09-09T19:37:21.388Z"
   },
   {
    "duration": 4,
    "start_time": "2021-09-09T19:37:50.384Z"
   },
   {
    "duration": 65,
    "start_time": "2021-09-09T19:37:50.391Z"
   },
   {
    "duration": 13,
    "start_time": "2021-09-09T19:37:50.459Z"
   },
   {
    "duration": 18,
    "start_time": "2021-09-09T19:37:50.475Z"
   },
   {
    "duration": 64,
    "start_time": "2021-09-09T19:37:50.495Z"
   },
   {
    "duration": 6,
    "start_time": "2021-09-09T19:37:50.562Z"
   },
   {
    "duration": 4207,
    "start_time": "2021-09-09T19:37:50.571Z"
   },
   {
    "duration": 40,
    "start_time": "2021-09-09T19:37:54.782Z"
   },
   {
    "duration": 32,
    "start_time": "2021-09-09T19:37:54.826Z"
   },
   {
    "duration": 18,
    "start_time": "2021-09-09T19:37:54.860Z"
   },
   {
    "duration": 157,
    "start_time": "2021-09-09T19:37:54.881Z"
   },
   {
    "duration": 17,
    "start_time": "2021-09-09T19:37:55.040Z"
   },
   {
    "duration": 21,
    "start_time": "2021-09-09T19:37:55.060Z"
   },
   {
    "duration": 73,
    "start_time": "2021-09-09T19:37:55.083Z"
   },
   {
    "duration": 14,
    "start_time": "2021-09-09T19:37:55.158Z"
   },
   {
    "duration": 1208,
    "start_time": "2021-09-09T19:37:55.174Z"
   },
   {
    "duration": 14,
    "start_time": "2021-09-09T19:37:56.385Z"
   },
   {
    "duration": 9,
    "start_time": "2021-09-09T19:37:56.401Z"
   },
   {
    "duration": 996,
    "start_time": "2021-09-09T19:37:56.413Z"
   },
   {
    "duration": 15,
    "start_time": "2021-09-09T19:37:57.412Z"
   },
   {
    "duration": 67,
    "start_time": "2021-09-09T19:37:57.429Z"
   },
   {
    "duration": 13,
    "start_time": "2021-09-09T19:37:57.498Z"
   },
   {
    "duration": 62,
    "start_time": "2021-09-09T19:37:57.516Z"
   },
   {
    "duration": 50,
    "start_time": "2021-09-09T19:37:57.581Z"
   },
   {
    "duration": 9,
    "start_time": "2021-09-09T19:37:57.656Z"
   },
   {
    "duration": 396,
    "start_time": "2021-09-09T19:37:57.667Z"
   },
   {
    "duration": 23,
    "start_time": "2021-09-09T19:37:58.066Z"
   },
   {
    "duration": 603,
    "start_time": "2021-09-09T19:37:58.093Z"
   },
   {
    "duration": 22,
    "start_time": "2021-09-09T19:37:58.699Z"
   },
   {
    "duration": 442,
    "start_time": "2021-09-09T19:37:58.724Z"
   },
   {
    "duration": 41,
    "start_time": "2021-09-09T19:37:59.170Z"
   },
   {
    "duration": 62,
    "start_time": "2021-09-09T19:37:59.214Z"
   },
   {
    "duration": 27,
    "start_time": "2021-09-09T19:37:59.279Z"
   },
   {
    "duration": 60,
    "start_time": "2021-09-09T19:37:59.309Z"
   },
   {
    "duration": 30,
    "start_time": "2021-09-09T19:37:59.371Z"
   },
   {
    "duration": 19,
    "start_time": "2021-09-09T19:37:59.403Z"
   },
   {
    "duration": 9,
    "start_time": "2021-09-09T19:37:59.456Z"
   },
   {
    "duration": 1137,
    "start_time": "2021-09-09T19:37:59.467Z"
   },
   {
    "duration": 14,
    "start_time": "2021-09-09T19:38:00.606Z"
   },
   {
    "duration": 24,
    "start_time": "2021-09-09T19:38:00.623Z"
   },
   {
    "duration": 24,
    "start_time": "2021-09-09T19:38:00.656Z"
   },
   {
    "duration": 17,
    "start_time": "2021-09-09T19:38:00.682Z"
   },
   {
    "duration": 13639,
    "start_time": "2021-09-09T19:38:00.702Z"
   },
   {
    "duration": 362,
    "start_time": "2021-09-09T19:40:36.453Z"
   },
   {
    "duration": 382,
    "start_time": "2021-09-09T19:44:25.230Z"
   },
   {
    "duration": 5,
    "start_time": "2021-09-09T19:45:36.459Z"
   },
   {
    "duration": 62,
    "start_time": "2021-09-09T19:45:36.467Z"
   },
   {
    "duration": 31,
    "start_time": "2021-09-09T19:45:36.531Z"
   },
   {
    "duration": 15,
    "start_time": "2021-09-09T19:45:36.564Z"
   },
   {
    "duration": 20,
    "start_time": "2021-09-09T19:45:36.582Z"
   },
   {
    "duration": 8,
    "start_time": "2021-09-09T19:45:36.657Z"
   },
   {
    "duration": 4329,
    "start_time": "2021-09-09T19:45:36.668Z"
   },
   {
    "duration": 48,
    "start_time": "2021-09-09T19:45:40.999Z"
   },
   {
    "duration": 8,
    "start_time": "2021-09-09T19:45:41.057Z"
   },
   {
    "duration": 11,
    "start_time": "2021-09-09T19:45:41.069Z"
   },
   {
    "duration": 239,
    "start_time": "2021-09-09T19:45:41.082Z"
   },
   {
    "duration": 13,
    "start_time": "2021-09-09T19:45:41.324Z"
   },
   {
    "duration": 30,
    "start_time": "2021-09-09T19:45:41.340Z"
   },
   {
    "duration": 102,
    "start_time": "2021-09-09T19:45:41.373Z"
   },
   {
    "duration": 16,
    "start_time": "2021-09-09T19:45:41.478Z"
   },
   {
    "duration": 1642,
    "start_time": "2021-09-09T19:45:41.497Z"
   },
   {
    "duration": 20,
    "start_time": "2021-09-09T19:45:43.142Z"
   },
   {
    "duration": 6,
    "start_time": "2021-09-09T19:45:43.167Z"
   },
   {
    "duration": 883,
    "start_time": "2021-09-09T19:45:43.175Z"
   },
   {
    "duration": 17,
    "start_time": "2021-09-09T19:45:44.061Z"
   },
   {
    "duration": 75,
    "start_time": "2021-09-09T19:45:44.081Z"
   },
   {
    "duration": 16,
    "start_time": "2021-09-09T19:45:44.158Z"
   },
   {
    "duration": 36,
    "start_time": "2021-09-09T19:45:44.177Z"
   },
   {
    "duration": 90,
    "start_time": "2021-09-09T19:45:44.215Z"
   },
   {
    "duration": 8,
    "start_time": "2021-09-09T19:45:44.307Z"
   },
   {
    "duration": 554,
    "start_time": "2021-09-09T19:45:44.318Z"
   },
   {
    "duration": 24,
    "start_time": "2021-09-09T19:45:44.878Z"
   },
   {
    "duration": 429,
    "start_time": "2021-09-09T19:45:44.906Z"
   },
   {
    "duration": 38,
    "start_time": "2021-09-09T19:45:45.338Z"
   },
   {
    "duration": 474,
    "start_time": "2021-09-09T19:45:45.379Z"
   },
   {
    "duration": 39,
    "start_time": "2021-09-09T19:45:45.856Z"
   },
   {
    "duration": 60,
    "start_time": "2021-09-09T19:45:45.898Z"
   },
   {
    "duration": 28,
    "start_time": "2021-09-09T19:45:45.962Z"
   },
   {
    "duration": 65,
    "start_time": "2021-09-09T19:45:45.993Z"
   },
   {
    "duration": 40,
    "start_time": "2021-09-09T19:45:46.061Z"
   },
   {
    "duration": 16,
    "start_time": "2021-09-09T19:45:46.104Z"
   },
   {
    "duration": 41,
    "start_time": "2021-09-09T19:45:46.123Z"
   },
   {
    "duration": 1197,
    "start_time": "2021-09-09T19:45:46.167Z"
   },
   {
    "duration": 14,
    "start_time": "2021-09-09T19:45:47.366Z"
   },
   {
    "duration": 24,
    "start_time": "2021-09-09T19:45:47.383Z"
   },
   {
    "duration": 90,
    "start_time": "2021-09-09T19:45:47.410Z"
   },
   {
    "duration": 16,
    "start_time": "2021-09-09T19:45:47.502Z"
   },
   {
    "duration": 392,
    "start_time": "2021-09-09T19:45:47.521Z"
   },
   {
    "duration": 377,
    "start_time": "2021-09-09T19:46:41.655Z"
   },
   {
    "duration": 2011,
    "start_time": "2021-09-09T19:47:12.003Z"
   },
   {
    "duration": 58,
    "start_time": "2021-09-09T19:47:14.016Z"
   },
   {
    "duration": 17,
    "start_time": "2021-09-09T19:47:14.077Z"
   },
   {
    "duration": 13,
    "start_time": "2021-09-09T19:47:14.097Z"
   },
   {
    "duration": 53,
    "start_time": "2021-09-09T19:47:14.112Z"
   },
   {
    "duration": 6,
    "start_time": "2021-09-09T19:47:14.167Z"
   },
   {
    "duration": 4200,
    "start_time": "2021-09-09T19:47:14.175Z"
   },
   {
    "duration": 40,
    "start_time": "2021-09-09T19:47:18.379Z"
   },
   {
    "duration": 36,
    "start_time": "2021-09-09T19:47:18.422Z"
   },
   {
    "duration": 14,
    "start_time": "2021-09-09T19:47:18.460Z"
   },
   {
    "duration": 154,
    "start_time": "2021-09-09T19:47:18.477Z"
   },
   {
    "duration": 10,
    "start_time": "2021-09-09T19:47:18.633Z"
   },
   {
    "duration": 16,
    "start_time": "2021-09-09T19:47:18.655Z"
   },
   {
    "duration": 50,
    "start_time": "2021-09-09T19:47:18.673Z"
   },
   {
    "duration": 13,
    "start_time": "2021-09-09T19:47:18.756Z"
   },
   {
    "duration": 1232,
    "start_time": "2021-09-09T19:47:18.772Z"
   },
   {
    "duration": 12,
    "start_time": "2021-09-09T19:47:20.006Z"
   },
   {
    "duration": 12,
    "start_time": "2021-09-09T19:47:20.021Z"
   },
   {
    "duration": 1495,
    "start_time": "2021-09-09T19:47:20.056Z"
   },
   {
    "duration": 16,
    "start_time": "2021-09-09T19:47:21.555Z"
   },
   {
    "duration": 40,
    "start_time": "2021-09-09T19:47:21.573Z"
   },
   {
    "duration": 46,
    "start_time": "2021-09-09T19:47:21.615Z"
   },
   {
    "duration": 35,
    "start_time": "2021-09-09T19:47:21.666Z"
   },
   {
    "duration": 93,
    "start_time": "2021-09-09T19:47:21.705Z"
   },
   {
    "duration": 11,
    "start_time": "2021-09-09T19:47:21.801Z"
   },
   {
    "duration": 1060,
    "start_time": "2021-09-09T19:47:21.814Z"
   },
   {
    "duration": 82,
    "start_time": "2021-09-09T19:47:22.876Z"
   },
   {
    "duration": 590,
    "start_time": "2021-09-09T19:47:22.961Z"
   },
   {
    "duration": 17,
    "start_time": "2021-09-09T19:47:23.553Z"
   },
   {
    "duration": 350,
    "start_time": "2021-09-09T19:47:23.573Z"
   },
   {
    "duration": 37,
    "start_time": "2021-09-09T19:47:23.926Z"
   },
   {
    "duration": 20,
    "start_time": "2021-09-09T19:47:23.966Z"
   },
   {
    "duration": 24,
    "start_time": "2021-09-09T19:47:23.988Z"
   },
   {
    "duration": 56,
    "start_time": "2021-09-09T19:47:24.015Z"
   },
   {
    "duration": 25,
    "start_time": "2021-09-09T19:47:24.074Z"
   },
   {
    "duration": 19,
    "start_time": "2021-09-09T19:47:24.102Z"
   },
   {
    "duration": 40,
    "start_time": "2021-09-09T19:47:24.124Z"
   },
   {
    "duration": 850,
    "start_time": "2021-09-09T19:47:24.167Z"
   },
   {
    "duration": 17,
    "start_time": "2021-09-09T19:47:25.021Z"
   },
   {
    "duration": 24,
    "start_time": "2021-09-09T19:47:25.041Z"
   },
   {
    "duration": 25,
    "start_time": "2021-09-09T19:47:25.068Z"
   },
   {
    "duration": 13,
    "start_time": "2021-09-09T19:47:25.096Z"
   },
   {
    "duration": 870,
    "start_time": "2021-09-09T19:47:25.111Z"
   },
   {
    "duration": 374,
    "start_time": "2021-09-09T19:50:04.567Z"
   },
   {
    "duration": 366,
    "start_time": "2021-09-09T19:50:19.095Z"
   },
   {
    "duration": 354,
    "start_time": "2021-09-09T19:50:38.940Z"
   },
   {
    "duration": 7,
    "start_time": "2021-09-09T19:50:57.878Z"
   },
   {
    "duration": 363,
    "start_time": "2021-09-09T19:51:46.831Z"
   },
   {
    "duration": 4,
    "start_time": "2021-09-09T19:54:00.742Z"
   },
   {
    "duration": 4,
    "start_time": "2021-09-09T19:54:19.694Z"
   },
   {
    "duration": 5,
    "start_time": "2021-09-09T19:56:25.826Z"
   },
   {
    "duration": 65,
    "start_time": "2021-09-09T19:56:25.834Z"
   },
   {
    "duration": 13,
    "start_time": "2021-09-09T19:56:25.903Z"
   },
   {
    "duration": 50,
    "start_time": "2021-09-09T19:56:25.919Z"
   },
   {
    "duration": 18,
    "start_time": "2021-09-09T19:56:25.971Z"
   },
   {
    "duration": 6,
    "start_time": "2021-09-09T19:56:25.991Z"
   },
   {
    "duration": 4355,
    "start_time": "2021-09-09T19:56:26.001Z"
   },
   {
    "duration": 43,
    "start_time": "2021-09-09T19:56:30.359Z"
   },
   {
    "duration": 29,
    "start_time": "2021-09-09T19:56:30.405Z"
   },
   {
    "duration": 31,
    "start_time": "2021-09-09T19:56:30.436Z"
   },
   {
    "duration": 133,
    "start_time": "2021-09-09T19:56:30.470Z"
   },
   {
    "duration": 10,
    "start_time": "2021-09-09T19:56:30.606Z"
   },
   {
    "duration": 38,
    "start_time": "2021-09-09T19:56:30.618Z"
   },
   {
    "duration": 58,
    "start_time": "2021-09-09T19:56:30.659Z"
   },
   {
    "duration": 12,
    "start_time": "2021-09-09T19:56:30.719Z"
   },
   {
    "duration": 1171,
    "start_time": "2021-09-09T19:56:30.733Z"
   },
   {
    "duration": 12,
    "start_time": "2021-09-09T19:56:31.906Z"
   },
   {
    "duration": 11,
    "start_time": "2021-09-09T19:56:31.920Z"
   },
   {
    "duration": 882,
    "start_time": "2021-09-09T19:56:31.936Z"
   },
   {
    "duration": 35,
    "start_time": "2021-09-09T19:56:32.821Z"
   },
   {
    "duration": 42,
    "start_time": "2021-09-09T19:56:32.858Z"
   },
   {
    "duration": 14,
    "start_time": "2021-09-09T19:56:32.902Z"
   },
   {
    "duration": 67,
    "start_time": "2021-09-09T19:56:32.918Z"
   },
   {
    "duration": 70,
    "start_time": "2021-09-09T19:56:32.987Z"
   },
   {
    "duration": 9,
    "start_time": "2021-09-09T19:56:33.059Z"
   },
   {
    "duration": 389,
    "start_time": "2021-09-09T19:56:33.070Z"
   },
   {
    "duration": 23,
    "start_time": "2021-09-09T19:56:33.462Z"
   },
   {
    "duration": 398,
    "start_time": "2021-09-09T19:56:33.487Z"
   },
   {
    "duration": 18,
    "start_time": "2021-09-09T19:56:33.887Z"
   },
   {
    "duration": 464,
    "start_time": "2021-09-09T19:56:33.907Z"
   },
   {
    "duration": 26,
    "start_time": "2021-09-09T19:56:34.373Z"
   },
   {
    "duration": 54,
    "start_time": "2021-09-09T19:56:34.402Z"
   },
   {
    "duration": 19,
    "start_time": "2021-09-09T19:56:34.458Z"
   },
   {
    "duration": 24,
    "start_time": "2021-09-09T19:56:34.479Z"
   },
   {
    "duration": 67,
    "start_time": "2021-09-09T19:56:34.505Z"
   },
   {
    "duration": 15,
    "start_time": "2021-09-09T19:56:34.574Z"
   },
   {
    "duration": 14,
    "start_time": "2021-09-09T19:56:34.591Z"
   },
   {
    "duration": 1441,
    "start_time": "2021-09-09T19:56:34.608Z"
   },
   {
    "duration": 14,
    "start_time": "2021-09-09T19:56:36.051Z"
   },
   {
    "duration": 32,
    "start_time": "2021-09-09T19:56:36.067Z"
   },
   {
    "duration": 37,
    "start_time": "2021-09-09T19:56:36.102Z"
   },
   {
    "duration": 20,
    "start_time": "2021-09-09T19:56:36.142Z"
   },
   {
    "duration": 11,
    "start_time": "2021-09-09T19:56:36.165Z"
   },
   {
    "duration": 14,
    "start_time": "2021-09-09T19:59:06.396Z"
   },
   {
    "duration": 12,
    "start_time": "2021-09-09T20:00:38.666Z"
   },
   {
    "duration": 5,
    "start_time": "2021-09-09T20:02:03.021Z"
   },
   {
    "duration": 71,
    "start_time": "2021-09-09T20:02:03.029Z"
   },
   {
    "duration": 13,
    "start_time": "2021-09-09T20:02:03.103Z"
   },
   {
    "duration": 43,
    "start_time": "2021-09-09T20:02:03.119Z"
   },
   {
    "duration": 39,
    "start_time": "2021-09-09T20:02:03.165Z"
   },
   {
    "duration": 12,
    "start_time": "2021-09-09T20:02:03.206Z"
   },
   {
    "duration": 4123,
    "start_time": "2021-09-09T20:02:03.221Z"
   },
   {
    "duration": 50,
    "start_time": "2021-09-09T20:02:07.348Z"
   },
   {
    "duration": 8,
    "start_time": "2021-09-09T20:02:07.401Z"
   },
   {
    "duration": 52,
    "start_time": "2021-09-09T20:02:07.412Z"
   },
   {
    "duration": 157,
    "start_time": "2021-09-09T20:02:07.466Z"
   },
   {
    "duration": 10,
    "start_time": "2021-09-09T20:02:07.625Z"
   },
   {
    "duration": 28,
    "start_time": "2021-09-09T20:02:07.637Z"
   },
   {
    "duration": 49,
    "start_time": "2021-09-09T20:02:07.668Z"
   },
   {
    "duration": 39,
    "start_time": "2021-09-09T20:02:07.719Z"
   },
   {
    "duration": 1137,
    "start_time": "2021-09-09T20:02:07.760Z"
   },
   {
    "duration": 11,
    "start_time": "2021-09-09T20:02:08.900Z"
   },
   {
    "duration": 15,
    "start_time": "2021-09-09T20:02:08.914Z"
   },
   {
    "duration": 864,
    "start_time": "2021-09-09T20:02:08.931Z"
   },
   {
    "duration": 17,
    "start_time": "2021-09-09T20:02:09.797Z"
   },
   {
    "duration": 70,
    "start_time": "2021-09-09T20:02:09.816Z"
   },
   {
    "duration": 13,
    "start_time": "2021-09-09T20:02:09.888Z"
   },
   {
    "duration": 62,
    "start_time": "2021-09-09T20:02:09.906Z"
   },
   {
    "duration": 54,
    "start_time": "2021-09-09T20:02:09.971Z"
   },
   {
    "duration": 31,
    "start_time": "2021-09-09T20:02:10.027Z"
   },
   {
    "duration": 390,
    "start_time": "2021-09-09T20:02:10.061Z"
   },
   {
    "duration": 24,
    "start_time": "2021-09-09T20:02:10.456Z"
   },
   {
    "duration": 564,
    "start_time": "2021-09-09T20:02:10.482Z"
   },
   {
    "duration": 17,
    "start_time": "2021-09-09T20:02:11.057Z"
   },
   {
    "duration": 350,
    "start_time": "2021-09-09T20:02:11.077Z"
   },
   {
    "duration": 39,
    "start_time": "2021-09-09T20:02:11.429Z"
   },
   {
    "duration": 19,
    "start_time": "2021-09-09T20:02:11.471Z"
   },
   {
    "duration": 19,
    "start_time": "2021-09-09T20:02:11.493Z"
   },
   {
    "duration": 61,
    "start_time": "2021-09-09T20:02:11.515Z"
   },
   {
    "duration": 28,
    "start_time": "2021-09-09T20:02:11.579Z"
   },
   {
    "duration": 53,
    "start_time": "2021-09-09T20:02:11.609Z"
   },
   {
    "duration": 9,
    "start_time": "2021-09-09T20:02:11.665Z"
   },
   {
    "duration": 1130,
    "start_time": "2021-09-09T20:02:11.676Z"
   },
   {
    "duration": 13,
    "start_time": "2021-09-09T20:02:12.809Z"
   },
   {
    "duration": 26,
    "start_time": "2021-09-09T20:02:12.825Z"
   },
   {
    "duration": 26,
    "start_time": "2021-09-09T20:02:12.854Z"
   },
   {
    "duration": 20,
    "start_time": "2021-09-09T20:02:12.883Z"
   },
   {
    "duration": 9,
    "start_time": "2021-09-09T20:02:12.906Z"
   },
   {
    "duration": 22,
    "start_time": "2021-09-09T20:02:12.917Z"
   },
   {
    "duration": 7,
    "start_time": "2021-09-09T20:11:39.650Z"
   },
   {
    "duration": 390,
    "start_time": "2021-09-09T20:12:44.897Z"
   },
   {
    "duration": 1983,
    "start_time": "2021-09-09T20:13:57.218Z"
   },
   {
    "duration": 57,
    "start_time": "2021-09-09T20:13:59.204Z"
   },
   {
    "duration": 17,
    "start_time": "2021-09-09T20:13:59.265Z"
   },
   {
    "duration": 13,
    "start_time": "2021-09-09T20:13:59.285Z"
   },
   {
    "duration": 20,
    "start_time": "2021-09-09T20:13:59.300Z"
   },
   {
    "duration": 6,
    "start_time": "2021-09-09T20:13:59.356Z"
   },
   {
    "duration": 4107,
    "start_time": "2021-09-09T20:13:59.364Z"
   },
   {
    "duration": 38,
    "start_time": "2021-09-09T20:14:03.475Z"
   },
   {
    "duration": 41,
    "start_time": "2021-09-09T20:14:03.516Z"
   },
   {
    "duration": 11,
    "start_time": "2021-09-09T20:14:03.559Z"
   },
   {
    "duration": 151,
    "start_time": "2021-09-09T20:14:03.572Z"
   },
   {
    "duration": 9,
    "start_time": "2021-09-09T20:14:03.725Z"
   },
   {
    "duration": 30,
    "start_time": "2021-09-09T20:14:03.736Z"
   },
   {
    "duration": 50,
    "start_time": "2021-09-09T20:14:03.768Z"
   },
   {
    "duration": 37,
    "start_time": "2021-09-09T20:14:03.821Z"
   },
   {
    "duration": 1152,
    "start_time": "2021-09-09T20:14:03.860Z"
   },
   {
    "duration": 13,
    "start_time": "2021-09-09T20:14:05.014Z"
   },
   {
    "duration": 27,
    "start_time": "2021-09-09T20:14:05.029Z"
   },
   {
    "duration": 873,
    "start_time": "2021-09-09T20:14:05.059Z"
   },
   {
    "duration": 33,
    "start_time": "2021-09-09T20:14:05.935Z"
   },
   {
    "duration": 45,
    "start_time": "2021-09-09T20:14:05.970Z"
   },
   {
    "duration": 48,
    "start_time": "2021-09-09T20:14:06.019Z"
   },
   {
    "duration": 35,
    "start_time": "2021-09-09T20:14:06.075Z"
   },
   {
    "duration": 87,
    "start_time": "2021-09-09T20:14:06.114Z"
   },
   {
    "duration": 11,
    "start_time": "2021-09-09T20:14:06.204Z"
   },
   {
    "duration": 1080,
    "start_time": "2021-09-09T20:14:06.218Z"
   },
   {
    "duration": 67,
    "start_time": "2021-09-09T20:14:07.301Z"
   },
   {
    "duration": 601,
    "start_time": "2021-09-09T20:14:07.371Z"
   },
   {
    "duration": 16,
    "start_time": "2021-09-09T20:14:07.974Z"
   },
   {
    "duration": 345,
    "start_time": "2021-09-09T20:14:07.992Z"
   },
   {
    "duration": 37,
    "start_time": "2021-09-09T20:14:08.340Z"
   },
   {
    "duration": 20,
    "start_time": "2021-09-09T20:14:08.380Z"
   },
   {
    "duration": 54,
    "start_time": "2021-09-09T20:14:08.403Z"
   },
   {
    "duration": 25,
    "start_time": "2021-09-09T20:14:08.460Z"
   },
   {
    "duration": 30,
    "start_time": "2021-09-09T20:14:08.487Z"
   },
   {
    "duration": 47,
    "start_time": "2021-09-09T20:14:08.519Z"
   },
   {
    "duration": 11,
    "start_time": "2021-09-09T20:14:08.568Z"
   },
   {
    "duration": 1410,
    "start_time": "2021-09-09T20:14:08.582Z"
   },
   {
    "duration": 13,
    "start_time": "2021-09-09T20:14:09.994Z"
   },
   {
    "duration": 33,
    "start_time": "2021-09-09T20:14:10.009Z"
   },
   {
    "duration": 34,
    "start_time": "2021-09-09T20:14:10.044Z"
   },
   {
    "duration": 20,
    "start_time": "2021-09-09T20:14:10.080Z"
   },
   {
    "duration": 615,
    "start_time": "2021-09-09T20:14:10.102Z"
   },
   {
    "duration": -2670,
    "start_time": "2021-09-09T20:14:13.390Z"
   },
   {
    "duration": 399,
    "start_time": "2021-09-09T20:15:19.399Z"
   },
   {
    "duration": 362,
    "start_time": "2021-09-09T20:15:58.362Z"
   },
   {
    "duration": 12,
    "start_time": "2021-09-09T20:16:48.456Z"
   },
   {
    "duration": 22,
    "start_time": "2021-09-09T20:31:47.771Z"
   },
   {
    "duration": 6,
    "start_time": "2021-09-09T20:34:05.884Z"
   },
   {
    "duration": 753,
    "start_time": "2021-09-09T20:46:54.733Z"
   },
   {
    "duration": 29,
    "start_time": "2021-09-09T20:47:41.584Z"
   },
   {
    "duration": 35,
    "start_time": "2021-09-09T20:47:52.389Z"
   },
   {
    "duration": 4313,
    "start_time": "2021-09-09T20:48:43.749Z"
   },
   {
    "duration": 4115,
    "start_time": "2021-09-09T20:49:48.965Z"
   },
   {
    "duration": 405,
    "start_time": "2021-09-09T21:01:54.152Z"
   },
   {
    "duration": 1187,
    "start_time": "2021-09-09T21:02:18.511Z"
   },
   {
    "duration": 769,
    "start_time": "2021-09-09T21:11:09.746Z"
   },
   {
    "duration": 574,
    "start_time": "2021-09-09T21:11:33.906Z"
   },
   {
    "duration": 457,
    "start_time": "2021-09-09T21:12:26.588Z"
   },
   {
    "duration": 341,
    "start_time": "2021-09-09T21:13:11.061Z"
   },
   {
    "duration": 415,
    "start_time": "2021-09-09T21:13:25.074Z"
   },
   {
    "duration": 545,
    "start_time": "2021-09-09T21:13:44.162Z"
   },
   {
    "duration": 767,
    "start_time": "2021-09-09T21:15:39.178Z"
   },
   {
    "duration": 473,
    "start_time": "2021-09-09T21:16:20.746Z"
   },
   {
    "duration": 2352,
    "start_time": "2021-09-10T10:43:10.806Z"
   },
   {
    "duration": 59,
    "start_time": "2021-09-10T10:43:13.161Z"
   },
   {
    "duration": 17,
    "start_time": "2021-09-10T10:43:13.223Z"
   },
   {
    "duration": 18,
    "start_time": "2021-09-10T10:43:13.243Z"
   },
   {
    "duration": 25,
    "start_time": "2021-09-10T10:43:13.264Z"
   },
   {
    "duration": 6,
    "start_time": "2021-09-10T10:43:13.291Z"
   },
   {
    "duration": 4021,
    "start_time": "2021-09-10T10:43:13.316Z"
   },
   {
    "duration": 38,
    "start_time": "2021-09-10T10:43:17.341Z"
   },
   {
    "duration": 14,
    "start_time": "2021-09-10T10:43:17.383Z"
   },
   {
    "duration": 11,
    "start_time": "2021-09-10T10:43:17.416Z"
   },
   {
    "duration": 145,
    "start_time": "2021-09-10T10:43:17.430Z"
   },
   {
    "duration": 9,
    "start_time": "2021-09-10T10:43:17.578Z"
   },
   {
    "duration": 33,
    "start_time": "2021-09-10T10:43:17.590Z"
   },
   {
    "duration": 50,
    "start_time": "2021-09-10T10:43:17.626Z"
   },
   {
    "duration": 12,
    "start_time": "2021-09-10T10:43:17.678Z"
   },
   {
    "duration": 1274,
    "start_time": "2021-09-10T10:43:17.692Z"
   },
   {
    "duration": 12,
    "start_time": "2021-09-10T10:43:18.969Z"
   },
   {
    "duration": 7,
    "start_time": "2021-09-10T10:43:18.983Z"
   },
   {
    "duration": 879,
    "start_time": "2021-09-10T10:43:18.993Z"
   },
   {
    "duration": 17,
    "start_time": "2021-09-10T10:43:19.874Z"
   },
   {
    "duration": 60,
    "start_time": "2021-09-10T10:43:19.893Z"
   },
   {
    "duration": 13,
    "start_time": "2021-09-10T10:43:19.956Z"
   },
   {
    "duration": 57,
    "start_time": "2021-09-10T10:43:19.975Z"
   },
   {
    "duration": 52,
    "start_time": "2021-09-10T10:43:20.035Z"
   },
   {
    "duration": 769,
    "start_time": "2021-09-10T10:43:20.089Z"
   },
   {
    "duration": -57,
    "start_time": "2021-09-10T10:43:20.917Z"
   },
   {
    "duration": -70,
    "start_time": "2021-09-10T10:43:20.932Z"
   },
   {
    "duration": -72,
    "start_time": "2021-09-10T10:43:20.935Z"
   },
   {
    "duration": -73,
    "start_time": "2021-09-10T10:43:20.938Z"
   },
   {
    "duration": -75,
    "start_time": "2021-09-10T10:43:20.941Z"
   },
   {
    "duration": -76,
    "start_time": "2021-09-10T10:43:20.944Z"
   },
   {
    "duration": -78,
    "start_time": "2021-09-10T10:43:20.947Z"
   },
   {
    "duration": -79,
    "start_time": "2021-09-10T10:43:20.949Z"
   },
   {
    "duration": -80,
    "start_time": "2021-09-10T10:43:20.952Z"
   },
   {
    "duration": -90,
    "start_time": "2021-09-10T10:43:20.963Z"
   },
   {
    "duration": -91,
    "start_time": "2021-09-10T10:43:20.966Z"
   },
   {
    "duration": -94,
    "start_time": "2021-09-10T10:43:20.970Z"
   },
   {
    "duration": -96,
    "start_time": "2021-09-10T10:43:20.974Z"
   },
   {
    "duration": -98,
    "start_time": "2021-09-10T10:43:20.977Z"
   },
   {
    "duration": -100,
    "start_time": "2021-09-10T10:43:20.980Z"
   },
   {
    "duration": -102,
    "start_time": "2021-09-10T10:43:20.983Z"
   },
   {
    "duration": -111,
    "start_time": "2021-09-10T10:43:20.994Z"
   },
   {
    "duration": -116,
    "start_time": "2021-09-10T10:43:21.000Z"
   },
   {
    "duration": -131,
    "start_time": "2021-09-10T10:43:21.016Z"
   },
   {
    "duration": -133,
    "start_time": "2021-09-10T10:43:21.019Z"
   },
   {
    "duration": -134,
    "start_time": "2021-09-10T10:43:21.022Z"
   },
   {
    "duration": 30,
    "start_time": "2021-09-10T10:44:09.179Z"
   },
   {
    "duration": 403,
    "start_time": "2021-09-10T11:02:16.118Z"
   },
   {
    "duration": 419,
    "start_time": "2021-09-10T11:02:56.766Z"
   },
   {
    "duration": 4,
    "start_time": "2021-09-10T11:03:01.856Z"
   },
   {
    "duration": 98,
    "start_time": "2021-09-10T11:03:01.863Z"
   },
   {
    "duration": 13,
    "start_time": "2021-09-10T11:03:01.964Z"
   },
   {
    "duration": 44,
    "start_time": "2021-09-10T11:03:01.980Z"
   },
   {
    "duration": 24,
    "start_time": "2021-09-10T11:03:02.026Z"
   },
   {
    "duration": 22,
    "start_time": "2021-09-10T11:03:02.052Z"
   },
   {
    "duration": 4262,
    "start_time": "2021-09-10T11:03:02.078Z"
   },
   {
    "duration": 41,
    "start_time": "2021-09-10T11:03:06.343Z"
   },
   {
    "duration": 8,
    "start_time": "2021-09-10T11:03:06.386Z"
   },
   {
    "duration": 13,
    "start_time": "2021-09-10T11:03:06.417Z"
   },
   {
    "duration": 155,
    "start_time": "2021-09-10T11:03:06.432Z"
   },
   {
    "duration": 10,
    "start_time": "2021-09-10T11:03:06.589Z"
   },
   {
    "duration": 27,
    "start_time": "2021-09-10T11:03:06.601Z"
   },
   {
    "duration": 52,
    "start_time": "2021-09-10T11:03:06.630Z"
   },
   {
    "duration": 38,
    "start_time": "2021-09-10T11:03:06.684Z"
   },
   {
    "duration": 1137,
    "start_time": "2021-09-10T11:03:06.724Z"
   },
   {
    "duration": 12,
    "start_time": "2021-09-10T11:03:07.863Z"
   },
   {
    "duration": 8,
    "start_time": "2021-09-10T11:03:07.877Z"
   },
   {
    "duration": 963,
    "start_time": "2021-09-10T11:03:07.890Z"
   },
   {
    "duration": 15,
    "start_time": "2021-09-10T11:03:08.856Z"
   },
   {
    "duration": 63,
    "start_time": "2021-09-10T11:03:08.873Z"
   },
   {
    "duration": 14,
    "start_time": "2021-09-10T11:03:08.938Z"
   },
   {
    "duration": 35,
    "start_time": "2021-09-10T11:03:08.954Z"
   },
   {
    "duration": 55,
    "start_time": "2021-09-10T11:03:09.016Z"
   },
   {
    "duration": 5,
    "start_time": "2021-09-10T11:03:09.074Z"
   },
   {
    "duration": 425,
    "start_time": "2021-09-10T11:03:09.081Z"
   },
   {
    "duration": -98,
    "start_time": "2021-09-10T11:03:09.606Z"
   },
   {
    "duration": -101,
    "start_time": "2021-09-10T11:03:09.611Z"
   },
   {
    "duration": -103,
    "start_time": "2021-09-10T11:03:09.614Z"
   },
   {
    "duration": -104,
    "start_time": "2021-09-10T11:03:09.616Z"
   },
   {
    "duration": -107,
    "start_time": "2021-09-10T11:03:09.620Z"
   },
   {
    "duration": -109,
    "start_time": "2021-09-10T11:03:09.624Z"
   },
   {
    "duration": -119,
    "start_time": "2021-09-10T11:03:09.635Z"
   },
   {
    "duration": -123,
    "start_time": "2021-09-10T11:03:09.640Z"
   },
   {
    "duration": -126,
    "start_time": "2021-09-10T11:03:09.644Z"
   },
   {
    "duration": -127,
    "start_time": "2021-09-10T11:03:09.647Z"
   },
   {
    "duration": -129,
    "start_time": "2021-09-10T11:03:09.650Z"
   },
   {
    "duration": -130,
    "start_time": "2021-09-10T11:03:09.653Z"
   },
   {
    "duration": -132,
    "start_time": "2021-09-10T11:03:09.656Z"
   },
   {
    "duration": -134,
    "start_time": "2021-09-10T11:03:09.660Z"
   },
   {
    "duration": -136,
    "start_time": "2021-09-10T11:03:09.663Z"
   },
   {
    "duration": -142,
    "start_time": "2021-09-10T11:03:09.671Z"
   },
   {
    "duration": -145,
    "start_time": "2021-09-10T11:03:09.675Z"
   },
   {
    "duration": -147,
    "start_time": "2021-09-10T11:03:09.679Z"
   },
   {
    "duration": -149,
    "start_time": "2021-09-10T11:03:09.682Z"
   },
   {
    "duration": -150,
    "start_time": "2021-09-10T11:03:09.685Z"
   },
   {
    "duration": -170,
    "start_time": "2021-09-10T11:03:09.707Z"
   },
   {
    "duration": 8,
    "start_time": "2021-09-10T11:03:45.075Z"
   },
   {
    "duration": 30,
    "start_time": "2021-09-10T11:05:47.160Z"
   },
   {
    "duration": 29,
    "start_time": "2021-09-10T11:14:26.503Z"
   },
   {
    "duration": 5,
    "start_time": "2021-09-10T11:28:37.036Z"
   },
   {
    "duration": 65,
    "start_time": "2021-09-10T11:28:37.044Z"
   },
   {
    "duration": 13,
    "start_time": "2021-09-10T11:28:37.112Z"
   },
   {
    "duration": 17,
    "start_time": "2021-09-10T11:28:37.128Z"
   },
   {
    "duration": 18,
    "start_time": "2021-09-10T11:28:37.148Z"
   },
   {
    "duration": 6,
    "start_time": "2021-09-10T11:28:37.169Z"
   },
   {
    "duration": 4248,
    "start_time": "2021-09-10T11:28:37.178Z"
   },
   {
    "duration": 42,
    "start_time": "2021-09-10T11:28:41.430Z"
   },
   {
    "duration": 10,
    "start_time": "2021-09-10T11:28:41.475Z"
   },
   {
    "duration": 39,
    "start_time": "2021-09-10T11:28:41.487Z"
   },
   {
    "duration": 152,
    "start_time": "2021-09-10T11:28:41.528Z"
   },
   {
    "duration": 10,
    "start_time": "2021-09-10T11:28:41.682Z"
   },
   {
    "duration": 30,
    "start_time": "2021-09-10T11:28:41.694Z"
   },
   {
    "duration": 52,
    "start_time": "2021-09-10T11:28:41.726Z"
   },
   {
    "duration": 36,
    "start_time": "2021-09-10T11:28:41.780Z"
   },
   {
    "duration": 1254,
    "start_time": "2021-09-10T11:28:41.819Z"
   },
   {
    "duration": 12,
    "start_time": "2021-09-10T11:28:43.076Z"
   },
   {
    "duration": 27,
    "start_time": "2021-09-10T11:28:43.090Z"
   },
   {
    "duration": 833,
    "start_time": "2021-09-10T11:28:43.122Z"
   },
   {
    "duration": 15,
    "start_time": "2021-09-10T11:28:43.958Z"
   },
   {
    "duration": 61,
    "start_time": "2021-09-10T11:28:43.975Z"
   },
   {
    "duration": 14,
    "start_time": "2021-09-10T11:28:44.038Z"
   },
   {
    "duration": 36,
    "start_time": "2021-09-10T11:28:44.054Z"
   },
   {
    "duration": 53,
    "start_time": "2021-09-10T11:28:44.116Z"
   },
   {
    "duration": 51,
    "start_time": "2021-09-10T11:28:44.171Z"
   },
   {
    "duration": 8,
    "start_time": "2021-09-10T11:28:44.224Z"
   },
   {
    "duration": 30,
    "start_time": "2021-09-10T11:28:44.234Z"
   },
   {
    "duration": 13,
    "start_time": "2021-09-10T11:28:44.266Z"
   },
   {
    "duration": 988,
    "start_time": "2021-09-10T11:28:44.281Z"
   },
   {
    "duration": 55,
    "start_time": "2021-09-10T11:28:45.272Z"
   },
   {
    "duration": 500,
    "start_time": "2021-09-10T11:28:45.330Z"
   },
   {
    "duration": 17,
    "start_time": "2021-09-10T11:28:45.832Z"
   },
   {
    "duration": 369,
    "start_time": "2021-09-10T11:28:45.851Z"
   },
   {
    "duration": 25,
    "start_time": "2021-09-10T11:28:46.222Z"
   },
   {
    "duration": 20,
    "start_time": "2021-09-10T11:28:46.249Z"
   },
   {
    "duration": 51,
    "start_time": "2021-09-10T11:28:46.271Z"
   },
   {
    "duration": 25,
    "start_time": "2021-09-10T11:28:46.324Z"
   },
   {
    "duration": 28,
    "start_time": "2021-09-10T11:28:46.351Z"
   },
   {
    "duration": 43,
    "start_time": "2021-09-10T11:28:46.382Z"
   },
   {
    "duration": 19,
    "start_time": "2021-09-10T11:28:46.428Z"
   },
   {
    "duration": 1219,
    "start_time": "2021-09-10T11:28:46.449Z"
   },
   {
    "duration": 13,
    "start_time": "2021-09-10T11:28:47.670Z"
   },
   {
    "duration": 29,
    "start_time": "2021-09-10T11:28:47.686Z"
   },
   {
    "duration": 33,
    "start_time": "2021-09-10T11:28:47.717Z"
   },
   {
    "duration": 25,
    "start_time": "2021-09-10T11:28:47.752Z"
   },
   {
    "duration": 29,
    "start_time": "2021-09-10T11:28:47.779Z"
   },
   {
    "duration": 8,
    "start_time": "2021-09-10T11:28:47.810Z"
   },
   {
    "duration": 503,
    "start_time": "2021-09-10T11:28:47.820Z"
   },
   {
    "duration": 31,
    "start_time": "2021-09-10T11:36:40.492Z"
   },
   {
    "duration": 22,
    "start_time": "2021-09-10T11:38:55.603Z"
   },
   {
    "duration": 7,
    "start_time": "2021-09-10T14:00:37.752Z"
   },
   {
    "duration": 71,
    "start_time": "2021-09-10T14:00:37.762Z"
   },
   {
    "duration": 13,
    "start_time": "2021-09-10T14:00:37.836Z"
   },
   {
    "duration": 14,
    "start_time": "2021-09-10T14:00:37.852Z"
   },
   {
    "duration": 16,
    "start_time": "2021-09-10T14:00:37.868Z"
   },
   {
    "duration": 10,
    "start_time": "2021-09-10T14:00:37.918Z"
   },
   {
    "duration": 4441,
    "start_time": "2021-09-10T14:00:37.932Z"
   },
   {
    "duration": 56,
    "start_time": "2021-09-10T14:00:42.375Z"
   },
   {
    "duration": 9,
    "start_time": "2021-09-10T14:00:42.435Z"
   },
   {
    "duration": 11,
    "start_time": "2021-09-10T14:00:42.447Z"
   },
   {
    "duration": 157,
    "start_time": "2021-09-10T14:00:42.461Z"
   },
   {
    "duration": 13,
    "start_time": "2021-09-10T14:00:42.620Z"
   },
   {
    "duration": 13,
    "start_time": "2021-09-10T14:00:42.636Z"
   },
   {
    "duration": 98,
    "start_time": "2021-09-10T14:00:42.651Z"
   },
   {
    "duration": 15,
    "start_time": "2021-09-10T14:00:42.752Z"
   },
   {
    "duration": 1186,
    "start_time": "2021-09-10T14:00:42.769Z"
   },
   {
    "duration": 12,
    "start_time": "2021-09-10T14:00:43.957Z"
   },
   {
    "duration": 5,
    "start_time": "2021-09-10T14:00:43.971Z"
   },
   {
    "duration": 951,
    "start_time": "2021-09-10T14:00:43.979Z"
   },
   {
    "duration": 17,
    "start_time": "2021-09-10T14:00:44.932Z"
   },
   {
    "duration": 72,
    "start_time": "2021-09-10T14:00:44.951Z"
   },
   {
    "duration": 15,
    "start_time": "2021-09-10T14:00:45.026Z"
   },
   {
    "duration": 37,
    "start_time": "2021-09-10T14:00:45.043Z"
   },
   {
    "duration": 84,
    "start_time": "2021-09-10T14:00:45.082Z"
   },
   {
    "duration": 30,
    "start_time": "2021-09-10T14:00:45.169Z"
   },
   {
    "duration": 17,
    "start_time": "2021-09-10T14:00:45.216Z"
   },
   {
    "duration": 29,
    "start_time": "2021-09-10T14:00:45.239Z"
   },
   {
    "duration": 9,
    "start_time": "2021-09-10T14:00:45.272Z"
   },
   {
    "duration": 541,
    "start_time": "2021-09-10T14:00:45.284Z"
   },
   {
    "duration": 24,
    "start_time": "2021-09-10T14:00:45.828Z"
   },
   {
    "duration": 424,
    "start_time": "2021-09-10T14:00:45.855Z"
   },
   {
    "duration": 17,
    "start_time": "2021-09-10T14:00:46.281Z"
   },
   {
    "duration": 345,
    "start_time": "2021-09-10T14:00:46.300Z"
   },
   {
    "duration": 29,
    "start_time": "2021-09-10T14:00:46.647Z"
   },
   {
    "duration": 12,
    "start_time": "2021-09-10T14:00:46.678Z"
   },
   {
    "duration": 27,
    "start_time": "2021-09-10T14:00:46.718Z"
   },
   {
    "duration": 20,
    "start_time": "2021-09-10T14:00:46.747Z"
   },
   {
    "duration": 57,
    "start_time": "2021-09-10T14:00:46.769Z"
   },
   {
    "duration": 28,
    "start_time": "2021-09-10T14:00:46.829Z"
   },
   {
    "duration": 15,
    "start_time": "2021-09-10T14:00:46.860Z"
   },
   {
    "duration": 6,
    "start_time": "2021-09-10T14:00:46.877Z"
   },
   {
    "duration": 1473,
    "start_time": "2021-09-10T14:00:46.885Z"
   },
   {
    "duration": 15,
    "start_time": "2021-09-10T14:00:48.360Z"
   },
   {
    "duration": 23,
    "start_time": "2021-09-10T14:00:48.377Z"
   },
   {
    "duration": 44,
    "start_time": "2021-09-10T14:00:48.402Z"
   },
   {
    "duration": 19,
    "start_time": "2021-09-10T14:00:48.448Z"
   },
   {
    "duration": 15,
    "start_time": "2021-09-10T14:00:48.469Z"
   },
   {
    "duration": 15,
    "start_time": "2021-09-10T14:00:48.486Z"
   },
   {
    "duration": 1003,
    "start_time": "2021-09-10T14:00:48.503Z"
   },
   {
    "duration": 1195,
    "start_time": "2021-09-10T14:01:23.751Z"
   },
   {
    "duration": 147,
    "start_time": "2021-09-10T14:02:36.430Z"
   },
   {
    "duration": 514,
    "start_time": "2021-09-10T14:03:21.765Z"
   },
   {
    "duration": 128,
    "start_time": "2021-09-10T14:06:11.504Z"
   },
   {
    "duration": 592,
    "start_time": "2021-09-10T14:06:19.510Z"
   },
   {
    "duration": 430,
    "start_time": "2021-09-10T14:50:32.548Z"
   },
   {
    "duration": 456,
    "start_time": "2021-09-10T15:02:06.091Z"
   },
   {
    "duration": 425,
    "start_time": "2021-09-10T15:03:10.892Z"
   },
   {
    "duration": 4,
    "start_time": "2021-09-10T15:03:32.525Z"
   },
   {
    "duration": 78,
    "start_time": "2021-09-10T15:03:32.532Z"
   },
   {
    "duration": 13,
    "start_time": "2021-09-10T15:03:32.617Z"
   },
   {
    "duration": 23,
    "start_time": "2021-09-10T15:03:32.633Z"
   },
   {
    "duration": 31,
    "start_time": "2021-09-10T15:03:32.659Z"
   },
   {
    "duration": 38,
    "start_time": "2021-09-10T15:03:32.693Z"
   },
   {
    "duration": 4302,
    "start_time": "2021-09-10T15:03:32.734Z"
   },
   {
    "duration": 40,
    "start_time": "2021-09-10T15:03:37.038Z"
   },
   {
    "duration": 33,
    "start_time": "2021-09-10T15:03:37.083Z"
   },
   {
    "duration": 11,
    "start_time": "2021-09-10T15:03:37.119Z"
   },
   {
    "duration": 154,
    "start_time": "2021-09-10T15:03:37.132Z"
   },
   {
    "duration": 10,
    "start_time": "2021-09-10T15:03:37.289Z"
   },
   {
    "duration": 14,
    "start_time": "2021-09-10T15:03:37.317Z"
   },
   {
    "duration": 87,
    "start_time": "2021-09-10T15:03:37.334Z"
   },
   {
    "duration": 13,
    "start_time": "2021-09-10T15:03:37.423Z"
   },
   {
    "duration": 1198,
    "start_time": "2021-09-10T15:03:37.439Z"
   },
   {
    "duration": 12,
    "start_time": "2021-09-10T15:03:38.640Z"
   },
   {
    "duration": 8,
    "start_time": "2021-09-10T15:03:38.654Z"
   },
   {
    "duration": 908,
    "start_time": "2021-09-10T15:03:38.664Z"
   },
   {
    "duration": 21,
    "start_time": "2021-09-10T15:03:39.575Z"
   },
   {
    "duration": 60,
    "start_time": "2021-09-10T15:03:39.616Z"
   },
   {
    "duration": 48,
    "start_time": "2021-09-10T15:03:39.680Z"
   },
   {
    "duration": 41,
    "start_time": "2021-09-10T15:03:39.731Z"
   },
   {
    "duration": 76,
    "start_time": "2021-09-10T15:03:39.774Z"
   },
   {
    "duration": 28,
    "start_time": "2021-09-10T15:03:39.852Z"
   },
   {
    "duration": 57,
    "start_time": "2021-09-10T15:03:39.882Z"
   },
   {
    "duration": 36,
    "start_time": "2021-09-10T15:03:39.944Z"
   },
   {
    "duration": 10,
    "start_time": "2021-09-10T15:03:39.983Z"
   },
   {
    "duration": 435,
    "start_time": "2021-09-10T15:03:39.996Z"
   },
   {
    "duration": 24,
    "start_time": "2021-09-10T15:03:40.434Z"
   },
   {
    "duration": 564,
    "start_time": "2021-09-10T15:03:40.461Z"
   },
   {
    "duration": 17,
    "start_time": "2021-09-10T15:03:41.027Z"
   },
   {
    "duration": 457,
    "start_time": "2021-09-10T15:03:41.046Z"
   },
   {
    "duration": 35,
    "start_time": "2021-09-10T15:03:41.505Z"
   },
   {
    "duration": 13,
    "start_time": "2021-09-10T15:03:41.543Z"
   },
   {
    "duration": 60,
    "start_time": "2021-09-10T15:03:41.558Z"
   },
   {
    "duration": 20,
    "start_time": "2021-09-10T15:03:41.621Z"
   },
   {
    "duration": 26,
    "start_time": "2021-09-10T15:03:41.644Z"
   },
   {
    "duration": 66,
    "start_time": "2021-09-10T15:03:41.673Z"
   },
   {
    "duration": 17,
    "start_time": "2021-09-10T15:03:41.742Z"
   },
   {
    "duration": 7,
    "start_time": "2021-09-10T15:03:41.761Z"
   },
   {
    "duration": 1371,
    "start_time": "2021-09-10T15:03:41.770Z"
   },
   {
    "duration": 14,
    "start_time": "2021-09-10T15:03:43.143Z"
   },
   {
    "duration": 23,
    "start_time": "2021-09-10T15:03:43.160Z"
   },
   {
    "duration": 49,
    "start_time": "2021-09-10T15:03:43.185Z"
   },
   {
    "duration": 138,
    "start_time": "2021-09-10T15:03:43.237Z"
   },
   {
    "duration": -227,
    "start_time": "2021-09-10T15:03:43.604Z"
   },
   {
    "duration": -231,
    "start_time": "2021-09-10T15:03:43.610Z"
   },
   {
    "duration": -233,
    "start_time": "2021-09-10T15:03:43.613Z"
   },
   {
    "duration": 403,
    "start_time": "2021-09-10T15:06:57.068Z"
   },
   {
    "duration": 389,
    "start_time": "2021-09-10T15:07:25.227Z"
   },
   {
    "duration": 455,
    "start_time": "2021-09-10T15:08:52.306Z"
   },
   {
    "duration": 411,
    "start_time": "2021-09-10T15:09:34.556Z"
   },
   {
    "duration": 419,
    "start_time": "2021-09-10T15:10:40.965Z"
   },
   {
    "duration": 396,
    "start_time": "2021-09-10T15:12:35.812Z"
   },
   {
    "duration": 4,
    "start_time": "2021-09-10T15:37:25.686Z"
   },
   {
    "duration": 60,
    "start_time": "2021-09-10T15:37:25.693Z"
   },
   {
    "duration": 13,
    "start_time": "2021-09-10T15:37:25.756Z"
   },
   {
    "duration": 51,
    "start_time": "2021-09-10T15:37:25.772Z"
   },
   {
    "duration": 16,
    "start_time": "2021-09-10T15:37:25.826Z"
   },
   {
    "duration": 6,
    "start_time": "2021-09-10T15:37:25.845Z"
   },
   {
    "duration": 4680,
    "start_time": "2021-09-10T15:37:25.853Z"
   },
   {
    "duration": 43,
    "start_time": "2021-09-10T15:37:30.537Z"
   },
   {
    "duration": 35,
    "start_time": "2021-09-10T15:37:30.583Z"
   },
   {
    "duration": 13,
    "start_time": "2021-09-10T15:37:30.621Z"
   },
   {
    "duration": 172,
    "start_time": "2021-09-10T15:37:30.636Z"
   },
   {
    "duration": 11,
    "start_time": "2021-09-10T15:37:30.811Z"
   },
   {
    "duration": 30,
    "start_time": "2021-09-10T15:37:30.824Z"
   },
   {
    "duration": 75,
    "start_time": "2021-09-10T15:37:30.856Z"
   },
   {
    "duration": 13,
    "start_time": "2021-09-10T15:37:30.934Z"
   },
   {
    "duration": 1195,
    "start_time": "2021-09-10T15:37:30.949Z"
   },
   {
    "duration": 12,
    "start_time": "2021-09-10T15:37:32.146Z"
   },
   {
    "duration": 28,
    "start_time": "2021-09-10T15:37:32.160Z"
   },
   {
    "duration": 853,
    "start_time": "2021-09-10T15:37:32.190Z"
   },
   {
    "duration": 15,
    "start_time": "2021-09-10T15:37:33.046Z"
   },
   {
    "duration": 71,
    "start_time": "2021-09-10T15:37:33.063Z"
   },
   {
    "duration": 14,
    "start_time": "2021-09-10T15:37:33.136Z"
   },
   {
    "duration": 34,
    "start_time": "2021-09-10T15:37:33.155Z"
   },
   {
    "duration": 54,
    "start_time": "2021-09-10T15:37:33.218Z"
   },
   {
    "duration": 56,
    "start_time": "2021-09-10T15:37:33.274Z"
   },
   {
    "duration": 12,
    "start_time": "2021-09-10T15:37:33.332Z"
   },
   {
    "duration": 31,
    "start_time": "2021-09-10T15:37:33.346Z"
   },
   {
    "duration": 41,
    "start_time": "2021-09-10T15:37:33.380Z"
   },
   {
    "duration": 403,
    "start_time": "2021-09-10T15:37:33.424Z"
   },
   {
    "duration": 24,
    "start_time": "2021-09-10T15:37:33.830Z"
   },
   {
    "duration": 420,
    "start_time": "2021-09-10T15:37:33.856Z"
   },
   {
    "duration": 16,
    "start_time": "2021-09-10T15:37:34.279Z"
   },
   {
    "duration": 405,
    "start_time": "2021-09-10T15:37:34.297Z"
   },
   {
    "duration": 42,
    "start_time": "2021-09-10T15:37:34.716Z"
   },
   {
    "duration": 13,
    "start_time": "2021-09-10T15:37:34.761Z"
   },
   {
    "duration": 55,
    "start_time": "2021-09-10T15:37:34.777Z"
   },
   {
    "duration": 24,
    "start_time": "2021-09-10T15:37:34.834Z"
   },
   {
    "duration": 56,
    "start_time": "2021-09-10T15:37:34.861Z"
   },
   {
    "duration": 31,
    "start_time": "2021-09-10T15:37:34.920Z"
   },
   {
    "duration": 15,
    "start_time": "2021-09-10T15:37:34.953Z"
   },
   {
    "duration": 48,
    "start_time": "2021-09-10T15:37:34.970Z"
   },
   {
    "duration": 1305,
    "start_time": "2021-09-10T15:37:35.021Z"
   },
   {
    "duration": 15,
    "start_time": "2021-09-10T15:37:36.328Z"
   },
   {
    "duration": 22,
    "start_time": "2021-09-10T15:37:36.345Z"
   },
   {
    "duration": 56,
    "start_time": "2021-09-10T15:37:36.369Z"
   },
   {
    "duration": 468,
    "start_time": "2021-09-10T15:37:36.427Z"
   },
   {
    "duration": -23,
    "start_time": "2021-09-10T15:37:36.920Z"
   },
   {
    "duration": -27,
    "start_time": "2021-09-10T15:37:36.926Z"
   },
   {
    "duration": -30,
    "start_time": "2021-09-10T15:37:36.930Z"
   },
   {
    "duration": 11,
    "start_time": "2021-09-10T15:38:53.629Z"
   },
   {
    "duration": 12,
    "start_time": "2021-09-10T15:39:56.384Z"
   },
   {
    "duration": 12,
    "start_time": "2021-09-10T15:40:17.880Z"
   },
   {
    "duration": 13,
    "start_time": "2021-09-10T15:40:48.194Z"
   },
   {
    "duration": 12,
    "start_time": "2021-09-10T15:41:38.905Z"
   },
   {
    "duration": 13,
    "start_time": "2021-09-10T15:42:14.305Z"
   },
   {
    "duration": 12,
    "start_time": "2021-09-10T15:42:35.992Z"
   },
   {
    "duration": 754,
    "start_time": "2021-09-10T15:42:44.777Z"
   },
   {
    "duration": 46,
    "start_time": "2021-09-10T15:46:29.623Z"
   },
   {
    "duration": 398,
    "start_time": "2021-09-10T15:51:30.461Z"
   },
   {
    "duration": 9,
    "start_time": "2021-09-10T15:51:36.329Z"
   },
   {
    "duration": 376,
    "start_time": "2021-09-10T15:51:43.155Z"
   },
   {
    "duration": 23,
    "start_time": "2021-09-10T15:54:30.824Z"
   },
   {
    "duration": 380,
    "start_time": "2021-09-10T15:56:01.875Z"
   },
   {
    "duration": 17,
    "start_time": "2021-09-10T15:59:03.716Z"
   },
   {
    "duration": 317,
    "start_time": "2021-09-10T15:59:53.970Z"
   },
   {
    "duration": 505,
    "start_time": "2021-09-10T16:00:25.114Z"
   },
   {
    "duration": 489,
    "start_time": "2021-09-10T16:01:11.889Z"
   },
   {
    "duration": 15,
    "start_time": "2021-09-10T16:02:56.595Z"
   },
   {
    "duration": 318,
    "start_time": "2021-09-10T16:03:01.010Z"
   },
   {
    "duration": 47,
    "start_time": "2021-09-10T16:10:26.494Z"
   },
   {
    "duration": 35,
    "start_time": "2021-09-10T16:17:22.750Z"
   },
   {
    "duration": 13,
    "start_time": "2021-09-10T18:59:10.229Z"
   },
   {
    "duration": 5,
    "start_time": "2021-09-10T18:59:20.957Z"
   },
   {
    "duration": 65,
    "start_time": "2021-09-10T18:59:20.965Z"
   },
   {
    "duration": 14,
    "start_time": "2021-09-10T18:59:21.105Z"
   },
   {
    "duration": 13,
    "start_time": "2021-09-10T18:59:21.121Z"
   },
   {
    "duration": 24,
    "start_time": "2021-09-10T18:59:21.137Z"
   },
   {
    "duration": 66,
    "start_time": "2021-09-10T18:59:21.165Z"
   },
   {
    "duration": 9,
    "start_time": "2021-09-10T18:59:21.234Z"
   },
   {
    "duration": 4432,
    "start_time": "2021-09-10T18:59:21.246Z"
   },
   {
    "duration": 59,
    "start_time": "2021-09-10T18:59:25.683Z"
   },
   {
    "duration": 13,
    "start_time": "2021-09-10T18:59:25.745Z"
   },
   {
    "duration": 12,
    "start_time": "2021-09-10T18:59:25.761Z"
   },
   {
    "duration": 175,
    "start_time": "2021-09-10T18:59:25.775Z"
   },
   {
    "duration": 9,
    "start_time": "2021-09-10T18:59:25.953Z"
   },
   {
    "duration": 24,
    "start_time": "2021-09-10T18:59:25.964Z"
   },
   {
    "duration": 64,
    "start_time": "2021-09-10T18:59:25.990Z"
   },
   {
    "duration": 11,
    "start_time": "2021-09-10T18:59:26.056Z"
   },
   {
    "duration": 1177,
    "start_time": "2021-09-10T18:59:26.070Z"
   },
   {
    "duration": 11,
    "start_time": "2021-09-10T18:59:27.250Z"
   },
   {
    "duration": 16,
    "start_time": "2021-09-10T18:59:27.263Z"
   },
   {
    "duration": 882,
    "start_time": "2021-09-10T18:59:27.284Z"
   },
   {
    "duration": 19,
    "start_time": "2021-09-10T18:59:28.169Z"
   },
   {
    "duration": 68,
    "start_time": "2021-09-10T18:59:28.190Z"
   },
   {
    "duration": 15,
    "start_time": "2021-09-10T18:59:28.260Z"
   },
   {
    "duration": 68,
    "start_time": "2021-09-10T18:59:28.277Z"
   },
   {
    "duration": 82,
    "start_time": "2021-09-10T18:59:28.347Z"
   },
   {
    "duration": 30,
    "start_time": "2021-09-10T18:59:28.431Z"
   },
   {
    "duration": 11,
    "start_time": "2021-09-10T18:59:28.463Z"
   },
   {
    "duration": 67,
    "start_time": "2021-09-10T18:59:28.476Z"
   },
   {
    "duration": 11,
    "start_time": "2021-09-10T18:59:28.545Z"
   },
   {
    "duration": 397,
    "start_time": "2021-09-10T18:59:28.559Z"
   },
   {
    "duration": 24,
    "start_time": "2021-09-10T18:59:28.958Z"
   },
   {
    "duration": 415,
    "start_time": "2021-09-10T18:59:28.985Z"
   },
   {
    "duration": 22,
    "start_time": "2021-09-10T18:59:29.402Z"
   },
   {
    "duration": 358,
    "start_time": "2021-09-10T18:59:29.426Z"
   },
   {
    "duration": 51,
    "start_time": "2021-09-10T18:59:29.786Z"
   },
   {
    "duration": 13,
    "start_time": "2021-09-10T18:59:29.839Z"
   },
   {
    "duration": 21,
    "start_time": "2021-09-10T18:59:29.854Z"
   },
   {
    "duration": 53,
    "start_time": "2021-09-10T18:59:29.877Z"
   },
   {
    "duration": 25,
    "start_time": "2021-09-10T18:59:29.933Z"
   },
   {
    "duration": 238,
    "start_time": "2021-09-10T18:59:29.960Z"
   },
   {
    "duration": 26,
    "start_time": "2021-09-10T18:59:30.200Z"
   },
   {
    "duration": 15,
    "start_time": "2021-09-10T18:59:30.228Z"
   },
   {
    "duration": 1255,
    "start_time": "2021-09-10T18:59:30.246Z"
   },
   {
    "duration": 14,
    "start_time": "2021-09-10T18:59:31.504Z"
   },
   {
    "duration": 28,
    "start_time": "2021-09-10T18:59:31.520Z"
   },
   {
    "duration": 29,
    "start_time": "2021-09-10T18:59:31.550Z"
   },
   {
    "duration": 42,
    "start_time": "2021-09-10T18:59:31.582Z"
   },
   {
    "duration": 14,
    "start_time": "2021-09-10T18:59:31.627Z"
   },
   {
    "duration": 10,
    "start_time": "2021-09-10T18:59:31.645Z"
   },
   {
    "duration": 619,
    "start_time": "2021-09-10T18:59:31.658Z"
   },
   {
    "duration": 49,
    "start_time": "2021-09-10T18:59:32.281Z"
   },
   {
    "duration": 16,
    "start_time": "2021-09-10T18:59:32.333Z"
   },
   {
    "duration": 396,
    "start_time": "2021-09-10T18:59:32.355Z"
   },
   {
    "duration": 23,
    "start_time": "2021-09-10T18:59:32.754Z"
   },
   {
    "duration": 588,
    "start_time": "2021-09-10T18:59:32.780Z"
   },
   {
    "duration": 19,
    "start_time": "2021-09-10T18:59:33.371Z"
   },
   {
    "duration": 338,
    "start_time": "2021-09-10T18:59:33.392Z"
   },
   {
    "duration": 10,
    "start_time": "2021-09-10T19:05:44.727Z"
   },
   {
    "duration": 122,
    "start_time": "2021-09-10T19:06:23.419Z"
   },
   {
    "duration": 10,
    "start_time": "2021-09-10T19:06:41.578Z"
   },
   {
    "duration": 398,
    "start_time": "2021-09-10T19:09:24.971Z"
   },
   {
    "duration": 10,
    "start_time": "2021-09-10T19:10:35.716Z"
   },
   {
    "duration": 17,
    "start_time": "2021-09-10T19:11:32.315Z"
   },
   {
    "duration": 4,
    "start_time": "2021-09-10T19:11:44.134Z"
   },
   {
    "duration": 67,
    "start_time": "2021-09-10T19:11:44.141Z"
   },
   {
    "duration": 13,
    "start_time": "2021-09-10T19:11:44.211Z"
   },
   {
    "duration": 18,
    "start_time": "2021-09-10T19:11:44.227Z"
   },
   {
    "duration": 15,
    "start_time": "2021-09-10T19:11:44.248Z"
   },
   {
    "duration": 61,
    "start_time": "2021-09-10T19:11:44.265Z"
   },
   {
    "duration": 6,
    "start_time": "2021-09-10T19:11:44.328Z"
   },
   {
    "duration": 4240,
    "start_time": "2021-09-10T19:11:44.338Z"
   },
   {
    "duration": 54,
    "start_time": "2021-09-10T19:11:48.581Z"
   },
   {
    "duration": 8,
    "start_time": "2021-09-10T19:11:48.638Z"
   },
   {
    "duration": 14,
    "start_time": "2021-09-10T19:11:48.648Z"
   },
   {
    "duration": 170,
    "start_time": "2021-09-10T19:11:48.665Z"
   },
   {
    "duration": 9,
    "start_time": "2021-09-10T19:11:48.838Z"
   },
   {
    "duration": 14,
    "start_time": "2021-09-10T19:11:48.849Z"
   },
   {
    "duration": 83,
    "start_time": "2021-09-10T19:11:48.865Z"
   },
   {
    "duration": 13,
    "start_time": "2021-09-10T19:11:48.950Z"
   },
   {
    "duration": 1172,
    "start_time": "2021-09-10T19:11:48.966Z"
   },
   {
    "duration": 12,
    "start_time": "2021-09-10T19:11:50.141Z"
   },
   {
    "duration": 9,
    "start_time": "2021-09-10T19:11:50.156Z"
   },
   {
    "duration": 885,
    "start_time": "2021-09-10T19:11:50.168Z"
   },
   {
    "duration": 20,
    "start_time": "2021-09-10T19:11:51.056Z"
   },
   {
    "duration": 75,
    "start_time": "2021-09-10T19:11:51.079Z"
   },
   {
    "duration": 15,
    "start_time": "2021-09-10T19:11:51.163Z"
   },
   {
    "duration": 66,
    "start_time": "2021-09-10T19:11:51.182Z"
   },
   {
    "duration": 85,
    "start_time": "2021-09-10T19:11:51.251Z"
   },
   {
    "duration": 33,
    "start_time": "2021-09-10T19:11:51.339Z"
   },
   {
    "duration": 46,
    "start_time": "2021-09-10T19:11:51.375Z"
   },
   {
    "duration": 34,
    "start_time": "2021-09-10T19:11:51.424Z"
   },
   {
    "duration": 57,
    "start_time": "2021-09-10T19:11:51.461Z"
   },
   {
    "duration": 375,
    "start_time": "2021-09-10T19:11:51.520Z"
   },
   {
    "duration": 34,
    "start_time": "2021-09-10T19:11:51.897Z"
   },
   {
    "duration": 393,
    "start_time": "2021-09-10T19:11:51.933Z"
   },
   {
    "duration": 17,
    "start_time": "2021-09-10T19:11:52.328Z"
   },
   {
    "duration": 360,
    "start_time": "2021-09-10T19:11:52.348Z"
   },
   {
    "duration": 29,
    "start_time": "2021-09-10T19:11:52.715Z"
   },
   {
    "duration": 13,
    "start_time": "2021-09-10T19:11:52.747Z"
   },
   {
    "duration": 62,
    "start_time": "2021-09-10T19:11:52.762Z"
   },
   {
    "duration": 21,
    "start_time": "2021-09-10T19:11:52.826Z"
   },
   {
    "duration": 27,
    "start_time": "2021-09-10T19:11:52.849Z"
   },
   {
    "duration": 62,
    "start_time": "2021-09-10T19:11:52.878Z"
   },
   {
    "duration": 14,
    "start_time": "2021-09-10T19:11:52.943Z"
   },
   {
    "duration": 12,
    "start_time": "2021-09-10T19:11:52.960Z"
   },
   {
    "duration": 1317,
    "start_time": "2021-09-10T19:11:52.974Z"
   },
   {
    "duration": 15,
    "start_time": "2021-09-10T19:11:54.293Z"
   },
   {
    "duration": 22,
    "start_time": "2021-09-10T19:11:54.311Z"
   },
   {
    "duration": 29,
    "start_time": "2021-09-10T19:11:54.336Z"
   },
   {
    "duration": 12,
    "start_time": "2021-09-10T19:11:54.367Z"
   },
   {
    "duration": 46,
    "start_time": "2021-09-10T19:11:54.381Z"
   },
   {
    "duration": 8,
    "start_time": "2021-09-10T19:11:54.430Z"
   },
   {
    "duration": 820,
    "start_time": "2021-09-10T19:11:54.441Z"
   },
   {
    "duration": 53,
    "start_time": "2021-09-10T19:11:55.263Z"
   },
   {
    "duration": 8,
    "start_time": "2021-09-10T19:11:55.319Z"
   },
   {
    "duration": 387,
    "start_time": "2021-09-10T19:11:55.329Z"
   },
   {
    "duration": 24,
    "start_time": "2021-09-10T19:11:55.719Z"
   },
   {
    "duration": 416,
    "start_time": "2021-09-10T19:11:55.746Z"
   },
   {
    "duration": 20,
    "start_time": "2021-09-10T19:11:56.166Z"
   },
   {
    "duration": 347,
    "start_time": "2021-09-10T19:11:56.189Z"
   },
   {
    "duration": 2240,
    "start_time": "2021-09-10T19:14:00.646Z"
   },
   {
    "duration": 56,
    "start_time": "2021-09-10T19:14:02.889Z"
   },
   {
    "duration": 17,
    "start_time": "2021-09-10T19:14:02.948Z"
   },
   {
    "duration": 24,
    "start_time": "2021-09-10T19:14:02.967Z"
   },
   {
    "duration": 5,
    "start_time": "2021-09-10T19:14:03.017Z"
   },
   {
    "duration": 8,
    "start_time": "2021-09-10T19:14:03.024Z"
   },
   {
    "duration": 8,
    "start_time": "2021-09-10T19:14:03.035Z"
   },
   {
    "duration": 4710,
    "start_time": "2021-09-10T19:14:03.046Z"
   },
   {
    "duration": 60,
    "start_time": "2021-09-10T19:14:07.758Z"
   },
   {
    "duration": 8,
    "start_time": "2021-09-10T19:14:07.820Z"
   },
   {
    "duration": 15,
    "start_time": "2021-09-10T19:14:07.831Z"
   },
   {
    "duration": 178,
    "start_time": "2021-09-10T19:14:07.848Z"
   },
   {
    "duration": 10,
    "start_time": "2021-09-10T19:14:08.028Z"
   },
   {
    "duration": 16,
    "start_time": "2021-09-10T19:14:08.040Z"
   },
   {
    "duration": 85,
    "start_time": "2021-09-10T19:14:08.058Z"
   },
   {
    "duration": 17,
    "start_time": "2021-09-10T19:14:08.145Z"
   },
   {
    "duration": 1175,
    "start_time": "2021-09-10T19:14:08.164Z"
   },
   {
    "duration": 12,
    "start_time": "2021-09-10T19:14:09.341Z"
   },
   {
    "duration": 18,
    "start_time": "2021-09-10T19:14:09.356Z"
   },
   {
    "duration": 1065,
    "start_time": "2021-09-10T19:14:09.377Z"
   },
   {
    "duration": 17,
    "start_time": "2021-09-10T19:14:10.444Z"
   },
   {
    "duration": 69,
    "start_time": "2021-09-10T19:14:10.464Z"
   },
   {
    "duration": 13,
    "start_time": "2021-09-10T19:14:10.539Z"
   },
   {
    "duration": 62,
    "start_time": "2021-09-10T19:14:10.555Z"
   },
   {
    "duration": 56,
    "start_time": "2021-09-10T19:14:10.620Z"
   },
   {
    "duration": 59,
    "start_time": "2021-09-10T19:14:10.678Z"
   },
   {
    "duration": 8,
    "start_time": "2021-09-10T19:14:10.739Z"
   },
   {
    "duration": 40,
    "start_time": "2021-09-10T19:14:10.750Z"
   },
   {
    "duration": 9,
    "start_time": "2021-09-10T19:14:10.817Z"
   },
   {
    "duration": 828,
    "start_time": "2021-09-10T19:14:10.829Z"
   },
   {
    "duration": 60,
    "start_time": "2021-09-10T19:14:11.659Z"
   },
   {
    "duration": 685,
    "start_time": "2021-09-10T19:14:11.722Z"
   },
   {
    "duration": 21,
    "start_time": "2021-09-10T19:14:12.409Z"
   },
   {
    "duration": 344,
    "start_time": "2021-09-10T19:14:12.433Z"
   },
   {
    "duration": 46,
    "start_time": "2021-09-10T19:14:12.780Z"
   },
   {
    "duration": 12,
    "start_time": "2021-09-10T19:14:12.829Z"
   },
   {
    "duration": 35,
    "start_time": "2021-09-10T19:14:12.844Z"
   },
   {
    "duration": 48,
    "start_time": "2021-09-10T19:14:12.882Z"
   },
   {
    "duration": 26,
    "start_time": "2021-09-10T19:14:12.932Z"
   },
   {
    "duration": 58,
    "start_time": "2021-09-10T19:14:12.962Z"
   },
   {
    "duration": 15,
    "start_time": "2021-09-10T19:14:13.023Z"
   },
   {
    "duration": 12,
    "start_time": "2021-09-10T19:14:13.040Z"
   },
   {
    "duration": 800,
    "start_time": "2021-09-10T19:14:13.055Z"
   },
   {
    "duration": 14,
    "start_time": "2021-09-10T19:14:13.857Z"
   },
   {
    "duration": 23,
    "start_time": "2021-09-10T19:14:13.873Z"
   },
   {
    "duration": 42,
    "start_time": "2021-09-10T19:14:13.899Z"
   },
   {
    "duration": 28,
    "start_time": "2021-09-10T19:14:13.944Z"
   },
   {
    "duration": 29,
    "start_time": "2021-09-10T19:14:13.974Z"
   },
   {
    "duration": 19,
    "start_time": "2021-09-10T19:14:14.006Z"
   },
   {
    "duration": 553,
    "start_time": "2021-09-10T19:14:14.027Z"
   },
   {
    "duration": 46,
    "start_time": "2021-09-10T19:14:14.583Z"
   },
   {
    "duration": 16,
    "start_time": "2021-09-10T19:14:14.631Z"
   },
   {
    "duration": 549,
    "start_time": "2021-09-10T19:14:14.649Z"
   },
   {
    "duration": 31,
    "start_time": "2021-09-10T19:14:15.201Z"
   },
   {
    "duration": 391,
    "start_time": "2021-09-10T19:14:15.235Z"
   },
   {
    "duration": 16,
    "start_time": "2021-09-10T19:14:15.628Z"
   },
   {
    "duration": 335,
    "start_time": "2021-09-10T19:14:15.646Z"
   },
   {
    "duration": 288,
    "start_time": "2021-09-10T19:23:19.950Z"
   },
   {
    "duration": 14,
    "start_time": "2021-09-10T19:24:06.764Z"
   },
   {
    "duration": 29,
    "start_time": "2021-09-10T19:26:44.989Z"
   },
   {
    "duration": 17,
    "start_time": "2021-09-10T19:49:51.802Z"
   },
   {
    "duration": 20,
    "start_time": "2021-09-10T19:50:12.678Z"
   },
   {
    "duration": 19,
    "start_time": "2021-09-10T19:50:47.793Z"
   },
   {
    "duration": 16,
    "start_time": "2021-09-10T19:52:18.233Z"
   },
   {
    "duration": 654,
    "start_time": "2021-09-10T20:10:04.543Z"
   },
   {
    "duration": 358,
    "start_time": "2021-09-10T20:11:19.068Z"
   },
   {
    "duration": 2150,
    "start_time": "2021-09-10T20:12:14.288Z"
   },
   {
    "duration": 60,
    "start_time": "2021-09-10T20:12:16.441Z"
   },
   {
    "duration": 22,
    "start_time": "2021-09-10T20:12:16.504Z"
   },
   {
    "duration": 14,
    "start_time": "2021-09-10T20:12:16.529Z"
   },
   {
    "duration": 24,
    "start_time": "2021-09-10T20:12:16.545Z"
   },
   {
    "duration": 50,
    "start_time": "2021-09-10T20:12:16.572Z"
   },
   {
    "duration": 4857,
    "start_time": "2021-09-10T20:12:16.625Z"
   },
   {
    "duration": 59,
    "start_time": "2021-09-10T20:12:21.486Z"
   },
   {
    "duration": 8,
    "start_time": "2021-09-10T20:12:21.548Z"
   },
   {
    "duration": 13,
    "start_time": "2021-09-10T20:12:21.558Z"
   },
   {
    "duration": 175,
    "start_time": "2021-09-10T20:12:21.573Z"
   },
   {
    "duration": 9,
    "start_time": "2021-09-10T20:12:21.751Z"
   },
   {
    "duration": 22,
    "start_time": "2021-09-10T20:12:21.762Z"
   },
   {
    "duration": 73,
    "start_time": "2021-09-10T20:12:21.787Z"
   },
   {
    "duration": 14,
    "start_time": "2021-09-10T20:12:21.863Z"
   },
   {
    "duration": 1221,
    "start_time": "2021-09-10T20:12:21.879Z"
   },
   {
    "duration": 18,
    "start_time": "2021-09-10T20:12:23.102Z"
   },
   {
    "duration": 15,
    "start_time": "2021-09-10T20:12:23.123Z"
   },
   {
    "duration": 940,
    "start_time": "2021-09-10T20:12:23.140Z"
   },
   {
    "duration": 34,
    "start_time": "2021-09-10T20:12:24.082Z"
   },
   {
    "duration": 44,
    "start_time": "2021-09-10T20:12:24.119Z"
   },
   {
    "duration": 15,
    "start_time": "2021-09-10T20:12:24.165Z"
   },
   {
    "duration": 66,
    "start_time": "2021-09-10T20:12:24.186Z"
   },
   {
    "duration": 79,
    "start_time": "2021-09-10T20:12:24.255Z"
   },
   {
    "duration": 29,
    "start_time": "2021-09-10T20:12:24.336Z"
   },
   {
    "duration": 8,
    "start_time": "2021-09-10T20:12:24.368Z"
   },
   {
    "duration": 61,
    "start_time": "2021-09-10T20:12:24.378Z"
   },
   {
    "duration": 8,
    "start_time": "2021-09-10T20:12:24.442Z"
   },
   {
    "duration": 933,
    "start_time": "2021-09-10T20:12:24.453Z"
   },
   {
    "duration": 46,
    "start_time": "2021-09-10T20:12:25.389Z"
   },
   {
    "duration": 722,
    "start_time": "2021-09-10T20:12:25.438Z"
   },
   {
    "duration": 17,
    "start_time": "2021-09-10T20:12:26.162Z"
   },
   {
    "duration": 360,
    "start_time": "2021-09-10T20:12:26.181Z"
   },
   {
    "duration": 30,
    "start_time": "2021-09-10T20:12:26.543Z"
   },
   {
    "duration": 42,
    "start_time": "2021-09-10T20:12:26.575Z"
   },
   {
    "duration": 20,
    "start_time": "2021-09-10T20:12:26.619Z"
   },
   {
    "duration": 19,
    "start_time": "2021-09-10T20:12:26.642Z"
   },
   {
    "duration": 61,
    "start_time": "2021-09-10T20:12:26.664Z"
   },
   {
    "duration": 31,
    "start_time": "2021-09-10T20:12:26.728Z"
   },
   {
    "duration": 56,
    "start_time": "2021-09-10T20:12:26.762Z"
   },
   {
    "duration": 12,
    "start_time": "2021-09-10T20:12:26.822Z"
   },
   {
    "duration": 1198,
    "start_time": "2021-09-10T20:12:26.837Z"
   },
   {
    "duration": 14,
    "start_time": "2021-09-10T20:12:28.037Z"
   },
   {
    "duration": 23,
    "start_time": "2021-09-10T20:12:28.054Z"
   },
   {
    "duration": 47,
    "start_time": "2021-09-10T20:12:28.080Z"
   },
   {
    "duration": 17,
    "start_time": "2021-09-10T20:12:28.129Z"
   },
   {
    "duration": 12,
    "start_time": "2021-09-10T20:12:28.148Z"
   },
   {
    "duration": 9,
    "start_time": "2021-09-10T20:12:28.162Z"
   },
   {
    "duration": 554,
    "start_time": "2021-09-10T20:12:28.217Z"
   },
   {
    "duration": 49,
    "start_time": "2021-09-10T20:12:28.774Z"
   },
   {
    "duration": 10,
    "start_time": "2021-09-10T20:12:28.825Z"
   },
   {
    "duration": 550,
    "start_time": "2021-09-10T20:12:28.837Z"
   },
   {
    "duration": 38,
    "start_time": "2021-09-10T20:12:29.389Z"
   },
   {
    "duration": 392,
    "start_time": "2021-09-10T20:12:29.430Z"
   },
   {
    "duration": 15,
    "start_time": "2021-09-10T20:12:29.825Z"
   },
   {
    "duration": 341,
    "start_time": "2021-09-10T20:12:29.843Z"
   },
   {
    "duration": 31,
    "start_time": "2021-09-10T20:12:30.187Z"
   },
   {
    "duration": 1392,
    "start_time": "2021-09-11T07:56:53.693Z"
   },
   {
    "duration": 43,
    "start_time": "2021-09-11T07:56:55.087Z"
   },
   {
    "duration": 11,
    "start_time": "2021-09-11T07:56:55.132Z"
   },
   {
    "duration": 8,
    "start_time": "2021-09-11T07:56:55.145Z"
   },
   {
    "duration": 13,
    "start_time": "2021-09-11T07:56:55.154Z"
   },
   {
    "duration": 4,
    "start_time": "2021-09-11T07:56:55.185Z"
   },
   {
    "duration": 2450,
    "start_time": "2021-09-11T07:56:55.191Z"
   },
   {
    "duration": 42,
    "start_time": "2021-09-11T07:56:57.643Z"
   },
   {
    "duration": 6,
    "start_time": "2021-09-11T07:56:57.687Z"
   },
   {
    "duration": 9,
    "start_time": "2021-09-11T07:56:57.694Z"
   },
   {
    "duration": 98,
    "start_time": "2021-09-11T07:56:57.705Z"
   },
   {
    "duration": 7,
    "start_time": "2021-09-11T07:56:57.805Z"
   },
   {
    "duration": 15,
    "start_time": "2021-09-11T07:56:57.813Z"
   },
   {
    "duration": 38,
    "start_time": "2021-09-11T07:56:57.830Z"
   },
   {
    "duration": 20,
    "start_time": "2021-09-11T07:56:57.870Z"
   },
   {
    "duration": 721,
    "start_time": "2021-09-11T07:56:57.892Z"
   },
   {
    "duration": 8,
    "start_time": "2021-09-11T07:56:58.615Z"
   },
   {
    "duration": 7,
    "start_time": "2021-09-11T07:56:58.625Z"
   },
   {
    "duration": 555,
    "start_time": "2021-09-11T07:56:58.633Z"
   },
   {
    "duration": 12,
    "start_time": "2021-09-11T07:56:59.190Z"
   },
   {
    "duration": 26,
    "start_time": "2021-09-11T07:56:59.203Z"
   },
   {
    "duration": 9,
    "start_time": "2021-09-11T07:56:59.231Z"
   },
   {
    "duration": 51,
    "start_time": "2021-09-11T07:56:59.244Z"
   },
   {
    "duration": 37,
    "start_time": "2021-09-11T07:56:59.297Z"
   },
   {
    "duration": 16,
    "start_time": "2021-09-11T07:56:59.336Z"
   },
   {
    "duration": 5,
    "start_time": "2021-09-11T07:56:59.354Z"
   },
   {
    "duration": 39,
    "start_time": "2021-09-11T07:56:59.360Z"
   },
   {
    "duration": 8,
    "start_time": "2021-09-11T07:56:59.401Z"
   },
   {
    "duration": 521,
    "start_time": "2021-09-11T07:56:59.411Z"
   },
   {
    "duration": 16,
    "start_time": "2021-09-11T07:56:59.934Z"
   },
   {
    "duration": 483,
    "start_time": "2021-09-11T07:56:59.951Z"
   },
   {
    "duration": 13,
    "start_time": "2021-09-11T07:57:00.436Z"
   },
   {
    "duration": 217,
    "start_time": "2021-09-11T07:57:00.451Z"
   },
   {
    "duration": 30,
    "start_time": "2021-09-11T07:57:00.670Z"
   },
   {
    "duration": 9,
    "start_time": "2021-09-11T07:57:00.702Z"
   },
   {
    "duration": 19,
    "start_time": "2021-09-11T07:57:00.713Z"
   },
   {
    "duration": 21,
    "start_time": "2021-09-11T07:57:00.734Z"
   },
   {
    "duration": 35,
    "start_time": "2021-09-11T07:57:00.757Z"
   },
   {
    "duration": 20,
    "start_time": "2021-09-11T07:57:00.794Z"
   },
   {
    "duration": 12,
    "start_time": "2021-09-11T07:57:00.816Z"
   },
   {
    "duration": 9,
    "start_time": "2021-09-11T07:57:00.830Z"
   },
   {
    "duration": 1231,
    "start_time": "2021-09-11T07:57:00.840Z"
   },
   {
    "duration": 7,
    "start_time": "2021-09-11T07:57:02.073Z"
   },
   {
    "duration": 15,
    "start_time": "2021-09-11T07:57:02.082Z"
   },
   {
    "duration": 17,
    "start_time": "2021-09-11T07:57:02.098Z"
   },
   {
    "duration": 7,
    "start_time": "2021-09-11T07:57:02.116Z"
   },
   {
    "duration": 7,
    "start_time": "2021-09-11T07:57:02.125Z"
   },
   {
    "duration": 9,
    "start_time": "2021-09-11T07:57:02.133Z"
   },
   {
    "duration": 355,
    "start_time": "2021-09-11T07:57:02.143Z"
   },
   {
    "duration": 20,
    "start_time": "2021-09-11T07:57:02.500Z"
   },
   {
    "duration": 10,
    "start_time": "2021-09-11T07:57:02.522Z"
   },
   {
    "duration": 366,
    "start_time": "2021-09-11T07:57:02.534Z"
   },
   {
    "duration": 13,
    "start_time": "2021-09-11T07:57:02.901Z"
   },
   {
    "duration": 226,
    "start_time": "2021-09-11T07:57:02.916Z"
   },
   {
    "duration": 9,
    "start_time": "2021-09-11T07:57:03.144Z"
   },
   {
    "duration": 218,
    "start_time": "2021-09-11T07:57:03.155Z"
   },
   {
    "duration": 14,
    "start_time": "2021-09-11T07:57:03.375Z"
   },
   {
    "duration": 3,
    "start_time": "2021-09-11T18:57:23.468Z"
   },
   {
    "duration": 46,
    "start_time": "2021-09-11T18:57:23.489Z"
   },
   {
    "duration": 8,
    "start_time": "2021-09-11T18:57:23.567Z"
   },
   {
    "duration": 11,
    "start_time": "2021-09-11T18:57:23.576Z"
   },
   {
    "duration": 12,
    "start_time": "2021-09-11T18:57:23.597Z"
   },
   {
    "duration": 4,
    "start_time": "2021-09-11T18:57:23.611Z"
   },
   {
    "duration": 2626,
    "start_time": "2021-09-11T18:57:23.617Z"
   },
   {
    "duration": 44,
    "start_time": "2021-09-11T18:57:26.244Z"
   },
   {
    "duration": 5,
    "start_time": "2021-09-11T18:57:26.290Z"
   },
   {
    "duration": 13,
    "start_time": "2021-09-11T18:57:26.296Z"
   },
   {
    "duration": 102,
    "start_time": "2021-09-11T18:57:26.310Z"
   },
   {
    "duration": 7,
    "start_time": "2021-09-11T18:57:26.413Z"
   },
   {
    "duration": 12,
    "start_time": "2021-09-11T18:57:26.421Z"
   },
   {
    "duration": 36,
    "start_time": "2021-09-11T18:57:26.435Z"
   },
   {
    "duration": 16,
    "start_time": "2021-09-11T18:57:26.473Z"
   },
   {
    "duration": 738,
    "start_time": "2021-09-11T18:57:26.490Z"
   },
   {
    "duration": 8,
    "start_time": "2021-09-11T18:57:27.230Z"
   },
   {
    "duration": 5,
    "start_time": "2021-09-11T18:57:27.240Z"
   },
   {
    "duration": 559,
    "start_time": "2021-09-11T18:57:27.247Z"
   },
   {
    "duration": 12,
    "start_time": "2021-09-11T18:57:27.807Z"
   },
   {
    "duration": 28,
    "start_time": "2021-09-11T18:57:27.821Z"
   },
   {
    "duration": 34,
    "start_time": "2021-09-11T18:57:27.851Z"
   },
   {
    "duration": 28,
    "start_time": "2021-09-11T18:57:27.886Z"
   },
   {
    "duration": 37,
    "start_time": "2021-09-11T18:57:27.916Z"
   },
   {
    "duration": 38,
    "start_time": "2021-09-11T18:57:27.955Z"
   },
   {
    "duration": 5,
    "start_time": "2021-09-11T18:57:27.995Z"
   },
   {
    "duration": 18,
    "start_time": "2021-09-11T18:57:28.002Z"
   },
   {
    "duration": 8,
    "start_time": "2021-09-11T18:57:28.021Z"
   },
   {
    "duration": 244,
    "start_time": "2021-09-11T18:57:28.033Z"
   },
   {
    "duration": 20,
    "start_time": "2021-09-11T18:57:28.279Z"
   },
   {
    "duration": 239,
    "start_time": "2021-09-11T18:57:28.300Z"
   },
   {
    "duration": 12,
    "start_time": "2021-09-11T18:57:28.540Z"
   },
   {
    "duration": 220,
    "start_time": "2021-09-11T18:57:28.553Z"
   },
   {
    "duration": 25,
    "start_time": "2021-09-11T18:57:28.774Z"
   },
   {
    "duration": 8,
    "start_time": "2021-09-11T18:57:28.801Z"
   },
   {
    "duration": 15,
    "start_time": "2021-09-11T18:57:28.810Z"
   },
   {
    "duration": 14,
    "start_time": "2021-09-11T18:57:28.826Z"
   },
   {
    "duration": 44,
    "start_time": "2021-09-11T18:57:28.842Z"
   },
   {
    "duration": 21,
    "start_time": "2021-09-11T18:57:28.887Z"
   },
   {
    "duration": 11,
    "start_time": "2021-09-11T18:57:28.910Z"
   },
   {
    "duration": 4,
    "start_time": "2021-09-11T18:57:28.922Z"
   },
   {
    "duration": 1191,
    "start_time": "2021-09-11T18:57:28.928Z"
   },
   {
    "duration": 9,
    "start_time": "2021-09-11T18:57:30.121Z"
   },
   {
    "duration": 24,
    "start_time": "2021-09-11T18:57:30.132Z"
   },
   {
    "duration": 32,
    "start_time": "2021-09-11T18:57:30.157Z"
   },
   {
    "duration": 16,
    "start_time": "2021-09-11T18:57:30.190Z"
   },
   {
    "duration": 55,
    "start_time": "2021-09-11T18:57:30.208Z"
   },
   {
    "duration": 26,
    "start_time": "2021-09-11T18:57:30.265Z"
   },
   {
    "duration": 405,
    "start_time": "2021-09-11T18:57:30.293Z"
   },
   {
    "duration": 22,
    "start_time": "2021-09-11T18:57:30.700Z"
   },
   {
    "duration": 24,
    "start_time": "2021-09-11T18:57:30.724Z"
   },
   {
    "duration": 397,
    "start_time": "2021-09-11T18:57:30.751Z"
   },
   {
    "duration": 13,
    "start_time": "2021-09-11T18:57:31.150Z"
   },
   {
    "duration": 247,
    "start_time": "2021-09-11T18:57:31.165Z"
   },
   {
    "duration": 13,
    "start_time": "2021-09-11T18:57:31.414Z"
   },
   {
    "duration": 216,
    "start_time": "2021-09-11T18:57:31.430Z"
   },
   {
    "duration": 11,
    "start_time": "2021-09-11T18:57:31.647Z"
   },
   {
    "duration": 1371,
    "start_time": "2021-09-11T21:23:50.800Z"
   },
   {
    "duration": 45,
    "start_time": "2021-09-11T21:23:52.173Z"
   },
   {
    "duration": 12,
    "start_time": "2021-09-11T21:23:52.220Z"
   },
   {
    "duration": 11,
    "start_time": "2021-09-11T21:23:52.234Z"
   },
   {
    "duration": 14,
    "start_time": "2021-09-11T21:23:52.247Z"
   },
   {
    "duration": 4,
    "start_time": "2021-09-11T21:23:52.285Z"
   },
   {
    "duration": 2364,
    "start_time": "2021-09-11T21:23:52.291Z"
   },
   {
    "duration": 39,
    "start_time": "2021-09-11T21:23:54.657Z"
   },
   {
    "duration": 23,
    "start_time": "2021-09-11T21:23:54.699Z"
   },
   {
    "duration": 26,
    "start_time": "2021-09-11T21:23:54.723Z"
   },
   {
    "duration": 102,
    "start_time": "2021-09-11T21:23:54.751Z"
   },
   {
    "duration": 6,
    "start_time": "2021-09-11T21:23:54.855Z"
   },
   {
    "duration": 30,
    "start_time": "2021-09-11T21:23:54.863Z"
   },
   {
    "duration": 52,
    "start_time": "2021-09-11T21:23:54.895Z"
   },
   {
    "duration": 10,
    "start_time": "2021-09-11T21:23:54.948Z"
   },
   {
    "duration": 728,
    "start_time": "2021-09-11T21:23:54.960Z"
   },
   {
    "duration": 8,
    "start_time": "2021-09-11T21:23:55.690Z"
   },
   {
    "duration": 12,
    "start_time": "2021-09-11T21:23:55.700Z"
   },
   {
    "duration": 580,
    "start_time": "2021-09-11T21:23:55.713Z"
   },
   {
    "duration": 14,
    "start_time": "2021-09-11T21:23:56.295Z"
   },
   {
    "duration": 41,
    "start_time": "2021-09-11T21:23:56.311Z"
   },
   {
    "duration": 10,
    "start_time": "2021-09-11T21:23:56.354Z"
   },
   {
    "duration": 44,
    "start_time": "2021-09-11T21:23:56.368Z"
   },
   {
    "duration": 38,
    "start_time": "2021-09-11T21:23:56.414Z"
   },
   {
    "duration": 40,
    "start_time": "2021-09-11T21:23:56.454Z"
   },
   {
    "duration": 17,
    "start_time": "2021-09-11T21:23:56.495Z"
   },
   {
    "duration": 36,
    "start_time": "2021-09-11T21:23:56.514Z"
   },
   {
    "duration": 21,
    "start_time": "2021-09-11T21:23:56.552Z"
   },
   {
    "duration": 512,
    "start_time": "2021-09-11T21:23:56.574Z"
   },
   {
    "duration": 15,
    "start_time": "2021-09-11T21:23:57.088Z"
   },
   {
    "duration": 493,
    "start_time": "2021-09-11T21:23:57.104Z"
   },
   {
    "duration": 12,
    "start_time": "2021-09-11T21:23:57.598Z"
   },
   {
    "duration": 221,
    "start_time": "2021-09-11T21:23:57.611Z"
   },
   {
    "duration": 19,
    "start_time": "2021-09-11T21:23:57.835Z"
   },
   {
    "duration": 7,
    "start_time": "2021-09-11T21:23:57.856Z"
   },
   {
    "duration": 30,
    "start_time": "2021-09-11T21:23:57.865Z"
   },
   {
    "duration": 20,
    "start_time": "2021-09-11T21:23:57.897Z"
   },
   {
    "duration": 15,
    "start_time": "2021-09-11T21:23:57.919Z"
   },
   {
    "duration": 31,
    "start_time": "2021-09-11T21:23:57.935Z"
   },
   {
    "duration": 21,
    "start_time": "2021-09-11T21:23:57.967Z"
   },
   {
    "duration": 18,
    "start_time": "2021-09-11T21:23:57.989Z"
   },
   {
    "duration": 1298,
    "start_time": "2021-09-11T21:23:58.008Z"
   },
   {
    "duration": 8,
    "start_time": "2021-09-11T21:23:59.308Z"
   },
   {
    "duration": 24,
    "start_time": "2021-09-11T21:23:59.317Z"
   },
   {
    "duration": 26,
    "start_time": "2021-09-11T21:23:59.342Z"
   },
   {
    "duration": 14,
    "start_time": "2021-09-11T21:23:59.369Z"
   },
   {
    "duration": 7,
    "start_time": "2021-09-11T21:23:59.384Z"
   },
   {
    "duration": 6,
    "start_time": "2021-09-11T21:23:59.393Z"
   },
   {
    "duration": 353,
    "start_time": "2021-09-11T21:23:59.400Z"
   },
   {
    "duration": 31,
    "start_time": "2021-09-11T21:23:59.754Z"
   },
   {
    "duration": 5,
    "start_time": "2021-09-11T21:23:59.787Z"
   },
   {
    "duration": 386,
    "start_time": "2021-09-11T21:23:59.793Z"
   },
   {
    "duration": 15,
    "start_time": "2021-09-11T21:24:00.181Z"
   },
   {
    "duration": 249,
    "start_time": "2021-09-11T21:24:00.197Z"
   },
   {
    "duration": 12,
    "start_time": "2021-09-11T21:24:00.447Z"
   },
   {
    "duration": 209,
    "start_time": "2021-09-11T21:24:00.460Z"
   },
   {
    "duration": 16,
    "start_time": "2021-09-11T21:24:00.670Z"
   },
   {
    "duration": 334,
    "start_time": "2021-09-12T10:35:37.233Z"
   },
   {
    "duration": 93,
    "start_time": "2021-09-12T10:39:39.029Z"
   },
   {
    "duration": 24636,
    "start_time": "2021-09-12T10:41:09.348Z"
   },
   {
    "duration": 55,
    "start_time": "2021-09-12T10:41:33.987Z"
   },
   {
    "duration": 30,
    "start_time": "2021-09-12T10:41:34.046Z"
   },
   {
    "duration": 14,
    "start_time": "2021-09-12T10:41:34.079Z"
   },
   {
    "duration": 19,
    "start_time": "2021-09-12T10:41:34.096Z"
   },
   {
    "duration": 7,
    "start_time": "2021-09-12T10:41:34.118Z"
   },
   {
    "duration": 4615,
    "start_time": "2021-09-12T10:41:34.127Z"
   },
   {
    "duration": 64,
    "start_time": "2021-09-12T10:41:38.746Z"
   },
   {
    "duration": 10,
    "start_time": "2021-09-12T10:41:38.813Z"
   },
   {
    "duration": 39,
    "start_time": "2021-09-12T10:41:38.826Z"
   },
   {
    "duration": 157,
    "start_time": "2021-09-12T10:41:38.868Z"
   },
   {
    "duration": 11,
    "start_time": "2021-09-12T10:41:39.027Z"
   },
   {
    "duration": 33,
    "start_time": "2021-09-12T10:41:39.040Z"
   },
   {
    "duration": 56,
    "start_time": "2021-09-12T10:41:39.078Z"
   },
   {
    "duration": 32,
    "start_time": "2021-09-12T10:41:39.137Z"
   },
   {
    "duration": 1202,
    "start_time": "2021-09-12T10:41:39.171Z"
   },
   {
    "duration": 15,
    "start_time": "2021-09-12T10:41:40.376Z"
   },
   {
    "duration": 10,
    "start_time": "2021-09-12T10:41:40.394Z"
   },
   {
    "duration": 1151,
    "start_time": "2021-09-12T10:41:40.406Z"
   },
   {
    "duration": 21,
    "start_time": "2021-09-12T10:41:41.565Z"
   },
   {
    "duration": 41,
    "start_time": "2021-09-12T10:41:41.589Z"
   },
   {
    "duration": 45,
    "start_time": "2021-09-12T10:41:41.634Z"
   },
   {
    "duration": 37,
    "start_time": "2021-09-12T10:41:41.687Z"
   },
   {
    "duration": 86,
    "start_time": "2021-09-12T10:41:41.727Z"
   },
   {
    "duration": 31,
    "start_time": "2021-09-12T10:41:41.816Z"
   },
   {
    "duration": 14,
    "start_time": "2021-09-12T10:41:41.864Z"
   },
   {
    "duration": 30,
    "start_time": "2021-09-12T10:41:41.880Z"
   },
   {
    "duration": 10,
    "start_time": "2021-09-12T10:41:41.912Z"
   },
   {
    "duration": 938,
    "start_time": "2021-09-12T10:41:41.924Z"
   },
   {
    "duration": 33,
    "start_time": "2021-09-12T10:41:42.865Z"
   },
   {
    "duration": 738,
    "start_time": "2021-09-12T10:41:42.900Z"
   },
   {
    "duration": 36,
    "start_time": "2021-09-12T10:41:43.640Z"
   },
   {
    "duration": 344,
    "start_time": "2021-09-12T10:41:43.678Z"
   },
   {
    "duration": 41,
    "start_time": "2021-09-12T10:41:44.024Z"
   },
   {
    "duration": 14,
    "start_time": "2021-09-12T10:41:44.068Z"
   },
   {
    "duration": 21,
    "start_time": "2021-09-12T10:41:44.085Z"
   },
   {
    "duration": 19,
    "start_time": "2021-09-12T10:41:44.108Z"
   },
   {
    "duration": 66,
    "start_time": "2021-09-12T10:41:44.130Z"
   },
   {
    "duration": 27,
    "start_time": "2021-09-12T10:41:44.199Z"
   },
   {
    "duration": 44,
    "start_time": "2021-09-12T10:41:44.229Z"
   },
   {
    "duration": 6,
    "start_time": "2021-09-12T10:41:44.275Z"
   },
   {
    "duration": 1324,
    "start_time": "2021-09-12T10:41:44.284Z"
   },
   {
    "duration": 15,
    "start_time": "2021-09-12T10:41:45.611Z"
   },
   {
    "duration": 24,
    "start_time": "2021-09-12T10:41:45.628Z"
   },
   {
    "duration": 25,
    "start_time": "2021-09-12T10:41:45.661Z"
   },
   {
    "duration": 12,
    "start_time": "2021-09-12T10:41:45.688Z"
   },
   {
    "duration": 16,
    "start_time": "2021-09-12T10:41:45.702Z"
   },
   {
    "duration": 42,
    "start_time": "2021-09-12T10:41:45.720Z"
   },
   {
    "duration": 609,
    "start_time": "2021-09-12T10:41:45.765Z"
   },
   {
    "duration": 40,
    "start_time": "2021-09-12T10:41:46.379Z"
   },
   {
    "duration": 9,
    "start_time": "2021-09-12T10:41:46.422Z"
   },
   {
    "duration": 580,
    "start_time": "2021-09-12T10:41:46.433Z"
   },
   {
    "duration": 21,
    "start_time": "2021-09-12T10:41:47.016Z"
   },
   {
    "duration": 637,
    "start_time": "2021-09-12T10:41:47.040Z"
   },
   {
    "duration": 17,
    "start_time": "2021-09-12T10:41:47.679Z"
   },
   {
    "duration": 342,
    "start_time": "2021-09-12T10:41:47.698Z"
   },
   {
    "duration": 29,
    "start_time": "2021-09-12T10:41:48.042Z"
   },
   {
    "duration": 103,
    "start_time": "2021-09-12T10:49:15.536Z"
   },
   {
    "duration": 204,
    "start_time": "2021-09-12T10:49:48.825Z"
   },
   {
    "duration": 131,
    "start_time": "2021-09-12T10:52:16.661Z"
   },
   {
    "duration": 2270,
    "start_time": "2021-09-13T07:01:42.269Z"
   },
   {
    "duration": 69,
    "start_time": "2021-09-13T07:01:44.541Z"
   },
   {
    "duration": 17,
    "start_time": "2021-09-13T07:01:44.613Z"
   },
   {
    "duration": 37,
    "start_time": "2021-09-13T07:01:44.632Z"
   },
   {
    "duration": 46,
    "start_time": "2021-09-13T07:01:44.672Z"
   },
   {
    "duration": 23,
    "start_time": "2021-09-13T07:01:44.719Z"
   },
   {
    "duration": 2911,
    "start_time": "2021-09-13T07:01:44.744Z"
   },
   {
    "duration": 40,
    "start_time": "2021-09-13T07:01:47.658Z"
   },
   {
    "duration": 6,
    "start_time": "2021-09-13T07:01:47.701Z"
   },
   {
    "duration": 15,
    "start_time": "2021-09-13T07:01:47.709Z"
   },
   {
    "duration": 127,
    "start_time": "2021-09-13T07:01:47.726Z"
   },
   {
    "duration": 9,
    "start_time": "2021-09-13T07:01:47.854Z"
   },
   {
    "duration": 22,
    "start_time": "2021-09-13T07:01:47.865Z"
   },
   {
    "duration": 45,
    "start_time": "2021-09-13T07:01:47.889Z"
   },
   {
    "duration": 13,
    "start_time": "2021-09-13T07:01:47.936Z"
   },
   {
    "duration": 971,
    "start_time": "2021-09-13T07:01:47.977Z"
   },
   {
    "duration": 11,
    "start_time": "2021-09-13T07:01:48.950Z"
   },
   {
    "duration": 14,
    "start_time": "2021-09-13T07:01:48.963Z"
   },
   {
    "duration": 770,
    "start_time": "2021-09-13T07:01:48.979Z"
   },
   {
    "duration": 29,
    "start_time": "2021-09-13T07:01:49.752Z"
   },
   {
    "duration": 34,
    "start_time": "2021-09-13T07:01:49.783Z"
   },
   {
    "duration": 15,
    "start_time": "2021-09-13T07:01:49.820Z"
   },
   {
    "duration": 60,
    "start_time": "2021-09-13T07:01:49.841Z"
   },
   {
    "duration": 46,
    "start_time": "2021-09-13T07:01:49.903Z"
   },
   {
    "duration": 38,
    "start_time": "2021-09-13T07:01:49.952Z"
   },
   {
    "duration": 13,
    "start_time": "2021-09-13T07:01:49.992Z"
   },
   {
    "duration": 31,
    "start_time": "2021-09-13T07:01:50.007Z"
   },
   {
    "duration": 16,
    "start_time": "2021-09-13T07:01:50.039Z"
   },
   {
    "duration": 660,
    "start_time": "2021-09-13T07:01:50.057Z"
   },
   {
    "duration": 18,
    "start_time": "2021-09-13T07:01:50.720Z"
   },
   {
    "duration": 530,
    "start_time": "2021-09-13T07:01:50.740Z"
   },
   {
    "duration": 13,
    "start_time": "2021-09-13T07:01:51.272Z"
   },
   {
    "duration": 261,
    "start_time": "2021-09-13T07:01:51.287Z"
   },
   {
    "duration": 34,
    "start_time": "2021-09-13T07:01:51.550Z"
   },
   {
    "duration": 10,
    "start_time": "2021-09-13T07:01:51.586Z"
   },
   {
    "duration": 16,
    "start_time": "2021-09-13T07:01:51.598Z"
   },
   {
    "duration": 670,
    "start_time": "2021-09-13T07:01:51.616Z"
   },
   {
    "duration": -1537,
    "start_time": "2021-09-13T07:01:53.826Z"
   },
   {
    "duration": -1541,
    "start_time": "2021-09-13T07:01:53.832Z"
   },
   {
    "duration": -1546,
    "start_time": "2021-09-13T07:01:53.839Z"
   },
   {
    "duration": -1549,
    "start_time": "2021-09-13T07:01:53.845Z"
   },
   {
    "duration": -1553,
    "start_time": "2021-09-13T07:01:53.850Z"
   },
   {
    "duration": -1558,
    "start_time": "2021-09-13T07:01:53.857Z"
   },
   {
    "duration": -1562,
    "start_time": "2021-09-13T07:01:53.862Z"
   },
   {
    "duration": -1601,
    "start_time": "2021-09-13T07:01:53.903Z"
   },
   {
    "duration": -1609,
    "start_time": "2021-09-13T07:01:53.913Z"
   },
   {
    "duration": -1623,
    "start_time": "2021-09-13T07:01:53.928Z"
   },
   {
    "duration": -1627,
    "start_time": "2021-09-13T07:01:53.934Z"
   },
   {
    "duration": -1633,
    "start_time": "2021-09-13T07:01:53.941Z"
   },
   {
    "duration": -1636,
    "start_time": "2021-09-13T07:01:53.946Z"
   },
   {
    "duration": -1642,
    "start_time": "2021-09-13T07:01:53.953Z"
   },
   {
    "duration": -1646,
    "start_time": "2021-09-13T07:01:53.958Z"
   },
   {
    "duration": -1652,
    "start_time": "2021-09-13T07:01:53.965Z"
   },
   {
    "duration": -1659,
    "start_time": "2021-09-13T07:01:53.973Z"
   },
   {
    "duration": -1664,
    "start_time": "2021-09-13T07:01:53.979Z"
   },
   {
    "duration": -1668,
    "start_time": "2021-09-13T07:01:53.984Z"
   },
   {
    "duration": -1676,
    "start_time": "2021-09-13T07:01:53.992Z"
   },
   {
    "duration": 16,
    "start_time": "2021-09-13T07:05:02.525Z"
   },
   {
    "duration": 20,
    "start_time": "2021-09-13T07:05:02.546Z"
   },
   {
    "duration": 25,
    "start_time": "2021-09-13T07:05:02.568Z"
   },
   {
    "duration": 11,
    "start_time": "2021-09-13T07:05:02.595Z"
   },
   {
    "duration": 15,
    "start_time": "2021-09-13T07:05:02.608Z"
   },
   {
    "duration": 1137,
    "start_time": "2021-09-13T07:05:02.625Z"
   },
   {
    "duration": 11,
    "start_time": "2021-09-13T07:05:03.764Z"
   },
   {
    "duration": 16,
    "start_time": "2021-09-13T07:05:03.777Z"
   },
   {
    "duration": 19,
    "start_time": "2021-09-13T07:05:03.794Z"
   },
   {
    "duration": 9,
    "start_time": "2021-09-13T07:05:03.815Z"
   },
   {
    "duration": 13,
    "start_time": "2021-09-13T07:05:03.826Z"
   },
   {
    "duration": 7,
    "start_time": "2021-09-13T07:05:03.842Z"
   },
   {
    "duration": 369,
    "start_time": "2021-09-13T07:05:03.877Z"
   },
   {
    "duration": 38,
    "start_time": "2021-09-13T07:05:04.250Z"
   },
   {
    "duration": 6,
    "start_time": "2021-09-13T07:05:04.290Z"
   },
   {
    "duration": 428,
    "start_time": "2021-09-13T07:05:04.298Z"
   },
   {
    "duration": 15,
    "start_time": "2021-09-13T07:05:04.728Z"
   },
   {
    "duration": 294,
    "start_time": "2021-09-13T07:05:04.745Z"
   },
   {
    "duration": 12,
    "start_time": "2021-09-13T07:05:05.041Z"
   },
   {
    "duration": 225,
    "start_time": "2021-09-13T07:05:05.055Z"
   },
   {
    "duration": 12,
    "start_time": "2021-09-13T07:05:05.282Z"
   },
   {
    "duration": 130,
    "start_time": "2021-09-13T09:57:29.059Z"
   },
   {
    "duration": 1380,
    "start_time": "2021-09-13T09:58:05.672Z"
   },
   {
    "duration": 115,
    "start_time": "2021-09-13T10:01:25.939Z"
   },
   {
    "duration": 20,
    "start_time": "2021-09-13T10:01:39.417Z"
   },
   {
    "duration": 24,
    "start_time": "2021-09-13T10:09:33.387Z"
   },
   {
    "duration": 17,
    "start_time": "2021-09-13T10:11:17.741Z"
   },
   {
    "duration": 16,
    "start_time": "2021-09-13T10:16:50.433Z"
   },
   {
    "duration": 12,
    "start_time": "2021-09-13T10:17:08.577Z"
   },
   {
    "duration": 17,
    "start_time": "2021-09-13T10:18:42.230Z"
   },
   {
    "duration": 19,
    "start_time": "2021-09-13T10:19:23.523Z"
   },
   {
    "duration": 18,
    "start_time": "2021-09-13T10:19:44.755Z"
   },
   {
    "duration": 374,
    "start_time": "2021-09-13T10:48:41.679Z"
   },
   {
    "duration": 428,
    "start_time": "2021-09-13T10:49:41.194Z"
   },
   {
    "duration": 250,
    "start_time": "2021-09-13T10:53:23.826Z"
   },
   {
    "duration": -5,
    "start_time": "2021-09-13T10:57:37.603Z"
   },
   {
    "duration": 8984,
    "start_time": "2021-09-13T10:57:42.667Z"
   },
   {
    "duration": 4,
    "start_time": "2021-09-13T10:58:11.191Z"
   },
   {
    "duration": 49,
    "start_time": "2021-09-13T10:58:11.210Z"
   },
   {
    "duration": 9,
    "start_time": "2021-09-13T10:58:11.261Z"
   },
   {
    "duration": 10,
    "start_time": "2021-09-13T10:58:11.273Z"
   },
   {
    "duration": 14,
    "start_time": "2021-09-13T10:58:11.286Z"
   },
   {
    "duration": 5,
    "start_time": "2021-09-13T10:58:11.302Z"
   },
   {
    "duration": 2951,
    "start_time": "2021-09-13T10:58:11.309Z"
   },
   {
    "duration": 37,
    "start_time": "2021-09-13T10:58:14.262Z"
   },
   {
    "duration": 9,
    "start_time": "2021-09-13T10:58:14.301Z"
   },
   {
    "duration": 10,
    "start_time": "2021-09-13T10:58:14.312Z"
   },
   {
    "duration": 114,
    "start_time": "2021-09-13T10:58:14.324Z"
   },
   {
    "duration": 7,
    "start_time": "2021-09-13T10:58:14.439Z"
   },
   {
    "duration": 14,
    "start_time": "2021-09-13T10:58:14.448Z"
   },
   {
    "duration": 46,
    "start_time": "2021-09-13T10:58:14.464Z"
   },
   {
    "duration": 9,
    "start_time": "2021-09-13T10:58:14.512Z"
   },
   {
    "duration": 844,
    "start_time": "2021-09-13T10:58:14.523Z"
   },
   {
    "duration": 14,
    "start_time": "2021-09-13T10:58:15.369Z"
   },
   {
    "duration": 17,
    "start_time": "2021-09-13T10:58:15.385Z"
   },
   {
    "duration": 658,
    "start_time": "2021-09-13T10:58:15.403Z"
   },
   {
    "duration": 23,
    "start_time": "2021-09-13T10:58:16.063Z"
   },
   {
    "duration": 30,
    "start_time": "2021-09-13T10:58:16.088Z"
   },
   {
    "duration": 10,
    "start_time": "2021-09-13T10:58:16.120Z"
   },
   {
    "duration": 54,
    "start_time": "2021-09-13T10:58:16.132Z"
   },
   {
    "duration": 42,
    "start_time": "2021-09-13T10:58:16.188Z"
   },
   {
    "duration": 21,
    "start_time": "2021-09-13T10:58:16.232Z"
   },
   {
    "duration": 24,
    "start_time": "2021-09-13T10:58:16.255Z"
   },
   {
    "duration": 19,
    "start_time": "2021-09-13T10:58:16.281Z"
   },
   {
    "duration": 8,
    "start_time": "2021-09-13T10:58:16.302Z"
   },
   {
    "duration": 266,
    "start_time": "2021-09-13T10:58:16.313Z"
   },
   {
    "duration": 17,
    "start_time": "2021-09-13T10:58:16.581Z"
   },
   {
    "duration": 16,
    "start_time": "2021-09-13T10:58:16.600Z"
   },
   {
    "duration": 9213,
    "start_time": "2021-09-13T10:58:16.618Z"
   },
   {
    "duration": -41,
    "start_time": "2021-09-13T10:58:25.874Z"
   },
   {
    "duration": -63,
    "start_time": "2021-09-13T10:58:25.896Z"
   },
   {
    "duration": -84,
    "start_time": "2021-09-13T10:58:25.918Z"
   },
   {
    "duration": -106,
    "start_time": "2021-09-13T10:58:25.941Z"
   },
   {
    "duration": -233,
    "start_time": "2021-09-13T10:58:26.069Z"
   },
   {
    "duration": -311,
    "start_time": "2021-09-13T10:58:26.148Z"
   },
   {
    "duration": -319,
    "start_time": "2021-09-13T10:58:26.158Z"
   },
   {
    "duration": -325,
    "start_time": "2021-09-13T10:58:26.165Z"
   },
   {
    "duration": -332,
    "start_time": "2021-09-13T10:58:26.173Z"
   },
   {
    "duration": -339,
    "start_time": "2021-09-13T10:58:26.181Z"
   },
   {
    "duration": -383,
    "start_time": "2021-09-13T10:58:26.226Z"
   },
   {
    "duration": -397,
    "start_time": "2021-09-13T10:58:26.241Z"
   },
   {
    "duration": -404,
    "start_time": "2021-09-13T10:58:26.249Z"
   },
   {
    "duration": -511,
    "start_time": "2021-09-13T10:58:26.357Z"
   },
   {
    "duration": -605,
    "start_time": "2021-09-13T10:58:26.453Z"
   },
   {
    "duration": -611,
    "start_time": "2021-09-13T10:58:26.460Z"
   },
   {
    "duration": -630,
    "start_time": "2021-09-13T10:58:26.480Z"
   },
   {
    "duration": -637,
    "start_time": "2021-09-13T10:58:26.488Z"
   },
   {
    "duration": -658,
    "start_time": "2021-09-13T10:58:26.510Z"
   },
   {
    "duration": -665,
    "start_time": "2021-09-13T10:58:26.518Z"
   },
   {
    "duration": -682,
    "start_time": "2021-09-13T10:58:26.536Z"
   },
   {
    "duration": -697,
    "start_time": "2021-09-13T10:58:26.552Z"
   },
   {
    "duration": -704,
    "start_time": "2021-09-13T10:58:26.560Z"
   },
   {
    "duration": -750,
    "start_time": "2021-09-13T10:58:26.607Z"
   },
   {
    "duration": -782,
    "start_time": "2021-09-13T10:58:26.640Z"
   },
   {
    "duration": -806,
    "start_time": "2021-09-13T10:58:26.665Z"
   },
   {
    "duration": -830,
    "start_time": "2021-09-13T10:58:26.690Z"
   },
   {
    "duration": 5,
    "start_time": "2021-09-13T10:59:29.576Z"
   },
   {
    "duration": 9451,
    "start_time": "2021-09-13T10:59:47.182Z"
   },
   {
    "duration": 9577,
    "start_time": "2021-09-13T11:00:16.617Z"
   },
   {
    "duration": 9058,
    "start_time": "2021-09-13T11:00:49.686Z"
   },
   {
    "duration": 5,
    "start_time": "2021-09-13T11:01:02.957Z"
   },
   {
    "duration": 4,
    "start_time": "2021-09-13T11:03:27.864Z"
   },
   {
    "duration": 268,
    "start_time": "2021-09-13T11:04:24.165Z"
   },
   {
    "duration": 13,
    "start_time": "2021-09-13T11:33:39.666Z"
   },
   {
    "duration": 237,
    "start_time": "2021-09-13T11:34:29.276Z"
   },
   {
    "duration": 357,
    "start_time": "2021-09-13T11:44:13.160Z"
   },
   {
    "duration": 2192,
    "start_time": "2021-09-13T11:44:52.063Z"
   },
   {
    "duration": 18,
    "start_time": "2021-09-13T11:45:37.509Z"
   },
   {
    "duration": 382,
    "start_time": "2021-09-13T11:47:00.097Z"
   },
   {
    "duration": 26,
    "start_time": "2021-09-13T11:53:43.615Z"
   },
   {
    "duration": 401,
    "start_time": "2021-09-13T11:53:49.093Z"
   },
   {
    "duration": 18,
    "start_time": "2021-09-13T11:54:44.498Z"
   },
   {
    "duration": 402,
    "start_time": "2021-09-13T11:54:59.496Z"
   },
   {
    "duration": 2750,
    "start_time": "2021-09-13T16:32:07.501Z"
   },
   {
    "duration": 60,
    "start_time": "2021-09-13T16:32:10.253Z"
   },
   {
    "duration": 19,
    "start_time": "2021-09-13T16:32:10.317Z"
   },
   {
    "duration": 36,
    "start_time": "2021-09-13T16:32:10.339Z"
   },
   {
    "duration": 22,
    "start_time": "2021-09-13T16:32:10.377Z"
   },
   {
    "duration": 6,
    "start_time": "2021-09-13T16:32:10.402Z"
   },
   {
    "duration": 4846,
    "start_time": "2021-09-13T16:32:10.410Z"
   },
   {
    "duration": 46,
    "start_time": "2021-09-13T16:32:15.260Z"
   },
   {
    "duration": 13,
    "start_time": "2021-09-13T16:32:15.309Z"
   },
   {
    "duration": 12,
    "start_time": "2021-09-13T16:32:15.324Z"
   },
   {
    "duration": 151,
    "start_time": "2021-09-13T16:32:15.339Z"
   },
   {
    "duration": 9,
    "start_time": "2021-09-13T16:32:15.493Z"
   },
   {
    "duration": 18,
    "start_time": "2021-09-13T16:32:15.504Z"
   },
   {
    "duration": 58,
    "start_time": "2021-09-13T16:32:15.524Z"
   },
   {
    "duration": 15,
    "start_time": "2021-09-13T16:32:15.584Z"
   },
   {
    "duration": 1418,
    "start_time": "2021-09-13T16:32:15.603Z"
   },
   {
    "duration": 13,
    "start_time": "2021-09-13T16:32:17.024Z"
   },
   {
    "duration": 8,
    "start_time": "2021-09-13T16:32:17.040Z"
   },
   {
    "duration": 1039,
    "start_time": "2021-09-13T16:32:17.050Z"
   },
   {
    "duration": 22,
    "start_time": "2021-09-13T16:32:18.092Z"
   },
   {
    "duration": 53,
    "start_time": "2021-09-13T16:32:18.116Z"
   },
   {
    "duration": 15,
    "start_time": "2021-09-13T16:32:18.172Z"
   },
   {
    "duration": 40,
    "start_time": "2021-09-13T16:32:18.194Z"
   },
   {
    "duration": 68,
    "start_time": "2021-09-13T16:32:18.238Z"
   },
   {
    "duration": 31,
    "start_time": "2021-09-13T16:32:18.308Z"
   },
   {
    "duration": 11,
    "start_time": "2021-09-13T16:32:18.342Z"
   },
   {
    "duration": 53,
    "start_time": "2021-09-13T16:32:18.356Z"
   },
   {
    "duration": 13,
    "start_time": "2021-09-13T16:32:18.412Z"
   },
   {
    "duration": 959,
    "start_time": "2021-09-13T16:32:18.428Z"
   },
   {
    "duration": 24,
    "start_time": "2021-09-13T16:32:19.390Z"
   },
   {
    "duration": 26,
    "start_time": "2021-09-13T16:32:19.416Z"
   },
   {
    "duration": 26,
    "start_time": "2021-09-13T16:32:19.444Z"
   },
   {
    "duration": 541,
    "start_time": "2021-09-13T16:32:19.473Z"
   },
   {
    "duration": 16,
    "start_time": "2021-09-13T16:32:20.016Z"
   },
   {
    "duration": 568,
    "start_time": "2021-09-13T16:32:20.034Z"
   },
   {
    "duration": 24,
    "start_time": "2021-09-13T16:32:20.605Z"
   },
   {
    "duration": 766,
    "start_time": "2021-09-13T16:32:20.632Z"
   },
   {
    "duration": 83,
    "start_time": "2021-09-13T16:32:21.400Z"
   },
   {
    "duration": 13,
    "start_time": "2021-09-13T16:32:21.485Z"
   },
   {
    "duration": 75,
    "start_time": "2021-09-13T16:32:21.501Z"
   },
   {
    "duration": 21,
    "start_time": "2021-09-13T16:32:21.579Z"
   },
   {
    "duration": 82,
    "start_time": "2021-09-13T16:32:21.602Z"
   },
   {
    "duration": 93,
    "start_time": "2021-09-13T16:32:21.686Z"
   },
   {
    "duration": 15,
    "start_time": "2021-09-13T16:32:21.781Z"
   },
   {
    "duration": 12,
    "start_time": "2021-09-13T16:32:21.798Z"
   },
   {
    "duration": 1397,
    "start_time": "2021-09-13T16:32:21.812Z"
   },
   {
    "duration": 15,
    "start_time": "2021-09-13T16:32:23.211Z"
   },
   {
    "duration": 22,
    "start_time": "2021-09-13T16:32:23.228Z"
   },
   {
    "duration": 31,
    "start_time": "2021-09-13T16:32:23.253Z"
   },
   {
    "duration": 14,
    "start_time": "2021-09-13T16:32:23.286Z"
   },
   {
    "duration": 18,
    "start_time": "2021-09-13T16:32:23.302Z"
   },
   {
    "duration": 8,
    "start_time": "2021-09-13T16:32:23.322Z"
   },
   {
    "duration": 703,
    "start_time": "2021-09-13T16:32:23.332Z"
   },
   {
    "duration": 42,
    "start_time": "2021-09-13T16:32:24.037Z"
   },
   {
    "duration": 12,
    "start_time": "2021-09-13T16:32:24.082Z"
   },
   {
    "duration": 581,
    "start_time": "2021-09-13T16:32:24.096Z"
   },
   {
    "duration": 25,
    "start_time": "2021-09-13T16:32:24.680Z"
   },
   {
    "duration": 436,
    "start_time": "2021-09-13T16:32:24.708Z"
   },
   {
    "duration": 28,
    "start_time": "2021-09-13T16:32:25.146Z"
   },
   {
    "duration": 328,
    "start_time": "2021-09-13T16:32:25.177Z"
   },
   {
    "duration": 16,
    "start_time": "2021-09-13T16:32:25.508Z"
   },
   {
    "duration": 131,
    "start_time": "2021-09-13T17:23:17.941Z"
   },
   {
    "duration": 29,
    "start_time": "2021-09-13T17:23:34.100Z"
   },
   {
    "duration": 6,
    "start_time": "2021-09-13T17:40:56.704Z"
   },
   {
    "duration": 589,
    "start_time": "2021-09-13T17:41:04.671Z"
   },
   {
    "duration": 480,
    "start_time": "2021-09-13T17:41:27.182Z"
   },
   {
    "duration": 13,
    "start_time": "2021-09-13T17:43:02.604Z"
   },
   {
    "duration": 8,
    "start_time": "2021-09-13T17:43:40.154Z"
   },
   {
    "duration": 8,
    "start_time": "2021-09-13T17:43:55.930Z"
   },
   {
    "duration": 405,
    "start_time": "2021-09-13T17:43:58.093Z"
   },
   {
    "duration": 429,
    "start_time": "2021-09-13T17:44:50.380Z"
   },
   {
    "duration": 613,
    "start_time": "2021-09-13T17:45:02.683Z"
   },
   {
    "duration": 715,
    "start_time": "2021-09-13T17:45:31.092Z"
   },
   {
    "duration": 10,
    "start_time": "2021-09-13T17:48:51.079Z"
   },
   {
    "duration": 100,
    "start_time": "2021-09-13T17:48:53.490Z"
   },
   {
    "duration": 455,
    "start_time": "2021-09-13T17:50:29.935Z"
   },
   {
    "duration": 466,
    "start_time": "2021-09-13T17:51:49.224Z"
   },
   {
    "duration": 412,
    "start_time": "2021-09-13T17:52:06.497Z"
   },
   {
    "duration": 645,
    "start_time": "2021-09-13T17:59:53.604Z"
   },
   {
    "duration": 568,
    "start_time": "2021-09-13T18:07:27.143Z"
   },
   {
    "duration": 28,
    "start_time": "2021-09-13T18:08:13.513Z"
   },
   {
    "duration": 105,
    "start_time": "2021-09-13T18:09:14.050Z"
   },
   {
    "duration": 26,
    "start_time": "2021-09-13T18:09:57.745Z"
   },
   {
    "duration": 26,
    "start_time": "2021-09-13T18:12:39.725Z"
   },
   {
    "duration": 316,
    "start_time": "2021-09-13T18:15:36.460Z"
   },
   {
    "duration": 280,
    "start_time": "2021-09-13T18:16:10.106Z"
   },
   {
    "duration": 12,
    "start_time": "2021-09-13T18:16:48.828Z"
   },
   {
    "duration": 647,
    "start_time": "2021-09-13T18:26:26.448Z"
   },
   {
    "duration": 17,
    "start_time": "2021-09-13T18:26:55.704Z"
   },
   {
    "duration": 359,
    "start_time": "2021-09-13T18:26:59.756Z"
   },
   {
    "duration": 4,
    "start_time": "2021-09-13T18:46:51.792Z"
   },
   {
    "duration": 61,
    "start_time": "2021-09-13T18:46:51.799Z"
   },
   {
    "duration": 13,
    "start_time": "2021-09-13T18:46:51.949Z"
   },
   {
    "duration": 21,
    "start_time": "2021-09-13T18:46:51.969Z"
   },
   {
    "duration": 21,
    "start_time": "2021-09-13T18:46:52.063Z"
   },
   {
    "duration": 8,
    "start_time": "2021-09-13T18:46:52.087Z"
   },
   {
    "duration": 4706,
    "start_time": "2021-09-13T18:46:52.186Z"
   },
   {
    "duration": 46,
    "start_time": "2021-09-13T18:46:56.895Z"
   },
   {
    "duration": 29,
    "start_time": "2021-09-13T18:46:56.944Z"
   },
   {
    "duration": 15,
    "start_time": "2021-09-13T18:46:56.976Z"
   },
   {
    "duration": 164,
    "start_time": "2021-09-13T18:46:56.993Z"
   },
   {
    "duration": 15,
    "start_time": "2021-09-13T18:46:57.159Z"
   },
   {
    "duration": 18,
    "start_time": "2021-09-13T18:46:57.177Z"
   },
   {
    "duration": 76,
    "start_time": "2021-09-13T18:46:57.199Z"
   },
   {
    "duration": 12,
    "start_time": "2021-09-13T18:46:57.278Z"
   },
   {
    "duration": 1236,
    "start_time": "2021-09-13T18:46:57.293Z"
   },
   {
    "duration": 12,
    "start_time": "2021-09-13T18:46:58.532Z"
   },
   {
    "duration": 23,
    "start_time": "2021-09-13T18:46:58.546Z"
   },
   {
    "duration": 1009,
    "start_time": "2021-09-13T18:46:58.572Z"
   },
   {
    "duration": 18,
    "start_time": "2021-09-13T18:46:59.583Z"
   },
   {
    "duration": 66,
    "start_time": "2021-09-13T18:46:59.603Z"
   },
   {
    "duration": 16,
    "start_time": "2021-09-13T18:46:59.671Z"
   },
   {
    "duration": 39,
    "start_time": "2021-09-13T18:46:59.690Z"
   },
   {
    "duration": 90,
    "start_time": "2021-09-13T18:46:59.731Z"
   },
   {
    "duration": 45,
    "start_time": "2021-09-13T18:46:59.824Z"
   },
   {
    "duration": 16,
    "start_time": "2021-09-13T18:46:59.872Z"
   },
   {
    "duration": 38,
    "start_time": "2021-09-13T18:46:59.890Z"
   },
   {
    "duration": 19,
    "start_time": "2021-09-13T18:46:59.930Z"
   },
   {
    "duration": 524,
    "start_time": "2021-09-13T18:46:59.967Z"
   },
   {
    "duration": 24,
    "start_time": "2021-09-13T18:47:00.494Z"
   },
   {
    "duration": 52,
    "start_time": "2021-09-13T18:47:00.520Z"
   },
   {
    "duration": 6119,
    "start_time": "2021-09-13T18:47:00.574Z"
   },
   {
    "duration": -2082,
    "start_time": "2021-09-13T18:47:08.777Z"
   },
   {
    "duration": -2094,
    "start_time": "2021-09-13T18:47:08.791Z"
   },
   {
    "duration": -2099,
    "start_time": "2021-09-13T18:47:08.797Z"
   },
   {
    "duration": -2102,
    "start_time": "2021-09-13T18:47:08.801Z"
   },
   {
    "duration": -2106,
    "start_time": "2021-09-13T18:47:08.807Z"
   },
   {
    "duration": -2111,
    "start_time": "2021-09-13T18:47:08.813Z"
   },
   {
    "duration": -2115,
    "start_time": "2021-09-13T18:47:08.819Z"
   },
   {
    "duration": -2119,
    "start_time": "2021-09-13T18:47:08.824Z"
   },
   {
    "duration": -2123,
    "start_time": "2021-09-13T18:47:08.830Z"
   },
   {
    "duration": -2127,
    "start_time": "2021-09-13T18:47:08.835Z"
   },
   {
    "duration": -2131,
    "start_time": "2021-09-13T18:47:08.840Z"
   },
   {
    "duration": -2133,
    "start_time": "2021-09-13T18:47:08.844Z"
   },
   {
    "duration": -2137,
    "start_time": "2021-09-13T18:47:08.849Z"
   },
   {
    "duration": -2141,
    "start_time": "2021-09-13T18:47:08.854Z"
   },
   {
    "duration": -2144,
    "start_time": "2021-09-13T18:47:08.859Z"
   },
   {
    "duration": -2161,
    "start_time": "2021-09-13T18:47:08.877Z"
   },
   {
    "duration": -2168,
    "start_time": "2021-09-13T18:47:08.886Z"
   },
   {
    "duration": -2172,
    "start_time": "2021-09-13T18:47:08.891Z"
   },
   {
    "duration": -2177,
    "start_time": "2021-09-13T18:47:08.897Z"
   },
   {
    "duration": -2181,
    "start_time": "2021-09-13T18:47:08.902Z"
   },
   {
    "duration": -2189,
    "start_time": "2021-09-13T18:47:08.911Z"
   },
   {
    "duration": -2193,
    "start_time": "2021-09-13T18:47:08.917Z"
   },
   {
    "duration": -2199,
    "start_time": "2021-09-13T18:47:08.924Z"
   },
   {
    "duration": -2203,
    "start_time": "2021-09-13T18:47:08.929Z"
   },
   {
    "duration": -2208,
    "start_time": "2021-09-13T18:47:08.935Z"
   },
   {
    "duration": -2212,
    "start_time": "2021-09-13T18:47:08.940Z"
   },
   {
    "duration": -2219,
    "start_time": "2021-09-13T18:47:08.949Z"
   },
   {
    "duration": -2188,
    "start_time": "2021-09-13T18:47:08.955Z"
   },
   {
    "duration": -2193,
    "start_time": "2021-09-13T18:47:08.961Z"
   },
   {
    "duration": -2195,
    "start_time": "2021-09-13T18:47:08.965Z"
   },
   {
    "duration": -2199,
    "start_time": "2021-09-13T18:47:08.970Z"
   },
   {
    "duration": -2215,
    "start_time": "2021-09-13T18:47:08.987Z"
   },
   {
    "duration": 6,
    "start_time": "2021-09-13T18:49:23.775Z"
   },
   {
    "duration": 425,
    "start_time": "2021-09-13T18:49:23.784Z"
   },
   {
    "duration": 9,
    "start_time": "2021-09-13T18:49:24.212Z"
   },
   {
    "duration": 446,
    "start_time": "2021-09-13T18:49:24.224Z"
   },
   {
    "duration": 17,
    "start_time": "2021-09-13T18:49:24.672Z"
   },
   {
    "duration": 345,
    "start_time": "2021-09-13T18:49:24.692Z"
   },
   {
    "duration": 37,
    "start_time": "2021-09-13T18:49:25.041Z"
   },
   {
    "duration": 12,
    "start_time": "2021-09-13T18:49:25.081Z"
   },
   {
    "duration": 30,
    "start_time": "2021-09-13T18:49:25.096Z"
   },
   {
    "duration": 42,
    "start_time": "2021-09-13T18:49:25.128Z"
   },
   {
    "duration": 21,
    "start_time": "2021-09-13T18:49:25.172Z"
   },
   {
    "duration": 20,
    "start_time": "2021-09-13T18:49:25.195Z"
   },
   {
    "duration": 60,
    "start_time": "2021-09-13T18:49:25.217Z"
   },
   {
    "duration": 29,
    "start_time": "2021-09-13T18:49:25.280Z"
   },
   {
    "duration": 15,
    "start_time": "2021-09-13T18:49:25.311Z"
   },
   {
    "duration": 40,
    "start_time": "2021-09-13T18:49:25.329Z"
   },
   {
    "duration": 1218,
    "start_time": "2021-09-13T18:49:25.372Z"
   },
   {
    "duration": 15,
    "start_time": "2021-09-13T18:49:26.592Z"
   },
   {
    "duration": 22,
    "start_time": "2021-09-13T18:49:26.611Z"
   },
   {
    "duration": 47,
    "start_time": "2021-09-13T18:49:26.636Z"
   },
   {
    "duration": 26,
    "start_time": "2021-09-13T18:49:26.685Z"
   },
   {
    "duration": 18,
    "start_time": "2021-09-13T18:49:26.713Z"
   },
   {
    "duration": 35,
    "start_time": "2021-09-13T18:49:26.733Z"
   },
   {
    "duration": 9,
    "start_time": "2021-09-13T18:49:26.770Z"
   },
   {
    "duration": 766,
    "start_time": "2021-09-13T18:49:26.782Z"
   },
   {
    "duration": 42,
    "start_time": "2021-09-13T18:49:27.551Z"
   },
   {
    "duration": 7,
    "start_time": "2021-09-13T18:49:27.595Z"
   },
   {
    "duration": 398,
    "start_time": "2021-09-13T18:49:27.604Z"
   },
   {
    "duration": 22,
    "start_time": "2021-09-13T18:49:28.005Z"
   },
   {
    "duration": 414,
    "start_time": "2021-09-13T18:49:28.029Z"
   },
   {
    "duration": 35,
    "start_time": "2021-09-13T18:49:28.445Z"
   },
   {
    "duration": 326,
    "start_time": "2021-09-13T18:49:28.483Z"
   },
   {
    "duration": 16,
    "start_time": "2021-09-13T18:49:28.811Z"
   },
   {
    "duration": 7,
    "start_time": "2021-09-13T18:50:56.499Z"
   },
   {
    "duration": 23,
    "start_time": "2021-09-13T18:51:20.936Z"
   },
   {
    "duration": 11,
    "start_time": "2021-09-13T18:53:55.016Z"
   },
   {
    "duration": 279,
    "start_time": "2021-09-13T18:54:15.023Z"
   },
   {
    "duration": 283,
    "start_time": "2021-09-13T18:54:55.537Z"
   },
   {
    "duration": 5,
    "start_time": "2021-09-13T18:55:29.782Z"
   },
   {
    "duration": 62,
    "start_time": "2021-09-13T18:55:29.789Z"
   },
   {
    "duration": 17,
    "start_time": "2021-09-13T18:55:29.854Z"
   },
   {
    "duration": 17,
    "start_time": "2021-09-13T18:55:29.873Z"
   },
   {
    "duration": 254,
    "start_time": "2021-09-13T18:55:29.893Z"
   },
   {
    "duration": 19,
    "start_time": "2021-09-13T18:55:30.150Z"
   },
   {
    "duration": 4829,
    "start_time": "2021-09-13T18:55:30.173Z"
   },
   {
    "duration": 62,
    "start_time": "2021-09-13T18:55:35.005Z"
   },
   {
    "duration": 8,
    "start_time": "2021-09-13T18:55:35.070Z"
   },
   {
    "duration": 17,
    "start_time": "2021-09-13T18:55:35.080Z"
   },
   {
    "duration": 174,
    "start_time": "2021-09-13T18:55:35.100Z"
   },
   {
    "duration": 10,
    "start_time": "2021-09-13T18:55:35.276Z"
   },
   {
    "duration": 15,
    "start_time": "2021-09-13T18:55:35.288Z"
   },
   {
    "duration": 80,
    "start_time": "2021-09-13T18:55:35.306Z"
   },
   {
    "duration": 11,
    "start_time": "2021-09-13T18:55:35.389Z"
   },
   {
    "duration": 1229,
    "start_time": "2021-09-13T18:55:35.402Z"
   },
   {
    "duration": 12,
    "start_time": "2021-09-13T18:55:36.633Z"
   },
   {
    "duration": 20,
    "start_time": "2021-09-13T18:55:36.647Z"
   },
   {
    "duration": 998,
    "start_time": "2021-09-13T18:55:36.672Z"
   },
   {
    "duration": 18,
    "start_time": "2021-09-13T18:55:37.673Z"
   },
   {
    "duration": 45,
    "start_time": "2021-09-13T18:55:37.694Z"
   },
   {
    "duration": 15,
    "start_time": "2021-09-13T18:55:37.766Z"
   },
   {
    "duration": 37,
    "start_time": "2021-09-13T18:55:37.783Z"
   },
   {
    "duration": 82,
    "start_time": "2021-09-13T18:55:37.823Z"
   },
   {
    "duration": 34,
    "start_time": "2021-09-13T18:55:37.907Z"
   },
   {
    "duration": 30,
    "start_time": "2021-09-13T18:55:37.943Z"
   },
   {
    "duration": 39,
    "start_time": "2021-09-13T18:55:37.975Z"
   },
   {
    "duration": 13,
    "start_time": "2021-09-13T18:55:38.016Z"
   },
   {
    "duration": 436,
    "start_time": "2021-09-13T18:55:38.031Z"
   },
   {
    "duration": 26,
    "start_time": "2021-09-13T18:55:38.470Z"
   },
   {
    "duration": 28,
    "start_time": "2021-09-13T18:55:38.499Z"
   },
   {
    "duration": 42,
    "start_time": "2021-09-13T18:55:38.530Z"
   },
   {
    "duration": 415,
    "start_time": "2021-09-13T18:55:38.575Z"
   },
   {
    "duration": 10,
    "start_time": "2021-09-13T18:55:38.993Z"
   },
   {
    "duration": 444,
    "start_time": "2021-09-13T18:55:39.005Z"
   },
   {
    "duration": 25,
    "start_time": "2021-09-13T18:55:39.452Z"
   },
   {
    "duration": 391,
    "start_time": "2021-09-13T18:55:39.479Z"
   },
   {
    "duration": 25,
    "start_time": "2021-09-13T18:55:39.873Z"
   },
   {
    "duration": 12,
    "start_time": "2021-09-13T18:55:39.900Z"
   },
   {
    "duration": 62,
    "start_time": "2021-09-13T18:55:39.915Z"
   },
   {
    "duration": 13,
    "start_time": "2021-09-13T18:55:39.980Z"
   },
   {
    "duration": 21,
    "start_time": "2021-09-13T18:55:39.996Z"
   },
   {
    "duration": 50,
    "start_time": "2021-09-13T18:55:40.019Z"
   },
   {
    "duration": 26,
    "start_time": "2021-09-13T18:55:40.072Z"
   },
   {
    "duration": 233,
    "start_time": "2021-09-13T18:55:40.101Z"
   },
   {
    "duration": 15,
    "start_time": "2021-09-13T18:55:40.337Z"
   },
   {
    "duration": 6,
    "start_time": "2021-09-13T18:55:40.368Z"
   },
   {
    "duration": 1101,
    "start_time": "2021-09-13T18:55:40.376Z"
   },
   {
    "duration": 15,
    "start_time": "2021-09-13T18:55:41.480Z"
   },
   {
    "duration": 23,
    "start_time": "2021-09-13T18:55:41.497Z"
   },
   {
    "duration": 58,
    "start_time": "2021-09-13T18:55:41.522Z"
   },
   {
    "duration": 13,
    "start_time": "2021-09-13T18:55:41.583Z"
   },
   {
    "duration": 13,
    "start_time": "2021-09-13T18:55:41.599Z"
   },
   {
    "duration": 270,
    "start_time": "2021-09-13T18:55:41.614Z"
   },
   {
    "duration": -2049,
    "start_time": "2021-09-13T18:55:43.935Z"
   },
   {
    "duration": -2052,
    "start_time": "2021-09-13T18:55:43.940Z"
   },
   {
    "duration": -2058,
    "start_time": "2021-09-13T18:55:43.947Z"
   },
   {
    "duration": -2061,
    "start_time": "2021-09-13T18:55:43.952Z"
   },
   {
    "duration": -2065,
    "start_time": "2021-09-13T18:55:43.957Z"
   },
   {
    "duration": -2069,
    "start_time": "2021-09-13T18:55:43.963Z"
   },
   {
    "duration": -2073,
    "start_time": "2021-09-13T18:55:43.968Z"
   },
   {
    "duration": -2077,
    "start_time": "2021-09-13T18:55:43.973Z"
   },
   {
    "duration": -2080,
    "start_time": "2021-09-13T18:55:43.978Z"
   },
   {
    "duration": -2084,
    "start_time": "2021-09-13T18:55:43.983Z"
   },
   {
    "duration": 6,
    "start_time": "2021-09-13T18:56:37.195Z"
   },
   {
    "duration": 24,
    "start_time": "2021-09-13T18:57:10.503Z"
   },
   {
    "duration": 242,
    "start_time": "2021-09-13T18:57:48.722Z"
   },
   {
    "duration": 274,
    "start_time": "2021-09-13T18:58:18.504Z"
   },
   {
    "duration": 288,
    "start_time": "2021-09-13T18:58:30.176Z"
   },
   {
    "duration": 5,
    "start_time": "2021-09-13T18:58:38.336Z"
   },
   {
    "duration": 59,
    "start_time": "2021-09-13T18:58:38.344Z"
   },
   {
    "duration": 14,
    "start_time": "2021-09-13T18:58:38.406Z"
   },
   {
    "duration": 12,
    "start_time": "2021-09-13T18:58:38.423Z"
   },
   {
    "duration": 23,
    "start_time": "2021-09-13T18:58:38.468Z"
   },
   {
    "duration": 9,
    "start_time": "2021-09-13T18:58:38.494Z"
   },
   {
    "duration": 4768,
    "start_time": "2021-09-13T18:58:38.507Z"
   },
   {
    "duration": 46,
    "start_time": "2021-09-13T18:58:43.278Z"
   },
   {
    "duration": 8,
    "start_time": "2021-09-13T18:58:43.327Z"
   },
   {
    "duration": 35,
    "start_time": "2021-09-13T18:58:43.338Z"
   },
   {
    "duration": 167,
    "start_time": "2021-09-13T18:58:43.375Z"
   },
   {
    "duration": 22,
    "start_time": "2021-09-13T18:58:43.544Z"
   },
   {
    "duration": 15,
    "start_time": "2021-09-13T18:58:43.569Z"
   },
   {
    "duration": 54,
    "start_time": "2021-09-13T18:58:43.586Z"
   },
   {
    "duration": 34,
    "start_time": "2021-09-13T18:58:43.642Z"
   },
   {
    "duration": 1275,
    "start_time": "2021-09-13T18:58:43.679Z"
   },
   {
    "duration": 21,
    "start_time": "2021-09-13T18:58:44.956Z"
   },
   {
    "duration": 16,
    "start_time": "2021-09-13T18:58:44.979Z"
   },
   {
    "duration": 1038,
    "start_time": "2021-09-13T18:58:45.000Z"
   },
   {
    "duration": 27,
    "start_time": "2021-09-13T18:58:46.041Z"
   },
   {
    "duration": 50,
    "start_time": "2021-09-13T18:58:46.071Z"
   },
   {
    "duration": 51,
    "start_time": "2021-09-13T18:58:46.124Z"
   },
   {
    "duration": 42,
    "start_time": "2021-09-13T18:58:46.178Z"
   },
   {
    "duration": 87,
    "start_time": "2021-09-13T18:58:46.223Z"
   },
   {
    "duration": 31,
    "start_time": "2021-09-13T18:58:46.313Z"
   },
   {
    "duration": 22,
    "start_time": "2021-09-13T18:58:46.347Z"
   },
   {
    "duration": 35,
    "start_time": "2021-09-13T18:58:46.372Z"
   },
   {
    "duration": 13,
    "start_time": "2021-09-13T18:58:46.410Z"
   },
   {
    "duration": 440,
    "start_time": "2021-09-13T18:58:46.426Z"
   },
   {
    "duration": 23,
    "start_time": "2021-09-13T18:58:46.869Z"
   },
   {
    "duration": 28,
    "start_time": "2021-09-13T18:58:46.895Z"
   },
   {
    "duration": 44,
    "start_time": "2021-09-13T18:58:46.925Z"
   },
   {
    "duration": 416,
    "start_time": "2021-09-13T18:58:46.972Z"
   },
   {
    "duration": 10,
    "start_time": "2021-09-13T18:58:47.391Z"
   },
   {
    "duration": 459,
    "start_time": "2021-09-13T18:58:47.404Z"
   },
   {
    "duration": 18,
    "start_time": "2021-09-13T18:58:47.868Z"
   },
   {
    "duration": 542,
    "start_time": "2021-09-13T18:58:47.888Z"
   },
   {
    "duration": 38,
    "start_time": "2021-09-13T18:58:48.432Z"
   },
   {
    "duration": 11,
    "start_time": "2021-09-13T18:58:48.473Z"
   },
   {
    "duration": 31,
    "start_time": "2021-09-13T18:58:48.486Z"
   },
   {
    "duration": 12,
    "start_time": "2021-09-13T18:58:48.519Z"
   },
   {
    "duration": 22,
    "start_time": "2021-09-13T18:58:48.568Z"
   },
   {
    "duration": 21,
    "start_time": "2021-09-13T18:58:48.592Z"
   },
   {
    "duration": 63,
    "start_time": "2021-09-13T18:58:48.615Z"
   },
   {
    "duration": 30,
    "start_time": "2021-09-13T18:58:48.681Z"
   },
   {
    "duration": 16,
    "start_time": "2021-09-13T18:58:48.715Z"
   },
   {
    "duration": 8,
    "start_time": "2021-09-13T18:58:48.768Z"
   },
   {
    "duration": 849,
    "start_time": "2021-09-13T18:58:48.778Z"
   },
   {
    "duration": 14,
    "start_time": "2021-09-13T18:58:49.629Z"
   },
   {
    "duration": 24,
    "start_time": "2021-09-13T18:58:49.646Z"
   },
   {
    "duration": 30,
    "start_time": "2021-09-13T18:58:49.673Z"
   },
   {
    "duration": 19,
    "start_time": "2021-09-13T18:58:49.705Z"
   },
   {
    "duration": 25,
    "start_time": "2021-09-13T18:58:49.727Z"
   },
   {
    "duration": 19,
    "start_time": "2021-09-13T18:58:49.767Z"
   },
   {
    "duration": 9,
    "start_time": "2021-09-13T18:58:49.793Z"
   },
   {
    "duration": 619,
    "start_time": "2021-09-13T18:58:49.804Z"
   },
   {
    "duration": 52,
    "start_time": "2021-09-13T18:58:50.425Z"
   },
   {
    "duration": 15,
    "start_time": "2021-09-13T18:58:50.480Z"
   },
   {
    "duration": 421,
    "start_time": "2021-09-13T18:58:50.497Z"
   },
   {
    "duration": 22,
    "start_time": "2021-09-13T18:58:50.920Z"
   },
   {
    "duration": 609,
    "start_time": "2021-09-13T18:58:50.945Z"
   },
   {
    "duration": 25,
    "start_time": "2021-09-13T18:58:51.556Z"
   },
   {
    "duration": 358,
    "start_time": "2021-09-13T18:58:51.584Z"
   },
   {
    "duration": 30,
    "start_time": "2021-09-13T18:58:51.946Z"
   },
   {
    "duration": 286,
    "start_time": "2021-09-13T18:59:19.657Z"
   },
   {
    "duration": 24,
    "start_time": "2021-09-13T19:00:08.418Z"
   },
   {
    "duration": 285,
    "start_time": "2021-09-13T19:03:57.603Z"
   },
   {
    "duration": 249,
    "start_time": "2021-09-13T19:04:42.588Z"
   },
   {
    "duration": 5,
    "start_time": "2021-09-13T19:04:54.233Z"
   },
   {
    "duration": 61,
    "start_time": "2021-09-13T19:04:54.241Z"
   },
   {
    "duration": 13,
    "start_time": "2021-09-13T19:04:54.305Z"
   },
   {
    "duration": 13,
    "start_time": "2021-09-13T19:04:54.321Z"
   },
   {
    "duration": 27,
    "start_time": "2021-09-13T19:04:54.368Z"
   },
   {
    "duration": 7,
    "start_time": "2021-09-13T19:04:54.397Z"
   },
   {
    "duration": 4822,
    "start_time": "2021-09-13T19:04:54.407Z"
   },
   {
    "duration": 59,
    "start_time": "2021-09-13T19:04:59.233Z"
   },
   {
    "duration": 8,
    "start_time": "2021-09-13T19:04:59.296Z"
   },
   {
    "duration": 13,
    "start_time": "2021-09-13T19:04:59.307Z"
   },
   {
    "duration": 180,
    "start_time": "2021-09-13T19:04:59.323Z"
   },
   {
    "duration": 12,
    "start_time": "2021-09-13T19:04:59.505Z"
   },
   {
    "duration": 15,
    "start_time": "2021-09-13T19:04:59.519Z"
   },
   {
    "duration": 75,
    "start_time": "2021-09-13T19:04:59.537Z"
   },
   {
    "duration": 13,
    "start_time": "2021-09-13T19:04:59.615Z"
   },
   {
    "duration": 1289,
    "start_time": "2021-09-13T19:04:59.630Z"
   },
   {
    "duration": 13,
    "start_time": "2021-09-13T19:05:00.921Z"
   },
   {
    "duration": 24,
    "start_time": "2021-09-13T19:05:00.936Z"
   },
   {
    "duration": 1179,
    "start_time": "2021-09-13T19:05:00.963Z"
   },
   {
    "duration": 28,
    "start_time": "2021-09-13T19:05:02.144Z"
   },
   {
    "duration": 73,
    "start_time": "2021-09-13T19:05:02.175Z"
   },
   {
    "duration": 15,
    "start_time": "2021-09-13T19:05:02.250Z"
   },
   {
    "duration": 42,
    "start_time": "2021-09-13T19:05:02.271Z"
   },
   {
    "duration": 72,
    "start_time": "2021-09-13T19:05:02.317Z"
   },
   {
    "duration": 31,
    "start_time": "2021-09-13T19:05:02.392Z"
   },
   {
    "duration": 26,
    "start_time": "2021-09-13T19:05:02.425Z"
   },
   {
    "duration": 32,
    "start_time": "2021-09-13T19:05:02.467Z"
   },
   {
    "duration": 28,
    "start_time": "2021-09-13T19:05:02.501Z"
   },
   {
    "duration": 397,
    "start_time": "2021-09-13T19:05:02.532Z"
   },
   {
    "duration": 38,
    "start_time": "2021-09-13T19:05:02.931Z"
   },
   {
    "duration": 27,
    "start_time": "2021-09-13T19:05:02.971Z"
   },
   {
    "duration": 19,
    "start_time": "2021-09-13T19:05:03.001Z"
   },
   {
    "duration": 587,
    "start_time": "2021-09-13T19:05:03.023Z"
   },
   {
    "duration": 9,
    "start_time": "2021-09-13T19:05:03.612Z"
   },
   {
    "duration": 451,
    "start_time": "2021-09-13T19:05:03.624Z"
   },
   {
    "duration": 17,
    "start_time": "2021-09-13T19:05:04.078Z"
   },
   {
    "duration": 369,
    "start_time": "2021-09-13T19:05:04.098Z"
   },
   {
    "duration": 25,
    "start_time": "2021-09-13T19:05:04.469Z"
   },
   {
    "duration": 14,
    "start_time": "2021-09-13T19:05:04.497Z"
   },
   {
    "duration": 56,
    "start_time": "2021-09-13T19:05:04.513Z"
   },
   {
    "duration": 12,
    "start_time": "2021-09-13T19:05:04.572Z"
   },
   {
    "duration": 37,
    "start_time": "2021-09-13T19:05:04.586Z"
   },
   {
    "duration": 46,
    "start_time": "2021-09-13T19:05:04.626Z"
   },
   {
    "duration": 27,
    "start_time": "2021-09-13T19:05:04.674Z"
   },
   {
    "duration": 40,
    "start_time": "2021-09-13T19:05:04.704Z"
   },
   {
    "duration": 33,
    "start_time": "2021-09-13T19:05:04.747Z"
   },
   {
    "duration": 9,
    "start_time": "2021-09-13T19:05:04.783Z"
   },
   {
    "duration": 1032,
    "start_time": "2021-09-13T19:05:04.795Z"
   },
   {
    "duration": 14,
    "start_time": "2021-09-13T19:05:05.829Z"
   },
   {
    "duration": 24,
    "start_time": "2021-09-13T19:05:05.845Z"
   },
   {
    "duration": 24,
    "start_time": "2021-09-13T19:05:05.871Z"
   },
   {
    "duration": 12,
    "start_time": "2021-09-13T19:05:05.898Z"
   },
   {
    "duration": 13,
    "start_time": "2021-09-13T19:05:05.913Z"
   },
   {
    "duration": 40,
    "start_time": "2021-09-13T19:05:05.929Z"
   },
   {
    "duration": 258,
    "start_time": "2021-09-13T19:05:05.972Z"
   },
   {
    "duration": -1998,
    "start_time": "2021-09-13T19:05:08.231Z"
   },
   {
    "duration": -2003,
    "start_time": "2021-09-13T19:05:08.237Z"
   },
   {
    "duration": -2007,
    "start_time": "2021-09-13T19:05:08.243Z"
   },
   {
    "duration": -2011,
    "start_time": "2021-09-13T19:05:08.248Z"
   },
   {
    "duration": -2029,
    "start_time": "2021-09-13T19:05:08.268Z"
   },
   {
    "duration": -2034,
    "start_time": "2021-09-13T19:05:08.274Z"
   },
   {
    "duration": -2039,
    "start_time": "2021-09-13T19:05:08.281Z"
   },
   {
    "duration": -2046,
    "start_time": "2021-09-13T19:05:08.289Z"
   },
   {
    "duration": -2051,
    "start_time": "2021-09-13T19:05:08.295Z"
   },
   {
    "duration": -2057,
    "start_time": "2021-09-13T19:05:08.303Z"
   },
   {
    "duration": 23,
    "start_time": "2021-09-13T19:06:21.961Z"
   },
   {
    "duration": 265,
    "start_time": "2021-09-13T19:07:40.139Z"
   },
   {
    "duration": 9,
    "start_time": "2021-09-13T19:09:14.864Z"
   },
   {
    "duration": 265,
    "start_time": "2021-09-13T19:09:59.055Z"
   },
   {
    "duration": 6,
    "start_time": "2021-09-13T19:10:21.282Z"
   },
   {
    "duration": 61,
    "start_time": "2021-09-13T19:10:21.290Z"
   },
   {
    "duration": 19,
    "start_time": "2021-09-13T19:10:21.354Z"
   },
   {
    "duration": 18,
    "start_time": "2021-09-13T19:10:21.376Z"
   },
   {
    "duration": 23,
    "start_time": "2021-09-13T19:10:21.397Z"
   },
   {
    "duration": 45,
    "start_time": "2021-09-13T19:10:21.422Z"
   },
   {
    "duration": 4776,
    "start_time": "2021-09-13T19:10:21.470Z"
   },
   {
    "duration": 57,
    "start_time": "2021-09-13T19:10:26.249Z"
   },
   {
    "duration": 8,
    "start_time": "2021-09-13T19:10:26.310Z"
   },
   {
    "duration": 13,
    "start_time": "2021-09-13T19:10:26.321Z"
   },
   {
    "duration": 187,
    "start_time": "2021-09-13T19:10:26.337Z"
   },
   {
    "duration": 11,
    "start_time": "2021-09-13T19:10:26.526Z"
   },
   {
    "duration": 34,
    "start_time": "2021-09-13T19:10:26.539Z"
   },
   {
    "duration": 56,
    "start_time": "2021-09-13T19:10:26.575Z"
   },
   {
    "duration": 37,
    "start_time": "2021-09-13T19:10:26.633Z"
   },
   {
    "duration": 1258,
    "start_time": "2021-09-13T19:10:26.672Z"
   },
   {
    "duration": 13,
    "start_time": "2021-09-13T19:10:27.932Z"
   },
   {
    "duration": 21,
    "start_time": "2021-09-13T19:10:27.948Z"
   },
   {
    "duration": 1037,
    "start_time": "2021-09-13T19:10:27.972Z"
   },
   {
    "duration": 18,
    "start_time": "2021-09-13T19:10:29.011Z"
   },
   {
    "duration": 67,
    "start_time": "2021-09-13T19:10:29.031Z"
   },
   {
    "duration": 17,
    "start_time": "2021-09-13T19:10:29.101Z"
   },
   {
    "duration": 59,
    "start_time": "2021-09-13T19:10:29.120Z"
   },
   {
    "duration": 55,
    "start_time": "2021-09-13T19:10:29.182Z"
   },
   {
    "duration": 47,
    "start_time": "2021-09-13T19:10:29.239Z"
   },
   {
    "duration": 10,
    "start_time": "2021-09-13T19:10:29.288Z"
   },
   {
    "duration": 29,
    "start_time": "2021-09-13T19:10:29.305Z"
   },
   {
    "duration": 9,
    "start_time": "2021-09-13T19:10:29.369Z"
   },
   {
    "duration": 391,
    "start_time": "2021-09-13T19:10:29.380Z"
   },
   {
    "duration": 25,
    "start_time": "2021-09-13T19:10:29.773Z"
   },
   {
    "duration": 27,
    "start_time": "2021-09-13T19:10:29.800Z"
   },
   {
    "duration": 42,
    "start_time": "2021-09-13T19:10:29.829Z"
   },
   {
    "duration": 568,
    "start_time": "2021-09-13T19:10:29.873Z"
   },
   {
    "duration": 25,
    "start_time": "2021-09-13T19:10:30.443Z"
   },
   {
    "duration": 439,
    "start_time": "2021-09-13T19:10:30.471Z"
   },
   {
    "duration": 16,
    "start_time": "2021-09-13T19:10:30.912Z"
   },
   {
    "duration": 352,
    "start_time": "2021-09-13T19:10:30.931Z"
   },
   {
    "duration": 25,
    "start_time": "2021-09-13T19:10:31.285Z"
   },
   {
    "duration": 10,
    "start_time": "2021-09-13T19:10:31.313Z"
   },
   {
    "duration": 64,
    "start_time": "2021-09-13T19:10:31.326Z"
   },
   {
    "duration": 13,
    "start_time": "2021-09-13T19:10:31.392Z"
   },
   {
    "duration": 23,
    "start_time": "2021-09-13T19:10:31.407Z"
   },
   {
    "duration": 53,
    "start_time": "2021-09-13T19:10:31.432Z"
   },
   {
    "duration": 49,
    "start_time": "2021-09-13T19:10:31.487Z"
   },
   {
    "duration": 48,
    "start_time": "2021-09-13T19:10:31.539Z"
   },
   {
    "duration": 52,
    "start_time": "2021-09-13T19:10:31.590Z"
   },
   {
    "duration": 25,
    "start_time": "2021-09-13T19:10:31.645Z"
   },
   {
    "duration": 1193,
    "start_time": "2021-09-13T19:10:31.672Z"
   },
   {
    "duration": 13,
    "start_time": "2021-09-13T19:10:32.867Z"
   },
   {
    "duration": 26,
    "start_time": "2021-09-13T19:10:32.883Z"
   },
   {
    "duration": 39,
    "start_time": "2021-09-13T19:10:32.911Z"
   },
   {
    "duration": 23,
    "start_time": "2021-09-13T19:10:32.953Z"
   },
   {
    "duration": 20,
    "start_time": "2021-09-13T19:10:32.978Z"
   },
   {
    "duration": 260,
    "start_time": "2021-09-13T19:10:33.000Z"
   },
   {
    "duration": -2089,
    "start_time": "2021-09-13T19:10:35.351Z"
   },
   {
    "duration": -2094,
    "start_time": "2021-09-13T19:10:35.358Z"
   },
   {
    "duration": -2144,
    "start_time": "2021-09-13T19:10:35.409Z"
   },
   {
    "duration": -2153,
    "start_time": "2021-09-13T19:10:35.420Z"
   },
   {
    "duration": -2157,
    "start_time": "2021-09-13T19:10:35.426Z"
   },
   {
    "duration": -2163,
    "start_time": "2021-09-13T19:10:35.434Z"
   },
   {
    "duration": -2168,
    "start_time": "2021-09-13T19:10:35.440Z"
   },
   {
    "duration": -2172,
    "start_time": "2021-09-13T19:10:35.446Z"
   },
   {
    "duration": -2176,
    "start_time": "2021-09-13T19:10:35.451Z"
   },
   {
    "duration": -2179,
    "start_time": "2021-09-13T19:10:35.456Z"
   },
   {
    "duration": -2184,
    "start_time": "2021-09-13T19:10:35.462Z"
   },
   {
    "duration": 2042,
    "start_time": "2021-09-13T19:11:29.403Z"
   },
   {
    "duration": 59,
    "start_time": "2021-09-13T19:11:31.448Z"
   },
   {
    "duration": 17,
    "start_time": "2021-09-13T19:11:31.510Z"
   },
   {
    "duration": 32,
    "start_time": "2021-09-13T19:11:31.530Z"
   },
   {
    "duration": 37,
    "start_time": "2021-09-13T19:11:31.567Z"
   },
   {
    "duration": 15,
    "start_time": "2021-09-13T19:11:31.607Z"
   },
   {
    "duration": 4799,
    "start_time": "2021-09-13T19:11:31.625Z"
   },
   {
    "duration": 55,
    "start_time": "2021-09-13T19:11:36.430Z"
   },
   {
    "duration": 8,
    "start_time": "2021-09-13T19:11:36.488Z"
   },
   {
    "duration": 16,
    "start_time": "2021-09-13T19:11:36.498Z"
   },
   {
    "duration": 179,
    "start_time": "2021-09-13T19:11:36.517Z"
   },
   {
    "duration": 10,
    "start_time": "2021-09-13T19:11:36.698Z"
   },
   {
    "duration": 26,
    "start_time": "2021-09-13T19:11:36.710Z"
   },
   {
    "duration": 64,
    "start_time": "2021-09-13T19:11:36.739Z"
   },
   {
    "duration": 12,
    "start_time": "2021-09-13T19:11:36.806Z"
   },
   {
    "duration": 1264,
    "start_time": "2021-09-13T19:11:36.821Z"
   },
   {
    "duration": 13,
    "start_time": "2021-09-13T19:11:38.088Z"
   },
   {
    "duration": 9,
    "start_time": "2021-09-13T19:11:38.104Z"
   },
   {
    "duration": 1037,
    "start_time": "2021-09-13T19:11:38.115Z"
   },
   {
    "duration": 30,
    "start_time": "2021-09-13T19:11:39.154Z"
   },
   {
    "duration": 44,
    "start_time": "2021-09-13T19:11:39.186Z"
   },
   {
    "duration": 35,
    "start_time": "2021-09-13T19:11:39.232Z"
   },
   {
    "duration": 38,
    "start_time": "2021-09-13T19:11:39.274Z"
   },
   {
    "duration": 79,
    "start_time": "2021-09-13T19:11:39.315Z"
   },
   {
    "duration": 30,
    "start_time": "2021-09-13T19:11:39.396Z"
   },
   {
    "duration": 21,
    "start_time": "2021-09-13T19:11:39.429Z"
   },
   {
    "duration": 28,
    "start_time": "2021-09-13T19:11:39.468Z"
   },
   {
    "duration": 19,
    "start_time": "2021-09-13T19:11:39.499Z"
   },
   {
    "duration": 930,
    "start_time": "2021-09-13T19:11:39.520Z"
   },
   {
    "duration": 24,
    "start_time": "2021-09-13T19:11:40.468Z"
   },
   {
    "duration": 77,
    "start_time": "2021-09-13T19:11:40.494Z"
   },
   {
    "duration": 5,
    "start_time": "2021-09-13T19:11:40.573Z"
   },
   {
    "duration": 637,
    "start_time": "2021-09-13T19:11:40.581Z"
   },
   {
    "duration": 9,
    "start_time": "2021-09-13T19:11:41.220Z"
   },
   {
    "duration": 447,
    "start_time": "2021-09-13T19:11:41.232Z"
   },
   {
    "duration": 17,
    "start_time": "2021-09-13T19:11:41.682Z"
   },
   {
    "duration": 357,
    "start_time": "2021-09-13T19:11:41.701Z"
   },
   {
    "duration": 24,
    "start_time": "2021-09-13T19:11:42.068Z"
   },
   {
    "duration": 11,
    "start_time": "2021-09-13T19:11:42.094Z"
   },
   {
    "duration": 62,
    "start_time": "2021-09-13T19:11:42.107Z"
   },
   {
    "duration": 12,
    "start_time": "2021-09-13T19:11:42.171Z"
   },
   {
    "duration": 35,
    "start_time": "2021-09-13T19:11:42.186Z"
   },
   {
    "duration": 46,
    "start_time": "2021-09-13T19:11:42.223Z"
   },
   {
    "duration": 27,
    "start_time": "2021-09-13T19:11:42.271Z"
   },
   {
    "duration": 36,
    "start_time": "2021-09-13T19:11:42.301Z"
   },
   {
    "duration": 36,
    "start_time": "2021-09-13T19:11:42.340Z"
   },
   {
    "duration": 12,
    "start_time": "2021-09-13T19:11:42.378Z"
   },
   {
    "duration": 1068,
    "start_time": "2021-09-13T19:11:42.392Z"
   },
   {
    "duration": 15,
    "start_time": "2021-09-13T19:11:43.462Z"
   },
   {
    "duration": 22,
    "start_time": "2021-09-13T19:11:43.479Z"
   },
   {
    "duration": 27,
    "start_time": "2021-09-13T19:11:43.504Z"
   },
   {
    "duration": 37,
    "start_time": "2021-09-13T19:11:43.533Z"
   },
   {
    "duration": 14,
    "start_time": "2021-09-13T19:11:43.572Z"
   },
   {
    "duration": 514,
    "start_time": "2021-09-13T19:11:43.589Z"
   },
   {
    "duration": -2909,
    "start_time": "2021-09-13T19:11:47.014Z"
   },
   {
    "duration": -2913,
    "start_time": "2021-09-13T19:11:47.019Z"
   },
   {
    "duration": -2916,
    "start_time": "2021-09-13T19:11:47.024Z"
   },
   {
    "duration": -2922,
    "start_time": "2021-09-13T19:11:47.031Z"
   },
   {
    "duration": -2925,
    "start_time": "2021-09-13T19:11:47.036Z"
   },
   {
    "duration": -2929,
    "start_time": "2021-09-13T19:11:47.041Z"
   },
   {
    "duration": -2935,
    "start_time": "2021-09-13T19:11:47.048Z"
   },
   {
    "duration": -2939,
    "start_time": "2021-09-13T19:11:47.054Z"
   },
   {
    "duration": -2943,
    "start_time": "2021-09-13T19:11:47.059Z"
   },
   {
    "duration": -2996,
    "start_time": "2021-09-13T19:11:47.114Z"
   },
   {
    "duration": -3005,
    "start_time": "2021-09-13T19:11:47.124Z"
   },
   {
    "duration": 5,
    "start_time": "2021-09-13T19:13:03.574Z"
   },
   {
    "duration": 71,
    "start_time": "2021-09-13T19:13:03.582Z"
   },
   {
    "duration": 14,
    "start_time": "2021-09-13T19:13:03.656Z"
   },
   {
    "duration": 28,
    "start_time": "2021-09-13T19:13:03.673Z"
   },
   {
    "duration": 21,
    "start_time": "2021-09-13T19:13:03.704Z"
   },
   {
    "duration": 8,
    "start_time": "2021-09-13T19:13:03.729Z"
   },
   {
    "duration": 5006,
    "start_time": "2021-09-13T19:13:03.739Z"
   },
   {
    "duration": 53,
    "start_time": "2021-09-13T19:13:08.748Z"
   },
   {
    "duration": 18,
    "start_time": "2021-09-13T19:13:08.805Z"
   },
   {
    "duration": 18,
    "start_time": "2021-09-13T19:13:08.827Z"
   },
   {
    "duration": 169,
    "start_time": "2021-09-13T19:13:08.848Z"
   },
   {
    "duration": 10,
    "start_time": "2021-09-13T19:13:09.020Z"
   },
   {
    "duration": 34,
    "start_time": "2021-09-13T19:13:09.032Z"
   },
   {
    "duration": 56,
    "start_time": "2021-09-13T19:13:09.069Z"
   },
   {
    "duration": 13,
    "start_time": "2021-09-13T19:13:09.127Z"
   },
   {
    "duration": 1251,
    "start_time": "2021-09-13T19:13:09.143Z"
   },
   {
    "duration": 16,
    "start_time": "2021-09-13T19:13:10.396Z"
   },
   {
    "duration": 6,
    "start_time": "2021-09-13T19:13:10.414Z"
   },
   {
    "duration": 1030,
    "start_time": "2021-09-13T19:13:10.423Z"
   },
   {
    "duration": 27,
    "start_time": "2021-09-13T19:13:11.456Z"
   },
   {
    "duration": 46,
    "start_time": "2021-09-13T19:13:11.485Z"
   },
   {
    "duration": 45,
    "start_time": "2021-09-13T19:13:11.533Z"
   },
   {
    "duration": 37,
    "start_time": "2021-09-13T19:13:11.580Z"
   },
   {
    "duration": 84,
    "start_time": "2021-09-13T19:13:11.619Z"
   },
   {
    "duration": 32,
    "start_time": "2021-09-13T19:13:11.706Z"
   },
   {
    "duration": 35,
    "start_time": "2021-09-13T19:13:11.741Z"
   },
   {
    "duration": 29,
    "start_time": "2021-09-13T19:13:11.782Z"
   },
   {
    "duration": 16,
    "start_time": "2021-09-13T19:13:11.815Z"
   },
   {
    "duration": 420,
    "start_time": "2021-09-13T19:13:11.833Z"
   },
   {
    "duration": 32,
    "start_time": "2021-09-13T19:13:12.255Z"
   },
   {
    "duration": 26,
    "start_time": "2021-09-13T19:13:12.290Z"
   },
   {
    "duration": 15,
    "start_time": "2021-09-13T19:13:12.318Z"
   },
   {
    "duration": 417,
    "start_time": "2021-09-13T19:13:12.335Z"
   },
   {
    "duration": 23,
    "start_time": "2021-09-13T19:13:12.755Z"
   },
   {
    "duration": 444,
    "start_time": "2021-09-13T19:13:12.781Z"
   },
   {
    "duration": 17,
    "start_time": "2021-09-13T19:13:13.228Z"
   },
   {
    "duration": 374,
    "start_time": "2021-09-13T19:13:13.248Z"
   },
   {
    "duration": 44,
    "start_time": "2021-09-13T19:13:13.625Z"
   },
   {
    "duration": 10,
    "start_time": "2021-09-13T19:13:13.671Z"
   },
   {
    "duration": 31,
    "start_time": "2021-09-13T19:13:13.683Z"
   },
   {
    "duration": 13,
    "start_time": "2021-09-13T19:13:13.716Z"
   },
   {
    "duration": 54,
    "start_time": "2021-09-13T19:13:13.731Z"
   },
   {
    "duration": 20,
    "start_time": "2021-09-13T19:13:13.787Z"
   },
   {
    "duration": 28,
    "start_time": "2021-09-13T19:13:13.810Z"
   },
   {
    "duration": 31,
    "start_time": "2021-09-13T19:13:13.868Z"
   },
   {
    "duration": 14,
    "start_time": "2021-09-13T19:13:13.902Z"
   },
   {
    "duration": 8,
    "start_time": "2021-09-13T19:13:13.919Z"
   },
   {
    "duration": 885,
    "start_time": "2021-09-13T19:13:13.967Z"
   },
   {
    "duration": 18,
    "start_time": "2021-09-13T19:13:14.855Z"
   },
   {
    "duration": 24,
    "start_time": "2021-09-13T19:13:14.875Z"
   },
   {
    "duration": 26,
    "start_time": "2021-09-13T19:13:14.902Z"
   },
   {
    "duration": 46,
    "start_time": "2021-09-13T19:13:14.931Z"
   },
   {
    "duration": 15,
    "start_time": "2021-09-13T19:13:14.980Z"
   },
   {
    "duration": 254,
    "start_time": "2021-09-13T19:13:14.998Z"
   },
   {
    "duration": -2182,
    "start_time": "2021-09-13T19:13:17.437Z"
   },
   {
    "duration": -2186,
    "start_time": "2021-09-13T19:13:17.442Z"
   },
   {
    "duration": -2189,
    "start_time": "2021-09-13T19:13:17.447Z"
   },
   {
    "duration": -2193,
    "start_time": "2021-09-13T19:13:17.452Z"
   },
   {
    "duration": -2197,
    "start_time": "2021-09-13T19:13:17.458Z"
   },
   {
    "duration": -2202,
    "start_time": "2021-09-13T19:13:17.464Z"
   },
   {
    "duration": -2206,
    "start_time": "2021-09-13T19:13:17.470Z"
   },
   {
    "duration": -2244,
    "start_time": "2021-09-13T19:13:17.509Z"
   },
   {
    "duration": -2331,
    "start_time": "2021-09-13T19:13:17.598Z"
   },
   {
    "duration": -2339,
    "start_time": "2021-09-13T19:13:17.607Z"
   },
   {
    "duration": -2349,
    "start_time": "2021-09-13T19:13:17.618Z"
   },
   {
    "duration": 22,
    "start_time": "2021-09-13T19:13:46.060Z"
   },
   {
    "duration": 26,
    "start_time": "2021-09-13T19:17:02.075Z"
   },
   {
    "duration": 296,
    "start_time": "2021-09-13T19:17:39.757Z"
   },
   {
    "duration": 5,
    "start_time": "2021-09-13T19:18:07.563Z"
   },
   {
    "duration": 67,
    "start_time": "2021-09-13T19:18:07.571Z"
   },
   {
    "duration": 35,
    "start_time": "2021-09-13T19:18:07.641Z"
   },
   {
    "duration": 18,
    "start_time": "2021-09-13T19:18:07.680Z"
   },
   {
    "duration": 27,
    "start_time": "2021-09-13T19:18:07.701Z"
   },
   {
    "duration": 41,
    "start_time": "2021-09-13T19:18:07.731Z"
   },
   {
    "duration": 4850,
    "start_time": "2021-09-13T19:18:07.775Z"
   },
   {
    "duration": 55,
    "start_time": "2021-09-13T19:18:12.630Z"
   },
   {
    "duration": 7,
    "start_time": "2021-09-13T19:18:12.689Z"
   },
   {
    "duration": 17,
    "start_time": "2021-09-13T19:18:12.699Z"
   },
   {
    "duration": 173,
    "start_time": "2021-09-13T19:18:12.718Z"
   },
   {
    "duration": 11,
    "start_time": "2021-09-13T19:18:12.893Z"
   },
   {
    "duration": 20,
    "start_time": "2021-09-13T19:18:12.906Z"
   },
   {
    "duration": 79,
    "start_time": "2021-09-13T19:18:12.928Z"
   },
   {
    "duration": 14,
    "start_time": "2021-09-13T19:18:13.009Z"
   },
   {
    "duration": 1263,
    "start_time": "2021-09-13T19:18:13.026Z"
   },
   {
    "duration": 13,
    "start_time": "2021-09-13T19:18:14.291Z"
   },
   {
    "duration": 9,
    "start_time": "2021-09-13T19:18:14.307Z"
   },
   {
    "duration": 1041,
    "start_time": "2021-09-13T19:18:14.319Z"
   },
   {
    "duration": 20,
    "start_time": "2021-09-13T19:18:15.362Z"
   },
   {
    "duration": 44,
    "start_time": "2021-09-13T19:18:15.385Z"
   },
   {
    "duration": 47,
    "start_time": "2021-09-13T19:18:15.432Z"
   },
   {
    "duration": 41,
    "start_time": "2021-09-13T19:18:15.486Z"
   },
   {
    "duration": 86,
    "start_time": "2021-09-13T19:18:15.531Z"
   },
   {
    "duration": 33,
    "start_time": "2021-09-13T19:18:15.619Z"
   },
   {
    "duration": 9,
    "start_time": "2021-09-13T19:18:15.668Z"
   },
   {
    "duration": 37,
    "start_time": "2021-09-13T19:18:15.679Z"
   },
   {
    "duration": 11,
    "start_time": "2021-09-13T19:18:15.718Z"
   },
   {
    "duration": 553,
    "start_time": "2021-09-13T19:18:15.732Z"
   },
   {
    "duration": 24,
    "start_time": "2021-09-13T19:18:16.287Z"
   },
   {
    "duration": 56,
    "start_time": "2021-09-13T19:18:16.313Z"
   },
   {
    "duration": 10,
    "start_time": "2021-09-13T19:18:16.372Z"
   },
   {
    "duration": 431,
    "start_time": "2021-09-13T19:18:16.384Z"
   },
   {
    "duration": 9,
    "start_time": "2021-09-13T19:18:16.818Z"
   },
   {
    "duration": 448,
    "start_time": "2021-09-13T19:18:16.829Z"
   },
   {
    "duration": 18,
    "start_time": "2021-09-13T19:18:17.280Z"
   },
   {
    "duration": 362,
    "start_time": "2021-09-13T19:18:17.300Z"
   },
   {
    "duration": 25,
    "start_time": "2021-09-13T19:18:17.665Z"
   },
   {
    "duration": 11,
    "start_time": "2021-09-13T19:18:17.692Z"
   },
   {
    "duration": 63,
    "start_time": "2021-09-13T19:18:17.706Z"
   },
   {
    "duration": 15,
    "start_time": "2021-09-13T19:18:17.772Z"
   },
   {
    "duration": 23,
    "start_time": "2021-09-13T19:18:17.790Z"
   },
   {
    "duration": 68,
    "start_time": "2021-09-13T19:18:17.816Z"
   },
   {
    "duration": 26,
    "start_time": "2021-09-13T19:18:17.886Z"
   },
   {
    "duration": 55,
    "start_time": "2021-09-13T19:18:17.914Z"
   },
   {
    "duration": 15,
    "start_time": "2021-09-13T19:18:17.972Z"
   },
   {
    "duration": 9,
    "start_time": "2021-09-13T19:18:17.990Z"
   },
   {
    "duration": 1172,
    "start_time": "2021-09-13T19:18:18.002Z"
   },
   {
    "duration": 15,
    "start_time": "2021-09-13T19:18:19.177Z"
   },
   {
    "duration": 23,
    "start_time": "2021-09-13T19:18:19.194Z"
   },
   {
    "duration": 52,
    "start_time": "2021-09-13T19:18:19.220Z"
   },
   {
    "duration": 25,
    "start_time": "2021-09-13T19:18:19.274Z"
   },
   {
    "duration": 32,
    "start_time": "2021-09-13T19:18:19.301Z"
   },
   {
    "duration": 21,
    "start_time": "2021-09-13T19:18:19.335Z"
   },
   {
    "duration": 315,
    "start_time": "2021-09-13T19:18:19.359Z"
   },
   {
    "duration": -1999,
    "start_time": "2021-09-13T19:18:21.675Z"
   },
   {
    "duration": -2003,
    "start_time": "2021-09-13T19:18:21.681Z"
   },
   {
    "duration": -2056,
    "start_time": "2021-09-13T19:18:21.735Z"
   },
   {
    "duration": -2063,
    "start_time": "2021-09-13T19:18:21.743Z"
   },
   {
    "duration": -2067,
    "start_time": "2021-09-13T19:18:21.749Z"
   },
   {
    "duration": -2072,
    "start_time": "2021-09-13T19:18:21.755Z"
   },
   {
    "duration": -2077,
    "start_time": "2021-09-13T19:18:21.761Z"
   },
   {
    "duration": -2080,
    "start_time": "2021-09-13T19:18:21.765Z"
   },
   {
    "duration": -2084,
    "start_time": "2021-09-13T19:18:21.771Z"
   },
   {
    "duration": -2088,
    "start_time": "2021-09-13T19:18:21.776Z"
   },
   {
    "duration": 376,
    "start_time": "2021-09-13T19:19:29.198Z"
   },
   {
    "duration": 227,
    "start_time": "2021-09-13T19:20:24.203Z"
   },
   {
    "duration": 4,
    "start_time": "2021-09-13T19:20:42.537Z"
   },
   {
    "duration": 60,
    "start_time": "2021-09-13T19:20:42.544Z"
   },
   {
    "duration": 12,
    "start_time": "2021-09-13T19:20:42.608Z"
   },
   {
    "duration": 44,
    "start_time": "2021-09-13T19:20:42.624Z"
   },
   {
    "duration": 24,
    "start_time": "2021-09-13T19:20:42.670Z"
   },
   {
    "duration": 9,
    "start_time": "2021-09-13T19:20:42.697Z"
   },
   {
    "duration": 4964,
    "start_time": "2021-09-13T19:20:42.709Z"
   },
   {
    "duration": 45,
    "start_time": "2021-09-13T19:20:47.676Z"
   },
   {
    "duration": 9,
    "start_time": "2021-09-13T19:20:47.725Z"
   },
   {
    "duration": 37,
    "start_time": "2021-09-13T19:20:47.737Z"
   },
   {
    "duration": 162,
    "start_time": "2021-09-13T19:20:47.777Z"
   },
   {
    "duration": 10,
    "start_time": "2021-09-13T19:20:47.941Z"
   },
   {
    "duration": 27,
    "start_time": "2021-09-13T19:20:47.953Z"
   },
   {
    "duration": 56,
    "start_time": "2021-09-13T19:20:47.982Z"
   },
   {
    "duration": 32,
    "start_time": "2021-09-13T19:20:48.041Z"
   },
   {
    "duration": 1257,
    "start_time": "2021-09-13T19:20:48.076Z"
   },
   {
    "duration": 12,
    "start_time": "2021-09-13T19:20:49.335Z"
   },
   {
    "duration": 17,
    "start_time": "2021-09-13T19:20:49.350Z"
   },
   {
    "duration": 1043,
    "start_time": "2021-09-13T19:20:49.369Z"
   },
   {
    "duration": 19,
    "start_time": "2021-09-13T19:20:50.414Z"
   },
   {
    "duration": 68,
    "start_time": "2021-09-13T19:20:50.435Z"
   },
   {
    "duration": 16,
    "start_time": "2021-09-13T19:20:50.505Z"
   },
   {
    "duration": 61,
    "start_time": "2021-09-13T19:20:50.523Z"
   },
   {
    "duration": 62,
    "start_time": "2021-09-13T19:20:50.586Z"
   },
   {
    "duration": 43,
    "start_time": "2021-09-13T19:20:50.651Z"
   },
   {
    "duration": 17,
    "start_time": "2021-09-13T19:20:50.697Z"
   },
   {
    "duration": 52,
    "start_time": "2021-09-13T19:20:50.720Z"
   },
   {
    "duration": 16,
    "start_time": "2021-09-13T19:20:50.775Z"
   },
   {
    "duration": 396,
    "start_time": "2021-09-13T19:20:50.793Z"
   },
   {
    "duration": 24,
    "start_time": "2021-09-13T19:20:51.192Z"
   },
   {
    "duration": 51,
    "start_time": "2021-09-13T19:20:51.218Z"
   },
   {
    "duration": 21,
    "start_time": "2021-09-13T19:20:51.272Z"
   },
   {
    "duration": 407,
    "start_time": "2021-09-13T19:20:51.296Z"
   },
   {
    "duration": 9,
    "start_time": "2021-09-13T19:20:51.706Z"
   },
   {
    "duration": 444,
    "start_time": "2021-09-13T19:20:51.718Z"
   },
   {
    "duration": 21,
    "start_time": "2021-09-13T19:20:52.168Z"
   },
   {
    "duration": 354,
    "start_time": "2021-09-13T19:20:52.192Z"
   },
   {
    "duration": 34,
    "start_time": "2021-09-13T19:20:52.548Z"
   },
   {
    "duration": 10,
    "start_time": "2021-09-13T19:20:52.584Z"
   },
   {
    "duration": 31,
    "start_time": "2021-09-13T19:20:52.596Z"
   },
   {
    "duration": 47,
    "start_time": "2021-09-13T19:20:52.630Z"
   },
   {
    "duration": 21,
    "start_time": "2021-09-13T19:20:52.679Z"
   },
   {
    "duration": 22,
    "start_time": "2021-09-13T19:20:52.702Z"
   },
   {
    "duration": 59,
    "start_time": "2021-09-13T19:20:52.726Z"
   },
   {
    "duration": 33,
    "start_time": "2021-09-13T19:20:52.787Z"
   },
   {
    "duration": 14,
    "start_time": "2021-09-13T19:20:52.822Z"
   },
   {
    "duration": 32,
    "start_time": "2021-09-13T19:20:52.839Z"
   },
   {
    "duration": 748,
    "start_time": "2021-09-13T19:20:52.873Z"
   },
   {
    "duration": 15,
    "start_time": "2021-09-13T19:20:53.623Z"
   },
   {
    "duration": 22,
    "start_time": "2021-09-13T19:20:53.641Z"
   },
   {
    "duration": 33,
    "start_time": "2021-09-13T19:20:53.666Z"
   },
   {
    "duration": 17,
    "start_time": "2021-09-13T19:20:53.702Z"
   },
   {
    "duration": 13,
    "start_time": "2021-09-13T19:20:53.722Z"
   },
   {
    "duration": 39,
    "start_time": "2021-09-13T19:20:53.737Z"
   },
   {
    "duration": 365,
    "start_time": "2021-09-13T19:20:53.778Z"
   },
   {
    "duration": -2044,
    "start_time": "2021-09-13T19:20:56.189Z"
   },
   {
    "duration": -2049,
    "start_time": "2021-09-13T19:20:56.196Z"
   },
   {
    "duration": -2053,
    "start_time": "2021-09-13T19:20:56.201Z"
   },
   {
    "duration": -2057,
    "start_time": "2021-09-13T19:20:56.207Z"
   },
   {
    "duration": -2060,
    "start_time": "2021-09-13T19:20:56.211Z"
   },
   {
    "duration": -2064,
    "start_time": "2021-09-13T19:20:56.217Z"
   },
   {
    "duration": -2067,
    "start_time": "2021-09-13T19:20:56.222Z"
   },
   {
    "duration": -2070,
    "start_time": "2021-09-13T19:20:56.227Z"
   },
   {
    "duration": -2074,
    "start_time": "2021-09-13T19:20:56.232Z"
   },
   {
    "duration": -2078,
    "start_time": "2021-09-13T19:20:56.237Z"
   },
   {
    "duration": 21,
    "start_time": "2021-09-13T19:21:34.357Z"
   },
   {
    "duration": 5,
    "start_time": "2021-09-13T19:21:57.615Z"
   },
   {
    "duration": 58,
    "start_time": "2021-09-13T19:21:57.626Z"
   },
   {
    "duration": 13,
    "start_time": "2021-09-13T19:21:57.687Z"
   },
   {
    "duration": 24,
    "start_time": "2021-09-13T19:21:57.703Z"
   },
   {
    "duration": 47,
    "start_time": "2021-09-13T19:21:57.730Z"
   },
   {
    "duration": 7,
    "start_time": "2021-09-13T19:21:57.780Z"
   },
   {
    "duration": 4840,
    "start_time": "2021-09-13T19:21:57.791Z"
   },
   {
    "duration": 62,
    "start_time": "2021-09-13T19:22:02.633Z"
   },
   {
    "duration": 37,
    "start_time": "2021-09-13T19:22:02.697Z"
   },
   {
    "duration": 44,
    "start_time": "2021-09-13T19:22:02.738Z"
   },
   {
    "duration": 179,
    "start_time": "2021-09-13T19:22:02.785Z"
   },
   {
    "duration": 14,
    "start_time": "2021-09-13T19:22:02.966Z"
   },
   {
    "duration": 45,
    "start_time": "2021-09-13T19:22:02.982Z"
   },
   {
    "duration": 60,
    "start_time": "2021-09-13T19:22:03.030Z"
   },
   {
    "duration": 13,
    "start_time": "2021-09-13T19:22:03.093Z"
   },
   {
    "duration": 1247,
    "start_time": "2021-09-13T19:22:03.108Z"
   },
   {
    "duration": 18,
    "start_time": "2021-09-13T19:22:04.357Z"
   },
   {
    "duration": 9,
    "start_time": "2021-09-13T19:22:04.378Z"
   },
   {
    "duration": 1053,
    "start_time": "2021-09-13T19:22:04.390Z"
   },
   {
    "duration": 27,
    "start_time": "2021-09-13T19:22:05.445Z"
   },
   {
    "duration": 51,
    "start_time": "2021-09-13T19:22:05.475Z"
   },
   {
    "duration": 38,
    "start_time": "2021-09-13T19:22:05.529Z"
   },
   {
    "duration": 39,
    "start_time": "2021-09-13T19:22:05.570Z"
   },
   {
    "duration": 81,
    "start_time": "2021-09-13T19:22:05.612Z"
   },
   {
    "duration": 30,
    "start_time": "2021-09-13T19:22:05.695Z"
   },
   {
    "duration": 16,
    "start_time": "2021-09-13T19:22:05.727Z"
   },
   {
    "duration": 51,
    "start_time": "2021-09-13T19:22:05.746Z"
   },
   {
    "duration": 9,
    "start_time": "2021-09-13T19:22:05.803Z"
   },
   {
    "duration": 530,
    "start_time": "2021-09-13T19:22:05.816Z"
   },
   {
    "duration": 30,
    "start_time": "2021-09-13T19:22:06.349Z"
   },
   {
    "duration": 26,
    "start_time": "2021-09-13T19:22:06.382Z"
   },
   {
    "duration": 10,
    "start_time": "2021-09-13T19:22:06.411Z"
   },
   {
    "duration": 427,
    "start_time": "2021-09-13T19:22:06.423Z"
   },
   {
    "duration": 15,
    "start_time": "2021-09-13T19:22:06.852Z"
   },
   {
    "duration": 439,
    "start_time": "2021-09-13T19:22:06.870Z"
   },
   {
    "duration": 17,
    "start_time": "2021-09-13T19:22:07.312Z"
   },
   {
    "duration": 536,
    "start_time": "2021-09-13T19:22:07.332Z"
   },
   {
    "duration": 27,
    "start_time": "2021-09-13T19:22:07.871Z"
   },
   {
    "duration": 13,
    "start_time": "2021-09-13T19:22:07.901Z"
   },
   {
    "duration": 74,
    "start_time": "2021-09-13T19:22:07.917Z"
   },
   {
    "duration": 15,
    "start_time": "2021-09-13T19:22:07.994Z"
   },
   {
    "duration": 55,
    "start_time": "2021-09-13T19:22:08.013Z"
   },
   {
    "duration": 24,
    "start_time": "2021-09-13T19:22:08.071Z"
   },
   {
    "duration": 31,
    "start_time": "2021-09-13T19:22:08.098Z"
   },
   {
    "duration": 60,
    "start_time": "2021-09-13T19:22:08.131Z"
   },
   {
    "duration": 15,
    "start_time": "2021-09-13T19:22:08.194Z"
   },
   {
    "duration": 21,
    "start_time": "2021-09-13T19:22:08.212Z"
   },
   {
    "duration": 974,
    "start_time": "2021-09-13T19:22:08.236Z"
   },
   {
    "duration": 14,
    "start_time": "2021-09-13T19:22:09.213Z"
   },
   {
    "duration": 22,
    "start_time": "2021-09-13T19:22:09.229Z"
   },
   {
    "duration": 34,
    "start_time": "2021-09-13T19:22:09.253Z"
   },
   {
    "duration": 13,
    "start_time": "2021-09-13T19:22:09.290Z"
   },
   {
    "duration": 12,
    "start_time": "2021-09-13T19:22:09.305Z"
   },
   {
    "duration": 59,
    "start_time": "2021-09-13T19:22:09.320Z"
   },
   {
    "duration": 256,
    "start_time": "2021-09-13T19:22:09.381Z"
   },
   {
    "duration": -2071,
    "start_time": "2021-09-13T19:22:11.711Z"
   },
   {
    "duration": -2080,
    "start_time": "2021-09-13T19:22:11.721Z"
   },
   {
    "duration": -2086,
    "start_time": "2021-09-13T19:22:11.730Z"
   },
   {
    "duration": -2090,
    "start_time": "2021-09-13T19:22:11.736Z"
   },
   {
    "duration": -2095,
    "start_time": "2021-09-13T19:22:11.743Z"
   },
   {
    "duration": -2099,
    "start_time": "2021-09-13T19:22:11.749Z"
   },
   {
    "duration": -2104,
    "start_time": "2021-09-13T19:22:11.756Z"
   },
   {
    "duration": -2108,
    "start_time": "2021-09-13T19:22:11.762Z"
   },
   {
    "duration": -2112,
    "start_time": "2021-09-13T19:22:11.768Z"
   },
   {
    "duration": -2118,
    "start_time": "2021-09-13T19:22:11.776Z"
   },
   {
    "duration": 10,
    "start_time": "2021-09-13T19:22:58.638Z"
   },
   {
    "duration": 307,
    "start_time": "2021-09-13T19:27:08.593Z"
   },
   {
    "duration": 260,
    "start_time": "2021-09-13T19:28:00.713Z"
   },
   {
    "duration": 11,
    "start_time": "2021-09-13T19:28:58.496Z"
   },
   {
    "duration": 11,
    "start_time": "2021-09-13T19:29:30.089Z"
   },
   {
    "duration": 5,
    "start_time": "2021-09-13T19:42:05.141Z"
   },
   {
    "duration": 65,
    "start_time": "2021-09-13T19:42:05.150Z"
   },
   {
    "duration": 13,
    "start_time": "2021-09-13T19:42:05.218Z"
   },
   {
    "duration": 39,
    "start_time": "2021-09-13T19:42:05.234Z"
   },
   {
    "duration": 21,
    "start_time": "2021-09-13T19:42:05.275Z"
   },
   {
    "duration": 7,
    "start_time": "2021-09-13T19:42:05.299Z"
   },
   {
    "duration": 4768,
    "start_time": "2021-09-13T19:42:05.310Z"
   },
   {
    "duration": 46,
    "start_time": "2021-09-13T19:42:10.082Z"
   },
   {
    "duration": 8,
    "start_time": "2021-09-13T19:42:10.131Z"
   },
   {
    "duration": 20,
    "start_time": "2021-09-13T19:42:10.168Z"
   },
   {
    "duration": 166,
    "start_time": "2021-09-13T19:42:10.191Z"
   },
   {
    "duration": 11,
    "start_time": "2021-09-13T19:42:10.360Z"
   },
   {
    "duration": 25,
    "start_time": "2021-09-13T19:42:10.373Z"
   },
   {
    "duration": 70,
    "start_time": "2021-09-13T19:42:10.400Z"
   },
   {
    "duration": 13,
    "start_time": "2021-09-13T19:42:10.472Z"
   },
   {
    "duration": 1305,
    "start_time": "2021-09-13T19:42:10.487Z"
   },
   {
    "duration": 14,
    "start_time": "2021-09-13T19:42:11.794Z"
   },
   {
    "duration": 10,
    "start_time": "2021-09-13T19:42:11.810Z"
   },
   {
    "duration": 1060,
    "start_time": "2021-09-13T19:42:11.826Z"
   },
   {
    "duration": 19,
    "start_time": "2021-09-13T19:42:12.890Z"
   },
   {
    "duration": 67,
    "start_time": "2021-09-13T19:42:12.912Z"
   },
   {
    "duration": 16,
    "start_time": "2021-09-13T19:42:12.981Z"
   },
   {
    "duration": 41,
    "start_time": "2021-09-13T19:42:12.999Z"
   },
   {
    "duration": 77,
    "start_time": "2021-09-13T19:42:13.043Z"
   },
   {
    "duration": 47,
    "start_time": "2021-09-13T19:42:13.122Z"
   },
   {
    "duration": 13,
    "start_time": "2021-09-13T19:42:13.172Z"
   },
   {
    "duration": 49,
    "start_time": "2021-09-13T19:42:13.187Z"
   },
   {
    "duration": 26,
    "start_time": "2021-09-13T19:42:13.238Z"
   },
   {
    "duration": 396,
    "start_time": "2021-09-13T19:42:13.266Z"
   },
   {
    "duration": 24,
    "start_time": "2021-09-13T19:42:13.667Z"
   },
   {
    "duration": 26,
    "start_time": "2021-09-13T19:42:13.693Z"
   },
   {
    "duration": 15,
    "start_time": "2021-09-13T19:42:13.721Z"
   },
   {
    "duration": 603,
    "start_time": "2021-09-13T19:42:13.738Z"
   },
   {
    "duration": 25,
    "start_time": "2021-09-13T19:42:14.344Z"
   },
   {
    "duration": 441,
    "start_time": "2021-09-13T19:42:14.371Z"
   },
   {
    "duration": 19,
    "start_time": "2021-09-13T19:42:14.816Z"
   },
   {
    "duration": 371,
    "start_time": "2021-09-13T19:42:14.838Z"
   },
   {
    "duration": 26,
    "start_time": "2021-09-13T19:42:15.212Z"
   },
   {
    "duration": 32,
    "start_time": "2021-09-13T19:42:15.240Z"
   },
   {
    "duration": 29,
    "start_time": "2021-09-13T19:42:15.275Z"
   },
   {
    "duration": 12,
    "start_time": "2021-09-13T19:42:15.306Z"
   },
   {
    "duration": 55,
    "start_time": "2021-09-13T19:42:15.320Z"
   },
   {
    "duration": 20,
    "start_time": "2021-09-13T19:42:15.377Z"
   },
   {
    "duration": 35,
    "start_time": "2021-09-13T19:42:15.399Z"
   },
   {
    "duration": 58,
    "start_time": "2021-09-13T19:42:15.436Z"
   },
   {
    "duration": 15,
    "start_time": "2021-09-13T19:42:15.496Z"
   },
   {
    "duration": 12,
    "start_time": "2021-09-13T19:42:15.513Z"
   },
   {
    "duration": 883,
    "start_time": "2021-09-13T19:42:15.527Z"
   },
   {
    "duration": 16,
    "start_time": "2021-09-13T19:42:16.412Z"
   },
   {
    "duration": 23,
    "start_time": "2021-09-13T19:42:16.431Z"
   },
   {
    "duration": 25,
    "start_time": "2021-09-13T19:42:16.467Z"
   },
   {
    "duration": 15,
    "start_time": "2021-09-13T19:42:16.494Z"
   },
   {
    "duration": 15,
    "start_time": "2021-09-13T19:42:16.512Z"
   },
   {
    "duration": 51,
    "start_time": "2021-09-13T19:42:16.530Z"
   },
   {
    "duration": 12,
    "start_time": "2021-09-13T19:42:16.588Z"
   },
   {
    "duration": 28,
    "start_time": "2021-09-13T19:42:16.604Z"
   },
   {
    "duration": 619,
    "start_time": "2021-09-13T19:42:16.635Z"
   },
   {
    "duration": 38,
    "start_time": "2021-09-13T19:42:17.256Z"
   },
   {
    "duration": 11,
    "start_time": "2021-09-13T19:42:17.296Z"
   },
   {
    "duration": 409,
    "start_time": "2021-09-13T19:42:17.309Z"
   },
   {
    "duration": 21,
    "start_time": "2021-09-13T19:42:17.721Z"
   },
   {
    "duration": 612,
    "start_time": "2021-09-13T19:42:17.744Z"
   },
   {
    "duration": 20,
    "start_time": "2021-09-13T19:42:18.359Z"
   },
   {
    "duration": 349,
    "start_time": "2021-09-13T19:42:18.382Z"
   },
   {
    "duration": 16,
    "start_time": "2021-09-13T19:42:18.734Z"
   },
   {
    "duration": 2959,
    "start_time": "2021-09-14T05:32:46.885Z"
   },
   {
    "duration": 55,
    "start_time": "2021-09-14T05:32:49.847Z"
   },
   {
    "duration": 17,
    "start_time": "2021-09-14T05:32:49.905Z"
   },
   {
    "duration": 18,
    "start_time": "2021-09-14T05:32:49.925Z"
   },
   {
    "duration": 46,
    "start_time": "2021-09-14T05:32:49.945Z"
   },
   {
    "duration": 7,
    "start_time": "2021-09-14T05:32:49.994Z"
   },
   {
    "duration": 4765,
    "start_time": "2021-09-14T05:32:50.004Z"
   },
   {
    "duration": 42,
    "start_time": "2021-09-14T05:32:54.782Z"
   },
   {
    "duration": 11,
    "start_time": "2021-09-14T05:32:54.827Z"
   },
   {
    "duration": 46,
    "start_time": "2021-09-14T05:32:54.841Z"
   },
   {
    "duration": 308,
    "start_time": "2021-09-14T05:32:54.890Z"
   },
   {
    "duration": 15,
    "start_time": "2021-09-14T05:32:55.202Z"
   },
   {
    "duration": 13,
    "start_time": "2021-09-14T05:32:55.220Z"
   },
   {
    "duration": 73,
    "start_time": "2021-09-14T05:32:55.236Z"
   },
   {
    "duration": 13,
    "start_time": "2021-09-14T05:32:55.311Z"
   },
   {
    "duration": 1158,
    "start_time": "2021-09-14T05:32:55.326Z"
   },
   {
    "duration": 13,
    "start_time": "2021-09-14T05:32:56.486Z"
   },
   {
    "duration": 7,
    "start_time": "2021-09-14T05:32:56.502Z"
   },
   {
    "duration": 943,
    "start_time": "2021-09-14T05:32:56.512Z"
   },
   {
    "duration": 25,
    "start_time": "2021-09-14T05:32:57.457Z"
   },
   {
    "duration": 45,
    "start_time": "2021-09-14T05:32:57.485Z"
   },
   {
    "duration": 15,
    "start_time": "2021-09-14T05:32:57.533Z"
   },
   {
    "duration": 58,
    "start_time": "2021-09-14T05:32:57.554Z"
   },
   {
    "duration": 74,
    "start_time": "2021-09-14T05:32:57.616Z"
   },
   {
    "duration": 37,
    "start_time": "2021-09-14T05:32:57.692Z"
   },
   {
    "duration": 9,
    "start_time": "2021-09-14T05:32:57.732Z"
   },
   {
    "duration": 58,
    "start_time": "2021-09-14T05:32:57.744Z"
   },
   {
    "duration": 16,
    "start_time": "2021-09-14T05:32:57.805Z"
   },
   {
    "duration": 822,
    "start_time": "2021-09-14T05:32:57.824Z"
   },
   {
    "duration": 42,
    "start_time": "2021-09-14T05:32:58.648Z"
   },
   {
    "duration": 25,
    "start_time": "2021-09-14T05:32:58.693Z"
   },
   {
    "duration": 62,
    "start_time": "2021-09-14T05:32:58.721Z"
   },
   {
    "duration": 606,
    "start_time": "2021-09-14T05:32:58.786Z"
   },
   {
    "duration": 8,
    "start_time": "2021-09-14T05:32:59.395Z"
   },
   {
    "duration": 427,
    "start_time": "2021-09-14T05:32:59.405Z"
   },
   {
    "duration": 18,
    "start_time": "2021-09-14T05:32:59.834Z"
   },
   {
    "duration": 352,
    "start_time": "2021-09-14T05:32:59.854Z"
   },
   {
    "duration": 25,
    "start_time": "2021-09-14T05:33:00.208Z"
   },
   {
    "duration": 12,
    "start_time": "2021-09-14T05:33:00.235Z"
   },
   {
    "duration": 57,
    "start_time": "2021-09-14T05:33:00.249Z"
   },
   {
    "duration": 13,
    "start_time": "2021-09-14T05:33:00.308Z"
   },
   {
    "duration": 52,
    "start_time": "2021-09-14T05:33:00.323Z"
   },
   {
    "duration": 22,
    "start_time": "2021-09-14T05:33:00.377Z"
   },
   {
    "duration": 26,
    "start_time": "2021-09-14T05:33:00.401Z"
   },
   {
    "duration": 55,
    "start_time": "2021-09-14T05:33:00.429Z"
   },
   {
    "duration": 14,
    "start_time": "2021-09-14T05:33:00.487Z"
   },
   {
    "duration": 38,
    "start_time": "2021-09-14T05:33:00.504Z"
   },
   {
    "duration": 1052,
    "start_time": "2021-09-14T05:33:00.545Z"
   },
   {
    "duration": 17,
    "start_time": "2021-09-14T05:33:01.603Z"
   },
   {
    "duration": 36,
    "start_time": "2021-09-14T05:33:01.623Z"
   },
   {
    "duration": 49,
    "start_time": "2021-09-14T05:33:01.662Z"
   },
   {
    "duration": 27,
    "start_time": "2021-09-14T05:33:01.714Z"
   },
   {
    "duration": 23,
    "start_time": "2021-09-14T05:33:01.744Z"
   },
   {
    "duration": 26,
    "start_time": "2021-09-14T05:33:01.769Z"
   },
   {
    "duration": 11,
    "start_time": "2021-09-14T05:33:01.797Z"
   },
   {
    "duration": 18,
    "start_time": "2021-09-14T05:33:01.810Z"
   },
   {
    "duration": 563,
    "start_time": "2021-09-14T05:33:01.830Z"
   },
   {
    "duration": 30,
    "start_time": "2021-09-14T05:33:02.396Z"
   },
   {
    "duration": 13,
    "start_time": "2021-09-14T05:33:02.429Z"
   },
   {
    "duration": 606,
    "start_time": "2021-09-14T05:33:02.444Z"
   },
   {
    "duration": 35,
    "start_time": "2021-09-14T05:33:03.053Z"
   },
   {
    "duration": 376,
    "start_time": "2021-09-14T05:33:03.091Z"
   },
   {
    "duration": 25,
    "start_time": "2021-09-14T05:33:03.470Z"
   },
   {
    "duration": 302,
    "start_time": "2021-09-14T05:33:03.497Z"
   },
   {
    "duration": 17,
    "start_time": "2021-09-14T05:33:03.802Z"
   },
   {
    "duration": 24,
    "start_time": "2021-09-14T05:46:11.383Z"
   },
   {
    "duration": 25,
    "start_time": "2021-09-14T05:46:58.135Z"
   },
   {
    "duration": 5,
    "start_time": "2021-09-14T05:57:11.404Z"
   },
   {
    "duration": 53,
    "start_time": "2021-09-14T05:57:11.425Z"
   },
   {
    "duration": 11,
    "start_time": "2021-09-14T05:57:11.481Z"
   },
   {
    "duration": 13,
    "start_time": "2021-09-14T05:57:11.495Z"
   },
   {
    "duration": 20,
    "start_time": "2021-09-14T05:57:11.511Z"
   },
   {
    "duration": 7,
    "start_time": "2021-09-14T05:57:11.533Z"
   },
   {
    "duration": 4719,
    "start_time": "2021-09-14T05:57:11.542Z"
   },
   {
    "duration": 48,
    "start_time": "2021-09-14T05:57:16.263Z"
   },
   {
    "duration": 17,
    "start_time": "2021-09-14T05:57:16.317Z"
   },
   {
    "duration": 10,
    "start_time": "2021-09-14T05:57:16.338Z"
   },
   {
    "duration": 150,
    "start_time": "2021-09-14T05:57:16.351Z"
   },
   {
    "duration": 10,
    "start_time": "2021-09-14T05:57:16.503Z"
   },
   {
    "duration": 15,
    "start_time": "2021-09-14T05:57:16.515Z"
   },
   {
    "duration": 76,
    "start_time": "2021-09-14T05:57:16.533Z"
   },
   {
    "duration": 13,
    "start_time": "2021-09-14T05:57:16.612Z"
   },
   {
    "duration": 1110,
    "start_time": "2021-09-14T05:57:16.628Z"
   },
   {
    "duration": 13,
    "start_time": "2021-09-14T05:57:17.740Z"
   },
   {
    "duration": 27,
    "start_time": "2021-09-14T05:57:17.756Z"
   },
   {
    "duration": 923,
    "start_time": "2021-09-14T05:57:17.786Z"
   },
   {
    "duration": 17,
    "start_time": "2021-09-14T05:57:18.712Z"
   },
   {
    "duration": 61,
    "start_time": "2021-09-14T05:57:18.731Z"
   },
   {
    "duration": 14,
    "start_time": "2021-09-14T05:57:18.798Z"
   },
   {
    "duration": 35,
    "start_time": "2021-09-14T05:57:18.816Z"
   },
   {
    "duration": 75,
    "start_time": "2021-09-14T05:57:18.853Z"
   },
   {
    "duration": 28,
    "start_time": "2021-09-14T05:57:18.931Z"
   },
   {
    "duration": 26,
    "start_time": "2021-09-14T05:57:18.961Z"
   },
   {
    "duration": 39,
    "start_time": "2021-09-14T05:57:18.989Z"
   },
   {
    "duration": 14,
    "start_time": "2021-09-14T05:57:19.030Z"
   },
   {
    "duration": 368,
    "start_time": "2021-09-14T05:57:19.047Z"
   },
   {
    "duration": 23,
    "start_time": "2021-09-14T05:57:19.417Z"
   },
   {
    "duration": 50,
    "start_time": "2021-09-14T05:57:19.443Z"
   },
   {
    "duration": 9,
    "start_time": "2021-09-14T05:57:19.495Z"
   },
   {
    "duration": 389,
    "start_time": "2021-09-14T05:57:19.507Z"
   },
   {
    "duration": 9,
    "start_time": "2021-09-14T05:57:19.898Z"
   },
   {
    "duration": 420,
    "start_time": "2021-09-14T05:57:19.909Z"
   },
   {
    "duration": 15,
    "start_time": "2021-09-14T05:57:20.332Z"
   },
   {
    "duration": 322,
    "start_time": "2021-09-14T05:57:20.350Z"
   },
   {
    "duration": 25,
    "start_time": "2021-09-14T05:57:20.674Z"
   },
   {
    "duration": 11,
    "start_time": "2021-09-14T05:57:20.701Z"
   },
   {
    "duration": 32,
    "start_time": "2021-09-14T05:57:20.714Z"
   },
   {
    "duration": 13,
    "start_time": "2021-09-14T05:57:20.782Z"
   },
   {
    "duration": 34,
    "start_time": "2021-09-14T05:57:20.797Z"
   },
   {
    "duration": 26,
    "start_time": "2021-09-14T05:57:20.834Z"
   },
   {
    "duration": 42,
    "start_time": "2021-09-14T05:57:20.862Z"
   },
   {
    "duration": 39,
    "start_time": "2021-09-14T05:57:20.907Z"
   },
   {
    "duration": 14,
    "start_time": "2021-09-14T05:57:20.948Z"
   },
   {
    "duration": 6,
    "start_time": "2021-09-14T05:57:20.983Z"
   },
   {
    "duration": 1135,
    "start_time": "2021-09-14T05:57:20.991Z"
   },
   {
    "duration": 14,
    "start_time": "2021-09-14T05:57:22.129Z"
   },
   {
    "duration": 27,
    "start_time": "2021-09-14T05:57:22.145Z"
   },
   {
    "duration": 41,
    "start_time": "2021-09-14T05:57:22.174Z"
   },
   {
    "duration": 30,
    "start_time": "2021-09-14T05:57:22.217Z"
   },
   {
    "duration": 13,
    "start_time": "2021-09-14T05:57:22.250Z"
   },
   {
    "duration": 24,
    "start_time": "2021-09-14T05:57:22.265Z"
   },
   {
    "duration": 17,
    "start_time": "2021-09-14T05:57:22.291Z"
   },
   {
    "duration": 10,
    "start_time": "2021-09-14T05:57:22.310Z"
   },
   {
    "duration": 569,
    "start_time": "2021-09-14T05:57:22.322Z"
   },
   {
    "duration": 32,
    "start_time": "2021-09-14T05:57:22.893Z"
   },
   {
    "duration": 15,
    "start_time": "2021-09-14T05:57:22.928Z"
   },
   {
    "duration": 551,
    "start_time": "2021-09-14T05:57:22.946Z"
   },
   {
    "duration": 21,
    "start_time": "2021-09-14T05:57:23.504Z"
   },
   {
    "duration": 24,
    "start_time": "2021-09-14T05:57:23.528Z"
   },
   {
    "duration": 6,
    "start_time": "2021-09-14T05:57:23.583Z"
   },
   {
    "duration": 371,
    "start_time": "2021-09-14T05:57:23.591Z"
   },
   {
    "duration": 27,
    "start_time": "2021-09-14T05:57:23.964Z"
   },
   {
    "duration": 311,
    "start_time": "2021-09-14T05:57:23.993Z"
   },
   {
    "duration": 17,
    "start_time": "2021-09-14T05:57:24.307Z"
   },
   {
    "duration": 6,
    "start_time": "2021-09-14T05:57:55.019Z"
   },
   {
    "duration": 11,
    "start_time": "2021-09-14T07:05:54.224Z"
   },
   {
    "duration": 12,
    "start_time": "2021-09-14T07:12:11.624Z"
   },
   {
    "duration": 2116,
    "start_time": "2021-09-14T16:50:11.756Z"
   },
   {
    "duration": 58,
    "start_time": "2021-09-14T16:50:13.874Z"
   },
   {
    "duration": 17,
    "start_time": "2021-09-14T16:50:13.935Z"
   },
   {
    "duration": 15,
    "start_time": "2021-09-14T16:50:13.954Z"
   },
   {
    "duration": 49,
    "start_time": "2021-09-14T16:50:13.972Z"
   },
   {
    "duration": 5,
    "start_time": "2021-09-14T16:50:14.024Z"
   },
   {
    "duration": 4819,
    "start_time": "2021-09-14T16:50:14.032Z"
   },
   {
    "duration": 43,
    "start_time": "2021-09-14T16:50:18.855Z"
   },
   {
    "duration": 8,
    "start_time": "2021-09-14T16:50:18.918Z"
   },
   {
    "duration": 13,
    "start_time": "2021-09-14T16:50:18.929Z"
   },
   {
    "duration": 167,
    "start_time": "2021-09-14T16:50:18.944Z"
   },
   {
    "duration": 9,
    "start_time": "2021-09-14T16:50:19.113Z"
   },
   {
    "duration": 16,
    "start_time": "2021-09-14T16:50:19.125Z"
   },
   {
    "duration": 82,
    "start_time": "2021-09-14T16:50:19.144Z"
   },
   {
    "duration": 15,
    "start_time": "2021-09-14T16:50:19.228Z"
   },
   {
    "duration": 1298,
    "start_time": "2021-09-14T16:50:19.246Z"
   },
   {
    "duration": 14,
    "start_time": "2021-09-14T16:50:20.546Z"
   },
   {
    "duration": 6,
    "start_time": "2021-09-14T16:50:20.563Z"
   },
   {
    "duration": 995,
    "start_time": "2021-09-14T16:50:20.572Z"
   },
   {
    "duration": 17,
    "start_time": "2021-09-14T16:50:21.570Z"
   },
   {
    "duration": 64,
    "start_time": "2021-09-14T16:50:21.590Z"
   },
   {
    "duration": 16,
    "start_time": "2021-09-14T16:50:21.657Z"
   },
   {
    "duration": 67,
    "start_time": "2021-09-14T16:50:21.681Z"
   },
   {
    "duration": 73,
    "start_time": "2021-09-14T16:50:21.754Z"
   },
   {
    "duration": 31,
    "start_time": "2021-09-14T16:50:21.831Z"
   },
   {
    "duration": 12,
    "start_time": "2021-09-14T16:50:21.866Z"
   },
   {
    "duration": 62,
    "start_time": "2021-09-14T16:50:21.881Z"
   },
   {
    "duration": 12,
    "start_time": "2021-09-14T16:50:21.946Z"
   },
   {
    "duration": 855,
    "start_time": "2021-09-14T16:50:21.961Z"
   },
   {
    "duration": 22,
    "start_time": "2021-09-14T16:50:22.819Z"
   },
   {
    "duration": 84,
    "start_time": "2021-09-14T16:50:22.843Z"
   },
   {
    "duration": 5,
    "start_time": "2021-09-14T16:50:22.929Z"
   },
   {
    "duration": 597,
    "start_time": "2021-09-14T16:50:22.936Z"
   },
   {
    "duration": 9,
    "start_time": "2021-09-14T16:50:23.535Z"
   },
   {
    "duration": 440,
    "start_time": "2021-09-14T16:50:23.546Z"
   },
   {
    "duration": 28,
    "start_time": "2021-09-14T16:50:23.989Z"
   },
   {
    "duration": 342,
    "start_time": "2021-09-14T16:50:24.020Z"
   },
   {
    "duration": 25,
    "start_time": "2021-09-14T16:50:24.365Z"
   },
   {
    "duration": 33,
    "start_time": "2021-09-14T16:50:24.393Z"
   },
   {
    "duration": 30,
    "start_time": "2021-09-14T16:50:24.429Z"
   },
   {
    "duration": 12,
    "start_time": "2021-09-14T16:50:24.462Z"
   },
   {
    "duration": 53,
    "start_time": "2021-09-14T16:50:24.476Z"
   },
   {
    "duration": 22,
    "start_time": "2021-09-14T16:50:24.532Z"
   },
   {
    "duration": 25,
    "start_time": "2021-09-14T16:50:24.556Z"
   },
   {
    "duration": 56,
    "start_time": "2021-09-14T16:50:24.584Z"
   },
   {
    "duration": 15,
    "start_time": "2021-09-14T16:50:24.643Z"
   },
   {
    "duration": 10,
    "start_time": "2021-09-14T16:50:24.661Z"
   },
   {
    "duration": 1186,
    "start_time": "2021-09-14T16:50:24.673Z"
   },
   {
    "duration": 13,
    "start_time": "2021-09-14T16:50:25.864Z"
   },
   {
    "duration": 32,
    "start_time": "2021-09-14T16:50:25.879Z"
   },
   {
    "duration": 44,
    "start_time": "2021-09-14T16:50:25.914Z"
   },
   {
    "duration": 16,
    "start_time": "2021-09-14T16:50:25.961Z"
   },
   {
    "duration": 36,
    "start_time": "2021-09-14T16:50:25.980Z"
   },
   {
    "duration": 26,
    "start_time": "2021-09-14T16:50:26.019Z"
   },
   {
    "duration": 27,
    "start_time": "2021-09-14T16:50:26.048Z"
   },
   {
    "duration": 12,
    "start_time": "2021-09-14T16:50:26.078Z"
   },
   {
    "duration": 585,
    "start_time": "2021-09-14T16:50:26.092Z"
   },
   {
    "duration": 41,
    "start_time": "2021-09-14T16:50:26.679Z"
   },
   {
    "duration": 24,
    "start_time": "2021-09-14T16:50:26.723Z"
   },
   {
    "duration": 547,
    "start_time": "2021-09-14T16:50:26.750Z"
   },
   {
    "duration": 31,
    "start_time": "2021-09-14T16:50:27.299Z"
   },
   {
    "duration": 39,
    "start_time": "2021-09-14T16:50:27.332Z"
   },
   {
    "duration": 12,
    "start_time": "2021-09-14T16:50:27.373Z"
   },
   {
    "duration": 388,
    "start_time": "2021-09-14T16:50:27.387Z"
   },
   {
    "duration": 17,
    "start_time": "2021-09-14T16:50:27.777Z"
   },
   {
    "duration": 324,
    "start_time": "2021-09-14T16:50:27.816Z"
   },
   {
    "duration": 16,
    "start_time": "2021-09-14T16:50:28.143Z"
   },
   {
    "duration": 26,
    "start_time": "2021-09-14T16:53:03.193Z"
   },
   {
    "duration": 5,
    "start_time": "2021-09-14T16:56:53.424Z"
   },
   {
    "duration": 83,
    "start_time": "2021-09-14T16:56:53.432Z"
   },
   {
    "duration": 12,
    "start_time": "2021-09-14T16:56:53.518Z"
   },
   {
    "duration": 23,
    "start_time": "2021-09-14T16:56:53.533Z"
   },
   {
    "duration": 29,
    "start_time": "2021-09-14T16:56:53.558Z"
   },
   {
    "duration": 31,
    "start_time": "2021-09-14T16:56:53.590Z"
   },
   {
    "duration": 4904,
    "start_time": "2021-09-14T16:56:53.625Z"
   },
   {
    "duration": 41,
    "start_time": "2021-09-14T16:56:58.532Z"
   },
   {
    "duration": 8,
    "start_time": "2021-09-14T16:56:58.575Z"
   },
   {
    "duration": 37,
    "start_time": "2021-09-14T16:56:58.585Z"
   },
   {
    "duration": 158,
    "start_time": "2021-09-14T16:56:58.624Z"
   },
   {
    "duration": 10,
    "start_time": "2021-09-14T16:56:58.785Z"
   },
   {
    "duration": 27,
    "start_time": "2021-09-14T16:56:58.798Z"
   },
   {
    "duration": 52,
    "start_time": "2021-09-14T16:56:58.828Z"
   },
   {
    "duration": 35,
    "start_time": "2021-09-14T16:56:58.883Z"
   },
   {
    "duration": 1204,
    "start_time": "2021-09-14T16:56:58.920Z"
   },
   {
    "duration": 12,
    "start_time": "2021-09-14T16:57:00.126Z"
   },
   {
    "duration": 16,
    "start_time": "2021-09-14T16:57:00.141Z"
   },
   {
    "duration": 1024,
    "start_time": "2021-09-14T16:57:00.162Z"
   },
   {
    "duration": 32,
    "start_time": "2021-09-14T16:57:01.189Z"
   },
   {
    "duration": 45,
    "start_time": "2021-09-14T16:57:01.223Z"
   },
   {
    "duration": 17,
    "start_time": "2021-09-14T16:57:01.271Z"
   },
   {
    "duration": 40,
    "start_time": "2021-09-14T16:57:01.317Z"
   },
   {
    "duration": 83,
    "start_time": "2021-09-14T16:57:01.360Z"
   },
   {
    "duration": 30,
    "start_time": "2021-09-14T16:57:01.446Z"
   },
   {
    "duration": 43,
    "start_time": "2021-09-14T16:57:01.478Z"
   },
   {
    "duration": 39,
    "start_time": "2021-09-14T16:57:01.523Z"
   },
   {
    "duration": 25,
    "start_time": "2021-09-14T16:57:01.565Z"
   },
   {
    "duration": 383,
    "start_time": "2021-09-14T16:57:01.592Z"
   },
   {
    "duration": 22,
    "start_time": "2021-09-14T16:57:01.977Z"
   },
   {
    "duration": 27,
    "start_time": "2021-09-14T16:57:02.016Z"
   },
   {
    "duration": 21,
    "start_time": "2021-09-14T16:57:02.045Z"
   },
   {
    "duration": 401,
    "start_time": "2021-09-14T16:57:02.068Z"
   },
   {
    "duration": 9,
    "start_time": "2021-09-14T16:57:02.471Z"
   },
   {
    "duration": 433,
    "start_time": "2021-09-14T16:57:02.483Z"
   },
   {
    "duration": 18,
    "start_time": "2021-09-14T16:57:02.918Z"
   },
   {
    "duration": 353,
    "start_time": "2021-09-14T16:57:02.938Z"
   },
   {
    "duration": 36,
    "start_time": "2021-09-14T16:57:03.293Z"
   },
   {
    "duration": 12,
    "start_time": "2021-09-14T16:57:03.332Z"
   },
   {
    "duration": 32,
    "start_time": "2021-09-14T16:57:03.346Z"
   },
   {
    "duration": 41,
    "start_time": "2021-09-14T16:57:03.380Z"
   },
   {
    "duration": 21,
    "start_time": "2021-09-14T16:57:03.424Z"
   },
   {
    "duration": 21,
    "start_time": "2021-09-14T16:57:03.447Z"
   },
   {
    "duration": 56,
    "start_time": "2021-09-14T16:57:03.470Z"
   },
   {
    "duration": 34,
    "start_time": "2021-09-14T16:57:03.528Z"
   },
   {
    "duration": 15,
    "start_time": "2021-09-14T16:57:03.564Z"
   },
   {
    "duration": 36,
    "start_time": "2021-09-14T16:57:03.582Z"
   },
   {
    "duration": 942,
    "start_time": "2021-09-14T16:57:03.621Z"
   },
   {
    "duration": 15,
    "start_time": "2021-09-14T16:57:04.565Z"
   },
   {
    "duration": 48,
    "start_time": "2021-09-14T16:57:04.583Z"
   },
   {
    "duration": 24,
    "start_time": "2021-09-14T16:57:04.633Z"
   },
   {
    "duration": 14,
    "start_time": "2021-09-14T16:57:04.660Z"
   },
   {
    "duration": 42,
    "start_time": "2021-09-14T16:57:04.676Z"
   },
   {
    "duration": 27,
    "start_time": "2021-09-14T16:57:04.721Z"
   },
   {
    "duration": 11,
    "start_time": "2021-09-14T16:57:04.755Z"
   },
   {
    "duration": 47,
    "start_time": "2021-09-14T16:57:04.769Z"
   },
   {
    "duration": 582,
    "start_time": "2021-09-14T16:57:04.819Z"
   },
   {
    "duration": 43,
    "start_time": "2021-09-14T16:57:05.403Z"
   },
   {
    "duration": 8,
    "start_time": "2021-09-14T16:57:05.449Z"
   },
   {
    "duration": 562,
    "start_time": "2021-09-14T16:57:05.460Z"
   },
   {
    "duration": 21,
    "start_time": "2021-09-14T16:57:06.024Z"
   },
   {
    "duration": 37,
    "start_time": "2021-09-14T16:57:06.048Z"
   },
   {
    "duration": 32,
    "start_time": "2021-09-14T16:57:06.087Z"
   },
   {
    "duration": 394,
    "start_time": "2021-09-14T16:57:06.122Z"
   },
   {
    "duration": 19,
    "start_time": "2021-09-14T16:57:06.519Z"
   },
   {
    "duration": 341,
    "start_time": "2021-09-14T16:57:06.541Z"
   },
   {
    "duration": 32,
    "start_time": "2021-09-14T16:57:06.884Z"
   },
   {
    "duration": 4,
    "start_time": "2021-09-14T19:39:31.052Z"
   },
   {
    "duration": 86,
    "start_time": "2021-09-14T19:39:31.059Z"
   },
   {
    "duration": 13,
    "start_time": "2021-09-14T19:39:31.148Z"
   },
   {
    "duration": 31,
    "start_time": "2021-09-14T19:39:31.164Z"
   },
   {
    "duration": 37,
    "start_time": "2021-09-14T19:39:31.197Z"
   },
   {
    "duration": 13,
    "start_time": "2021-09-14T19:39:31.236Z"
   },
   {
    "duration": 4977,
    "start_time": "2021-09-14T19:39:31.252Z"
   },
   {
    "duration": 42,
    "start_time": "2021-09-14T19:39:36.233Z"
   },
   {
    "duration": 15,
    "start_time": "2021-09-14T19:39:36.278Z"
   },
   {
    "duration": 30,
    "start_time": "2021-09-14T19:39:36.296Z"
   },
   {
    "duration": 158,
    "start_time": "2021-09-14T19:39:36.328Z"
   },
   {
    "duration": 10,
    "start_time": "2021-09-14T19:39:36.489Z"
   },
   {
    "duration": 25,
    "start_time": "2021-09-14T19:39:36.501Z"
   },
   {
    "duration": 52,
    "start_time": "2021-09-14T19:39:36.529Z"
   },
   {
    "duration": 35,
    "start_time": "2021-09-14T19:39:36.583Z"
   },
   {
    "duration": 1197,
    "start_time": "2021-09-14T19:39:36.620Z"
   },
   {
    "duration": 15,
    "start_time": "2021-09-14T19:39:37.820Z"
   },
   {
    "duration": 8,
    "start_time": "2021-09-14T19:39:37.838Z"
   },
   {
    "duration": 1030,
    "start_time": "2021-09-14T19:39:37.853Z"
   },
   {
    "duration": 32,
    "start_time": "2021-09-14T19:39:38.889Z"
   },
   {
    "duration": 58,
    "start_time": "2021-09-14T19:39:38.924Z"
   },
   {
    "duration": 33,
    "start_time": "2021-09-14T19:39:38.985Z"
   },
   {
    "duration": 41,
    "start_time": "2021-09-14T19:39:39.021Z"
   },
   {
    "duration": 89,
    "start_time": "2021-09-14T19:39:39.064Z"
   },
   {
    "duration": 31,
    "start_time": "2021-09-14T19:39:39.156Z"
   },
   {
    "duration": 32,
    "start_time": "2021-09-14T19:39:39.189Z"
   },
   {
    "duration": 33,
    "start_time": "2021-09-14T19:39:39.224Z"
   },
   {
    "duration": 24,
    "start_time": "2021-09-14T19:39:39.260Z"
   },
   {
    "duration": 498,
    "start_time": "2021-09-14T19:39:39.287Z"
   },
   {
    "duration": 30,
    "start_time": "2021-09-14T19:39:39.787Z"
   },
   {
    "duration": 25,
    "start_time": "2021-09-14T19:39:39.820Z"
   },
   {
    "duration": 17,
    "start_time": "2021-09-14T19:39:39.848Z"
   },
   {
    "duration": 414,
    "start_time": "2021-09-14T19:39:39.868Z"
   },
   {
    "duration": 32,
    "start_time": "2021-09-14T19:39:40.285Z"
   },
   {
    "duration": 424,
    "start_time": "2021-09-14T19:39:40.320Z"
   },
   {
    "duration": 18,
    "start_time": "2021-09-14T19:39:40.747Z"
   },
   {
    "duration": 351,
    "start_time": "2021-09-14T19:39:40.767Z"
   },
   {
    "duration": 25,
    "start_time": "2021-09-14T19:39:41.121Z"
   },
   {
    "duration": 11,
    "start_time": "2021-09-14T19:39:41.148Z"
   },
   {
    "duration": 57,
    "start_time": "2021-09-14T19:39:41.162Z"
   },
   {
    "duration": 12,
    "start_time": "2021-09-14T19:39:41.222Z"
   },
   {
    "duration": 20,
    "start_time": "2021-09-14T19:39:41.237Z"
   },
   {
    "duration": 19,
    "start_time": "2021-09-14T19:39:41.260Z"
   },
   {
    "duration": 26,
    "start_time": "2021-09-14T19:39:41.317Z"
   },
   {
    "duration": 39,
    "start_time": "2021-09-14T19:39:41.345Z"
   },
   {
    "duration": 34,
    "start_time": "2021-09-14T19:39:41.386Z"
   },
   {
    "duration": 7,
    "start_time": "2021-09-14T19:39:41.422Z"
   },
   {
    "duration": 1699,
    "start_time": "2021-09-14T19:39:41.432Z"
   },
   {
    "duration": 15,
    "start_time": "2021-09-14T19:39:43.133Z"
   },
   {
    "duration": 23,
    "start_time": "2021-09-14T19:39:43.150Z"
   },
   {
    "duration": 54,
    "start_time": "2021-09-14T19:39:43.175Z"
   },
   {
    "duration": 12,
    "start_time": "2021-09-14T19:39:43.231Z"
   },
   {
    "duration": 19,
    "start_time": "2021-09-14T19:39:43.245Z"
   },
   {
    "duration": 21,
    "start_time": "2021-09-14T19:39:43.267Z"
   },
   {
    "duration": 33,
    "start_time": "2021-09-14T19:39:43.294Z"
   },
   {
    "duration": 9,
    "start_time": "2021-09-14T19:39:43.329Z"
   },
   {
    "duration": 611,
    "start_time": "2021-09-14T19:39:43.341Z"
   },
   {
    "duration": 33,
    "start_time": "2021-09-14T19:39:43.954Z"
   },
   {
    "duration": 28,
    "start_time": "2021-09-14T19:39:43.990Z"
   },
   {
    "duration": 580,
    "start_time": "2021-09-14T19:39:44.021Z"
   },
   {
    "duration": 32,
    "start_time": "2021-09-14T19:39:44.603Z"
   },
   {
    "duration": 29,
    "start_time": "2021-09-14T19:39:44.638Z"
   },
   {
    "duration": 18,
    "start_time": "2021-09-14T19:39:44.670Z"
   },
   {
    "duration": 407,
    "start_time": "2021-09-14T19:39:44.691Z"
   },
   {
    "duration": 25,
    "start_time": "2021-09-14T19:39:45.101Z"
   },
   {
    "duration": 330,
    "start_time": "2021-09-14T19:39:45.129Z"
   },
   {
    "duration": 17,
    "start_time": "2021-09-14T19:39:45.461Z"
   },
   {
    "duration": 2203,
    "start_time": "2021-09-14T19:40:17.538Z"
   },
   {
    "duration": 62,
    "start_time": "2021-09-14T19:40:19.745Z"
   },
   {
    "duration": 21,
    "start_time": "2021-09-14T19:40:19.810Z"
   },
   {
    "duration": 14,
    "start_time": "2021-09-14T19:40:19.833Z"
   },
   {
    "duration": 21,
    "start_time": "2021-09-14T19:40:19.849Z"
   },
   {
    "duration": 6,
    "start_time": "2021-09-14T19:40:19.872Z"
   },
   {
    "duration": 4794,
    "start_time": "2021-09-14T19:40:19.880Z"
   },
   {
    "duration": 57,
    "start_time": "2021-09-14T19:40:24.680Z"
   },
   {
    "duration": 11,
    "start_time": "2021-09-14T19:40:24.740Z"
   },
   {
    "duration": 14,
    "start_time": "2021-09-14T19:40:24.753Z"
   },
   {
    "duration": 181,
    "start_time": "2021-09-14T19:40:24.769Z"
   },
   {
    "duration": 10,
    "start_time": "2021-09-14T19:40:24.952Z"
   },
   {
    "duration": 25,
    "start_time": "2021-09-14T19:40:24.964Z"
   },
   {
    "duration": 87,
    "start_time": "2021-09-14T19:40:24.991Z"
   },
   {
    "duration": 38,
    "start_time": "2021-09-14T19:40:25.081Z"
   },
   {
    "duration": 1221,
    "start_time": "2021-09-14T19:40:25.122Z"
   },
   {
    "duration": 12,
    "start_time": "2021-09-14T19:40:26.345Z"
   },
   {
    "duration": 10,
    "start_time": "2021-09-14T19:40:26.359Z"
   },
   {
    "duration": 1046,
    "start_time": "2021-09-14T19:40:26.372Z"
   },
   {
    "duration": 16,
    "start_time": "2021-09-14T19:40:27.421Z"
   },
   {
    "duration": 51,
    "start_time": "2021-09-14T19:40:27.439Z"
   },
   {
    "duration": 36,
    "start_time": "2021-09-14T19:40:27.493Z"
   },
   {
    "duration": 37,
    "start_time": "2021-09-14T19:40:27.536Z"
   },
   {
    "duration": 81,
    "start_time": "2021-09-14T19:40:27.577Z"
   },
   {
    "duration": 30,
    "start_time": "2021-09-14T19:40:27.661Z"
   },
   {
    "duration": 28,
    "start_time": "2021-09-14T19:40:27.693Z"
   },
   {
    "duration": 34,
    "start_time": "2021-09-14T19:40:27.723Z"
   },
   {
    "duration": 17,
    "start_time": "2021-09-14T19:40:27.760Z"
   },
   {
    "duration": 844,
    "start_time": "2021-09-14T19:40:27.780Z"
   },
   {
    "duration": 22,
    "start_time": "2021-09-14T19:40:28.626Z"
   },
   {
    "duration": 84,
    "start_time": "2021-09-14T19:40:28.651Z"
   },
   {
    "duration": 18,
    "start_time": "2021-09-14T19:40:28.737Z"
   },
   {
    "duration": 597,
    "start_time": "2021-09-14T19:40:28.758Z"
   },
   {
    "duration": 9,
    "start_time": "2021-09-14T19:40:29.357Z"
   },
   {
    "duration": 449,
    "start_time": "2021-09-14T19:40:29.368Z"
   },
   {
    "duration": 17,
    "start_time": "2021-09-14T19:40:29.819Z"
   },
   {
    "duration": 369,
    "start_time": "2021-09-14T19:40:29.839Z"
   },
   {
    "duration": 30,
    "start_time": "2021-09-14T19:40:30.210Z"
   },
   {
    "duration": 11,
    "start_time": "2021-09-14T19:40:30.243Z"
   },
   {
    "duration": 61,
    "start_time": "2021-09-14T19:40:30.257Z"
   },
   {
    "duration": 13,
    "start_time": "2021-09-14T19:40:30.320Z"
   },
   {
    "duration": 23,
    "start_time": "2021-09-14T19:40:30.336Z"
   },
   {
    "duration": 23,
    "start_time": "2021-09-14T19:40:30.361Z"
   },
   {
    "duration": 54,
    "start_time": "2021-09-14T19:40:30.387Z"
   },
   {
    "duration": 49,
    "start_time": "2021-09-14T19:40:30.444Z"
   },
   {
    "duration": 24,
    "start_time": "2021-09-14T19:40:30.496Z"
   },
   {
    "duration": 47,
    "start_time": "2021-09-14T19:40:30.523Z"
   },
   {
    "duration": 1445,
    "start_time": "2021-09-14T19:40:30.573Z"
   },
   {
    "duration": 13,
    "start_time": "2021-09-14T19:40:32.021Z"
   },
   {
    "duration": 31,
    "start_time": "2021-09-14T19:40:32.036Z"
   },
   {
    "duration": 25,
    "start_time": "2021-09-14T19:40:32.070Z"
   },
   {
    "duration": 27,
    "start_time": "2021-09-14T19:40:32.097Z"
   },
   {
    "duration": 11,
    "start_time": "2021-09-14T19:40:32.126Z"
   },
   {
    "duration": 31,
    "start_time": "2021-09-14T19:40:32.139Z"
   },
   {
    "duration": 17,
    "start_time": "2021-09-14T19:40:32.173Z"
   },
   {
    "duration": 8,
    "start_time": "2021-09-14T19:40:32.216Z"
   },
   {
    "duration": 605,
    "start_time": "2021-09-14T19:40:32.226Z"
   },
   {
    "duration": 36,
    "start_time": "2021-09-14T19:40:32.834Z"
   },
   {
    "duration": 17,
    "start_time": "2021-09-14T19:40:32.873Z"
   },
   {
    "duration": 571,
    "start_time": "2021-09-14T19:40:32.893Z"
   },
   {
    "duration": 22,
    "start_time": "2021-09-14T19:40:33.467Z"
   },
   {
    "duration": 46,
    "start_time": "2021-09-14T19:40:33.491Z"
   },
   {
    "duration": 5,
    "start_time": "2021-09-14T19:40:33.540Z"
   },
   {
    "duration": 416,
    "start_time": "2021-09-14T19:40:33.548Z"
   },
   {
    "duration": 16,
    "start_time": "2021-09-14T19:40:33.966Z"
   },
   {
    "duration": 325,
    "start_time": "2021-09-14T19:40:33.985Z"
   },
   {
    "duration": 16,
    "start_time": "2021-09-14T19:40:34.312Z"
   }
  ],
  "kernelspec": {
   "display_name": "Python 3",
   "language": "python",
   "name": "python3"
  },
  "language_info": {
   "codemirror_mode": {
    "name": "ipython",
    "version": 3
   },
   "file_extension": ".py",
   "mimetype": "text/x-python",
   "name": "python",
   "nbconvert_exporter": "python",
   "pygments_lexer": "ipython3",
   "version": "3.7.10"
  },
  "toc": {
   "base_numbering": 1,
   "nav_menu": {},
   "number_sections": true,
   "sideBar": true,
   "skip_h1_title": true,
   "title_cell": "Table of Contents",
   "title_sidebar": "Contents",
   "toc_cell": false,
   "toc_position": {
    "height": "calc(100% - 180px)",
    "left": "10px",
    "top": "150px",
    "width": "188.05px"
   },
   "toc_section_display": true,
   "toc_window_display": false
  }
 },
 "nbformat": 4,
 "nbformat_minor": 2
}
