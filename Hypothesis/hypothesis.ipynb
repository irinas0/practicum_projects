{
 "cells": [
  {
   "cell_type": "markdown",
   "metadata": {},
   "source": [
    "# Аналитика интернет-магазина"
   ]
  },
  {
   "cell_type": "code",
   "execution_count": 1,
   "metadata": {},
   "outputs": [],
   "source": [
    "import pandas as pd\n",
    "import scipy.stats as stats\n",
    "import datetime as dt\n",
    "import numpy as np\n",
    "import matplotlib.pyplot as plt\n",
    "pd.options.display.max_colwidth = 100\n",
    "import warnings\n",
    "warnings.filterwarnings('ignore')"
   ]
  },
  {
   "cell_type": "markdown",
   "metadata": {},
   "source": [
    "## Приоритизация гипотез"
   ]
  },
  {
   "cell_type": "code",
   "execution_count": 2,
   "metadata": {},
   "outputs": [],
   "source": [
    "hypothesis = pd.read_csv('hypothesis.csv')"
   ]
  },
  {
   "cell_type": "markdown",
   "metadata": {},
   "source": [
    "Получили список гипотез с параметрами"
   ]
  },
  {
   "cell_type": "code",
   "execution_count": 3,
   "metadata": {},
   "outputs": [],
   "source": [
    "hypothesis.columns=['hypothesis','reach','impact','confidence','efforts']"
   ]
  },
  {
   "cell_type": "code",
   "execution_count": 4,
   "metadata": {},
   "outputs": [
    {
     "name": "stdout",
     "output_type": "stream",
     "text": [
      "                                                                                            hypothesis  \\\n",
      "0   Добавить два новых канала привлечения трафика, что позволит привлекать на 30% больше пользователей   \n",
      "1                            Запустить собственную службу доставки, что сократит срок доставки заказов   \n",
      "2  Добавить блоки рекомендаций товаров на сайт интернет магазина, чтобы повысить конверсию и средни...   \n",
      "3  Изменить структура категорий, что увеличит конверсию, т.к. пользователи быстрее найдут нужный товар   \n",
      "4                     Изменить цвет фона главной страницы, чтобы увеличить вовлеченность пользователей   \n",
      "5             Добавить страницу отзывов клиентов о магазине, что позволит увеличить количество заказов   \n",
      "6  Показать на главной странице баннеры с актуальными акциями и распродажами, чтобы увеличить конве...   \n",
      "7     Добавить форму подписки на все основные страницы, чтобы собрать базу клиентов для email-рассылок   \n",
      "8                                              Запустить акцию, дающую скидку на товар в день рождения   \n",
      "\n",
      "   reach  impact  confidence  efforts  \n",
      "0      3      10           8        6  \n",
      "1      2       5           4       10  \n",
      "2      8       3           7        3  \n",
      "3      8       3           3        8  \n",
      "4      3       1           1        1  \n",
      "5      3       2           2        3  \n",
      "6      5       3           8        3  \n",
      "7     10       7           8        5  \n",
      "8      1       9           9        5  \n"
     ]
    }
   ],
   "source": [
    "print(hypothesis)"
   ]
  },
  {
   "cell_type": "markdown",
   "metadata": {},
   "source": [
    "Применим фреймворк ICE для приоритизации гипотез"
   ]
  },
  {
   "cell_type": "code",
   "execution_count": 5,
   "metadata": {},
   "outputs": [
    {
     "name": "stdout",
     "output_type": "stream",
     "text": [
      "                                                                                            hypothesis  \\\n",
      "8                                              Запустить акцию, дающую скидку на товар в день рождения   \n",
      "0   Добавить два новых канала привлечения трафика, что позволит привлекать на 30% больше пользователей   \n",
      "7     Добавить форму подписки на все основные страницы, чтобы собрать базу клиентов для email-рассылок   \n",
      "6  Показать на главной странице баннеры с актуальными акциями и распродажами, чтобы увеличить конве...   \n",
      "2  Добавить блоки рекомендаций товаров на сайт интернет магазина, чтобы повысить конверсию и средни...   \n",
      "1                            Запустить собственную службу доставки, что сократит срок доставки заказов   \n",
      "5             Добавить страницу отзывов клиентов о магазине, что позволит увеличить количество заказов   \n",
      "3  Изменить структура категорий, что увеличит конверсию, т.к. пользователи быстрее найдут нужный товар   \n",
      "4                     Изменить цвет фона главной страницы, чтобы увеличить вовлеченность пользователей   \n",
      "\n",
      "     ICE  \n",
      "8  16.20  \n",
      "0  13.33  \n",
      "7  11.20  \n",
      "6   8.00  \n",
      "2   7.00  \n",
      "1   2.00  \n",
      "5   1.33  \n",
      "3   1.12  \n",
      "4   1.00  \n"
     ]
    }
   ],
   "source": [
    "hypothesis['ICE'] = hypothesis['impact']*hypothesis['confidence']/hypothesis['efforts']\n",
    "\n",
    "print(hypothesis[['hypothesis','ICE']].sort_values(by='ICE', ascending=False).round(2))"
   ]
  },
  {
   "cell_type": "markdown",
   "metadata": {},
   "source": [
    "Применим фреймворк RICE для приоритизации гипотез"
   ]
  },
  {
   "cell_type": "code",
   "execution_count": 6,
   "metadata": {},
   "outputs": [
    {
     "name": "stdout",
     "output_type": "stream",
     "text": [
      "                                                                                            hypothesis  \\\n",
      "7     Добавить форму подписки на все основные страницы, чтобы собрать базу клиентов для email-рассылок   \n",
      "2  Добавить блоки рекомендаций товаров на сайт интернет магазина, чтобы повысить конверсию и средни...   \n",
      "0   Добавить два новых канала привлечения трафика, что позволит привлекать на 30% больше пользователей   \n",
      "6  Показать на главной странице баннеры с актуальными акциями и распродажами, чтобы увеличить конве...   \n",
      "8                                              Запустить акцию, дающую скидку на товар в день рождения   \n",
      "3  Изменить структура категорий, что увеличит конверсию, т.к. пользователи быстрее найдут нужный товар   \n",
      "1                            Запустить собственную службу доставки, что сократит срок доставки заказов   \n",
      "5             Добавить страницу отзывов клиентов о магазине, что позволит увеличить количество заказов   \n",
      "4                     Изменить цвет фона главной страницы, чтобы увеличить вовлеченность пользователей   \n",
      "\n",
      "    RICE  \n",
      "7  112.0  \n",
      "2   56.0  \n",
      "0   40.0  \n",
      "6   40.0  \n",
      "8   16.2  \n",
      "3    9.0  \n",
      "1    4.0  \n",
      "5    4.0  \n",
      "4    3.0  \n"
     ]
    }
   ],
   "source": [
    "hypothesis['RICE']=(hypothesis['reach']*hypothesis['impact']*hypothesis['confidence'])/hypothesis['efforts']\n",
    "print(hypothesis[['hypothesis','RICE']].sort_values(by='RICE',ascending=False))"
   ]
  },
  {
   "cell_type": "markdown",
   "metadata": {},
   "source": [
    "Формулы расчета отличаются коеффициентом reach. У 7 и 2 гипотез они 10 и 8 соответственно, больше, чем все остальные. Поэтому эти гипотезы переместились на верхние строчки."
   ]
  },
  {
   "cell_type": "markdown",
   "metadata": {},
   "source": [
    "## Анализ A/B-теста"
   ]
  },
  {
   "cell_type": "markdown",
   "metadata": {},
   "source": [
    "### Обзор файлов"
   ]
  },
  {
   "cell_type": "markdown",
   "metadata": {},
   "source": [
    "Имеем 2 файла с результатами A/B-теста"
   ]
  },
  {
   "cell_type": "code",
   "execution_count": 7,
   "metadata": {},
   "outputs": [],
   "source": [
    "orders=pd.read_csv('orders.csv')\n",
    "visitors=pd.read_csv('visitors.csv')"
   ]
  },
  {
   "cell_type": "code",
   "execution_count": 8,
   "metadata": {},
   "outputs": [
    {
     "data": {
      "text/html": [
       "<div>\n",
       "<style scoped>\n",
       "    .dataframe tbody tr th:only-of-type {\n",
       "        vertical-align: middle;\n",
       "    }\n",
       "\n",
       "    .dataframe tbody tr th {\n",
       "        vertical-align: top;\n",
       "    }\n",
       "\n",
       "    .dataframe thead th {\n",
       "        text-align: right;\n",
       "    }\n",
       "</style>\n",
       "<table border=\"1\" class=\"dataframe\">\n",
       "  <thead>\n",
       "    <tr style=\"text-align: right;\">\n",
       "      <th></th>\n",
       "      <th>transactionId</th>\n",
       "      <th>visitorId</th>\n",
       "      <th>date</th>\n",
       "      <th>revenue</th>\n",
       "      <th>group</th>\n",
       "    </tr>\n",
       "  </thead>\n",
       "  <tbody>\n",
       "    <tr>\n",
       "      <td>0</td>\n",
       "      <td>3667963787</td>\n",
       "      <td>3312258926</td>\n",
       "      <td>2019-08-15</td>\n",
       "      <td>1650</td>\n",
       "      <td>B</td>\n",
       "    </tr>\n",
       "    <tr>\n",
       "      <td>1</td>\n",
       "      <td>2804400009</td>\n",
       "      <td>3642806036</td>\n",
       "      <td>2019-08-15</td>\n",
       "      <td>730</td>\n",
       "      <td>B</td>\n",
       "    </tr>\n",
       "    <tr>\n",
       "      <td>2</td>\n",
       "      <td>2961555356</td>\n",
       "      <td>4069496402</td>\n",
       "      <td>2019-08-15</td>\n",
       "      <td>400</td>\n",
       "      <td>A</td>\n",
       "    </tr>\n",
       "    <tr>\n",
       "      <td>3</td>\n",
       "      <td>3797467345</td>\n",
       "      <td>1196621759</td>\n",
       "      <td>2019-08-15</td>\n",
       "      <td>9759</td>\n",
       "      <td>B</td>\n",
       "    </tr>\n",
       "    <tr>\n",
       "      <td>4</td>\n",
       "      <td>2282983706</td>\n",
       "      <td>2322279887</td>\n",
       "      <td>2019-08-15</td>\n",
       "      <td>2308</td>\n",
       "      <td>B</td>\n",
       "    </tr>\n",
       "  </tbody>\n",
       "</table>\n",
       "</div>"
      ],
      "text/plain": [
       "   transactionId   visitorId        date  revenue group\n",
       "0     3667963787  3312258926  2019-08-15     1650     B\n",
       "1     2804400009  3642806036  2019-08-15      730     B\n",
       "2     2961555356  4069496402  2019-08-15      400     A\n",
       "3     3797467345  1196621759  2019-08-15     9759     B\n",
       "4     2282983706  2322279887  2019-08-15     2308     B"
      ]
     },
     "execution_count": 8,
     "metadata": {},
     "output_type": "execute_result"
    }
   ],
   "source": [
    "orders.head()"
   ]
  },
  {
   "cell_type": "code",
   "execution_count": 9,
   "metadata": {},
   "outputs": [
    {
     "data": {
      "text/html": [
       "<div>\n",
       "<style scoped>\n",
       "    .dataframe tbody tr th:only-of-type {\n",
       "        vertical-align: middle;\n",
       "    }\n",
       "\n",
       "    .dataframe tbody tr th {\n",
       "        vertical-align: top;\n",
       "    }\n",
       "\n",
       "    .dataframe thead th {\n",
       "        text-align: right;\n",
       "    }\n",
       "</style>\n",
       "<table border=\"1\" class=\"dataframe\">\n",
       "  <thead>\n",
       "    <tr style=\"text-align: right;\">\n",
       "      <th></th>\n",
       "      <th>date</th>\n",
       "      <th>group</th>\n",
       "      <th>visitors</th>\n",
       "    </tr>\n",
       "  </thead>\n",
       "  <tbody>\n",
       "    <tr>\n",
       "      <td>0</td>\n",
       "      <td>2019-08-01</td>\n",
       "      <td>A</td>\n",
       "      <td>719</td>\n",
       "    </tr>\n",
       "    <tr>\n",
       "      <td>1</td>\n",
       "      <td>2019-08-02</td>\n",
       "      <td>A</td>\n",
       "      <td>619</td>\n",
       "    </tr>\n",
       "    <tr>\n",
       "      <td>2</td>\n",
       "      <td>2019-08-03</td>\n",
       "      <td>A</td>\n",
       "      <td>507</td>\n",
       "    </tr>\n",
       "    <tr>\n",
       "      <td>3</td>\n",
       "      <td>2019-08-04</td>\n",
       "      <td>A</td>\n",
       "      <td>717</td>\n",
       "    </tr>\n",
       "    <tr>\n",
       "      <td>4</td>\n",
       "      <td>2019-08-05</td>\n",
       "      <td>A</td>\n",
       "      <td>756</td>\n",
       "    </tr>\n",
       "  </tbody>\n",
       "</table>\n",
       "</div>"
      ],
      "text/plain": [
       "         date group  visitors\n",
       "0  2019-08-01     A       719\n",
       "1  2019-08-02     A       619\n",
       "2  2019-08-03     A       507\n",
       "3  2019-08-04     A       717\n",
       "4  2019-08-05     A       756"
      ]
     },
     "execution_count": 9,
     "metadata": {},
     "output_type": "execute_result"
    }
   ],
   "source": [
    "visitors.head()"
   ]
  },
  {
   "cell_type": "markdown",
   "metadata": {},
   "source": [
    "Чуть-чуть преобразуем файлы"
   ]
  },
  {
   "cell_type": "code",
   "execution_count": 10,
   "metadata": {},
   "outputs": [],
   "source": [
    "orders.columns=['transactionid','visitorid','date','revenue','group']"
   ]
  },
  {
   "cell_type": "code",
   "execution_count": 11,
   "metadata": {},
   "outputs": [],
   "source": [
    "orders['date'] = orders['date'].map(\n",
    "    lambda x: dt.datetime.strptime(x, '%Y-%m-%d'))"
   ]
  },
  {
   "cell_type": "code",
   "execution_count": 12,
   "metadata": {},
   "outputs": [],
   "source": [
    "visitors['date'] = visitors['date'].map(\n",
    "    lambda x: dt.datetime.strptime(x, '%Y-%m-%d'))"
   ]
  },
  {
   "cell_type": "markdown",
   "metadata": {},
   "source": [
    "Проверим на дубли в группах"
   ]
  },
  {
   "cell_type": "code",
   "execution_count": 13,
   "metadata": {},
   "outputs": [
    {
     "data": {
      "text/html": [
       "<div>\n",
       "<style scoped>\n",
       "    .dataframe tbody tr th:only-of-type {\n",
       "        vertical-align: middle;\n",
       "    }\n",
       "\n",
       "    .dataframe tbody tr th {\n",
       "        vertical-align: top;\n",
       "    }\n",
       "\n",
       "    .dataframe thead th {\n",
       "        text-align: right;\n",
       "    }\n",
       "</style>\n",
       "<table border=\"1\" class=\"dataframe\">\n",
       "  <thead>\n",
       "    <tr style=\"text-align: right;\">\n",
       "      <th></th>\n",
       "      <th>visitorid</th>\n",
       "      <th>group_x</th>\n",
       "      <th>group_y</th>\n",
       "    </tr>\n",
       "  </thead>\n",
       "  <tbody>\n",
       "    <tr>\n",
       "      <td>0</td>\n",
       "      <td>4069496402</td>\n",
       "      <td>A</td>\n",
       "      <td>B</td>\n",
       "    </tr>\n",
       "    <tr>\n",
       "      <td>1</td>\n",
       "      <td>199603092</td>\n",
       "      <td>A</td>\n",
       "      <td>B</td>\n",
       "    </tr>\n",
       "    <tr>\n",
       "      <td>2</td>\n",
       "      <td>199603092</td>\n",
       "      <td>A</td>\n",
       "      <td>B</td>\n",
       "    </tr>\n",
       "    <tr>\n",
       "      <td>3</td>\n",
       "      <td>199603092</td>\n",
       "      <td>A</td>\n",
       "      <td>B</td>\n",
       "    </tr>\n",
       "    <tr>\n",
       "      <td>4</td>\n",
       "      <td>199603092</td>\n",
       "      <td>A</td>\n",
       "      <td>B</td>\n",
       "    </tr>\n",
       "    <tr>\n",
       "      <td>...</td>\n",
       "      <td>...</td>\n",
       "      <td>...</td>\n",
       "      <td>...</td>\n",
       "    </tr>\n",
       "    <tr>\n",
       "      <td>178</td>\n",
       "      <td>4186807279</td>\n",
       "      <td>A</td>\n",
       "      <td>B</td>\n",
       "    </tr>\n",
       "    <tr>\n",
       "      <td>179</td>\n",
       "      <td>4186807279</td>\n",
       "      <td>A</td>\n",
       "      <td>B</td>\n",
       "    </tr>\n",
       "    <tr>\n",
       "      <td>180</td>\n",
       "      <td>2712142231</td>\n",
       "      <td>A</td>\n",
       "      <td>B</td>\n",
       "    </tr>\n",
       "    <tr>\n",
       "      <td>181</td>\n",
       "      <td>2949041841</td>\n",
       "      <td>A</td>\n",
       "      <td>B</td>\n",
       "    </tr>\n",
       "    <tr>\n",
       "      <td>182</td>\n",
       "      <td>963407295</td>\n",
       "      <td>A</td>\n",
       "      <td>B</td>\n",
       "    </tr>\n",
       "  </tbody>\n",
       "</table>\n",
       "<p>183 rows × 3 columns</p>\n",
       "</div>"
      ],
      "text/plain": [
       "      visitorid group_x group_y\n",
       "0    4069496402       A       B\n",
       "1     199603092       A       B\n",
       "2     199603092       A       B\n",
       "3     199603092       A       B\n",
       "4     199603092       A       B\n",
       "..          ...     ...     ...\n",
       "178  4186807279       A       B\n",
       "179  4186807279       A       B\n",
       "180  2712142231       A       B\n",
       "181  2949041841       A       B\n",
       "182   963407295       A       B\n",
       "\n",
       "[183 rows x 3 columns]"
      ]
     },
     "execution_count": 13,
     "metadata": {},
     "output_type": "execute_result"
    }
   ],
   "source": [
    "ordersA=orders[orders['group']=='A']\n",
    "groupA=ordersA[['visitorid','group']]\n",
    "ordersB=orders[orders['group']=='B']\n",
    "groupB=ordersB[['visitorid','group']]\n",
    "groupAB=groupA.merge(groupB,on='visitorid',how='inner')\n",
    "groupAB"
   ]
  },
  {
   "cell_type": "code",
   "execution_count": 14,
   "metadata": {},
   "outputs": [
    {
     "data": {
      "text/plain": [
       "2458001652    30\n",
       "4256040402    28\n",
       "2378935119    20\n",
       "2038680547    15\n",
       "1230306981     6\n",
       "237748145      4\n",
       "3717692402     4\n",
       "199603092      4\n",
       "3803269165     4\n",
       "3062433592     4\n",
       "457167155      3\n",
       "1614305549     3\n",
       "2587333274     3\n",
       "1738359350     2\n",
       "393266494      2\n",
       "2044997962     2\n",
       "1404934699     2\n",
       "3984495233     2\n",
       "1294878855     2\n",
       "3891541246     2\n",
       "1668030113     2\n",
       "2780786433     2\n",
       "4186807279     2\n",
       "477780734      1\n",
       "1602967004     1\n",
       "1801183820     1\n",
       "3766097110     1\n",
       "2686716486     1\n",
       "1333886533     1\n",
       "351125977      1\n",
       "3656415546     1\n",
       "3951559397     1\n",
       "3234906277     1\n",
       "3963646447     1\n",
       "1959144690     1\n",
       "2654030115     1\n",
       "4266935830     1\n",
       "2949041841     1\n",
       "2954449915     1\n",
       "3941795274     1\n",
       "4069496402     1\n",
       "8300375        1\n",
       "232979603      1\n",
       "2927087541     1\n",
       "818047933      1\n",
       "2716752286     1\n",
       "963407295      1\n",
       "2712142231     1\n",
       "471551937      1\n",
       "4120364173     1\n",
       "276558944      1\n",
       "1648269707     1\n",
       "2579882178     1\n",
       "3202540741     1\n",
       "3957174400     1\n",
       "1316129916     1\n",
       "2600415354     1\n",
       "3972127743     1\n",
       "Name: visitorid, dtype: int64"
      ]
     },
     "execution_count": 14,
     "metadata": {},
     "output_type": "execute_result"
    }
   ],
   "source": [
    "groupAB_counts=groupAB['visitorid'].value_counts()\n",
    "groupAB_counts"
   ]
  },
  {
   "cell_type": "code",
   "execution_count": 15,
   "metadata": {},
   "outputs": [
    {
     "data": {
      "text/plain": [
       "58"
      ]
     },
     "execution_count": 15,
     "metadata": {},
     "output_type": "execute_result"
    }
   ],
   "source": [
    "groupAB_counts.count()"
   ]
  },
  {
   "cell_type": "code",
   "execution_count": 16,
   "metadata": {},
   "outputs": [
    {
     "data": {
      "text/plain": [
       "1031"
      ]
     },
     "execution_count": 16,
     "metadata": {},
     "output_type": "execute_result"
    }
   ],
   "source": [
    "orders['visitorid'].nunique()"
   ]
  },
  {
   "cell_type": "markdown",
   "metadata": {},
   "source": [
    " 58 : 1031 = 5.6% уникальных пользователей попали в обе группы, на которых приходится 181 :1197 = 15% всех покупок"
   ]
  },
  {
   "cell_type": "code",
   "execution_count": 17,
   "metadata": {},
   "outputs": [
    {
     "data": {
      "text/plain": [
       "23     477780734\n",
       "24    1602967004\n",
       "25    1801183820\n",
       "26    3766097110\n",
       "27    2686716486\n",
       "28    1333886533\n",
       "29     351125977\n",
       "30    3656415546\n",
       "31    3951559397\n",
       "32    3234906277\n",
       "33    3963646447\n",
       "34    1959144690\n",
       "35    2654030115\n",
       "36    4266935830\n",
       "37    2949041841\n",
       "38    2954449915\n",
       "39    3941795274\n",
       "40    4069496402\n",
       "41       8300375\n",
       "42     232979603\n",
       "43    2927087541\n",
       "44     818047933\n",
       "45    2716752286\n",
       "46     963407295\n",
       "47    2712142231\n",
       "48     471551937\n",
       "49    4120364173\n",
       "50     276558944\n",
       "51    1648269707\n",
       "52    2579882178\n",
       "53    3202540741\n",
       "54    3957174400\n",
       "55    1316129916\n",
       "56    2600415354\n",
       "57    3972127743\n",
       "Name: index, dtype: int64"
      ]
     },
     "execution_count": 17,
     "metadata": {},
     "output_type": "execute_result"
    }
   ],
   "source": [
    "groupAB_counts=groupAB_counts.reset_index()\n",
    "list_errors1 = groupAB_counts[groupAB_counts['visitorid']==1]['index']\n",
    "list_errors1"
   ]
  },
  {
   "cell_type": "code",
   "execution_count": 18,
   "metadata": {},
   "outputs": [
    {
     "data": {
      "text/html": [
       "<div>\n",
       "<style scoped>\n",
       "    .dataframe tbody tr th:only-of-type {\n",
       "        vertical-align: middle;\n",
       "    }\n",
       "\n",
       "    .dataframe tbody tr th {\n",
       "        vertical-align: top;\n",
       "    }\n",
       "\n",
       "    .dataframe thead th {\n",
       "        text-align: right;\n",
       "    }\n",
       "</style>\n",
       "<table border=\"1\" class=\"dataframe\">\n",
       "  <thead>\n",
       "    <tr style=\"text-align: right;\">\n",
       "      <th></th>\n",
       "      <th>transactionid</th>\n",
       "      <th>visitorid</th>\n",
       "      <th>date</th>\n",
       "      <th>revenue</th>\n",
       "      <th>group</th>\n",
       "    </tr>\n",
       "  </thead>\n",
       "  <tbody>\n",
       "    <tr>\n",
       "      <td>703</td>\n",
       "      <td>4293855558</td>\n",
       "      <td>8300375</td>\n",
       "      <td>2019-08-07</td>\n",
       "      <td>1790</td>\n",
       "      <td>A</td>\n",
       "    </tr>\n",
       "    <tr>\n",
       "      <td>71</td>\n",
       "      <td>3679129301</td>\n",
       "      <td>8300375</td>\n",
       "      <td>2019-08-01</td>\n",
       "      <td>10510</td>\n",
       "      <td>B</td>\n",
       "    </tr>\n",
       "    <tr>\n",
       "      <td>1009</td>\n",
       "      <td>2670069237</td>\n",
       "      <td>232979603</td>\n",
       "      <td>2019-08-31</td>\n",
       "      <td>2640</td>\n",
       "      <td>B</td>\n",
       "    </tr>\n",
       "    <tr>\n",
       "      <td>1013</td>\n",
       "      <td>83566152</td>\n",
       "      <td>232979603</td>\n",
       "      <td>2019-08-31</td>\n",
       "      <td>60</td>\n",
       "      <td>A</td>\n",
       "    </tr>\n",
       "    <tr>\n",
       "      <td>85</td>\n",
       "      <td>1701653566</td>\n",
       "      <td>276558944</td>\n",
       "      <td>2019-08-22</td>\n",
       "      <td>12350</td>\n",
       "      <td>B</td>\n",
       "    </tr>\n",
       "    <tr>\n",
       "      <td>...</td>\n",
       "      <td>...</td>\n",
       "      <td>...</td>\n",
       "      <td>...</td>\n",
       "      <td>...</td>\n",
       "      <td>...</td>\n",
       "    </tr>\n",
       "    <tr>\n",
       "      <td>1070</td>\n",
       "      <td>1473132782</td>\n",
       "      <td>4069496402</td>\n",
       "      <td>2019-08-12</td>\n",
       "      <td>640</td>\n",
       "      <td>B</td>\n",
       "    </tr>\n",
       "    <tr>\n",
       "      <td>1021</td>\n",
       "      <td>969750843</td>\n",
       "      <td>4120364173</td>\n",
       "      <td>2019-08-31</td>\n",
       "      <td>15500</td>\n",
       "      <td>B</td>\n",
       "    </tr>\n",
       "    <tr>\n",
       "      <td>627</td>\n",
       "      <td>4212256267</td>\n",
       "      <td>4120364173</td>\n",
       "      <td>2019-08-29</td>\n",
       "      <td>39800</td>\n",
       "      <td>A</td>\n",
       "    </tr>\n",
       "    <tr>\n",
       "      <td>682</td>\n",
       "      <td>1216533772</td>\n",
       "      <td>4266935830</td>\n",
       "      <td>2019-08-29</td>\n",
       "      <td>78990</td>\n",
       "      <td>B</td>\n",
       "    </tr>\n",
       "    <tr>\n",
       "      <td>662</td>\n",
       "      <td>1811671147</td>\n",
       "      <td>4266935830</td>\n",
       "      <td>2019-08-29</td>\n",
       "      <td>78990</td>\n",
       "      <td>A</td>\n",
       "    </tr>\n",
       "  </tbody>\n",
       "</table>\n",
       "<p>70 rows × 5 columns</p>\n",
       "</div>"
      ],
      "text/plain": [
       "      transactionid   visitorid       date  revenue group\n",
       "703      4293855558     8300375 2019-08-07     1790     A\n",
       "71       3679129301     8300375 2019-08-01    10510     B\n",
       "1009     2670069237   232979603 2019-08-31     2640     B\n",
       "1013       83566152   232979603 2019-08-31       60     A\n",
       "85       1701653566   276558944 2019-08-22    12350     B\n",
       "...             ...         ...        ...      ...   ...\n",
       "1070     1473132782  4069496402 2019-08-12      640     B\n",
       "1021      969750843  4120364173 2019-08-31    15500     B\n",
       "627      4212256267  4120364173 2019-08-29    39800     A\n",
       "682      1216533772  4266935830 2019-08-29    78990     B\n",
       "662      1811671147  4266935830 2019-08-29    78990     A\n",
       "\n",
       "[70 rows x 5 columns]"
      ]
     },
     "execution_count": 18,
     "metadata": {},
     "output_type": "execute_result"
    }
   ],
   "source": [
    "orders[orders['visitorid'].isin(list_errors1)].sort_values(by='visitorid')"
   ]
  },
  {
   "cell_type": "markdown",
   "metadata": {},
   "source": [
    "Как выяснилось даже записи с единичным пересечением это не дубли,а разные покупки, попавшие в разные группы."
   ]
  },
  {
   "cell_type": "markdown",
   "metadata": {},
   "source": [
    "По идее такие данные вообще нельзя принимать к рассмотрению. Но хотя бы из файла покупок уберем двойные visitorId и соответствено уберем количество из файла visitors (не может быть покупки без визита). При всем при этом еще неизвестно сколько визитеров без покупок попали в обе группы."
   ]
  },
  {
   "cell_type": "code",
   "execution_count": 19,
   "metadata": {},
   "outputs": [
    {
     "data": {
      "text/html": [
       "<div>\n",
       "<style scoped>\n",
       "    .dataframe tbody tr th:only-of-type {\n",
       "        vertical-align: middle;\n",
       "    }\n",
       "\n",
       "    .dataframe tbody tr th {\n",
       "        vertical-align: top;\n",
       "    }\n",
       "\n",
       "    .dataframe thead th {\n",
       "        text-align: right;\n",
       "    }\n",
       "</style>\n",
       "<table border=\"1\" class=\"dataframe\">\n",
       "  <thead>\n",
       "    <tr style=\"text-align: right;\">\n",
       "      <th></th>\n",
       "      <th>transactionid</th>\n",
       "      <th>visitorid</th>\n",
       "      <th>date</th>\n",
       "      <th>revenue</th>\n",
       "      <th>group</th>\n",
       "    </tr>\n",
       "  </thead>\n",
       "  <tbody>\n",
       "    <tr>\n",
       "      <td>703</td>\n",
       "      <td>4293855558</td>\n",
       "      <td>8300375</td>\n",
       "      <td>2019-08-07</td>\n",
       "      <td>1790</td>\n",
       "      <td>A</td>\n",
       "    </tr>\n",
       "    <tr>\n",
       "      <td>71</td>\n",
       "      <td>3679129301</td>\n",
       "      <td>8300375</td>\n",
       "      <td>2019-08-01</td>\n",
       "      <td>10510</td>\n",
       "      <td>B</td>\n",
       "    </tr>\n",
       "    <tr>\n",
       "      <td>823</td>\n",
       "      <td>2971973105</td>\n",
       "      <td>199603092</td>\n",
       "      <td>2019-08-27</td>\n",
       "      <td>2790</td>\n",
       "      <td>A</td>\n",
       "    </tr>\n",
       "    <tr>\n",
       "      <td>246</td>\n",
       "      <td>437656952</td>\n",
       "      <td>199603092</td>\n",
       "      <td>2019-08-02</td>\n",
       "      <td>3488</td>\n",
       "      <td>B</td>\n",
       "    </tr>\n",
       "    <tr>\n",
       "      <td>26</td>\n",
       "      <td>2223239646</td>\n",
       "      <td>199603092</td>\n",
       "      <td>2019-08-15</td>\n",
       "      <td>3488</td>\n",
       "      <td>A</td>\n",
       "    </tr>\n",
       "    <tr>\n",
       "      <td>...</td>\n",
       "      <td>...</td>\n",
       "      <td>...</td>\n",
       "      <td>...</td>\n",
       "      <td>...</td>\n",
       "      <td>...</td>\n",
       "    </tr>\n",
       "    <tr>\n",
       "      <td>187</td>\n",
       "      <td>2048878902</td>\n",
       "      <td>4256040402</td>\n",
       "      <td>2019-08-17</td>\n",
       "      <td>1550</td>\n",
       "      <td>A</td>\n",
       "    </tr>\n",
       "    <tr>\n",
       "      <td>114</td>\n",
       "      <td>1120327437</td>\n",
       "      <td>4256040402</td>\n",
       "      <td>2019-08-01</td>\n",
       "      <td>5800</td>\n",
       "      <td>A</td>\n",
       "    </tr>\n",
       "    <tr>\n",
       "      <td>60</td>\n",
       "      <td>1421016313</td>\n",
       "      <td>4256040402</td>\n",
       "      <td>2019-08-16</td>\n",
       "      <td>56650</td>\n",
       "      <td>B</td>\n",
       "    </tr>\n",
       "    <tr>\n",
       "      <td>662</td>\n",
       "      <td>1811671147</td>\n",
       "      <td>4266935830</td>\n",
       "      <td>2019-08-29</td>\n",
       "      <td>78990</td>\n",
       "      <td>A</td>\n",
       "    </tr>\n",
       "    <tr>\n",
       "      <td>682</td>\n",
       "      <td>1216533772</td>\n",
       "      <td>4266935830</td>\n",
       "      <td>2019-08-29</td>\n",
       "      <td>78990</td>\n",
       "      <td>B</td>\n",
       "    </tr>\n",
       "  </tbody>\n",
       "</table>\n",
       "<p>181 rows × 5 columns</p>\n",
       "</div>"
      ],
      "text/plain": [
       "     transactionid   visitorid       date  revenue group\n",
       "703     4293855558     8300375 2019-08-07     1790     A\n",
       "71      3679129301     8300375 2019-08-01    10510     B\n",
       "823     2971973105   199603092 2019-08-27     2790     A\n",
       "246      437656952   199603092 2019-08-02     3488     B\n",
       "26      2223239646   199603092 2019-08-15     3488     A\n",
       "..             ...         ...        ...      ...   ...\n",
       "187     2048878902  4256040402 2019-08-17     1550     A\n",
       "114     1120327437  4256040402 2019-08-01     5800     A\n",
       "60      1421016313  4256040402 2019-08-16    56650     B\n",
       "662     1811671147  4266935830 2019-08-29    78990     A\n",
       "682     1216533772  4266935830 2019-08-29    78990     B\n",
       "\n",
       "[181 rows x 5 columns]"
      ]
     },
     "execution_count": 19,
     "metadata": {},
     "output_type": "execute_result"
    }
   ],
   "source": [
    "list_errors = groupAB['visitorid'].unique()\n",
    "orders_d= orders[orders['visitorid'].isin(list_errors)]\n",
    "orders_d.sort_values(by='visitorid')"
   ]
  },
  {
   "cell_type": "code",
   "execution_count": 20,
   "metadata": {},
   "outputs": [
    {
     "data": {
      "text/html": [
       "<div>\n",
       "<style scoped>\n",
       "    .dataframe tbody tr th:only-of-type {\n",
       "        vertical-align: middle;\n",
       "    }\n",
       "\n",
       "    .dataframe tbody tr th {\n",
       "        vertical-align: top;\n",
       "    }\n",
       "\n",
       "    .dataframe thead th {\n",
       "        text-align: right;\n",
       "    }\n",
       "</style>\n",
       "<table border=\"1\" class=\"dataframe\">\n",
       "  <thead>\n",
       "    <tr style=\"text-align: right;\">\n",
       "      <th></th>\n",
       "      <th>date</th>\n",
       "      <th>group</th>\n",
       "      <th>visitorid</th>\n",
       "    </tr>\n",
       "  </thead>\n",
       "  <tbody>\n",
       "    <tr>\n",
       "      <td>0</td>\n",
       "      <td>2019-08-01</td>\n",
       "      <td>A</td>\n",
       "      <td>1</td>\n",
       "    </tr>\n",
       "    <tr>\n",
       "      <td>1</td>\n",
       "      <td>2019-08-01</td>\n",
       "      <td>B</td>\n",
       "      <td>4</td>\n",
       "    </tr>\n",
       "    <tr>\n",
       "      <td>2</td>\n",
       "      <td>2019-08-02</td>\n",
       "      <td>A</td>\n",
       "      <td>1</td>\n",
       "    </tr>\n",
       "    <tr>\n",
       "      <td>3</td>\n",
       "      <td>2019-08-02</td>\n",
       "      <td>B</td>\n",
       "      <td>1</td>\n",
       "    </tr>\n",
       "    <tr>\n",
       "      <td>4</td>\n",
       "      <td>2019-08-03</td>\n",
       "      <td>B</td>\n",
       "      <td>2</td>\n",
       "    </tr>\n",
       "    <tr>\n",
       "      <td>5</td>\n",
       "      <td>2019-08-04</td>\n",
       "      <td>A</td>\n",
       "      <td>5</td>\n",
       "    </tr>\n",
       "    <tr>\n",
       "      <td>6</td>\n",
       "      <td>2019-08-04</td>\n",
       "      <td>B</td>\n",
       "      <td>3</td>\n",
       "    </tr>\n",
       "    <tr>\n",
       "      <td>7</td>\n",
       "      <td>2019-08-05</td>\n",
       "      <td>A</td>\n",
       "      <td>3</td>\n",
       "    </tr>\n",
       "    <tr>\n",
       "      <td>8</td>\n",
       "      <td>2019-08-05</td>\n",
       "      <td>B</td>\n",
       "      <td>2</td>\n",
       "    </tr>\n",
       "    <tr>\n",
       "      <td>9</td>\n",
       "      <td>2019-08-06</td>\n",
       "      <td>A</td>\n",
       "      <td>3</td>\n",
       "    </tr>\n",
       "    <tr>\n",
       "      <td>10</td>\n",
       "      <td>2019-08-06</td>\n",
       "      <td>B</td>\n",
       "      <td>5</td>\n",
       "    </tr>\n",
       "    <tr>\n",
       "      <td>11</td>\n",
       "      <td>2019-08-07</td>\n",
       "      <td>A</td>\n",
       "      <td>2</td>\n",
       "    </tr>\n",
       "    <tr>\n",
       "      <td>12</td>\n",
       "      <td>2019-08-07</td>\n",
       "      <td>B</td>\n",
       "      <td>1</td>\n",
       "    </tr>\n",
       "    <tr>\n",
       "      <td>13</td>\n",
       "      <td>2019-08-08</td>\n",
       "      <td>A</td>\n",
       "      <td>2</td>\n",
       "    </tr>\n",
       "    <tr>\n",
       "      <td>14</td>\n",
       "      <td>2019-08-08</td>\n",
       "      <td>B</td>\n",
       "      <td>5</td>\n",
       "    </tr>\n",
       "    <tr>\n",
       "      <td>15</td>\n",
       "      <td>2019-08-09</td>\n",
       "      <td>A</td>\n",
       "      <td>5</td>\n",
       "    </tr>\n",
       "    <tr>\n",
       "      <td>16</td>\n",
       "      <td>2019-08-09</td>\n",
       "      <td>B</td>\n",
       "      <td>6</td>\n",
       "    </tr>\n",
       "    <tr>\n",
       "      <td>17</td>\n",
       "      <td>2019-08-10</td>\n",
       "      <td>A</td>\n",
       "      <td>1</td>\n",
       "    </tr>\n",
       "    <tr>\n",
       "      <td>18</td>\n",
       "      <td>2019-08-10</td>\n",
       "      <td>B</td>\n",
       "      <td>1</td>\n",
       "    </tr>\n",
       "    <tr>\n",
       "      <td>19</td>\n",
       "      <td>2019-08-11</td>\n",
       "      <td>A</td>\n",
       "      <td>2</td>\n",
       "    </tr>\n",
       "    <tr>\n",
       "      <td>20</td>\n",
       "      <td>2019-08-11</td>\n",
       "      <td>B</td>\n",
       "      <td>1</td>\n",
       "    </tr>\n",
       "    <tr>\n",
       "      <td>21</td>\n",
       "      <td>2019-08-12</td>\n",
       "      <td>A</td>\n",
       "      <td>5</td>\n",
       "    </tr>\n",
       "    <tr>\n",
       "      <td>22</td>\n",
       "      <td>2019-08-12</td>\n",
       "      <td>B</td>\n",
       "      <td>4</td>\n",
       "    </tr>\n",
       "    <tr>\n",
       "      <td>23</td>\n",
       "      <td>2019-08-13</td>\n",
       "      <td>B</td>\n",
       "      <td>1</td>\n",
       "    </tr>\n",
       "    <tr>\n",
       "      <td>24</td>\n",
       "      <td>2019-08-14</td>\n",
       "      <td>A</td>\n",
       "      <td>7</td>\n",
       "    </tr>\n",
       "    <tr>\n",
       "      <td>25</td>\n",
       "      <td>2019-08-14</td>\n",
       "      <td>B</td>\n",
       "      <td>9</td>\n",
       "    </tr>\n",
       "    <tr>\n",
       "      <td>26</td>\n",
       "      <td>2019-08-15</td>\n",
       "      <td>A</td>\n",
       "      <td>5</td>\n",
       "    </tr>\n",
       "    <tr>\n",
       "      <td>27</td>\n",
       "      <td>2019-08-15</td>\n",
       "      <td>B</td>\n",
       "      <td>5</td>\n",
       "    </tr>\n",
       "    <tr>\n",
       "      <td>28</td>\n",
       "      <td>2019-08-16</td>\n",
       "      <td>B</td>\n",
       "      <td>2</td>\n",
       "    </tr>\n",
       "    <tr>\n",
       "      <td>29</td>\n",
       "      <td>2019-08-17</td>\n",
       "      <td>A</td>\n",
       "      <td>4</td>\n",
       "    </tr>\n",
       "    <tr>\n",
       "      <td>30</td>\n",
       "      <td>2019-08-17</td>\n",
       "      <td>B</td>\n",
       "      <td>1</td>\n",
       "    </tr>\n",
       "    <tr>\n",
       "      <td>31</td>\n",
       "      <td>2019-08-18</td>\n",
       "      <td>A</td>\n",
       "      <td>4</td>\n",
       "    </tr>\n",
       "    <tr>\n",
       "      <td>32</td>\n",
       "      <td>2019-08-18</td>\n",
       "      <td>B</td>\n",
       "      <td>2</td>\n",
       "    </tr>\n",
       "    <tr>\n",
       "      <td>33</td>\n",
       "      <td>2019-08-19</td>\n",
       "      <td>A</td>\n",
       "      <td>1</td>\n",
       "    </tr>\n",
       "    <tr>\n",
       "      <td>34</td>\n",
       "      <td>2019-08-20</td>\n",
       "      <td>A</td>\n",
       "      <td>2</td>\n",
       "    </tr>\n",
       "    <tr>\n",
       "      <td>35</td>\n",
       "      <td>2019-08-21</td>\n",
       "      <td>A</td>\n",
       "      <td>3</td>\n",
       "    </tr>\n",
       "    <tr>\n",
       "      <td>36</td>\n",
       "      <td>2019-08-21</td>\n",
       "      <td>B</td>\n",
       "      <td>2</td>\n",
       "    </tr>\n",
       "    <tr>\n",
       "      <td>37</td>\n",
       "      <td>2019-08-22</td>\n",
       "      <td>A</td>\n",
       "      <td>6</td>\n",
       "    </tr>\n",
       "    <tr>\n",
       "      <td>38</td>\n",
       "      <td>2019-08-22</td>\n",
       "      <td>B</td>\n",
       "      <td>4</td>\n",
       "    </tr>\n",
       "    <tr>\n",
       "      <td>39</td>\n",
       "      <td>2019-08-23</td>\n",
       "      <td>A</td>\n",
       "      <td>5</td>\n",
       "    </tr>\n",
       "    <tr>\n",
       "      <td>40</td>\n",
       "      <td>2019-08-23</td>\n",
       "      <td>B</td>\n",
       "      <td>2</td>\n",
       "    </tr>\n",
       "    <tr>\n",
       "      <td>41</td>\n",
       "      <td>2019-08-24</td>\n",
       "      <td>A</td>\n",
       "      <td>2</td>\n",
       "    </tr>\n",
       "    <tr>\n",
       "      <td>42</td>\n",
       "      <td>2019-08-24</td>\n",
       "      <td>B</td>\n",
       "      <td>2</td>\n",
       "    </tr>\n",
       "    <tr>\n",
       "      <td>43</td>\n",
       "      <td>2019-08-25</td>\n",
       "      <td>A</td>\n",
       "      <td>2</td>\n",
       "    </tr>\n",
       "    <tr>\n",
       "      <td>44</td>\n",
       "      <td>2019-08-25</td>\n",
       "      <td>B</td>\n",
       "      <td>2</td>\n",
       "    </tr>\n",
       "    <tr>\n",
       "      <td>45</td>\n",
       "      <td>2019-08-26</td>\n",
       "      <td>B</td>\n",
       "      <td>3</td>\n",
       "    </tr>\n",
       "    <tr>\n",
       "      <td>46</td>\n",
       "      <td>2019-08-27</td>\n",
       "      <td>A</td>\n",
       "      <td>5</td>\n",
       "    </tr>\n",
       "    <tr>\n",
       "      <td>47</td>\n",
       "      <td>2019-08-27</td>\n",
       "      <td>B</td>\n",
       "      <td>5</td>\n",
       "    </tr>\n",
       "    <tr>\n",
       "      <td>48</td>\n",
       "      <td>2019-08-28</td>\n",
       "      <td>A</td>\n",
       "      <td>2</td>\n",
       "    </tr>\n",
       "    <tr>\n",
       "      <td>49</td>\n",
       "      <td>2019-08-28</td>\n",
       "      <td>B</td>\n",
       "      <td>6</td>\n",
       "    </tr>\n",
       "    <tr>\n",
       "      <td>50</td>\n",
       "      <td>2019-08-29</td>\n",
       "      <td>A</td>\n",
       "      <td>5</td>\n",
       "    </tr>\n",
       "    <tr>\n",
       "      <td>51</td>\n",
       "      <td>2019-08-29</td>\n",
       "      <td>B</td>\n",
       "      <td>5</td>\n",
       "    </tr>\n",
       "    <tr>\n",
       "      <td>52</td>\n",
       "      <td>2019-08-30</td>\n",
       "      <td>A</td>\n",
       "      <td>2</td>\n",
       "    </tr>\n",
       "    <tr>\n",
       "      <td>53</td>\n",
       "      <td>2019-08-30</td>\n",
       "      <td>B</td>\n",
       "      <td>3</td>\n",
       "    </tr>\n",
       "    <tr>\n",
       "      <td>54</td>\n",
       "      <td>2019-08-31</td>\n",
       "      <td>A</td>\n",
       "      <td>4</td>\n",
       "    </tr>\n",
       "    <tr>\n",
       "      <td>55</td>\n",
       "      <td>2019-08-31</td>\n",
       "      <td>B</td>\n",
       "      <td>3</td>\n",
       "    </tr>\n",
       "  </tbody>\n",
       "</table>\n",
       "</div>"
      ],
      "text/plain": [
       "         date group  visitorid\n",
       "0  2019-08-01     A          1\n",
       "1  2019-08-01     B          4\n",
       "2  2019-08-02     A          1\n",
       "3  2019-08-02     B          1\n",
       "4  2019-08-03     B          2\n",
       "5  2019-08-04     A          5\n",
       "6  2019-08-04     B          3\n",
       "7  2019-08-05     A          3\n",
       "8  2019-08-05     B          2\n",
       "9  2019-08-06     A          3\n",
       "10 2019-08-06     B          5\n",
       "11 2019-08-07     A          2\n",
       "12 2019-08-07     B          1\n",
       "13 2019-08-08     A          2\n",
       "14 2019-08-08     B          5\n",
       "15 2019-08-09     A          5\n",
       "16 2019-08-09     B          6\n",
       "17 2019-08-10     A          1\n",
       "18 2019-08-10     B          1\n",
       "19 2019-08-11     A          2\n",
       "20 2019-08-11     B          1\n",
       "21 2019-08-12     A          5\n",
       "22 2019-08-12     B          4\n",
       "23 2019-08-13     B          1\n",
       "24 2019-08-14     A          7\n",
       "25 2019-08-14     B          9\n",
       "26 2019-08-15     A          5\n",
       "27 2019-08-15     B          5\n",
       "28 2019-08-16     B          2\n",
       "29 2019-08-17     A          4\n",
       "30 2019-08-17     B          1\n",
       "31 2019-08-18     A          4\n",
       "32 2019-08-18     B          2\n",
       "33 2019-08-19     A          1\n",
       "34 2019-08-20     A          2\n",
       "35 2019-08-21     A          3\n",
       "36 2019-08-21     B          2\n",
       "37 2019-08-22     A          6\n",
       "38 2019-08-22     B          4\n",
       "39 2019-08-23     A          5\n",
       "40 2019-08-23     B          2\n",
       "41 2019-08-24     A          2\n",
       "42 2019-08-24     B          2\n",
       "43 2019-08-25     A          2\n",
       "44 2019-08-25     B          2\n",
       "45 2019-08-26     B          3\n",
       "46 2019-08-27     A          5\n",
       "47 2019-08-27     B          5\n",
       "48 2019-08-28     A          2\n",
       "49 2019-08-28     B          6\n",
       "50 2019-08-29     A          5\n",
       "51 2019-08-29     B          5\n",
       "52 2019-08-30     A          2\n",
       "53 2019-08-30     B          3\n",
       "54 2019-08-31     A          4\n",
       "55 2019-08-31     B          3"
      ]
     },
     "execution_count": 20,
     "metadata": {},
     "output_type": "execute_result"
    }
   ],
   "source": [
    "dоubles=orders_d.groupby(['date','group']).count()['visitorid'].reset_index()\n",
    "dоubles"
   ]
  },
  {
   "cell_type": "code",
   "execution_count": 21,
   "metadata": {},
   "outputs": [
    {
     "data": {
      "text/html": [
       "<div>\n",
       "<style scoped>\n",
       "    .dataframe tbody tr th:only-of-type {\n",
       "        vertical-align: middle;\n",
       "    }\n",
       "\n",
       "    .dataframe tbody tr th {\n",
       "        vertical-align: top;\n",
       "    }\n",
       "\n",
       "    .dataframe thead th {\n",
       "        text-align: right;\n",
       "    }\n",
       "</style>\n",
       "<table border=\"1\" class=\"dataframe\">\n",
       "  <thead>\n",
       "    <tr style=\"text-align: right;\">\n",
       "      <th></th>\n",
       "      <th>date</th>\n",
       "      <th>group</th>\n",
       "      <th>visitors</th>\n",
       "      <th>visitorid</th>\n",
       "      <th>visitors_new</th>\n",
       "    </tr>\n",
       "  </thead>\n",
       "  <tbody>\n",
       "    <tr>\n",
       "      <td>0</td>\n",
       "      <td>2019-08-01</td>\n",
       "      <td>A</td>\n",
       "      <td>719</td>\n",
       "      <td>1.0</td>\n",
       "      <td>718.0</td>\n",
       "    </tr>\n",
       "    <tr>\n",
       "      <td>1</td>\n",
       "      <td>2019-08-02</td>\n",
       "      <td>A</td>\n",
       "      <td>619</td>\n",
       "      <td>1.0</td>\n",
       "      <td>618.0</td>\n",
       "    </tr>\n",
       "    <tr>\n",
       "      <td>2</td>\n",
       "      <td>2019-08-03</td>\n",
       "      <td>A</td>\n",
       "      <td>507</td>\n",
       "      <td>0.0</td>\n",
       "      <td>507.0</td>\n",
       "    </tr>\n",
       "    <tr>\n",
       "      <td>3</td>\n",
       "      <td>2019-08-04</td>\n",
       "      <td>A</td>\n",
       "      <td>717</td>\n",
       "      <td>5.0</td>\n",
       "      <td>712.0</td>\n",
       "    </tr>\n",
       "    <tr>\n",
       "      <td>4</td>\n",
       "      <td>2019-08-05</td>\n",
       "      <td>A</td>\n",
       "      <td>756</td>\n",
       "      <td>3.0</td>\n",
       "      <td>753.0</td>\n",
       "    </tr>\n",
       "    <tr>\n",
       "      <td>...</td>\n",
       "      <td>...</td>\n",
       "      <td>...</td>\n",
       "      <td>...</td>\n",
       "      <td>...</td>\n",
       "      <td>...</td>\n",
       "    </tr>\n",
       "    <tr>\n",
       "      <td>57</td>\n",
       "      <td>2019-08-27</td>\n",
       "      <td>B</td>\n",
       "      <td>720</td>\n",
       "      <td>5.0</td>\n",
       "      <td>715.0</td>\n",
       "    </tr>\n",
       "    <tr>\n",
       "      <td>58</td>\n",
       "      <td>2019-08-28</td>\n",
       "      <td>B</td>\n",
       "      <td>654</td>\n",
       "      <td>6.0</td>\n",
       "      <td>648.0</td>\n",
       "    </tr>\n",
       "    <tr>\n",
       "      <td>59</td>\n",
       "      <td>2019-08-29</td>\n",
       "      <td>B</td>\n",
       "      <td>531</td>\n",
       "      <td>5.0</td>\n",
       "      <td>526.0</td>\n",
       "    </tr>\n",
       "    <tr>\n",
       "      <td>60</td>\n",
       "      <td>2019-08-30</td>\n",
       "      <td>B</td>\n",
       "      <td>490</td>\n",
       "      <td>3.0</td>\n",
       "      <td>487.0</td>\n",
       "    </tr>\n",
       "    <tr>\n",
       "      <td>61</td>\n",
       "      <td>2019-08-31</td>\n",
       "      <td>B</td>\n",
       "      <td>718</td>\n",
       "      <td>3.0</td>\n",
       "      <td>715.0</td>\n",
       "    </tr>\n",
       "  </tbody>\n",
       "</table>\n",
       "<p>62 rows × 5 columns</p>\n",
       "</div>"
      ],
      "text/plain": [
       "         date group  visitors  visitorid  visitors_new\n",
       "0  2019-08-01     A       719        1.0         718.0\n",
       "1  2019-08-02     A       619        1.0         618.0\n",
       "2  2019-08-03     A       507        0.0         507.0\n",
       "3  2019-08-04     A       717        5.0         712.0\n",
       "4  2019-08-05     A       756        3.0         753.0\n",
       "..        ...   ...       ...        ...           ...\n",
       "57 2019-08-27     B       720        5.0         715.0\n",
       "58 2019-08-28     B       654        6.0         648.0\n",
       "59 2019-08-29     B       531        5.0         526.0\n",
       "60 2019-08-30     B       490        3.0         487.0\n",
       "61 2019-08-31     B       718        3.0         715.0\n",
       "\n",
       "[62 rows x 5 columns]"
      ]
     },
     "execution_count": 21,
     "metadata": {},
     "output_type": "execute_result"
    }
   ],
   "source": [
    "visitors=visitors.merge(dоubles,on=['date','group'],how='outer').fillna(0)\n",
    "visitors['visitors_new']=visitors['visitors']-visitors['visitorid']\n",
    "visitors"
   ]
  },
  {
   "cell_type": "code",
   "execution_count": 22,
   "metadata": {
    "scrolled": true
   },
   "outputs": [
    {
     "data": {
      "text/html": [
       "<div>\n",
       "<style scoped>\n",
       "    .dataframe tbody tr th:only-of-type {\n",
       "        vertical-align: middle;\n",
       "    }\n",
       "\n",
       "    .dataframe tbody tr th {\n",
       "        vertical-align: top;\n",
       "    }\n",
       "\n",
       "    .dataframe thead th {\n",
       "        text-align: right;\n",
       "    }\n",
       "</style>\n",
       "<table border=\"1\" class=\"dataframe\">\n",
       "  <thead>\n",
       "    <tr style=\"text-align: right;\">\n",
       "      <th></th>\n",
       "      <th>date</th>\n",
       "      <th>group</th>\n",
       "      <th>visitors</th>\n",
       "    </tr>\n",
       "  </thead>\n",
       "  <tbody>\n",
       "    <tr>\n",
       "      <td>0</td>\n",
       "      <td>2019-08-01</td>\n",
       "      <td>A</td>\n",
       "      <td>718</td>\n",
       "    </tr>\n",
       "    <tr>\n",
       "      <td>1</td>\n",
       "      <td>2019-08-02</td>\n",
       "      <td>A</td>\n",
       "      <td>618</td>\n",
       "    </tr>\n",
       "    <tr>\n",
       "      <td>2</td>\n",
       "      <td>2019-08-03</td>\n",
       "      <td>A</td>\n",
       "      <td>507</td>\n",
       "    </tr>\n",
       "    <tr>\n",
       "      <td>3</td>\n",
       "      <td>2019-08-04</td>\n",
       "      <td>A</td>\n",
       "      <td>712</td>\n",
       "    </tr>\n",
       "    <tr>\n",
       "      <td>4</td>\n",
       "      <td>2019-08-05</td>\n",
       "      <td>A</td>\n",
       "      <td>753</td>\n",
       "    </tr>\n",
       "    <tr>\n",
       "      <td>...</td>\n",
       "      <td>...</td>\n",
       "      <td>...</td>\n",
       "      <td>...</td>\n",
       "    </tr>\n",
       "    <tr>\n",
       "      <td>57</td>\n",
       "      <td>2019-08-27</td>\n",
       "      <td>B</td>\n",
       "      <td>715</td>\n",
       "    </tr>\n",
       "    <tr>\n",
       "      <td>58</td>\n",
       "      <td>2019-08-28</td>\n",
       "      <td>B</td>\n",
       "      <td>648</td>\n",
       "    </tr>\n",
       "    <tr>\n",
       "      <td>59</td>\n",
       "      <td>2019-08-29</td>\n",
       "      <td>B</td>\n",
       "      <td>526</td>\n",
       "    </tr>\n",
       "    <tr>\n",
       "      <td>60</td>\n",
       "      <td>2019-08-30</td>\n",
       "      <td>B</td>\n",
       "      <td>487</td>\n",
       "    </tr>\n",
       "    <tr>\n",
       "      <td>61</td>\n",
       "      <td>2019-08-31</td>\n",
       "      <td>B</td>\n",
       "      <td>715</td>\n",
       "    </tr>\n",
       "  </tbody>\n",
       "</table>\n",
       "<p>62 rows × 3 columns</p>\n",
       "</div>"
      ],
      "text/plain": [
       "         date group  visitors\n",
       "0  2019-08-01     A       718\n",
       "1  2019-08-02     A       618\n",
       "2  2019-08-03     A       507\n",
       "3  2019-08-04     A       712\n",
       "4  2019-08-05     A       753\n",
       "..        ...   ...       ...\n",
       "57 2019-08-27     B       715\n",
       "58 2019-08-28     B       648\n",
       "59 2019-08-29     B       526\n",
       "60 2019-08-30     B       487\n",
       "61 2019-08-31     B       715\n",
       "\n",
       "[62 rows x 3 columns]"
      ]
     },
     "execution_count": 22,
     "metadata": {},
     "output_type": "execute_result"
    }
   ],
   "source": [
    "visitors=visitors[['date','group','visitors_new']]\n",
    "visitors.columns=['date','group','visitors']\n",
    "visitors['visitors']=visitors['visitors'].astype(int)\n",
    "visitors"
   ]
  },
  {
   "cell_type": "code",
   "execution_count": 23,
   "metadata": {},
   "outputs": [
    {
     "data": {
      "text/html": [
       "<div>\n",
       "<style scoped>\n",
       "    .dataframe tbody tr th:only-of-type {\n",
       "        vertical-align: middle;\n",
       "    }\n",
       "\n",
       "    .dataframe tbody tr th {\n",
       "        vertical-align: top;\n",
       "    }\n",
       "\n",
       "    .dataframe thead th {\n",
       "        text-align: right;\n",
       "    }\n",
       "</style>\n",
       "<table border=\"1\" class=\"dataframe\">\n",
       "  <thead>\n",
       "    <tr style=\"text-align: right;\">\n",
       "      <th></th>\n",
       "      <th>transactionid</th>\n",
       "      <th>visitorid</th>\n",
       "      <th>date</th>\n",
       "      <th>revenue</th>\n",
       "      <th>group</th>\n",
       "    </tr>\n",
       "  </thead>\n",
       "  <tbody>\n",
       "    <tr>\n",
       "      <td>0</td>\n",
       "      <td>3667963787</td>\n",
       "      <td>3312258926</td>\n",
       "      <td>2019-08-15</td>\n",
       "      <td>1650</td>\n",
       "      <td>B</td>\n",
       "    </tr>\n",
       "    <tr>\n",
       "      <td>1</td>\n",
       "      <td>2804400009</td>\n",
       "      <td>3642806036</td>\n",
       "      <td>2019-08-15</td>\n",
       "      <td>730</td>\n",
       "      <td>B</td>\n",
       "    </tr>\n",
       "    <tr>\n",
       "      <td>3</td>\n",
       "      <td>3797467345</td>\n",
       "      <td>1196621759</td>\n",
       "      <td>2019-08-15</td>\n",
       "      <td>9759</td>\n",
       "      <td>B</td>\n",
       "    </tr>\n",
       "    <tr>\n",
       "      <td>4</td>\n",
       "      <td>2282983706</td>\n",
       "      <td>2322279887</td>\n",
       "      <td>2019-08-15</td>\n",
       "      <td>2308</td>\n",
       "      <td>B</td>\n",
       "    </tr>\n",
       "    <tr>\n",
       "      <td>5</td>\n",
       "      <td>182168103</td>\n",
       "      <td>935554773</td>\n",
       "      <td>2019-08-15</td>\n",
       "      <td>2210</td>\n",
       "      <td>B</td>\n",
       "    </tr>\n",
       "    <tr>\n",
       "      <td>...</td>\n",
       "      <td>...</td>\n",
       "      <td>...</td>\n",
       "      <td>...</td>\n",
       "      <td>...</td>\n",
       "      <td>...</td>\n",
       "    </tr>\n",
       "    <tr>\n",
       "      <td>1191</td>\n",
       "      <td>3592955527</td>\n",
       "      <td>608641596</td>\n",
       "      <td>2019-08-14</td>\n",
       "      <td>16490</td>\n",
       "      <td>B</td>\n",
       "    </tr>\n",
       "    <tr>\n",
       "      <td>1192</td>\n",
       "      <td>2662137336</td>\n",
       "      <td>3733762160</td>\n",
       "      <td>2019-08-14</td>\n",
       "      <td>6490</td>\n",
       "      <td>B</td>\n",
       "    </tr>\n",
       "    <tr>\n",
       "      <td>1193</td>\n",
       "      <td>2203539145</td>\n",
       "      <td>370388673</td>\n",
       "      <td>2019-08-14</td>\n",
       "      <td>3190</td>\n",
       "      <td>A</td>\n",
       "    </tr>\n",
       "    <tr>\n",
       "      <td>1194</td>\n",
       "      <td>1807773912</td>\n",
       "      <td>573423106</td>\n",
       "      <td>2019-08-14</td>\n",
       "      <td>10550</td>\n",
       "      <td>A</td>\n",
       "    </tr>\n",
       "    <tr>\n",
       "      <td>1196</td>\n",
       "      <td>3936777065</td>\n",
       "      <td>2108080724</td>\n",
       "      <td>2019-08-15</td>\n",
       "      <td>202740</td>\n",
       "      <td>B</td>\n",
       "    </tr>\n",
       "  </tbody>\n",
       "</table>\n",
       "<p>1016 rows × 5 columns</p>\n",
       "</div>"
      ],
      "text/plain": [
       "      transactionid   visitorid       date  revenue group\n",
       "0        3667963787  3312258926 2019-08-15     1650     B\n",
       "1        2804400009  3642806036 2019-08-15      730     B\n",
       "3        3797467345  1196621759 2019-08-15     9759     B\n",
       "4        2282983706  2322279887 2019-08-15     2308     B\n",
       "5         182168103   935554773 2019-08-15     2210     B\n",
       "...             ...         ...        ...      ...   ...\n",
       "1191     3592955527   608641596 2019-08-14    16490     B\n",
       "1192     2662137336  3733762160 2019-08-14     6490     B\n",
       "1193     2203539145   370388673 2019-08-14     3190     A\n",
       "1194     1807773912   573423106 2019-08-14    10550     A\n",
       "1196     3936777065  2108080724 2019-08-15   202740     B\n",
       "\n",
       "[1016 rows x 5 columns]"
      ]
     },
     "execution_count": 23,
     "metadata": {},
     "output_type": "execute_result"
    }
   ],
   "source": [
    "orders = orders[~orders['visitorid'].isin(list_errors)]\n",
    "orders"
   ]
  },
  {
   "cell_type": "markdown",
   "metadata": {},
   "source": [
    "### Выручка по группам"
   ]
  },
  {
   "cell_type": "markdown",
   "metadata": {},
   "source": [
    "посмотрим кумулятивную выручку по группам"
   ]
  },
  {
   "cell_type": "code",
   "execution_count": 24,
   "metadata": {},
   "outputs": [],
   "source": [
    "datesGroups = orders[['date','group']].drop_duplicates()"
   ]
  },
  {
   "cell_type": "code",
   "execution_count": 25,
   "metadata": {},
   "outputs": [],
   "source": [
    "ordersAggregated =datesGroups.apply(\n",
    "    lambda x: orders[np.logical_and(orders['date'] <= x['date'], orders['group'] == x['group'])].agg({\n",
    "'date' : 'max',\n",
    "'group' : 'max',\n",
    "'transactionid' : pd.Series.nunique,\n",
    "'visitorid' : pd.Series.nunique,\n",
    "'revenue' : 'sum'}), axis=1).sort_values(by=['date','group']) "
   ]
  },
  {
   "cell_type": "code",
   "execution_count": 26,
   "metadata": {},
   "outputs": [
    {
     "data": {
      "text/html": [
       "<div>\n",
       "<style scoped>\n",
       "    .dataframe tbody tr th:only-of-type {\n",
       "        vertical-align: middle;\n",
       "    }\n",
       "\n",
       "    .dataframe tbody tr th {\n",
       "        vertical-align: top;\n",
       "    }\n",
       "\n",
       "    .dataframe thead th {\n",
       "        text-align: right;\n",
       "    }\n",
       "</style>\n",
       "<table border=\"1\" class=\"dataframe\">\n",
       "  <thead>\n",
       "    <tr style=\"text-align: right;\">\n",
       "      <th></th>\n",
       "      <th>date</th>\n",
       "      <th>group</th>\n",
       "      <th>transactionid</th>\n",
       "      <th>visitorid</th>\n",
       "      <th>revenue</th>\n",
       "    </tr>\n",
       "  </thead>\n",
       "  <tbody>\n",
       "    <tr>\n",
       "      <td>55</td>\n",
       "      <td>2019-08-01</td>\n",
       "      <td>A</td>\n",
       "      <td>23</td>\n",
       "      <td>19</td>\n",
       "      <td>142779</td>\n",
       "    </tr>\n",
       "    <tr>\n",
       "      <td>66</td>\n",
       "      <td>2019-08-01</td>\n",
       "      <td>B</td>\n",
       "      <td>17</td>\n",
       "      <td>17</td>\n",
       "      <td>59758</td>\n",
       "    </tr>\n",
       "    <tr>\n",
       "      <td>175</td>\n",
       "      <td>2019-08-02</td>\n",
       "      <td>A</td>\n",
       "      <td>42</td>\n",
       "      <td>36</td>\n",
       "      <td>234381</td>\n",
       "    </tr>\n",
       "    <tr>\n",
       "      <td>173</td>\n",
       "      <td>2019-08-02</td>\n",
       "      <td>B</td>\n",
       "      <td>40</td>\n",
       "      <td>39</td>\n",
       "      <td>221801</td>\n",
       "    </tr>\n",
       "    <tr>\n",
       "      <td>291</td>\n",
       "      <td>2019-08-03</td>\n",
       "      <td>A</td>\n",
       "      <td>66</td>\n",
       "      <td>60</td>\n",
       "      <td>346854</td>\n",
       "    </tr>\n",
       "  </tbody>\n",
       "</table>\n",
       "</div>"
      ],
      "text/plain": [
       "          date group  transactionid  visitorid  revenue\n",
       "55  2019-08-01     A             23         19   142779\n",
       "66  2019-08-01     B             17         17    59758\n",
       "175 2019-08-02     A             42         36   234381\n",
       "173 2019-08-02     B             40         39   221801\n",
       "291 2019-08-03     A             66         60   346854"
      ]
     },
     "execution_count": 26,
     "metadata": {},
     "output_type": "execute_result"
    }
   ],
   "source": [
    "ordersAggregated.head()"
   ]
  },
  {
   "cell_type": "code",
   "execution_count": 27,
   "metadata": {},
   "outputs": [],
   "source": [
    "visitorsAggregated  = datesGroups.apply(lambda x: visitors[np.logical_and(visitors['date'] <= x['date'], visitors['group'] == x['group'])].agg({'date': 'max', 'group': 'max', 'visitors': 'sum'}),axis=1,).sort_values(by=['date', 'group'])"
   ]
  },
  {
   "cell_type": "code",
   "execution_count": 28,
   "metadata": {},
   "outputs": [
    {
     "data": {
      "text/html": [
       "<div>\n",
       "<style scoped>\n",
       "    .dataframe tbody tr th:only-of-type {\n",
       "        vertical-align: middle;\n",
       "    }\n",
       "\n",
       "    .dataframe tbody tr th {\n",
       "        vertical-align: top;\n",
       "    }\n",
       "\n",
       "    .dataframe thead th {\n",
       "        text-align: right;\n",
       "    }\n",
       "</style>\n",
       "<table border=\"1\" class=\"dataframe\">\n",
       "  <thead>\n",
       "    <tr style=\"text-align: right;\">\n",
       "      <th></th>\n",
       "      <th>date</th>\n",
       "      <th>group</th>\n",
       "      <th>visitors</th>\n",
       "    </tr>\n",
       "  </thead>\n",
       "  <tbody>\n",
       "    <tr>\n",
       "      <td>55</td>\n",
       "      <td>2019-08-01</td>\n",
       "      <td>A</td>\n",
       "      <td>718</td>\n",
       "    </tr>\n",
       "    <tr>\n",
       "      <td>66</td>\n",
       "      <td>2019-08-01</td>\n",
       "      <td>B</td>\n",
       "      <td>709</td>\n",
       "    </tr>\n",
       "    <tr>\n",
       "      <td>175</td>\n",
       "      <td>2019-08-02</td>\n",
       "      <td>A</td>\n",
       "      <td>1336</td>\n",
       "    </tr>\n",
       "    <tr>\n",
       "      <td>173</td>\n",
       "      <td>2019-08-02</td>\n",
       "      <td>B</td>\n",
       "      <td>1289</td>\n",
       "    </tr>\n",
       "    <tr>\n",
       "      <td>291</td>\n",
       "      <td>2019-08-03</td>\n",
       "      <td>A</td>\n",
       "      <td>1843</td>\n",
       "    </tr>\n",
       "  </tbody>\n",
       "</table>\n",
       "</div>"
      ],
      "text/plain": [
       "          date group  visitors\n",
       "55  2019-08-01     A       718\n",
       "66  2019-08-01     B       709\n",
       "175 2019-08-02     A      1336\n",
       "173 2019-08-02     B      1289\n",
       "291 2019-08-03     A      1843"
      ]
     },
     "execution_count": 28,
     "metadata": {},
     "output_type": "execute_result"
    }
   ],
   "source": [
    "visitorsAggregated.head()"
   ]
  },
  {
   "cell_type": "code",
   "execution_count": 29,
   "metadata": {},
   "outputs": [
    {
     "name": "stdout",
     "output_type": "stream",
     "text": [
      "        date group  orders  buyers  revenue  visitors\n",
      "0 2019-08-01     A      23      19   142779       718\n",
      "1 2019-08-01     B      17      17    59758       709\n",
      "2 2019-08-02     A      42      36   234381      1336\n",
      "3 2019-08-02     B      40      39   221801      1289\n",
      "4 2019-08-03     A      66      60   346854      1843\n"
     ]
    }
   ],
   "source": [
    "cumulativeData = ordersAggregated.merge(visitorsAggregated, left_on=['date', 'group'], right_on=['date', 'group']) \n",
    "cumulativeData.columns =[ \n",
    "    'date',\n",
    "    'group',\n",
    "    'orders',\n",
    "    'buyers',\n",
    "    'revenue',\n",
    "    'visitors']\n",
    "print(cumulativeData.head(5))"
   ]
  },
  {
   "cell_type": "markdown",
   "metadata": {},
   "source": [
    "Построим графики"
   ]
  },
  {
   "cell_type": "code",
   "execution_count": 30,
   "metadata": {},
   "outputs": [
    {
     "data": {
      "image/png": "[encoded data removed]",
      "text/plain": [
       "<Figure size 1080x360 with 1 Axes>"
      ]
     },
     "metadata": {
      "needs_background": "light"
     },
     "output_type": "display_data"
    }
   ],
   "source": [
    "cumulativeRevenueA = cumulativeData[cumulativeData['group']=='A'][['date','revenue', 'orders']]\n",
    "cumulativeRevenueB = cumulativeData[cumulativeData['group']=='B'][['date','revenue', 'orders']]\n",
    "plt.figure(figsize = (15,5))\n",
    "plt.grid(True)\n",
    "plt.plot(cumulativeRevenueA['date'], cumulativeRevenueA['revenue'], label='A')\n",
    "plt.plot(cumulativeRevenueB['date'], cumulativeRevenueB['revenue'], label='B')\n",
    "plt.legend() \n",
    "plt.xlabel('Дата')\n",
    "plt.ylabel('Выручка')\n",
    "plt.title('График кумулятивной выручки по группам')\n",
    "plt.show()"
   ]
  },
  {
   "cell_type": "markdown",
   "metadata": {},
   "source": [
    "Выручка растет, но для группы B наблюдается резкий скачок"
   ]
  },
  {
   "cell_type": "markdown",
   "metadata": {},
   "source": [
    "### Средний чек"
   ]
  },
  {
   "cell_type": "markdown",
   "metadata": {},
   "source": [
    "Посмотрим уровень среднего чека по группам на графике"
   ]
  },
  {
   "cell_type": "code",
   "execution_count": 31,
   "metadata": {},
   "outputs": [
    {
     "data": {
      "image/png": "[encoded data removed]",
      "text/plain": [
       "<Figure size 1080x360 with 1 Axes>"
      ]
     },
     "metadata": {
      "needs_background": "light"
     },
     "output_type": "display_data"
    }
   ],
   "source": [
    "plt.figure(figsize = (15,5))\n",
    "plt.grid(True)\n",
    "plt.plot(cumulativeRevenueA['date'], cumulativeRevenueA['revenue']/cumulativeRevenueA['orders'], label='A')\n",
    "plt.plot(cumulativeRevenueB['date'], cumulativeRevenueB['revenue']/cumulativeRevenueB['orders'], label='B')\n",
    "plt.legend() \n",
    "plt.xlabel('Дата')\n",
    "plt.ylabel('Сумма')\n",
    "plt.title('График среднего чека по группам')\n",
    "plt.show()"
   ]
  },
  {
   "cell_type": "markdown",
   "metadata": {},
   "source": [
    "Стоимость среднего чека группы A, можно сказать, равномерна, а в группе B был резкий всплеск и постепенный возврат к обычному уровню. "
   ]
  },
  {
   "cell_type": "markdown",
   "metadata": {},
   "source": [
    "### График относительного изменения кумулятивного среднего чека группы B к группе A"
   ]
  },
  {
   "cell_type": "markdown",
   "metadata": {},
   "source": [
    "Объединим группы"
   ]
  },
  {
   "cell_type": "code",
   "execution_count": 32,
   "metadata": {},
   "outputs": [],
   "source": [
    "mergedCumulativeRevenue = cumulativeRevenueA.merge(cumulativeRevenueB, left_on='date', right_on='date', how='left', suffixes=['A', 'B'])"
   ]
  },
  {
   "cell_type": "markdown",
   "metadata": {},
   "source": [
    "Построим график отношений чеков"
   ]
  },
  {
   "cell_type": "code",
   "execution_count": 33,
   "metadata": {},
   "outputs": [
    {
     "data": {
      "image/png": "[encoded data removed]",
      "text/plain": [
       "<Figure size 1080x360 with 1 Axes>"
      ]
     },
     "metadata": {
      "needs_background": "light"
     },
     "output_type": "display_data"
    }
   ],
   "source": [
    "plt.figure(figsize = (15,5))\n",
    "plt.grid(True)\n",
    "plt.plot(mergedCumulativeRevenue['date'], (mergedCumulativeRevenue['revenueB']/mergedCumulativeRevenue['ordersB'])/(mergedCumulativeRevenue['revenueA']/mergedCumulativeRevenue['ordersA'])-1)\n",
    "plt.axhline(y=0, color='black', linestyle='--')\n",
    "plt.xlabel('Дата')\n",
    "plt.title('График отношения среднего чека B/A')\n",
    "plt.show()"
   ]
  },
  {
   "cell_type": "markdown",
   "metadata": {},
   "source": [
    "По графику видно, что имеются крупные покупки и выбросы, график среднего чека далек от стабилизации.  "
   ]
  },
  {
   "cell_type": "markdown",
   "metadata": {},
   "source": [
    "### График кумулятивной конверсии по группам"
   ]
  },
  {
   "cell_type": "markdown",
   "metadata": {},
   "source": [
    "посчитаем кумулятивную конверсию по группам"
   ]
  },
  {
   "cell_type": "code",
   "execution_count": 34,
   "metadata": {},
   "outputs": [],
   "source": [
    "cumulativeData['conversion'] = cumulativeData['orders']/cumulativeData['visitors']\n",
    "cumulativeDataA = cumulativeData[cumulativeData['group']=='A']\n",
    "cumulativeDataB = cumulativeData[cumulativeData['group']=='B']"
   ]
  },
  {
   "cell_type": "markdown",
   "metadata": {},
   "source": [
    " построим графики"
   ]
  },
  {
   "cell_type": "code",
   "execution_count": 35,
   "metadata": {},
   "outputs": [
    {
     "data": {
      "image/png": "[encoded data removed]",
      "text/plain": [
       "<Figure size 1080x360 with 1 Axes>"
      ]
     },
     "metadata": {
      "needs_background": "light"
     },
     "output_type": "display_data"
    }
   ],
   "source": [
    "plt.figure(figsize = (15,5))\n",
    "plt.grid(True)\n",
    "plt.plot(cumulativeDataA['date'], cumulativeDataA['conversion'], label='A')\n",
    "plt.plot(cumulativeDataB['date'], cumulativeDataB['conversion'], label='B')\n",
    "plt.legend()\n",
    "plt.axis([\"2019-08-01\", '2019-08-31', 0.015, 0.04])\n",
    "plt.xlabel('Дата')\n",
    "plt.title('График кумулятивной конверсии')\n",
    "plt.show()"
   ]
  },
  {
   "cell_type": "markdown",
   "metadata": {},
   "source": [
    "К концу рассматриваемого периода графики выровнялись и зафиксировались"
   ]
  },
  {
   "cell_type": "markdown",
   "metadata": {},
   "source": [
    "###  График относительного изменения кумулятивной конверсии"
   ]
  },
  {
   "cell_type": "markdown",
   "metadata": {},
   "source": [
    "Построим график относительного различия кумулятивных конверсий"
   ]
  },
  {
   "cell_type": "code",
   "execution_count": 36,
   "metadata": {},
   "outputs": [
    {
     "data": {
      "text/plain": [
       "['2019-08-01', '2019-08-31', -0.3, 0.3]"
      ]
     },
     "execution_count": 36,
     "metadata": {},
     "output_type": "execute_result"
    },
    {
     "data": {
      "image/png": "[encoded data removed]",
      "text/plain": [
       "<Figure size 1080x360 with 1 Axes>"
      ]
     },
     "metadata": {
      "needs_background": "light"
     },
     "output_type": "display_data"
    }
   ],
   "source": [
    "mergedCumulativeConversions = cumulativeDataA[['date','conversion']].merge(cumulativeDataB[['date','conversion']], left_on='date', right_on='date', how='left', suffixes=['A', 'B'])\n",
    "plt.figure(figsize = (15,5))\n",
    "plt.grid(True)\n",
    "plt.plot(mergedCumulativeConversions['date'], mergedCumulativeConversions['conversionB']/mergedCumulativeConversions['conversionA']-1)\n",
    "plt.title('Относительный прирост конверсии группы B относительно группы A')\n",
    "plt.axhline(y=0, color='black', linestyle='--')\n",
    "plt.axhline(y=-0.2, color='grey', linestyle='--')\n",
    "plt.axis([\"2019-08-01\", '2019-08-31', -0.3, 0.3]) "
   ]
  },
  {
   "cell_type": "markdown",
   "metadata": {},
   "source": [
    "В середине периода прирост конверсии был самый высокий, видимо связано с большими покупками."
   ]
  },
  {
   "cell_type": "markdown",
   "metadata": {},
   "source": [
    "### График количества заказов по пользователям"
   ]
  },
  {
   "cell_type": "code",
   "execution_count": 37,
   "metadata": {},
   "outputs": [
    {
     "data": {
      "text/html": [
       "<div>\n",
       "<style scoped>\n",
       "    .dataframe tbody tr th:only-of-type {\n",
       "        vertical-align: middle;\n",
       "    }\n",
       "\n",
       "    .dataframe tbody tr th {\n",
       "        vertical-align: top;\n",
       "    }\n",
       "\n",
       "    .dataframe thead th {\n",
       "        text-align: right;\n",
       "    }\n",
       "</style>\n",
       "<table border=\"1\" class=\"dataframe\">\n",
       "  <thead>\n",
       "    <tr style=\"text-align: right;\">\n",
       "      <th></th>\n",
       "      <th>userId</th>\n",
       "      <th>orders</th>\n",
       "    </tr>\n",
       "  </thead>\n",
       "  <tbody>\n",
       "    <tr>\n",
       "      <td>908</td>\n",
       "      <td>3967698036</td>\n",
       "      <td>3</td>\n",
       "    </tr>\n",
       "    <tr>\n",
       "      <td>55</td>\n",
       "      <td>249864742</td>\n",
       "      <td>3</td>\n",
       "    </tr>\n",
       "    <tr>\n",
       "      <td>478</td>\n",
       "      <td>2108163459</td>\n",
       "      <td>3</td>\n",
       "    </tr>\n",
       "    <tr>\n",
       "      <td>687</td>\n",
       "      <td>2988190573</td>\n",
       "      <td>3</td>\n",
       "    </tr>\n",
       "    <tr>\n",
       "      <td>890</td>\n",
       "      <td>3908431265</td>\n",
       "      <td>3</td>\n",
       "    </tr>\n",
       "    <tr>\n",
       "      <td>...</td>\n",
       "      <td>...</td>\n",
       "      <td>...</td>\n",
       "    </tr>\n",
       "    <tr>\n",
       "      <td>331</td>\n",
       "      <td>1438226485</td>\n",
       "      <td>1</td>\n",
       "    </tr>\n",
       "    <tr>\n",
       "      <td>332</td>\n",
       "      <td>1452540367</td>\n",
       "      <td>1</td>\n",
       "    </tr>\n",
       "    <tr>\n",
       "      <td>333</td>\n",
       "      <td>1455323168</td>\n",
       "      <td>1</td>\n",
       "    </tr>\n",
       "    <tr>\n",
       "      <td>334</td>\n",
       "      <td>1455861274</td>\n",
       "      <td>1</td>\n",
       "    </tr>\n",
       "    <tr>\n",
       "      <td>972</td>\n",
       "      <td>4283872382</td>\n",
       "      <td>1</td>\n",
       "    </tr>\n",
       "  </tbody>\n",
       "</table>\n",
       "<p>973 rows × 2 columns</p>\n",
       "</div>"
      ],
      "text/plain": [
       "         userId  orders\n",
       "908  3967698036       3\n",
       "55    249864742       3\n",
       "478  2108163459       3\n",
       "687  2988190573       3\n",
       "890  3908431265       3\n",
       "..          ...     ...\n",
       "331  1438226485       1\n",
       "332  1452540367       1\n",
       "333  1455323168       1\n",
       "334  1455861274       1\n",
       "972  4283872382       1\n",
       "\n",
       "[973 rows x 2 columns]"
      ]
     },
     "execution_count": 37,
     "metadata": {},
     "output_type": "execute_result"
    }
   ],
   "source": [
    "ordersByUsers = orders[['transactionid','visitorid']].groupby('visitorid', as_index=False).agg({'transactionid' : pd.Series.nunique,})\n",
    "ordersByUsers.columns=['userId','orders']\n",
    "ordersByUsers.sort_values(by='orders',ascending=False)"
   ]
  },
  {
   "cell_type": "markdown",
   "metadata": {},
   "source": [
    "Посмотрим на графике"
   ]
  },
  {
   "cell_type": "code",
   "execution_count": 38,
   "metadata": {},
   "outputs": [
    {
     "data": {
      "text/plain": [
       "Text(0.5, 1.0, 'Количество покупок на 1 пользователя')"
      ]
     },
     "execution_count": 38,
     "metadata": {},
     "output_type": "execute_result"
    },
    {
     "data": {
      "image/png": "[encoded data removed]",
      "text/plain": [
       "<Figure size 1080x360 with 1 Axes>"
      ]
     },
     "metadata": {
      "needs_background": "light"
     },
     "output_type": "display_data"
    }
   ],
   "source": [
    "plt.figure(figsize = (15,5))\n",
    "plt.grid(True)\n",
    "plt.hist(ordersByUsers['orders'],bins=5)\n",
    "plt.title('Количество покупок на 1 пользователя');"
   ]
  },
  {
   "cell_type": "markdown",
   "metadata": {},
   "source": [
    "Свыше 800 пользователей сделали  по 1 покупке"
   ]
  },
  {
   "cell_type": "markdown",
   "metadata": {},
   "source": [
    "Посмотрим  на диаграмме распределения"
   ]
  },
  {
   "cell_type": "code",
   "execution_count": 39,
   "metadata": {},
   "outputs": [
    {
     "data": {
      "text/plain": [
       "Text(0.5, 1.0, 'Количество покупок на 1 пользователя')"
      ]
     },
     "execution_count": 39,
     "metadata": {},
     "output_type": "execute_result"
    },
    {
     "data": {
      "image/png": "[encoded data removed]",
      "text/plain": [
       "<Figure size 1080x360 with 1 Axes>"
      ]
     },
     "metadata": {
      "needs_background": "light"
     },
     "output_type": "display_data"
    }
   ],
   "source": [
    "plt.figure(figsize = (15,5))\n",
    "plt.grid(True)\n",
    "x_values = pd.Series(range(0, len(ordersByUsers)))\n",
    "plt.scatter(x_values, ordersByUsers['orders'])\n",
    "plt.title('Количество покупок на 1 пользователя')"
   ]
  },
  {
   "cell_type": "markdown",
   "metadata": {},
   "source": [
    "Единичные случаи, когда покупок больше одной"
   ]
  },
  {
   "cell_type": "markdown",
   "metadata": {},
   "source": [
    "###   Определение границы аномальных пользователей"
   ]
  },
  {
   "cell_type": "markdown",
   "metadata": {},
   "source": [
    "Посчитаем выборочные перцентили количества заказов на одного пользователя:"
   ]
  },
  {
   "cell_type": "code",
   "execution_count": 40,
   "metadata": {},
   "outputs": [
    {
     "data": {
      "text/plain": [
       "array([1., 1., 2.])"
      ]
     },
     "execution_count": 40,
     "metadata": {},
     "output_type": "execute_result"
    }
   ],
   "source": [
    "np.percentile(ordersByUsers['orders'], [90, 95, 99])"
   ]
  },
  {
   "cell_type": "markdown",
   "metadata": {},
   "source": [
    "Получается, что уже 2 заказа можно считать выбросами"
   ]
  },
  {
   "cell_type": "markdown",
   "metadata": {},
   "source": [
    "### График стоимости заказов и определение границы заказов с аномальной стоимостью"
   ]
  },
  {
   "cell_type": "code",
   "execution_count": 41,
   "metadata": {},
   "outputs": [
    {
     "data": {
      "text/plain": [
       "<matplotlib.collections.PathCollection at 0x200a8fcb608>"
      ]
     },
     "execution_count": 41,
     "metadata": {},
     "output_type": "execute_result"
    },
    {
     "data": {
      "image/png": "[encoded data removed]",
      "text/plain": [
       "<Figure size 432x288 with 1 Axes>"
      ]
     },
     "metadata": {
      "needs_background": "light"
     },
     "output_type": "display_data"
    }
   ],
   "source": [
    "x_values = pd.Series(range(0, len(orders['revenue'])))\n",
    "plt.scatter(x_values, orders['revenue']) "
   ]
  },
  {
   "cell_type": "code",
   "execution_count": 42,
   "metadata": {},
   "outputs": [
    {
     "data": {
      "text/plain": [
       "array([17990., 26785., 53904.])"
      ]
     },
     "execution_count": 42,
     "metadata": {},
     "output_type": "execute_result"
    }
   ],
   "source": [
    "np.percentile(orders['revenue'], [90, 95, 99])"
   ]
  },
  {
   "cell_type": "markdown",
   "metadata": {},
   "source": [
    "У 5% заказов стоимость больше 26785"
   ]
  },
  {
   "cell_type": "markdown",
   "metadata": {},
   "source": [
    "### Статистическая значимость различий в конверсии между группами по «сырым» данным"
   ]
  },
  {
   "cell_type": "markdown",
   "metadata": {},
   "source": [
    "#### Подготовка даных"
   ]
  },
  {
   "cell_type": "markdown",
   "metadata": {},
   "source": [
    "Подготовим данные для расчета статистической значимости различий"
   ]
  },
  {
   "cell_type": "code",
   "execution_count": 43,
   "metadata": {},
   "outputs": [],
   "source": [
    "visitorsADaily = visitors[visitors['group'] == 'A'][['date', 'visitors']]\n",
    "visitorsADaily.columns = ['date', 'visitorsPerDateA']\n",
    "\n",
    "visitorsBDaily = visitors[visitors['group'] == 'B'][['date', 'visitors']]\n",
    "visitorsBDaily.columns = ['date', 'visitorsPerDateB']\n",
    "\n",
    "ordersADaily = (\n",
    "    orders[orders['group'] == 'A'][['date', 'transactionid', 'visitorid', 'revenue']]\n",
    "    .groupby('date', as_index=False)\n",
    "    .agg({'transactionid': pd.Series.nunique, 'revenue': 'sum'})\n",
    ")\n",
    "ordersADaily.columns = ['date', 'ordersPerDateA', 'revenuePerDateA']\n",
    "\n",
    "ordersBDaily = (\n",
    "    orders[orders['group'] == 'B'][['date', 'transactionid', 'visitorid', 'revenue']]\n",
    "    .groupby('date', as_index=False)\n",
    "    .agg({'transactionid': pd.Series.nunique, 'revenue': 'sum'})\n",
    ")\n",
    "ordersBDaily.columns = ['date', 'ordersPerDateB', 'revenuePerDateB']"
   ]
  },
  {
   "cell_type": "markdown",
   "metadata": {},
   "source": [
    "Кумулятивные"
   ]
  },
  {
   "cell_type": "code",
   "execution_count": 44,
   "metadata": {},
   "outputs": [],
   "source": [
    "visitorsACummulative = visitorsADaily.apply(\n",
    "    lambda x: visitorsADaily[visitorsADaily['date'] <= x['date']].agg(\n",
    "        {'date': 'max', 'visitorsPerDateA': 'sum'}\n",
    "    ),\n",
    "    axis=1,\n",
    ")\n",
    "visitorsACummulative.columns = ['date', 'visitorsCummulativeA']\n",
    "\n",
    "visitorsBCummulative = visitorsBDaily.apply(\n",
    "    lambda x: visitorsBDaily[visitorsBDaily['date'] <= x['date']].agg(\n",
    "        {'date': 'max', 'visitorsPerDateB': 'sum'}\n",
    "    ),\n",
    "    axis=1,\n",
    ")\n",
    "visitorsBCummulative.columns = ['date', 'visitorsCummulativeB']\n",
    "\n",
    "ordersACummulative = ordersADaily.apply(\n",
    "    lambda x: ordersADaily[ordersADaily['date'] <= x['date']].agg(\n",
    "        {'date': 'max', 'ordersPerDateA': 'sum', 'revenuePerDateA': 'sum'}\n",
    "    ),\n",
    "    axis=1,\n",
    ").sort_values(by=['date'])\n",
    "ordersACummulative.columns = [\n",
    "    'date',\n",
    "    'ordersCummulativeA',\n",
    "    'revenueCummulativeA',\n",
    "]\n",
    "\n",
    "ordersBCummulative = ordersBDaily.apply(\n",
    "    lambda x: ordersBDaily[ordersBDaily['date'] <= x['date']].agg(\n",
    "        {'date': 'max', 'ordersPerDateB': 'sum', 'revenuePerDateB': 'sum'}\n",
    "    ),\n",
    "    axis=1,\n",
    ").sort_values(by=['date'])\n",
    "ordersBCummulative.columns = [\n",
    "    'date',\n",
    "    'ordersCummulativeB',\n",
    "    'revenueCummulativeB',\n",
    "]\n",
    "\n"
   ]
  },
  {
   "cell_type": "markdown",
   "metadata": {},
   "source": [
    "Все объединим"
   ]
  },
  {
   "cell_type": "code",
   "execution_count": 45,
   "metadata": {},
   "outputs": [],
   "source": [
    "data = (\n",
    "    ordersADaily.merge(\n",
    "        ordersBDaily, left_on='date', right_on='date', how='left'\n",
    "    )\n",
    "    .merge(ordersACummulative, left_on='date', right_on='date', how='left')\n",
    "    .merge(ordersBCummulative, left_on='date', right_on='date', how='left')\n",
    "    .merge(visitorsADaily, left_on='date', right_on='date', how='left')\n",
    "    .merge(visitorsBDaily, left_on='date', right_on='date', how='left')\n",
    "    .merge(visitorsACummulative, left_on='date', right_on='date', how='left')\n",
    "    .merge(visitorsBCummulative, left_on='date', right_on='date', how='left')\n",
    ")\n"
   ]
  },
  {
   "cell_type": "code",
   "execution_count": 46,
   "metadata": {},
   "outputs": [],
   "source": [
    "ordersByUsersA = (\n",
    "    orders[orders['group'] == 'A']\n",
    "    .groupby('visitorid', as_index=False)\n",
    "    .agg({'transactionid': pd.Series.nunique})\n",
    ")\n",
    "ordersByUsersA.columns = ['userId', 'orders']\n",
    "\n",
    "ordersByUsersB = (\n",
    "    orders[orders['group'] == 'B']\n",
    "    .groupby('visitorid', as_index=False)\n",
    "    .agg({'transactionid': pd.Series.nunique})\n",
    ")\n",
    "ordersByUsersB.columns = ['userId', 'orders'] "
   ]
  },
  {
   "cell_type": "markdown",
   "metadata": {},
   "source": [
    "#### Расчет"
   ]
  },
  {
   "cell_type": "markdown",
   "metadata": {},
   "source": [
    "Проверим критерием Манна-Уитни. Нулевая гипотеза:статистически значимых различий в конверсии между группами нет.Альтернативная гипотеза: Конверсии групп не равны."
   ]
  },
  {
   "cell_type": "code",
   "execution_count": 47,
   "metadata": {},
   "outputs": [],
   "source": [
    "sampleA = pd.concat([ordersByUsersA['orders'],pd.Series(0, index=np.arange(data['visitorsPerDateA'].sum() - len(ordersByUsersA['orders'])), name='orders')],axis=0)\n",
    "sampleB = pd.concat([ordersByUsersB['orders'],pd.Series(0, index=np.arange(data['visitorsPerDateB'].sum() - len(ordersByUsersB['orders'])), name='orders')],axis=0)"
   ]
  },
  {
   "cell_type": "code",
   "execution_count": 48,
   "metadata": {},
   "outputs": [
    {
     "name": "stdout",
     "output_type": "stream",
     "text": [
      "p-value = 0.00548\n"
     ]
    }
   ],
   "source": [
    "print('p-value =',\"{0:.5f}\".format(stats.mannwhitneyu(sampleA, sampleB)[1]))"
   ]
  },
  {
   "cell_type": "code",
   "execution_count": 49,
   "metadata": {},
   "outputs": [
    {
     "name": "stdout",
     "output_type": "stream",
     "text": [
      "Относительный прирост конверсии группы B = 16.0%\n"
     ]
    }
   ],
   "source": [
    "print('Относительный прирост конверсии группы B =',\"{0:.1%}\".format((data['ordersPerDateB'].sum()/data['visitorsPerDateB'].sum())/(data['ordersPerDateA'].sum()/data['visitorsPerDateA'].sum())-1)) "
   ]
  },
  {
   "cell_type": "markdown",
   "metadata": {},
   "source": [
    "p-value = 0.00548 меньше 0.05. Значит, нулевую гипотезу о том, что статистически значимых различий в конверсии между группами нет, отвергаем. Относительный прирост конверсии группы B к А - 16%.\n",
    "По «сырым» данным различия в конверсии групп A и B есть."
   ]
  },
  {
   "cell_type": "markdown",
   "metadata": {},
   "source": [
    "### Cтатистическая значимость различий в среднем чеке между группами по «сырым» данным"
   ]
  },
  {
   "cell_type": "markdown",
   "metadata": {},
   "source": [
    "Нулевая гипотеза:статистически значимых различий в среднем чеке между группами нет.Альтернативная гипотеза: средние чеки групп не равны."
   ]
  },
  {
   "cell_type": "code",
   "execution_count": 50,
   "metadata": {},
   "outputs": [
    {
     "name": "stdout",
     "output_type": "stream",
     "text": [
      "p-value = 0.415\n",
      "Относительные различия в среднем чеке = 28.7%\n"
     ]
    }
   ],
   "source": [
    "print('p-value =','{0:.3f}'.format(stats.mannwhitneyu(orders[orders['group']=='A']['revenue'], orders[orders['group']=='B']['revenue'])[1]))\n",
    "print('Относительные различия в среднем чеке =','{0:.1%}'.format(orders[orders['group']=='B']['revenue'].mean()/orders[orders['group']=='A']['revenue'].mean()-1))"
   ]
  },
  {
   "cell_type": "markdown",
   "metadata": {},
   "source": [
    "По \"сырым\" данным P-value значительно больше 0.05. Значит, причин отвергать нулевую гипотезу и считать, что в среднем чеке есть различия, нет. Но относительное различие - 28.7%"
   ]
  },
  {
   "cell_type": "markdown",
   "metadata": {},
   "source": [
    "### Cтатистическую значимость различий в конверсии между группами по «очищенным» данным"
   ]
  },
  {
   "cell_type": "markdown",
   "metadata": {},
   "source": [
    "Примем за аномальных пользователей тех, кто совершил от 2 заказов или совершил заказ дороже 26 785 рублей"
   ]
  },
  {
   "cell_type": "markdown",
   "metadata": {},
   "source": [
    "Посмотрим, сколько всего аномальных пользователей "
   ]
  },
  {
   "cell_type": "code",
   "execution_count": 51,
   "metadata": {},
   "outputs": [
    {
     "data": {
      "text/plain": [
       "568     113298937\n",
       "1099    148427295\n",
       "928     204675465\n",
       "33      249864742\n",
       "684     358944393\n",
       "dtype: int64"
      ]
     },
     "execution_count": 51,
     "metadata": {},
     "output_type": "execute_result"
    }
   ],
   "source": [
    "usersWithManyOrders = pd.concat(\n",
    "    [\n",
    "        ordersByUsersA[ordersByUsersA['orders'] > 2]['userId'],\n",
    "        ordersByUsersB[ordersByUsersB['orders'] > 2]['userId'],\n",
    "    ],\n",
    "    axis=0,\n",
    ")\n",
    "usersWithExpensiveOrders = orders[orders['revenue'] > 26785]['visitorid']\n",
    "abnormalUsers = (\n",
    "    pd.concat([usersWithManyOrders, usersWithExpensiveOrders], axis=0)\n",
    "    .drop_duplicates()\n",
    "    .sort_values()\n",
    ")\n",
    "abnormalUsers.head(5)"
   ]
  },
  {
   "cell_type": "code",
   "execution_count": 52,
   "metadata": {},
   "outputs": [
    {
     "data": {
      "text/plain": [
       "(58,)"
      ]
     },
     "execution_count": 52,
     "metadata": {},
     "output_type": "execute_result"
    }
   ],
   "source": [
    "abnormalUsers.shape"
   ]
  },
  {
   "cell_type": "markdown",
   "metadata": {},
   "source": [
    "Удалим аномальных пользователей"
   ]
  },
  {
   "cell_type": "code",
   "execution_count": 53,
   "metadata": {},
   "outputs": [],
   "source": [
    "sampleAFiltered = pd.concat(\n",
    "    [\n",
    "        ordersByUsersA[\n",
    "            np.logical_not(ordersByUsersA['userId'].isin(abnormalUsers))\n",
    "        ]['orders'],\n",
    "        pd.Series(\n",
    "            0,\n",
    "            index=np.arange(\n",
    "                data['visitorsPerDateA'].sum() - len(ordersByUsersA['orders'])\n",
    "            ),\n",
    "            name='orders',\n",
    "        ),\n",
    "    ],\n",
    "    axis=0,\n",
    ")\n",
    "\n",
    "sampleBFiltered = pd.concat(\n",
    "    [\n",
    "        ordersByUsersB[\n",
    "            np.logical_not(ordersByUsersB['userId'].isin(abnormalUsers))\n",
    "        ]['orders'],\n",
    "        pd.Series(\n",
    "            0,\n",
    "            index=np.arange(\n",
    "                data['visitorsPerDateB'].sum() - len(ordersByUsersB['orders'])\n",
    "            ),\n",
    "            name='orders',\n",
    "        ),\n",
    "    ],\n",
    "    axis=0,\n",
    ") "
   ]
  },
  {
   "cell_type": "markdown",
   "metadata": {},
   "source": [
    "Применим статистический критерий Манна-Уитни к полученным выборкам. Нулевая гипотеза:статистически значимых различий в конверсии между группами нет. Альтернативная гипотеза: конверсии групп не равны. "
   ]
  },
  {
   "cell_type": "code",
   "execution_count": 54,
   "metadata": {},
   "outputs": [
    {
     "name": "stdout",
     "output_type": "stream",
     "text": [
      "p-value = 0.00614\n",
      "Относительный прирост конверсии группы B = 18.2%\n"
     ]
    }
   ],
   "source": [
    "print('p-value =','{0:.5f}'.format(stats.mannwhitneyu(sampleAFiltered, sampleBFiltered)[1]))\n",
    "print('Относительный прирост конверсии группы B =','{0:.1%}'.format(sampleBFiltered.mean()/sampleAFiltered.mean()-1))"
   ]
  },
  {
   "cell_type": "markdown",
   "metadata": {},
   "source": [
    "Цифры практически не изменились.\n",
    "p-value = 0.00614 меньше 0.05. Значит, нулевую гипотезу о том, что статистически значимых различий в конверсии между группами нет, отвергаем. Относительный прирост конверсии группы B к А - 18.2%. По «очищенным» данным различия в конверсии групп A и B есть."
   ]
  },
  {
   "cell_type": "markdown",
   "metadata": {},
   "source": [
    "### Cтатистическая значимость различий в среднем чеке заказа между группами по «очищенным» данным"
   ]
  },
  {
   "cell_type": "markdown",
   "metadata": {},
   "source": [
    "Нулевая гипотеза:статистически значимых различий в среднем чеке между группами нет. Альтернативная гипотеза:средние чеки групп не равны."
   ]
  },
  {
   "cell_type": "code",
   "execution_count": 55,
   "metadata": {},
   "outputs": [
    {
     "name": "stdout",
     "output_type": "stream",
     "text": [
      "p-value = 0.323\n",
      "Относительный различия в среднем чеке = -4.8%\n"
     ]
    }
   ],
   "source": [
    "print('p-value =',\n",
    "    '{0:.3f}'.format(\n",
    "        stats.mannwhitneyu(\n",
    "            orders[\n",
    "                np.logical_and(\n",
    "                    orders['group'] == 'A',\n",
    "                    np.logical_not(orders['visitorid'].isin(abnormalUsers)),\n",
    "                )\n",
    "            ]['revenue'],\n",
    "            orders[\n",
    "                np.logical_and(\n",
    "                    orders['group'] == 'B',\n",
    "                    np.logical_not(orders['visitorid'].isin(abnormalUsers)),\n",
    "                )\n",
    "            ]['revenue'],\n",
    "        )[1]\n",
    "    )\n",
    ")\n",
    "\n",
    "print('Относительный различия в среднем чеке =',\n",
    "    \"{0:.1%}\".format(\n",
    "        orders[\n",
    "            np.logical_and(\n",
    "                orders['group'] == 'B',\n",
    "                np.logical_not(orders['visitorid'].isin(abnormalUsers)),\n",
    "            )\n",
    "        ]['revenue'].mean()\n",
    "        / orders[\n",
    "            np.logical_and(\n",
    "                orders['group'] == 'A',\n",
    "                np.logical_not(orders['visitorid'].isin(abnormalUsers)),\n",
    "            )\n",
    "        ]['revenue'].mean()\n",
    "        - 1\n",
    "    )\n",
    ")"
   ]
  },
  {
   "cell_type": "markdown",
   "metadata": {},
   "source": [
    "По \"очищенным \" данным P-value 0.323 значительно больше 0.05. Значит, причин отвергать нулевую гипотезу и считать, что в среднем чеке есть различия, нет. А относительное различие - -4.8%, группа В даже ушла в минус.\n",
    "\n",
    "Результаты не изменились, но значительно уменьшились различия."
   ]
  },
  {
   "cell_type": "markdown",
   "metadata": {},
   "source": [
    "## Выводы"
   ]
  },
  {
   "cell_type": "markdown",
   "metadata": {},
   "source": [
    "Получили результаты:"
   ]
  },
  {
   "cell_type": "markdown",
   "metadata": {},
   "source": [
    "1.По «сырым» данным различия в конверсии групп A и B есть.p-value = 0.00548.Относительный прирост конверсии группы B = 16.0%\n",
    "И по «очищенным» данным различия в конверсии групп A и B есть.\n",
    "p-value = 0.00614\n",
    "Относительный прирост конверсии группы B = 18.2%."
   ]
  },
  {
   "cell_type": "markdown",
   "metadata": {},
   "source": [
    "2.По \"сырым\" данным P-value 0.415 значительно больше 0.05. Значит, причин отвергать нулевую гипотезу и считать, что в среднем чеке есть различия, нет. Но относительное различие - 28.7%\n",
    "\n",
    "По \"очищенным \" данным P-value 0.323 значительно больше 0.05. Значит, причин отвергать нулевую гипотезу и считать, что в среднем чеке есть различия, нет. А относительное различие - -4.8%: уменьшилось, даже изменился знак.\n",
    "\n",
    "Результаты не изменились, но значительно уменьшились различия в средних чеках\n"
   ]
  },
  {
   "cell_type": "markdown",
   "metadata": {},
   "source": [
    "3.График различия конверсии между группами сообщает, что результаты застабилизировались"
   ]
  },
  {
   "cell_type": "code",
   "execution_count": 56,
   "metadata": {},
   "outputs": [
    {
     "data": {
      "text/plain": [
       "['2019-08-01', '2019-08-31', -0.3, 0.3]"
      ]
     },
     "execution_count": 56,
     "metadata": {},
     "output_type": "execute_result"
    },
    {
     "data": {
      "image/png": "[encoded data removed]",
      "text/plain": [
       "<Figure size 1080x360 with 1 Axes>"
      ]
     },
     "metadata": {
      "needs_background": "light"
     },
     "output_type": "display_data"
    }
   ],
   "source": [
    "mergedCumulativeConversions = cumulativeDataA[['date','conversion']].merge(cumulativeDataB[['date','conversion']], left_on='date', right_on='date', how='left', suffixes=['A', 'B'])\n",
    "plt.figure(figsize = (15,5))\n",
    "plt.grid(True)\n",
    "plt.plot(mergedCumulativeConversions['date'], mergedCumulativeConversions['conversionB']/mergedCumulativeConversions['conversionA']-1)\n",
    "plt.title('Относительный прирост конверсии группы B относительно группы A')\n",
    "plt.axhline(y=0, color='black', linestyle='--')\n",
    "plt.axhline(y=-0.2, color='grey', linestyle='--')\n",
    "plt.axis([\"2019-08-01\", '2019-08-31', -0.3, 0.3]) "
   ]
  },
  {
   "cell_type": "markdown",
   "metadata": {},
   "source": [
    "4.График различия среднего чека говорит о том, что чеки в группе B выше, но после удаления выбросов разница уменьшилась.Статистически значимых отличий не выявлено."
   ]
  },
  {
   "cell_type": "code",
   "execution_count": 57,
   "metadata": {},
   "outputs": [
    {
     "data": {
      "image/png": "[encoded data removed]",
      "text/plain": [
       "<Figure size 1080x360 with 1 Axes>"
      ]
     },
     "metadata": {
      "needs_background": "light"
     },
     "output_type": "display_data"
    }
   ],
   "source": [
    "plt.figure(figsize = (15,5))\n",
    "plt.grid(True)\n",
    "plt.plot(cumulativeRevenueA['date'], cumulativeRevenueA['revenue']/cumulativeRevenueA['orders'], label='A')\n",
    "plt.plot(cumulativeRevenueB['date'], cumulativeRevenueB['revenue']/cumulativeRevenueB['orders'], label='B')\n",
    "plt.legend() \n",
    "plt.xlabel('Дата')\n",
    "plt.ylabel('Сумма')\n",
    "plt.title('График среднего чека по группам')\n",
    "plt.show()"
   ]
  },
  {
   "cell_type": "markdown",
   "metadata": {},
   "source": [
    "По этим результатам можно сделать вывод, что в данном варианте нет смысла продолжать тестирование, хотя у группы B есть относительный прирост конверсии, отличный от A. Возможно дело в том, что из-за неправильно собранных данных на начальном этапе пришлось удалить 15% записей с покупками,т.к. там была перепутаница с группами. Если возможно, надо привести исходные файлы в порядок, четко разделив пользователей по группам и повторить расчет. \n",
    "\n",
    "**Итог:** Мы обнаружили, что график конверсии стабилизировался, статистически значимые различия в конверсии есть, группа В лучше группы А по конверсии. График среднего чека еще не стабилизировался, статистически значимых различий в среднем чеке нет, все отличия мы могли получить и случайно. Тогда ждать стабилизации среднего чека не нужно: группа В лучше группы А по конверсии при равном среднем чеке. Можно зафиксировать победу группы В."
   ]
  }
 ],
 "metadata": {
  "ExecuteTimeLog": [
   {
    "duration": 419,
    "start_time": "2021-09-01T13:38:01.381Z"
   },
   {
    "duration": 1196,
    "start_time": "2021-09-01T13:38:27.274Z"
   },
   {
    "duration": 19,
    "start_time": "2021-09-01T13:38:34.572Z"
   },
   {
    "duration": 21,
    "start_time": "2021-09-01T13:38:50.765Z"
   },
   {
    "duration": 118,
    "start_time": "2021-09-01T14:43:57.387Z"
   },
   {
    "duration": 462,
    "start_time": "2021-09-01T14:44:22.401Z"
   },
   {
    "duration": 13304,
    "start_time": "2021-09-01T14:45:12.034Z"
   },
   {
    "duration": 4,
    "start_time": "2021-09-01T14:49:46.787Z"
   },
   {
    "duration": 386,
    "start_time": "2021-09-01T14:50:03.783Z"
   },
   {
    "duration": 21,
    "start_time": "2021-09-01T14:51:41.540Z"
   },
   {
    "duration": 16,
    "start_time": "2021-09-01T14:52:19.680Z"
   },
   {
    "duration": 444,
    "start_time": "2021-09-01T14:53:43.303Z"
   },
   {
    "duration": 12,
    "start_time": "2021-09-01T14:54:02.711Z"
   },
   {
    "duration": 9,
    "start_time": "2021-09-01T14:55:22.526Z"
   },
   {
    "duration": 482,
    "start_time": "2021-09-01T14:56:47.085Z"
   },
   {
    "duration": 542,
    "start_time": "2021-09-01T14:59:20.728Z"
   },
   {
    "duration": 12,
    "start_time": "2021-09-01T14:59:43.486Z"
   },
   {
    "duration": 14,
    "start_time": "2021-09-01T15:00:41.593Z"
   },
   {
    "duration": 25,
    "start_time": "2021-09-01T15:03:59.207Z"
   },
   {
    "duration": 9390,
    "start_time": "2021-09-01T15:50:25.246Z"
   },
   {
    "duration": 4,
    "start_time": "2021-09-01T15:50:48.505Z"
   },
   {
    "duration": 31,
    "start_time": "2021-09-01T15:50:48.512Z"
   },
   {
    "duration": 8848,
    "start_time": "2021-09-01T15:50:48.546Z"
   },
   {
    "duration": 180,
    "start_time": "2021-09-01T15:50:57.217Z"
   },
   {
    "duration": 180,
    "start_time": "2021-09-01T15:50:57.219Z"
   },
   {
    "duration": 178,
    "start_time": "2021-09-01T15:50:57.222Z"
   },
   {
    "duration": 11589,
    "start_time": "2021-09-01T15:52:07.449Z"
   },
   {
    "duration": 4,
    "start_time": "2021-09-01T15:53:41.235Z"
   },
   {
    "duration": 37,
    "start_time": "2021-09-01T15:53:41.241Z"
   },
   {
    "duration": 20,
    "start_time": "2021-09-01T15:53:41.281Z"
   },
   {
    "duration": 14,
    "start_time": "2021-09-01T15:53:41.304Z"
   },
   {
    "duration": 37,
    "start_time": "2021-09-01T15:53:41.320Z"
   },
   {
    "duration": 28,
    "start_time": "2021-09-01T15:53:41.359Z"
   },
   {
    "duration": 5,
    "start_time": "2021-09-01T15:55:12.488Z"
   },
   {
    "duration": 18,
    "start_time": "2021-09-01T15:55:25.405Z"
   },
   {
    "duration": 4,
    "start_time": "2021-09-01T15:56:24.315Z"
   },
   {
    "duration": 26,
    "start_time": "2021-09-01T15:56:24.323Z"
   },
   {
    "duration": 6,
    "start_time": "2021-09-01T15:56:24.353Z"
   },
   {
    "duration": 8,
    "start_time": "2021-09-01T15:56:24.362Z"
   },
   {
    "duration": 15,
    "start_time": "2021-09-01T15:56:24.372Z"
   },
   {
    "duration": 23,
    "start_time": "2021-09-01T15:56:24.390Z"
   },
   {
    "duration": 47,
    "start_time": "2021-09-01T15:56:24.416Z"
   },
   {
    "duration": 13,
    "start_time": "2021-09-01T15:59:54.803Z"
   },
   {
    "duration": 5,
    "start_time": "2021-09-01T16:02:29.483Z"
   },
   {
    "duration": 14,
    "start_time": "2021-09-01T16:02:33.805Z"
   },
   {
    "duration": 7,
    "start_time": "2021-09-01T16:03:28.731Z"
   },
   {
    "duration": 13,
    "start_time": "2021-09-01T16:03:34.011Z"
   },
   {
    "duration": 4,
    "start_time": "2021-09-01T16:04:07.084Z"
   },
   {
    "duration": 32,
    "start_time": "2021-09-01T16:04:07.091Z"
   },
   {
    "duration": 12,
    "start_time": "2021-09-01T16:04:07.127Z"
   },
   {
    "duration": 9,
    "start_time": "2021-09-01T16:04:07.142Z"
   },
   {
    "duration": 14,
    "start_time": "2021-09-01T16:04:07.154Z"
   },
   {
    "duration": 17,
    "start_time": "2021-09-01T16:04:07.171Z"
   },
   {
    "duration": 17,
    "start_time": "2021-09-01T16:04:07.191Z"
   },
   {
    "duration": 363,
    "start_time": "2021-09-01T16:04:25.795Z"
   },
   {
    "duration": 16,
    "start_time": "2021-09-01T16:04:29.637Z"
   },
   {
    "duration": 4,
    "start_time": "2021-09-01T16:04:35.594Z"
   },
   {
    "duration": 44,
    "start_time": "2021-09-01T16:04:35.600Z"
   },
   {
    "duration": 9,
    "start_time": "2021-09-01T16:04:35.647Z"
   },
   {
    "duration": 13,
    "start_time": "2021-09-01T16:04:35.658Z"
   },
   {
    "duration": 22,
    "start_time": "2021-09-01T16:04:35.674Z"
   },
   {
    "duration": 16,
    "start_time": "2021-09-01T16:04:35.698Z"
   },
   {
    "duration": 18,
    "start_time": "2021-09-01T16:04:35.717Z"
   },
   {
    "duration": 5,
    "start_time": "2021-09-01T16:05:17.453Z"
   },
   {
    "duration": 26,
    "start_time": "2021-09-01T16:05:17.461Z"
   },
   {
    "duration": 8,
    "start_time": "2021-09-01T16:05:17.490Z"
   },
   {
    "duration": 16,
    "start_time": "2021-09-01T16:05:17.501Z"
   },
   {
    "duration": 25,
    "start_time": "2021-09-01T16:05:17.520Z"
   },
   {
    "duration": 20,
    "start_time": "2021-09-01T16:05:17.548Z"
   },
   {
    "duration": 17,
    "start_time": "2021-09-01T16:05:17.570Z"
   },
   {
    "duration": 5,
    "start_time": "2021-09-01T16:06:49.869Z"
   },
   {
    "duration": 13,
    "start_time": "2021-09-01T16:06:54.284Z"
   },
   {
    "duration": 4,
    "start_time": "2021-09-01T16:13:40.930Z"
   },
   {
    "duration": 9,
    "start_time": "2021-09-01T16:13:59.919Z"
   },
   {
    "duration": 13,
    "start_time": "2021-09-01T16:14:13.712Z"
   },
   {
    "duration": 4,
    "start_time": "2021-09-01T16:14:17.691Z"
   },
   {
    "duration": 38,
    "start_time": "2021-09-01T16:14:17.699Z"
   },
   {
    "duration": 4,
    "start_time": "2021-09-01T16:14:17.741Z"
   },
   {
    "duration": 11,
    "start_time": "2021-09-01T16:14:17.748Z"
   },
   {
    "duration": 26,
    "start_time": "2021-09-01T16:14:17.762Z"
   },
   {
    "duration": 21,
    "start_time": "2021-09-01T16:14:17.790Z"
   },
   {
    "duration": 19,
    "start_time": "2021-09-01T16:14:38.542Z"
   },
   {
    "duration": 4,
    "start_time": "2021-09-01T16:15:00.740Z"
   },
   {
    "duration": 28,
    "start_time": "2021-09-01T16:15:00.747Z"
   },
   {
    "duration": 50,
    "start_time": "2021-09-01T16:15:00.779Z"
   },
   {
    "duration": 35,
    "start_time": "2021-09-01T16:15:00.832Z"
   },
   {
    "duration": 39,
    "start_time": "2021-09-01T16:15:00.869Z"
   },
   {
    "duration": 55,
    "start_time": "2021-09-01T16:15:00.911Z"
   },
   {
    "duration": 920,
    "start_time": "2021-09-03T07:08:57.959Z"
   },
   {
    "duration": 17,
    "start_time": "2021-09-03T07:08:58.881Z"
   },
   {
    "duration": 6,
    "start_time": "2021-09-03T07:08:58.900Z"
   },
   {
    "duration": 8,
    "start_time": "2021-09-03T07:08:58.908Z"
   },
   {
    "duration": 12,
    "start_time": "2021-09-03T07:08:58.918Z"
   },
   {
    "duration": 12,
    "start_time": "2021-09-03T07:08:58.932Z"
   },
   {
    "duration": 89,
    "start_time": "2021-09-03T07:08:58.945Z"
   },
   {
    "duration": 52,
    "start_time": "2021-09-03T07:09:08.164Z"
   },
   {
    "duration": 20,
    "start_time": "2021-09-03T07:31:29.274Z"
   },
   {
    "duration": 1313,
    "start_time": "2021-09-03T07:36:36.514Z"
   },
   {
    "duration": 3,
    "start_time": "2021-09-03T07:39:42.009Z"
   },
   {
    "duration": 21,
    "start_time": "2021-09-03T07:39:42.014Z"
   },
   {
    "duration": 7,
    "start_time": "2021-09-03T07:39:42.037Z"
   },
   {
    "duration": 12,
    "start_time": "2021-09-03T07:39:42.046Z"
   },
   {
    "duration": 10,
    "start_time": "2021-09-03T07:39:42.060Z"
   },
   {
    "duration": 10,
    "start_time": "2021-09-03T07:39:42.072Z"
   },
   {
    "duration": 58,
    "start_time": "2021-09-03T07:39:42.084Z"
   },
   {
    "duration": 11,
    "start_time": "2021-09-03T07:39:42.144Z"
   },
   {
    "duration": 1295,
    "start_time": "2021-09-03T07:39:42.158Z"
   },
   {
    "duration": -1296,
    "start_time": "2021-09-03T07:39:44.751Z"
   },
   {
    "duration": 6,
    "start_time": "2021-09-03T07:40:34.369Z"
   },
   {
    "duration": 11,
    "start_time": "2021-09-03T07:47:35.745Z"
   },
   {
    "duration": 1278,
    "start_time": "2021-09-03T07:48:31.266Z"
   },
   {
    "duration": 3,
    "start_time": "2021-09-03T07:48:52.546Z"
   },
   {
    "duration": 20,
    "start_time": "2021-09-03T07:48:52.551Z"
   },
   {
    "duration": 5,
    "start_time": "2021-09-03T07:48:52.573Z"
   },
   {
    "duration": 17,
    "start_time": "2021-09-03T07:48:52.579Z"
   },
   {
    "duration": 16,
    "start_time": "2021-09-03T07:48:52.598Z"
   },
   {
    "duration": 9,
    "start_time": "2021-09-03T07:48:52.616Z"
   },
   {
    "duration": 58,
    "start_time": "2021-09-03T07:48:52.627Z"
   },
   {
    "duration": 11,
    "start_time": "2021-09-03T07:48:52.686Z"
   },
   {
    "duration": 1217,
    "start_time": "2021-09-03T07:48:52.699Z"
   },
   {
    "duration": -1292,
    "start_time": "2021-09-03T07:48:55.210Z"
   },
   {
    "duration": 14,
    "start_time": "2021-09-03T07:51:08.954Z"
   },
   {
    "duration": 14,
    "start_time": "2021-09-03T07:51:14.754Z"
   },
   {
    "duration": 7,
    "start_time": "2021-09-03T07:51:31.410Z"
   },
   {
    "duration": 11,
    "start_time": "2021-09-03T07:52:23.684Z"
   },
   {
    "duration": 8,
    "start_time": "2021-09-03T07:52:59.395Z"
   },
   {
    "duration": 8,
    "start_time": "2021-09-03T07:53:23.227Z"
   },
   {
    "duration": 93,
    "start_time": "2021-09-03T07:56:41.100Z"
   },
   {
    "duration": 5,
    "start_time": "2021-09-03T07:57:01.762Z"
   },
   {
    "duration": 11,
    "start_time": "2021-09-03T07:57:33.866Z"
   },
   {
    "duration": 7,
    "start_time": "2021-09-03T07:58:04.075Z"
   },
   {
    "duration": 3,
    "start_time": "2021-09-03T08:03:42.959Z"
   },
   {
    "duration": 10,
    "start_time": "2021-09-03T08:04:16.411Z"
   },
   {
    "duration": 7,
    "start_time": "2021-09-03T08:04:37.847Z"
   },
   {
    "duration": 7,
    "start_time": "2021-09-03T08:10:02.965Z"
   },
   {
    "duration": 10,
    "start_time": "2021-09-03T08:10:17.588Z"
   },
   {
    "duration": 4,
    "start_time": "2021-09-03T08:10:38.335Z"
   },
   {
    "duration": 9,
    "start_time": "2021-09-03T08:10:42.016Z"
   },
   {
    "duration": 6,
    "start_time": "2021-09-03T08:33:55.833Z"
   },
   {
    "duration": 9,
    "start_time": "2021-09-03T08:34:02.625Z"
   },
   {
    "duration": 202,
    "start_time": "2021-09-03T08:36:51.062Z"
   },
   {
    "duration": 11,
    "start_time": "2021-09-03T08:37:04.419Z"
   },
   {
    "duration": 140,
    "start_time": "2021-09-03T08:39:29.907Z"
   },
   {
    "duration": 11,
    "start_time": "2021-09-03T08:40:17.586Z"
   },
   {
    "duration": 11,
    "start_time": "2021-09-03T08:40:51.443Z"
   },
   {
    "duration": 8,
    "start_time": "2021-09-03T08:42:05.651Z"
   },
   {
    "duration": 3,
    "start_time": "2021-09-03T08:43:19.973Z"
   },
   {
    "duration": 26,
    "start_time": "2021-09-03T08:43:19.978Z"
   },
   {
    "duration": 11,
    "start_time": "2021-09-03T08:43:20.006Z"
   },
   {
    "duration": 10,
    "start_time": "2021-09-03T08:43:20.019Z"
   },
   {
    "duration": 16,
    "start_time": "2021-09-03T08:43:20.031Z"
   },
   {
    "duration": 12,
    "start_time": "2021-09-03T08:43:20.048Z"
   },
   {
    "duration": 55,
    "start_time": "2021-09-03T08:43:20.061Z"
   },
   {
    "duration": 8,
    "start_time": "2021-09-03T08:43:20.118Z"
   },
   {
    "duration": 8,
    "start_time": "2021-09-03T08:43:20.128Z"
   },
   {
    "duration": 4,
    "start_time": "2021-09-03T08:43:20.138Z"
   },
   {
    "duration": 14,
    "start_time": "2021-09-03T08:43:20.144Z"
   },
   {
    "duration": 7,
    "start_time": "2021-09-03T08:43:20.159Z"
   },
   {
    "duration": 7,
    "start_time": "2021-09-03T08:43:20.168Z"
   },
   {
    "duration": 204,
    "start_time": "2021-09-03T08:43:20.177Z"
   },
   {
    "duration": 164,
    "start_time": "2021-09-03T08:43:20.383Z"
   },
   {
    "duration": 9,
    "start_time": "2021-09-03T08:43:20.548Z"
   },
   {
    "duration": 11,
    "start_time": "2021-09-03T08:43:20.559Z"
   },
   {
    "duration": 90,
    "start_time": "2021-09-03T08:45:13.639Z"
   },
   {
    "duration": 11,
    "start_time": "2021-09-03T08:45:43.004Z"
   },
   {
    "duration": 2,
    "start_time": "2021-09-03T08:49:19.825Z"
   },
   {
    "duration": 20,
    "start_time": "2021-09-03T08:49:19.830Z"
   },
   {
    "duration": 4,
    "start_time": "2021-09-03T08:49:19.853Z"
   },
   {
    "duration": 7,
    "start_time": "2021-09-03T08:49:19.859Z"
   },
   {
    "duration": 10,
    "start_time": "2021-09-03T08:49:19.868Z"
   },
   {
    "duration": 8,
    "start_time": "2021-09-03T08:49:19.880Z"
   },
   {
    "duration": 54,
    "start_time": "2021-09-03T08:49:19.889Z"
   },
   {
    "duration": 7,
    "start_time": "2021-09-03T08:49:19.945Z"
   },
   {
    "duration": 11,
    "start_time": "2021-09-03T08:49:19.954Z"
   },
   {
    "duration": 5,
    "start_time": "2021-09-03T08:49:19.967Z"
   },
   {
    "duration": 15,
    "start_time": "2021-09-03T08:49:19.973Z"
   },
   {
    "duration": 6,
    "start_time": "2021-09-03T08:49:19.990Z"
   },
   {
    "duration": 9,
    "start_time": "2021-09-03T08:49:19.998Z"
   },
   {
    "duration": 313,
    "start_time": "2021-09-03T08:49:20.009Z"
   },
   {
    "duration": 8,
    "start_time": "2021-09-03T08:49:20.323Z"
   },
   {
    "duration": 154,
    "start_time": "2021-09-03T08:49:20.341Z"
   },
   {
    "duration": 6,
    "start_time": "2021-09-03T08:49:20.497Z"
   },
   {
    "duration": 21,
    "start_time": "2021-09-03T08:49:20.505Z"
   },
   {
    "duration": 17,
    "start_time": "2021-09-03T09:01:40.201Z"
   },
   {
    "duration": 93,
    "start_time": "2021-09-03T09:02:46.986Z"
   },
   {
    "duration": 22,
    "start_time": "2021-09-03T09:02:58.960Z"
   },
   {
    "duration": 13,
    "start_time": "2021-09-03T09:05:23.291Z"
   },
   {
    "duration": 13,
    "start_time": "2021-09-03T09:07:39.225Z"
   },
   {
    "duration": 282,
    "start_time": "2021-09-03T09:08:39.943Z"
   },
   {
    "duration": 14,
    "start_time": "2021-09-03T09:08:55.367Z"
   },
   {
    "duration": 11,
    "start_time": "2021-09-03T09:11:26.928Z"
   },
   {
    "duration": 6,
    "start_time": "2021-09-03T09:14:08.128Z"
   },
   {
    "duration": 285,
    "start_time": "2021-09-03T09:14:58.864Z"
   },
   {
    "duration": 275,
    "start_time": "2021-09-03T09:15:12.194Z"
   },
   {
    "duration": 277,
    "start_time": "2021-09-03T09:15:21.288Z"
   },
   {
    "duration": 6,
    "start_time": "2021-09-03T09:15:38.649Z"
   },
   {
    "duration": 5,
    "start_time": "2021-09-03T09:16:01.896Z"
   },
   {
    "duration": 270,
    "start_time": "2021-09-03T09:16:19.272Z"
   },
   {
    "duration": 15,
    "start_time": "2021-09-03T09:18:35.454Z"
   },
   {
    "duration": 5,
    "start_time": "2021-09-03T09:18:43.475Z"
   },
   {
    "duration": 6,
    "start_time": "2021-09-03T09:31:28.931Z"
   },
   {
    "duration": 13,
    "start_time": "2021-09-03T09:32:13.580Z"
   },
   {
    "duration": 323,
    "start_time": "2021-09-03T09:47:26.846Z"
   },
   {
    "duration": 19,
    "start_time": "2021-09-03T09:47:56.648Z"
   },
   {
    "duration": 12,
    "start_time": "2021-09-03T09:50:32.567Z"
   },
   {
    "duration": 12,
    "start_time": "2021-09-03T09:52:08.329Z"
   },
   {
    "duration": 7,
    "start_time": "2021-09-03T09:52:11.552Z"
   },
   {
    "duration": 8,
    "start_time": "2021-09-03T09:52:47.560Z"
   },
   {
    "duration": 13,
    "start_time": "2021-09-03T09:55:57.927Z"
   },
   {
    "duration": 274,
    "start_time": "2021-09-03T09:56:11.041Z"
   },
   {
    "duration": 4,
    "start_time": "2021-09-03T09:56:21.569Z"
   },
   {
    "duration": 10,
    "start_time": "2021-09-03T10:15:55.722Z"
   },
   {
    "duration": 18,
    "start_time": "2021-09-03T10:17:26.225Z"
   },
   {
    "duration": 304,
    "start_time": "2021-09-03T10:18:04.919Z"
   },
   {
    "duration": 339,
    "start_time": "2021-09-03T10:18:46.828Z"
   },
   {
    "duration": 321,
    "start_time": "2021-09-03T10:19:04.949Z"
   },
   {
    "duration": 3,
    "start_time": "2021-09-03T10:19:34.375Z"
   },
   {
    "duration": 27,
    "start_time": "2021-09-03T10:19:34.382Z"
   },
   {
    "duration": 7,
    "start_time": "2021-09-03T10:19:34.411Z"
   },
   {
    "duration": 68,
    "start_time": "2021-09-03T10:19:34.420Z"
   },
   {
    "duration": 18,
    "start_time": "2021-09-03T10:19:34.491Z"
   },
   {
    "duration": 12,
    "start_time": "2021-09-03T10:19:34.511Z"
   },
   {
    "duration": 59,
    "start_time": "2021-09-03T10:19:34.525Z"
   },
   {
    "duration": 7,
    "start_time": "2021-09-03T10:19:34.586Z"
   },
   {
    "duration": 10,
    "start_time": "2021-09-03T10:19:34.594Z"
   },
   {
    "duration": 8,
    "start_time": "2021-09-03T10:19:34.606Z"
   },
   {
    "duration": 14,
    "start_time": "2021-09-03T10:19:34.616Z"
   },
   {
    "duration": 25,
    "start_time": "2021-09-03T10:19:34.632Z"
   },
   {
    "duration": 21,
    "start_time": "2021-09-03T10:19:34.660Z"
   },
   {
    "duration": 5,
    "start_time": "2021-09-03T10:19:34.683Z"
   },
   {
    "duration": 9,
    "start_time": "2021-09-03T10:19:34.690Z"
   },
   {
    "duration": 9,
    "start_time": "2021-09-03T10:19:34.700Z"
   },
   {
    "duration": 7,
    "start_time": "2021-09-03T10:19:34.711Z"
   },
   {
    "duration": 269,
    "start_time": "2021-09-03T10:19:34.720Z"
   },
   {
    "duration": 7,
    "start_time": "2021-09-03T10:19:34.990Z"
   },
   {
    "duration": 180,
    "start_time": "2021-09-03T10:19:34.999Z"
   },
   {
    "duration": 7,
    "start_time": "2021-09-03T10:19:35.181Z"
   },
   {
    "duration": 12,
    "start_time": "2021-09-03T10:19:35.190Z"
   },
   {
    "duration": 6,
    "start_time": "2021-09-03T10:24:31.477Z"
   },
   {
    "duration": 296,
    "start_time": "2021-09-03T10:24:41.628Z"
   },
   {
    "duration": 4,
    "start_time": "2021-09-03T10:24:48.751Z"
   },
   {
    "duration": 24,
    "start_time": "2021-09-03T10:24:48.759Z"
   },
   {
    "duration": 7,
    "start_time": "2021-09-03T10:24:48.785Z"
   },
   {
    "duration": 10,
    "start_time": "2021-09-03T10:24:48.794Z"
   },
   {
    "duration": 11,
    "start_time": "2021-09-03T10:24:48.806Z"
   },
   {
    "duration": 12,
    "start_time": "2021-09-03T10:24:48.819Z"
   },
   {
    "duration": 56,
    "start_time": "2021-09-03T10:24:48.845Z"
   },
   {
    "duration": 8,
    "start_time": "2021-09-03T10:24:48.903Z"
   },
   {
    "duration": 10,
    "start_time": "2021-09-03T10:24:48.913Z"
   },
   {
    "duration": 3,
    "start_time": "2021-09-03T10:24:48.926Z"
   },
   {
    "duration": 18,
    "start_time": "2021-09-03T10:24:48.931Z"
   },
   {
    "duration": 11,
    "start_time": "2021-09-03T10:24:48.953Z"
   },
   {
    "duration": 19,
    "start_time": "2021-09-03T10:24:48.967Z"
   },
   {
    "duration": 9,
    "start_time": "2021-09-03T10:24:48.988Z"
   },
   {
    "duration": 8,
    "start_time": "2021-09-03T10:24:48.999Z"
   },
   {
    "duration": 39,
    "start_time": "2021-09-03T10:24:49.009Z"
   },
   {
    "duration": 10,
    "start_time": "2021-09-03T10:24:49.050Z"
   },
   {
    "duration": 239,
    "start_time": "2021-09-03T10:24:49.064Z"
   },
   {
    "duration": 8,
    "start_time": "2021-09-03T10:24:49.304Z"
   },
   {
    "duration": 182,
    "start_time": "2021-09-03T10:24:49.313Z"
   },
   {
    "duration": 7,
    "start_time": "2021-09-03T10:24:49.497Z"
   },
   {
    "duration": 11,
    "start_time": "2021-09-03T10:24:49.505Z"
   },
   {
    "duration": 8,
    "start_time": "2021-09-03T10:25:26.973Z"
   },
   {
    "duration": 273,
    "start_time": "2021-09-03T10:26:11.750Z"
   },
   {
    "duration": 4,
    "start_time": "2021-09-03T10:26:16.007Z"
   },
   {
    "duration": 25,
    "start_time": "2021-09-03T10:26:16.013Z"
   },
   {
    "duration": 18,
    "start_time": "2021-09-03T10:26:16.040Z"
   },
   {
    "duration": 21,
    "start_time": "2021-09-03T10:26:16.061Z"
   },
   {
    "duration": 22,
    "start_time": "2021-09-03T10:26:16.084Z"
   },
   {
    "duration": 17,
    "start_time": "2021-09-03T10:26:16.108Z"
   },
   {
    "duration": 62,
    "start_time": "2021-09-03T10:26:16.127Z"
   },
   {
    "duration": 7,
    "start_time": "2021-09-03T10:26:16.191Z"
   },
   {
    "duration": 18,
    "start_time": "2021-09-03T10:26:16.200Z"
   },
   {
    "duration": 16,
    "start_time": "2021-09-03T10:26:16.220Z"
   },
   {
    "duration": 37,
    "start_time": "2021-09-03T10:26:16.238Z"
   },
   {
    "duration": 13,
    "start_time": "2021-09-03T10:26:16.277Z"
   },
   {
    "duration": 20,
    "start_time": "2021-09-03T10:26:16.292Z"
   },
   {
    "duration": 16,
    "start_time": "2021-09-03T10:26:16.313Z"
   },
   {
    "duration": 22,
    "start_time": "2021-09-03T10:26:16.331Z"
   },
   {
    "duration": 11,
    "start_time": "2021-09-03T10:26:16.355Z"
   },
   {
    "duration": 15,
    "start_time": "2021-09-03T10:26:16.368Z"
   },
   {
    "duration": 240,
    "start_time": "2021-09-03T10:26:16.385Z"
   },
   {
    "duration": 16,
    "start_time": "2021-09-03T10:26:16.627Z"
   },
   {
    "duration": 173,
    "start_time": "2021-09-03T10:26:16.647Z"
   },
   {
    "duration": 7,
    "start_time": "2021-09-03T10:26:16.822Z"
   },
   {
    "duration": 26,
    "start_time": "2021-09-03T10:26:16.830Z"
   },
   {
    "duration": 7292,
    "start_time": "2021-09-03T10:29:20.094Z"
   },
   {
    "duration": 12,
    "start_time": "2021-09-03T10:30:09.966Z"
   },
   {
    "duration": 268,
    "start_time": "2021-09-03T10:31:21.078Z"
   },
   {
    "duration": 14,
    "start_time": "2021-09-03T10:31:53.589Z"
   },
   {
    "duration": 350,
    "start_time": "2021-09-03T11:08:04.988Z"
   },
   {
    "duration": 13,
    "start_time": "2021-09-03T11:08:22.060Z"
   },
   {
    "duration": 4,
    "start_time": "2021-09-03T11:12:15.743Z"
   },
   {
    "duration": 20,
    "start_time": "2021-09-03T11:12:15.750Z"
   },
   {
    "duration": 5,
    "start_time": "2021-09-03T11:12:15.773Z"
   },
   {
    "duration": 8,
    "start_time": "2021-09-03T11:12:15.780Z"
   },
   {
    "duration": 11,
    "start_time": "2021-09-03T11:12:15.790Z"
   },
   {
    "duration": 11,
    "start_time": "2021-09-03T11:12:15.803Z"
   },
   {
    "duration": 60,
    "start_time": "2021-09-03T11:12:15.816Z"
   },
   {
    "duration": 7,
    "start_time": "2021-09-03T11:12:15.879Z"
   },
   {
    "duration": 13,
    "start_time": "2021-09-03T11:12:15.888Z"
   },
   {
    "duration": 8,
    "start_time": "2021-09-03T11:12:15.902Z"
   },
   {
    "duration": 16,
    "start_time": "2021-09-03T11:12:15.911Z"
   },
   {
    "duration": 27,
    "start_time": "2021-09-03T11:12:15.929Z"
   },
   {
    "duration": 19,
    "start_time": "2021-09-03T11:12:15.958Z"
   },
   {
    "duration": 6,
    "start_time": "2021-09-03T11:12:15.979Z"
   },
   {
    "duration": 6,
    "start_time": "2021-09-03T11:12:15.987Z"
   },
   {
    "duration": 9,
    "start_time": "2021-09-03T11:12:15.995Z"
   },
   {
    "duration": 9,
    "start_time": "2021-09-03T11:12:16.005Z"
   },
   {
    "duration": 15,
    "start_time": "2021-09-03T11:12:16.016Z"
   },
   {
    "duration": 19,
    "start_time": "2021-09-03T11:12:16.041Z"
   },
   {
    "duration": 7,
    "start_time": "2021-09-03T11:12:16.062Z"
   },
   {
    "duration": 231,
    "start_time": "2021-09-03T11:12:16.071Z"
   },
   {
    "duration": 9,
    "start_time": "2021-09-03T11:12:16.303Z"
   },
   {
    "duration": 166,
    "start_time": "2021-09-03T11:12:16.316Z"
   },
   {
    "duration": 9,
    "start_time": "2021-09-03T11:12:16.484Z"
   },
   {
    "duration": 21,
    "start_time": "2021-09-03T11:12:16.494Z"
   },
   {
    "duration": 9,
    "start_time": "2021-09-03T11:19:12.256Z"
   },
   {
    "duration": 4,
    "start_time": "2021-09-03T11:20:36.600Z"
   },
   {
    "duration": 16,
    "start_time": "2021-09-03T11:23:03.361Z"
   },
   {
    "duration": 18,
    "start_time": "2021-09-03T11:35:27.587Z"
   },
   {
    "duration": 27,
    "start_time": "2021-09-03T11:35:50.548Z"
   },
   {
    "duration": 15,
    "start_time": "2021-09-03T11:40:10.459Z"
   },
   {
    "duration": 4,
    "start_time": "2021-09-03T12:21:07.825Z"
   },
   {
    "duration": 8,
    "start_time": "2021-09-03T12:21:52.136Z"
   },
   {
    "duration": 5,
    "start_time": "2021-09-03T12:22:22.528Z"
   },
   {
    "duration": 2,
    "start_time": "2021-09-03T12:22:57.932Z"
   },
   {
    "duration": 21,
    "start_time": "2021-09-03T12:22:57.936Z"
   },
   {
    "duration": 5,
    "start_time": "2021-09-03T12:22:57.959Z"
   },
   {
    "duration": 8,
    "start_time": "2021-09-03T12:22:57.965Z"
   },
   {
    "duration": 12,
    "start_time": "2021-09-03T12:22:57.974Z"
   },
   {
    "duration": 10,
    "start_time": "2021-09-03T12:22:57.987Z"
   },
   {
    "duration": 56,
    "start_time": "2021-09-03T12:22:57.999Z"
   },
   {
    "duration": 7,
    "start_time": "2021-09-03T12:22:58.058Z"
   },
   {
    "duration": 11,
    "start_time": "2021-09-03T12:22:58.067Z"
   },
   {
    "duration": 5,
    "start_time": "2021-09-03T12:22:58.080Z"
   },
   {
    "duration": 17,
    "start_time": "2021-09-03T12:22:58.086Z"
   },
   {
    "duration": 12,
    "start_time": "2021-09-03T12:22:58.105Z"
   },
   {
    "duration": 18,
    "start_time": "2021-09-03T12:22:58.119Z"
   },
   {
    "duration": 13,
    "start_time": "2021-09-03T12:22:58.138Z"
   },
   {
    "duration": 6,
    "start_time": "2021-09-03T12:22:58.153Z"
   },
   {
    "duration": 19,
    "start_time": "2021-09-03T12:22:58.161Z"
   },
   {
    "duration": 8,
    "start_time": "2021-09-03T12:22:58.182Z"
   },
   {
    "duration": 11,
    "start_time": "2021-09-03T12:22:58.192Z"
   },
   {
    "duration": 16,
    "start_time": "2021-09-03T12:22:58.205Z"
   },
   {
    "duration": 20,
    "start_time": "2021-09-03T12:22:58.222Z"
   },
   {
    "duration": 19,
    "start_time": "2021-09-03T12:22:58.245Z"
   },
   {
    "duration": 5,
    "start_time": "2021-09-03T12:22:58.265Z"
   },
   {
    "duration": 224,
    "start_time": "2021-09-03T12:22:58.273Z"
   },
   {
    "duration": 8,
    "start_time": "2021-09-03T12:22:58.498Z"
   },
   {
    "duration": 154,
    "start_time": "2021-09-03T12:22:58.508Z"
   },
   {
    "duration": 7,
    "start_time": "2021-09-03T12:22:58.663Z"
   },
   {
    "duration": 12,
    "start_time": "2021-09-03T12:22:58.672Z"
   },
   {
    "duration": 6,
    "start_time": "2021-09-03T12:24:13.453Z"
   },
   {
    "duration": 3,
    "start_time": "2021-09-03T12:24:24.788Z"
   },
   {
    "duration": 24,
    "start_time": "2021-09-03T12:24:24.793Z"
   },
   {
    "duration": 19,
    "start_time": "2021-09-03T12:24:24.819Z"
   },
   {
    "duration": 24,
    "start_time": "2021-09-03T12:24:24.840Z"
   },
   {
    "duration": 9,
    "start_time": "2021-09-03T12:24:24.866Z"
   },
   {
    "duration": 16,
    "start_time": "2021-09-03T12:24:24.876Z"
   },
   {
    "duration": 56,
    "start_time": "2021-09-03T12:24:24.895Z"
   },
   {
    "duration": 8,
    "start_time": "2021-09-03T12:24:24.954Z"
   },
   {
    "duration": 10,
    "start_time": "2021-09-03T12:24:24.964Z"
   },
   {
    "duration": 18,
    "start_time": "2021-09-03T12:24:24.975Z"
   },
   {
    "duration": 24,
    "start_time": "2021-09-03T12:24:24.994Z"
   },
   {
    "duration": 15,
    "start_time": "2021-09-03T12:24:25.020Z"
   },
   {
    "duration": 35,
    "start_time": "2021-09-03T12:24:25.037Z"
   },
   {
    "duration": 8,
    "start_time": "2021-09-03T12:24:25.074Z"
   },
   {
    "duration": 11,
    "start_time": "2021-09-03T12:24:25.084Z"
   },
   {
    "duration": 19,
    "start_time": "2021-09-03T12:24:25.097Z"
   },
   {
    "duration": 12,
    "start_time": "2021-09-03T12:24:25.118Z"
   },
   {
    "duration": 23,
    "start_time": "2021-09-03T12:24:25.131Z"
   },
   {
    "duration": 20,
    "start_time": "2021-09-03T12:24:25.157Z"
   },
   {
    "duration": 17,
    "start_time": "2021-09-03T12:24:25.179Z"
   },
   {
    "duration": 22,
    "start_time": "2021-09-03T12:24:25.199Z"
   },
   {
    "duration": 6,
    "start_time": "2021-09-03T12:24:25.222Z"
   },
   {
    "duration": 214,
    "start_time": "2021-09-03T12:24:25.241Z"
   },
   {
    "duration": 8,
    "start_time": "2021-09-03T12:24:25.457Z"
   },
   {
    "duration": 167,
    "start_time": "2021-09-03T12:24:25.466Z"
   },
   {
    "duration": 29,
    "start_time": "2021-09-03T12:24:25.635Z"
   },
   {
    "duration": 17,
    "start_time": "2021-09-03T12:24:25.666Z"
   },
   {
    "duration": 12,
    "start_time": "2021-09-03T12:25:45.066Z"
   },
   {
    "duration": 751,
    "start_time": "2021-09-03T12:33:43.299Z"
   },
   {
    "duration": 3,
    "start_time": "2021-09-03T12:34:03.781Z"
   },
   {
    "duration": 22,
    "start_time": "2021-09-03T12:34:03.786Z"
   },
   {
    "duration": 9,
    "start_time": "2021-09-03T12:34:03.810Z"
   },
   {
    "duration": 8,
    "start_time": "2021-09-03T12:34:03.821Z"
   },
   {
    "duration": 14,
    "start_time": "2021-09-03T12:34:03.831Z"
   },
   {
    "duration": 16,
    "start_time": "2021-09-03T12:34:03.847Z"
   },
   {
    "duration": 62,
    "start_time": "2021-09-03T12:34:03.865Z"
   },
   {
    "duration": 7,
    "start_time": "2021-09-03T12:34:03.930Z"
   },
   {
    "duration": 14,
    "start_time": "2021-09-03T12:34:03.939Z"
   },
   {
    "duration": 5,
    "start_time": "2021-09-03T12:34:03.955Z"
   },
   {
    "duration": 15,
    "start_time": "2021-09-03T12:34:03.961Z"
   },
   {
    "duration": 8,
    "start_time": "2021-09-03T12:34:03.978Z"
   },
   {
    "duration": 19,
    "start_time": "2021-09-03T12:34:03.987Z"
   },
   {
    "duration": 5,
    "start_time": "2021-09-03T12:34:04.008Z"
   },
   {
    "duration": 8,
    "start_time": "2021-09-03T12:34:04.015Z"
   },
   {
    "duration": 5,
    "start_time": "2021-09-03T12:34:04.041Z"
   },
   {
    "duration": 8,
    "start_time": "2021-09-03T12:34:04.047Z"
   },
   {
    "duration": 12,
    "start_time": "2021-09-03T12:34:04.056Z"
   },
   {
    "duration": 16,
    "start_time": "2021-09-03T12:34:04.070Z"
   },
   {
    "duration": 269,
    "start_time": "2021-09-03T12:34:04.087Z"
   },
   {
    "duration": -22,
    "start_time": "2021-09-03T12:34:04.380Z"
   },
   {
    "duration": -27,
    "start_time": "2021-09-03T12:34:04.387Z"
   },
   {
    "duration": -29,
    "start_time": "2021-09-03T12:34:04.390Z"
   },
   {
    "duration": -29,
    "start_time": "2021-09-03T12:34:04.392Z"
   },
   {
    "duration": -31,
    "start_time": "2021-09-03T12:34:04.395Z"
   },
   {
    "duration": -31,
    "start_time": "2021-09-03T12:34:04.397Z"
   },
   {
    "duration": -32,
    "start_time": "2021-09-03T12:34:04.399Z"
   },
   {
    "duration": 3,
    "start_time": "2021-09-03T12:34:48.578Z"
   },
   {
    "duration": 5,
    "start_time": "2021-09-03T12:35:07.146Z"
   },
   {
    "duration": 5,
    "start_time": "2021-09-03T12:35:43.955Z"
   },
   {
    "duration": 15,
    "start_time": "2021-09-03T12:36:42.259Z"
   },
   {
    "duration": 14,
    "start_time": "2021-09-03T12:37:51.916Z"
   },
   {
    "duration": 16,
    "start_time": "2021-09-03T12:43:03.365Z"
   },
   {
    "duration": 12,
    "start_time": "2021-09-03T12:45:40.942Z"
   },
   {
    "duration": 14,
    "start_time": "2021-09-03T12:46:53.815Z"
   },
   {
    "duration": 12,
    "start_time": "2021-09-03T12:47:36.454Z"
   },
   {
    "duration": 18,
    "start_time": "2021-09-03T12:53:25.647Z"
   },
   {
    "duration": 14,
    "start_time": "2021-09-03T12:54:25.696Z"
   },
   {
    "duration": 16,
    "start_time": "2021-09-03T12:55:36.238Z"
   },
   {
    "duration": 7129,
    "start_time": "2021-09-03T13:01:16.423Z"
   },
   {
    "duration": 8236,
    "start_time": "2021-09-03T13:01:46.544Z"
   },
   {
    "duration": 20,
    "start_time": "2021-09-03T13:02:26.408Z"
   },
   {
    "duration": 3,
    "start_time": "2021-09-03T13:03:36.285Z"
   },
   {
    "duration": 29,
    "start_time": "2021-09-03T13:03:36.289Z"
   },
   {
    "duration": 14,
    "start_time": "2021-09-03T13:03:36.320Z"
   },
   {
    "duration": 18,
    "start_time": "2021-09-03T13:03:36.336Z"
   },
   {
    "duration": 18,
    "start_time": "2021-09-03T13:03:36.355Z"
   },
   {
    "duration": 11,
    "start_time": "2021-09-03T13:03:36.375Z"
   },
   {
    "duration": 42,
    "start_time": "2021-09-03T13:03:36.388Z"
   },
   {
    "duration": 10,
    "start_time": "2021-09-03T13:03:36.432Z"
   },
   {
    "duration": 11,
    "start_time": "2021-09-03T13:03:36.445Z"
   },
   {
    "duration": 6,
    "start_time": "2021-09-03T13:03:36.458Z"
   },
   {
    "duration": 18,
    "start_time": "2021-09-03T13:03:36.465Z"
   },
   {
    "duration": 11,
    "start_time": "2021-09-03T13:03:36.485Z"
   },
   {
    "duration": 21,
    "start_time": "2021-09-03T13:03:36.498Z"
   },
   {
    "duration": 7,
    "start_time": "2021-09-03T13:03:36.521Z"
   },
   {
    "duration": 13,
    "start_time": "2021-09-03T13:03:36.530Z"
   },
   {
    "duration": 6,
    "start_time": "2021-09-03T13:03:36.545Z"
   },
   {
    "duration": 6,
    "start_time": "2021-09-03T13:03:36.553Z"
   },
   {
    "duration": 10,
    "start_time": "2021-09-03T13:03:36.561Z"
   },
   {
    "duration": 22,
    "start_time": "2021-09-03T13:03:36.573Z"
   },
   {
    "duration": 50,
    "start_time": "2021-09-03T13:03:36.598Z"
   },
   {
    "duration": 25,
    "start_time": "2021-09-03T13:03:36.650Z"
   },
   {
    "duration": 28,
    "start_time": "2021-09-03T13:03:36.677Z"
   },
   {
    "duration": 9,
    "start_time": "2021-09-03T13:03:36.706Z"
   },
   {
    "duration": 233,
    "start_time": "2021-09-03T13:03:36.716Z"
   },
   {
    "duration": 9,
    "start_time": "2021-09-03T13:03:36.950Z"
   },
   {
    "duration": 166,
    "start_time": "2021-09-03T13:03:36.961Z"
   },
   {
    "duration": 16,
    "start_time": "2021-09-03T13:03:37.130Z"
   },
   {
    "duration": 10,
    "start_time": "2021-09-03T13:03:37.148Z"
   },
   {
    "duration": 3,
    "start_time": "2021-09-03T13:05:01.731Z"
   },
   {
    "duration": 36,
    "start_time": "2021-09-03T13:05:01.736Z"
   },
   {
    "duration": 6,
    "start_time": "2021-09-03T13:05:01.774Z"
   },
   {
    "duration": 20,
    "start_time": "2021-09-03T13:05:01.782Z"
   },
   {
    "duration": 20,
    "start_time": "2021-09-03T13:05:01.804Z"
   },
   {
    "duration": 18,
    "start_time": "2021-09-03T13:05:01.826Z"
   },
   {
    "duration": 64,
    "start_time": "2021-09-03T13:05:01.846Z"
   },
   {
    "duration": 9,
    "start_time": "2021-09-03T13:05:01.913Z"
   },
   {
    "duration": 17,
    "start_time": "2021-09-03T13:05:01.924Z"
   },
   {
    "duration": 17,
    "start_time": "2021-09-03T13:05:01.942Z"
   },
   {
    "duration": 25,
    "start_time": "2021-09-03T13:05:01.960Z"
   },
   {
    "duration": 31,
    "start_time": "2021-09-03T13:05:01.986Z"
   },
   {
    "duration": 39,
    "start_time": "2021-09-03T13:05:02.019Z"
   },
   {
    "duration": 38,
    "start_time": "2021-09-03T13:05:02.060Z"
   },
   {
    "duration": 27,
    "start_time": "2021-09-03T13:05:02.099Z"
   },
   {
    "duration": 23,
    "start_time": "2021-09-03T13:05:02.127Z"
   },
   {
    "duration": 29,
    "start_time": "2021-09-03T13:05:02.151Z"
   },
   {
    "duration": 27,
    "start_time": "2021-09-03T13:05:02.181Z"
   },
   {
    "duration": 32,
    "start_time": "2021-09-03T13:05:02.209Z"
   },
   {
    "duration": 42,
    "start_time": "2021-09-03T13:05:02.243Z"
   },
   {
    "duration": 38,
    "start_time": "2021-09-03T13:05:02.287Z"
   },
   {
    "duration": 27,
    "start_time": "2021-09-03T13:05:02.327Z"
   },
   {
    "duration": 15,
    "start_time": "2021-09-03T13:05:02.357Z"
   },
   {
    "duration": 214,
    "start_time": "2021-09-03T13:05:02.374Z"
   },
   {
    "duration": 8,
    "start_time": "2021-09-03T13:05:02.590Z"
   },
   {
    "duration": 165,
    "start_time": "2021-09-03T13:05:02.599Z"
   },
   {
    "duration": 7,
    "start_time": "2021-09-03T13:05:02.766Z"
   },
   {
    "duration": 14,
    "start_time": "2021-09-03T13:05:02.774Z"
   },
   {
    "duration": 2,
    "start_time": "2021-09-03T13:05:58.242Z"
   },
   {
    "duration": 21,
    "start_time": "2021-09-03T13:05:58.246Z"
   },
   {
    "duration": 13,
    "start_time": "2021-09-03T13:05:58.269Z"
   },
   {
    "duration": 8,
    "start_time": "2021-09-03T13:05:58.283Z"
   },
   {
    "duration": 12,
    "start_time": "2021-09-03T13:05:58.292Z"
   },
   {
    "duration": 11,
    "start_time": "2021-09-03T13:05:58.306Z"
   },
   {
    "duration": 56,
    "start_time": "2021-09-03T13:05:58.320Z"
   },
   {
    "duration": 9,
    "start_time": "2021-09-03T13:05:58.378Z"
   },
   {
    "duration": 11,
    "start_time": "2021-09-03T13:05:58.389Z"
   },
   {
    "duration": 10,
    "start_time": "2021-09-03T13:05:58.401Z"
   },
   {
    "duration": 13,
    "start_time": "2021-09-03T13:05:58.413Z"
   },
   {
    "duration": 10,
    "start_time": "2021-09-03T13:05:58.428Z"
   },
   {
    "duration": 19,
    "start_time": "2021-09-03T13:05:58.439Z"
   },
   {
    "duration": 5,
    "start_time": "2021-09-03T13:05:58.460Z"
   },
   {
    "duration": 6,
    "start_time": "2021-09-03T13:05:58.467Z"
   },
   {
    "duration": 10,
    "start_time": "2021-09-03T13:05:58.474Z"
   },
   {
    "duration": 6,
    "start_time": "2021-09-03T13:05:58.486Z"
   },
   {
    "duration": 11,
    "start_time": "2021-09-03T13:05:58.494Z"
   },
   {
    "duration": 37,
    "start_time": "2021-09-03T13:05:58.508Z"
   },
   {
    "duration": 17,
    "start_time": "2021-09-03T13:05:58.547Z"
   },
   {
    "duration": 20,
    "start_time": "2021-09-03T13:05:58.565Z"
   },
   {
    "duration": 18,
    "start_time": "2021-09-03T13:05:58.586Z"
   },
   {
    "duration": 5,
    "start_time": "2021-09-03T13:05:58.606Z"
   },
   {
    "duration": 373,
    "start_time": "2021-09-03T13:05:58.641Z"
   },
   {
    "duration": 9,
    "start_time": "2021-09-03T13:05:59.016Z"
   },
   {
    "duration": 218,
    "start_time": "2021-09-03T13:05:59.027Z"
   },
   {
    "duration": 9,
    "start_time": "2021-09-03T13:05:59.247Z"
   },
   {
    "duration": 23,
    "start_time": "2021-09-03T13:05:59.257Z"
   },
   {
    "duration": 11,
    "start_time": "2021-09-03T13:09:13.354Z"
   },
   {
    "duration": 269,
    "start_time": "2021-09-03T13:12:41.602Z"
   },
   {
    "duration": 362,
    "start_time": "2021-09-03T13:12:57.210Z"
   },
   {
    "duration": 3,
    "start_time": "2021-09-03T13:13:33.780Z"
   },
   {
    "duration": 21,
    "start_time": "2021-09-03T13:13:33.785Z"
   },
   {
    "duration": 7,
    "start_time": "2021-09-03T13:13:33.808Z"
   },
   {
    "duration": 9,
    "start_time": "2021-09-03T13:13:33.817Z"
   },
   {
    "duration": 14,
    "start_time": "2021-09-03T13:13:33.828Z"
   },
   {
    "duration": 26,
    "start_time": "2021-09-03T13:13:33.844Z"
   },
   {
    "duration": 55,
    "start_time": "2021-09-03T13:13:33.871Z"
   },
   {
    "duration": 8,
    "start_time": "2021-09-03T13:13:33.928Z"
   },
   {
    "duration": 24,
    "start_time": "2021-09-03T13:13:33.937Z"
   },
   {
    "duration": 9,
    "start_time": "2021-09-03T13:13:33.962Z"
   },
   {
    "duration": 14,
    "start_time": "2021-09-03T13:13:33.973Z"
   },
   {
    "duration": 9,
    "start_time": "2021-09-03T13:13:33.989Z"
   },
   {
    "duration": 20,
    "start_time": "2021-09-03T13:13:34.000Z"
   },
   {
    "duration": 7,
    "start_time": "2021-09-03T13:13:34.022Z"
   },
   {
    "duration": 12,
    "start_time": "2021-09-03T13:13:34.030Z"
   },
   {
    "duration": 4,
    "start_time": "2021-09-03T13:13:34.044Z"
   },
   {
    "duration": 10,
    "start_time": "2021-09-03T13:13:34.051Z"
   },
   {
    "duration": 8,
    "start_time": "2021-09-03T13:13:34.063Z"
   },
   {
    "duration": 17,
    "start_time": "2021-09-03T13:13:34.072Z"
   },
   {
    "duration": 13,
    "start_time": "2021-09-03T13:13:34.090Z"
   },
   {
    "duration": 49,
    "start_time": "2021-09-03T13:13:34.105Z"
   },
   {
    "duration": 17,
    "start_time": "2021-09-03T13:13:34.155Z"
   },
   {
    "duration": 11,
    "start_time": "2021-09-03T13:13:34.174Z"
   },
   {
    "duration": 5,
    "start_time": "2021-09-03T13:13:34.187Z"
   },
   {
    "duration": 234,
    "start_time": "2021-09-03T13:13:34.194Z"
   },
   {
    "duration": 8,
    "start_time": "2021-09-03T13:13:34.430Z"
   },
   {
    "duration": 163,
    "start_time": "2021-09-03T13:13:34.441Z"
   },
   {
    "duration": 14,
    "start_time": "2021-09-03T13:13:34.605Z"
   },
   {
    "duration": 10,
    "start_time": "2021-09-03T13:13:34.621Z"
   },
   {
    "duration": 13,
    "start_time": "2021-09-03T13:16:09.204Z"
   },
   {
    "duration": 14,
    "start_time": "2021-09-03T13:20:52.109Z"
   },
   {
    "duration": 7,
    "start_time": "2021-09-03T13:21:03.804Z"
   },
   {
    "duration": 7,
    "start_time": "2021-09-03T13:21:07.846Z"
   },
   {
    "duration": 3,
    "start_time": "2021-09-03T13:21:52.871Z"
   },
   {
    "duration": 24,
    "start_time": "2021-09-03T13:21:52.876Z"
   },
   {
    "duration": 9,
    "start_time": "2021-09-03T13:21:52.901Z"
   },
   {
    "duration": 8,
    "start_time": "2021-09-03T13:21:52.912Z"
   },
   {
    "duration": 14,
    "start_time": "2021-09-03T13:21:52.921Z"
   },
   {
    "duration": 16,
    "start_time": "2021-09-03T13:21:52.936Z"
   },
   {
    "duration": 54,
    "start_time": "2021-09-03T13:21:52.955Z"
   },
   {
    "duration": 7,
    "start_time": "2021-09-03T13:21:53.010Z"
   },
   {
    "duration": 11,
    "start_time": "2021-09-03T13:21:53.019Z"
   },
   {
    "duration": 12,
    "start_time": "2021-09-03T13:21:53.031Z"
   },
   {
    "duration": 18,
    "start_time": "2021-09-03T13:21:53.045Z"
   },
   {
    "duration": 7,
    "start_time": "2021-09-03T13:21:53.064Z"
   },
   {
    "duration": 27,
    "start_time": "2021-09-03T13:21:53.073Z"
   },
   {
    "duration": 15,
    "start_time": "2021-09-03T13:21:53.101Z"
   },
   {
    "duration": 37,
    "start_time": "2021-09-03T13:21:53.117Z"
   },
   {
    "duration": 16,
    "start_time": "2021-09-03T13:21:53.156Z"
   },
   {
    "duration": 18,
    "start_time": "2021-09-03T13:21:53.173Z"
   },
   {
    "duration": 24,
    "start_time": "2021-09-03T13:21:53.193Z"
   },
   {
    "duration": 24,
    "start_time": "2021-09-03T13:21:53.219Z"
   },
   {
    "duration": 26,
    "start_time": "2021-09-03T13:21:53.245Z"
   },
   {
    "duration": 38,
    "start_time": "2021-09-03T13:21:53.273Z"
   },
   {
    "duration": 39,
    "start_time": "2021-09-03T13:21:53.312Z"
   },
   {
    "duration": 15,
    "start_time": "2021-09-03T13:21:53.353Z"
   },
   {
    "duration": 21,
    "start_time": "2021-09-03T13:21:53.370Z"
   },
   {
    "duration": 9,
    "start_time": "2021-09-03T13:21:53.393Z"
   },
   {
    "duration": 208,
    "start_time": "2021-09-03T13:21:53.404Z"
   },
   {
    "duration": 8,
    "start_time": "2021-09-03T13:21:53.614Z"
   },
   {
    "duration": 166,
    "start_time": "2021-09-03T13:21:53.624Z"
   },
   {
    "duration": 20,
    "start_time": "2021-09-03T13:21:53.792Z"
   },
   {
    "duration": 17,
    "start_time": "2021-09-03T13:21:53.814Z"
   },
   {
    "duration": 286,
    "start_time": "2021-09-03T13:29:32.581Z"
   },
   {
    "duration": 4,
    "start_time": "2021-09-03T13:30:21.674Z"
   },
   {
    "duration": 6,
    "start_time": "2021-09-03T13:31:58.777Z"
   },
   {
    "duration": 6,
    "start_time": "2021-09-03T13:32:36.951Z"
   },
   {
    "duration": 6,
    "start_time": "2021-09-03T13:32:51.133Z"
   },
   {
    "duration": 3,
    "start_time": "2021-09-03T14:02:24.015Z"
   },
   {
    "duration": 33,
    "start_time": "2021-09-03T14:02:24.020Z"
   },
   {
    "duration": 27,
    "start_time": "2021-09-03T14:02:24.055Z"
   },
   {
    "duration": 23,
    "start_time": "2021-09-03T14:02:24.084Z"
   },
   {
    "duration": 23,
    "start_time": "2021-09-03T14:02:24.108Z"
   },
   {
    "duration": 18,
    "start_time": "2021-09-03T14:02:24.132Z"
   },
   {
    "duration": 64,
    "start_time": "2021-09-03T14:02:24.153Z"
   },
   {
    "duration": 8,
    "start_time": "2021-09-03T14:02:24.219Z"
   },
   {
    "duration": 17,
    "start_time": "2021-09-03T14:02:24.229Z"
   },
   {
    "duration": 6,
    "start_time": "2021-09-03T14:02:24.248Z"
   },
   {
    "duration": 31,
    "start_time": "2021-09-03T14:02:24.256Z"
   },
   {
    "duration": 30,
    "start_time": "2021-09-03T14:02:24.288Z"
   },
   {
    "duration": 36,
    "start_time": "2021-09-03T14:02:24.319Z"
   },
   {
    "duration": 12,
    "start_time": "2021-09-03T14:02:24.357Z"
   },
   {
    "duration": 27,
    "start_time": "2021-09-03T14:02:24.370Z"
   },
   {
    "duration": 18,
    "start_time": "2021-09-03T14:02:24.399Z"
   },
   {
    "duration": 16,
    "start_time": "2021-09-03T14:02:24.419Z"
   },
   {
    "duration": 24,
    "start_time": "2021-09-03T14:02:24.436Z"
   },
   {
    "duration": 40,
    "start_time": "2021-09-03T14:02:24.463Z"
   },
   {
    "duration": 28,
    "start_time": "2021-09-03T14:02:24.505Z"
   },
   {
    "duration": 38,
    "start_time": "2021-09-03T14:02:24.535Z"
   },
   {
    "duration": 28,
    "start_time": "2021-09-03T14:02:24.574Z"
   },
   {
    "duration": 25,
    "start_time": "2021-09-03T14:02:24.604Z"
   },
   {
    "duration": 20,
    "start_time": "2021-09-03T14:02:24.630Z"
   },
   {
    "duration": 217,
    "start_time": "2021-09-03T14:02:24.652Z"
   },
   {
    "duration": 8,
    "start_time": "2021-09-03T14:02:24.871Z"
   },
   {
    "duration": 162,
    "start_time": "2021-09-03T14:02:24.881Z"
   },
   {
    "duration": 26,
    "start_time": "2021-09-03T14:02:25.045Z"
   },
   {
    "duration": 32,
    "start_time": "2021-09-03T14:02:25.072Z"
   },
   {
    "duration": 327,
    "start_time": "2021-09-03T14:22:43.544Z"
   },
   {
    "duration": 115,
    "start_time": "2021-09-03T14:22:52.095Z"
   },
   {
    "duration": 18,
    "start_time": "2021-09-03T14:22:52.212Z"
   },
   {
    "duration": 27,
    "start_time": "2021-09-03T14:22:52.233Z"
   },
   {
    "duration": 26,
    "start_time": "2021-09-03T14:22:52.262Z"
   },
   {
    "duration": 23,
    "start_time": "2021-09-03T14:22:52.289Z"
   },
   {
    "duration": 20,
    "start_time": "2021-09-03T14:22:52.313Z"
   },
   {
    "duration": 76,
    "start_time": "2021-09-03T14:22:52.335Z"
   },
   {
    "duration": 7,
    "start_time": "2021-09-03T14:22:52.413Z"
   },
   {
    "duration": 38,
    "start_time": "2021-09-03T14:22:52.422Z"
   },
   {
    "duration": 9,
    "start_time": "2021-09-03T14:22:52.462Z"
   },
   {
    "duration": 31,
    "start_time": "2021-09-03T14:22:52.473Z"
   },
   {
    "duration": 20,
    "start_time": "2021-09-03T14:22:52.506Z"
   },
   {
    "duration": 41,
    "start_time": "2021-09-03T14:22:52.528Z"
   },
   {
    "duration": 7,
    "start_time": "2021-09-03T14:22:52.571Z"
   },
   {
    "duration": 25,
    "start_time": "2021-09-03T14:22:52.580Z"
   },
   {
    "duration": 23,
    "start_time": "2021-09-03T14:22:52.606Z"
   },
   {
    "duration": 27,
    "start_time": "2021-09-03T14:22:52.630Z"
   },
   {
    "duration": 37,
    "start_time": "2021-09-03T14:22:52.659Z"
   },
   {
    "duration": 31,
    "start_time": "2021-09-03T14:22:52.698Z"
   },
   {
    "duration": 38,
    "start_time": "2021-09-03T14:22:52.732Z"
   },
   {
    "duration": 29,
    "start_time": "2021-09-03T14:22:52.772Z"
   },
   {
    "duration": 38,
    "start_time": "2021-09-03T14:22:52.803Z"
   },
   {
    "duration": 36,
    "start_time": "2021-09-03T14:22:52.844Z"
   },
   {
    "duration": 13,
    "start_time": "2021-09-03T14:22:52.882Z"
   },
   {
    "duration": 214,
    "start_time": "2021-09-03T14:22:52.896Z"
   },
   {
    "duration": 8,
    "start_time": "2021-09-03T14:22:53.112Z"
   },
   {
    "duration": 173,
    "start_time": "2021-09-03T14:22:53.121Z"
   },
   {
    "duration": 6,
    "start_time": "2021-09-03T14:22:53.296Z"
   },
   {
    "duration": 17,
    "start_time": "2021-09-03T14:22:53.304Z"
   },
   {
    "duration": 258,
    "start_time": "2021-09-03T14:22:53.323Z"
   },
   {
    "duration": 207,
    "start_time": "2021-09-03T14:27:19.209Z"
   },
   {
    "duration": 105,
    "start_time": "2021-09-03T14:29:39.405Z"
   },
   {
    "duration": 256,
    "start_time": "2021-09-03T14:30:46.961Z"
   },
   {
    "duration": 322,
    "start_time": "2021-09-03T14:31:42.482Z"
   },
   {
    "duration": 192,
    "start_time": "2021-09-03T14:37:53.701Z"
   },
   {
    "duration": 389,
    "start_time": "2021-09-03T14:39:14.444Z"
   },
   {
    "duration": 309,
    "start_time": "2021-09-03T14:39:49.788Z"
   },
   {
    "duration": 7,
    "start_time": "2021-09-03T15:04:52.872Z"
   },
   {
    "duration": 95,
    "start_time": "2021-09-03T15:04:56.288Z"
   },
   {
    "duration": 349,
    "start_time": "2021-09-03T15:05:18.216Z"
   },
   {
    "duration": 343,
    "start_time": "2021-09-03T15:05:38.833Z"
   },
   {
    "duration": 6,
    "start_time": "2021-09-03T15:23:13.254Z"
   },
   {
    "duration": 212,
    "start_time": "2021-09-03T15:28:32.814Z"
   },
   {
    "duration": 229,
    "start_time": "2021-09-03T15:29:03.413Z"
   },
   {
    "duration": 225,
    "start_time": "2021-09-03T15:29:26.526Z"
   },
   {
    "duration": 216,
    "start_time": "2021-09-03T15:30:09.197Z"
   },
   {
    "duration": 339,
    "start_time": "2021-09-03T15:33:01.431Z"
   },
   {
    "duration": 350,
    "start_time": "2021-09-03T15:33:27.871Z"
   },
   {
    "duration": 227,
    "start_time": "2021-09-03T15:38:02.133Z"
   },
   {
    "duration": 221,
    "start_time": "2021-09-03T15:46:49.206Z"
   },
   {
    "duration": 350,
    "start_time": "2021-09-03T15:47:50.716Z"
   },
   {
    "duration": 338,
    "start_time": "2021-09-03T15:54:27.740Z"
   },
   {
    "duration": 333,
    "start_time": "2021-09-03T15:55:05.860Z"
   },
   {
    "duration": 379,
    "start_time": "2021-09-03T15:55:58.814Z"
   },
   {
    "duration": 371,
    "start_time": "2021-09-03T16:02:19.732Z"
   },
   {
    "duration": 364,
    "start_time": "2021-09-03T16:02:35.953Z"
   },
   {
    "duration": 451,
    "start_time": "2021-09-03T16:03:45.753Z"
   },
   {
    "duration": 119,
    "start_time": "2021-09-03T16:26:09.648Z"
   },
   {
    "duration": 157,
    "start_time": "2021-09-03T16:29:34.981Z"
   },
   {
    "duration": 225,
    "start_time": "2021-09-03T16:30:35.794Z"
   },
   {
    "duration": 150,
    "start_time": "2021-09-03T16:30:52.755Z"
   },
   {
    "duration": 153,
    "start_time": "2021-09-03T16:31:24.281Z"
   },
   {
    "duration": 156,
    "start_time": "2021-09-03T16:33:07.210Z"
   },
   {
    "duration": 305,
    "start_time": "2021-09-03T16:36:49.915Z"
   },
   {
    "duration": 212,
    "start_time": "2021-09-03T16:39:30.676Z"
   },
   {
    "duration": 341,
    "start_time": "2021-09-03T16:39:45.723Z"
   },
   {
    "duration": 329,
    "start_time": "2021-09-03T16:40:56.056Z"
   },
   {
    "duration": 91,
    "start_time": "2021-09-03T16:57:25.590Z"
   },
   {
    "duration": 5,
    "start_time": "2021-09-03T16:57:35.367Z"
   },
   {
    "duration": 159,
    "start_time": "2021-09-03T17:04:36.807Z"
   },
   {
    "duration": 538,
    "start_time": "2021-09-03T17:05:14.538Z"
   },
   {
    "duration": 141,
    "start_time": "2021-09-03T17:05:27.783Z"
   },
   {
    "duration": 164,
    "start_time": "2021-09-03T17:05:37.361Z"
   },
   {
    "duration": 254,
    "start_time": "2021-09-03T17:05:54.100Z"
   },
   {
    "duration": 85,
    "start_time": "2021-09-03T17:07:32.044Z"
   },
   {
    "duration": 269,
    "start_time": "2021-09-03T17:07:59.168Z"
   },
   {
    "duration": 997,
    "start_time": "2021-09-03T17:18:53.092Z"
   },
   {
    "duration": 17,
    "start_time": "2021-09-03T17:18:54.091Z"
   },
   {
    "duration": 6,
    "start_time": "2021-09-03T17:18:54.110Z"
   },
   {
    "duration": 8,
    "start_time": "2021-09-03T17:18:54.118Z"
   },
   {
    "duration": 21,
    "start_time": "2021-09-03T17:18:54.128Z"
   },
   {
    "duration": 9,
    "start_time": "2021-09-03T17:18:54.150Z"
   },
   {
    "duration": 60,
    "start_time": "2021-09-03T17:18:54.161Z"
   },
   {
    "duration": 10,
    "start_time": "2021-09-03T17:18:54.224Z"
   },
   {
    "duration": 7,
    "start_time": "2021-09-03T17:18:54.236Z"
   },
   {
    "duration": 12,
    "start_time": "2021-09-03T17:18:54.244Z"
   },
   {
    "duration": 22,
    "start_time": "2021-09-03T17:18:54.257Z"
   },
   {
    "duration": 12,
    "start_time": "2021-09-03T17:18:54.281Z"
   },
   {
    "duration": 22,
    "start_time": "2021-09-03T17:18:54.295Z"
   },
   {
    "duration": 5,
    "start_time": "2021-09-03T17:18:54.319Z"
   },
   {
    "duration": 7,
    "start_time": "2021-09-03T17:18:54.326Z"
   },
   {
    "duration": 6,
    "start_time": "2021-09-03T17:18:54.334Z"
   },
   {
    "duration": 9,
    "start_time": "2021-09-03T17:18:54.342Z"
   },
   {
    "duration": 18,
    "start_time": "2021-09-03T17:18:54.352Z"
   },
   {
    "duration": 16,
    "start_time": "2021-09-03T17:18:54.371Z"
   },
   {
    "duration": 17,
    "start_time": "2021-09-03T17:18:54.389Z"
   },
   {
    "duration": 42,
    "start_time": "2021-09-03T17:18:54.409Z"
   },
   {
    "duration": 14,
    "start_time": "2021-09-03T17:18:54.453Z"
   },
   {
    "duration": 12,
    "start_time": "2021-09-03T17:18:54.472Z"
   },
   {
    "duration": 6,
    "start_time": "2021-09-03T17:18:54.486Z"
   },
   {
    "duration": 223,
    "start_time": "2021-09-03T17:18:54.494Z"
   },
   {
    "duration": 8,
    "start_time": "2021-09-03T17:18:54.719Z"
   },
   {
    "duration": 161,
    "start_time": "2021-09-03T17:18:54.728Z"
   },
   {
    "duration": 7,
    "start_time": "2021-09-03T17:18:54.890Z"
   },
   {
    "duration": 14,
    "start_time": "2021-09-03T17:18:54.899Z"
   },
   {
    "duration": 270,
    "start_time": "2021-09-03T17:18:54.915Z"
   },
   {
    "duration": 257,
    "start_time": "2021-09-03T17:18:55.186Z"
   },
   {
    "duration": 5,
    "start_time": "2021-09-03T17:18:55.445Z"
   },
   {
    "duration": 343,
    "start_time": "2021-09-03T17:18:55.452Z"
   },
   {
    "duration": 6,
    "start_time": "2021-09-03T17:18:55.797Z"
   },
   {
    "duration": 247,
    "start_time": "2021-09-03T17:18:55.805Z"
   },
   {
    "duration": 350,
    "start_time": "2021-09-03T17:18:56.054Z"
   },
   {
    "duration": 101,
    "start_time": "2021-09-03T17:18:56.405Z"
   },
   {
    "duration": 221,
    "start_time": "2021-09-03T17:18:56.508Z"
   },
   {
    "duration": 361,
    "start_time": "2021-09-03T17:18:56.730Z"
   },
   {
    "duration": 4,
    "start_time": "2021-09-03T17:18:57.092Z"
   },
   {
    "duration": 348,
    "start_time": "2021-09-03T17:18:57.098Z"
   },
   {
    "duration": 585,
    "start_time": "2021-09-03T17:19:14.421Z"
   },
   {
    "duration": 253,
    "start_time": "2021-09-03T17:21:28.280Z"
   },
   {
    "duration": 314,
    "start_time": "2021-09-03T17:21:44.720Z"
   },
   {
    "duration": 267,
    "start_time": "2021-09-03T17:23:15.789Z"
   },
   {
    "duration": 4,
    "start_time": "2021-09-03T17:23:32.030Z"
   },
   {
    "duration": 8,
    "start_time": "2021-09-03T17:46:14.925Z"
   },
   {
    "duration": 104,
    "start_time": "2021-09-03T18:26:52.637Z"
   },
   {
    "duration": 267,
    "start_time": "2021-09-03T18:26:55.658Z"
   },
   {
    "duration": 274,
    "start_time": "2021-09-03T18:30:45.261Z"
   },
   {
    "duration": 7618,
    "start_time": "2021-09-03T18:34:01.917Z"
   },
   {
    "duration": 27,
    "start_time": "2021-09-03T18:34:40.761Z"
   },
   {
    "duration": 206,
    "start_time": "2021-09-03T18:38:01.798Z"
   },
   {
    "duration": 22,
    "start_time": "2021-09-03T18:38:06.894Z"
   },
   {
    "duration": 308,
    "start_time": "2021-09-03T18:44:28.609Z"
   },
   {
    "duration": 2,
    "start_time": "2021-09-03T18:45:25.684Z"
   },
   {
    "duration": 19,
    "start_time": "2021-09-03T18:45:25.688Z"
   },
   {
    "duration": 9,
    "start_time": "2021-09-03T18:45:25.709Z"
   },
   {
    "duration": 7,
    "start_time": "2021-09-03T18:45:25.720Z"
   },
   {
    "duration": 12,
    "start_time": "2021-09-03T18:45:25.729Z"
   },
   {
    "duration": 14,
    "start_time": "2021-09-03T18:45:25.743Z"
   },
   {
    "duration": 52,
    "start_time": "2021-09-03T18:45:25.760Z"
   },
   {
    "duration": 7,
    "start_time": "2021-09-03T18:45:25.815Z"
   },
   {
    "duration": 11,
    "start_time": "2021-09-03T18:45:25.824Z"
   },
   {
    "duration": 9,
    "start_time": "2021-09-03T18:45:25.837Z"
   },
   {
    "duration": 17,
    "start_time": "2021-09-03T18:45:25.847Z"
   },
   {
    "duration": 10,
    "start_time": "2021-09-03T18:45:25.865Z"
   },
   {
    "duration": 19,
    "start_time": "2021-09-03T18:45:25.876Z"
   },
   {
    "duration": 5,
    "start_time": "2021-09-03T18:45:25.897Z"
   },
   {
    "duration": 7,
    "start_time": "2021-09-03T18:45:25.903Z"
   },
   {
    "duration": 8,
    "start_time": "2021-09-03T18:45:25.912Z"
   },
   {
    "duration": 23,
    "start_time": "2021-09-03T18:45:25.921Z"
   },
   {
    "duration": 16,
    "start_time": "2021-09-03T18:45:25.945Z"
   },
   {
    "duration": 14,
    "start_time": "2021-09-03T18:45:25.964Z"
   },
   {
    "duration": 24,
    "start_time": "2021-09-03T18:45:25.980Z"
   },
   {
    "duration": 37,
    "start_time": "2021-09-03T18:45:26.005Z"
   },
   {
    "duration": 14,
    "start_time": "2021-09-03T18:45:26.043Z"
   },
   {
    "duration": 15,
    "start_time": "2021-09-03T18:45:26.059Z"
   },
   {
    "duration": 6,
    "start_time": "2021-09-03T18:45:26.076Z"
   },
   {
    "duration": 224,
    "start_time": "2021-09-03T18:45:26.084Z"
   },
   {
    "duration": 8,
    "start_time": "2021-09-03T18:45:26.310Z"
   },
   {
    "duration": 156,
    "start_time": "2021-09-03T18:45:26.320Z"
   },
   {
    "duration": 12,
    "start_time": "2021-09-03T18:45:26.477Z"
   },
   {
    "duration": 11,
    "start_time": "2021-09-03T18:45:26.490Z"
   },
   {
    "duration": 258,
    "start_time": "2021-09-03T18:45:26.502Z"
   },
   {
    "duration": 257,
    "start_time": "2021-09-03T18:45:26.762Z"
   },
   {
    "duration": 6,
    "start_time": "2021-09-03T18:45:27.021Z"
   },
   {
    "duration": 378,
    "start_time": "2021-09-03T18:45:27.028Z"
   },
   {
    "duration": 6,
    "start_time": "2021-09-03T18:45:27.407Z"
   },
   {
    "duration": 245,
    "start_time": "2021-09-03T18:45:27.415Z"
   },
   {
    "duration": 337,
    "start_time": "2021-09-03T18:45:27.662Z"
   },
   {
    "duration": 112,
    "start_time": "2021-09-03T18:45:28.001Z"
   },
   {
    "duration": 230,
    "start_time": "2021-09-03T18:45:28.114Z"
   },
   {
    "duration": 345,
    "start_time": "2021-09-03T18:45:28.345Z"
   },
   {
    "duration": 5,
    "start_time": "2021-09-03T18:45:28.692Z"
   },
   {
    "duration": 312,
    "start_time": "2021-09-03T18:45:28.698Z"
   },
   {
    "duration": 4,
    "start_time": "2021-09-03T18:45:29.012Z"
   },
   {
    "duration": 45,
    "start_time": "2021-09-03T18:45:29.019Z"
   },
   {
    "duration": 230,
    "start_time": "2021-09-03T18:45:29.066Z"
   },
   {
    "duration": 41,
    "start_time": "2021-09-03T18:45:29.298Z"
   },
   {
    "duration": 380,
    "start_time": "2021-09-03T18:45:29.341Z"
   },
   {
    "duration": 270,
    "start_time": "2021-09-03T18:46:54.419Z"
   },
   {
    "duration": 90,
    "start_time": "2021-09-03T18:47:33.656Z"
   },
   {
    "duration": 6,
    "start_time": "2021-09-03T18:50:28.314Z"
   },
   {
    "duration": 7,
    "start_time": "2021-09-03T18:59:44.116Z"
   },
   {
    "duration": 104,
    "start_time": "2021-09-03T19:02:15.819Z"
   },
   {
    "duration": 108,
    "start_time": "2021-09-03T19:02:38.400Z"
   },
   {
    "duration": 6,
    "start_time": "2021-09-03T19:03:00.129Z"
   },
   {
    "duration": 259,
    "start_time": "2021-09-03T19:08:07.348Z"
   },
   {
    "duration": 5,
    "start_time": "2021-09-03T19:08:16.554Z"
   },
   {
    "duration": 5,
    "start_time": "2021-09-03T19:08:32.850Z"
   },
   {
    "duration": 283,
    "start_time": "2021-09-03T19:09:01.676Z"
   },
   {
    "duration": 280,
    "start_time": "2021-09-03T19:09:26.054Z"
   },
   {
    "duration": 275,
    "start_time": "2021-09-03T19:09:55.562Z"
   },
   {
    "duration": 5,
    "start_time": "2021-09-03T19:10:17.579Z"
   },
   {
    "duration": 10,
    "start_time": "2021-09-03T19:24:58.438Z"
   },
   {
    "duration": 11,
    "start_time": "2021-09-03T19:26:06.439Z"
   },
   {
    "duration": 11,
    "start_time": "2021-09-03T19:27:36.551Z"
   },
   {
    "duration": 10,
    "start_time": "2021-09-03T19:28:02.679Z"
   },
   {
    "duration": 11,
    "start_time": "2021-09-03T19:28:44.230Z"
   },
   {
    "duration": 11,
    "start_time": "2021-09-03T19:29:01.750Z"
   },
   {
    "duration": 12,
    "start_time": "2021-09-03T19:29:14.911Z"
   },
   {
    "duration": 5,
    "start_time": "2021-09-03T19:29:27.358Z"
   },
   {
    "duration": 11,
    "start_time": "2021-09-03T19:44:52.322Z"
   },
   {
    "duration": 13,
    "start_time": "2021-09-03T19:45:09.954Z"
   },
   {
    "duration": 4,
    "start_time": "2021-09-03T19:45:29.580Z"
   },
   {
    "duration": 3,
    "start_time": "2021-09-03T19:50:12.185Z"
   },
   {
    "duration": 20,
    "start_time": "2021-09-03T19:50:12.190Z"
   },
   {
    "duration": 6,
    "start_time": "2021-09-03T19:50:12.212Z"
   },
   {
    "duration": 18,
    "start_time": "2021-09-03T19:50:12.220Z"
   },
   {
    "duration": 12,
    "start_time": "2021-09-03T19:50:12.240Z"
   },
   {
    "duration": 13,
    "start_time": "2021-09-03T19:50:12.254Z"
   },
   {
    "duration": 55,
    "start_time": "2021-09-03T19:50:12.269Z"
   },
   {
    "duration": 8,
    "start_time": "2021-09-03T19:50:12.325Z"
   },
   {
    "duration": 9,
    "start_time": "2021-09-03T19:50:12.335Z"
   },
   {
    "duration": 7,
    "start_time": "2021-09-03T19:50:12.346Z"
   },
   {
    "duration": 16,
    "start_time": "2021-09-03T19:50:12.354Z"
   },
   {
    "duration": 6,
    "start_time": "2021-09-03T19:50:12.372Z"
   },
   {
    "duration": 22,
    "start_time": "2021-09-03T19:50:12.380Z"
   },
   {
    "duration": 6,
    "start_time": "2021-09-03T19:50:12.404Z"
   },
   {
    "duration": 6,
    "start_time": "2021-09-03T19:50:12.411Z"
   },
   {
    "duration": 23,
    "start_time": "2021-09-03T19:50:12.419Z"
   },
   {
    "duration": 10,
    "start_time": "2021-09-03T19:50:12.443Z"
   },
   {
    "duration": 12,
    "start_time": "2021-09-03T19:50:12.456Z"
   },
   {
    "duration": 18,
    "start_time": "2021-09-03T19:50:12.470Z"
   },
   {
    "duration": 19,
    "start_time": "2021-09-03T19:50:12.490Z"
   },
   {
    "duration": 42,
    "start_time": "2021-09-03T19:50:12.510Z"
   },
   {
    "duration": 12,
    "start_time": "2021-09-03T19:50:12.554Z"
   },
   {
    "duration": 20,
    "start_time": "2021-09-03T19:50:12.568Z"
   },
   {
    "duration": 5,
    "start_time": "2021-09-03T19:50:12.589Z"
   },
   {
    "duration": 225,
    "start_time": "2021-09-03T19:50:12.596Z"
   },
   {
    "duration": 7,
    "start_time": "2021-09-03T19:50:12.823Z"
   },
   {
    "duration": 167,
    "start_time": "2021-09-03T19:50:12.832Z"
   },
   {
    "duration": 16,
    "start_time": "2021-09-03T19:50:13.001Z"
   },
   {
    "duration": 17,
    "start_time": "2021-09-03T19:50:13.019Z"
   },
   {
    "duration": 319,
    "start_time": "2021-09-03T19:50:13.040Z"
   },
   {
    "duration": 250,
    "start_time": "2021-09-03T19:50:13.361Z"
   },
   {
    "duration": 6,
    "start_time": "2021-09-03T19:50:13.612Z"
   },
   {
    "duration": 377,
    "start_time": "2021-09-03T19:50:13.619Z"
   },
   {
    "duration": 7,
    "start_time": "2021-09-03T19:50:13.999Z"
   },
   {
    "duration": 284,
    "start_time": "2021-09-03T19:50:14.008Z"
   },
   {
    "duration": 370,
    "start_time": "2021-09-03T19:50:14.294Z"
   },
   {
    "duration": 129,
    "start_time": "2021-09-03T19:50:14.665Z"
   },
   {
    "duration": 250,
    "start_time": "2021-09-03T19:50:14.796Z"
   },
   {
    "duration": 347,
    "start_time": "2021-09-03T19:50:15.048Z"
   },
   {
    "duration": 5,
    "start_time": "2021-09-03T19:50:15.398Z"
   },
   {
    "duration": 314,
    "start_time": "2021-09-03T19:50:15.405Z"
   },
   {
    "duration": 5,
    "start_time": "2021-09-03T19:50:15.721Z"
   },
   {
    "duration": 31,
    "start_time": "2021-09-03T19:50:15.727Z"
   },
   {
    "duration": 225,
    "start_time": "2021-09-03T19:50:15.760Z"
   },
   {
    "duration": 20,
    "start_time": "2021-09-03T19:50:15.987Z"
   },
   {
    "duration": 101,
    "start_time": "2021-09-03T19:50:16.008Z"
   },
   {
    "duration": 6,
    "start_time": "2021-09-03T19:50:16.110Z"
   },
   {
    "duration": 24,
    "start_time": "2021-09-03T19:50:16.117Z"
   },
   {
    "duration": 5,
    "start_time": "2021-09-03T19:50:16.142Z"
   },
   {
    "duration": 11,
    "start_time": "2021-09-03T19:50:16.148Z"
   },
   {
    "duration": 9,
    "start_time": "2021-09-03T19:50:16.161Z"
   },
   {
    "duration": 12,
    "start_time": "2021-09-03T19:50:16.171Z"
   },
   {
    "duration": 12,
    "start_time": "2021-09-03T19:50:16.185Z"
   },
   {
    "duration": 7,
    "start_time": "2021-09-03T19:54:07.871Z"
   },
   {
    "duration": 7,
    "start_time": "2021-09-03T19:56:13.284Z"
   },
   {
    "duration": 7,
    "start_time": "2021-09-03T19:56:23.644Z"
   },
   {
    "duration": 14,
    "start_time": "2021-09-03T20:04:07.622Z"
   },
   {
    "duration": 15,
    "start_time": "2021-09-03T20:05:43.974Z"
   },
   {
    "duration": 13,
    "start_time": "2021-09-03T20:06:58.960Z"
   },
   {
    "duration": 351,
    "start_time": "2021-09-03T20:38:29.157Z"
   },
   {
    "duration": 257,
    "start_time": "2021-09-03T20:42:18.640Z"
   },
   {
    "duration": 2,
    "start_time": "2021-09-03T21:16:31.637Z"
   },
   {
    "duration": 38,
    "start_time": "2021-09-03T21:16:31.641Z"
   },
   {
    "duration": 14,
    "start_time": "2021-09-03T21:16:31.681Z"
   },
   {
    "duration": 25,
    "start_time": "2021-09-03T21:16:31.696Z"
   },
   {
    "duration": 22,
    "start_time": "2021-09-03T21:16:31.722Z"
   },
   {
    "duration": 27,
    "start_time": "2021-09-03T21:16:31.745Z"
   },
   {
    "duration": 68,
    "start_time": "2021-09-03T21:16:31.775Z"
   },
   {
    "duration": 9,
    "start_time": "2021-09-03T21:16:31.845Z"
   },
   {
    "duration": 15,
    "start_time": "2021-09-03T21:16:31.856Z"
   },
   {
    "duration": 13,
    "start_time": "2021-09-03T21:16:31.873Z"
   },
   {
    "duration": 25,
    "start_time": "2021-09-03T21:16:31.888Z"
   },
   {
    "duration": 31,
    "start_time": "2021-09-03T21:16:31.915Z"
   },
   {
    "duration": 34,
    "start_time": "2021-09-03T21:16:31.948Z"
   },
   {
    "duration": 10,
    "start_time": "2021-09-03T21:16:31.984Z"
   },
   {
    "duration": 39,
    "start_time": "2021-09-03T21:16:31.996Z"
   },
   {
    "duration": 14,
    "start_time": "2021-09-03T21:16:32.037Z"
   },
   {
    "duration": 31,
    "start_time": "2021-09-03T21:16:32.052Z"
   },
   {
    "duration": 29,
    "start_time": "2021-09-03T21:16:32.085Z"
   },
   {
    "duration": 39,
    "start_time": "2021-09-03T21:16:32.117Z"
   },
   {
    "duration": 15,
    "start_time": "2021-09-03T21:16:32.158Z"
   },
   {
    "duration": 30,
    "start_time": "2021-09-03T21:16:32.175Z"
   },
   {
    "duration": 20,
    "start_time": "2021-09-03T21:16:32.207Z"
   },
   {
    "duration": 37,
    "start_time": "2021-09-03T21:16:32.229Z"
   },
   {
    "duration": 9,
    "start_time": "2021-09-03T21:16:32.267Z"
   },
   {
    "duration": 209,
    "start_time": "2021-09-03T21:16:32.278Z"
   },
   {
    "duration": 7,
    "start_time": "2021-09-03T21:16:32.489Z"
   },
   {
    "duration": 150,
    "start_time": "2021-09-03T21:16:32.498Z"
   },
   {
    "duration": 29,
    "start_time": "2021-09-03T21:16:32.650Z"
   },
   {
    "duration": 32,
    "start_time": "2021-09-03T21:16:32.680Z"
   },
   {
    "duration": 276,
    "start_time": "2021-09-03T21:16:32.714Z"
   },
   {
    "duration": 325,
    "start_time": "2021-09-03T21:16:32.992Z"
   },
   {
    "duration": 7,
    "start_time": "2021-09-03T21:16:33.319Z"
   },
   {
    "duration": 374,
    "start_time": "2021-09-03T21:16:33.327Z"
   },
   {
    "duration": 7,
    "start_time": "2021-09-03T21:16:33.703Z"
   },
   {
    "duration": 290,
    "start_time": "2021-09-03T21:16:33.712Z"
   },
   {
    "duration": 376,
    "start_time": "2021-09-03T21:16:34.004Z"
   },
   {
    "duration": 103,
    "start_time": "2021-09-03T21:16:34.382Z"
   },
   {
    "duration": 229,
    "start_time": "2021-09-03T21:16:34.486Z"
   },
   {
    "duration": 380,
    "start_time": "2021-09-03T21:16:34.717Z"
   },
   {
    "duration": 5,
    "start_time": "2021-09-03T21:16:35.098Z"
   },
   {
    "duration": 308,
    "start_time": "2021-09-03T21:16:35.104Z"
   },
   {
    "duration": 4,
    "start_time": "2021-09-03T21:16:35.414Z"
   },
   {
    "duration": 41,
    "start_time": "2021-09-03T21:16:35.419Z"
   },
   {
    "duration": 222,
    "start_time": "2021-09-03T21:16:35.461Z"
   },
   {
    "duration": 53,
    "start_time": "2021-09-03T21:16:35.685Z"
   },
   {
    "duration": 115,
    "start_time": "2021-09-03T21:16:35.740Z"
   },
   {
    "duration": 6,
    "start_time": "2021-09-03T21:16:35.856Z"
   },
   {
    "duration": 31,
    "start_time": "2021-09-03T21:16:35.863Z"
   },
   {
    "duration": 22,
    "start_time": "2021-09-03T21:16:35.896Z"
   },
   {
    "duration": 36,
    "start_time": "2021-09-03T21:16:35.920Z"
   },
   {
    "duration": 44,
    "start_time": "2021-09-03T21:16:35.958Z"
   },
   {
    "duration": 43,
    "start_time": "2021-09-03T21:16:36.004Z"
   },
   {
    "duration": 49,
    "start_time": "2021-09-03T21:16:36.049Z"
   },
   {
    "duration": 28,
    "start_time": "2021-09-03T21:16:36.100Z"
   },
   {
    "duration": 20,
    "start_time": "2021-09-03T21:16:36.130Z"
   },
   {
    "duration": 357,
    "start_time": "2021-09-03T21:16:36.152Z"
   },
   {
    "duration": 252,
    "start_time": "2021-09-03T21:16:36.510Z"
   },
   {
    "duration": 7,
    "start_time": "2021-09-03T21:22:00.680Z"
   },
   {
    "duration": 7,
    "start_time": "2021-09-03T21:22:22.393Z"
   },
   {
    "duration": 10,
    "start_time": "2021-09-03T21:24:01.070Z"
   },
   {
    "duration": 3,
    "start_time": "2021-09-03T21:24:52.334Z"
   },
   {
    "duration": 19,
    "start_time": "2021-09-03T21:24:52.340Z"
   },
   {
    "duration": 6,
    "start_time": "2021-09-03T21:24:52.361Z"
   },
   {
    "duration": 8,
    "start_time": "2021-09-03T21:24:52.369Z"
   },
   {
    "duration": 9,
    "start_time": "2021-09-03T21:24:52.379Z"
   },
   {
    "duration": 11,
    "start_time": "2021-09-03T21:24:52.390Z"
   },
   {
    "duration": 50,
    "start_time": "2021-09-03T21:24:52.403Z"
   },
   {
    "duration": 8,
    "start_time": "2021-09-03T21:24:52.455Z"
   },
   {
    "duration": 15,
    "start_time": "2021-09-03T21:24:52.465Z"
   },
   {
    "duration": 5,
    "start_time": "2021-09-03T21:24:52.481Z"
   },
   {
    "duration": 14,
    "start_time": "2021-09-03T21:24:52.488Z"
   },
   {
    "duration": 8,
    "start_time": "2021-09-03T21:24:52.504Z"
   },
   {
    "duration": 20,
    "start_time": "2021-09-03T21:24:52.513Z"
   },
   {
    "duration": 9,
    "start_time": "2021-09-03T21:24:52.534Z"
   },
   {
    "duration": 6,
    "start_time": "2021-09-03T21:24:52.545Z"
   },
   {
    "duration": 9,
    "start_time": "2021-09-03T21:24:52.552Z"
   },
   {
    "duration": 9,
    "start_time": "2021-09-03T21:24:52.562Z"
   },
   {
    "duration": 20,
    "start_time": "2021-09-03T21:24:52.574Z"
   },
   {
    "duration": 12,
    "start_time": "2021-09-03T21:24:52.596Z"
   },
   {
    "duration": 40,
    "start_time": "2021-09-03T21:24:52.610Z"
   },
   {
    "duration": 21,
    "start_time": "2021-09-03T21:24:52.651Z"
   },
   {
    "duration": 13,
    "start_time": "2021-09-03T21:24:52.674Z"
   },
   {
    "duration": 13,
    "start_time": "2021-09-03T21:24:52.688Z"
   },
   {
    "duration": 39,
    "start_time": "2021-09-03T21:24:52.702Z"
   },
   {
    "duration": 195,
    "start_time": "2021-09-03T21:24:52.742Z"
   },
   {
    "duration": 7,
    "start_time": "2021-09-03T21:24:52.939Z"
   },
   {
    "duration": 153,
    "start_time": "2021-09-03T21:24:52.948Z"
   },
   {
    "duration": 11,
    "start_time": "2021-09-03T21:24:53.103Z"
   },
   {
    "duration": 10,
    "start_time": "2021-09-03T21:24:53.115Z"
   },
   {
    "duration": 265,
    "start_time": "2021-09-03T21:24:53.127Z"
   },
   {
    "duration": 250,
    "start_time": "2021-09-03T21:24:53.393Z"
   },
   {
    "duration": 6,
    "start_time": "2021-09-03T21:24:53.644Z"
   },
   {
    "duration": 427,
    "start_time": "2021-09-03T21:24:53.651Z"
   },
   {
    "duration": 6,
    "start_time": "2021-09-03T21:24:54.080Z"
   },
   {
    "duration": 233,
    "start_time": "2021-09-03T21:24:54.087Z"
   },
   {
    "duration": 364,
    "start_time": "2021-09-03T21:24:54.321Z"
   },
   {
    "duration": 106,
    "start_time": "2021-09-03T21:24:54.687Z"
   },
   {
    "duration": 217,
    "start_time": "2021-09-03T21:24:54.795Z"
   },
   {
    "duration": 333,
    "start_time": "2021-09-03T21:24:55.014Z"
   },
   {
    "duration": 4,
    "start_time": "2021-09-03T21:24:55.349Z"
   },
   {
    "duration": 276,
    "start_time": "2021-09-03T21:24:55.355Z"
   },
   {
    "duration": 5,
    "start_time": "2021-09-03T21:24:55.642Z"
   },
   {
    "duration": 28,
    "start_time": "2021-09-03T21:24:55.649Z"
   },
   {
    "duration": 232,
    "start_time": "2021-09-03T21:24:55.679Z"
   },
   {
    "duration": 34,
    "start_time": "2021-09-03T21:24:55.912Z"
   },
   {
    "duration": 127,
    "start_time": "2021-09-03T21:24:55.948Z"
   },
   {
    "duration": 5,
    "start_time": "2021-09-03T21:24:56.077Z"
   },
   {
    "duration": 32,
    "start_time": "2021-09-03T21:24:56.083Z"
   },
   {
    "duration": 22,
    "start_time": "2021-09-03T21:24:56.117Z"
   },
   {
    "duration": 37,
    "start_time": "2021-09-03T21:24:56.140Z"
   },
   {
    "duration": 17,
    "start_time": "2021-09-03T21:24:56.179Z"
   },
   {
    "duration": 34,
    "start_time": "2021-09-03T21:24:56.197Z"
   },
   {
    "duration": 18,
    "start_time": "2021-09-03T21:24:56.233Z"
   },
   {
    "duration": 21,
    "start_time": "2021-09-03T21:24:56.252Z"
   },
   {
    "duration": 19,
    "start_time": "2021-09-03T21:24:56.274Z"
   },
   {
    "duration": 354,
    "start_time": "2021-09-03T21:24:56.295Z"
   },
   {
    "duration": 244,
    "start_time": "2021-09-03T21:24:56.650Z"
   },
   {
    "duration": 1043,
    "start_time": "2021-09-03T21:30:59.635Z"
   },
   {
    "duration": 17,
    "start_time": "2021-09-03T21:31:00.680Z"
   },
   {
    "duration": 21,
    "start_time": "2021-09-03T21:31:00.699Z"
   },
   {
    "duration": 19,
    "start_time": "2021-09-03T21:31:00.722Z"
   },
   {
    "duration": 25,
    "start_time": "2021-09-03T21:31:00.743Z"
   },
   {
    "duration": 25,
    "start_time": "2021-09-03T21:31:00.770Z"
   },
   {
    "duration": 70,
    "start_time": "2021-09-03T21:31:00.796Z"
   },
   {
    "duration": 10,
    "start_time": "2021-09-03T21:31:00.869Z"
   },
   {
    "duration": 31,
    "start_time": "2021-09-03T21:31:00.881Z"
   },
   {
    "duration": 24,
    "start_time": "2021-09-03T21:31:00.914Z"
   },
   {
    "duration": 34,
    "start_time": "2021-09-03T21:31:00.940Z"
   },
   {
    "duration": 25,
    "start_time": "2021-09-03T21:31:00.975Z"
   },
   {
    "duration": 38,
    "start_time": "2021-09-03T21:31:01.001Z"
   },
   {
    "duration": 28,
    "start_time": "2021-09-03T21:31:01.041Z"
   },
   {
    "duration": 30,
    "start_time": "2021-09-03T21:31:01.071Z"
   },
   {
    "duration": 20,
    "start_time": "2021-09-03T21:31:01.103Z"
   },
   {
    "duration": 35,
    "start_time": "2021-09-03T21:31:01.125Z"
   },
   {
    "duration": 40,
    "start_time": "2021-09-03T21:31:01.161Z"
   },
   {
    "duration": 38,
    "start_time": "2021-09-03T21:31:01.203Z"
   },
   {
    "duration": 33,
    "start_time": "2021-09-03T21:31:01.243Z"
   },
   {
    "duration": 37,
    "start_time": "2021-09-03T21:31:01.277Z"
   },
   {
    "duration": 34,
    "start_time": "2021-09-03T21:31:01.316Z"
   },
   {
    "duration": 44,
    "start_time": "2021-09-03T21:31:01.354Z"
   },
   {
    "duration": 27,
    "start_time": "2021-09-03T21:31:01.401Z"
   },
   {
    "duration": 219,
    "start_time": "2021-09-03T21:31:01.429Z"
   },
   {
    "duration": 8,
    "start_time": "2021-09-03T21:31:01.650Z"
   },
   {
    "duration": 151,
    "start_time": "2021-09-03T21:31:01.659Z"
   },
   {
    "duration": 7,
    "start_time": "2021-09-03T21:31:01.811Z"
   },
   {
    "duration": 24,
    "start_time": "2021-09-03T21:31:01.820Z"
   },
   {
    "duration": 271,
    "start_time": "2021-09-03T21:31:01.846Z"
   },
   {
    "duration": 244,
    "start_time": "2021-09-03T21:31:02.118Z"
   },
   {
    "duration": 6,
    "start_time": "2021-09-03T21:31:02.364Z"
   },
   {
    "duration": 346,
    "start_time": "2021-09-03T21:31:02.372Z"
   },
   {
    "duration": 6,
    "start_time": "2021-09-03T21:31:02.720Z"
   },
   {
    "duration": 240,
    "start_time": "2021-09-03T21:31:02.727Z"
   },
   {
    "duration": 334,
    "start_time": "2021-09-03T21:31:02.969Z"
   },
   {
    "duration": 100,
    "start_time": "2021-09-03T21:31:03.304Z"
   },
   {
    "duration": 231,
    "start_time": "2021-09-03T21:31:03.406Z"
   },
   {
    "duration": 345,
    "start_time": "2021-09-03T21:31:03.639Z"
   },
   {
    "duration": 6,
    "start_time": "2021-09-03T21:31:03.986Z"
   },
   {
    "duration": 266,
    "start_time": "2021-09-03T21:31:03.993Z"
   },
   {
    "duration": 5,
    "start_time": "2021-09-03T21:31:04.261Z"
   },
   {
    "duration": 100,
    "start_time": "2021-09-03T21:31:04.268Z"
   },
   {
    "duration": 220,
    "start_time": "2021-09-03T21:31:04.370Z"
   },
   {
    "duration": 23,
    "start_time": "2021-09-03T21:31:04.592Z"
   },
   {
    "duration": 104,
    "start_time": "2021-09-03T21:31:04.616Z"
   },
   {
    "duration": 6,
    "start_time": "2021-09-03T21:31:04.722Z"
   },
   {
    "duration": 16,
    "start_time": "2021-09-03T21:31:04.730Z"
   },
   {
    "duration": 6,
    "start_time": "2021-09-03T21:31:04.748Z"
   },
   {
    "duration": 11,
    "start_time": "2021-09-03T21:31:04.756Z"
   },
   {
    "duration": 11,
    "start_time": "2021-09-03T21:31:04.769Z"
   },
   {
    "duration": 8,
    "start_time": "2021-09-03T21:31:04.782Z"
   },
   {
    "duration": 9,
    "start_time": "2021-09-03T21:31:04.792Z"
   },
   {
    "duration": 40,
    "start_time": "2021-09-03T21:31:04.802Z"
   },
   {
    "duration": 15,
    "start_time": "2021-09-03T21:31:04.844Z"
   },
   {
    "duration": 336,
    "start_time": "2021-09-03T21:31:04.861Z"
   },
   {
    "duration": 250,
    "start_time": "2021-09-03T21:31:05.199Z"
   },
   {
    "duration": 1074,
    "start_time": "2021-09-04T09:52:54.198Z"
   },
   {
    "duration": 18,
    "start_time": "2021-09-04T09:52:55.274Z"
   },
   {
    "duration": 6,
    "start_time": "2021-09-04T09:52:55.294Z"
   },
   {
    "duration": 8,
    "start_time": "2021-09-04T09:52:55.302Z"
   },
   {
    "duration": 11,
    "start_time": "2021-09-04T09:52:55.312Z"
   },
   {
    "duration": 7,
    "start_time": "2021-09-04T09:52:55.324Z"
   },
   {
    "duration": 52,
    "start_time": "2021-09-04T09:52:55.333Z"
   },
   {
    "duration": 9,
    "start_time": "2021-09-04T09:52:55.387Z"
   },
   {
    "duration": 8,
    "start_time": "2021-09-04T09:52:55.398Z"
   },
   {
    "duration": 5,
    "start_time": "2021-09-04T09:52:55.407Z"
   },
   {
    "duration": 16,
    "start_time": "2021-09-04T09:52:55.413Z"
   },
   {
    "duration": 9,
    "start_time": "2021-09-04T09:52:55.430Z"
   },
   {
    "duration": 21,
    "start_time": "2021-09-04T09:52:55.440Z"
   },
   {
    "duration": 6,
    "start_time": "2021-09-04T09:52:55.462Z"
   },
   {
    "duration": 8,
    "start_time": "2021-09-04T09:52:55.469Z"
   },
   {
    "duration": 15,
    "start_time": "2021-09-04T09:52:55.479Z"
   },
   {
    "duration": 13,
    "start_time": "2021-09-04T09:52:55.496Z"
   },
   {
    "duration": 19,
    "start_time": "2021-09-04T09:52:55.511Z"
   },
   {
    "duration": 13,
    "start_time": "2021-09-04T09:52:55.532Z"
   },
   {
    "duration": 16,
    "start_time": "2021-09-04T09:52:55.546Z"
   },
   {
    "duration": 41,
    "start_time": "2021-09-04T09:52:55.564Z"
   },
   {
    "duration": 12,
    "start_time": "2021-09-04T09:52:55.607Z"
   },
   {
    "duration": 15,
    "start_time": "2021-09-04T09:52:55.624Z"
   },
   {
    "duration": 6,
    "start_time": "2021-09-04T09:52:55.641Z"
   },
   {
    "duration": 213,
    "start_time": "2021-09-04T09:52:55.649Z"
   },
   {
    "duration": 8,
    "start_time": "2021-09-04T09:52:55.864Z"
   },
   {
    "duration": 161,
    "start_time": "2021-09-04T09:52:55.874Z"
   },
   {
    "duration": 9,
    "start_time": "2021-09-04T09:52:56.037Z"
   },
   {
    "duration": 10,
    "start_time": "2021-09-04T09:52:56.047Z"
   },
   {
    "duration": 270,
    "start_time": "2021-09-04T09:52:56.058Z"
   },
   {
    "duration": 249,
    "start_time": "2021-09-04T09:52:56.330Z"
   },
   {
    "duration": 15,
    "start_time": "2021-09-04T09:52:56.580Z"
   },
   {
    "duration": 353,
    "start_time": "2021-09-04T09:52:56.596Z"
   },
   {
    "duration": 6,
    "start_time": "2021-09-04T09:52:56.950Z"
   },
   {
    "duration": 246,
    "start_time": "2021-09-04T09:52:56.958Z"
   },
   {
    "duration": 339,
    "start_time": "2021-09-04T09:52:57.206Z"
   },
   {
    "duration": 102,
    "start_time": "2021-09-04T09:52:57.547Z"
   },
   {
    "duration": 228,
    "start_time": "2021-09-04T09:52:57.650Z"
   },
   {
    "duration": 373,
    "start_time": "2021-09-04T09:52:57.880Z"
   },
   {
    "duration": 6,
    "start_time": "2021-09-04T09:52:58.255Z"
   },
   {
    "duration": 296,
    "start_time": "2021-09-04T09:52:58.263Z"
   },
   {
    "duration": 5,
    "start_time": "2021-09-04T09:52:58.561Z"
   },
   {
    "duration": 105,
    "start_time": "2021-09-04T09:52:58.567Z"
   },
   {
    "duration": 210,
    "start_time": "2021-09-04T09:52:58.673Z"
   },
   {
    "duration": 21,
    "start_time": "2021-09-04T09:52:58.885Z"
   },
   {
    "duration": 109,
    "start_time": "2021-09-04T09:52:58.908Z"
   },
   {
    "duration": 5,
    "start_time": "2021-09-04T09:52:59.018Z"
   },
   {
    "duration": 8,
    "start_time": "2021-09-04T09:52:59.025Z"
   },
   {
    "duration": 3,
    "start_time": "2021-09-04T09:52:59.035Z"
   },
   {
    "duration": 10,
    "start_time": "2021-09-04T09:52:59.040Z"
   },
   {
    "duration": 9,
    "start_time": "2021-09-04T09:52:59.051Z"
   },
   {
    "duration": 30,
    "start_time": "2021-09-04T09:52:59.061Z"
   },
   {
    "duration": 11,
    "start_time": "2021-09-04T09:52:59.093Z"
   },
   {
    "duration": 12,
    "start_time": "2021-09-04T09:52:59.105Z"
   },
   {
    "duration": 13,
    "start_time": "2021-09-04T09:52:59.118Z"
   },
   {
    "duration": 321,
    "start_time": "2021-09-04T09:52:59.133Z"
   },
   {
    "duration": 248,
    "start_time": "2021-09-04T09:52:59.456Z"
   },
   {
    "duration": 432,
    "start_time": "2021-09-04T10:02:30.351Z"
   },
   {
    "duration": 9,
    "start_time": "2021-09-04T10:02:52.739Z"
   },
   {
    "duration": 1139,
    "start_time": "2021-09-04T10:02:59.560Z"
   },
   {
    "duration": 18,
    "start_time": "2021-09-04T10:03:00.702Z"
   },
   {
    "duration": 7,
    "start_time": "2021-09-04T10:03:00.723Z"
   },
   {
    "duration": 12,
    "start_time": "2021-09-04T10:03:00.732Z"
   },
   {
    "duration": 15,
    "start_time": "2021-09-04T10:03:00.746Z"
   },
   {
    "duration": 9,
    "start_time": "2021-09-04T10:03:00.763Z"
   },
   {
    "duration": 62,
    "start_time": "2021-09-04T10:03:00.774Z"
   },
   {
    "duration": 10,
    "start_time": "2021-09-04T10:03:00.839Z"
   },
   {
    "duration": 14,
    "start_time": "2021-09-04T10:03:00.852Z"
   },
   {
    "duration": 9,
    "start_time": "2021-09-04T10:03:00.868Z"
   },
   {
    "duration": 21,
    "start_time": "2021-09-04T10:03:00.878Z"
   },
   {
    "duration": 17,
    "start_time": "2021-09-04T10:03:00.901Z"
   },
   {
    "duration": 17,
    "start_time": "2021-09-04T10:03:00.919Z"
   },
   {
    "duration": 30,
    "start_time": "2021-09-04T10:03:00.937Z"
   },
   {
    "duration": 15,
    "start_time": "2021-09-04T10:03:00.969Z"
   },
   {
    "duration": 10,
    "start_time": "2021-09-04T10:03:00.987Z"
   },
   {
    "duration": 13,
    "start_time": "2021-09-04T10:03:00.999Z"
   },
   {
    "duration": 14,
    "start_time": "2021-09-04T10:03:01.014Z"
   },
   {
    "duration": 24,
    "start_time": "2021-09-04T10:03:01.030Z"
   },
   {
    "duration": 19,
    "start_time": "2021-09-04T10:03:01.057Z"
   },
   {
    "duration": 24,
    "start_time": "2021-09-04T10:03:01.078Z"
   },
   {
    "duration": 16,
    "start_time": "2021-09-04T10:03:01.104Z"
   },
   {
    "duration": 13,
    "start_time": "2021-09-04T10:03:01.124Z"
   },
   {
    "duration": 13,
    "start_time": "2021-09-04T10:03:01.139Z"
   },
   {
    "duration": 38,
    "start_time": "2021-09-04T10:03:01.154Z"
   },
   {
    "duration": 214,
    "start_time": "2021-09-04T10:03:01.194Z"
   },
   {
    "duration": 8,
    "start_time": "2021-09-04T10:03:01.410Z"
   },
   {
    "duration": 176,
    "start_time": "2021-09-04T10:03:01.420Z"
   },
   {
    "duration": 16,
    "start_time": "2021-09-04T10:03:01.598Z"
   },
   {
    "duration": 17,
    "start_time": "2021-09-04T10:03:01.616Z"
   },
   {
    "duration": 296,
    "start_time": "2021-09-04T10:03:01.634Z"
   },
   {
    "duration": 266,
    "start_time": "2021-09-04T10:03:01.932Z"
   },
   {
    "duration": 6,
    "start_time": "2021-09-04T10:03:02.200Z"
   },
   {
    "duration": 360,
    "start_time": "2021-09-04T10:03:02.208Z"
   },
   {
    "duration": 7,
    "start_time": "2021-09-04T10:03:02.569Z"
   },
   {
    "duration": 247,
    "start_time": "2021-09-04T10:03:02.578Z"
   },
   {
    "duration": 347,
    "start_time": "2021-09-04T10:03:02.827Z"
   },
   {
    "duration": 127,
    "start_time": "2021-09-04T10:03:03.176Z"
   },
   {
    "duration": 233,
    "start_time": "2021-09-04T10:03:03.305Z"
   },
   {
    "duration": 336,
    "start_time": "2021-09-04T10:03:03.540Z"
   },
   {
    "duration": 16,
    "start_time": "2021-09-04T10:03:03.878Z"
   },
   {
    "duration": 354,
    "start_time": "2021-09-04T10:03:03.896Z"
   },
   {
    "duration": 5,
    "start_time": "2021-09-04T10:03:04.252Z"
   },
   {
    "duration": 145,
    "start_time": "2021-09-04T10:03:04.259Z"
   },
   {
    "duration": 321,
    "start_time": "2021-09-04T10:03:04.407Z"
   },
   {
    "duration": 28,
    "start_time": "2021-09-04T10:03:04.730Z"
   },
   {
    "duration": 117,
    "start_time": "2021-09-04T10:03:04.760Z"
   },
   {
    "duration": 15,
    "start_time": "2021-09-04T10:03:04.879Z"
   },
   {
    "duration": 10,
    "start_time": "2021-09-04T10:03:04.895Z"
   },
   {
    "duration": 4,
    "start_time": "2021-09-04T10:03:04.907Z"
   },
   {
    "duration": 11,
    "start_time": "2021-09-04T10:03:04.913Z"
   },
   {
    "duration": 11,
    "start_time": "2021-09-04T10:03:04.925Z"
   },
   {
    "duration": 7,
    "start_time": "2021-09-04T10:03:04.938Z"
   },
   {
    "duration": 10,
    "start_time": "2021-09-04T10:03:04.947Z"
   },
   {
    "duration": 34,
    "start_time": "2021-09-04T10:03:04.959Z"
   },
   {
    "duration": 14,
    "start_time": "2021-09-04T10:03:04.995Z"
   },
   {
    "duration": 363,
    "start_time": "2021-09-04T10:03:05.011Z"
   },
   {
    "duration": 263,
    "start_time": "2021-09-04T10:03:05.377Z"
   },
   {
    "duration": 5,
    "start_time": "2021-09-04T10:05:32.024Z"
   },
   {
    "duration": 1060,
    "start_time": "2021-09-04T10:21:26.299Z"
   },
   {
    "duration": 16,
    "start_time": "2021-09-04T10:21:27.361Z"
   },
   {
    "duration": 7,
    "start_time": "2021-09-04T10:21:27.379Z"
   },
   {
    "duration": 13,
    "start_time": "2021-09-04T10:21:27.388Z"
   },
   {
    "duration": 21,
    "start_time": "2021-09-04T10:21:27.403Z"
   },
   {
    "duration": 13,
    "start_time": "2021-09-04T10:21:27.426Z"
   },
   {
    "duration": 61,
    "start_time": "2021-09-04T10:21:27.440Z"
   },
   {
    "duration": 14,
    "start_time": "2021-09-04T10:21:27.504Z"
   },
   {
    "duration": 8,
    "start_time": "2021-09-04T10:21:27.520Z"
   },
   {
    "duration": 5,
    "start_time": "2021-09-04T10:21:27.530Z"
   },
   {
    "duration": 13,
    "start_time": "2021-09-04T10:21:27.536Z"
   },
   {
    "duration": 7,
    "start_time": "2021-09-04T10:21:27.551Z"
   },
   {
    "duration": 11,
    "start_time": "2021-09-04T10:21:27.560Z"
   },
   {
    "duration": 33,
    "start_time": "2021-09-04T10:21:27.573Z"
   },
   {
    "duration": 5,
    "start_time": "2021-09-04T10:21:27.609Z"
   },
   {
    "duration": 7,
    "start_time": "2021-09-04T10:21:27.616Z"
   },
   {
    "duration": 10,
    "start_time": "2021-09-04T10:21:27.625Z"
   },
   {
    "duration": 9,
    "start_time": "2021-09-04T10:21:27.636Z"
   },
   {
    "duration": 17,
    "start_time": "2021-09-04T10:21:27.646Z"
   },
   {
    "duration": 15,
    "start_time": "2021-09-04T10:21:27.665Z"
   },
   {
    "duration": 30,
    "start_time": "2021-09-04T10:21:27.682Z"
   },
   {
    "duration": 16,
    "start_time": "2021-09-04T10:21:27.714Z"
   },
   {
    "duration": 17,
    "start_time": "2021-09-04T10:21:27.734Z"
   },
   {
    "duration": 11,
    "start_time": "2021-09-04T10:21:27.753Z"
   },
   {
    "duration": 43,
    "start_time": "2021-09-04T10:21:27.766Z"
   },
   {
    "duration": 6,
    "start_time": "2021-09-04T10:21:27.810Z"
   },
   {
    "duration": 209,
    "start_time": "2021-09-04T10:21:27.818Z"
   },
   {
    "duration": 8,
    "start_time": "2021-09-04T10:21:28.029Z"
   },
   {
    "duration": 173,
    "start_time": "2021-09-04T10:21:28.038Z"
   },
   {
    "duration": 8,
    "start_time": "2021-09-04T10:21:28.213Z"
   },
   {
    "duration": 11,
    "start_time": "2021-09-04T10:21:28.223Z"
   },
   {
    "duration": 273,
    "start_time": "2021-09-04T10:21:28.235Z"
   },
   {
    "duration": 269,
    "start_time": "2021-09-04T10:21:28.509Z"
   },
   {
    "duration": 15,
    "start_time": "2021-09-04T10:21:28.780Z"
   },
   {
    "duration": 355,
    "start_time": "2021-09-04T10:21:28.797Z"
   },
   {
    "duration": 6,
    "start_time": "2021-09-04T10:21:29.154Z"
   },
   {
    "duration": 251,
    "start_time": "2021-09-04T10:21:29.161Z"
   },
   {
    "duration": 340,
    "start_time": "2021-09-04T10:21:29.415Z"
   },
   {
    "duration": 103,
    "start_time": "2021-09-04T10:21:29.756Z"
   },
   {
    "duration": 242,
    "start_time": "2021-09-04T10:21:29.861Z"
   },
   {
    "duration": 362,
    "start_time": "2021-09-04T10:21:30.105Z"
   },
   {
    "duration": 4,
    "start_time": "2021-09-04T10:21:30.468Z"
   },
   {
    "duration": 345,
    "start_time": "2021-09-04T10:21:30.474Z"
   },
   {
    "duration": 7,
    "start_time": "2021-09-04T10:21:30.821Z"
   },
   {
    "duration": 118,
    "start_time": "2021-09-04T10:21:30.830Z"
   },
   {
    "duration": 233,
    "start_time": "2021-09-04T10:21:30.950Z"
   },
   {
    "duration": 37,
    "start_time": "2021-09-04T10:21:31.185Z"
   },
   {
    "duration": 140,
    "start_time": "2021-09-04T10:21:31.224Z"
   },
   {
    "duration": 6,
    "start_time": "2021-09-04T10:21:31.366Z"
   },
   {
    "duration": 18,
    "start_time": "2021-09-04T10:21:31.373Z"
   },
   {
    "duration": 7,
    "start_time": "2021-09-04T10:21:31.393Z"
   },
   {
    "duration": 27,
    "start_time": "2021-09-04T10:21:31.402Z"
   },
   {
    "duration": 12,
    "start_time": "2021-09-04T10:21:31.431Z"
   },
   {
    "duration": 11,
    "start_time": "2021-09-04T10:21:31.445Z"
   },
   {
    "duration": 12,
    "start_time": "2021-09-04T10:21:31.458Z"
   },
   {
    "duration": 23,
    "start_time": "2021-09-04T10:21:31.472Z"
   },
   {
    "duration": 17,
    "start_time": "2021-09-04T10:21:31.500Z"
   },
   {
    "duration": 347,
    "start_time": "2021-09-04T10:21:31.518Z"
   },
   {
    "duration": 266,
    "start_time": "2021-09-04T10:21:31.867Z"
   },
   {
    "duration": 1855,
    "start_time": "2021-09-04T13:01:41.933Z"
   },
   {
    "duration": 22,
    "start_time": "2021-09-04T13:01:43.791Z"
   },
   {
    "duration": 23,
    "start_time": "2021-09-04T13:01:43.817Z"
   },
   {
    "duration": 30,
    "start_time": "2021-09-04T13:01:43.844Z"
   },
   {
    "duration": 35,
    "start_time": "2021-09-04T13:01:43.877Z"
   },
   {
    "duration": 16,
    "start_time": "2021-09-04T13:01:43.916Z"
   },
   {
    "duration": 100,
    "start_time": "2021-09-04T13:01:43.934Z"
   },
   {
    "duration": 21,
    "start_time": "2021-09-04T13:01:44.036Z"
   },
   {
    "duration": 23,
    "start_time": "2021-09-04T13:01:44.061Z"
   },
   {
    "duration": 25,
    "start_time": "2021-09-04T13:01:44.087Z"
   },
   {
    "duration": 36,
    "start_time": "2021-09-04T13:01:44.115Z"
   },
   {
    "duration": 27,
    "start_time": "2021-09-04T13:01:44.153Z"
   },
   {
    "duration": 32,
    "start_time": "2021-09-04T13:01:44.182Z"
   },
   {
    "duration": 43,
    "start_time": "2021-09-04T13:01:44.217Z"
   },
   {
    "duration": 8,
    "start_time": "2021-09-04T13:01:44.262Z"
   },
   {
    "duration": 19,
    "start_time": "2021-09-04T13:01:44.272Z"
   },
   {
    "duration": 27,
    "start_time": "2021-09-04T13:01:44.293Z"
   },
   {
    "duration": 26,
    "start_time": "2021-09-04T13:01:44.322Z"
   },
   {
    "duration": 30,
    "start_time": "2021-09-04T13:01:44.351Z"
   },
   {
    "duration": 41,
    "start_time": "2021-09-04T13:01:44.383Z"
   },
   {
    "duration": 26,
    "start_time": "2021-09-04T13:01:44.427Z"
   },
   {
    "duration": 36,
    "start_time": "2021-09-04T13:01:44.456Z"
   },
   {
    "duration": 58,
    "start_time": "2021-09-04T13:01:44.494Z"
   },
   {
    "duration": 18,
    "start_time": "2021-09-04T13:01:44.555Z"
   },
   {
    "duration": 22,
    "start_time": "2021-09-04T13:01:44.575Z"
   },
   {
    "duration": 17,
    "start_time": "2021-09-04T13:01:44.599Z"
   },
   {
    "duration": 455,
    "start_time": "2021-09-04T13:01:44.622Z"
   },
   {
    "duration": 11,
    "start_time": "2021-09-04T13:01:45.081Z"
   },
   {
    "duration": 292,
    "start_time": "2021-09-04T13:01:45.094Z"
   },
   {
    "duration": 38,
    "start_time": "2021-09-04T13:01:45.389Z"
   },
   {
    "duration": 25,
    "start_time": "2021-09-04T13:01:45.429Z"
   },
   {
    "duration": 463,
    "start_time": "2021-09-04T13:01:45.457Z"
   },
   {
    "duration": 443,
    "start_time": "2021-09-04T13:01:45.923Z"
   },
   {
    "duration": 8,
    "start_time": "2021-09-04T13:01:46.368Z"
   },
   {
    "duration": 622,
    "start_time": "2021-09-04T13:01:46.379Z"
   },
   {
    "duration": 8,
    "start_time": "2021-09-04T13:01:47.003Z"
   },
   {
    "duration": 646,
    "start_time": "2021-09-04T13:01:47.014Z"
   },
   {
    "duration": 675,
    "start_time": "2021-09-04T13:01:47.663Z"
   },
   {
    "duration": 328,
    "start_time": "2021-09-04T13:01:48.341Z"
   },
   {
    "duration": 568,
    "start_time": "2021-09-04T13:01:48.672Z"
   },
   {
    "duration": 534,
    "start_time": "2021-09-04T13:01:49.243Z"
   },
   {
    "duration": 6,
    "start_time": "2021-09-04T13:01:49.780Z"
   },
   {
    "duration": 389,
    "start_time": "2021-09-04T13:01:49.788Z"
   },
   {
    "duration": 6,
    "start_time": "2021-09-04T13:01:50.180Z"
   },
   {
    "duration": 141,
    "start_time": "2021-09-04T13:01:50.190Z"
   },
   {
    "duration": 379,
    "start_time": "2021-09-04T13:01:50.333Z"
   },
   {
    "duration": 52,
    "start_time": "2021-09-04T13:01:50.714Z"
   },
   {
    "duration": 193,
    "start_time": "2021-09-04T13:01:50.768Z"
   },
   {
    "duration": 9,
    "start_time": "2021-09-04T13:01:50.964Z"
   },
   {
    "duration": 11,
    "start_time": "2021-09-04T13:01:50.976Z"
   },
   {
    "duration": 7,
    "start_time": "2021-09-04T13:01:50.990Z"
   },
   {
    "duration": 56,
    "start_time": "2021-09-04T13:01:51.000Z"
   },
   {
    "duration": 18,
    "start_time": "2021-09-04T13:01:51.059Z"
   },
   {
    "duration": 10,
    "start_time": "2021-09-04T13:01:51.080Z"
   },
   {
    "duration": 12,
    "start_time": "2021-09-04T13:01:51.093Z"
   },
   {
    "duration": 58,
    "start_time": "2021-09-04T13:01:51.107Z"
   },
   {
    "duration": 29,
    "start_time": "2021-09-04T13:01:51.168Z"
   },
   {
    "duration": 709,
    "start_time": "2021-09-04T13:01:51.200Z"
   },
   {
    "duration": 619,
    "start_time": "2021-09-04T13:01:51.912Z"
   },
   {
    "duration": 408,
    "start_time": "2021-09-04T13:02:55.309Z"
   },
   {
    "duration": 6,
    "start_time": "2021-09-04T13:03:03.936Z"
   },
   {
    "duration": 7,
    "start_time": "2021-09-04T13:03:18.474Z"
   },
   {
    "duration": 1335,
    "start_time": "2021-09-04T14:46:33.187Z"
   },
   {
    "duration": 20,
    "start_time": "2021-09-04T14:46:34.525Z"
   },
   {
    "duration": 17,
    "start_time": "2021-09-04T14:46:34.548Z"
   },
   {
    "duration": 20,
    "start_time": "2021-09-04T14:46:34.568Z"
   },
   {
    "duration": 29,
    "start_time": "2021-09-04T14:46:34.591Z"
   },
   {
    "duration": 12,
    "start_time": "2021-09-04T14:46:34.624Z"
   },
   {
    "duration": 69,
    "start_time": "2021-09-04T14:46:34.638Z"
   },
   {
    "duration": 16,
    "start_time": "2021-09-04T14:46:34.711Z"
   },
   {
    "duration": 16,
    "start_time": "2021-09-04T14:46:34.729Z"
   },
   {
    "duration": 18,
    "start_time": "2021-09-04T14:46:34.747Z"
   },
   {
    "duration": 24,
    "start_time": "2021-09-04T14:46:34.768Z"
   },
   {
    "duration": 8,
    "start_time": "2021-09-04T14:46:34.794Z"
   },
   {
    "duration": 15,
    "start_time": "2021-09-04T14:46:34.804Z"
   },
   {
    "duration": 47,
    "start_time": "2021-09-04T14:46:34.822Z"
   },
   {
    "duration": 8,
    "start_time": "2021-09-04T14:46:34.871Z"
   },
   {
    "duration": 9,
    "start_time": "2021-09-04T14:46:34.882Z"
   },
   {
    "duration": 9,
    "start_time": "2021-09-04T14:46:34.893Z"
   },
   {
    "duration": 7,
    "start_time": "2021-09-04T14:46:34.904Z"
   },
   {
    "duration": 47,
    "start_time": "2021-09-04T14:46:34.913Z"
   },
   {
    "duration": 35,
    "start_time": "2021-09-04T14:46:34.962Z"
   },
   {
    "duration": 23,
    "start_time": "2021-09-04T14:46:34.999Z"
   },
   {
    "duration": 46,
    "start_time": "2021-09-04T14:46:35.024Z"
   },
   {
    "duration": 27,
    "start_time": "2021-09-04T14:46:35.077Z"
   },
   {
    "duration": 18,
    "start_time": "2021-09-04T14:46:35.107Z"
   },
   {
    "duration": 49,
    "start_time": "2021-09-04T14:46:35.127Z"
   },
   {
    "duration": 8,
    "start_time": "2021-09-04T14:46:35.178Z"
   },
   {
    "duration": 367,
    "start_time": "2021-09-04T14:46:35.189Z"
   },
   {
    "duration": 13,
    "start_time": "2021-09-04T14:46:35.559Z"
   },
   {
    "duration": 288,
    "start_time": "2021-09-04T14:46:35.574Z"
   },
   {
    "duration": 10,
    "start_time": "2021-09-04T14:46:35.865Z"
   },
   {
    "duration": 15,
    "start_time": "2021-09-04T14:46:35.878Z"
   },
   {
    "duration": 486,
    "start_time": "2021-09-04T14:46:35.895Z"
   },
   {
    "duration": 436,
    "start_time": "2021-09-04T14:46:36.383Z"
   },
   {
    "duration": 8,
    "start_time": "2021-09-04T14:46:36.822Z"
   },
   {
    "duration": 538,
    "start_time": "2021-09-04T14:46:36.832Z"
   },
   {
    "duration": 8,
    "start_time": "2021-09-04T14:46:37.373Z"
   },
   {
    "duration": 415,
    "start_time": "2021-09-04T14:46:37.384Z"
   },
   {
    "duration": 544,
    "start_time": "2021-09-04T14:46:37.801Z"
   },
   {
    "duration": 250,
    "start_time": "2021-09-04T14:46:38.348Z"
   },
   {
    "duration": 389,
    "start_time": "2021-09-04T14:46:38.601Z"
   },
   {
    "duration": 492,
    "start_time": "2021-09-04T14:46:38.993Z"
   },
   {
    "duration": 7,
    "start_time": "2021-09-04T14:46:39.487Z"
   },
   {
    "duration": 385,
    "start_time": "2021-09-04T14:46:39.496Z"
   },
   {
    "duration": 7,
    "start_time": "2021-09-04T14:46:39.883Z"
   },
   {
    "duration": 143,
    "start_time": "2021-09-04T14:46:39.892Z"
   },
   {
    "duration": 407,
    "start_time": "2021-09-04T14:46:40.037Z"
   },
   {
    "duration": 37,
    "start_time": "2021-09-04T14:46:40.447Z"
   },
   {
    "duration": 273,
    "start_time": "2021-09-04T14:46:40.487Z"
   },
   {
    "duration": 10,
    "start_time": "2021-09-04T14:46:40.763Z"
   },
   {
    "duration": 13,
    "start_time": "2021-09-04T14:46:40.775Z"
   },
   {
    "duration": 8,
    "start_time": "2021-09-04T14:46:40.791Z"
   },
   {
    "duration": 19,
    "start_time": "2021-09-04T14:46:40.801Z"
   },
   {
    "duration": 47,
    "start_time": "2021-09-04T14:46:40.823Z"
   },
   {
    "duration": 17,
    "start_time": "2021-09-04T14:46:40.872Z"
   },
   {
    "duration": 13,
    "start_time": "2021-09-04T14:46:40.891Z"
   },
   {
    "duration": 10,
    "start_time": "2021-09-04T14:46:40.907Z"
   },
   {
    "duration": 56,
    "start_time": "2021-09-04T14:46:40.919Z"
   },
   {
    "duration": 487,
    "start_time": "2021-09-04T14:46:40.978Z"
   },
   {
    "duration": 426,
    "start_time": "2021-09-04T14:46:41.468Z"
   },
   {
    "duration": 1445,
    "start_time": "2021-09-04T14:53:10.844Z"
   },
   {
    "duration": 20,
    "start_time": "2021-09-04T14:53:12.292Z"
   },
   {
    "duration": 12,
    "start_time": "2021-09-04T14:53:12.315Z"
   },
   {
    "duration": 12,
    "start_time": "2021-09-04T14:53:12.330Z"
   },
   {
    "duration": 25,
    "start_time": "2021-09-04T14:53:12.344Z"
   },
   {
    "duration": 15,
    "start_time": "2021-09-04T14:53:12.372Z"
   },
   {
    "duration": 57,
    "start_time": "2021-09-04T14:53:12.391Z"
   },
   {
    "duration": 18,
    "start_time": "2021-09-04T14:53:12.454Z"
   },
   {
    "duration": 8,
    "start_time": "2021-09-04T14:53:12.475Z"
   },
   {
    "duration": 13,
    "start_time": "2021-09-04T14:53:12.486Z"
   },
   {
    "duration": 4,
    "start_time": "2021-09-04T14:53:12.501Z"
   },
   {
    "duration": 58,
    "start_time": "2021-09-04T14:53:12.508Z"
   },
   {
    "duration": 7,
    "start_time": "2021-09-04T14:53:12.568Z"
   },
   {
    "duration": 31,
    "start_time": "2021-09-04T14:53:12.577Z"
   },
   {
    "duration": 8,
    "start_time": "2021-09-04T14:53:12.611Z"
   },
   {
    "duration": 41,
    "start_time": "2021-09-04T14:53:12.621Z"
   },
   {
    "duration": 9,
    "start_time": "2021-09-04T14:53:12.664Z"
   },
   {
    "duration": 16,
    "start_time": "2021-09-04T14:53:12.676Z"
   },
   {
    "duration": 24,
    "start_time": "2021-09-04T14:53:12.695Z"
   },
   {
    "duration": 59,
    "start_time": "2021-09-04T14:53:12.721Z"
   },
   {
    "duration": 28,
    "start_time": "2021-09-04T14:53:12.783Z"
   },
   {
    "duration": 53,
    "start_time": "2021-09-04T14:53:12.814Z"
   },
   {
    "duration": 20,
    "start_time": "2021-09-04T14:53:12.874Z"
   },
   {
    "duration": 20,
    "start_time": "2021-09-04T14:53:12.897Z"
   },
   {
    "duration": 37,
    "start_time": "2021-09-04T14:53:12.919Z"
   },
   {
    "duration": 367,
    "start_time": "2021-09-04T14:53:12.966Z"
   },
   {
    "duration": 12,
    "start_time": "2021-09-04T14:53:13.335Z"
   },
   {
    "duration": 284,
    "start_time": "2021-09-04T14:53:13.355Z"
   },
   {
    "duration": 17,
    "start_time": "2021-09-04T14:53:13.642Z"
   },
   {
    "duration": 22,
    "start_time": "2021-09-04T14:53:13.661Z"
   },
   {
    "duration": 588,
    "start_time": "2021-09-04T14:53:13.686Z"
   },
   {
    "duration": 471,
    "start_time": "2021-09-04T14:53:14.278Z"
   },
   {
    "duration": 12,
    "start_time": "2021-09-04T14:53:14.754Z"
   },
   {
    "duration": 493,
    "start_time": "2021-09-04T14:53:14.769Z"
   },
   {
    "duration": 10,
    "start_time": "2021-09-04T14:53:15.266Z"
   },
   {
    "duration": 428,
    "start_time": "2021-09-04T14:53:15.279Z"
   },
   {
    "duration": 535,
    "start_time": "2021-09-04T14:53:15.709Z"
   },
   {
    "duration": 230,
    "start_time": "2021-09-04T14:53:16.247Z"
   },
   {
    "duration": 415,
    "start_time": "2021-09-04T14:53:16.480Z"
   },
   {
    "duration": 493,
    "start_time": "2021-09-04T14:53:16.897Z"
   },
   {
    "duration": 7,
    "start_time": "2021-09-04T14:53:17.393Z"
   },
   {
    "duration": 397,
    "start_time": "2021-09-04T14:53:17.402Z"
   },
   {
    "duration": 7,
    "start_time": "2021-09-04T14:53:17.802Z"
   },
   {
    "duration": 170,
    "start_time": "2021-09-04T14:53:17.812Z"
   },
   {
    "duration": 389,
    "start_time": "2021-09-04T14:53:17.984Z"
   },
   {
    "duration": 36,
    "start_time": "2021-09-04T14:53:18.375Z"
   },
   {
    "duration": 220,
    "start_time": "2021-09-04T14:53:18.414Z"
   },
   {
    "duration": 8,
    "start_time": "2021-09-04T14:53:18.637Z"
   },
   {
    "duration": 19,
    "start_time": "2021-09-04T14:53:18.655Z"
   },
   {
    "duration": 16,
    "start_time": "2021-09-04T14:53:18.677Z"
   },
   {
    "duration": 16,
    "start_time": "2021-09-04T14:53:18.696Z"
   },
   {
    "duration": 48,
    "start_time": "2021-09-04T14:53:18.714Z"
   },
   {
    "duration": 18,
    "start_time": "2021-09-04T14:53:18.765Z"
   },
   {
    "duration": 15,
    "start_time": "2021-09-04T14:53:18.786Z"
   },
   {
    "duration": 19,
    "start_time": "2021-09-04T14:53:18.803Z"
   },
   {
    "duration": 35,
    "start_time": "2021-09-04T14:53:18.825Z"
   },
   {
    "duration": 507,
    "start_time": "2021-09-04T14:53:18.865Z"
   },
   {
    "duration": 459,
    "start_time": "2021-09-04T14:53:19.374Z"
   },
   {
    "duration": 356,
    "start_time": "2021-09-04T15:16:50.874Z"
   },
   {
    "duration": 405,
    "start_time": "2021-09-04T15:16:55.538Z"
   },
   {
    "duration": 1390,
    "start_time": "2021-09-04T15:31:23.548Z"
   },
   {
    "duration": 19,
    "start_time": "2021-09-04T15:31:24.941Z"
   },
   {
    "duration": 37,
    "start_time": "2021-09-04T15:31:24.963Z"
   },
   {
    "duration": 31,
    "start_time": "2021-09-04T15:31:25.003Z"
   },
   {
    "duration": 50,
    "start_time": "2021-09-04T15:31:25.037Z"
   },
   {
    "duration": 18,
    "start_time": "2021-09-04T15:31:25.090Z"
   },
   {
    "duration": 65,
    "start_time": "2021-09-04T15:31:25.110Z"
   },
   {
    "duration": 14,
    "start_time": "2021-09-04T15:31:25.179Z"
   },
   {
    "duration": 29,
    "start_time": "2021-09-04T15:31:25.196Z"
   },
   {
    "duration": 19,
    "start_time": "2021-09-04T15:31:25.228Z"
   },
   {
    "duration": 43,
    "start_time": "2021-09-04T15:31:25.250Z"
   },
   {
    "duration": 24,
    "start_time": "2021-09-04T15:31:25.295Z"
   },
   {
    "duration": 47,
    "start_time": "2021-09-04T15:31:25.321Z"
   },
   {
    "duration": 10,
    "start_time": "2021-09-04T15:31:25.370Z"
   },
   {
    "duration": 21,
    "start_time": "2021-09-04T15:31:25.383Z"
   },
   {
    "duration": 31,
    "start_time": "2021-09-04T15:31:25.407Z"
   },
   {
    "duration": 24,
    "start_time": "2021-09-04T15:31:25.440Z"
   },
   {
    "duration": 28,
    "start_time": "2021-09-04T15:31:25.467Z"
   },
   {
    "duration": 47,
    "start_time": "2021-09-04T15:31:25.498Z"
   },
   {
    "duration": 24,
    "start_time": "2021-09-04T15:31:25.548Z"
   },
   {
    "duration": 39,
    "start_time": "2021-09-04T15:31:25.575Z"
   },
   {
    "duration": 18,
    "start_time": "2021-09-04T15:31:25.617Z"
   },
   {
    "duration": 20,
    "start_time": "2021-09-04T15:31:25.653Z"
   },
   {
    "duration": 8,
    "start_time": "2021-09-04T15:31:25.677Z"
   },
   {
    "duration": 350,
    "start_time": "2021-09-04T15:31:25.688Z"
   },
   {
    "duration": 16,
    "start_time": "2021-09-04T15:31:26.040Z"
   },
   {
    "duration": 266,
    "start_time": "2021-09-04T15:31:26.058Z"
   },
   {
    "duration": 11,
    "start_time": "2021-09-04T15:31:26.326Z"
   },
   {
    "duration": 33,
    "start_time": "2021-09-04T15:31:26.339Z"
   },
   {
    "duration": 433,
    "start_time": "2021-09-04T15:31:26.375Z"
   },
   {
    "duration": 433,
    "start_time": "2021-09-04T15:31:26.811Z"
   },
   {
    "duration": 13,
    "start_time": "2021-09-04T15:31:27.247Z"
   },
   {
    "duration": 495,
    "start_time": "2021-09-04T15:31:27.262Z"
   },
   {
    "duration": 9,
    "start_time": "2021-09-04T15:31:27.759Z"
   },
   {
    "duration": 395,
    "start_time": "2021-09-04T15:31:27.770Z"
   },
   {
    "duration": 489,
    "start_time": "2021-09-04T15:31:28.168Z"
   },
   {
    "duration": 208,
    "start_time": "2021-09-04T15:31:28.659Z"
   },
   {
    "duration": 373,
    "start_time": "2021-09-04T15:31:28.870Z"
   },
   {
    "duration": 604,
    "start_time": "2021-09-04T15:31:29.246Z"
   },
   {
    "duration": 7,
    "start_time": "2021-09-04T15:31:29.855Z"
   },
   {
    "duration": 403,
    "start_time": "2021-09-04T15:31:29.865Z"
   },
   {
    "duration": 8,
    "start_time": "2021-09-04T15:31:30.271Z"
   },
   {
    "duration": 131,
    "start_time": "2021-09-04T15:31:30.281Z"
   },
   {
    "duration": 367,
    "start_time": "2021-09-04T15:31:30.415Z"
   },
   {
    "duration": 42,
    "start_time": "2021-09-04T15:31:30.784Z"
   },
   {
    "duration": 253,
    "start_time": "2021-09-04T15:31:30.828Z"
   },
   {
    "duration": 11,
    "start_time": "2021-09-04T15:31:31.084Z"
   },
   {
    "duration": 15,
    "start_time": "2021-09-04T15:31:31.098Z"
   },
   {
    "duration": 40,
    "start_time": "2021-09-04T15:31:31.116Z"
   },
   {
    "duration": 23,
    "start_time": "2021-09-04T15:31:31.160Z"
   },
   {
    "duration": 18,
    "start_time": "2021-09-04T15:31:31.187Z"
   },
   {
    "duration": 19,
    "start_time": "2021-09-04T15:31:31.208Z"
   },
   {
    "duration": 34,
    "start_time": "2021-09-04T15:31:31.231Z"
   },
   {
    "duration": 14,
    "start_time": "2021-09-04T15:31:31.268Z"
   },
   {
    "duration": 29,
    "start_time": "2021-09-04T15:31:31.284Z"
   },
   {
    "duration": 531,
    "start_time": "2021-09-04T15:31:31.316Z"
   },
   {
    "duration": 515,
    "start_time": "2021-09-04T15:31:31.853Z"
   }
  ],
  "kernelspec": {
   "display_name": "Python 3",
   "language": "python",
   "name": "python3"
  },
  "language_info": {
   "codemirror_mode": {
    "name": "ipython",
    "version": 3
   },
   "file_extension": ".py",
   "mimetype": "text/x-python",
   "name": "python",
   "nbconvert_exporter": "python",
   "pygments_lexer": "ipython3",
   "version": "3.7.10"
  },
  "toc": {
   "base_numbering": 1,
   "nav_menu": {},
   "number_sections": true,
   "sideBar": true,
   "skip_h1_title": true,
   "title_cell": "Table of Contents",
   "title_sidebar": "Contents",
   "toc_cell": false,
   "toc_position": {
    "height": "calc(100% - 180px)",
    "left": "10px",
    "top": "150px",
    "width": "188.05px"
   },
   "toc_section_display": true,
   "toc_window_display": false
  }
 },
 "nbformat": 4,
 "nbformat_minor": 2
}
